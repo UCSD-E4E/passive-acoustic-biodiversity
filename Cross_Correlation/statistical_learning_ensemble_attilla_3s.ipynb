{
 "cells": [
  {
   "cell_type": "code",
   "execution_count": 22,
   "id": "1b12fddf-27dc-4f90-8d07-19edbb71f965",
   "metadata": {},
   "outputs": [],
   "source": [
    "import pandas as pd\n",
    "import numpy as np\n",
    "from sklearn.svm import SVC\n",
    "from PyHa.annotation_post_processing import annotation_chunker\n",
    "from PyHa.template_matching.utils import generate_specgram, butter_bandpass, filter\n",
    "import librosa\n",
    "import os\n",
    "import matplotlib.pyplot as plt"
   ]
  },
  {
   "cell_type": "markdown",
   "id": "9408589e-91e8-4573-8c79-aa7f83ce6431",
   "metadata": {},
   "source": [
    "## Loading in the Human verified Data from AM 1 "
   ]
  },
  {
   "cell_type": "code",
   "execution_count": 23,
   "id": "ca4d2c54-3a6c-44af-b50f-1648e219fa60",
   "metadata": {},
   "outputs": [
    {
     "data": {
      "text/html": [
       "<div>\n",
       "<style scoped>\n",
       "    .dataframe tbody tr th:only-of-type {\n",
       "        vertical-align: middle;\n",
       "    }\n",
       "\n",
       "    .dataframe tbody tr th {\n",
       "        vertical-align: top;\n",
       "    }\n",
       "\n",
       "    .dataframe thead th {\n",
       "        text-align: right;\n",
       "    }\n",
       "</style>\n",
       "<table border=\"1\" class=\"dataframe\">\n",
       "  <thead>\n",
       "    <tr style=\"text-align: right;\">\n",
       "      <th></th>\n",
       "      <th>FOLDER</th>\n",
       "      <th>IN FILE</th>\n",
       "      <th>CHANNEL</th>\n",
       "      <th>CLIP LENGTH</th>\n",
       "      <th>SAMPLE RATE</th>\n",
       "      <th>OFFSET</th>\n",
       "      <th>MANUAL ID</th>\n",
       "      <th>DURATION</th>\n",
       "      <th>CONFIDENCE</th>\n",
       "    </tr>\n",
       "  </thead>\n",
       "  <tbody>\n",
       "    <tr>\n",
       "      <th>0</th>\n",
       "      <td>/media/thesis-generator/Audio UCSD/CARPETA-GRA...</td>\n",
       "      <td>20190616_183000.WAV</td>\n",
       "      <td>0</td>\n",
       "      <td>60.0</td>\n",
       "      <td>8000</td>\n",
       "      <td>58.148250</td>\n",
       "      <td>ATTILLA_0</td>\n",
       "      <td>1.851750</td>\n",
       "      <td>0.188168</td>\n",
       "    </tr>\n",
       "    <tr>\n",
       "      <th>1</th>\n",
       "      <td>/media/thesis-generator/Audio UCSD/CARPETA-GRA...</td>\n",
       "      <td>20190616_195000.WAV</td>\n",
       "      <td>0</td>\n",
       "      <td>60.0</td>\n",
       "      <td>8000</td>\n",
       "      <td>31.640125</td>\n",
       "      <td>ATTILLA_0</td>\n",
       "      <td>2.000000</td>\n",
       "      <td>0.182193</td>\n",
       "    </tr>\n",
       "    <tr>\n",
       "      <th>2</th>\n",
       "      <td>/media/thesis-generator/Audio UCSD/CARPETA-GRA...</td>\n",
       "      <td>20190616_202000.WAV</td>\n",
       "      <td>0</td>\n",
       "      <td>60.0</td>\n",
       "      <td>8000</td>\n",
       "      <td>25.444250</td>\n",
       "      <td>ATTILLA_0</td>\n",
       "      <td>4.235625</td>\n",
       "      <td>0.222829</td>\n",
       "    </tr>\n",
       "    <tr>\n",
       "      <th>3</th>\n",
       "      <td>/media/thesis-generator/Audio UCSD/CARPETA-GRA...</td>\n",
       "      <td>20190616_220000.WAV</td>\n",
       "      <td>0</td>\n",
       "      <td>60.0</td>\n",
       "      <td>8000</td>\n",
       "      <td>4.173875</td>\n",
       "      <td>ATTILLA_0</td>\n",
       "      <td>2.000000</td>\n",
       "      <td>0.180312</td>\n",
       "    </tr>\n",
       "    <tr>\n",
       "      <th>4</th>\n",
       "      <td>/media/thesis-generator/Audio UCSD/CARPETA-GRA...</td>\n",
       "      <td>20190616_173000.WAV</td>\n",
       "      <td>0</td>\n",
       "      <td>60.0</td>\n",
       "      <td>8000</td>\n",
       "      <td>32.662125</td>\n",
       "      <td>ATTILLA_0</td>\n",
       "      <td>3.533000</td>\n",
       "      <td>0.185319</td>\n",
       "    </tr>\n",
       "    <tr>\n",
       "      <th>...</th>\n",
       "      <td>...</td>\n",
       "      <td>...</td>\n",
       "      <td>...</td>\n",
       "      <td>...</td>\n",
       "      <td>...</td>\n",
       "      <td>...</td>\n",
       "      <td>...</td>\n",
       "      <td>...</td>\n",
       "      <td>...</td>\n",
       "    </tr>\n",
       "    <tr>\n",
       "      <th>1065</th>\n",
       "      <td>/media/thesis-generator/Audio UCSD/CARPETA-GRA...</td>\n",
       "      <td>20190705_172000.WAV</td>\n",
       "      <td>0</td>\n",
       "      <td>60.0</td>\n",
       "      <td>8000</td>\n",
       "      <td>58.276000</td>\n",
       "      <td>ATTILLA_0</td>\n",
       "      <td>1.724000</td>\n",
       "      <td>0.223701</td>\n",
       "    </tr>\n",
       "    <tr>\n",
       "      <th>1066</th>\n",
       "      <td>/media/thesis-generator/Audio UCSD/CARPETA-GRA...</td>\n",
       "      <td>20190708_181000.WAV</td>\n",
       "      <td>0</td>\n",
       "      <td>60.0</td>\n",
       "      <td>8000</td>\n",
       "      <td>3.790625</td>\n",
       "      <td>ATTILLA_0</td>\n",
       "      <td>2.191625</td>\n",
       "      <td>0.205309</td>\n",
       "    </tr>\n",
       "    <tr>\n",
       "      <th>1067</th>\n",
       "      <td>/media/thesis-generator/Audio UCSD/CARPETA-GRA...</td>\n",
       "      <td>20190708_181000.WAV</td>\n",
       "      <td>0</td>\n",
       "      <td>60.0</td>\n",
       "      <td>8000</td>\n",
       "      <td>6.473375</td>\n",
       "      <td>ATTILLA_0</td>\n",
       "      <td>2.000000</td>\n",
       "      <td>0.204205</td>\n",
       "    </tr>\n",
       "    <tr>\n",
       "      <th>1068</th>\n",
       "      <td>/media/thesis-generator/Audio UCSD/CARPETA-GRA...</td>\n",
       "      <td>20190708_181000.WAV</td>\n",
       "      <td>0</td>\n",
       "      <td>60.0</td>\n",
       "      <td>8000</td>\n",
       "      <td>23.975125</td>\n",
       "      <td>ATTILLA_0</td>\n",
       "      <td>2.000000</td>\n",
       "      <td>0.205538</td>\n",
       "    </tr>\n",
       "    <tr>\n",
       "      <th>1069</th>\n",
       "      <td>/media/thesis-generator/Audio UCSD/CARPETA-GRA...</td>\n",
       "      <td>20190710_185000.WAV</td>\n",
       "      <td>0</td>\n",
       "      <td>60.0</td>\n",
       "      <td>8000</td>\n",
       "      <td>50.227750</td>\n",
       "      <td>ATTILLA_0</td>\n",
       "      <td>2.000000</td>\n",
       "      <td>0.183773</td>\n",
       "    </tr>\n",
       "  </tbody>\n",
       "</table>\n",
       "<p>1070 rows × 9 columns</p>\n",
       "</div>"
      ],
      "text/plain": [
       "                                                 FOLDER              IN FILE  \\\n",
       "0     /media/thesis-generator/Audio UCSD/CARPETA-GRA...  20190616_183000.WAV   \n",
       "1     /media/thesis-generator/Audio UCSD/CARPETA-GRA...  20190616_195000.WAV   \n",
       "2     /media/thesis-generator/Audio UCSD/CARPETA-GRA...  20190616_202000.WAV   \n",
       "3     /media/thesis-generator/Audio UCSD/CARPETA-GRA...  20190616_220000.WAV   \n",
       "4     /media/thesis-generator/Audio UCSD/CARPETA-GRA...  20190616_173000.WAV   \n",
       "...                                                 ...                  ...   \n",
       "1065  /media/thesis-generator/Audio UCSD/CARPETA-GRA...  20190705_172000.WAV   \n",
       "1066  /media/thesis-generator/Audio UCSD/CARPETA-GRA...  20190708_181000.WAV   \n",
       "1067  /media/thesis-generator/Audio UCSD/CARPETA-GRA...  20190708_181000.WAV   \n",
       "1068  /media/thesis-generator/Audio UCSD/CARPETA-GRA...  20190708_181000.WAV   \n",
       "1069  /media/thesis-generator/Audio UCSD/CARPETA-GRA...  20190710_185000.WAV   \n",
       "\n",
       "      CHANNEL  CLIP LENGTH  SAMPLE RATE     OFFSET  MANUAL ID  DURATION  \\\n",
       "0           0         60.0         8000  58.148250  ATTILLA_0  1.851750   \n",
       "1           0         60.0         8000  31.640125  ATTILLA_0  2.000000   \n",
       "2           0         60.0         8000  25.444250  ATTILLA_0  4.235625   \n",
       "3           0         60.0         8000   4.173875  ATTILLA_0  2.000000   \n",
       "4           0         60.0         8000  32.662125  ATTILLA_0  3.533000   \n",
       "...       ...          ...          ...        ...        ...       ...   \n",
       "1065        0         60.0         8000  58.276000  ATTILLA_0  1.724000   \n",
       "1066        0         60.0         8000   3.790625  ATTILLA_0  2.191625   \n",
       "1067        0         60.0         8000   6.473375  ATTILLA_0  2.000000   \n",
       "1068        0         60.0         8000  23.975125  ATTILLA_0  2.000000   \n",
       "1069        0         60.0         8000  50.227750  ATTILLA_0  2.000000   \n",
       "\n",
       "      CONFIDENCE  \n",
       "0       0.188168  \n",
       "1       0.182193  \n",
       "2       0.222829  \n",
       "3       0.180312  \n",
       "4       0.185319  \n",
       "...          ...  \n",
       "1065    0.223701  \n",
       "1066    0.205309  \n",
       "1067    0.204205  \n",
       "1068    0.205538  \n",
       "1069    0.183773  \n",
       "\n",
       "[1070 rows x 9 columns]"
      ]
     },
     "execution_count": 23,
     "metadata": {},
     "output_type": "execute_result"
    }
   ],
   "source": [
    "labeled_df = pd.read_csv(\"sustech_csvs_labeled/GRABADOR-SDZG-AM-1_ATTILLA_single_w_confidences.csv\")\n",
    "labeled_df"
   ]
  },
  {
   "cell_type": "markdown",
   "id": "12776cd2-ee5c-4387-80af-c849afaf5596",
   "metadata": {},
   "source": [
    "## Normalizing to 3s annotations"
   ]
  },
  {
   "cell_type": "code",
   "execution_count": 24,
   "id": "0d8e5999-3636-433d-a7b4-51b22766f148",
   "metadata": {},
   "outputs": [],
   "source": [
    "#labeled_df = annotation_chunker(labeled_df, 3)"
   ]
  },
  {
   "cell_type": "code",
   "execution_count": 25,
   "id": "ee058c28-5ad1-45e7-ba9a-237dfeb2aca4",
   "metadata": {},
   "outputs": [],
   "source": [
    "#labeled_df.to_csv(\"attilla_am1_normalized.csv\", index=False)"
   ]
  },
  {
   "cell_type": "markdown",
   "id": "0c268edd-7b35-421a-be40-6be1cf1e4b00",
   "metadata": {},
   "source": [
    "## Acquiring Labels"
   ]
  },
  {
   "cell_type": "code",
   "execution_count": 26,
   "id": "99043ea5-71a2-4fb2-8a7a-94000751ea3a",
   "metadata": {},
   "outputs": [
    {
     "name": "stdout",
     "output_type": "stream",
     "text": [
      "(1070,)\n"
     ]
    }
   ],
   "source": [
    "id = \"ATTILLA\"\n",
    "y = np.zeros(len(labeled_df))\n",
    "for row in labeled_df.index:\n",
    "    if labeled_df[\"MANUAL ID\"][row] == id+\"_1\":\n",
    "        y[row] = 1\n",
    "print(y.shape)"
   ]
  },
  {
   "cell_type": "markdown",
   "id": "16786710-0350-4d6e-81dc-dd148e0eb1e9",
   "metadata": {},
   "source": [
    "## Acquiring Feature Vectors"
   ]
  },
  {
   "cell_type": "code",
   "execution_count": 29,
   "id": "1eefdb07-2cef-4c3d-b16a-712adeb5f833",
   "metadata": {},
   "outputs": [
    {
     "name": "stdout",
     "output_type": "stream",
     "text": [
      "(24000,)\n",
      "(128, 47)\n",
      "(6016,)\n"
     ]
    },
    {
     "data": {
      "image/png": "[encoded data removed]",
      "text/plain": [
       "<Figure size 640x480 with 1 Axes>"
      ]
     },
     "metadata": {},
     "output_type": "display_data"
    }
   ],
   "source": [
    "# generating the initial specgram to know the size\n",
    "sample_rate = labeled_df[\"SAMPLE RATE\"][1].item()\n",
    "init_clip, _ = librosa.load(os.path.join(labeled_df[\"FOLDER\"][1],labeled_df[\"IN FILE\"][1]), sr=sample_rate, offset=labeled_df[\"OFFSET\"][1], duration=3)\n",
    "print(init_clip.shape)\n",
    "#init_spec = generate_specgram(init_clip, sample_rate)\n",
    "init_spec = librosa.feature.melspectrogram(y=init_clip, sr=sample_rate)\n",
    "plt.imshow(init_spec)\n",
    "plt.axis('off')\n",
    "print(init_spec.shape)\n",
    "init_spec = init_spec.flatten()\n",
    "print(init_spec.shape)"
   ]
  },
  {
   "cell_type": "markdown",
   "id": "98aae8c3-d25b-428f-8e23-9b9aa0e0e15d",
   "metadata": {},
   "source": [
    "## Initializing the bandpass filter"
   ]
  },
  {
   "cell_type": "code",
   "execution_count": 7,
   "id": "0ec46ceb-22c8-46f7-8a6f-dc10d81e6305",
   "metadata": {},
   "outputs": [],
   "source": [
    "isolation_parameters = {\n",
    "    \"model\" : \"template_matching\",\n",
    "    # we will be modifying this for each path\n",
    "    \"template_path\" : \"\",\n",
    "    \"technique\" : \"steinberg\",\n",
    "    # ideally this is the length of the template in seconds\n",
    "    \"window_size\" : 2.0,\n",
    "    \"threshold_type\" : \"pure\",\n",
    "    \"threshold_const\" : 0.18,\n",
    "    \"cutoff_freq_low\" : 1000,\n",
    "    \"cutoff_freq_high\" : 3500,\n",
    "    \"verbose\" : True,\n",
    "    \"write_confidence\" : True\n",
    "}\n",
    "# creating the bandpass filter\n",
    "b, a = butter_bandpass(isolation_parameters['cutoff_freq_low'], \n",
    "                       isolation_parameters['cutoff_freq_high'], sample_rate, order=10)"
   ]
  },
  {
   "cell_type": "code",
   "execution_count": 8,
   "id": "c601812a-54f0-4ec1-8b92-b7755196c8a1",
   "metadata": {},
   "outputs": [
    {
     "name": "stdout",
     "output_type": "stream",
     "text": [
      "(2109, 6016)\n"
     ]
    }
   ],
   "source": [
    "x = np.zeros((len(labeled_df),init_spec.shape[0]))\n",
    "print(x.shape)\n",
    "for row in labeled_df.index:\n",
    "    cur_path = labeled_df[\"IN FILE\"][row]\n",
    "    cur_offset = labeled_df[\"OFFSET\"][row]\n",
    "    if cur_offset > 57:\n",
    "        continue\n",
    "    #cur_dur = labeled_df[\"DURATION\"][row]\n",
    "    cur_clip, _ = librosa.load(cur_path, sr=sample_rate, offset=cur_offset, duration=3)\n",
    "    cur_clip = filter(cur_clip, b, a)\n",
    "    cur_mel_spec = librosa.feature.melspectrogram(y=cur_clip, sr=sample_rate)\n",
    "    cur_mel_spec = cur_mel_spec.flatten()\n",
    "    x[row,:] = cur_mel_spec"
   ]
  },
  {
   "cell_type": "markdown",
   "id": "c5f4c87f-9c78-4f7d-8f0b-ff1d56edbd96",
   "metadata": {},
   "source": [
    "## Training a linear SVM Classifier"
   ]
  },
  {
   "cell_type": "code",
   "execution_count": 9,
   "id": "86eaee04-b34f-43a9-b924-116731304004",
   "metadata": {},
   "outputs": [
    {
     "name": "stderr",
     "output_type": "stream",
     "text": [
      "/home/thesis-generator/PyHa/.venv/lib/python3.10/site-packages/sklearn/svm/_classes.py:32: FutureWarning: The default value of `dual` will change from `True` to `'auto'` in 1.5. Set the value of `dual` explicitly to suppress the warning.\n",
      "  warnings.warn(\n"
     ]
    },
    {
     "data": {
      "text/html": [
       "<style>#sk-container-id-1 {color: black;}#sk-container-id-1 pre{padding: 0;}#sk-container-id-1 div.sk-toggleable {background-color: white;}#sk-container-id-1 label.sk-toggleable__label {cursor: pointer;display: block;width: 100%;margin-bottom: 0;padding: 0.3em;box-sizing: border-box;text-align: center;}#sk-container-id-1 label.sk-toggleable__label-arrow:before {content: \"▸\";float: left;margin-right: 0.25em;color: #696969;}#sk-container-id-1 label.sk-toggleable__label-arrow:hover:before {color: black;}#sk-container-id-1 div.sk-estimator:hover label.sk-toggleable__label-arrow:before {color: black;}#sk-container-id-1 div.sk-toggleable__content {max-height: 0;max-width: 0;overflow: hidden;text-align: left;background-color: #f0f8ff;}#sk-container-id-1 div.sk-toggleable__content pre {margin: 0.2em;color: black;border-radius: 0.25em;background-color: #f0f8ff;}#sk-container-id-1 input.sk-toggleable__control:checked~div.sk-toggleable__content {max-height: 200px;max-width: 100%;overflow: auto;}#sk-container-id-1 input.sk-toggleable__control:checked~label.sk-toggleable__label-arrow:before {content: \"▾\";}#sk-container-id-1 div.sk-estimator input.sk-toggleable__control:checked~label.sk-toggleable__label {background-color: #d4ebff;}#sk-container-id-1 div.sk-label input.sk-toggleable__control:checked~label.sk-toggleable__label {background-color: #d4ebff;}#sk-container-id-1 input.sk-hidden--visually {border: 0;clip: rect(1px 1px 1px 1px);clip: rect(1px, 1px, 1px, 1px);height: 1px;margin: -1px;overflow: hidden;padding: 0;position: absolute;width: 1px;}#sk-container-id-1 div.sk-estimator {font-family: monospace;background-color: #f0f8ff;border: 1px dotted black;border-radius: 0.25em;box-sizing: border-box;margin-bottom: 0.5em;}#sk-container-id-1 div.sk-estimator:hover {background-color: #d4ebff;}#sk-container-id-1 div.sk-parallel-item::after {content: \"\";width: 100%;border-bottom: 1px solid gray;flex-grow: 1;}#sk-container-id-1 div.sk-label:hover label.sk-toggleable__label {background-color: #d4ebff;}#sk-container-id-1 div.sk-serial::before {content: \"\";position: absolute;border-left: 1px solid gray;box-sizing: border-box;top: 0;bottom: 0;left: 50%;z-index: 0;}#sk-container-id-1 div.sk-serial {display: flex;flex-direction: column;align-items: center;background-color: white;padding-right: 0.2em;padding-left: 0.2em;position: relative;}#sk-container-id-1 div.sk-item {position: relative;z-index: 1;}#sk-container-id-1 div.sk-parallel {display: flex;align-items: stretch;justify-content: center;background-color: white;position: relative;}#sk-container-id-1 div.sk-item::before, #sk-container-id-1 div.sk-parallel-item::before {content: \"\";position: absolute;border-left: 1px solid gray;box-sizing: border-box;top: 0;bottom: 0;left: 50%;z-index: -1;}#sk-container-id-1 div.sk-parallel-item {display: flex;flex-direction: column;z-index: 1;position: relative;background-color: white;}#sk-container-id-1 div.sk-parallel-item:first-child::after {align-self: flex-end;width: 50%;}#sk-container-id-1 div.sk-parallel-item:last-child::after {align-self: flex-start;width: 50%;}#sk-container-id-1 div.sk-parallel-item:only-child::after {width: 0;}#sk-container-id-1 div.sk-dashed-wrapped {border: 1px dashed gray;margin: 0 0.4em 0.5em 0.4em;box-sizing: border-box;padding-bottom: 0.4em;background-color: white;}#sk-container-id-1 div.sk-label label {font-family: monospace;font-weight: bold;display: inline-block;line-height: 1.2em;}#sk-container-id-1 div.sk-label-container {text-align: center;}#sk-container-id-1 div.sk-container {/* jupyter's `normalize.less` sets `[hidden] { display: none; }` but bootstrap.min.css set `[hidden] { display: none !important; }` so we also need the `!important` here to be able to override the default hidden behavior on the sphinx rendered scikit-learn.org. See: https://github.com/scikit-learn/scikit-learn/issues/21755 */display: inline-block !important;position: relative;}#sk-container-id-1 div.sk-text-repr-fallback {display: none;}</style><div id=\"sk-container-id-1\" class=\"sk-top-container\"><div class=\"sk-text-repr-fallback\"><pre>LinearSVC()</pre><b>In a Jupyter environment, please rerun this cell to show the HTML representation or trust the notebook. <br />On GitHub, the HTML representation is unable to render, please try loading this page with nbviewer.org.</b></div><div class=\"sk-container\" hidden><div class=\"sk-item\"><div class=\"sk-estimator sk-toggleable\"><input class=\"sk-toggleable__control sk-hidden--visually\" id=\"sk-estimator-id-1\" type=\"checkbox\" checked><label for=\"sk-estimator-id-1\" class=\"sk-toggleable__label sk-toggleable__label-arrow\">LinearSVC</label><div class=\"sk-toggleable__content\"><pre>LinearSVC()</pre></div></div></div></div></div>"
      ],
      "text/plain": [
       "LinearSVC()"
      ]
     },
     "execution_count": 9,
     "metadata": {},
     "output_type": "execute_result"
    }
   ],
   "source": [
    "from sklearn.svm import LinearSVC\n",
    "lin_svm = LinearSVC()\n",
    "lin_svm.fit(x, y)"
   ]
  },
  {
   "cell_type": "markdown",
   "id": "ad18c09b-ff41-4e3d-9128-b8a012388768",
   "metadata": {},
   "source": [
    "## Training a Radial SVM Classifier"
   ]
  },
  {
   "cell_type": "code",
   "execution_count": 10,
   "id": "b153e11f-e590-4f99-a988-1c134145fc87",
   "metadata": {},
   "outputs": [
    {
     "data": {
      "text/html": [
       "<style>#sk-container-id-2 {color: black;}#sk-container-id-2 pre{padding: 0;}#sk-container-id-2 div.sk-toggleable {background-color: white;}#sk-container-id-2 label.sk-toggleable__label {cursor: pointer;display: block;width: 100%;margin-bottom: 0;padding: 0.3em;box-sizing: border-box;text-align: center;}#sk-container-id-2 label.sk-toggleable__label-arrow:before {content: \"▸\";float: left;margin-right: 0.25em;color: #696969;}#sk-container-id-2 label.sk-toggleable__label-arrow:hover:before {color: black;}#sk-container-id-2 div.sk-estimator:hover label.sk-toggleable__label-arrow:before {color: black;}#sk-container-id-2 div.sk-toggleable__content {max-height: 0;max-width: 0;overflow: hidden;text-align: left;background-color: #f0f8ff;}#sk-container-id-2 div.sk-toggleable__content pre {margin: 0.2em;color: black;border-radius: 0.25em;background-color: #f0f8ff;}#sk-container-id-2 input.sk-toggleable__control:checked~div.sk-toggleable__content {max-height: 200px;max-width: 100%;overflow: auto;}#sk-container-id-2 input.sk-toggleable__control:checked~label.sk-toggleable__label-arrow:before {content: \"▾\";}#sk-container-id-2 div.sk-estimator input.sk-toggleable__control:checked~label.sk-toggleable__label {background-color: #d4ebff;}#sk-container-id-2 div.sk-label input.sk-toggleable__control:checked~label.sk-toggleable__label {background-color: #d4ebff;}#sk-container-id-2 input.sk-hidden--visually {border: 0;clip: rect(1px 1px 1px 1px);clip: rect(1px, 1px, 1px, 1px);height: 1px;margin: -1px;overflow: hidden;padding: 0;position: absolute;width: 1px;}#sk-container-id-2 div.sk-estimator {font-family: monospace;background-color: #f0f8ff;border: 1px dotted black;border-radius: 0.25em;box-sizing: border-box;margin-bottom: 0.5em;}#sk-container-id-2 div.sk-estimator:hover {background-color: #d4ebff;}#sk-container-id-2 div.sk-parallel-item::after {content: \"\";width: 100%;border-bottom: 1px solid gray;flex-grow: 1;}#sk-container-id-2 div.sk-label:hover label.sk-toggleable__label {background-color: #d4ebff;}#sk-container-id-2 div.sk-serial::before {content: \"\";position: absolute;border-left: 1px solid gray;box-sizing: border-box;top: 0;bottom: 0;left: 50%;z-index: 0;}#sk-container-id-2 div.sk-serial {display: flex;flex-direction: column;align-items: center;background-color: white;padding-right: 0.2em;padding-left: 0.2em;position: relative;}#sk-container-id-2 div.sk-item {position: relative;z-index: 1;}#sk-container-id-2 div.sk-parallel {display: flex;align-items: stretch;justify-content: center;background-color: white;position: relative;}#sk-container-id-2 div.sk-item::before, #sk-container-id-2 div.sk-parallel-item::before {content: \"\";position: absolute;border-left: 1px solid gray;box-sizing: border-box;top: 0;bottom: 0;left: 50%;z-index: -1;}#sk-container-id-2 div.sk-parallel-item {display: flex;flex-direction: column;z-index: 1;position: relative;background-color: white;}#sk-container-id-2 div.sk-parallel-item:first-child::after {align-self: flex-end;width: 50%;}#sk-container-id-2 div.sk-parallel-item:last-child::after {align-self: flex-start;width: 50%;}#sk-container-id-2 div.sk-parallel-item:only-child::after {width: 0;}#sk-container-id-2 div.sk-dashed-wrapped {border: 1px dashed gray;margin: 0 0.4em 0.5em 0.4em;box-sizing: border-box;padding-bottom: 0.4em;background-color: white;}#sk-container-id-2 div.sk-label label {font-family: monospace;font-weight: bold;display: inline-block;line-height: 1.2em;}#sk-container-id-2 div.sk-label-container {text-align: center;}#sk-container-id-2 div.sk-container {/* jupyter's `normalize.less` sets `[hidden] { display: none; }` but bootstrap.min.css set `[hidden] { display: none !important; }` so we also need the `!important` here to be able to override the default hidden behavior on the sphinx rendered scikit-learn.org. See: https://github.com/scikit-learn/scikit-learn/issues/21755 */display: inline-block !important;position: relative;}#sk-container-id-2 div.sk-text-repr-fallback {display: none;}</style><div id=\"sk-container-id-2\" class=\"sk-top-container\"><div class=\"sk-text-repr-fallback\"><pre>SVC()</pre><b>In a Jupyter environment, please rerun this cell to show the HTML representation or trust the notebook. <br />On GitHub, the HTML representation is unable to render, please try loading this page with nbviewer.org.</b></div><div class=\"sk-container\" hidden><div class=\"sk-item\"><div class=\"sk-estimator sk-toggleable\"><input class=\"sk-toggleable__control sk-hidden--visually\" id=\"sk-estimator-id-2\" type=\"checkbox\" checked><label for=\"sk-estimator-id-2\" class=\"sk-toggleable__label sk-toggleable__label-arrow\">SVC</label><div class=\"sk-toggleable__content\"><pre>SVC()</pre></div></div></div></div></div>"
      ],
      "text/plain": [
       "SVC()"
      ]
     },
     "execution_count": 10,
     "metadata": {},
     "output_type": "execute_result"
    }
   ],
   "source": [
    "from sklearn import svm\n",
    "rbf_svc = svm.SVC(kernel='rbf')\n",
    "rbf_svc.fit(x,y)"
   ]
  },
  {
   "cell_type": "markdown",
   "id": "9d66b5d9-ac02-4f68-8967-ad6f32d14e20",
   "metadata": {},
   "source": [
    "## Training a Kernelized k-Nearest-Neighbor Classifier"
   ]
  },
  {
   "cell_type": "code",
   "execution_count": 11,
   "id": "34d033e6-88a0-42a0-88eb-8035c355a6da",
   "metadata": {},
   "outputs": [
    {
     "data": {
      "text/html": [
       "<style>#sk-container-id-3 {color: black;}#sk-container-id-3 pre{padding: 0;}#sk-container-id-3 div.sk-toggleable {background-color: white;}#sk-container-id-3 label.sk-toggleable__label {cursor: pointer;display: block;width: 100%;margin-bottom: 0;padding: 0.3em;box-sizing: border-box;text-align: center;}#sk-container-id-3 label.sk-toggleable__label-arrow:before {content: \"▸\";float: left;margin-right: 0.25em;color: #696969;}#sk-container-id-3 label.sk-toggleable__label-arrow:hover:before {color: black;}#sk-container-id-3 div.sk-estimator:hover label.sk-toggleable__label-arrow:before {color: black;}#sk-container-id-3 div.sk-toggleable__content {max-height: 0;max-width: 0;overflow: hidden;text-align: left;background-color: #f0f8ff;}#sk-container-id-3 div.sk-toggleable__content pre {margin: 0.2em;color: black;border-radius: 0.25em;background-color: #f0f8ff;}#sk-container-id-3 input.sk-toggleable__control:checked~div.sk-toggleable__content {max-height: 200px;max-width: 100%;overflow: auto;}#sk-container-id-3 input.sk-toggleable__control:checked~label.sk-toggleable__label-arrow:before {content: \"▾\";}#sk-container-id-3 div.sk-estimator input.sk-toggleable__control:checked~label.sk-toggleable__label {background-color: #d4ebff;}#sk-container-id-3 div.sk-label input.sk-toggleable__control:checked~label.sk-toggleable__label {background-color: #d4ebff;}#sk-container-id-3 input.sk-hidden--visually {border: 0;clip: rect(1px 1px 1px 1px);clip: rect(1px, 1px, 1px, 1px);height: 1px;margin: -1px;overflow: hidden;padding: 0;position: absolute;width: 1px;}#sk-container-id-3 div.sk-estimator {font-family: monospace;background-color: #f0f8ff;border: 1px dotted black;border-radius: 0.25em;box-sizing: border-box;margin-bottom: 0.5em;}#sk-container-id-3 div.sk-estimator:hover {background-color: #d4ebff;}#sk-container-id-3 div.sk-parallel-item::after {content: \"\";width: 100%;border-bottom: 1px solid gray;flex-grow: 1;}#sk-container-id-3 div.sk-label:hover label.sk-toggleable__label {background-color: #d4ebff;}#sk-container-id-3 div.sk-serial::before {content: \"\";position: absolute;border-left: 1px solid gray;box-sizing: border-box;top: 0;bottom: 0;left: 50%;z-index: 0;}#sk-container-id-3 div.sk-serial {display: flex;flex-direction: column;align-items: center;background-color: white;padding-right: 0.2em;padding-left: 0.2em;position: relative;}#sk-container-id-3 div.sk-item {position: relative;z-index: 1;}#sk-container-id-3 div.sk-parallel {display: flex;align-items: stretch;justify-content: center;background-color: white;position: relative;}#sk-container-id-3 div.sk-item::before, #sk-container-id-3 div.sk-parallel-item::before {content: \"\";position: absolute;border-left: 1px solid gray;box-sizing: border-box;top: 0;bottom: 0;left: 50%;z-index: -1;}#sk-container-id-3 div.sk-parallel-item {display: flex;flex-direction: column;z-index: 1;position: relative;background-color: white;}#sk-container-id-3 div.sk-parallel-item:first-child::after {align-self: flex-end;width: 50%;}#sk-container-id-3 div.sk-parallel-item:last-child::after {align-self: flex-start;width: 50%;}#sk-container-id-3 div.sk-parallel-item:only-child::after {width: 0;}#sk-container-id-3 div.sk-dashed-wrapped {border: 1px dashed gray;margin: 0 0.4em 0.5em 0.4em;box-sizing: border-box;padding-bottom: 0.4em;background-color: white;}#sk-container-id-3 div.sk-label label {font-family: monospace;font-weight: bold;display: inline-block;line-height: 1.2em;}#sk-container-id-3 div.sk-label-container {text-align: center;}#sk-container-id-3 div.sk-container {/* jupyter's `normalize.less` sets `[hidden] { display: none; }` but bootstrap.min.css set `[hidden] { display: none !important; }` so we also need the `!important` here to be able to override the default hidden behavior on the sphinx rendered scikit-learn.org. See: https://github.com/scikit-learn/scikit-learn/issues/21755 */display: inline-block !important;position: relative;}#sk-container-id-3 div.sk-text-repr-fallback {display: none;}</style><div id=\"sk-container-id-3\" class=\"sk-top-container\"><div class=\"sk-text-repr-fallback\"><pre>KNeighborsRegressor(weights=&#x27;distance&#x27;)</pre><b>In a Jupyter environment, please rerun this cell to show the HTML representation or trust the notebook. <br />On GitHub, the HTML representation is unable to render, please try loading this page with nbviewer.org.</b></div><div class=\"sk-container\" hidden><div class=\"sk-item\"><div class=\"sk-estimator sk-toggleable\"><input class=\"sk-toggleable__control sk-hidden--visually\" id=\"sk-estimator-id-3\" type=\"checkbox\" checked><label for=\"sk-estimator-id-3\" class=\"sk-toggleable__label sk-toggleable__label-arrow\">KNeighborsRegressor</label><div class=\"sk-toggleable__content\"><pre>KNeighborsRegressor(weights=&#x27;distance&#x27;)</pre></div></div></div></div></div>"
      ],
      "text/plain": [
       "KNeighborsRegressor(weights='distance')"
      ]
     },
     "execution_count": 11,
     "metadata": {},
     "output_type": "execute_result"
    }
   ],
   "source": [
    "from sklearn.neighbors import KNeighborsRegressor\n",
    "knn = KNeighborsRegressor(weights='distance')\n",
    "knn.fit(x,y)"
   ]
  },
  {
   "cell_type": "markdown",
   "id": "d05b5caa-1bb0-495b-b332-95888df2df92",
   "metadata": {},
   "source": [
    "# Training a Random Forest Classifier"
   ]
  },
  {
   "cell_type": "code",
   "execution_count": 12,
   "id": "3a52172d-5b87-4d0a-b1e9-ba2a2c10055a",
   "metadata": {},
   "outputs": [
    {
     "data": {
      "text/html": [
       "<style>#sk-container-id-4 {color: black;}#sk-container-id-4 pre{padding: 0;}#sk-container-id-4 div.sk-toggleable {background-color: white;}#sk-container-id-4 label.sk-toggleable__label {cursor: pointer;display: block;width: 100%;margin-bottom: 0;padding: 0.3em;box-sizing: border-box;text-align: center;}#sk-container-id-4 label.sk-toggleable__label-arrow:before {content: \"▸\";float: left;margin-right: 0.25em;color: #696969;}#sk-container-id-4 label.sk-toggleable__label-arrow:hover:before {color: black;}#sk-container-id-4 div.sk-estimator:hover label.sk-toggleable__label-arrow:before {color: black;}#sk-container-id-4 div.sk-toggleable__content {max-height: 0;max-width: 0;overflow: hidden;text-align: left;background-color: #f0f8ff;}#sk-container-id-4 div.sk-toggleable__content pre {margin: 0.2em;color: black;border-radius: 0.25em;background-color: #f0f8ff;}#sk-container-id-4 input.sk-toggleable__control:checked~div.sk-toggleable__content {max-height: 200px;max-width: 100%;overflow: auto;}#sk-container-id-4 input.sk-toggleable__control:checked~label.sk-toggleable__label-arrow:before {content: \"▾\";}#sk-container-id-4 div.sk-estimator input.sk-toggleable__control:checked~label.sk-toggleable__label {background-color: #d4ebff;}#sk-container-id-4 div.sk-label input.sk-toggleable__control:checked~label.sk-toggleable__label {background-color: #d4ebff;}#sk-container-id-4 input.sk-hidden--visually {border: 0;clip: rect(1px 1px 1px 1px);clip: rect(1px, 1px, 1px, 1px);height: 1px;margin: -1px;overflow: hidden;padding: 0;position: absolute;width: 1px;}#sk-container-id-4 div.sk-estimator {font-family: monospace;background-color: #f0f8ff;border: 1px dotted black;border-radius: 0.25em;box-sizing: border-box;margin-bottom: 0.5em;}#sk-container-id-4 div.sk-estimator:hover {background-color: #d4ebff;}#sk-container-id-4 div.sk-parallel-item::after {content: \"\";width: 100%;border-bottom: 1px solid gray;flex-grow: 1;}#sk-container-id-4 div.sk-label:hover label.sk-toggleable__label {background-color: #d4ebff;}#sk-container-id-4 div.sk-serial::before {content: \"\";position: absolute;border-left: 1px solid gray;box-sizing: border-box;top: 0;bottom: 0;left: 50%;z-index: 0;}#sk-container-id-4 div.sk-serial {display: flex;flex-direction: column;align-items: center;background-color: white;padding-right: 0.2em;padding-left: 0.2em;position: relative;}#sk-container-id-4 div.sk-item {position: relative;z-index: 1;}#sk-container-id-4 div.sk-parallel {display: flex;align-items: stretch;justify-content: center;background-color: white;position: relative;}#sk-container-id-4 div.sk-item::before, #sk-container-id-4 div.sk-parallel-item::before {content: \"\";position: absolute;border-left: 1px solid gray;box-sizing: border-box;top: 0;bottom: 0;left: 50%;z-index: -1;}#sk-container-id-4 div.sk-parallel-item {display: flex;flex-direction: column;z-index: 1;position: relative;background-color: white;}#sk-container-id-4 div.sk-parallel-item:first-child::after {align-self: flex-end;width: 50%;}#sk-container-id-4 div.sk-parallel-item:last-child::after {align-self: flex-start;width: 50%;}#sk-container-id-4 div.sk-parallel-item:only-child::after {width: 0;}#sk-container-id-4 div.sk-dashed-wrapped {border: 1px dashed gray;margin: 0 0.4em 0.5em 0.4em;box-sizing: border-box;padding-bottom: 0.4em;background-color: white;}#sk-container-id-4 div.sk-label label {font-family: monospace;font-weight: bold;display: inline-block;line-height: 1.2em;}#sk-container-id-4 div.sk-label-container {text-align: center;}#sk-container-id-4 div.sk-container {/* jupyter's `normalize.less` sets `[hidden] { display: none; }` but bootstrap.min.css set `[hidden] { display: none !important; }` so we also need the `!important` here to be able to override the default hidden behavior on the sphinx rendered scikit-learn.org. See: https://github.com/scikit-learn/scikit-learn/issues/21755 */display: inline-block !important;position: relative;}#sk-container-id-4 div.sk-text-repr-fallback {display: none;}</style><div id=\"sk-container-id-4\" class=\"sk-top-container\"><div class=\"sk-text-repr-fallback\"><pre>RandomForestClassifier()</pre><b>In a Jupyter environment, please rerun this cell to show the HTML representation or trust the notebook. <br />On GitHub, the HTML representation is unable to render, please try loading this page with nbviewer.org.</b></div><div class=\"sk-container\" hidden><div class=\"sk-item\"><div class=\"sk-estimator sk-toggleable\"><input class=\"sk-toggleable__control sk-hidden--visually\" id=\"sk-estimator-id-4\" type=\"checkbox\" checked><label for=\"sk-estimator-id-4\" class=\"sk-toggleable__label sk-toggleable__label-arrow\">RandomForestClassifier</label><div class=\"sk-toggleable__content\"><pre>RandomForestClassifier()</pre></div></div></div></div></div>"
      ],
      "text/plain": [
       "RandomForestClassifier()"
      ]
     },
     "execution_count": 12,
     "metadata": {},
     "output_type": "execute_result"
    }
   ],
   "source": [
    "from sklearn.ensemble import RandomForestClassifier\n",
    "rf = RandomForestClassifier()\n",
    "rf.fit(x,y)"
   ]
  },
  {
   "cell_type": "markdown",
   "id": "afe818df-7707-40ca-909a-e01393386b11",
   "metadata": {},
   "source": [
    "## Training a Regularized Logistic Regression Classifier"
   ]
  },
  {
   "cell_type": "code",
   "execution_count": 13,
   "id": "79bde636-3222-423f-97d7-03f05519c766",
   "metadata": {},
   "outputs": [
    {
     "data": {
      "text/html": [
       "<style>#sk-container-id-5 {color: black;}#sk-container-id-5 pre{padding: 0;}#sk-container-id-5 div.sk-toggleable {background-color: white;}#sk-container-id-5 label.sk-toggleable__label {cursor: pointer;display: block;width: 100%;margin-bottom: 0;padding: 0.3em;box-sizing: border-box;text-align: center;}#sk-container-id-5 label.sk-toggleable__label-arrow:before {content: \"▸\";float: left;margin-right: 0.25em;color: #696969;}#sk-container-id-5 label.sk-toggleable__label-arrow:hover:before {color: black;}#sk-container-id-5 div.sk-estimator:hover label.sk-toggleable__label-arrow:before {color: black;}#sk-container-id-5 div.sk-toggleable__content {max-height: 0;max-width: 0;overflow: hidden;text-align: left;background-color: #f0f8ff;}#sk-container-id-5 div.sk-toggleable__content pre {margin: 0.2em;color: black;border-radius: 0.25em;background-color: #f0f8ff;}#sk-container-id-5 input.sk-toggleable__control:checked~div.sk-toggleable__content {max-height: 200px;max-width: 100%;overflow: auto;}#sk-container-id-5 input.sk-toggleable__control:checked~label.sk-toggleable__label-arrow:before {content: \"▾\";}#sk-container-id-5 div.sk-estimator input.sk-toggleable__control:checked~label.sk-toggleable__label {background-color: #d4ebff;}#sk-container-id-5 div.sk-label input.sk-toggleable__control:checked~label.sk-toggleable__label {background-color: #d4ebff;}#sk-container-id-5 input.sk-hidden--visually {border: 0;clip: rect(1px 1px 1px 1px);clip: rect(1px, 1px, 1px, 1px);height: 1px;margin: -1px;overflow: hidden;padding: 0;position: absolute;width: 1px;}#sk-container-id-5 div.sk-estimator {font-family: monospace;background-color: #f0f8ff;border: 1px dotted black;border-radius: 0.25em;box-sizing: border-box;margin-bottom: 0.5em;}#sk-container-id-5 div.sk-estimator:hover {background-color: #d4ebff;}#sk-container-id-5 div.sk-parallel-item::after {content: \"\";width: 100%;border-bottom: 1px solid gray;flex-grow: 1;}#sk-container-id-5 div.sk-label:hover label.sk-toggleable__label {background-color: #d4ebff;}#sk-container-id-5 div.sk-serial::before {content: \"\";position: absolute;border-left: 1px solid gray;box-sizing: border-box;top: 0;bottom: 0;left: 50%;z-index: 0;}#sk-container-id-5 div.sk-serial {display: flex;flex-direction: column;align-items: center;background-color: white;padding-right: 0.2em;padding-left: 0.2em;position: relative;}#sk-container-id-5 div.sk-item {position: relative;z-index: 1;}#sk-container-id-5 div.sk-parallel {display: flex;align-items: stretch;justify-content: center;background-color: white;position: relative;}#sk-container-id-5 div.sk-item::before, #sk-container-id-5 div.sk-parallel-item::before {content: \"\";position: absolute;border-left: 1px solid gray;box-sizing: border-box;top: 0;bottom: 0;left: 50%;z-index: -1;}#sk-container-id-5 div.sk-parallel-item {display: flex;flex-direction: column;z-index: 1;position: relative;background-color: white;}#sk-container-id-5 div.sk-parallel-item:first-child::after {align-self: flex-end;width: 50%;}#sk-container-id-5 div.sk-parallel-item:last-child::after {align-self: flex-start;width: 50%;}#sk-container-id-5 div.sk-parallel-item:only-child::after {width: 0;}#sk-container-id-5 div.sk-dashed-wrapped {border: 1px dashed gray;margin: 0 0.4em 0.5em 0.4em;box-sizing: border-box;padding-bottom: 0.4em;background-color: white;}#sk-container-id-5 div.sk-label label {font-family: monospace;font-weight: bold;display: inline-block;line-height: 1.2em;}#sk-container-id-5 div.sk-label-container {text-align: center;}#sk-container-id-5 div.sk-container {/* jupyter's `normalize.less` sets `[hidden] { display: none; }` but bootstrap.min.css set `[hidden] { display: none !important; }` so we also need the `!important` here to be able to override the default hidden behavior on the sphinx rendered scikit-learn.org. See: https://github.com/scikit-learn/scikit-learn/issues/21755 */display: inline-block !important;position: relative;}#sk-container-id-5 div.sk-text-repr-fallback {display: none;}</style><div id=\"sk-container-id-5\" class=\"sk-top-container\"><div class=\"sk-text-repr-fallback\"><pre>LogisticRegression()</pre><b>In a Jupyter environment, please rerun this cell to show the HTML representation or trust the notebook. <br />On GitHub, the HTML representation is unable to render, please try loading this page with nbviewer.org.</b></div><div class=\"sk-container\" hidden><div class=\"sk-item\"><div class=\"sk-estimator sk-toggleable\"><input class=\"sk-toggleable__control sk-hidden--visually\" id=\"sk-estimator-id-5\" type=\"checkbox\" checked><label for=\"sk-estimator-id-5\" class=\"sk-toggleable__label sk-toggleable__label-arrow\">LogisticRegression</label><div class=\"sk-toggleable__content\"><pre>LogisticRegression()</pre></div></div></div></div></div>"
      ],
      "text/plain": [
       "LogisticRegression()"
      ]
     },
     "execution_count": 13,
     "metadata": {},
     "output_type": "execute_result"
    }
   ],
   "source": [
    "from sklearn.linear_model import LogisticRegression\n",
    "log_reg = LogisticRegression()\n",
    "log_reg.fit(x,y)"
   ]
  },
  {
   "cell_type": "markdown",
   "id": "3fe7cf2f-51d8-437f-b6dc-60c9d05af259",
   "metadata": {},
   "source": [
    "## Quick sanity check by predicting on the training data\n",
    "### Not reported in paper"
   ]
  },
  {
   "cell_type": "code",
   "execution_count": 14,
   "id": "eb8c4005-7737-4fe4-9fcd-b43240ebabf3",
   "metadata": {},
   "outputs": [],
   "source": [
    "y_lin_svm = lin_svm.predict(x)\n",
    "y_rbf_svc = rbf_svc.predict(x)\n",
    "y_knn = knn.predict(x)\n",
    "y_rf = rf.predict(x)\n",
    "y_log_reg = log_reg.predict(x)"
   ]
  },
  {
   "cell_type": "code",
   "execution_count": 15,
   "id": "1e7c1436-9b60-494a-93ca-3632b0fe7bb6",
   "metadata": {},
   "outputs": [
    {
     "name": "stdout",
     "output_type": "stream",
     "text": [
      "Linear SVM Sanity Acc:  0.8383\n",
      "Radial SVM Sanity Acc:  0.6899\n",
      "Kernelized k-Nearest-Neighbor Sanity Acc:  0.8549\n",
      "Random Forest Sanity Acc:  0.9995\n",
      "Logistic Regression Sanity Acc:  0.7568\n"
     ]
    }
   ],
   "source": [
    "acc_lin_svm = np.sum(y_lin_svm == y)/y.shape[0]\n",
    "acc_rbf_svc = np.sum(y_rbf_svc == y)/y.shape[0]\n",
    "acc_knn = np.sum(y_knn == y)/y.shape[0]\n",
    "acc_rf = np.sum(y_rf == y)/y.shape[0]\n",
    "acc_log_reg = np.sum(y_log_reg == y)/y.shape[0]\n",
    "print(\"Linear SVM Sanity Acc: \", round(acc_lin_svm,4))\n",
    "print(\"Radial SVM Sanity Acc: \", round(acc_rbf_svc,4))\n",
    "print(\"Kernelized k-Nearest-Neighbor Sanity Acc: \", round(acc_knn,4))\n",
    "print(\"Random Forest Sanity Acc: \", round(acc_rf,4))\n",
    "print(\"Logistic Regression Sanity Acc: \", round(acc_log_reg,4))"
   ]
  },
  {
   "cell_type": "markdown",
   "id": "de3b8f18-5d48-4dea-920d-5c5b1c6f7977",
   "metadata": {},
   "source": [
    "## Loading in the test data from AM 3, has been processed the same way AM 1 was processed, however, it is unlabeled"
   ]
  },
  {
   "cell_type": "code",
   "execution_count": 16,
   "id": "cfc7f64f-b141-48e2-a114-cf5e087ddd66",
   "metadata": {},
   "outputs": [],
   "source": [
    "unlabeled_df = pd.read_csv(\"sustech_csvs/GRABADOR-SDZG-AM-3_ATTILLA_single_w_confidences.csv\")\n",
    "unlabeled_df = annotation_chunker(unlabeled_df, 3)"
   ]
  },
  {
   "cell_type": "markdown",
   "id": "6b9849ee-ad83-4a22-a704-1b905b119e4c",
   "metadata": {},
   "source": [
    "## Computing the Feature Vectors of the Unlabeled Data"
   ]
  },
  {
   "cell_type": "code",
   "execution_count": 17,
   "id": "a59deaeb-5142-49f2-a68d-fffd91c01fab",
   "metadata": {},
   "outputs": [
    {
     "name": "stdout",
     "output_type": "stream",
     "text": [
      "(2032, 6016)\n"
     ]
    }
   ],
   "source": [
    "x_unknown = np.zeros((len(unlabeled_df), init_spec.shape[0]))\n",
    "print(x_unknown.shape)\n",
    "for row in unlabeled_df.index:\n",
    "    cur_path = unlabeled_df[\"IN FILE\"][row]\n",
    "    cur_offset = unlabeled_df[\"OFFSET\"][row]\n",
    "    cur_dur = unlabeled_df[\"DURATION\"][row]\n",
    "    cur_clip, _ = librosa.load(cur_path, sr=sample_rate, offset=cur_offset, duration=cur_dur)\n",
    "    cur_clip = filter(cur_clip, b, a)\n",
    "    cur_mel_spec = librosa.feature.melspectrogram(y=cur_clip, sr=sample_rate)\n",
    "    cur_mel_spec = cur_mel_spec.flatten()\n",
    "    x_unknown[row,:] = cur_mel_spec"
   ]
  },
  {
   "cell_type": "markdown",
   "id": "8121bad4-3983-4ae2-8f9b-37fa1836e506",
   "metadata": {},
   "source": [
    "## Running all the models on the unlabeled feature vectors"
   ]
  },
  {
   "cell_type": "code",
   "execution_count": 18,
   "id": "4e157ace-d8d0-4fe0-9bda-085b4ca8b496",
   "metadata": {},
   "outputs": [],
   "source": [
    "models = [lin_svm, rbf_svc, knn, rf, log_reg]\n",
    "classification_votes = np.zeros((x_unknown.shape[0],))\n",
    "for model in models:\n",
    "    cur_classification = model.predict(x_unknown)\n",
    "    classification_votes += cur_classification"
   ]
  },
  {
   "cell_type": "markdown",
   "id": "68a4338d-3639-4c75-8159-7c788d26ec1b",
   "metadata": {},
   "source": [
    "## Majority Vote"
   ]
  },
  {
   "cell_type": "code",
   "execution_count": 19,
   "id": "9ac943e7-5a8e-4f45-b5f3-8a198115f0aa",
   "metadata": {},
   "outputs": [
    {
     "name": "stdout",
     "output_type": "stream",
     "text": [
      "(2032,)\n"
     ]
    }
   ],
   "source": [
    "ensemble_class_prediction = classification_votes >= 3\n",
    "print(ensemble_class_prediction.shape)"
   ]
  },
  {
   "cell_type": "markdown",
   "id": "ea537be5-75b4-4191-9d77-0f6581e243d3",
   "metadata": {},
   "source": [
    "## Filtering out the clips without a consensus"
   ]
  },
  {
   "cell_type": "code",
   "execution_count": 20,
   "id": "70fe328e-a7ec-4ebd-a682-db57c65589a4",
   "metadata": {},
   "outputs": [
    {
     "name": "stdout",
     "output_type": "stream",
     "text": [
      "1221\n"
     ]
    }
   ],
   "source": [
    "ensemble_df = unlabeled_df\n",
    "ensemble_df[\"MANUAL ID\"] = ensemble_class_prediction\n",
    "ensemble_df = ensemble_df[ensemble_df[\"MANUAL ID\"] == 1]\n",
    "print(len(ensemble_df))"
   ]
  },
  {
   "cell_type": "code",
   "execution_count": 21,
   "id": "6fe33888-181f-47f9-804d-f95540ed3fd8",
   "metadata": {},
   "outputs": [
    {
     "name": "stderr",
     "output_type": "stream",
     "text": [
      "/tmp/ipykernel_313910/25306614.py:2: SettingWithCopyWarning: \n",
      "A value is trying to be set on a copy of a slice from a DataFrame.\n",
      "Try using .loc[row_indexer,col_indexer] = value instead\n",
      "\n",
      "See the caveats in the documentation: https://pandas.pydata.org/pandas-docs/stable/user_guide/indexing.html#returning-a-view-versus-a-copy\n",
      "  ensemble_df[\"FOLDER\"] = [''] * len(ensemble_df)\n"
     ]
    }
   ],
   "source": [
    "# hacky fix for now until the annotation chunker \"FOLDER\" is fixed\n",
    "ensemble_df[\"FOLDER\"] = [''] * len(ensemble_df)\n",
    "ensemble_df.to_csv(\"sustech_csvs/ensemble_attilla_am3_alt.csv\", index=False)"
   ]
  },
  {
   "cell_type": "code",
   "execution_count": null,
   "id": "20f31bbe-c880-4093-aa55-ef12597fe837",
   "metadata": {},
   "outputs": [],
   "source": []
  }
 ],
 "metadata": {
  "kernelspec": {
   "display_name": "Python 3 (ipykernel)",
   "language": "python",
   "name": "python3"
  },
  "language_info": {
   "codemirror_mode": {
    "name": "ipython",
    "version": 3
   },
   "file_extension": ".py",
   "mimetype": "text/x-python",
   "name": "python",
   "nbconvert_exporter": "python",
   "pygments_lexer": "ipython3",
   "version": "3.10.12"
  }
 },
 "nbformat": 4,
 "nbformat_minor": 5
}
