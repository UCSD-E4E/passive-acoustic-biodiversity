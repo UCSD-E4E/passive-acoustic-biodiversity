{
 "cells": [
  {
   "cell_type": "code",
   "execution_count": 1,
   "id": "aa0e4557",
   "metadata": {},
   "outputs": [],
   "source": [
    "from opensoundscape.preprocess.preprocessors import BasePreprocessor, AudioToSpectrogramPreprocessor, CnnPreprocessor\n",
    "import torch\n",
    "import pandas as pd\n",
    "from pathlib import Path\n",
    "import numpy as np\n",
    "import pandas as pd\n",
    "from opensoundscape.torch.models import cnn\n",
    "from opensoundscape.torch.architectures import cnn_architectures"
   ]
  },
  {
   "cell_type": "code",
   "execution_count": 2,
   "id": "f2c2b1c2",
   "metadata": {},
   "outputs": [],
   "source": [
    "import matplotlib.pyplot as plt"
   ]
  },
  {
   "cell_type": "code",
   "execution_count": 7,
   "id": "8764f92a",
   "metadata": {},
   "outputs": [],
   "source": [
    "df_warbl = pd.read_csv('./warblrb10k_public_wav/labels.csv')\n",
    "df_ff101 = pd.read_csv('./ff1010bird_wav/labels.csv')"
   ]
  },
  {
   "cell_type": "code",
   "execution_count": 8,
   "id": "e72c9c75",
   "metadata": {},
   "outputs": [
    {
     "name": "stdout",
     "output_type": "stream",
     "text": [
      "                    itemid  hasbird\n",
      "0  759808e5-f824-401e-9058        1\n",
      "1  1d94fc4a-1c63-4da0-9cac        1\n",
      "2  bb0099ce-3073-4613-8557        1\n",
      "3  c4c67e81-9aa8-4af4-8eb7        1\n",
      "4  ab322d4b-da69-4b06-a065        0\n"
     ]
    }
   ],
   "source": [
    "print(df_warbl.head())"
   ]
  },
  {
   "cell_type": "code",
   "execution_count": 9,
   "id": "e37672ea",
   "metadata": {},
   "outputs": [
    {
     "name": "stdout",
     "output_type": "stream",
     "text": [
      "   itemid  hasbird\n",
      "0   64486        0\n",
      "1    2525        0\n",
      "2   44981        0\n",
      "3  101323        0\n",
      "4  165746        0\n"
     ]
    }
   ],
   "source": [
    "print(df_ff101.head())"
   ]
  },
  {
   "cell_type": "code",
   "execution_count": 10,
   "id": "511f17d9",
   "metadata": {},
   "outputs": [
    {
     "name": "stdout",
     "output_type": "stream",
     "text": [
      "                                              itemid  hasbird\n",
      "0  ./../warblrb10k_public_wav/wav/759808e5-f824-4...        1\n",
      "1  ./../warblrb10k_public_wav/wav/1d94fc4a-1c63-4...        1\n",
      "2  ./../warblrb10k_public_wav/wav/bb0099ce-3073-4...        1\n",
      "3  ./../warblrb10k_public_wav/wav/c4c67e81-9aa8-4...        1\n",
      "4  ./../warblrb10k_public_wav/wav/ab322d4b-da69-4...        0\n",
      "                               itemid  hasbird\n",
      "0   ./../ff1010bird_wav/wav/64486.wav        0\n",
      "1    ./../ff1010bird_wav/wav/2525.wav        0\n",
      "2   ./../ff1010bird_wav/wav/44981.wav        0\n",
      "3  ./../ff1010bird_wav/wav/101323.wav        0\n",
      "4  ./../ff1010bird_wav/wav/165746.wav        0\n"
     ]
    }
   ],
   "source": [
    "df_warbl['itemid'] = ['./../warblrb10k_public_wav/wav/' + f+'.wav' for f in df_warbl.itemid]\n",
    "df_ff101['itemid'] = ['./../ff1010bird_wav/wav/' + str(f)+'.wav' for f in df_ff101.itemid]\n",
    "print(df_warbl.head())\n",
    "print(df_ff101.head())"
   ]
  },
  {
   "cell_type": "code",
   "execution_count": 11,
   "id": "bc9a7b55",
   "metadata": {},
   "outputs": [
    {
     "data": {
      "text/plain": [
       "(15690, 2)"
      ]
     },
     "execution_count": 11,
     "metadata": {},
     "output_type": "execute_result"
    }
   ],
   "source": [
    "df = pd.concat([df_ff101, df_warbl])\n",
    "df.shape"
   ]
  },
  {
   "cell_type": "code",
   "execution_count": 12,
   "id": "d5091d19",
   "metadata": {},
   "outputs": [
    {
     "data": {
      "text/plain": [
       "1    7980\n",
       "0    7710\n",
       "Name: hasbird, dtype: int64"
      ]
     },
     "execution_count": 12,
     "metadata": {},
     "output_type": "execute_result"
    }
   ],
   "source": [
    "df['hasbird'].value_counts()"
   ]
  },
  {
   "cell_type": "code",
   "execution_count": null,
   "id": "a9f0e459",
   "metadata": {},
   "outputs": [],
   "source": [
    "from opensoundscape.annotations import categorical_to_one_hot\n",
    "one_hot_labels, classes = categorical_to_one_hot(df[['hasbird']].values)\n",
    "labels = pd.DataFrame(index=df['itemid'],data=one_hot_labels,columns=classes)\n",
    "labels.rename(columns={0: \"empty\", 1: \"non-empty\"}, inplace=True)\n",
    "print(labels['empty'].value_counts())"
   ]
  },
  {
   "cell_type": "code",
   "execution_count": null,
   "id": "512f343d",
   "metadata": {},
   "outputs": [],
   "source": [
    "from sklearn.model_selection import train_test_split\n",
    "# train_df, test_df = train_test_split(labels, test_size=0.2, random_state=1)\n",
    "train_df, valid_df = train_test_split(labels, test_size=0.2, random_state=1)"
   ]
  },
  {
   "cell_type": "code",
   "execution_count": null,
   "id": "8a1d43c1",
   "metadata": {},
   "outputs": [],
   "source": [
    "from opensoundscape.preprocess.preprocessors import CnnPreprocessor\n",
    "\n",
    "train_dataset = CnnPreprocessor(train_df)\n",
    "train_dataset.augmentation_on()\n",
    "train_dataset.actions.load_audio.set(sample_rate=44100)\n",
    "\n",
    "valid_dataset = CnnPreprocessor(valid_df)\n",
    "valid_dataset.augmentation_on()\n",
    "valid_dataset.actions.load_audio.set(sample_rate=44100)"
   ]
  },
  {
   "cell_type": "code",
   "execution_count": null,
   "id": "20a42a45",
   "metadata": {},
   "outputs": [],
   "source": [
    "classes = train_df.columns\n",
    "model = cnn.PytorchModel('resnet18',classes,single_target=True)"
   ]
  },
  {
   "cell_type": "code",
   "execution_count": null,
   "id": "e5a6bbd8",
   "metadata": {},
   "outputs": [],
   "source": [
    "model.train(\n",
    "    train_dataset=train_dataset,\n",
    "    valid_dataset=valid_dataset,\n",
    "    save_path='./microfaune_resnet18_train_augmentation_on/',\n",
    "    epochs=12,\n",
    "    batch_size=64,\n",
    "    save_interval=100,\n",
    "    num_workers=2,\n",
    ")"
   ]
  },
  {
   "cell_type": "code",
   "execution_count": null,
   "id": "bbad25ad",
   "metadata": {},
   "outputs": [],
   "source": [
    "plt.scatter(model.loss_hist.keys(),model.loss_hist.values())\n",
    "plt.xlabel('epoch')\n",
    "plt.ylabel('loss')\n",
    "plt.savefig('model_loss.png')"
   ]
  },
  {
   "cell_type": "code",
   "execution_count": 3,
   "id": "4752dc4f",
   "metadata": {},
   "outputs": [],
   "source": [
    "from opensoundscape.torch.models.cnn import load_model\n",
    "model = load_model('./microfaune_resnet18_train_augmentation_on/best.model')"
   ]
  },
  {
   "cell_type": "code",
   "execution_count": 4,
   "id": "47b67221",
   "metadata": {},
   "outputs": [],
   "source": [
    "df_test = pd.read_csv('peru_data/Audiomoth_Madre_de_Dios_Field_Recordings/All/Copy of Stratified_Random_Sample_Bird_Labels.csv')\n",
    "df_test['Filename'] = './peru_data/Audiomoth_Madre_de_Dios_Field_Recordings/All/' + df_test['Folder'] + '/' + df_test['Clip']\n",
    "df_test.drop(columns=['Folder', 'Clip'], inplace=True)"
   ]
  },
  {
   "cell_type": "code",
   "execution_count": 5,
   "id": "d8a6ce0a",
   "metadata": {},
   "outputs": [
    {
     "name": "stdout",
     "output_type": "stream",
     "text": [
      "                                                    n  y\n",
      "Filename                                                \n",
      "./peru_data/Audiomoth_Madre_de_Dios_Field_Recor...  0  1\n",
      "./peru_data/Audiomoth_Madre_de_Dios_Field_Recor...  1  0\n",
      "./peru_data/Audiomoth_Madre_de_Dios_Field_Recor...  1  0\n",
      "./peru_data/Audiomoth_Madre_de_Dios_Field_Recor...  0  1\n",
      "./peru_data/Audiomoth_Madre_de_Dios_Field_Recor...  0  1\n"
     ]
    }
   ],
   "source": [
    "from opensoundscape.annotations import categorical_to_one_hot\n",
    "one_hot_labels, classes = categorical_to_one_hot(df_test[['Bird(s)?']].values)\n",
    "test_data = pd.DataFrame(index=df_test['Filename'],data=one_hot_labels,columns=classes)\n",
    "print(test_data.head())\n",
    "test_data.rename(columns={\"y\": \"non-empty\", \"n\": \"empty\"}, inplace=True)\n",
    "test_data = test_data[['empty', 'non-empty']]\n",
    "test_data.shape\n",
    "cols=[i for i in test_data.columns if i not in [\"file\"]]\n",
    "for col in cols:\n",
    "    test_data[col]=pd.to_numeric(test_data[col])"
   ]
  },
  {
   "cell_type": "code",
   "execution_count": 6,
   "id": "0fa20cdb",
   "metadata": {},
   "outputs": [
    {
     "data": {
      "text/plain": [
       "1    4007\n",
       "0    3113\n",
       "Name: empty, dtype: int64"
      ]
     },
     "execution_count": 6,
     "metadata": {},
     "output_type": "execute_result"
    }
   ],
   "source": [
    "test_data['empty'].value_counts()"
   ]
  },
  {
   "cell_type": "code",
   "execution_count": 7,
   "id": "83db2109",
   "metadata": {},
   "outputs": [],
   "source": [
    "#create a copy of the training dataset, sampling 0 of the training samples from it\n",
    "prediction_dataset = model.train_dataset.sample(n=0)\n",
    "#turn off augmentation on this dataset\n",
    "prediction_dataset.augmentation_off()\n",
    "#use the validation samples as test samples for the sake of illustration\n",
    "prediction_dataset.df = test_data"
   ]
  },
  {
   "cell_type": "code",
   "execution_count": 8,
   "id": "a32f344e",
   "metadata": {},
   "outputs": [
    {
     "data": {
      "text/plain": [
       "Index(['empty', 'non-empty'], dtype='object')"
      ]
     },
     "execution_count": 8,
     "metadata": {},
     "output_type": "execute_result"
    }
   ],
   "source": [
    "prediction_dataset.df.columns"
   ]
  },
  {
   "cell_type": "code",
   "execution_count": 9,
   "id": "d46990a5",
   "metadata": {},
   "outputs": [
    {
     "name": "stdout",
     "output_type": "stream",
     "text": [
      "(7120, 2)\n"
     ]
    }
   ],
   "source": [
    "valid_scores_df, valid_preds_df, valid_labels_df = model.predict(prediction_dataset,\n",
    "                                                                 binary_preds='single_target',\n",
    "                                                                 activation_layer='softmax')"
   ]
  },
  {
   "cell_type": "code",
   "execution_count": 10,
   "id": "ac668341",
   "metadata": {},
   "outputs": [
    {
     "name": "stdout",
     "output_type": "stream",
     "text": [
      "              precision    recall  f1-score   support\n",
      "\n",
      "           0       0.72      0.75      0.74      4007\n",
      "           1       0.66      0.63      0.65      3113\n",
      "\n",
      "   micro avg       0.70      0.70      0.70      7120\n",
      "   macro avg       0.69      0.69      0.69      7120\n",
      "weighted avg       0.70      0.70      0.70      7120\n",
      " samples avg       0.70      0.70      0.70      7120\n",
      "\n"
     ]
    }
   ],
   "source": [
    "from sklearn.metrics import classification_report, roc_auc_score, roc_curve\n",
    "print(classification_report(valid_labels_df, valid_preds_df))"
   ]
  },
  {
   "cell_type": "code",
   "execution_count": 12,
   "id": "77118c52",
   "metadata": {},
   "outputs": [
    {
     "data": {
      "image/png": "[encoded data removed]",
      "text/plain": [
       "<Figure size 432x288 with 1 Axes>"
      ]
     },
     "metadata": {
      "needs_background": "light"
     },
     "output_type": "display_data"
    }
   ],
   "source": [
    "fpr, tpr, thresh = roc_curve(valid_labels_df['non-empty'],  valid_scores_df['non-empty'])\n",
    "auc = roc_auc_score(valid_labels_df['non-empty'],  valid_preds_df['non-empty'])\n",
    "\n",
    "fpr2, tpr2, thresh2 = roc_curve(valid_labels_df['empty'],  valid_scores_df['empty'])\n",
    "auc2 = roc_auc_score(valid_labels_df['empty'],  valid_preds_df['empty'])\n",
    "\n",
    "#create ROC curve\n",
    "plt.plot(fpr,tpr,label=\"AUC bird class=\"+str(auc))\n",
    "plt.title('Prediction on peru dataset (Train: microfaune)')\n",
    "plt.ylabel('True Positive Rate')\n",
    "plt.xlabel('False Positive Rate')\n",
    "\n",
    "plt.plot(fpr2, tpr2,label=\"AUC non bird class=\"+str(auc2))\n",
    "plt.legend(loc=4)\n",
    "plt.savefig('./microfaune_resnet18_train_augmentation_on/AUC_curve_peru_MicroFaune.jpg', format='jpg', transparent=False)"
   ]
  }
 ],
 "metadata": {
  "kernelspec": {
   "display_name": "Python 3 (ipykernel)",
   "language": "python",
   "name": "python3"
  },
  "language_info": {
   "codemirror_mode": {
    "name": "ipython",
    "version": 3
   },
   "file_extension": ".py",
   "mimetype": "text/x-python",
   "name": "python",
   "nbconvert_exporter": "python",
   "pygments_lexer": "ipython3",
   "version": "3.8.0"
  }
 },
 "nbformat": 4,
 "nbformat_minor": 5
}
