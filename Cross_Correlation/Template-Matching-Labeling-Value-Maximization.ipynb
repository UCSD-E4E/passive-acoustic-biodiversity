{
 "cells": [
  {
   "cell_type": "code",
   "execution_count": 1,
   "id": "134a4150-66e5-4ba0-9710-6452b78f8b95",
   "metadata": {},
   "outputs": [],
   "source": [
    "import pandas as pd\n",
    "import numpy as np\n",
    "from sklearn.svm import SVC\n",
    "from PyHa.annotation_post_processing import annotation_chunker\n",
    "from PyHa.template_matching.utils import generate_specgram, butter_bandpass, filter\n",
    "import librosa\n",
    "import os\n",
    "import matplotlib.pyplot as plt\n",
    "import math\n",
    "import random"
   ]
  },
  {
   "cell_type": "code",
   "execution_count": 2,
   "id": "f8b44ac5-bb37-4abf-8c41-d94402316d2f",
   "metadata": {},
   "outputs": [],
   "source": [
    "isolation_parameters = {\n",
    "    \"model\" : \"template_matching\",\n",
    "    # we will be modifying this for each path\n",
    "    \"template_path\" : \"\",\n",
    "    \"technique\" : \"steinberg\",\n",
    "    # ideally this is the length of the template in seconds\n",
    "    \"window_size\" : 0.6,\n",
    "    \"threshold_type\" : \"pure\",\n",
    "    \"threshold_const\" : 0.20,\n",
    "    \"cutoff_freq_low\" : 1000,\n",
    "    \"cutoff_freq_high\" : 2000,\n",
    "    \"verbose\" : True,\n",
    "    \"write_confidence\" : True\n",
    "}\n",
    "# creating the bandpass filter\n",
    "b, a = butter_bandpass(isolation_parameters['cutoff_freq_low'], \n",
    "                       isolation_parameters['cutoff_freq_high'], 8000, order=10)"
   ]
  },
  {
   "cell_type": "code",
   "execution_count": 3,
   "id": "fca6ab90-c4af-4eae-912c-9bcf9e011f0a",
   "metadata": {},
   "outputs": [],
   "source": [
    "from sklearn.svm import LinearSVC\n",
    "from sklearn import svm\n",
    "from sklearn.linear_model import LogisticRegression\n",
    "from sklearn.neighbors import KNeighborsRegressor\n",
    "from sklearn.ensemble import RandomForestClassifier\n",
    "\n",
    "def train_ensemble(x, y):\n",
    "    # initializing the shallow learning models\n",
    "    model_dict = {\n",
    "        \"lsvm\" : LinearSVC(),\n",
    "        \"rsvm\" : svm.SVC(kernel='rbf'),\n",
    "        \"knn\"  : KNeighborsRegressor(weights='distance'),\n",
    "        \"rf\"   : RandomForestClassifier(),\n",
    "        \"lreg\" : LogisticRegression()\n",
    "    }\n",
    "    # training the models\n",
    "    model_dict[\"lsvm\"].fit(x,y)\n",
    "    model_dict[\"rsvm\"].fit(x,y)\n",
    "    model_dict[\"knn\"].fit(x,y)\n",
    "    model_dict[\"rf\"].fit(x,y)\n",
    "    model_dict[\"lreg\"].fit(x,y)\n",
    "    \n",
    "    return model_dict\n",
    "\n",
    "def generate_data(df, b, a):\n",
    "    x = []\n",
    "    y = []\n",
    "    for row in df.index:\n",
    "        cur_path = os.path.join(df[\"FOLDER\"][row], df[\"IN FILE\"][row])\n",
    "        cur_id = df[\"MANUAL ID\"][row]\n",
    "        cur_offset = df[\"OFFSET\"][row]\n",
    "        sr = df[\"SAMPLE RATE\"][row]\n",
    "        duration = df[\"DURATION\"][row]\n",
    "        if cur_offset > 59:\n",
    "            cur_clip, _ = librosa.load(cur_path, sr=sr, offset=cur_offset, duration=duration)\n",
    "            repeat_count = math.ceil(sr/len(cur_clip))\n",
    "            cur_clip = np.repeat(cur_clip, repeat_count)[0:sr]\n",
    "        else:\n",
    "            cur_clip, _ = librosa.load(cur_path, sr=sr, offset=cur_offset, duration=1.0)\n",
    "\n",
    "        cur_clip = filter(cur_clip, b, a)\n",
    "        cur_mel_spec = librosa.feature.melspectrogram(y=cur_clip, sr=sr)\n",
    "        cur_mel_spec = cur_mel_spec.flatten()\n",
    "        x.append(cur_mel_spec)\n",
    "        if cur_id == \"CP_1\":\n",
    "            y.append(1)\n",
    "        else:\n",
    "            y.append(0)\n",
    "    return np.array(x), np.array(y)\n",
    "\n",
    "def ensemble_predict(x, models):\n",
    "    predictions = np.zeros((x.shape[0],))\n",
    "    for model in models.keys():\n",
    "        predictions += models[model].predict(x)\n",
    "    return predictions"
   ]
  },
  {
   "cell_type": "code",
   "execution_count": 4,
   "id": "1c4bedeb-8d3c-40d0-8fc7-40fbc3e175ad",
   "metadata": {},
   "outputs": [],
   "source": [
    "def tp_fp_counts(df):\n",
    "    tp_count = len(df[df[\"MANUAL ID\"]==\"CP_1\"])\n",
    "    fp_count = len(df[df[\"MANUAL ID\"]==\"CP_0\"])\n",
    "    return tp_count, fp_count"
   ]
  },
  {
   "cell_type": "code",
   "execution_count": 5,
   "id": "7b20f84f-e443-43d5-b2bd-b34454f2ac1a",
   "metadata": {},
   "outputs": [
    {
     "name": "stdout",
     "output_type": "stream",
     "text": [
      "Template Matching Output Count w/ Confidence threshold 0.2 -  677\n",
      "True Positive Count -  391\n",
      "False Positive Count -  286\n",
      "Precision -  0.5775\n"
     ]
    }
   ],
   "source": [
    "poorwill_df = pd.read_csv(\"Poorwill_Scripps_Full_Labeled.csv\")\n",
    "total_tp_count, total_fp_count = tp_fp_counts(poorwill_df)\n",
    "template_output_count = len(poorwill_df)\n",
    "print(\"Template Matching Output Count w/ Confidence threshold 0.2 - \", template_output_count)\n",
    "print(\"True Positive Count - \", total_tp_count)\n",
    "print(\"False Positive Count - \", total_fp_count)\n",
    "print(\"Precision - \", round(total_tp_count/(total_tp_count+total_fp_count),4))"
   ]
  },
  {
   "cell_type": "code",
   "execution_count": 6,
   "id": "0456cce0-d6f0-4475-81ae-4b52448170b5",
   "metadata": {},
   "outputs": [],
   "source": [
    "# freezing randomness for reproducibility\n",
    "random.seed(0)\n",
    "np.random.seed(0)\n",
    "label_counts = [100, 150, 200, 250, 300, 350, 400, 450, 500, 550, 600]\n",
    "# ordering the dataframe based on template confidence values (ascending order)\n",
    "poorwill_df = poorwill_df.sort_values(\"CONFIDENCE\")"
   ]
  },
  {
   "cell_type": "markdown",
   "id": "6a574209-b404-44ff-b914-e2b2a4874361",
   "metadata": {},
   "source": [
    "## Experiment 1 - Randomly Labeling Data"
   ]
  },
  {
   "cell_type": "code",
   "execution_count": 7,
   "id": "7090dd4e-86dd-4dc5-b8c9-781ce83ce016",
   "metadata": {},
   "outputs": [],
   "source": [
    "exp1_tp_rate = []\n",
    "for label_count in label_counts:\n",
    "    #label_indices = random.sample( range(template_output_count), label_count)\n",
    "    labeled_df = poorwill_df.sample(n=label_count)\n",
    "    cur_tp_count, cur_fp_count = tp_fp_counts(labeled_df)\n",
    "    exp1_tp_rate.append(cur_tp_count/total_tp_count)"
   ]
  },
  {
   "cell_type": "markdown",
   "id": "4a8f6a8f-c423-48dd-afde-ffe857ce8a83",
   "metadata": {},
   "source": [
    "## Experiment 2 - Labeling the Top Correlation Values"
   ]
  },
  {
   "cell_type": "code",
   "execution_count": 8,
   "id": "e7a98b5d-b96b-41a5-aff4-a9d3e04936cd",
   "metadata": {},
   "outputs": [],
   "source": [
    "exp2_tp_rate = []\n",
    "for label_count in label_counts:\n",
    "    labeled_df = poorwill_df.tail(label_count)\n",
    "    \n",
    "    cur_tp_count, cur_fp_count = tp_fp_counts(labeled_df)\n",
    "    exp2_tp_rate.append(cur_tp_count/total_tp_count)\n",
    "    "
   ]
  },
  {
   "cell_type": "markdown",
   "id": "ba2b6020-421f-4a25-8c51-1f9e840f5471",
   "metadata": {},
   "source": [
    "## Experiment 3 - Training Ensemble on Random Selection 20-80 "
   ]
  },
  {
   "cell_type": "code",
   "execution_count": 9,
   "id": "ad525257-b1b4-4e5f-8ed3-fd8ee4769bcb",
   "metadata": {},
   "outputs": [
    {
     "name": "stderr",
     "output_type": "stream",
     "text": [
      "/home/thesis-generator/PyHa/.venv/lib/python3.10/site-packages/sklearn/svm/_classes.py:32: FutureWarning: The default value of `dual` will change from `True` to `'auto'` in 1.5. Set the value of `dual` explicitly to suppress the warning.\n",
      "  warnings.warn(\n",
      "/home/thesis-generator/PyHa/.venv/lib/python3.10/site-packages/sklearn/svm/_classes.py:32: FutureWarning: The default value of `dual` will change from `True` to `'auto'` in 1.5. Set the value of `dual` explicitly to suppress the warning.\n",
      "  warnings.warn(\n",
      "/home/thesis-generator/PyHa/.venv/lib/python3.10/site-packages/sklearn/svm/_classes.py:32: FutureWarning: The default value of `dual` will change from `True` to `'auto'` in 1.5. Set the value of `dual` explicitly to suppress the warning.\n",
      "  warnings.warn(\n",
      "/home/thesis-generator/PyHa/.venv/lib/python3.10/site-packages/sklearn/svm/_classes.py:32: FutureWarning: The default value of `dual` will change from `True` to `'auto'` in 1.5. Set the value of `dual` explicitly to suppress the warning.\n",
      "  warnings.warn(\n",
      "/home/thesis-generator/PyHa/.venv/lib/python3.10/site-packages/sklearn/svm/_classes.py:32: FutureWarning: The default value of `dual` will change from `True` to `'auto'` in 1.5. Set the value of `dual` explicitly to suppress the warning.\n",
      "  warnings.warn(\n",
      "/home/thesis-generator/PyHa/.venv/lib/python3.10/site-packages/sklearn/svm/_classes.py:32: FutureWarning: The default value of `dual` will change from `True` to `'auto'` in 1.5. Set the value of `dual` explicitly to suppress the warning.\n",
      "  warnings.warn(\n",
      "/home/thesis-generator/PyHa/.venv/lib/python3.10/site-packages/sklearn/svm/_classes.py:32: FutureWarning: The default value of `dual` will change from `True` to `'auto'` in 1.5. Set the value of `dual` explicitly to suppress the warning.\n",
      "  warnings.warn(\n",
      "/home/thesis-generator/PyHa/.venv/lib/python3.10/site-packages/sklearn/svm/_classes.py:32: FutureWarning: The default value of `dual` will change from `True` to `'auto'` in 1.5. Set the value of `dual` explicitly to suppress the warning.\n",
      "  warnings.warn(\n",
      "/home/thesis-generator/PyHa/.venv/lib/python3.10/site-packages/sklearn/svm/_classes.py:32: FutureWarning: The default value of `dual` will change from `True` to `'auto'` in 1.5. Set the value of `dual` explicitly to suppress the warning.\n",
      "  warnings.warn(\n",
      "/home/thesis-generator/PyHa/.venv/lib/python3.10/site-packages/sklearn/svm/_classes.py:32: FutureWarning: The default value of `dual` will change from `True` to `'auto'` in 1.5. Set the value of `dual` explicitly to suppress the warning.\n",
      "  warnings.warn(\n",
      "/home/thesis-generator/PyHa/.venv/lib/python3.10/site-packages/sklearn/svm/_classes.py:32: FutureWarning: The default value of `dual` will change from `True` to `'auto'` in 1.5. Set the value of `dual` explicitly to suppress the warning.\n",
      "  warnings.warn(\n"
     ]
    }
   ],
   "source": [
    "exp3_tp_rate = []\n",
    "for label_count in label_counts:\n",
    "    # Creating an ensemble model training set\n",
    "    train_df = poorwill_df.sample(int(label_count * 0.2))\n",
    "    # Creating \n",
    "    test_pool_df = pd.concat([poorwill_df, train_df])\n",
    "    test_pool_df = test_pool_df.drop_duplicates(keep=False)\n",
    "    \n",
    "    train_x, train_y = generate_data( train_df, b, a)\n",
    "    models = train_ensemble(train_x, train_y)\n",
    "\n",
    "    test_pool_x, test_pool_y = generate_data(test_pool_df, b, a)\n",
    "    \n",
    "    predictions = ensemble_predict(test_pool_x, models)\n",
    "    test_pool_df[\"ENSEMBLE VOTE\"] = predictions\n",
    "    test_pool_df = test_pool_df.sort_values(\"ENSEMBLE VOTE\")\n",
    "    test_df = test_pool_df.tail(int(label_count * 0.8))\n",
    "\n",
    "    train_tp_count, train_fp_count = tp_fp_counts(train_df)\n",
    "    test_tp_count, test_fp_count = tp_fp_counts(test_df)\n",
    "\n",
    "    cur_tp_count = train_tp_count + test_tp_count\n",
    "    \n",
    "    exp3_tp_rate.append(cur_tp_count/total_tp_count)\n",
    "    "
   ]
  },
  {
   "cell_type": "markdown",
   "id": "8bdb47f4-a0fa-4996-99b2-79a9845798c4",
   "metadata": {},
   "source": [
    "## Experiment 4 - Training Ensemble on High-low Confidence Split 20-80"
   ]
  },
  {
   "cell_type": "code",
   "execution_count": 10,
   "id": "a76c29ab-e32e-4304-b786-ccca9190c316",
   "metadata": {},
   "outputs": [
    {
     "name": "stderr",
     "output_type": "stream",
     "text": [
      "/home/thesis-generator/PyHa/.venv/lib/python3.10/site-packages/sklearn/svm/_classes.py:32: FutureWarning: The default value of `dual` will change from `True` to `'auto'` in 1.5. Set the value of `dual` explicitly to suppress the warning.\n",
      "  warnings.warn(\n",
      "/home/thesis-generator/PyHa/.venv/lib/python3.10/site-packages/sklearn/svm/_classes.py:32: FutureWarning: The default value of `dual` will change from `True` to `'auto'` in 1.5. Set the value of `dual` explicitly to suppress the warning.\n",
      "  warnings.warn(\n",
      "/home/thesis-generator/PyHa/.venv/lib/python3.10/site-packages/sklearn/svm/_classes.py:32: FutureWarning: The default value of `dual` will change from `True` to `'auto'` in 1.5. Set the value of `dual` explicitly to suppress the warning.\n",
      "  warnings.warn(\n",
      "/home/thesis-generator/PyHa/.venv/lib/python3.10/site-packages/sklearn/svm/_classes.py:32: FutureWarning: The default value of `dual` will change from `True` to `'auto'` in 1.5. Set the value of `dual` explicitly to suppress the warning.\n",
      "  warnings.warn(\n",
      "/home/thesis-generator/PyHa/.venv/lib/python3.10/site-packages/sklearn/svm/_classes.py:32: FutureWarning: The default value of `dual` will change from `True` to `'auto'` in 1.5. Set the value of `dual` explicitly to suppress the warning.\n",
      "  warnings.warn(\n",
      "/home/thesis-generator/PyHa/.venv/lib/python3.10/site-packages/sklearn/svm/_classes.py:32: FutureWarning: The default value of `dual` will change from `True` to `'auto'` in 1.5. Set the value of `dual` explicitly to suppress the warning.\n",
      "  warnings.warn(\n",
      "/home/thesis-generator/PyHa/.venv/lib/python3.10/site-packages/sklearn/svm/_classes.py:32: FutureWarning: The default value of `dual` will change from `True` to `'auto'` in 1.5. Set the value of `dual` explicitly to suppress the warning.\n",
      "  warnings.warn(\n",
      "/home/thesis-generator/PyHa/.venv/lib/python3.10/site-packages/sklearn/svm/_classes.py:32: FutureWarning: The default value of `dual` will change from `True` to `'auto'` in 1.5. Set the value of `dual` explicitly to suppress the warning.\n",
      "  warnings.warn(\n",
      "/home/thesis-generator/PyHa/.venv/lib/python3.10/site-packages/sklearn/svm/_classes.py:32: FutureWarning: The default value of `dual` will change from `True` to `'auto'` in 1.5. Set the value of `dual` explicitly to suppress the warning.\n",
      "  warnings.warn(\n",
      "/home/thesis-generator/PyHa/.venv/lib/python3.10/site-packages/sklearn/svm/_classes.py:32: FutureWarning: The default value of `dual` will change from `True` to `'auto'` in 1.5. Set the value of `dual` explicitly to suppress the warning.\n",
      "  warnings.warn(\n",
      "/home/thesis-generator/PyHa/.venv/lib/python3.10/site-packages/sklearn/svm/_classes.py:32: FutureWarning: The default value of `dual` will change from `True` to `'auto'` in 1.5. Set the value of `dual` explicitly to suppress the warning.\n",
      "  warnings.warn(\n"
     ]
    }
   ],
   "source": [
    "exp4_tp_rate = []\n",
    "for label_count in label_counts:\n",
    "    # Creating an ensemble model training set\n",
    "    high_conf_df = poorwill_df.tail(int(label_count*0.1))\n",
    "    low_conf_df = poorwill_df.head(int(label_count*0.1))\n",
    "    train_df = pd.concat([high_conf_df, low_conf_df])\n",
    "    \n",
    "    # Unlabeled dataset full\n",
    "    test_pool_df = pd.concat([poorwill_df, train_df])\n",
    "    test_pool_df = test_pool_df.drop_duplicates(keep=False)\n",
    "    \n",
    "    train_x, train_y = generate_data( train_df, b, a)\n",
    "    models = train_ensemble(train_x, train_y)\n",
    "\n",
    "    test_pool_x, test_pool_y = generate_data(test_pool_df, b, a)\n",
    "    \n",
    "    predictions = ensemble_predict(test_pool_x, models)\n",
    "    test_pool_df[\"ENSEMBLE VOTE\"] = predictions\n",
    "    test_pool_df = test_pool_df.sort_values(\"ENSEMBLE VOTE\")\n",
    "    test_df = test_pool_df.tail(int(label_count * 0.8))\n",
    "\n",
    "    train_tp_count, train_fp_count = tp_fp_counts(train_df)\n",
    "    test_tp_count, test_fp_count = tp_fp_counts(test_df)\n",
    "\n",
    "    cur_tp_count = train_tp_count + test_tp_count\n",
    "    \n",
    "    exp4_tp_rate.append(cur_tp_count/total_tp_count)\n",
    "    "
   ]
  },
  {
   "cell_type": "markdown",
   "id": "87d4df32-beea-4770-9f66-d587d2755445",
   "metadata": {},
   "source": [
    "## Experiment 5 - Training Ensemble on High-low Confidence Split and some Random Selections 20-80"
   ]
  },
  {
   "cell_type": "code",
   "execution_count": 11,
   "id": "744c5af6-6dba-4834-a1f8-b00d1ce8f3f5",
   "metadata": {},
   "outputs": [
    {
     "name": "stderr",
     "output_type": "stream",
     "text": [
      "/home/thesis-generator/PyHa/.venv/lib/python3.10/site-packages/sklearn/svm/_classes.py:32: FutureWarning: The default value of `dual` will change from `True` to `'auto'` in 1.5. Set the value of `dual` explicitly to suppress the warning.\n",
      "  warnings.warn(\n",
      "/home/thesis-generator/PyHa/.venv/lib/python3.10/site-packages/sklearn/svm/_classes.py:32: FutureWarning: The default value of `dual` will change from `True` to `'auto'` in 1.5. Set the value of `dual` explicitly to suppress the warning.\n",
      "  warnings.warn(\n",
      "/home/thesis-generator/PyHa/.venv/lib/python3.10/site-packages/sklearn/svm/_classes.py:32: FutureWarning: The default value of `dual` will change from `True` to `'auto'` in 1.5. Set the value of `dual` explicitly to suppress the warning.\n",
      "  warnings.warn(\n",
      "/home/thesis-generator/PyHa/.venv/lib/python3.10/site-packages/sklearn/svm/_classes.py:32: FutureWarning: The default value of `dual` will change from `True` to `'auto'` in 1.5. Set the value of `dual` explicitly to suppress the warning.\n",
      "  warnings.warn(\n",
      "/home/thesis-generator/PyHa/.venv/lib/python3.10/site-packages/sklearn/svm/_classes.py:32: FutureWarning: The default value of `dual` will change from `True` to `'auto'` in 1.5. Set the value of `dual` explicitly to suppress the warning.\n",
      "  warnings.warn(\n",
      "/home/thesis-generator/PyHa/.venv/lib/python3.10/site-packages/sklearn/svm/_classes.py:32: FutureWarning: The default value of `dual` will change from `True` to `'auto'` in 1.5. Set the value of `dual` explicitly to suppress the warning.\n",
      "  warnings.warn(\n",
      "/home/thesis-generator/PyHa/.venv/lib/python3.10/site-packages/sklearn/svm/_classes.py:32: FutureWarning: The default value of `dual` will change from `True` to `'auto'` in 1.5. Set the value of `dual` explicitly to suppress the warning.\n",
      "  warnings.warn(\n",
      "/home/thesis-generator/PyHa/.venv/lib/python3.10/site-packages/sklearn/svm/_classes.py:32: FutureWarning: The default value of `dual` will change from `True` to `'auto'` in 1.5. Set the value of `dual` explicitly to suppress the warning.\n",
      "  warnings.warn(\n",
      "/home/thesis-generator/PyHa/.venv/lib/python3.10/site-packages/sklearn/svm/_classes.py:32: FutureWarning: The default value of `dual` will change from `True` to `'auto'` in 1.5. Set the value of `dual` explicitly to suppress the warning.\n",
      "  warnings.warn(\n",
      "/home/thesis-generator/PyHa/.venv/lib/python3.10/site-packages/sklearn/svm/_classes.py:32: FutureWarning: The default value of `dual` will change from `True` to `'auto'` in 1.5. Set the value of `dual` explicitly to suppress the warning.\n",
      "  warnings.warn(\n",
      "/home/thesis-generator/PyHa/.venv/lib/python3.10/site-packages/sklearn/svm/_classes.py:32: FutureWarning: The default value of `dual` will change from `True` to `'auto'` in 1.5. Set the value of `dual` explicitly to suppress the warning.\n",
      "  warnings.warn(\n"
     ]
    }
   ],
   "source": [
    "exp5_tp_rate = []\n",
    "for label_count in label_counts:\n",
    "    # Creating an ensemble model training set\n",
    "    \n",
    "    high_conf_df = poorwill_df.tail(int(label_count*0.07))\n",
    "    low_conf_df = poorwill_df.head(int(label_count*0.07))\n",
    "    random_df = pd.concat([poorwill_df, high_conf_df, low_conf_df]).drop_duplicates(keep=False).sample(int(label_count*0.06))\n",
    "    train_df = pd.concat([high_conf_df, low_conf_df, random_df])\n",
    "    \n",
    "    # Unlabeled dataset full\n",
    "    test_pool_df = pd.concat([poorwill_df, train_df])\n",
    "    test_pool_df = test_pool_df.drop_duplicates(keep=False)\n",
    "    \n",
    "    train_x, train_y = generate_data( train_df, b, a)\n",
    "    models = train_ensemble(train_x, train_y)\n",
    "\n",
    "    test_pool_x, test_pool_y = generate_data(test_pool_df, b, a)\n",
    "    \n",
    "    predictions = ensemble_predict(test_pool_x, models)\n",
    "    test_pool_df[\"ENSEMBLE VOTE\"] = predictions\n",
    "    test_pool_df = test_pool_df.sort_values(\"ENSEMBLE VOTE\")\n",
    "    test_df = test_pool_df.tail(int(label_count * 0.8))\n",
    "\n",
    "    train_tp_count, train_fp_count = tp_fp_counts(train_df)\n",
    "    test_tp_count, test_fp_count = tp_fp_counts(test_df)\n",
    "\n",
    "    cur_tp_count = train_tp_count + test_tp_count\n",
    "    \n",
    "    exp5_tp_rate.append(cur_tp_count/total_tp_count)\n",
    "    "
   ]
  },
  {
   "cell_type": "markdown",
   "id": "9ae43891-3838-4157-aea2-2007a8cf41ab",
   "metadata": {},
   "source": [
    "## Experiment 6 - Training Ensemble on Random Selection 50-50 "
   ]
  },
  {
   "cell_type": "code",
   "execution_count": 12,
   "id": "ad8081d1-8826-4e38-8047-29a52ec4a1b7",
   "metadata": {},
   "outputs": [
    {
     "name": "stderr",
     "output_type": "stream",
     "text": [
      "/home/thesis-generator/PyHa/.venv/lib/python3.10/site-packages/sklearn/svm/_classes.py:32: FutureWarning: The default value of `dual` will change from `True` to `'auto'` in 1.5. Set the value of `dual` explicitly to suppress the warning.\n",
      "  warnings.warn(\n",
      "/home/thesis-generator/PyHa/.venv/lib/python3.10/site-packages/sklearn/svm/_classes.py:32: FutureWarning: The default value of `dual` will change from `True` to `'auto'` in 1.5. Set the value of `dual` explicitly to suppress the warning.\n",
      "  warnings.warn(\n",
      "/home/thesis-generator/PyHa/.venv/lib/python3.10/site-packages/sklearn/svm/_classes.py:32: FutureWarning: The default value of `dual` will change from `True` to `'auto'` in 1.5. Set the value of `dual` explicitly to suppress the warning.\n",
      "  warnings.warn(\n",
      "/home/thesis-generator/PyHa/.venv/lib/python3.10/site-packages/sklearn/svm/_classes.py:32: FutureWarning: The default value of `dual` will change from `True` to `'auto'` in 1.5. Set the value of `dual` explicitly to suppress the warning.\n",
      "  warnings.warn(\n",
      "/home/thesis-generator/PyHa/.venv/lib/python3.10/site-packages/sklearn/svm/_classes.py:32: FutureWarning: The default value of `dual` will change from `True` to `'auto'` in 1.5. Set the value of `dual` explicitly to suppress the warning.\n",
      "  warnings.warn(\n",
      "/home/thesis-generator/PyHa/.venv/lib/python3.10/site-packages/sklearn/svm/_classes.py:32: FutureWarning: The default value of `dual` will change from `True` to `'auto'` in 1.5. Set the value of `dual` explicitly to suppress the warning.\n",
      "  warnings.warn(\n",
      "/home/thesis-generator/PyHa/.venv/lib/python3.10/site-packages/sklearn/svm/_classes.py:32: FutureWarning: The default value of `dual` will change from `True` to `'auto'` in 1.5. Set the value of `dual` explicitly to suppress the warning.\n",
      "  warnings.warn(\n",
      "/home/thesis-generator/PyHa/.venv/lib/python3.10/site-packages/sklearn/svm/_classes.py:32: FutureWarning: The default value of `dual` will change from `True` to `'auto'` in 1.5. Set the value of `dual` explicitly to suppress the warning.\n",
      "  warnings.warn(\n",
      "/home/thesis-generator/PyHa/.venv/lib/python3.10/site-packages/sklearn/svm/_classes.py:32: FutureWarning: The default value of `dual` will change from `True` to `'auto'` in 1.5. Set the value of `dual` explicitly to suppress the warning.\n",
      "  warnings.warn(\n",
      "/home/thesis-generator/PyHa/.venv/lib/python3.10/site-packages/sklearn/svm/_classes.py:32: FutureWarning: The default value of `dual` will change from `True` to `'auto'` in 1.5. Set the value of `dual` explicitly to suppress the warning.\n",
      "  warnings.warn(\n",
      "/home/thesis-generator/PyHa/.venv/lib/python3.10/site-packages/sklearn/svm/_classes.py:32: FutureWarning: The default value of `dual` will change from `True` to `'auto'` in 1.5. Set the value of `dual` explicitly to suppress the warning.\n",
      "  warnings.warn(\n"
     ]
    }
   ],
   "source": [
    "exp6_tp_rate = []\n",
    "for label_count in label_counts:\n",
    "    # Creating an ensemble model training set\n",
    "    train_df = poorwill_df.sample(int(label_count * 0.5))\n",
    "    # Creating \n",
    "    test_pool_df = pd.concat([poorwill_df, train_df])\n",
    "    test_pool_df = test_pool_df.drop_duplicates(keep=False)\n",
    "    \n",
    "    train_x, train_y = generate_data( train_df, b, a)\n",
    "    models = train_ensemble(train_x, train_y)\n",
    "\n",
    "    test_pool_x, test_pool_y = generate_data(test_pool_df, b, a)\n",
    "    \n",
    "    predictions = ensemble_predict(test_pool_x, models)\n",
    "    test_pool_df[\"ENSEMBLE VOTE\"] = predictions\n",
    "    test_pool_df = test_pool_df.sort_values(\"ENSEMBLE VOTE\")\n",
    "    test_df = test_pool_df.tail(int(label_count * 0.5))\n",
    "\n",
    "    train_tp_count, train_fp_count = tp_fp_counts(train_df)\n",
    "    test_tp_count, test_fp_count = tp_fp_counts(test_df)\n",
    "\n",
    "    cur_tp_count = train_tp_count + test_tp_count\n",
    "    \n",
    "    exp6_tp_rate.append(cur_tp_count/total_tp_count)\n",
    "    "
   ]
  },
  {
   "cell_type": "markdown",
   "id": "fe08273f-c3d7-4019-8a0e-e883e0ac4e50",
   "metadata": {},
   "source": [
    "## Experiment 7 - Training Ensemble on High-low Confidence Split 50-50"
   ]
  },
  {
   "cell_type": "code",
   "execution_count": 13,
   "id": "fe14796d-c34a-4a30-bae5-4695910b3861",
   "metadata": {},
   "outputs": [
    {
     "name": "stderr",
     "output_type": "stream",
     "text": [
      "/home/thesis-generator/PyHa/.venv/lib/python3.10/site-packages/sklearn/svm/_classes.py:32: FutureWarning: The default value of `dual` will change from `True` to `'auto'` in 1.5. Set the value of `dual` explicitly to suppress the warning.\n",
      "  warnings.warn(\n",
      "/home/thesis-generator/PyHa/.venv/lib/python3.10/site-packages/sklearn/svm/_classes.py:32: FutureWarning: The default value of `dual` will change from `True` to `'auto'` in 1.5. Set the value of `dual` explicitly to suppress the warning.\n",
      "  warnings.warn(\n",
      "/home/thesis-generator/PyHa/.venv/lib/python3.10/site-packages/sklearn/svm/_classes.py:32: FutureWarning: The default value of `dual` will change from `True` to `'auto'` in 1.5. Set the value of `dual` explicitly to suppress the warning.\n",
      "  warnings.warn(\n",
      "/home/thesis-generator/PyHa/.venv/lib/python3.10/site-packages/sklearn/svm/_classes.py:32: FutureWarning: The default value of `dual` will change from `True` to `'auto'` in 1.5. Set the value of `dual` explicitly to suppress the warning.\n",
      "  warnings.warn(\n",
      "/home/thesis-generator/PyHa/.venv/lib/python3.10/site-packages/sklearn/svm/_classes.py:32: FutureWarning: The default value of `dual` will change from `True` to `'auto'` in 1.5. Set the value of `dual` explicitly to suppress the warning.\n",
      "  warnings.warn(\n",
      "/home/thesis-generator/PyHa/.venv/lib/python3.10/site-packages/sklearn/svm/_classes.py:32: FutureWarning: The default value of `dual` will change from `True` to `'auto'` in 1.5. Set the value of `dual` explicitly to suppress the warning.\n",
      "  warnings.warn(\n",
      "/home/thesis-generator/PyHa/.venv/lib/python3.10/site-packages/sklearn/svm/_classes.py:32: FutureWarning: The default value of `dual` will change from `True` to `'auto'` in 1.5. Set the value of `dual` explicitly to suppress the warning.\n",
      "  warnings.warn(\n",
      "/home/thesis-generator/PyHa/.venv/lib/python3.10/site-packages/sklearn/svm/_classes.py:32: FutureWarning: The default value of `dual` will change from `True` to `'auto'` in 1.5. Set the value of `dual` explicitly to suppress the warning.\n",
      "  warnings.warn(\n",
      "/home/thesis-generator/PyHa/.venv/lib/python3.10/site-packages/sklearn/svm/_classes.py:32: FutureWarning: The default value of `dual` will change from `True` to `'auto'` in 1.5. Set the value of `dual` explicitly to suppress the warning.\n",
      "  warnings.warn(\n",
      "/home/thesis-generator/PyHa/.venv/lib/python3.10/site-packages/sklearn/svm/_classes.py:32: FutureWarning: The default value of `dual` will change from `True` to `'auto'` in 1.5. Set the value of `dual` explicitly to suppress the warning.\n",
      "  warnings.warn(\n",
      "/home/thesis-generator/PyHa/.venv/lib/python3.10/site-packages/sklearn/svm/_classes.py:32: FutureWarning: The default value of `dual` will change from `True` to `'auto'` in 1.5. Set the value of `dual` explicitly to suppress the warning.\n",
      "  warnings.warn(\n"
     ]
    }
   ],
   "source": [
    "exp7_tp_rate = []\n",
    "for label_count in label_counts:\n",
    "    # Creating an ensemble model training set\n",
    "    high_conf_df = poorwill_df.tail(int(label_count*0.25))\n",
    "    low_conf_df = poorwill_df.head(int(label_count*0.25))\n",
    "    train_df = pd.concat([high_conf_df, low_conf_df])\n",
    "    \n",
    "    # Unlabeled dataset full\n",
    "    test_pool_df = pd.concat([poorwill_df, train_df])\n",
    "    test_pool_df = test_pool_df.drop_duplicates(keep=False)\n",
    "    \n",
    "    train_x, train_y = generate_data( train_df, b, a)\n",
    "    models = train_ensemble(train_x, train_y)\n",
    "\n",
    "    test_pool_x, test_pool_y = generate_data(test_pool_df, b, a)\n",
    "    \n",
    "    predictions = ensemble_predict(test_pool_x, models)\n",
    "    test_pool_df[\"ENSEMBLE VOTE\"] = predictions\n",
    "    test_pool_df = test_pool_df.sort_values(\"ENSEMBLE VOTE\")\n",
    "    test_df = test_pool_df.tail(int(label_count * 0.5))\n",
    "\n",
    "    train_tp_count, train_fp_count = tp_fp_counts(train_df)\n",
    "    test_tp_count, test_fp_count = tp_fp_counts(test_df)\n",
    "\n",
    "    cur_tp_count = train_tp_count + test_tp_count\n",
    "    \n",
    "    exp7_tp_rate.append(cur_tp_count/total_tp_count)\n",
    "    "
   ]
  },
  {
   "cell_type": "markdown",
   "id": "c717e0e1-19b7-4b1f-ac1e-eacfed39bcc0",
   "metadata": {},
   "source": [
    "## Experiment 8 - Training Ensemble on High-low Confidence Split and some Random Selections 50-50"
   ]
  },
  {
   "cell_type": "code",
   "execution_count": 14,
   "id": "1537317a-e63a-43e8-afbb-e6afc70c2fbf",
   "metadata": {},
   "outputs": [
    {
     "name": "stderr",
     "output_type": "stream",
     "text": [
      "/home/thesis-generator/PyHa/.venv/lib/python3.10/site-packages/sklearn/svm/_classes.py:32: FutureWarning: The default value of `dual` will change from `True` to `'auto'` in 1.5. Set the value of `dual` explicitly to suppress the warning.\n",
      "  warnings.warn(\n",
      "/home/thesis-generator/PyHa/.venv/lib/python3.10/site-packages/sklearn/svm/_classes.py:32: FutureWarning: The default value of `dual` will change from `True` to `'auto'` in 1.5. Set the value of `dual` explicitly to suppress the warning.\n",
      "  warnings.warn(\n",
      "/home/thesis-generator/PyHa/.venv/lib/python3.10/site-packages/sklearn/svm/_classes.py:32: FutureWarning: The default value of `dual` will change from `True` to `'auto'` in 1.5. Set the value of `dual` explicitly to suppress the warning.\n",
      "  warnings.warn(\n",
      "/home/thesis-generator/PyHa/.venv/lib/python3.10/site-packages/sklearn/svm/_classes.py:32: FutureWarning: The default value of `dual` will change from `True` to `'auto'` in 1.5. Set the value of `dual` explicitly to suppress the warning.\n",
      "  warnings.warn(\n",
      "/home/thesis-generator/PyHa/.venv/lib/python3.10/site-packages/sklearn/svm/_classes.py:32: FutureWarning: The default value of `dual` will change from `True` to `'auto'` in 1.5. Set the value of `dual` explicitly to suppress the warning.\n",
      "  warnings.warn(\n",
      "/home/thesis-generator/PyHa/.venv/lib/python3.10/site-packages/sklearn/svm/_classes.py:32: FutureWarning: The default value of `dual` will change from `True` to `'auto'` in 1.5. Set the value of `dual` explicitly to suppress the warning.\n",
      "  warnings.warn(\n",
      "/home/thesis-generator/PyHa/.venv/lib/python3.10/site-packages/sklearn/svm/_classes.py:32: FutureWarning: The default value of `dual` will change from `True` to `'auto'` in 1.5. Set the value of `dual` explicitly to suppress the warning.\n",
      "  warnings.warn(\n",
      "/home/thesis-generator/PyHa/.venv/lib/python3.10/site-packages/sklearn/svm/_classes.py:32: FutureWarning: The default value of `dual` will change from `True` to `'auto'` in 1.5. Set the value of `dual` explicitly to suppress the warning.\n",
      "  warnings.warn(\n",
      "/home/thesis-generator/PyHa/.venv/lib/python3.10/site-packages/sklearn/svm/_classes.py:32: FutureWarning: The default value of `dual` will change from `True` to `'auto'` in 1.5. Set the value of `dual` explicitly to suppress the warning.\n",
      "  warnings.warn(\n",
      "/home/thesis-generator/PyHa/.venv/lib/python3.10/site-packages/sklearn/svm/_classes.py:32: FutureWarning: The default value of `dual` will change from `True` to `'auto'` in 1.5. Set the value of `dual` explicitly to suppress the warning.\n",
      "  warnings.warn(\n",
      "/home/thesis-generator/PyHa/.venv/lib/python3.10/site-packages/sklearn/svm/_classes.py:32: FutureWarning: The default value of `dual` will change from `True` to `'auto'` in 1.5. Set the value of `dual` explicitly to suppress the warning.\n",
      "  warnings.warn(\n"
     ]
    }
   ],
   "source": [
    "exp8_tp_rate = []\n",
    "for label_count in label_counts:\n",
    "    # Creating an ensemble model training set\n",
    "    \n",
    "    high_conf_df = poorwill_df.tail(int(label_count*0.17))\n",
    "    low_conf_df = poorwill_df.head(int(label_count*0.17))\n",
    "    random_df = pd.concat([poorwill_df, high_conf_df, low_conf_df]).drop_duplicates(keep=False).sample(int(label_count*0.16))\n",
    "    train_df = pd.concat([high_conf_df, low_conf_df, random_df])\n",
    "    \n",
    "    # Unlabeled dataset full\n",
    "    test_pool_df = pd.concat([poorwill_df, train_df])\n",
    "    test_pool_df = test_pool_df.drop_duplicates(keep=False)\n",
    "    \n",
    "    train_x, train_y = generate_data( train_df, b, a)\n",
    "    models = train_ensemble(train_x, train_y)\n",
    "\n",
    "    test_pool_x, test_pool_y = generate_data(test_pool_df, b, a)\n",
    "    \n",
    "    predictions = ensemble_predict(test_pool_x, models)\n",
    "    test_pool_df[\"ENSEMBLE VOTE\"] = predictions\n",
    "    test_pool_df = test_pool_df.sort_values(\"ENSEMBLE VOTE\")\n",
    "    test_df = test_pool_df.tail(int(label_count * 0.5))\n",
    "\n",
    "    train_tp_count, train_fp_count = tp_fp_counts(train_df)\n",
    "    test_tp_count, test_fp_count = tp_fp_counts(test_df)\n",
    "\n",
    "    cur_tp_count = train_tp_count + test_tp_count\n",
    "    \n",
    "    exp8_tp_rate.append(cur_tp_count/total_tp_count)\n",
    "    "
   ]
  },
  {
   "cell_type": "markdown",
   "id": "02c4eb08-f4db-486f-bcf0-acb38ef8ef6c",
   "metadata": {},
   "source": [
    "## Experiment 9 - Training Ensemble on Random Selection 10-90 "
   ]
  },
  {
   "cell_type": "code",
   "execution_count": 15,
   "id": "7b2cbbcd-69a4-464a-886c-5fe554be7bb2",
   "metadata": {},
   "outputs": [
    {
     "name": "stderr",
     "output_type": "stream",
     "text": [
      "/home/thesis-generator/PyHa/.venv/lib/python3.10/site-packages/sklearn/svm/_classes.py:32: FutureWarning: The default value of `dual` will change from `True` to `'auto'` in 1.5. Set the value of `dual` explicitly to suppress the warning.\n",
      "  warnings.warn(\n",
      "/home/thesis-generator/PyHa/.venv/lib/python3.10/site-packages/sklearn/svm/_classes.py:32: FutureWarning: The default value of `dual` will change from `True` to `'auto'` in 1.5. Set the value of `dual` explicitly to suppress the warning.\n",
      "  warnings.warn(\n",
      "/home/thesis-generator/PyHa/.venv/lib/python3.10/site-packages/sklearn/svm/_classes.py:32: FutureWarning: The default value of `dual` will change from `True` to `'auto'` in 1.5. Set the value of `dual` explicitly to suppress the warning.\n",
      "  warnings.warn(\n",
      "/home/thesis-generator/PyHa/.venv/lib/python3.10/site-packages/sklearn/svm/_classes.py:32: FutureWarning: The default value of `dual` will change from `True` to `'auto'` in 1.5. Set the value of `dual` explicitly to suppress the warning.\n",
      "  warnings.warn(\n",
      "/home/thesis-generator/PyHa/.venv/lib/python3.10/site-packages/sklearn/svm/_classes.py:32: FutureWarning: The default value of `dual` will change from `True` to `'auto'` in 1.5. Set the value of `dual` explicitly to suppress the warning.\n",
      "  warnings.warn(\n",
      "/home/thesis-generator/PyHa/.venv/lib/python3.10/site-packages/sklearn/svm/_classes.py:32: FutureWarning: The default value of `dual` will change from `True` to `'auto'` in 1.5. Set the value of `dual` explicitly to suppress the warning.\n",
      "  warnings.warn(\n",
      "/home/thesis-generator/PyHa/.venv/lib/python3.10/site-packages/sklearn/svm/_classes.py:32: FutureWarning: The default value of `dual` will change from `True` to `'auto'` in 1.5. Set the value of `dual` explicitly to suppress the warning.\n",
      "  warnings.warn(\n",
      "/home/thesis-generator/PyHa/.venv/lib/python3.10/site-packages/sklearn/svm/_classes.py:32: FutureWarning: The default value of `dual` will change from `True` to `'auto'` in 1.5. Set the value of `dual` explicitly to suppress the warning.\n",
      "  warnings.warn(\n",
      "/home/thesis-generator/PyHa/.venv/lib/python3.10/site-packages/sklearn/svm/_classes.py:32: FutureWarning: The default value of `dual` will change from `True` to `'auto'` in 1.5. Set the value of `dual` explicitly to suppress the warning.\n",
      "  warnings.warn(\n",
      "/home/thesis-generator/PyHa/.venv/lib/python3.10/site-packages/sklearn/svm/_classes.py:32: FutureWarning: The default value of `dual` will change from `True` to `'auto'` in 1.5. Set the value of `dual` explicitly to suppress the warning.\n",
      "  warnings.warn(\n",
      "/home/thesis-generator/PyHa/.venv/lib/python3.10/site-packages/sklearn/svm/_classes.py:32: FutureWarning: The default value of `dual` will change from `True` to `'auto'` in 1.5. Set the value of `dual` explicitly to suppress the warning.\n",
      "  warnings.warn(\n"
     ]
    }
   ],
   "source": [
    "exp9_tp_rate = []\n",
    "for label_count in label_counts:\n",
    "    # Creating an ensemble model training set\n",
    "    train_df = poorwill_df.sample(int(label_count * 0.1))\n",
    "    # Creating \n",
    "    test_pool_df = pd.concat([poorwill_df, train_df])\n",
    "    test_pool_df = test_pool_df.drop_duplicates(keep=False)\n",
    "    \n",
    "    train_x, train_y = generate_data( train_df, b, a)\n",
    "    models = train_ensemble(train_x, train_y)\n",
    "\n",
    "    test_pool_x, test_pool_y = generate_data(test_pool_df, b, a)\n",
    "    \n",
    "    predictions = ensemble_predict(test_pool_x, models)\n",
    "    test_pool_df[\"ENSEMBLE VOTE\"] = predictions\n",
    "    test_pool_df = test_pool_df.sort_values(\"ENSEMBLE VOTE\")\n",
    "    test_df = test_pool_df.tail(int(label_count * 0.9))\n",
    "\n",
    "    train_tp_count, train_fp_count = tp_fp_counts(train_df)\n",
    "    test_tp_count, test_fp_count = tp_fp_counts(test_df)\n",
    "\n",
    "    cur_tp_count = train_tp_count + test_tp_count\n",
    "    \n",
    "    exp9_tp_rate.append(cur_tp_count/total_tp_count)\n",
    "    "
   ]
  },
  {
   "cell_type": "markdown",
   "id": "eda000df-cdd1-4590-8d85-303dabfbcade",
   "metadata": {},
   "source": [
    "## Experiment 10 - Training Ensemble on High-low Confidence Split 10-90"
   ]
  },
  {
   "cell_type": "code",
   "execution_count": 20,
   "id": "1f203097-7867-436f-a904-26c97cdb9c2d",
   "metadata": {},
   "outputs": [
    {
     "name": "stderr",
     "output_type": "stream",
     "text": [
      "/home/thesis-generator/PyHa/.venv/lib/python3.10/site-packages/sklearn/svm/_classes.py:32: FutureWarning: The default value of `dual` will change from `True` to `'auto'` in 1.5. Set the value of `dual` explicitly to suppress the warning.\n",
      "  warnings.warn(\n",
      "/home/thesis-generator/PyHa/.venv/lib/python3.10/site-packages/sklearn/svm/_classes.py:32: FutureWarning: The default value of `dual` will change from `True` to `'auto'` in 1.5. Set the value of `dual` explicitly to suppress the warning.\n",
      "  warnings.warn(\n",
      "/home/thesis-generator/PyHa/.venv/lib/python3.10/site-packages/sklearn/svm/_classes.py:32: FutureWarning: The default value of `dual` will change from `True` to `'auto'` in 1.5. Set the value of `dual` explicitly to suppress the warning.\n",
      "  warnings.warn(\n",
      "/home/thesis-generator/PyHa/.venv/lib/python3.10/site-packages/sklearn/svm/_classes.py:32: FutureWarning: The default value of `dual` will change from `True` to `'auto'` in 1.5. Set the value of `dual` explicitly to suppress the warning.\n",
      "  warnings.warn(\n",
      "/home/thesis-generator/PyHa/.venv/lib/python3.10/site-packages/sklearn/svm/_classes.py:32: FutureWarning: The default value of `dual` will change from `True` to `'auto'` in 1.5. Set the value of `dual` explicitly to suppress the warning.\n",
      "  warnings.warn(\n",
      "/home/thesis-generator/PyHa/.venv/lib/python3.10/site-packages/sklearn/svm/_classes.py:32: FutureWarning: The default value of `dual` will change from `True` to `'auto'` in 1.5. Set the value of `dual` explicitly to suppress the warning.\n",
      "  warnings.warn(\n",
      "/home/thesis-generator/PyHa/.venv/lib/python3.10/site-packages/sklearn/svm/_classes.py:32: FutureWarning: The default value of `dual` will change from `True` to `'auto'` in 1.5. Set the value of `dual` explicitly to suppress the warning.\n",
      "  warnings.warn(\n",
      "/home/thesis-generator/PyHa/.venv/lib/python3.10/site-packages/sklearn/svm/_classes.py:32: FutureWarning: The default value of `dual` will change from `True` to `'auto'` in 1.5. Set the value of `dual` explicitly to suppress the warning.\n",
      "  warnings.warn(\n",
      "/home/thesis-generator/PyHa/.venv/lib/python3.10/site-packages/sklearn/svm/_classes.py:32: FutureWarning: The default value of `dual` will change from `True` to `'auto'` in 1.5. Set the value of `dual` explicitly to suppress the warning.\n",
      "  warnings.warn(\n",
      "/home/thesis-generator/PyHa/.venv/lib/python3.10/site-packages/sklearn/svm/_classes.py:32: FutureWarning: The default value of `dual` will change from `True` to `'auto'` in 1.5. Set the value of `dual` explicitly to suppress the warning.\n",
      "  warnings.warn(\n",
      "/home/thesis-generator/PyHa/.venv/lib/python3.10/site-packages/sklearn/svm/_classes.py:32: FutureWarning: The default value of `dual` will change from `True` to `'auto'` in 1.5. Set the value of `dual` explicitly to suppress the warning.\n",
      "  warnings.warn(\n"
     ]
    }
   ],
   "source": [
    "exp10_tp_rate = []\n",
    "for label_count in label_counts:\n",
    "    # Creating an ensemble model training set\n",
    "    high_conf_df = poorwill_df.tail(int(label_count*0.05))\n",
    "    low_conf_df = poorwill_df.head(int(label_count*0.05))\n",
    "    train_df = pd.concat([high_conf_df, low_conf_df])\n",
    "    \n",
    "    # Unlabeled dataset full\n",
    "    test_pool_df = pd.concat([poorwill_df, train_df])\n",
    "    test_pool_df = test_pool_df.drop_duplicates(keep=False)\n",
    "    \n",
    "    train_x, train_y = generate_data( train_df, b, a)\n",
    "    models = train_ensemble(train_x, train_y)\n",
    "\n",
    "    test_pool_x, test_pool_y = generate_data(test_pool_df, b, a)\n",
    "    \n",
    "    predictions = ensemble_predict(test_pool_x, models)\n",
    "    test_pool_df[\"ENSEMBLE VOTE\"] = predictions\n",
    "    test_pool_df = test_pool_df.sort_values(\"ENSEMBLE VOTE\")\n",
    "    test_df = test_pool_df.tail(int(label_count * 0.9))\n",
    "\n",
    "    train_tp_count, train_fp_count = tp_fp_counts(train_df)\n",
    "    test_tp_count, test_fp_count = tp_fp_counts(test_df)\n",
    "\n",
    "    cur_tp_count = train_tp_count + test_tp_count\n",
    "    \n",
    "    exp10_tp_rate.append(cur_tp_count/total_tp_count)\n",
    "    "
   ]
  },
  {
   "cell_type": "markdown",
   "id": "d4401a7b-106a-48ac-bf59-3e44b25b1b48",
   "metadata": {},
   "source": [
    "## Experiment 11 - Training Ensemble on High-low Confidence Split and some Random Selections 10-90"
   ]
  },
  {
   "cell_type": "code",
   "execution_count": 27,
   "id": "064a16d5-f749-4b8e-a5c3-f60c1d3a1185",
   "metadata": {},
   "outputs": [
    {
     "name": "stderr",
     "output_type": "stream",
     "text": [
      "/home/thesis-generator/PyHa/.venv/lib/python3.10/site-packages/sklearn/svm/_classes.py:32: FutureWarning: The default value of `dual` will change from `True` to `'auto'` in 1.5. Set the value of `dual` explicitly to suppress the warning.\n",
      "  warnings.warn(\n",
      "/home/thesis-generator/PyHa/.venv/lib/python3.10/site-packages/sklearn/svm/_classes.py:32: FutureWarning: The default value of `dual` will change from `True` to `'auto'` in 1.5. Set the value of `dual` explicitly to suppress the warning.\n",
      "  warnings.warn(\n",
      "/home/thesis-generator/PyHa/.venv/lib/python3.10/site-packages/sklearn/svm/_classes.py:32: FutureWarning: The default value of `dual` will change from `True` to `'auto'` in 1.5. Set the value of `dual` explicitly to suppress the warning.\n",
      "  warnings.warn(\n",
      "/home/thesis-generator/PyHa/.venv/lib/python3.10/site-packages/sklearn/svm/_classes.py:32: FutureWarning: The default value of `dual` will change from `True` to `'auto'` in 1.5. Set the value of `dual` explicitly to suppress the warning.\n",
      "  warnings.warn(\n",
      "/home/thesis-generator/PyHa/.venv/lib/python3.10/site-packages/sklearn/svm/_classes.py:32: FutureWarning: The default value of `dual` will change from `True` to `'auto'` in 1.5. Set the value of `dual` explicitly to suppress the warning.\n",
      "  warnings.warn(\n",
      "/home/thesis-generator/PyHa/.venv/lib/python3.10/site-packages/sklearn/svm/_classes.py:32: FutureWarning: The default value of `dual` will change from `True` to `'auto'` in 1.5. Set the value of `dual` explicitly to suppress the warning.\n",
      "  warnings.warn(\n",
      "/home/thesis-generator/PyHa/.venv/lib/python3.10/site-packages/sklearn/svm/_classes.py:32: FutureWarning: The default value of `dual` will change from `True` to `'auto'` in 1.5. Set the value of `dual` explicitly to suppress the warning.\n",
      "  warnings.warn(\n",
      "/home/thesis-generator/PyHa/.venv/lib/python3.10/site-packages/sklearn/svm/_classes.py:32: FutureWarning: The default value of `dual` will change from `True` to `'auto'` in 1.5. Set the value of `dual` explicitly to suppress the warning.\n",
      "  warnings.warn(\n",
      "/home/thesis-generator/PyHa/.venv/lib/python3.10/site-packages/sklearn/svm/_classes.py:32: FutureWarning: The default value of `dual` will change from `True` to `'auto'` in 1.5. Set the value of `dual` explicitly to suppress the warning.\n",
      "  warnings.warn(\n",
      "/home/thesis-generator/PyHa/.venv/lib/python3.10/site-packages/sklearn/svm/_classes.py:32: FutureWarning: The default value of `dual` will change from `True` to `'auto'` in 1.5. Set the value of `dual` explicitly to suppress the warning.\n",
      "  warnings.warn(\n",
      "/home/thesis-generator/PyHa/.venv/lib/python3.10/site-packages/sklearn/svm/_classes.py:32: FutureWarning: The default value of `dual` will change from `True` to `'auto'` in 1.5. Set the value of `dual` explicitly to suppress the warning.\n",
      "  warnings.warn(\n"
     ]
    }
   ],
   "source": [
    "exp11_tp_rate = []\n",
    "for label_count in label_counts:\n",
    "    # Creating an ensemble model training set\n",
    "    \n",
    "    high_conf_df = poorwill_df.tail(int(label_count*0.035))\n",
    "    low_conf_df = poorwill_df.head(int(label_count*0.035))\n",
    "    random_df = pd.concat([poorwill_df, high_conf_df, low_conf_df]).drop_duplicates(keep=False).sample(int(label_count*0.03))\n",
    "    train_df = pd.concat([high_conf_df, low_conf_df, random_df])\n",
    "    \n",
    "    # Unlabeled dataset full\n",
    "    test_pool_df = pd.concat([poorwill_df, train_df])\n",
    "    test_pool_df = test_pool_df.drop_duplicates(keep=False)\n",
    "    \n",
    "    train_x, train_y = generate_data( train_df, b, a)\n",
    "    models = train_ensemble(train_x, train_y)\n",
    "\n",
    "    test_pool_x, test_pool_y = generate_data(test_pool_df, b, a)\n",
    "    \n",
    "    predictions = ensemble_predict(test_pool_x, models)\n",
    "    test_pool_df[\"ENSEMBLE VOTE\"] = predictions\n",
    "    test_pool_df = test_pool_df.sort_values(\"ENSEMBLE VOTE\")\n",
    "    test_df = test_pool_df.tail(int(label_count * 0.9))\n",
    "\n",
    "    train_tp_count, train_fp_count = tp_fp_counts(train_df)\n",
    "    test_tp_count, test_fp_count = tp_fp_counts(test_df)\n",
    "\n",
    "    cur_tp_count = train_tp_count + test_tp_count\n",
    "    \n",
    "    exp11_tp_rate.append(cur_tp_count/total_tp_count)\n",
    "    "
   ]
  },
  {
   "cell_type": "markdown",
   "id": "8785f0fc-a796-405a-ae8c-dfc88a09bdeb",
   "metadata": {},
   "source": [
    "## Experiment 12 - Training Ensemble on Random Selection 30-70 "
   ]
  },
  {
   "cell_type": "code",
   "execution_count": 22,
   "id": "49a78913-9578-41f0-aa51-c54dada57ea8",
   "metadata": {},
   "outputs": [
    {
     "name": "stderr",
     "output_type": "stream",
     "text": [
      "/home/thesis-generator/PyHa/.venv/lib/python3.10/site-packages/sklearn/svm/_classes.py:32: FutureWarning: The default value of `dual` will change from `True` to `'auto'` in 1.5. Set the value of `dual` explicitly to suppress the warning.\n",
      "  warnings.warn(\n",
      "/home/thesis-generator/PyHa/.venv/lib/python3.10/site-packages/sklearn/svm/_classes.py:32: FutureWarning: The default value of `dual` will change from `True` to `'auto'` in 1.5. Set the value of `dual` explicitly to suppress the warning.\n",
      "  warnings.warn(\n",
      "/home/thesis-generator/PyHa/.venv/lib/python3.10/site-packages/sklearn/svm/_classes.py:32: FutureWarning: The default value of `dual` will change from `True` to `'auto'` in 1.5. Set the value of `dual` explicitly to suppress the warning.\n",
      "  warnings.warn(\n",
      "/home/thesis-generator/PyHa/.venv/lib/python3.10/site-packages/sklearn/svm/_classes.py:32: FutureWarning: The default value of `dual` will change from `True` to `'auto'` in 1.5. Set the value of `dual` explicitly to suppress the warning.\n",
      "  warnings.warn(\n",
      "/home/thesis-generator/PyHa/.venv/lib/python3.10/site-packages/sklearn/svm/_classes.py:32: FutureWarning: The default value of `dual` will change from `True` to `'auto'` in 1.5. Set the value of `dual` explicitly to suppress the warning.\n",
      "  warnings.warn(\n",
      "/home/thesis-generator/PyHa/.venv/lib/python3.10/site-packages/sklearn/svm/_classes.py:32: FutureWarning: The default value of `dual` will change from `True` to `'auto'` in 1.5. Set the value of `dual` explicitly to suppress the warning.\n",
      "  warnings.warn(\n",
      "/home/thesis-generator/PyHa/.venv/lib/python3.10/site-packages/sklearn/svm/_classes.py:32: FutureWarning: The default value of `dual` will change from `True` to `'auto'` in 1.5. Set the value of `dual` explicitly to suppress the warning.\n",
      "  warnings.warn(\n",
      "/home/thesis-generator/PyHa/.venv/lib/python3.10/site-packages/sklearn/svm/_classes.py:32: FutureWarning: The default value of `dual` will change from `True` to `'auto'` in 1.5. Set the value of `dual` explicitly to suppress the warning.\n",
      "  warnings.warn(\n",
      "/home/thesis-generator/PyHa/.venv/lib/python3.10/site-packages/sklearn/svm/_classes.py:32: FutureWarning: The default value of `dual` will change from `True` to `'auto'` in 1.5. Set the value of `dual` explicitly to suppress the warning.\n",
      "  warnings.warn(\n",
      "/home/thesis-generator/PyHa/.venv/lib/python3.10/site-packages/sklearn/svm/_classes.py:32: FutureWarning: The default value of `dual` will change from `True` to `'auto'` in 1.5. Set the value of `dual` explicitly to suppress the warning.\n",
      "  warnings.warn(\n",
      "/home/thesis-generator/PyHa/.venv/lib/python3.10/site-packages/sklearn/svm/_classes.py:32: FutureWarning: The default value of `dual` will change from `True` to `'auto'` in 1.5. Set the value of `dual` explicitly to suppress the warning.\n",
      "  warnings.warn(\n"
     ]
    }
   ],
   "source": [
    "exp12_tp_rate = []\n",
    "for label_count in label_counts:\n",
    "    # Creating an ensemble model training set\n",
    "    train_df = poorwill_df.sample(int(label_count * 0.3))\n",
    "    # Creating \n",
    "    test_pool_df = pd.concat([poorwill_df, train_df])\n",
    "    test_pool_df = test_pool_df.drop_duplicates(keep=False)\n",
    "    \n",
    "    train_x, train_y = generate_data( train_df, b, a)\n",
    "    models = train_ensemble(train_x, train_y)\n",
    "\n",
    "    test_pool_x, test_pool_y = generate_data(test_pool_df, b, a)\n",
    "    \n",
    "    predictions = ensemble_predict(test_pool_x, models)\n",
    "    test_pool_df[\"ENSEMBLE VOTE\"] = predictions\n",
    "    test_pool_df = test_pool_df.sort_values(\"ENSEMBLE VOTE\")\n",
    "    test_df = test_pool_df.tail(int(label_count * 0.7))\n",
    "\n",
    "    train_tp_count, train_fp_count = tp_fp_counts(train_df)\n",
    "    test_tp_count, test_fp_count = tp_fp_counts(test_df)\n",
    "\n",
    "    cur_tp_count = train_tp_count + test_tp_count\n",
    "    \n",
    "    exp12_tp_rate.append(cur_tp_count/total_tp_count)\n",
    "    "
   ]
  },
  {
   "cell_type": "markdown",
   "id": "8adaa986-16f2-47e8-bb3e-1101786b4409",
   "metadata": {},
   "source": [
    "## Experiment 13 - Training Ensemble on High-low Confidence Split 30-70"
   ]
  },
  {
   "cell_type": "code",
   "execution_count": 23,
   "id": "f5bbe576-45d8-44bf-902d-dac8d120bd56",
   "metadata": {},
   "outputs": [
    {
     "name": "stderr",
     "output_type": "stream",
     "text": [
      "/home/thesis-generator/PyHa/.venv/lib/python3.10/site-packages/sklearn/svm/_classes.py:32: FutureWarning: The default value of `dual` will change from `True` to `'auto'` in 1.5. Set the value of `dual` explicitly to suppress the warning.\n",
      "  warnings.warn(\n",
      "/home/thesis-generator/PyHa/.venv/lib/python3.10/site-packages/sklearn/svm/_classes.py:32: FutureWarning: The default value of `dual` will change from `True` to `'auto'` in 1.5. Set the value of `dual` explicitly to suppress the warning.\n",
      "  warnings.warn(\n",
      "/home/thesis-generator/PyHa/.venv/lib/python3.10/site-packages/sklearn/svm/_classes.py:32: FutureWarning: The default value of `dual` will change from `True` to `'auto'` in 1.5. Set the value of `dual` explicitly to suppress the warning.\n",
      "  warnings.warn(\n",
      "/home/thesis-generator/PyHa/.venv/lib/python3.10/site-packages/sklearn/svm/_classes.py:32: FutureWarning: The default value of `dual` will change from `True` to `'auto'` in 1.5. Set the value of `dual` explicitly to suppress the warning.\n",
      "  warnings.warn(\n",
      "/home/thesis-generator/PyHa/.venv/lib/python3.10/site-packages/sklearn/svm/_classes.py:32: FutureWarning: The default value of `dual` will change from `True` to `'auto'` in 1.5. Set the value of `dual` explicitly to suppress the warning.\n",
      "  warnings.warn(\n",
      "/home/thesis-generator/PyHa/.venv/lib/python3.10/site-packages/sklearn/svm/_classes.py:32: FutureWarning: The default value of `dual` will change from `True` to `'auto'` in 1.5. Set the value of `dual` explicitly to suppress the warning.\n",
      "  warnings.warn(\n",
      "/home/thesis-generator/PyHa/.venv/lib/python3.10/site-packages/sklearn/svm/_classes.py:32: FutureWarning: The default value of `dual` will change from `True` to `'auto'` in 1.5. Set the value of `dual` explicitly to suppress the warning.\n",
      "  warnings.warn(\n",
      "/home/thesis-generator/PyHa/.venv/lib/python3.10/site-packages/sklearn/svm/_classes.py:32: FutureWarning: The default value of `dual` will change from `True` to `'auto'` in 1.5. Set the value of `dual` explicitly to suppress the warning.\n",
      "  warnings.warn(\n",
      "/home/thesis-generator/PyHa/.venv/lib/python3.10/site-packages/sklearn/svm/_classes.py:32: FutureWarning: The default value of `dual` will change from `True` to `'auto'` in 1.5. Set the value of `dual` explicitly to suppress the warning.\n",
      "  warnings.warn(\n",
      "/home/thesis-generator/PyHa/.venv/lib/python3.10/site-packages/sklearn/svm/_classes.py:32: FutureWarning: The default value of `dual` will change from `True` to `'auto'` in 1.5. Set the value of `dual` explicitly to suppress the warning.\n",
      "  warnings.warn(\n",
      "/home/thesis-generator/PyHa/.venv/lib/python3.10/site-packages/sklearn/svm/_classes.py:32: FutureWarning: The default value of `dual` will change from `True` to `'auto'` in 1.5. Set the value of `dual` explicitly to suppress the warning.\n",
      "  warnings.warn(\n"
     ]
    }
   ],
   "source": [
    "exp13_tp_rate = []\n",
    "for label_count in label_counts:\n",
    "    # Creating an ensemble model training set\n",
    "    high_conf_df = poorwill_df.tail(int(label_count*0.15))\n",
    "    low_conf_df = poorwill_df.head(int(label_count*0.15))\n",
    "    train_df = pd.concat([high_conf_df, low_conf_df])\n",
    "    \n",
    "    # Unlabeled dataset full\n",
    "    test_pool_df = pd.concat([poorwill_df, train_df])\n",
    "    test_pool_df = test_pool_df.drop_duplicates(keep=False)\n",
    "    \n",
    "    train_x, train_y = generate_data( train_df, b, a)\n",
    "    models = train_ensemble(train_x, train_y)\n",
    "\n",
    "    test_pool_x, test_pool_y = generate_data(test_pool_df, b, a)\n",
    "    \n",
    "    predictions = ensemble_predict(test_pool_x, models)\n",
    "    test_pool_df[\"ENSEMBLE VOTE\"] = predictions\n",
    "    test_pool_df = test_pool_df.sort_values(\"ENSEMBLE VOTE\")\n",
    "    test_df = test_pool_df.tail(int(label_count * 0.7))\n",
    "\n",
    "    train_tp_count, train_fp_count = tp_fp_counts(train_df)\n",
    "    test_tp_count, test_fp_count = tp_fp_counts(test_df)\n",
    "\n",
    "    cur_tp_count = train_tp_count + test_tp_count\n",
    "    \n",
    "    exp13_tp_rate.append(cur_tp_count/total_tp_count)\n",
    "    "
   ]
  },
  {
   "cell_type": "markdown",
   "id": "ce2e0407-2356-411f-ad1c-ad7697a2bb79",
   "metadata": {},
   "source": [
    "## Experiment 14 - Training Ensemble on High-low Confidence Split and some Random Selections 30-70"
   ]
  },
  {
   "cell_type": "code",
   "execution_count": 25,
   "id": "4c5b6bcd-e83e-47aa-94f0-38a863cbc216",
   "metadata": {},
   "outputs": [
    {
     "name": "stderr",
     "output_type": "stream",
     "text": [
      "/home/thesis-generator/PyHa/.venv/lib/python3.10/site-packages/sklearn/svm/_classes.py:32: FutureWarning: The default value of `dual` will change from `True` to `'auto'` in 1.5. Set the value of `dual` explicitly to suppress the warning.\n",
      "  warnings.warn(\n",
      "/home/thesis-generator/PyHa/.venv/lib/python3.10/site-packages/sklearn/svm/_classes.py:32: FutureWarning: The default value of `dual` will change from `True` to `'auto'` in 1.5. Set the value of `dual` explicitly to suppress the warning.\n",
      "  warnings.warn(\n",
      "/home/thesis-generator/PyHa/.venv/lib/python3.10/site-packages/sklearn/svm/_classes.py:32: FutureWarning: The default value of `dual` will change from `True` to `'auto'` in 1.5. Set the value of `dual` explicitly to suppress the warning.\n",
      "  warnings.warn(\n",
      "/home/thesis-generator/PyHa/.venv/lib/python3.10/site-packages/sklearn/svm/_classes.py:32: FutureWarning: The default value of `dual` will change from `True` to `'auto'` in 1.5. Set the value of `dual` explicitly to suppress the warning.\n",
      "  warnings.warn(\n",
      "/home/thesis-generator/PyHa/.venv/lib/python3.10/site-packages/sklearn/svm/_classes.py:32: FutureWarning: The default value of `dual` will change from `True` to `'auto'` in 1.5. Set the value of `dual` explicitly to suppress the warning.\n",
      "  warnings.warn(\n",
      "/home/thesis-generator/PyHa/.venv/lib/python3.10/site-packages/sklearn/svm/_classes.py:32: FutureWarning: The default value of `dual` will change from `True` to `'auto'` in 1.5. Set the value of `dual` explicitly to suppress the warning.\n",
      "  warnings.warn(\n",
      "/home/thesis-generator/PyHa/.venv/lib/python3.10/site-packages/sklearn/svm/_classes.py:32: FutureWarning: The default value of `dual` will change from `True` to `'auto'` in 1.5. Set the value of `dual` explicitly to suppress the warning.\n",
      "  warnings.warn(\n",
      "/home/thesis-generator/PyHa/.venv/lib/python3.10/site-packages/sklearn/svm/_classes.py:32: FutureWarning: The default value of `dual` will change from `True` to `'auto'` in 1.5. Set the value of `dual` explicitly to suppress the warning.\n",
      "  warnings.warn(\n",
      "/home/thesis-generator/PyHa/.venv/lib/python3.10/site-packages/sklearn/svm/_classes.py:32: FutureWarning: The default value of `dual` will change from `True` to `'auto'` in 1.5. Set the value of `dual` explicitly to suppress the warning.\n",
      "  warnings.warn(\n",
      "/home/thesis-generator/PyHa/.venv/lib/python3.10/site-packages/sklearn/svm/_classes.py:32: FutureWarning: The default value of `dual` will change from `True` to `'auto'` in 1.5. Set the value of `dual` explicitly to suppress the warning.\n",
      "  warnings.warn(\n",
      "/home/thesis-generator/PyHa/.venv/lib/python3.10/site-packages/sklearn/svm/_classes.py:32: FutureWarning: The default value of `dual` will change from `True` to `'auto'` in 1.5. Set the value of `dual` explicitly to suppress the warning.\n",
      "  warnings.warn(\n"
     ]
    }
   ],
   "source": [
    "exp14_tp_rate = []\n",
    "for label_count in label_counts:\n",
    "    # Creating an ensemble model training set\n",
    "    \n",
    "    high_conf_df = poorwill_df.tail(int(label_count*0.1))\n",
    "    low_conf_df = poorwill_df.head(int(label_count*0.1))\n",
    "    random_df = pd.concat([poorwill_df, high_conf_df, low_conf_df]).drop_duplicates(keep=False).sample(int(label_count*0.1))\n",
    "    train_df = pd.concat([high_conf_df, low_conf_df, random_df])\n",
    "    \n",
    "    # Unlabeled dataset full\n",
    "    test_pool_df = pd.concat([poorwill_df, train_df])\n",
    "    test_pool_df = test_pool_df.drop_duplicates(keep=False)\n",
    "    \n",
    "    train_x, train_y = generate_data( train_df, b, a)\n",
    "    models = train_ensemble(train_x, train_y)\n",
    "\n",
    "    test_pool_x, test_pool_y = generate_data(test_pool_df, b, a)\n",
    "    \n",
    "    predictions = ensemble_predict(test_pool_x, models)\n",
    "    test_pool_df[\"ENSEMBLE VOTE\"] = predictions\n",
    "    test_pool_df = test_pool_df.sort_values(\"ENSEMBLE VOTE\")\n",
    "    test_df = test_pool_df.tail(int(label_count * 0.7))\n",
    "\n",
    "    train_tp_count, train_fp_count = tp_fp_counts(train_df)\n",
    "    test_tp_count, test_fp_count = tp_fp_counts(test_df)\n",
    "\n",
    "    cur_tp_count = train_tp_count + test_tp_count\n",
    "    \n",
    "    exp14_tp_rate.append(cur_tp_count/total_tp_count)\n",
    "    "
   ]
  },
  {
   "cell_type": "code",
   "execution_count": 29,
   "id": "c26c74f8-3fe2-494d-9714-a7d80d027af8",
   "metadata": {},
   "outputs": [
    {
     "data": {
      "text/plain": [
       "Text(0.5, 1.0, 'True Positives Identified vs. Amount of Data Labeled\\n Species: Common Poorwill \\n n=677')"
      ]
     },
     "execution_count": 29,
     "metadata": {},
     "output_type": "execute_result"
    },
    {
     "data": {
      "image/png": "[encoded data removed]",
      "text/plain": [
       "<Figure size 640x480 with 1 Axes>"
      ]
     },
     "metadata": {},
     "output_type": "display_data"
    }
   ],
   "source": [
    "## TODO - Add in \"ideal\"\n",
    "percent_counts = np.array(label_counts)/template_output_count\n",
    "plt.figure()\n",
    "plt.plot(percent_counts, exp1_tp_rate, label=\"exp1\")\n",
    "plt.plot(percent_counts, exp2_tp_rate, label=\"exp2\")\n",
    "# 20-80\n",
    "plt.plot(percent_counts, exp3_tp_rate, label=\"exp3\")\n",
    "plt.plot(percent_counts, exp4_tp_rate, label=\"exp4\")\n",
    "plt.plot(percent_counts, exp5_tp_rate, label=\"exp5\")\n",
    "# 50-50\n",
    "#plt.plot(percent_counts, exp6_tp_rate, label=\"exp6\")\n",
    "#plt.plot(percent_counts, exp7_tp_rate, label=\"exp7\")\n",
    "#plt.plot(percent_counts, exp8_tp_rate, label=\"exp8\")\n",
    "# 10-90\n",
    "#plt.plot(percent_counts, exp9_tp_rate, label=\"exp9\")\n",
    "#plt.plot(percent_counts, exp10_tp_rate, label=\"exp10\")\n",
    "#plt.plot(percent_counts, exp11_tp_rate, label=\"exp11\")\n",
    "# 30-70\n",
    "plt.plot(percent_counts, exp12_tp_rate, label=\"exp12\")\n",
    "plt.plot(percent_counts, exp13_tp_rate, label=\"exp13\")\n",
    "plt.plot(percent_counts, exp14_tp_rate, label=\"exp14\")\n",
    "plt.legend()\n",
    "plt.ylabel(\"% of True Positives Identified\")\n",
    "plt.xlabel(\"% of Dataset Labeled\")\n",
    "plt.title(\"True Positives Identified vs. Amount of Data Labeled\\n Species: Common Poorwill \\n n=677\")"
   ]
  },
  {
   "cell_type": "code",
   "execution_count": null,
   "id": "f68f2665-12ba-4074-a91c-3feadc6b4d89",
   "metadata": {},
   "outputs": [],
   "source": []
  }
 ],
 "metadata": {
  "kernelspec": {
   "display_name": "Python 3 (ipykernel)",
   "language": "python",
   "name": "python3"
  },
  "language_info": {
   "codemirror_mode": {
    "name": "ipython",
    "version": 3
   },
   "file_extension": ".py",
   "mimetype": "text/x-python",
   "name": "python",
   "nbconvert_exporter": "python",
   "pygments_lexer": "ipython3",
   "version": "3.10.12"
  }
 },
 "nbformat": 4,
 "nbformat_minor": 5
}
