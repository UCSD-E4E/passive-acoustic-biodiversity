{
 "cells": [
  {
   "cell_type": "markdown",
   "metadata": {},
   "source": [
    "# DSP Scaling Package\n",
    "This notebook corresponds to dsp_scaling.py and explains how to use the main functions within the file. First, we'll import a few libraries for better visualization and interaction with the results. Run all code blocks to see spectrograms and listen to audio samples. File is too large otherwise."
   ]
  },
  {
   "cell_type": "code",
   "execution_count": null,
   "metadata": {},
   "outputs": [],
   "source": [
    "import os\n",
    "import IPython.display as ipy\n",
    "import scipy.io.wavfile as wav\n",
    "import dsp_scaling as scale\n",
    "from imp import reload\n",
    "reload(scale)"
   ]
  },
  {
   "cell_type": "markdown",
   "metadata": {},
   "source": [
    "---\n",
    "# Time Stretching\n",
    "There are three functions in this category. Each function is built for a different processing need:\n",
    "1. Scaling an audio sample inline without messing with files\n",
    "2. Scaling a specified file, where you have the option to save the output\n",
    "3. Scaling an entire folder for when you want to time scale multiple files in one command"
   ]
  },
  {
   "cell_type": "markdown",
   "metadata": {},
   "source": [
    "## Time Stretching an Audio Sample (1)\n",
    "Let's assume that in some workflow, you have read in and opened a .wav file."
   ]
  },
  {
   "cell_type": "code",
   "execution_count": null,
   "metadata": {},
   "outputs": [],
   "source": [
    "filepath = os.path.join('files', '20190611_202000.WAV')\n",
    "Fs, audio = wav.read(filepath)"
   ]
  },
  {
   "cell_type": "markdown",
   "metadata": {},
   "source": [
    "With the file open now as an array with sampling rate Fs, we can time stretch it. Below, I've chosen to speed it up by a factor of 2. You can see the input and output spectrograms below as well as listen to the original and scaled version.\n",
    "\n",
    "*(Note: Sometimes the incorrect duration is shown, but if you listen all the way through, the original is one minute long and the scaled is half a minute long, as confirmed by the spectrogram as well.)*"
   ]
  },
  {
   "cell_type": "code",
   "execution_count": null,
   "metadata": {},
   "outputs": [],
   "source": [
    "stretchedAudio = scale.time_stretch(2.0, audio)\n",
    "scale.plot_specgrams(audio, stretchedAudio, Fs)"
   ]
  },
  {
   "cell_type": "code",
   "execution_count": null,
   "metadata": {},
   "outputs": [],
   "source": [
    "ipy.Audio(audio, rate=Fs)"
   ]
  },
  {
   "cell_type": "code",
   "execution_count": null,
   "metadata": {},
   "outputs": [],
   "source": [
    "ipy.Audio(stretchedAudio, rate=Fs)"
   ]
  },
  {
   "cell_type": "markdown",
   "metadata": {},
   "source": [
    "## Time Stretching a Single File (2)\n",
    "We can also directly time stretch a file with the command below. The spectrograms and audio clips won't be regenerated since they are the same as above. The parameters for this function are:\n",
    "- factor\n",
    "- filename\n",
    "- folder\n",
    "- out\n",
    "- write\n",
    "\n",
    "where folder, out, and write are optional. For files in the current working directory, there is no need to specify a folder. The 'write' option is set to False by default, but it can be enabled along with the output file name. Below, we will demonstrate how to time stretch a file with and without saving."
   ]
  },
  {
   "cell_type": "code",
   "execution_count": null,
   "metadata": {},
   "outputs": [],
   "source": [
    "stretchedAudio = scale.time_stretch_file(2.0, '20190611_202000.WAV', folder='files')"
   ]
  },
  {
   "cell_type": "code",
   "execution_count": null,
   "metadata": {},
   "outputs": [],
   "source": [
    "scale.time_stretch_file(2.0, '20190611_202000.WAV', folder='files', out='timeStretched.WAV', write=True)\n",
    "Fs, data = wav.read('timeStretched.WAV')\n",
    "ipy.Audio(data, rate=Fs)"
   ]
  },
  {
   "cell_type": "markdown",
   "metadata": {},
   "source": [
    "## Time Stretching All Files Within a Folder (3)\n",
    "Lastly, we can time stretch all valid .wav files within a specified folder. This function will create a new directory to save all the scaled files. This output directory name can be specified, but it is 'stretchedDir' by default."
   ]
  },
  {
   "cell_type": "code",
   "execution_count": null,
   "metadata": {},
   "outputs": [],
   "source": [
    "print('Before Function Call: ', os.path.exists('timeStretchedFiles'))\n",
    "scale.time_stretch_folder(2.0, 'files', outDir='timeStretchedFiles')\n",
    "print('After Function Call: ', os.path.exists('timeStretchedFiles'))"
   ]
  },
  {
   "cell_type": "markdown",
   "metadata": {},
   "source": [
    "---\n",
    "# Pitch Shifting\n",
    "There are four functions in this category. Each function is built for a different processing need:\n",
    "1. Scaling an audio sample inline without messing with files\n",
    "2. Scaling a specified file, where you have the option to save the output\n",
    "3. Scaling an entire folder for when you want to time scale multiple files in one command\n",
    "4. Isolating a specified band and shifting it into the human hearing range (for ultrasonic vocalizations)"
   ]
  },
  {
   "cell_type": "markdown",
   "metadata": {},
   "source": [
    "## Pitch Shifting an Audio Sample (1)\n",
    "The first three functions of pitch shifting are very similar to the time stretching variant. Let's assume that in some workflow, you have read in and opened a .wav file."
   ]
  },
  {
   "cell_type": "code",
   "execution_count": null,
   "metadata": {},
   "outputs": [],
   "source": [
    "filepath = os.path.join('files', '20190611_202000.WAV')\n",
    "Fs, audio = wav.read(filepath)"
   ]
  },
  {
   "cell_type": "markdown",
   "metadata": {},
   "source": [
    "With the file open now as an array with sampling rate Fs, we can pitch shift it. Below, I've chosen the 'center' origFreq to be 15kHz and we want it brought down to the targetFreq of 4kHz.\n",
    "\n",
    "*(Note: Sometimes the incorrect duration is shown, but if you listen all the way through, the original is one minute long and the scaled is half a minute long, as confirmed by the spectrogram as well.)*"
   ]
  },
  {
   "cell_type": "code",
   "execution_count": null,
   "metadata": {},
   "outputs": [],
   "source": [
    "shiftedAudio = scale.pitch_shift(4000, 15000, Fs, audio)\n",
    "scale.plot_specgrams(audio, shiftedAudio, Fs)"
   ]
  },
  {
   "cell_type": "code",
   "execution_count": null,
   "metadata": {},
   "outputs": [],
   "source": [
    "ipy.Audio(audio, rate=Fs)"
   ]
  },
  {
   "cell_type": "code",
   "execution_count": null,
   "metadata": {},
   "outputs": [],
   "source": [
    "ipy.Audio(shiftedAudio, rate=Fs)"
   ]
  },
  {
   "cell_type": "markdown",
   "metadata": {},
   "source": [
    "## Pitch Shifting a Single File (2)\n",
    "We can also directly pitch shift a file with the command below. The spectrograms and audio clips won't be regenerated since they are the same as above. The parameters for this function are:\n",
    "- targetFreq\n",
    "- origFreq\n",
    "- filename\n",
    "- folder\n",
    "- out\n",
    "- write\n",
    "\n",
    "where folder, out, and write are optional. For files in the current working directory, there is no need to specify a folder. The 'write' option is set to False by default, but it can be enabled along with the output file name. Below, we will demonstrate how to pitch shift a file with and without saving."
   ]
  },
  {
   "cell_type": "code",
   "execution_count": null,
   "metadata": {},
   "outputs": [],
   "source": [
    "shiftedAudio = scale.pitch_shift_file(4000, 15000, '20190611_202000.WAV', folder='files')"
   ]
  },
  {
   "cell_type": "code",
   "execution_count": null,
   "metadata": {},
   "outputs": [],
   "source": [
    "scale.pitch_shift_file(4000, 15000, '20190611_202000.WAV', folder='files', out='pitchShifted.WAV', write=True)\n",
    "Fs, data = wav.read('pitchShifted.WAV')\n",
    "ipy.Audio(data, rate=Fs)"
   ]
  },
  {
   "cell_type": "markdown",
   "metadata": {},
   "source": [
    "## Pitch Shifting All Files Within a Folder (3)\n",
    "Lastly, we can pitch shift all valid .wav files within a specified folder. This function will create a new directory to save all the scaled files. This output directory name can be specified, but it is 'shiftedDir' by default."
   ]
  },
  {
   "cell_type": "code",
   "execution_count": null,
   "metadata": {},
   "outputs": [],
   "source": [
    "print('Before Function Call: ', os.path.exists('pitchShiftedFiles'))\n",
    "scale.pitch_shift_folder(4000, 15000, 'files', outDir='pitchShiftedFiles')\n",
    "print('After Function Call: ', os.path.exists('pitchShiftedFiles'))"
   ]
  },
  {
   "cell_type": "markdown",
   "metadata": {},
   "source": [
    "## Isolating and Pitch Shifting a Segment (4)\n",
    "This acts similarly to the other pitch shift functions, with the sole difference being the ability to specify a lower and upper bound for frequencies you want to keep. The function will apply a bandpass filter to attenuate all other frequencies and shift this band to the human hearing range for listening and analysis. Below, we choose to keep the 10kHz just above the human hearing range."
   ]
  },
  {
   "cell_type": "code",
   "execution_count": null,
   "metadata": {},
   "outputs": [],
   "source": [
    "isolatedAudio = scale.pitch_shift_freq_range(20000, 30000, Fs, audio)\n",
    "scale.plot_specgrams(audio, isolatedAudio, Fs)"
   ]
  },
  {
   "cell_type": "code",
   "execution_count": null,
   "metadata": {},
   "outputs": [],
   "source": [
    "ipy.Audio(isolatedAudio, rate=Fs)"
   ]
  }
 ],
 "metadata": {
  "kernelspec": {
   "display_name": "Python 3",
   "language": "python",
   "name": "python3"
  },
  "language_info": {
   "codemirror_mode": {
    "name": "ipython",
    "version": 3
   },
   "file_extension": ".py",
   "mimetype": "text/x-python",
   "name": "python",
   "nbconvert_exporter": "python",
   "pygments_lexer": "ipython3",
   "version": "3.7.6"
  }
 },
 "nbformat": 4,
 "nbformat_minor": 4
}
