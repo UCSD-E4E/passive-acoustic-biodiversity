{
 "cells": [
  {
   "cell_type": "code",
   "execution_count": 1,
   "id": "8869c0e6",
   "metadata": {},
   "outputs": [],
   "source": [
    "from opensoundscape.preprocess.preprocessors import BasePreprocessor, AudioToSpectrogramPreprocessor, CnnPreprocessor\n",
    "import torch\n",
    "import pandas as pd\n",
    "from pathlib import Path\n",
    "import numpy as np\n",
    "import pandas as pd\n",
    "from opensoundscape.torch.models import cnn\n",
    "from opensoundscape.torch.architectures import cnn_architectures"
   ]
  },
  {
   "cell_type": "code",
   "execution_count": 2,
   "id": "c6a09c92",
   "metadata": {},
   "outputs": [],
   "source": [
    "df = pd.read_csv('NIPS4B_BIRD_CHALLENGE_TRAIN_TEST_WAV/nips4b_birdchallenge_train_labels.csv')\n",
    "df_test = pd.read_csv('peru_data/Audiomoth_Madre_de_Dios_Field_Recordings/All/Copy of Stratified_Random_Sample_Bird_Labels.csv')"
   ]
  },
  {
   "cell_type": "markdown",
   "id": "3052a55e",
   "metadata": {},
   "source": [
    "## Training on NIPS 4B dataset"
   ]
  },
  {
   "cell_type": "code",
   "execution_count": 3,
   "id": "f63c1fef",
   "metadata": {},
   "outputs": [
    {
     "name": "stderr",
     "output_type": "stream",
     "text": [
      "/var/folders/km/7_v861mx0cb9fp42nvllkmt00000gn/T/ipykernel_3553/933584329.py:1: FutureWarning: In a future version of pandas all arguments of DataFrame.drop except for the argument 'labels' will be keyword-only\n",
      "  df = df.drop('Unnamed: 3', 1)\n",
      "/var/folders/km/7_v861mx0cb9fp42nvllkmt00000gn/T/ipykernel_3553/933584329.py:2: FutureWarning: In a future version of pandas all arguments of DataFrame.drop except for the argument 'labels' will be keyword-only\n",
      "  df = df.drop('Unnamed: 1', 1)\n"
     ]
    }
   ],
   "source": [
    "df = df.drop('Unnamed: 3', 1)\n",
    "df = df.drop('Unnamed: 1', 1)\n",
    "df.fillna(0, inplace=True)\n",
    "\n",
    "a = df.iloc[1,:2].values\n",
    "b = df.iloc[0,2:].values\n",
    "c = np.concatenate((a, b), axis=0)\n",
    "columns = c[1:]"
   ]
  },
  {
   "cell_type": "code",
   "execution_count": 4,
   "id": "fa4f4f26",
   "metadata": {},
   "outputs": [
    {
     "name": "stderr",
     "output_type": "stream",
     "text": [
      "/var/folders/km/7_v861mx0cb9fp42nvllkmt00000gn/T/ipykernel_3553/3588841855.py:3: FutureWarning: In a future version of pandas all arguments of DataFrame.drop except for the argument 'labels' will be keyword-only\n",
      "  df = df.drop('index', 1)\n"
     ]
    }
   ],
   "source": [
    "df = df.drop([0,1,689])\n",
    "df.reset_index(inplace=True)\n",
    "df = df.drop('index', 1)\n",
    "df.columns = c"
   ]
  },
  {
   "cell_type": "code",
   "execution_count": 5,
   "id": "73fee412",
   "metadata": {},
   "outputs": [
    {
     "data": {
      "text/html": [
       "<div>\n",
       "<style scoped>\n",
       "    .dataframe tbody tr th:only-of-type {\n",
       "        vertical-align: middle;\n",
       "    }\n",
       "\n",
       "    .dataframe tbody tr th {\n",
       "        vertical-align: top;\n",
       "    }\n",
       "\n",
       "    .dataframe thead th {\n",
       "        text-align: right;\n",
       "    }\n",
       "</style>\n",
       "<table border=\"1\" class=\"dataframe\">\n",
       "  <thead>\n",
       "    <tr style=\"text-align: right;\">\n",
       "      <th></th>\n",
       "      <th>Filename</th>\n",
       "      <th>Empty</th>\n",
       "      <th>Aegcau_call</th>\n",
       "      <th>Alaarv_song</th>\n",
       "      <th>Anttri_song</th>\n",
       "      <th>Butbut_call</th>\n",
       "      <th>Carcan_call</th>\n",
       "      <th>Carcan_song</th>\n",
       "      <th>Carcar_call</th>\n",
       "      <th>Carcar_song</th>\n",
       "      <th>...</th>\n",
       "      <th>Sylmel_song</th>\n",
       "      <th>Sylund_call</th>\n",
       "      <th>Sylund_song</th>\n",
       "      <th>Tetpyg_song</th>\n",
       "      <th>Tibtom_song</th>\n",
       "      <th>Trotro_song</th>\n",
       "      <th>Turmer_call</th>\n",
       "      <th>Turmer_song</th>\n",
       "      <th>Turphi_call</th>\n",
       "      <th>Turphi_song</th>\n",
       "    </tr>\n",
       "  </thead>\n",
       "  <tbody>\n",
       "    <tr>\n",
       "      <th>0</th>\n",
       "      <td>./NIPS4B_BIRD_CHALLENGE_TRAIN_TEST_WAV/train/n...</td>\n",
       "      <td>0</td>\n",
       "      <td>0</td>\n",
       "      <td>0</td>\n",
       "      <td>0</td>\n",
       "      <td>1</td>\n",
       "      <td>0</td>\n",
       "      <td>0</td>\n",
       "      <td>0</td>\n",
       "      <td>0</td>\n",
       "      <td>...</td>\n",
       "      <td>0</td>\n",
       "      <td>0</td>\n",
       "      <td>0</td>\n",
       "      <td>0</td>\n",
       "      <td>0</td>\n",
       "      <td>0</td>\n",
       "      <td>0</td>\n",
       "      <td>0</td>\n",
       "      <td>0</td>\n",
       "      <td>0</td>\n",
       "    </tr>\n",
       "    <tr>\n",
       "      <th>1</th>\n",
       "      <td>./NIPS4B_BIRD_CHALLENGE_TRAIN_TEST_WAV/train/n...</td>\n",
       "      <td>0</td>\n",
       "      <td>0</td>\n",
       "      <td>0</td>\n",
       "      <td>0</td>\n",
       "      <td>0</td>\n",
       "      <td>0</td>\n",
       "      <td>0</td>\n",
       "      <td>0</td>\n",
       "      <td>0</td>\n",
       "      <td>...</td>\n",
       "      <td>1</td>\n",
       "      <td>0</td>\n",
       "      <td>0</td>\n",
       "      <td>0</td>\n",
       "      <td>0</td>\n",
       "      <td>0</td>\n",
       "      <td>0</td>\n",
       "      <td>0</td>\n",
       "      <td>0</td>\n",
       "      <td>0</td>\n",
       "    </tr>\n",
       "    <tr>\n",
       "      <th>2</th>\n",
       "      <td>./NIPS4B_BIRD_CHALLENGE_TRAIN_TEST_WAV/train/n...</td>\n",
       "      <td>0</td>\n",
       "      <td>0</td>\n",
       "      <td>0</td>\n",
       "      <td>0</td>\n",
       "      <td>0</td>\n",
       "      <td>0</td>\n",
       "      <td>0</td>\n",
       "      <td>0</td>\n",
       "      <td>0</td>\n",
       "      <td>...</td>\n",
       "      <td>0</td>\n",
       "      <td>0</td>\n",
       "      <td>0</td>\n",
       "      <td>0</td>\n",
       "      <td>0</td>\n",
       "      <td>0</td>\n",
       "      <td>0</td>\n",
       "      <td>0</td>\n",
       "      <td>0</td>\n",
       "      <td>0</td>\n",
       "    </tr>\n",
       "    <tr>\n",
       "      <th>3</th>\n",
       "      <td>./NIPS4B_BIRD_CHALLENGE_TRAIN_TEST_WAV/train/n...</td>\n",
       "      <td>0</td>\n",
       "      <td>0</td>\n",
       "      <td>0</td>\n",
       "      <td>0</td>\n",
       "      <td>0</td>\n",
       "      <td>0</td>\n",
       "      <td>0</td>\n",
       "      <td>0</td>\n",
       "      <td>0</td>\n",
       "      <td>...</td>\n",
       "      <td>0</td>\n",
       "      <td>0</td>\n",
       "      <td>0</td>\n",
       "      <td>0</td>\n",
       "      <td>0</td>\n",
       "      <td>0</td>\n",
       "      <td>1</td>\n",
       "      <td>0</td>\n",
       "      <td>0</td>\n",
       "      <td>0</td>\n",
       "    </tr>\n",
       "    <tr>\n",
       "      <th>4</th>\n",
       "      <td>./NIPS4B_BIRD_CHALLENGE_TRAIN_TEST_WAV/train/n...</td>\n",
       "      <td>0</td>\n",
       "      <td>0</td>\n",
       "      <td>0</td>\n",
       "      <td>0</td>\n",
       "      <td>0</td>\n",
       "      <td>0</td>\n",
       "      <td>0</td>\n",
       "      <td>0</td>\n",
       "      <td>0</td>\n",
       "      <td>...</td>\n",
       "      <td>0</td>\n",
       "      <td>0</td>\n",
       "      <td>0</td>\n",
       "      <td>0</td>\n",
       "      <td>0</td>\n",
       "      <td>0</td>\n",
       "      <td>1</td>\n",
       "      <td>0</td>\n",
       "      <td>0</td>\n",
       "      <td>0</td>\n",
       "    </tr>\n",
       "  </tbody>\n",
       "</table>\n",
       "<p>5 rows × 89 columns</p>\n",
       "</div>"
      ],
      "text/plain": [
       "                                            Filename Empty Aegcau_call  \\\n",
       "0  ./NIPS4B_BIRD_CHALLENGE_TRAIN_TEST_WAV/train/n...     0           0   \n",
       "1  ./NIPS4B_BIRD_CHALLENGE_TRAIN_TEST_WAV/train/n...     0           0   \n",
       "2  ./NIPS4B_BIRD_CHALLENGE_TRAIN_TEST_WAV/train/n...     0           0   \n",
       "3  ./NIPS4B_BIRD_CHALLENGE_TRAIN_TEST_WAV/train/n...     0           0   \n",
       "4  ./NIPS4B_BIRD_CHALLENGE_TRAIN_TEST_WAV/train/n...     0           0   \n",
       "\n",
       "  Alaarv_song Anttri_song Butbut_call Carcan_call Carcan_song Carcar_call  \\\n",
       "0           0           0           1           0           0           0   \n",
       "1           0           0           0           0           0           0   \n",
       "2           0           0           0           0           0           0   \n",
       "3           0           0           0           0           0           0   \n",
       "4           0           0           0           0           0           0   \n",
       "\n",
       "  Carcar_song  ... Sylmel_song Sylund_call Sylund_song Tetpyg_song  \\\n",
       "0           0  ...           0           0           0           0   \n",
       "1           0  ...           1           0           0           0   \n",
       "2           0  ...           0           0           0           0   \n",
       "3           0  ...           0           0           0           0   \n",
       "4           0  ...           0           0           0           0   \n",
       "\n",
       "  Tibtom_song Trotro_song Turmer_call Turmer_song Turphi_call Turphi_song  \n",
       "0           0           0           0           0           0           0  \n",
       "1           0           0           0           0           0           0  \n",
       "2           0           0           0           0           0           0  \n",
       "3           0           0           1           0           0           0  \n",
       "4           0           0           1           0           0           0  \n",
       "\n",
       "[5 rows x 89 columns]"
      ]
     },
     "execution_count": 5,
     "metadata": {},
     "output_type": "execute_result"
    }
   ],
   "source": [
    "df.Filename = ['./NIPS4B_BIRD_CHALLENGE_TRAIN_TEST_WAV/train/'+f for f in df.Filename]\n",
    "df.head()"
   ]
  },
  {
   "cell_type": "code",
   "execution_count": 6,
   "id": "297947a3",
   "metadata": {},
   "outputs": [],
   "source": [
    "cols=[i for i in df.columns if i not in [\"Filename\"]]\n",
    "for col in cols:\n",
    "    df[col]=pd.to_numeric(df[col])"
   ]
  },
  {
   "cell_type": "code",
   "execution_count": 7,
   "id": "55494ab9",
   "metadata": {},
   "outputs": [
    {
     "data": {
      "text/plain": [
       "0    587\n",
       "1    100\n",
       "Name: empty, dtype: int64"
      ]
     },
     "execution_count": 7,
     "metadata": {},
     "output_type": "execute_result"
    }
   ],
   "source": [
    "from opensoundscape.annotations import categorical_to_one_hot\n",
    "one_hot_labels, classes = categorical_to_one_hot(df[['Empty']].values)\n",
    "labels = pd.DataFrame(index=df['Filename'],data=one_hot_labels,columns=classes)\n",
    "labels.rename(columns={0: \"non-empty\", 1: \"empty\"}, inplace=True)\n",
    "labels['empty'].value_counts()"
   ]
  },
  {
   "cell_type": "code",
   "execution_count": 8,
   "id": "cb01ac65",
   "metadata": {},
   "outputs": [],
   "source": [
    "from sklearn.model_selection import train_test_split\n",
    "\n",
    "# train_df, test_df = train_test_split(labels, test_size=0.2, random_state=1)\n",
    "\n",
    "# train_df, valid_df = train_test_split(train_df, test_size=0.25, random_state=1)\n",
    "train_df,valid_df = train_test_split(labels,test_size=0.2,random_state=1)"
   ]
  },
  {
   "cell_type": "code",
   "execution_count": 9,
   "id": "42367ef3",
   "metadata": {},
   "outputs": [],
   "source": [
    "from opensoundscape.preprocess.preprocessors import CnnPreprocessor\n",
    "\n",
    "train_dataset = CnnPreprocessor(train_df)\n",
    "train_dataset.augmentation_off()\n",
    "train_dataset.actions.load_audio.set(sample_rate=384000)\n",
    "\n",
    "valid_dataset = CnnPreprocessor(valid_df)\n",
    "valid_dataset.augmentation_off()\n",
    "valid_dataset.actions.load_audio.set(sample_rate=384000)"
   ]
  },
  {
   "cell_type": "code",
   "execution_count": 10,
   "id": "16ce0022",
   "metadata": {},
   "outputs": [
    {
     "name": "stdout",
     "output_type": "stream",
     "text": [
      "created PytorchModel model object with 2 classes\n"
     ]
    }
   ],
   "source": [
    "# Create model object\n",
    "classes = train_df.columns\n",
    "model = cnn.PytorchModel('resnet18',classes,single_target=True)"
   ]
  },
  {
   "cell_type": "code",
   "execution_count": null,
   "id": "7d215c8e",
   "metadata": {},
   "outputs": [],
   "source": [
    "model.train(\n",
    "    train_dataset=train_dataset,\n",
    "    valid_dataset=valid_dataset,\n",
    "    save_path='./binary_train_2/',\n",
    "    epochs=12,\n",
    "    batch_size=64,\n",
    "    save_interval=100,\n",
    "    num_workers=2,\n",
    ")"
   ]
  },
  {
   "cell_type": "code",
   "execution_count": 12,
   "id": "4dd7f91c",
   "metadata": {},
   "outputs": [
    {
     "data": {
      "text/plain": [
       "Text(0, 0.5, 'loss')"
      ]
     },
     "execution_count": 12,
     "metadata": {},
     "output_type": "execute_result"
    },
    {
     "data": {
      "image/png": "[encoded data removed]",
      "text/plain": [
       "<Figure size 1080x360 with 1 Axes>"
      ]
     },
     "metadata": {
      "needs_background": "light"
     },
     "output_type": "display_data"
    }
   ],
   "source": [
    "from matplotlib import pyplot as plt\n",
    "plt.rcParams['figure.figsize']=[15,5] #for large visuals\n",
    "plt.scatter(model.loss_hist.keys(),model.loss_hist.values())\n",
    "plt.xlabel('epoch')\n",
    "plt.ylabel('loss')"
   ]
  },
  {
   "cell_type": "markdown",
   "id": "4549dbe9",
   "metadata": {},
   "source": [
    "## Training done, now to test on Peru dataset"
   ]
  },
  {
   "cell_type": "code",
   "execution_count": 13,
   "id": "d796f5bf",
   "metadata": {},
   "outputs": [],
   "source": [
    "df_test['Filename'] = './peru_data/Audiomoth_Madre_de_Dios_Field_Recordings/All/' + df_test['Folder'] + '/' + df_test['Clip']"
   ]
  },
  {
   "cell_type": "code",
   "execution_count": 14,
   "id": "464c8d01",
   "metadata": {},
   "outputs": [],
   "source": [
    "df_test.drop(columns=['Folder', 'Clip'], inplace=True)"
   ]
  },
  {
   "cell_type": "code",
   "execution_count": 15,
   "id": "bfe15136",
   "metadata": {},
   "outputs": [
    {
     "name": "stdout",
     "output_type": "stream",
     "text": [
      "                                                    n  y\n",
      "Filename                                                \n",
      "./peru_data/Audiomoth_Madre_de_Dios_Field_Recor...  0  1\n",
      "./peru_data/Audiomoth_Madre_de_Dios_Field_Recor...  1  0\n",
      "./peru_data/Audiomoth_Madre_de_Dios_Field_Recor...  1  0\n",
      "./peru_data/Audiomoth_Madre_de_Dios_Field_Recor...  0  1\n",
      "./peru_data/Audiomoth_Madre_de_Dios_Field_Recor...  0  1\n"
     ]
    }
   ],
   "source": [
    "from opensoundscape.annotations import categorical_to_one_hot\n",
    "one_hot_labels, classes = categorical_to_one_hot(df_test[['Bird(s)?']].values)\n",
    "test_data = pd.DataFrame(index=df_test['Filename'],data=one_hot_labels,columns=classes)\n",
    "print(test_data.head())\n",
    "test_data.rename(columns={\"y\": \"non-empty\", \"n\": \"empty\"}, inplace=True)"
   ]
  },
  {
   "cell_type": "code",
   "execution_count": 16,
   "id": "534073fa",
   "metadata": {},
   "outputs": [
    {
     "data": {
      "text/html": [
       "<div>\n",
       "<style scoped>\n",
       "    .dataframe tbody tr th:only-of-type {\n",
       "        vertical-align: middle;\n",
       "    }\n",
       "\n",
       "    .dataframe tbody tr th {\n",
       "        vertical-align: top;\n",
       "    }\n",
       "\n",
       "    .dataframe thead th {\n",
       "        text-align: right;\n",
       "    }\n",
       "</style>\n",
       "<table border=\"1\" class=\"dataframe\">\n",
       "  <thead>\n",
       "    <tr style=\"text-align: right;\">\n",
       "      <th></th>\n",
       "      <th>non-empty</th>\n",
       "      <th>empty</th>\n",
       "    </tr>\n",
       "    <tr>\n",
       "      <th>Filename</th>\n",
       "      <th></th>\n",
       "      <th></th>\n",
       "    </tr>\n",
       "  </thead>\n",
       "  <tbody>\n",
       "    <tr>\n",
       "      <th>./peru_data/Audiomoth_Madre_de_Dios_Field_Recordings/All/WWF5_samples_split/5D2C0D00_5.WAV</th>\n",
       "      <td>1</td>\n",
       "      <td>0</td>\n",
       "    </tr>\n",
       "    <tr>\n",
       "      <th>./peru_data/Audiomoth_Madre_de_Dios_Field_Recordings/All/WWF5_samples_split/5D208AE8_13.WAV</th>\n",
       "      <td>0</td>\n",
       "      <td>1</td>\n",
       "    </tr>\n",
       "    <tr>\n",
       "      <th>./peru_data/Audiomoth_Madre_de_Dios_Field_Recordings/All/WWF5_samples_split/5D28A2C8_0.WAV</th>\n",
       "      <td>0</td>\n",
       "      <td>1</td>\n",
       "    </tr>\n",
       "    <tr>\n",
       "      <th>./peru_data/Audiomoth_Madre_de_Dios_Field_Recordings/All/WWF5_samples_split/5D208AE8_10.WAV</th>\n",
       "      <td>1</td>\n",
       "      <td>0</td>\n",
       "    </tr>\n",
       "    <tr>\n",
       "      <th>./peru_data/Audiomoth_Madre_de_Dios_Field_Recordings/All/WWF5_samples_split/5D2C0D00_8.WAV</th>\n",
       "      <td>1</td>\n",
       "      <td>0</td>\n",
       "    </tr>\n",
       "  </tbody>\n",
       "</table>\n",
       "</div>"
      ],
      "text/plain": [
       "                                                    non-empty  empty\n",
       "Filename                                                            \n",
       "./peru_data/Audiomoth_Madre_de_Dios_Field_Recor...          1      0\n",
       "./peru_data/Audiomoth_Madre_de_Dios_Field_Recor...          0      1\n",
       "./peru_data/Audiomoth_Madre_de_Dios_Field_Recor...          0      1\n",
       "./peru_data/Audiomoth_Madre_de_Dios_Field_Recor...          1      0\n",
       "./peru_data/Audiomoth_Madre_de_Dios_Field_Recor...          1      0"
      ]
     },
     "execution_count": 16,
     "metadata": {},
     "output_type": "execute_result"
    }
   ],
   "source": [
    "test_data = test_data[['non-empty', 'empty']]\n",
    "test_data.head()"
   ]
  },
  {
   "cell_type": "code",
   "execution_count": 17,
   "id": "a0c562ab",
   "metadata": {},
   "outputs": [],
   "source": [
    "cols=[i for i in test_data.columns if i not in [\"file\"]]\n",
    "for col in cols:\n",
    "    test_data[col]=pd.to_numeric(test_data[col])"
   ]
  },
  {
   "cell_type": "code",
   "execution_count": 11,
   "id": "ba3dcb86",
   "metadata": {},
   "outputs": [],
   "source": [
    "# ==================== model trained on nips4B dataset ======================\n",
    "from opensoundscape.torch.models.cnn import load_model\n",
    "model = load_model('./binary_train_2/best.model')"
   ]
  },
  {
   "cell_type": "code",
   "execution_count": 18,
   "id": "53989c19",
   "metadata": {},
   "outputs": [],
   "source": [
    "#create a copy of the training dataset, sampling 0 of the training samples from it\n",
    "prediction_dataset = model.train_dataset.sample(n=0)\n",
    "#turn off augmentation on this dataset\n",
    "prediction_dataset.augmentation_off()\n",
    "#use the validation samples as test samples for the sake of illustration\n",
    "prediction_dataset.df = test_data"
   ]
  },
  {
   "cell_type": "code",
   "execution_count": 19,
   "id": "615fd504",
   "metadata": {},
   "outputs": [
    {
     "name": "stdout",
     "output_type": "stream",
     "text": [
      "(7120, 2)\n"
     ]
    },
    {
     "data": {
      "text/html": [
       "<div>\n",
       "<style scoped>\n",
       "    .dataframe tbody tr th:only-of-type {\n",
       "        vertical-align: middle;\n",
       "    }\n",
       "\n",
       "    .dataframe tbody tr th {\n",
       "        vertical-align: top;\n",
       "    }\n",
       "\n",
       "    .dataframe thead th {\n",
       "        text-align: right;\n",
       "    }\n",
       "</style>\n",
       "<table border=\"1\" class=\"dataframe\">\n",
       "  <thead>\n",
       "    <tr style=\"text-align: right;\">\n",
       "      <th></th>\n",
       "      <th>non-empty</th>\n",
       "      <th>empty</th>\n",
       "    </tr>\n",
       "  </thead>\n",
       "  <tbody>\n",
       "    <tr>\n",
       "      <th>./peru_data/Audiomoth_Madre_de_Dios_Field_Recordings/All/WWF5_samples_split/5D2C0D00_5.WAV</th>\n",
       "      <td>0.453395</td>\n",
       "      <td>0.546605</td>\n",
       "    </tr>\n",
       "    <tr>\n",
       "      <th>./peru_data/Audiomoth_Madre_de_Dios_Field_Recordings/All/WWF5_samples_split/5D208AE8_13.WAV</th>\n",
       "      <td>0.420344</td>\n",
       "      <td>0.579656</td>\n",
       "    </tr>\n",
       "    <tr>\n",
       "      <th>./peru_data/Audiomoth_Madre_de_Dios_Field_Recordings/All/WWF5_samples_split/5D28A2C8_0.WAV</th>\n",
       "      <td>0.497574</td>\n",
       "      <td>0.502426</td>\n",
       "    </tr>\n",
       "    <tr>\n",
       "      <th>./peru_data/Audiomoth_Madre_de_Dios_Field_Recordings/All/WWF5_samples_split/5D208AE8_10.WAV</th>\n",
       "      <td>0.415925</td>\n",
       "      <td>0.584075</td>\n",
       "    </tr>\n",
       "    <tr>\n",
       "      <th>./peru_data/Audiomoth_Madre_de_Dios_Field_Recordings/All/WWF5_samples_split/5D2C0D00_8.WAV</th>\n",
       "      <td>0.461336</td>\n",
       "      <td>0.538664</td>\n",
       "    </tr>\n",
       "    <tr>\n",
       "      <th>...</th>\n",
       "      <td>...</td>\n",
       "      <td>...</td>\n",
       "    </tr>\n",
       "    <tr>\n",
       "      <th>./peru_data/Audiomoth_Madre_de_Dios_Field_Recordings/All/AM1_samples_split/20190627_151000_12.WAV</th>\n",
       "      <td>0.589991</td>\n",
       "      <td>0.410009</td>\n",
       "    </tr>\n",
       "    <tr>\n",
       "      <th>./peru_data/Audiomoth_Madre_de_Dios_Field_Recordings/All/AM1_samples_split/20190701_084000_1.WAV</th>\n",
       "      <td>0.515745</td>\n",
       "      <td>0.484255</td>\n",
       "    </tr>\n",
       "    <tr>\n",
       "      <th>./peru_data/Audiomoth_Madre_de_Dios_Field_Recordings/All/AM1_samples_split/20190624_074000_14.WAV</th>\n",
       "      <td>0.454435</td>\n",
       "      <td>0.545565</td>\n",
       "    </tr>\n",
       "    <tr>\n",
       "      <th>./peru_data/Audiomoth_Madre_de_Dios_Field_Recordings/All/AM1_samples_split/20190621_085000_19.WAV</th>\n",
       "      <td>0.454748</td>\n",
       "      <td>0.545252</td>\n",
       "    </tr>\n",
       "    <tr>\n",
       "      <th>./peru_data/Audiomoth_Madre_de_Dios_Field_Recordings/All/AM1_samples_split/20190624_145000_17.WAV</th>\n",
       "      <td>0.204066</td>\n",
       "      <td>0.795934</td>\n",
       "    </tr>\n",
       "  </tbody>\n",
       "</table>\n",
       "<p>7120 rows × 2 columns</p>\n",
       "</div>"
      ],
      "text/plain": [
       "                                                    non-empty     empty\n",
       "./peru_data/Audiomoth_Madre_de_Dios_Field_Recor...   0.453395  0.546605\n",
       "./peru_data/Audiomoth_Madre_de_Dios_Field_Recor...   0.420344  0.579656\n",
       "./peru_data/Audiomoth_Madre_de_Dios_Field_Recor...   0.497574  0.502426\n",
       "./peru_data/Audiomoth_Madre_de_Dios_Field_Recor...   0.415925  0.584075\n",
       "./peru_data/Audiomoth_Madre_de_Dios_Field_Recor...   0.461336  0.538664\n",
       "...                                                       ...       ...\n",
       "./peru_data/Audiomoth_Madre_de_Dios_Field_Recor...   0.589991  0.410009\n",
       "./peru_data/Audiomoth_Madre_de_Dios_Field_Recor...   0.515745  0.484255\n",
       "./peru_data/Audiomoth_Madre_de_Dios_Field_Recor...   0.454435  0.545565\n",
       "./peru_data/Audiomoth_Madre_de_Dios_Field_Recor...   0.454748  0.545252\n",
       "./peru_data/Audiomoth_Madre_de_Dios_Field_Recor...   0.204066  0.795934\n",
       "\n",
       "[7120 rows x 2 columns]"
      ]
     },
     "execution_count": 19,
     "metadata": {},
     "output_type": "execute_result"
    }
   ],
   "source": [
    "valid_scores_df, valid_preds_df, valid_labels_df = model.predict(prediction_dataset,\n",
    "                                                                 binary_preds='single_target',\n",
    "                                                                 activation_layer='softmax')\n",
    "valid_scores_df"
   ]
  },
  {
   "cell_type": "code",
   "execution_count": 20,
   "id": "5cfebd38",
   "metadata": {},
   "outputs": [
    {
     "data": {
      "text/html": [
       "<div>\n",
       "<style scoped>\n",
       "    .dataframe tbody tr th:only-of-type {\n",
       "        vertical-align: middle;\n",
       "    }\n",
       "\n",
       "    .dataframe tbody tr th {\n",
       "        vertical-align: top;\n",
       "    }\n",
       "\n",
       "    .dataframe thead th {\n",
       "        text-align: right;\n",
       "    }\n",
       "</style>\n",
       "<table border=\"1\" class=\"dataframe\">\n",
       "  <thead>\n",
       "    <tr style=\"text-align: right;\">\n",
       "      <th></th>\n",
       "      <th>non-empty</th>\n",
       "      <th>empty</th>\n",
       "    </tr>\n",
       "  </thead>\n",
       "  <tbody>\n",
       "    <tr>\n",
       "      <th>./peru_data/Audiomoth_Madre_de_Dios_Field_Recordings/All/WWF5_samples_split/5D2C0D00_5.WAV</th>\n",
       "      <td>1</td>\n",
       "      <td>0</td>\n",
       "    </tr>\n",
       "    <tr>\n",
       "      <th>./peru_data/Audiomoth_Madre_de_Dios_Field_Recordings/All/WWF5_samples_split/5D208AE8_13.WAV</th>\n",
       "      <td>0</td>\n",
       "      <td>1</td>\n",
       "    </tr>\n",
       "    <tr>\n",
       "      <th>./peru_data/Audiomoth_Madre_de_Dios_Field_Recordings/All/WWF5_samples_split/5D28A2C8_0.WAV</th>\n",
       "      <td>0</td>\n",
       "      <td>1</td>\n",
       "    </tr>\n",
       "    <tr>\n",
       "      <th>./peru_data/Audiomoth_Madre_de_Dios_Field_Recordings/All/WWF5_samples_split/5D208AE8_10.WAV</th>\n",
       "      <td>1</td>\n",
       "      <td>0</td>\n",
       "    </tr>\n",
       "    <tr>\n",
       "      <th>./peru_data/Audiomoth_Madre_de_Dios_Field_Recordings/All/WWF5_samples_split/5D2C0D00_8.WAV</th>\n",
       "      <td>1</td>\n",
       "      <td>0</td>\n",
       "    </tr>\n",
       "    <tr>\n",
       "      <th>...</th>\n",
       "      <td>...</td>\n",
       "      <td>...</td>\n",
       "    </tr>\n",
       "    <tr>\n",
       "      <th>./peru_data/Audiomoth_Madre_de_Dios_Field_Recordings/All/AM1_samples_split/20190627_151000_12.WAV</th>\n",
       "      <td>1</td>\n",
       "      <td>0</td>\n",
       "    </tr>\n",
       "    <tr>\n",
       "      <th>./peru_data/Audiomoth_Madre_de_Dios_Field_Recordings/All/AM1_samples_split/20190701_084000_1.WAV</th>\n",
       "      <td>0</td>\n",
       "      <td>1</td>\n",
       "    </tr>\n",
       "    <tr>\n",
       "      <th>./peru_data/Audiomoth_Madre_de_Dios_Field_Recordings/All/AM1_samples_split/20190624_074000_14.WAV</th>\n",
       "      <td>0</td>\n",
       "      <td>1</td>\n",
       "    </tr>\n",
       "    <tr>\n",
       "      <th>./peru_data/Audiomoth_Madre_de_Dios_Field_Recordings/All/AM1_samples_split/20190621_085000_19.WAV</th>\n",
       "      <td>0</td>\n",
       "      <td>1</td>\n",
       "    </tr>\n",
       "    <tr>\n",
       "      <th>./peru_data/Audiomoth_Madre_de_Dios_Field_Recordings/All/AM1_samples_split/20190624_145000_17.WAV</th>\n",
       "      <td>0</td>\n",
       "      <td>1</td>\n",
       "    </tr>\n",
       "  </tbody>\n",
       "</table>\n",
       "<p>7120 rows × 2 columns</p>\n",
       "</div>"
      ],
      "text/plain": [
       "                                                    non-empty  empty\n",
       "./peru_data/Audiomoth_Madre_de_Dios_Field_Recor...          1      0\n",
       "./peru_data/Audiomoth_Madre_de_Dios_Field_Recor...          0      1\n",
       "./peru_data/Audiomoth_Madre_de_Dios_Field_Recor...          0      1\n",
       "./peru_data/Audiomoth_Madre_de_Dios_Field_Recor...          1      0\n",
       "./peru_data/Audiomoth_Madre_de_Dios_Field_Recor...          1      0\n",
       "...                                                       ...    ...\n",
       "./peru_data/Audiomoth_Madre_de_Dios_Field_Recor...          1      0\n",
       "./peru_data/Audiomoth_Madre_de_Dios_Field_Recor...          0      1\n",
       "./peru_data/Audiomoth_Madre_de_Dios_Field_Recor...          0      1\n",
       "./peru_data/Audiomoth_Madre_de_Dios_Field_Recor...          0      1\n",
       "./peru_data/Audiomoth_Madre_de_Dios_Field_Recor...          0      1\n",
       "\n",
       "[7120 rows x 2 columns]"
      ]
     },
     "execution_count": 20,
     "metadata": {},
     "output_type": "execute_result"
    }
   ],
   "source": [
    "valid_labels_df"
   ]
  },
  {
   "cell_type": "code",
   "execution_count": 21,
   "id": "cb82d0b2",
   "metadata": {},
   "outputs": [
    {
     "name": "stdout",
     "output_type": "stream",
     "text": [
      "              precision    recall  f1-score   support\n",
      "\n",
      "           0       0.48      0.52      0.50      3113\n",
      "           1       0.60      0.56      0.58      4007\n",
      "\n",
      "   micro avg       0.54      0.54      0.54      7120\n",
      "   macro avg       0.54      0.54      0.54      7120\n",
      "weighted avg       0.55      0.54      0.55      7120\n",
      " samples avg       0.54      0.54      0.54      7120\n",
      "\n"
     ]
    }
   ],
   "source": [
    "from sklearn.metrics import classification_report, roc_auc_score, roc_curve\n",
    "print(classification_report(valid_labels_df, valid_preds_df))"
   ]
  },
  {
   "cell_type": "code",
   "execution_count": 22,
   "id": "e912a752",
   "metadata": {},
   "outputs": [],
   "source": [
    "from matplotlib import pyplot as plt\n",
    "plt.rcParams['figure.figsize']=[15,5] "
   ]
  },
  {
   "cell_type": "code",
   "execution_count": 23,
   "id": "b94e0f03",
   "metadata": {},
   "outputs": [
    {
     "data": {
      "image/png": "[encoded data removed]",
      "text/plain": [
       "<Figure size 1080x360 with 1 Axes>"
      ]
     },
     "metadata": {
      "needs_background": "light"
     },
     "output_type": "display_data"
    }
   ],
   "source": [
    "fpr, tpr, thresh = roc_curve(valid_labels_df['non-empty'],  valid_scores_df['non-empty'])\n",
    "auc = roc_auc_score(valid_labels_df['non-empty'],  valid_preds_df['non-empty'])\n",
    "\n",
    "fpr2, tpr2, thresh2 = roc_curve(valid_labels_df['empty'],  valid_scores_df['empty'])\n",
    "auc2 = roc_auc_score(valid_labels_df['empty'],  valid_preds_df['empty'])\n",
    "\n",
    "#create ROC curve\n",
    "plt.plot(fpr,tpr,label=\"AUC bird class=\"+str(auc))\n",
    "plt.title('Prediction on peru dataset (Train: nips4b)')\n",
    "plt.ylabel('True Positive Rate')\n",
    "plt.xlabel('False Positive Rate')\n",
    "plt.plot(fpr2,tpr2,label=\"AUC empty class=\"+str(auc2))\n",
    "plt.legend(loc=4)\n",
    "plt.savefig('./binary_train_2/model_AUC_nips_peru_aug.jpg', format='jpg', transparent=False)"
   ]
  },
  {
   "cell_type": "code",
   "execution_count": null,
   "id": "0f572e94",
   "metadata": {},
   "outputs": [],
   "source": []
  }
 ],
 "metadata": {
  "kernelspec": {
   "display_name": "Python 3 (ipykernel)",
   "language": "python",
   "name": "python3"
  },
  "language_info": {
   "codemirror_mode": {
    "name": "ipython",
    "version": 3
   },
   "file_extension": ".py",
   "mimetype": "text/x-python",
   "name": "python",
   "nbconvert_exporter": "python",
   "pygments_lexer": "ipython3",
   "version": "3.8.0"
  }
 },
 "nbformat": 4,
 "nbformat_minor": 5
}
