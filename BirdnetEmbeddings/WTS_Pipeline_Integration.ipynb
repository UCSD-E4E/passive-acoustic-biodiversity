{
 "cells": [
  {
   "cell_type": "markdown",
   "metadata": {},
   "source": [
    "# WTS Pipeline Integration\n",
    "Exploratory notebook for working on birdnet embeddings"
   ]
  },
  {
   "cell_type": "markdown",
   "metadata": {},
   "source": [
    "### Imports and Setup"
   ]
  },
  {
   "cell_type": "code",
   "execution_count": null,
   "metadata": {},
   "outputs": [],
   "source": [
    "import pandas as pd\n",
    "import os\n",
    "import numpy as np\n",
    "from annotation_post_processing import *"
   ]
  },
  {
   "cell_type": "code",
   "execution_count": null,
   "metadata": {},
   "outputs": [],
   "source": [
    "embeddingColumns = [str(i) for i in range(420)]\n",
    "columnNames = [\"START\", \"END\"] + embeddingColumns\n",
    "path = './input/cosmos_embeddings/'"
   ]
  },
  {
   "cell_type": "code",
   "execution_count": null,
   "metadata": {},
   "outputs": [],
   "source": [
    "def generate_embeddings_from_file(path, filename):\n",
    "    with open(path + filename, 'r') as f:\n",
    "        data = f.read()\n",
    "    with open(path + filename, 'w') as f:\n",
    "        f.write(\",\".join(data.split(\"\\t\")))\n",
    "    file_df = pd.read_csv(path + filename, names = columnNames)\n",
    "    file_df[\"IN FILE\"] = filename[:filename.index(\".birdnet\")] + \".wav\"\n",
    "    return file_df\n",
    "\n",
    "def generate_embeddings(path):\n",
    "    df = pd.DataFrame()\n",
    "    for filename in os.listdir(path):\n",
    "        try:\n",
    "            df = pd.concat([df, generate_embeddings_from_file(path, filename)], ignore_index = True)\n",
    "        except Exception as e:\n",
    "            print(\"Something went wrong with: \" + filename)\n",
    "    df[\"PATH\"] = path\n",
    "    columns = df.columns.tolist()\n",
    "    columns = columns[-2:] + columns[:-2]\n",
    "    df = df[columns]\n",
    "    df = df.sort_values([\"IN FILE\", \"START\"], ascending = True)\n",
    "    df = df.reset_index(drop = True)\n",
    "    return df"
   ]
  },
  {
   "cell_type": "code",
   "execution_count": null,
   "metadata": {},
   "outputs": [],
   "source": [
    "embeddings_df = generate_embeddings(path)\n",
    "embeddings_df"
   ]
  },
  {
   "cell_type": "code",
   "execution_count": null,
   "metadata": {},
   "outputs": [],
   "source": [
    "automated_df = pd.read_csv(\"cosmos_annotations.csv\")\n",
    "automated_df"
   ]
  },
  {
   "cell_type": "markdown",
   "metadata": {},
   "source": [
    "### Filtering Embeddings with HDBSCAN"
   ]
  },
  {
   "cell_type": "code",
   "execution_count": null,
   "metadata": {},
   "outputs": [],
   "source": [
    "%matplotlib inline\n",
    "import hdbscan\n",
    "from hdbscan import HDBSCAN\n",
    "from hdbscan.prediction import approximate_predict\n",
    "import pickle\n",
    "import seaborn as sns\n",
    "from sklearn.decomposition import PCA\n",
    "import matplotlib.pyplot as plt\n",
    "from mpl_toolkits import mplot3d\n",
    "from sklearn.preprocessing import LabelEncoder\n",
    "\n",
    "plt.style.use(\"ggplot\")"
   ]
  },
  {
   "cell_type": "code",
   "execution_count": null,
   "metadata": {},
   "outputs": [],
   "source": [
    "with open(\"./ClusteringModels/hdbscan_model.pkl\", \"rb\") as f:\n",
    "    hdbscan_model:HDBSCAN = pickle.load(f)\n",
    "\n",
    "hdbscan_model.generate_prediction_data()"
   ]
  },
  {
   "cell_type": "code",
   "execution_count": null,
   "metadata": {},
   "outputs": [],
   "source": [
    "embeddings_df[\"HDBSCAN FILTER\"] = approximate_predict(hdbscan_model, embeddings_df[embeddingColumns])\n",
    "filtered_embeddings = embeddings_df[embeddings_df[\"HDBSCAN FILTER\"] == -1][[\"IN FILE\", \"PATH\", \"START\", \"END\", \"HDBSCAN FILTER\"]]\n",
    "filtered_embeddings"
   ]
  },
  {
   "cell_type": "markdown",
   "metadata": {},
   "source": [
    "### Applying Mask to WTS Pipeline"
   ]
  },
  {
   "cell_type": "code",
   "execution_count": null,
   "metadata": {},
   "outputs": [],
   "source": [
    "def create_annotation_filter(x: pd.DataFrame) -> bool:\n",
    "    \n",
    "    return False"
   ]
  }
 ],
 "metadata": {
  "kernelspec": {
   "display_name": "Python 3.10.5 ('species-id')",
   "language": "python",
   "name": "python3"
  },
  "language_info": {
   "codemirror_mode": {
    "name": "ipython",
    "version": 3
   },
   "file_extension": ".py",
   "mimetype": "text/x-python",
   "name": "python",
   "nbconvert_exporter": "python",
   "pygments_lexer": "ipython3",
   "version": "3.10.5"
  },
  "orig_nbformat": 4,
  "vscode": {
   "interpreter": {
    "hash": "50f29603170da42ff0485de93cf455ea9e81b4c54cac7530327aeacc7af59708"
   }
  }
 },
 "nbformat": 4,
 "nbformat_minor": 2
}
