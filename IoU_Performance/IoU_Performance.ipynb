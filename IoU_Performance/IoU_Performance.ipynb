{
 "cells": [
  {
   "cell_type": "markdown",
   "id": "c67708b9",
   "metadata": {},
   "source": [
    "## IOU Testing"
   ]
  },
  {
   "cell_type": "markdown",
   "id": "8a337c2b",
   "metadata": {},
   "source": [
    "Use the statistics.py file in the passive-acoustic-biodiversity repo\n",
    "time library used to to time function calls"
   ]
  },
  {
   "cell_type": "code",
   "execution_count": 1,
   "id": "28bc5f40",
   "metadata": {},
   "outputs": [],
   "source": [
    "%load_ext autoreload\n",
    "%autoreload 2"
   ]
  },
  {
   "cell_type": "code",
   "execution_count": 2,
   "id": "thorough-missouri",
   "metadata": {},
   "outputs": [],
   "source": [
    "from PyHa.IsoAutio import generate_automated_labels\n",
    "# clip_IoU is the fastest one, others are there for posterity and comparison\n",
    "from PyHa.statistics_iou import clip_IoU, clip_IoU_orig, clip_IoU_lin, clip_IoU_skip, matrix_IoU_Scores\n",
    "from PyHa.statistics_iou import automated_labeling_statistics\n",
    "\n",
    "import warnings\n",
    "warnings.simplefilter(action='ignore', category=FutureWarning)\n",
    "\n",
    "import pandas as pd\n",
    "import time"
   ]
  },
  {
   "cell_type": "code",
   "execution_count": 3,
   "id": "7b8764df",
   "metadata": {},
   "outputs": [],
   "source": [
    "output_df = {\n",
    "    \"FUNCTION\": [],\n",
    "    \"TECHNIQUE\": [],\n",
    "    \"DURATION\": [],\n",
    "    \"ITERATIONS\": [],\n",
    "    \"AVERAGE\": []\n",
    "}\n",
    "path =  \"../acoustic-id-test-data/TEST/\"\n",
    "path2 = \"./ScreamingPiha_Manual_Labels.csv\""
   ]
  },
  {
   "cell_type": "code",
   "execution_count": 4,
   "id": "64c4682d",
   "metadata": {
    "scrolled": true
   },
   "outputs": [],
   "source": [
    "isolation_parameters = {\n",
    "    \"model\" : \"microfaune\",\n",
    "    \"technique\" : \"chunk\",\n",
    "    \"threshold_type\" : \"median\",\n",
    "    \"threshold_const\" : 2.0,\n",
    "    \"threshold_min\" : 0.0,\n",
    "    \"chunk_size\" : 5.0,\n",
    "    \"window_size\" : 2.0\n",
    "}\n",
    "\n",
    "manual_df = pd.read_csv(path2)\n",
    "automated_df = generate_automated_labels(path, isolation_parameters)"
   ]
  },
  {
   "cell_type": "code",
   "execution_count": 6,
   "id": "3aab9f47",
   "metadata": {
    "scrolled": true
   },
   "outputs": [
    {
     "name": "stdout",
     "output_type": "stream",
     "text": [
      "orig\n",
      "time: 466.9 seconds\n",
      "time: 502.0 seconds\n",
      "time: 482.4 seconds\n",
      "time: 481.1 seconds\n",
      "time: 486.0 seconds\n",
      "time: 477.7 seconds\n",
      "time: 476.2 seconds\n",
      "time: 525.9 seconds\n",
      "time: 513.4 seconds\n",
      "time: 470.0 seconds\n",
      "488.15999999999997\n",
      "\n",
      "skip\n",
      "time: 274.1 seconds\n",
      "time: 275.4 seconds\n",
      "time: 307.4 seconds\n",
      "time: 288.9 seconds\n",
      "time: 278.8 seconds\n",
      "time: 285.4 seconds\n",
      "time: 252.4 seconds\n",
      "time: 267.7 seconds\n",
      "time: 270.5 seconds\n",
      "time: 259.8 seconds\n",
      "276.04\n",
      "\n",
      "linalg\n",
      "time: 190.2 seconds\n",
      "time: 143.0 seconds\n",
      "time: 134.4 seconds\n",
      "time: 139.2 seconds\n",
      "time: 143.2 seconds\n",
      "time: 134.2 seconds\n",
      "time: 153.1 seconds\n",
      "time: 148.3 seconds\n",
      "time: 127.1 seconds\n",
      "time: 130.6 seconds\n",
      "144.32999999999998\n",
      "\n",
      "linalg + skip\n",
      "time: 16.0 seconds\n",
      "time: 11.7 seconds\n",
      "time: 11.7 seconds\n",
      "time: 11.5 seconds\n",
      "time: 11.3 seconds\n",
      "time: 11.4 seconds\n",
      "time: 11.5 seconds\n",
      "time: 10.8 seconds\n",
      "time: 17.1 seconds\n",
      "time: 13.5 seconds\n",
      "12.65\n"
     ]
    }
   ],
   "source": [
    "# compare the average time for 10 trials of the different clip_IoU methods for ~600 clips \n",
    "def call_IoU(f, automated_df, manual_df):\n",
    "    start = time.time()\n",
    "    matrix = f(automated_df, manual_df)\n",
    "    tim = int((time.time() - start) * 10) / 10.0\n",
    "    print('time:', tim, 'seconds')\n",
    "    return matrix, tim\n",
    "\n",
    "# double_scalars error comes from dividing two very small numbers\n",
    "# this is handled by converting NaN values in the IoU matrix to 0 when it is returned\n",
    "print(\"orig\")\n",
    "time_orig = []\n",
    "for i in range(10):\n",
    "    orig, tim = call_IoU(clip_IoU_orig, automated_df, manual_df)\n",
    "    time_orig.append(tim)\n",
    "print(sum(time_orig) / 10)\n",
    "\n",
    "\n",
    "print(\"\\nskip\")\n",
    "time_skip = []\n",
    "for i in range(10):\n",
    "    skip, tim = call_IoU(clip_IoU_skip, automated_df, manual_df)\n",
    "    time_skip.append(tim)\n",
    "print(sum(time_skip) / 10)\n",
    "\n",
    "\n",
    "print(\"\\nlinalg\")\n",
    "time_lin = []\n",
    "for i in range(10):\n",
    "    lin, tim = call_IoU(clip_IoU_lin, automated_df, manual_df)\n",
    "    time_lin.append(tim)\n",
    "print(sum(time_lin) / 10)\n",
    "\n",
    "\n",
    "print(\"\\nlinalg + skip\")\n",
    "time_linskip = []\n",
    "for i in range(10):\n",
    "    linskip, tim = call_IoU(clip_IoU, automated_df, manual_df)\n",
    "    time_linskip.append(tim)\n",
    "print(sum(time_linskip) / 10)\n",
    "\n",
    "#note that although it says screamingpiha1 (since clip_IoU is supposed to take in one clip), it is for the whole dataset"
   ]
  },
  {
   "cell_type": "code",
   "execution_count": 7,
   "id": "8e570ba8",
   "metadata": {},
   "outputs": [
    {
     "name": "stdout",
     "output_type": "stream",
     "text": [
      "avg across 10 trials for clip_IoU\n",
      "original:\t 488.15999999999997\n",
      "skip:\t\t 276.04\n",
      "linalg:\t\t 144.32999999999998\n",
      "linalg+skip:\t 12.65\n"
     ]
    }
   ],
   "source": [
    "print(\"avg across 10 trials for clip_IoU\")\n",
    "print(\"original:\\t\", sum(time_orig) / 10)\n",
    "print(\"skip:\\t\\t\", sum(time_skip) / 10)\n",
    "print(\"linalg:\\t\\t\", sum(time_lin) / 10)\n",
    "print(\"linalg+skip:\\t\", sum(time_linskip) / 10)\n"
   ]
  },
  {
   "cell_type": "markdown",
   "id": "e5480538",
   "metadata": {},
   "source": [
    "## Testing automated_labeling_statistics"
   ]
  },
  {
   "cell_type": "code",
   "execution_count": 18,
   "id": "4c344e13",
   "metadata": {
    "scrolled": false
   },
   "outputs": [
    {
     "name": "stdout",
     "output_type": "stream",
     "text": [
      "IoU-skip time:\t 50.4 seconds\n",
      "\n",
      "IoU-lin time:\t 35.0 seconds\n",
      "\n",
      "IoU-lin-skip time:\t 6.6 seconds\n",
      "\n"
     ]
    }
   ],
   "source": [
    "# call just once\n",
    "def call_stats(automated_df, manual_df, stats_type=\"IoU\", threshold=0.5):\n",
    "    start = time.time()\n",
    "    stats_df = automated_labeling_statistics(automated_df,manual_df,stats_type,threshold)\n",
    "    print(stats_type, 'time:\\t', int((time.time() - start) * 10) / 10.0, 'seconds\\n')\n",
    "    return stats_df\n",
    "\n",
    "stats_df_skip = call_stats(automated_df, manual_df, stats_type=\"IoU-skip\")\n",
    "stats_df_lin = call_stats(automated_df, manual_df, stats_type=\"IoU-lin\")\n",
    "stats_df_lin_skip = call_stats(automated_df, manual_df, stats_type=\"IoU-lin-skip\")"
   ]
  },
  {
   "cell_type": "code",
   "execution_count": 5,
   "id": "a98a9848",
   "metadata": {},
   "outputs": [
    {
     "name": "stdout",
     "output_type": "stream",
     "text": [
      "orig\n",
      "time: 95.9 seconds\n",
      "time: 94.5 seconds\n",
      "time: 98.0 seconds\n",
      "time: 84.9 seconds\n",
      "time: 79.2 seconds\n",
      "time: 91.0 seconds\n",
      "time: 88.0 seconds\n",
      "time: 83.4 seconds\n",
      "time: 89.9 seconds\n",
      "time: 88.0 seconds\n",
      "89.28\n",
      "\n",
      "skip\n",
      "time: 41.9 seconds\n",
      "time: 52.6 seconds\n",
      "time: 41.5 seconds\n",
      "time: 46.4 seconds\n",
      "time: 49.7 seconds\n",
      "time: 49.6 seconds\n",
      "time: 45.3 seconds\n",
      "time: 47.5 seconds\n",
      "time: 54.9 seconds\n",
      "time: 46.1 seconds\n",
      "47.550000000000004\n",
      "\n",
      "linalg\n",
      "time: 29.4 seconds\n",
      "time: 32.4 seconds\n",
      "time: 27.3 seconds\n",
      "time: 28.5 seconds\n",
      "time: 30.8 seconds\n",
      "time: 32.3 seconds\n",
      "time: 37.3 seconds\n",
      "time: 33.0 seconds\n",
      "time: 30.3 seconds\n",
      "time: 31.0 seconds\n",
      "31.23\n",
      "\n",
      "linalg + skip\n",
      "time: 7.9 seconds\n",
      "time: 7.5 seconds\n",
      "time: 7.3 seconds\n",
      "time: 5.7 seconds\n",
      "time: 5.6 seconds\n",
      "time: 5.9 seconds\n",
      "time: 5.7 seconds\n",
      "time: 5.7 seconds\n",
      "time: 5.6 seconds\n",
      "time: 8.3 seconds\n",
      "6.5200000000000005\n"
     ]
    }
   ],
   "source": [
    "# compare the average time for 10 trials of automated_labeling_statitistics using different clip_IoU methods for ~600 clips \n",
    "def call_stats(automated_df, manual_df, stats_type=\"IoU\", threshold=0.5):\n",
    "    start = time.time()\n",
    "    stats_df = automated_labeling_statistics(automated_df,manual_df,stats_type,threshold)\n",
    "    tim = int((time.time() - start) * 10) / 10.0\n",
    "    print('time:', tim, 'seconds')\n",
    "    return stats_df, tim\n",
    "\n",
    "# double_scalars error comes from dividing two very small numbers\n",
    "# this is handled by converting NaN values in the IoU matrix to 0 when it is returned\n",
    "print(\"orig\")\n",
    "stats_time_orig = []\n",
    "for i in range(10):\n",
    "    stats_df_skip, tim = call_stats(automated_df, manual_df, stats_type=\"IoU-orig\")\n",
    "    stats_time_orig.append(tim)\n",
    "print(sum(stats_time_orig) / 10)\n",
    "\n",
    "print(\"\\nskip\")\n",
    "stats_time_skip = []\n",
    "for i in range(10):\n",
    "    stats_df_skip, tim = call_stats(automated_df, manual_df, stats_type=\"IoU-skip\")\n",
    "    stats_time_skip.append(tim)\n",
    "print(sum(stats_time_skip) / 10)\n",
    "\n",
    "\n",
    "print(\"\\nlinalg\")\n",
    "stats_time_lin = []\n",
    "for i in range(10):\n",
    "    stats_df_lin, tim = call_stats(automated_df, manual_df, stats_type=\"IoU-lin\")\n",
    "    stats_time_lin.append(tim)\n",
    "print(sum(stats_time_lin) / 10)\n",
    "\n",
    "print(\"\\nlinalg + skip\")\n",
    "stats_time_linskip = []\n",
    "for i in range(10):\n",
    "    stats_df_linskip, tim = call_stats(automated_df, manual_df, stats_type=\"IoU-lin-skip\")\n",
    "    stats_time_linskip.append(tim)\n",
    "print(sum(stats_time_linskip) / 10)\n",
    "\n",
    "#note that although it says screamingpiha1 (since clip_IoU is supposed to take in one clip), it is for the whole dataset"
   ]
  },
  {
   "cell_type": "code",
   "execution_count": 6,
   "id": "15fd0c96",
   "metadata": {},
   "outputs": [
    {
     "name": "stdout",
     "output_type": "stream",
     "text": [
      "avg across 10 trials for automated_labeling_statistics\n",
      "original:\t 89.28\n",
      "skip:\t\t 47.55\n",
      "linalg:\t\t 31.23\n",
      "linalg+skip:\t 6.52\n"
     ]
    }
   ],
   "source": [
    "print(\"avg across 10 trials for automated_labeling_statistics\")\n",
    "print(\"original:\\t\", sum(stats_time_orig) / 10)\n",
    "print(\"skip:\\t\\t\", round(sum(stats_time_skip) / 10,4))\n",
    "print(\"linalg:\\t\\t\", sum(stats_time_lin) / 10)\n",
    "print(\"linalg+skip:\\t\", round(sum(stats_time_linskip) / 10,4))"
   ]
  },
  {
   "cell_type": "code",
   "execution_count": null,
   "id": "3e1aabee",
   "metadata": {},
   "outputs": [],
   "source": [
    "display(stats_df_skip)\n",
    "display(stats_df_lin)\n",
    "display(stats_df_lin_skip)"
   ]
  },
  {
   "cell_type": "markdown",
   "id": "cfc369fa",
   "metadata": {},
   "source": [
    "### Importing labels\n",
    "If you put a subset of files in a different folder, generate a new labels .csv, then read them into a DataFrame."
   ]
  },
  {
   "cell_type": "code",
   "execution_count": 12,
   "id": "117b959f",
   "metadata": {},
   "outputs": [],
   "source": [
    "path_to_audio_files = \"../acoustic-id-test-data/subset/\" \n",
    "path_to_ground_truth = \"./025_DSC180_subset_manual.csv\""
   ]
  },
  {
   "cell_type": "code",
   "execution_count": null,
   "id": "c37923d7",
   "metadata": {
    "scrolled": true
   },
   "outputs": [],
   "source": [
    "# generate a csv with just the labels for specified files\n",
    "import os\n",
    "files = os.listdir(path_to_audio_files)\n",
    "dscdf = pd.read_csv(path_to_ground_truth)\n",
    "dscdf = dscdf[dscdf[\"IN FILE\"].isin(files)]\n",
    "dscdf.to_csv(\"025_DSC180_subset_manual.csv\")\n",
    "path_to_ground_truth = \"025_DSC180_subset_manual.csv\""
   ]
  },
  {
   "cell_type": "code",
   "execution_count": null,
   "id": "29af873d",
   "metadata": {},
   "outputs": [],
   "source": [
    "manual_df = pd.read_csv(path_to_ground_truth)\n",
    "isolation_parameters = {\n",
    "    \"model\" : \"microfaune\",\n",
    "    \"technique\" : \"chunk\",\n",
    "    \"threshold_type\" : \"median\",\n",
    "    \"threshold_const\" : 2.0,\n",
    "    \"threshold_min\" : 0.0,\n",
    "    \"chunk_size\" : 3.0,\n",
    "    \"window_size\" : 2.0\n",
    "}\n",
    "#automated_df = generate_automated_labels(path_to_audio_files, isolation_parameters)\n",
    "#automated_df.to_csv(\"025_DSC180_subset_automated.csv\")\n",
    "automated_df = pd.read_csv(\"025_DSC180_subset_automated.csv\")"
   ]
  },
  {
   "cell_type": "code",
   "execution_count": null,
   "id": "7cd6c57d",
   "metadata": {
    "scrolled": true
   },
   "outputs": [],
   "source": [
    "manual_df[\"FOLDER\"] = path_to_audio_files\n",
    "manual_df"
   ]
  },
  {
   "cell_type": "code",
   "execution_count": null,
   "id": "a4651d6c",
   "metadata": {},
   "outputs": [],
   "source": [
    "%reload_ext autoreload\n",
    "def call_stats(automated_df, manual_df, stats_type=\"IoU\", threshold=0.5):\n",
    "    start = time.time()\n",
    "    stats_df = automated_labeling_statistics(automated_df,manual_df,stats_type, threshold)\n",
    "    print('time:', int((time.time() - start) * 10) / 10.0, 'seconds')\n",
    "    return stats_df\n",
    "\n",
    "stats_df_bn_lin_skip = call_stats(automated_df, manual_df, stats_type=\"IoU-lin-skip\")"
   ]
  },
  {
   "cell_type": "code",
   "execution_count": null,
   "id": "3a75a526",
   "metadata": {},
   "outputs": [],
   "source": [
    "stats_df_bn_lin = call_stats(automated_df, manual_df, stats_type=\"IoU-lin\")"
   ]
  },
  {
   "cell_type": "code",
   "execution_count": null,
   "id": "88b8a70e",
   "metadata": {
    "scrolled": true
   },
   "outputs": [],
   "source": [
    "stats_df_bn_lin_skip"
   ]
  },
  {
   "cell_type": "code",
   "execution_count": null,
   "id": "b48fd2cf",
   "metadata": {},
   "outputs": [],
   "source": [
    "stats_df_bn_lin"
   ]
  },
  {
   "cell_type": "markdown",
   "id": "f0d6c885",
   "metadata": {},
   "source": [
    "## Verification\n",
    "ignore this mostly - used to check the shape of lists and/or numpy arrays"
   ]
  },
  {
   "cell_type": "code",
   "execution_count": null,
   "id": "c2f58dd9",
   "metadata": {
    "scrolled": false
   },
   "outputs": [],
   "source": [
    "print(len(slight), 'x', len(slight[0]))\n",
    "print(len(lin), 'x', len(lin[0]))"
   ]
  },
  {
   "cell_type": "code",
   "execution_count": null,
   "id": "09ecd4c1",
   "metadata": {
    "scrolled": true
   },
   "outputs": [],
   "source": [
    "print(slight)"
   ]
  },
  {
   "cell_type": "code",
   "execution_count": null,
   "id": "14197a54",
   "metadata": {},
   "outputs": [],
   "source": [
    "slight.tolist()\n",
    "print(*slight, sep=\"\\n\")"
   ]
  },
  {
   "cell_type": "code",
   "execution_count": null,
   "id": "ea5c88b9",
   "metadata": {
    "scrolled": false
   },
   "outputs": [],
   "source": [
    "lin.tolist()\n",
    "print(*lin, sep=\"\\n\")"
   ]
  },
  {
   "cell_type": "code",
   "execution_count": null,
   "id": "782c0a39",
   "metadata": {
    "scrolled": true
   },
   "outputs": [],
   "source": [
    "# prints the coords of any differences\n",
    "import numpy as np\n",
    "lin = np.nan_to_num(lin)\n",
    "differences = slight - lin\n",
    "d = np.nonzero(differences)\n",
    "d0 = d[0].tolist()\n",
    "d1 = d[1].tolist()\n",
    "\n",
    "for i in range(len(d0)):\n",
    "    print(d0[i], d1[i])"
   ]
  },
  {
   "cell_type": "code",
   "execution_count": null,
   "id": "09b10d8e",
   "metadata": {},
   "outputs": [],
   "source": []
  }
 ],
 "metadata": {
  "kernelspec": {
   "display_name": "Python 3 (ipykernel)",
   "language": "python",
   "name": "python3"
  },
  "language_info": {
   "codemirror_mode": {
    "name": "ipython",
    "version": 3
   },
   "file_extension": ".py",
   "mimetype": "text/x-python",
   "name": "python",
   "nbconvert_exporter": "python",
   "pygments_lexer": "ipython3",
   "version": "3.8.3"
  }
 },
 "nbformat": 4,
 "nbformat_minor": 5
}
