{
 "cells": [
  {
   "cell_type": "code",
   "execution_count": null,
   "id": "678201ba-eecf-4c22-8192-7e35a34acaa8",
   "metadata": {},
   "outputs": [],
   "source": [
    "!pip uninstall opensoundscape\n",
    "!pip install opensoundscape==0.6\n",
    "from opensoundscape.preprocess.preprocessors import BasePreprocessor, CnnPreprocessor\n",
    "import torch\n",
    "import pandas as pd\n",
    "from pathlib import Path\n",
    "import numpy as np\n",
    "import pandas as pd\n",
    "from opensoundscape.torch.models import cnn\n",
    "from opensoundscape.torch.architectures import cnn_architectures"
   ]
  },
  {
   "cell_type": "code",
   "execution_count": null,
   "id": "061a3e9d",
   "metadata": {},
   "outputs": [],
   "source": [
    "df = pd.read_csv('screaming_pyha_test.csv')\n",
    "ef = pd.read_csv('flycatcher_test.csv')\n",
    "ff = pd.read_csv('antbird_test.csv')\n",
    "gf = pd.read_csv('attila_test.csv')\n",
    "hf = pd.read_csv('peppershrike_test.csv')\n",
    "print(df.shape)\n",
    "print(ef.shape)\n",
    "print(ff.shape)\n",
    "print(gf.shape)\n",
    "print(hf.shape)"
   ]
  },
  {
   "cell_type": "code",
   "execution_count": null,
   "id": "3d2b1263",
   "metadata": {},
   "outputs": [],
   "source": [
    "# df = df.append(ef, ignore_index=True)\n",
    "# df = df.append(ff, ignore_index=True)\n",
    "# df = df.append(gf, ignore_index=True)\n",
    "# df = df.append(hf, ignore_index=True)\n",
    "# df.shape\n",
    "df = pd.read_csv('xeno_canto_train_data.csv')\n",
    "ef = pd.read_csv('xeno_canto_test_data.csv')\n",
    "df"
   ]
  },
  {
   "cell_type": "code",
   "execution_count": null,
   "id": "d850d699",
   "metadata": {},
   "outputs": [],
   "source": [
    "ef"
   ]
  },
  {
   "cell_type": "code",
   "execution_count": null,
   "id": "4c8d9231",
   "metadata": {},
   "outputs": [],
   "source": [
    "#def fix_folder_path(filepath):\n",
    "#    folder = \"./XenoCanto_Data/Training_Xeno_Canto_2022/\"\n",
    "#    filename = filepath.split(\"/\")[-1]\n",
    "#    return folder + filename\n",
    "#df.iloc[0][\"file\"]\n",
    "#df[\"file\"] = df[\"file\"].apply(fix_folder_path)\n",
    "#fix_folder_path('./temp_clips/../XenoCanto_Data/Training_Xeno_Canto_2022/Hemitriccus-griseipectus-130084_0.0s_3.0s.wav')\n",
    "#df"
   ]
  },
  {
   "cell_type": "code",
   "execution_count": null,
   "id": "af9030b8",
   "metadata": {},
   "outputs": [],
   "source": [
    "#def fix_folder_path(filepath):\n",
    "#    folder = \"./XenoCanto_Data/Testing_Xeno_Canto_2022/\"\n",
    "#    filename = filepath.split(\"/\")[-1]\n",
    "#    return folder + filename\n",
    "#ef[\"file\"] = ef[\"file\"].apply(fix_folder_path)\n",
    "#ef"
   ]
  },
  {
   "cell_type": "code",
   "execution_count": null,
   "id": "f89cc89e",
   "metadata": {},
   "outputs": [],
   "source": [
    "# ff.drop('Unnamed: 0', inplace=True)\n",
    "df.columns"
   ]
  },
  {
   "cell_type": "code",
   "execution_count": null,
   "id": "257ef075",
   "metadata": {},
   "outputs": [],
   "source": [
    "df['MANUAL ID'].value_counts()"
   ]
  },
  {
   "cell_type": "code",
   "execution_count": null,
   "id": "6952d68b",
   "metadata": {},
   "outputs": [],
   "source": [
    "ef['MANUAL ID'].value_counts()"
   ]
  },
  {
   "cell_type": "code",
   "execution_count": null,
   "id": "e048aaa1",
   "metadata": {},
   "outputs": [],
   "source": [
    "df.loc[df['MANUAL ID'].str.contains('Toucan'), 'MANUAL ID'] = ef.loc[ef['MANUAL ID'].str.contains('Toucan'), 'MANUAL ID'] = 'Toucan'\n",
    "df.loc[df['MANUAL ID'].str.contains('Flycatcher'), 'MANUAL ID'] = 'Flycatcher'\n",
    "df.loc[df['MANUAL ID'].str.contains('Thrush'), 'MANUAL ID'] = 'Thrush'\n",
    "df.loc[df['MANUAL ID'].str.contains('Vireo'), 'MANUAL ID'] = ef.loc[ef['MANUAL ID'].str.contains('Vireo'), 'MANUAL ID'] = 'Vireo'\n",
    "df.loc[df['MANUAL ID'].str.contains('Antwren'), 'MANUAL ID'] = ef.loc[ef['MANUAL ID'].str.contains('Antwren'), 'MANUAL ID'] = 'Antwren'\n",
    "df.loc[df['MANUAL ID'].str.contains('Tanager'), 'MANUAL ID'] = ef.loc[ef['MANUAL ID'].str.contains('Tanager'), 'MANUAL ID'] = 'Tanager'\n",
    "df.loc[df['MANUAL ID'].str.contains('Kingbird'), 'MANUAL ID'] = ef.loc[ef['MANUAL ID'].str.contains('Kingbird'), 'MANUAL ID'] = 'Kingbird'\n",
    "df.loc[df['MANUAL ID'].str.contains('Tody-Tyrant'), 'MANUAL ID'] = ef.loc[ef['MANUAL ID'].str.contains('Tody-Tyrant'), 'MANUAL ID'] = 'Tody-Tyrant'\n",
    "df.loc[df['MANUAL ID'].str.contains('Hummingbird'), 'MANUAL ID'] = ef.loc[ef['MANUAL ID'].str.contains('Hummingbird'), 'MANUAL ID'] = 'Hummingbird'\n",
    "df.loc[df['MANUAL ID'].str.contains('Antshrike'), 'MANUAL ID'] = ef.loc[ef['MANUAL ID'].str.contains('Antshrike'), 'MANUAL ID'] = 'Antshrike'\n",
    "\n",
    "classes = ['Antwren', 'Antshrike', 'Toucan', 'Vireo', 'Kingbird', 'Tody-Tyrant']\n",
    "for i, row in df.iterrows():\n",
    "    if(row['MANUAL ID'] not in classes):\n",
    "        df.drop(i, inplace=True)\n",
    "for i, row in ef.iterrows():\n",
    "    if(row['MANUAL ID'] not in classes):\n",
    "        ef.drop(i, inplace=True)\n",
    "print(df['MANUAL ID'].value_counts())\n",
    "print(ef['MANUAL ID'].value_counts())"
   ]
  },
  {
   "cell_type": "code",
   "execution_count": null,
   "id": "fd08b116",
   "metadata": {},
   "outputs": [],
   "source": [
    "from opensoundscape.annotations import categorical_to_one_hot\n",
    "one_hot_labels, trainClasses = categorical_to_one_hot(df[['MANUAL ID']].values)\n",
    "trainValDF = pd.DataFrame(index=df['file'],data=one_hot_labels,columns=trainClasses)"
   ]
  },
  {
   "cell_type": "code",
   "execution_count": null,
   "id": "7f8c44a4",
   "metadata": {},
   "outputs": [],
   "source": [
    "one_hot_labels, testClasses = categorical_to_one_hot(ef[['MANUAL ID']].values)\n",
    "testDF = pd.DataFrame(index=ef['file'],data=one_hot_labels,columns=testClasses)"
   ]
  },
  {
   "cell_type": "code",
   "execution_count": null,
   "id": "3ecf0775",
   "metadata": {},
   "outputs": [],
   "source": [
    "'''\n",
    "    'Antwren', 'Antshrike', 'Toucan', 'Vireo', 'Kingbird', 'Tody-Tyrant'\n",
    "'''"
   ]
  },
  {
   "cell_type": "code",
   "execution_count": null,
   "id": "d6383a5a",
   "metadata": {},
   "outputs": [],
   "source": [
    "trainClasses"
   ]
  },
  {
   "cell_type": "code",
   "execution_count": null,
   "id": "d1f876f7",
   "metadata": {},
   "outputs": [],
   "source": [
    "testClasses"
   ]
  },
  {
   "cell_type": "code",
   "execution_count": null,
   "id": "f13348ff-d3eb-44d3-b29a-2ba0963b6c02",
   "metadata": {},
   "outputs": [],
   "source": [
    "# reference - http://opensoundscape.org/en/latest/api/modules.html?highlight=multiclass#opensoundscape.torch.models.cnn.Resnet18Multiclass\n",
    "\n",
    "# http://opensoundscape.org/en/latest/api/modules.html?highlight=multiclass#opensoundscape.metrics.multiclass_metrics"
   ]
  },
  {
   "cell_type": "code",
   "execution_count": null,
   "id": "76d56e69",
   "metadata": {},
   "outputs": [],
   "source": [
    "trainValDF\n"
   ]
  },
  {
   "cell_type": "code",
   "execution_count": null,
   "id": "ec470fad",
   "metadata": {},
   "outputs": [],
   "source": [
    "from sklearn.model_selection import train_test_split\n",
    "train_df, valid_df = train_test_split(trainValDF, test_size=0.2, random_state=42)\n",
    "# train_df, test_df = train_test_split(train_df, test_size=0.1, random_state=42)"
   ]
  },
  {
   "cell_type": "code",
   "execution_count": null,
   "id": "215adf91",
   "metadata": {},
   "outputs": [],
   "source": [
    "print(train_df.shape)\n",
    "print(valid_df.shape)\n",
    "print(testDF.shape)"
   ]
  },
  {
   "cell_type": "code",
   "execution_count": null,
   "id": "e86881d9",
   "metadata": {},
   "outputs": [],
   "source": [
    "train_df"
   ]
  },
  {
   "cell_type": "code",
   "execution_count": null,
   "id": "5796758b-3169-4cb7-ad5f-072bbd79e1e2",
   "metadata": {},
   "outputs": [],
   "source": [
    "train_dataset = CnnPreprocessor(df=train_df)\n",
    "train_dataset.augmentation_on()\n",
    "train_dataset.actions.load_audio.set(sample_rate=44100)\n",
    "valid_dataset = CnnPreprocessor(df=valid_df)\n",
    "valid_dataset.augmentation_on()\n",
    "valid_dataset.actions.load_audio.set(sample_rate=44100)"
   ]
  },
  {
   "cell_type": "code",
   "execution_count": null,
   "id": "f45eadac-9474-4ffa-9bde-3f0d8236fb2c",
   "metadata": {},
   "outputs": [],
   "source": [
    "model = cnn.Resnet18Multiclass(trainClasses)"
   ]
  },
  {
   "cell_type": "code",
   "execution_count": null,
   "id": "e25e9302",
   "metadata": {},
   "outputs": [],
   "source": [
    "train_dataset.classes"
   ]
  },
  {
   "cell_type": "code",
   "execution_count": null,
   "id": "087d1c63",
   "metadata": {},
   "outputs": [],
   "source": [
    "model.classes"
   ]
  },
  {
   "cell_type": "code",
   "execution_count": null,
   "id": "13587c56",
   "metadata": {},
   "outputs": [],
   "source": [
    "model.train(\n",
    "    train_dataset=train_dataset,\n",
    "    valid_dataset=valid_dataset,\n",
    "    save_path='./multilabel_train_six_classes_xeno_canto/',\n",
    "    epochs=10,\n",
    "    batch_size=32,\n",
    "    save_interval=100,\n",
    "    num_workers=2\n",
    ")"
   ]
  },
  {
   "cell_type": "code",
   "execution_count": null,
   "id": "bdc8c34f",
   "metadata": {},
   "outputs": [],
   "source": [
    "import matplotlib.pyplot as plt\n",
    "plt.scatter(model.loss_hist.keys(),model.loss_hist.values())\n",
    "plt.xlabel('epoch')\n",
    "plt.ylabel('loss')\n",
    "plt.show()"
   ]
  },
  {
   "cell_type": "code",
   "execution_count": null,
   "id": "82fabe8c",
   "metadata": {},
   "outputs": [],
   "source": [
    "from opensoundscape.torch.models.cnn import load_model\n",
    "model = load_model('./multilabel_train_six_classes_xeno_canto/best.model')"
   ]
  },
  {
   "cell_type": "code",
   "execution_count": null,
   "id": "f6a4ed4d",
   "metadata": {},
   "outputs": [],
   "source": [
    "prediction_dataset = model.train_dataset.sample(n=0)\n",
    "prediction_dataset.augmentation_off()\n",
    "prediction_dataset.df = testDF"
   ]
  },
  {
   "cell_type": "code",
   "execution_count": null,
   "id": "61baea49",
   "metadata": {},
   "outputs": [],
   "source": [
    "valid_scores_df, valid_preds_df, valid_labels_df = model.predict(prediction_dataset,\n",
    "                                                                 binary_preds='single_target',\n",
    "                                                                 batch_size=16,\n",
    "                                                                 num_workers=2,\n",
    "                                                                 activation_layer='softmax')"
   ]
  },
  {
   "cell_type": "code",
   "execution_count": null,
   "id": "7591665a",
   "metadata": {},
   "outputs": [],
   "source": [
    "from sklearn.metrics import classification_report, roc_auc_score, roc_curve\n",
    "print(classification_report(valid_labels_df, valid_preds_df))"
   ]
  },
  {
   "cell_type": "code",
   "execution_count": null,
   "id": "a6caa2df",
   "metadata": {},
   "outputs": [],
   "source": [
    "testDF.columns"
   ]
  },
  {
   "cell_type": "code",
   "execution_count": null,
   "id": "b5501ee6",
   "metadata": {},
   "outputs": [],
   "source": [
    "'''\n",
    "    Toucan                       3813\n",
    "Vireo                        2217\n",
    "Eastern Kingbird             1403\n",
    "White-bellied Tody-Tyrant    1018\n",
    "'''\n",
    "fpr, tpr, thresh = roc_curve(valid_labels_df['Antwren'],  valid_scores_df['Antwren'])\n",
    "auc = roc_auc_score(valid_labels_df['Antwren'],  valid_preds_df['Antwren'])\n",
    "\n",
    "fpr2, tpr2, thresh2 = roc_curve(valid_labels_df['Kingbird'],  valid_scores_df['Kingbird'])\n",
    "auc2 = roc_auc_score(valid_labels_df['Kingbird'],  valid_preds_df['Kingbird'])\n",
    "\n",
    "fpr3, tpr3, thresh3 = roc_curve(valid_labels_df['Vireo'],  valid_scores_df['Vireo'])\n",
    "auc3 = roc_auc_score(valid_labels_df['Vireo'],  valid_preds_df['Vireo'])\n",
    "\n",
    "fpr4, tpr4, thresh4 = roc_curve(valid_labels_df['Toucan'],  valid_scores_df['Toucan'])\n",
    "auc4 = roc_auc_score(valid_labels_df['Toucan'],  valid_preds_df['Toucan'])\n",
    "\n",
    "fpr5, tpr5, thresh5 = roc_curve(valid_labels_df['Tody-Tyrant'],  valid_scores_df['Tody-Tyrant'])\n",
    "auc5 = roc_auc_score(valid_labels_df['Tody-Tyrant'],  valid_preds_df['Tody-Tyrant'])\n",
    "\n",
    "fpr6, tpr6, thresh6 = roc_curve(valid_labels_df['Antshrike'],  valid_scores_df['Antshrike'])\n",
    "auc6 = roc_auc_score(valid_labels_df['Antshrike'],  valid_preds_df['Antshrike'])\n",
    "\n",
    "plt.plot(fpr,tpr,label=\"AUC Antwren\"+str(auc))\n",
    "plt.plot(fpr2,tpr2,label=\"AUC Kingbird\"+str(auc2))\n",
    "plt.plot(fpr3,tpr3,label=\"AUC Vireo\"+str(auc3))\n",
    "plt.plot(fpr4,tpr4,label=\"AUC Toucan\"+str(auc4))\n",
    "plt.plot(fpr5,tpr5,label=\"AUC Tody-Tyrant\"+str(auc5))\n",
    "plt.plot(fpr6,tpr6,label=\"AUC Antshrike\"+str(auc6))\n",
    "# plt.title('Prediction on peru dataset (Train: microfaune)')\n",
    "plt.ylabel('True Positive Rate')\n",
    "plt.xlabel('False Positive Rate')\n",
    "plt.legend()\n",
    "plt.show()"
   ]
  },
  {
   "cell_type": "code",
   "execution_count": null,
   "id": "e763f645",
   "metadata": {},
   "outputs": [],
   "source": []
  }
 ],
 "metadata": {
  "kernelspec": {
   "display_name": "Python 3",
   "language": "python",
   "name": "python3"
  },
  "language_info": {
   "codemirror_mode": {
    "name": "ipython",
    "version": 3
   },
   "file_extension": ".py",
   "mimetype": "text/x-python",
   "name": "python",
   "nbconvert_exporter": "python",
   "pygments_lexer": "ipython3",
   "version": "3.7.10"
  }
 },
 "nbformat": 4,
 "nbformat_minor": 5
}
