{
 "cells": [
  {
   "cell_type": "code",
   "execution_count": 1,
   "id": "56970da5",
   "metadata": {},
   "outputs": [
    {
     "name": "stdout",
     "output_type": "stream",
     "text": [
      "Requirement already satisfied: lxml in c:\\programdata\\miniconda3\\envs\\species-id\\lib\\site-packages (4.9.1)\n"
     ]
    }
   ],
   "source": [
    "!pip install lxml"
   ]
  },
  {
   "cell_type": "code",
   "execution_count": 2,
   "id": "a75845ed",
   "metadata": {},
   "outputs": [],
   "source": [
    "import requests\n",
    "from bs4 import BeautifulSoup\n",
    "import pandas as pd"
   ]
  },
  {
   "cell_type": "code",
   "execution_count": 3,
   "id": "e665e537",
   "metadata": {},
   "outputs": [],
   "source": [
    "def get_species_list(num_species=-1, url = 'https://xeno-canto.org/collection/species/all'):\n",
    "    #print(\"getting species list\")\n",
    "    #get page of all xento-canto species\n",
    "    \n",
    "    page = requests.get(url)\n",
    "    soup = BeautifulSoup(page.text)\n",
    "    species_table = soup.find_all(\"table\", {\"class\": \"results\"})[0]\n",
    "    \n",
    "    #get headers of table\n",
    "    headers = []\n",
    "    for i in species_table.find_all('thead'):\n",
    "         title = i.text\n",
    "         headers.append(title)\n",
    "    headers = headers[0].strip().split(\"\\n\")\n",
    "    \n",
    "    #add header for url and create DF\n",
    "    headers.append('url')\n",
    "    species_list = pd.DataFrame(columns = headers)\n",
    "    \n",
    "    #Get data from each row\n",
    "    for j in species_table.find_all('tr'):\n",
    "         #get row data\n",
    "         row_data = j.find_all('td')\n",
    "        \n",
    "         #get all text from row\n",
    "         row = [i.text for i in row_data]\n",
    "        \n",
    "         #get the link\n",
    "         row.append(row_data[0].a[\"href\"])\n",
    "        \n",
    "         #add to dataframe\n",
    "         length = len(species_list)\n",
    "         species_list.loc[length] = row\n",
    "\n",
    "    #Decide to return full list or do RS     \n",
    "    if (num_species == -1 or num_species > species_list.shape[0]):\n",
    "        return species_list\n",
    "    return species_list.sample(num_species).reset_index(drop=True)\n",
    "\n",
    "#get_species_list()\n",
    "#test1 = get_species_list(5)\n",
    "#test1"
   ]
  },
  {
   "cell_type": "code",
   "execution_count": null,
   "id": "759e56d6",
   "metadata": {},
   "outputs": [],
   "source": []
  },
  {
   "cell_type": "code",
   "execution_count": null,
   "id": "05cc409b",
   "metadata": {},
   "outputs": [],
   "source": []
  },
  {
   "cell_type": "code",
   "execution_count": null,
   "id": "a6b5da26",
   "metadata": {},
   "outputs": [],
   "source": []
  },
  {
   "cell_type": "code",
   "execution_count": 4,
   "id": "028510c7",
   "metadata": {},
   "outputs": [],
   "source": [
    "def get_species_data(link_to_XC, pg=\"?pg=\"):\n",
    "    #print(\"getting species file metadata for: \" + link_to_XC)\n",
    "    #get soup for Species\n",
    "    url = 'https://xeno-canto.org' + link_to_XC\n",
    "    page = requests.get(url)\n",
    "    soup = BeautifulSoup(page.text, 'lxml')\n",
    "    species_table = soup.find_all(\"table\", {\"class\": \"results\"})[0]\n",
    "    \n",
    "    # Obtain every title of columns with tag <th>\n",
    "    headers = []\n",
    "    for i in species_table.find_all('thead'):\n",
    "     title = i.text\n",
    "     headers.append(title)\n",
    "\n",
    "    headers = headers[0].strip()\n",
    "    headers = headers.split(\"\\n\")\n",
    "    headers[1] = \"Common name / Scientific\"\n",
    "    headers.append(\"copyright\")\n",
    "    headers.append(\"filename\")\n",
    "    headers.append(\"download url\")\n",
    "\n",
    "\n",
    "    species_list = pd.DataFrame(columns = headers[1:])\n",
    "    \n",
    "    \n",
    "    page_count = 1\n",
    "    while len(species_table.find_all('tr')) != 1:\n",
    "        \n",
    "        #print(len(species_table.find_all('tr')))\n",
    "        \n",
    "        #Get data from each row\n",
    "        for j in species_table.find_all('tr'):\n",
    "            #get row data\n",
    "            row_data = j.find_all('td')\n",
    "\n",
    "            if (row_data == []):\n",
    "                   continue\n",
    "\n",
    "            #print(row_data) \n",
    "            #get all text from row\n",
    "            row = [i.text.strip() for i in row_data][1:]\n",
    "\n",
    "            #get copyright, download link and filename\n",
    "            copyright = row_data[12].a.span[\"title\"]\n",
    "            try:\n",
    "                 filename = row_data[11].a[\"download\"]\n",
    "            except:\n",
    "                filename = \"PROTECTED SPECIES\"\n",
    "            download_url = row_data[11].a[\"href\"]\n",
    "            row.append(copyright)\n",
    "            row.append(filename)\n",
    "            row.append(download_url)\n",
    "\n",
    "            #add to dataframe\n",
    "            length = len(species_list)\n",
    "            species_list.loc[length] = row\n",
    "        \n",
    "        ## Get data for next page of audio data\n",
    "        page_count += 1\n",
    "        url = 'https://xeno-canto.org' + link_to_XC + \"pg=\" + str(page_count)\n",
    "        page = requests.get(url)\n",
    "        soup = BeautifulSoup(page.text, 'lxml')\n",
    "        species_table = soup.find_all(\"table\", {\"class\": \"results\"})[0]\n",
    "    return species_list\n",
    "\n",
    "#test2 = get_species_data(test1.iloc[0][\"url\"])\n",
    "#test2"
   ]
  },
  {
   "cell_type": "code",
   "execution_count": 5,
   "id": "ed9c8e7e",
   "metadata": {},
   "outputs": [],
   "source": [
    "data = get_species_data(\"/explore?query=box%3A17.301%2C-78.652%2C18.837%2C-75.839+&dir=0&order=en&\")"
   ]
  },
  {
   "cell_type": "code",
   "execution_count": 6,
   "id": "28f897a6",
   "metadata": {},
   "outputs": [
    {
     "data": {
      "text/html": [
       "<div>\n",
       "<style scoped>\n",
       "    .dataframe tbody tr th:only-of-type {\n",
       "        vertical-align: middle;\n",
       "    }\n",
       "\n",
       "    .dataframe tbody tr th {\n",
       "        vertical-align: top;\n",
       "    }\n",
       "\n",
       "    .dataframe thead th {\n",
       "        text-align: right;\n",
       "    }\n",
       "</style>\n",
       "<table border=\"1\" class=\"dataframe\">\n",
       "  <thead>\n",
       "    <tr style=\"text-align: right;\">\n",
       "      <th></th>\n",
       "      <th>Common name / Scientific</th>\n",
       "      <th>Length</th>\n",
       "      <th>Recordist</th>\n",
       "      <th>Date</th>\n",
       "      <th>Time</th>\n",
       "      <th>Country</th>\n",
       "      <th>Location</th>\n",
       "      <th>Elev. (m)</th>\n",
       "      <th>Type</th>\n",
       "      <th>Remarks</th>\n",
       "      <th>Actions</th>\n",
       "      <th>Cat.nr.</th>\n",
       "      <th>copyright</th>\n",
       "      <th>filename</th>\n",
       "      <th>download url</th>\n",
       "    </tr>\n",
       "  </thead>\n",
       "  <tbody>\n",
       "    <tr>\n",
       "      <th>0</th>\n",
       "      <td>American Redstart (Setophaga ruticilla)</td>\n",
       "      <td>0:05</td>\n",
       "      <td>Ross Gallardy</td>\n",
       "      <td>2016-03-09</td>\n",
       "      <td>16:30</td>\n",
       "      <td>Jamaica</td>\n",
       "      <td>Ecclesdown Rd</td>\n",
       "      <td>300</td>\n",
       "      <td>call, male</td>\n",
       "      <td>bird-seen:yes\\nplayback-used:no\\n [sono]</td>\n",
       "      <td>ABCDE</td>\n",
       "      <td>XC308434</td>\n",
       "      <td>Creative Commons Attribution-NonCommercial-Sha...</td>\n",
       "      <td>XC308434 - American Redstart - Setophaga rutic...</td>\n",
       "      <td>/308434/download</td>\n",
       "    </tr>\n",
       "    <tr>\n",
       "      <th>1</th>\n",
       "      <td>American Redstart (Setophaga ruticilla)</td>\n",
       "      <td>0:22</td>\n",
       "      <td>Nathan Hentze</td>\n",
       "      <td>2014-02-09</td>\n",
       "      <td>11:49</td>\n",
       "      <td>Jamaica</td>\n",
       "      <td>Burnt Hil, Trelawny</td>\n",
       "      <td>500</td>\n",
       "      <td>call</td>\n",
       "      <td>Spontaneously calling bird moving around roads...</td>\n",
       "      <td>ABCDE</td>\n",
       "      <td>XC289892</td>\n",
       "      <td>Creative Commons Attribution-NonCommercial-Sha...</td>\n",
       "      <td>XC289892 - American Redstart - Setophaga rutic...</td>\n",
       "      <td>/289892/download</td>\n",
       "    </tr>\n",
       "    <tr>\n",
       "      <th>2</th>\n",
       "      <td>Arrowhead Warbler (Setophaga pharetra)</td>\n",
       "      <td>0:21</td>\n",
       "      <td>Richard C. Hoyer</td>\n",
       "      <td>2010-04-11</td>\n",
       "      <td>11:54</td>\n",
       "      <td>Jamaica</td>\n",
       "      <td>Ecclesdown, Portland</td>\n",
       "      <td>220</td>\n",
       "      <td>call</td>\n",
       "      <td>female in response to pishing\\n Recording (not...</td>\n",
       "      <td>ABCDE</td>\n",
       "      <td>XC48115</td>\n",
       "      <td>Creative Commons Attribution-NonCommercial-NoD...</td>\n",
       "      <td>XC48115 - Arrowhead Warbler - Setophaga pharet...</td>\n",
       "      <td>/48115/download</td>\n",
       "    </tr>\n",
       "    <tr>\n",
       "      <th>3</th>\n",
       "      <td>Bahama Mockingbird (Mimus gundlachii hillii)</td>\n",
       "      <td>2:30</td>\n",
       "      <td>Nathan Hentze</td>\n",
       "      <td>2014-02-09</td>\n",
       "      <td>10:01</td>\n",
       "      <td>Jamaica</td>\n",
       "      <td>Portland Cottage, Clarendon Parish, Jamaica</td>\n",
       "      <td>4</td>\n",
       "      <td>song</td>\n",
       "      <td>Perched in low branches of tree ~10 ft above g...</td>\n",
       "      <td>ABCDE</td>\n",
       "      <td>XC203771</td>\n",
       "      <td>Creative Commons Attribution-NonCommercial-Sha...</td>\n",
       "      <td>XC203771 - Bahama Mockingbird - Mimus gundlach...</td>\n",
       "      <td>/203771/download</td>\n",
       "    </tr>\n",
       "    <tr>\n",
       "      <th>4</th>\n",
       "      <td>Bahama Mockingbird (Mimus gundlachii)</td>\n",
       "      <td>2:31</td>\n",
       "      <td>Garrett MacDonald</td>\n",
       "      <td>2013-05-06</td>\n",
       "      <td>13:22</td>\n",
       "      <td>Jamaica</td>\n",
       "      <td>Portland Cottage, Clarendon Parish, Jamaica</td>\n",
       "      <td>0</td>\n",
       "      <td>song</td>\n",
       "      <td>bird-seen:yes\\nplayback-used:yes\\n [sono]</td>\n",
       "      <td>ABCDE</td>\n",
       "      <td>XC133044</td>\n",
       "      <td>Creative Commons Attribution-NonCommercial-Sha...</td>\n",
       "      <td>XC133044 - Bahama Mockingbird - Mimus gundlach...</td>\n",
       "      <td>/133044/download</td>\n",
       "    </tr>\n",
       "    <tr>\n",
       "      <th>...</th>\n",
       "      <td>...</td>\n",
       "      <td>...</td>\n",
       "      <td>...</td>\n",
       "      <td>...</td>\n",
       "      <td>...</td>\n",
       "      <td>...</td>\n",
       "      <td>...</td>\n",
       "      <td>...</td>\n",
       "      <td>...</td>\n",
       "      <td>...</td>\n",
       "      <td>...</td>\n",
       "      <td>...</td>\n",
       "      <td>...</td>\n",
       "      <td>...</td>\n",
       "      <td>...</td>\n",
       "    </tr>\n",
       "    <tr>\n",
       "      <th>164</th>\n",
       "      <td>Yellow-faced Grassquit (Tiaris olivaceus)</td>\n",
       "      <td>0:17</td>\n",
       "      <td>Kiirsti</td>\n",
       "      <td>2017-02-25</td>\n",
       "      <td>08:00</td>\n",
       "      <td>Jamaica</td>\n",
       "      <td>Fonthill Beach (near  Font Hill), St. Elizabet...</td>\n",
       "      <td>0</td>\n",
       "      <td>male, song</td>\n",
       "      <td>Male singing in logwood-dominant, dry-scrub ha...</td>\n",
       "      <td>ABCDE</td>\n",
       "      <td>XC362785</td>\n",
       "      <td>Creative Commons Attribution-NonCommercial-Sha...</td>\n",
       "      <td>XC362785 - Yellow-faced Grassquit - Tiaris oli...</td>\n",
       "      <td>/362785/download</td>\n",
       "    </tr>\n",
       "    <tr>\n",
       "      <th>165</th>\n",
       "      <td>Yellow-shouldered Grassquit (Loxipasser anoxan...</td>\n",
       "      <td>0:19</td>\n",
       "      <td>Richard C. Hoyer</td>\n",
       "      <td>2010-04-11</td>\n",
       "      <td>10:04</td>\n",
       "      <td>Jamaica</td>\n",
       "      <td>Ecclesdown, Portland</td>\n",
       "      <td>220</td>\n",
       "      <td>song</td>\n",
       "      <td>[sono]</td>\n",
       "      <td>ABCDE</td>\n",
       "      <td>XC48144</td>\n",
       "      <td>Creative Commons Attribution-NonCommercial-NoD...</td>\n",
       "      <td>XC48144 - Yellow-shouldered Grassquit - Loxipa...</td>\n",
       "      <td>/48144/download</td>\n",
       "    </tr>\n",
       "    <tr>\n",
       "      <th>166</th>\n",
       "      <td>Yellow-shouldered Grassquit (Loxipasser anoxan...</td>\n",
       "      <td>0:18</td>\n",
       "      <td>Richard C. Hoyer</td>\n",
       "      <td>2010-04-12</td>\n",
       "      <td>13:21</td>\n",
       "      <td>Jamaica</td>\n",
       "      <td>Ecclesdown, Portland</td>\n",
       "      <td>220</td>\n",
       "      <td>song</td>\n",
       "      <td>[sono]</td>\n",
       "      <td>ABCDE</td>\n",
       "      <td>XC48143</td>\n",
       "      <td>Creative Commons Attribution-NonCommercial-NoD...</td>\n",
       "      <td>XC48143 - Yellow-shouldered Grassquit - Loxipa...</td>\n",
       "      <td>/48143/download</td>\n",
       "    </tr>\n",
       "    <tr>\n",
       "      <th>167</th>\n",
       "      <td>Yellow-shouldered Grassquit (Loxipasser anoxan...</td>\n",
       "      <td>0:05</td>\n",
       "      <td>Bobby Wilcox</td>\n",
       "      <td>2022-01-27</td>\n",
       "      <td>14:00</td>\n",
       "      <td>Jamaica</td>\n",
       "      <td>Green Castle Estate House, Robins Bay, Saint M...</td>\n",
       "      <td>120</td>\n",
       "      <td>male, song</td>\n",
       "      <td>About 15m away in rainforest. \\nbird-seen:yes\\...</td>\n",
       "      <td>ABCDE</td>\n",
       "      <td>XC713807</td>\n",
       "      <td>Creative Commons Attribution-NonCommercial-Sha...</td>\n",
       "      <td>XC713807 - Yellow-shouldered Grassquit - Loxip...</td>\n",
       "      <td>/713807/download</td>\n",
       "    </tr>\n",
       "    <tr>\n",
       "      <th>168</th>\n",
       "      <td>Yellow-shouldered Grassquit (Loxipasser anoxan...</td>\n",
       "      <td>1:01</td>\n",
       "      <td>Nick Komar</td>\n",
       "      <td>2018-07-13</td>\n",
       "      <td>08:30</td>\n",
       "      <td>Jamaica</td>\n",
       "      <td>Ecclesdown Road, Portland Parish</td>\n",
       "      <td>140</td>\n",
       "      <td>song</td>\n",
       "      <td>Recording filtered and normalized.\\nbird-seen:...</td>\n",
       "      <td>ABCDE</td>\n",
       "      <td>XC426057</td>\n",
       "      <td>Creative Commons Attribution-NonCommercial-Sha...</td>\n",
       "      <td>XC426057 - Yellow-shouldered Grassquit - Loxip...</td>\n",
       "      <td>/426057/download</td>\n",
       "    </tr>\n",
       "  </tbody>\n",
       "</table>\n",
       "<p>169 rows × 15 columns</p>\n",
       "</div>"
      ],
      "text/plain": [
       "                              Common name / Scientific Length  \\\n",
       "0              American Redstart (Setophaga ruticilla)   0:05   \n",
       "1              American Redstart (Setophaga ruticilla)   0:22   \n",
       "2               Arrowhead Warbler (Setophaga pharetra)   0:21   \n",
       "3         Bahama Mockingbird (Mimus gundlachii hillii)   2:30   \n",
       "4                Bahama Mockingbird (Mimus gundlachii)   2:31   \n",
       "..                                                 ...    ...   \n",
       "164          Yellow-faced Grassquit (Tiaris olivaceus)   0:17   \n",
       "165  Yellow-shouldered Grassquit (Loxipasser anoxan...   0:19   \n",
       "166  Yellow-shouldered Grassquit (Loxipasser anoxan...   0:18   \n",
       "167  Yellow-shouldered Grassquit (Loxipasser anoxan...   0:05   \n",
       "168  Yellow-shouldered Grassquit (Loxipasser anoxan...   1:01   \n",
       "\n",
       "             Recordist        Date   Time  Country  \\\n",
       "0        Ross Gallardy  2016-03-09  16:30  Jamaica   \n",
       "1        Nathan Hentze  2014-02-09  11:49  Jamaica   \n",
       "2     Richard C. Hoyer  2010-04-11  11:54  Jamaica   \n",
       "3        Nathan Hentze  2014-02-09  10:01  Jamaica   \n",
       "4    Garrett MacDonald  2013-05-06  13:22  Jamaica   \n",
       "..                 ...         ...    ...      ...   \n",
       "164            Kiirsti  2017-02-25  08:00  Jamaica   \n",
       "165   Richard C. Hoyer  2010-04-11  10:04  Jamaica   \n",
       "166   Richard C. Hoyer  2010-04-12  13:21  Jamaica   \n",
       "167       Bobby Wilcox  2022-01-27  14:00  Jamaica   \n",
       "168         Nick Komar  2018-07-13  08:30  Jamaica   \n",
       "\n",
       "                                              Location Elev. (m)        Type  \\\n",
       "0                                        Ecclesdown Rd       300  call, male   \n",
       "1                                  Burnt Hil, Trelawny       500        call   \n",
       "2                                 Ecclesdown, Portland       220        call   \n",
       "3          Portland Cottage, Clarendon Parish, Jamaica         4        song   \n",
       "4          Portland Cottage, Clarendon Parish, Jamaica         0        song   \n",
       "..                                                 ...       ...         ...   \n",
       "164  Fonthill Beach (near  Font Hill), St. Elizabet...         0  male, song   \n",
       "165                               Ecclesdown, Portland       220        song   \n",
       "166                               Ecclesdown, Portland       220        song   \n",
       "167  Green Castle Estate House, Robins Bay, Saint M...       120  male, song   \n",
       "168                   Ecclesdown Road, Portland Parish       140        song   \n",
       "\n",
       "                                               Remarks Actions   Cat.nr.  \\\n",
       "0             bird-seen:yes\\nplayback-used:no\\n [sono]   ABCDE  XC308434   \n",
       "1    Spontaneously calling bird moving around roads...   ABCDE  XC289892   \n",
       "2    female in response to pishing\\n Recording (not...   ABCDE   XC48115   \n",
       "3    Perched in low branches of tree ~10 ft above g...   ABCDE  XC203771   \n",
       "4            bird-seen:yes\\nplayback-used:yes\\n [sono]   ABCDE  XC133044   \n",
       "..                                                 ...     ...       ...   \n",
       "164  Male singing in logwood-dominant, dry-scrub ha...   ABCDE  XC362785   \n",
       "165                                             [sono]   ABCDE   XC48144   \n",
       "166                                             [sono]   ABCDE   XC48143   \n",
       "167  About 15m away in rainforest. \\nbird-seen:yes\\...   ABCDE  XC713807   \n",
       "168  Recording filtered and normalized.\\nbird-seen:...   ABCDE  XC426057   \n",
       "\n",
       "                                             copyright  \\\n",
       "0    Creative Commons Attribution-NonCommercial-Sha...   \n",
       "1    Creative Commons Attribution-NonCommercial-Sha...   \n",
       "2    Creative Commons Attribution-NonCommercial-NoD...   \n",
       "3    Creative Commons Attribution-NonCommercial-Sha...   \n",
       "4    Creative Commons Attribution-NonCommercial-Sha...   \n",
       "..                                                 ...   \n",
       "164  Creative Commons Attribution-NonCommercial-Sha...   \n",
       "165  Creative Commons Attribution-NonCommercial-NoD...   \n",
       "166  Creative Commons Attribution-NonCommercial-NoD...   \n",
       "167  Creative Commons Attribution-NonCommercial-Sha...   \n",
       "168  Creative Commons Attribution-NonCommercial-Sha...   \n",
       "\n",
       "                                              filename      download url  \n",
       "0    XC308434 - American Redstart - Setophaga rutic...  /308434/download  \n",
       "1    XC289892 - American Redstart - Setophaga rutic...  /289892/download  \n",
       "2    XC48115 - Arrowhead Warbler - Setophaga pharet...   /48115/download  \n",
       "3    XC203771 - Bahama Mockingbird - Mimus gundlach...  /203771/download  \n",
       "4    XC133044 - Bahama Mockingbird - Mimus gundlach...  /133044/download  \n",
       "..                                                 ...               ...  \n",
       "164  XC362785 - Yellow-faced Grassquit - Tiaris oli...  /362785/download  \n",
       "165  XC48144 - Yellow-shouldered Grassquit - Loxipa...   /48144/download  \n",
       "166  XC48143 - Yellow-shouldered Grassquit - Loxipa...   /48143/download  \n",
       "167  XC713807 - Yellow-shouldered Grassquit - Loxip...  /713807/download  \n",
       "168  XC426057 - Yellow-shouldered Grassquit - Loxip...  /426057/download  \n",
       "\n",
       "[169 rows x 15 columns]"
      ]
     },
     "execution_count": 6,
     "metadata": {},
     "output_type": "execute_result"
    }
   ],
   "source": [
    "data"
   ]
  },
  {
   "cell_type": "code",
   "execution_count": 7,
   "id": "41e56a28",
   "metadata": {},
   "outputs": [],
   "source": [
    "data.to_csv(\"Jamaica.csv\")"
   ]
  },
  {
   "cell_type": "code",
   "execution_count": 8,
   "id": "1cc7446d",
   "metadata": {},
   "outputs": [],
   "source": [
    "data.groupby(\"Common name / Scientific\").count().sort_values(by=\"Length\", ascending=False).rename(columns={\"Length\": \"Count\"})[[\"Count\"]].to_csv(\"Jamaica Counts\")"
   ]
  },
  {
   "cell_type": "code",
   "execution_count": 9,
   "id": "d044bfb7",
   "metadata": {},
   "outputs": [
    {
     "data": {
      "text/plain": [
       "Index(['(?) Identity unknown', 'American Redstart (Setophaga ruticilla)',\n",
       "       'Arrowhead Warbler (Setophaga pharetra)',\n",
       "       'Bahama Mockingbird (Mimus gundlachii hillii)',\n",
       "       'Bahama Mockingbird (Mimus gundlachii)',\n",
       "       'Bananaquit (Coereba flaveola flaveola)',\n",
       "       'Bananaquit (Coereba flaveola)', 'Black-billed Amazon (Amazona agilis)',\n",
       "       'Black-billed Streamertail (Trochilus scitulus)',\n",
       "       'Black-faced Grassquit (Tiaris bicolor marchii)',\n",
       "       'Black-whiskered Vireo (Vireo altiloquus)',\n",
       "       'Blue Mountain Vireo (Vireo osburni)',\n",
       "       'Caribbean Dove (Leptotila jamaicensis jamaicensis)',\n",
       "       'Chestnut-bellied Cuckoo (Coccyzus pluvialis)',\n",
       "       'Crested Quail-Dove (Geotrygon versicolor)',\n",
       "       'Greater Antillean Bullfinch (Loxigilla violacea ruficollis)',\n",
       "       'Greater Antillean Bullfinch (Loxigilla violacea)',\n",
       "       'Greater Antillean Elaenia (Elaenia fallax)',\n",
       "       'Greater Antillean Grackle (Quiscalus niger crassirostris)',\n",
       "       'Greater Antillean Grackle (Quiscalus niger)',\n",
       "       'Grey Kingbird (Tyrannus dominicensis)',\n",
       "       'Jamaican Becard (Pachyramphus niger)',\n",
       "       'Jamaican Blackbird (Nesopsar nigerrimus)',\n",
       "       'Jamaican Crow (Corvus jamaicensis)',\n",
       "       'Jamaican Elaenia (Myiopagis cotta)',\n",
       "       'Jamaican Euphonia (Euphonia jamaica)',\n",
       "       'Jamaican Lizard Cuckoo (Coccyzus vetula)',\n",
       "       'Jamaican Mango (Anthracothorax mango)',\n",
       "       'Jamaican Oriole (Icterus leucopteryx leucopteryx)',\n",
       "       'Jamaican Oriole (Icterus leucopteryx)',\n",
       "       'Jamaican Owl (Pseudoscops grammicus)',\n",
       "       'Jamaican Pewee (Contopus pallidus)',\n",
       "       'Jamaican Spindalis (Spindalis nigricephala)',\n",
       "       'Jamaican Tody (Todus todus)', 'Jamaican Vireo (Vireo modestus)',\n",
       "       'Jamaican Woodpecker (Melanerpes radiolatus)',\n",
       "       'Loggerhead Kingbird (Tyrannus caudifasciatus jamaicensis)',\n",
       "       'Loggerhead Kingbird (Tyrannus caudifasciatus)',\n",
       "       'Mangrove Warbler (Setophaga petechia Golden (Petechia))',\n",
       "       'Mangrove Warbler (Setophaga petechia eoa)',\n",
       "       'Northern Mockingbird (Mimus polyglottos orpheus)',\n",
       "       'Northern Mockingbird (Mimus polyglottos)',\n",
       "       'Northern Parula (Setophaga americana)',\n",
       "       'Olive-throated Parakeet (Eupsittula nana)',\n",
       "       'Orangequit (Euneornis campestris)', 'Ovenbird (Seiurus aurocapilla)',\n",
       "       'Plain Pigeon (Patagioenas inornata)',\n",
       "       'Red-billed Streamertail (Trochilus polytmus)',\n",
       "       'Ring-tailed Pigeon (Patagioenas caribaea)',\n",
       "       'Ruddy Quail-Dove (Geotrygon montana)',\n",
       "       'Rufous-tailed Flycatcher (Myiarchus validus)',\n",
       "       'Rufous-throated Solitaire (Myadestes genibarbis solitarius)',\n",
       "       'Sad Flycatcher (Myiarchus barbirostris)',\n",
       "       'Vervain Hummingbird (Mellisuga minima minima)',\n",
       "       'Vervain Hummingbird (Mellisuga minima)',\n",
       "       'White-chinned Thrush (Turdus aurantius)',\n",
       "       'White-eyed Thrush (Turdus jamaicensis)',\n",
       "       'White-winged Dove (Zenaida asiatica)',\n",
       "       'Yellow-billed Amazon (Amazona collaria)',\n",
       "       'Yellow-faced Grassquit (Tiaris olivaceus)',\n",
       "       'Yellow-shouldered Grassquit (Loxipasser anoxanthus)'],\n",
       "      dtype='object', name='Common name / Scientific')"
      ]
     },
     "execution_count": 9,
     "metadata": {},
     "output_type": "execute_result"
    }
   ],
   "source": [
    "data.groupby(\"Common name / Scientific\").count().index"
   ]
  },
  {
   "cell_type": "code",
   "execution_count": 10,
   "id": "a3a9f0ba",
   "metadata": {},
   "outputs": [
    {
     "ename": "KeyboardInterrupt",
     "evalue": "",
     "output_type": "error",
     "traceback": [
      "\u001b[1;31m---------------------------------------------------------------------------\u001b[0m",
      "\u001b[1;31mKeyboardInterrupt\u001b[0m                         Traceback (most recent call last)",
      "\u001b[1;32m<ipython-input-10-cb4ccd487474>\u001b[0m in \u001b[0;36m<module>\u001b[1;34m\u001b[0m\n\u001b[1;32m----> 1\u001b[1;33m \u001b[0mall_species\u001b[0m \u001b[1;33m=\u001b[0m \u001b[0mget_species_list\u001b[0m\u001b[1;33m(\u001b[0m\u001b[1;33m)\u001b[0m\u001b[1;33m\u001b[0m\u001b[1;33m\u001b[0m\u001b[0m\n\u001b[0m",
      "\u001b[1;32m<ipython-input-3-4248c85a0618>\u001b[0m in \u001b[0;36mget_species_list\u001b[1;34m(num_species, url)\u001b[0m\n\u001b[0;32m     31\u001b[0m          \u001b[1;31m#add to dataframe\u001b[0m\u001b[1;33m\u001b[0m\u001b[1;33m\u001b[0m\u001b[1;33m\u001b[0m\u001b[0m\n\u001b[0;32m     32\u001b[0m          \u001b[0mlength\u001b[0m \u001b[1;33m=\u001b[0m \u001b[0mlen\u001b[0m\u001b[1;33m(\u001b[0m\u001b[0mspecies_list\u001b[0m\u001b[1;33m)\u001b[0m\u001b[1;33m\u001b[0m\u001b[1;33m\u001b[0m\u001b[0m\n\u001b[1;32m---> 33\u001b[1;33m          \u001b[0mspecies_list\u001b[0m\u001b[1;33m.\u001b[0m\u001b[0mloc\u001b[0m\u001b[1;33m[\u001b[0m\u001b[0mlength\u001b[0m\u001b[1;33m]\u001b[0m \u001b[1;33m=\u001b[0m \u001b[0mrow\u001b[0m\u001b[1;33m\u001b[0m\u001b[1;33m\u001b[0m\u001b[0m\n\u001b[0m\u001b[0;32m     34\u001b[0m \u001b[1;33m\u001b[0m\u001b[0m\n\u001b[0;32m     35\u001b[0m     \u001b[1;31m#Decide to return full list or do RS\u001b[0m\u001b[1;33m\u001b[0m\u001b[1;33m\u001b[0m\u001b[1;33m\u001b[0m\u001b[0m\n",
      "\u001b[1;32m~\\AppData\\Roaming\\Python\\Python37\\site-packages\\pandas\\core\\indexing.py\u001b[0m in \u001b[0;36m__setitem__\u001b[1;34m(self, key, value)\u001b[0m\n\u001b[0;32m    668\u001b[0m \u001b[1;33m\u001b[0m\u001b[0m\n\u001b[0;32m    669\u001b[0m         \u001b[0miloc\u001b[0m \u001b[1;33m=\u001b[0m \u001b[0mself\u001b[0m \u001b[1;32mif\u001b[0m \u001b[0mself\u001b[0m\u001b[1;33m.\u001b[0m\u001b[0mname\u001b[0m \u001b[1;33m==\u001b[0m \u001b[1;34m\"iloc\"\u001b[0m \u001b[1;32melse\u001b[0m \u001b[0mself\u001b[0m\u001b[1;33m.\u001b[0m\u001b[0mobj\u001b[0m\u001b[1;33m.\u001b[0m\u001b[0miloc\u001b[0m\u001b[1;33m\u001b[0m\u001b[1;33m\u001b[0m\u001b[0m\n\u001b[1;32m--> 670\u001b[1;33m         \u001b[0miloc\u001b[0m\u001b[1;33m.\u001b[0m\u001b[0m_setitem_with_indexer\u001b[0m\u001b[1;33m(\u001b[0m\u001b[0mindexer\u001b[0m\u001b[1;33m,\u001b[0m \u001b[0mvalue\u001b[0m\u001b[1;33m)\u001b[0m\u001b[1;33m\u001b[0m\u001b[1;33m\u001b[0m\u001b[0m\n\u001b[0m\u001b[0;32m    671\u001b[0m \u001b[1;33m\u001b[0m\u001b[0m\n\u001b[0;32m    672\u001b[0m     \u001b[1;32mdef\u001b[0m \u001b[0m_validate_key\u001b[0m\u001b[1;33m(\u001b[0m\u001b[0mself\u001b[0m\u001b[1;33m,\u001b[0m \u001b[0mkey\u001b[0m\u001b[1;33m,\u001b[0m \u001b[0maxis\u001b[0m\u001b[1;33m:\u001b[0m \u001b[0mint\u001b[0m\u001b[1;33m)\u001b[0m\u001b[1;33m:\u001b[0m\u001b[1;33m\u001b[0m\u001b[1;33m\u001b[0m\u001b[0m\n",
      "\u001b[1;32m~\\AppData\\Roaming\\Python\\Python37\\site-packages\\pandas\\core\\indexing.py\u001b[0m in \u001b[0;36m_setitem_with_indexer\u001b[1;34m(self, indexer, value)\u001b[0m\n\u001b[0;32m   1624\u001b[0m \u001b[1;33m\u001b[0m\u001b[0m\n\u001b[0;32m   1625\u001b[0m             \u001b[1;32mif\u001b[0m \u001b[0mmissing\u001b[0m\u001b[1;33m:\u001b[0m\u001b[1;33m\u001b[0m\u001b[1;33m\u001b[0m\u001b[0m\n\u001b[1;32m-> 1626\u001b[1;33m                 \u001b[0mself\u001b[0m\u001b[1;33m.\u001b[0m\u001b[0m_setitem_with_indexer_missing\u001b[0m\u001b[1;33m(\u001b[0m\u001b[0mindexer\u001b[0m\u001b[1;33m,\u001b[0m \u001b[0mvalue\u001b[0m\u001b[1;33m)\u001b[0m\u001b[1;33m\u001b[0m\u001b[1;33m\u001b[0m\u001b[0m\n\u001b[0m\u001b[0;32m   1627\u001b[0m                 \u001b[1;32mreturn\u001b[0m\u001b[1;33m\u001b[0m\u001b[1;33m\u001b[0m\u001b[0m\n\u001b[0;32m   1628\u001b[0m \u001b[1;33m\u001b[0m\u001b[0m\n",
      "\u001b[1;32m~\\AppData\\Roaming\\Python\\Python37\\site-packages\\pandas\\core\\indexing.py\u001b[0m in \u001b[0;36m_setitem_with_indexer_missing\u001b[1;34m(self, indexer, value)\u001b[0m\n\u001b[0;32m   1860\u001b[0m                 \u001b[0mvalue\u001b[0m \u001b[1;33m=\u001b[0m \u001b[0mSeries\u001b[0m\u001b[1;33m(\u001b[0m\u001b[0mvalue\u001b[0m\u001b[1;33m,\u001b[0m \u001b[0mindex\u001b[0m\u001b[1;33m=\u001b[0m\u001b[0mself\u001b[0m\u001b[1;33m.\u001b[0m\u001b[0mobj\u001b[0m\u001b[1;33m.\u001b[0m\u001b[0mcolumns\u001b[0m\u001b[1;33m,\u001b[0m \u001b[0mname\u001b[0m\u001b[1;33m=\u001b[0m\u001b[0mindexer\u001b[0m\u001b[1;33m)\u001b[0m\u001b[1;33m\u001b[0m\u001b[1;33m\u001b[0m\u001b[0m\n\u001b[0;32m   1861\u001b[0m \u001b[1;33m\u001b[0m\u001b[0m\n\u001b[1;32m-> 1862\u001b[1;33m             \u001b[0mself\u001b[0m\u001b[1;33m.\u001b[0m\u001b[0mobj\u001b[0m\u001b[1;33m.\u001b[0m\u001b[0m_mgr\u001b[0m \u001b[1;33m=\u001b[0m \u001b[0mself\u001b[0m\u001b[1;33m.\u001b[0m\u001b[0mobj\u001b[0m\u001b[1;33m.\u001b[0m\u001b[0mappend\u001b[0m\u001b[1;33m(\u001b[0m\u001b[0mvalue\u001b[0m\u001b[1;33m)\u001b[0m\u001b[1;33m.\u001b[0m\u001b[0m_mgr\u001b[0m\u001b[1;33m\u001b[0m\u001b[1;33m\u001b[0m\u001b[0m\n\u001b[0m\u001b[0;32m   1863\u001b[0m             \u001b[0mself\u001b[0m\u001b[1;33m.\u001b[0m\u001b[0mobj\u001b[0m\u001b[1;33m.\u001b[0m\u001b[0m_maybe_update_cacher\u001b[0m\u001b[1;33m(\u001b[0m\u001b[0mclear\u001b[0m\u001b[1;33m=\u001b[0m\u001b[1;32mTrue\u001b[0m\u001b[1;33m)\u001b[0m\u001b[1;33m\u001b[0m\u001b[1;33m\u001b[0m\u001b[0m\n\u001b[0;32m   1864\u001b[0m \u001b[1;33m\u001b[0m\u001b[0m\n",
      "\u001b[1;32m~\\AppData\\Roaming\\Python\\Python37\\site-packages\\pandas\\core\\frame.py\u001b[0m in \u001b[0;36mappend\u001b[1;34m(self, other, ignore_index, verify_integrity, sort)\u001b[0m\n\u001b[0;32m   7744\u001b[0m             \u001b[0mignore_index\u001b[0m\u001b[1;33m=\u001b[0m\u001b[0mignore_index\u001b[0m\u001b[1;33m,\u001b[0m\u001b[1;33m\u001b[0m\u001b[1;33m\u001b[0m\u001b[0m\n\u001b[0;32m   7745\u001b[0m             \u001b[0mverify_integrity\u001b[0m\u001b[1;33m=\u001b[0m\u001b[0mverify_integrity\u001b[0m\u001b[1;33m,\u001b[0m\u001b[1;33m\u001b[0m\u001b[1;33m\u001b[0m\u001b[0m\n\u001b[1;32m-> 7746\u001b[1;33m             \u001b[0msort\u001b[0m\u001b[1;33m=\u001b[0m\u001b[0msort\u001b[0m\u001b[1;33m,\u001b[0m\u001b[1;33m\u001b[0m\u001b[1;33m\u001b[0m\u001b[0m\n\u001b[0m\u001b[0;32m   7747\u001b[0m         )\n\u001b[0;32m   7748\u001b[0m \u001b[1;33m\u001b[0m\u001b[0m\n",
      "\u001b[1;32m~\\AppData\\Roaming\\Python\\Python37\\site-packages\\pandas\\core\\reshape\\concat.py\u001b[0m in \u001b[0;36mconcat\u001b[1;34m(objs, axis, join, ignore_index, keys, levels, names, verify_integrity, sort, copy)\u001b[0m\n\u001b[0;32m    285\u001b[0m     )\n\u001b[0;32m    286\u001b[0m \u001b[1;33m\u001b[0m\u001b[0m\n\u001b[1;32m--> 287\u001b[1;33m     \u001b[1;32mreturn\u001b[0m \u001b[0mop\u001b[0m\u001b[1;33m.\u001b[0m\u001b[0mget_result\u001b[0m\u001b[1;33m(\u001b[0m\u001b[1;33m)\u001b[0m\u001b[1;33m\u001b[0m\u001b[1;33m\u001b[0m\u001b[0m\n\u001b[0m\u001b[0;32m    288\u001b[0m \u001b[1;33m\u001b[0m\u001b[0m\n\u001b[0;32m    289\u001b[0m \u001b[1;33m\u001b[0m\u001b[0m\n",
      "\u001b[1;32m~\\AppData\\Roaming\\Python\\Python37\\site-packages\\pandas\\core\\reshape\\concat.py\u001b[0m in \u001b[0;36mget_result\u001b[1;34m(self)\u001b[0m\n\u001b[0;32m    501\u001b[0m \u001b[1;33m\u001b[0m\u001b[0m\n\u001b[0;32m    502\u001b[0m             new_data = concatenate_block_managers(\n\u001b[1;32m--> 503\u001b[1;33m                 \u001b[0mmgrs_indexers\u001b[0m\u001b[1;33m,\u001b[0m \u001b[0mself\u001b[0m\u001b[1;33m.\u001b[0m\u001b[0mnew_axes\u001b[0m\u001b[1;33m,\u001b[0m \u001b[0mconcat_axis\u001b[0m\u001b[1;33m=\u001b[0m\u001b[0mself\u001b[0m\u001b[1;33m.\u001b[0m\u001b[0mbm_axis\u001b[0m\u001b[1;33m,\u001b[0m \u001b[0mcopy\u001b[0m\u001b[1;33m=\u001b[0m\u001b[0mself\u001b[0m\u001b[1;33m.\u001b[0m\u001b[0mcopy\u001b[0m\u001b[1;33m,\u001b[0m\u001b[1;33m\u001b[0m\u001b[1;33m\u001b[0m\u001b[0m\n\u001b[0m\u001b[0;32m    504\u001b[0m             )\n\u001b[0;32m    505\u001b[0m             \u001b[1;32mif\u001b[0m \u001b[1;32mnot\u001b[0m \u001b[0mself\u001b[0m\u001b[1;33m.\u001b[0m\u001b[0mcopy\u001b[0m\u001b[1;33m:\u001b[0m\u001b[1;33m\u001b[0m\u001b[1;33m\u001b[0m\u001b[0m\n",
      "\u001b[1;32m~\\AppData\\Roaming\\Python\\Python37\\site-packages\\pandas\\core\\internals\\concat.py\u001b[0m in \u001b[0;36mconcatenate_block_managers\u001b[1;34m(mgrs_indexers, axes, concat_axis, copy)\u001b[0m\n\u001b[0;32m     67\u001b[0m \u001b[1;33m\u001b[0m\u001b[0m\n\u001b[0;32m     68\u001b[0m             \u001b[1;32mif\u001b[0m \u001b[1;32mnot\u001b[0m \u001b[0mblk\u001b[0m\u001b[1;33m.\u001b[0m\u001b[0mis_extension\u001b[0m\u001b[1;33m:\u001b[0m\u001b[1;33m\u001b[0m\u001b[1;33m\u001b[0m\u001b[0m\n\u001b[1;32m---> 69\u001b[1;33m                 \u001b[0mvalues\u001b[0m \u001b[1;33m=\u001b[0m \u001b[0mconcat_compat\u001b[0m\u001b[1;33m(\u001b[0m\u001b[0mvals\u001b[0m\u001b[1;33m,\u001b[0m \u001b[0maxis\u001b[0m\u001b[1;33m=\u001b[0m\u001b[0mblk\u001b[0m\u001b[1;33m.\u001b[0m\u001b[0mndim\u001b[0m \u001b[1;33m-\u001b[0m \u001b[1;36m1\u001b[0m\u001b[1;33m)\u001b[0m\u001b[1;33m\u001b[0m\u001b[1;33m\u001b[0m\u001b[0m\n\u001b[0m\u001b[0;32m     70\u001b[0m             \u001b[1;32melse\u001b[0m\u001b[1;33m:\u001b[0m\u001b[1;33m\u001b[0m\u001b[1;33m\u001b[0m\u001b[0m\n\u001b[0;32m     71\u001b[0m                 \u001b[1;31m# TODO(EA2D): special-casing not needed with 2D EAs\u001b[0m\u001b[1;33m\u001b[0m\u001b[1;33m\u001b[0m\u001b[1;33m\u001b[0m\u001b[0m\n",
      "\u001b[1;32m~\\AppData\\Roaming\\Python\\Python37\\site-packages\\pandas\\core\\dtypes\\concat.py\u001b[0m in \u001b[0;36mconcat_compat\u001b[1;34m(to_concat, axis)\u001b[0m\n\u001b[0;32m    178\u001b[0m                 \u001b[0mto_concat\u001b[0m \u001b[1;33m=\u001b[0m \u001b[1;33m[\u001b[0m\u001b[0mx\u001b[0m\u001b[1;33m.\u001b[0m\u001b[0mastype\u001b[0m\u001b[1;33m(\u001b[0m\u001b[1;34m\"object\"\u001b[0m\u001b[1;33m)\u001b[0m \u001b[1;32mfor\u001b[0m \u001b[0mx\u001b[0m \u001b[1;32min\u001b[0m \u001b[0mto_concat\u001b[0m\u001b[1;33m]\u001b[0m\u001b[1;33m\u001b[0m\u001b[1;33m\u001b[0m\u001b[0m\n\u001b[0;32m    179\u001b[0m \u001b[1;33m\u001b[0m\u001b[0m\n\u001b[1;32m--> 180\u001b[1;33m     \u001b[1;32mreturn\u001b[0m \u001b[0mnp\u001b[0m\u001b[1;33m.\u001b[0m\u001b[0mconcatenate\u001b[0m\u001b[1;33m(\u001b[0m\u001b[0mto_concat\u001b[0m\u001b[1;33m,\u001b[0m \u001b[0maxis\u001b[0m\u001b[1;33m=\u001b[0m\u001b[0maxis\u001b[0m\u001b[1;33m)\u001b[0m\u001b[1;33m\u001b[0m\u001b[1;33m\u001b[0m\u001b[0m\n\u001b[0m\u001b[0;32m    181\u001b[0m \u001b[1;33m\u001b[0m\u001b[0m\n\u001b[0;32m    182\u001b[0m \u001b[1;33m\u001b[0m\u001b[0m\n",
      "\u001b[1;32m<__array_function__ internals>\u001b[0m in \u001b[0;36mconcatenate\u001b[1;34m(*args, **kwargs)\u001b[0m\n",
      "\u001b[1;31mKeyboardInterrupt\u001b[0m: "
     ]
    }
   ],
   "source": [
    "all_species = get_species_list()"
   ]
  },
  {
   "cell_type": "code",
   "execution_count": null,
   "id": "2cc43718",
   "metadata": {},
   "outputs": [],
   "source": [
    "all_species[\"Common name\"] = all_species[\"Common name\"].apply(lambda x: x.strip())"
   ]
  },
  {
   "cell_type": "code",
   "execution_count": 11,
   "id": "fec145e9",
   "metadata": {},
   "outputs": [
    {
     "data": {
      "text/plain": [
       "0                                \n",
       "1               American Redstart\n",
       "2               Arrowhead Warbler\n",
       "3              Bahama Mockingbird\n",
       "4              Bahama Mockingbird\n",
       "                 ...             \n",
       "56              White-eyed Thrush\n",
       "57              White-winged Dove\n",
       "58           Yellow-billed Amazon\n",
       "59         Yellow-faced Grassquit\n",
       "60    Yellow-shouldered Grassquit\n",
       "Name: Common name / Scientific, Length: 61, dtype: object"
      ]
     },
     "execution_count": 11,
     "metadata": {},
     "output_type": "execute_result"
    }
   ],
   "source": [
    "jamaica_species_names = pd.Series(data.groupby(\"Common name / Scientific\").count().index).apply(lambda x: x.split(\"(\")[0].strip())\n",
    "jamaica_species_names"
   ]
  },
  {
   "cell_type": "code",
   "execution_count": null,
   "id": "a9ee4926",
   "metadata": {},
   "outputs": [],
   "source": [
    "all_species"
   ]
  },
  {
   "cell_type": "code",
   "execution_count": null,
   "id": "9150c207",
   "metadata": {},
   "outputs": [],
   "source": [
    "import numpy as np"
   ]
  },
  {
   "cell_type": "code",
   "execution_count": null,
   "id": "b7aab9ab",
   "metadata": {},
   "outputs": [],
   "source": [
    "np.array(jamaica_species_names)"
   ]
  },
  {
   "cell_type": "code",
   "execution_count": null,
   "id": "138d2711",
   "metadata": {},
   "outputs": [],
   "source": [
    "jamaica_species_data = all_species[all_species[\"Common name\"].isin(np.array(jamaica_species_names))]"
   ]
  },
  {
   "cell_type": "code",
   "execution_count": null,
   "id": "2168b4de",
   "metadata": {},
   "outputs": [],
   "source": [
    "jamaica_species_data.shape[0]"
   ]
  },
  {
   "cell_type": "code",
   "execution_count": null,
   "id": "c07bbea9",
   "metadata": {},
   "outputs": [],
   "source": [
    "jamaica_audio_metadata = pd.DataFrame(columns=data.columns)\n",
    "for url in jamaica_species_data[\"url\"]:\n",
    "    url = url + \"?\"\n",
    "    jamaica_audio_metadata = jamaica_audio_metadata.append(get_species_data(url))\n",
    "jamaica_audio_metadata"
   ]
  },
  {
   "cell_type": "code",
   "execution_count": null,
   "id": "792216a5",
   "metadata": {},
   "outputs": [],
   "source": [
    "jamaica_audio_metadata.groupby(\"Common name / Scientific\").count().sort_values(by=\"Length\", ascending=False).rename(columns={\"Length\": \"Count\"})[[\"Count\"]].to_csv(\"Jamaica_Counts_Worldwide_Audio.csv\")"
   ]
  },
  {
   "cell_type": "code",
   "execution_count": null,
   "id": "ea2454c3",
   "metadata": {},
   "outputs": [],
   "source": [
    "data.groupby(\"Common name / Scientific\").count().sort_values(by=\"Length\", ascending=False).rename(columns={\"Length\": \"Count\"})[[\"Count\"]].to_csv(\"Jamaica_Counts_Only_In_Jamaica.csv\")"
   ]
  },
  {
   "cell_type": "code",
   "execution_count": null,
   "id": "49efc318",
   "metadata": {},
   "outputs": [],
   "source": [
    "world = jamaica_audio_metadata.groupby(\"Common name / Scientific\").count().sort_values(by=\"Length\", ascending=False).rename(columns={\"Length\": \"Count\"})[[\"Count\"]]"
   ]
  },
  {
   "cell_type": "code",
   "execution_count": null,
   "id": "0a4036f4",
   "metadata": {},
   "outputs": [],
   "source": [
    "world.plot(kind=\"hist\",density=True, bins=20, title=\"Count of Worldwide Audio Data of Jamaica Species\");"
   ]
  },
  {
   "cell_type": "code",
   "execution_count": null,
   "id": "89f5d7ef",
   "metadata": {},
   "outputs": [],
   "source": [
    "jamaica = data.groupby(\"Common name / Scientific\").count().sort_values(by=\"Length\", ascending=False).rename(columns={\"Length\": \"Count\"})[[\"Count\"]]"
   ]
  },
  {
   "cell_type": "code",
   "execution_count": null,
   "id": "d53c43b4",
   "metadata": {},
   "outputs": [],
   "source": [
    "jamaica.plot(kind=\"hist\",density=True, bins=20, title=\"Count of Jamaica Audio Data of Jamaica Species\");"
   ]
  },
  {
   "cell_type": "code",
   "execution_count": null,
   "id": "0682ccea",
   "metadata": {},
   "outputs": [],
   "source": [
    "data.to_csv(\"jamaica_meta_only.csv\")"
   ]
  },
  {
   "cell_type": "code",
   "execution_count": null,
   "id": "49b669da",
   "metadata": {},
   "outputs": [],
   "source": [
    "jamaica_audio_metadata.to_csv(\"jamaica_meta_world.csv\")"
   ]
  },
  {
   "cell_type": "code",
   "execution_count": null,
   "id": "2fceeef6",
   "metadata": {},
   "outputs": [],
   "source": []
  },
  {
   "cell_type": "code",
   "execution_count": 26,
   "id": "a91d942a",
   "metadata": {},
   "outputs": [
    {
     "data": {
      "text/plain": [
       "0          ?) Identity unknow\n",
       "1         Setophaga ruticilla\n",
       "2          Setophaga pharetra\n",
       "3     Mimus gundlachii hillii\n",
       "4            Mimus gundlachii\n",
       "               ...           \n",
       "56         Turdus jamaicensis\n",
       "57           Zenaida asiatica\n",
       "58           Amazona collaria\n",
       "59           Tiaris olivaceus\n",
       "60      Loxipasser anoxanthus\n",
       "Name: Common name / Scientific, Length: 61, dtype: object"
      ]
     },
     "execution_count": 26,
     "metadata": {},
     "output_type": "execute_result"
    }
   ],
   "source": [
    "jamaica_species_names = pd.Series(data.groupby(\"Common name / Scientific\").count().index).apply(lambda x: x.split(\"(\")[1].strip()[:-1])\n",
    "jamaica_species_names"
   ]
  },
  {
   "cell_type": "code",
   "execution_count": 27,
   "id": "c05ebf56",
   "metadata": {},
   "outputs": [
    {
     "data": {
      "text/plain": [
       "0          ?) Identity unknow\n",
       "1         Setophaga ruticilla\n",
       "2          Setophaga pharetra\n",
       "3     Mimus gundlachii hillii\n",
       "4            Mimus gundlachii\n",
       "               ...           \n",
       "56         Turdus jamaicensis\n",
       "57           Zenaida asiatica\n",
       "58           Amazona collaria\n",
       "59           Tiaris olivaceus\n",
       "60      Loxipasser anoxanthus\n",
       "Name: Common name / Scientific, Length: 61, dtype: object"
      ]
     },
     "execution_count": 27,
     "metadata": {},
     "output_type": "execute_result"
    }
   ],
   "source": [
    "jamaica_species_names"
   ]
  },
  {
   "cell_type": "code",
   "execution_count": 28,
   "id": "c165c134",
   "metadata": {},
   "outputs": [
    {
     "name": "stdout",
     "output_type": "stream",
     "text": [
      "False\n"
     ]
    },
    {
     "name": "stderr",
     "output_type": "stream",
     "text": [
      "C:\\Users\\seanh\\AppData\\Roaming\\Python\\Python37\\site-packages\\numpy\\core\\arrayprint.py:1449: UserWarning: legacy printing option can currently only be '1.13' or `False`\n",
      "  ', ', prefix, suffix=suffix, legacy=True)\n"
     ]
    },
    {
     "data": {
      "text/plain": [
       "array(['Coereba flaveola', 'Eupsittula nana', 'Geotrygon montana',\n",
       "       'Mellisuga minima', 'Mimus gundlachii', 'Mimus polyglottos',\n",
       "       'Seiurus aurocapilla', 'Setophaga americana',\n",
       "       'Setophaga ruticilla', 'Tiaris olivaceus', 'Tyrannus dominicensis',\n",
       "       'Vireo altiloquus', 'Zenaida asiatica'], dtype=object)"
      ]
     },
     "execution_count": 28,
     "metadata": {},
     "output_type": "execute_result"
    }
   ],
   "source": [
    "import numpy\n",
    "numpy.intersect1d(pd.read_csv(\"./birdnet_labels.csv\", header=None)[0], jamaica_species_names)"
   ]
  },
  {
   "cell_type": "code",
   "execution_count": 30,
   "id": "4eb8e0af",
   "metadata": {},
   "outputs": [
    {
     "data": {
      "text/html": [
       "<div>\n",
       "<style scoped>\n",
       "    .dataframe tbody tr th:only-of-type {\n",
       "        vertical-align: middle;\n",
       "    }\n",
       "\n",
       "    .dataframe tbody tr th {\n",
       "        vertical-align: top;\n",
       "    }\n",
       "\n",
       "    .dataframe thead th {\n",
       "        text-align: right;\n",
       "    }\n",
       "</style>\n",
       "<table border=\"1\" class=\"dataframe\">\n",
       "  <thead>\n",
       "    <tr style=\"text-align: right;\">\n",
       "      <th></th>\n",
       "      <th>0</th>\n",
       "      <th>1</th>\n",
       "    </tr>\n",
       "  </thead>\n",
       "  <tbody>\n",
       "    <tr>\n",
       "      <th>745</th>\n",
       "      <td>Coereba flaveola</td>\n",
       "      <td>Bananaquit</td>\n",
       "    </tr>\n",
       "    <tr>\n",
       "      <th>1189</th>\n",
       "      <td>Eupsittula nana</td>\n",
       "      <td>Olive-throated Parakeet</td>\n",
       "    </tr>\n",
       "    <tr>\n",
       "      <th>1293</th>\n",
       "      <td>Geotrygon montana</td>\n",
       "      <td>Ruddy Quail-Dove</td>\n",
       "    </tr>\n",
       "    <tr>\n",
       "      <th>1773</th>\n",
       "      <td>Mellisuga minima</td>\n",
       "      <td>Vervain Hummingbird</td>\n",
       "    </tr>\n",
       "    <tr>\n",
       "      <th>1820</th>\n",
       "      <td>Mimus gundlachii</td>\n",
       "      <td>Bahama Mockingbird</td>\n",
       "    </tr>\n",
       "    <tr>\n",
       "      <th>1823</th>\n",
       "      <td>Mimus polyglottos</td>\n",
       "      <td>Northern Mockingbird</td>\n",
       "    </tr>\n",
       "    <tr>\n",
       "      <th>2758</th>\n",
       "      <td>Seiurus aurocapilla</td>\n",
       "      <td>Ovenbird</td>\n",
       "    </tr>\n",
       "    <tr>\n",
       "      <th>2776</th>\n",
       "      <td>Setophaga americana</td>\n",
       "      <td>Northern Parula</td>\n",
       "    </tr>\n",
       "    <tr>\n",
       "      <th>2796</th>\n",
       "      <td>Setophaga ruticilla</td>\n",
       "      <td>American Redstart</td>\n",
       "    </tr>\n",
       "    <tr>\n",
       "      <th>3082</th>\n",
       "      <td>Tiaris olivaceus</td>\n",
       "      <td>Yellow-faced Grassquit</td>\n",
       "    </tr>\n",
       "    <tr>\n",
       "      <th>3223</th>\n",
       "      <td>Tyrannus dominicensis</td>\n",
       "      <td>Gray Kingbird</td>\n",
       "    </tr>\n",
       "    <tr>\n",
       "      <th>3257</th>\n",
       "      <td>Vireo altiloquus</td>\n",
       "      <td>Black-whiskered Vireo</td>\n",
       "    </tr>\n",
       "    <tr>\n",
       "      <th>3313</th>\n",
       "      <td>Zenaida asiatica</td>\n",
       "      <td>White-winged Dove</td>\n",
       "    </tr>\n",
       "  </tbody>\n",
       "</table>\n",
       "</div>"
      ],
      "text/plain": [
       "                          0                        1\n",
       "745        Coereba flaveola               Bananaquit\n",
       "1189        Eupsittula nana  Olive-throated Parakeet\n",
       "1293      Geotrygon montana         Ruddy Quail-Dove\n",
       "1773       Mellisuga minima      Vervain Hummingbird\n",
       "1820       Mimus gundlachii       Bahama Mockingbird\n",
       "1823      Mimus polyglottos     Northern Mockingbird\n",
       "2758    Seiurus aurocapilla                 Ovenbird\n",
       "2776    Setophaga americana          Northern Parula\n",
       "2796    Setophaga ruticilla        American Redstart\n",
       "3082       Tiaris olivaceus   Yellow-faced Grassquit\n",
       "3223  Tyrannus dominicensis            Gray Kingbird\n",
       "3257       Vireo altiloquus    Black-whiskered Vireo\n",
       "3313       Zenaida asiatica        White-winged Dove"
      ]
     },
     "execution_count": 30,
     "metadata": {},
     "output_type": "execute_result"
    }
   ],
   "source": [
    "birdnet = pd.read_csv(\"./birdnet_labels.csv\", header=None)\n",
    "birdnet[birdnet[0].isin(jamaica_species_names)]    "
   ]
  },
  {
   "cell_type": "code",
   "execution_count": 22,
   "id": "8015be69",
   "metadata": {},
   "outputs": [
    {
     "data": {
      "text/plain": [
       "0         Abroscopus albogularis\n",
       "1       Abroscopus superciliaris\n",
       "2                 Aburria aburri\n",
       "3       Acanthagenys rufogularis\n",
       "4               Acanthis cabaret\n",
       "                  ...           \n",
       "3332            Zosterops meyeni\n",
       "3333       Zosterops palpebrosus\n",
       "3334      Zosterops senegalensis\n",
       "3335           Zosterops simplex\n",
       "3336            Zosterops virens\n",
       "Name: 0, Length: 3337, dtype: object"
      ]
     },
     "execution_count": 22,
     "metadata": {},
     "output_type": "execute_result"
    }
   ],
   "source": [
    "birdnet[0]"
   ]
  },
  {
   "cell_type": "code",
   "execution_count": 23,
   "id": "b7617674",
   "metadata": {},
   "outputs": [
    {
     "data": {
      "text/plain": [
       "0                                \n",
       "1               American Redstart\n",
       "2               Arrowhead Warbler\n",
       "3              Bahama Mockingbird\n",
       "4              Bahama Mockingbird\n",
       "                 ...             \n",
       "56              White-eyed Thrush\n",
       "57              White-winged Dove\n",
       "58           Yellow-billed Amazon\n",
       "59         Yellow-faced Grassquit\n",
       "60    Yellow-shouldered Grassquit\n",
       "Name: Common name / Scientific, Length: 61, dtype: object"
      ]
     },
     "execution_count": 23,
     "metadata": {},
     "output_type": "execute_result"
    }
   ],
   "source": [
    "jamaica_species_names"
   ]
  },
  {
   "cell_type": "code",
   "execution_count": null,
   "id": "e8792aab",
   "metadata": {},
   "outputs": [],
   "source": [
    "def download_by_url(file_data, download_folder):\n",
    "    print(file_data)\n",
    "    url = file_data[1]\n",
    "    url = 'https://xeno-canto.org' + url\n",
    "    r = requests.get(url, allow_redirects=True)\n",
    "    path = download_folder+file_data[0]\n",
    "    open(path, \"wb\").write(r.content)\n",
    "    return path\n",
    "\n",
    "def download_data(species_df, num_of_files, download_folder):\n",
    "    print(\"downloading data\")\n",
    "    if (num_of_files != -1 and species_df.shape[0] > num_of_files):\n",
    "        species_df = species_df.sample(num_of_files, replace=False)\n",
    "    species_df[\"file_location\"] = species_df[[\"filename\",\"download url\"]].apply(download_by_url,axis=1, args=(tuple([download_folder])))\n",
    "    return species_df\n",
    "\n",
    "#download_data(test2, 100, \"./data/\")"
   ]
  },
  {
   "cell_type": "code",
   "execution_count": null,
   "id": "729ea3eb",
   "metadata": {},
   "outputs": [],
   "source": [
    "def download_xento_canto_data(num_species, num_of_files, download_folder, species_list=pd.DataFrame()):\n",
    "    file_df = pd.DataFrame()\n",
    "    if (species_list.empty):\n",
    "        species_list = get_species_list(num_species)\n",
    "    for url in species_list[\"url\"]:\n",
    "        try:\n",
    "            species_files = get_species_data(url)\n",
    "            temp_file_df = download_data(species_files, num_of_files, download_folder)\n",
    "            if (file_df.empty):\n",
    "                file_df = temp_file_df.reset_index(drop=True)\n",
    "            else:\n",
    "                file_df = file_df.append(temp_file_df.reset_index(drop=True)).reset_index(drop=True)\n",
    "        except Exception as e:\n",
    "            print(url + \" did not download\")\n",
    "            print(e)\n",
    "    return file_df\n",
    "        "
   ]
  },
  {
   "cell_type": "code",
   "execution_count": null,
   "id": "fe257286",
   "metadata": {},
   "outputs": [],
   "source": [
    "#metadata = download_xento_canto_data(-1, -1, \"./data/\")\n",
    "#metadata"
   ]
  },
  {
   "cell_type": "code",
   "execution_count": null,
   "id": "37cb7118",
   "metadata": {},
   "outputs": [],
   "source": [
    "#metadata.to_csv(\"./metadata\")"
   ]
  },
  {
   "cell_type": "code",
   "execution_count": null,
   "id": "555c790b",
   "metadata": {},
   "outputs": [],
   "source": [
    "#get_species_list()\n",
    "test1 = get_species_list(-1)\n",
    "test1"
   ]
  },
  {
   "cell_type": "code",
   "execution_count": null,
   "id": "d0c3a4c4",
   "metadata": {
    "scrolled": true
   },
   "outputs": [],
   "source": [
    "!pip install tqdm\n",
    "from tqdm import tqdm\n",
    "file_df = pd.DataFrame()\n",
    "for url in tqdm(test1[\"url\"]):\n",
    "    try:\n",
    "        species_files = get_species_data(url)\n",
    "    except:\n",
    "        continue\n",
    "    if (file_df.empty):\n",
    "        file_df = species_files.reset_index(drop=True)\n",
    "    else:\n",
    "        file_df = file_df.append(species_files.reset_index(drop=True)).reset_index(drop=True)\n",
    "file_df"
   ]
  },
  {
   "cell_type": "code",
   "execution_count": null,
   "id": "0215d376",
   "metadata": {},
   "outputs": [],
   "source": [
    "madreDeDios_species = pd.read_csv(\"C:/Users/Siloux/Downloads/MadreDeDiosBirdsXCList - MadreDeDiosBirdsXCList.csv\")"
   ]
  },
  {
   "cell_type": "code",
   "execution_count": null,
   "id": "2b230865",
   "metadata": {},
   "outputs": [],
   "source": [
    "file_df.to_csv(\"./all_meta_data.csv\")"
   ]
  },
  {
   "cell_type": "code",
   "execution_count": null,
   "id": "f3b64b92",
   "metadata": {},
   "outputs": [],
   "source": [
    "file_df[\"Common\"] = file_df[\"Common name / Scientific\"].apply(lambda x: x.split(\" \")[0] + \" \"+ x.split(\" \")[1])\n",
    "file_df"
   ]
  },
  {
   "cell_type": "code",
   "execution_count": null,
   "id": "9cb6a3d3",
   "metadata": {},
   "outputs": [],
   "source": [
    "file_df.groupby(\"Common\").count().sort_values(by=\"Length\", ascending=False)"
   ]
  },
  {
   "cell_type": "code",
   "execution_count": null,
   "id": "28e8f662",
   "metadata": {
    "scrolled": true
   },
   "outputs": [],
   "source": [
    "file_MDD_XC = file_df.merge(madreDeDios_species, left_on=\"Common\", right_on=\"Common\")\n",
    "file_MDD_XC"
   ]
  },
  {
   "cell_type": "code",
   "execution_count": null,
   "id": "8c58c583",
   "metadata": {},
   "outputs": [],
   "source": [
    "file_MDD_XC.groupby(\"Common\").count().sort_values(by=\"Length\", ascending=False)"
   ]
  },
  {
   "cell_type": "code",
   "execution_count": null,
   "id": "d09f9bc2",
   "metadata": {
    "scrolled": true
   },
   "outputs": [],
   "source": [
    "test1.set_index(\"Common name\").loc[\"\\n\\nOrange-cheeked Parrot\\n\\n\"]"
   ]
  },
  {
   "cell_type": "code",
   "execution_count": null,
   "id": "b3488e07",
   "metadata": {},
   "outputs": [],
   "source": [
    "#url = \"https://xeno-canto.org/species/Pyrilia-barrabandi\"\n",
    "#get_species_data(\"/species/Pyrilia-barrabandi\")"
   ]
  },
  {
   "cell_type": "code",
   "execution_count": null,
   "id": "629c771e",
   "metadata": {},
   "outputs": [],
   "source": [
    "file_df2 = pd.read_csv(\"./all_meta_data.csv\")\n",
    "file_df2"
   ]
  },
  {
   "cell_type": "code",
   "execution_count": null,
   "id": "873ac924",
   "metadata": {},
   "outputs": [],
   "source": [
    "file_df"
   ]
  },
  {
   "cell_type": "code",
   "execution_count": null,
   "id": "8da750cb",
   "metadata": {},
   "outputs": [],
   "source": [
    "import re\n",
    "mixed_bird = pd.read_csv(\"C:/Users/Siloux/Desktop/E4E/PyHa/mixed_bird/mixed_bird_manual.csv\")\n",
    "mixed_bird[\"ID\"] = mixed_bird[\"IN FILE\"].apply(lambda x: re.findall(r'\\d+', x)[0])\n",
    "mixed_bird"
   ]
  },
  {
   "cell_type": "code",
   "execution_count": null,
   "id": "c7355b0f",
   "metadata": {},
   "outputs": [],
   "source": [
    "file_df[\"ID\"] = file_df[\"Cat.nr.\"].apply(lambda x: re.findall(r'\\d+', x)[0])"
   ]
  },
  {
   "cell_type": "code",
   "execution_count": null,
   "id": "81faa4ea",
   "metadata": {},
   "outputs": [],
   "source": [
    "file_df"
   ]
  },
  {
   "cell_type": "code",
   "execution_count": null,
   "id": "23649f13",
   "metadata": {},
   "outputs": [],
   "source": [
    "file_df[~file_df[\"ID\"].isin(mixed_bird[\"ID\"])]"
   ]
  },
  {
   "cell_type": "code",
   "execution_count": null,
   "id": "cc9180aa",
   "metadata": {},
   "outputs": [],
   "source": [
    "file_df[file_df[\"Common\"].isin(madreDeDios_species[\"Common\"])]"
   ]
  },
  {
   "cell_type": "code",
   "execution_count": null,
   "id": "90835886",
   "metadata": {},
   "outputs": [],
   "source": [
    "mixed_bird[\"MANUAL ID LENGTH\"] = mixed_bird[\"MANUAL ID\"].apply(lambda x: len(x.split(\" \")))\n",
    "mixed_bird[\"Common\"] = mixed_bird[\"MANUAL ID\"].apply(lambda x: \" \".join(x.split(\" \")[2:]))\n",
    "mixed_bird"
   ]
  },
  {
   "cell_type": "code",
   "execution_count": null,
   "id": "953cab73",
   "metadata": {},
   "outputs": [],
   "source": [
    "file_df[(file_df[\"Common\"].isin(madreDeDios_species[\"Common\"])) & (~file_df[\"ID\"].isin(mixed_bird[\"ID\"]))]"
   ]
  },
  {
   "cell_type": "code",
   "execution_count": null,
   "id": "e55af5e5",
   "metadata": {},
   "outputs": [],
   "source": [
    "unlabeled_mixed_bird = file_df[(file_df[\"Common\"].isin(madreDeDios_species[\"Common\"])) & (~file_df[\"ID\"].isin(mixed_bird[\"ID\"])) & (file_df[\"Common\"].isin(mixed_bird[\"Common\"]))]"
   ]
  },
  {
   "cell_type": "code",
   "execution_count": null,
   "id": "6fd15bb8",
   "metadata": {},
   "outputs": [],
   "source": [
    "unlabeled_mixed_bird[\"TIME\"] = unlabeled_mixed_bird[\"Length\"].apply(lambda x : int(x.split(\":\")[0]) * 60 + int(x.split(\":\")[1]))"
   ]
  },
  {
   "cell_type": "code",
   "execution_count": null,
   "id": "626f3446",
   "metadata": {},
   "outputs": [],
   "source": [
    "unlabeled_mixed_bird"
   ]
  },
  {
   "cell_type": "code",
   "execution_count": null,
   "id": "8465239e",
   "metadata": {},
   "outputs": [],
   "source": [
    "counts_of_unlabeled_mixed_bird = unlabeled_mixed_bird.groupby(\"Common\").sum()"
   ]
  },
  {
   "cell_type": "code",
   "execution_count": null,
   "id": "7772254c",
   "metadata": {},
   "outputs": [],
   "source": [
    "possible_species = counts_of_unlabeled_mixed_bird[counts_of_unlabeled_mixed_bird[\"TIME\"] < 500]"
   ]
  },
  {
   "cell_type": "code",
   "execution_count": null,
   "id": "57c093fa",
   "metadata": {},
   "outputs": [],
   "source": [
    "possible_species"
   ]
  },
  {
   "cell_type": "code",
   "execution_count": null,
   "id": "c0d0ee99",
   "metadata": {},
   "outputs": [],
   "source": [
    "possible_species_files = unlabeled_mixed_bird[unlabeled_mixed_bird[\"Common\"].isin(possible_species.index)]"
   ]
  },
  {
   "cell_type": "code",
   "execution_count": null,
   "id": "e3bcf3b6",
   "metadata": {},
   "outputs": [],
   "source": [
    "mixed_bird_counts = mixed_bird.groupby(\"Common\").count().sort_values(\"IN FILE\", ascending=True)\n",
    "mixed_bird_counts[mixed_bird_counts[\"IN FILE\"] < 25]"
   ]
  },
  {
   "cell_type": "code",
   "execution_count": null,
   "id": "52cf32ab",
   "metadata": {},
   "outputs": [],
   "source": [
    "mixed_bird_counts = mixed_bird.groupby(\"Common\").sum().sort_values(\"DURATION\", ascending=True)\n",
    "mixed_bird_counts = mixed_bird_counts[[\"DURATION\"]]\n",
    "mixed_bird_counts"
   ]
  },
  {
   "cell_type": "code",
   "execution_count": null,
   "id": "78396eda",
   "metadata": {},
   "outputs": [],
   "source": [
    "mixed_bird_counts2 = mixed_bird.groupby(\"Common\").count().sort_values(\"IN FILE\", ascending=True)\n",
    "mixed_bird_counts2 = mixed_bird_counts2[[\"IN FILE\"]]\n",
    "mixed_bird_counts = mixed_bird_counts.merge(mixed_bird_counts2, left_index=True, right_index=True)"
   ]
  },
  {
   "cell_type": "code",
   "execution_count": null,
   "id": "509117f7",
   "metadata": {},
   "outputs": [],
   "source": [
    "mixed_bird_counts[\"FILES_PER_SECOND\"] = mixed_bird_counts[\"IN FILE\"] / mixed_bird_counts[\"DURATION\"]\n",
    "mixed_bird_counts"
   ]
  },
  {
   "cell_type": "code",
   "execution_count": null,
   "id": "19edc7f2",
   "metadata": {},
   "outputs": [],
   "source": [
    "mixed_bird_counts.head(50)"
   ]
  },
  {
   "cell_type": "code",
   "execution_count": null,
   "id": "8b9f424f",
   "metadata": {},
   "outputs": [],
   "source": [
    "sum(mixed_bird_counts[\"FILES_PER_SECOND\"])/mixed_bird_counts.shape[0] * 100"
   ]
  },
  {
   "cell_type": "code",
   "execution_count": null,
   "id": "891dda00",
   "metadata": {},
   "outputs": [],
   "source": [
    "mixed_bird_counts[(mixed_bird_counts[\"DURATION\"] < 75)].head(30).index"
   ]
  },
  {
   "cell_type": "code",
   "execution_count": null,
   "id": "a2f9a5e6",
   "metadata": {},
   "outputs": [],
   "source": [
    "files_to_download= unlabeled_mixed_bird[unlabeled_mixed_bird[\"Common\"].isin(mixed_bird_counts[(mixed_bird_counts[\"DURATION\"] < 75)].head(20).index)]"
   ]
  },
  {
   "cell_type": "code",
   "execution_count": null,
   "id": "6b351a95",
   "metadata": {},
   "outputs": [],
   "source": [
    "sum(files_to_download[\"TIME\"])"
   ]
  },
  {
   "cell_type": "code",
   "execution_count": null,
   "id": "e41e742f",
   "metadata": {},
   "outputs": [],
   "source": [
    "(60 * 60)/3 * 10\n"
   ]
  },
  {
   "cell_type": "code",
   "execution_count": null,
   "id": "1092d7cf",
   "metadata": {},
   "outputs": [],
   "source": [
    "files_to_download"
   ]
  },
  {
   "cell_type": "code",
   "execution_count": null,
   "id": "1cd90ff7",
   "metadata": {},
   "outputs": [],
   "source": [
    "meta = download_data(files_to_download, -1, \"./extra_mixed_bird/\")\n",
    "meta"
   ]
  },
  {
   "cell_type": "code",
   "execution_count": null,
   "id": "4df4eaa9",
   "metadata": {},
   "outputs": [],
   "source": []
  },
  {
   "cell_type": "code",
   "execution_count": null,
   "id": "5f853dc1",
   "metadata": {},
   "outputs": [],
   "source": [
    "mixed_bird[\"Common\"] = mixed_bird[\"MANUAL ID\"].apply(lambda x: \" \".join(x.split(\" \")[2:]))\n",
    "mixed_bird"
   ]
  }
 ],
 "metadata": {
  "kernelspec": {
   "display_name": "Python 3",
   "language": "python",
   "name": "python3"
  },
  "language_info": {
   "codemirror_mode": {
    "name": "ipython",
    "version": 3
   },
   "file_extension": ".py",
   "mimetype": "text/x-python",
   "name": "python",
   "nbconvert_exporter": "python",
   "pygments_lexer": "ipython3",
   "version": "3.7.10"
  }
 },
 "nbformat": 4,
 "nbformat_minor": 5
}
