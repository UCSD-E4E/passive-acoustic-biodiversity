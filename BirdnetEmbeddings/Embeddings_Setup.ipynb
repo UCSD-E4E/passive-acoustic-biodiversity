{
 "cells": [
  {
   "cell_type": "markdown",
   "metadata": {},
   "source": [
    "# Embeddings Setup\n",
    "Exploratory notebook for working on birdnet embeddings"
   ]
  },
  {
   "cell_type": "markdown",
   "metadata": {},
   "source": [
    "### Imports and Setup"
   ]
  },
  {
   "cell_type": "code",
   "execution_count": 1,
   "metadata": {},
   "outputs": [],
   "source": [
    "import pandas as pd\n",
    "import os\n",
    "import numpy as np\n",
    "from annotation_post_processing import *"
   ]
  },
  {
   "cell_type": "code",
   "execution_count": 2,
   "metadata": {},
   "outputs": [],
   "source": [
    "embeddingColumns = [str(i) for i in range(420)]\n",
    "columnNames = [\"START\", \"END\"] + embeddingColumns\n",
    "path = './input/xc_embeddings/'"
   ]
  },
  {
   "cell_type": "code",
   "execution_count": 3,
   "metadata": {},
   "outputs": [],
   "source": [
    "def generate_embeddings_from_file(path, filename):\n",
    "    with open(path + filename, 'r') as f:\n",
    "        data = f.read()\n",
    "    with open(path + filename, 'w') as f:\n",
    "        f.write(\",\".join(data.split(\"\\t\")))\n",
    "    file_df = pd.read_csv(path + filename, names = columnNames)\n",
    "    file_df[\"IN FILE\"] = filename[:filename.index(\".birdnet\")] + \".wav\"\n",
    "    return file_df\n",
    "\n",
    "def generate_embeddings(path):\n",
    "    df = pd.DataFrame()\n",
    "    for filename in os.listdir(path):\n",
    "        try:\n",
    "            df = pd.concat([df, generate_embeddings_from_file(path, filename)], ignore_index = True)\n",
    "        except Exception as e:\n",
    "            print(\"Something went wrong with: \" + filename)\n",
    "    df[\"PATH\"] = path\n",
    "    columns = df.columns.tolist()\n",
    "    columns = columns[-2:] + columns[:-2]\n",
    "    df = df[columns]\n",
    "    df = df.sort_values([\"IN FILE\", \"START\"], ascending = True)\n",
    "    df = df.reset_index(drop = True)\n",
    "    return df"
   ]
  },
  {
   "cell_type": "code",
   "execution_count": 4,
   "metadata": {},
   "outputs": [
    {
     "ename": "FileNotFoundError",
     "evalue": "[WinError 3] The system cannot find the path specified: './input/xc_embeddings/'",
     "output_type": "error",
     "traceback": [
      "\u001b[1;31m---------------------------------------------------------------------------\u001b[0m",
      "\u001b[1;31mFileNotFoundError\u001b[0m                         Traceback (most recent call last)",
      "\u001b[1;32m<ipython-input-4-d185c3ce28cc>\u001b[0m in \u001b[0;36m<module>\u001b[1;34m\u001b[0m\n\u001b[1;32m----> 1\u001b[1;33m \u001b[0membeddings_df\u001b[0m \u001b[1;33m=\u001b[0m \u001b[0mgenerate_embeddings\u001b[0m\u001b[1;33m(\u001b[0m\u001b[0mpath\u001b[0m\u001b[1;33m)\u001b[0m\u001b[1;33m\u001b[0m\u001b[1;33m\u001b[0m\u001b[0m\n\u001b[0m\u001b[0;32m      2\u001b[0m \u001b[0mannotations_df\u001b[0m \u001b[1;33m=\u001b[0m \u001b[0mpd\u001b[0m\u001b[1;33m.\u001b[0m\u001b[0mread_csv\u001b[0m\u001b[1;33m(\u001b[0m\u001b[1;34m\"xc_annotations.csv\"\u001b[0m\u001b[1;33m)\u001b[0m\u001b[1;33m\u001b[0m\u001b[1;33m\u001b[0m\u001b[0m\n\u001b[0;32m      3\u001b[0m \u001b[1;33m\u001b[0m\u001b[0m\n\u001b[0;32m      4\u001b[0m \u001b[1;31m# removing duplicate annotations\u001b[0m\u001b[1;33m\u001b[0m\u001b[1;33m\u001b[0m\u001b[1;33m\u001b[0m\u001b[0m\n\u001b[0;32m      5\u001b[0m \u001b[0mgrouped_annotations\u001b[0m \u001b[1;33m=\u001b[0m \u001b[0mannotations_df\u001b[0m\u001b[1;33m.\u001b[0m\u001b[0mgroupby\u001b[0m\u001b[1;33m(\u001b[0m\u001b[1;33m[\u001b[0m\u001b[1;34m\"IN FILE\"\u001b[0m\u001b[1;33m,\u001b[0m \u001b[1;34m\"OFFSET\"\u001b[0m\u001b[1;33m]\u001b[0m\u001b[1;33m)\u001b[0m\u001b[1;33m[\u001b[0m\u001b[1;34m\"CONFIDENCE\"\u001b[0m\u001b[1;33m]\u001b[0m\u001b[1;33m.\u001b[0m\u001b[0mmax\u001b[0m\u001b[1;33m(\u001b[0m\u001b[1;33m)\u001b[0m\u001b[1;33m\u001b[0m\u001b[1;33m\u001b[0m\u001b[0m\n",
      "\u001b[1;32m<ipython-input-3-fa0571475ecf>\u001b[0m in \u001b[0;36mgenerate_embeddings\u001b[1;34m(path)\u001b[0m\n\u001b[0;32m     10\u001b[0m \u001b[1;32mdef\u001b[0m \u001b[0mgenerate_embeddings\u001b[0m\u001b[1;33m(\u001b[0m\u001b[0mpath\u001b[0m\u001b[1;33m)\u001b[0m\u001b[1;33m:\u001b[0m\u001b[1;33m\u001b[0m\u001b[1;33m\u001b[0m\u001b[0m\n\u001b[0;32m     11\u001b[0m     \u001b[0mdf\u001b[0m \u001b[1;33m=\u001b[0m \u001b[0mpd\u001b[0m\u001b[1;33m.\u001b[0m\u001b[0mDataFrame\u001b[0m\u001b[1;33m(\u001b[0m\u001b[1;33m)\u001b[0m\u001b[1;33m\u001b[0m\u001b[1;33m\u001b[0m\u001b[0m\n\u001b[1;32m---> 12\u001b[1;33m     \u001b[1;32mfor\u001b[0m \u001b[0mfilename\u001b[0m \u001b[1;32min\u001b[0m \u001b[0mos\u001b[0m\u001b[1;33m.\u001b[0m\u001b[0mlistdir\u001b[0m\u001b[1;33m(\u001b[0m\u001b[0mpath\u001b[0m\u001b[1;33m)\u001b[0m\u001b[1;33m:\u001b[0m\u001b[1;33m\u001b[0m\u001b[1;33m\u001b[0m\u001b[0m\n\u001b[0m\u001b[0;32m     13\u001b[0m         \u001b[1;32mtry\u001b[0m\u001b[1;33m:\u001b[0m\u001b[1;33m\u001b[0m\u001b[1;33m\u001b[0m\u001b[0m\n\u001b[0;32m     14\u001b[0m             \u001b[0mdf\u001b[0m \u001b[1;33m=\u001b[0m \u001b[0mpd\u001b[0m\u001b[1;33m.\u001b[0m\u001b[0mconcat\u001b[0m\u001b[1;33m(\u001b[0m\u001b[1;33m[\u001b[0m\u001b[0mdf\u001b[0m\u001b[1;33m,\u001b[0m \u001b[0mgenerate_embeddings_from_file\u001b[0m\u001b[1;33m(\u001b[0m\u001b[0mpath\u001b[0m\u001b[1;33m,\u001b[0m \u001b[0mfilename\u001b[0m\u001b[1;33m)\u001b[0m\u001b[1;33m]\u001b[0m\u001b[1;33m,\u001b[0m \u001b[0mignore_index\u001b[0m \u001b[1;33m=\u001b[0m \u001b[1;32mTrue\u001b[0m\u001b[1;33m)\u001b[0m\u001b[1;33m\u001b[0m\u001b[1;33m\u001b[0m\u001b[0m\n",
      "\u001b[1;31mFileNotFoundError\u001b[0m: [WinError 3] The system cannot find the path specified: './input/xc_embeddings/'"
     ]
    }
   ],
   "source": [
    "embeddings_df = generate_embeddings(path)\n",
    "annotations_df = pd.read_csv(\"xc_annotations.csv\")\n",
    "\n",
    "# removing duplicate annotations\n",
    "grouped_annotations = annotations_df.groupby([\"IN FILE\", \"OFFSET\"])[\"CONFIDENCE\"].max()\n",
    "annotations_df[\"MANUAL ID\"] = annotations_df.apply(lambda x: x[\"MANUAL ID\"] \\\n",
    "    if grouped_annotations.loc[x[\"IN FILE\"], x[\"OFFSET\"]] == x[\"CONFIDENCE\"] else pd.NA, axis = 1)\n",
    "annotations_df = annotations_df.dropna(subset = [\"MANUAL ID\"]).reset_index(drop = True)"
   ]
  },
  {
   "cell_type": "code",
   "execution_count": null,
   "metadata": {},
   "outputs": [],
   "source": [
    "manual_df = pd.read_csv(\"mixed_bird_sample.csv\")\n",
    "manual_df = pd.DataFrame(annotation_chunker(manual_df, 3))\n",
    "manual_df[\"MANUAL ID\"] = manual_df[\"MANUAL ID\"].apply(lambda x: \" \".join(x.split(\" \")[:2]))\n",
    "manual_df"
   ]
  },
  {
   "cell_type": "code",
   "execution_count": null,
   "metadata": {},
   "outputs": [],
   "source": [
    "# Data cleaning to avoid file does not exist\n",
    "intersection_files = list(set(embeddings_df[\"IN FILE\"].unique()).intersection(set(annotations_df[\"IN FILE\"])))\n",
    "embeddings_df = embeddings_df[embeddings_df[\"IN FILE\"].isin(intersection_files)]\n",
    "annotations_df = annotations_df[annotations_df[\"IN FILE\"].isin(intersection_files)]\n",
    "manual_df = manual_df[manual_df[\"IN FILE\"].isin(intersection_files)]"
   ]
  },
  {
   "cell_type": "code",
   "execution_count": null,
   "metadata": {},
   "outputs": [],
   "source": [
    "# Adding manual ids to embeddings\n",
    "k = 0\n",
    "def embed_id(x):\n",
    "    filenames = manual_df[\"IN FILE\"] == x[\"IN FILE\"]\n",
    "    offsets = np.isclose(manual_df[\"OFFSET\"], x[\"START\"])\n",
    "    both = filenames & offsets\n",
    "    if not np.any(both):\n",
    "        return \"No bird\"\n",
    "    return manual_df[both][\"MANUAL ID\"].iloc[0]\n",
    "\n",
    "embeddings_df[\"MANUAL ID\"] = embeddings_df.apply(embed_id, axis = 1)\n",
    "embeddings_df[\"FILE SPECIES\"] = embeddings_df[\"IN FILE\"].apply(lambda x: \" \".join(x.split(\"-\")[:2]))"
   ]
  },
  {
   "cell_type": "code",
   "execution_count": null,
   "metadata": {},
   "outputs": [],
   "source": [
    "# To change all of the birdnet annotations manual ids to species names\n",
    "birdnet_species = pd.read_csv(\"birdnet_species.csv\")\n",
    "birdnet_species.columns = [\"SPECIES\"]\n",
    "birdnet_species = birdnet_species.assign(\n",
    "    SPECIES = birdnet_species[\"SPECIES\"].apply(lambda x: x.split(\"_\")[0]), \n",
    "    COMMON = birdnet_species[\"SPECIES\"].apply(lambda x: x.split(\"_\")[1])\n",
    ")\n",
    "birdnet_species = birdnet_species.set_index(\"COMMON\").to_dict()[\"SPECIES\"]\n",
    "\n",
    "annotations_df[\"MANUAL ID\"] = annotations_df[\"MANUAL ID\"].apply(lambda x: birdnet_species[x])"
   ]
  },
  {
   "cell_type": "code",
   "execution_count": null,
   "metadata": {},
   "outputs": [],
   "source": [
    "embeddings_df"
   ]
  },
  {
   "cell_type": "code",
   "execution_count": null,
   "metadata": {},
   "outputs": [],
   "source": [
    "annotations_df"
   ]
  },
  {
   "cell_type": "code",
   "execution_count": null,
   "metadata": {},
   "outputs": [],
   "source": [
    "manual_df"
   ]
  },
  {
   "cell_type": "code",
   "execution_count": null,
   "metadata": {},
   "outputs": [],
   "source": [
    "# Checking to see if same number of files are in all of the dataframes\n",
    "print(len(embeddings_df[\"IN FILE\"].unique()), len(annotations_df[\"IN FILE\"].unique()), len(manual_df[\"IN FILE\"].unique()))"
   ]
  }
 ],
 "metadata": {
  "kernelspec": {
   "display_name": "Python 3",
   "language": "python",
   "name": "python3"
  },
  "language_info": {
   "codemirror_mode": {
    "name": "ipython",
    "version": 3
   },
   "file_extension": ".py",
   "mimetype": "text/x-python",
   "name": "python",
   "nbconvert_exporter": "python",
   "pygments_lexer": "ipython3",
   "version": "3.7.10"
  },
  "vscode": {
   "interpreter": {
    "hash": "50f29603170da42ff0485de93cf455ea9e81b4c54cac7530327aeacc7af59708"
   }
  }
 },
 "nbformat": 4,
 "nbformat_minor": 2
}
