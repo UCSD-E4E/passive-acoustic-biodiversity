{
 "cells": [
  {
   "cell_type": "code",
   "execution_count": 1,
   "id": "67fb545b",
   "metadata": {},
   "outputs": [],
   "source": [
    "import pandas as pd\n",
    "import numpy as np"
   ]
  },
  {
   "cell_type": "code",
   "execution_count": 2,
   "id": "70cb84cd",
   "metadata": {},
   "outputs": [],
   "source": [
    "bird0 = \"/Users/mugetronblue/E4E/AcousticSpecies/passive-acoustic-biodiversity/TweetyNET/server_results/900/Bird0_predictions.csv\""
   ]
  },
  {
   "cell_type": "code",
   "execution_count": 3,
   "id": "4a678617",
   "metadata": {},
   "outputs": [],
   "source": [
    "df = pd.read_csv(bird0)"
   ]
  },
  {
   "cell_type": "code",
   "execution_count": 4,
   "id": "98a9f7a2",
   "metadata": {},
   "outputs": [
    {
     "data": {
      "text/html": [
       "<div>\n",
       "<style scoped>\n",
       "    .dataframe tbody tr th:only-of-type {\n",
       "        vertical-align: middle;\n",
       "    }\n",
       "\n",
       "    .dataframe tbody tr th {\n",
       "        vertical-align: top;\n",
       "    }\n",
       "\n",
       "    .dataframe thead th {\n",
       "        text-align: right;\n",
       "    }\n",
       "</style>\n",
       "<table border=\"1\" class=\"dataframe\">\n",
       "  <thead>\n",
       "    <tr style=\"text-align: right;\">\n",
       "      <th></th>\n",
       "      <th>Unnamed: 0</th>\n",
       "      <th>uid</th>\n",
       "      <th>pred</th>\n",
       "      <th>label</th>\n",
       "    </tr>\n",
       "  </thead>\n",
       "  <tbody>\n",
       "    <tr>\n",
       "      <th>0</th>\n",
       "      <td>0</td>\n",
       "      <td>115.wav_236_0</td>\n",
       "      <td>tensor(8, device='cuda:0')</td>\n",
       "      <td>tensor(8, device='cuda:0')</td>\n",
       "    </tr>\n",
       "    <tr>\n",
       "      <th>1</th>\n",
       "      <td>1</td>\n",
       "      <td>115.wav_236_1</td>\n",
       "      <td>tensor(8, device='cuda:0')</td>\n",
       "      <td>tensor(8, device='cuda:0')</td>\n",
       "    </tr>\n",
       "    <tr>\n",
       "      <th>2</th>\n",
       "      <td>2</td>\n",
       "      <td>115.wav_236_2</td>\n",
       "      <td>tensor(8, device='cuda:0')</td>\n",
       "      <td>tensor(8, device='cuda:0')</td>\n",
       "    </tr>\n",
       "    <tr>\n",
       "      <th>3</th>\n",
       "      <td>3</td>\n",
       "      <td>115.wav_236_3</td>\n",
       "      <td>tensor(8, device='cuda:0')</td>\n",
       "      <td>tensor(0, device='cuda:0')</td>\n",
       "    </tr>\n",
       "    <tr>\n",
       "      <th>4</th>\n",
       "      <td>4</td>\n",
       "      <td>115.wav_236_4</td>\n",
       "      <td>tensor(8, device='cuda:0')</td>\n",
       "      <td>tensor(8, device='cuda:0')</td>\n",
       "    </tr>\n",
       "  </tbody>\n",
       "</table>\n",
       "</div>"
      ],
      "text/plain": [
       "   Unnamed: 0            uid                        pred  \\\n",
       "0           0  115.wav_236_0  tensor(8, device='cuda:0')   \n",
       "1           1  115.wav_236_1  tensor(8, device='cuda:0')   \n",
       "2           2  115.wav_236_2  tensor(8, device='cuda:0')   \n",
       "3           3  115.wav_236_3  tensor(8, device='cuda:0')   \n",
       "4           4  115.wav_236_4  tensor(8, device='cuda:0')   \n",
       "\n",
       "                        label  \n",
       "0  tensor(8, device='cuda:0')  \n",
       "1  tensor(8, device='cuda:0')  \n",
       "2  tensor(8, device='cuda:0')  \n",
       "3  tensor(0, device='cuda:0')  \n",
       "4  tensor(8, device='cuda:0')  "
      ]
     },
     "execution_count": 4,
     "metadata": {},
     "output_type": "execute_result"
    }
   ],
   "source": [
    "df.head()\n"
   ]
  },
  {
   "cell_type": "code",
   "execution_count": 22,
   "id": "6527b0a8",
   "metadata": {},
   "outputs": [],
   "source": [
    "def get_label(data):\n",
    "    return int(data.split(\"(\")[1].split(\",\")[0])"
   ]
  },
  {
   "cell_type": "code",
   "execution_count": 23,
   "id": "a24e14a9",
   "metadata": {},
   "outputs": [
    {
     "data": {
      "text/plain": [
       "'8'"
      ]
     },
     "execution_count": 23,
     "metadata": {},
     "output_type": "execute_result"
    }
   ],
   "source": [
    "df[\"pred\"][0].split(\"(\")[1].split(\",\")[0]"
   ]
  },
  {
   "cell_type": "code",
   "execution_count": 24,
   "id": "2c7b2766",
   "metadata": {},
   "outputs": [
    {
     "data": {
      "text/plain": [
       "'8'"
      ]
     },
     "execution_count": 24,
     "metadata": {},
     "output_type": "execute_result"
    }
   ],
   "source": [
    "df[\"label\"][0].split(\"(\")[1].split(\",\")[0]"
   ]
  },
  {
   "cell_type": "code",
   "execution_count": 27,
   "id": "11f23353",
   "metadata": {},
   "outputs": [],
   "source": [
    "pred = []\n",
    "actual = []\n",
    "for i in range(len(df)):\n",
    "    pred.append(get_label(df[\"pred\"][i]))\n",
    "    actual.append(get_label(df[\"label\"][i]))\n",
    "pred = np.array(pred)\n",
    "actual = np.array(actual)"
   ]
  },
  {
   "cell_type": "code",
   "execution_count": 28,
   "id": "156aa443",
   "metadata": {},
   "outputs": [],
   "source": [
    "def frame_error(pred, actual):\n",
    "    if len(pred) != len(actual):\n",
    "        Print(\"Incorrect Lengths: \", len(pred), len(actual))\n",
    "        return 0\n",
    "    match_up = 0\n",
    "    for i in range(len(pred)):\n",
    "        if pred[i] == actual[i]:\n",
    "            match_up += 1\n",
    "    return match_up#/len(pred)\n",
    "# This only matters if things are in the correct order. Can I split by video file?\n",
    "\n",
    "def syllable_edit_distance(pred, actual):\n",
    "    if len(pred) != len(actual):\n",
    "        Print(\"Incorrect Lengths: \", len(pred), len(actual))\n",
    "        return 0 \n",
    "    distances = range(len(pred) + 1)\n",
    "    for i2, c2 in enumerate(actual):\n",
    "        distances_ = [i2+1]\n",
    "        for i1, c1 in enumerate(pred):\n",
    "            if c1 == c2:\n",
    "                distances_.append(distances[i1])\n",
    "            else:\n",
    "                distances_.append(1 + min((distances[i1], distances[i1 + 1], distances_[-1])))\n",
    "        distances = distances_\n",
    "    return distances[-1]#/len(pred)"
   ]
  },
  {
   "cell_type": "code",
   "execution_count": 31,
   "id": "5cc9ae6a",
   "metadata": {},
   "outputs": [
    {
     "data": {
      "text/plain": [
       "(11673, 0.9276064844246662, 0.0723935155753338)"
      ]
     },
     "execution_count": 31,
     "metadata": {},
     "output_type": "execute_result"
    }
   ],
   "source": [
    "actual_frames = frame_error(pred, actual)\n",
    "actual_frames, actual_frames/len(pred), 1 - actual_frames/len(pred)"
   ]
  },
  {
   "cell_type": "code",
   "execution_count": null,
   "id": "7638ee5a",
   "metadata": {},
   "outputs": [],
   "source": [
    "syllable_edit_distance(pred, actual)"
   ]
  }
 ],
 "metadata": {
  "kernelspec": {
   "display_name": "Python 3",
   "language": "python",
   "name": "python3"
  },
  "language_info": {
   "codemirror_mode": {
    "name": "ipython",
    "version": 3
   },
   "file_extension": ".py",
   "mimetype": "text/x-python",
   "name": "python",
   "nbconvert_exporter": "python",
   "pygments_lexer": "ipython3",
   "version": "3.8.12"
  }
 },
 "nbformat": 4,
 "nbformat_minor": 5
}
