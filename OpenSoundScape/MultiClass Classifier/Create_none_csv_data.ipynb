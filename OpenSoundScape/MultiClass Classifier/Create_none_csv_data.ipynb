{
 "cells": [
  {
   "cell_type": "code",
   "execution_count": 4,
   "id": "65aeb6cb",
   "metadata": {},
   "outputs": [],
   "source": [
    "import pandas as pd\n",
    "import wave\n",
    "import re"
   ]
  },
  {
   "cell_type": "code",
   "execution_count": 5,
   "id": "31bbb6dd",
   "metadata": {},
   "outputs": [],
   "source": [
    "def atoi(text):\n",
    "    return int(text) if text.isdigit() else text\n",
    "\n",
    "def natural_keys(text):\n",
    "    return [atoi(c) for c in re.split(r'(\\d+)', text)]"
   ]
  },
  {
   "cell_type": "code",
   "execution_count": 6,
   "id": "a340c741",
   "metadata": {},
   "outputs": [],
   "source": [
    "import os\n",
    "file_names = os.listdir('./Data/Absent/') \n",
    "file_names.sort(key = natural_keys)\n",
    "os.chdir('./Absent')"
   ]
  },
  {
   "cell_type": "code",
   "execution_count": 7,
   "id": "bcc43e19",
   "metadata": {},
   "outputs": [],
   "source": [
    "final_df = pd.DataFrame(columns = ['file', 'start_time', 'end_time', 'SAMPLING RATE', 'MANUAL ID'])"
   ]
  },
  {
   "cell_type": "code",
   "execution_count": 8,
   "id": "8ea3e135",
   "metadata": {},
   "outputs": [],
   "source": [
    "base_file = \"\"\n",
    "idx = 0\n",
    "for file in file_names:\n",
    "    temp = file.split('_')\n",
    "    #print(temp)\n",
    "    base = temp[0] if len(temp)==2 else temp[0] + temp[1]\n",
    "    if base == base_file:\n",
    "        idx += 1\n",
    "    else:\n",
    "        idx = 0\n",
    "        base_file = base\n",
    "    start_time = idx * 3\n",
    "    end_time = start_time + 3\n",
    "\n",
    "        \n",
    "    with wave.open(file, \"rb\") as wave_file:\n",
    "        sampling_rate = wave_file.getframerate()\n",
    "    \n",
    "    row = pd.DataFrame(index = [0])\n",
    "    row['file'] = './temp_clips/../Absent/' + file\n",
    "    row['start_time'] = start_time\n",
    "    row['end_time'] = end_time\n",
    "    row['SAMPLING RATE'] = sampling_rate\n",
    "    row['MANUAL ID'] = 'None'\n",
    "    final_df = pd.concat([final_df, row], ignore_index=True)\n",
    "os.chdir('..')\n",
    "final_df.to_csv('none_test.csv')"
   ]
  },
  {
   "cell_type": "code",
   "execution_count": null,
   "id": "a0977217",
   "metadata": {},
   "outputs": [],
   "source": []
  }
 ],
 "metadata": {
  "kernelspec": {
   "display_name": "Python 3 (ipykernel)",
   "language": "python",
   "name": "python3"
  },
  "language_info": {
   "codemirror_mode": {
    "name": "ipython",
    "version": 3
   },
   "file_extension": ".py",
   "mimetype": "text/x-python",
   "name": "python",
   "nbconvert_exporter": "python",
   "pygments_lexer": "ipython3",
   "version": "3.7.13"
  }
 },
 "nbformat": 4,
 "nbformat_minor": 5
}
