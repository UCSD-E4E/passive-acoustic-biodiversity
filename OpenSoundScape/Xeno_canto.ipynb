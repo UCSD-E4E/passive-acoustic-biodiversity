{
 "cells": [
  {
   "cell_type": "code",
   "execution_count": 1,
   "id": "d9ecb254",
   "metadata": {},
   "outputs": [],
   "source": [
    "from opensoundscape.preprocess.preprocessors import BasePreprocessor, AudioToSpectrogramPreprocessor, CnnPreprocessor\n",
    "import torch\n",
    "import pandas as pd\n",
    "from pathlib import Path\n",
    "import numpy as np\n",
    "import pandas as pd\n",
    "from opensoundscape.torch.models import cnn\n",
    "from opensoundscape.torch.architectures import cnn_architectures"
   ]
  },
  {
   "cell_type": "code",
   "execution_count": 2,
   "id": "1f42eda1",
   "metadata": {},
   "outputs": [],
   "source": [
    "mypathNonBird ='./Xeno_canto/Xeno-canto-Google_AudioSet/*/*.wav'\n",
    "mypathBird ='./Xeno_canto/Xeno-canto-Google_AudioSet/Bird/*/*.wav'"
   ]
  },
  {
   "cell_type": "code",
   "execution_count": 3,
   "id": "b3baaaf0",
   "metadata": {},
   "outputs": [],
   "source": [
    "import glob\n",
    "fileNameNonBird = glob.glob(mypathNonBird)\n",
    "nonBirdLabel = ['n'] * len(fileNameNonBird)\n",
    "fileNameBird = glob.glob(mypathBird)\n",
    "birdLabel = ['y'] * len(fileNameBird)"
   ]
  },
  {
   "cell_type": "code",
   "execution_count": 4,
   "id": "5ddac55d",
   "metadata": {},
   "outputs": [],
   "source": [
    "xeno_canto = fileNameNonBird + fileNameBird\n",
    "xeno_canto_label = nonBirdLabel + birdLabel\n",
    "result = list(zip(xeno_canto, xeno_canto_label))\n",
    "result = list(map(list, result))"
   ]
  },
  {
   "cell_type": "code",
   "execution_count": 5,
   "id": "9807eb18",
   "metadata": {},
   "outputs": [
    {
     "data": {
      "text/plain": [
       "n    5163\n",
       "y    4674\n",
       "Name: Bird(s)?, dtype: int64"
      ]
     },
     "execution_count": 5,
     "metadata": {},
     "output_type": "execute_result"
    }
   ],
   "source": [
    "df = pd.DataFrame(result, columns=['Filename', 'Bird(s)?'])\n",
    "df['Bird(s)?'].value_counts()"
   ]
  },
  {
   "cell_type": "markdown",
   "id": "34efa76d",
   "metadata": {},
   "source": [
    "## NIPS4B dataset"
   ]
  },
  {
   "cell_type": "code",
   "execution_count": null,
   "id": "36a05f4a",
   "metadata": {},
   "outputs": [],
   "source": [
    "df_nips4b = pd.read_csv('NIPS4B_BIRD_CHALLENGE_TRAIN_TEST_WAV/nips4b_birdchallenge_train_labels.csv')\n",
    "df_nips4b = df_nips4b.drop('Unnamed: 3', 1)\n",
    "df_nips4b = df_nips4b.drop('Unnamed: 1', 1)\n",
    "df_nips4b.fillna(0, inplace=True)"
   ]
  },
  {
   "cell_type": "code",
   "execution_count": null,
   "id": "410aac5c",
   "metadata": {},
   "outputs": [],
   "source": [
    "a = df_nips4b.iloc[1,:2].values\n",
    "b = df_nips4b.iloc[0,2:].values\n",
    "c = np.concatenate((a, b), axis=0)\n",
    "columns = c[1:]\n",
    "\n",
    "df_nips4b = df_nips4b.drop([0,1,689])\n",
    "df_nips4b.reset_index(inplace=True)\n",
    "df_nips4b = df_nips4b.drop('index', 1)\n",
    "df_nips4b.columns = c"
   ]
  },
  {
   "cell_type": "code",
   "execution_count": null,
   "id": "f1056f87",
   "metadata": {},
   "outputs": [],
   "source": [
    "df_nips4b.Filename = ['./NIPS4B_BIRD_CHALLENGE_TRAIN_TEST_WAV/train/'+f for f in df_nips4b.Filename]\n",
    "df_nips4b"
   ]
  },
  {
   "cell_type": "code",
   "execution_count": null,
   "id": "abbe48b4",
   "metadata": {},
   "outputs": [],
   "source": [
    "cols=[i for i in df_nips4b.columns if i not in [\"Filename\"]]\n",
    "for col in cols:\n",
    "    df_nips4b[col]=pd.to_numeric(df_nips4b[col])\n",
    "    \n",
    "# helper function for displaying a sample as an image\n",
    "from matplotlib import pyplot as plt\n",
    "plt.rcParams['figure.figsize']=[15,5] #for large visuals\n",
    "def show_tensor(sample):\n",
    "    plt.imshow((sample['X'][0,:,:]/2+0.5)*-1,cmap='Greys',vmin=-1,vmax=0)\n",
    "    plt.show()"
   ]
  },
  {
   "cell_type": "code",
   "execution_count": null,
   "id": "b2418d01",
   "metadata": {},
   "outputs": [],
   "source": [
    "from opensoundscape.annotations import categorical_to_one_hot\n",
    "one_hot_labels, classes = categorical_to_one_hot(df_nips4b[['Empty']].values)\n",
    "nips4b = pd.DataFrame(index=df_nips4b['Filename'],data=one_hot_labels,columns=classes)\n",
    "nips4b.rename(columns={0: \"non-empty\", 1: \"empty\"}, inplace=True)\n",
    "nips4b['empty'].value_counts()"
   ]
  },
  {
   "cell_type": "code",
   "execution_count": null,
   "id": "4698e243",
   "metadata": {},
   "outputs": [],
   "source": [
    "nips4b"
   ]
  },
  {
   "cell_type": "code",
   "execution_count": null,
   "id": "a1dd4230",
   "metadata": {},
   "outputs": [],
   "source": [
    "from opensoundscape.annotations import categorical_to_one_hot\n",
    "one_hot_labels, classes = categorical_to_one_hot(df[['Bird(s)?']].values)\n",
    "test_data = pd.DataFrame(index=df['Filename'],data=one_hot_labels,columns=classes)\n",
    "test_data.rename(columns={\"y\": \"non-empty\", \"n\": \"empty\"}, inplace=True)"
   ]
  },
  {
   "cell_type": "code",
   "execution_count": null,
   "id": "4ea94df4",
   "metadata": {},
   "outputs": [],
   "source": [
    "test_data = test_data[['non-empty', 'empty']]\n",
    "test_data"
   ]
  },
  {
   "cell_type": "code",
   "execution_count": null,
   "id": "d9903416",
   "metadata": {},
   "outputs": [],
   "source": [
    "test_data['empty'].value_counts()"
   ]
  },
  {
   "cell_type": "code",
   "execution_count": null,
   "id": "51c08642",
   "metadata": {},
   "outputs": [],
   "source": [
    "cols=[i for i in test_data.columns if i not in [\"Filename\"]]\n",
    "for col in cols:\n",
    "    test_data[col]=pd.to_numeric(test_data[col])\n",
    "test_data.shape"
   ]
  },
  {
   "cell_type": "code",
   "execution_count": null,
   "id": "4086ae0f",
   "metadata": {},
   "outputs": [],
   "source": [
    "df = test_data.append(nips4b)\n",
    "df"
   ]
  },
  {
   "cell_type": "code",
   "execution_count": null,
   "id": "603cc1cf",
   "metadata": {},
   "outputs": [],
   "source": [
    "from sklearn.model_selection import train_test_split\n",
    "\n",
    "train_df,valid_df = train_test_split(df,test_size=0.2,random_state=1)"
   ]
  },
  {
   "cell_type": "code",
   "execution_count": null,
   "id": "98a85f87",
   "metadata": {},
   "outputs": [],
   "source": [
    "from opensoundscape.preprocess.preprocessors import CnnPreprocessor\n",
    "\n",
    "train_dataset = CnnPreprocessor(train_df)\n",
    "train_dataset.actions.load_audio.set(sample_rate=44100)\n",
    "train_dataset.augmentation_on()\n",
    "\n",
    "valid_dataset = CnnPreprocessor(valid_df)\n",
    "valid_dataset.actions.load_audio.set(sample_rate=44100)\n",
    "valid_dataset.augmentation_on()"
   ]
  },
  {
   "cell_type": "code",
   "execution_count": null,
   "id": "9f9e1f1b",
   "metadata": {},
   "outputs": [],
   "source": [
    "train_dataset.actions.load_audio.params"
   ]
  },
  {
   "cell_type": "code",
   "execution_count": null,
   "id": "b296b8c4",
   "metadata": {},
   "outputs": [],
   "source": [
    "# Create model object\n",
    "classes = train_df.columns\n",
    "model = cnn.PytorchModel('resnet18',classes,single_target=True)"
   ]
  },
  {
   "cell_type": "code",
   "execution_count": null,
   "id": "a4ff54bd",
   "metadata": {},
   "outputs": [],
   "source": [
    "model.train(\n",
    "    train_dataset=train_dataset,\n",
    "    valid_dataset=valid_dataset,\n",
    "    save_path='./nips_xeno_canto_train_augmentation_on/',\n",
    "    epochs=12,\n",
    "    batch_size=64,\n",
    "    save_interval=100,\n",
    "    num_workers=2,\n",
    ")"
   ]
  },
  {
   "cell_type": "code",
   "execution_count": null,
   "id": "0cd97844",
   "metadata": {},
   "outputs": [],
   "source": [
    "from matplotlib import pyplot as plt\n",
    "plt.rcParams['figure.figsize']=[15,5] #for large visuals\n",
    "plt.scatter(model.loss_hist.keys(),model.loss_hist.values())\n",
    "plt.xlabel('epoch')\n",
    "plt.ylabel('loss')"
   ]
  },
  {
   "cell_type": "code",
   "execution_count": 6,
   "id": "8fe6ddc7",
   "metadata": {},
   "outputs": [],
   "source": [
    "# ==================== model trained on nips4B dataset ======================\n",
    "from opensoundscape.torch.models.cnn import load_model\n",
    "model = load_model('./nips_xeno_canto_train_augmentation_on/best.model')"
   ]
  },
  {
   "cell_type": "markdown",
   "id": "3fcc4f3c",
   "metadata": {},
   "source": [
    "## Peru Dataset"
   ]
  },
  {
   "cell_type": "code",
   "execution_count": 7,
   "id": "bde81750",
   "metadata": {},
   "outputs": [
    {
     "name": "stdout",
     "output_type": "stream",
     "text": [
      "                                                    n  y\n",
      "Filename                                                \n",
      "./peru_data/Audiomoth_Madre_de_Dios_Field_Recor...  0  1\n",
      "./peru_data/Audiomoth_Madre_de_Dios_Field_Recor...  1  0\n",
      "./peru_data/Audiomoth_Madre_de_Dios_Field_Recor...  1  0\n",
      "./peru_data/Audiomoth_Madre_de_Dios_Field_Recor...  0  1\n",
      "./peru_data/Audiomoth_Madre_de_Dios_Field_Recor...  0  1\n"
     ]
    }
   ],
   "source": [
    "df_test = pd.read_csv('peru_data/Audiomoth_Madre_de_Dios_Field_Recordings/All/Copy of Stratified_Random_Sample_Bird_Labels.csv')\n",
    "\n",
    "df_test['Filename'] = './peru_data/Audiomoth_Madre_de_Dios_Field_Recordings/All/' + df_test['Folder'] + '/' + df_test['Clip']\n",
    "df_test.drop(columns=['Folder', 'Clip'], inplace=True)\n",
    "\n",
    "from opensoundscape.annotations import categorical_to_one_hot\n",
    "one_hot_labels, classes = categorical_to_one_hot(df_test[['Bird(s)?']].values)\n",
    "test_data = pd.DataFrame(index=df_test['Filename'],data=one_hot_labels,columns=classes)\n",
    "print(test_data.head())\n",
    "test_data.rename(columns={\"y\": \"non-empty\", \"n\": \"empty\"}, inplace=True)\n",
    "\n",
    "test_data = test_data[['non-empty', 'empty']]\n",
    "\n",
    "cols=[i for i in test_data.columns if i not in [\"file\"]]\n",
    "for col in cols:\n",
    "    test_data[col]=pd.to_numeric(test_data[col])"
   ]
  },
  {
   "cell_type": "code",
   "execution_count": 8,
   "id": "d5d141aa",
   "metadata": {},
   "outputs": [],
   "source": [
    "#create a copy of the training dataset, sampling 0 of the training samples from it\n",
    "prediction_dataset = model.train_dataset.sample(n=0)\n",
    "#turn off augmentation on this dataset\n",
    "prediction_dataset.augmentation_off()\n",
    "#use the validation samples as test samples for the sake of illustration\n",
    "prediction_dataset.df = test_data"
   ]
  },
  {
   "cell_type": "code",
   "execution_count": 9,
   "id": "3f0b8876",
   "metadata": {},
   "outputs": [
    {
     "data": {
      "text/html": [
       "<div>\n",
       "<style scoped>\n",
       "    .dataframe tbody tr th:only-of-type {\n",
       "        vertical-align: middle;\n",
       "    }\n",
       "\n",
       "    .dataframe tbody tr th {\n",
       "        vertical-align: top;\n",
       "    }\n",
       "\n",
       "    .dataframe thead th {\n",
       "        text-align: right;\n",
       "    }\n",
       "</style>\n",
       "<table border=\"1\" class=\"dataframe\">\n",
       "  <thead>\n",
       "    <tr style=\"text-align: right;\">\n",
       "      <th></th>\n",
       "      <th>non-empty</th>\n",
       "      <th>empty</th>\n",
       "    </tr>\n",
       "    <tr>\n",
       "      <th>Filename</th>\n",
       "      <th></th>\n",
       "      <th></th>\n",
       "    </tr>\n",
       "  </thead>\n",
       "  <tbody>\n",
       "    <tr>\n",
       "      <th>./peru_data/Audiomoth_Madre_de_Dios_Field_Recordings/All/WWF5_samples_split/5D2C0D00_5.WAV</th>\n",
       "      <td>1</td>\n",
       "      <td>0</td>\n",
       "    </tr>\n",
       "    <tr>\n",
       "      <th>./peru_data/Audiomoth_Madre_de_Dios_Field_Recordings/All/WWF5_samples_split/5D208AE8_13.WAV</th>\n",
       "      <td>0</td>\n",
       "      <td>1</td>\n",
       "    </tr>\n",
       "    <tr>\n",
       "      <th>./peru_data/Audiomoth_Madre_de_Dios_Field_Recordings/All/WWF5_samples_split/5D28A2C8_0.WAV</th>\n",
       "      <td>0</td>\n",
       "      <td>1</td>\n",
       "    </tr>\n",
       "    <tr>\n",
       "      <th>./peru_data/Audiomoth_Madre_de_Dios_Field_Recordings/All/WWF5_samples_split/5D208AE8_10.WAV</th>\n",
       "      <td>1</td>\n",
       "      <td>0</td>\n",
       "    </tr>\n",
       "    <tr>\n",
       "      <th>./peru_data/Audiomoth_Madre_de_Dios_Field_Recordings/All/WWF5_samples_split/5D2C0D00_8.WAV</th>\n",
       "      <td>1</td>\n",
       "      <td>0</td>\n",
       "    </tr>\n",
       "    <tr>\n",
       "      <th>...</th>\n",
       "      <td>...</td>\n",
       "      <td>...</td>\n",
       "    </tr>\n",
       "    <tr>\n",
       "      <th>./peru_data/Audiomoth_Madre_de_Dios_Field_Recordings/All/AM1_samples_split/20190627_151000_12.WAV</th>\n",
       "      <td>1</td>\n",
       "      <td>0</td>\n",
       "    </tr>\n",
       "    <tr>\n",
       "      <th>./peru_data/Audiomoth_Madre_de_Dios_Field_Recordings/All/AM1_samples_split/20190701_084000_1.WAV</th>\n",
       "      <td>0</td>\n",
       "      <td>1</td>\n",
       "    </tr>\n",
       "    <tr>\n",
       "      <th>./peru_data/Audiomoth_Madre_de_Dios_Field_Recordings/All/AM1_samples_split/20190624_074000_14.WAV</th>\n",
       "      <td>0</td>\n",
       "      <td>1</td>\n",
       "    </tr>\n",
       "    <tr>\n",
       "      <th>./peru_data/Audiomoth_Madre_de_Dios_Field_Recordings/All/AM1_samples_split/20190621_085000_19.WAV</th>\n",
       "      <td>0</td>\n",
       "      <td>1</td>\n",
       "    </tr>\n",
       "    <tr>\n",
       "      <th>./peru_data/Audiomoth_Madre_de_Dios_Field_Recordings/All/AM1_samples_split/20190624_145000_17.WAV</th>\n",
       "      <td>0</td>\n",
       "      <td>1</td>\n",
       "    </tr>\n",
       "  </tbody>\n",
       "</table>\n",
       "<p>7120 rows × 2 columns</p>\n",
       "</div>"
      ],
      "text/plain": [
       "                                                    non-empty  empty\n",
       "Filename                                                            \n",
       "./peru_data/Audiomoth_Madre_de_Dios_Field_Recor...          1      0\n",
       "./peru_data/Audiomoth_Madre_de_Dios_Field_Recor...          0      1\n",
       "./peru_data/Audiomoth_Madre_de_Dios_Field_Recor...          0      1\n",
       "./peru_data/Audiomoth_Madre_de_Dios_Field_Recor...          1      0\n",
       "./peru_data/Audiomoth_Madre_de_Dios_Field_Recor...          1      0\n",
       "...                                                       ...    ...\n",
       "./peru_data/Audiomoth_Madre_de_Dios_Field_Recor...          1      0\n",
       "./peru_data/Audiomoth_Madre_de_Dios_Field_Recor...          0      1\n",
       "./peru_data/Audiomoth_Madre_de_Dios_Field_Recor...          0      1\n",
       "./peru_data/Audiomoth_Madre_de_Dios_Field_Recor...          0      1\n",
       "./peru_data/Audiomoth_Madre_de_Dios_Field_Recor...          0      1\n",
       "\n",
       "[7120 rows x 2 columns]"
      ]
     },
     "execution_count": 9,
     "metadata": {},
     "output_type": "execute_result"
    }
   ],
   "source": [
    "prediction_dataset.df"
   ]
  },
  {
   "cell_type": "code",
   "execution_count": 10,
   "id": "fa336e44",
   "metadata": {},
   "outputs": [
    {
     "name": "stdout",
     "output_type": "stream",
     "text": [
      "(7120, 2)\n"
     ]
    },
    {
     "data": {
      "text/html": [
       "<div>\n",
       "<style scoped>\n",
       "    .dataframe tbody tr th:only-of-type {\n",
       "        vertical-align: middle;\n",
       "    }\n",
       "\n",
       "    .dataframe tbody tr th {\n",
       "        vertical-align: top;\n",
       "    }\n",
       "\n",
       "    .dataframe thead th {\n",
       "        text-align: right;\n",
       "    }\n",
       "</style>\n",
       "<table border=\"1\" class=\"dataframe\">\n",
       "  <thead>\n",
       "    <tr style=\"text-align: right;\">\n",
       "      <th></th>\n",
       "      <th>non-empty</th>\n",
       "      <th>empty</th>\n",
       "    </tr>\n",
       "  </thead>\n",
       "  <tbody>\n",
       "    <tr>\n",
       "      <th>./peru_data/Audiomoth_Madre_de_Dios_Field_Recordings/All/WWF5_samples_split/5D2C0D00_5.WAV</th>\n",
       "      <td>0.999985</td>\n",
       "      <td>0.000015</td>\n",
       "    </tr>\n",
       "    <tr>\n",
       "      <th>./peru_data/Audiomoth_Madre_de_Dios_Field_Recordings/All/WWF5_samples_split/5D208AE8_13.WAV</th>\n",
       "      <td>0.966746</td>\n",
       "      <td>0.033254</td>\n",
       "    </tr>\n",
       "    <tr>\n",
       "      <th>./peru_data/Audiomoth_Madre_de_Dios_Field_Recordings/All/WWF5_samples_split/5D28A2C8_0.WAV</th>\n",
       "      <td>0.999934</td>\n",
       "      <td>0.000066</td>\n",
       "    </tr>\n",
       "    <tr>\n",
       "      <th>./peru_data/Audiomoth_Madre_de_Dios_Field_Recordings/All/WWF5_samples_split/5D208AE8_10.WAV</th>\n",
       "      <td>0.852672</td>\n",
       "      <td>0.147328</td>\n",
       "    </tr>\n",
       "    <tr>\n",
       "      <th>./peru_data/Audiomoth_Madre_de_Dios_Field_Recordings/All/WWF5_samples_split/5D2C0D00_8.WAV</th>\n",
       "      <td>0.999977</td>\n",
       "      <td>0.000023</td>\n",
       "    </tr>\n",
       "    <tr>\n",
       "      <th>...</th>\n",
       "      <td>...</td>\n",
       "      <td>...</td>\n",
       "    </tr>\n",
       "    <tr>\n",
       "      <th>./peru_data/Audiomoth_Madre_de_Dios_Field_Recordings/All/AM1_samples_split/20190627_151000_12.WAV</th>\n",
       "      <td>0.999997</td>\n",
       "      <td>0.000003</td>\n",
       "    </tr>\n",
       "    <tr>\n",
       "      <th>./peru_data/Audiomoth_Madre_de_Dios_Field_Recordings/All/AM1_samples_split/20190701_084000_1.WAV</th>\n",
       "      <td>0.999880</td>\n",
       "      <td>0.000120</td>\n",
       "    </tr>\n",
       "    <tr>\n",
       "      <th>./peru_data/Audiomoth_Madre_de_Dios_Field_Recordings/All/AM1_samples_split/20190624_074000_14.WAV</th>\n",
       "      <td>0.980086</td>\n",
       "      <td>0.019914</td>\n",
       "    </tr>\n",
       "    <tr>\n",
       "      <th>./peru_data/Audiomoth_Madre_de_Dios_Field_Recordings/All/AM1_samples_split/20190621_085000_19.WAV</th>\n",
       "      <td>0.998278</td>\n",
       "      <td>0.001722</td>\n",
       "    </tr>\n",
       "    <tr>\n",
       "      <th>./peru_data/Audiomoth_Madre_de_Dios_Field_Recordings/All/AM1_samples_split/20190624_145000_17.WAV</th>\n",
       "      <td>0.999975</td>\n",
       "      <td>0.000025</td>\n",
       "    </tr>\n",
       "  </tbody>\n",
       "</table>\n",
       "<p>7120 rows × 2 columns</p>\n",
       "</div>"
      ],
      "text/plain": [
       "                                                    non-empty     empty\n",
       "./peru_data/Audiomoth_Madre_de_Dios_Field_Recor...   0.999985  0.000015\n",
       "./peru_data/Audiomoth_Madre_de_Dios_Field_Recor...   0.966746  0.033254\n",
       "./peru_data/Audiomoth_Madre_de_Dios_Field_Recor...   0.999934  0.000066\n",
       "./peru_data/Audiomoth_Madre_de_Dios_Field_Recor...   0.852672  0.147328\n",
       "./peru_data/Audiomoth_Madre_de_Dios_Field_Recor...   0.999977  0.000023\n",
       "...                                                       ...       ...\n",
       "./peru_data/Audiomoth_Madre_de_Dios_Field_Recor...   0.999997  0.000003\n",
       "./peru_data/Audiomoth_Madre_de_Dios_Field_Recor...   0.999880  0.000120\n",
       "./peru_data/Audiomoth_Madre_de_Dios_Field_Recor...   0.980086  0.019914\n",
       "./peru_data/Audiomoth_Madre_de_Dios_Field_Recor...   0.998278  0.001722\n",
       "./peru_data/Audiomoth_Madre_de_Dios_Field_Recor...   0.999975  0.000025\n",
       "\n",
       "[7120 rows x 2 columns]"
      ]
     },
     "execution_count": 10,
     "metadata": {},
     "output_type": "execute_result"
    }
   ],
   "source": [
    "valid_scores_df, valid_preds_df, valid_labels_df = model.predict(prediction_dataset,\n",
    "                                                                 binary_preds='single_target',\n",
    "                                                                 activation_layer='softmax')\n",
    "valid_scores_df"
   ]
  },
  {
   "cell_type": "code",
   "execution_count": 11,
   "id": "441565e7",
   "metadata": {},
   "outputs": [
    {
     "data": {
      "text/html": [
       "<div>\n",
       "<style scoped>\n",
       "    .dataframe tbody tr th:only-of-type {\n",
       "        vertical-align: middle;\n",
       "    }\n",
       "\n",
       "    .dataframe tbody tr th {\n",
       "        vertical-align: top;\n",
       "    }\n",
       "\n",
       "    .dataframe thead th {\n",
       "        text-align: right;\n",
       "    }\n",
       "</style>\n",
       "<table border=\"1\" class=\"dataframe\">\n",
       "  <thead>\n",
       "    <tr style=\"text-align: right;\">\n",
       "      <th></th>\n",
       "      <th>non-empty</th>\n",
       "      <th>empty</th>\n",
       "    </tr>\n",
       "  </thead>\n",
       "  <tbody>\n",
       "    <tr>\n",
       "      <th>./peru_data/Audiomoth_Madre_de_Dios_Field_Recordings/All/WWF5_samples_split/5D2C0D00_5.WAV</th>\n",
       "      <td>1</td>\n",
       "      <td>0</td>\n",
       "    </tr>\n",
       "    <tr>\n",
       "      <th>./peru_data/Audiomoth_Madre_de_Dios_Field_Recordings/All/WWF5_samples_split/5D208AE8_13.WAV</th>\n",
       "      <td>0</td>\n",
       "      <td>1</td>\n",
       "    </tr>\n",
       "    <tr>\n",
       "      <th>./peru_data/Audiomoth_Madre_de_Dios_Field_Recordings/All/WWF5_samples_split/5D28A2C8_0.WAV</th>\n",
       "      <td>0</td>\n",
       "      <td>1</td>\n",
       "    </tr>\n",
       "    <tr>\n",
       "      <th>./peru_data/Audiomoth_Madre_de_Dios_Field_Recordings/All/WWF5_samples_split/5D208AE8_10.WAV</th>\n",
       "      <td>1</td>\n",
       "      <td>0</td>\n",
       "    </tr>\n",
       "    <tr>\n",
       "      <th>./peru_data/Audiomoth_Madre_de_Dios_Field_Recordings/All/WWF5_samples_split/5D2C0D00_8.WAV</th>\n",
       "      <td>1</td>\n",
       "      <td>0</td>\n",
       "    </tr>\n",
       "    <tr>\n",
       "      <th>...</th>\n",
       "      <td>...</td>\n",
       "      <td>...</td>\n",
       "    </tr>\n",
       "    <tr>\n",
       "      <th>./peru_data/Audiomoth_Madre_de_Dios_Field_Recordings/All/AM1_samples_split/20190627_151000_12.WAV</th>\n",
       "      <td>1</td>\n",
       "      <td>0</td>\n",
       "    </tr>\n",
       "    <tr>\n",
       "      <th>./peru_data/Audiomoth_Madre_de_Dios_Field_Recordings/All/AM1_samples_split/20190701_084000_1.WAV</th>\n",
       "      <td>0</td>\n",
       "      <td>1</td>\n",
       "    </tr>\n",
       "    <tr>\n",
       "      <th>./peru_data/Audiomoth_Madre_de_Dios_Field_Recordings/All/AM1_samples_split/20190624_074000_14.WAV</th>\n",
       "      <td>0</td>\n",
       "      <td>1</td>\n",
       "    </tr>\n",
       "    <tr>\n",
       "      <th>./peru_data/Audiomoth_Madre_de_Dios_Field_Recordings/All/AM1_samples_split/20190621_085000_19.WAV</th>\n",
       "      <td>0</td>\n",
       "      <td>1</td>\n",
       "    </tr>\n",
       "    <tr>\n",
       "      <th>./peru_data/Audiomoth_Madre_de_Dios_Field_Recordings/All/AM1_samples_split/20190624_145000_17.WAV</th>\n",
       "      <td>0</td>\n",
       "      <td>1</td>\n",
       "    </tr>\n",
       "  </tbody>\n",
       "</table>\n",
       "<p>7120 rows × 2 columns</p>\n",
       "</div>"
      ],
      "text/plain": [
       "                                                    non-empty  empty\n",
       "./peru_data/Audiomoth_Madre_de_Dios_Field_Recor...          1      0\n",
       "./peru_data/Audiomoth_Madre_de_Dios_Field_Recor...          0      1\n",
       "./peru_data/Audiomoth_Madre_de_Dios_Field_Recor...          0      1\n",
       "./peru_data/Audiomoth_Madre_de_Dios_Field_Recor...          1      0\n",
       "./peru_data/Audiomoth_Madre_de_Dios_Field_Recor...          1      0\n",
       "...                                                       ...    ...\n",
       "./peru_data/Audiomoth_Madre_de_Dios_Field_Recor...          1      0\n",
       "./peru_data/Audiomoth_Madre_de_Dios_Field_Recor...          0      1\n",
       "./peru_data/Audiomoth_Madre_de_Dios_Field_Recor...          0      1\n",
       "./peru_data/Audiomoth_Madre_de_Dios_Field_Recor...          0      1\n",
       "./peru_data/Audiomoth_Madre_de_Dios_Field_Recor...          0      1\n",
       "\n",
       "[7120 rows x 2 columns]"
      ]
     },
     "execution_count": 11,
     "metadata": {},
     "output_type": "execute_result"
    }
   ],
   "source": [
    "valid_labels_df"
   ]
  },
  {
   "cell_type": "code",
   "execution_count": 12,
   "id": "8985d211",
   "metadata": {},
   "outputs": [
    {
     "name": "stdout",
     "output_type": "stream",
     "text": [
      "              precision    recall  f1-score   support\n",
      "\n",
      "           0       0.44      1.00      0.61      3113\n",
      "           1       1.00      0.00      0.00      4007\n",
      "\n",
      "   micro avg       0.44      0.44      0.44      7120\n",
      "   macro avg       0.72      0.50      0.30      7120\n",
      "weighted avg       0.75      0.44      0.27      7120\n",
      " samples avg       0.44      0.44      0.44      7120\n",
      "\n"
     ]
    }
   ],
   "source": [
    "from sklearn.metrics import classification_report, roc_auc_score, roc_curve\n",
    "print(classification_report(valid_labels_df, valid_preds_df))"
   ]
  },
  {
   "cell_type": "code",
   "execution_count": 13,
   "id": "26a1f15c",
   "metadata": {},
   "outputs": [],
   "source": [
    "from matplotlib import pyplot as plt\n",
    "plt.rcParams['figure.figsize']=[15,5] "
   ]
  },
  {
   "cell_type": "code",
   "execution_count": 15,
   "id": "2bbd3af2",
   "metadata": {},
   "outputs": [
    {
     "data": {
      "image/png": "[encoded data removed]",
      "text/plain": [
       "<Figure size 1080x360 with 1 Axes>"
      ]
     },
     "metadata": {
      "needs_background": "light"
     },
     "output_type": "display_data"
    }
   ],
   "source": [
    "fpr, tpr, thresh = roc_curve(valid_labels_df['non-empty'],  valid_scores_df['non-empty'])\n",
    "auc = roc_auc_score(valid_labels_df['non-empty'],  valid_preds_df['non-empty'])\n",
    "\n",
    "fpr2, tpr2, thresh2 = roc_curve(valid_labels_df['empty'],  valid_scores_df['empty'])\n",
    "auc2 = roc_auc_score(valid_labels_df['empty'],  valid_preds_df['empty'])\n",
    "\n",
    "#create ROC curve\n",
    "plt.plot(fpr,tpr,label=\"AUC bird class=\"+str(auc))\n",
    "plt.title('Prediction on peru dataset (Train: nips, xeno_canto)')\n",
    "plt.ylabel('True Positive Rate')\n",
    "plt.xlabel('False Positive Rate')\n",
    "plt.plot(fpr2,tpr2,label=\"AUC empty class=\"+str(auc2))\n",
    "plt.legend(loc=4)\n",
    "plt.savefig('./nips_xeno_canto_train_augmentation_on/model_AUC_nips_xeno_peru_aug.jpg', format='jpg', transparent=False)"
   ]
  },
  {
   "cell_type": "code",
   "execution_count": null,
   "id": "5e0d498d",
   "metadata": {},
   "outputs": [],
   "source": []
  }
 ],
 "metadata": {
  "kernelspec": {
   "display_name": "Python 3 (ipykernel)",
   "language": "python",
   "name": "python3"
  },
  "language_info": {
   "codemirror_mode": {
    "name": "ipython",
    "version": 3
   },
   "file_extension": ".py",
   "mimetype": "text/x-python",
   "name": "python",
   "nbconvert_exporter": "python",
   "pygments_lexer": "ipython3",
   "version": "3.8.0"
  }
 },
 "nbformat": 4,
 "nbformat_minor": 5
}
