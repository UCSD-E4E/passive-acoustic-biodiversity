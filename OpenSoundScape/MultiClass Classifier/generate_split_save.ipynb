{
 "cells": [
  {
   "cell_type": "code",
   "execution_count": 26,
   "id": "1ffa3a1f",
   "metadata": {},
   "outputs": [],
   "source": [
    "from opensoundscape.preprocess.preprocessors import BasePreprocessor, AudioToSpectrogramPreprocessor, CnnPreprocessor\n",
    "import torch\n",
    "import pandas as pd\n",
    "from pathlib import Path\n",
    "import numpy as np\n",
    "import pandas as pd\n",
    "from opensoundscape.torch.models import cnn\n",
    "from opensoundscape.torch.architectures import cnn_architectures"
   ]
  },
  {
   "cell_type": "code",
   "execution_count": 46,
   "id": "9987d7db",
   "metadata": {},
   "outputs": [
    {
     "data": {
      "text/plain": [
       "False    22018\n",
       "True         7\n",
       "Name: MANUAL ID, dtype: int64"
      ]
     },
     "execution_count": 46,
     "metadata": {},
     "output_type": "execute_result"
    }
   ],
   "source": [
    "df = pd.read_csv('Labeling System xeno-canto Dataset/MDD_Xeno_Canto_DSC180_Labels_uniform_3s.csv')\n",
    "df['IN FILE'] = ['./Labeling System xeno-canto Dataset/Mixed_Bird/' + f for f in df['IN FILE']]\n",
    "df['MANUAL ID'].str.contains('Southern Mealy Amazon').value_counts()"
   ]
  },
  {
   "cell_type": "code",
   "execution_count": 43,
   "id": "deca5c4c",
   "metadata": {},
   "outputs": [
    {
     "data": {
      "text/html": [
       "<div>\n",
       "<style scoped>\n",
       "    .dataframe tbody tr th:only-of-type {\n",
       "        vertical-align: middle;\n",
       "    }\n",
       "\n",
       "    .dataframe tbody tr th {\n",
       "        vertical-align: top;\n",
       "    }\n",
       "\n",
       "    .dataframe thead th {\n",
       "        text-align: right;\n",
       "    }\n",
       "</style>\n",
       "<table border=\"1\" class=\"dataframe\">\n",
       "  <thead>\n",
       "    <tr style=\"text-align: right;\">\n",
       "      <th></th>\n",
       "      <th>IN FILE</th>\n",
       "      <th>CLIP LENGTH</th>\n",
       "      <th>OFFSET</th>\n",
       "      <th>DURATION</th>\n",
       "      <th>SAMPLE RATE</th>\n",
       "      <th>MANUAL ID</th>\n",
       "    </tr>\n",
       "  </thead>\n",
       "  <tbody>\n",
       "    <tr>\n",
       "      <th>0</th>\n",
       "      <td>./Labeling System xeno-canto Dataset/Mixed_Bir...</td>\n",
       "      <td>24.6335</td>\n",
       "      <td>0.0</td>\n",
       "      <td>3.0</td>\n",
       "      <td>44100</td>\n",
       "      <td>Aburria aburri Wattled Guan</td>\n",
       "    </tr>\n",
       "    <tr>\n",
       "      <th>1</th>\n",
       "      <td>./Labeling System xeno-canto Dataset/Mixed_Bir...</td>\n",
       "      <td>24.6335</td>\n",
       "      <td>3.0</td>\n",
       "      <td>3.0</td>\n",
       "      <td>44100</td>\n",
       "      <td>Aburria aburri Wattled Guan</td>\n",
       "    </tr>\n",
       "    <tr>\n",
       "      <th>2</th>\n",
       "      <td>./Labeling System xeno-canto Dataset/Mixed_Bir...</td>\n",
       "      <td>24.6335</td>\n",
       "      <td>6.0</td>\n",
       "      <td>3.0</td>\n",
       "      <td>44100</td>\n",
       "      <td>Aburria aburri Wattled Guan</td>\n",
       "    </tr>\n",
       "    <tr>\n",
       "      <th>3</th>\n",
       "      <td>./Labeling System xeno-canto Dataset/Mixed_Bir...</td>\n",
       "      <td>24.6335</td>\n",
       "      <td>18.0</td>\n",
       "      <td>3.0</td>\n",
       "      <td>44100</td>\n",
       "      <td>Aburria aburri Wattled Guan</td>\n",
       "    </tr>\n",
       "    <tr>\n",
       "      <th>4</th>\n",
       "      <td>./Labeling System xeno-canto Dataset/Mixed_Bir...</td>\n",
       "      <td>24.6335</td>\n",
       "      <td>21.0</td>\n",
       "      <td>3.0</td>\n",
       "      <td>44100</td>\n",
       "      <td>Aburria aburri Wattled Guan</td>\n",
       "    </tr>\n",
       "    <tr>\n",
       "      <th>...</th>\n",
       "      <td>...</td>\n",
       "      <td>...</td>\n",
       "      <td>...</td>\n",
       "      <td>...</td>\n",
       "      <td>...</td>\n",
       "      <td>...</td>\n",
       "    </tr>\n",
       "    <tr>\n",
       "      <th>22020</th>\n",
       "      <td>./Labeling System xeno-canto Dataset/Mixed_Bir...</td>\n",
       "      <td>18.2596</td>\n",
       "      <td>0.0</td>\n",
       "      <td>3.0</td>\n",
       "      <td>44100</td>\n",
       "      <td>Zonotrichia capensis Rufous-collared Sparrow</td>\n",
       "    </tr>\n",
       "    <tr>\n",
       "      <th>22021</th>\n",
       "      <td>./Labeling System xeno-canto Dataset/Mixed_Bir...</td>\n",
       "      <td>18.2596</td>\n",
       "      <td>3.0</td>\n",
       "      <td>3.0</td>\n",
       "      <td>44100</td>\n",
       "      <td>Zonotrichia capensis Rufous-collared Sparrow</td>\n",
       "    </tr>\n",
       "    <tr>\n",
       "      <th>22022</th>\n",
       "      <td>./Labeling System xeno-canto Dataset/Mixed_Bir...</td>\n",
       "      <td>18.2596</td>\n",
       "      <td>6.0</td>\n",
       "      <td>3.0</td>\n",
       "      <td>44100</td>\n",
       "      <td>Zonotrichia capensis Rufous-collared Sparrow</td>\n",
       "    </tr>\n",
       "    <tr>\n",
       "      <th>22023</th>\n",
       "      <td>./Labeling System xeno-canto Dataset/Mixed_Bir...</td>\n",
       "      <td>18.2596</td>\n",
       "      <td>12.0</td>\n",
       "      <td>3.0</td>\n",
       "      <td>44100</td>\n",
       "      <td>Zonotrichia capensis Rufous-collared Sparrow</td>\n",
       "    </tr>\n",
       "    <tr>\n",
       "      <th>22024</th>\n",
       "      <td>./Labeling System xeno-canto Dataset/Mixed_Bir...</td>\n",
       "      <td>18.2596</td>\n",
       "      <td>15.0</td>\n",
       "      <td>3.0</td>\n",
       "      <td>44100</td>\n",
       "      <td>Zonotrichia capensis Rufous-collared Sparrow</td>\n",
       "    </tr>\n",
       "  </tbody>\n",
       "</table>\n",
       "<p>22025 rows × 6 columns</p>\n",
       "</div>"
      ],
      "text/plain": [
       "                                                 IN FILE  CLIP LENGTH  OFFSET  \\\n",
       "0      ./Labeling System xeno-canto Dataset/Mixed_Bir...      24.6335     0.0   \n",
       "1      ./Labeling System xeno-canto Dataset/Mixed_Bir...      24.6335     3.0   \n",
       "2      ./Labeling System xeno-canto Dataset/Mixed_Bir...      24.6335     6.0   \n",
       "3      ./Labeling System xeno-canto Dataset/Mixed_Bir...      24.6335    18.0   \n",
       "4      ./Labeling System xeno-canto Dataset/Mixed_Bir...      24.6335    21.0   \n",
       "...                                                  ...          ...     ...   \n",
       "22020  ./Labeling System xeno-canto Dataset/Mixed_Bir...      18.2596     0.0   \n",
       "22021  ./Labeling System xeno-canto Dataset/Mixed_Bir...      18.2596     3.0   \n",
       "22022  ./Labeling System xeno-canto Dataset/Mixed_Bir...      18.2596     6.0   \n",
       "22023  ./Labeling System xeno-canto Dataset/Mixed_Bir...      18.2596    12.0   \n",
       "22024  ./Labeling System xeno-canto Dataset/Mixed_Bir...      18.2596    15.0   \n",
       "\n",
       "       DURATION  SAMPLE RATE                                     MANUAL ID  \n",
       "0           3.0        44100                   Aburria aburri Wattled Guan  \n",
       "1           3.0        44100                   Aburria aburri Wattled Guan  \n",
       "2           3.0        44100                   Aburria aburri Wattled Guan  \n",
       "3           3.0        44100                   Aburria aburri Wattled Guan  \n",
       "4           3.0        44100                   Aburria aburri Wattled Guan  \n",
       "...         ...          ...                                           ...  \n",
       "22020       3.0        44100  Zonotrichia capensis Rufous-collared Sparrow  \n",
       "22021       3.0        44100  Zonotrichia capensis Rufous-collared Sparrow  \n",
       "22022       3.0        44100  Zonotrichia capensis Rufous-collared Sparrow  \n",
       "22023       3.0        44100  Zonotrichia capensis Rufous-collared Sparrow  \n",
       "22024       3.0        44100  Zonotrichia capensis Rufous-collared Sparrow  \n",
       "\n",
       "[22025 rows x 6 columns]"
      ]
     },
     "execution_count": 43,
     "metadata": {},
     "output_type": "execute_result"
    }
   ],
   "source": [
    "df"
   ]
  },
  {
   "cell_type": "code",
   "execution_count": 59,
   "id": "51e204dd",
   "metadata": {},
   "outputs": [],
   "source": [
    "ef = df.groupby('IN FILE', group_keys=False).apply(lambda ff: ff.sample(1))\n",
    "ef = ef[ef['MANUAL ID'].str.contains('Attila')]\n",
    "ef.reset_index(drop=True, inplace=True)"
   ]
  },
  {
   "cell_type": "code",
   "execution_count": 60,
   "id": "ce186453",
   "metadata": {},
   "outputs": [
    {
     "data": {
      "text/html": [
       "<div>\n",
       "<style scoped>\n",
       "    .dataframe tbody tr th:only-of-type {\n",
       "        vertical-align: middle;\n",
       "    }\n",
       "\n",
       "    .dataframe tbody tr th {\n",
       "        vertical-align: top;\n",
       "    }\n",
       "\n",
       "    .dataframe thead th {\n",
       "        text-align: right;\n",
       "    }\n",
       "</style>\n",
       "<table border=\"1\" class=\"dataframe\">\n",
       "  <thead>\n",
       "    <tr style=\"text-align: right;\">\n",
       "      <th></th>\n",
       "      <th>IN FILE</th>\n",
       "      <th>CLIP LENGTH</th>\n",
       "      <th>OFFSET</th>\n",
       "      <th>DURATION</th>\n",
       "      <th>SAMPLE RATE</th>\n",
       "      <th>MANUAL ID</th>\n",
       "    </tr>\n",
       "  </thead>\n",
       "  <tbody>\n",
       "    <tr>\n",
       "      <th>0</th>\n",
       "      <td>./Labeling System xeno-canto Dataset/Mixed_Bir...</td>\n",
       "      <td>31.03350</td>\n",
       "      <td>0.0</td>\n",
       "      <td>3.0</td>\n",
       "      <td>44100</td>\n",
       "      <td>Attila bolivianus White-eyed Attila</td>\n",
       "    </tr>\n",
       "    <tr>\n",
       "      <th>1</th>\n",
       "      <td>./Labeling System xeno-canto Dataset/Mixed_Bir...</td>\n",
       "      <td>105.55200</td>\n",
       "      <td>63.0</td>\n",
       "      <td>3.0</td>\n",
       "      <td>48000</td>\n",
       "      <td>Attila bolivianus White-eyed Attila</td>\n",
       "    </tr>\n",
       "    <tr>\n",
       "      <th>2</th>\n",
       "      <td>./Labeling System xeno-canto Dataset/Mixed_Bir...</td>\n",
       "      <td>14.52000</td>\n",
       "      <td>0.0</td>\n",
       "      <td>3.0</td>\n",
       "      <td>48000</td>\n",
       "      <td>Attila bolivianus White-eyed Attila</td>\n",
       "    </tr>\n",
       "    <tr>\n",
       "      <th>3</th>\n",
       "      <td>./Labeling System xeno-canto Dataset/Mixed_Bir...</td>\n",
       "      <td>46.96820</td>\n",
       "      <td>39.0</td>\n",
       "      <td>3.0</td>\n",
       "      <td>44100</td>\n",
       "      <td>Attila cinnamomeus Cinnamon Attila</td>\n",
       "    </tr>\n",
       "    <tr>\n",
       "      <th>4</th>\n",
       "      <td>./Labeling System xeno-canto Dataset/Mixed_Bir...</td>\n",
       "      <td>54.46530</td>\n",
       "      <td>45.0</td>\n",
       "      <td>3.0</td>\n",
       "      <td>44100</td>\n",
       "      <td>Attila cinnamomeus Cinnamon Attila</td>\n",
       "    </tr>\n",
       "    <tr>\n",
       "      <th>5</th>\n",
       "      <td>./Labeling System xeno-canto Dataset/Mixed_Bir...</td>\n",
       "      <td>99.52650</td>\n",
       "      <td>93.0</td>\n",
       "      <td>3.0</td>\n",
       "      <td>44100</td>\n",
       "      <td>Attila cinnamomeus Cinnamon Attila</td>\n",
       "    </tr>\n",
       "    <tr>\n",
       "      <th>6</th>\n",
       "      <td>./Labeling System xeno-canto Dataset/Mixed_Bir...</td>\n",
       "      <td>13.21800</td>\n",
       "      <td>0.0</td>\n",
       "      <td>3.0</td>\n",
       "      <td>44100</td>\n",
       "      <td>Attila cinnamomeus Cinnamon Attila</td>\n",
       "    </tr>\n",
       "    <tr>\n",
       "      <th>7</th>\n",
       "      <td>./Labeling System xeno-canto Dataset/Mixed_Bir...</td>\n",
       "      <td>97.59350</td>\n",
       "      <td>6.0</td>\n",
       "      <td>3.0</td>\n",
       "      <td>44100</td>\n",
       "      <td>Attila spadiceus Bright-rumped Attila</td>\n",
       "    </tr>\n",
       "    <tr>\n",
       "      <th>8</th>\n",
       "      <td>./Labeling System xeno-canto Dataset/Mixed_Bir...</td>\n",
       "      <td>9.27347</td>\n",
       "      <td>6.0</td>\n",
       "      <td>3.0</td>\n",
       "      <td>44100</td>\n",
       "      <td>Attila spadiceus Bright-rumped Attila</td>\n",
       "    </tr>\n",
       "  </tbody>\n",
       "</table>\n",
       "</div>"
      ],
      "text/plain": [
       "                                             IN FILE  CLIP LENGTH  OFFSET  \\\n",
       "0  ./Labeling System xeno-canto Dataset/Mixed_Bir...     31.03350     0.0   \n",
       "1  ./Labeling System xeno-canto Dataset/Mixed_Bir...    105.55200    63.0   \n",
       "2  ./Labeling System xeno-canto Dataset/Mixed_Bir...     14.52000     0.0   \n",
       "3  ./Labeling System xeno-canto Dataset/Mixed_Bir...     46.96820    39.0   \n",
       "4  ./Labeling System xeno-canto Dataset/Mixed_Bir...     54.46530    45.0   \n",
       "5  ./Labeling System xeno-canto Dataset/Mixed_Bir...     99.52650    93.0   \n",
       "6  ./Labeling System xeno-canto Dataset/Mixed_Bir...     13.21800     0.0   \n",
       "7  ./Labeling System xeno-canto Dataset/Mixed_Bir...     97.59350     6.0   \n",
       "8  ./Labeling System xeno-canto Dataset/Mixed_Bir...      9.27347     6.0   \n",
       "\n",
       "   DURATION  SAMPLE RATE                              MANUAL ID  \n",
       "0       3.0        44100    Attila bolivianus White-eyed Attila  \n",
       "1       3.0        48000    Attila bolivianus White-eyed Attila  \n",
       "2       3.0        48000    Attila bolivianus White-eyed Attila  \n",
       "3       3.0        44100     Attila cinnamomeus Cinnamon Attila  \n",
       "4       3.0        44100     Attila cinnamomeus Cinnamon Attila  \n",
       "5       3.0        44100     Attila cinnamomeus Cinnamon Attila  \n",
       "6       3.0        44100     Attila cinnamomeus Cinnamon Attila  \n",
       "7       3.0        44100  Attila spadiceus Bright-rumped Attila  \n",
       "8       3.0        44100  Attila spadiceus Bright-rumped Attila  "
      ]
     },
     "execution_count": 60,
     "metadata": {},
     "output_type": "execute_result"
    }
   ],
   "source": [
    "ef"
   ]
  },
  {
   "cell_type": "code",
   "execution_count": null,
   "id": "c9de7061",
   "metadata": {},
   "outputs": [],
   "source": []
  },
  {
   "cell_type": "code",
   "execution_count": 61,
   "id": "97c277e4",
   "metadata": {},
   "outputs": [
    {
     "name": "stderr",
     "output_type": "stream",
     "text": [
      "/var/folders/km/7_v861mx0cb9fp42nvllkmt00000gn/T/ipykernel_36970/2713810586.py:33: FutureWarning: The frame.append method is deprecated and will be removed from pandas in a future version. Use pandas.concat instead.\n",
      "  ef_split_save = ef_split_save.append(clip_df, ignore_index=True)\n",
      "/var/folders/km/7_v861mx0cb9fp42nvllkmt00000gn/T/ipykernel_36970/2713810586.py:33: FutureWarning: The frame.append method is deprecated and will be removed from pandas in a future version. Use pandas.concat instead.\n",
      "  ef_split_save = ef_split_save.append(clip_df, ignore_index=True)\n",
      "/var/folders/km/7_v861mx0cb9fp42nvllkmt00000gn/T/ipykernel_36970/2713810586.py:33: FutureWarning: The frame.append method is deprecated and will be removed from pandas in a future version. Use pandas.concat instead.\n",
      "  ef_split_save = ef_split_save.append(clip_df, ignore_index=True)\n",
      "/var/folders/km/7_v861mx0cb9fp42nvllkmt00000gn/T/ipykernel_36970/2713810586.py:33: FutureWarning: The frame.append method is deprecated and will be removed from pandas in a future version. Use pandas.concat instead.\n",
      "  ef_split_save = ef_split_save.append(clip_df, ignore_index=True)\n",
      "/var/folders/km/7_v861mx0cb9fp42nvllkmt00000gn/T/ipykernel_36970/2713810586.py:33: FutureWarning: The frame.append method is deprecated and will be removed from pandas in a future version. Use pandas.concat instead.\n",
      "  ef_split_save = ef_split_save.append(clip_df, ignore_index=True)\n",
      "/var/folders/km/7_v861mx0cb9fp42nvllkmt00000gn/T/ipykernel_36970/2713810586.py:33: FutureWarning: The frame.append method is deprecated and will be removed from pandas in a future version. Use pandas.concat instead.\n",
      "  ef_split_save = ef_split_save.append(clip_df, ignore_index=True)\n",
      "/var/folders/km/7_v861mx0cb9fp42nvllkmt00000gn/T/ipykernel_36970/2713810586.py:33: FutureWarning: The frame.append method is deprecated and will be removed from pandas in a future version. Use pandas.concat instead.\n",
      "  ef_split_save = ef_split_save.append(clip_df, ignore_index=True)\n"
     ]
    },
    {
     "name": "stdout",
     "output_type": "stream",
     "text": [
      "                                                  file start_time   end_time  \\\n",
      "0    ./temp_clips/../Labeling System xeno-canto Dat...        0.0        3.0   \n",
      "1    ./temp_clips/../Labeling System xeno-canto Dat...        3.0        6.0   \n",
      "2    ./temp_clips/../Labeling System xeno-canto Dat...        6.0        9.0   \n",
      "3    ./temp_clips/../Labeling System xeno-canto Dat...        9.0       12.0   \n",
      "4    ./temp_clips/../Labeling System xeno-canto Dat...       12.0       15.0   \n",
      "..                                                 ...        ...        ...   \n",
      "158  ./temp_clips/../Labeling System xeno-canto Dat...       96.0  97.593469   \n",
      "159  ./temp_clips/../Labeling System xeno-canto Dat...        0.0        3.0   \n",
      "160  ./temp_clips/../Labeling System xeno-canto Dat...        3.0        6.0   \n",
      "161  ./temp_clips/../Labeling System xeno-canto Dat...        6.0        9.0   \n",
      "162  ./temp_clips/../Labeling System xeno-canto Dat...        9.0   9.273469   \n",
      "\n",
      "    SAMPLING RATE                              MANUAL ID  \n",
      "0           44100    Attila bolivianus White-eyed Attila  \n",
      "1           44100    Attila bolivianus White-eyed Attila  \n",
      "2           44100    Attila bolivianus White-eyed Attila  \n",
      "3           44100    Attila bolivianus White-eyed Attila  \n",
      "4           44100    Attila bolivianus White-eyed Attila  \n",
      "..            ...                                    ...  \n",
      "158         44100  Attila spadiceus Bright-rumped Attila  \n",
      "159         44100  Attila spadiceus Bright-rumped Attila  \n",
      "160         44100  Attila spadiceus Bright-rumped Attila  \n",
      "161         44100  Attila spadiceus Bright-rumped Attila  \n",
      "162         44100  Attila spadiceus Bright-rumped Attila  \n",
      "\n",
      "[163 rows x 5 columns]\n"
     ]
    },
    {
     "name": "stderr",
     "output_type": "stream",
     "text": [
      "/var/folders/km/7_v861mx0cb9fp42nvllkmt00000gn/T/ipykernel_36970/2713810586.py:33: FutureWarning: The frame.append method is deprecated and will be removed from pandas in a future version. Use pandas.concat instead.\n",
      "  ef_split_save = ef_split_save.append(clip_df, ignore_index=True)\n",
      "/var/folders/km/7_v861mx0cb9fp42nvllkmt00000gn/T/ipykernel_36970/2713810586.py:33: FutureWarning: The frame.append method is deprecated and will be removed from pandas in a future version. Use pandas.concat instead.\n",
      "  ef_split_save = ef_split_save.append(clip_df, ignore_index=True)\n"
     ]
    }
   ],
   "source": [
    "from opensoundscape.audio import Audio\n",
    "clip_duration = 3\n",
    "clip_overlap = 0\n",
    "final_clip = None\n",
    "clip_dir = './temp_clips'\n",
    "# classes = labels\n",
    "min_label_overlap = 0.1\n",
    "\n",
    "ef_split_save = pd.DataFrame(columns=['file', 'start_time', 'end_time', 'SAMPLING RATE', 'MANUAL ID'])\n",
    "\n",
    "cnt = 0\n",
    "\n",
    "for i, row in ef.iterrows():\n",
    "    try:\n",
    "        audio = Audio.from_file(row['IN FILE'])\n",
    "    except Exception:\n",
    "        print(row['IN FILE'] + ' not found')\n",
    "        continue\n",
    "    file_name = row['IN FILE'].split('.')\n",
    "    # print(file_name)\n",
    "    clip_df = audio.split_and_save(\n",
    "        clip_dir,\n",
    "        prefix='..' + file_name[1],\n",
    "        clip_duration=clip_duration,\n",
    "        clip_overlap=clip_overlap,\n",
    "        final_clip='remainder',\n",
    "        dry_run=False\n",
    "    )\n",
    "    clip_df['SAMPLING RATE'] = [row['SAMPLE RATE']] * clip_df.shape[0]\n",
    "    clip_df['MANUAL ID'] = [row['MANUAL ID']] * clip_df.shape[0]\n",
    "    clip_df.reset_index(inplace=True)\n",
    "    # print(clip_df.shape)\n",
    "    ef_split_save = ef_split_save.append(clip_df, ignore_index=True)\n",
    "    # print(all_labels.shape)\n",
    "    # print('*******')\n",
    "print(ef_split_save)\n",
    "ef_split_save.to_csv('attila_test.csv')"
   ]
  },
  {
   "cell_type": "markdown",
   "id": "e940372e",
   "metadata": {},
   "source": [
    "## Investigate df"
   ]
  },
  {
   "cell_type": "code",
   "execution_count": 1,
   "id": "0fb76a20",
   "metadata": {},
   "outputs": [],
   "source": [
    "import pandas as pd\n",
    "df = pd.read_csv('screaming_pyha_test.csv')\n",
    "ef = pd.read_csv('flycatcher_test.csv')\n",
    "ff = pd.read_csv('antbird_test.csv')"
   ]
  },
  {
   "cell_type": "code",
   "execution_count": 3,
   "id": "889cd864",
   "metadata": {},
   "outputs": [
    {
     "name": "stderr",
     "output_type": "stream",
     "text": [
      "/var/folders/km/7_v861mx0cb9fp42nvllkmt00000gn/T/ipykernel_36970/7459103.py:1: FutureWarning: The frame.append method is deprecated and will be removed from pandas in a future version. Use pandas.concat instead.\n",
      "  gf = df.append(ef, ignore_index=True)\n",
      "/var/folders/km/7_v861mx0cb9fp42nvllkmt00000gn/T/ipykernel_36970/7459103.py:2: FutureWarning: The frame.append method is deprecated and will be removed from pandas in a future version. Use pandas.concat instead.\n",
      "  hf = gf.append(ff, ignore_index=True)\n"
     ]
    },
    {
     "data": {
      "text/plain": [
       "(2653, 6)"
      ]
     },
     "execution_count": 3,
     "metadata": {},
     "output_type": "execute_result"
    }
   ],
   "source": [
    "gf = df.append(ef, ignore_index=True)\n",
    "hf = gf.append(ff, ignore_index=True)\n",
    "hf.shape"
   ]
  },
  {
   "cell_type": "code",
   "execution_count": 8,
   "id": "c1021b22",
   "metadata": {},
   "outputs": [
    {
     "data": {
      "text/plain": [
       "Flycatcher    1348\n",
       "Antbird       1106\n",
       "Piha           199\n",
       "Name: MANUAL ID, dtype: int64"
      ]
     },
     "execution_count": 8,
     "metadata": {},
     "output_type": "execute_result"
    }
   ],
   "source": [
    "hf.loc[hf['MANUAL ID'].str.contains('Flycatcher'), 'MANUAL ID'] = 'Flycatcher'\n",
    "hf.loc[hf['MANUAL ID'].str.contains('Antbird'), 'MANUAL ID'] = 'Antbird'\n",
    "hf['MANUAL ID'] = hf['MANUAL ID'].map({'bird': 'Piha', 'Flycatcher': 'Flycatcher', 'Antbird': 'Antbird'})\n",
    "hf['MANUAL ID'].value_counts()"
   ]
  },
  {
   "cell_type": "code",
   "execution_count": 21,
   "id": "7a49f068",
   "metadata": {},
   "outputs": [],
   "source": [
    "from sklearn.model_selection import train_test_split\n",
    "train_df, valid_df = train_test_split(hf, test_size=0.05, random_state=42)\n",
    "train_df, test_df = train_test_split(train_df, test_size=0.1, random_state=42)"
   ]
  },
  {
   "cell_type": "code",
   "execution_count": 23,
   "id": "c7ad1b1e",
   "metadata": {},
   "outputs": [
    {
     "data": {
      "text/plain": [
       "Flycatcher    1162\n",
       "Antbird        931\n",
       "Piha           175\n",
       "Name: MANUAL ID, dtype: int64"
      ]
     },
     "execution_count": 23,
     "metadata": {},
     "output_type": "execute_result"
    }
   ],
   "source": [
    "train_df['MANUAL ID'].value_counts()"
   ]
  },
  {
   "cell_type": "code",
   "execution_count": 24,
   "id": "f8b275f5",
   "metadata": {},
   "outputs": [
    {
     "data": {
      "text/plain": [
       "Antbird       62\n",
       "Flycatcher    62\n",
       "Piha           9\n",
       "Name: MANUAL ID, dtype: int64"
      ]
     },
     "execution_count": 24,
     "metadata": {},
     "output_type": "execute_result"
    }
   ],
   "source": [
    "valid_df['MANUAL ID'].value_counts()"
   ]
  },
  {
   "cell_type": "code",
   "execution_count": 25,
   "id": "5a0c1aed",
   "metadata": {},
   "outputs": [
    {
     "data": {
      "text/plain": [
       "Flycatcher    124\n",
       "Antbird       113\n",
       "Piha           15\n",
       "Name: MANUAL ID, dtype: int64"
      ]
     },
     "execution_count": 25,
     "metadata": {},
     "output_type": "execute_result"
    }
   ],
   "source": [
    "test_df['MANUAL ID'].value_counts()"
   ]
  },
  {
   "cell_type": "code",
   "execution_count": null,
   "id": "3b9d3fce",
   "metadata": {},
   "outputs": [],
   "source": []
  }
 ],
 "metadata": {
  "kernelspec": {
   "display_name": "Python 3",
   "language": "python",
   "name": "python3"
  },
  "language_info": {
   "codemirror_mode": {
    "name": "ipython",
    "version": 3
   },
   "file_extension": ".py",
   "mimetype": "text/x-python",
   "name": "python",
   "nbconvert_exporter": "python",
   "pygments_lexer": "ipython3",
   "version": "3.7.10"
  }
 },
 "nbformat": 4,
 "nbformat_minor": 5
}
