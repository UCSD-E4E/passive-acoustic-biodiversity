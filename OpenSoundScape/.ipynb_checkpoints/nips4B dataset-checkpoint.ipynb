{
 "cells": [
  {
   "cell_type": "code",
   "execution_count": 1,
   "id": "9c7e431c",
   "metadata": {},
   "outputs": [],
   "source": [
    "from opensoundscape.preprocess.preprocessors import BasePreprocessor, AudioToSpectrogramPreprocessor, CnnPreprocessor\n",
    "import torch\n",
    "import pandas as pd\n",
    "from pathlib import Path\n",
    "import numpy as np\n",
    "import pandas as pd"
   ]
  },
  {
   "cell_type": "code",
   "execution_count": 2,
   "id": "e9af9ca8",
   "metadata": {},
   "outputs": [],
   "source": [
    "from opensoundscape.torch.models import cnn\n",
    "from opensoundscape.torch.architectures import cnn_architectures"
   ]
  },
  {
   "cell_type": "code",
   "execution_count": 3,
   "id": "17827251",
   "metadata": {},
   "outputs": [],
   "source": [
    "df = pd.read_csv('NIPS4B_BIRD_CHALLENGE_TRAIN_TEST_WAV/nips4b_birdchallenge_train_labels.csv')\n",
    "# df"
   ]
  },
  {
   "cell_type": "code",
   "execution_count": 4,
   "id": "5abc310c",
   "metadata": {},
   "outputs": [
    {
     "name": "stderr",
     "output_type": "stream",
     "text": [
      "/var/folders/km/7_v861mx0cb9fp42nvllkmt00000gn/T/ipykernel_2691/4237743302.py:1: FutureWarning: In a future version of pandas all arguments of DataFrame.drop except for the argument 'labels' will be keyword-only\n",
      "  df = df.drop('Unnamed: 3', 1)\n",
      "/var/folders/km/7_v861mx0cb9fp42nvllkmt00000gn/T/ipykernel_2691/4237743302.py:2: FutureWarning: In a future version of pandas all arguments of DataFrame.drop except for the argument 'labels' will be keyword-only\n",
      "  df = df.drop('Unnamed: 1', 1)\n"
     ]
    }
   ],
   "source": [
    "df = df.drop('Unnamed: 3', 1)\n",
    "df = df.drop('Unnamed: 1', 1)\n",
    "df.fillna(0, inplace=True)\n",
    "# df"
   ]
  },
  {
   "cell_type": "code",
   "execution_count": 5,
   "id": "edcad3b1",
   "metadata": {},
   "outputs": [],
   "source": [
    "a = df.iloc[1,:2].values\n",
    "b = df.iloc[0,2:].values\n",
    "c = np.concatenate((a, b), axis=0)\n",
    "columns = c[1:]"
   ]
  },
  {
   "cell_type": "code",
   "execution_count": 6,
   "id": "4ff1bdee",
   "metadata": {},
   "outputs": [
    {
     "name": "stderr",
     "output_type": "stream",
     "text": [
      "/var/folders/km/7_v861mx0cb9fp42nvllkmt00000gn/T/ipykernel_2691/1129736625.py:3: FutureWarning: In a future version of pandas all arguments of DataFrame.drop except for the argument 'labels' will be keyword-only\n",
      "  df = df.drop('index', 1)\n"
     ]
    }
   ],
   "source": [
    "df = df.drop([0,1,689])\n",
    "df.reset_index(inplace=True)\n",
    "df = df.drop('index', 1)"
   ]
  },
  {
   "cell_type": "code",
   "execution_count": 7,
   "id": "1d6f342d",
   "metadata": {},
   "outputs": [],
   "source": [
    "df.columns = c"
   ]
  },
  {
   "cell_type": "code",
   "execution_count": 8,
   "id": "24a0c9bf",
   "metadata": {},
   "outputs": [
    {
     "data": {
      "text/html": [
       "<div>\n",
       "<style scoped>\n",
       "    .dataframe tbody tr th:only-of-type {\n",
       "        vertical-align: middle;\n",
       "    }\n",
       "\n",
       "    .dataframe tbody tr th {\n",
       "        vertical-align: top;\n",
       "    }\n",
       "\n",
       "    .dataframe thead th {\n",
       "        text-align: right;\n",
       "    }\n",
       "</style>\n",
       "<table border=\"1\" class=\"dataframe\">\n",
       "  <thead>\n",
       "    <tr style=\"text-align: right;\">\n",
       "      <th></th>\n",
       "      <th>Filename</th>\n",
       "      <th>Empty</th>\n",
       "      <th>Aegcau_call</th>\n",
       "      <th>Alaarv_song</th>\n",
       "      <th>Anttri_song</th>\n",
       "      <th>Butbut_call</th>\n",
       "      <th>Carcan_call</th>\n",
       "      <th>Carcan_song</th>\n",
       "      <th>Carcar_call</th>\n",
       "      <th>Carcar_song</th>\n",
       "      <th>...</th>\n",
       "      <th>Sylmel_song</th>\n",
       "      <th>Sylund_call</th>\n",
       "      <th>Sylund_song</th>\n",
       "      <th>Tetpyg_song</th>\n",
       "      <th>Tibtom_song</th>\n",
       "      <th>Trotro_song</th>\n",
       "      <th>Turmer_call</th>\n",
       "      <th>Turmer_song</th>\n",
       "      <th>Turphi_call</th>\n",
       "      <th>Turphi_song</th>\n",
       "    </tr>\n",
       "  </thead>\n",
       "  <tbody>\n",
       "    <tr>\n",
       "      <th>0</th>\n",
       "      <td>./NIPS4B_BIRD_CHALLENGE_TRAIN_TEST_WAV/train/n...</td>\n",
       "      <td>0</td>\n",
       "      <td>0</td>\n",
       "      <td>0</td>\n",
       "      <td>0</td>\n",
       "      <td>1</td>\n",
       "      <td>0</td>\n",
       "      <td>0</td>\n",
       "      <td>0</td>\n",
       "      <td>0</td>\n",
       "      <td>...</td>\n",
       "      <td>0</td>\n",
       "      <td>0</td>\n",
       "      <td>0</td>\n",
       "      <td>0</td>\n",
       "      <td>0</td>\n",
       "      <td>0</td>\n",
       "      <td>0</td>\n",
       "      <td>0</td>\n",
       "      <td>0</td>\n",
       "      <td>0</td>\n",
       "    </tr>\n",
       "    <tr>\n",
       "      <th>1</th>\n",
       "      <td>./NIPS4B_BIRD_CHALLENGE_TRAIN_TEST_WAV/train/n...</td>\n",
       "      <td>0</td>\n",
       "      <td>0</td>\n",
       "      <td>0</td>\n",
       "      <td>0</td>\n",
       "      <td>0</td>\n",
       "      <td>0</td>\n",
       "      <td>0</td>\n",
       "      <td>0</td>\n",
       "      <td>0</td>\n",
       "      <td>...</td>\n",
       "      <td>1</td>\n",
       "      <td>0</td>\n",
       "      <td>0</td>\n",
       "      <td>0</td>\n",
       "      <td>0</td>\n",
       "      <td>0</td>\n",
       "      <td>0</td>\n",
       "      <td>0</td>\n",
       "      <td>0</td>\n",
       "      <td>0</td>\n",
       "    </tr>\n",
       "    <tr>\n",
       "      <th>2</th>\n",
       "      <td>./NIPS4B_BIRD_CHALLENGE_TRAIN_TEST_WAV/train/n...</td>\n",
       "      <td>0</td>\n",
       "      <td>0</td>\n",
       "      <td>0</td>\n",
       "      <td>0</td>\n",
       "      <td>0</td>\n",
       "      <td>0</td>\n",
       "      <td>0</td>\n",
       "      <td>0</td>\n",
       "      <td>0</td>\n",
       "      <td>...</td>\n",
       "      <td>0</td>\n",
       "      <td>0</td>\n",
       "      <td>0</td>\n",
       "      <td>0</td>\n",
       "      <td>0</td>\n",
       "      <td>0</td>\n",
       "      <td>0</td>\n",
       "      <td>0</td>\n",
       "      <td>0</td>\n",
       "      <td>0</td>\n",
       "    </tr>\n",
       "    <tr>\n",
       "      <th>3</th>\n",
       "      <td>./NIPS4B_BIRD_CHALLENGE_TRAIN_TEST_WAV/train/n...</td>\n",
       "      <td>0</td>\n",
       "      <td>0</td>\n",
       "      <td>0</td>\n",
       "      <td>0</td>\n",
       "      <td>0</td>\n",
       "      <td>0</td>\n",
       "      <td>0</td>\n",
       "      <td>0</td>\n",
       "      <td>0</td>\n",
       "      <td>...</td>\n",
       "      <td>0</td>\n",
       "      <td>0</td>\n",
       "      <td>0</td>\n",
       "      <td>0</td>\n",
       "      <td>0</td>\n",
       "      <td>0</td>\n",
       "      <td>1</td>\n",
       "      <td>0</td>\n",
       "      <td>0</td>\n",
       "      <td>0</td>\n",
       "    </tr>\n",
       "    <tr>\n",
       "      <th>4</th>\n",
       "      <td>./NIPS4B_BIRD_CHALLENGE_TRAIN_TEST_WAV/train/n...</td>\n",
       "      <td>0</td>\n",
       "      <td>0</td>\n",
       "      <td>0</td>\n",
       "      <td>0</td>\n",
       "      <td>0</td>\n",
       "      <td>0</td>\n",
       "      <td>0</td>\n",
       "      <td>0</td>\n",
       "      <td>0</td>\n",
       "      <td>...</td>\n",
       "      <td>0</td>\n",
       "      <td>0</td>\n",
       "      <td>0</td>\n",
       "      <td>0</td>\n",
       "      <td>0</td>\n",
       "      <td>0</td>\n",
       "      <td>1</td>\n",
       "      <td>0</td>\n",
       "      <td>0</td>\n",
       "      <td>0</td>\n",
       "    </tr>\n",
       "  </tbody>\n",
       "</table>\n",
       "<p>5 rows × 89 columns</p>\n",
       "</div>"
      ],
      "text/plain": [
       "                                            Filename Empty Aegcau_call  \\\n",
       "0  ./NIPS4B_BIRD_CHALLENGE_TRAIN_TEST_WAV/train/n...     0           0   \n",
       "1  ./NIPS4B_BIRD_CHALLENGE_TRAIN_TEST_WAV/train/n...     0           0   \n",
       "2  ./NIPS4B_BIRD_CHALLENGE_TRAIN_TEST_WAV/train/n...     0           0   \n",
       "3  ./NIPS4B_BIRD_CHALLENGE_TRAIN_TEST_WAV/train/n...     0           0   \n",
       "4  ./NIPS4B_BIRD_CHALLENGE_TRAIN_TEST_WAV/train/n...     0           0   \n",
       "\n",
       "  Alaarv_song Anttri_song Butbut_call Carcan_call Carcan_song Carcar_call  \\\n",
       "0           0           0           1           0           0           0   \n",
       "1           0           0           0           0           0           0   \n",
       "2           0           0           0           0           0           0   \n",
       "3           0           0           0           0           0           0   \n",
       "4           0           0           0           0           0           0   \n",
       "\n",
       "  Carcar_song  ... Sylmel_song Sylund_call Sylund_song Tetpyg_song  \\\n",
       "0           0  ...           0           0           0           0   \n",
       "1           0  ...           1           0           0           0   \n",
       "2           0  ...           0           0           0           0   \n",
       "3           0  ...           0           0           0           0   \n",
       "4           0  ...           0           0           0           0   \n",
       "\n",
       "  Tibtom_song Trotro_song Turmer_call Turmer_song Turphi_call Turphi_song  \n",
       "0           0           0           0           0           0           0  \n",
       "1           0           0           0           0           0           0  \n",
       "2           0           0           0           0           0           0  \n",
       "3           0           0           1           0           0           0  \n",
       "4           0           0           1           0           0           0  \n",
       "\n",
       "[5 rows x 89 columns]"
      ]
     },
     "execution_count": 8,
     "metadata": {},
     "output_type": "execute_result"
    }
   ],
   "source": [
    "df.Filename = ['./NIPS4B_BIRD_CHALLENGE_TRAIN_TEST_WAV/train/'+f for f in df.Filename]\n",
    "df.head()"
   ]
  },
  {
   "cell_type": "code",
   "execution_count": 9,
   "id": "5610ccd8",
   "metadata": {},
   "outputs": [],
   "source": [
    "cols=[i for i in df.columns if i not in [\"Filename\"]]\n",
    "for col in cols:\n",
    "    df[col]=pd.to_numeric(df[col])"
   ]
  },
  {
   "cell_type": "code",
   "execution_count": 10,
   "id": "b450f8b3",
   "metadata": {},
   "outputs": [],
   "source": [
    "# helper function for displaying a sample as an image\n",
    "from matplotlib import pyplot as plt\n",
    "plt.rcParams['figure.figsize']=[15,5] #for large visuals\n",
    "def show_tensor(sample):\n",
    "    plt.imshow((sample['X'][0,:,:]/2+0.5)*-1,cmap='Greys',vmin=-1,vmax=0)\n",
    "    plt.show()"
   ]
  },
  {
   "cell_type": "code",
   "execution_count": 11,
   "id": "c2307ab0",
   "metadata": {},
   "outputs": [],
   "source": [
    "# ef = df.set_index('Filename')\n",
    "# for c in ef.columns:\n",
    "#     print(\"---- %s ---\" % c)\n",
    "#     print(ef[c].value_counts())"
   ]
  },
  {
   "cell_type": "markdown",
   "id": "c1e1984b",
   "metadata": {},
   "source": [
    "## Binary classification"
   ]
  },
  {
   "cell_type": "code",
   "execution_count": 12,
   "id": "72d9d065",
   "metadata": {},
   "outputs": [
    {
     "data": {
      "text/plain": [
       "0    587\n",
       "1    100\n",
       "Name: empty, dtype: int64"
      ]
     },
     "execution_count": 12,
     "metadata": {},
     "output_type": "execute_result"
    }
   ],
   "source": [
    "from opensoundscape.annotations import categorical_to_one_hot\n",
    "one_hot_labels, classes = categorical_to_one_hot(df[['Empty']].values)\n",
    "labels = pd.DataFrame(index=df['Filename'],data=one_hot_labels,columns=classes)\n",
    "labels.rename(columns={0: \"non-empty\", 1: \"empty\"}, inplace=True)\n",
    "labels['empty'].value_counts()"
   ]
  },
  {
   "cell_type": "code",
   "execution_count": 13,
   "id": "6721ea04",
   "metadata": {},
   "outputs": [],
   "source": [
    "from sklearn.model_selection import train_test_split\n",
    "\n",
    "train_df, test_df = train_test_split(labels, test_size=0.2, random_state=1)\n",
    "\n",
    "train_df, valid_df = train_test_split(train_df, test_size=0.25, random_state=1)\n",
    "# train_df,valid_df = train_test_split(labels,test_size=0.2,random_state=1)"
   ]
  },
  {
   "cell_type": "code",
   "execution_count": 14,
   "id": "bd7e6289",
   "metadata": {},
   "outputs": [],
   "source": [
    "from opensoundscape.preprocess.preprocessors import CnnPreprocessor\n",
    "\n",
    "train_dataset = CnnPreprocessor(train_df)\n",
    "\n",
    "valid_dataset = CnnPreprocessor(valid_df)"
   ]
  },
  {
   "cell_type": "code",
   "execution_count": 15,
   "id": "2e8c99e8",
   "metadata": {},
   "outputs": [],
   "source": [
    "for i, d in enumerate(train_dataset.sample(n=0)):\n",
    "    print(f\"labels: {d['y']}\")\n",
    "    show_tensor(d)"
   ]
  },
  {
   "cell_type": "code",
   "execution_count": 16,
   "id": "8fec7e0a",
   "metadata": {},
   "outputs": [
    {
     "name": "stdout",
     "output_type": "stream",
     "text": [
      "created PytorchModel model object with 2 classes\n"
     ]
    }
   ],
   "source": [
    "# Create model object\n",
    "classes = train_df.columns\n",
    "model = cnn.PytorchModel('resnet18',classes,single_target=True)"
   ]
  },
  {
   "cell_type": "code",
   "execution_count": 18,
   "id": "5acadeda",
   "metadata": {},
   "outputs": [
    {
     "name": "stdout",
     "output_type": "stream",
     "text": [
      "Epoch: 0 [batch 0/7 (0.00%)] \n",
      "\tJacc: 0.123 Hamm: 0.781 DistLoss: 0.894\n",
      "\n",
      "Validation.\n",
      "(138, 2)\n",
      "\t Precision: 0.5692223439211391\n",
      "\t Recall: 0.6820276497695853\n",
      "\t F1: 0.43569659621033235\n",
      "Updating best model\n",
      "Epoch: 1 [batch 0/7 (0.00%)] \n",
      "\tJacc: 0.482 Hamm: 0.281 DistLoss: 0.542\n",
      "\n",
      "Validation.\n",
      "(138, 2)\n",
      "\t Precision: 0.5952264381884945\n",
      "\t Recall: 0.724078341013825\n",
      "\t F1: 0.5909637106464792\n",
      "Updating best model\n",
      "Epoch: 2 [batch 0/7 (0.00%)] \n",
      "\tJacc: 0.533 Hamm: 0.281 DistLoss: 0.492\n",
      "\n",
      "Validation.\n",
      "(138, 2)\n",
      "\t Precision: 0.4492753623188406\n",
      "\t Recall: 0.5\n",
      "\t F1: 0.4732824427480916\n",
      "Epoch: 3 [batch 0/7 (0.00%)] \n",
      "\tJacc: 0.650 Hamm: 0.094 DistLoss: 0.266\n",
      "\n",
      "Validation.\n",
      "(138, 2)\n",
      "\t Precision: 0.4489051094890511\n",
      "\t Recall: 0.4959677419354839\n",
      "\t F1: 0.47126436781609193\n",
      "Epoch: 4 [batch 0/7 (0.00%)] \n",
      "\tJacc: 0.650 Hamm: 0.094 DistLoss: 0.215\n",
      "\n",
      "Validation.\n",
      "(138, 2)\n",
      "\t Precision: 0.7412312097351468\n",
      "\t Recall: 0.6941244239631337\n",
      "\t F1: 0.7141035856573705\n",
      "Updating best model\n",
      "Epoch: 5 [batch 0/7 (0.00%)] \n",
      "\tJacc: 0.731 Hamm: 0.125 DistLoss: 0.269\n",
      "\n",
      "Validation.\n",
      "(138, 2)\n",
      "\t Precision: 0.6300813008130082\n",
      "\t Recall: 0.6382488479262672\n",
      "\t F1: 0.6339522546419097\n",
      "Epoch: 6 [batch 0/7 (0.00%)] \n",
      "\tJacc: 0.488 Hamm: 0.172 DistLoss: 0.290\n",
      "\n",
      "Validation.\n",
      "(138, 2)\n",
      "\t Precision: 0.7022058823529411\n",
      "\t Recall: 0.5316820276497696\n",
      "\t F1: 0.5355769230769231\n",
      "Epoch: 7 [batch 0/7 (0.00%)] \n",
      "\tJacc: 0.412 Hamm: 0.234 DistLoss: 0.401\n",
      "\n",
      "Validation.\n",
      "(138, 2)\n",
      "\t Precision: 0.4492753623188406\n",
      "\t Recall: 0.5\n",
      "\t F1: 0.4732824427480916\n",
      "Epoch: 8 [batch 0/7 (0.00%)] \n",
      "\tJacc: 0.670 Hamm: 0.109 DistLoss: 0.266\n",
      "\n",
      "Validation.\n",
      "(138, 2)\n",
      "\t Precision: 0.7083333333333333\n",
      "\t Recall: 0.5950460829493087\n",
      "\t F1: 0.62265625\n",
      "Epoch: 9 [batch 0/7 (0.00%)] \n",
      "\tJacc: 0.600 Hamm: 0.125 DistLoss: 0.230\n",
      "\n",
      "Validation.\n",
      "(138, 2)\n",
      "\t Precision: 0.7038135593220339\n",
      "\t Recall: 0.777073732718894\n",
      "\t F1: 0.7316480311132718\n",
      "Updating best model\n",
      "Epoch: 10 [batch 0/7 (0.00%)] \n",
      "\tJacc: 0.714 Hamm: 0.125 DistLoss: 0.266\n",
      "\n",
      "Validation.\n",
      "(138, 2)\n",
      "\t Precision: 0.7775887214389888\n",
      "\t Recall: 0.8289170506912442\n",
      "\t F1: 0.8001316655694536\n",
      "Updating best model\n",
      "Epoch: 11 [batch 0/7 (0.00%)] \n",
      "\tJacc: 0.617 Hamm: 0.094 DistLoss: 0.200\n",
      "\n",
      "Validation.\n",
      "(138, 2)\n",
      "\t Precision: 0.6333333333333333\n",
      "\t Recall: 0.6658986175115207\n",
      "\t F1: 0.646516393442623\n",
      "Saving weights, metrics, and train/valid scores.\n",
      "\n",
      "Best Model Appears at Epoch 10 with F1 0.800.\n"
     ]
    }
   ],
   "source": [
    "model.train(\n",
    "    train_dataset=train_dataset,\n",
    "    valid_dataset=valid_dataset,\n",
    "    save_path='./binary_train/',\n",
    "    epochs=12,\n",
    "    batch_size=64,\n",
    "    save_interval=100,\n",
    "    num_workers=2,\n",
    ")"
   ]
  },
  {
   "cell_type": "code",
   "execution_count": 19,
   "id": "022807a0",
   "metadata": {},
   "outputs": [
    {
     "data": {
      "text/plain": [
       "Text(0, 0.5, 'loss')"
      ]
     },
     "execution_count": 19,
     "metadata": {},
     "output_type": "execute_result"
    },
    {
     "data": {
      "image/png": "[encoded data removed]",
      "text/plain": [
       "<Figure size 1080x360 with 1 Axes>"
      ]
     },
     "metadata": {
      "needs_background": "light"
     },
     "output_type": "display_data"
    }
   ],
   "source": [
    "plt.scatter(model.loss_hist.keys(),model.loss_hist.values())\n",
    "plt.xlabel('epoch')\n",
    "plt.ylabel('loss')"
   ]
  },
  {
   "cell_type": "code",
   "execution_count": 17,
   "id": "6409f9cf",
   "metadata": {},
   "outputs": [],
   "source": [
    "from opensoundscape.torch.models.cnn import load_model\n",
    "model = load_model('./binary_train/best.model')"
   ]
  },
  {
   "cell_type": "code",
   "execution_count": 18,
   "id": "13ed8cb6",
   "metadata": {},
   "outputs": [],
   "source": [
    "#create a copy of the training dataset, sampling 0 of the training samples from it\n",
    "prediction_dataset = model.train_dataset.sample(n=0)\n",
    "#turn off augmentation on this dataset\n",
    "prediction_dataset.augmentation_off()\n",
    "#use the validation samples as test samples for the sake of illustration\n",
    "prediction_dataset.df = test_df"
   ]
  },
  {
   "cell_type": "code",
   "execution_count": 19,
   "id": "4925db4c",
   "metadata": {},
   "outputs": [
    {
     "name": "stdout",
     "output_type": "stream",
     "text": [
      "(138, 2)\n"
     ]
    },
    {
     "data": {
      "text/html": [
       "<div>\n",
       "<style scoped>\n",
       "    .dataframe tbody tr th:only-of-type {\n",
       "        vertical-align: middle;\n",
       "    }\n",
       "\n",
       "    .dataframe tbody tr th {\n",
       "        vertical-align: top;\n",
       "    }\n",
       "\n",
       "    .dataframe thead th {\n",
       "        text-align: right;\n",
       "    }\n",
       "</style>\n",
       "<table border=\"1\" class=\"dataframe\">\n",
       "  <thead>\n",
       "    <tr style=\"text-align: right;\">\n",
       "      <th></th>\n",
       "      <th>non-empty</th>\n",
       "      <th>empty</th>\n",
       "    </tr>\n",
       "  </thead>\n",
       "  <tbody>\n",
       "    <tr>\n",
       "      <th>./NIPS4B_BIRD_CHALLENGE_TRAIN_TEST_WAV/train/nips4b_birds_trainfile433.wav</th>\n",
       "      <td>1.000000</td>\n",
       "      <td>7.663931e-09</td>\n",
       "    </tr>\n",
       "    <tr>\n",
       "      <th>./NIPS4B_BIRD_CHALLENGE_TRAIN_TEST_WAV/train/nips4b_birds_trainfile024.wav</th>\n",
       "      <td>0.999607</td>\n",
       "      <td>3.932366e-04</td>\n",
       "    </tr>\n",
       "    <tr>\n",
       "      <th>./NIPS4B_BIRD_CHALLENGE_TRAIN_TEST_WAV/train/nips4b_birds_trainfile190.wav</th>\n",
       "      <td>1.000000</td>\n",
       "      <td>8.640982e-09</td>\n",
       "    </tr>\n",
       "    <tr>\n",
       "      <th>./NIPS4B_BIRD_CHALLENGE_TRAIN_TEST_WAV/train/nips4b_birds_trainfile048.wav</th>\n",
       "      <td>1.000000</td>\n",
       "      <td>6.933930e-10</td>\n",
       "    </tr>\n",
       "    <tr>\n",
       "      <th>./NIPS4B_BIRD_CHALLENGE_TRAIN_TEST_WAV/train/nips4b_birds_trainfile365.wav</th>\n",
       "      <td>1.000000</td>\n",
       "      <td>1.161971e-11</td>\n",
       "    </tr>\n",
       "    <tr>\n",
       "      <th>...</th>\n",
       "      <td>...</td>\n",
       "      <td>...</td>\n",
       "    </tr>\n",
       "    <tr>\n",
       "      <th>./NIPS4B_BIRD_CHALLENGE_TRAIN_TEST_WAV/train/nips4b_birds_trainfile483.wav</th>\n",
       "      <td>0.999999</td>\n",
       "      <td>1.442040e-06</td>\n",
       "    </tr>\n",
       "    <tr>\n",
       "      <th>./NIPS4B_BIRD_CHALLENGE_TRAIN_TEST_WAV/train/nips4b_birds_trainfile364.wav</th>\n",
       "      <td>1.000000</td>\n",
       "      <td>1.762560e-10</td>\n",
       "    </tr>\n",
       "    <tr>\n",
       "      <th>./NIPS4B_BIRD_CHALLENGE_TRAIN_TEST_WAV/train/nips4b_birds_trainfile380.wav</th>\n",
       "      <td>0.998743</td>\n",
       "      <td>1.256704e-03</td>\n",
       "    </tr>\n",
       "    <tr>\n",
       "      <th>./NIPS4B_BIRD_CHALLENGE_TRAIN_TEST_WAV/train/nips4b_birds_trainfile263.wav</th>\n",
       "      <td>1.000000</td>\n",
       "      <td>1.585608e-07</td>\n",
       "    </tr>\n",
       "    <tr>\n",
       "      <th>./NIPS4B_BIRD_CHALLENGE_TRAIN_TEST_WAV/train/nips4b_birds_trainfile564.wav</th>\n",
       "      <td>1.000000</td>\n",
       "      <td>4.172423e-08</td>\n",
       "    </tr>\n",
       "  </tbody>\n",
       "</table>\n",
       "<p>138 rows × 2 columns</p>\n",
       "</div>"
      ],
      "text/plain": [
       "                                                    non-empty         empty\n",
       "./NIPS4B_BIRD_CHALLENGE_TRAIN_TEST_WAV/train/ni...   1.000000  7.663931e-09\n",
       "./NIPS4B_BIRD_CHALLENGE_TRAIN_TEST_WAV/train/ni...   0.999607  3.932366e-04\n",
       "./NIPS4B_BIRD_CHALLENGE_TRAIN_TEST_WAV/train/ni...   1.000000  8.640982e-09\n",
       "./NIPS4B_BIRD_CHALLENGE_TRAIN_TEST_WAV/train/ni...   1.000000  6.933930e-10\n",
       "./NIPS4B_BIRD_CHALLENGE_TRAIN_TEST_WAV/train/ni...   1.000000  1.161971e-11\n",
       "...                                                       ...           ...\n",
       "./NIPS4B_BIRD_CHALLENGE_TRAIN_TEST_WAV/train/ni...   0.999999  1.442040e-06\n",
       "./NIPS4B_BIRD_CHALLENGE_TRAIN_TEST_WAV/train/ni...   1.000000  1.762560e-10\n",
       "./NIPS4B_BIRD_CHALLENGE_TRAIN_TEST_WAV/train/ni...   0.998743  1.256704e-03\n",
       "./NIPS4B_BIRD_CHALLENGE_TRAIN_TEST_WAV/train/ni...   1.000000  1.585608e-07\n",
       "./NIPS4B_BIRD_CHALLENGE_TRAIN_TEST_WAV/train/ni...   1.000000  4.172423e-08\n",
       "\n",
       "[138 rows x 2 columns]"
      ]
     },
     "execution_count": 19,
     "metadata": {},
     "output_type": "execute_result"
    }
   ],
   "source": [
    "valid_scores_df, valid_preds_df, valid_labels_df = model.predict(prediction_dataset,\n",
    "                                                                 binary_preds='single_target',\n",
    "                                                                 activation_layer='softmax')\n",
    "valid_scores_df"
   ]
  },
  {
   "cell_type": "code",
   "execution_count": 20,
   "id": "bd5c34de",
   "metadata": {},
   "outputs": [
    {
     "data": {
      "text/html": [
       "<div>\n",
       "<style scoped>\n",
       "    .dataframe tbody tr th:only-of-type {\n",
       "        vertical-align: middle;\n",
       "    }\n",
       "\n",
       "    .dataframe tbody tr th {\n",
       "        vertical-align: top;\n",
       "    }\n",
       "\n",
       "    .dataframe thead th {\n",
       "        text-align: right;\n",
       "    }\n",
       "</style>\n",
       "<table border=\"1\" class=\"dataframe\">\n",
       "  <thead>\n",
       "    <tr style=\"text-align: right;\">\n",
       "      <th></th>\n",
       "      <th>non-empty</th>\n",
       "      <th>empty</th>\n",
       "    </tr>\n",
       "  </thead>\n",
       "  <tbody>\n",
       "    <tr>\n",
       "      <th>./NIPS4B_BIRD_CHALLENGE_TRAIN_TEST_WAV/train/nips4b_birds_trainfile433.wav</th>\n",
       "      <td>1</td>\n",
       "      <td>0</td>\n",
       "    </tr>\n",
       "    <tr>\n",
       "      <th>./NIPS4B_BIRD_CHALLENGE_TRAIN_TEST_WAV/train/nips4b_birds_trainfile024.wav</th>\n",
       "      <td>1</td>\n",
       "      <td>0</td>\n",
       "    </tr>\n",
       "    <tr>\n",
       "      <th>./NIPS4B_BIRD_CHALLENGE_TRAIN_TEST_WAV/train/nips4b_birds_trainfile190.wav</th>\n",
       "      <td>1</td>\n",
       "      <td>0</td>\n",
       "    </tr>\n",
       "    <tr>\n",
       "      <th>./NIPS4B_BIRD_CHALLENGE_TRAIN_TEST_WAV/train/nips4b_birds_trainfile048.wav</th>\n",
       "      <td>1</td>\n",
       "      <td>0</td>\n",
       "    </tr>\n",
       "    <tr>\n",
       "      <th>./NIPS4B_BIRD_CHALLENGE_TRAIN_TEST_WAV/train/nips4b_birds_trainfile365.wav</th>\n",
       "      <td>1</td>\n",
       "      <td>0</td>\n",
       "    </tr>\n",
       "    <tr>\n",
       "      <th>...</th>\n",
       "      <td>...</td>\n",
       "      <td>...</td>\n",
       "    </tr>\n",
       "    <tr>\n",
       "      <th>./NIPS4B_BIRD_CHALLENGE_TRAIN_TEST_WAV/train/nips4b_birds_trainfile483.wav</th>\n",
       "      <td>1</td>\n",
       "      <td>0</td>\n",
       "    </tr>\n",
       "    <tr>\n",
       "      <th>./NIPS4B_BIRD_CHALLENGE_TRAIN_TEST_WAV/train/nips4b_birds_trainfile364.wav</th>\n",
       "      <td>1</td>\n",
       "      <td>0</td>\n",
       "    </tr>\n",
       "    <tr>\n",
       "      <th>./NIPS4B_BIRD_CHALLENGE_TRAIN_TEST_WAV/train/nips4b_birds_trainfile380.wav</th>\n",
       "      <td>1</td>\n",
       "      <td>0</td>\n",
       "    </tr>\n",
       "    <tr>\n",
       "      <th>./NIPS4B_BIRD_CHALLENGE_TRAIN_TEST_WAV/train/nips4b_birds_trainfile263.wav</th>\n",
       "      <td>1</td>\n",
       "      <td>0</td>\n",
       "    </tr>\n",
       "    <tr>\n",
       "      <th>./NIPS4B_BIRD_CHALLENGE_TRAIN_TEST_WAV/train/nips4b_birds_trainfile564.wav</th>\n",
       "      <td>1</td>\n",
       "      <td>0</td>\n",
       "    </tr>\n",
       "  </tbody>\n",
       "</table>\n",
       "<p>138 rows × 2 columns</p>\n",
       "</div>"
      ],
      "text/plain": [
       "                                                    non-empty  empty\n",
       "./NIPS4B_BIRD_CHALLENGE_TRAIN_TEST_WAV/train/ni...          1      0\n",
       "./NIPS4B_BIRD_CHALLENGE_TRAIN_TEST_WAV/train/ni...          1      0\n",
       "./NIPS4B_BIRD_CHALLENGE_TRAIN_TEST_WAV/train/ni...          1      0\n",
       "./NIPS4B_BIRD_CHALLENGE_TRAIN_TEST_WAV/train/ni...          1      0\n",
       "./NIPS4B_BIRD_CHALLENGE_TRAIN_TEST_WAV/train/ni...          1      0\n",
       "...                                                       ...    ...\n",
       "./NIPS4B_BIRD_CHALLENGE_TRAIN_TEST_WAV/train/ni...          1      0\n",
       "./NIPS4B_BIRD_CHALLENGE_TRAIN_TEST_WAV/train/ni...          1      0\n",
       "./NIPS4B_BIRD_CHALLENGE_TRAIN_TEST_WAV/train/ni...          1      0\n",
       "./NIPS4B_BIRD_CHALLENGE_TRAIN_TEST_WAV/train/ni...          1      0\n",
       "./NIPS4B_BIRD_CHALLENGE_TRAIN_TEST_WAV/train/ni...          1      0\n",
       "\n",
       "[138 rows x 2 columns]"
      ]
     },
     "execution_count": 20,
     "metadata": {},
     "output_type": "execute_result"
    }
   ],
   "source": [
    "valid_labels_df"
   ]
  },
  {
   "cell_type": "code",
   "execution_count": 21,
   "id": "7d459d43",
   "metadata": {},
   "outputs": [
    {
     "name": "stdout",
     "output_type": "stream",
     "text": [
      "              precision    recall  f1-score   support\n",
      "\n",
      "           0       0.95      0.96      0.96       123\n",
      "           1       0.64      0.60      0.62        15\n",
      "\n",
      "   micro avg       0.92      0.92      0.92       138\n",
      "   macro avg       0.80      0.78      0.79       138\n",
      "weighted avg       0.92      0.92      0.92       138\n",
      " samples avg       0.92      0.92      0.92       138\n",
      "\n"
     ]
    }
   ],
   "source": [
    "from sklearn.metrics import classification_report, roc_auc_score, roc_curve\n",
    "print(classification_report(valid_labels_df, valid_preds_df))"
   ]
  },
  {
   "cell_type": "code",
   "execution_count": 22,
   "id": "251c316c",
   "metadata": {},
   "outputs": [
    {
     "data": {
      "image/png": "[encoded data removed]",
      "text/plain": [
       "<Figure size 1080x360 with 1 Axes>"
      ]
     },
     "metadata": {
      "needs_background": "light"
     },
     "output_type": "display_data"
    }
   ],
   "source": [
    "fpr, tpr, thresh = roc_curve(valid_labels_df['non-empty'],  valid_scores_df['non-empty'])\n",
    "auc = roc_auc_score(valid_labels_df['non-empty'],  valid_preds_df['non-empty'])\n",
    "\n",
    "fpr2, tpr2, thresh2 = roc_curve(valid_labels_df['empty'],  valid_scores_df['empty'])\n",
    "auc2 = roc_auc_score(valid_labels_df['empty'],  valid_preds_df['empty'])\n",
    "\n",
    "#create ROC curve\n",
    "plt.plot(fpr,tpr,label=\"AUC bird class=\"+str(auc))\n",
    "plt.title('Prediction on nips 4b dataset')\n",
    "plt.ylabel('True Positive Rate')\n",
    "plt.xlabel('False Positive Rate')\n",
    "\n",
    "plt.plot(fpr2,tpr2,label=\"AUC empty class=\"+str(auc2))\n",
    "\n",
    "plt.legend(loc=4)\n",
    "plt.savefig('./binary_train/model_AUC_nips_aug.jpg', format='jpg', transparent=False)"
   ]
  },
  {
   "cell_type": "markdown",
   "id": "f5ee7e10",
   "metadata": {},
   "source": [
    "## K-class classification"
   ]
  },
  {
   "cell_type": "code",
   "execution_count": null,
   "id": "bdc9d54a",
   "metadata": {},
   "outputs": [],
   "source": [
    "kf = df.set_index('Filename').iloc[:, : 10]\n",
    "kf.head()"
   ]
  },
  {
   "cell_type": "code",
   "execution_count": null,
   "id": "9da28e9b",
   "metadata": {},
   "outputs": [],
   "source": [
    "kf = kf[kf['Empty'] == 0]\n",
    "kf = kf.drop('Empty', 1)"
   ]
  },
  {
   "cell_type": "code",
   "execution_count": null,
   "id": "b9f68435",
   "metadata": {},
   "outputs": [],
   "source": [
    "from sklearn.model_selection import train_test_split\n",
    "train_df, test_df = train_test_split(kf, test_size=0.2, random_state=1)\n",
    "\n",
    "train_df, valid_df = train_test_split(train_df, test_size=0.25, random_state=1)"
   ]
  },
  {
   "cell_type": "code",
   "execution_count": null,
   "id": "caf05801",
   "metadata": {},
   "outputs": [],
   "source": [
    "from opensoundscape.preprocess.preprocessors import CnnPreprocessor\n",
    "\n",
    "train_dataset = CnnPreprocessor(train_df, overlay_df=train_df)\n",
    "\n",
    "valid_dataset = CnnPreprocessor(valid_df, overlay_df=valid_df, return_labels=True)"
   ]
  },
  {
   "cell_type": "code",
   "execution_count": null,
   "id": "3628319f",
   "metadata": {},
   "outputs": [],
   "source": [
    "arch = cnn_architectures.resnet50(num_classes=len(list(kf.columns)))\n",
    "model = cnn.PytorchModel(arch,list(kf.columns))"
   ]
  },
  {
   "cell_type": "code",
   "execution_count": null,
   "id": "dc7ffd00",
   "metadata": {},
   "outputs": [],
   "source": [
    "model.optimizer_params['lr'] = 1e-4\n",
    "model.train(\n",
    "    train_dataset=train_dataset,\n",
    "    valid_dataset=valid_dataset,\n",
    "    save_path='./first_10_train/',\n",
    "    epochs=12,\n",
    "    batch_size=64,\n",
    "    save_interval=100,\n",
    "    num_workers=0,\n",
    ")"
   ]
  },
  {
   "cell_type": "code",
   "execution_count": null,
   "id": "284e95d3",
   "metadata": {},
   "outputs": [],
   "source": [
    "plt.scatter(model.loss_hist.keys(),model.loss_hist.values())\n",
    "plt.xlabel('epoch')\n",
    "plt.ylabel('loss')"
   ]
  },
  {
   "cell_type": "code",
   "execution_count": null,
   "id": "1dde6220",
   "metadata": {},
   "outputs": [],
   "source": [
    "prediction_dataset = model.train_dataset.sample(n=0)\n",
    "prediction_dataset.augmentation_off()\n",
    "prediction_dataset.df = test_df\n",
    "\n",
    "score_df, pred_df, label_df = model.predict(\n",
    "    prediction_dataset,\n",
    "    binary_preds='multi_target',\n",
    "    threshold = 0.3\n",
    ")\n",
    "pred_df"
   ]
  },
  {
   "cell_type": "code",
   "execution_count": null,
   "id": "9247f7cc",
   "metadata": {},
   "outputs": [],
   "source": [
    "for c in pred_df.columns:\n",
    "    print(\"---- %s ---\" % c)\n",
    "    print(pred_df[c].value_counts())"
   ]
  },
  {
   "cell_type": "code",
   "execution_count": null,
   "id": "e062f57b",
   "metadata": {},
   "outputs": [],
   "source": [
    "score_df"
   ]
  },
  {
   "cell_type": "code",
   "execution_count": null,
   "id": "544462d3",
   "metadata": {},
   "outputs": [],
   "source": [
    "label_df"
   ]
  },
  {
   "cell_type": "markdown",
   "id": "404c0fb7",
   "metadata": {},
   "source": [
    "## Multi-class classification"
   ]
  },
  {
   "cell_type": "code",
   "execution_count": null,
   "id": "dfe24baf",
   "metadata": {},
   "outputs": [],
   "source": [
    "df.set_index('Filename', inplace=True)\n",
    "df.head()"
   ]
  },
  {
   "cell_type": "code",
   "execution_count": null,
   "id": "70425f44",
   "metadata": {},
   "outputs": [],
   "source": [
    "df = df[df['Empty'] == 0]\n",
    "df = df.drop('Empty', 1)\n",
    "df"
   ]
  },
  {
   "cell_type": "code",
   "execution_count": null,
   "id": "b0e6f0cd",
   "metadata": {},
   "outputs": [],
   "source": [
    "from sklearn.model_selection import train_test_split\n",
    "train_df, test_df = train_test_split(df, test_size=0.2, random_state=1)\n",
    "\n",
    "train_df, valid_df = train_test_split(train_df, test_size=0.25, random_state=1)\n",
    "# train_df, valid_df = train_test_split(df, test_size=0.2, random_state=0)"
   ]
  },
  {
   "cell_type": "code",
   "execution_count": null,
   "id": "22893011",
   "metadata": {},
   "outputs": [],
   "source": [
    "from opensoundscape.preprocess.preprocessors import CnnPreprocessor\n",
    "\n",
    "train_dataset = CnnPreprocessor(train_df, overlay_df=train_df)\n",
    "\n",
    "valid_dataset = CnnPreprocessor(valid_df, overlay_df=valid_df, return_labels=True)"
   ]
  },
  {
   "cell_type": "code",
   "execution_count": null,
   "id": "7fd35af1",
   "metadata": {},
   "outputs": [],
   "source": [
    "train_df"
   ]
  },
  {
   "cell_type": "code",
   "execution_count": null,
   "id": "eae868ef",
   "metadata": {},
   "outputs": [],
   "source": [
    "train_dataset.pipeline"
   ]
  },
  {
   "cell_type": "code",
   "execution_count": null,
   "id": "6e762984",
   "metadata": {},
   "outputs": [],
   "source": [
    "train_dataset.augmentation_off()\n",
    "for i, d in enumerate(train_dataset.sample(n=1)):\n",
    "    # print(f\"labels: {d['y']}\")\n",
    "    show_tensor(d)\n",
    "#turn augmentation back on when we're done\n",
    "train_dataset.augmentation_on()"
   ]
  },
  {
   "cell_type": "code",
   "execution_count": null,
   "id": "96a322c5",
   "metadata": {},
   "outputs": [],
   "source": [
    "print(df.columns)\n",
    "arch = cnn_architectures.resnet50(num_classes=len(list(df.columns)))\n",
    "model = cnn.PytorchModel(arch,list(df.columns))"
   ]
  },
  {
   "cell_type": "code",
   "execution_count": null,
   "id": "65db393b",
   "metadata": {},
   "outputs": [],
   "source": [
    "model.optimizer_params"
   ]
  },
  {
   "cell_type": "code",
   "execution_count": null,
   "id": "992b48ef",
   "metadata": {},
   "outputs": [],
   "source": [
    "model.optimizer_params['lr'] = 1e-4"
   ]
  },
  {
   "cell_type": "code",
   "execution_count": null,
   "id": "10c93898",
   "metadata": {},
   "outputs": [],
   "source": [
    "model.train(\n",
    "    train_dataset=train_dataset,\n",
    "    valid_dataset=valid_dataset,\n",
    "    save_path='./multiclass_train/',\n",
    "    epochs=12,\n",
    "    batch_size=64,\n",
    "    save_interval=100,\n",
    "    num_workers=2,\n",
    ")"
   ]
  },
  {
   "cell_type": "code",
   "execution_count": null,
   "id": "df39b1e7",
   "metadata": {},
   "outputs": [],
   "source": [
    "plt.scatter(model.loss_hist.keys(),model.loss_hist.values())\n",
    "plt.xlabel('epoch')\n",
    "plt.ylabel('loss')"
   ]
  },
  {
   "cell_type": "code",
   "execution_count": null,
   "id": "f3aaca89",
   "metadata": {},
   "outputs": [],
   "source": [
    "from opensoundscape.torch.models.cnn import load_model\n",
    "model = load_model('./multiclass_train/best.model')"
   ]
  },
  {
   "cell_type": "code",
   "execution_count": null,
   "id": "82014639",
   "metadata": {},
   "outputs": [],
   "source": [
    "# create a Preprocessor instance with the audio samples\n",
    "# use the model.train_dataset as a starting point to ensure that our preprocessing matches what the model expects\n",
    "prediction_dataset = model.train_dataset.sample(n=0)\n",
    "prediction_dataset.augmentation_off()\n",
    "prediction_dataset.df = test_df"
   ]
  },
  {
   "cell_type": "code",
   "execution_count": null,
   "id": "40804d63",
   "metadata": {},
   "outputs": [],
   "source": [
    "score_df, pred_df, label_df = model.predict(\n",
    "    prediction_dataset,\n",
    "    binary_preds='multi_target',\n",
    ")\n",
    "pred_df.head() # prediction made based on threshold"
   ]
  },
  {
   "cell_type": "code",
   "execution_count": null,
   "id": "3c0f9092",
   "metadata": {},
   "outputs": [],
   "source": [
    "score_df # scores assigned to each class"
   ]
  },
  {
   "cell_type": "code",
   "execution_count": null,
   "id": "6531245f",
   "metadata": {},
   "outputs": [],
   "source": [
    "label_df # labels from the dataset"
   ]
  },
  {
   "cell_type": "code",
   "execution_count": null,
   "id": "a82199c0",
   "metadata": {},
   "outputs": [],
   "source": [
    "print(classification_report(label_df, pred_df, target_names = label_df.columns))"
   ]
  },
  {
   "cell_type": "markdown",
   "id": "c5cebbf3",
   "metadata": {},
   "source": [
    "## Custom PyTorch model"
   ]
  },
  {
   "cell_type": "code",
   "execution_count": null,
   "id": "47cd2c16",
   "metadata": {},
   "outputs": [],
   "source": [
    "import torch\n",
    "import torch.nn as nn\n",
    "from torch import cat"
   ]
  },
  {
   "cell_type": "code",
   "execution_count": null,
   "id": "c13a114d",
   "metadata": {},
   "outputs": [],
   "source": [
    "class BasicBlock(nn.Module):\n",
    "    expansion = 1\n",
    "    def __init__(self,in_channels, out_channels, stride=1):\n",
    "        super().__init__()\n",
    "        self.residual_function = nn.Sequential(\n",
    "            nn.Conv2d(in_channels, out_channels, kernel_size=3, stride=stride, padding=1, bias=False),\n",
    "            nn.BatchNorm2d(out_channels),\n",
    "            nn.ReLU(inplace=True),\n",
    "            nn.Conv2d(out_channels, out_channels * BasicBlock.expansion, kernel_size=3, padding=1, bias=False),\n",
    "            nn.BatchNorm2d(out_channels * BasicBlock.expansion)\n",
    "        )\n",
    "        \n",
    "        self.shortcut = nn.Sequential()\n",
    "        if(stride != 1 or in_channels != BasicBlock.expansion * out_channels):\n",
    "            self.shortcut = nn.Sequential(\n",
    "                nn.Conv2d(in_channels, out_channels * BasicBlock.expansion, kernel_size=1, stride=stride, bias=False),\n",
    "                nn.BatchNorm2d(out_channels * BasicBlock.expansion)\n",
    "            )\n",
    "            \n",
    "    def forward(self, x):\n",
    "        return nn.ReLU(inplace=True)(self.residual_function(x) + self.shortcut(x))\n",
    "\n",
    "class BottleNeck(nn.Module):\n",
    "    expansion = 4\n",
    "    def __init__(self, in_channels, out_channels, stride=1):\n",
    "        super().__init__()\n",
    "        self.residual_function = nn.Sequential(\n",
    "            nn.Conv2d(in_channels, out_channels, kernel_size=1, bias=False),\n",
    "            nn.BatchNorm2d(out_channels),\n",
    "            nn.ReLU(inplace=True),\n",
    "            nn.Conv2d(out_channels, out_channels, stride=stride, kernel_size=3, padding=1, bias=False),\n",
    "            nn.BatchNorm2d(out_channels),\n",
    "            nn.ReLU(inplace=True),\n",
    "            nn.Conv2d(out_channels, out_channels * BottleNeck.expansion, kernel_size=1, bias=False),\n",
    "            nn.BatchNorm2d(out_channels * BottleNeck.expansion),\n",
    "        )\n",
    "        self.shortcut = nn.Sequential()\n",
    "        if stride != 1 or in_channels != out_channels * BottleNeck.expansion:\n",
    "            self.shortcut = nn.Sequential(\n",
    "                nn.Conv2d(in_channels, out_channels * BottleNeck.expansion, stride=stride, kernel_size=1, bias=False),\n",
    "                nn.BatchNorm2d(out_channels * BottleNeck.expansion)\n",
    "            )\n",
    "        \n",
    "    def forward(self, x):\n",
    "        return nn.ReLU(inplace=True)(self.residual_function(x) + self.shortcut(x))\n",
    "    \n",
    "class ResNet(nn.Module):\n",
    "    def __init__(self, block, num_block, num_classes=100):\n",
    "        super().__init__()\n",
    "        self.in_channels = 64\n",
    "        self.conv1 = nn.Sequential(\n",
    "            nn.Conv2d(3, 64, kernel_size=3, padding=1, bias=False),\n",
    "            nn.BatchNorm2d(64),\n",
    "            nn.ReLU(inplace=True)\n",
    "        )\n",
    "        self.conv2_x = self._make_layer(block, 64, num_block[0], 1)\n",
    "        self.conv3_x = self._make_layer(block, 128, num_block[1], 2)\n",
    "        self.conv4_x = self._make_layer(block, 256, num_block[2], 2)\n",
    "        self.conv5_x = self._make_layer(block, 512, num_block[3], 2)\n",
    "        self.avg_pool = nn.AdaptiveAvgPool2d((1, 1))\n",
    "        self.fc = nn.Linear(512 * block.expansion, num_classes)\n",
    "        \n",
    "    def _make_layer(self, block, out_channels, num_blocks, stride):\n",
    "        strides = [stride] + [1] * (num_blocks - 1)\n",
    "        layers = []\n",
    "        for stride in strides:\n",
    "            layers.append(block(self.in_channels, out_channels, stride))\n",
    "            self.in_channels = out_channels * block.expansion\n",
    "        return nn.Sequential(*layers)\n",
    "        \n",
    "    def forward(self, x):\n",
    "        output = self.conv1(x)\n",
    "        output = self.conv2_x(output)\n",
    "        output = self.conv3_x(output)\n",
    "        output = self.conv4_x(output)\n",
    "        output = self.conv5_x(output)\n",
    "        output = self.avg_pool(output)\n",
    "        output = output.view(output.size(0), -1)\n",
    "        output = self.fc(output)\n",
    "        return output"
   ]
  },
  {
   "cell_type": "code",
   "execution_count": null,
   "id": "d9f4bc4a",
   "metadata": {},
   "outputs": [],
   "source": [
    "def resnet101(num_classes):\n",
    "    return ResNet(BottleNeck, [3,4,23,3], num_classes)\n",
    "def resnet18(num_classes):\n",
    "    return ResNet(BasicBlock, [2,2,2,2], num_classes)"
   ]
  },
  {
   "cell_type": "code",
   "execution_count": null,
   "id": "848d054c",
   "metadata": {},
   "outputs": [],
   "source": [
    "from opensoundscape.annotations import categorical_to_one_hot\n",
    "one_hot_labels, classes = categorical_to_one_hot(df[['Empty']].values)\n",
    "labels = pd.DataFrame(index=df['Filename'],data=one_hot_labels,columns=classes)\n",
    "labels.rename(columns={0: \"non-empty\", 1: \"empty\"}, inplace=True)\n",
    "labels['empty'].value_counts()"
   ]
  },
  {
   "cell_type": "code",
   "execution_count": null,
   "id": "8dce521e",
   "metadata": {},
   "outputs": [],
   "source": [
    "from sklearn.model_selection import train_test_split\n",
    "\n",
    "train_df, test_df = train_test_split(labels, test_size=0.2, random_state=1)\n",
    "\n",
    "train_df, valid_df = train_test_split(train_df, test_size=0.25, random_state=1)\n",
    "# train_df,valid_df = train_test_split(labels,test_size=0.2,random_state=1)"
   ]
  },
  {
   "cell_type": "code",
   "execution_count": null,
   "id": "07b08dfc",
   "metadata": {},
   "outputs": [],
   "source": [
    "from opensoundscape.preprocess.preprocessors import CnnPreprocessor\n",
    "\n",
    "train_dataset = CnnPreprocessor(train_df)\n",
    "\n",
    "valid_dataset = CnnPreprocessor(valid_df)"
   ]
  },
  {
   "cell_type": "code",
   "execution_count": null,
   "id": "d6a294bf",
   "metadata": {},
   "outputs": [],
   "source": [
    "# Create model object\n",
    "classes = train_df.columns\n",
    "model = cnn.PytorchModel('resnet18',classes,single_target=True)"
   ]
  },
  {
   "cell_type": "code",
   "execution_count": null,
   "id": "44b36758",
   "metadata": {},
   "outputs": [],
   "source": [
    "model.network = resnet18(len(classes))"
   ]
  },
  {
   "cell_type": "code",
   "execution_count": null,
   "id": "736a22b1",
   "metadata": {},
   "outputs": [],
   "source": [
    "model.train(\n",
    "    train_dataset=train_dataset,\n",
    "    valid_dataset=valid_dataset,\n",
    "    save_path='./binary_custom_train/',\n",
    "    epochs=10,\n",
    "    batch_size=8,\n",
    "    save_interval=100,\n",
    "    num_workers=2,\n",
    ")"
   ]
  },
  {
   "cell_type": "code",
   "execution_count": null,
   "id": "d627b6fb",
   "metadata": {},
   "outputs": [],
   "source": []
  }
 ],
 "metadata": {
  "kernelspec": {
   "display_name": "Python 3 (ipykernel)",
   "language": "python",
   "name": "python3"
  },
  "language_info": {
   "codemirror_mode": {
    "name": "ipython",
    "version": 3
   },
   "file_extension": ".py",
   "mimetype": "text/x-python",
   "name": "python",
   "nbconvert_exporter": "python",
   "pygments_lexer": "ipython3",
   "version": "3.8.0"
  }
 },
 "nbformat": 4,
 "nbformat_minor": 5
}
