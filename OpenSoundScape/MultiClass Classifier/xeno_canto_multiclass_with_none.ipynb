{
 "cells": [
  {
   "cell_type": "code",
   "execution_count": 1,
   "id": "678201ba-eecf-4c22-8192-7e35a34acaa8",
   "metadata": {},
   "outputs": [],
   "source": [
    "from opensoundscape.preprocess.preprocessors import BasePreprocessor, AudioToSpectrogramPreprocessor, CnnPreprocessor\n",
    "import torch\n",
    "import pandas as pd\n",
    "from pathlib import Path\n",
    "import numpy as np\n",
    "import pandas as pd\n",
    "from opensoundscape.torch.models import cnn\n",
    "from opensoundscape.torch.architectures import cnn_architectures\n",
    "from sklearn.metrics import classification_report, roc_auc_score, roc_curve\n",
    "from sklearn.model_selection import train_test_split\n",
    "from opensoundscape.annotations import categorical_to_one_hot\n",
    "import matplotlib.pyplot as plt\n",
    "from opensoundscape.torch.models.cnn import load_model"
   ]
  },
  {
   "cell_type": "markdown",
   "id": "13c5e3ab",
   "metadata": {},
   "source": [
    "### Read the train/validation and test data"
   ]
  },
  {
   "cell_type": "code",
   "execution_count": 2,
   "id": "3d2b1263",
   "metadata": {},
   "outputs": [],
   "source": [
    "train_val_df = pd.read_csv('xeno_canto_train_val.csv')\n",
    "test_df = pd.read_csv('xeno_canto_test.csv')"
   ]
  },
  {
   "cell_type": "code",
   "execution_count": 3,
   "id": "14d4ac6f",
   "metadata": {},
   "outputs": [
    {
     "data": {
      "text/html": [
       "<div>\n",
       "<style scoped>\n",
       "    .dataframe tbody tr th:only-of-type {\n",
       "        vertical-align: middle;\n",
       "    }\n",
       "\n",
       "    .dataframe tbody tr th {\n",
       "        vertical-align: top;\n",
       "    }\n",
       "\n",
       "    .dataframe thead th {\n",
       "        text-align: right;\n",
       "    }\n",
       "</style>\n",
       "<table border=\"1\" class=\"dataframe\">\n",
       "  <thead>\n",
       "    <tr style=\"text-align: right;\">\n",
       "      <th></th>\n",
       "      <th>Unnamed: 0</th>\n",
       "      <th>file</th>\n",
       "      <th>start_time</th>\n",
       "      <th>end_time</th>\n",
       "      <th>SAMPLING RATE</th>\n",
       "      <th>MANUAL ID</th>\n",
       "    </tr>\n",
       "  </thead>\n",
       "  <tbody>\n",
       "    <tr>\n",
       "      <th>0</th>\n",
       "      <td>0</td>\n",
       "      <td>./temp_clips/../XenoCanto_Data/Training_Xeno_C...</td>\n",
       "      <td>0</td>\n",
       "      <td>3.0</td>\n",
       "      <td>44100</td>\n",
       "      <td>White-bellied Tody-Tyrant</td>\n",
       "    </tr>\n",
       "    <tr>\n",
       "      <th>1</th>\n",
       "      <td>1</td>\n",
       "      <td>./temp_clips/../XenoCanto_Data/Training_Xeno_C...</td>\n",
       "      <td>3</td>\n",
       "      <td>6.0</td>\n",
       "      <td>44100</td>\n",
       "      <td>White-bellied Tody-Tyrant</td>\n",
       "    </tr>\n",
       "    <tr>\n",
       "      <th>2</th>\n",
       "      <td>2</td>\n",
       "      <td>./temp_clips/../XenoCanto_Data/Training_Xeno_C...</td>\n",
       "      <td>6</td>\n",
       "      <td>9.0</td>\n",
       "      <td>44100</td>\n",
       "      <td>White-bellied Tody-Tyrant</td>\n",
       "    </tr>\n",
       "    <tr>\n",
       "      <th>3</th>\n",
       "      <td>3</td>\n",
       "      <td>./temp_clips/../XenoCanto_Data/Training_Xeno_C...</td>\n",
       "      <td>9</td>\n",
       "      <td>12.0</td>\n",
       "      <td>44100</td>\n",
       "      <td>White-bellied Tody-Tyrant</td>\n",
       "    </tr>\n",
       "    <tr>\n",
       "      <th>4</th>\n",
       "      <td>4</td>\n",
       "      <td>./temp_clips/../XenoCanto_Data/Training_Xeno_C...</td>\n",
       "      <td>12</td>\n",
       "      <td>15.0</td>\n",
       "      <td>44100</td>\n",
       "      <td>White-bellied Tody-Tyrant</td>\n",
       "    </tr>\n",
       "  </tbody>\n",
       "</table>\n",
       "</div>"
      ],
      "text/plain": [
       "   Unnamed: 0                                               file  start_time  \\\n",
       "0           0  ./temp_clips/../XenoCanto_Data/Training_Xeno_C...           0   \n",
       "1           1  ./temp_clips/../XenoCanto_Data/Training_Xeno_C...           3   \n",
       "2           2  ./temp_clips/../XenoCanto_Data/Training_Xeno_C...           6   \n",
       "3           3  ./temp_clips/../XenoCanto_Data/Training_Xeno_C...           9   \n",
       "4           4  ./temp_clips/../XenoCanto_Data/Training_Xeno_C...          12   \n",
       "\n",
       "   end_time  SAMPLING RATE                  MANUAL ID  \n",
       "0       3.0          44100  White-bellied Tody-Tyrant  \n",
       "1       6.0          44100  White-bellied Tody-Tyrant  \n",
       "2       9.0          44100  White-bellied Tody-Tyrant  \n",
       "3      12.0          44100  White-bellied Tody-Tyrant  \n",
       "4      15.0          44100  White-bellied Tody-Tyrant  "
      ]
     },
     "execution_count": 3,
     "metadata": {},
     "output_type": "execute_result"
    }
   ],
   "source": [
    "train_val_df.head()"
   ]
  },
  {
   "cell_type": "code",
   "execution_count": 4,
   "id": "345c4bc4",
   "metadata": {},
   "outputs": [
    {
     "data": {
      "text/html": [
       "<div>\n",
       "<style scoped>\n",
       "    .dataframe tbody tr th:only-of-type {\n",
       "        vertical-align: middle;\n",
       "    }\n",
       "\n",
       "    .dataframe tbody tr th {\n",
       "        vertical-align: top;\n",
       "    }\n",
       "\n",
       "    .dataframe thead th {\n",
       "        text-align: right;\n",
       "    }\n",
       "</style>\n",
       "<table border=\"1\" class=\"dataframe\">\n",
       "  <thead>\n",
       "    <tr style=\"text-align: right;\">\n",
       "      <th></th>\n",
       "      <th>Unnamed: 0</th>\n",
       "      <th>file</th>\n",
       "      <th>start_time</th>\n",
       "      <th>end_time</th>\n",
       "      <th>SAMPLING RATE</th>\n",
       "      <th>MANUAL ID</th>\n",
       "    </tr>\n",
       "  </thead>\n",
       "  <tbody>\n",
       "    <tr>\n",
       "      <th>0</th>\n",
       "      <td>0</td>\n",
       "      <td>./temp_clips/../XenoCanto_Data/Training_Xeno_C...</td>\n",
       "      <td>0</td>\n",
       "      <td>3.0</td>\n",
       "      <td>44100</td>\n",
       "      <td>White-bellied Tody-Tyrant</td>\n",
       "    </tr>\n",
       "    <tr>\n",
       "      <th>1</th>\n",
       "      <td>1</td>\n",
       "      <td>./temp_clips/../XenoCanto_Data/Training_Xeno_C...</td>\n",
       "      <td>3</td>\n",
       "      <td>6.0</td>\n",
       "      <td>44100</td>\n",
       "      <td>White-bellied Tody-Tyrant</td>\n",
       "    </tr>\n",
       "    <tr>\n",
       "      <th>2</th>\n",
       "      <td>2</td>\n",
       "      <td>./temp_clips/../XenoCanto_Data/Training_Xeno_C...</td>\n",
       "      <td>6</td>\n",
       "      <td>9.0</td>\n",
       "      <td>44100</td>\n",
       "      <td>White-bellied Tody-Tyrant</td>\n",
       "    </tr>\n",
       "    <tr>\n",
       "      <th>3</th>\n",
       "      <td>3</td>\n",
       "      <td>./temp_clips/../XenoCanto_Data/Training_Xeno_C...</td>\n",
       "      <td>9</td>\n",
       "      <td>12.0</td>\n",
       "      <td>44100</td>\n",
       "      <td>White-bellied Tody-Tyrant</td>\n",
       "    </tr>\n",
       "    <tr>\n",
       "      <th>4</th>\n",
       "      <td>4</td>\n",
       "      <td>./temp_clips/../XenoCanto_Data/Training_Xeno_C...</td>\n",
       "      <td>12</td>\n",
       "      <td>15.0</td>\n",
       "      <td>44100</td>\n",
       "      <td>White-bellied Tody-Tyrant</td>\n",
       "    </tr>\n",
       "  </tbody>\n",
       "</table>\n",
       "</div>"
      ],
      "text/plain": [
       "   Unnamed: 0                                               file  start_time  \\\n",
       "0           0  ./temp_clips/../XenoCanto_Data/Training_Xeno_C...           0   \n",
       "1           1  ./temp_clips/../XenoCanto_Data/Training_Xeno_C...           3   \n",
       "2           2  ./temp_clips/../XenoCanto_Data/Training_Xeno_C...           6   \n",
       "3           3  ./temp_clips/../XenoCanto_Data/Training_Xeno_C...           9   \n",
       "4           4  ./temp_clips/../XenoCanto_Data/Training_Xeno_C...          12   \n",
       "\n",
       "   end_time  SAMPLING RATE                  MANUAL ID  \n",
       "0       3.0          44100  White-bellied Tody-Tyrant  \n",
       "1       6.0          44100  White-bellied Tody-Tyrant  \n",
       "2       9.0          44100  White-bellied Tody-Tyrant  \n",
       "3      12.0          44100  White-bellied Tody-Tyrant  \n",
       "4      15.0          44100  White-bellied Tody-Tyrant  "
      ]
     },
     "execution_count": 4,
     "metadata": {},
     "output_type": "execute_result"
    }
   ],
   "source": [
    "test_df.head()"
   ]
  },
  {
   "cell_type": "markdown",
   "id": "5ba75e39",
   "metadata": {},
   "source": [
    "### Check counts of the different classes in both the dataframes"
   ]
  },
  {
   "cell_type": "code",
   "execution_count": 5,
   "id": "257ef075",
   "metadata": {},
   "outputs": [
    {
     "data": {
      "text/plain": [
       "White-throated Toucan        3776\n",
       "Red-eyed Vireo               1886\n",
       "Eastern Kingbird             1403\n",
       "White-bellied Tody-Tyrant    1018\n",
       "None                          951\n",
       "Ihering's Antwren             295\n",
       "Great-billed Hermit           237\n",
       "Chivi Vireo                   234\n",
       "Philadelphia Vireo             60\n",
       "Scissor-tailed Flycatcher      58\n",
       "Black-and-white Warbler        50\n",
       "Creamy-bellied Thrush          50\n",
       "Wood Thrush                    41\n",
       "Yellow-throated Toucan         28\n",
       "Noronha Vireo                  26\n",
       "Brown Bullfinch                26\n",
       "Yellow-bellied Flycatcher      19\n",
       "Bamboo Antshrike               19\n",
       "Long-billed Hermit             17\n",
       "Water Rail                     15\n",
       "Philippine Woodpecker          12\n",
       "Brown Violetear                11\n",
       "Yellow-green Vireo             11\n",
       "Striated Antbird               11\n",
       "Blue-backed Manakin            11\n",
       "Channel-billed Toucan           9\n",
       "White-throated Spadebill        8\n",
       "Brown-headed Cowbird            8\n",
       "Mountain Scops-Owl              6\n",
       "White-browed Tapaculo           5\n",
       "Name: MANUAL ID, dtype: int64"
      ]
     },
     "execution_count": 5,
     "metadata": {},
     "output_type": "execute_result"
    }
   ],
   "source": [
    "train_val_df['MANUAL ID'].value_counts()"
   ]
  },
  {
   "cell_type": "code",
   "execution_count": 6,
   "id": "6952d68b",
   "metadata": {},
   "outputs": [
    {
     "data": {
      "text/plain": [
       "White-throated Toucan        107\n",
       "Ihering's Antwren            102\n",
       "Red-eyed Vireo                98\n",
       "Brassy-breasted Tanager       91\n",
       "Eastern Kingbird              85\n",
       "White-bellied Tody-Tyrant     83\n",
       "None                          66\n",
       "Charming Hummingbird          26\n",
       "Bluish-slate Antshrike        25\n",
       "Chivi Vireo                    4\n",
       "Name: MANUAL ID, dtype: int64"
      ]
     },
     "execution_count": 6,
     "metadata": {},
     "output_type": "execute_result"
    }
   ],
   "source": [
    "test_df['MANUAL ID'].value_counts()"
   ]
  },
  {
   "cell_type": "markdown",
   "id": "3c6cede4",
   "metadata": {},
   "source": [
    "### Changing species' names to a simpler version for convenience"
   ]
  },
  {
   "cell_type": "code",
   "execution_count": 7,
   "id": "aeb225ed",
   "metadata": {},
   "outputs": [],
   "source": [
    "train_val_df.loc[train_val_df['MANUAL ID'].str.contains('Toucan'), 'MANUAL ID'] = test_df.loc[test_df['MANUAL ID'].str.contains('Toucan'), 'MANUAL ID'] = 'Toucan'\n",
    "train_val_df.loc[train_val_df['MANUAL ID'].str.contains('Flycatcher'), 'MANUAL ID'] = 'Flycatcher'\n",
    "train_val_df.loc[train_val_df['MANUAL ID'].str.contains('Thrush'), 'MANUAL ID'] = 'Thrush'\n",
    "train_val_df.loc[train_val_df['MANUAL ID'].str.contains('Vireo'), 'MANUAL ID'] = test_df.loc[test_df['MANUAL ID'].str.contains('Vireo'), 'MANUAL ID'] = 'Vireo'\n",
    "train_val_df.loc[train_val_df['MANUAL ID'].str.contains('Antwren'), 'MANUAL ID'] = test_df.loc[test_df['MANUAL ID'].str.contains('Antwren'), 'MANUAL ID'] = 'Antwren'\n",
    "train_val_df.loc[train_val_df['MANUAL ID'].str.contains('Tanager'), 'MANUAL ID'] = test_df.loc[test_df['MANUAL ID'].str.contains('Tanager'), 'MANUAL ID'] = 'Tanager'\n",
    "train_val_df.loc[train_val_df['MANUAL ID'].str.contains('Kingbird'), 'MANUAL ID'] = test_df.loc[test_df['MANUAL ID'].str.contains('Kingbird'), 'MANUAL ID'] = 'Kingbird'\n",
    "train_val_df.loc[train_val_df['MANUAL ID'].str.contains('Tody-Tyrant'), 'MANUAL ID'] = test_df.loc[test_df['MANUAL ID'].str.contains('Tody-Tyrant'), 'MANUAL ID'] = 'Tody-Tyrant'\n",
    "train_val_df.loc[train_val_df['MANUAL ID'].str.contains('Hummingbird'), 'MANUAL ID'] = test_df.loc[test_df['MANUAL ID'].str.contains('Hummingbird'), 'MANUAL ID'] = 'Hummingbird'\n",
    "train_val_df.loc[train_val_df['MANUAL ID'].str.contains('Antshrike'), 'MANUAL ID'] = test_df.loc[test_df['MANUAL ID'].str.contains('Antshrike'), 'MANUAL ID'] = 'Antshrike'"
   ]
  },
  {
   "cell_type": "markdown",
   "id": "b312dd50",
   "metadata": {},
   "source": [
    "### Remove rows from dataframes which are not the species of our interest"
   ]
  },
  {
   "cell_type": "code",
   "execution_count": 8,
   "id": "e048aaa1",
   "metadata": {},
   "outputs": [
    {
     "name": "stdout",
     "output_type": "stream",
     "text": [
      "Classwise Counts for train/val data:\n",
      "Toucan         3813\n",
      "Vireo          2217\n",
      "Kingbird       1403\n",
      "Tody-Tyrant    1018\n",
      "None            951\n",
      "Antwren         295\n",
      "Antshrike        19\n",
      "Name: MANUAL ID, dtype: int64\n",
      "\n",
      "Classwise  Counts for test data:\n",
      "Toucan         107\n",
      "Antwren        102\n",
      "Vireo          102\n",
      "Kingbird        85\n",
      "Tody-Tyrant     83\n",
      "None            66\n",
      "Antshrike       25\n",
      "Name: MANUAL ID, dtype: int64\n"
     ]
    }
   ],
   "source": [
    "classes = ['Antwren', 'Antshrike', 'Toucan', 'Vireo', 'Kingbird', 'Tody-Tyrant', 'None']\n",
    "for i, row in train_val_df.iterrows():\n",
    "    if(row['MANUAL ID'] not in classes):\n",
    "        train_val_df.drop(i, inplace=True)\n",
    "for i, row in test_df.iterrows():\n",
    "    if(row['MANUAL ID'] not in classes):\n",
    "        test_df.drop(i, inplace=True)\n",
    "print('Classwise Counts for train/val data:')\n",
    "print(train_val_df['MANUAL ID'].value_counts())\n",
    "print('\\nClasswise  Counts for test data:')\n",
    "print(test_df['MANUAL ID'].value_counts())"
   ]
  },
  {
   "cell_type": "markdown",
   "id": "8304174f",
   "metadata": {},
   "source": [
    "### Convert the train/val and test data to one-hot representations of the classes"
   ]
  },
  {
   "cell_type": "code",
   "execution_count": 9,
   "id": "fd08b116",
   "metadata": {},
   "outputs": [],
   "source": [
    "# Train/val\n",
    "one_hot_labels, train_classes = categorical_to_one_hot(train_val_df[['MANUAL ID']].values)\n",
    "train_val_df = pd.DataFrame(index=train_val_df['file'],data=one_hot_labels,columns=train_classes)\n",
    "\n",
    "# Test\n",
    "one_hot_labels, test_classes = categorical_to_one_hot(test_df[['MANUAL ID']].values)\n",
    "test_df = pd.DataFrame(index=test_df['file'],data=one_hot_labels,columns=test_classes)"
   ]
  },
  {
   "cell_type": "markdown",
   "id": "52e30606",
   "metadata": {},
   "source": [
    "### Split the trainining/validation dataframe into training and validation sets"
   ]
  },
  {
   "cell_type": "code",
   "execution_count": 10,
   "id": "ec470fad",
   "metadata": {},
   "outputs": [],
   "source": [
    "train_df, valid_df = train_test_split(train_val_df, test_size=0.2, random_state=42)"
   ]
  },
  {
   "cell_type": "code",
   "execution_count": 11,
   "id": "215adf91",
   "metadata": {},
   "outputs": [
    {
     "name": "stdout",
     "output_type": "stream",
     "text": [
      "Number of training examples :  7772\n",
      "Number of validation examples :  1944\n",
      "Number of test examples :  570\n"
     ]
    }
   ],
   "source": [
    "print(\"Number of training examples : \", train_df.shape[0])\n",
    "print(\"Number of validation examples : \", valid_df.shape[0])\n",
    "print(\"Number of test examples : \", test_df.shape[0])"
   ]
  },
  {
   "cell_type": "markdown",
   "id": "4b52c4d4",
   "metadata": {},
   "source": [
    "### Prepare the training and validation set for the CNN model"
   ]
  },
  {
   "cell_type": "code",
   "execution_count": 12,
   "id": "5796758b-3169-4cb7-ad5f-072bbd79e1e2",
   "metadata": {},
   "outputs": [],
   "source": [
    "train_dataset = CnnPreprocessor(df=train_df)\n",
    "train_dataset.augmentation_on()\n",
    "train_dataset.actions.load_audio.set(sample_rate=44100)\n",
    "valid_dataset = CnnPreprocessor(df=valid_df)\n",
    "valid_dataset.augmentation_on()\n",
    "valid_dataset.actions.load_audio.set(sample_rate=44100)"
   ]
  },
  {
   "cell_type": "markdown",
   "id": "36085bd6",
   "metadata": {},
   "source": [
    "### Create the Resnet-18 Multiclass model and train it"
   ]
  },
  {
   "cell_type": "code",
   "execution_count": 13,
   "id": "f45eadac-9474-4ffa-9bde-3f0d8236fb2c",
   "metadata": {},
   "outputs": [
    {
     "name": "stdout",
     "output_type": "stream",
     "text": [
      "created PytorchModel model object with 7 classes\n"
     ]
    }
   ],
   "source": [
    "model = cnn.Resnet18Multiclass(train_classes)"
   ]
  },
  {
   "cell_type": "code",
   "execution_count": 14,
   "id": "13587c56",
   "metadata": {},
   "outputs": [
    {
     "name": "stdout",
     "output_type": "stream",
     "text": [
      "Epoch: 0 [batch 0/243 (0.00%)] \n",
      "\tJacc: 0.147 Hamm: 0.830 DistLoss: 30.046\n",
      "Epoch: 0 [batch 10/243 (4.12%)] \n",
      "\tJacc: 0.000 Hamm: 0.143 DistLoss: 23.617\n",
      "Epoch: 0 [batch 20/243 (8.23%)] \n",
      "\tJacc: 0.146 Hamm: 0.129 DistLoss: 20.766\n",
      "Epoch: 0 [batch 30/243 (12.35%)] \n",
      "\tJacc: 0.488 Hamm: 0.080 DistLoss: 17.922\n",
      "Epoch: 0 [batch 40/243 (16.46%)] \n",
      "\tJacc: 0.474 Hamm: 0.080 DistLoss: 15.772\n",
      "Epoch: 0 [batch 50/243 (20.58%)] \n",
      "\tJacc: 0.681 Hamm: 0.045 DistLoss: 14.166\n",
      "Epoch: 0 [batch 60/243 (24.69%)] \n",
      "\tJacc: 0.518 Hamm: 0.067 DistLoss: 12.872\n",
      "Epoch: 0 [batch 70/243 (28.81%)] \n",
      "\tJacc: 0.392 Hamm: 0.098 DistLoss: 11.916\n",
      "Epoch: 0 [batch 80/243 (32.92%)] \n",
      "\tJacc: 0.836 Hamm: 0.027 DistLoss: 11.034\n",
      "Epoch: 0 [batch 90/243 (37.04%)] \n",
      "\tJacc: 0.843 Hamm: 0.036 DistLoss: 10.302\n",
      "Epoch: 0 [batch 100/243 (41.15%)] \n",
      "\tJacc: 0.875 Hamm: 0.022 DistLoss: 9.676\n",
      "Epoch: 0 [batch 110/243 (45.27%)] \n",
      "\tJacc: 0.896 Hamm: 0.018 DistLoss: 9.152\n",
      "Epoch: 0 [batch 120/243 (49.38%)] \n",
      "\tJacc: 0.712 Hamm: 0.045 DistLoss: 8.687\n",
      "Epoch: 0 [batch 130/243 (53.50%)] \n",
      "\tJacc: 0.706 Hamm: 0.045 DistLoss: 8.323\n",
      "Epoch: 0 [batch 140/243 (57.61%)] \n",
      "\tJacc: 0.781 Hamm: 0.040 DistLoss: 8.008\n",
      "Epoch: 0 [batch 150/243 (61.73%)] \n",
      "\tJacc: 0.917 Hamm: 0.013 DistLoss: 7.675\n",
      "Epoch: 0 [batch 160/243 (65.84%)] \n",
      "\tJacc: 0.775 Hamm: 0.027 DistLoss: 7.412\n",
      "Epoch: 0 [batch 170/243 (69.96%)] \n",
      "\tJacc: 0.830 Hamm: 0.027 DistLoss: 7.181\n",
      "Epoch: 0 [batch 180/243 (74.07%)] \n",
      "\tJacc: 0.576 Hamm: 0.076 DistLoss: 7.028\n",
      "Epoch: 0 [batch 190/243 (78.19%)] \n",
      "\tJacc: 0.844 Hamm: 0.027 DistLoss: 6.882\n",
      "Epoch: 0 [batch 200/243 (82.30%)] \n",
      "\tJacc: 0.905 Hamm: 0.018 DistLoss: 6.721\n",
      "Epoch: 0 [batch 210/243 (86.42%)] \n",
      "\tJacc: 0.876 Hamm: 0.022 DistLoss: 6.529\n",
      "Epoch: 0 [batch 220/243 (90.53%)] \n",
      "\tJacc: 0.907 Hamm: 0.022 DistLoss: 6.360\n",
      "Epoch: 0 [batch 230/243 (94.65%)] \n",
      "\tJacc: 0.946 Hamm: 0.009 DistLoss: 6.198\n",
      "Epoch: 0 [batch 240/243 (98.77%)] \n",
      "\tJacc: 0.813 Hamm: 0.036 DistLoss: 6.062\n",
      "\n",
      "Validation.\n",
      "(1944, 7)\n",
      "\t Precision: 0.7830988381846361\n",
      "\t Recall: 0.8628743930054891\n",
      "\t F1: 0.7664658822998591\n",
      "Updating best model\n",
      "Epoch: 1 [batch 0/243 (0.00%)] \n",
      "\tJacc: 0.951 Hamm: 0.009 DistLoss: 1.323\n",
      "Epoch: 1 [batch 10/243 (4.12%)] \n",
      "\tJacc: 0.858 Hamm: 0.027 DistLoss: 2.426\n",
      "Epoch: 1 [batch 20/243 (8.23%)] \n",
      "\tJacc: 0.761 Hamm: 0.049 DistLoss: 2.458\n",
      "Epoch: 1 [batch 30/243 (12.35%)] \n",
      "\tJacc: 0.817 Hamm: 0.027 DistLoss: 2.999\n",
      "Epoch: 1 [batch 40/243 (16.46%)] \n",
      "\tJacc: 0.859 Hamm: 0.027 DistLoss: 3.008\n",
      "Epoch: 1 [batch 50/243 (20.58%)] \n",
      "\tJacc: 0.739 Hamm: 0.031 DistLoss: 2.996\n",
      "Epoch: 1 [batch 60/243 (24.69%)] \n",
      "\tJacc: 0.931 Hamm: 0.013 DistLoss: 2.862\n",
      "Epoch: 1 [batch 70/243 (28.81%)] \n",
      "\tJacc: 0.812 Hamm: 0.027 DistLoss: 2.725\n",
      "Epoch: 1 [batch 80/243 (32.92%)] \n",
      "\tJacc: 0.845 Hamm: 0.018 DistLoss: 2.664\n",
      "Epoch: 1 [batch 90/243 (37.04%)] \n",
      "\tJacc: 0.797 Hamm: 0.040 DistLoss: 2.610\n",
      "Epoch: 1 [batch 100/243 (41.15%)] \n",
      "\tJacc: 0.774 Hamm: 0.036 DistLoss: 2.569\n",
      "Epoch: 1 [batch 110/243 (45.27%)] \n",
      "\tJacc: 0.876 Hamm: 0.018 DistLoss: 2.566\n",
      "Epoch: 1 [batch 120/243 (49.38%)] \n",
      "\tJacc: 0.956 Hamm: 0.009 DistLoss: 2.536\n",
      "Epoch: 1 [batch 130/243 (53.50%)] \n",
      "\tJacc: 0.880 Hamm: 0.022 DistLoss: 2.541\n",
      "Epoch: 1 [batch 140/243 (57.61%)] \n",
      "\tJacc: 0.976 Hamm: 0.004 DistLoss: 2.484\n",
      "Epoch: 1 [batch 150/243 (61.73%)] \n",
      "\tJacc: 0.852 Hamm: 0.022 DistLoss: 2.467\n",
      "Epoch: 1 [batch 160/243 (65.84%)] \n",
      "\tJacc: 0.884 Hamm: 0.022 DistLoss: 2.455\n",
      "Epoch: 1 [batch 170/243 (69.96%)] \n",
      "\tJacc: 0.904 Hamm: 0.022 DistLoss: 2.443\n",
      "Epoch: 1 [batch 180/243 (74.07%)] \n",
      "\tJacc: 1.000 Hamm: 0.000 DistLoss: 2.411\n",
      "Epoch: 1 [batch 190/243 (78.19%)] \n",
      "\tJacc: 0.951 Hamm: 0.009 DistLoss: 2.381\n",
      "Epoch: 1 [batch 200/243 (82.30%)] \n",
      "\tJacc: 0.922 Hamm: 0.013 DistLoss: 2.400\n",
      "Epoch: 1 [batch 210/243 (86.42%)] \n",
      "\tJacc: 0.812 Hamm: 0.036 DistLoss: 2.400\n",
      "Epoch: 1 [batch 220/243 (90.53%)] \n",
      "\tJacc: 0.971 Hamm: 0.004 DistLoss: 2.356\n",
      "Epoch: 1 [batch 230/243 (94.65%)] \n",
      "\tJacc: 0.780 Hamm: 0.031 DistLoss: 2.346\n",
      "Epoch: 1 [batch 240/243 (98.77%)] \n",
      "\tJacc: 0.844 Hamm: 0.022 DistLoss: 2.359\n",
      "\n",
      "Validation.\n",
      "(1944, 7)\n",
      "\t Precision: 0.8556623721784239\n",
      "\t Recall: 0.9325445248767378\n",
      "\t F1: 0.8797903444071201\n",
      "Updating best model\n",
      "Epoch: 2 [batch 0/243 (0.00%)] \n",
      "\tJacc: 0.893 Hamm: 0.022 DistLoss: 2.014\n",
      "Epoch: 2 [batch 10/243 (4.12%)] \n",
      "\tJacc: 0.951 Hamm: 0.009 DistLoss: 1.781\n",
      "Epoch: 2 [batch 20/243 (8.23%)] \n",
      "\tJacc: 0.908 Hamm: 0.013 DistLoss: 1.788\n",
      "Epoch: 2 [batch 30/243 (12.35%)] \n",
      "\tJacc: 0.881 Hamm: 0.013 DistLoss: 1.703\n",
      "Epoch: 2 [batch 40/243 (16.46%)] \n",
      "\tJacc: 0.879 Hamm: 0.018 DistLoss: 1.934\n",
      "Epoch: 2 [batch 50/243 (20.58%)] \n",
      "\tJacc: 0.873 Hamm: 0.027 DistLoss: 2.030\n",
      "Epoch: 2 [batch 60/243 (24.69%)] \n",
      "\tJacc: 1.000 Hamm: 0.000 DistLoss: 2.038\n",
      "Epoch: 2 [batch 70/243 (28.81%)] \n",
      "\tJacc: 0.825 Hamm: 0.027 DistLoss: 2.027\n",
      "Epoch: 2 [batch 80/243 (32.92%)] \n",
      "\tJacc: 0.946 Hamm: 0.013 DistLoss: 1.990\n",
      "Epoch: 2 [batch 90/243 (37.04%)] \n",
      "\tJacc: 0.883 Hamm: 0.022 DistLoss: 1.994\n",
      "Epoch: 2 [batch 100/243 (41.15%)] \n",
      "\tJacc: 0.929 Hamm: 0.004 DistLoss: 1.970\n",
      "Epoch: 2 [batch 110/243 (45.27%)] \n",
      "\tJacc: 0.880 Hamm: 0.018 DistLoss: 1.954\n",
      "Epoch: 2 [batch 120/243 (49.38%)] \n",
      "\tJacc: 0.861 Hamm: 0.022 DistLoss: 1.952\n",
      "Epoch: 2 [batch 130/243 (53.50%)] \n",
      "\tJacc: 0.912 Hamm: 0.018 DistLoss: 1.954\n",
      "Epoch: 2 [batch 140/243 (57.61%)] \n",
      "\tJacc: 0.771 Hamm: 0.031 DistLoss: 1.990\n",
      "Epoch: 2 [batch 150/243 (61.73%)] \n",
      "\tJacc: 0.807 Hamm: 0.031 DistLoss: 1.967\n",
      "Epoch: 2 [batch 160/243 (65.84%)] \n",
      "\tJacc: 0.864 Hamm: 0.013 DistLoss: 1.942\n",
      "Epoch: 2 [batch 170/243 (69.96%)] \n",
      "\tJacc: 0.932 Hamm: 0.009 DistLoss: 1.946\n",
      "Epoch: 2 [batch 180/243 (74.07%)] \n",
      "\tJacc: 0.837 Hamm: 0.027 DistLoss: 1.924\n",
      "Epoch: 2 [batch 190/243 (78.19%)] \n",
      "\tJacc: 0.915 Hamm: 0.013 DistLoss: 1.925\n",
      "Epoch: 2 [batch 200/243 (82.30%)] \n",
      "\tJacc: 0.980 Hamm: 0.004 DistLoss: 1.891\n",
      "Epoch: 2 [batch 210/243 (86.42%)] \n",
      "\tJacc: 0.971 Hamm: 0.004 DistLoss: 1.881\n"
     ]
    },
    {
     "name": "stderr",
     "output_type": "stream",
     "text": [
      "/home/shreyas/miniconda3/envs/opensoundscape/lib/python3.7/site-packages/scipy/signal/spectral.py:1966: UserWarning: nperseg = 512 is greater than input length  = 468, using nperseg = 468\n",
      "  .format(nperseg, input_length))\n"
     ]
    },
    {
     "name": "stdout",
     "output_type": "stream",
     "text": [
      "Epoch: 2 [batch 220/243 (90.53%)] \n",
      "\tJacc: 0.936 Hamm: 0.009 DistLoss: 1.862\n",
      "Epoch: 2 [batch 230/243 (94.65%)] \n",
      "\tJacc: 0.909 Hamm: 0.022 DistLoss: 1.841\n",
      "Epoch: 2 [batch 240/243 (98.77%)] \n",
      "\tJacc: 0.859 Hamm: 0.022 DistLoss: 1.846\n",
      "\n",
      "Validation.\n",
      "(1944, 7)\n",
      "\t Precision: 0.8637273011050473\n",
      "\t Recall: 0.9334661722531342\n",
      "\t F1: 0.8853958119283325\n",
      "Updating best model\n",
      "Epoch: 3 [batch 0/243 (0.00%)] \n",
      "\tJacc: 0.912 Hamm: 0.013 DistLoss: 1.267\n",
      "Epoch: 3 [batch 10/243 (4.12%)] \n",
      "\tJacc: 0.893 Hamm: 0.018 DistLoss: 1.410\n",
      "Epoch: 3 [batch 20/243 (8.23%)] \n",
      "\tJacc: 0.852 Hamm: 0.027 DistLoss: 1.931\n",
      "Epoch: 3 [batch 30/243 (12.35%)] \n",
      "\tJacc: 0.964 Hamm: 0.004 DistLoss: 1.709\n",
      "Epoch: 3 [batch 40/243 (16.46%)] \n",
      "\tJacc: 0.781 Hamm: 0.036 DistLoss: 1.639\n",
      "Epoch: 3 [batch 50/243 (20.58%)] \n",
      "\tJacc: 0.840 Hamm: 0.022 DistLoss: 1.644\n",
      "Epoch: 3 [batch 60/243 (24.69%)] \n",
      "\tJacc: 0.863 Hamm: 0.018 DistLoss: 1.628\n",
      "Epoch: 3 [batch 70/243 (28.81%)] \n",
      "\tJacc: 0.902 Hamm: 0.018 DistLoss: 1.665\n",
      "Epoch: 3 [batch 80/243 (32.92%)] \n",
      "\tJacc: 1.000 Hamm: 0.000 DistLoss: 1.636\n",
      "Epoch: 3 [batch 90/243 (37.04%)] \n",
      "\tJacc: 0.921 Hamm: 0.013 DistLoss: 1.633\n",
      "Epoch: 3 [batch 100/243 (41.15%)] \n",
      "\tJacc: 1.000 Hamm: 0.000 DistLoss: 1.603\n",
      "Epoch: 3 [batch 110/243 (45.27%)] \n",
      "\tJacc: 0.781 Hamm: 0.036 DistLoss: 1.632\n",
      "Epoch: 3 [batch 120/243 (49.38%)] \n",
      "\tJacc: 0.832 Hamm: 0.022 DistLoss: 1.644\n",
      "Epoch: 3 [batch 130/243 (53.50%)] \n",
      "\tJacc: 0.831 Hamm: 0.022 DistLoss: 1.618\n",
      "Epoch: 3 [batch 140/243 (57.61%)] \n",
      "\tJacc: 0.911 Hamm: 0.013 DistLoss: 1.595\n",
      "Epoch: 3 [batch 150/243 (61.73%)] \n",
      "\tJacc: 1.000 Hamm: 0.000 DistLoss: 1.571\n",
      "Epoch: 3 [batch 160/243 (65.84%)] \n",
      "\tJacc: 0.926 Hamm: 0.013 DistLoss: 1.562\n",
      "Epoch: 3 [batch 170/243 (69.96%)] \n",
      "\tJacc: 1.000 Hamm: 0.000 DistLoss: 1.556\n",
      "Epoch: 3 [batch 180/243 (74.07%)] \n",
      "\tJacc: 0.852 Hamm: 0.027 DistLoss: 1.558\n",
      "Epoch: 3 [batch 190/243 (78.19%)] \n",
      "\tJacc: 0.907 Hamm: 0.013 DistLoss: 1.559\n",
      "Epoch: 3 [batch 200/243 (82.30%)] \n",
      "\tJacc: 0.783 Hamm: 0.045 DistLoss: 1.570\n",
      "Epoch: 3 [batch 210/243 (86.42%)] \n",
      "\tJacc: 1.000 Hamm: 0.000 DistLoss: 1.548\n",
      "Epoch: 3 [batch 220/243 (90.53%)] \n",
      "\tJacc: 0.976 Hamm: 0.004 DistLoss: 1.535\n",
      "Epoch: 3 [batch 230/243 (94.65%)] \n",
      "\tJacc: 0.758 Hamm: 0.040 DistLoss: 1.567\n",
      "Epoch: 3 [batch 240/243 (98.77%)] \n",
      "\tJacc: 0.888 Hamm: 0.018 DistLoss: 1.542\n",
      "\n",
      "Validation.\n",
      "(1944, 7)\n",
      "\t Precision: 0.9321487276854856\n",
      "\t Recall: 0.9535154602217127\n",
      "\t F1: 0.940669138284898\n",
      "Updating best model\n",
      "Epoch: 4 [batch 0/243 (0.00%)] \n",
      "\tJacc: 0.984 Hamm: 0.004 DistLoss: 0.477\n",
      "Epoch: 4 [batch 10/243 (4.12%)] \n",
      "\tJacc: 0.971 Hamm: 0.004 DistLoss: 0.745\n",
      "Epoch: 4 [batch 20/243 (8.23%)] \n",
      "\tJacc: 0.924 Hamm: 0.009 DistLoss: 0.954\n",
      "Epoch: 4 [batch 30/243 (12.35%)] \n",
      "\tJacc: 0.905 Hamm: 0.009 DistLoss: 0.973\n",
      "Epoch: 4 [batch 40/243 (16.46%)] \n",
      "\tJacc: 0.844 Hamm: 0.022 DistLoss: 0.993\n",
      "Epoch: 4 [batch 50/243 (20.58%)] \n",
      "\tJacc: 0.894 Hamm: 0.018 DistLoss: 1.038\n",
      "Epoch: 4 [batch 60/243 (24.69%)] \n",
      "\tJacc: 0.906 Hamm: 0.018 DistLoss: 1.042\n",
      "Epoch: 4 [batch 70/243 (28.81%)] \n",
      "\tJacc: 0.917 Hamm: 0.009 DistLoss: 1.029\n",
      "Epoch: 4 [batch 80/243 (32.92%)] \n",
      "\tJacc: 0.912 Hamm: 0.018 DistLoss: 1.084\n",
      "Epoch: 4 [batch 90/243 (37.04%)] \n",
      "\tJacc: 0.980 Hamm: 0.004 DistLoss: 1.130\n",
      "Epoch: 4 [batch 100/243 (41.15%)] \n",
      "\tJacc: 0.912 Hamm: 0.013 DistLoss: 1.075\n",
      "Epoch: 4 [batch 110/243 (45.27%)] \n",
      "\tJacc: 0.933 Hamm: 0.013 DistLoss: 1.094\n",
      "Epoch: 4 [batch 120/243 (49.38%)] \n",
      "\tJacc: 0.971 Hamm: 0.004 DistLoss: 1.088\n",
      "Epoch: 4 [batch 130/243 (53.50%)] \n",
      "\tJacc: 0.858 Hamm: 0.027 DistLoss: 1.095\n",
      "Epoch: 4 [batch 140/243 (57.61%)] \n",
      "\tJacc: 0.907 Hamm: 0.013 DistLoss: 1.112\n",
      "Epoch: 4 [batch 150/243 (61.73%)] \n",
      "\tJacc: 0.857 Hamm: 0.000 DistLoss: 1.088\n"
     ]
    },
    {
     "name": "stderr",
     "output_type": "stream",
     "text": [
      "/home/shreyas/miniconda3/envs/opensoundscape/lib/python3.7/site-packages/sklearn/metrics/_classification.py:1318: UndefinedMetricWarning: Jaccard is ill-defined and being set to 0.0 in labels with no true or predicted samples. Use `zero_division` parameter to control this behavior.\n",
      "  _warn_prf(average, modifier, msg_start, len(result))\n"
     ]
    },
    {
     "name": "stdout",
     "output_type": "stream",
     "text": [
      "Epoch: 4 [batch 160/243 (65.84%)] \n",
      "\tJacc: 0.905 Hamm: 0.013 DistLoss: 1.087\n",
      "Epoch: 4 [batch 170/243 (69.96%)] \n",
      "\tJacc: 1.000 Hamm: 0.000 DistLoss: 1.061\n",
      "Epoch: 4 [batch 180/243 (74.07%)] \n",
      "\tJacc: 0.943 Hamm: 0.009 DistLoss: 1.053\n",
      "Epoch: 4 [batch 190/243 (78.19%)] \n",
      "\tJacc: 0.837 Hamm: 0.027 DistLoss: 1.049\n",
      "Epoch: 4 [batch 200/243 (82.30%)] \n",
      "\tJacc: 0.951 Hamm: 0.009 DistLoss: 1.049\n",
      "Epoch: 4 [batch 210/243 (86.42%)] \n",
      "\tJacc: 0.971 Hamm: 0.004 DistLoss: 1.035\n",
      "Epoch: 4 [batch 220/243 (90.53%)] \n",
      "\tJacc: 0.907 Hamm: 0.018 DistLoss: 1.026\n",
      "Epoch: 4 [batch 230/243 (94.65%)] \n",
      "\tJacc: 0.780 Hamm: 0.031 DistLoss: 1.015\n",
      "Epoch: 4 [batch 240/243 (98.77%)] \n",
      "\tJacc: 0.871 Hamm: 0.027 DistLoss: 1.000\n",
      "\n",
      "Validation.\n",
      "(1944, 7)\n",
      "\t Precision: 0.9577678874147798\n",
      "\t Recall: 0.9593421451707133\n",
      "\t F1: 0.9578543838624256\n",
      "Updating best model\n",
      "Epoch: 5 [batch 0/243 (0.00%)] \n",
      "\tJacc: 0.971 Hamm: 0.004 DistLoss: 0.438\n",
      "Epoch: 5 [batch 10/243 (4.12%)] \n",
      "\tJacc: 0.799 Hamm: 0.022 DistLoss: 0.926\n",
      "Epoch: 5 [batch 20/243 (8.23%)] \n",
      "\tJacc: 1.000 Hamm: 0.000 DistLoss: 0.903\n",
      "Epoch: 5 [batch 30/243 (12.35%)] \n",
      "\tJacc: 0.793 Hamm: 0.018 DistLoss: 1.036\n",
      "Epoch: 5 [batch 40/243 (16.46%)] \n",
      "\tJacc: 0.971 Hamm: 0.004 DistLoss: 1.113\n",
      "Epoch: 5 [batch 50/243 (20.58%)] \n",
      "\tJacc: 1.000 Hamm: 0.000 DistLoss: 1.086\n",
      "Epoch: 5 [batch 60/243 (24.69%)] \n",
      "\tJacc: 1.000 Hamm: 0.000 DistLoss: 1.038\n",
      "Epoch: 5 [batch 70/243 (28.81%)] \n",
      "\tJacc: 0.907 Hamm: 0.018 DistLoss: 1.079\n",
      "Epoch: 5 [batch 80/243 (32.92%)] \n",
      "\tJacc: 0.982 Hamm: 0.004 DistLoss: 1.073\n",
      "Epoch: 5 [batch 90/243 (37.04%)] \n",
      "\tJacc: 0.862 Hamm: 0.018 DistLoss: 1.119\n",
      "Epoch: 5 [batch 100/243 (41.15%)] \n",
      "\tJacc: 1.000 Hamm: 0.000 DistLoss: 1.093\n",
      "Epoch: 5 [batch 110/243 (45.27%)] \n",
      "\tJacc: 0.847 Hamm: 0.022 DistLoss: 1.140\n",
      "Epoch: 5 [batch 120/243 (49.38%)] \n",
      "\tJacc: 0.887 Hamm: 0.013 DistLoss: 1.132\n",
      "Epoch: 5 [batch 130/243 (53.50%)] \n",
      "\tJacc: 0.857 Hamm: 0.018 DistLoss: 1.142\n",
      "Epoch: 5 [batch 140/243 (57.61%)] \n",
      "\tJacc: 0.896 Hamm: 0.018 DistLoss: 1.127\n",
      "Epoch: 5 [batch 150/243 (61.73%)] \n",
      "\tJacc: 0.964 Hamm: 0.004 DistLoss: 1.143\n",
      "Epoch: 5 [batch 160/243 (65.84%)] \n",
      "\tJacc: 0.872 Hamm: 0.018 DistLoss: 1.150\n",
      "Epoch: 5 [batch 170/243 (69.96%)] \n",
      "\tJacc: 0.951 Hamm: 0.009 DistLoss: 1.152\n",
      "Epoch: 5 [batch 180/243 (74.07%)] \n",
      "\tJacc: 0.673 Hamm: 0.049 DistLoss: 1.175\n",
      "Epoch: 5 [batch 190/243 (78.19%)] \n",
      "\tJacc: 0.951 Hamm: 0.009 DistLoss: 1.206\n",
      "Epoch: 5 [batch 200/243 (82.30%)] \n",
      "\tJacc: 0.936 Hamm: 0.009 DistLoss: 1.204\n",
      "Epoch: 5 [batch 210/243 (86.42%)] \n",
      "\tJacc: 0.900 Hamm: 0.013 DistLoss: 1.195\n",
      "Epoch: 5 [batch 220/243 (90.53%)] \n",
      "\tJacc: 1.000 Hamm: 0.000 DistLoss: 1.180\n",
      "Epoch: 5 [batch 230/243 (94.65%)] \n",
      "\tJacc: 0.980 Hamm: 0.004 DistLoss: 1.191\n",
      "Epoch: 5 [batch 240/243 (98.77%)] \n",
      "\tJacc: 0.738 Hamm: 0.022 DistLoss: 1.194\n"
     ]
    },
    {
     "name": "stderr",
     "output_type": "stream",
     "text": [
      "/home/shreyas/miniconda3/envs/opensoundscape/lib/python3.7/site-packages/sklearn/metrics/_classification.py:1318: UndefinedMetricWarning: Jaccard is ill-defined and being set to 0.0 in labels with no true or predicted samples. Use `zero_division` parameter to control this behavior.\n",
      "  _warn_prf(average, modifier, msg_start, len(result))\n"
     ]
    },
    {
     "name": "stdout",
     "output_type": "stream",
     "text": [
      "\n",
      "Validation.\n",
      "(1944, 7)\n",
      "\t Precision: 0.9509672317660718\n",
      "\t Recall: 0.8602747814993652\n",
      "\t F1: 0.8911348727561367\n",
      "Epoch: 6 [batch 0/243 (0.00%)] \n",
      "\tJacc: 1.000 Hamm: 0.000 DistLoss: 0.245\n",
      "Epoch: 6 [batch 10/243 (4.12%)] \n",
      "\tJacc: 0.909 Hamm: 0.018 DistLoss: 1.006\n",
      "Epoch: 6 [batch 20/243 (8.23%)] \n",
      "\tJacc: 1.000 Hamm: 0.000 DistLoss: 0.835\n",
      "Epoch: 6 [batch 30/243 (12.35%)] \n",
      "\tJacc: 1.000 Hamm: 0.000 DistLoss: 0.780\n",
      "Epoch: 6 [batch 40/243 (16.46%)] \n",
      "\tJacc: 0.952 Hamm: 0.004 DistLoss: 0.722\n",
      "Epoch: 6 [batch 50/243 (20.58%)] \n",
      "\tJacc: 0.984 Hamm: 0.004 DistLoss: 0.746\n",
      "Epoch: 6 [batch 60/243 (24.69%)] \n",
      "\tJacc: 1.000 Hamm: 0.000 DistLoss: 0.780\n",
      "Epoch: 6 [batch 70/243 (28.81%)] \n",
      "\tJacc: 0.980 Hamm: 0.004 DistLoss: 0.785\n",
      "Epoch: 6 [batch 80/243 (32.92%)] \n",
      "\tJacc: 0.936 Hamm: 0.009 DistLoss: 0.811\n",
      "Epoch: 6 [batch 90/243 (37.04%)] \n",
      "\tJacc: 0.841 Hamm: 0.004 DistLoss: 0.836\n"
     ]
    },
    {
     "name": "stderr",
     "output_type": "stream",
     "text": [
      "/home/shreyas/miniconda3/envs/opensoundscape/lib/python3.7/site-packages/sklearn/metrics/_classification.py:1318: UndefinedMetricWarning: Jaccard is ill-defined and being set to 0.0 in labels with no true or predicted samples. Use `zero_division` parameter to control this behavior.\n",
      "  _warn_prf(average, modifier, msg_start, len(result))\n"
     ]
    },
    {
     "name": "stdout",
     "output_type": "stream",
     "text": [
      "Epoch: 6 [batch 100/243 (41.15%)] \n",
      "\tJacc: 0.958 Hamm: 0.009 DistLoss: 0.881\n",
      "Epoch: 6 [batch 110/243 (45.27%)] \n",
      "\tJacc: 0.822 Hamm: 0.027 DistLoss: 0.905\n",
      "Epoch: 6 [batch 120/243 (49.38%)] \n",
      "\tJacc: 0.952 Hamm: 0.009 DistLoss: 0.897\n",
      "Epoch: 6 [batch 130/243 (53.50%)] \n",
      "\tJacc: 0.982 Hamm: 0.004 DistLoss: 0.908\n",
      "Epoch: 6 [batch 140/243 (57.61%)] \n",
      "\tJacc: 0.971 Hamm: 0.004 DistLoss: 0.898\n",
      "Epoch: 6 [batch 150/243 (61.73%)] \n",
      "\tJacc: 1.000 Hamm: 0.000 DistLoss: 0.918\n",
      "Epoch: 6 [batch 160/243 (65.84%)] \n",
      "\tJacc: 1.000 Hamm: 0.000 DistLoss: 0.908\n",
      "Epoch: 6 [batch 170/243 (69.96%)] \n",
      "\tJacc: 0.935 Hamm: 0.009 DistLoss: 0.889\n",
      "Epoch: 6 [batch 180/243 (74.07%)] \n",
      "\tJacc: 1.000 Hamm: 0.000 DistLoss: 0.879\n",
      "Epoch: 6 [batch 190/243 (78.19%)] \n",
      "\tJacc: 0.957 Hamm: 0.013 DistLoss: 0.887\n",
      "Epoch: 6 [batch 200/243 (82.30%)] \n",
      "\tJacc: 0.971 Hamm: 0.004 DistLoss: 0.884\n",
      "Epoch: 6 [batch 210/243 (86.42%)] \n",
      "\tJacc: 0.819 Hamm: 0.009 DistLoss: 0.890\n"
     ]
    },
    {
     "name": "stderr",
     "output_type": "stream",
     "text": [
      "/home/shreyas/miniconda3/envs/opensoundscape/lib/python3.7/site-packages/sklearn/metrics/_classification.py:1318: UndefinedMetricWarning: Jaccard is ill-defined and being set to 0.0 in labels with no true or predicted samples. Use `zero_division` parameter to control this behavior.\n",
      "  _warn_prf(average, modifier, msg_start, len(result))\n"
     ]
    },
    {
     "name": "stdout",
     "output_type": "stream",
     "text": [
      "Epoch: 6 [batch 220/243 (90.53%)] \n",
      "\tJacc: 0.980 Hamm: 0.004 DistLoss: 0.889\n",
      "Epoch: 6 [batch 230/243 (94.65%)] \n",
      "\tJacc: 0.976 Hamm: 0.004 DistLoss: 0.893\n",
      "Epoch: 6 [batch 240/243 (98.77%)] \n",
      "\tJacc: 1.000 Hamm: 0.000 DistLoss: 0.880\n",
      "\n",
      "Validation.\n",
      "(1944, 7)\n",
      "\t Precision: 0.9659072031101962\n",
      "\t Recall: 0.9631247061926196\n",
      "\t F1: 0.9643992517779283\n",
      "Updating best model\n",
      "Epoch: 7 [batch 0/243 (0.00%)] \n",
      "\tJacc: 0.881 Hamm: 0.018 DistLoss: 1.291\n",
      "Epoch: 7 [batch 10/243 (4.12%)] \n",
      "\tJacc: 0.980 Hamm: 0.004 DistLoss: 0.844\n",
      "Epoch: 7 [batch 20/243 (8.23%)] \n",
      "\tJacc: 0.907 Hamm: 0.013 DistLoss: 0.925\n",
      "Epoch: 7 [batch 30/243 (12.35%)] \n",
      "\tJacc: 1.000 Hamm: 0.000 DistLoss: 0.816\n",
      "Epoch: 7 [batch 40/243 (16.46%)] \n",
      "\tJacc: 0.745 Hamm: 0.018 DistLoss: 0.914\n"
     ]
    },
    {
     "name": "stderr",
     "output_type": "stream",
     "text": [
      "/home/shreyas/miniconda3/envs/opensoundscape/lib/python3.7/site-packages/sklearn/metrics/_classification.py:1318: UndefinedMetricWarning: Jaccard is ill-defined and being set to 0.0 in labels with no true or predicted samples. Use `zero_division` parameter to control this behavior.\n",
      "  _warn_prf(average, modifier, msg_start, len(result))\n"
     ]
    },
    {
     "name": "stdout",
     "output_type": "stream",
     "text": [
      "Epoch: 7 [batch 50/243 (20.58%)] \n",
      "\tJacc: 1.000 Hamm: 0.000 DistLoss: 0.826\n",
      "Epoch: 7 [batch 60/243 (24.69%)] \n",
      "\tJacc: 0.950 Hamm: 0.009 DistLoss: 0.891\n",
      "Epoch: 7 [batch 70/243 (28.81%)] \n",
      "\tJacc: 0.964 Hamm: 0.004 DistLoss: 0.926\n",
      "Epoch: 7 [batch 80/243 (32.92%)] \n",
      "\tJacc: 0.960 Hamm: 0.009 DistLoss: 0.941\n",
      "Epoch: 7 [batch 90/243 (37.04%)] \n",
      "\tJacc: 0.916 Hamm: 0.018 DistLoss: 0.950\n",
      "Epoch: 7 [batch 100/243 (41.15%)] \n",
      "\tJacc: 1.000 Hamm: 0.000 DistLoss: 0.997\n",
      "Epoch: 7 [batch 110/243 (45.27%)] \n",
      "\tJacc: 0.765 Hamm: 0.013 DistLoss: 1.007\n",
      "Epoch: 7 [batch 120/243 (49.38%)] \n",
      "\tJacc: 0.976 Hamm: 0.004 DistLoss: 1.003\n",
      "Epoch: 7 [batch 130/243 (53.50%)] \n",
      "\tJacc: 1.000 Hamm: 0.000 DistLoss: 0.994\n",
      "Epoch: 7 [batch 140/243 (57.61%)] \n",
      "\tJacc: 1.000 Hamm: 0.000 DistLoss: 0.988\n",
      "Epoch: 7 [batch 150/243 (61.73%)] \n",
      "\tJacc: 0.968 Hamm: 0.009 DistLoss: 0.973\n",
      "Epoch: 7 [batch 160/243 (65.84%)] \n",
      "\tJacc: 0.923 Hamm: 0.013 DistLoss: 0.973\n",
      "Epoch: 7 [batch 170/243 (69.96%)] \n",
      "\tJacc: 0.839 Hamm: 0.018 DistLoss: 0.975\n",
      "Epoch: 7 [batch 180/243 (74.07%)] \n",
      "\tJacc: 1.000 Hamm: 0.000 DistLoss: 0.974\n",
      "Epoch: 7 [batch 190/243 (78.19%)] \n",
      "\tJacc: 0.971 Hamm: 0.004 DistLoss: 0.964\n",
      "Epoch: 7 [batch 200/243 (82.30%)] \n",
      "\tJacc: 1.000 Hamm: 0.000 DistLoss: 0.979\n"
     ]
    },
    {
     "name": "stderr",
     "output_type": "stream",
     "text": [
      "/home/shreyas/miniconda3/envs/opensoundscape/lib/python3.7/site-packages/scipy/signal/spectral.py:1966: UserWarning: nperseg = 512 is greater than input length  = 468, using nperseg = 468\n",
      "  .format(nperseg, input_length))\n"
     ]
    },
    {
     "name": "stdout",
     "output_type": "stream",
     "text": [
      "Epoch: 7 [batch 210/243 (86.42%)] \n",
      "\tJacc: 1.000 Hamm: 0.000 DistLoss: 0.966\n",
      "Epoch: 7 [batch 220/243 (90.53%)] \n",
      "\tJacc: 1.000 Hamm: 0.000 DistLoss: 0.982\n",
      "Epoch: 7 [batch 230/243 (94.65%)] \n",
      "\tJacc: 1.000 Hamm: 0.000 DistLoss: 0.970\n",
      "Epoch: 7 [batch 240/243 (98.77%)] \n",
      "\tJacc: 0.881 Hamm: 0.018 DistLoss: 0.969\n",
      "\n",
      "Validation.\n",
      "(1944, 7)\n",
      "\t Precision: 0.9539433737897086\n",
      "\t Recall: 0.974609694383784\n",
      "\t F1: 0.9636476535225214\n",
      "Epoch: 8 [batch 0/243 (0.00%)] \n",
      "\tJacc: 1.000 Hamm: 0.000 DistLoss: 0.310\n",
      "Epoch: 8 [batch 10/243 (4.12%)] \n",
      "\tJacc: 0.786 Hamm: 0.009 DistLoss: 0.945\n"
     ]
    },
    {
     "name": "stderr",
     "output_type": "stream",
     "text": [
      "/home/shreyas/miniconda3/envs/opensoundscape/lib/python3.7/site-packages/sklearn/metrics/_classification.py:1318: UndefinedMetricWarning: Jaccard is ill-defined and being set to 0.0 in labels with no true or predicted samples. Use `zero_division` parameter to control this behavior.\n",
      "  _warn_prf(average, modifier, msg_start, len(result))\n"
     ]
    },
    {
     "name": "stdout",
     "output_type": "stream",
     "text": [
      "Epoch: 8 [batch 20/243 (8.23%)] \n",
      "\tJacc: 0.816 Hamm: 0.009 DistLoss: 0.861\n"
     ]
    },
    {
     "name": "stderr",
     "output_type": "stream",
     "text": [
      "/home/shreyas/miniconda3/envs/opensoundscape/lib/python3.7/site-packages/sklearn/metrics/_classification.py:1318: UndefinedMetricWarning: Jaccard is ill-defined and being set to 0.0 in labels with no true or predicted samples. Use `zero_division` parameter to control this behavior.\n",
      "  _warn_prf(average, modifier, msg_start, len(result))\n"
     ]
    },
    {
     "name": "stdout",
     "output_type": "stream",
     "text": [
      "Epoch: 8 [batch 30/243 (12.35%)] \n",
      "\tJacc: 1.000 Hamm: 0.000 DistLoss: 0.911\n",
      "Epoch: 8 [batch 40/243 (16.46%)] \n",
      "\tJacc: 0.900 Hamm: 0.018 DistLoss: 0.847\n",
      "Epoch: 8 [batch 50/243 (20.58%)] \n",
      "\tJacc: 0.980 Hamm: 0.004 DistLoss: 0.766\n",
      "Epoch: 8 [batch 60/243 (24.69%)] \n",
      "\tJacc: 0.964 Hamm: 0.004 DistLoss: 0.744\n",
      "Epoch: 8 [batch 70/243 (28.81%)] \n",
      "\tJacc: 1.000 Hamm: 0.000 DistLoss: 0.698\n",
      "Epoch: 8 [batch 80/243 (32.92%)] \n",
      "\tJacc: 0.923 Hamm: 0.013 DistLoss: 0.746\n",
      "Epoch: 8 [batch 90/243 (37.04%)] \n",
      "\tJacc: 0.843 Hamm: 0.004 DistLoss: 0.743\n"
     ]
    },
    {
     "name": "stderr",
     "output_type": "stream",
     "text": [
      "/home/shreyas/miniconda3/envs/opensoundscape/lib/python3.7/site-packages/sklearn/metrics/_classification.py:1318: UndefinedMetricWarning: Jaccard is ill-defined and being set to 0.0 in labels with no true or predicted samples. Use `zero_division` parameter to control this behavior.\n",
      "  _warn_prf(average, modifier, msg_start, len(result))\n"
     ]
    },
    {
     "name": "stdout",
     "output_type": "stream",
     "text": [
      "Epoch: 8 [batch 100/243 (41.15%)] \n",
      "\tJacc: 0.903 Hamm: 0.018 DistLoss: 0.742\n",
      "Epoch: 8 [batch 110/243 (45.27%)] \n",
      "\tJacc: 0.907 Hamm: 0.013 DistLoss: 0.758\n",
      "Epoch: 8 [batch 120/243 (49.38%)] \n",
      "\tJacc: 0.857 Hamm: 0.000 DistLoss: 0.759\n"
     ]
    },
    {
     "name": "stderr",
     "output_type": "stream",
     "text": [
      "/home/shreyas/miniconda3/envs/opensoundscape/lib/python3.7/site-packages/sklearn/metrics/_classification.py:1318: UndefinedMetricWarning: Jaccard is ill-defined and being set to 0.0 in labels with no true or predicted samples. Use `zero_division` parameter to control this behavior.\n",
      "  _warn_prf(average, modifier, msg_start, len(result))\n"
     ]
    },
    {
     "name": "stdout",
     "output_type": "stream",
     "text": [
      "Epoch: 8 [batch 130/243 (53.50%)] \n",
      "\tJacc: 0.881 Hamm: 0.013 DistLoss: 0.786\n"
     ]
    },
    {
     "name": "stderr",
     "output_type": "stream",
     "text": [
      "/home/shreyas/miniconda3/envs/opensoundscape/lib/python3.7/site-packages/scipy/signal/spectral.py:1966: UserWarning: nperseg = 512 is greater than input length  = 468, using nperseg = 468\n",
      "  .format(nperseg, input_length))\n"
     ]
    },
    {
     "name": "stdout",
     "output_type": "stream",
     "text": [
      "Epoch: 8 [batch 140/243 (57.61%)] \n",
      "\tJacc: 0.964 Hamm: 0.004 DistLoss: 0.791\n",
      "Epoch: 8 [batch 150/243 (61.73%)] \n",
      "\tJacc: 1.000 Hamm: 0.000 DistLoss: 0.803\n",
      "Epoch: 8 [batch 160/243 (65.84%)] \n",
      "\tJacc: 1.000 Hamm: 0.000 DistLoss: 0.801\n",
      "Epoch: 8 [batch 170/243 (69.96%)] \n",
      "\tJacc: 0.875 Hamm: 0.018 DistLoss: 0.788\n",
      "Epoch: 8 [batch 180/243 (74.07%)] \n",
      "\tJacc: 0.982 Hamm: 0.004 DistLoss: 0.814\n",
      "Epoch: 8 [batch 190/243 (78.19%)] \n",
      "\tJacc: 0.908 Hamm: 0.018 DistLoss: 0.835\n",
      "Epoch: 8 [batch 200/243 (82.30%)] \n",
      "\tJacc: 0.918 Hamm: 0.013 DistLoss: 0.837\n",
      "Epoch: 8 [batch 210/243 (86.42%)] \n",
      "\tJacc: 1.000 Hamm: 0.000 DistLoss: 0.819\n",
      "Epoch: 8 [batch 220/243 (90.53%)] \n",
      "\tJacc: 0.929 Hamm: 0.004 DistLoss: 0.809\n",
      "Epoch: 8 [batch 230/243 (94.65%)] \n",
      "\tJacc: 1.000 Hamm: 0.000 DistLoss: 0.808\n",
      "Epoch: 8 [batch 240/243 (98.77%)] \n",
      "\tJacc: 0.913 Hamm: 0.018 DistLoss: 0.797\n",
      "\n",
      "Validation.\n",
      "(1944, 7)\n",
      "\t Precision: 0.9777752229919948\n",
      "\t Recall: 0.968198951122244\n",
      "\t F1: 0.972684069708943\n",
      "Updating best model\n",
      "Epoch: 9 [batch 0/243 (0.00%)] \n",
      "\tJacc: 1.000 Hamm: 0.000 DistLoss: 0.154\n",
      "Epoch: 9 [batch 10/243 (4.12%)] \n",
      "\tJacc: 1.000 Hamm: 0.000 DistLoss: 0.609\n",
      "Epoch: 9 [batch 20/243 (8.23%)] \n",
      "\tJacc: 0.879 Hamm: 0.018 DistLoss: 0.718\n",
      "Epoch: 9 [batch 30/243 (12.35%)] \n",
      "\tJacc: 0.913 Hamm: 0.018 DistLoss: 0.779\n",
      "Epoch: 9 [batch 40/243 (16.46%)] \n",
      "\tJacc: 0.935 Hamm: 0.009 DistLoss: 0.793\n",
      "Epoch: 9 [batch 50/243 (20.58%)] \n",
      "\tJacc: 0.964 Hamm: 0.009 DistLoss: 0.748\n",
      "Epoch: 9 [batch 60/243 (24.69%)] \n",
      "\tJacc: 0.943 Hamm: 0.009 DistLoss: 0.711\n",
      "Epoch: 9 [batch 70/243 (28.81%)] \n",
      "\tJacc: 1.000 Hamm: 0.000 DistLoss: 0.673\n",
      "Epoch: 9 [batch 80/243 (32.92%)] \n",
      "\tJacc: 0.948 Hamm: 0.009 DistLoss: 0.707\n",
      "Epoch: 9 [batch 90/243 (37.04%)] \n",
      "\tJacc: 0.864 Hamm: 0.018 DistLoss: 0.702\n",
      "Epoch: 9 [batch 100/243 (41.15%)] \n",
      "\tJacc: 1.000 Hamm: 0.000 DistLoss: 0.733\n",
      "Epoch: 9 [batch 110/243 (45.27%)] \n",
      "\tJacc: 0.826 Hamm: 0.031 DistLoss: 0.737\n",
      "Epoch: 9 [batch 120/243 (49.38%)] \n",
      "\tJacc: 1.000 Hamm: 0.000 DistLoss: 0.722\n",
      "Epoch: 9 [batch 130/243 (53.50%)] \n",
      "\tJacc: 1.000 Hamm: 0.000 DistLoss: 0.733\n",
      "Epoch: 9 [batch 140/243 (57.61%)] \n",
      "\tJacc: 1.000 Hamm: 0.000 DistLoss: 0.759\n",
      "Epoch: 9 [batch 150/243 (61.73%)] \n",
      "\tJacc: 0.852 Hamm: 0.022 DistLoss: 0.788\n",
      "Epoch: 9 [batch 160/243 (65.84%)] \n",
      "\tJacc: 0.869 Hamm: 0.013 DistLoss: 0.783\n",
      "Epoch: 9 [batch 170/243 (69.96%)] \n",
      "\tJacc: 0.881 Hamm: 0.018 DistLoss: 0.789\n"
     ]
    },
    {
     "name": "stderr",
     "output_type": "stream",
     "text": [
      "/home/shreyas/miniconda3/envs/opensoundscape/lib/python3.7/site-packages/scipy/signal/spectral.py:1966: UserWarning: nperseg = 512 is greater than input length  = 468, using nperseg = 468\n",
      "  .format(nperseg, input_length))\n"
     ]
    },
    {
     "name": "stdout",
     "output_type": "stream",
     "text": [
      "Epoch: 9 [batch 180/243 (74.07%)] \n",
      "\tJacc: 1.000 Hamm: 0.000 DistLoss: 0.788\n",
      "Epoch: 9 [batch 190/243 (78.19%)] \n",
      "\tJacc: 0.940 Hamm: 0.009 DistLoss: 0.779\n",
      "Epoch: 9 [batch 200/243 (82.30%)] \n",
      "\tJacc: 0.929 Hamm: 0.004 DistLoss: 0.792\n",
      "Epoch: 9 [batch 210/243 (86.42%)] \n",
      "\tJacc: 0.900 Hamm: 0.013 DistLoss: 0.793\n",
      "Epoch: 9 [batch 220/243 (90.53%)] \n",
      "\tJacc: 1.000 Hamm: 0.000 DistLoss: 0.791\n",
      "Epoch: 9 [batch 230/243 (94.65%)] \n",
      "\tJacc: 0.804 Hamm: 0.009 DistLoss: 0.783\n"
     ]
    },
    {
     "name": "stderr",
     "output_type": "stream",
     "text": [
      "/home/shreyas/miniconda3/envs/opensoundscape/lib/python3.7/site-packages/sklearn/metrics/_classification.py:1318: UndefinedMetricWarning: Jaccard is ill-defined and being set to 0.0 in labels with no true or predicted samples. Use `zero_division` parameter to control this behavior.\n",
      "  _warn_prf(average, modifier, msg_start, len(result))\n"
     ]
    },
    {
     "name": "stdout",
     "output_type": "stream",
     "text": [
      "Epoch: 9 [batch 240/243 (98.77%)] \n",
      "\tJacc: 1.000 Hamm: 0.000 DistLoss: 0.771\n",
      "\n",
      "Validation.\n",
      "(1944, 7)\n",
      "\t Precision: 0.9590872890710492\n",
      "\t Recall: 0.9623449170935399\n",
      "\t F1: 0.9599669867932056\n",
      "Saving weights, metrics, and train/valid scores.\n",
      "\n",
      "Best Model Appears at Epoch 8 with F1 0.973.\n"
     ]
    }
   ],
   "source": [
    "model.sampler = 'imbalanced'\n",
    "model.train(\n",
    "    train_dataset=train_dataset,\n",
    "    valid_dataset=valid_dataset,\n",
    "    save_path='./multilabel_train_seven_classes_xeno_canto/',\n",
    "    epochs=10,\n",
    "    batch_size=32,\n",
    "    save_interval=100,\n",
    "    num_workers=2\n",
    ")"
   ]
  },
  {
   "cell_type": "markdown",
   "id": "6a6a443c",
   "metadata": {},
   "source": [
    "### Plot the loss"
   ]
  },
  {
   "cell_type": "code",
   "execution_count": 15,
   "id": "bdc8c34f",
   "metadata": {},
   "outputs": [
    {
     "data": {
      "image/png": "[encoded data removed]",
      "text/plain": [
       "<Figure size 432x288 with 1 Axes>"
      ]
     },
     "metadata": {
      "needs_background": "light"
     },
     "output_type": "display_data"
    }
   ],
   "source": [
    "plt.plot(model.loss_hist.keys(),model.loss_hist.values())\n",
    "plt.xlabel('Epoch')\n",
    "plt.ylabel('Loss')\n",
    "plt.title('Plot of Loss vs Epochs')\n",
    "plt.show()"
   ]
  },
  {
   "cell_type": "markdown",
   "id": "f9d20ddc",
   "metadata": {},
   "source": [
    "### Load the best model (based on validation set) and evaluate on test set"
   ]
  },
  {
   "cell_type": "code",
   "execution_count": 16,
   "id": "82fabe8c",
   "metadata": {},
   "outputs": [],
   "source": [
    "model = load_model('./multilabel_train_seven_classes_xeno_canto/best.model')\n",
    "prediction_dataset = model.train_dataset.sample(n=0)\n",
    "prediction_dataset.augmentation_off()\n",
    "prediction_dataset.df = test_df"
   ]
  },
  {
   "cell_type": "code",
   "execution_count": 17,
   "id": "20f04fa6",
   "metadata": {},
   "outputs": [
    {
     "data": {
      "text/html": [
       "<div>\n",
       "<style scoped>\n",
       "    .dataframe tbody tr th:only-of-type {\n",
       "        vertical-align: middle;\n",
       "    }\n",
       "\n",
       "    .dataframe tbody tr th {\n",
       "        vertical-align: top;\n",
       "    }\n",
       "\n",
       "    .dataframe thead th {\n",
       "        text-align: right;\n",
       "    }\n",
       "</style>\n",
       "<table border=\"1\" class=\"dataframe\">\n",
       "  <thead>\n",
       "    <tr style=\"text-align: right;\">\n",
       "      <th></th>\n",
       "      <th>Toucan</th>\n",
       "      <th>Antshrike</th>\n",
       "      <th>Tody-Tyrant</th>\n",
       "      <th>Vireo</th>\n",
       "      <th>Kingbird</th>\n",
       "      <th>None</th>\n",
       "      <th>Antwren</th>\n",
       "    </tr>\n",
       "    <tr>\n",
       "      <th>file</th>\n",
       "      <th></th>\n",
       "      <th></th>\n",
       "      <th></th>\n",
       "      <th></th>\n",
       "      <th></th>\n",
       "      <th></th>\n",
       "      <th></th>\n",
       "    </tr>\n",
       "  </thead>\n",
       "  <tbody>\n",
       "    <tr>\n",
       "      <th>./temp_clips/../XenoCanto_Data/Training_Xeno_Canto_2022/Hemitriccus-griseipectus-11801_0.0s_3.0s.wav</th>\n",
       "      <td>0</td>\n",
       "      <td>0</td>\n",
       "      <td>1</td>\n",
       "      <td>0</td>\n",
       "      <td>0</td>\n",
       "      <td>0</td>\n",
       "      <td>0</td>\n",
       "    </tr>\n",
       "    <tr>\n",
       "      <th>./temp_clips/../XenoCanto_Data/Training_Xeno_Canto_2022/Hemitriccus-griseipectus-11801_3.0s_6.0s.wav</th>\n",
       "      <td>0</td>\n",
       "      <td>0</td>\n",
       "      <td>1</td>\n",
       "      <td>0</td>\n",
       "      <td>0</td>\n",
       "      <td>0</td>\n",
       "      <td>0</td>\n",
       "    </tr>\n",
       "    <tr>\n",
       "      <th>./temp_clips/../XenoCanto_Data/Training_Xeno_Canto_2022/Hemitriccus-griseipectus-11801_6.0s_9.0s.wav</th>\n",
       "      <td>0</td>\n",
       "      <td>0</td>\n",
       "      <td>1</td>\n",
       "      <td>0</td>\n",
       "      <td>0</td>\n",
       "      <td>0</td>\n",
       "      <td>0</td>\n",
       "    </tr>\n",
       "    <tr>\n",
       "      <th>./temp_clips/../XenoCanto_Data/Training_Xeno_Canto_2022/Hemitriccus-griseipectus-11801_9.0s_12.0s.wav</th>\n",
       "      <td>0</td>\n",
       "      <td>0</td>\n",
       "      <td>1</td>\n",
       "      <td>0</td>\n",
       "      <td>0</td>\n",
       "      <td>0</td>\n",
       "      <td>0</td>\n",
       "    </tr>\n",
       "    <tr>\n",
       "      <th>./temp_clips/../XenoCanto_Data/Training_Xeno_Canto_2022/Hemitriccus-griseipectus-11801_12.0s_15.0s.wav</th>\n",
       "      <td>0</td>\n",
       "      <td>0</td>\n",
       "      <td>1</td>\n",
       "      <td>0</td>\n",
       "      <td>0</td>\n",
       "      <td>0</td>\n",
       "      <td>0</td>\n",
       "    </tr>\n",
       "    <tr>\n",
       "      <th>...</th>\n",
       "      <td>...</td>\n",
       "      <td>...</td>\n",
       "      <td>...</td>\n",
       "      <td>...</td>\n",
       "      <td>...</td>\n",
       "      <td>...</td>\n",
       "      <td>...</td>\n",
       "    </tr>\n",
       "    <tr>\n",
       "      <th>./temp_clips/../Absent/20190705_171000_15.WAV</th>\n",
       "      <td>0</td>\n",
       "      <td>0</td>\n",
       "      <td>0</td>\n",
       "      <td>0</td>\n",
       "      <td>0</td>\n",
       "      <td>1</td>\n",
       "      <td>0</td>\n",
       "    </tr>\n",
       "    <tr>\n",
       "      <th>./temp_clips/../Absent/20190705_171000_16.WAV</th>\n",
       "      <td>0</td>\n",
       "      <td>0</td>\n",
       "      <td>0</td>\n",
       "      <td>0</td>\n",
       "      <td>0</td>\n",
       "      <td>1</td>\n",
       "      <td>0</td>\n",
       "    </tr>\n",
       "    <tr>\n",
       "      <th>./temp_clips/../Absent/20190705_171000_17.WAV</th>\n",
       "      <td>0</td>\n",
       "      <td>0</td>\n",
       "      <td>0</td>\n",
       "      <td>0</td>\n",
       "      <td>0</td>\n",
       "      <td>1</td>\n",
       "      <td>0</td>\n",
       "    </tr>\n",
       "    <tr>\n",
       "      <th>./temp_clips/../Absent/20190705_171000_18.WAV</th>\n",
       "      <td>0</td>\n",
       "      <td>0</td>\n",
       "      <td>0</td>\n",
       "      <td>0</td>\n",
       "      <td>0</td>\n",
       "      <td>1</td>\n",
       "      <td>0</td>\n",
       "    </tr>\n",
       "    <tr>\n",
       "      <th>./temp_clips/../Absent/20190705_171000_19.WAV</th>\n",
       "      <td>0</td>\n",
       "      <td>0</td>\n",
       "      <td>0</td>\n",
       "      <td>0</td>\n",
       "      <td>0</td>\n",
       "      <td>1</td>\n",
       "      <td>0</td>\n",
       "    </tr>\n",
       "  </tbody>\n",
       "</table>\n",
       "<p>570 rows × 7 columns</p>\n",
       "</div>"
      ],
      "text/plain": [
       "                                                    Toucan  Antshrike  \\\n",
       "file                                                                    \n",
       "./temp_clips/../XenoCanto_Data/Training_Xeno_Ca...       0          0   \n",
       "./temp_clips/../XenoCanto_Data/Training_Xeno_Ca...       0          0   \n",
       "./temp_clips/../XenoCanto_Data/Training_Xeno_Ca...       0          0   \n",
       "./temp_clips/../XenoCanto_Data/Training_Xeno_Ca...       0          0   \n",
       "./temp_clips/../XenoCanto_Data/Training_Xeno_Ca...       0          0   \n",
       "...                                                    ...        ...   \n",
       "./temp_clips/../Absent/20190705_171000_15.WAV            0          0   \n",
       "./temp_clips/../Absent/20190705_171000_16.WAV            0          0   \n",
       "./temp_clips/../Absent/20190705_171000_17.WAV            0          0   \n",
       "./temp_clips/../Absent/20190705_171000_18.WAV            0          0   \n",
       "./temp_clips/../Absent/20190705_171000_19.WAV            0          0   \n",
       "\n",
       "                                                    Tody-Tyrant  Vireo  \\\n",
       "file                                                                     \n",
       "./temp_clips/../XenoCanto_Data/Training_Xeno_Ca...            1      0   \n",
       "./temp_clips/../XenoCanto_Data/Training_Xeno_Ca...            1      0   \n",
       "./temp_clips/../XenoCanto_Data/Training_Xeno_Ca...            1      0   \n",
       "./temp_clips/../XenoCanto_Data/Training_Xeno_Ca...            1      0   \n",
       "./temp_clips/../XenoCanto_Data/Training_Xeno_Ca...            1      0   \n",
       "...                                                         ...    ...   \n",
       "./temp_clips/../Absent/20190705_171000_15.WAV                 0      0   \n",
       "./temp_clips/../Absent/20190705_171000_16.WAV                 0      0   \n",
       "./temp_clips/../Absent/20190705_171000_17.WAV                 0      0   \n",
       "./temp_clips/../Absent/20190705_171000_18.WAV                 0      0   \n",
       "./temp_clips/../Absent/20190705_171000_19.WAV                 0      0   \n",
       "\n",
       "                                                    Kingbird  None  Antwren  \n",
       "file                                                                         \n",
       "./temp_clips/../XenoCanto_Data/Training_Xeno_Ca...         0     0        0  \n",
       "./temp_clips/../XenoCanto_Data/Training_Xeno_Ca...         0     0        0  \n",
       "./temp_clips/../XenoCanto_Data/Training_Xeno_Ca...         0     0        0  \n",
       "./temp_clips/../XenoCanto_Data/Training_Xeno_Ca...         0     0        0  \n",
       "./temp_clips/../XenoCanto_Data/Training_Xeno_Ca...         0     0        0  \n",
       "...                                                      ...   ...      ...  \n",
       "./temp_clips/../Absent/20190705_171000_15.WAV              0     1        0  \n",
       "./temp_clips/../Absent/20190705_171000_16.WAV              0     1        0  \n",
       "./temp_clips/../Absent/20190705_171000_17.WAV              0     1        0  \n",
       "./temp_clips/../Absent/20190705_171000_18.WAV              0     1        0  \n",
       "./temp_clips/../Absent/20190705_171000_19.WAV              0     1        0  \n",
       "\n",
       "[570 rows x 7 columns]"
      ]
     },
     "execution_count": 17,
     "metadata": {},
     "output_type": "execute_result"
    }
   ],
   "source": [
    "prediction_dataset.df"
   ]
  },
  {
   "cell_type": "code",
   "execution_count": 18,
   "id": "61baea49",
   "metadata": {},
   "outputs": [
    {
     "name": "stdout",
     "output_type": "stream",
     "text": [
      "(570, 7)\n"
     ]
    }
   ],
   "source": [
    "valid_scores_df, valid_preds_df, valid_labels_df = model.predict(prediction_dataset,\n",
    "                                                                 binary_preds='single_target',\n",
    "                                                                 batch_size=16,\n",
    "                                                                 num_workers=2,\n",
    "                                                                 activation_layer='softmax')"
   ]
  },
  {
   "cell_type": "markdown",
   "id": "1fff067d",
   "metadata": {},
   "source": [
    "#### Print various metrics for the test set predictions"
   ]
  },
  {
   "cell_type": "code",
   "execution_count": 19,
   "id": "7591665a",
   "metadata": {},
   "outputs": [
    {
     "name": "stdout",
     "output_type": "stream",
     "text": [
      "              precision    recall  f1-score   support\n",
      "\n",
      "           0       0.88      1.00      0.93       107\n",
      "           1       0.00      0.00      0.00        25\n",
      "           2       0.91      0.96      0.94        83\n",
      "           3       0.95      0.95      0.95       102\n",
      "           4       0.97      0.98      0.97        85\n",
      "           5       1.00      0.94      0.97        66\n",
      "           6       0.79      0.83      0.81       102\n",
      "\n",
      "   micro avg       0.90      0.90      0.90       570\n",
      "   macro avg       0.79      0.81      0.80       570\n",
      "weighted avg       0.87      0.90      0.88       570\n",
      " samples avg       0.90      0.90      0.90       570\n",
      "\n"
     ]
    }
   ],
   "source": [
    "print(classification_report(valid_labels_df, valid_preds_df))"
   ]
  },
  {
   "cell_type": "markdown",
   "id": "a3152c6a",
   "metadata": {},
   "source": [
    "#### Plot the RIC curve and report AOC"
   ]
  },
  {
   "cell_type": "code",
   "execution_count": 20,
   "id": "b5501ee6",
   "metadata": {},
   "outputs": [
    {
     "data": {
      "image/png": "[encoded data removed]",
      "text/plain": [
       "<Figure size 432x288 with 1 Axes>"
      ]
     },
     "metadata": {
      "needs_background": "light"
     },
     "output_type": "display_data"
    }
   ],
   "source": [
    "fpr, tpr, thresh = roc_curve(valid_labels_df['Antwren'],  valid_scores_df['Antwren'])\n",
    "auc = roc_auc_score(valid_labels_df['Antwren'],  valid_preds_df['Antwren'])\n",
    "\n",
    "fpr2, tpr2, thresh2 = roc_curve(valid_labels_df['Kingbird'],  valid_scores_df['Kingbird'])\n",
    "auc2 = roc_auc_score(valid_labels_df['Kingbird'],  valid_preds_df['Kingbird'])\n",
    "\n",
    "fpr3, tpr3, thresh3 = roc_curve(valid_labels_df['Vireo'],  valid_scores_df['Vireo'])\n",
    "auc3 = roc_auc_score(valid_labels_df['Vireo'],  valid_preds_df['Vireo'])\n",
    "\n",
    "fpr4, tpr4, thresh4 = roc_curve(valid_labels_df['Toucan'],  valid_scores_df['Toucan'])\n",
    "auc4 = roc_auc_score(valid_labels_df['Toucan'],  valid_preds_df['Toucan'])\n",
    "\n",
    "fpr5, tpr5, thresh5 = roc_curve(valid_labels_df['Tody-Tyrant'],  valid_scores_df['Tody-Tyrant'])\n",
    "auc5 = roc_auc_score(valid_labels_df['Tody-Tyrant'],  valid_preds_df['Tody-Tyrant'])\n",
    "\n",
    "fpr6, tpr6, thresh6 = roc_curve(valid_labels_df['Antshrike'],  valid_scores_df['Antshrike'])\n",
    "auc6 = roc_auc_score(valid_labels_df['Antshrike'],  valid_preds_df['Antshrike'])\n",
    "\n",
    "fpr7, tpr7, thresh7 = roc_curve(valid_labels_df['None'],  valid_scores_df['None'])\n",
    "auc7 = roc_auc_score(valid_labels_df['None'],  valid_preds_df['None'])\n",
    "\n",
    "plt.plot(fpr,tpr,label=\"AUC Antwren\"+str(auc))\n",
    "plt.plot(fpr2,tpr2,label=\"AUC Kingbird\"+str(auc2))\n",
    "plt.plot(fpr3,tpr3,label=\"AUC Vireo\"+str(auc3))\n",
    "plt.plot(fpr4,tpr4,label=\"AUC Toucan\"+str(auc4))\n",
    "plt.plot(fpr5,tpr5,label=\"AUC Tody-Tyrant\"+str(auc5))\n",
    "plt.plot(fpr6,tpr6,label=\"AUC Antshrike\"+str(auc6))\n",
    "plt.plot(fpr7,tpr7,label=\"AUC Non-Bird\"+str(auc7))\n",
    "plt.title('Classwise ROC Curves')\n",
    "plt.ylabel('True Positive Rate')\n",
    "plt.xlabel('False Positive Rate')\n",
    "plt.legend()\n",
    "plt.show()"
   ]
  }
 ],
 "metadata": {
  "kernelspec": {
   "display_name": "Python 3 (ipykernel)",
   "language": "python",
   "name": "python3"
  },
  "language_info": {
   "codemirror_mode": {
    "name": "ipython",
    "version": 3
   },
   "file_extension": ".py",
   "mimetype": "text/x-python",
   "name": "python",
   "nbconvert_exporter": "python",
   "pygments_lexer": "ipython3",
   "version": "3.7.13"
  }
 },
 "nbformat": 4,
 "nbformat_minor": 5
}
