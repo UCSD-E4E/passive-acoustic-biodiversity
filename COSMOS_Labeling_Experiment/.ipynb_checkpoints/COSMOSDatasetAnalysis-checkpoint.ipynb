{
 "cells": [
  {
   "cell_type": "code",
   "execution_count": 1,
   "id": "ec67cc9e",
   "metadata": {},
   "outputs": [],
   "source": [
    "from PyHa.statistics import *\n",
    "from PyHa.IsoAutio import *\n",
    "from PyHa.visualizations import *\n",
    "from PyHa.annotation_post_processing import *\n",
    "import pandas as pd"
   ]
  },
  {
   "cell_type": "code",
   "execution_count": 2,
   "id": "addb4c03",
   "metadata": {},
   "outputs": [],
   "source": [
    "manual_df = pd.read_csv(\"cosmos_labeled_data_anonymized.csv\")"
   ]
  },
  {
   "cell_type": "code",
   "execution_count": 3,
   "id": "c89f746b",
   "metadata": {
    "scrolled": false
   },
   "outputs": [
    {
     "data": {
      "text/html": [
       "<div>\n",
       "<style scoped>\n",
       "    .dataframe tbody tr th:only-of-type {\n",
       "        vertical-align: middle;\n",
       "    }\n",
       "\n",
       "    .dataframe tbody tr th {\n",
       "        vertical-align: top;\n",
       "    }\n",
       "\n",
       "    .dataframe thead th {\n",
       "        text-align: right;\n",
       "    }\n",
       "</style>\n",
       "<table border=\"1\" class=\"dataframe\">\n",
       "  <thead>\n",
       "    <tr style=\"text-align: right;\">\n",
       "      <th></th>\n",
       "      <th>Unnamed: 0</th>\n",
       "      <th>IN FILE</th>\n",
       "      <th>CLIP LENGTH</th>\n",
       "      <th>OFFSET</th>\n",
       "      <th>DURATION</th>\n",
       "      <th>MAX FREQ</th>\n",
       "      <th>MIN FREQ</th>\n",
       "      <th>SAMPLE RATE</th>\n",
       "      <th>MANUAL ID</th>\n",
       "      <th>TIME_SPENT</th>\n",
       "      <th>LAST MOD BY</th>\n",
       "      <th>CONFIDENCE</th>\n",
       "      <th>RETIRED</th>\n",
       "      <th>COUNTED</th>\n",
       "      <th>FOLDER</th>\n",
       "      <th>COMMON</th>\n",
       "      <th>SCIENTIFIC</th>\n",
       "    </tr>\n",
       "  </thead>\n",
       "  <tbody>\n",
       "    <tr>\n",
       "      <th>0</th>\n",
       "      <td>0</td>\n",
       "      <td>XC87449_-_Scaly-breasted_Woodpecker_-_Celeus_g...</td>\n",
       "      <td>23.2956</td>\n",
       "      <td>0.7025</td>\n",
       "      <td>0.9199</td>\n",
       "      <td>24000</td>\n",
       "      <td>0</td>\n",
       "      <td>44100</td>\n",
       "      <td>Celeus grammicus</td>\n",
       "      <td>365.822</td>\n",
       "      <td>Jared Smith</td>\n",
       "      <td>0</td>\n",
       "      <td>False</td>\n",
       "      <td>0</td>\n",
       "      <td>./COSMOS</td>\n",
       "      <td>Scaly-breasted Woodpecker</td>\n",
       "      <td>Celeus grammicus</td>\n",
       "    </tr>\n",
       "    <tr>\n",
       "      <th>1</th>\n",
       "      <td>1</td>\n",
       "      <td>XC87449_-_Scaly-breasted_Woodpecker_-_Celeus_g...</td>\n",
       "      <td>23.2956</td>\n",
       "      <td>4.6223</td>\n",
       "      <td>0.9400</td>\n",
       "      <td>24000</td>\n",
       "      <td>0</td>\n",
       "      <td>44100</td>\n",
       "      <td>Celeus grammicus</td>\n",
       "      <td>365.822</td>\n",
       "      <td>Jared Smith</td>\n",
       "      <td>0</td>\n",
       "      <td>False</td>\n",
       "      <td>0</td>\n",
       "      <td>./COSMOS</td>\n",
       "      <td>Scaly-breasted Woodpecker</td>\n",
       "      <td>Celeus grammicus</td>\n",
       "    </tr>\n",
       "    <tr>\n",
       "      <th>2</th>\n",
       "      <td>2</td>\n",
       "      <td>XC87449_-_Scaly-breasted_Woodpecker_-_Celeus_g...</td>\n",
       "      <td>23.2956</td>\n",
       "      <td>11.4420</td>\n",
       "      <td>0.9300</td>\n",
       "      <td>24000</td>\n",
       "      <td>0</td>\n",
       "      <td>44100</td>\n",
       "      <td>Celeus grammicus</td>\n",
       "      <td>176.450</td>\n",
       "      <td>Jared Smith</td>\n",
       "      <td>0</td>\n",
       "      <td>False</td>\n",
       "      <td>0</td>\n",
       "      <td>./COSMOS</td>\n",
       "      <td>Scaly-breasted Woodpecker</td>\n",
       "      <td>Celeus grammicus</td>\n",
       "    </tr>\n",
       "    <tr>\n",
       "      <th>3</th>\n",
       "      <td>3</td>\n",
       "      <td>XC87449_-_Scaly-breasted_Woodpecker_-_Celeus_g...</td>\n",
       "      <td>23.2956</td>\n",
       "      <td>18.4117</td>\n",
       "      <td>0.8700</td>\n",
       "      <td>24000</td>\n",
       "      <td>0</td>\n",
       "      <td>44100</td>\n",
       "      <td>Celeus grammicus</td>\n",
       "      <td>365.822</td>\n",
       "      <td>Jared Smith</td>\n",
       "      <td>0</td>\n",
       "      <td>False</td>\n",
       "      <td>0</td>\n",
       "      <td>./COSMOS</td>\n",
       "      <td>Scaly-breasted Woodpecker</td>\n",
       "      <td>Celeus grammicus</td>\n",
       "    </tr>\n",
       "    <tr>\n",
       "      <th>4</th>\n",
       "      <td>4</td>\n",
       "      <td>XC87449_-_Scaly-breasted_Woodpecker_-_Celeus_g...</td>\n",
       "      <td>23.2956</td>\n",
       "      <td>21.9915</td>\n",
       "      <td>0.7600</td>\n",
       "      <td>24000</td>\n",
       "      <td>0</td>\n",
       "      <td>44100</td>\n",
       "      <td>Celeus grammicus</td>\n",
       "      <td>176.450</td>\n",
       "      <td>Jared Smith</td>\n",
       "      <td>0</td>\n",
       "      <td>False</td>\n",
       "      <td>0</td>\n",
       "      <td>./COSMOS</td>\n",
       "      <td>Scaly-breasted Woodpecker</td>\n",
       "      <td>Celeus grammicus</td>\n",
       "    </tr>\n",
       "    <tr>\n",
       "      <th>...</th>\n",
       "      <td>...</td>\n",
       "      <td>...</td>\n",
       "      <td>...</td>\n",
       "      <td>...</td>\n",
       "      <td>...</td>\n",
       "      <td>...</td>\n",
       "      <td>...</td>\n",
       "      <td>...</td>\n",
       "      <td>...</td>\n",
       "      <td>...</td>\n",
       "      <td>...</td>\n",
       "      <td>...</td>\n",
       "      <td>...</td>\n",
       "      <td>...</td>\n",
       "      <td>...</td>\n",
       "      <td>...</td>\n",
       "      <td>...</td>\n",
       "    </tr>\n",
       "    <tr>\n",
       "      <th>5187</th>\n",
       "      <td>5187</td>\n",
       "      <td>XC27942_-_Yellow-olive_Flatbill_-_Tolmomyias_s...</td>\n",
       "      <td>31.3404</td>\n",
       "      <td>15.4774</td>\n",
       "      <td>0.4799</td>\n",
       "      <td>24000</td>\n",
       "      <td>0</td>\n",
       "      <td>44100</td>\n",
       "      <td>Tolmomyias sulphurescens</td>\n",
       "      <td>76.420</td>\n",
       "      <td>Jason Benson</td>\n",
       "      <td>0</td>\n",
       "      <td>False</td>\n",
       "      <td>0</td>\n",
       "      <td>./COSMOS</td>\n",
       "      <td>Yellow-olive Flatbill</td>\n",
       "      <td>Tolmomyias sulphurescens</td>\n",
       "    </tr>\n",
       "    <tr>\n",
       "      <th>5188</th>\n",
       "      <td>5188</td>\n",
       "      <td>XC27942_-_Yellow-olive_Flatbill_-_Tolmomyias_s...</td>\n",
       "      <td>31.3404</td>\n",
       "      <td>5.4311</td>\n",
       "      <td>0.5899</td>\n",
       "      <td>24000</td>\n",
       "      <td>0</td>\n",
       "      <td>44100</td>\n",
       "      <td>Tolmomyias sulphurescens</td>\n",
       "      <td>76.420</td>\n",
       "      <td>Jason Benson</td>\n",
       "      <td>0</td>\n",
       "      <td>False</td>\n",
       "      <td>0</td>\n",
       "      <td>./COSMOS</td>\n",
       "      <td>Yellow-olive Flatbill</td>\n",
       "      <td>Tolmomyias sulphurescens</td>\n",
       "    </tr>\n",
       "    <tr>\n",
       "      <th>5189</th>\n",
       "      <td>5189</td>\n",
       "      <td>XC27942_-_Yellow-olive_Flatbill_-_Tolmomyias_s...</td>\n",
       "      <td>31.3404</td>\n",
       "      <td>7.1648</td>\n",
       "      <td>0.6299</td>\n",
       "      <td>24000</td>\n",
       "      <td>0</td>\n",
       "      <td>44100</td>\n",
       "      <td>Tolmomyias sulphurescens</td>\n",
       "      <td>76.420</td>\n",
       "      <td>Jason Benson</td>\n",
       "      <td>0</td>\n",
       "      <td>False</td>\n",
       "      <td>0</td>\n",
       "      <td>./COSMOS</td>\n",
       "      <td>Yellow-olive Flatbill</td>\n",
       "      <td>Tolmomyias sulphurescens</td>\n",
       "    </tr>\n",
       "    <tr>\n",
       "      <th>5190</th>\n",
       "      <td>5190</td>\n",
       "      <td>XC27942_-_Yellow-olive_Flatbill_-_Tolmomyias_s...</td>\n",
       "      <td>31.3404</td>\n",
       "      <td>10.3063</td>\n",
       "      <td>0.4499</td>\n",
       "      <td>24000</td>\n",
       "      <td>0</td>\n",
       "      <td>44100</td>\n",
       "      <td>Tolmomyias sulphurescens</td>\n",
       "      <td>76.420</td>\n",
       "      <td>Jason Benson</td>\n",
       "      <td>0</td>\n",
       "      <td>False</td>\n",
       "      <td>0</td>\n",
       "      <td>./COSMOS</td>\n",
       "      <td>Yellow-olive Flatbill</td>\n",
       "      <td>Tolmomyias sulphurescens</td>\n",
       "    </tr>\n",
       "    <tr>\n",
       "      <th>5191</th>\n",
       "      <td>5191</td>\n",
       "      <td>XC27942_-_Yellow-olive_Flatbill_-_Tolmomyias_s...</td>\n",
       "      <td>31.3404</td>\n",
       "      <td>11.5060</td>\n",
       "      <td>0.4900</td>\n",
       "      <td>24000</td>\n",
       "      <td>0</td>\n",
       "      <td>44100</td>\n",
       "      <td>Tolmomyias sulphurescens</td>\n",
       "      <td>76.420</td>\n",
       "      <td>Jason Benson</td>\n",
       "      <td>0</td>\n",
       "      <td>False</td>\n",
       "      <td>0</td>\n",
       "      <td>./COSMOS</td>\n",
       "      <td>Yellow-olive Flatbill</td>\n",
       "      <td>Tolmomyias sulphurescens</td>\n",
       "    </tr>\n",
       "  </tbody>\n",
       "</table>\n",
       "<p>5192 rows × 17 columns</p>\n",
       "</div>"
      ],
      "text/plain": [
       "      Unnamed: 0                                            IN FILE  \\\n",
       "0              0  XC87449_-_Scaly-breasted_Woodpecker_-_Celeus_g...   \n",
       "1              1  XC87449_-_Scaly-breasted_Woodpecker_-_Celeus_g...   \n",
       "2              2  XC87449_-_Scaly-breasted_Woodpecker_-_Celeus_g...   \n",
       "3              3  XC87449_-_Scaly-breasted_Woodpecker_-_Celeus_g...   \n",
       "4              4  XC87449_-_Scaly-breasted_Woodpecker_-_Celeus_g...   \n",
       "...          ...                                                ...   \n",
       "5187        5187  XC27942_-_Yellow-olive_Flatbill_-_Tolmomyias_s...   \n",
       "5188        5188  XC27942_-_Yellow-olive_Flatbill_-_Tolmomyias_s...   \n",
       "5189        5189  XC27942_-_Yellow-olive_Flatbill_-_Tolmomyias_s...   \n",
       "5190        5190  XC27942_-_Yellow-olive_Flatbill_-_Tolmomyias_s...   \n",
       "5191        5191  XC27942_-_Yellow-olive_Flatbill_-_Tolmomyias_s...   \n",
       "\n",
       "      CLIP LENGTH   OFFSET  DURATION  MAX FREQ  MIN FREQ  SAMPLE RATE  \\\n",
       "0         23.2956   0.7025    0.9199     24000         0        44100   \n",
       "1         23.2956   4.6223    0.9400     24000         0        44100   \n",
       "2         23.2956  11.4420    0.9300     24000         0        44100   \n",
       "3         23.2956  18.4117    0.8700     24000         0        44100   \n",
       "4         23.2956  21.9915    0.7600     24000         0        44100   \n",
       "...           ...      ...       ...       ...       ...          ...   \n",
       "5187      31.3404  15.4774    0.4799     24000         0        44100   \n",
       "5188      31.3404   5.4311    0.5899     24000         0        44100   \n",
       "5189      31.3404   7.1648    0.6299     24000         0        44100   \n",
       "5190      31.3404  10.3063    0.4499     24000         0        44100   \n",
       "5191      31.3404  11.5060    0.4900     24000         0        44100   \n",
       "\n",
       "                     MANUAL ID  TIME_SPENT   LAST MOD BY  CONFIDENCE  RETIRED  \\\n",
       "0             Celeus grammicus     365.822   Jared Smith           0    False   \n",
       "1             Celeus grammicus     365.822   Jared Smith           0    False   \n",
       "2             Celeus grammicus     176.450   Jared Smith           0    False   \n",
       "3             Celeus grammicus     365.822   Jared Smith           0    False   \n",
       "4             Celeus grammicus     176.450   Jared Smith           0    False   \n",
       "...                        ...         ...           ...         ...      ...   \n",
       "5187  Tolmomyias sulphurescens      76.420  Jason Benson           0    False   \n",
       "5188  Tolmomyias sulphurescens      76.420  Jason Benson           0    False   \n",
       "5189  Tolmomyias sulphurescens      76.420  Jason Benson           0    False   \n",
       "5190  Tolmomyias sulphurescens      76.420  Jason Benson           0    False   \n",
       "5191  Tolmomyias sulphurescens      76.420  Jason Benson           0    False   \n",
       "\n",
       "      COUNTED    FOLDER                     COMMON                SCIENTIFIC  \n",
       "0           0  ./COSMOS  Scaly-breasted Woodpecker          Celeus grammicus  \n",
       "1           0  ./COSMOS  Scaly-breasted Woodpecker          Celeus grammicus  \n",
       "2           0  ./COSMOS  Scaly-breasted Woodpecker          Celeus grammicus  \n",
       "3           0  ./COSMOS  Scaly-breasted Woodpecker          Celeus grammicus  \n",
       "4           0  ./COSMOS  Scaly-breasted Woodpecker          Celeus grammicus  \n",
       "...       ...       ...                        ...                       ...  \n",
       "5187        0  ./COSMOS      Yellow-olive Flatbill  Tolmomyias sulphurescens  \n",
       "5188        0  ./COSMOS      Yellow-olive Flatbill  Tolmomyias sulphurescens  \n",
       "5189        0  ./COSMOS      Yellow-olive Flatbill  Tolmomyias sulphurescens  \n",
       "5190        0  ./COSMOS      Yellow-olive Flatbill  Tolmomyias sulphurescens  \n",
       "5191        0  ./COSMOS      Yellow-olive Flatbill  Tolmomyias sulphurescens  \n",
       "\n",
       "[5192 rows x 17 columns]"
      ]
     },
     "execution_count": 3,
     "metadata": {},
     "output_type": "execute_result"
    }
   ],
   "source": [
    "manual_df"
   ]
  },
  {
   "cell_type": "code",
   "execution_count": 4,
   "id": "2104b9f9",
   "metadata": {},
   "outputs": [],
   "source": [
    "# setup and string parsing\n",
    "manual_df['MANUAL ID'] = manual_df['MANUAL ID'].replace('Bird', 'bird')\n",
    "manual_df['MANUAL ID'] = manual_df['MANUAL ID'].replace(' Rufous-collared Sparrow', 'Rufous-collared Sparrow')\n",
    "manual_df['MANUAL ID'] = manual_df['MANUAL ID'].replace(' Southern Nightingale-Wren', 'Southern Nightingale-Wren')"
   ]
  },
  {
   "cell_type": "code",
   "execution_count": 5,
   "id": "8ba433ed",
   "metadata": {},
   "outputs": [
    {
     "data": {
      "text/html": [
       "<div>\n",
       "<style scoped>\n",
       "    .dataframe tbody tr th:only-of-type {\n",
       "        vertical-align: middle;\n",
       "    }\n",
       "\n",
       "    .dataframe tbody tr th {\n",
       "        vertical-align: top;\n",
       "    }\n",
       "\n",
       "    .dataframe thead th {\n",
       "        text-align: right;\n",
       "    }\n",
       "</style>\n",
       "<table border=\"1\" class=\"dataframe\">\n",
       "  <thead>\n",
       "    <tr style=\"text-align: right;\">\n",
       "      <th></th>\n",
       "      <th>Unnamed: 0</th>\n",
       "      <th>IN FILE</th>\n",
       "      <th>CLIP LENGTH</th>\n",
       "      <th>OFFSET</th>\n",
       "      <th>DURATION</th>\n",
       "      <th>MAX FREQ</th>\n",
       "      <th>MIN FREQ</th>\n",
       "      <th>SAMPLE RATE</th>\n",
       "      <th>MANUAL ID</th>\n",
       "      <th>TIME_SPENT</th>\n",
       "      <th>LAST MOD BY</th>\n",
       "      <th>CONFIDENCE</th>\n",
       "      <th>RETIRED</th>\n",
       "      <th>COUNTED</th>\n",
       "      <th>FOLDER</th>\n",
       "      <th>COMMON</th>\n",
       "      <th>SCIENTIFIC</th>\n",
       "    </tr>\n",
       "  </thead>\n",
       "  <tbody>\n",
       "    <tr>\n",
       "      <th>0</th>\n",
       "      <td>0</td>\n",
       "      <td>XC87449_-_Scaly-breasted_Woodpecker_-_Celeus_g...</td>\n",
       "      <td>23.2956</td>\n",
       "      <td>0.7025</td>\n",
       "      <td>0.9199</td>\n",
       "      <td>24000</td>\n",
       "      <td>0</td>\n",
       "      <td>44100</td>\n",
       "      <td>Celeus grammicus</td>\n",
       "      <td>365.822</td>\n",
       "      <td>Jared Smith</td>\n",
       "      <td>0</td>\n",
       "      <td>False</td>\n",
       "      <td>0</td>\n",
       "      <td>./COSMOS</td>\n",
       "      <td>Scaly-breasted Woodpecker</td>\n",
       "      <td>Celeus grammicus</td>\n",
       "    </tr>\n",
       "    <tr>\n",
       "      <th>1</th>\n",
       "      <td>1</td>\n",
       "      <td>XC87449_-_Scaly-breasted_Woodpecker_-_Celeus_g...</td>\n",
       "      <td>23.2956</td>\n",
       "      <td>4.6223</td>\n",
       "      <td>0.9400</td>\n",
       "      <td>24000</td>\n",
       "      <td>0</td>\n",
       "      <td>44100</td>\n",
       "      <td>Celeus grammicus</td>\n",
       "      <td>365.822</td>\n",
       "      <td>Jared Smith</td>\n",
       "      <td>0</td>\n",
       "      <td>False</td>\n",
       "      <td>0</td>\n",
       "      <td>./COSMOS</td>\n",
       "      <td>Scaly-breasted Woodpecker</td>\n",
       "      <td>Celeus grammicus</td>\n",
       "    </tr>\n",
       "    <tr>\n",
       "      <th>2</th>\n",
       "      <td>2</td>\n",
       "      <td>XC87449_-_Scaly-breasted_Woodpecker_-_Celeus_g...</td>\n",
       "      <td>23.2956</td>\n",
       "      <td>11.4420</td>\n",
       "      <td>0.9300</td>\n",
       "      <td>24000</td>\n",
       "      <td>0</td>\n",
       "      <td>44100</td>\n",
       "      <td>Celeus grammicus</td>\n",
       "      <td>176.450</td>\n",
       "      <td>Jared Smith</td>\n",
       "      <td>0</td>\n",
       "      <td>False</td>\n",
       "      <td>0</td>\n",
       "      <td>./COSMOS</td>\n",
       "      <td>Scaly-breasted Woodpecker</td>\n",
       "      <td>Celeus grammicus</td>\n",
       "    </tr>\n",
       "    <tr>\n",
       "      <th>3</th>\n",
       "      <td>3</td>\n",
       "      <td>XC87449_-_Scaly-breasted_Woodpecker_-_Celeus_g...</td>\n",
       "      <td>23.2956</td>\n",
       "      <td>18.4117</td>\n",
       "      <td>0.8700</td>\n",
       "      <td>24000</td>\n",
       "      <td>0</td>\n",
       "      <td>44100</td>\n",
       "      <td>Celeus grammicus</td>\n",
       "      <td>365.822</td>\n",
       "      <td>Jared Smith</td>\n",
       "      <td>0</td>\n",
       "      <td>False</td>\n",
       "      <td>0</td>\n",
       "      <td>./COSMOS</td>\n",
       "      <td>Scaly-breasted Woodpecker</td>\n",
       "      <td>Celeus grammicus</td>\n",
       "    </tr>\n",
       "    <tr>\n",
       "      <th>4</th>\n",
       "      <td>4</td>\n",
       "      <td>XC87449_-_Scaly-breasted_Woodpecker_-_Celeus_g...</td>\n",
       "      <td>23.2956</td>\n",
       "      <td>21.9915</td>\n",
       "      <td>0.7600</td>\n",
       "      <td>24000</td>\n",
       "      <td>0</td>\n",
       "      <td>44100</td>\n",
       "      <td>Celeus grammicus</td>\n",
       "      <td>176.450</td>\n",
       "      <td>Jared Smith</td>\n",
       "      <td>0</td>\n",
       "      <td>False</td>\n",
       "      <td>0</td>\n",
       "      <td>./COSMOS</td>\n",
       "      <td>Scaly-breasted Woodpecker</td>\n",
       "      <td>Celeus grammicus</td>\n",
       "    </tr>\n",
       "    <tr>\n",
       "      <th>...</th>\n",
       "      <td>...</td>\n",
       "      <td>...</td>\n",
       "      <td>...</td>\n",
       "      <td>...</td>\n",
       "      <td>...</td>\n",
       "      <td>...</td>\n",
       "      <td>...</td>\n",
       "      <td>...</td>\n",
       "      <td>...</td>\n",
       "      <td>...</td>\n",
       "      <td>...</td>\n",
       "      <td>...</td>\n",
       "      <td>...</td>\n",
       "      <td>...</td>\n",
       "      <td>...</td>\n",
       "      <td>...</td>\n",
       "      <td>...</td>\n",
       "    </tr>\n",
       "    <tr>\n",
       "      <th>5187</th>\n",
       "      <td>5187</td>\n",
       "      <td>XC27942_-_Yellow-olive_Flatbill_-_Tolmomyias_s...</td>\n",
       "      <td>31.3404</td>\n",
       "      <td>15.4774</td>\n",
       "      <td>0.4799</td>\n",
       "      <td>24000</td>\n",
       "      <td>0</td>\n",
       "      <td>44100</td>\n",
       "      <td>Tolmomyias sulphurescens</td>\n",
       "      <td>76.420</td>\n",
       "      <td>Jason Benson</td>\n",
       "      <td>0</td>\n",
       "      <td>False</td>\n",
       "      <td>0</td>\n",
       "      <td>./COSMOS</td>\n",
       "      <td>Yellow-olive Flatbill</td>\n",
       "      <td>Tolmomyias sulphurescens</td>\n",
       "    </tr>\n",
       "    <tr>\n",
       "      <th>5188</th>\n",
       "      <td>5188</td>\n",
       "      <td>XC27942_-_Yellow-olive_Flatbill_-_Tolmomyias_s...</td>\n",
       "      <td>31.3404</td>\n",
       "      <td>5.4311</td>\n",
       "      <td>0.5899</td>\n",
       "      <td>24000</td>\n",
       "      <td>0</td>\n",
       "      <td>44100</td>\n",
       "      <td>Tolmomyias sulphurescens</td>\n",
       "      <td>76.420</td>\n",
       "      <td>Jason Benson</td>\n",
       "      <td>0</td>\n",
       "      <td>False</td>\n",
       "      <td>0</td>\n",
       "      <td>./COSMOS</td>\n",
       "      <td>Yellow-olive Flatbill</td>\n",
       "      <td>Tolmomyias sulphurescens</td>\n",
       "    </tr>\n",
       "    <tr>\n",
       "      <th>5189</th>\n",
       "      <td>5189</td>\n",
       "      <td>XC27942_-_Yellow-olive_Flatbill_-_Tolmomyias_s...</td>\n",
       "      <td>31.3404</td>\n",
       "      <td>7.1648</td>\n",
       "      <td>0.6299</td>\n",
       "      <td>24000</td>\n",
       "      <td>0</td>\n",
       "      <td>44100</td>\n",
       "      <td>Tolmomyias sulphurescens</td>\n",
       "      <td>76.420</td>\n",
       "      <td>Jason Benson</td>\n",
       "      <td>0</td>\n",
       "      <td>False</td>\n",
       "      <td>0</td>\n",
       "      <td>./COSMOS</td>\n",
       "      <td>Yellow-olive Flatbill</td>\n",
       "      <td>Tolmomyias sulphurescens</td>\n",
       "    </tr>\n",
       "    <tr>\n",
       "      <th>5190</th>\n",
       "      <td>5190</td>\n",
       "      <td>XC27942_-_Yellow-olive_Flatbill_-_Tolmomyias_s...</td>\n",
       "      <td>31.3404</td>\n",
       "      <td>10.3063</td>\n",
       "      <td>0.4499</td>\n",
       "      <td>24000</td>\n",
       "      <td>0</td>\n",
       "      <td>44100</td>\n",
       "      <td>Tolmomyias sulphurescens</td>\n",
       "      <td>76.420</td>\n",
       "      <td>Jason Benson</td>\n",
       "      <td>0</td>\n",
       "      <td>False</td>\n",
       "      <td>0</td>\n",
       "      <td>./COSMOS</td>\n",
       "      <td>Yellow-olive Flatbill</td>\n",
       "      <td>Tolmomyias sulphurescens</td>\n",
       "    </tr>\n",
       "    <tr>\n",
       "      <th>5191</th>\n",
       "      <td>5191</td>\n",
       "      <td>XC27942_-_Yellow-olive_Flatbill_-_Tolmomyias_s...</td>\n",
       "      <td>31.3404</td>\n",
       "      <td>11.5060</td>\n",
       "      <td>0.4900</td>\n",
       "      <td>24000</td>\n",
       "      <td>0</td>\n",
       "      <td>44100</td>\n",
       "      <td>Tolmomyias sulphurescens</td>\n",
       "      <td>76.420</td>\n",
       "      <td>Jason Benson</td>\n",
       "      <td>0</td>\n",
       "      <td>False</td>\n",
       "      <td>0</td>\n",
       "      <td>./COSMOS</td>\n",
       "      <td>Yellow-olive Flatbill</td>\n",
       "      <td>Tolmomyias sulphurescens</td>\n",
       "    </tr>\n",
       "  </tbody>\n",
       "</table>\n",
       "<p>5192 rows × 17 columns</p>\n",
       "</div>"
      ],
      "text/plain": [
       "      Unnamed: 0                                            IN FILE  \\\n",
       "0              0  XC87449_-_Scaly-breasted_Woodpecker_-_Celeus_g...   \n",
       "1              1  XC87449_-_Scaly-breasted_Woodpecker_-_Celeus_g...   \n",
       "2              2  XC87449_-_Scaly-breasted_Woodpecker_-_Celeus_g...   \n",
       "3              3  XC87449_-_Scaly-breasted_Woodpecker_-_Celeus_g...   \n",
       "4              4  XC87449_-_Scaly-breasted_Woodpecker_-_Celeus_g...   \n",
       "...          ...                                                ...   \n",
       "5187        5187  XC27942_-_Yellow-olive_Flatbill_-_Tolmomyias_s...   \n",
       "5188        5188  XC27942_-_Yellow-olive_Flatbill_-_Tolmomyias_s...   \n",
       "5189        5189  XC27942_-_Yellow-olive_Flatbill_-_Tolmomyias_s...   \n",
       "5190        5190  XC27942_-_Yellow-olive_Flatbill_-_Tolmomyias_s...   \n",
       "5191        5191  XC27942_-_Yellow-olive_Flatbill_-_Tolmomyias_s...   \n",
       "\n",
       "      CLIP LENGTH   OFFSET  DURATION  MAX FREQ  MIN FREQ  SAMPLE RATE  \\\n",
       "0         23.2956   0.7025    0.9199     24000         0        44100   \n",
       "1         23.2956   4.6223    0.9400     24000         0        44100   \n",
       "2         23.2956  11.4420    0.9300     24000         0        44100   \n",
       "3         23.2956  18.4117    0.8700     24000         0        44100   \n",
       "4         23.2956  21.9915    0.7600     24000         0        44100   \n",
       "...           ...      ...       ...       ...       ...          ...   \n",
       "5187      31.3404  15.4774    0.4799     24000         0        44100   \n",
       "5188      31.3404   5.4311    0.5899     24000         0        44100   \n",
       "5189      31.3404   7.1648    0.6299     24000         0        44100   \n",
       "5190      31.3404  10.3063    0.4499     24000         0        44100   \n",
       "5191      31.3404  11.5060    0.4900     24000         0        44100   \n",
       "\n",
       "                     MANUAL ID  TIME_SPENT   LAST MOD BY  CONFIDENCE  RETIRED  \\\n",
       "0             Celeus grammicus     365.822   Jared Smith           0    False   \n",
       "1             Celeus grammicus     365.822   Jared Smith           0    False   \n",
       "2             Celeus grammicus     176.450   Jared Smith           0    False   \n",
       "3             Celeus grammicus     365.822   Jared Smith           0    False   \n",
       "4             Celeus grammicus     176.450   Jared Smith           0    False   \n",
       "...                        ...         ...           ...         ...      ...   \n",
       "5187  Tolmomyias sulphurescens      76.420  Jason Benson           0    False   \n",
       "5188  Tolmomyias sulphurescens      76.420  Jason Benson           0    False   \n",
       "5189  Tolmomyias sulphurescens      76.420  Jason Benson           0    False   \n",
       "5190  Tolmomyias sulphurescens      76.420  Jason Benson           0    False   \n",
       "5191  Tolmomyias sulphurescens      76.420  Jason Benson           0    False   \n",
       "\n",
       "      COUNTED    FOLDER                     COMMON                SCIENTIFIC  \n",
       "0           0  ./COSMOS  Scaly-breasted Woodpecker          Celeus grammicus  \n",
       "1           0  ./COSMOS  Scaly-breasted Woodpecker          Celeus grammicus  \n",
       "2           0  ./COSMOS  Scaly-breasted Woodpecker          Celeus grammicus  \n",
       "3           0  ./COSMOS  Scaly-breasted Woodpecker          Celeus grammicus  \n",
       "4           0  ./COSMOS  Scaly-breasted Woodpecker          Celeus grammicus  \n",
       "...       ...       ...                        ...                       ...  \n",
       "5187        0  ./COSMOS      Yellow-olive Flatbill  Tolmomyias sulphurescens  \n",
       "5188        0  ./COSMOS      Yellow-olive Flatbill  Tolmomyias sulphurescens  \n",
       "5189        0  ./COSMOS      Yellow-olive Flatbill  Tolmomyias sulphurescens  \n",
       "5190        0  ./COSMOS      Yellow-olive Flatbill  Tolmomyias sulphurescens  \n",
       "5191        0  ./COSMOS      Yellow-olive Flatbill  Tolmomyias sulphurescens  \n",
       "\n",
       "[5192 rows x 17 columns]"
      ]
     },
     "execution_count": 5,
     "metadata": {},
     "output_type": "execute_result"
    }
   ],
   "source": [
    "mddd = pd.read_csv(\"MadreDeDiosXCBirdList.csv\")\n",
    "def swap_scientific_common(scientific):\n",
    "    try:\n",
    "        return mddd[mddd[\"Species\"] == scientific][\"Common\"].iloc[0]\n",
    "    except:\n",
    "        return scientific\n",
    "def swap_common_scientific(common):\n",
    "    if (common == \" Rufous-collared Sparrow\"):\n",
    "        common =  \"Rufous-collared Sparrow\"\n",
    "    if (common ==' Southern Nightingale-Wren'):\n",
    "        common =  \"Southern Nightingale-Wren\"\n",
    "    try:\n",
    "        return  mddd[mddd[\"Common\"] == common][\"Species\"].iloc[0]\n",
    "    except:\n",
    "        return common\n",
    "\n",
    "manual_df[\"SCIENTIFIC\"] = manual_df[\"MANUAL ID\"]\n",
    "manual_df[\"COMMON\"] = manual_df[\"MANUAL ID\"].apply(swap_scientific_common)\n",
    "manual_df"
   ]
  },
  {
   "cell_type": "code",
   "execution_count": 6,
   "id": "88ef7567",
   "metadata": {},
   "outputs": [],
   "source": [
    "# Get the class name from a file name \n",
    "class_df = manual_df.copy()\n",
    "class_df[\"IN FILE\"] = class_df[\"IN FILE\"].apply(lambda x: x.split(\"_-_\")[1])\n",
    "class_df[\"IN FILE\"] = class_df[\"IN FILE\"].apply(lambda x: x.replace(\"_\", \" \"))\n",
    "\n",
    "# Dataframe with annotator names\n",
    "name_df = manual_df.copy()\n",
    "name_df[\"LAST MOD BY\"] = name_df[\"LAST MOD BY\"].apply(lambda x : x.split(\" \")[0])"
   ]
  },
  {
   "cell_type": "markdown",
   "id": "ef80a599",
   "metadata": {},
   "source": [
    "# General Dataset Statistics"
   ]
  },
  {
   "cell_type": "code",
   "execution_count": 7,
   "id": "9809257d",
   "metadata": {},
   "outputs": [
    {
     "name": "stdout",
     "output_type": "stream",
     "text": [
      "Total number of clips: 498\n",
      "Total number of annotations made: 5192\n",
      "Total duration of clips: 5.7217 hours\n",
      "Total duration of annotations made: 2.6558 hours\n",
      "Total time spent annotating: 19.3646 hours\n",
      "Total number of annotators: 22\n",
      "Average time spent annotating per annotator:  52.8126 minutes\n"
     ]
    }
   ],
   "source": [
    "print(\"Total number of clips:\", manual_df[\"IN FILE\"].nunique())\n",
    "print(\"Total number of annotations made:\", class_df.groupby(by=\"MANUAL ID\")[\"IN FILE\"].count().sum())\n",
    "print(\"Total duration of clips:\", round(manual_df.groupby(by=[\"IN FILE\"]).mean()[\"CLIP LENGTH\"].sum() / 60 / 60, 4), \"hours\")\n",
    "print(\"Total duration of annotations made:\", round(manual_df['DURATION'].sum() / 60 / 60, 4), \"hours\")\n",
    "print(\"Total time spent annotating:\", round(manual_df.drop_duplicates(subset=[\"IN FILE\"])[\"TIME_SPENT\"].sum() / 60 / 60, 4), \"hours\")\n",
    "print(\"Total number of annotators:\", name_df[\"LAST MOD BY\"].nunique())\n",
    "print(\"Average time spent annotating per annotator: \", round(manual_df.drop_duplicates(subset=[\"IN FILE\"])[\"TIME_SPENT\"].sum() / 60 / name_df[\"LAST MOD BY\"].nunique(), 4), \"minutes\")"
   ]
  },
  {
   "cell_type": "code",
   "execution_count": 8,
   "id": "c2c21774",
   "metadata": {
    "scrolled": true
   },
   "outputs": [
    {
     "data": {
      "text/html": [
       "<div>\n",
       "<style scoped>\n",
       "    .dataframe tbody tr th:only-of-type {\n",
       "        vertical-align: middle;\n",
       "    }\n",
       "\n",
       "    .dataframe tbody tr th {\n",
       "        vertical-align: top;\n",
       "    }\n",
       "\n",
       "    .dataframe thead th {\n",
       "        text-align: right;\n",
       "    }\n",
       "</style>\n",
       "<table border=\"1\" class=\"dataframe\">\n",
       "  <thead>\n",
       "    <tr style=\"text-align: right;\">\n",
       "      <th></th>\n",
       "      <th>CLIP LENGTH</th>\n",
       "    </tr>\n",
       "    <tr>\n",
       "      <th>MANUAL ID</th>\n",
       "      <th></th>\n",
       "    </tr>\n",
       "  </thead>\n",
       "  <tbody>\n",
       "    <tr>\n",
       "      <th>Celeus grammicus</th>\n",
       "      <td>1935.95264</td>\n",
       "    </tr>\n",
       "    <tr>\n",
       "      <th>Lipaugus vociferans</th>\n",
       "      <td>41.79970</td>\n",
       "    </tr>\n",
       "    <tr>\n",
       "      <th>Microcerculus marginatus</th>\n",
       "      <td>2062.80680</td>\n",
       "    </tr>\n",
       "    <tr>\n",
       "      <th>Myioborus miniatus</th>\n",
       "      <td>1822.38933</td>\n",
       "    </tr>\n",
       "    <tr>\n",
       "      <th>No class of interest</th>\n",
       "      <td>467.37931</td>\n",
       "    </tr>\n",
       "    <tr>\n",
       "      <th>Ramphastos tucanus</th>\n",
       "      <td>2039.44840</td>\n",
       "    </tr>\n",
       "    <tr>\n",
       "      <th>Thraupis episcopus</th>\n",
       "      <td>1661.81897</td>\n",
       "    </tr>\n",
       "    <tr>\n",
       "      <th>Tolmomyias sulphurescens</th>\n",
       "      <td>1732.18738</td>\n",
       "    </tr>\n",
       "    <tr>\n",
       "      <th>Trogon viridis</th>\n",
       "      <td>1899.89095</td>\n",
       "    </tr>\n",
       "    <tr>\n",
       "      <th>Turdus leucomelas</th>\n",
       "      <td>2046.93053</td>\n",
       "    </tr>\n",
       "    <tr>\n",
       "      <th>Xiphorhynchus guttatus</th>\n",
       "      <td>2132.95538</td>\n",
       "    </tr>\n",
       "    <tr>\n",
       "      <th>Zonotrichia capensis</th>\n",
       "      <td>1852.47537</td>\n",
       "    </tr>\n",
       "    <tr>\n",
       "      <th>bird</th>\n",
       "      <td>11933.98098</td>\n",
       "    </tr>\n",
       "  </tbody>\n",
       "</table>\n",
       "</div>"
      ],
      "text/plain": [
       "                          CLIP LENGTH\n",
       "MANUAL ID                            \n",
       "Celeus grammicus           1935.95264\n",
       "Lipaugus vociferans          41.79970\n",
       "Microcerculus marginatus   2062.80680\n",
       "Myioborus miniatus         1822.38933\n",
       "No class of interest        467.37931\n",
       "Ramphastos tucanus         2039.44840\n",
       "Thraupis episcopus         1661.81897\n",
       "Tolmomyias sulphurescens   1732.18738\n",
       "Trogon viridis             1899.89095\n",
       "Turdus leucomelas          2046.93053\n",
       "Xiphorhynchus guttatus     2132.95538\n",
       "Zonotrichia capensis       1852.47537\n",
       "bird                      11933.98098"
      ]
     },
     "execution_count": 8,
     "metadata": {},
     "output_type": "execute_result"
    }
   ],
   "source": [
    "# Total length of annotations per class labeled\n",
    "pd.DataFrame(manual_df.groupby(by=[\"IN FILE\", \"MANUAL ID\"]).mean().reset_index().groupby(by=[\"MANUAL ID\"]).sum()[\"CLIP LENGTH\"])"
   ]
  },
  {
   "cell_type": "markdown",
   "id": "f9089e5c",
   "metadata": {},
   "source": [
    "# Annotation Duration Histograms and Statistics"
   ]
  },
  {
   "cell_type": "code",
   "execution_count": 9,
   "id": "7c6937be",
   "metadata": {
    "scrolled": false
   },
   "outputs": [
    {
     "data": {
      "text/html": [
       "<div>\n",
       "<style scoped>\n",
       "    .dataframe tbody tr th:only-of-type {\n",
       "        vertical-align: middle;\n",
       "    }\n",
       "\n",
       "    .dataframe tbody tr th {\n",
       "        vertical-align: top;\n",
       "    }\n",
       "\n",
       "    .dataframe thead th {\n",
       "        text-align: right;\n",
       "    }\n",
       "</style>\n",
       "<table border=\"1\" class=\"dataframe\">\n",
       "  <thead>\n",
       "    <tr style=\"text-align: right;\">\n",
       "      <th></th>\n",
       "      <th>COUNT</th>\n",
       "      <th>MODE</th>\n",
       "      <th>MEAN</th>\n",
       "      <th>STANDARD DEVIATION</th>\n",
       "      <th>MIN</th>\n",
       "      <th>Q1</th>\n",
       "      <th>MEDIAN</th>\n",
       "      <th>Q3</th>\n",
       "      <th>MAX</th>\n",
       "    </tr>\n",
       "  </thead>\n",
       "  <tbody>\n",
       "    <tr>\n",
       "      <th>0</th>\n",
       "      <td>5192</td>\n",
       "      <td>0.25</td>\n",
       "      <td>1.841451</td>\n",
       "      <td>3.188492</td>\n",
       "      <td>0.0</td>\n",
       "      <td>0.510075</td>\n",
       "      <td>1.08</td>\n",
       "      <td>2.0399</td>\n",
       "      <td>101.094</td>\n",
       "    </tr>\n",
       "  </tbody>\n",
       "</table>\n",
       "</div>"
      ],
      "text/plain": [
       "   COUNT  MODE      MEAN  STANDARD DEVIATION  MIN        Q1  MEDIAN      Q3  \\\n",
       "0   5192  0.25  1.841451            3.188492  0.0  0.510075    1.08  2.0399   \n",
       "\n",
       "       MAX  \n",
       "0  101.094  "
      ]
     },
     "execution_count": 9,
     "metadata": {},
     "output_type": "execute_result"
    }
   ],
   "source": [
    "annotation_duration_statistics(manual_df)"
   ]
  },
  {
   "cell_type": "code",
   "execution_count": 10,
   "id": "19ef50f1",
   "metadata": {},
   "outputs": [
    {
     "data": {
      "image/png": "[encoded data removed]",
      "text/plain": [
       "<Figure size 432x288 with 1 Axes>"
      ]
     },
     "metadata": {
      "needs_background": "light"
     },
     "output_type": "display_data"
    }
   ],
   "source": [
    "# All annotations\n",
    "top_percentile = manual_df[\"DURATION\"].quantile(0.99)\n",
    "manual_df_99 = manual_df[manual_df[\"DURATION\"] < top_percentile] \n",
    "annotation_duration_histogram(manual_df_99, n_bins = 100, title = \"COSMOS Annotation Lengths\")"
   ]
  },
  {
   "cell_type": "code",
   "execution_count": 11,
   "id": "910880d4",
   "metadata": {},
   "outputs": [
    {
     "data": {
      "text/html": [
       "<div>\n",
       "<style scoped>\n",
       "    .dataframe tbody tr th:only-of-type {\n",
       "        vertical-align: middle;\n",
       "    }\n",
       "\n",
       "    .dataframe tbody tr th {\n",
       "        vertical-align: top;\n",
       "    }\n",
       "\n",
       "    .dataframe thead th {\n",
       "        text-align: right;\n",
       "    }\n",
       "</style>\n",
       "<table border=\"1\" class=\"dataframe\">\n",
       "  <thead>\n",
       "    <tr style=\"text-align: right;\">\n",
       "      <th></th>\n",
       "      <th>COUNT</th>\n",
       "      <th>MODE</th>\n",
       "      <th>MEAN</th>\n",
       "      <th>STANDARD DEVIATION</th>\n",
       "      <th>MIN</th>\n",
       "      <th>Q1</th>\n",
       "      <th>MEDIAN</th>\n",
       "      <th>Q3</th>\n",
       "      <th>MAX</th>\n",
       "    </tr>\n",
       "  </thead>\n",
       "  <tbody>\n",
       "    <tr>\n",
       "      <th>0</th>\n",
       "      <td>3810</td>\n",
       "      <td>0.45</td>\n",
       "      <td>1.827471</td>\n",
       "      <td>2.14913</td>\n",
       "      <td>0.08</td>\n",
       "      <td>0.609925</td>\n",
       "      <td>1.2399</td>\n",
       "      <td>2.12</td>\n",
       "      <td>46.8114</td>\n",
       "    </tr>\n",
       "  </tbody>\n",
       "</table>\n",
       "</div>"
      ],
      "text/plain": [
       "   COUNT  MODE      MEAN  STANDARD DEVIATION   MIN        Q1  MEDIAN    Q3  \\\n",
       "0   3810  0.45  1.827471             2.14913  0.08  0.609925  1.2399  2.12   \n",
       "\n",
       "       MAX  \n",
       "0  46.8114  "
      ]
     },
     "execution_count": 11,
     "metadata": {},
     "output_type": "execute_result"
    },
    {
     "data": {
      "image/png": "[encoded data removed]",
      "text/plain": [
       "<Figure size 432x288 with 1 Axes>"
      ]
     },
     "metadata": {
      "needs_background": "light"
     },
     "output_type": "display_data"
    }
   ],
   "source": [
    "# Species-specific labels\n",
    "classes_only_df = class_df[class_df[\"IN FILE\"] == class_df[\"COMMON\"]]\n",
    "classes_only_df_99 = classes_only_df[classes_only_df[\"DURATION\"] < classes_only_df[\"DURATION\"].quantile(0.99)]\n",
    "annotation_duration_histogram(classes_only_df_99, n_bins=100, title=\"Species-Specific Annotation Lengths\")\n",
    "annotation_duration_statistics(classes_only_df)"
   ]
  },
  {
   "cell_type": "code",
   "execution_count": 12,
   "id": "96329693",
   "metadata": {
    "scrolled": false
   },
   "outputs": [
    {
     "data": {
      "text/html": [
       "<div>\n",
       "<style scoped>\n",
       "    .dataframe tbody tr th:only-of-type {\n",
       "        vertical-align: middle;\n",
       "    }\n",
       "\n",
       "    .dataframe tbody tr th {\n",
       "        vertical-align: top;\n",
       "    }\n",
       "\n",
       "    .dataframe thead th {\n",
       "        text-align: right;\n",
       "    }\n",
       "</style>\n",
       "<table border=\"1\" class=\"dataframe\">\n",
       "  <thead>\n",
       "    <tr style=\"text-align: right;\">\n",
       "      <th></th>\n",
       "      <th>COUNT</th>\n",
       "      <th>MODE</th>\n",
       "      <th>MEAN</th>\n",
       "      <th>STANDARD DEVIATION</th>\n",
       "      <th>MIN</th>\n",
       "      <th>Q1</th>\n",
       "      <th>MEDIAN</th>\n",
       "      <th>Q3</th>\n",
       "      <th>MAX</th>\n",
       "    </tr>\n",
       "  </thead>\n",
       "  <tbody>\n",
       "    <tr>\n",
       "      <th>0</th>\n",
       "      <td>1353</td>\n",
       "      <td>0.5</td>\n",
       "      <td>1.481603</td>\n",
       "      <td>2.958851</td>\n",
       "      <td>0.0</td>\n",
       "      <td>0.39</td>\n",
       "      <td>0.6899</td>\n",
       "      <td>1.5201</td>\n",
       "      <td>51.631</td>\n",
       "    </tr>\n",
       "  </tbody>\n",
       "</table>\n",
       "</div>"
      ],
      "text/plain": [
       "   COUNT  MODE      MEAN  STANDARD DEVIATION  MIN    Q1  MEDIAN      Q3  \\\n",
       "0   1353   0.5  1.481603            2.958851  0.0  0.39  0.6899  1.5201   \n",
       "\n",
       "      MAX  \n",
       "0  51.631  "
      ]
     },
     "execution_count": 12,
     "metadata": {},
     "output_type": "execute_result"
    },
    {
     "data": {
      "image/png": "[encoded data removed]",
      "text/plain": [
       "<Figure size 432x288 with 1 Axes>"
      ]
     },
     "metadata": {
      "needs_background": "light"
     },
     "output_type": "display_data"
    }
   ],
   "source": [
    "# Generic bird labels\n",
    "bird_only_df = class_df[class_df[\"MANUAL ID\"] == \"bird\"]\n",
    "bird_only_df_99 = bird_only_df[bird_only_df[\"DURATION\"] < bird_only_df[\"DURATION\"].quantile(0.99)]\n",
    "annotation_duration_histogram(bird_only_df_99, n_bins=100, title=\"Generic Bird Annotation Lengths\")\n",
    "annotation_duration_statistics(bird_only_df)"
   ]
  },
  {
   "cell_type": "code",
   "execution_count": 13,
   "id": "837eee4e",
   "metadata": {
    "scrolled": true
   },
   "outputs": [
    {
     "data": {
      "image/png": "[encoded data removed]",
      "text/plain": [
       "<Figure size 432x288 with 1 Axes>"
      ]
     },
     "metadata": {
      "needs_background": "light"
     },
     "output_type": "display_data"
    },
    {
     "data": {
      "image/png": "[encoded data removed]",
      "text/plain": [
       "<Figure size 432x288 with 1 Axes>"
      ]
     },
     "metadata": {
      "needs_background": "light"
     },
     "output_type": "display_data"
    },
    {
     "data": {
      "image/png": "[encoded data removed]",
      "text/plain": [
       "<Figure size 432x288 with 1 Axes>"
      ]
     },
     "metadata": {
      "needs_background": "light"
     },
     "output_type": "display_data"
    },
    {
     "data": {
      "image/png": "[encoded data removed]",
      "text/plain": [
       "<Figure size 432x288 with 1 Axes>"
      ]
     },
     "metadata": {
      "needs_background": "light"
     },
     "output_type": "display_data"
    },
    {
     "data": {
      "image/png": "[encoded data removed]",
      "text/plain": [
       "<Figure size 432x288 with 1 Axes>"
      ]
     },
     "metadata": {
      "needs_background": "light"
     },
     "output_type": "display_data"
    },
    {
     "data": {
      "image/png": "[encoded data removed]",
      "text/plain": [
       "<Figure size 432x288 with 1 Axes>"
      ]
     },
     "metadata": {
      "needs_background": "light"
     },
     "output_type": "display_data"
    },
    {
     "data": {
      "image/png": "[encoded data removed]",
      "text/plain": [
       "<Figure size 432x288 with 1 Axes>"
      ]
     },
     "metadata": {
      "needs_background": "light"
     },
     "output_type": "display_data"
    },
    {
     "data": {
      "image/png": "[encoded data removed]",
      "text/plain": [
       "<Figure size 432x288 with 1 Axes>"
      ]
     },
     "metadata": {
      "needs_background": "light"
     },
     "output_type": "display_data"
    },
    {
     "data": {
      "image/png": "[encoded data removed]",
      "text/plain": [
       "<Figure size 432x288 with 1 Axes>"
      ]
     },
     "metadata": {
      "needs_background": "light"
     },
     "output_type": "display_data"
    },
    {
     "data": {
      "image/png": "[encoded data removed]",
      "text/plain": [
       "<Figure size 432x288 with 1 Axes>"
      ]
     },
     "metadata": {
      "needs_background": "light"
     },
     "output_type": "display_data"
    },
    {
     "data": {
      "image/png": "[encoded data removed]",
      "text/plain": [
       "<Figure size 432x288 with 1 Axes>"
      ]
     },
     "metadata": {
      "needs_background": "light"
     },
     "output_type": "display_data"
    },
    {
     "data": {
      "image/png": "[encoded data removed]",
      "text/plain": [
       "<Figure size 432x288 with 1 Axes>"
      ]
     },
     "metadata": {
      "needs_background": "light"
     },
     "output_type": "display_data"
    },
    {
     "data": {
      "image/png": "[encoded data removed]",
      "text/plain": [
       "<Figure size 432x288 with 1 Axes>"
      ]
     },
     "metadata": {
      "needs_background": "light"
     },
     "output_type": "display_data"
    }
   ],
   "source": [
    "# Annotation duration lengths per specific classes\n",
    "list_of_classes = class_df[\"MANUAL ID\"].unique().tolist()\n",
    "list_of_classes.sort()\n",
    "\n",
    "for species in list_of_classes:\n",
    "    species_df = class_df[class_df[\"MANUAL ID\"] == species]\n",
    "    annotation_duration_histogram(species_df, n_bins=100, title=swap_scientific_common(species) + \" Annotation Lengths\")"
   ]
  },
  {
   "cell_type": "markdown",
   "id": "38b1d610",
   "metadata": {},
   "source": [
    "# Class statistics"
   ]
  },
  {
   "cell_type": "code",
   "execution_count": 14,
   "id": "1c630bd4",
   "metadata": {},
   "outputs": [],
   "source": [
    "class_duration = class_df.groupby(by=[\"IN FILE\", \"COMMON\"])[\"DURATION\"].sum().reset_index()\n",
    "class_duration[\"IN FILE\"] = class_duration[\"IN FILE\"].apply(lambda x: x.replace(\"_\", \" \"))\n",
    "\n",
    "all_classes = class_duration.groupby(by=\"IN FILE\")[\"DURATION\"].sum().to_list()\n",
    "classes_only = class_duration[class_duration[\"IN FILE\"] == class_duration[\"COMMON\"]][\"DURATION\"].to_list()\n",
    "bird_only = class_duration[class_duration[\"COMMON\"] == \"bird\"][\"DURATION\"].to_list()\n",
    "\n",
    "class_df_nodupes = class_df.copy()\n",
    "class_df_nodupes = class_df_nodupes.drop_duplicates(subset=[\"CLIP LENGTH\"], keep='first')\n",
    "clip_duration_by_class = class_df_nodupes.groupby(\"IN FILE\")[\"CLIP LENGTH\"].sum().to_list()"
   ]
  },
  {
   "cell_type": "code",
   "execution_count": 15,
   "id": "df0ece81",
   "metadata": {
    "scrolled": true
   },
   "outputs": [
    {
     "data": {
      "image/png": "[encoded data removed]",
      "text/plain": [
       "<Figure size 432x288 with 1 Axes>"
      ]
     },
     "metadata": {
      "needs_background": "light"
     },
     "output_type": "display_data"
    }
   ],
   "source": [
    "class_labels = class_df[\"IN FILE\"].unique().tolist()\n",
    "class_labels.sort() \n",
    "\n",
    "y = np.arange(len(classes_only))\n",
    "\n",
    "fig, ax = plt.subplots()\n",
    "cd_b_c = ax.barh(y,clip_duration_by_class, label=\"Unlabeled Audio\")\n",
    "b_length = ax.barh(y, all_classes, label=\"Generic Bird Labels\")\n",
    "cl_length = ax.barh(y, classes_only, label=\"Species-Specific Labels\")\n",
    "\n",
    "\n",
    "for bar in ax.patches:\n",
    "    value = bar.get_height()\n",
    "    text = f'{value}'\n",
    "\n",
    "ax.set_title('Duration of labels out of total clip duration')\n",
    "ax.set_xlabel('Duration (s)')\n",
    "ax.set_yticks(y)\n",
    "ax.set_yticklabels(class_labels)\n",
    "ax.legend(loc='center left', bbox_to_anchor=(1, 0.5))\n",
    "plt.show()"
   ]
  },
  {
   "cell_type": "code",
   "execution_count": 16,
   "id": "4924ebf6",
   "metadata": {
    "scrolled": true
   },
   "outputs": [
    {
     "data": {
      "text/html": [
       "<div>\n",
       "<style scoped>\n",
       "    .dataframe tbody tr th:only-of-type {\n",
       "        vertical-align: middle;\n",
       "    }\n",
       "\n",
       "    .dataframe tbody tr th {\n",
       "        vertical-align: top;\n",
       "    }\n",
       "\n",
       "    .dataframe thead th {\n",
       "        text-align: right;\n",
       "    }\n",
       "</style>\n",
       "<table border=\"1\" class=\"dataframe\">\n",
       "  <thead>\n",
       "    <tr style=\"text-align: right;\">\n",
       "      <th></th>\n",
       "      <th>CLIP LENGTH</th>\n",
       "    </tr>\n",
       "    <tr>\n",
       "      <th>IN FILE</th>\n",
       "      <th></th>\n",
       "    </tr>\n",
       "  </thead>\n",
       "  <tbody>\n",
       "    <tr>\n",
       "      <th>Blue-grey Tanager</th>\n",
       "      <td>2033.65141</td>\n",
       "    </tr>\n",
       "    <tr>\n",
       "      <th>Buff-throated Woodcreeper</th>\n",
       "      <td>2051.75644</td>\n",
       "    </tr>\n",
       "    <tr>\n",
       "      <th>Green-backed Trogon</th>\n",
       "      <td>2046.91005</td>\n",
       "    </tr>\n",
       "    <tr>\n",
       "      <th>Pale-breasted Thrush</th>\n",
       "      <td>2053.45586</td>\n",
       "    </tr>\n",
       "    <tr>\n",
       "      <th>Rufous-collared Sparrow</th>\n",
       "      <td>2044.32747</td>\n",
       "    </tr>\n",
       "    <tr>\n",
       "      <th>Scaly-breasted Woodpecker</th>\n",
       "      <td>2062.75940</td>\n",
       "    </tr>\n",
       "    <tr>\n",
       "      <th>Slate-throated Whitestart</th>\n",
       "      <td>1961.91433</td>\n",
       "    </tr>\n",
       "    <tr>\n",
       "      <th>Southern Nightingale-Wren</th>\n",
       "      <td>2062.80680</td>\n",
       "    </tr>\n",
       "    <tr>\n",
       "      <th>White-throated Toucan</th>\n",
       "      <td>2051.73890</td>\n",
       "    </tr>\n",
       "    <tr>\n",
       "      <th>Yellow-olive Flatbill</th>\n",
       "      <td>2081.59258</td>\n",
       "    </tr>\n",
       "  </tbody>\n",
       "</table>\n",
       "</div>"
      ],
      "text/plain": [
       "                           CLIP LENGTH\n",
       "IN FILE                               \n",
       "Blue-grey Tanager           2033.65141\n",
       "Buff-throated Woodcreeper   2051.75644\n",
       "Green-backed Trogon         2046.91005\n",
       "Pale-breasted Thrush        2053.45586\n",
       "Rufous-collared Sparrow     2044.32747\n",
       "Scaly-breasted Woodpecker   2062.75940\n",
       "Slate-throated Whitestart   1961.91433\n",
       "Southern Nightingale-Wren   2062.80680\n",
       "White-throated Toucan       2051.73890\n",
       "Yellow-olive Flatbill       2081.59258"
      ]
     },
     "execution_count": 16,
     "metadata": {},
     "output_type": "execute_result"
    }
   ],
   "source": [
    "# length of clips for each species\n",
    "pd.DataFrame(class_df_nodupes.groupby(\"IN FILE\")[\"CLIP LENGTH\"].sum())"
   ]
  },
  {
   "cell_type": "code",
   "execution_count": 17,
   "id": "9b87cabd",
   "metadata": {},
   "outputs": [
    {
     "data": {
      "text/html": [
       "<div>\n",
       "<style scoped>\n",
       "    .dataframe tbody tr th:only-of-type {\n",
       "        vertical-align: middle;\n",
       "    }\n",
       "\n",
       "    .dataframe tbody tr th {\n",
       "        vertical-align: top;\n",
       "    }\n",
       "\n",
       "    .dataframe thead th {\n",
       "        text-align: right;\n",
       "    }\n",
       "</style>\n",
       "<table border=\"1\" class=\"dataframe\">\n",
       "  <thead>\n",
       "    <tr style=\"text-align: right;\">\n",
       "      <th></th>\n",
       "      <th>DURATION</th>\n",
       "    </tr>\n",
       "    <tr>\n",
       "      <th>IN FILE</th>\n",
       "      <th></th>\n",
       "    </tr>\n",
       "  </thead>\n",
       "  <tbody>\n",
       "    <tr>\n",
       "      <th>Blue-grey Tanager</th>\n",
       "      <td>813.9185</td>\n",
       "    </tr>\n",
       "    <tr>\n",
       "      <th>Buff-throated Woodcreeper</th>\n",
       "      <td>1398.3733</td>\n",
       "    </tr>\n",
       "    <tr>\n",
       "      <th>Green-backed Trogon</th>\n",
       "      <td>893.5352</td>\n",
       "    </tr>\n",
       "    <tr>\n",
       "      <th>Pale-breasted Thrush</th>\n",
       "      <td>1083.2624</td>\n",
       "    </tr>\n",
       "    <tr>\n",
       "      <th>Rufous-collared Sparrow</th>\n",
       "      <td>1100.3548</td>\n",
       "    </tr>\n",
       "    <tr>\n",
       "      <th>Scaly-breasted Woodpecker</th>\n",
       "      <td>672.5002</td>\n",
       "    </tr>\n",
       "    <tr>\n",
       "      <th>Slate-throated Whitestart</th>\n",
       "      <td>839.0261</td>\n",
       "    </tr>\n",
       "    <tr>\n",
       "      <th>Southern Nightingale-Wren</th>\n",
       "      <td>940.8178</td>\n",
       "    </tr>\n",
       "    <tr>\n",
       "      <th>White-throated Toucan</th>\n",
       "      <td>1393.2963</td>\n",
       "    </tr>\n",
       "    <tr>\n",
       "      <th>Yellow-olive Flatbill</th>\n",
       "      <td>425.7265</td>\n",
       "    </tr>\n",
       "  </tbody>\n",
       "</table>\n",
       "</div>"
      ],
      "text/plain": [
       "                            DURATION\n",
       "IN FILE                             \n",
       "Blue-grey Tanager           813.9185\n",
       "Buff-throated Woodcreeper  1398.3733\n",
       "Green-backed Trogon         893.5352\n",
       "Pale-breasted Thrush       1083.2624\n",
       "Rufous-collared Sparrow    1100.3548\n",
       "Scaly-breasted Woodpecker   672.5002\n",
       "Slate-throated Whitestart   839.0261\n",
       "Southern Nightingale-Wren   940.8178\n",
       "White-throated Toucan      1393.2963\n",
       "Yellow-olive Flatbill       425.7265"
      ]
     },
     "execution_count": 17,
     "metadata": {},
     "output_type": "execute_result"
    }
   ],
   "source": [
    "pd.DataFrame(class_duration.groupby(by=\"IN FILE\")[\"DURATION\"].sum())"
   ]
  }
 ],
 "metadata": {
  "kernelspec": {
   "display_name": "Python 3",
   "language": "python",
   "name": "python3"
  },
  "language_info": {
   "codemirror_mode": {
    "name": "ipython",
    "version": 3
   },
   "file_extension": ".py",
   "mimetype": "text/x-python",
   "name": "python",
   "nbconvert_exporter": "python",
   "pygments_lexer": "ipython3",
   "version": "3.7.10"
  }
 },
 "nbformat": 4,
 "nbformat_minor": 5
}
