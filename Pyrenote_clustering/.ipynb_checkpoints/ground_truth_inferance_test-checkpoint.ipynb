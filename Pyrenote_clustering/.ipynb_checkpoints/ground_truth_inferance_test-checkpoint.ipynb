{
 "cells": [
  {
   "cell_type": "markdown",
   "metadata": {
    "id": "Hc9BGRHponNo"
   },
   "source": [
    "Import CSV and Libaries"
   ]
  },
  {
   "cell_type": "code",
   "execution_count": null,
   "metadata": {
    "colab": {
     "base_uri": "https://localhost:8080/",
     "height": 659
    },
    "id": "r9iBsp8Qomye",
    "outputId": "f3381d22-e0f1-42c2-8769-effba1967d43"
   },
   "outputs": [
    {
     "data": {
      "text/html": [
       "\n",
       "  <div id=\"df-ef8e405a-e5e9-45f1-95ef-e4a952dbb1fb\">\n",
       "    <div class=\"colab-df-container\">\n",
       "      <div>\n",
       "<style scoped>\n",
       "    .dataframe tbody tr th:only-of-type {\n",
       "        vertical-align: middle;\n",
       "    }\n",
       "\n",
       "    .dataframe tbody tr th {\n",
       "        vertical-align: top;\n",
       "    }\n",
       "\n",
       "    .dataframe thead th {\n",
       "        text-align: right;\n",
       "    }\n",
       "</style>\n",
       "<table border=\"1\" class=\"dataframe\">\n",
       "  <thead>\n",
       "    <tr style=\"text-align: right;\">\n",
       "      <th></th>\n",
       "      <th>IN FILE</th>\n",
       "      <th>CLIP LENGTH</th>\n",
       "      <th>OFFSET</th>\n",
       "      <th>DURATION</th>\n",
       "      <th>MAX FREQ</th>\n",
       "      <th>MIN FREQ</th>\n",
       "      <th>SAMPLE RATE</th>\n",
       "      <th>MANUAL ID</th>\n",
       "      <th>TIME_SPENT</th>\n",
       "      <th>LAST MOD BY</th>\n",
       "      <th>LAST MOD DATE</th>\n",
       "      <th>LAST MOD TIME</th>\n",
       "    </tr>\n",
       "  </thead>\n",
       "  <tbody>\n",
       "    <tr>\n",
       "      <th>0</th>\n",
       "      <td>XC425555_-_Screaming_Piha_-_Lipaugus_vociferan...</td>\n",
       "      <td>15.73850</td>\n",
       "      <td>0.6511</td>\n",
       "      <td>2.1214</td>\n",
       "      <td>24000</td>\n",
       "      <td>0</td>\n",
       "      <td>44100</td>\n",
       "      <td>bird</td>\n",
       "      <td>11.652</td>\n",
       "      <td>admin</td>\n",
       "      <td>NaN</td>\n",
       "      <td>NaN</td>\n",
       "    </tr>\n",
       "    <tr>\n",
       "      <th>1</th>\n",
       "      <td>XC425555_-_Screaming_Piha_-_Lipaugus_vociferan...</td>\n",
       "      <td>15.73850</td>\n",
       "      <td>12.6092</td>\n",
       "      <td>3.1042</td>\n",
       "      <td>24000</td>\n",
       "      <td>0</td>\n",
       "      <td>44100</td>\n",
       "      <td>bird</td>\n",
       "      <td>11.654</td>\n",
       "      <td>admin</td>\n",
       "      <td>NaN</td>\n",
       "      <td>NaN</td>\n",
       "    </tr>\n",
       "    <tr>\n",
       "      <th>2</th>\n",
       "      <td>XC425555_-_Screaming_Piha_-_Lipaugus_vociferan...</td>\n",
       "      <td>15.73850</td>\n",
       "      <td>14.1490</td>\n",
       "      <td>1.3842</td>\n",
       "      <td>24000</td>\n",
       "      <td>0</td>\n",
       "      <td>44100</td>\n",
       "      <td>bird</td>\n",
       "      <td>33.147</td>\n",
       "      <td>nelly</td>\n",
       "      <td>NaN</td>\n",
       "      <td>NaN</td>\n",
       "    </tr>\n",
       "    <tr>\n",
       "      <th>3</th>\n",
       "      <td>XC425555_-_Screaming_Piha_-_Lipaugus_vociferan...</td>\n",
       "      <td>15.73850</td>\n",
       "      <td>1.1590</td>\n",
       "      <td>1.3760</td>\n",
       "      <td>24000</td>\n",
       "      <td>0</td>\n",
       "      <td>44100</td>\n",
       "      <td>bird</td>\n",
       "      <td>33.150</td>\n",
       "      <td>nelly</td>\n",
       "      <td>NaN</td>\n",
       "      <td>NaN</td>\n",
       "    </tr>\n",
       "    <tr>\n",
       "      <th>4</th>\n",
       "      <td>XC425555_-_Screaming_Piha_-_Lipaugus_vociferan...</td>\n",
       "      <td>15.73850</td>\n",
       "      <td>1.1622</td>\n",
       "      <td>0.6098</td>\n",
       "      <td>24000</td>\n",
       "      <td>0</td>\n",
       "      <td>44100</td>\n",
       "      <td>bird</td>\n",
       "      <td>166.323</td>\n",
       "      <td>edmundo</td>\n",
       "      <td>NaN</td>\n",
       "      <td>NaN</td>\n",
       "    </tr>\n",
       "    <tr>\n",
       "      <th>...</th>\n",
       "      <td>...</td>\n",
       "      <td>...</td>\n",
       "      <td>...</td>\n",
       "      <td>...</td>\n",
       "      <td>...</td>\n",
       "      <td>...</td>\n",
       "      <td>...</td>\n",
       "      <td>...</td>\n",
       "      <td>...</td>\n",
       "      <td>...</td>\n",
       "      <td>...</td>\n",
       "      <td>...</td>\n",
       "    </tr>\n",
       "    <tr>\n",
       "      <th>72</th>\n",
       "      <td>XC591821_-_Screaming_Piha_-_Lipaugus_vociferan...</td>\n",
       "      <td>5.66646</td>\n",
       "      <td>4.3832</td>\n",
       "      <td>0.0527</td>\n",
       "      <td>24000</td>\n",
       "      <td>0</td>\n",
       "      <td>44100</td>\n",
       "      <td>bird</td>\n",
       "      <td>95.519</td>\n",
       "      <td>edmundo</td>\n",
       "      <td>NaN</td>\n",
       "      <td>NaN</td>\n",
       "    </tr>\n",
       "    <tr>\n",
       "      <th>73</th>\n",
       "      <td>XC591821_-_Screaming_Piha_-_Lipaugus_vociferan...</td>\n",
       "      <td>5.66646</td>\n",
       "      <td>3.2886</td>\n",
       "      <td>0.5116</td>\n",
       "      <td>24000</td>\n",
       "      <td>0</td>\n",
       "      <td>44100</td>\n",
       "      <td>bird</td>\n",
       "      <td>95.504</td>\n",
       "      <td>edmundo</td>\n",
       "      <td>NaN</td>\n",
       "      <td>NaN</td>\n",
       "    </tr>\n",
       "    <tr>\n",
       "      <th>74</th>\n",
       "      <td>XC591821_-_Screaming_Piha_-_Lipaugus_vociferan...</td>\n",
       "      <td>5.66646</td>\n",
       "      <td>3.7851</td>\n",
       "      <td>0.5643</td>\n",
       "      <td>24000</td>\n",
       "      <td>0</td>\n",
       "      <td>44100</td>\n",
       "      <td>bird</td>\n",
       "      <td>95.522</td>\n",
       "      <td>edmundo</td>\n",
       "      <td>NaN</td>\n",
       "      <td>NaN</td>\n",
       "    </tr>\n",
       "    <tr>\n",
       "      <th>75</th>\n",
       "      <td>XC591821_-_Screaming_Piha_-_Lipaugus_vociferan...</td>\n",
       "      <td>5.66646</td>\n",
       "      <td>2.7602</td>\n",
       "      <td>1.7457</td>\n",
       "      <td>24000</td>\n",
       "      <td>0</td>\n",
       "      <td>44100</td>\n",
       "      <td>bird</td>\n",
       "      <td>57.017</td>\n",
       "      <td>ryan</td>\n",
       "      <td>NaN</td>\n",
       "      <td>NaN</td>\n",
       "    </tr>\n",
       "    <tr>\n",
       "      <th>76</th>\n",
       "      <td>XC591821_-_Screaming_Piha_-_Lipaugus_vociferan...</td>\n",
       "      <td>5.66646</td>\n",
       "      <td>0.1572</td>\n",
       "      <td>0.1528</td>\n",
       "      <td>24000</td>\n",
       "      <td>0</td>\n",
       "      <td>44100</td>\n",
       "      <td>bird</td>\n",
       "      <td>4.269</td>\n",
       "      <td>admin</td>\n",
       "      <td>NaN</td>\n",
       "      <td>NaN</td>\n",
       "    </tr>\n",
       "  </tbody>\n",
       "</table>\n",
       "<p>77 rows × 12 columns</p>\n",
       "</div>\n",
       "      <button class=\"colab-df-convert\" onclick=\"convertToInteractive('df-ef8e405a-e5e9-45f1-95ef-e4a952dbb1fb')\"\n",
       "              title=\"Convert this dataframe to an interactive table.\"\n",
       "              style=\"display:none;\">\n",
       "        \n",
       "  <svg xmlns=\"http://www.w3.org/2000/svg\" height=\"24px\"viewBox=\"0 0 24 24\"\n",
       "       width=\"24px\">\n",
       "    <path d=\"M0 0h24v24H0V0z\" fill=\"none\"/>\n",
       "    <path d=\"M18.56 5.44l.94 2.06.94-2.06 2.06-.94-2.06-.94-.94-2.06-.94 2.06-2.06.94zm-11 1L8.5 8.5l.94-2.06 2.06-.94-2.06-.94L8.5 2.5l-.94 2.06-2.06.94zm10 10l.94 2.06.94-2.06 2.06-.94-2.06-.94-.94-2.06-.94 2.06-2.06.94z\"/><path d=\"M17.41 7.96l-1.37-1.37c-.4-.4-.92-.59-1.43-.59-.52 0-1.04.2-1.43.59L10.3 9.45l-7.72 7.72c-.78.78-.78 2.05 0 2.83L4 21.41c.39.39.9.59 1.41.59.51 0 1.02-.2 1.41-.59l7.78-7.78 2.81-2.81c.8-.78.8-2.07 0-2.86zM5.41 20L4 18.59l7.72-7.72 1.47 1.35L5.41 20z\"/>\n",
       "  </svg>\n",
       "      </button>\n",
       "      \n",
       "  <style>\n",
       "    .colab-df-container {\n",
       "      display:flex;\n",
       "      flex-wrap:wrap;\n",
       "      gap: 12px;\n",
       "    }\n",
       "\n",
       "    .colab-df-convert {\n",
       "      background-color: #E8F0FE;\n",
       "      border: none;\n",
       "      border-radius: 50%;\n",
       "      cursor: pointer;\n",
       "      display: none;\n",
       "      fill: #1967D2;\n",
       "      height: 32px;\n",
       "      padding: 0 0 0 0;\n",
       "      width: 32px;\n",
       "    }\n",
       "\n",
       "    .colab-df-convert:hover {\n",
       "      background-color: #E2EBFA;\n",
       "      box-shadow: 0px 1px 2px rgba(60, 64, 67, 0.3), 0px 1px 3px 1px rgba(60, 64, 67, 0.15);\n",
       "      fill: #174EA6;\n",
       "    }\n",
       "\n",
       "    [theme=dark] .colab-df-convert {\n",
       "      background-color: #3B4455;\n",
       "      fill: #D2E3FC;\n",
       "    }\n",
       "\n",
       "    [theme=dark] .colab-df-convert:hover {\n",
       "      background-color: #434B5C;\n",
       "      box-shadow: 0px 1px 3px 1px rgba(0, 0, 0, 0.15);\n",
       "      filter: drop-shadow(0px 1px 2px rgba(0, 0, 0, 0.3));\n",
       "      fill: #FFFFFF;\n",
       "    }\n",
       "  </style>\n",
       "\n",
       "      <script>\n",
       "        const buttonEl =\n",
       "          document.querySelector('#df-ef8e405a-e5e9-45f1-95ef-e4a952dbb1fb button.colab-df-convert');\n",
       "        buttonEl.style.display =\n",
       "          google.colab.kernel.accessAllowed ? 'block' : 'none';\n",
       "\n",
       "        async function convertToInteractive(key) {\n",
       "          const element = document.querySelector('#df-ef8e405a-e5e9-45f1-95ef-e4a952dbb1fb');\n",
       "          const dataTable =\n",
       "            await google.colab.kernel.invokeFunction('convertToInteractive',\n",
       "                                                     [key], {});\n",
       "          if (!dataTable) return;\n",
       "\n",
       "          const docLinkHtml = 'Like what you see? Visit the ' +\n",
       "            '<a target=\"_blank\" href=https://colab.research.google.com/notebooks/data_table.ipynb>data table notebook</a>'\n",
       "            + ' to learn more about interactive tables.';\n",
       "          element.innerHTML = '';\n",
       "          dataTable['output_type'] = 'display_data';\n",
       "          await google.colab.output.renderOutput(dataTable, element);\n",
       "          const docLink = document.createElement('div');\n",
       "          docLink.innerHTML = docLinkHtml;\n",
       "          element.appendChild(docLink);\n",
       "        }\n",
       "      </script>\n",
       "    </div>\n",
       "  </div>\n",
       "  "
      ],
      "text/plain": [
       "                                              IN FILE  CLIP LENGTH   OFFSET  \\\n",
       "0   XC425555_-_Screaming_Piha_-_Lipaugus_vociferan...     15.73850   0.6511   \n",
       "1   XC425555_-_Screaming_Piha_-_Lipaugus_vociferan...     15.73850  12.6092   \n",
       "2   XC425555_-_Screaming_Piha_-_Lipaugus_vociferan...     15.73850  14.1490   \n",
       "3   XC425555_-_Screaming_Piha_-_Lipaugus_vociferan...     15.73850   1.1590   \n",
       "4   XC425555_-_Screaming_Piha_-_Lipaugus_vociferan...     15.73850   1.1622   \n",
       "..                                                ...          ...      ...   \n",
       "72  XC591821_-_Screaming_Piha_-_Lipaugus_vociferan...      5.66646   4.3832   \n",
       "73  XC591821_-_Screaming_Piha_-_Lipaugus_vociferan...      5.66646   3.2886   \n",
       "74  XC591821_-_Screaming_Piha_-_Lipaugus_vociferan...      5.66646   3.7851   \n",
       "75  XC591821_-_Screaming_Piha_-_Lipaugus_vociferan...      5.66646   2.7602   \n",
       "76  XC591821_-_Screaming_Piha_-_Lipaugus_vociferan...      5.66646   0.1572   \n",
       "\n",
       "    DURATION  MAX FREQ  MIN FREQ  SAMPLE RATE MANUAL ID  TIME_SPENT  \\\n",
       "0     2.1214     24000         0        44100      bird      11.652   \n",
       "1     3.1042     24000         0        44100      bird      11.654   \n",
       "2     1.3842     24000         0        44100      bird      33.147   \n",
       "3     1.3760     24000         0        44100      bird      33.150   \n",
       "4     0.6098     24000         0        44100      bird     166.323   \n",
       "..       ...       ...       ...          ...       ...         ...   \n",
       "72    0.0527     24000         0        44100      bird      95.519   \n",
       "73    0.5116     24000         0        44100      bird      95.504   \n",
       "74    0.5643     24000         0        44100      bird      95.522   \n",
       "75    1.7457     24000         0        44100      bird      57.017   \n",
       "76    0.1528     24000         0        44100      bird       4.269   \n",
       "\n",
       "   LAST MOD BY  LAST MOD DATE  LAST MOD TIME  \n",
       "0        admin            NaN            NaN  \n",
       "1        admin            NaN            NaN  \n",
       "2        nelly            NaN            NaN  \n",
       "3        nelly            NaN            NaN  \n",
       "4      edmundo            NaN            NaN  \n",
       "..         ...            ...            ...  \n",
       "72     edmundo            NaN            NaN  \n",
       "73     edmundo            NaN            NaN  \n",
       "74     edmundo            NaN            NaN  \n",
       "75        ryan            NaN            NaN  \n",
       "76       admin            NaN            NaN  \n",
       "\n",
       "[77 rows x 12 columns]"
      ]
     },
     "execution_count": 3,
     "metadata": {},
     "output_type": "execute_result"
    }
   ],
   "source": [
    "import pandas as pd\n",
    "import random\n",
    "from scipy import stats\n",
    "import numpy as np\n",
    "import matplotlib.pyplot as plt\n",
    "import csv\n",
    "pd.options.mode.chained_assignment = None  # default='warn'\n",
    "\n",
    "#Convert CSV to Dataframe\n",
    "data = pd.read_csv(\"./data/iou-dsc.csv\", header=[0])\n",
    "data"
   ]
  },
  {
   "cell_type": "code",
   "execution_count": null,
   "metadata": {
    "id": "XZ_ylqmDplU7"
   },
   "outputs": [],
   "source": [
    " #https://www.adamsmith.haus/python/answers/how-to-set-different-colors-for-each-series-in-a-matplotbib-scatter-plot-in-python#:~:text=Call%20iter(iterable)%20with%20iterable,as%20the%20list%20of%20colors.\n",
    "#Dtaw each label on a 2d plot with start and end times as axies, color labels by the user who made them\n",
    "def labels_users_plot(file_):\n",
    "  data_oi = data[data[\"IN FILE\"] == file_]\n",
    "  users = data_oi[\"LAST MOD BY\"].unique()\n",
    "  colors = iter(plt.cm.rainbow(np.linspace(0, 1, len(users))))\n",
    "  for user in users:\n",
    "    user_annotations = data_oi[data_oi[\"LAST MOD BY\"] == user]\n",
    "    x = user_annotations[\"OFFSET\"]\n",
    "    y = x + user_annotations[\"DURATION\"]\n",
    "    plt.xlabel(\"Start Time\")\n",
    "    plt.ylabel(\"End Time\")\n",
    "    plt.plot(x, y, 'o', color=next(colors));\n",
    "\n",
    "def label_clusters(file_, clusters):\n",
    "  data_oi = data[data[\"IN FILE\"] == file_]\n",
    "  users = data_oi[\"LAST MOD BY\"].unique()\n",
    "  colors = (plt.cm.rainbow(np.linspace(0, 1, max(clusters)+1)))\n",
    "  i = 0\n",
    "  for cluster in clusters:\n",
    "    user_annotations = data_oi.iloc[i]\n",
    "    i += 1\n",
    "    x = user_annotations[\"OFFSET\"]\n",
    "    y = x + user_annotations[\"DURATION\"]\n",
    "    plt.xlabel(\"Start Time\")\n",
    "    plt.ylabel(\"End Time\")\n",
    "    plt.plot(x, y, 'o', color=colors[cluster]);\n"
   ]
  },
  {
   "cell_type": "markdown",
   "metadata": {
    "id": "XurdBTut4VyQ"
   },
   "source": [
    "Testing Drawing Graph of Start and End Times"
   ]
  },
  {
   "cell_type": "code",
   "execution_count": null,
   "metadata": {
    "colab": {
     "base_uri": "https://localhost:8080/",
     "height": 279
    },
    "id": "3Z8Y4IdPtrza",
    "outputId": "31f34355-5061-4154-ed71-b2d442354f76"
   },
   "outputs": [
    {
     "data": {
      "image/png": "[encoded data removed]",
      "text/plain": [
       "<Figure size 432x288 with 1 Axes>"
      ]
     },
     "metadata": {
      "needs_background": "light"
     },
     "output_type": "display_data"
    }
   ],
   "source": [
    "data_oi = data[data[\"IN FILE\"] == \"XC552343_-_Screaming_Piha_-_Lipaugus_vociferans.mp3\"]\n",
    "x = data_oi[\"OFFSET\"]\n",
    "y = x + data_oi[\"DURATION\"]\n",
    "plt.xlabel(\"Start Time\")\n",
    "plt.ylabel(\"End Time\")\n",
    "plt.plot(x, y, 'o', color='black');\n",
    "#"
   ]
  },
  {
   "cell_type": "markdown",
   "metadata": {
    "id": "2KWV_N-F4i-I"
   },
   "source": [
    "Each user gets a unqiue color. This allows for seeing how users colored clips"
   ]
  },
  {
   "cell_type": "code",
   "execution_count": null,
   "metadata": {
    "colab": {
     "base_uri": "https://localhost:8080/",
     "height": 279
    },
    "id": "zDt8A4rfz-SP",
    "outputId": "387d799c-019c-4c89-9366-93be04341272"
   },
   "outputs": [
    {
     "data": {
      "image/png": "[encoded data removed]",
      "text/plain": [
       "<Figure size 432x288 with 1 Axes>"
      ]
     },
     "metadata": {
      "needs_background": "light"
     },
     "output_type": "display_data"
    }
   ],
   "source": [
    "labels_users_plot(\"XC425555_-_Screaming_Piha_-_Lipaugus_vociferans.mp3\")\n",
    "#This example shows two piha calls with thier precalls and then thier main call, hence the variablity of the clusters, overall we see 2 main labels"
   ]
  },
  {
   "cell_type": "code",
   "execution_count": null,
   "metadata": {
    "colab": {
     "base_uri": "https://localhost:8080/",
     "height": 279
    },
    "id": "2xZ3iEk-0Dmf",
    "outputId": "aaaadafb-6c5d-42a0-9b6a-9120afe6dee4"
   },
   "outputs": [
    {
     "data": {
      "image/png": "[encoded data removed]",
      "text/plain": [
       "<Figure size 432x288 with 1 Axes>"
      ]
     },
     "metadata": {
      "needs_background": "light"
     },
     "output_type": "display_data"
    }
   ],
   "source": [
    "labels_users_plot(\"XC552343_-_Screaming_Piha_-_Lipaugus_vociferans.mp3\")\n",
    "#This Piha had consisent, repeating calls\n",
    "#If appears this might have made things easier to label"
   ]
  },
  {
   "cell_type": "code",
   "execution_count": null,
   "metadata": {
    "colab": {
     "base_uri": "https://localhost:8080/",
     "height": 279
    },
    "id": "VMIRZnR30ELm",
    "outputId": "49e0a532-7b16-4382-e187-30607c26d30d"
   },
   "outputs": [
    {
     "data": {
      "image/png": "[encoded data removed]",
      "text/plain": [
       "<Figure size 432x288 with 1 Axes>"
      ]
     },
     "metadata": {
      "needs_background": "light"
     },
     "output_type": "display_data"
    }
   ],
   "source": [
    "labels_users_plot(\"XC591821_-_Screaming_Piha_-_Lipaugus_vociferans.mp3\")\n",
    "#In this clip, the main variablity was the last call in the clip\n",
    "#It had a precall fallowed by about a brief silence then main call\n",
    "#This would be our case where users are following 2 diffrent labeling schemes:\n",
    "#  -Label each syabul (resulting in the mutliple labels shown)\n",
    "#  -Label each high-level call (pre + main call)"
   ]
  },
  {
   "cell_type": "markdown",
   "metadata": {
    "id": "HKWg9Mjt4png"
   },
   "source": [
    "Clustering Tests!\n",
    "\n",
    "Frist test, use density based clustering (DBSCAN) since predetermining number of clusters is difficult. Challenge is determining how to assign distance between neighborhoods.\n",
    "\n"
   ]
  },
  {
   "cell_type": "code",
   "execution_count": null,
   "metadata": {
    "id": "lwIa6SNIgrU5"
   },
   "outputs": [],
   "source": [
    "\n",
    "import math\n",
    "from tabulate import tabulate"
   ]
  },
  {
   "cell_type": "code",
   "execution_count": null,
   "metadata": {
    "id": "V7ouQPyRkKTm"
   },
   "outputs": [],
   "source": [
    "#TODO: INVESTIGATE WHAT CLUSTERING METHOD CAN WORK\n",
    "from sklearn.cluster import DBSCAN\n",
    "\n",
    "def label_clusters_DBSCAN(file_, distance=0.5, agreement=1, x=\"OFFSET\"):\n",
    "  data_oi = data[data[\"IN FILE\"] == file_]\n",
    "  users = data_oi[\"LAST MOD BY\"].unique()\n",
    "  model = DBSCAN(\n",
    "                            eps=distance, \n",
    "                            min_samples=math.floor(len(users) * agreement), #len(users)\n",
    "                            metric='euclidean',\n",
    "                            metric_params=None,\n",
    "                            algorithm='auto',\n",
    "                            leaf_size=30,\n",
    "                            p=None,\n",
    "                            n_jobs=None\n",
    "                          )\n",
    "  data_oi = data_oi[[\"OFFSET\", \"DURATION\"]]\n",
    "  data_oi[\"END TIMES\"] = data_oi[\"DURATION\"].add(data_oi[\"OFFSET\"], fill_value=0)\n",
    "  #print(tabulate(data_oi, headers='keys', tablefmt='psql'))\n",
    "  model = model.fit(data_oi[[\"OFFSET\", \"END TIMES\"]])\n",
    "  clusters = model.fit_predict(data_oi[[\"OFFSET\", \"DURATION\"]])\n",
    "  print(clusters)\n",
    "\n",
    "  colors = (plt.cm.rainbow(np.linspace(0, 1, max(clusters)+2)))\n",
    "  i = 0\n",
    "  for cluster in clusters:\n",
    "    user_annotations = data_oi.iloc[i]\n",
    "    i += 1\n",
    "    x = user_annotations[\"OFFSET\"]\n",
    "    y = x + user_annotations[\"DURATION\"]\n",
    "    plt.xlabel(\"Start Time\")\n",
    "    plt.ylabel(\"End Time\")\n",
    "    plt.plot(x, y, 'o', color=colors[cluster+1]);"
   ]
  },
  {
   "cell_type": "code",
   "execution_count": null,
   "metadata": {
    "colab": {
     "base_uri": "https://localhost:8080/",
     "height": 296
    },
    "id": "EtXxjwBCn3-m",
    "outputId": "791aaf48-686e-4b2a-93d0-21f5e2623b3d"
   },
   "outputs": [
    {
     "name": "stdout",
     "output_type": "stream",
     "text": [
      "[0 1 1 0 0 1 1 1 1 0 0 0 1 0 1 1 0 1 1 0 0 1 1]\n"
     ]
    },
    {
     "data": {
      "image/png": "[encoded data removed]",
      "text/plain": [
       "<Figure size 432x288 with 1 Axes>"
      ]
     },
     "metadata": {
      "needs_background": "light"
     },
     "output_type": "display_data"
    }
   ],
   "source": [
    "label_clusters_DBSCAN(\"XC425555_-_Screaming_Piha_-_Lipaugus_vociferans.mp3\", 2)"
   ]
  },
  {
   "cell_type": "code",
   "execution_count": null,
   "metadata": {
    "colab": {
     "base_uri": "https://localhost:8080/",
     "height": 296
    },
    "id": "szCjYlUSdf-z",
    "outputId": "0f34d086-e8c0-42b8-af2b-abdab9d78e79"
   },
   "outputs": [
    {
     "name": "stdout",
     "output_type": "stream",
     "text": [
      "[-1 -1 -1 -1 -1 -1 -1 -1 -1 -1 -1 -1 -1 -1 -1 -1 -1 -1 -1 -1 -1 -1 -1]\n"
     ]
    },
    {
     "data": {
      "image/png": "[encoded data removed]",
      "text/plain": [
       "<Figure size 432x288 with 1 Axes>"
      ]
     },
     "metadata": {
      "needs_background": "light"
     },
     "output_type": "display_data"
    }
   ],
   "source": [
    "label_clusters_DBSCAN(\"XC425555_-_Screaming_Piha_-_Lipaugus_vociferans.mp3\", 0.5)"
   ]
  },
  {
   "cell_type": "code",
   "execution_count": null,
   "metadata": {
    "colab": {
     "base_uri": "https://localhost:8080/",
     "height": 296
    },
    "id": "X0Mv18zvjbq4",
    "outputId": "04120026-2c91-4ef7-d3f0-81a3a4735a27"
   },
   "outputs": [
    {
     "name": "stdout",
     "output_type": "stream",
     "text": [
      "[-1 -1 -1 -1 -1 -1 -1 -1 -1 -1 -1 -1 -1 -1 -1 -1 -1 -1 -1 -1 -1 -1 -1]\n"
     ]
    },
    {
     "data": {
      "image/png": "[encoded data removed]",
      "text/plain": [
       "<Figure size 432x288 with 1 Axes>"
      ]
     },
     "metadata": {
      "needs_background": "light"
     },
     "output_type": "display_data"
    }
   ],
   "source": [
    "label_clusters_DBSCAN(\"XC425555_-_Screaming_Piha_-_Lipaugus_vociferans.mp3\", 1/2000000000)"
   ]
  },
  {
   "cell_type": "code",
   "execution_count": null,
   "metadata": {
    "colab": {
     "base_uri": "https://localhost:8080/",
     "height": 314
    },
    "id": "9cI_G3Iln4sF",
    "outputId": "98fa07dc-4fa4-474e-c020-66aab84a1f14"
   },
   "outputs": [
    {
     "name": "stdout",
     "output_type": "stream",
     "text": [
      "[4 0 1 2 6 5 3 2 0 4 1 5 6 3 0 4 1 2 5 3 6 0 2 4 1 6 5 3 2 5 6 1 0 4 3 0 4\n",
      " 5 2 1 6 3]\n"
     ]
    },
    {
     "data": {
      "image/png": "[encoded data removed]",
      "text/plain": [
       "<Figure size 432x288 with 1 Axes>"
      ]
     },
     "metadata": {
      "needs_background": "light"
     },
     "output_type": "display_data"
    }
   ],
   "source": [
    "label_clusters_DBSCAN(\"XC552343_-_Screaming_Piha_-_Lipaugus_vociferans.mp3\", 0.5)"
   ]
  },
  {
   "cell_type": "code",
   "execution_count": null,
   "metadata": {
    "colab": {
     "base_uri": "https://localhost:8080/",
     "height": 296
    },
    "id": "MYYAvctvn4cs",
    "outputId": "e6707042-6b74-4920-d2cb-ae69c0f6e54a"
   },
   "outputs": [
    {
     "name": "stdout",
     "output_type": "stream",
     "text": [
      "[ 0  1  2  1 -1  3  0 -1  3  3  2 -1]\n"
     ]
    },
    {
     "data": {
      "image/png": "[encoded data removed]",
      "text/plain": [
       "<Figure size 432x288 with 1 Axes>"
      ]
     },
     "metadata": {
      "needs_background": "light"
     },
     "output_type": "display_data"
    }
   ],
   "source": [
    "label_clusters_DBSCAN(\"XC591821_-_Screaming_Piha_-_Lipaugus_vociferans.mp3\", 0.5, agreement = 0.7)"
   ]
  },
  {
   "cell_type": "code",
   "execution_count": null,
   "metadata": {
    "colab": {
     "base_uri": "https://localhost:8080/",
     "height": 296
    },
    "id": "6GnnYCX5erVR",
    "outputId": "66657cfa-8d64-44eb-9d1f-00432f9972be"
   },
   "outputs": [
    {
     "name": "stdout",
     "output_type": "stream",
     "text": [
      "[ 1 -1  0  1  1  0  0  0  0  1  1  1 -1  1  0 -1 -1  0 -1  1  1  0  0]\n"
     ]
    },
    {
     "data": {
      "image/png": "[encoded data removed]",
      "text/plain": [
       "<Figure size 432x288 with 1 Axes>"
      ]
     },
     "metadata": {
      "needs_background": "light"
     },
     "output_type": "display_data"
    }
   ],
   "source": [
    "label_clusters_DBSCAN(\"XC425555_-_Screaming_Piha_-_Lipaugus_vociferans.mp3\", 1)"
   ]
  },
  {
   "cell_type": "markdown",
   "metadata": {
    "id": "0l5hWqq9eDPO"
   },
   "source": [
    "Summary of Results:\n",
    "\n",
    "- DBCAN could be used to segement very obvious clips\n",
    "- Struggles with different distances between labels at times ie setting max distance for 2 vs 1 in the frist clip\n",
    "\n",
    "Possible solutions\n",
    "- A different clustering algorithm?\n",
    "- Based on distance apart from clusters somehow, maybe set neighborhood limit to half of user annotions?"
   ]
  },
  {
   "cell_type": "markdown",
   "metadata": {
    "id": "czDANLtX4_Gi"
   },
   "source": [
    "Next test, attempt at KMeans.\n",
    "\n",
    "Build a genertic test method that can take in any given clustering model and run the same test"
   ]
  },
  {
   "cell_type": "code",
   "execution_count": null,
   "metadata": {
    "id": "l_MS069wgnyh"
   },
   "outputs": [],
   "source": [
    "from sklearn.cluster import KMeans\n",
    "def label_clusters(model_builder, file_, distance=1/2, agreement=1):\n",
    "  data_oi = data[data[\"IN FILE\"] == file_]\n",
    "  users = data_oi[\"LAST MOD BY\"].unique()\n",
    " \n",
    "  data_oi[\"END TIMES\"] = data_oi[\"DURATION\"].add(data_oi[\"OFFSET\"], fill_value=0)\n",
    "  #print(tabulate(data_oi, headers='keys', tablefmt='psql'))\n",
    "\n",
    "  model = model_builder(data = data_oi, distance = distance, users = users, agreement = agreement)\n",
    "  model = model.fit(data_oi[[\"OFFSET\", \"END TIMES\"]])\n",
    "  clusters = model.fit_predict(data_oi[[\"OFFSET\", \"END TIMES\"]])\n",
    "  data_oi[\"cluster\"] = clusters\n",
    "  print(clusters)\n",
    "\n",
    "  adv_cluster_count = 0\n",
    "  adv_num_unique_users = 0 \n",
    "  for i in range(max(clusters)):\n",
    "     temp = data_oi[data_oi[\"cluster\"] == i]\n",
    "     adv_cluster_count += len(temp)\n",
    "     adv_num_unique_users += len(pd.unique(temp['LAST MOD BY']))\n",
    "  adv_cluster_count /= max(clusters)\n",
    "  adv_num_unique_users /=  max(clusters)\n",
    "  print(\"adverage cluster size: \", adv_cluster_count)\n",
    "  print(\"adverage unqiue users per cluster size: \", adv_num_unique_users)\n",
    "\n",
    "\n",
    "  colors = (plt.cm.rainbow(np.linspace(0, 1, max(clusters)+2)))\n",
    "  i = 0\n",
    "  for cluster in clusters:\n",
    "    user_annotations = data_oi.iloc[i]\n",
    "    i += 1\n",
    "    x = user_annotations[\"OFFSET\"]\n",
    "    y = x + user_annotations[\"DURATION\"]\n",
    "    plt.xlabel(\"Start Time\")\n",
    "    plt.ylabel(\"End Time\")\n",
    "    plt.plot(x, y, 'o', color=colors[cluster+1]);\n",
    "\n",
    "\n",
    "def DBSCAN_builder(data = None, distance = 0.5, users = None, agreement = 0.5):\n",
    "    return DBSCAN(\n",
    "                    eps=distance, \n",
    "                    min_samples=math.floor(len(users) * agreement), #len(users)\n",
    "                    metric='euclidean',\n",
    "                    metric_params=None,\n",
    "                    algorithm='auto',\n",
    "                    leaf_size=30,\n",
    "                    p=None,\n",
    "                    n_jobs=None\n",
    "                  )\n",
    "    \n",
    "def KMEANS_builder(data = None, distance = 0.5, users = None, agreement = 0.5):\n",
    "    n = 0\n",
    "    for i in range(len(users)):\n",
    "      n += len(data[data['LAST MOD BY'] == users[i]])\n",
    "    n = math.ceil(n/len(users))\n",
    "    print(\"number of clusters\")\n",
    "    print(n)\n",
    "    return KMeans(n_clusters=n, random_state=0)"
   ]
  },
  {
   "cell_type": "code",
   "execution_count": null,
   "metadata": {
    "colab": {
     "base_uri": "https://localhost:8080/",
     "height": 383
    },
    "id": "nUsm058FmAeH",
    "outputId": "5bed5878-f709-4b69-8cb8-f19fff301c78"
   },
   "outputs": [
    {
     "name": "stdout",
     "output_type": "stream",
     "text": [
      "number of clusters\n",
      "7\n",
      "[0 5 6 3 1 4 2 3 5 0 6 4 1 2 5 0 6 3 4 2 1 5 3 0 6 1 4 2 3 4 1 6 5 0 2 5 0\n",
      " 4 3 6 1 2]\n",
      "adverage cluster size:  6.0\n",
      "adverage unqiue users per cluster size:  6.0\n"
     ]
    },
    {
     "data": {
      "image/png": "[encoded data removed]",
      "text/plain": [
       "<Figure size 432x288 with 1 Axes>"
      ]
     },
     "metadata": {
      "needs_background": "light"
     },
     "output_type": "display_data"
    }
   ],
   "source": [
    "label_clusters(KMEANS_builder, \"XC552343_-_Screaming_Piha_-_Lipaugus_vociferans.mp3\", distance = 1/2)"
   ]
  },
  {
   "cell_type": "code",
   "execution_count": null,
   "metadata": {
    "colab": {
     "base_uri": "https://localhost:8080/",
     "height": 348
    },
    "id": "cHQBlAPrmuI6",
    "outputId": "7d517488-0b20-49f2-e94f-8a1eaf5f3c42"
   },
   "outputs": [
    {
     "name": "stdout",
     "output_type": "stream",
     "text": [
      "[0 1 2 3 4 5 6 3 1 0 2 5 4 6 1 0 2 3 5 6 4 1 3 0 2 4 5 6 3 5 4 2 1 0 6 1 0\n",
      " 5 3 2 4 6]\n",
      "adverage cluster size:  6.0\n",
      "adverage unqiue users per cluster size:  6.0\n"
     ]
    },
    {
     "data": {
      "image/png": "[encoded data removed]",
      "text/plain": [
       "<Figure size 432x288 with 1 Axes>"
      ]
     },
     "metadata": {
      "needs_background": "light"
     },
     "output_type": "display_data"
    }
   ],
   "source": [
    "label_clusters(DBSCAN_builder, \"XC552343_-_Screaming_Piha_-_Lipaugus_vociferans.mp3\", distance = 1/2)"
   ]
  },
  {
   "cell_type": "code",
   "execution_count": null,
   "metadata": {
    "colab": {
     "base_uri": "https://localhost:8080/",
     "height": 366
    },
    "id": "kHw6fUc_m7Qr",
    "outputId": "36fdab01-9632-402d-db85-2b77e5315915"
   },
   "outputs": [
    {
     "name": "stdout",
     "output_type": "stream",
     "text": [
      "number of clusters\n",
      "4\n",
      "[0 1 1 0 0 2 1 1 1 3 0 3 2 0 1 2 3 1 1 0 0 2 1]\n",
      "adverage cluster size:  6.666666666666667\n",
      "adverage unqiue users per cluster size:  5.0\n"
     ]
    },
    {
     "data": {
      "image/png": "[encoded data removed]",
      "text/plain": [
       "<Figure size 432x288 with 1 Axes>"
      ]
     },
     "metadata": {
      "needs_background": "light"
     },
     "output_type": "display_data"
    }
   ],
   "source": [
    "label_clusters(KMEANS_builder, \"XC425555_-_Screaming_Piha_-_Lipaugus_vociferans.mp3\",  distance = 1/2)"
   ]
  },
  {
   "cell_type": "code",
   "execution_count": null,
   "metadata": {
    "colab": {
     "base_uri": "https://localhost:8080/",
     "height": 366
    },
    "id": "LEeMyyu5nAhC",
    "outputId": "391835bc-5e34-44c7-df6e-f6548b46ad90"
   },
   "outputs": [
    {
     "name": "stdout",
     "output_type": "stream",
     "text": [
      "number of clusters\n",
      "3\n",
      "[2 1 0 1 0 0 2 0 0 0 0 1]\n",
      "adverage cluster size:  5.0\n",
      "adverage unqiue users per cluster size:  3.0\n"
     ]
    },
    {
     "data": {
      "image/png": "[encoded data removed]",
      "text/plain": [
       "<Figure size 432x288 with 1 Axes>"
      ]
     },
     "metadata": {
      "needs_background": "light"
     },
     "output_type": "display_data"
    }
   ],
   "source": [
    "label_clusters(KMEANS_builder, \"XC591821_-_Screaming_Piha_-_Lipaugus_vociferans.mp3\", distance = 1/2)"
   ]
  },
  {
   "cell_type": "markdown",
   "metadata": {
    "id": "dFei809knyBO"
   },
   "source": [
    "KMEANS: \n",
    "- great when users label the same amount\n",
    "- fails with mutli labels despite attempts to handle that\n",
    "- Stick to density based clustering\n",
    "\n",
    "Next test: take the median distance between each user's annotations (therefore a center of how spaced apart the bird calls were) and factor by some scalar (1/3) in this case to create a distance for neighborhoods\n",
    "- Possible limitation going into mutliclass species labels, we will look at that possiblity later"
   ]
  },
  {
   "cell_type": "code",
   "execution_count": null,
   "metadata": {
    "id": "p0Se7t-Wn_5b"
   },
   "outputs": [],
   "source": [
    "import statistics\n",
    "def distance_cal(s1,e1,s2,e2):\n",
    "  return math.sqrt((s2 - s1) * (s2 - s1) + (e2 - e1) * (e2 - e1) )\n",
    "\n",
    "def DBSCAN_auto_dis_builder(data = None, distance = 1/3, users = None, agreement = 0.5):\n",
    "    NEIGHBORHOOD_SCALAR = distance\n",
    "\n",
    "    n = 0\n",
    "    adv_distance = []\n",
    "    for i in range(len(users)):\n",
    "      dists = []\n",
    "      user_labels = data[data['LAST MOD BY'] == users[i]]\n",
    "      s1 = 0\n",
    "      e1 = 0\n",
    "      s2 = 0\n",
    "      e2 = 0\n",
    "      skip = True\n",
    "      for index, row in user_labels.iterrows():\n",
    "        s2 = float(row[\"OFFSET\"])\n",
    "        e2 = float(row[\"END TIMES\"])\n",
    "        if (not skip):\n",
    "          dists.append(distance_cal(s1,e1,s2,e2))\n",
    "        skip = False\n",
    "        s1 = s2\n",
    "        e1 = e2\n",
    "      adv_distance.extend(dists)\n",
    "    adv_distance = statistics.median(adv_distance) * NEIGHBORHOOD_SCALAR #\n",
    "    print(adv_distance/NEIGHBORHOOD_SCALAR, adv_distance)\n",
    "    return DBSCAN(\n",
    "                    eps=adv_distance, \n",
    "                    min_samples=1\n",
    "                  )"
   ]
  },
  {
   "cell_type": "code",
   "execution_count": null,
   "metadata": {
    "colab": {
     "base_uri": "https://localhost:8080/",
     "height": 366
    },
    "id": "pYtfruEeo94g",
    "outputId": "8b2c8435-1545-4cd9-8d83-5bba6b8fd8e2"
   },
   "outputs": [
    {
     "name": "stdout",
     "output_type": "stream",
     "text": [
      "1.6324079807882785 0.8162039903941393\n",
      "[0 1 2 3 4 5 6 3 1 0 2 5 4 6 1 0 2 3 5 6 4 1 3 0 2 4 5 6 3 5 4 2 1 0 6 1 0\n",
      " 5 3 2 4 6]\n",
      "adverage cluster size:  6.0\n",
      "adverage unqiue users per cluster size:  6.0\n"
     ]
    },
    {
     "data": {
      "image/png": "[encoded data removed]",
      "text/plain": [
       "<Figure size 432x288 with 1 Axes>"
      ]
     },
     "metadata": {
      "needs_background": "light"
     },
     "output_type": "display_data"
    }
   ],
   "source": [
    "label_clusters(DBSCAN_auto_dis_builder, \"XC552343_-_Screaming_Piha_-_Lipaugus_vociferans.mp3\")"
   ]
  },
  {
   "cell_type": "code",
   "execution_count": null,
   "metadata": {
    "colab": {
     "base_uri": "https://localhost:8080/",
     "height": 348
    },
    "id": "K_5oE3oIKtqQ",
    "outputId": "7d8c199a-9c7c-4da8-8807-ac19ca06c93c"
   },
   "outputs": [
    {
     "name": "stdout",
     "output_type": "stream",
     "text": [
      "15.92258385061922 7.96129192530961\n",
      "[0 1 1 0 0 1 1 1 1 0 0 0 1 0 1 1 0 1 1 0 0 1 1]\n",
      "adverage cluster size:  10.0\n",
      "adverage unqiue users per cluster size:  6.0\n"
     ]
    },
    {
     "data": {
      "image/png": "[encoded data removed]",
      "text/plain": [
       "<Figure size 432x288 with 1 Axes>"
      ]
     },
     "metadata": {
      "needs_background": "light"
     },
     "output_type": "display_data"
    }
   ],
   "source": [
    "label_clusters(DBSCAN_auto_dis_builder, \"XC425555_-_Screaming_Piha_-_Lipaugus_vociferans.mp3\")"
   ]
  },
  {
   "cell_type": "code",
   "execution_count": null,
   "metadata": {
    "colab": {
     "base_uri": "https://localhost:8080/",
     "height": 348
    },
    "id": "6nRWI0C7K0_A",
    "outputId": "86e40fc1-6020-490c-9880-371b5b034f42"
   },
   "outputs": [
    {
     "name": "stdout",
     "output_type": "stream",
     "text": [
      "1.6644922267135294 0.8322461133567647\n",
      "[0 1 2 1 2 2 0 2 2 2 2 3]\n",
      "adverage cluster size:  3.6666666666666665\n",
      "adverage unqiue users per cluster size:  2.6666666666666665\n"
     ]
    },
    {
     "data": {
      "image/png": "[encoded data removed]",
      "text/plain": [
       "<Figure size 432x288 with 1 Axes>"
      ]
     },
     "metadata": {
      "needs_background": "light"
     },
     "output_type": "display_data"
    }
   ],
   "source": [
    "label_clusters(DBSCAN_auto_dis_builder, \"XC591821_-_Screaming_Piha_-_Lipaugus_vociferans.mp3\")\n"
   ]
  },
  {
   "cell_type": "markdown",
   "metadata": {
    "id": "tSSwmIKd5vvV"
   },
   "source": [
    "Seems to work decently well given an aritbary scalar factor of 1/3. Could possiblity consider an alternative means of determining neighborhood distances but the proof of concept seems to do well here.\n",
    "\n",
    "Possible next steps:\n",
    "We need to figure out determining what mertic is needed to determine a poorly annotated clip based on clustering. Some possible meterics are:\n",
    "\n",
    "- Adverage number of annotations in a cluster\n",
    "- Adverage number of unqiue users in a cluster\n",
    "- size of cluster\n",
    "\n",
    "Given our examples, we obsreve that the fewer annotations in the same cluster compared to the number of annotators is more likely a bad annotation and one that should be flagged for review (see previous graph) whereas the \"better\" labeled annotations have more annotations than users. We also see that better clusters have more unqiue users per clip. These meterics need little post processing compared to the pairwise_IOU mertics for determining clip accuratcy.\n",
    "\n"
   ]
  },
  {
   "cell_type": "code",
   "execution_count": null,
   "metadata": {
    "id": "O949uMUm6NCh"
   },
   "outputs": [],
   "source": [
    "##Experiments in Redefine clustering system to consider if a annotation is longer or shorter than most\n",
    "def label_clusters(model_builder, file_, neighbor_distance_scale=1/3, agreement=1, min_duration = 0, line=True, min=False):\n",
    "  data_oi = data[data[\"IN FILE\"] == file_]\n",
    "  data_oi = data_oi[data_oi[\"DURATION\"] > min_duration]\n",
    "  users = data_oi[\"LAST MOD BY\"].unique()\n",
    " \n",
    "  data_oi[\"END TIMES\"] = data_oi[\"DURATION\"].add(data_oi[\"OFFSET\"], fill_value=0)\n",
    "  #print(tabulate(data_oi, headers='keys', tablefmt='psql'))\n",
    "\n",
    "  model = model_builder(data = data_oi, users = users, distance = neighbor_distance_scale, agreement = agreement)\n",
    "  clusters = model.fit_predict(data_oi[[\"OFFSET\", \"END TIMES\"]])\n",
    "  print(clusters)\n",
    "  data_oi[\"cluster\"] = clusters\n",
    "  print(clusters)\n",
    "\n",
    "  adv_cluster_count = 0\n",
    "  adv_num_unique_users = 0 \n",
    "  for i in range(max(clusters)):\n",
    "     temp = data_oi[data_oi[\"cluster\"] == i]\n",
    "     adv_cluster_count += len(temp)\n",
    "     adv_num_unique_users += len(pd.unique(temp['LAST MOD BY']))\n",
    "  adv_cluster_count /= max(clusters)\n",
    "  adv_num_unique_users /=  max(clusters)\n",
    "  print(\"adverage cluster size: \", adv_cluster_count)\n",
    "  print(\"adverage unqiue users per cluster size: \", adv_num_unique_users)\n",
    "  print(\"Total Users: \", len(users))\n",
    "\n",
    "\n",
    "  colors = (plt.cm.rainbow(np.linspace(0, 1, max(clusters)+2)))\n",
    "  if(line):\n",
    "    line_x = x = np.linspace(0, max(data_oi[\"OFFSET\"]), 1000)\n",
    "    line_y = 1\n",
    "    print(\"slope:\",line_y)\n",
    "    plt.plot(line_x, line_y * line_x)\n",
    "  i = 0\n",
    "  for cluster in clusters:\n",
    "    user_annotations = data_oi.iloc[i]\n",
    "    i += 1\n",
    "    x = user_annotations[\"OFFSET\"]\n",
    "    y = user_annotations[\"END TIMES\"]\n",
    "    plt.xlabel(\"Start Time\")\n",
    "    plt.ylabel(\"End Time\")\n",
    "    plt.plot(x, y, 'o', color=colors[cluster+1]);\n"
   ]
  },
  {
   "cell_type": "code",
   "execution_count": null,
   "metadata": {
    "colab": {
     "base_uri": "https://localhost:8080/",
     "height": 401
    },
    "id": "Z6p4RqvQDRtO",
    "outputId": "1aa0b114-4a81-426c-e938-b6bcccc889a1"
   },
   "outputs": [
    {
     "name": "stdout",
     "output_type": "stream",
     "text": [
      "1.6644922267135294 0.5548307422378431\n",
      "[0 1 2 1 3 4 0 5 4 6 2 7]\n",
      "[0 1 2 1 3 4 0 5 4 6 2 7]\n",
      "adverage cluster size:  1.5714285714285714\n",
      "adverage unqiue users per cluster size:  1.5714285714285714\n",
      "Total Users:  4\n",
      "slope: 1\n"
     ]
    },
    {
     "data": {
      "image/png": "[encoded data removed]",
      "text/plain": [
       "<Figure size 432x288 with 1 Axes>"
      ]
     },
     "metadata": {
      "needs_background": "light"
     },
     "output_type": "display_data"
    }
   ],
   "source": [
    "label_clusters(DBSCAN_auto_dis_builder, \"XC591821_-_Screaming_Piha_-_Lipaugus_vociferans.mp3\")"
   ]
  },
  {
   "cell_type": "code",
   "execution_count": null,
   "metadata": {
    "colab": {
     "base_uri": "https://localhost:8080/",
     "height": 401
    },
    "id": "i3yx0cXiHMO8",
    "outputId": "b9fe2ac8-de01-4ba9-fa1b-5d5972a9faee"
   },
   "outputs": [
    {
     "name": "stdout",
     "output_type": "stream",
     "text": [
      "1.6644922267135294 0.5548307422378431\n",
      "[0 1 2 1 3 4 0 4 5 2]\n",
      "[0 1 2 1 3 4 0 4 5 2]\n",
      "adverage cluster size:  1.8\n",
      "adverage unqiue users per cluster size:  1.8\n",
      "Total Users:  4\n",
      "slope: 1\n"
     ]
    },
    {
     "data": {
      "image/png": "[encoded data removed]",
      "text/plain": [
       "<Figure size 432x288 with 1 Axes>"
      ]
     },
     "metadata": {
      "needs_background": "light"
     },
     "output_type": "display_data"
    }
   ],
   "source": [
    "label_clusters(DBSCAN_auto_dis_builder, \"XC591821_-_Screaming_Piha_-_Lipaugus_vociferans.mp3\", min_duration=0.25, neighbor_distance_scale=1/3)"
   ]
  },
  {
   "cell_type": "code",
   "execution_count": null,
   "metadata": {
    "colab": {
     "base_uri": "https://localhost:8080/",
     "height": 401
    },
    "id": "GK2_ItckKqYJ",
    "outputId": "f77f2a62-549a-4bd7-fe7f-1046eb3c52d7"
   },
   "outputs": [
    {
     "name": "stdout",
     "output_type": "stream",
     "text": [
      "1.6644922267135294 1.6644922267135294\n",
      "[0 1 0 1 0 0 0 0 0 0]\n",
      "[0 1 0 1 0 0 0 0 0 0]\n",
      "adverage cluster size:  8.0\n",
      "adverage unqiue users per cluster size:  4.0\n",
      "Total Users:  4\n",
      "slope: 1\n"
     ]
    },
    {
     "data": {
      "image/png": "[encoded data removed]",
      "text/plain": [
       "<Figure size 432x288 with 1 Axes>"
      ]
     },
     "metadata": {
      "needs_background": "light"
     },
     "output_type": "display_data"
    }
   ],
   "source": [
    "label_clusters(DBSCAN_auto_dis_builder, \"XC591821_-_Screaming_Piha_-_Lipaugus_vociferans.mp3\", min_duration=0.25, neighbor_distance_scale=1)"
   ]
  },
  {
   "cell_type": "code",
   "execution_count": null,
   "metadata": {
    "colab": {
     "base_uri": "https://localhost:8080/",
     "height": 401
    },
    "id": "Pzppr3HIJgut",
    "outputId": "2aad22ab-39ee-46b9-80df-baaaf8b31714"
   },
   "outputs": [
    {
     "name": "stdout",
     "output_type": "stream",
     "text": [
      "1.6644922267135294 0.9986953360281176\n",
      "[0 1 2 1 2 2 0 2 2 2]\n",
      "[0 1 2 1 2 2 0 2 2 2]\n",
      "adverage cluster size:  2.0\n",
      "adverage unqiue users per cluster size:  2.0\n",
      "Total Users:  4\n",
      "slope: 1\n"
     ]
    },
    {
     "data": {
      "image/png": "[encoded data removed]",
      "text/plain": [
       "<Figure size 432x288 with 1 Axes>"
      ]
     },
     "metadata": {
      "needs_background": "light"
     },
     "output_type": "display_data"
    }
   ],
   "source": [
    "label_clusters(DBSCAN_auto_dis_builder, \"XC591821_-_Screaming_Piha_-_Lipaugus_vociferans.mp3\", min_duration=0.25, neighbor_distance_scale=0.6)"
   ]
  },
  {
   "cell_type": "code",
   "execution_count": null,
   "metadata": {
    "colab": {
     "base_uri": "https://localhost:8080/",
     "height": 435
    },
    "id": "a04caZOmJ2zm",
    "outputId": "8f107cf8-9710-4833-890f-5529f0dcbeba"
   },
   "outputs": [
    {
     "name": "stdout",
     "output_type": "stream",
     "text": [
      "1.6324079807882785 0.9794447884729671\n",
      "[0 1 2 2 3 4 5 2 1 0 2 4 3 5 1 0 2 2 4 5 3 1 2 0 2 3 4 5 2 4 3 2 1 0 5 1 0\n",
      " 4 2 2 3 5]\n",
      "[0 1 2 2 3 4 5 2 1 0 2 4 3 5 1 0 2 2 4 5 3 1 2 0 2 3 4 5 2 4 3 2 1 0 5 1 0\n",
      " 4 2 2 3 5]\n",
      "adverage cluster size:  7.2\n",
      "adverage unqiue users per cluster size:  6.0\n",
      "Total Users:  6\n",
      "slope: 1\n"
     ]
    },
    {
     "data": {
      "image/png": "[encoded data removed]",
      "text/plain": [
       "<Figure size 432x288 with 1 Axes>"
      ]
     },
     "metadata": {
      "needs_background": "light"
     },
     "output_type": "display_data"
    }
   ],
   "source": [
    "label_clusters(DBSCAN_auto_dis_builder, \"XC552343_-_Screaming_Piha_-_Lipaugus_vociferans.mp3\", min_duration=0.25, neighbor_distance_scale=0.6)"
   ]
  },
  {
   "cell_type": "code",
   "execution_count": null,
   "metadata": {
    "colab": {
     "base_uri": "https://localhost:8080/",
     "height": 401
    },
    "id": "5mn-ptJNJ3Nt",
    "outputId": "bcf3c52a-16a9-4a9e-9902-c4814c3b709f"
   },
   "outputs": [
    {
     "name": "stdout",
     "output_type": "stream",
     "text": [
      "15.92258385061922 9.553550310371532\n",
      "[0 1 1 0 0 1 1 1 1 0 0 0 1 0 1 1 0 1 1 0 0 1 1]\n",
      "[0 1 1 0 0 1 1 1 1 0 0 0 1 0 1 1 0 1 1 0 0 1 1]\n",
      "adverage cluster size:  10.0\n",
      "adverage unqiue users per cluster size:  6.0\n",
      "Total Users:  6\n",
      "slope: 1\n"
     ]
    },
    {
     "data": {
      "image/png": "[encoded data removed]",
      "text/plain": [
       "<Figure size 432x288 with 1 Axes>"
      ]
     },
     "metadata": {
      "needs_background": "light"
     },
     "output_type": "display_data"
    }
   ],
   "source": [
    "label_clusters(DBSCAN_auto_dis_builder, \"XC425555_-_Screaming_Piha_-_Lipaugus_vociferans.mp3\", min_duration=0.25, neighbor_distance_scale=0.6)"
   ]
  },
  {
   "cell_type": "code",
   "execution_count": null,
   "metadata": {
    "colab": {
     "base_uri": "https://localhost:8080/",
     "height": 401
    },
    "id": "qVXj6j99K4MQ",
    "outputId": "8923972f-c764-4c97-acef-5c489ec0bebc"
   },
   "outputs": [
    {
     "name": "stdout",
     "output_type": "stream",
     "text": [
      "1.6644922267135294 0.9986953360281176\n",
      "[0 1 2 1 2 2 0 2 2 2 2 1]\n",
      "[0 1 2 1 2 2 0 2 2 2 2 1]\n",
      "adverage cluster size:  2.5\n",
      "adverage unqiue users per cluster size:  2.0\n",
      "Total Users:  4\n",
      "slope: 1\n"
     ]
    },
    {
     "data": {
      "image/png": "[encoded data removed]",
      "text/plain": [
       "<Figure size 432x288 with 1 Axes>"
      ]
     },
     "metadata": {
      "needs_background": "light"
     },
     "output_type": "display_data"
    }
   ],
   "source": [
    "label_clusters(DBSCAN_auto_dis_builder, \"XC591821_-_Screaming_Piha_-_Lipaugus_vociferans.mp3\", min_duration=0, neighbor_distance_scale=0.6)"
   ]
  },
  {
   "cell_type": "code",
   "execution_count": null,
   "metadata": {
    "id": "v9cqld8iMNFt"
   },
   "outputs": [],
   "source": [
    "def DBSCAN_auto_dis_builder_min_dis(data = None, distance = 1, users = None, agreement = 0.5):\n",
    "    NEIGHBORHOOD_SCALAR = distance\n",
    "\n",
    "    n = 0\n",
    "    adv_distance = []\n",
    "    dists_raw = []\n",
    "    for i in range(len(users)):\n",
    "      dists = []\n",
    "      user_labels = data[data['LAST MOD BY'] == users[i]]\n",
    "      s1 = 0\n",
    "      e1 = 0\n",
    "      s2 = 0\n",
    "      e2 = 0\n",
    "      skip = True\n",
    "      for index, row in user_labels.iterrows():\n",
    "        s2 = float(row[\"OFFSET\"])\n",
    "        e2 = float(row[\"END TIMES\"])\n",
    "        dist = distance_cal(s1,e1,s2,e2)\n",
    "        if (not skip):\n",
    "          dists_raw.append(dist)\n",
    "        \n",
    "        skip = False\n",
    "        s1 = s2\n",
    "        e1 = e2\n",
    "      adv_distance.extend(dists_raw)\n",
    "    adv_distance = min(adv_distance) * NEIGHBORHOOD_SCALAR #\n",
    "    print(adv_distance/NEIGHBORHOOD_SCALAR, adv_distance)\n",
    "    return DBSCAN(\n",
    "                    eps=adv_distance, \n",
    "                    min_samples=1\n",
    "                  )"
   ]
  },
  {
   "cell_type": "code",
   "execution_count": null,
   "metadata": {
    "colab": {
     "base_uri": "https://localhost:8080/",
     "height": 401
    },
    "id": "iX4wbyEBMWSF",
    "outputId": "a48229ee-73cf-4c80-8d3b-1f85ed350547"
   },
   "outputs": [
    {
     "name": "stdout",
     "output_type": "stream",
     "text": [
      "0.7403599732562529 0.7403599732562529\n",
      "[0 1 2 1 2 2 0 2 2 2 2 3]\n",
      "[0 1 2 1 2 2 0 2 2 2 2 3]\n",
      "adverage cluster size:  3.6666666666666665\n",
      "adverage unqiue users per cluster size:  2.6666666666666665\n",
      "Total Users:  4\n",
      "slope: 1\n"
     ]
    },
    {
     "data": {
      "image/png": "[encoded data removed]",
      "text/plain": [
       "<Figure size 432x288 with 1 Axes>"
      ]
     },
     "metadata": {
      "needs_background": "light"
     },
     "output_type": "display_data"
    }
   ],
   "source": [
    "label_clusters(DBSCAN_auto_dis_builder_min_dis, \"XC591821_-_Screaming_Piha_-_Lipaugus_vociferans.mp3\", min_duration=1/50, neighbor_distance_scale=1)"
   ]
  },
  {
   "cell_type": "code",
   "execution_count": null,
   "metadata": {
    "colab": {
     "base_uri": "https://localhost:8080/",
     "height": 435
    },
    "id": "O7rPrpI2Mbuu",
    "outputId": "d56a8839-054c-4038-8e9f-148a4d5b0558"
   },
   "outputs": [
    {
     "name": "stdout",
     "output_type": "stream",
     "text": [
      "0.9791088856710474 0.9791088856710474\n",
      "[0 1 2 2 3 4 5 2 1 0 2 4 3 5 1 0 2 2 4 5 3 1 2 0 2 3 4 5 2 4 3 2 1 0 5 1 0\n",
      " 4 2 2 3 5]\n",
      "[0 1 2 2 3 4 5 2 1 0 2 4 3 5 1 0 2 2 4 5 3 1 2 0 2 3 4 5 2 4 3 2 1 0 5 1 0\n",
      " 4 2 2 3 5]\n",
      "adverage cluster size:  7.2\n",
      "adverage unqiue users per cluster size:  6.0\n",
      "Total Users:  6\n",
      "slope: 1\n"
     ]
    },
    {
     "data": {
      "image/png": "[encoded data removed]",
      "text/plain": [
       "<Figure size 432x288 with 1 Axes>"
      ]
     },
     "metadata": {
      "needs_background": "light"
     },
     "output_type": "display_data"
    }
   ],
   "source": [
    "label_clusters(DBSCAN_auto_dis_builder_min_dis, \"XC552343_-_Screaming_Piha_-_Lipaugus_vociferans.mp3\", min_duration=0, neighbor_distance_scale=1)"
   ]
  },
  {
   "cell_type": "code",
   "execution_count": null,
   "metadata": {
    "colab": {
     "base_uri": "https://localhost:8080/",
     "height": 435
    },
    "id": "hZ7hVSIAwWXj",
    "outputId": "79e13eb0-d538-4d14-de1c-425e3a60b593"
   },
   "outputs": [
    {
     "name": "stdout",
     "output_type": "stream",
     "text": [
      "0.9791088856710474 0.8811979971039426\n",
      "[0 1 2 3 4 5 6 3 1 0 2 5 4 6 1 0 2 3 5 6 4 1 3 0 2 4 5 6 3 5 4 2 1 0 6 1 0\n",
      " 5 3 2 4 6]\n",
      "[0 1 2 3 4 5 6 3 1 0 2 5 4 6 1 0 2 3 5 6 4 1 3 0 2 4 5 6 3 5 4 2 1 0 6 1 0\n",
      " 5 3 2 4 6]\n",
      "adverage cluster size:  6.0\n",
      "adverage unqiue users per cluster size:  6.0\n",
      "Total Users:  6\n",
      "slope: 1\n"
     ]
    },
    {
     "data": {
      "image/png": "[encoded data removed]",
      "text/plain": [
       "<Figure size 432x288 with 1 Axes>"
      ]
     },
     "metadata": {
      "needs_background": "light"
     },
     "output_type": "display_data"
    }
   ],
   "source": [
    "label_clusters(DBSCAN_auto_dis_builder_min_dis, \"XC552343_-_Screaming_Piha_-_Lipaugus_vociferans.mp3\", min_duration=0, neighbor_distance_scale=0.9)"
   ]
  },
  {
   "cell_type": "code",
   "execution_count": null,
   "metadata": {
    "colab": {
     "base_uri": "https://localhost:8080/",
     "height": 401
    },
    "id": "zX_goQ09MdSl",
    "outputId": "bebfd211-11b6-4ae2-b20d-d2cc5b847b24"
   },
   "outputs": [
    {
     "name": "stdout",
     "output_type": "stream",
     "text": [
      "0.8166798944506968 0.8166798944506968\n",
      "[0 1 2 0 0 3 2 2 2 0 0 0 4 0 2 3 5 2 1 0 0 3 2]\n",
      "[0 1 2 0 0 3 2 2 2 0 0 0 4 0 2 3 5 2 1 0 0 3 2]\n",
      "adverage cluster size:  4.4\n",
      "adverage unqiue users per cluster size:  3.2\n",
      "Total Users:  6\n",
      "slope: 1\n"
     ]
    },
    {
     "data": {
      "image/png": "[encoded data removed]",
      "text/plain": [
       "<Figure size 432x288 with 1 Axes>"
      ]
     },
     "metadata": {
      "needs_background": "light"
     },
     "output_type": "display_data"
    }
   ],
   "source": [
    "label_clusters(DBSCAN_auto_dis_builder_min_dis, \"XC425555_-_Screaming_Piha_-_Lipaugus_vociferans.mp3\", min_duration=0, neighbor_distance_scale=1)"
   ]
  },
  {
   "cell_type": "code",
   "execution_count": null,
   "metadata": {
    "colab": {
     "base_uri": "https://localhost:8080/",
     "height": 435
    },
    "id": "iEnD1KePc4Xu",
    "outputId": "aa2035ce-3632-4bf9-a2a6-46ff06c879ed"
   },
   "outputs": [
    {
     "name": "stdout",
     "output_type": "stream",
     "text": [
      "0.9791088856710474 0.4895544428355237\n",
      "[0 1 2 3 4 5 6 3 1 0 2 5 4 6 1 0 2 3 5 6 4 1 3 0 2 4 5 6 3 5 4 2 1 0 6 1 0\n",
      " 5 3 2 4 6]\n",
      "[0 1 2 3 4 5 6 3 1 0 2 5 4 6 1 0 2 3 5 6 4 1 3 0 2 4 5 6 3 5 4 2 1 0 6 1 0\n",
      " 5 3 2 4 6]\n",
      "adverage cluster size:  6.0\n",
      "adverage unqiue users per cluster size:  6.0\n",
      "Total Users:  6\n",
      "slope: 1\n"
     ]
    },
    {
     "data": {
      "image/png": "[encoded data removed]",
      "text/plain": [
       "<Figure size 432x288 with 1 Axes>"
      ]
     },
     "metadata": {
      "needs_background": "light"
     },
     "output_type": "display_data"
    }
   ],
   "source": [
    "label_clusters(DBSCAN_auto_dis_builder_min_dis, \"XC552343_-_Screaming_Piha_-_Lipaugus_vociferans.mp3\", min_duration=0, neighbor_distance_scale=1/2)\n"
   ]
  },
  {
   "cell_type": "code",
   "execution_count": null,
   "metadata": {
    "colab": {
     "base_uri": "https://localhost:8080/",
     "height": 401
    },
    "id": "pCbucaKXdFsd",
    "outputId": "2e024271-f4b4-4376-dbe1-c1cb2ff49a11"
   },
   "outputs": [
    {
     "name": "stdout",
     "output_type": "stream",
     "text": [
      "0.8166798944506968 0.4083399472253484\n",
      "[ 0  1  2  3  4  5  6  7  8  9 10  9 11 12 13  5 14  2  1  0  0  5 15]\n",
      "[ 0  1  2  3  4  5  6  7  8  9 10  9 11 12 13  5 14  2  1  0  0  5 15]\n",
      "adverage cluster size:  1.4666666666666666\n",
      "adverage unqiue users per cluster size:  1.4666666666666666\n",
      "Total Users:  6\n",
      "slope: 1\n"
     ]
    },
    {
     "data": {
      "image/png": "[encoded data removed]",
      "text/plain": [
       "<Figure size 432x288 with 1 Axes>"
      ]
     },
     "metadata": {
      "needs_background": "light"
     },
     "output_type": "display_data"
    }
   ],
   "source": [
    "label_clusters(DBSCAN_auto_dis_builder_min_dis, \"XC425555_-_Screaming_Piha_-_Lipaugus_vociferans.mp3\", min_duration=0, neighbor_distance_scale=1/2)"
   ]
  },
  {
   "cell_type": "markdown",
   "metadata": {
    "id": "dSPeYyi5QwAc"
   },
   "source": [
    "TODO:\n",
    "\n",
    "- Look at using duration to adjust neighborhood size?\n",
    "- Look at creating ground truth generalized labels via max min start end times of a given cluster\n",
    "- Have the label_clusters script output pandas with cluster data attached\n",
    "- Start building a system to try to determine when a clip needs more annotations"
   ]
  },
  {
   "cell_type": "markdown",
   "metadata": {
    "id": "xFbE2BFiVXoP"
   },
   "source": [
    "TODO:\n",
    "- Study needs of this problem\n",
    "- Try to find others cluster \n",
    "- Try users over time \n",
    "- Other features"
   ]
  },
  {
   "cell_type": "code",
   "execution_count": null,
   "metadata": {
    "id": "QXVRkSyyOHcY"
   },
   "outputs": [],
   "source": [
    "from sklearn.cluster import MeanShift, estimate_bandwidth, OPTICS\n",
    "def MeanShift_Builder(data = None, distance = 1, users = None, agreement = 0.5):\n",
    "    NEIGHBORHOOD_SCALAR = distance\n",
    "\n",
    "    n = 0\n",
    "    adv_distance = []\n",
    "    dists_raw = []\n",
    "    for i in range(len(users)):\n",
    "      dists = []\n",
    "      user_labels = data[data['LAST MOD BY'] == users[i]]\n",
    "      s1 = 0\n",
    "      e1 = 0\n",
    "      s2 = 0\n",
    "      e2 = 0\n",
    "      skip = True\n",
    "      for index, row in user_labels.iterrows():\n",
    "        s2 = float(row[\"OFFSET\"])\n",
    "        e2 = float(row[\"END TIMES\"])\n",
    "        dist = distance_cal(s1,e1,s2,e2)\n",
    "        if (not skip):\n",
    "          dists_raw.append(dist)\n",
    "        \n",
    "        skip = False\n",
    "        s1 = s2\n",
    "        e1 = e2\n",
    "      adv_distance.extend(dists_raw)\n",
    "    adv_distance = min(adv_distance) #\n",
    "    print(adv_distance, adv_distance * 0.9)\n",
    "\n",
    "    bandwidth_estimated = estimate_bandwidth(data[[\"OFFSET\", \"END TIMES\"]],quantile=0.1)\n",
    "    print(bandwidth_estimated)\n",
    "    return MeanShift(bandwidth=adv_distance)\n",
    "\n"
   ]
  },
  {
   "cell_type": "code",
   "execution_count": null,
   "metadata": {
    "colab": {
     "base_uri": "https://localhost:8080/",
     "height": 453
    },
    "id": "fJ7fsJTfOZtV",
    "outputId": "86e7c640-4aa3-488f-ade1-b5ddd9bc5b18"
   },
   "outputs": [
    {
     "name": "stdout",
     "output_type": "stream",
     "text": [
      "0.9791088856710474 0.8811979971039426\n",
      "0.14726584051300826\n",
      "[5 4 0 0 3 2 1 0 4 5 0 2 3 1 4 5 0 0 2 1 3 4 0 5 0 3 2 1 0 2 3 0 4 5 1 4 5\n",
      " 2 0 0 3 1]\n",
      "[5 4 0 0 3 2 1 0 4 5 0 2 3 1 4 5 0 0 2 1 3 4 0 5 0 3 2 1 0 2 3 0 4 5 1 4 5\n",
      " 2 0 0 3 1]\n",
      "adverage cluster size:  7.2\n",
      "adverage unqiue users per cluster size:  6.0\n",
      "Total Users:  6\n",
      "slope: 1\n"
     ]
    },
    {
     "data": {
      "image/png": "[encoded data removed]",
      "text/plain": [
       "<Figure size 432x288 with 1 Axes>"
      ]
     },
     "metadata": {
      "needs_background": "light"
     },
     "output_type": "display_data"
    }
   ],
   "source": [
    "label_clusters(MeanShift_Builder, \"XC552343_-_Screaming_Piha_-_Lipaugus_vociferans.mp3\")\n"
   ]
  },
  {
   "cell_type": "code",
   "execution_count": null,
   "metadata": {
    "colab": {
     "base_uri": "https://localhost:8080/",
     "height": 418
    },
    "id": "D3cdYPthOgOi",
    "outputId": "586ad30c-b02a-4289-b649-6957f738665c"
   },
   "outputs": [
    {
     "name": "stdout",
     "output_type": "stream",
     "text": [
      "0.8166798944506968 0.7350119050056271\n",
      "0.4085367253675731\n",
      "[0 5 1 0 4 3 1 2 2 4 0 7 6 0 2 3 7 1 5 0 0 3 1]\n",
      "[0 5 1 0 4 3 1 2 2 4 0 7 6 0 2 3 7 1 5 0 0 3 1]\n",
      "adverage cluster size:  3.0\n",
      "adverage unqiue users per cluster size:  2.7142857142857144\n",
      "Total Users:  6\n",
      "slope: 1\n"
     ]
    },
    {
     "data": {
      "image/png": "[encoded data removed]",
      "text/plain": [
       "<Figure size 432x288 with 1 Axes>"
      ]
     },
     "metadata": {
      "needs_background": "light"
     },
     "output_type": "display_data"
    }
   ],
   "source": [
    "label_clusters(MeanShift_Builder, \"XC425555_-_Screaming_Piha_-_Lipaugus_vociferans.mp3\")"
   ]
  },
  {
   "cell_type": "code",
   "execution_count": null,
   "metadata": {
    "colab": {
     "base_uri": "https://localhost:8080/",
     "height": 418
    },
    "id": "fbi7prYoOgn7",
    "outputId": "e9a8e5af-ec75-4558-ae4d-c7c8295c9c88"
   },
   "outputs": [
    {
     "name": "stdout",
     "output_type": "stream",
     "text": [
      "0.7403599732562529 0.6663239759306276\n",
      "0.0\n",
      "[3 4 1 4 1 2 3 0 2 0 1 5]\n",
      "[3 4 1 4 1 2 3 0 2 0 1 5]\n",
      "adverage cluster size:  2.2\n",
      "adverage unqiue users per cluster size:  2.0\n",
      "Total Users:  4\n",
      "slope: 1\n"
     ]
    },
    {
     "data": {
      "image/png": "[encoded data removed]",
      "text/plain": [
       "<Figure size 432x288 with 1 Axes>"
      ]
     },
     "metadata": {
      "needs_background": "light"
     },
     "output_type": "display_data"
    }
   ],
   "source": [
    "label_clusters(MeanShift_Builder, \"XC591821_-_Screaming_Piha_-_Lipaugus_vociferans.mp3\")"
   ]
  },
  {
   "cell_type": "markdown",
   "metadata": {
    "id": "YPm0XU2HzV1W"
   },
   "source": [
    "Mean Shift typically produced less reliable results from DBSCAN"
   ]
  },
  {
   "cell_type": "code",
   "execution_count": null,
   "metadata": {
    "id": "0psgW0oQzkhd"
   },
   "outputs": [],
   "source": [
    "def OPTICS_BUILDER(data = None, distance = 1, users = None, agreement = 0.5):\n",
    "    NEIGHBORHOOD_SCALAR = distance\n",
    "\n",
    "    n = 0\n",
    "    adv_distance = []\n",
    "    dists_raw = []\n",
    "    for i in range(len(users)):\n",
    "      dists = []\n",
    "      user_labels = data[data['LAST MOD BY'] == users[i]]\n",
    "      s1 = 0\n",
    "      e1 = 0\n",
    "      s2 = 0\n",
    "      e2 = 0\n",
    "      skip = True\n",
    "      for index, row in user_labels.iterrows():\n",
    "        s2 = float(row[\"OFFSET\"])\n",
    "        e2 = float(row[\"END TIMES\"])\n",
    "        dist = distance_cal(s1,e1,s2,e2)\n",
    "        if (not skip):\n",
    "          dists_raw.append(dist)\n",
    "        \n",
    "        skip = False\n",
    "        s1 = s2\n",
    "        e1 = e2\n",
    "      adv_distance.extend(dists_raw)\n",
    "    adv_distance = statistics.median(adv_distance)#min(adv_distance) #\n",
    "    print(adv_distance, adv_distance * 0.9)\n",
    "    return OPTICS(min_samples=round(len(users)*1/2), max_eps=adv_distance*1/2)\n"
   ]
  },
  {
   "cell_type": "code",
   "execution_count": null,
   "metadata": {
    "colab": {
     "base_uri": "https://localhost:8080/",
     "height": 435
    },
    "id": "c0G3PYLWyJ7C",
    "outputId": "2f7733fc-dbcf-41a2-d09b-bf0358ea8d97"
   },
   "outputs": [
    {
     "name": "stdout",
     "output_type": "stream",
     "text": [
      "1.6162487958232175 1.4546239162408958\n",
      "[0 1 2 3 4 5 6 3 1 0 2 5 4 6 1 0 2 3 5 6 4 1 3 0 2 4 5 6 3 5 4 2 1 0 6 1 0\n",
      " 5 3 2 4 6]\n",
      "[0 1 2 3 4 5 6 3 1 0 2 5 4 6 1 0 2 3 5 6 4 1 3 0 2 4 5 6 3 5 4 2 1 0 6 1 0\n",
      " 5 3 2 4 6]\n",
      "adverage cluster size:  6.0\n",
      "adverage unqiue users per cluster size:  6.0\n",
      "Total Users:  6\n",
      "slope: 1\n"
     ]
    },
    {
     "data": {
      "image/png": "[encoded data removed]",
      "text/plain": [
       "<Figure size 432x288 with 1 Axes>"
      ]
     },
     "metadata": {
      "needs_background": "light"
     },
     "output_type": "display_data"
    }
   ],
   "source": [
    "label_clusters(OPTICS_BUILDER, \"XC552343_-_Screaming_Piha_-_Lipaugus_vociferans.mp3\")"
   ]
  },
  {
   "cell_type": "code",
   "execution_count": null,
   "metadata": {
    "colab": {
     "base_uri": "https://localhost:8080/",
     "height": 401
    },
    "id": "4k4_8En-z_MY",
    "outputId": "c9f2e014-ccdf-4ee2-b942-2f87828161d8"
   },
   "outputs": [
    {
     "name": "stdout",
     "output_type": "stream",
     "text": [
      "16.45327541403231 14.807947872629079\n",
      "[0 1 1 0 0 2 1 1 1 0 0 0 2 0 1 2 0 1 1 0 0 2 1]\n",
      "[0 1 1 0 0 2 1 1 1 0 0 0 2 0 1 2 0 1 1 0 0 2 1]\n",
      "adverage cluster size:  9.5\n",
      "adverage unqiue users per cluster size:  6.0\n",
      "Total Users:  6\n",
      "slope: 1\n"
     ]
    },
    {
     "data": {
      "image/png": "[encoded data removed]",
      "text/plain": [
       "<Figure size 432x288 with 1 Axes>"
      ]
     },
     "metadata": {
      "needs_background": "light"
     },
     "output_type": "display_data"
    }
   ],
   "source": [
    "label_clusters(OPTICS_BUILDER, \"XC425555_-_Screaming_Piha_-_Lipaugus_vociferans.mp3\")"
   ]
  },
  {
   "cell_type": "code",
   "execution_count": null,
   "metadata": {
    "colab": {
     "base_uri": "https://localhost:8080/",
     "height": 401
    },
    "id": "VSXrRn2b0KhK",
    "outputId": "66d468bb-f825-413d-8967-5b8dcdb2fafb"
   },
   "outputs": [
    {
     "name": "stdout",
     "output_type": "stream",
     "text": [
      "1.7776224711675985 1.5998602240508386\n",
      "[ 0  1  2  1  2  4  0  3  4  3  2 -1]\n",
      "[ 0  1  2  1  2  4  0  3  4  3  2 -1]\n",
      "adverage cluster size:  2.25\n",
      "adverage unqiue users per cluster size:  2.0\n",
      "Total Users:  4\n",
      "slope: 1\n"
     ]
    },
    {
     "data": {
      "image/png": "[encoded data removed]",
      "text/plain": [
       "<Figure size 432x288 with 1 Axes>"
      ]
     },
     "metadata": {
      "needs_background": "light"
     },
     "output_type": "display_data"
    }
   ],
   "source": [
    "label_clusters(OPTICS_BUILDER, \"XC591821_-_Screaming_Piha_-_Lipaugus_vociferans.mp3\")"
   ]
  },
  {
   "cell_type": "code",
   "execution_count": null,
   "metadata": {
    "id": "AK2snENml9lt"
   },
   "outputs": [],
   "source": [
    "def DBSCAN_auto_dis_builder_min_dis2(data = None, distance = 1, users = None, agreement = 0.5):\n",
    "    NEIGHBORHOOD_SCALAR = distance\n",
    "\n",
    "    n = 0\n",
    "    adv_distance = []\n",
    "    dists_raw = []\n",
    "    for i in range(len(users)):\n",
    "      dists = []\n",
    "      user_labels = data[data['LAST MOD BY'] == users[i]]\n",
    "      s1 = 0\n",
    "      e1 = 0\n",
    "      s2 = 0\n",
    "      e2 = 0\n",
    "      skip = False\n",
    "      for index, row in user_labels.iterrows():\n",
    "        s2 = float(row[\"OFFSET\"])\n",
    "        e2 = float(row[\"END TIMES\"])\n",
    "        dist = distance_cal(s1,e1,s2,e2)\n",
    "        if (not skip):\n",
    "          dists_raw.append(dist)\n",
    "        \n",
    "        skip = False\n",
    "        s1 = s2\n",
    "        e1 = e2\n",
    "    adv_distance = min(dists_raw) #* NEIGHBORHOOD_SCALAR #\n",
    "    print(adv_distance)\n",
    "    return DBSCAN(\n",
    "                    eps=adv_distance * 0.9, \n",
    "                    min_samples=2,\n",
    "                  \n",
    "                  )"
   ]
  },
  {
   "cell_type": "code",
   "execution_count": null,
   "metadata": {
    "colab": {
     "base_uri": "https://localhost:8080/",
     "height": 401
    },
    "id": "Yxn6mXn-mGOx",
    "outputId": "283b5807-673f-4253-b816-cecfb1a96364"
   },
   "outputs": [
    {
     "name": "stdout",
     "output_type": "stream",
     "text": [
      "0.7403599732562529\n",
      "[ 0  1  2  1  2  3  0  4  3  4  2 -1]\n",
      "[ 0  1  2  1  2  3  0  4  3  4  2 -1]\n",
      "adverage cluster size:  2.25\n",
      "adverage unqiue users per cluster size:  2.25\n",
      "Total Users:  4\n",
      "slope: 1\n"
     ]
    },
    {
     "data": {
      "image/png": "[encoded data removed]",
      "text/plain": [
       "<Figure size 432x288 with 1 Axes>"
      ]
     },
     "metadata": {
      "needs_background": "light"
     },
     "output_type": "display_data"
    }
   ],
   "source": [
    "label_clusters(DBSCAN_auto_dis_builder_min_dis2, \"XC591821_-_Screaming_Piha_-_Lipaugus_vociferans.mp3\")"
   ]
  },
  {
   "cell_type": "code",
   "execution_count": null,
   "metadata": {
    "colab": {
     "base_uri": "https://localhost:8080/",
     "height": 401
    },
    "id": "Lhil8lzHmKG5",
    "outputId": "bb890e53-afb5-49ee-e69c-42981905a163"
   },
   "outputs": [
    {
     "name": "stdout",
     "output_type": "stream",
     "text": [
      "0.8166798944506968\n",
      "[ 0  1  2  0 -1  3  2  4  2  5  0  5 -1  0  4  3 -1  2  1  0  0  3  2]\n",
      "[ 0  1  2  0 -1  3  2  4  2  5  0  5 -1  0  4  3 -1  2  1  0  0  3  2]\n",
      "adverage cluster size:  3.6\n",
      "adverage unqiue users per cluster size:  3.4\n",
      "Total Users:  6\n",
      "slope: 1\n"
     ]
    },
    {
     "data": {
      "image/png": "[encoded data removed]",
      "text/plain": [
       "<Figure size 432x288 with 1 Axes>"
      ]
     },
     "metadata": {
      "needs_background": "light"
     },
     "output_type": "display_data"
    }
   ],
   "source": [
    "label_clusters(DBSCAN_auto_dis_builder_min_dis2, \"XC425555_-_Screaming_Piha_-_Lipaugus_vociferans.mp3\")"
   ]
  },
  {
   "cell_type": "code",
   "execution_count": null,
   "metadata": {
    "colab": {
     "base_uri": "https://localhost:8080/",
     "height": 435
    },
    "id": "vADSS1fZmNlD",
    "outputId": "910661e3-192e-4354-9332-09d0ad66a9d6"
   },
   "outputs": [
    {
     "name": "stdout",
     "output_type": "stream",
     "text": [
      "0.9791088856710474\n",
      "[0 1 2 3 4 5 6 3 1 0 2 5 4 6 1 0 2 3 5 6 4 1 3 0 2 4 5 6 3 5 4 2 1 0 6 1 0\n",
      " 5 3 2 4 6]\n",
      "[0 1 2 3 4 5 6 3 1 0 2 5 4 6 1 0 2 3 5 6 4 1 3 0 2 4 5 6 3 5 4 2 1 0 6 1 0\n",
      " 5 3 2 4 6]\n",
      "adverage cluster size:  6.0\n",
      "adverage unqiue users per cluster size:  6.0\n",
      "Total Users:  6\n",
      "slope: 1\n"
     ]
    },
    {
     "data": {
      "image/png": "[encoded data removed]",
      "text/plain": [
       "<Figure size 432x288 with 1 Axes>"
      ]
     },
     "metadata": {
      "needs_background": "light"
     },
     "output_type": "display_data"
    }
   ],
   "source": [
    "label_clusters(DBSCAN_auto_dis_builder_min_dis2, \"XC552343_-_Screaming_Piha_-_Lipaugus_vociferans.mp3\")"
   ]
  },
  {
   "cell_type": "markdown",
   "metadata": {
    "id": "L2NR9lKRp9Mj"
   },
   "source": [
    "A Custom Clustering System:\n",
    "- Round 1: Itertively minimize neighborhoods around each user's annotation such that each user's neighborhoods don't overlapp (Other user neighborhoods don't overlap either)\n",
    "- Take smallest neighborhood size and redraw all neighborhoods\n",
    "- Match with dBSCAN that way\n",
    "\n",
    "\n",
    "\n",
    "Round 1: initalize each user to a unique cluster\n",
    "- Round 2: Combine clusters in neighborhood via DBSCAN algoritm but the clusters should be ovalian in shape top to bottom\n",
    "- "
   ]
  }
 ],
 "metadata": {
  "colab": {
   "collapsed_sections": [],
   "name": "ground_truth_inferance_test.ipynb",
   "provenance": [],
   "toc_visible": true
  },
  "kernelspec": {
   "display_name": "Python 3",
   "language": "python",
   "name": "python3"
  },
  "language_info": {
   "codemirror_mode": {
    "name": "ipython",
    "version": 3
   },
   "file_extension": ".py",
   "mimetype": "text/x-python",
   "name": "python",
   "nbconvert_exporter": "python",
   "pygments_lexer": "ipython3",
   "version": "3.7.10"
  }
 },
 "nbformat": 4,
 "nbformat_minor": 1
}
