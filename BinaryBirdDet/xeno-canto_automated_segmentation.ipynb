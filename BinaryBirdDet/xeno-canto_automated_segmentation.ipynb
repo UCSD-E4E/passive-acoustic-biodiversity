{
 "cells": [
  {
   "cell_type": "code",
   "execution_count": 4,
   "id": "223203b0",
   "metadata": {},
   "outputs": [
    {
     "name": "stdout",
     "output_type": "stream",
     "text": [
      "The autoreload extension is already loaded. To reload it, use:\n",
      "  %reload_ext autoreload\n"
     ]
    }
   ],
   "source": [
    "%load_ext autoreload\n",
    "%autoreload 2"
   ]
  },
  {
   "cell_type": "code",
   "execution_count": 1,
   "id": "d0a9c236",
   "metadata": {
    "scrolled": false
   },
   "outputs": [
    {
     "ename": "ModuleNotFoundError",
     "evalue": "No module named 'PyHa'",
     "output_type": "error",
     "traceback": [
      "\u001b[1;31m---------------------------------------------------------------------------\u001b[0m",
      "\u001b[1;31mModuleNotFoundError\u001b[0m                       Traceback (most recent call last)",
      "\u001b[1;32m<ipython-input-1-cda22fa0c237>\u001b[0m in \u001b[0;36m<module>\u001b[1;34m\u001b[0m\n\u001b[0;32m      4\u001b[0m \u001b[1;32mimport\u001b[0m \u001b[0mpandas\u001b[0m \u001b[1;32mas\u001b[0m \u001b[0mpd\u001b[0m\u001b[1;33m\u001b[0m\u001b[1;33m\u001b[0m\u001b[0m\n\u001b[0;32m      5\u001b[0m \u001b[1;32mimport\u001b[0m \u001b[0mnumpy\u001b[0m \u001b[1;32mas\u001b[0m \u001b[0mnp\u001b[0m\u001b[1;33m\u001b[0m\u001b[1;33m\u001b[0m\u001b[0m\n\u001b[1;32m----> 6\u001b[1;33m \u001b[1;32mfrom\u001b[0m \u001b[0mPyHa\u001b[0m\u001b[1;33m.\u001b[0m\u001b[0mstatistics\u001b[0m \u001b[1;32mimport\u001b[0m \u001b[1;33m*\u001b[0m\u001b[1;33m\u001b[0m\u001b[1;33m\u001b[0m\u001b[0m\n\u001b[0m\u001b[0;32m      7\u001b[0m \u001b[1;32mfrom\u001b[0m \u001b[0mPyHa\u001b[0m\u001b[1;33m.\u001b[0m\u001b[0mIsoAutio\u001b[0m \u001b[1;32mimport\u001b[0m \u001b[1;33m*\u001b[0m\u001b[1;33m\u001b[0m\u001b[1;33m\u001b[0m\u001b[0m\n\u001b[0;32m      8\u001b[0m \u001b[1;32mfrom\u001b[0m \u001b[0mPyHa\u001b[0m\u001b[1;33m.\u001b[0m\u001b[0mvisualizations\u001b[0m \u001b[1;32mimport\u001b[0m \u001b[1;33m*\u001b[0m\u001b[1;33m\u001b[0m\u001b[1;33m\u001b[0m\u001b[0m\n",
      "\u001b[1;31mModuleNotFoundError\u001b[0m: No module named 'PyHa'"
     ]
    }
   ],
   "source": [
    "import warnings\n",
    "warnings.simplefilter(action='ignore', category=FutureWarning)\n",
    "\n",
    "import pandas as pd\n",
    "import numpy as np\n",
    "from PyHa.statistics import *\n",
    "from PyHa.IsoAutio import *\n",
    "from PyHa.visualizations import *"
   ]
  },
  {
   "cell_type": "markdown",
   "id": "0a9bb966",
   "metadata": {},
   "source": [
    "# Microfaune + PyHa Experiments"
   ]
  },
  {
   "cell_type": "code",
   "execution_count": null,
   "id": "56f31ff8",
   "metadata": {},
   "outputs": [],
   "source": [
    "#path_to_audio_files = \"/home/jacob/acoustic-species-id/Mixed_Bird/\"\n",
    "#path_to_ground_truth = \"MDD_Xeno_Canto_DSC180_Labels_uniform_3s_binary.csv\"\n",
    "path_to_audio_files = \"../acoustic-id-test-data/TEST-audio/\"\n",
    "path_to_ground_truth = \"ScreamingPiha_Manual_Labels.csv\"\n",
    "\n",
    "# Parameters to define isolation behavior\n",
    "isolation_parameters = {\n",
    "    \"technique\" : \"chunk\",\n",
    "    \"threshold_type\" : \"median\",\n",
    "    \"threshold_const\" : 4.0,\n",
    "    \"threshold_min\" : 0.25,\n",
    "    \"window_size\" : 2.0,\n",
    "    \"chunk_size\" : 3.0\n",
    "}"
   ]
  },
  {
   "cell_type": "code",
   "execution_count": null,
   "id": "ae51624a",
   "metadata": {},
   "outputs": [],
   "source": [
    "automated_df = generate_automated_labels(path_to_audio_files,isolation_parameters);"
   ]
  },
  {
   "cell_type": "code",
   "execution_count": null,
   "id": "8121a138",
   "metadata": {},
   "outputs": [],
   "source": [
    "automated_df.to_csv(\"MDD_Xeno_Canto_Microfaune_Chunk_median_025_400.csv\",index=False)"
   ]
  },
  {
   "cell_type": "code",
   "execution_count": null,
   "id": "d54816b6",
   "metadata": {},
   "outputs": [],
   "source": [
    "manual_df = pd.read_csv(path_to_ground_truth)\n",
    "# Removing the segments that are not 3s long (the ones at the end of clips)\n",
    "automated_df = automated_df[automated_df[\"DURATION\"]==3.0]\n",
    "manual_df"
   ]
  },
  {
   "cell_type": "code",
   "execution_count": null,
   "id": "2b367f92",
   "metadata": {},
   "outputs": [],
   "source": [
    "statistics_df = automated_labeling_statistics(automated_df,manual_df,stats_type = \"general\");\n",
    "#statistics_df.to_csv(\"MDD_Xeno_Canto_DSC180_Stats_9.csv\",index=False)"
   ]
  },
  {
   "cell_type": "code",
   "execution_count": null,
   "id": "f084c9f4",
   "metadata": {},
   "outputs": [],
   "source": [
    "global_dataset_statistics(statistics_df)"
   ]
  },
  {
   "cell_type": "markdown",
   "id": "9781c0db",
   "metadata": {},
   "source": [
    "# BirdNET-Lite Experiments"
   ]
  },
  {
   "cell_type": "code",
   "execution_count": null,
   "id": "af670fd9",
   "metadata": {},
   "outputs": [],
   "source": [
    "# loading in the manual annotations again in case someone wants to play with BirdNET without playing with Microfaune\n",
    "path_to_ground_truth = \"MDD_Xeno_Canto_DSC180_Labels_uniform_3s_binary.csv\"\n",
    "manual_df = pd.read_csv(path_to_ground_truth)\n",
    "birdnet_labels = pd.read_csv(\"birdnet_experiments/experiment1.csv\")\n"
   ]
  },
  {
   "cell_type": "code",
   "execution_count": null,
   "id": "64442dda",
   "metadata": {},
   "outputs": [],
   "source": [
    "# quick hacky fix\n",
    "for row in birdnet_labels.index:\n",
    "    full_path = birdnet_labels[\"IN FILE\"][row]\n",
    "    clip_name = full_path.split('/')[-1]\n",
    "    birdnet_labels[\"IN FILE\"][row] = clip_name\n",
    "    #full_path.remove_suffix(clip_name)\n",
    "#test = birdnet_labels.groupby([\"IN FILE\",\"OFFSET\"]).agg({'Confidence':[max]})\n",
    "#test\n",
    "#birdnet_labels"
   ]
  },
  {
   "cell_type": "code",
   "execution_count": null,
   "id": "e964320e",
   "metadata": {},
   "outputs": [],
   "source": [
    "statistics_df = automated_labeling_statistics(birdnet_labels,manual_df,stats_type = \"general\");"
   ]
  },
  {
   "cell_type": "code",
   "execution_count": null,
   "id": "2c125bc5",
   "metadata": {},
   "outputs": [],
   "source": [
    "statistics_df"
   ]
  },
  {
   "cell_type": "code",
   "execution_count": null,
   "id": "1ebdcb2e",
   "metadata": {},
   "outputs": [],
   "source": [
    "global_dataset_statistics(statistics_df)"
   ]
  },
  {
   "cell_type": "code",
   "execution_count": null,
   "id": "797a31d3",
   "metadata": {
    "scrolled": true
   },
   "outputs": [],
   "source": [
    "birdnet_labels = birdnet_labels[birdnet_labels[\"Confidence\"] > 0.5]\n",
    "statistics_df = automated_labeling_statistics(birdnet_labels,manual_df,stats_type = \"general\");"
   ]
  },
  {
   "cell_type": "code",
   "execution_count": null,
   "id": "c3a75e38",
   "metadata": {},
   "outputs": [],
   "source": [
    "global_dataset_statistics(statistics_df)"
   ]
  },
  {
   "cell_type": "markdown",
   "id": "3b9c079c",
   "metadata": {},
   "source": [
    "# Tweetynet Experiments"
   ]
  },
  {
   "cell_type": "code",
   "execution_count": null,
   "id": "0045ec2c",
   "metadata": {},
   "outputs": [],
   "source": []
  }
 ],
 "metadata": {
  "kernelspec": {
   "display_name": "Python 3 (ipykernel)",
   "language": "python",
   "name": "python3"
  },
  "language_info": {
   "codemirror_mode": {
    "name": "ipython",
    "version": 3
   },
   "file_extension": ".py",
   "mimetype": "text/x-python",
   "name": "python",
   "nbconvert_exporter": "python",
   "pygments_lexer": "ipython3",
   "version": "3.7.10"
  }
 },
 "nbformat": 4,
 "nbformat_minor": 5
}
