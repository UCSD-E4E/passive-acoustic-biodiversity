{
 "cells": [
  {
   "cell_type": "code",
   "execution_count": 7,
   "id": "678201ba-eecf-4c22-8192-7e35a34acaa8",
   "metadata": {},
   "outputs": [],
   "source": [
    "from opensoundscape.preprocess.preprocessors import BasePreprocessor\n",
    "import torch\n",
    "import pandas as pd\n",
    "from pathlib import Path\n",
    "import numpy as np\n",
    "import pandas as pd\n",
    "from opensoundscape.torch.models import cnn\n",
    "from opensoundscape.torch.architectures import cnn_architectures\n",
    "from opensoundscape.torch.models.cnn import load_model"
   ]
  },
  {
   "cell_type": "code",
   "execution_count": 9,
   "id": "82fabe8c",
   "metadata": {},
   "outputs": [
    {
     "ename": "AttributeError",
     "evalue": "Can't get attribute '_unpickle_block' on <module 'pandas._libs.internals' from 'C:\\\\Users\\\\Siloux\\\\.conda\\\\envs\\\\species-id\\\\lib\\\\site-packages\\\\pandas\\\\_libs\\\\internals.cp37-win_amd64.pyd'>",
     "output_type": "error",
     "traceback": [
      "\u001b[1;31m---------------------------------------------------------------------------\u001b[0m",
      "\u001b[1;31mAttributeError\u001b[0m                            Traceback (most recent call last)",
      "\u001b[1;32m<ipython-input-9-6269611e2f42>\u001b[0m in \u001b[0;36m<module>\u001b[1;34m\u001b[0m\n\u001b[1;32m----> 1\u001b[1;33m \u001b[0mmodel\u001b[0m \u001b[1;33m=\u001b[0m \u001b[0mload_model\u001b[0m\u001b[1;33m(\u001b[0m\u001b[1;34m\"C:/Users/Siloux/Desktop/E4E/passive-acoustic-biodiversity/OpenSoundScape/MultiClass Classifier/multilabel_train_seven_classes_xeno_canto/best.model\"\u001b[0m\u001b[1;33m)\u001b[0m\u001b[1;31m#'best.model')\u001b[0m\u001b[1;33m\u001b[0m\u001b[1;33m\u001b[0m\u001b[0m\n\u001b[0m",
      "\u001b[1;32m~\\.conda\\envs\\species-id\\lib\\site-packages\\opensoundscape\\torch\\models\\cnn.py\u001b[0m in \u001b[0;36mload_model\u001b[1;34m(path, device)\u001b[0m\n\u001b[0;32m   1264\u001b[0m             \u001b[0mtorch\u001b[0m\u001b[1;33m.\u001b[0m\u001b[0mdevice\u001b[0m\u001b[1;33m(\u001b[0m\u001b[1;34m\"cuda:0\"\u001b[0m\u001b[1;33m)\u001b[0m \u001b[1;32mif\u001b[0m \u001b[0mtorch\u001b[0m\u001b[1;33m.\u001b[0m\u001b[0mcuda\u001b[0m\u001b[1;33m.\u001b[0m\u001b[0mis_available\u001b[0m\u001b[1;33m(\u001b[0m\u001b[1;33m)\u001b[0m \u001b[1;32melse\u001b[0m \u001b[0mtorch\u001b[0m\u001b[1;33m.\u001b[0m\u001b[0mdevice\u001b[0m\u001b[1;33m(\u001b[0m\u001b[1;34m\"cpu\"\u001b[0m\u001b[1;33m)\u001b[0m\u001b[1;33m\u001b[0m\u001b[1;33m\u001b[0m\u001b[0m\n\u001b[0;32m   1265\u001b[0m         )\n\u001b[1;32m-> 1266\u001b[1;33m     \u001b[0mmodel\u001b[0m \u001b[1;33m=\u001b[0m \u001b[0mtorch\u001b[0m\u001b[1;33m.\u001b[0m\u001b[0mload\u001b[0m\u001b[1;33m(\u001b[0m\u001b[0mpath\u001b[0m\u001b[1;33m,\u001b[0m \u001b[0mmap_location\u001b[0m\u001b[1;33m=\u001b[0m\u001b[0mdevice\u001b[0m\u001b[1;33m)\u001b[0m\u001b[1;33m\u001b[0m\u001b[1;33m\u001b[0m\u001b[0m\n\u001b[0m\u001b[0;32m   1267\u001b[0m     \u001b[0mmodel\u001b[0m\u001b[1;33m.\u001b[0m\u001b[0mdevice\u001b[0m \u001b[1;33m=\u001b[0m \u001b[0mdevice\u001b[0m\u001b[1;33m\u001b[0m\u001b[1;33m\u001b[0m\u001b[0m\n\u001b[0;32m   1268\u001b[0m     \u001b[1;32mreturn\u001b[0m \u001b[0mmodel\u001b[0m\u001b[1;33m\u001b[0m\u001b[1;33m\u001b[0m\u001b[0m\n",
      "\u001b[1;32m~\\.conda\\envs\\species-id\\lib\\site-packages\\torch\\serialization.py\u001b[0m in \u001b[0;36mload\u001b[1;34m(f, map_location, pickle_module, **pickle_load_args)\u001b[0m\n\u001b[0;32m    710\u001b[0m                     \u001b[0mopened_file\u001b[0m\u001b[1;33m.\u001b[0m\u001b[0mseek\u001b[0m\u001b[1;33m(\u001b[0m\u001b[0morig_position\u001b[0m\u001b[1;33m)\u001b[0m\u001b[1;33m\u001b[0m\u001b[1;33m\u001b[0m\u001b[0m\n\u001b[0;32m    711\u001b[0m                     \u001b[1;32mreturn\u001b[0m \u001b[0mtorch\u001b[0m\u001b[1;33m.\u001b[0m\u001b[0mjit\u001b[0m\u001b[1;33m.\u001b[0m\u001b[0mload\u001b[0m\u001b[1;33m(\u001b[0m\u001b[0mopened_file\u001b[0m\u001b[1;33m)\u001b[0m\u001b[1;33m\u001b[0m\u001b[1;33m\u001b[0m\u001b[0m\n\u001b[1;32m--> 712\u001b[1;33m                 \u001b[1;32mreturn\u001b[0m \u001b[0m_load\u001b[0m\u001b[1;33m(\u001b[0m\u001b[0mopened_zipfile\u001b[0m\u001b[1;33m,\u001b[0m \u001b[0mmap_location\u001b[0m\u001b[1;33m,\u001b[0m \u001b[0mpickle_module\u001b[0m\u001b[1;33m,\u001b[0m \u001b[1;33m**\u001b[0m\u001b[0mpickle_load_args\u001b[0m\u001b[1;33m)\u001b[0m\u001b[1;33m\u001b[0m\u001b[1;33m\u001b[0m\u001b[0m\n\u001b[0m\u001b[0;32m    713\u001b[0m         \u001b[1;32mreturn\u001b[0m \u001b[0m_legacy_load\u001b[0m\u001b[1;33m(\u001b[0m\u001b[0mopened_file\u001b[0m\u001b[1;33m,\u001b[0m \u001b[0mmap_location\u001b[0m\u001b[1;33m,\u001b[0m \u001b[0mpickle_module\u001b[0m\u001b[1;33m,\u001b[0m \u001b[1;33m**\u001b[0m\u001b[0mpickle_load_args\u001b[0m\u001b[1;33m)\u001b[0m\u001b[1;33m\u001b[0m\u001b[1;33m\u001b[0m\u001b[0m\n\u001b[0;32m    714\u001b[0m \u001b[1;33m\u001b[0m\u001b[0m\n",
      "\u001b[1;32m~\\.conda\\envs\\species-id\\lib\\site-packages\\torch\\serialization.py\u001b[0m in \u001b[0;36m_load\u001b[1;34m(zip_file, map_location, pickle_module, pickle_file, **pickle_load_args)\u001b[0m\n\u001b[0;32m   1047\u001b[0m     \u001b[0munpickler\u001b[0m \u001b[1;33m=\u001b[0m \u001b[0mUnpicklerWrapper\u001b[0m\u001b[1;33m(\u001b[0m\u001b[0mdata_file\u001b[0m\u001b[1;33m,\u001b[0m \u001b[1;33m**\u001b[0m\u001b[0mpickle_load_args\u001b[0m\u001b[1;33m)\u001b[0m\u001b[1;33m\u001b[0m\u001b[1;33m\u001b[0m\u001b[0m\n\u001b[0;32m   1048\u001b[0m     \u001b[0munpickler\u001b[0m\u001b[1;33m.\u001b[0m\u001b[0mpersistent_load\u001b[0m \u001b[1;33m=\u001b[0m \u001b[0mpersistent_load\u001b[0m\u001b[1;33m\u001b[0m\u001b[1;33m\u001b[0m\u001b[0m\n\u001b[1;32m-> 1049\u001b[1;33m     \u001b[0mresult\u001b[0m \u001b[1;33m=\u001b[0m \u001b[0munpickler\u001b[0m\u001b[1;33m.\u001b[0m\u001b[0mload\u001b[0m\u001b[1;33m(\u001b[0m\u001b[1;33m)\u001b[0m\u001b[1;33m\u001b[0m\u001b[1;33m\u001b[0m\u001b[0m\n\u001b[0m\u001b[0;32m   1050\u001b[0m \u001b[1;33m\u001b[0m\u001b[0m\n\u001b[0;32m   1051\u001b[0m     \u001b[0mtorch\u001b[0m\u001b[1;33m.\u001b[0m\u001b[0m_utils\u001b[0m\u001b[1;33m.\u001b[0m\u001b[0m_validate_loaded_sparse_tensors\u001b[0m\u001b[1;33m(\u001b[0m\u001b[1;33m)\u001b[0m\u001b[1;33m\u001b[0m\u001b[1;33m\u001b[0m\u001b[0m\n",
      "\u001b[1;32m~\\.conda\\envs\\species-id\\lib\\site-packages\\torch\\serialization.py\u001b[0m in \u001b[0;36mfind_class\u001b[1;34m(self, mod_name, name)\u001b[0m\n\u001b[0;32m   1040\u001b[0m                     \u001b[1;32mpass\u001b[0m\u001b[1;33m\u001b[0m\u001b[1;33m\u001b[0m\u001b[0m\n\u001b[0;32m   1041\u001b[0m             \u001b[0mmod_name\u001b[0m \u001b[1;33m=\u001b[0m \u001b[0mload_module_mapping\u001b[0m\u001b[1;33m.\u001b[0m\u001b[0mget\u001b[0m\u001b[1;33m(\u001b[0m\u001b[0mmod_name\u001b[0m\u001b[1;33m,\u001b[0m \u001b[0mmod_name\u001b[0m\u001b[1;33m)\u001b[0m\u001b[1;33m\u001b[0m\u001b[1;33m\u001b[0m\u001b[0m\n\u001b[1;32m-> 1042\u001b[1;33m             \u001b[1;32mreturn\u001b[0m \u001b[0msuper\u001b[0m\u001b[1;33m(\u001b[0m\u001b[1;33m)\u001b[0m\u001b[1;33m.\u001b[0m\u001b[0mfind_class\u001b[0m\u001b[1;33m(\u001b[0m\u001b[0mmod_name\u001b[0m\u001b[1;33m,\u001b[0m \u001b[0mname\u001b[0m\u001b[1;33m)\u001b[0m\u001b[1;33m\u001b[0m\u001b[1;33m\u001b[0m\u001b[0m\n\u001b[0m\u001b[0;32m   1043\u001b[0m \u001b[1;33m\u001b[0m\u001b[0m\n\u001b[0;32m   1044\u001b[0m     \u001b[1;31m# Load the data (which may in turn use `persistent_load` to load tensors)\u001b[0m\u001b[1;33m\u001b[0m\u001b[1;33m\u001b[0m\u001b[1;33m\u001b[0m\u001b[0m\n",
      "\u001b[1;31mAttributeError\u001b[0m: Can't get attribute '_unpickle_block' on <module 'pandas._libs.internals' from 'C:\\\\Users\\\\Siloux\\\\.conda\\\\envs\\\\species-id\\\\lib\\\\site-packages\\\\pandas\\\\_libs\\\\internals.cp37-win_amd64.pyd'>"
     ]
    }
   ],
   "source": [
    "model = load_model(\"C:/Users/Siloux/Desktop/E4E/passive-acoustic-biodiversity/OpenSoundScape/MultiClass Classifier/multilabel_train_seven_classes_xeno_canto/best.model\")#'best.model')"
   ]
  },
  {
   "cell_type": "code",
   "execution_count": 3,
   "id": "bdc8c34f",
   "metadata": {},
   "outputs": [
    {
     "data": {
      "image/png": "[encoded data removed]",
      "text/plain": [
       "<Figure size 432x288 with 1 Axes>"
      ]
     },
     "metadata": {
      "needs_background": "light"
     },
     "output_type": "display_data"
    }
   ],
   "source": [
    "import matplotlib.pyplot as plt\n",
    "plt.scatter(model.loss_hist.keys(),model.loss_hist.values())\n",
    "plt.xlabel('epoch')\n",
    "plt.ylabel('loss')\n",
    "plt.show()"
   ]
  },
  {
   "cell_type": "code",
   "execution_count": 4,
   "id": "81c7df32",
   "metadata": {},
   "outputs": [],
   "source": [
    "ef = pd.read_csv('xeno_canto_test_none.csv')\n",
    "ef.drop(columns='Unnamed: 0', inplace=True)"
   ]
  },
  {
   "cell_type": "code",
   "execution_count": 5,
   "id": "727577bd",
   "metadata": {},
   "outputs": [],
   "source": [
    "df_test = pd.read_csv('peru_test_data.csv')\n",
    "df_test.drop(columns='Unnamed: 0', inplace=True)"
   ]
  },
  {
   "cell_type": "code",
   "execution_count": 6,
   "id": "ac8c4be0",
   "metadata": {},
   "outputs": [],
   "source": [
    "# ef"
   ]
  },
  {
   "cell_type": "code",
   "execution_count": 7,
   "id": "a444afb3",
   "metadata": {},
   "outputs": [
    {
     "name": "stderr",
     "output_type": "stream",
     "text": [
      "/var/folders/km/7_v861mx0cb9fp42nvllkmt00000gn/T/ipykernel_44975/2698475132.py:2: FutureWarning: The frame.append method is deprecated and will be removed from pandas in a future version. Use pandas.concat instead.\n",
      "  testDF = ef.append(df_test, ignore_index=True)\n"
     ]
    },
    {
     "data": {
      "text/plain": [
       "None                         4073\n",
       "White-throated Toucan         107\n",
       "Ihering's Antwren             102\n",
       "Red-eyed Vireo                 98\n",
       "Brassy-breasted Tanager        91\n",
       "Eastern Kingbird               85\n",
       "White-bellied Tody-Tyrant      83\n",
       "Charming Hummingbird           26\n",
       "Bluish-slate Antshrike         25\n",
       "Chivi Vireo                     4\n",
       "Name: MANUAL ID, dtype: int64"
      ]
     },
     "execution_count": 7,
     "metadata": {},
     "output_type": "execute_result"
    }
   ],
   "source": [
    "# df_test\n",
    "testDF = ef.append(df_test, ignore_index=True)\n",
    "testDF['MANUAL ID'].value_counts()"
   ]
  },
  {
   "cell_type": "code",
   "execution_count": 8,
   "id": "8b349373",
   "metadata": {},
   "outputs": [],
   "source": [
    "testDF.loc[testDF['MANUAL ID'].str.contains('Toucan'), 'MANUAL ID'] = 'Toucan'\n",
    "testDF.loc[testDF['MANUAL ID'].str.contains('Vireo'), 'MANUAL ID'] = 'Vireo'\n",
    "testDF.loc[testDF['MANUAL ID'].str.contains('Antwren'), 'MANUAL ID'] = 'Antwren'\n",
    "testDF.loc[testDF['MANUAL ID'].str.contains('Tanager'), 'MANUAL ID'] = 'Tanager'\n",
    "testDF.loc[testDF['MANUAL ID'].str.contains('Kingbird'), 'MANUAL ID'] = 'Kingbird'\n",
    "testDF.loc[testDF['MANUAL ID'].str.contains('Tody-Tyrant'), 'MANUAL ID'] = 'Tody-Tyrant'\n",
    "testDF.loc[testDF['MANUAL ID'].str.contains('Hummingbird'), 'MANUAL ID'] = 'Hummingbird'\n",
    "testDF.loc[testDF['MANUAL ID'].str.contains('Antshrike'), 'MANUAL ID'] = 'Antshrike'\n",
    "\n",
    "classes = ['Antwren', 'Antshrike', 'Toucan', 'Vireo', 'Kingbird', 'Tody-Tyrant', 'None']\n",
    "for i, row in testDF.iterrows():\n",
    "    if(row['MANUAL ID'] not in classes):\n",
    "        testDF.drop(i, inplace=True)"
   ]
  },
  {
   "cell_type": "code",
   "execution_count": 9,
   "id": "2f68aa17",
   "metadata": {},
   "outputs": [
    {
     "data": {
      "text/html": [
       "<div>\n",
       "<style scoped>\n",
       "    .dataframe tbody tr th:only-of-type {\n",
       "        vertical-align: middle;\n",
       "    }\n",
       "\n",
       "    .dataframe tbody tr th {\n",
       "        vertical-align: top;\n",
       "    }\n",
       "\n",
       "    .dataframe thead th {\n",
       "        text-align: right;\n",
       "    }\n",
       "</style>\n",
       "<table border=\"1\" class=\"dataframe\">\n",
       "  <thead>\n",
       "    <tr style=\"text-align: right;\">\n",
       "      <th></th>\n",
       "      <th>None</th>\n",
       "      <th>Tody-Tyrant</th>\n",
       "      <th>Vireo</th>\n",
       "      <th>Kingbird</th>\n",
       "      <th>Toucan</th>\n",
       "      <th>Antwren</th>\n",
       "      <th>Antshrike</th>\n",
       "    </tr>\n",
       "    <tr>\n",
       "      <th>file</th>\n",
       "      <th></th>\n",
       "      <th></th>\n",
       "      <th></th>\n",
       "      <th></th>\n",
       "      <th></th>\n",
       "      <th></th>\n",
       "      <th></th>\n",
       "    </tr>\n",
       "  </thead>\n",
       "  <tbody>\n",
       "    <tr>\n",
       "      <th>./temp_clips/../XenoCanto_Data/Training_Xeno_Canto_2022/Hemitriccus-griseipectus-11801_0.0s_3.0s.wav</th>\n",
       "      <td>0</td>\n",
       "      <td>1</td>\n",
       "      <td>0</td>\n",
       "      <td>0</td>\n",
       "      <td>0</td>\n",
       "      <td>0</td>\n",
       "      <td>0</td>\n",
       "    </tr>\n",
       "    <tr>\n",
       "      <th>./temp_clips/../XenoCanto_Data/Training_Xeno_Canto_2022/Hemitriccus-griseipectus-11801_3.0s_6.0s.wav</th>\n",
       "      <td>0</td>\n",
       "      <td>1</td>\n",
       "      <td>0</td>\n",
       "      <td>0</td>\n",
       "      <td>0</td>\n",
       "      <td>0</td>\n",
       "      <td>0</td>\n",
       "    </tr>\n",
       "    <tr>\n",
       "      <th>./temp_clips/../XenoCanto_Data/Training_Xeno_Canto_2022/Hemitriccus-griseipectus-11801_6.0s_9.0s.wav</th>\n",
       "      <td>0</td>\n",
       "      <td>1</td>\n",
       "      <td>0</td>\n",
       "      <td>0</td>\n",
       "      <td>0</td>\n",
       "      <td>0</td>\n",
       "      <td>0</td>\n",
       "    </tr>\n",
       "    <tr>\n",
       "      <th>./temp_clips/../XenoCanto_Data/Training_Xeno_Canto_2022/Hemitriccus-griseipectus-11801_9.0s_12.0s.wav</th>\n",
       "      <td>0</td>\n",
       "      <td>1</td>\n",
       "      <td>0</td>\n",
       "      <td>0</td>\n",
       "      <td>0</td>\n",
       "      <td>0</td>\n",
       "      <td>0</td>\n",
       "    </tr>\n",
       "    <tr>\n",
       "      <th>./temp_clips/../XenoCanto_Data/Training_Xeno_Canto_2022/Hemitriccus-griseipectus-11801_12.0s_15.0s.wav</th>\n",
       "      <td>0</td>\n",
       "      <td>1</td>\n",
       "      <td>0</td>\n",
       "      <td>0</td>\n",
       "      <td>0</td>\n",
       "      <td>0</td>\n",
       "      <td>0</td>\n",
       "    </tr>\n",
       "    <tr>\n",
       "      <th>...</th>\n",
       "      <td>...</td>\n",
       "      <td>...</td>\n",
       "      <td>...</td>\n",
       "      <td>...</td>\n",
       "      <td>...</td>\n",
       "      <td>...</td>\n",
       "      <td>...</td>\n",
       "    </tr>\n",
       "    <tr>\n",
       "      <th>./temp_clips/../../Datasets/peru_data/Audiomoth_Madre_de_Dios_Field_Recordings/All/AM1_samples_split/20190621_175000_16_0.0s_3.0s.wav</th>\n",
       "      <td>1</td>\n",
       "      <td>0</td>\n",
       "      <td>0</td>\n",
       "      <td>0</td>\n",
       "      <td>0</td>\n",
       "      <td>0</td>\n",
       "      <td>0</td>\n",
       "    </tr>\n",
       "    <tr>\n",
       "      <th>./temp_clips/../../Datasets/peru_data/Audiomoth_Madre_de_Dios_Field_Recordings/All/AM1_samples_split/20190701_084000_1_0.0s_3.0s.wav</th>\n",
       "      <td>1</td>\n",
       "      <td>0</td>\n",
       "      <td>0</td>\n",
       "      <td>0</td>\n",
       "      <td>0</td>\n",
       "      <td>0</td>\n",
       "      <td>0</td>\n",
       "    </tr>\n",
       "    <tr>\n",
       "      <th>./temp_clips/../../Datasets/peru_data/Audiomoth_Madre_de_Dios_Field_Recordings/All/AM1_samples_split/20190624_074000_14_0.0s_3.0s.wav</th>\n",
       "      <td>1</td>\n",
       "      <td>0</td>\n",
       "      <td>0</td>\n",
       "      <td>0</td>\n",
       "      <td>0</td>\n",
       "      <td>0</td>\n",
       "      <td>0</td>\n",
       "    </tr>\n",
       "    <tr>\n",
       "      <th>./temp_clips/../../Datasets/peru_data/Audiomoth_Madre_de_Dios_Field_Recordings/All/AM1_samples_split/20190621_085000_19_0.0s_3.0s.wav</th>\n",
       "      <td>1</td>\n",
       "      <td>0</td>\n",
       "      <td>0</td>\n",
       "      <td>0</td>\n",
       "      <td>0</td>\n",
       "      <td>0</td>\n",
       "      <td>0</td>\n",
       "    </tr>\n",
       "    <tr>\n",
       "      <th>./temp_clips/../../Datasets/peru_data/Audiomoth_Madre_de_Dios_Field_Recordings/All/AM1_samples_split/20190624_145000_17_0.0s_3.0s.wav</th>\n",
       "      <td>1</td>\n",
       "      <td>0</td>\n",
       "      <td>0</td>\n",
       "      <td>0</td>\n",
       "      <td>0</td>\n",
       "      <td>0</td>\n",
       "      <td>0</td>\n",
       "    </tr>\n",
       "  </tbody>\n",
       "</table>\n",
       "<p>4577 rows × 7 columns</p>\n",
       "</div>"
      ],
      "text/plain": [
       "                                                    None  Tody-Tyrant  Vireo  \\\n",
       "file                                                                           \n",
       "./temp_clips/../XenoCanto_Data/Training_Xeno_Ca...     0            1      0   \n",
       "./temp_clips/../XenoCanto_Data/Training_Xeno_Ca...     0            1      0   \n",
       "./temp_clips/../XenoCanto_Data/Training_Xeno_Ca...     0            1      0   \n",
       "./temp_clips/../XenoCanto_Data/Training_Xeno_Ca...     0            1      0   \n",
       "./temp_clips/../XenoCanto_Data/Training_Xeno_Ca...     0            1      0   \n",
       "...                                                  ...          ...    ...   \n",
       "./temp_clips/../../Datasets/peru_data/Audiomoth...     1            0      0   \n",
       "./temp_clips/../../Datasets/peru_data/Audiomoth...     1            0      0   \n",
       "./temp_clips/../../Datasets/peru_data/Audiomoth...     1            0      0   \n",
       "./temp_clips/../../Datasets/peru_data/Audiomoth...     1            0      0   \n",
       "./temp_clips/../../Datasets/peru_data/Audiomoth...     1            0      0   \n",
       "\n",
       "                                                    Kingbird  Toucan  Antwren  \\\n",
       "file                                                                            \n",
       "./temp_clips/../XenoCanto_Data/Training_Xeno_Ca...         0       0        0   \n",
       "./temp_clips/../XenoCanto_Data/Training_Xeno_Ca...         0       0        0   \n",
       "./temp_clips/../XenoCanto_Data/Training_Xeno_Ca...         0       0        0   \n",
       "./temp_clips/../XenoCanto_Data/Training_Xeno_Ca...         0       0        0   \n",
       "./temp_clips/../XenoCanto_Data/Training_Xeno_Ca...         0       0        0   \n",
       "...                                                      ...     ...      ...   \n",
       "./temp_clips/../../Datasets/peru_data/Audiomoth...         0       0        0   \n",
       "./temp_clips/../../Datasets/peru_data/Audiomoth...         0       0        0   \n",
       "./temp_clips/../../Datasets/peru_data/Audiomoth...         0       0        0   \n",
       "./temp_clips/../../Datasets/peru_data/Audiomoth...         0       0        0   \n",
       "./temp_clips/../../Datasets/peru_data/Audiomoth...         0       0        0   \n",
       "\n",
       "                                                    Antshrike  \n",
       "file                                                           \n",
       "./temp_clips/../XenoCanto_Data/Training_Xeno_Ca...          0  \n",
       "./temp_clips/../XenoCanto_Data/Training_Xeno_Ca...          0  \n",
       "./temp_clips/../XenoCanto_Data/Training_Xeno_Ca...          0  \n",
       "./temp_clips/../XenoCanto_Data/Training_Xeno_Ca...          0  \n",
       "./temp_clips/../XenoCanto_Data/Training_Xeno_Ca...          0  \n",
       "...                                                       ...  \n",
       "./temp_clips/../../Datasets/peru_data/Audiomoth...          0  \n",
       "./temp_clips/../../Datasets/peru_data/Audiomoth...          0  \n",
       "./temp_clips/../../Datasets/peru_data/Audiomoth...          0  \n",
       "./temp_clips/../../Datasets/peru_data/Audiomoth...          0  \n",
       "./temp_clips/../../Datasets/peru_data/Audiomoth...          0  \n",
       "\n",
       "[4577 rows x 7 columns]"
      ]
     },
     "execution_count": 9,
     "metadata": {},
     "output_type": "execute_result"
    }
   ],
   "source": [
    "from opensoundscape.annotations import categorical_to_one_hot\n",
    "one_hot_labels, testClasses = categorical_to_one_hot(testDF[['MANUAL ID']].values)\n",
    "testDF = pd.DataFrame(index=testDF['file'],data=one_hot_labels,columns=testClasses)\n",
    "testDF = testDF.reindex(columns=model.classes)\n",
    "testDF"
   ]
  },
  {
   "cell_type": "code",
   "execution_count": 11,
   "id": "a9a1a03c",
   "metadata": {},
   "outputs": [
    {
     "data": {
      "text/plain": [
       "['Tody-Tyrant', 'Antshrike', 'Kingbird', 'Vireo', 'Antwren', 'Toucan', 'None']"
      ]
     },
     "execution_count": 11,
     "metadata": {},
     "output_type": "execute_result"
    }
   ],
   "source": [
    "model.classes"
   ]
  },
  {
   "cell_type": "code",
   "execution_count": 12,
   "id": "3f2ab73e",
   "metadata": {},
   "outputs": [
    {
     "data": {
      "text/plain": [
       "['None', 'Tody-Tyrant', 'Vireo', 'Kingbird', 'Toucan', 'Antwren', 'Antshrike']"
      ]
     },
     "execution_count": 12,
     "metadata": {},
     "output_type": "execute_result"
    }
   ],
   "source": [
    "testClasses"
   ]
  },
  {
   "cell_type": "code",
   "execution_count": 13,
   "id": "f6a4ed4d",
   "metadata": {},
   "outputs": [],
   "source": [
    "prediction_dataset = model.train_dataset.sample(n=0)\n",
    "prediction_dataset.augmentation_off()\n",
    "prediction_dataset.df = testDF"
   ]
  },
  {
   "cell_type": "code",
   "execution_count": 14,
   "id": "61baea49",
   "metadata": {},
   "outputs": [
    {
     "name": "stdout",
     "output_type": "stream",
     "text": [
      "(4577, 7)\n"
     ]
    }
   ],
   "source": [
    "valid_scores_df, valid_preds_df, valid_labels_df = model.predict(prediction_dataset,\n",
    "                                                                 binary_preds='single_target',\n",
    "                                                                 batch_size=16,\n",
    "                                                                 num_workers=2,\n",
    "                                                                 activation_layer='softmax')"
   ]
  },
  {
   "cell_type": "code",
   "execution_count": 15,
   "id": "7591665a",
   "metadata": {},
   "outputs": [
    {
     "name": "stdout",
     "output_type": "stream",
     "text": [
      "              precision    recall  f1-score   support\n",
      "\n",
      "           0       0.74      0.94      0.83        83\n",
      "           1       0.00      0.00      0.00        25\n",
      "           2       0.58      0.96      0.73        85\n",
      "           3       0.79      0.97      0.87       102\n",
      "           4       0.69      0.81      0.75       102\n",
      "           5       0.30      1.00      0.46       107\n",
      "           6       1.00      0.92      0.96      4073\n",
      "\n",
      "   micro avg       0.91      0.91      0.91      4577\n",
      "   macro avg       0.59      0.80      0.66      4577\n",
      "weighted avg       0.95      0.91      0.93      4577\n",
      " samples avg       0.91      0.91      0.91      4577\n",
      "\n"
     ]
    },
    {
     "name": "stderr",
     "output_type": "stream",
     "text": [
      "/Users/kushagraagrawal/anaconda3/envs/opso/lib/python3.8/site-packages/sklearn/metrics/_classification.py:1318: UndefinedMetricWarning: Precision and F-score are ill-defined and being set to 0.0 in labels with no predicted samples. Use `zero_division` parameter to control this behavior.\n",
      "  _warn_prf(average, modifier, msg_start, len(result))\n"
     ]
    }
   ],
   "source": [
    "from sklearn.metrics import classification_report, roc_auc_score, roc_curve\n",
    "print(classification_report(valid_labels_df, valid_preds_df))"
   ]
  },
  {
   "cell_type": "code",
   "execution_count": 16,
   "id": "a6caa2df",
   "metadata": {},
   "outputs": [
    {
     "data": {
      "text/plain": [
       "Index(['Tody-Tyrant', 'Antshrike', 'Kingbird', 'Vireo', 'Antwren', 'Toucan',\n",
       "       'None'],\n",
       "      dtype='object')"
      ]
     },
     "execution_count": 16,
     "metadata": {},
     "output_type": "execute_result"
    }
   ],
   "source": [
    "testDF.columns"
   ]
  },
  {
   "cell_type": "code",
   "execution_count": 17,
   "id": "b5501ee6",
   "metadata": {},
   "outputs": [
    {
     "data": {
      "image/png": "[encoded data removed]",
      "text/plain": [
       "<Figure size 432x288 with 1 Axes>"
      ]
     },
     "metadata": {
      "needs_background": "light"
     },
     "output_type": "display_data"
    }
   ],
   "source": [
    "fpr, tpr, thresh = roc_curve(valid_labels_df['Antwren'],  valid_scores_df['Antwren'])\n",
    "auc = roc_auc_score(valid_labels_df['Antwren'],  valid_preds_df['Antwren'])\n",
    "\n",
    "fpr2, tpr2, thresh2 = roc_curve(valid_labels_df['Kingbird'],  valid_scores_df['Kingbird'])\n",
    "auc2 = roc_auc_score(valid_labels_df['Kingbird'],  valid_preds_df['Kingbird'])\n",
    "\n",
    "fpr3, tpr3, thresh3 = roc_curve(valid_labels_df['Vireo'],  valid_scores_df['Vireo'])\n",
    "auc3 = roc_auc_score(valid_labels_df['Vireo'],  valid_preds_df['Vireo'])\n",
    "\n",
    "fpr4, tpr4, thresh4 = roc_curve(valid_labels_df['Toucan'],  valid_scores_df['Toucan'])\n",
    "auc4 = roc_auc_score(valid_labels_df['Toucan'],  valid_preds_df['Toucan'])\n",
    "\n",
    "fpr5, tpr5, thresh5 = roc_curve(valid_labels_df['Tody-Tyrant'],  valid_scores_df['Tody-Tyrant'])\n",
    "auc5 = roc_auc_score(valid_labels_df['Tody-Tyrant'],  valid_preds_df['Tody-Tyrant'])\n",
    "\n",
    "fpr6, tpr6, thresh6 = roc_curve(valid_labels_df['Antshrike'],  valid_scores_df['Antshrike'])\n",
    "auc6 = roc_auc_score(valid_labels_df['Antshrike'],  valid_preds_df['Antshrike'])\n",
    "\n",
    "fpr7, tpr7, thresh7 = roc_curve(valid_labels_df['None'],  valid_scores_df['None'])\n",
    "auc7 = roc_auc_score(valid_labels_df['None'],  valid_preds_df['None'])\n",
    "\n",
    "plt.plot(fpr,tpr,label=\"AUC Antwren\"+str(auc))\n",
    "plt.plot(fpr2,tpr2,label=\"AUC Kingbird\"+str(auc2))\n",
    "plt.plot(fpr3,tpr3,label=\"AUC Vireo\"+str(auc3))\n",
    "plt.plot(fpr4,tpr4,label=\"AUC Toucan\"+str(auc4))\n",
    "plt.plot(fpr5,tpr5,label=\"AUC Tody-Tyrant\"+str(auc5))\n",
    "plt.plot(fpr6,tpr6,label=\"AUC Antshrike\"+str(auc6))\n",
    "plt.plot(fpr7,tpr7,label=\"AUC Non-Bird\"+str(auc7))\n",
    "plt.title('Classwise ROC Curves')\n",
    "plt.ylabel('True Positive Rate')\n",
    "plt.xlabel('False Positive Rate')\n",
    "plt.legend()\n",
    "plt.show()"
   ]
  },
  {
   "cell_type": "code",
   "execution_count": null,
   "id": "e763f645",
   "metadata": {},
   "outputs": [],
   "source": []
  }
 ],
 "metadata": {
  "kernelspec": {
   "display_name": "Python 3",
   "language": "python",
   "name": "python3"
  },
  "language_info": {
   "codemirror_mode": {
    "name": "ipython",
    "version": 3
   },
   "file_extension": ".py",
   "mimetype": "text/x-python",
   "name": "python",
   "nbconvert_exporter": "python",
   "pygments_lexer": "ipython3",
   "version": "3.7.10"
  }
 },
 "nbformat": 4,
 "nbformat_minor": 5
}
