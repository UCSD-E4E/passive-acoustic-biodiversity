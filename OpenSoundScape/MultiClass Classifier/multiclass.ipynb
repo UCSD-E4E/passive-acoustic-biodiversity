{
 "cells": [
  {
   "cell_type": "code",
   "execution_count": 10,
   "id": "678201ba-eecf-4c22-8192-7e35a34acaa8",
   "metadata": {},
   "outputs": [],
   "source": [
    "from opensoundscape.preprocess.preprocessors import BasePreprocessor, AudioToSpectrogramPreprocessor, CnnPreprocessor\n",
    "import torch\n",
    "import pandas as pd\n",
    "from pathlib import Path\n",
    "import numpy as np\n",
    "import pandas as pd\n",
    "from opensoundscape.torch.models import cnn\n",
    "from opensoundscape.torch.architectures import cnn_architectures"
   ]
  },
  {
   "cell_type": "code",
   "execution_count": 40,
   "id": "061a3e9d",
   "metadata": {},
   "outputs": [
    {
     "name": "stdout",
     "output_type": "stream",
     "text": [
      "(199, 6)\n",
      "(1348, 6)\n",
      "(1106, 6)\n",
      "(163, 6)\n",
      "(37, 6)\n"
     ]
    }
   ],
   "source": [
    "df = pd.read_csv('screaming_pyha_test.csv')\n",
    "ef = pd.read_csv('flycatcher_test.csv')\n",
    "ff = pd.read_csv('antbird_test.csv')\n",
    "gf = pd.read_csv('attila_test.csv')\n",
    "hf = pd.read_csv('peppershrike_test.csv')\n",
    "print(df.shape)\n",
    "print(ef.shape)\n",
    "print(ff.shape)\n",
    "print(gf.shape)\n",
    "print(hf.shape)"
   ]
  },
  {
   "cell_type": "code",
   "execution_count": 41,
   "id": "3d2b1263",
   "metadata": {},
   "outputs": [
    {
     "name": "stderr",
     "output_type": "stream",
     "text": [
      "/var/folders/km/7_v861mx0cb9fp42nvllkmt00000gn/T/ipykernel_36849/4274230089.py:1: FutureWarning: The frame.append method is deprecated and will be removed from pandas in a future version. Use pandas.concat instead.\n",
      "  df = df.append(ef, ignore_index=True)\n",
      "/var/folders/km/7_v861mx0cb9fp42nvllkmt00000gn/T/ipykernel_36849/4274230089.py:2: FutureWarning: The frame.append method is deprecated and will be removed from pandas in a future version. Use pandas.concat instead.\n",
      "  df = df.append(ff, ignore_index=True)\n",
      "/var/folders/km/7_v861mx0cb9fp42nvllkmt00000gn/T/ipykernel_36849/4274230089.py:3: FutureWarning: The frame.append method is deprecated and will be removed from pandas in a future version. Use pandas.concat instead.\n",
      "  df = df.append(gf, ignore_index=True)\n",
      "/var/folders/km/7_v861mx0cb9fp42nvllkmt00000gn/T/ipykernel_36849/4274230089.py:4: FutureWarning: The frame.append method is deprecated and will be removed from pandas in a future version. Use pandas.concat instead.\n",
      "  df = df.append(hf, ignore_index=True)\n"
     ]
    },
    {
     "data": {
      "text/plain": [
       "(2853, 6)"
      ]
     },
     "execution_count": 41,
     "metadata": {},
     "output_type": "execute_result"
    }
   ],
   "source": [
    "df = df.append(ef, ignore_index=True)\n",
    "df = df.append(ff, ignore_index=True)\n",
    "df = df.append(gf, ignore_index=True)\n",
    "df = df.append(hf, ignore_index=True)\n",
    "df.shape"
   ]
  },
  {
   "cell_type": "code",
   "execution_count": 42,
   "id": "f89cc89e",
   "metadata": {},
   "outputs": [
    {
     "data": {
      "text/plain": [
       "Index(['Unnamed: 0', 'file', 'start_time', 'end_time', 'SAMPLING RATE',\n",
       "       'MANUAL ID'],\n",
       "      dtype='object')"
      ]
     },
     "execution_count": 42,
     "metadata": {},
     "output_type": "execute_result"
    }
   ],
   "source": [
    "# ff.drop('Unnamed: 0', inplace=True)\n",
    "df.columns"
   ]
  },
  {
   "cell_type": "code",
   "execution_count": 43,
   "id": "e048aaa1",
   "metadata": {},
   "outputs": [
    {
     "data": {
      "text/plain": [
       "Flycatcher      1348\n",
       "Antbird         1106\n",
       "Piha             199\n",
       "Attila           163\n",
       "Peppershrike      37\n",
       "Name: MANUAL ID, dtype: int64"
      ]
     },
     "execution_count": 43,
     "metadata": {},
     "output_type": "execute_result"
    }
   ],
   "source": [
    "df.loc[df['MANUAL ID'].str.contains('Flycatcher'), 'MANUAL ID'] = 'Flycatcher'\n",
    "df.loc[df['MANUAL ID'].str.contains('Antbird'), 'MANUAL ID'] = 'Antbird'\n",
    "df.loc[df['MANUAL ID'].str.contains('Peppershrike'), 'MANUAL ID'] = 'Peppershrike'\n",
    "df.loc[df['MANUAL ID'].str.contains('Attila'), 'MANUAL ID'] = 'Attila'\n",
    "df['MANUAL ID'] = df['MANUAL ID'].map({'bird': 'Piha', 'Flycatcher': 'Flycatcher', 'Antbird': 'Antbird', 'Peppershrike': 'Peppershrike', 'Attila': 'Attila'})\n",
    "df['MANUAL ID'].value_counts()"
   ]
  },
  {
   "cell_type": "code",
   "execution_count": 44,
   "id": "fd08b116",
   "metadata": {},
   "outputs": [],
   "source": [
    "from opensoundscape.annotations import categorical_to_one_hot\n",
    "one_hot_labels, classes = categorical_to_one_hot(df[['MANUAL ID']].values)\n",
    "labelFfOpSo = pd.DataFrame(index=df['file'],data=one_hot_labels,columns=classes)"
   ]
  },
  {
   "cell_type": "code",
   "execution_count": 45,
   "id": "d6383a5a",
   "metadata": {},
   "outputs": [
    {
     "data": {
      "text/plain": [
       "['Peppershrike', 'Piha', 'Flycatcher', 'Antbird', 'Attila']"
      ]
     },
     "execution_count": 45,
     "metadata": {},
     "output_type": "execute_result"
    }
   ],
   "source": [
    "classes"
   ]
  },
  {
   "cell_type": "code",
   "execution_count": 46,
   "id": "f13348ff-d3eb-44d3-b29a-2ba0963b6c02",
   "metadata": {},
   "outputs": [],
   "source": [
    "# reference - http://opensoundscape.org/en/latest/api/modules.html?highlight=multiclass#opensoundscape.torch.models.cnn.Resnet18Multiclass\n",
    "\n",
    "# http://opensoundscape.org/en/latest/api/modules.html?highlight=multiclass#opensoundscape.metrics.multiclass_metrics"
   ]
  },
  {
   "cell_type": "code",
   "execution_count": 47,
   "id": "ec470fad",
   "metadata": {},
   "outputs": [],
   "source": [
    "from sklearn.model_selection import train_test_split\n",
    "train_df, valid_df = train_test_split(labelFfOpSo, test_size=0.05, random_state=42)\n",
    "train_df, test_df = train_test_split(train_df, test_size=0.1, random_state=42)"
   ]
  },
  {
   "cell_type": "code",
   "execution_count": 48,
   "id": "215adf91",
   "metadata": {},
   "outputs": [
    {
     "name": "stdout",
     "output_type": "stream",
     "text": [
      "(2439, 5)\n",
      "(143, 5)\n",
      "(271, 5)\n"
     ]
    }
   ],
   "source": [
    "print(train_df.shape)\n",
    "print(valid_df.shape)\n",
    "print(test_df.shape)"
   ]
  },
  {
   "cell_type": "code",
   "execution_count": 49,
   "id": "5796758b-3169-4cb7-ad5f-072bbd79e1e2",
   "metadata": {},
   "outputs": [],
   "source": [
    "train_dataset = CnnPreprocessor(df=train_df)\n",
    "train_dataset.augmentation_on()\n",
    "train_dataset.actions.load_audio.set(sample_rate=44100)\n",
    "valid_dataset = CnnPreprocessor(df=valid_df)\n",
    "valid_dataset.augmentation_on()\n",
    "valid_dataset.actions.load_audio.set(sample_rate=44100)"
   ]
  },
  {
   "cell_type": "code",
   "execution_count": 50,
   "id": "f45eadac-9474-4ffa-9bde-3f0d8236fb2c",
   "metadata": {},
   "outputs": [
    {
     "name": "stdout",
     "output_type": "stream",
     "text": [
      "created PytorchModel model object with 5 classes\n"
     ]
    }
   ],
   "source": [
    "model = cnn.Resnet18Multiclass(classes)"
   ]
  },
  {
   "cell_type": "code",
   "execution_count": 51,
   "id": "13587c56",
   "metadata": {},
   "outputs": [
    {
     "name": "stdout",
     "output_type": "stream",
     "text": [
      "Epoch: 0 [batch 0/77 (0.00%)] \n",
      "\tJacc: 0.200 Hamm: 0.800 DistLoss: 29.907\n",
      "Epoch: 0 [batch 10/77 (12.99%)] \n",
      "\tJacc: 0.169 Hamm: 0.219 DistLoss: 18.078\n"
     ]
    },
    {
     "name": "stderr",
     "output_type": "stream",
     "text": [
      "/Users/kushagraagrawal/anaconda3/envs/opso/lib/python3.8/site-packages/sklearn/metrics/_classification.py:1318: UndefinedMetricWarning: Jaccard is ill-defined and being set to 0.0 in labels with no true or predicted samples. Use `zero_division` parameter to control this behavior.\n",
      "  _warn_prf(average, modifier, msg_start, len(result))\n"
     ]
    },
    {
     "name": "stdout",
     "output_type": "stream",
     "text": [
      "Epoch: 0 [batch 20/77 (25.97%)] \n",
      "\tJacc: 0.169 Hamm: 0.175 DistLoss: 15.944\n"
     ]
    },
    {
     "name": "stderr",
     "output_type": "stream",
     "text": [
      "/Users/kushagraagrawal/anaconda3/envs/opso/lib/python3.8/site-packages/sklearn/metrics/_classification.py:1318: UndefinedMetricWarning: Jaccard is ill-defined and being set to 0.0 in labels with no true or predicted samples. Use `zero_division` parameter to control this behavior.\n",
      "  _warn_prf(average, modifier, msg_start, len(result))\n"
     ]
    },
    {
     "name": "stdout",
     "output_type": "stream",
     "text": [
      "Epoch: 0 [batch 30/77 (38.96%)] \n",
      "\tJacc: 0.167 Hamm: 0.169 DistLoss: 15.742\n",
      "Epoch: 0 [batch 40/77 (51.95%)] \n",
      "\tJacc: 0.151 Hamm: 0.206 DistLoss: 15.034\n",
      "Epoch: 0 [batch 50/77 (64.94%)] \n",
      "\tJacc: 0.177 Hamm: 0.188 DistLoss: 14.809\n"
     ]
    },
    {
     "name": "stderr",
     "output_type": "stream",
     "text": [
      "/Users/kushagraagrawal/anaconda3/envs/opso/lib/python3.8/site-packages/sklearn/metrics/_classification.py:1318: UndefinedMetricWarning: Jaccard is ill-defined and being set to 0.0 in labels with no true or predicted samples. Use `zero_division` parameter to control this behavior.\n",
      "  _warn_prf(average, modifier, msg_start, len(result))\n"
     ]
    },
    {
     "name": "stdout",
     "output_type": "stream",
     "text": [
      "Epoch: 0 [batch 60/77 (77.92%)] \n",
      "\tJacc: 0.266 Hamm: 0.156 DistLoss: 14.291\n",
      "Epoch: 0 [batch 70/77 (90.91%)] \n",
      "\tJacc: 0.255 Hamm: 0.100 DistLoss: 13.874\n",
      "\n",
      "Validation.\n",
      "(143, 5)\n",
      "\t Precision: 0.405967365967366\n",
      "\t Recall: 0.29446327683615825\n",
      "\t F1: 0.3273066802478567\n",
      "Updating best model\n",
      "Epoch: 1 [batch 0/77 (0.00%)] \n",
      "\tJacc: 0.353 Hamm: 0.100 DistLoss: 10.096\n"
     ]
    },
    {
     "name": "stderr",
     "output_type": "stream",
     "text": [
      "/Users/kushagraagrawal/anaconda3/envs/opso/lib/python3.8/site-packages/sklearn/metrics/_classification.py:1318: UndefinedMetricWarning: Jaccard is ill-defined and being set to 0.0 in labels with no true or predicted samples. Use `zero_division` parameter to control this behavior.\n",
      "  _warn_prf(average, modifier, msg_start, len(result))\n"
     ]
    },
    {
     "name": "stdout",
     "output_type": "stream",
     "text": [
      "Epoch: 1 [batch 10/77 (12.99%)] \n",
      "\tJacc: 0.226 Hamm: 0.156 DistLoss: 12.332\n"
     ]
    },
    {
     "name": "stderr",
     "output_type": "stream",
     "text": [
      "/Users/kushagraagrawal/anaconda3/envs/opso/lib/python3.8/site-packages/sklearn/metrics/_classification.py:1318: UndefinedMetricWarning: Jaccard is ill-defined and being set to 0.0 in labels with no true or predicted samples. Use `zero_division` parameter to control this behavior.\n",
      "  _warn_prf(average, modifier, msg_start, len(result))\n"
     ]
    },
    {
     "name": "stdout",
     "output_type": "stream",
     "text": [
      "Epoch: 1 [batch 20/77 (25.97%)] \n",
      "\tJacc: 0.195 Hamm: 0.156 DistLoss: 11.474\n"
     ]
    },
    {
     "name": "stderr",
     "output_type": "stream",
     "text": [
      "/Users/kushagraagrawal/anaconda3/envs/opso/lib/python3.8/site-packages/sklearn/metrics/_classification.py:1318: UndefinedMetricWarning: Jaccard is ill-defined and being set to 0.0 in labels with no true or predicted samples. Use `zero_division` parameter to control this behavior.\n",
      "  _warn_prf(average, modifier, msg_start, len(result))\n"
     ]
    },
    {
     "name": "stdout",
     "output_type": "stream",
     "text": [
      "Epoch: 1 [batch 30/77 (38.96%)] \n",
      "\tJacc: 0.215 Hamm: 0.181 DistLoss: 11.358\n"
     ]
    },
    {
     "name": "stderr",
     "output_type": "stream",
     "text": [
      "/Users/kushagraagrawal/anaconda3/envs/opso/lib/python3.8/site-packages/sklearn/metrics/_classification.py:1318: UndefinedMetricWarning: Jaccard is ill-defined and being set to 0.0 in labels with no true or predicted samples. Use `zero_division` parameter to control this behavior.\n",
      "  _warn_prf(average, modifier, msg_start, len(result))\n"
     ]
    },
    {
     "name": "stdout",
     "output_type": "stream",
     "text": [
      "Epoch: 1 [batch 40/77 (51.95%)] \n",
      "\tJacc: 0.371 Hamm: 0.119 DistLoss: 11.019\n"
     ]
    },
    {
     "name": "stderr",
     "output_type": "stream",
     "text": [
      "/Users/kushagraagrawal/anaconda3/envs/opso/lib/python3.8/site-packages/sklearn/metrics/_classification.py:1318: UndefinedMetricWarning: Jaccard is ill-defined and being set to 0.0 in labels with no true or predicted samples. Use `zero_division` parameter to control this behavior.\n",
      "  _warn_prf(average, modifier, msg_start, len(result))\n"
     ]
    },
    {
     "name": "stdout",
     "output_type": "stream",
     "text": [
      "Epoch: 1 [batch 50/77 (64.94%)] \n",
      "\tJacc: 0.373 Hamm: 0.156 DistLoss: 10.711\n",
      "Epoch: 1 [batch 60/77 (77.92%)] \n",
      "\tJacc: 0.194 Hamm: 0.144 DistLoss: 10.545\n",
      "Epoch: 1 [batch 70/77 (90.91%)] \n",
      "\tJacc: 0.242 Hamm: 0.169 DistLoss: 10.497\n"
     ]
    },
    {
     "name": "stderr",
     "output_type": "stream",
     "text": [
      "/Users/kushagraagrawal/anaconda3/envs/opso/lib/python3.8/site-packages/sklearn/metrics/_classification.py:1318: UndefinedMetricWarning: Jaccard is ill-defined and being set to 0.0 in labels with no true or predicted samples. Use `zero_division` parameter to control this behavior.\n",
      "  _warn_prf(average, modifier, msg_start, len(result))\n"
     ]
    },
    {
     "name": "stdout",
     "output_type": "stream",
     "text": [
      "\n",
      "Validation.\n",
      "(143, 5)\n",
      "\t Precision: 0.3439455782312925\n",
      "\t Recall: 0.35799838579499593\n",
      "\t F1: 0.34473439333252415\n",
      "Updating best model\n",
      "Epoch: 2 [batch 0/77 (0.00%)] \n",
      "\tJacc: 0.474 Hamm: 0.056 DistLoss: 5.912\n",
      "Epoch: 2 [batch 10/77 (12.99%)] \n",
      "\tJacc: 0.505 Hamm: 0.056 DistLoss: 9.754\n"
     ]
    },
    {
     "name": "stderr",
     "output_type": "stream",
     "text": [
      "/Users/kushagraagrawal/anaconda3/envs/opso/lib/python3.8/site-packages/sklearn/metrics/_classification.py:1318: UndefinedMetricWarning: Jaccard is ill-defined and being set to 0.0 in labels with no true or predicted samples. Use `zero_division` parameter to control this behavior.\n",
      "  _warn_prf(average, modifier, msg_start, len(result))\n"
     ]
    },
    {
     "name": "stdout",
     "output_type": "stream",
     "text": [
      "Epoch: 2 [batch 20/77 (25.97%)] \n",
      "\tJacc: 0.600 Hamm: 0.119 DistLoss: 9.562\n",
      "Epoch: 2 [batch 30/77 (38.96%)] \n",
      "\tJacc: 0.456 Hamm: 0.087 DistLoss: 9.286\n"
     ]
    },
    {
     "name": "stderr",
     "output_type": "stream",
     "text": [
      "/Users/kushagraagrawal/anaconda3/envs/opso/lib/python3.8/site-packages/sklearn/metrics/_classification.py:1318: UndefinedMetricWarning: Jaccard is ill-defined and being set to 0.0 in labels with no true or predicted samples. Use `zero_division` parameter to control this behavior.\n",
      "  _warn_prf(average, modifier, msg_start, len(result))\n"
     ]
    },
    {
     "name": "stdout",
     "output_type": "stream",
     "text": [
      "Epoch: 2 [batch 40/77 (51.95%)] \n",
      "\tJacc: 0.568 Hamm: 0.100 DistLoss: 9.013\n"
     ]
    },
    {
     "name": "stderr",
     "output_type": "stream",
     "text": [
      "/Users/kushagraagrawal/anaconda3/envs/opso/lib/python3.8/site-packages/sklearn/metrics/_classification.py:1318: UndefinedMetricWarning: Jaccard is ill-defined and being set to 0.0 in labels with no true or predicted samples. Use `zero_division` parameter to control this behavior.\n",
      "  _warn_prf(average, modifier, msg_start, len(result))\n"
     ]
    },
    {
     "name": "stdout",
     "output_type": "stream",
     "text": [
      "Epoch: 2 [batch 50/77 (64.94%)] \n",
      "\tJacc: 0.601 Hamm: 0.050 DistLoss: 8.703\n"
     ]
    },
    {
     "name": "stderr",
     "output_type": "stream",
     "text": [
      "/Users/kushagraagrawal/anaconda3/envs/opso/lib/python3.8/site-packages/sklearn/metrics/_classification.py:1318: UndefinedMetricWarning: Jaccard is ill-defined and being set to 0.0 in labels with no true or predicted samples. Use `zero_division` parameter to control this behavior.\n",
      "  _warn_prf(average, modifier, msg_start, len(result))\n"
     ]
    },
    {
     "name": "stdout",
     "output_type": "stream",
     "text": [
      "Epoch: 2 [batch 60/77 (77.92%)] \n",
      "\tJacc: 0.294 Hamm: 0.144 DistLoss: 8.733\n",
      "Epoch: 2 [batch 70/77 (90.91%)] \n",
      "\tJacc: 0.533 Hamm: 0.094 DistLoss: 8.615\n"
     ]
    },
    {
     "name": "stderr",
     "output_type": "stream",
     "text": [
      "/Users/kushagraagrawal/anaconda3/envs/opso/lib/python3.8/site-packages/sklearn/metrics/_classification.py:1318: UndefinedMetricWarning: Jaccard is ill-defined and being set to 0.0 in labels with no true or predicted samples. Use `zero_division` parameter to control this behavior.\n",
      "  _warn_prf(average, modifier, msg_start, len(result))\n"
     ]
    },
    {
     "name": "stdout",
     "output_type": "stream",
     "text": [
      "\n",
      "Validation.\n",
      "(143, 5)\n",
      "\t Precision: 0.5836111111111112\n",
      "\t Recall: 0.6082324455205812\n",
      "\t F1: 0.5813058643993896\n",
      "Updating best model\n",
      "Epoch: 3 [batch 0/77 (0.00%)] \n",
      "\tJacc: 0.435 Hamm: 0.100 DistLoss: 6.797\n"
     ]
    },
    {
     "name": "stderr",
     "output_type": "stream",
     "text": [
      "/Users/kushagraagrawal/anaconda3/envs/opso/lib/python3.8/site-packages/sklearn/metrics/_classification.py:1318: UndefinedMetricWarning: Jaccard is ill-defined and being set to 0.0 in labels with no true or predicted samples. Use `zero_division` parameter to control this behavior.\n",
      "  _warn_prf(average, modifier, msg_start, len(result))\n"
     ]
    },
    {
     "name": "stdout",
     "output_type": "stream",
     "text": [
      "Epoch: 3 [batch 10/77 (12.99%)] \n",
      "\tJacc: 0.411 Hamm: 0.119 DistLoss: 7.247\n"
     ]
    },
    {
     "name": "stderr",
     "output_type": "stream",
     "text": [
      "/Users/kushagraagrawal/anaconda3/envs/opso/lib/python3.8/site-packages/sklearn/metrics/_classification.py:1318: UndefinedMetricWarning: Jaccard is ill-defined and being set to 0.0 in labels with no true or predicted samples. Use `zero_division` parameter to control this behavior.\n",
      "  _warn_prf(average, modifier, msg_start, len(result))\n"
     ]
    },
    {
     "name": "stdout",
     "output_type": "stream",
     "text": [
      "Epoch: 3 [batch 20/77 (25.97%)] \n",
      "\tJacc: 0.351 Hamm: 0.119 DistLoss: 7.339\n"
     ]
    },
    {
     "name": "stderr",
     "output_type": "stream",
     "text": [
      "/Users/kushagraagrawal/anaconda3/envs/opso/lib/python3.8/site-packages/sklearn/metrics/_classification.py:1318: UndefinedMetricWarning: Jaccard is ill-defined and being set to 0.0 in labels with no true or predicted samples. Use `zero_division` parameter to control this behavior.\n",
      "  _warn_prf(average, modifier, msg_start, len(result))\n"
     ]
    },
    {
     "name": "stdout",
     "output_type": "stream",
     "text": [
      "Epoch: 3 [batch 30/77 (38.96%)] \n",
      "\tJacc: 0.249 Hamm: 0.113 DistLoss: 7.333\n"
     ]
    },
    {
     "name": "stderr",
     "output_type": "stream",
     "text": [
      "/Users/kushagraagrawal/anaconda3/envs/opso/lib/python3.8/site-packages/sklearn/metrics/_classification.py:1318: UndefinedMetricWarning: Jaccard is ill-defined and being set to 0.0 in labels with no true or predicted samples. Use `zero_division` parameter to control this behavior.\n",
      "  _warn_prf(average, modifier, msg_start, len(result))\n"
     ]
    },
    {
     "name": "stdout",
     "output_type": "stream",
     "text": [
      "Epoch: 3 [batch 40/77 (51.95%)] \n",
      "\tJacc: 0.622 Hamm: 0.056 DistLoss: 7.207\n",
      "Epoch: 3 [batch 50/77 (64.94%)] \n",
      "\tJacc: 0.647 Hamm: 0.050 DistLoss: 7.162\n"
     ]
    },
    {
     "name": "stderr",
     "output_type": "stream",
     "text": [
      "/Users/kushagraagrawal/anaconda3/envs/opso/lib/python3.8/site-packages/sklearn/metrics/_classification.py:1318: UndefinedMetricWarning: Jaccard is ill-defined and being set to 0.0 in labels with no true or predicted samples. Use `zero_division` parameter to control this behavior.\n",
      "  _warn_prf(average, modifier, msg_start, len(result))\n"
     ]
    },
    {
     "name": "stdout",
     "output_type": "stream",
     "text": [
      "Epoch: 3 [batch 60/77 (77.92%)] \n",
      "\tJacc: 0.542 Hamm: 0.069 DistLoss: 7.249\n",
      "Epoch: 3 [batch 70/77 (90.91%)] \n",
      "\tJacc: 0.614 Hamm: 0.050 DistLoss: 7.134\n"
     ]
    },
    {
     "name": "stderr",
     "output_type": "stream",
     "text": [
      "/Users/kushagraagrawal/anaconda3/envs/opso/lib/python3.8/site-packages/sklearn/metrics/_classification.py:1318: UndefinedMetricWarning: Jaccard is ill-defined and being set to 0.0 in labels with no true or predicted samples. Use `zero_division` parameter to control this behavior.\n",
      "  _warn_prf(average, modifier, msg_start, len(result))\n"
     ]
    },
    {
     "name": "stdout",
     "output_type": "stream",
     "text": [
      "\n",
      "Validation.\n",
      "(143, 5)\n",
      "\t Precision: 0.7163265306122449\n",
      "\t Recall: 0.5065536723163843\n",
      "\t F1: 0.53950864422202\n",
      "Epoch: 4 [batch 0/77 (0.00%)] \n",
      "\tJacc: 0.327 Hamm: 0.131 DistLoss: 11.981\n",
      "Epoch: 4 [batch 10/77 (12.99%)] \n",
      "\tJacc: 0.661 Hamm: 0.044 DistLoss: 6.504\n"
     ]
    },
    {
     "name": "stderr",
     "output_type": "stream",
     "text": [
      "/Users/kushagraagrawal/anaconda3/envs/opso/lib/python3.8/site-packages/sklearn/metrics/_classification.py:1318: UndefinedMetricWarning: Jaccard is ill-defined and being set to 0.0 in labels with no true or predicted samples. Use `zero_division` parameter to control this behavior.\n",
      "  _warn_prf(average, modifier, msg_start, len(result))\n"
     ]
    },
    {
     "name": "stdout",
     "output_type": "stream",
     "text": [
      "Epoch: 4 [batch 20/77 (25.97%)] \n",
      "\tJacc: 0.498 Hamm: 0.044 DistLoss: 6.172\n",
      "Epoch: 4 [batch 30/77 (38.96%)] \n",
      "\tJacc: 0.559 Hamm: 0.081 DistLoss: 6.070\n"
     ]
    },
    {
     "name": "stderr",
     "output_type": "stream",
     "text": [
      "/Users/kushagraagrawal/anaconda3/envs/opso/lib/python3.8/site-packages/sklearn/metrics/_classification.py:1318: UndefinedMetricWarning: Jaccard is ill-defined and being set to 0.0 in labels with no true or predicted samples. Use `zero_division` parameter to control this behavior.\n",
      "  _warn_prf(average, modifier, msg_start, len(result))\n"
     ]
    },
    {
     "name": "stdout",
     "output_type": "stream",
     "text": [
      "Epoch: 4 [batch 40/77 (51.95%)] \n",
      "\tJacc: 0.462 Hamm: 0.075 DistLoss: 6.153\n"
     ]
    },
    {
     "name": "stderr",
     "output_type": "stream",
     "text": [
      "/Users/kushagraagrawal/anaconda3/envs/opso/lib/python3.8/site-packages/sklearn/metrics/_classification.py:1318: UndefinedMetricWarning: Jaccard is ill-defined and being set to 0.0 in labels with no true or predicted samples. Use `zero_division` parameter to control this behavior.\n",
      "  _warn_prf(average, modifier, msg_start, len(result))\n"
     ]
    },
    {
     "name": "stdout",
     "output_type": "stream",
     "text": [
      "Epoch: 4 [batch 50/77 (64.94%)] \n",
      "\tJacc: 0.690 Hamm: 0.062 DistLoss: 6.055\n",
      "Epoch: 4 [batch 60/77 (77.92%)] \n",
      "\tJacc: 0.457 Hamm: 0.044 DistLoss: 6.121\n"
     ]
    },
    {
     "name": "stderr",
     "output_type": "stream",
     "text": [
      "/Users/kushagraagrawal/anaconda3/envs/opso/lib/python3.8/site-packages/sklearn/metrics/_classification.py:1318: UndefinedMetricWarning: Jaccard is ill-defined and being set to 0.0 in labels with no true or predicted samples. Use `zero_division` parameter to control this behavior.\n",
      "  _warn_prf(average, modifier, msg_start, len(result))\n"
     ]
    },
    {
     "name": "stdout",
     "output_type": "stream",
     "text": [
      "Epoch: 4 [batch 70/77 (90.91%)] \n",
      "\tJacc: 0.857 Hamm: 0.050 DistLoss: 6.062\n",
      "\n",
      "Validation.\n",
      "(143, 5)\n",
      "\t Precision: 0.8011795112781955\n",
      "\t Recall: 0.7852623083131558\n",
      "\t F1: 0.7894206427334909\n",
      "Updating best model\n",
      "Epoch: 5 [batch 0/77 (0.00%)] \n",
      "\tJacc: 0.526 Hamm: 0.106 DistLoss: 10.375\n",
      "Epoch: 5 [batch 10/77 (12.99%)] \n",
      "\tJacc: 0.532 Hamm: 0.062 DistLoss: 6.584\n"
     ]
    },
    {
     "name": "stderr",
     "output_type": "stream",
     "text": [
      "/Users/kushagraagrawal/anaconda3/envs/opso/lib/python3.8/site-packages/sklearn/metrics/_classification.py:1318: UndefinedMetricWarning: Jaccard is ill-defined and being set to 0.0 in labels with no true or predicted samples. Use `zero_division` parameter to control this behavior.\n",
      "  _warn_prf(average, modifier, msg_start, len(result))\n"
     ]
    },
    {
     "name": "stdout",
     "output_type": "stream",
     "text": [
      "Epoch: 5 [batch 20/77 (25.97%)] \n",
      "\tJacc: 0.549 Hamm: 0.094 DistLoss: 6.521\n"
     ]
    },
    {
     "name": "stderr",
     "output_type": "stream",
     "text": [
      "/Users/kushagraagrawal/anaconda3/envs/opso/lib/python3.8/site-packages/sklearn/metrics/_classification.py:1318: UndefinedMetricWarning: Jaccard is ill-defined and being set to 0.0 in labels with no true or predicted samples. Use `zero_division` parameter to control this behavior.\n",
      "  _warn_prf(average, modifier, msg_start, len(result))\n"
     ]
    },
    {
     "name": "stdout",
     "output_type": "stream",
     "text": [
      "Epoch: 5 [batch 30/77 (38.96%)] \n",
      "\tJacc: 0.808 Hamm: 0.050 DistLoss: 6.056\n",
      "Epoch: 5 [batch 40/77 (51.95%)] \n",
      "\tJacc: 0.848 Hamm: 0.031 DistLoss: 6.036\n",
      "Epoch: 5 [batch 50/77 (64.94%)] \n",
      "\tJacc: 0.431 Hamm: 0.087 DistLoss: 6.024\n"
     ]
    },
    {
     "name": "stderr",
     "output_type": "stream",
     "text": [
      "/Users/kushagraagrawal/anaconda3/envs/opso/lib/python3.8/site-packages/sklearn/metrics/_classification.py:1318: UndefinedMetricWarning: Jaccard is ill-defined and being set to 0.0 in labels with no true or predicted samples. Use `zero_division` parameter to control this behavior.\n",
      "  _warn_prf(average, modifier, msg_start, len(result))\n"
     ]
    },
    {
     "name": "stdout",
     "output_type": "stream",
     "text": [
      "Epoch: 5 [batch 60/77 (77.92%)] \n",
      "\tJacc: 0.350 Hamm: 0.094 DistLoss: 6.131\n"
     ]
    },
    {
     "name": "stderr",
     "output_type": "stream",
     "text": [
      "/Users/kushagraagrawal/anaconda3/envs/opso/lib/python3.8/site-packages/sklearn/metrics/_classification.py:1318: UndefinedMetricWarning: Jaccard is ill-defined and being set to 0.0 in labels with no true or predicted samples. Use `zero_division` parameter to control this behavior.\n",
      "  _warn_prf(average, modifier, msg_start, len(result))\n"
     ]
    },
    {
     "name": "stdout",
     "output_type": "stream",
     "text": [
      "Epoch: 5 [batch 70/77 (90.91%)] \n",
      "\tJacc: 0.722 Hamm: 0.037 DistLoss: 5.880\n"
     ]
    },
    {
     "name": "stderr",
     "output_type": "stream",
     "text": [
      "/Users/kushagraagrawal/anaconda3/envs/opso/lib/python3.8/site-packages/sklearn/metrics/_classification.py:1318: UndefinedMetricWarning: Jaccard is ill-defined and being set to 0.0 in labels with no true or predicted samples. Use `zero_division` parameter to control this behavior.\n",
      "  _warn_prf(average, modifier, msg_start, len(result))\n"
     ]
    },
    {
     "name": "stdout",
     "output_type": "stream",
     "text": [
      "\n",
      "Validation.\n",
      "(143, 5)\n",
      "\t Precision: 0.6201660634447519\n",
      "\t Recall: 0.6661501210653753\n",
      "\t F1: 0.5910253138123853\n",
      "Epoch: 6 [batch 0/77 (0.00%)] \n",
      "\tJacc: 0.805 Hamm: 0.050 DistLoss: 5.249\n",
      "Epoch: 6 [batch 10/77 (12.99%)] \n",
      "\tJacc: 0.986 Hamm: 0.006 DistLoss: 6.031\n",
      "Epoch: 6 [batch 20/77 (25.97%)] \n",
      "\tJacc: 0.392 Hamm: 0.087 DistLoss: 6.325\n"
     ]
    },
    {
     "name": "stderr",
     "output_type": "stream",
     "text": [
      "/Users/kushagraagrawal/anaconda3/envs/opso/lib/python3.8/site-packages/sklearn/metrics/_classification.py:1318: UndefinedMetricWarning: Jaccard is ill-defined and being set to 0.0 in labels with no true or predicted samples. Use `zero_division` parameter to control this behavior.\n",
      "  _warn_prf(average, modifier, msg_start, len(result))\n"
     ]
    },
    {
     "name": "stdout",
     "output_type": "stream",
     "text": [
      "Epoch: 6 [batch 30/77 (38.96%)] \n",
      "\tJacc: 0.589 Hamm: 0.050 DistLoss: 6.059\n"
     ]
    },
    {
     "name": "stderr",
     "output_type": "stream",
     "text": [
      "/Users/kushagraagrawal/anaconda3/envs/opso/lib/python3.8/site-packages/sklearn/metrics/_classification.py:1318: UndefinedMetricWarning: Jaccard is ill-defined and being set to 0.0 in labels with no true or predicted samples. Use `zero_division` parameter to control this behavior.\n",
      "  _warn_prf(average, modifier, msg_start, len(result))\n"
     ]
    },
    {
     "name": "stdout",
     "output_type": "stream",
     "text": [
      "Epoch: 6 [batch 40/77 (51.95%)] \n",
      "\tJacc: 0.810 Hamm: 0.050 DistLoss: 5.926\n",
      "Epoch: 6 [batch 50/77 (64.94%)] \n",
      "\tJacc: 0.734 Hamm: 0.069 DistLoss: 5.782\n",
      "Epoch: 6 [batch 60/77 (77.92%)] \n",
      "\tJacc: 0.683 Hamm: 0.031 DistLoss: 5.541\n"
     ]
    },
    {
     "name": "stderr",
     "output_type": "stream",
     "text": [
      "/Users/kushagraagrawal/anaconda3/envs/opso/lib/python3.8/site-packages/sklearn/metrics/_classification.py:1318: UndefinedMetricWarning: Jaccard is ill-defined and being set to 0.0 in labels with no true or predicted samples. Use `zero_division` parameter to control this behavior.\n",
      "  _warn_prf(average, modifier, msg_start, len(result))\n"
     ]
    },
    {
     "name": "stdout",
     "output_type": "stream",
     "text": [
      "Epoch: 6 [batch 70/77 (90.91%)] \n",
      "\tJacc: 0.735 Hamm: 0.037 DistLoss: 5.444\n",
      "\n",
      "Validation.\n",
      "(143, 5)\n",
      "\t Precision: 0.6785081585081585\n",
      "\t Recall: 0.6877804681194511\n",
      "\t F1: 0.674527733475102\n",
      "Epoch: 7 [batch 0/77 (0.00%)] \n",
      "\tJacc: 0.543 Hamm: 0.025 DistLoss: 3.127\n"
     ]
    },
    {
     "name": "stderr",
     "output_type": "stream",
     "text": [
      "/Users/kushagraagrawal/anaconda3/envs/opso/lib/python3.8/site-packages/sklearn/metrics/_classification.py:1318: UndefinedMetricWarning: Jaccard is ill-defined and being set to 0.0 in labels with no true or predicted samples. Use `zero_division` parameter to control this behavior.\n",
      "  _warn_prf(average, modifier, msg_start, len(result))\n"
     ]
    },
    {
     "name": "stdout",
     "output_type": "stream",
     "text": [
      "Epoch: 7 [batch 10/77 (12.99%)] \n",
      "\tJacc: 0.401 Hamm: 0.081 DistLoss: 6.499\n"
     ]
    },
    {
     "name": "stderr",
     "output_type": "stream",
     "text": [
      "/Users/kushagraagrawal/anaconda3/envs/opso/lib/python3.8/site-packages/sklearn/metrics/_classification.py:1318: UndefinedMetricWarning: Jaccard is ill-defined and being set to 0.0 in labels with no true or predicted samples. Use `zero_division` parameter to control this behavior.\n",
      "  _warn_prf(average, modifier, msg_start, len(result))\n"
     ]
    },
    {
     "name": "stdout",
     "output_type": "stream",
     "text": [
      "Epoch: 7 [batch 20/77 (25.97%)] \n",
      "\tJacc: 0.626 Hamm: 0.044 DistLoss: 5.965\n"
     ]
    },
    {
     "name": "stderr",
     "output_type": "stream",
     "text": [
      "/Users/kushagraagrawal/anaconda3/envs/opso/lib/python3.8/site-packages/sklearn/metrics/_classification.py:1318: UndefinedMetricWarning: Jaccard is ill-defined and being set to 0.0 in labels with no true or predicted samples. Use `zero_division` parameter to control this behavior.\n",
      "  _warn_prf(average, modifier, msg_start, len(result))\n"
     ]
    },
    {
     "name": "stdout",
     "output_type": "stream",
     "text": [
      "Epoch: 7 [batch 30/77 (38.96%)] \n",
      "\tJacc: 0.492 Hamm: 0.062 DistLoss: 5.790\n"
     ]
    },
    {
     "name": "stderr",
     "output_type": "stream",
     "text": [
      "/Users/kushagraagrawal/anaconda3/envs/opso/lib/python3.8/site-packages/sklearn/metrics/_classification.py:1318: UndefinedMetricWarning: Jaccard is ill-defined and being set to 0.0 in labels with no true or predicted samples. Use `zero_division` parameter to control this behavior.\n",
      "  _warn_prf(average, modifier, msg_start, len(result))\n"
     ]
    },
    {
     "name": "stdout",
     "output_type": "stream",
     "text": [
      "Epoch: 7 [batch 40/77 (51.95%)] \n",
      "\tJacc: 0.553 Hamm: 0.044 DistLoss: 5.780\n"
     ]
    },
    {
     "name": "stderr",
     "output_type": "stream",
     "text": [
      "/Users/kushagraagrawal/anaconda3/envs/opso/lib/python3.8/site-packages/sklearn/metrics/_classification.py:1318: UndefinedMetricWarning: Jaccard is ill-defined and being set to 0.0 in labels with no true or predicted samples. Use `zero_division` parameter to control this behavior.\n",
      "  _warn_prf(average, modifier, msg_start, len(result))\n"
     ]
    },
    {
     "name": "stdout",
     "output_type": "stream",
     "text": [
      "Epoch: 7 [batch 50/77 (64.94%)] \n",
      "\tJacc: 0.702 Hamm: 0.050 DistLoss: 5.708\n"
     ]
    },
    {
     "name": "stderr",
     "output_type": "stream",
     "text": [
      "/Users/kushagraagrawal/anaconda3/envs/opso/lib/python3.8/site-packages/sklearn/metrics/_classification.py:1318: UndefinedMetricWarning: Jaccard is ill-defined and being set to 0.0 in labels with no true or predicted samples. Use `zero_division` parameter to control this behavior.\n",
      "  _warn_prf(average, modifier, msg_start, len(result))\n"
     ]
    },
    {
     "name": "stdout",
     "output_type": "stream",
     "text": [
      "Epoch: 7 [batch 60/77 (77.92%)] \n",
      "\tJacc: 0.544 Hamm: 0.050 DistLoss: 5.732\n"
     ]
    },
    {
     "name": "stderr",
     "output_type": "stream",
     "text": [
      "/Users/kushagraagrawal/anaconda3/envs/opso/lib/python3.8/site-packages/sklearn/metrics/_classification.py:1318: UndefinedMetricWarning: Jaccard is ill-defined and being set to 0.0 in labels with no true or predicted samples. Use `zero_division` parameter to control this behavior.\n",
      "  _warn_prf(average, modifier, msg_start, len(result))\n"
     ]
    },
    {
     "name": "stdout",
     "output_type": "stream",
     "text": [
      "Epoch: 7 [batch 70/77 (90.91%)] \n",
      "\tJacc: 0.467 Hamm: 0.037 DistLoss: 5.508\n"
     ]
    },
    {
     "name": "stderr",
     "output_type": "stream",
     "text": [
      "/Users/kushagraagrawal/anaconda3/envs/opso/lib/python3.8/site-packages/sklearn/metrics/_classification.py:1318: UndefinedMetricWarning: Jaccard is ill-defined and being set to 0.0 in labels with no true or predicted samples. Use `zero_division` parameter to control this behavior.\n",
      "  _warn_prf(average, modifier, msg_start, len(result))\n"
     ]
    },
    {
     "name": "stdout",
     "output_type": "stream",
     "text": [
      "\n",
      "Validation.\n",
      "(143, 5)\n",
      "\t Precision: 0.918904109589041\n",
      "\t Recall: 0.7537530266343826\n",
      "\t F1: 0.797212121212121\n",
      "Updating best model\n",
      "Epoch: 8 [batch 0/77 (0.00%)] \n",
      "\tJacc: 0.886 Hamm: 0.013 DistLoss: 1.567\n",
      "Epoch: 8 [batch 10/77 (12.99%)] \n",
      "\tJacc: 0.889 Hamm: 0.056 DistLoss: 4.948\n",
      "Epoch: 8 [batch 20/77 (25.97%)] \n",
      "\tJacc: 0.512 Hamm: 0.050 DistLoss: 5.169\n"
     ]
    },
    {
     "name": "stderr",
     "output_type": "stream",
     "text": [
      "/Users/kushagraagrawal/anaconda3/envs/opso/lib/python3.8/site-packages/sklearn/metrics/_classification.py:1318: UndefinedMetricWarning: Jaccard is ill-defined and being set to 0.0 in labels with no true or predicted samples. Use `zero_division` parameter to control this behavior.\n",
      "  _warn_prf(average, modifier, msg_start, len(result))\n"
     ]
    },
    {
     "name": "stdout",
     "output_type": "stream",
     "text": [
      "Epoch: 8 [batch 30/77 (38.96%)] \n",
      "\tJacc: 0.524 Hamm: 0.062 DistLoss: 5.253\n"
     ]
    },
    {
     "name": "stderr",
     "output_type": "stream",
     "text": [
      "/Users/kushagraagrawal/anaconda3/envs/opso/lib/python3.8/site-packages/sklearn/metrics/_classification.py:1318: UndefinedMetricWarning: Jaccard is ill-defined and being set to 0.0 in labels with no true or predicted samples. Use `zero_division` parameter to control this behavior.\n",
      "  _warn_prf(average, modifier, msg_start, len(result))\n"
     ]
    },
    {
     "name": "stdout",
     "output_type": "stream",
     "text": [
      "Epoch: 8 [batch 40/77 (51.95%)] \n",
      "\tJacc: 0.554 Hamm: 0.081 DistLoss: 5.470\n"
     ]
    },
    {
     "name": "stderr",
     "output_type": "stream",
     "text": [
      "/Users/kushagraagrawal/anaconda3/envs/opso/lib/python3.8/site-packages/sklearn/metrics/_classification.py:1318: UndefinedMetricWarning: Jaccard is ill-defined and being set to 0.0 in labels with no true or predicted samples. Use `zero_division` parameter to control this behavior.\n",
      "  _warn_prf(average, modifier, msg_start, len(result))\n"
     ]
    },
    {
     "name": "stdout",
     "output_type": "stream",
     "text": [
      "Epoch: 8 [batch 50/77 (64.94%)] \n",
      "\tJacc: 0.700 Hamm: 0.056 DistLoss: 5.332\n",
      "Epoch: 8 [batch 60/77 (77.92%)] \n",
      "\tJacc: 0.772 Hamm: 0.013 DistLoss: 5.017\n"
     ]
    },
    {
     "name": "stderr",
     "output_type": "stream",
     "text": [
      "/Users/kushagraagrawal/anaconda3/envs/opso/lib/python3.8/site-packages/sklearn/metrics/_classification.py:1318: UndefinedMetricWarning: Jaccard is ill-defined and being set to 0.0 in labels with no true or predicted samples. Use `zero_division` parameter to control this behavior.\n",
      "  _warn_prf(average, modifier, msg_start, len(result))\n"
     ]
    },
    {
     "name": "stdout",
     "output_type": "stream",
     "text": [
      "Epoch: 8 [batch 70/77 (90.91%)] \n",
      "\tJacc: 0.418 Hamm: 0.056 DistLoss: 4.830\n"
     ]
    },
    {
     "name": "stderr",
     "output_type": "stream",
     "text": [
      "/Users/kushagraagrawal/anaconda3/envs/opso/lib/python3.8/site-packages/sklearn/metrics/_classification.py:1318: UndefinedMetricWarning: Jaccard is ill-defined and being set to 0.0 in labels with no true or predicted samples. Use `zero_division` parameter to control this behavior.\n",
      "  _warn_prf(average, modifier, msg_start, len(result))\n"
     ]
    },
    {
     "name": "stdout",
     "output_type": "stream",
     "text": [
      "\n",
      "Validation.\n",
      "(143, 5)\n",
      "\t Precision: 0.923317384370016\n",
      "\t Recall: 0.8799677158999193\n",
      "\t F1: 0.9002212797344644\n",
      "Updating best model\n",
      "Epoch: 9 [batch 0/77 (0.00%)] \n",
      "\tJacc: 0.697 Hamm: 0.031 DistLoss: 2.300\n"
     ]
    },
    {
     "name": "stderr",
     "output_type": "stream",
     "text": [
      "/Users/kushagraagrawal/anaconda3/envs/opso/lib/python3.8/site-packages/sklearn/metrics/_classification.py:1318: UndefinedMetricWarning: Jaccard is ill-defined and being set to 0.0 in labels with no true or predicted samples. Use `zero_division` parameter to control this behavior.\n",
      "  _warn_prf(average, modifier, msg_start, len(result))\n"
     ]
    },
    {
     "name": "stdout",
     "output_type": "stream",
     "text": [
      "Epoch: 9 [batch 10/77 (12.99%)] \n",
      "\tJacc: 0.623 Hamm: 0.056 DistLoss: 4.089\n"
     ]
    },
    {
     "name": "stderr",
     "output_type": "stream",
     "text": [
      "/Users/kushagraagrawal/anaconda3/envs/opso/lib/python3.8/site-packages/sklearn/metrics/_classification.py:1318: UndefinedMetricWarning: Jaccard is ill-defined and being set to 0.0 in labels with no true or predicted samples. Use `zero_division` parameter to control this behavior.\n",
      "  _warn_prf(average, modifier, msg_start, len(result))\n"
     ]
    },
    {
     "name": "stdout",
     "output_type": "stream",
     "text": [
      "Epoch: 9 [batch 20/77 (25.97%)] \n",
      "\tJacc: 0.741 Hamm: 0.031 DistLoss: 3.765\n",
      "Epoch: 9 [batch 30/77 (38.96%)] \n",
      "\tJacc: 0.734 Hamm: 0.031 DistLoss: 3.819\n"
     ]
    },
    {
     "name": "stderr",
     "output_type": "stream",
     "text": [
      "/Users/kushagraagrawal/anaconda3/envs/opso/lib/python3.8/site-packages/sklearn/metrics/_classification.py:1318: UndefinedMetricWarning: Jaccard is ill-defined and being set to 0.0 in labels with no true or predicted samples. Use `zero_division` parameter to control this behavior.\n",
      "  _warn_prf(average, modifier, msg_start, len(result))\n"
     ]
    },
    {
     "name": "stdout",
     "output_type": "stream",
     "text": [
      "Epoch: 9 [batch 40/77 (51.95%)] \n",
      "\tJacc: 0.491 Hamm: 0.056 DistLoss: 3.810\n"
     ]
    },
    {
     "name": "stderr",
     "output_type": "stream",
     "text": [
      "/Users/kushagraagrawal/anaconda3/envs/opso/lib/python3.8/site-packages/sklearn/metrics/_classification.py:1318: UndefinedMetricWarning: Jaccard is ill-defined and being set to 0.0 in labels with no true or predicted samples. Use `zero_division` parameter to control this behavior.\n",
      "  _warn_prf(average, modifier, msg_start, len(result))\n"
     ]
    },
    {
     "name": "stdout",
     "output_type": "stream",
     "text": [
      "Epoch: 9 [batch 50/77 (64.94%)] \n",
      "\tJacc: 0.833 Hamm: 0.037 DistLoss: 3.625\n",
      "Epoch: 9 [batch 60/77 (77.92%)] \n",
      "\tJacc: 0.729 Hamm: 0.037 DistLoss: 3.740\n"
     ]
    },
    {
     "name": "stderr",
     "output_type": "stream",
     "text": [
      "/Users/kushagraagrawal/anaconda3/envs/opso/lib/python3.8/site-packages/sklearn/metrics/_classification.py:1318: UndefinedMetricWarning: Jaccard is ill-defined and being set to 0.0 in labels with no true or predicted samples. Use `zero_division` parameter to control this behavior.\n",
      "  _warn_prf(average, modifier, msg_start, len(result))\n"
     ]
    },
    {
     "name": "stdout",
     "output_type": "stream",
     "text": [
      "Epoch: 9 [batch 70/77 (90.91%)] \n",
      "\tJacc: 0.730 Hamm: 0.037 DistLoss: 3.645\n",
      "\n",
      "Validation.\n",
      "(143, 5)\n",
      "\t Precision: 0.9104761904761904\n",
      "\t Recall: 0.9298789346246974\n",
      "\t F1: 0.9111777463460632\n",
      "Updating best model\n",
      "Epoch: 10 [batch 0/77 (0.00%)] \n",
      "\tJacc: 0.553 Hamm: 0.031 DistLoss: 2.613\n"
     ]
    },
    {
     "name": "stderr",
     "output_type": "stream",
     "text": [
      "/Users/kushagraagrawal/anaconda3/envs/opso/lib/python3.8/site-packages/sklearn/metrics/_classification.py:1318: UndefinedMetricWarning: Jaccard is ill-defined and being set to 0.0 in labels with no true or predicted samples. Use `zero_division` parameter to control this behavior.\n",
      "  _warn_prf(average, modifier, msg_start, len(result))\n"
     ]
    },
    {
     "name": "stdout",
     "output_type": "stream",
     "text": [
      "Epoch: 10 [batch 10/77 (12.99%)] \n",
      "\tJacc: 0.946 Hamm: 0.025 DistLoss: 2.733\n",
      "Epoch: 10 [batch 20/77 (25.97%)] \n",
      "\tJacc: 0.579 Hamm: 0.013 DistLoss: 2.907\n"
     ]
    },
    {
     "name": "stderr",
     "output_type": "stream",
     "text": [
      "/Users/kushagraagrawal/anaconda3/envs/opso/lib/python3.8/site-packages/sklearn/metrics/_classification.py:1318: UndefinedMetricWarning: Jaccard is ill-defined and being set to 0.0 in labels with no true or predicted samples. Use `zero_division` parameter to control this behavior.\n",
      "  _warn_prf(average, modifier, msg_start, len(result))\n"
     ]
    },
    {
     "name": "stdout",
     "output_type": "stream",
     "text": [
      "Epoch: 10 [batch 30/77 (38.96%)] \n",
      "\tJacc: 0.636 Hamm: 0.037 DistLoss: 2.964\n"
     ]
    },
    {
     "name": "stderr",
     "output_type": "stream",
     "text": [
      "/Users/kushagraagrawal/anaconda3/envs/opso/lib/python3.8/site-packages/sklearn/metrics/_classification.py:1318: UndefinedMetricWarning: Jaccard is ill-defined and being set to 0.0 in labels with no true or predicted samples. Use `zero_division` parameter to control this behavior.\n",
      "  _warn_prf(average, modifier, msg_start, len(result))\n"
     ]
    },
    {
     "name": "stdout",
     "output_type": "stream",
     "text": [
      "Epoch: 10 [batch 40/77 (51.95%)] \n",
      "\tJacc: 0.690 Hamm: 0.056 DistLoss: 2.801\n"
     ]
    },
    {
     "name": "stderr",
     "output_type": "stream",
     "text": [
      "/Users/kushagraagrawal/anaconda3/envs/opso/lib/python3.8/site-packages/sklearn/metrics/_classification.py:1318: UndefinedMetricWarning: Jaccard is ill-defined and being set to 0.0 in labels with no true or predicted samples. Use `zero_division` parameter to control this behavior.\n",
      "  _warn_prf(average, modifier, msg_start, len(result))\n"
     ]
    },
    {
     "name": "stdout",
     "output_type": "stream",
     "text": [
      "Epoch: 10 [batch 50/77 (64.94%)] \n",
      "\tJacc: 0.755 Hamm: 0.019 DistLoss: 2.759\n"
     ]
    },
    {
     "name": "stderr",
     "output_type": "stream",
     "text": [
      "/Users/kushagraagrawal/anaconda3/envs/opso/lib/python3.8/site-packages/sklearn/metrics/_classification.py:1318: UndefinedMetricWarning: Jaccard is ill-defined and being set to 0.0 in labels with no true or predicted samples. Use `zero_division` parameter to control this behavior.\n",
      "  _warn_prf(average, modifier, msg_start, len(result))\n"
     ]
    },
    {
     "name": "stdout",
     "output_type": "stream",
     "text": [
      "Epoch: 10 [batch 60/77 (77.92%)] \n",
      "\tJacc: 0.893 Hamm: 0.050 DistLoss: 2.707\n",
      "Epoch: 10 [batch 70/77 (90.91%)] \n",
      "\tJacc: 0.729 Hamm: 0.031 DistLoss: 2.838\n"
     ]
    },
    {
     "name": "stderr",
     "output_type": "stream",
     "text": [
      "/Users/kushagraagrawal/anaconda3/envs/opso/lib/python3.8/site-packages/sklearn/metrics/_classification.py:1318: UndefinedMetricWarning: Jaccard is ill-defined and being set to 0.0 in labels with no true or predicted samples. Use `zero_division` parameter to control this behavior.\n",
      "  _warn_prf(average, modifier, msg_start, len(result))\n"
     ]
    },
    {
     "name": "stdout",
     "output_type": "stream",
     "text": [
      "\n",
      "Validation.\n",
      "(143, 5)\n",
      "\t Precision: 0.8429902152641878\n",
      "\t Recall: 0.9174172719935433\n",
      "\t F1: 0.8596565513996707\n",
      "Epoch: 11 [batch 0/77 (0.00%)] \n",
      "\tJacc: 0.749 Hamm: 0.013 DistLoss: 2.098\n"
     ]
    },
    {
     "name": "stderr",
     "output_type": "stream",
     "text": [
      "/Users/kushagraagrawal/anaconda3/envs/opso/lib/python3.8/site-packages/sklearn/metrics/_classification.py:1318: UndefinedMetricWarning: Jaccard is ill-defined and being set to 0.0 in labels with no true or predicted samples. Use `zero_division` parameter to control this behavior.\n",
      "  _warn_prf(average, modifier, msg_start, len(result))\n"
     ]
    },
    {
     "name": "stdout",
     "output_type": "stream",
     "text": [
      "Epoch: 11 [batch 10/77 (12.99%)] \n",
      "\tJacc: 0.700 Hamm: 0.025 DistLoss: 2.353\n"
     ]
    },
    {
     "name": "stderr",
     "output_type": "stream",
     "text": [
      "/Users/kushagraagrawal/anaconda3/envs/opso/lib/python3.8/site-packages/sklearn/metrics/_classification.py:1318: UndefinedMetricWarning: Jaccard is ill-defined and being set to 0.0 in labels with no true or predicted samples. Use `zero_division` parameter to control this behavior.\n",
      "  _warn_prf(average, modifier, msg_start, len(result))\n"
     ]
    },
    {
     "name": "stdout",
     "output_type": "stream",
     "text": [
      "Epoch: 11 [batch 20/77 (25.97%)] \n",
      "\tJacc: 0.552 Hamm: 0.025 DistLoss: 2.862\n"
     ]
    },
    {
     "name": "stderr",
     "output_type": "stream",
     "text": [
      "/Users/kushagraagrawal/anaconda3/envs/opso/lib/python3.8/site-packages/sklearn/metrics/_classification.py:1318: UndefinedMetricWarning: Jaccard is ill-defined and being set to 0.0 in labels with no true or predicted samples. Use `zero_division` parameter to control this behavior.\n",
      "  _warn_prf(average, modifier, msg_start, len(result))\n"
     ]
    },
    {
     "name": "stdout",
     "output_type": "stream",
     "text": [
      "Epoch: 11 [batch 30/77 (38.96%)] \n",
      "\tJacc: 0.848 Hamm: 0.031 DistLoss: 2.665\n",
      "Epoch: 11 [batch 40/77 (51.95%)] \n",
      "\tJacc: 0.743 Hamm: 0.025 DistLoss: 2.843\n"
     ]
    },
    {
     "name": "stderr",
     "output_type": "stream",
     "text": [
      "/Users/kushagraagrawal/anaconda3/envs/opso/lib/python3.8/site-packages/sklearn/metrics/_classification.py:1318: UndefinedMetricWarning: Jaccard is ill-defined and being set to 0.0 in labels with no true or predicted samples. Use `zero_division` parameter to control this behavior.\n",
      "  _warn_prf(average, modifier, msg_start, len(result))\n"
     ]
    },
    {
     "name": "stdout",
     "output_type": "stream",
     "text": [
      "Epoch: 11 [batch 50/77 (64.94%)] \n",
      "\tJacc: 0.759 Hamm: 0.025 DistLoss: 2.808\n",
      "Epoch: 11 [batch 60/77 (77.92%)] \n",
      "\tJacc: 0.760 Hamm: 0.006 DistLoss: 2.718\n"
     ]
    },
    {
     "name": "stderr",
     "output_type": "stream",
     "text": [
      "/Users/kushagraagrawal/anaconda3/envs/opso/lib/python3.8/site-packages/sklearn/metrics/_classification.py:1318: UndefinedMetricWarning: Jaccard is ill-defined and being set to 0.0 in labels with no true or predicted samples. Use `zero_division` parameter to control this behavior.\n",
      "  _warn_prf(average, modifier, msg_start, len(result))\n"
     ]
    },
    {
     "name": "stdout",
     "output_type": "stream",
     "text": [
      "Epoch: 11 [batch 70/77 (90.91%)] \n",
      "\tJacc: 0.667 Hamm: 0.037 DistLoss: 2.655\n"
     ]
    },
    {
     "name": "stderr",
     "output_type": "stream",
     "text": [
      "/Users/kushagraagrawal/anaconda3/envs/opso/lib/python3.8/site-packages/sklearn/metrics/_classification.py:1318: UndefinedMetricWarning: Jaccard is ill-defined and being set to 0.0 in labels with no true or predicted samples. Use `zero_division` parameter to control this behavior.\n",
      "  _warn_prf(average, modifier, msg_start, len(result))\n"
     ]
    },
    {
     "name": "stdout",
     "output_type": "stream",
     "text": [
      "\n",
      "Validation.\n",
      "(143, 5)\n",
      "\t Precision: 0.8235142469470826\n",
      "\t Recall: 0.8195480225988699\n",
      "\t F1: 0.7980404894119839\n",
      "Epoch: 12 [batch 0/77 (0.00%)] \n",
      "\tJacc: 0.757 Hamm: 0.019 DistLoss: 2.023\n"
     ]
    },
    {
     "name": "stderr",
     "output_type": "stream",
     "text": [
      "/Users/kushagraagrawal/anaconda3/envs/opso/lib/python3.8/site-packages/sklearn/metrics/_classification.py:1318: UndefinedMetricWarning: Jaccard is ill-defined and being set to 0.0 in labels with no true or predicted samples. Use `zero_division` parameter to control this behavior.\n",
      "  _warn_prf(average, modifier, msg_start, len(result))\n"
     ]
    },
    {
     "name": "stdout",
     "output_type": "stream",
     "text": [
      "Epoch: 12 [batch 10/77 (12.99%)] \n",
      "\tJacc: 0.600 Hamm: 0.006 DistLoss: 2.707\n"
     ]
    },
    {
     "name": "stderr",
     "output_type": "stream",
     "text": [
      "/Users/kushagraagrawal/anaconda3/envs/opso/lib/python3.8/site-packages/sklearn/metrics/_classification.py:1318: UndefinedMetricWarning: Jaccard is ill-defined and being set to 0.0 in labels with no true or predicted samples. Use `zero_division` parameter to control this behavior.\n",
      "  _warn_prf(average, modifier, msg_start, len(result))\n"
     ]
    },
    {
     "name": "stdout",
     "output_type": "stream",
     "text": [
      "Epoch: 12 [batch 20/77 (25.97%)] \n",
      "\tJacc: 0.749 Hamm: 0.025 DistLoss: 2.828\n"
     ]
    },
    {
     "name": "stderr",
     "output_type": "stream",
     "text": [
      "/Users/kushagraagrawal/anaconda3/envs/opso/lib/python3.8/site-packages/sklearn/metrics/_classification.py:1318: UndefinedMetricWarning: Jaccard is ill-defined and being set to 0.0 in labels with no true or predicted samples. Use `zero_division` parameter to control this behavior.\n",
      "  _warn_prf(average, modifier, msg_start, len(result))\n"
     ]
    },
    {
     "name": "stdout",
     "output_type": "stream",
     "text": [
      "Epoch: 12 [batch 30/77 (38.96%)] \n",
      "\tJacc: 0.592 Hamm: 0.044 DistLoss: 2.642\n"
     ]
    },
    {
     "name": "stderr",
     "output_type": "stream",
     "text": [
      "/Users/kushagraagrawal/anaconda3/envs/opso/lib/python3.8/site-packages/sklearn/metrics/_classification.py:1318: UndefinedMetricWarning: Jaccard is ill-defined and being set to 0.0 in labels with no true or predicted samples. Use `zero_division` parameter to control this behavior.\n",
      "  _warn_prf(average, modifier, msg_start, len(result))\n"
     ]
    },
    {
     "name": "stdout",
     "output_type": "stream",
     "text": [
      "Epoch: 12 [batch 40/77 (51.95%)] \n",
      "\tJacc: 0.758 Hamm: 0.019 DistLoss: 2.646\n"
     ]
    },
    {
     "name": "stderr",
     "output_type": "stream",
     "text": [
      "/Users/kushagraagrawal/anaconda3/envs/opso/lib/python3.8/site-packages/sklearn/metrics/_classification.py:1318: UndefinedMetricWarning: Jaccard is ill-defined and being set to 0.0 in labels with no true or predicted samples. Use `zero_division` parameter to control this behavior.\n",
      "  _warn_prf(average, modifier, msg_start, len(result))\n"
     ]
    },
    {
     "name": "stdout",
     "output_type": "stream",
     "text": [
      "Epoch: 12 [batch 50/77 (64.94%)] \n",
      "\tJacc: 0.526 Hamm: 0.037 DistLoss: 2.587\n"
     ]
    },
    {
     "name": "stderr",
     "output_type": "stream",
     "text": [
      "/Users/kushagraagrawal/anaconda3/envs/opso/lib/python3.8/site-packages/sklearn/metrics/_classification.py:1318: UndefinedMetricWarning: Jaccard is ill-defined and being set to 0.0 in labels with no true or predicted samples. Use `zero_division` parameter to control this behavior.\n",
      "  _warn_prf(average, modifier, msg_start, len(result))\n"
     ]
    },
    {
     "name": "stdout",
     "output_type": "stream",
     "text": [
      "Epoch: 12 [batch 60/77 (77.92%)] \n",
      "\tJacc: 0.756 Hamm: 0.019 DistLoss: 2.524\n"
     ]
    },
    {
     "name": "stderr",
     "output_type": "stream",
     "text": [
      "/Users/kushagraagrawal/anaconda3/envs/opso/lib/python3.8/site-packages/sklearn/metrics/_classification.py:1318: UndefinedMetricWarning: Jaccard is ill-defined and being set to 0.0 in labels with no true or predicted samples. Use `zero_division` parameter to control this behavior.\n",
      "  _warn_prf(average, modifier, msg_start, len(result))\n"
     ]
    },
    {
     "name": "stdout",
     "output_type": "stream",
     "text": [
      "Epoch: 12 [batch 70/77 (90.91%)] \n",
      "\tJacc: 0.690 Hamm: 0.037 DistLoss: 2.418\n"
     ]
    },
    {
     "name": "stderr",
     "output_type": "stream",
     "text": [
      "/Users/kushagraagrawal/anaconda3/envs/opso/lib/python3.8/site-packages/sklearn/metrics/_classification.py:1318: UndefinedMetricWarning: Jaccard is ill-defined and being set to 0.0 in labels with no true or predicted samples. Use `zero_division` parameter to control this behavior.\n",
      "  _warn_prf(average, modifier, msg_start, len(result))\n"
     ]
    },
    {
     "name": "stdout",
     "output_type": "stream",
     "text": [
      "\n",
      "Validation.\n",
      "(143, 5)\n",
      "\t Precision: 0.9609442409442408\n",
      "\t Recall: 0.9591283292978208\n",
      "\t F1: 0.9583158107051913\n",
      "Updating best model\n",
      "Epoch: 13 [batch 0/77 (0.00%)] \n",
      "\tJacc: 0.757 Hamm: 0.019 DistLoss: 1.207\n"
     ]
    },
    {
     "name": "stderr",
     "output_type": "stream",
     "text": [
      "/Users/kushagraagrawal/anaconda3/envs/opso/lib/python3.8/site-packages/sklearn/metrics/_classification.py:1318: UndefinedMetricWarning: Jaccard is ill-defined and being set to 0.0 in labels with no true or predicted samples. Use `zero_division` parameter to control this behavior.\n",
      "  _warn_prf(average, modifier, msg_start, len(result))\n"
     ]
    },
    {
     "name": "stdout",
     "output_type": "stream",
     "text": [
      "Epoch: 13 [batch 10/77 (12.99%)] \n",
      "\tJacc: 0.680 Hamm: 0.031 DistLoss: 2.956\n"
     ]
    },
    {
     "name": "stderr",
     "output_type": "stream",
     "text": [
      "/Users/kushagraagrawal/anaconda3/envs/opso/lib/python3.8/site-packages/sklearn/metrics/_classification.py:1318: UndefinedMetricWarning: Jaccard is ill-defined and being set to 0.0 in labels with no true or predicted samples. Use `zero_division` parameter to control this behavior.\n",
      "  _warn_prf(average, modifier, msg_start, len(result))\n"
     ]
    },
    {
     "name": "stdout",
     "output_type": "stream",
     "text": [
      "Epoch: 13 [batch 20/77 (25.97%)] \n",
      "\tJacc: 0.773 Hamm: 0.013 DistLoss: 2.809\n"
     ]
    },
    {
     "name": "stderr",
     "output_type": "stream",
     "text": [
      "/Users/kushagraagrawal/anaconda3/envs/opso/lib/python3.8/site-packages/sklearn/metrics/_classification.py:1318: UndefinedMetricWarning: Jaccard is ill-defined and being set to 0.0 in labels with no true or predicted samples. Use `zero_division` parameter to control this behavior.\n",
      "  _warn_prf(average, modifier, msg_start, len(result))\n"
     ]
    },
    {
     "name": "stdout",
     "output_type": "stream",
     "text": [
      "Epoch: 13 [batch 30/77 (38.96%)] \n",
      "\tJacc: 0.779 Hamm: 0.013 DistLoss: 2.603\n"
     ]
    },
    {
     "name": "stderr",
     "output_type": "stream",
     "text": [
      "/Users/kushagraagrawal/anaconda3/envs/opso/lib/python3.8/site-packages/sklearn/metrics/_classification.py:1318: UndefinedMetricWarning: Jaccard is ill-defined and being set to 0.0 in labels with no true or predicted samples. Use `zero_division` parameter to control this behavior.\n",
      "  _warn_prf(average, modifier, msg_start, len(result))\n"
     ]
    },
    {
     "name": "stdout",
     "output_type": "stream",
     "text": [
      "Epoch: 13 [batch 40/77 (51.95%)] \n",
      "\tJacc: 0.858 Hamm: 0.025 DistLoss: 2.847\n",
      "Epoch: 13 [batch 50/77 (64.94%)] \n",
      "\tJacc: 0.853 Hamm: 0.044 DistLoss: 3.026\n",
      "Epoch: 13 [batch 60/77 (77.92%)] \n",
      "\tJacc: 0.869 Hamm: 0.019 DistLoss: 2.985\n",
      "Epoch: 13 [batch 70/77 (90.91%)] \n",
      "\tJacc: 0.707 Hamm: 0.044 DistLoss: 2.890\n"
     ]
    },
    {
     "name": "stderr",
     "output_type": "stream",
     "text": [
      "/Users/kushagraagrawal/anaconda3/envs/opso/lib/python3.8/site-packages/sklearn/metrics/_classification.py:1318: UndefinedMetricWarning: Jaccard is ill-defined and being set to 0.0 in labels with no true or predicted samples. Use `zero_division` parameter to control this behavior.\n",
      "  _warn_prf(average, modifier, msg_start, len(result))\n"
     ]
    },
    {
     "name": "stdout",
     "output_type": "stream",
     "text": [
      "\n",
      "Validation.\n",
      "(143, 5)\n",
      "\t Precision: 0.9217141429285357\n",
      "\t Recall: 0.9325746569814367\n",
      "\t F1: 0.9220347997326414\n",
      "Epoch: 14 [batch 0/77 (0.00%)] \n",
      "\tJacc: 0.741 Hamm: 0.025 DistLoss: 1.740\n"
     ]
    },
    {
     "name": "stderr",
     "output_type": "stream",
     "text": [
      "/Users/kushagraagrawal/anaconda3/envs/opso/lib/python3.8/site-packages/sklearn/metrics/_classification.py:1318: UndefinedMetricWarning: Jaccard is ill-defined and being set to 0.0 in labels with no true or predicted samples. Use `zero_division` parameter to control this behavior.\n",
      "  _warn_prf(average, modifier, msg_start, len(result))\n"
     ]
    },
    {
     "name": "stdout",
     "output_type": "stream",
     "text": [
      "Epoch: 14 [batch 10/77 (12.99%)] \n",
      "\tJacc: 0.772 Hamm: 0.013 DistLoss: 1.779\n"
     ]
    },
    {
     "name": "stderr",
     "output_type": "stream",
     "text": [
      "/Users/kushagraagrawal/anaconda3/envs/opso/lib/python3.8/site-packages/sklearn/metrics/_classification.py:1318: UndefinedMetricWarning: Jaccard is ill-defined and being set to 0.0 in labels with no true or predicted samples. Use `zero_division` parameter to control this behavior.\n",
      "  _warn_prf(average, modifier, msg_start, len(result))\n"
     ]
    },
    {
     "name": "stdout",
     "output_type": "stream",
     "text": [
      "Epoch: 14 [batch 20/77 (25.97%)] \n",
      "\tJacc: 0.743 Hamm: 0.031 DistLoss: 1.888\n",
      "Epoch: 14 [batch 30/77 (38.96%)] \n",
      "\tJacc: 0.586 Hamm: 0.006 DistLoss: 1.926\n"
     ]
    },
    {
     "name": "stderr",
     "output_type": "stream",
     "text": [
      "/Users/kushagraagrawal/anaconda3/envs/opso/lib/python3.8/site-packages/sklearn/metrics/_classification.py:1318: UndefinedMetricWarning: Jaccard is ill-defined and being set to 0.0 in labels with no true or predicted samples. Use `zero_division` parameter to control this behavior.\n",
      "  _warn_prf(average, modifier, msg_start, len(result))\n"
     ]
    },
    {
     "name": "stdout",
     "output_type": "stream",
     "text": [
      "Epoch: 14 [batch 40/77 (51.95%)] \n",
      "\tJacc: 0.810 Hamm: 0.069 DistLoss: 2.061\n",
      "Epoch: 14 [batch 50/77 (64.94%)] \n",
      "\tJacc: 0.507 Hamm: 0.019 DistLoss: 2.091\n"
     ]
    },
    {
     "name": "stderr",
     "output_type": "stream",
     "text": [
      "/Users/kushagraagrawal/anaconda3/envs/opso/lib/python3.8/site-packages/sklearn/metrics/_classification.py:1318: UndefinedMetricWarning: Jaccard is ill-defined and being set to 0.0 in labels with no true or predicted samples. Use `zero_division` parameter to control this behavior.\n",
      "  _warn_prf(average, modifier, msg_start, len(result))\n"
     ]
    },
    {
     "name": "stdout",
     "output_type": "stream",
     "text": [
      "Epoch: 14 [batch 60/77 (77.92%)] \n",
      "\tJacc: 0.956 Hamm: 0.019 DistLoss: 2.114\n",
      "Epoch: 14 [batch 70/77 (90.91%)] \n",
      "\tJacc: 0.734 Hamm: 0.031 DistLoss: 2.043\n"
     ]
    },
    {
     "name": "stderr",
     "output_type": "stream",
     "text": [
      "/Users/kushagraagrawal/anaconda3/envs/opso/lib/python3.8/site-packages/sklearn/metrics/_classification.py:1318: UndefinedMetricWarning: Jaccard is ill-defined and being set to 0.0 in labels with no true or predicted samples. Use `zero_division` parameter to control this behavior.\n",
      "  _warn_prf(average, modifier, msg_start, len(result))\n"
     ]
    },
    {
     "name": "stdout",
     "output_type": "stream",
     "text": [
      "\n",
      "Validation.\n",
      "(143, 5)\n",
      "\t Precision: 0.9709939148073022\n",
      "\t Recall: 0.929184826472962\n",
      "\t F1: 0.9485220093915745\n",
      "Epoch: 15 [batch 0/77 (0.00%)] \n",
      "\tJacc: 0.778 Hamm: 0.013 DistLoss: 1.599\n"
     ]
    },
    {
     "name": "stderr",
     "output_type": "stream",
     "text": [
      "/Users/kushagraagrawal/anaconda3/envs/opso/lib/python3.8/site-packages/sklearn/metrics/_classification.py:1318: UndefinedMetricWarning: Jaccard is ill-defined and being set to 0.0 in labels with no true or predicted samples. Use `zero_division` parameter to control this behavior.\n",
      "  _warn_prf(average, modifier, msg_start, len(result))\n"
     ]
    },
    {
     "name": "stdout",
     "output_type": "stream",
     "text": [
      "Epoch: 15 [batch 10/77 (12.99%)] \n",
      "\tJacc: 0.769 Hamm: 0.013 DistLoss: 2.130\n"
     ]
    },
    {
     "name": "stderr",
     "output_type": "stream",
     "text": [
      "/Users/kushagraagrawal/anaconda3/envs/opso/lib/python3.8/site-packages/sklearn/metrics/_classification.py:1318: UndefinedMetricWarning: Jaccard is ill-defined and being set to 0.0 in labels with no true or predicted samples. Use `zero_division` parameter to control this behavior.\n",
      "  _warn_prf(average, modifier, msg_start, len(result))\n"
     ]
    },
    {
     "name": "stdout",
     "output_type": "stream",
     "text": [
      "Epoch: 15 [batch 20/77 (25.97%)] \n",
      "\tJacc: 0.789 Hamm: 0.006 DistLoss: 2.582\n"
     ]
    },
    {
     "name": "stderr",
     "output_type": "stream",
     "text": [
      "/Users/kushagraagrawal/anaconda3/envs/opso/lib/python3.8/site-packages/sklearn/metrics/_classification.py:1318: UndefinedMetricWarning: Jaccard is ill-defined and being set to 0.0 in labels with no true or predicted samples. Use `zero_division` parameter to control this behavior.\n",
      "  _warn_prf(average, modifier, msg_start, len(result))\n"
     ]
    },
    {
     "name": "stdout",
     "output_type": "stream",
     "text": [
      "Epoch: 15 [batch 30/77 (38.96%)] \n",
      "\tJacc: 0.970 Hamm: 0.013 DistLoss: 2.373\n",
      "Epoch: 15 [batch 40/77 (51.95%)] \n",
      "\tJacc: 0.757 Hamm: 0.019 DistLoss: 2.153\n"
     ]
    },
    {
     "name": "stderr",
     "output_type": "stream",
     "text": [
      "/Users/kushagraagrawal/anaconda3/envs/opso/lib/python3.8/site-packages/sklearn/metrics/_classification.py:1318: UndefinedMetricWarning: Jaccard is ill-defined and being set to 0.0 in labels with no true or predicted samples. Use `zero_division` parameter to control this behavior.\n",
      "  _warn_prf(average, modifier, msg_start, len(result))\n"
     ]
    },
    {
     "name": "stdout",
     "output_type": "stream",
     "text": [
      "Epoch: 15 [batch 50/77 (64.94%)] \n",
      "\tJacc: 0.616 Hamm: 0.037 DistLoss: 2.031\n"
     ]
    },
    {
     "name": "stderr",
     "output_type": "stream",
     "text": [
      "/Users/kushagraagrawal/anaconda3/envs/opso/lib/python3.8/site-packages/sklearn/metrics/_classification.py:1318: UndefinedMetricWarning: Jaccard is ill-defined and being set to 0.0 in labels with no true or predicted samples. Use `zero_division` parameter to control this behavior.\n",
      "  _warn_prf(average, modifier, msg_start, len(result))\n"
     ]
    },
    {
     "name": "stdout",
     "output_type": "stream",
     "text": [
      "Epoch: 15 [batch 60/77 (77.92%)] \n",
      "\tJacc: 0.980 Hamm: 0.006 DistLoss: 2.024\n",
      "Epoch: 15 [batch 70/77 (90.91%)] \n",
      "\tJacc: 0.800 Hamm: 0.000 DistLoss: 1.962\n"
     ]
    },
    {
     "name": "stderr",
     "output_type": "stream",
     "text": [
      "/Users/kushagraagrawal/anaconda3/envs/opso/lib/python3.8/site-packages/sklearn/metrics/_classification.py:1318: UndefinedMetricWarning: Jaccard is ill-defined and being set to 0.0 in labels with no true or predicted samples. Use `zero_division` parameter to control this behavior.\n",
      "  _warn_prf(average, modifier, msg_start, len(result))\n"
     ]
    },
    {
     "name": "stdout",
     "output_type": "stream",
     "text": [
      "\n",
      "Validation.\n",
      "(143, 5)\n",
      "\t Precision: 0.9721518987341773\n",
      "\t Recall: 0.9434382566585956\n",
      "\t F1: 0.9534241219782368\n",
      "Epoch: 16 [batch 0/77 (0.00%)] \n",
      "\tJacc: 0.757 Hamm: 0.019 DistLoss: 1.990\n"
     ]
    },
    {
     "name": "stderr",
     "output_type": "stream",
     "text": [
      "/Users/kushagraagrawal/anaconda3/envs/opso/lib/python3.8/site-packages/sklearn/metrics/_classification.py:1318: UndefinedMetricWarning: Jaccard is ill-defined and being set to 0.0 in labels with no true or predicted samples. Use `zero_division` parameter to control this behavior.\n",
      "  _warn_prf(average, modifier, msg_start, len(result))\n"
     ]
    },
    {
     "name": "stdout",
     "output_type": "stream",
     "text": [
      "Epoch: 16 [batch 10/77 (12.99%)] \n",
      "\tJacc: 0.718 Hamm: 0.019 DistLoss: 3.215\n"
     ]
    },
    {
     "name": "stderr",
     "output_type": "stream",
     "text": [
      "/Users/kushagraagrawal/anaconda3/envs/opso/lib/python3.8/site-packages/sklearn/metrics/_classification.py:1318: UndefinedMetricWarning: Jaccard is ill-defined and being set to 0.0 in labels with no true or predicted samples. Use `zero_division` parameter to control this behavior.\n",
      "  _warn_prf(average, modifier, msg_start, len(result))\n"
     ]
    },
    {
     "name": "stdout",
     "output_type": "stream",
     "text": [
      "Epoch: 16 [batch 20/77 (25.97%)] \n",
      "\tJacc: 0.696 Hamm: 0.050 DistLoss: 2.988\n"
     ]
    },
    {
     "name": "stderr",
     "output_type": "stream",
     "text": [
      "/Users/kushagraagrawal/anaconda3/envs/opso/lib/python3.8/site-packages/sklearn/metrics/_classification.py:1318: UndefinedMetricWarning: Jaccard is ill-defined and being set to 0.0 in labels with no true or predicted samples. Use `zero_division` parameter to control this behavior.\n",
      "  _warn_prf(average, modifier, msg_start, len(result))\n"
     ]
    },
    {
     "name": "stdout",
     "output_type": "stream",
     "text": [
      "Epoch: 16 [batch 30/77 (38.96%)] \n",
      "\tJacc: 0.548 Hamm: 0.025 DistLoss: 2.869\n"
     ]
    },
    {
     "name": "stderr",
     "output_type": "stream",
     "text": [
      "/Users/kushagraagrawal/anaconda3/envs/opso/lib/python3.8/site-packages/sklearn/metrics/_classification.py:1318: UndefinedMetricWarning: Jaccard is ill-defined and being set to 0.0 in labels with no true or predicted samples. Use `zero_division` parameter to control this behavior.\n",
      "  _warn_prf(average, modifier, msg_start, len(result))\n"
     ]
    },
    {
     "name": "stdout",
     "output_type": "stream",
     "text": [
      "Epoch: 16 [batch 40/77 (51.95%)] \n",
      "\tJacc: 0.434 Hamm: 0.037 DistLoss: 2.690\n"
     ]
    },
    {
     "name": "stderr",
     "output_type": "stream",
     "text": [
      "/Users/kushagraagrawal/anaconda3/envs/opso/lib/python3.8/site-packages/sklearn/metrics/_classification.py:1318: UndefinedMetricWarning: Jaccard is ill-defined and being set to 0.0 in labels with no true or predicted samples. Use `zero_division` parameter to control this behavior.\n",
      "  _warn_prf(average, modifier, msg_start, len(result))\n"
     ]
    },
    {
     "name": "stdout",
     "output_type": "stream",
     "text": [
      "Epoch: 16 [batch 50/77 (64.94%)] \n",
      "\tJacc: 0.929 Hamm: 0.031 DistLoss: 2.612\n",
      "Epoch: 16 [batch 60/77 (77.92%)] \n",
      "\tJacc: 0.744 Hamm: 0.025 DistLoss: 2.750\n"
     ]
    },
    {
     "name": "stderr",
     "output_type": "stream",
     "text": [
      "/Users/kushagraagrawal/anaconda3/envs/opso/lib/python3.8/site-packages/sklearn/metrics/_classification.py:1318: UndefinedMetricWarning: Jaccard is ill-defined and being set to 0.0 in labels with no true or predicted samples. Use `zero_division` parameter to control this behavior.\n",
      "  _warn_prf(average, modifier, msg_start, len(result))\n"
     ]
    },
    {
     "name": "stdout",
     "output_type": "stream",
     "text": [
      "Epoch: 16 [batch 70/77 (90.91%)] \n",
      "\tJacc: 0.561 Hamm: 0.019 DistLoss: 2.642\n"
     ]
    },
    {
     "name": "stderr",
     "output_type": "stream",
     "text": [
      "/Users/kushagraagrawal/anaconda3/envs/opso/lib/python3.8/site-packages/sklearn/metrics/_classification.py:1318: UndefinedMetricWarning: Jaccard is ill-defined and being set to 0.0 in labels with no true or predicted samples. Use `zero_division` parameter to control this behavior.\n",
      "  _warn_prf(average, modifier, msg_start, len(result))\n"
     ]
    },
    {
     "name": "stdout",
     "output_type": "stream",
     "text": [
      "\n",
      "Validation.\n",
      "(143, 5)\n",
      "\t Precision: 0.9618731999842189\n",
      "\t Recall: 0.9666343825665858\n",
      "\t F1: 0.9621782472846302\n",
      "Updating best model\n",
      "Epoch: 17 [batch 0/77 (0.00%)] \n",
      "\tJacc: 0.733 Hamm: 0.031 DistLoss: 2.043\n"
     ]
    },
    {
     "name": "stderr",
     "output_type": "stream",
     "text": [
      "/Users/kushagraagrawal/anaconda3/envs/opso/lib/python3.8/site-packages/sklearn/metrics/_classification.py:1318: UndefinedMetricWarning: Jaccard is ill-defined and being set to 0.0 in labels with no true or predicted samples. Use `zero_division` parameter to control this behavior.\n",
      "  _warn_prf(average, modifier, msg_start, len(result))\n"
     ]
    },
    {
     "name": "stdout",
     "output_type": "stream",
     "text": [
      "Epoch: 17 [batch 10/77 (12.99%)] \n",
      "\tJacc: 0.746 Hamm: 0.025 DistLoss: 2.614\n"
     ]
    },
    {
     "name": "stderr",
     "output_type": "stream",
     "text": [
      "/Users/kushagraagrawal/anaconda3/envs/opso/lib/python3.8/site-packages/sklearn/metrics/_classification.py:1318: UndefinedMetricWarning: Jaccard is ill-defined and being set to 0.0 in labels with no true or predicted samples. Use `zero_division` parameter to control this behavior.\n",
      "  _warn_prf(average, modifier, msg_start, len(result))\n"
     ]
    },
    {
     "name": "stdout",
     "output_type": "stream",
     "text": [
      "Epoch: 17 [batch 20/77 (25.97%)] \n",
      "\tJacc: 0.527 Hamm: 0.037 DistLoss: 2.485\n"
     ]
    },
    {
     "name": "stderr",
     "output_type": "stream",
     "text": [
      "/Users/kushagraagrawal/anaconda3/envs/opso/lib/python3.8/site-packages/sklearn/metrics/_classification.py:1318: UndefinedMetricWarning: Jaccard is ill-defined and being set to 0.0 in labels with no true or predicted samples. Use `zero_division` parameter to control this behavior.\n",
      "  _warn_prf(average, modifier, msg_start, len(result))\n"
     ]
    },
    {
     "name": "stdout",
     "output_type": "stream",
     "text": [
      "Epoch: 17 [batch 30/77 (38.96%)] \n",
      "\tJacc: 0.743 Hamm: 0.025 DistLoss: 2.568\n"
     ]
    },
    {
     "name": "stderr",
     "output_type": "stream",
     "text": [
      "/Users/kushagraagrawal/anaconda3/envs/opso/lib/python3.8/site-packages/sklearn/metrics/_classification.py:1318: UndefinedMetricWarning: Jaccard is ill-defined and being set to 0.0 in labels with no true or predicted samples. Use `zero_division` parameter to control this behavior.\n",
      "  _warn_prf(average, modifier, msg_start, len(result))\n"
     ]
    },
    {
     "name": "stdout",
     "output_type": "stream",
     "text": [
      "Epoch: 17 [batch 40/77 (51.95%)] \n",
      "\tJacc: 0.654 Hamm: 0.019 DistLoss: 2.751\n"
     ]
    },
    {
     "name": "stderr",
     "output_type": "stream",
     "text": [
      "/Users/kushagraagrawal/anaconda3/envs/opso/lib/python3.8/site-packages/sklearn/metrics/_classification.py:1318: UndefinedMetricWarning: Jaccard is ill-defined and being set to 0.0 in labels with no true or predicted samples. Use `zero_division` parameter to control this behavior.\n",
      "  _warn_prf(average, modifier, msg_start, len(result))\n"
     ]
    },
    {
     "name": "stdout",
     "output_type": "stream",
     "text": [
      "Epoch: 17 [batch 50/77 (64.94%)] \n",
      "\tJacc: 0.746 Hamm: 0.025 DistLoss: 2.608\n"
     ]
    },
    {
     "name": "stderr",
     "output_type": "stream",
     "text": [
      "/Users/kushagraagrawal/anaconda3/envs/opso/lib/python3.8/site-packages/sklearn/metrics/_classification.py:1318: UndefinedMetricWarning: Jaccard is ill-defined and being set to 0.0 in labels with no true or predicted samples. Use `zero_division` parameter to control this behavior.\n",
      "  _warn_prf(average, modifier, msg_start, len(result))\n"
     ]
    },
    {
     "name": "stdout",
     "output_type": "stream",
     "text": [
      "Epoch: 17 [batch 60/77 (77.92%)] \n",
      "\tJacc: 0.788 Hamm: 0.013 DistLoss: 2.492\n",
      "Epoch: 17 [batch 70/77 (90.91%)] \n",
      "\tJacc: 0.587 Hamm: 0.013 DistLoss: 2.487\n"
     ]
    },
    {
     "name": "stderr",
     "output_type": "stream",
     "text": [
      "/Users/kushagraagrawal/anaconda3/envs/opso/lib/python3.8/site-packages/sklearn/metrics/_classification.py:1318: UndefinedMetricWarning: Jaccard is ill-defined and being set to 0.0 in labels with no true or predicted samples. Use `zero_division` parameter to control this behavior.\n",
      "  _warn_prf(average, modifier, msg_start, len(result))\n"
     ]
    },
    {
     "name": "stdout",
     "output_type": "stream",
     "text": [
      "\n",
      "Validation.\n",
      "(143, 5)\n",
      "\t Precision: 0.9935061534433096\n",
      "\t Recall: 0.9784019370460049\n",
      "\t F1: 0.9858041782028695\n",
      "Updating best model\n",
      "Epoch: 18 [batch 0/77 (0.00%)] \n",
      "\tJacc: 0.810 Hamm: 0.050 DistLoss: 3.345\n",
      "Epoch: 18 [batch 10/77 (12.99%)] \n",
      "\tJacc: 0.698 Hamm: 0.031 DistLoss: 1.404\n"
     ]
    },
    {
     "name": "stderr",
     "output_type": "stream",
     "text": [
      "/Users/kushagraagrawal/anaconda3/envs/opso/lib/python3.8/site-packages/sklearn/metrics/_classification.py:1318: UndefinedMetricWarning: Jaccard is ill-defined and being set to 0.0 in labels with no true or predicted samples. Use `zero_division` parameter to control this behavior.\n",
      "  _warn_prf(average, modifier, msg_start, len(result))\n"
     ]
    },
    {
     "name": "stdout",
     "output_type": "stream",
     "text": [
      "Epoch: 18 [batch 20/77 (25.97%)] \n",
      "\tJacc: 0.700 Hamm: 0.006 DistLoss: 1.477\n"
     ]
    },
    {
     "name": "stderr",
     "output_type": "stream",
     "text": [
      "/Users/kushagraagrawal/anaconda3/envs/opso/lib/python3.8/site-packages/sklearn/metrics/_classification.py:1318: UndefinedMetricWarning: Jaccard is ill-defined and being set to 0.0 in labels with no true or predicted samples. Use `zero_division` parameter to control this behavior.\n",
      "  _warn_prf(average, modifier, msg_start, len(result))\n"
     ]
    },
    {
     "name": "stdout",
     "output_type": "stream",
     "text": [
      "Epoch: 18 [batch 30/77 (38.96%)] \n",
      "\tJacc: 0.585 Hamm: 0.013 DistLoss: 1.481\n"
     ]
    },
    {
     "name": "stderr",
     "output_type": "stream",
     "text": [
      "/Users/kushagraagrawal/anaconda3/envs/opso/lib/python3.8/site-packages/sklearn/metrics/_classification.py:1318: UndefinedMetricWarning: Jaccard is ill-defined and being set to 0.0 in labels with no true or predicted samples. Use `zero_division` parameter to control this behavior.\n",
      "  _warn_prf(average, modifier, msg_start, len(result))\n"
     ]
    },
    {
     "name": "stdout",
     "output_type": "stream",
     "text": [
      "Epoch: 18 [batch 40/77 (51.95%)] \n",
      "\tJacc: 0.700 Hamm: 0.006 DistLoss: 1.756\n"
     ]
    },
    {
     "name": "stderr",
     "output_type": "stream",
     "text": [
      "/Users/kushagraagrawal/anaconda3/envs/opso/lib/python3.8/site-packages/sklearn/metrics/_classification.py:1318: UndefinedMetricWarning: Jaccard is ill-defined and being set to 0.0 in labels with no true or predicted samples. Use `zero_division` parameter to control this behavior.\n",
      "  _warn_prf(average, modifier, msg_start, len(result))\n"
     ]
    },
    {
     "name": "stdout",
     "output_type": "stream",
     "text": [
      "Epoch: 18 [batch 50/77 (64.94%)] \n",
      "\tJacc: 0.780 Hamm: 0.006 DistLoss: 1.845\n"
     ]
    },
    {
     "name": "stderr",
     "output_type": "stream",
     "text": [
      "/Users/kushagraagrawal/anaconda3/envs/opso/lib/python3.8/site-packages/sklearn/metrics/_classification.py:1318: UndefinedMetricWarning: Jaccard is ill-defined and being set to 0.0 in labels with no true or predicted samples. Use `zero_division` parameter to control this behavior.\n",
      "  _warn_prf(average, modifier, msg_start, len(result))\n"
     ]
    },
    {
     "name": "stdout",
     "output_type": "stream",
     "text": [
      "Epoch: 18 [batch 60/77 (77.92%)] \n",
      "\tJacc: 0.773 Hamm: 0.013 DistLoss: 1.793\n"
     ]
    },
    {
     "name": "stderr",
     "output_type": "stream",
     "text": [
      "/Users/kushagraagrawal/anaconda3/envs/opso/lib/python3.8/site-packages/sklearn/metrics/_classification.py:1318: UndefinedMetricWarning: Jaccard is ill-defined and being set to 0.0 in labels with no true or predicted samples. Use `zero_division` parameter to control this behavior.\n",
      "  _warn_prf(average, modifier, msg_start, len(result))\n"
     ]
    },
    {
     "name": "stdout",
     "output_type": "stream",
     "text": [
      "Epoch: 18 [batch 70/77 (90.91%)] \n",
      "\tJacc: 0.879 Hamm: 0.056 DistLoss: 1.837\n",
      "\n",
      "Validation.\n",
      "(143, 5)\n",
      "\t Precision: 0.9719041614123581\n",
      "\t Recall: 0.9651815980629539\n",
      "\t F1: 0.9672494459492735\n",
      "Epoch: 19 [batch 0/77 (0.00%)] \n",
      "\tJacc: 1.000 Hamm: 0.000 DistLoss: 0.321\n",
      "Epoch: 19 [batch 10/77 (12.99%)] \n",
      "\tJacc: 0.746 Hamm: 0.025 DistLoss: 1.925\n"
     ]
    },
    {
     "name": "stderr",
     "output_type": "stream",
     "text": [
      "/Users/kushagraagrawal/anaconda3/envs/opso/lib/python3.8/site-packages/sklearn/metrics/_classification.py:1318: UndefinedMetricWarning: Jaccard is ill-defined and being set to 0.0 in labels with no true or predicted samples. Use `zero_division` parameter to control this behavior.\n",
      "  _warn_prf(average, modifier, msg_start, len(result))\n"
     ]
    },
    {
     "name": "stdout",
     "output_type": "stream",
     "text": [
      "Epoch: 19 [batch 20/77 (25.97%)] \n",
      "\tJacc: 0.800 Hamm: 0.000 DistLoss: 1.998\n"
     ]
    },
    {
     "name": "stderr",
     "output_type": "stream",
     "text": [
      "/Users/kushagraagrawal/anaconda3/envs/opso/lib/python3.8/site-packages/sklearn/metrics/_classification.py:1318: UndefinedMetricWarning: Jaccard is ill-defined and being set to 0.0 in labels with no true or predicted samples. Use `zero_division` parameter to control this behavior.\n",
      "  _warn_prf(average, modifier, msg_start, len(result))\n"
     ]
    },
    {
     "name": "stdout",
     "output_type": "stream",
     "text": [
      "Epoch: 19 [batch 30/77 (38.96%)] \n",
      "\tJacc: 0.768 Hamm: 0.013 DistLoss: 1.889\n"
     ]
    },
    {
     "name": "stderr",
     "output_type": "stream",
     "text": [
      "/Users/kushagraagrawal/anaconda3/envs/opso/lib/python3.8/site-packages/sklearn/metrics/_classification.py:1318: UndefinedMetricWarning: Jaccard is ill-defined and being set to 0.0 in labels with no true or predicted samples. Use `zero_division` parameter to control this behavior.\n",
      "  _warn_prf(average, modifier, msg_start, len(result))\n"
     ]
    },
    {
     "name": "stdout",
     "output_type": "stream",
     "text": [
      "Epoch: 19 [batch 40/77 (51.95%)] \n",
      "\tJacc: 0.969 Hamm: 0.013 DistLoss: 1.823\n",
      "Epoch: 19 [batch 50/77 (64.94%)] \n",
      "\tJacc: 0.743 Hamm: 0.025 DistLoss: 1.861\n"
     ]
    },
    {
     "name": "stderr",
     "output_type": "stream",
     "text": [
      "/Users/kushagraagrawal/anaconda3/envs/opso/lib/python3.8/site-packages/sklearn/metrics/_classification.py:1318: UndefinedMetricWarning: Jaccard is ill-defined and being set to 0.0 in labels with no true or predicted samples. Use `zero_division` parameter to control this behavior.\n",
      "  _warn_prf(average, modifier, msg_start, len(result))\n"
     ]
    },
    {
     "name": "stdout",
     "output_type": "stream",
     "text": [
      "Epoch: 19 [batch 60/77 (77.92%)] \n",
      "\tJacc: 0.548 Hamm: 0.031 DistLoss: 1.755\n"
     ]
    },
    {
     "name": "stderr",
     "output_type": "stream",
     "text": [
      "/Users/kushagraagrawal/anaconda3/envs/opso/lib/python3.8/site-packages/sklearn/metrics/_classification.py:1318: UndefinedMetricWarning: Jaccard is ill-defined and being set to 0.0 in labels with no true or predicted samples. Use `zero_division` parameter to control this behavior.\n",
      "  _warn_prf(average, modifier, msg_start, len(result))\n"
     ]
    },
    {
     "name": "stdout",
     "output_type": "stream",
     "text": [
      "Epoch: 19 [batch 70/77 (90.91%)] \n",
      "\tJacc: 0.586 Hamm: 0.006 DistLoss: 1.786\n"
     ]
    },
    {
     "name": "stderr",
     "output_type": "stream",
     "text": [
      "/Users/kushagraagrawal/anaconda3/envs/opso/lib/python3.8/site-packages/sklearn/metrics/_classification.py:1318: UndefinedMetricWarning: Jaccard is ill-defined and being set to 0.0 in labels with no true or predicted samples. Use `zero_division` parameter to control this behavior.\n",
      "  _warn_prf(average, modifier, msg_start, len(result))\n"
     ]
    },
    {
     "name": "stdout",
     "output_type": "stream",
     "text": [
      "\n",
      "Validation.\n",
      "(143, 5)\n",
      "\t Precision: 0.8539136302294196\n",
      "\t Recall: 0.951089588377724\n",
      "\t F1: 0.8919649698960044\n",
      "Saving weights, metrics, and train/valid scores.\n",
      "\n",
      "Best Model Appears at Epoch 17 with F1 0.986.\n"
     ]
    }
   ],
   "source": [
    "model.train(\n",
    "    train_dataset=train_dataset,\n",
    "    valid_dataset=valid_dataset,\n",
    "    save_path='./multilabel_train_five_classes_aug_on/',\n",
    "    epochs=20,\n",
    "    batch_size=32,\n",
    "    save_interval=100,\n",
    "    num_workers=2\n",
    ")"
   ]
  },
  {
   "cell_type": "code",
   "execution_count": 52,
   "id": "bdc8c34f",
   "metadata": {},
   "outputs": [
    {
     "data": {
      "image/png": "[encoded data removed]",
      "text/plain": [
       "<Figure size 432x288 with 1 Axes>"
      ]
     },
     "metadata": {
      "needs_background": "light"
     },
     "output_type": "display_data"
    }
   ],
   "source": [
    "import matplotlib.pyplot as plt\n",
    "plt.scatter(model.loss_hist.keys(),model.loss_hist.values())\n",
    "plt.xlabel('epoch')\n",
    "plt.ylabel('loss')\n",
    "plt.show()"
   ]
  },
  {
   "cell_type": "code",
   "execution_count": 53,
   "id": "82fabe8c",
   "metadata": {},
   "outputs": [],
   "source": [
    "from opensoundscape.torch.models.cnn import load_model\n",
    "model = load_model('./multilabel_train_five_classes_aug_on/best.model')"
   ]
  },
  {
   "cell_type": "code",
   "execution_count": 54,
   "id": "f6a4ed4d",
   "metadata": {},
   "outputs": [],
   "source": [
    "prediction_dataset = model.train_dataset.sample(n=0)\n",
    "prediction_dataset.augmentation_off()\n",
    "prediction_dataset.df = test_df"
   ]
  },
  {
   "cell_type": "code",
   "execution_count": 55,
   "id": "61baea49",
   "metadata": {},
   "outputs": [
    {
     "name": "stdout",
     "output_type": "stream",
     "text": [
      "(271, 5)\n"
     ]
    }
   ],
   "source": [
    "valid_scores_df, valid_preds_df, valid_labels_df = model.predict(prediction_dataset,\n",
    "                                                                 binary_preds='single_target',\n",
    "                                                                 batch_size=16,\n",
    "                                                                 num_workers=2,\n",
    "                                                                 activation_layer='softmax')"
   ]
  },
  {
   "cell_type": "code",
   "execution_count": 56,
   "id": "7591665a",
   "metadata": {},
   "outputs": [
    {
     "name": "stdout",
     "output_type": "stream",
     "text": [
      "              precision    recall  f1-score   support\n",
      "\n",
      "           0       0.50      1.00      0.67         1\n",
      "           1       1.00      1.00      1.00        20\n",
      "           2       0.97      0.97      0.97       129\n",
      "           3       0.96      0.97      0.97       100\n",
      "           4       1.00      0.90      0.95        21\n",
      "\n",
      "   micro avg       0.97      0.97      0.97       271\n",
      "   macro avg       0.89      0.97      0.91       271\n",
      "weighted avg       0.97      0.97      0.97       271\n",
      " samples avg       0.97      0.97      0.97       271\n",
      "\n"
     ]
    }
   ],
   "source": [
    "from sklearn.metrics import classification_report, roc_auc_score, roc_curve\n",
    "print(classification_report(valid_labels_df, valid_preds_df))"
   ]
  },
  {
   "cell_type": "code",
   "execution_count": 58,
   "id": "b5501ee6",
   "metadata": {},
   "outputs": [
    {
     "data": {
      "image/png": "[encoded data removed]",
      "text/plain": [
       "<Figure size 432x288 with 1 Axes>"
      ]
     },
     "metadata": {
      "needs_background": "light"
     },
     "output_type": "display_data"
    }
   ],
   "source": [
    "fpr, tpr, thresh = roc_curve(valid_labels_df['Flycatcher'],  valid_scores_df['Flycatcher'])\n",
    "auc = roc_auc_score(valid_labels_df['Flycatcher'],  valid_preds_df['Flycatcher'])\n",
    "\n",
    "fpr2, tpr2, thresh2 = roc_curve(valid_labels_df['Piha'],  valid_scores_df['Piha'])\n",
    "auc2 = roc_auc_score(valid_labels_df['Piha'],  valid_preds_df['Piha'])\n",
    "\n",
    "fpr3, tpr3, thresh3 = roc_curve(valid_labels_df['Antbird'],  valid_scores_df['Antbird'])\n",
    "auc3 = roc_auc_score(valid_labels_df['Antbird'],  valid_preds_df['Antbird'])\n",
    "\n",
    "fpr4, tpr4, thresh4 = roc_curve(valid_labels_df['Attila'],  valid_scores_df['Attila'])\n",
    "auc4 = roc_auc_score(valid_labels_df['Attila'],  valid_preds_df['Attila'])\n",
    "\n",
    "fpr5, tpr5, thresh5 = roc_curve(valid_labels_df['Peppershrike'],  valid_scores_df['Peppershrike'])\n",
    "auc5 = roc_auc_score(valid_labels_df['Peppershrike'],  valid_preds_df['Peppershrike'])\n",
    "\n",
    "plt.plot(fpr,tpr,label=\"AUC Flycatcher\"+str(auc))\n",
    "plt.plot(fpr2,tpr2,label=\"AUC Piha\"+str(auc2))\n",
    "plt.plot(fpr3,tpr3,label=\"AUC Antbird\"+str(auc3))\n",
    "plt.plot(fpr4,tpr4,label=\"AUC Attila\"+str(auc4))\n",
    "plt.plot(fpr5,tpr5,label=\"AUC Peppershrike\"+str(auc5))\n",
    "# plt.title('Prediction on peru dataset (Train: microfaune)')\n",
    "plt.ylabel('True Positive Rate')\n",
    "plt.xlabel('False Positive Rate')\n",
    "plt.legend()\n",
    "plt.show()"
   ]
  },
  {
   "cell_type": "code",
   "execution_count": null,
   "id": "e763f645",
   "metadata": {},
   "outputs": [],
   "source": []
  }
 ],
 "metadata": {
  "kernelspec": {
   "display_name": "Python 3",
   "language": "python",
   "name": "python3"
  },
  "language_info": {
   "codemirror_mode": {
    "name": "ipython",
    "version": 3
   },
   "file_extension": ".py",
   "mimetype": "text/x-python",
   "name": "python",
   "nbconvert_exporter": "python",
   "pygments_lexer": "ipython3",
   "version": "3.7.10"
  }
 },
 "nbformat": 4,
 "nbformat_minor": 5
}
