{
 "cells": [
  {
   "cell_type": "code",
   "execution_count": 1,
   "id": "678201ba-eecf-4c22-8192-7e35a34acaa8",
   "metadata": {
    "scrolled": false
   },
   "outputs": [
    {
     "name": "stderr",
     "output_type": "stream",
     "text": [
      "\n",
      "Bad key \"text.kerning_factor\" on line 4 in\n",
      "C:\\Users\\Siloux\\.conda\\envs\\species-id\\lib\\site-packages\\matplotlib\\mpl-data\\stylelib\\_classic_test_patch.mplstyle.\n",
      "You probably need to get an updated matplotlibrc file from\n",
      "http://github.com/matplotlib/matplotlib/blob/master/matplotlibrc.template\n",
      "or from the matplotlib source distribution\n"
     ]
    }
   ],
   "source": [
    "from opensoundscape.preprocess.preprocessors import BasePreprocessor, AudioToSpectrogramPreprocessor, CnnPreprocessor\n",
    "import torch\n",
    "import pandas as pd\n",
    "from pathlib import Path\n",
    "import numpy as np\n",
    "import pandas as pd\n",
    "from opensoundscape.torch.models import cnn\n",
    "from opensoundscape.torch.architectures import cnn_architectures\n",
    "from sklearn.metrics import classification_report, roc_auc_score, roc_curve\n",
    "from sklearn.model_selection import train_test_split\n",
    "from opensoundscape.annotations import categorical_to_one_hot\n",
    "import matplotlib.pyplot as plt\n",
    "from opensoundscape.torch.models.cnn import load_model"
   ]
  },
  {
   "cell_type": "markdown",
   "id": "13c5e3ab",
   "metadata": {},
   "source": [
    "### Read the train/validation and test data"
   ]
  },
  {
   "cell_type": "code",
   "execution_count": 2,
   "id": "3d2b1263",
   "metadata": {},
   "outputs": [],
   "source": [
    "name = \"C:/Users/Siloux/Desktop/E4E/passive-acoustic-biodiversity/OpenSoundScape/MultiClass Classifier/Cosmos_Data/automated_cosmos_tweety_to_file\"\n",
    "#_TRAINING.csv\"\n",
    "train_val_df = pd.read_csv(name + '_TRAINING.csv')\n",
    "test_df = pd.read_csv(name + '_TESTING.csv')\n",
    "model_save = './model/' + name  + '_no_none_class/'"
   ]
  },
  {
   "cell_type": "code",
   "execution_count": 3,
   "id": "14d4ac6f",
   "metadata": {},
   "outputs": [
    {
     "data": {
      "text/plain": [
       "(65867, 6)"
      ]
     },
     "execution_count": 3,
     "metadata": {},
     "output_type": "execute_result"
    }
   ],
   "source": [
    "train_val_df.shape"
   ]
  },
  {
   "cell_type": "code",
   "execution_count": 4,
   "id": "71e82012",
   "metadata": {},
   "outputs": [
    {
     "data": {
      "text/html": [
       "<div>\n",
       "<style scoped>\n",
       "    .dataframe tbody tr th:only-of-type {\n",
       "        vertical-align: middle;\n",
       "    }\n",
       "\n",
       "    .dataframe tbody tr th {\n",
       "        vertical-align: top;\n",
       "    }\n",
       "\n",
       "    .dataframe thead th {\n",
       "        text-align: right;\n",
       "    }\n",
       "</style>\n",
       "<table border=\"1\" class=\"dataframe\">\n",
       "  <thead>\n",
       "    <tr style=\"text-align: right;\">\n",
       "      <th></th>\n",
       "      <th>Unnamed: 0</th>\n",
       "      <th>file</th>\n",
       "      <th>start_time</th>\n",
       "      <th>end_time</th>\n",
       "      <th>SAMPLE RATE</th>\n",
       "      <th>MANUAL ID</th>\n",
       "      <th>filename</th>\n",
       "    </tr>\n",
       "  </thead>\n",
       "  <tbody>\n",
       "    <tr>\n",
       "      <th>0</th>\n",
       "      <td>10</td>\n",
       "      <td>C:/Users/siloux/Desktop/E4E/passive-acoustic-b...</td>\n",
       "      <td>24.906977</td>\n",
       "      <td>26.000000</td>\n",
       "      <td>44100</td>\n",
       "      <td>Microcerculus marginatus</td>\n",
       "      <td>XC100027 - Southern Nightingale-Wren - Microce...</td>\n",
       "    </tr>\n",
       "    <tr>\n",
       "      <th>1</th>\n",
       "      <td>14</td>\n",
       "      <td>C:/Users/siloux/Desktop/E4E/passive-acoustic-b...</td>\n",
       "      <td>30.232558</td>\n",
       "      <td>30.930233</td>\n",
       "      <td>44100</td>\n",
       "      <td>Microcerculus marginatus</td>\n",
       "      <td>XC100027 - Southern Nightingale-Wren - Microce...</td>\n",
       "    </tr>\n",
       "    <tr>\n",
       "      <th>2</th>\n",
       "      <td>21</td>\n",
       "      <td>C:/Users/siloux/Desktop/E4E/passive-acoustic-b...</td>\n",
       "      <td>50.627907</td>\n",
       "      <td>52.000000</td>\n",
       "      <td>44100</td>\n",
       "      <td>Microcerculus marginatus</td>\n",
       "      <td>XC100027 - Southern Nightingale-Wren - Microce...</td>\n",
       "    </tr>\n",
       "    <tr>\n",
       "      <th>3</th>\n",
       "      <td>22</td>\n",
       "      <td>C:/Users/siloux/Desktop/E4E/passive-acoustic-b...</td>\n",
       "      <td>60.488372</td>\n",
       "      <td>62.000000</td>\n",
       "      <td>44100</td>\n",
       "      <td>Microcerculus marginatus</td>\n",
       "      <td>XC100027 - Southern Nightingale-Wren - Microce...</td>\n",
       "    </tr>\n",
       "    <tr>\n",
       "      <th>4</th>\n",
       "      <td>29</td>\n",
       "      <td>C:/Users/siloux/Desktop/E4E/passive-acoustic-b...</td>\n",
       "      <td>0.860465</td>\n",
       "      <td>1.325581</td>\n",
       "      <td>44100</td>\n",
       "      <td>Tolmomyias sulphurescens</td>\n",
       "      <td>XC100068 - Yellow-olive Flatbill - Tolmomyias ...</td>\n",
       "    </tr>\n",
       "  </tbody>\n",
       "</table>\n",
       "</div>"
      ],
      "text/plain": [
       "   Unnamed: 0                                               file  start_time  \\\n",
       "0          10  C:/Users/siloux/Desktop/E4E/passive-acoustic-b...   24.906977   \n",
       "1          14  C:/Users/siloux/Desktop/E4E/passive-acoustic-b...   30.232558   \n",
       "2          21  C:/Users/siloux/Desktop/E4E/passive-acoustic-b...   50.627907   \n",
       "3          22  C:/Users/siloux/Desktop/E4E/passive-acoustic-b...   60.488372   \n",
       "4          29  C:/Users/siloux/Desktop/E4E/passive-acoustic-b...    0.860465   \n",
       "\n",
       "    end_time  SAMPLE RATE                 MANUAL ID  \\\n",
       "0  26.000000        44100  Microcerculus marginatus   \n",
       "1  30.930233        44100  Microcerculus marginatus   \n",
       "2  52.000000        44100  Microcerculus marginatus   \n",
       "3  62.000000        44100  Microcerculus marginatus   \n",
       "4   1.325581        44100  Tolmomyias sulphurescens   \n",
       "\n",
       "                                            filename  \n",
       "0  XC100027 - Southern Nightingale-Wren - Microce...  \n",
       "1  XC100027 - Southern Nightingale-Wren - Microce...  \n",
       "2  XC100027 - Southern Nightingale-Wren - Microce...  \n",
       "3  XC100027 - Southern Nightingale-Wren - Microce...  \n",
       "4  XC100068 - Yellow-olive Flatbill - Tolmomyias ...  "
      ]
     },
     "execution_count": 4,
     "metadata": {},
     "output_type": "execute_result"
    }
   ],
   "source": [
    "train_val_df[\"filename\"] = train_val_df[\"file\"].apply(lambda x: x.split(\"/\")[-1])\n",
    "train_val_df.head()"
   ]
  },
  {
   "cell_type": "code",
   "execution_count": 5,
   "id": "345c4bc4",
   "metadata": {},
   "outputs": [
    {
     "data": {
      "text/html": [
       "<div>\n",
       "<style scoped>\n",
       "    .dataframe tbody tr th:only-of-type {\n",
       "        vertical-align: middle;\n",
       "    }\n",
       "\n",
       "    .dataframe tbody tr th {\n",
       "        vertical-align: top;\n",
       "    }\n",
       "\n",
       "    .dataframe thead th {\n",
       "        text-align: right;\n",
       "    }\n",
       "</style>\n",
       "<table border=\"1\" class=\"dataframe\">\n",
       "  <thead>\n",
       "    <tr style=\"text-align: right;\">\n",
       "      <th></th>\n",
       "      <th>Unnamed: 0</th>\n",
       "      <th>file</th>\n",
       "      <th>start_time</th>\n",
       "      <th>end_time</th>\n",
       "      <th>SAMPLING RATE</th>\n",
       "      <th>MANUAL ID</th>\n",
       "    </tr>\n",
       "  </thead>\n",
       "  <tbody>\n",
       "    <tr>\n",
       "      <th>0</th>\n",
       "      <td>0</td>\n",
       "      <td>C:/Users/siloux/Desktop/E4E/passive-acoustic-b...</td>\n",
       "      <td>0.0</td>\n",
       "      <td>3.000000</td>\n",
       "      <td>44100</td>\n",
       "      <td>bird</td>\n",
       "    </tr>\n",
       "    <tr>\n",
       "      <th>1</th>\n",
       "      <td>1</td>\n",
       "      <td>C:/Users/siloux/Desktop/E4E/passive-acoustic-b...</td>\n",
       "      <td>3.0</td>\n",
       "      <td>6.000000</td>\n",
       "      <td>44100</td>\n",
       "      <td>bird</td>\n",
       "    </tr>\n",
       "    <tr>\n",
       "      <th>2</th>\n",
       "      <td>2</td>\n",
       "      <td>C:/Users/siloux/Desktop/E4E/passive-acoustic-b...</td>\n",
       "      <td>6.0</td>\n",
       "      <td>9.000000</td>\n",
       "      <td>44100</td>\n",
       "      <td>bird</td>\n",
       "    </tr>\n",
       "    <tr>\n",
       "      <th>3</th>\n",
       "      <td>3</td>\n",
       "      <td>C:/Users/siloux/Desktop/E4E/passive-acoustic-b...</td>\n",
       "      <td>9.0</td>\n",
       "      <td>9.299592</td>\n",
       "      <td>44100</td>\n",
       "      <td>bird</td>\n",
       "    </tr>\n",
       "    <tr>\n",
       "      <th>4</th>\n",
       "      <td>4</td>\n",
       "      <td>C:/Users/siloux/Desktop/E4E/passive-acoustic-b...</td>\n",
       "      <td>0.0</td>\n",
       "      <td>3.000000</td>\n",
       "      <td>44100</td>\n",
       "      <td>Turdus leucomelas</td>\n",
       "    </tr>\n",
       "  </tbody>\n",
       "</table>\n",
       "</div>"
      ],
      "text/plain": [
       "   Unnamed: 0                                               file  start_time  \\\n",
       "0           0  C:/Users/siloux/Desktop/E4E/passive-acoustic-b...         0.0   \n",
       "1           1  C:/Users/siloux/Desktop/E4E/passive-acoustic-b...         3.0   \n",
       "2           2  C:/Users/siloux/Desktop/E4E/passive-acoustic-b...         6.0   \n",
       "3           3  C:/Users/siloux/Desktop/E4E/passive-acoustic-b...         9.0   \n",
       "4           4  C:/Users/siloux/Desktop/E4E/passive-acoustic-b...         0.0   \n",
       "\n",
       "   end_time  SAMPLING RATE          MANUAL ID  \n",
       "0  3.000000          44100               bird  \n",
       "1  6.000000          44100               bird  \n",
       "2  9.000000          44100               bird  \n",
       "3  9.299592          44100               bird  \n",
       "4  3.000000          44100  Turdus leucomelas  "
      ]
     },
     "execution_count": 5,
     "metadata": {},
     "output_type": "execute_result"
    }
   ],
   "source": [
    "test_df.head()"
   ]
  },
  {
   "cell_type": "code",
   "execution_count": 6,
   "id": "6551ba1b",
   "metadata": {},
   "outputs": [
    {
     "data": {
      "text/html": [
       "<div>\n",
       "<style scoped>\n",
       "    .dataframe tbody tr th:only-of-type {\n",
       "        vertical-align: middle;\n",
       "    }\n",
       "\n",
       "    .dataframe tbody tr th {\n",
       "        vertical-align: top;\n",
       "    }\n",
       "\n",
       "    .dataframe thead th {\n",
       "        text-align: right;\n",
       "    }\n",
       "</style>\n",
       "<table border=\"1\" class=\"dataframe\">\n",
       "  <thead>\n",
       "    <tr style=\"text-align: right;\">\n",
       "      <th></th>\n",
       "      <th>Unnamed: 0</th>\n",
       "      <th>file</th>\n",
       "      <th>start_time</th>\n",
       "      <th>end_time</th>\n",
       "      <th>SAMPLING RATE</th>\n",
       "      <th>MANUAL ID</th>\n",
       "      <th>filename</th>\n",
       "    </tr>\n",
       "  </thead>\n",
       "  <tbody>\n",
       "    <tr>\n",
       "      <th>0</th>\n",
       "      <td>0</td>\n",
       "      <td>C:/Users/siloux/Desktop/E4E/passive-acoustic-b...</td>\n",
       "      <td>0.0</td>\n",
       "      <td>3.000000</td>\n",
       "      <td>44100</td>\n",
       "      <td>bird</td>\n",
       "      <td>XC100864 - Rufous-collared Sparrow - Zonotrich...</td>\n",
       "    </tr>\n",
       "    <tr>\n",
       "      <th>1</th>\n",
       "      <td>1</td>\n",
       "      <td>C:/Users/siloux/Desktop/E4E/passive-acoustic-b...</td>\n",
       "      <td>3.0</td>\n",
       "      <td>6.000000</td>\n",
       "      <td>44100</td>\n",
       "      <td>bird</td>\n",
       "      <td>XC100864 - Rufous-collared Sparrow - Zonotrich...</td>\n",
       "    </tr>\n",
       "    <tr>\n",
       "      <th>2</th>\n",
       "      <td>2</td>\n",
       "      <td>C:/Users/siloux/Desktop/E4E/passive-acoustic-b...</td>\n",
       "      <td>6.0</td>\n",
       "      <td>9.000000</td>\n",
       "      <td>44100</td>\n",
       "      <td>bird</td>\n",
       "      <td>XC100864 - Rufous-collared Sparrow - Zonotrich...</td>\n",
       "    </tr>\n",
       "    <tr>\n",
       "      <th>3</th>\n",
       "      <td>3</td>\n",
       "      <td>C:/Users/siloux/Desktop/E4E/passive-acoustic-b...</td>\n",
       "      <td>9.0</td>\n",
       "      <td>9.299592</td>\n",
       "      <td>44100</td>\n",
       "      <td>bird</td>\n",
       "      <td>XC100864 - Rufous-collared Sparrow - Zonotrich...</td>\n",
       "    </tr>\n",
       "    <tr>\n",
       "      <th>4</th>\n",
       "      <td>4</td>\n",
       "      <td>C:/Users/siloux/Desktop/E4E/passive-acoustic-b...</td>\n",
       "      <td>0.0</td>\n",
       "      <td>3.000000</td>\n",
       "      <td>44100</td>\n",
       "      <td>Turdus leucomelas</td>\n",
       "      <td>XC101469 - Pale-breasted Thrush - Turdus leuco...</td>\n",
       "    </tr>\n",
       "  </tbody>\n",
       "</table>\n",
       "</div>"
      ],
      "text/plain": [
       "   Unnamed: 0                                               file  start_time  \\\n",
       "0           0  C:/Users/siloux/Desktop/E4E/passive-acoustic-b...         0.0   \n",
       "1           1  C:/Users/siloux/Desktop/E4E/passive-acoustic-b...         3.0   \n",
       "2           2  C:/Users/siloux/Desktop/E4E/passive-acoustic-b...         6.0   \n",
       "3           3  C:/Users/siloux/Desktop/E4E/passive-acoustic-b...         9.0   \n",
       "4           4  C:/Users/siloux/Desktop/E4E/passive-acoustic-b...         0.0   \n",
       "\n",
       "   end_time  SAMPLING RATE          MANUAL ID  \\\n",
       "0  3.000000          44100               bird   \n",
       "1  6.000000          44100               bird   \n",
       "2  9.000000          44100               bird   \n",
       "3  9.299592          44100               bird   \n",
       "4  3.000000          44100  Turdus leucomelas   \n",
       "\n",
       "                                            filename  \n",
       "0  XC100864 - Rufous-collared Sparrow - Zonotrich...  \n",
       "1  XC100864 - Rufous-collared Sparrow - Zonotrich...  \n",
       "2  XC100864 - Rufous-collared Sparrow - Zonotrich...  \n",
       "3  XC100864 - Rufous-collared Sparrow - Zonotrich...  \n",
       "4  XC101469 - Pale-breasted Thrush - Turdus leuco...  "
      ]
     },
     "execution_count": 6,
     "metadata": {},
     "output_type": "execute_result"
    }
   ],
   "source": [
    "test_df[\"filename\"] = test_df[\"file\"].apply(lambda x: x.split(\"/\")[-1])\n",
    "test_df.head()"
   ]
  },
  {
   "cell_type": "code",
   "execution_count": 7,
   "id": "a29df122",
   "metadata": {},
   "outputs": [
    {
     "data": {
      "text/html": [
       "<div>\n",
       "<style scoped>\n",
       "    .dataframe tbody tr th:only-of-type {\n",
       "        vertical-align: middle;\n",
       "    }\n",
       "\n",
       "    .dataframe tbody tr th {\n",
       "        vertical-align: top;\n",
       "    }\n",
       "\n",
       "    .dataframe thead th {\n",
       "        text-align: right;\n",
       "    }\n",
       "</style>\n",
       "<table border=\"1\" class=\"dataframe\">\n",
       "  <thead>\n",
       "    <tr style=\"text-align: right;\">\n",
       "      <th></th>\n",
       "      <th>Unnamed: 0_x</th>\n",
       "      <th>file_x</th>\n",
       "      <th>start_time_x</th>\n",
       "      <th>end_time_x</th>\n",
       "      <th>SAMPLING RATE</th>\n",
       "      <th>MANUAL ID_x</th>\n",
       "      <th>filename</th>\n",
       "      <th>Unnamed: 0_y</th>\n",
       "      <th>file_y</th>\n",
       "      <th>start_time_y</th>\n",
       "      <th>end_time_y</th>\n",
       "      <th>SAMPLE RATE</th>\n",
       "      <th>MANUAL ID_y</th>\n",
       "    </tr>\n",
       "  </thead>\n",
       "  <tbody>\n",
       "  </tbody>\n",
       "</table>\n",
       "</div>"
      ],
      "text/plain": [
       "Empty DataFrame\n",
       "Columns: [Unnamed: 0_x, file_x, start_time_x, end_time_x, SAMPLING RATE, MANUAL ID_x, filename, Unnamed: 0_y, file_y, start_time_y, end_time_y, SAMPLE RATE, MANUAL ID_y]\n",
       "Index: []"
      ]
     },
     "execution_count": 7,
     "metadata": {},
     "output_type": "execute_result"
    }
   ],
   "source": [
    "train_val_df = train_val_df[~train_val_df[\"filename\"].isin(test_df[\"filename\"])]\n",
    "test_df.merge(train_val_df, left_on=\"filename\", right_on=\"filename\")"
   ]
  },
  {
   "cell_type": "markdown",
   "id": "5ba75e39",
   "metadata": {},
   "source": [
    "### Check counts of the different classes in both the dataframes"
   ]
  },
  {
   "cell_type": "code",
   "execution_count": 8,
   "id": "41e98428",
   "metadata": {},
   "outputs": [
    {
     "data": {
      "text/html": [
       "<div>\n",
       "<style scoped>\n",
       "    .dataframe tbody tr th:only-of-type {\n",
       "        vertical-align: middle;\n",
       "    }\n",
       "\n",
       "    .dataframe tbody tr th {\n",
       "        vertical-align: top;\n",
       "    }\n",
       "\n",
       "    .dataframe thead th {\n",
       "        text-align: right;\n",
       "    }\n",
       "</style>\n",
       "<table border=\"1\" class=\"dataframe\">\n",
       "  <thead>\n",
       "    <tr style=\"text-align: right;\">\n",
       "      <th></th>\n",
       "      <th>Unnamed: 0</th>\n",
       "      <th>file</th>\n",
       "      <th>start_time</th>\n",
       "      <th>end_time</th>\n",
       "      <th>SAMPLE RATE</th>\n",
       "      <th>MANUAL ID</th>\n",
       "      <th>filename</th>\n",
       "    </tr>\n",
       "  </thead>\n",
       "  <tbody>\n",
       "    <tr>\n",
       "      <th>0</th>\n",
       "      <td>10</td>\n",
       "      <td>C:/Users/siloux/Desktop/E4E/passive-acoustic-b...</td>\n",
       "      <td>24.906977</td>\n",
       "      <td>26.000000</td>\n",
       "      <td>44100</td>\n",
       "      <td>Microcerculus marginatus</td>\n",
       "      <td>XC100027 - Southern Nightingale-Wren - Microce...</td>\n",
       "    </tr>\n",
       "    <tr>\n",
       "      <th>1</th>\n",
       "      <td>14</td>\n",
       "      <td>C:/Users/siloux/Desktop/E4E/passive-acoustic-b...</td>\n",
       "      <td>30.232558</td>\n",
       "      <td>30.930233</td>\n",
       "      <td>44100</td>\n",
       "      <td>Microcerculus marginatus</td>\n",
       "      <td>XC100027 - Southern Nightingale-Wren - Microce...</td>\n",
       "    </tr>\n",
       "    <tr>\n",
       "      <th>2</th>\n",
       "      <td>21</td>\n",
       "      <td>C:/Users/siloux/Desktop/E4E/passive-acoustic-b...</td>\n",
       "      <td>50.627907</td>\n",
       "      <td>52.000000</td>\n",
       "      <td>44100</td>\n",
       "      <td>Microcerculus marginatus</td>\n",
       "      <td>XC100027 - Southern Nightingale-Wren - Microce...</td>\n",
       "    </tr>\n",
       "    <tr>\n",
       "      <th>3</th>\n",
       "      <td>22</td>\n",
       "      <td>C:/Users/siloux/Desktop/E4E/passive-acoustic-b...</td>\n",
       "      <td>60.488372</td>\n",
       "      <td>62.000000</td>\n",
       "      <td>44100</td>\n",
       "      <td>Microcerculus marginatus</td>\n",
       "      <td>XC100027 - Southern Nightingale-Wren - Microce...</td>\n",
       "    </tr>\n",
       "    <tr>\n",
       "      <th>4</th>\n",
       "      <td>29</td>\n",
       "      <td>C:/Users/siloux/Desktop/E4E/passive-acoustic-b...</td>\n",
       "      <td>0.860465</td>\n",
       "      <td>1.325581</td>\n",
       "      <td>44100</td>\n",
       "      <td>Tolmomyias sulphurescens</td>\n",
       "      <td>XC100068 - Yellow-olive Flatbill - Tolmomyias ...</td>\n",
       "    </tr>\n",
       "    <tr>\n",
       "      <th>...</th>\n",
       "      <td>...</td>\n",
       "      <td>...</td>\n",
       "      <td>...</td>\n",
       "      <td>...</td>\n",
       "      <td>...</td>\n",
       "      <td>...</td>\n",
       "      <td>...</td>\n",
       "    </tr>\n",
       "    <tr>\n",
       "      <th>39865</th>\n",
       "      <td>825</td>\n",
       "      <td>C:/Users/siloux/Desktop/E4E/passive-acoustic-b...</td>\n",
       "      <td>0.000000</td>\n",
       "      <td>35.918400</td>\n",
       "      <td>44100</td>\n",
       "      <td>other</td>\n",
       "      <td>Amazona-ochrocephala-12092.wav_0.0s_35.9184s.wav</td>\n",
       "    </tr>\n",
       "    <tr>\n",
       "      <th>15746</th>\n",
       "      <td>3440</td>\n",
       "      <td>C:/Users/siloux/Desktop/E4E/passive-acoustic-b...</td>\n",
       "      <td>0.000000</td>\n",
       "      <td>239.700000</td>\n",
       "      <td>44100</td>\n",
       "      <td>other</td>\n",
       "      <td>Cacicus-chrysonotus-171777.wav_0.0s_239.7s.wav</td>\n",
       "    </tr>\n",
       "    <tr>\n",
       "      <th>60359</th>\n",
       "      <td>24305</td>\n",
       "      <td>C:/Users/siloux/Desktop/E4E/passive-acoustic-b...</td>\n",
       "      <td>0.000000</td>\n",
       "      <td>42.312000</td>\n",
       "      <td>44100</td>\n",
       "      <td>other</td>\n",
       "      <td>Sclerurus-albigularis-475900.wav_0.0s_42.312s.wav</td>\n",
       "    </tr>\n",
       "    <tr>\n",
       "      <th>16489</th>\n",
       "      <td>4242</td>\n",
       "      <td>C:/Users/siloux/Desktop/E4E/passive-acoustic-b...</td>\n",
       "      <td>0.000000</td>\n",
       "      <td>17.972200</td>\n",
       "      <td>44100</td>\n",
       "      <td>other</td>\n",
       "      <td>Capito-auratus-275811.wav_0.0s_17.9722s.wav</td>\n",
       "    </tr>\n",
       "    <tr>\n",
       "      <th>24904</th>\n",
       "      <td>14179</td>\n",
       "      <td>C:/Users/siloux/Desktop/E4E/passive-acoustic-b...</td>\n",
       "      <td>0.000000</td>\n",
       "      <td>162.769000</td>\n",
       "      <td>44100</td>\n",
       "      <td>other</td>\n",
       "      <td>Mecocerculus-leucophrys-124518.wav_0.0s_162.76...</td>\n",
       "    </tr>\n",
       "  </tbody>\n",
       "</table>\n",
       "<p>16687 rows × 7 columns</p>\n",
       "</div>"
      ],
      "text/plain": [
       "       Unnamed: 0                                               file  \\\n",
       "0              10  C:/Users/siloux/Desktop/E4E/passive-acoustic-b...   \n",
       "1              14  C:/Users/siloux/Desktop/E4E/passive-acoustic-b...   \n",
       "2              21  C:/Users/siloux/Desktop/E4E/passive-acoustic-b...   \n",
       "3              22  C:/Users/siloux/Desktop/E4E/passive-acoustic-b...   \n",
       "4              29  C:/Users/siloux/Desktop/E4E/passive-acoustic-b...   \n",
       "...           ...                                                ...   \n",
       "39865         825  C:/Users/siloux/Desktop/E4E/passive-acoustic-b...   \n",
       "15746        3440  C:/Users/siloux/Desktop/E4E/passive-acoustic-b...   \n",
       "60359       24305  C:/Users/siloux/Desktop/E4E/passive-acoustic-b...   \n",
       "16489        4242  C:/Users/siloux/Desktop/E4E/passive-acoustic-b...   \n",
       "24904       14179  C:/Users/siloux/Desktop/E4E/passive-acoustic-b...   \n",
       "\n",
       "       start_time    end_time  SAMPLE RATE                 MANUAL ID  \\\n",
       "0       24.906977   26.000000        44100  Microcerculus marginatus   \n",
       "1       30.232558   30.930233        44100  Microcerculus marginatus   \n",
       "2       50.627907   52.000000        44100  Microcerculus marginatus   \n",
       "3       60.488372   62.000000        44100  Microcerculus marginatus   \n",
       "4        0.860465    1.325581        44100  Tolmomyias sulphurescens   \n",
       "...           ...         ...          ...                       ...   \n",
       "39865    0.000000   35.918400        44100                     other   \n",
       "15746    0.000000  239.700000        44100                     other   \n",
       "60359    0.000000   42.312000        44100                     other   \n",
       "16489    0.000000   17.972200        44100                     other   \n",
       "24904    0.000000  162.769000        44100                     other   \n",
       "\n",
       "                                                filename  \n",
       "0      XC100027 - Southern Nightingale-Wren - Microce...  \n",
       "1      XC100027 - Southern Nightingale-Wren - Microce...  \n",
       "2      XC100027 - Southern Nightingale-Wren - Microce...  \n",
       "3      XC100027 - Southern Nightingale-Wren - Microce...  \n",
       "4      XC100068 - Yellow-olive Flatbill - Tolmomyias ...  \n",
       "...                                                  ...  \n",
       "39865   Amazona-ochrocephala-12092.wav_0.0s_35.9184s.wav  \n",
       "15746     Cacicus-chrysonotus-171777.wav_0.0s_239.7s.wav  \n",
       "60359  Sclerurus-albigularis-475900.wav_0.0s_42.312s.wav  \n",
       "16489        Capito-auratus-275811.wav_0.0s_17.9722s.wav  \n",
       "24904  Mecocerculus-leucophrys-124518.wav_0.0s_162.76...  \n",
       "\n",
       "[16687 rows x 7 columns]"
      ]
     },
     "execution_count": 8,
     "metadata": {},
     "output_type": "execute_result"
    }
   ],
   "source": [
    "no_bird = train_val_df[train_val_df[\"MANUAL ID\"] == \"other\"].sample(4000)\n",
    "train_val_df = train_val_df[~train_val_df[\"MANUAL ID\"].isin([\"other\"])]\n",
    "train_val_df = train_val_df.append(no_bird)\n",
    "train_val_df"
   ]
  },
  {
   "cell_type": "code",
   "execution_count": 9,
   "id": "cf29e868",
   "metadata": {},
   "outputs": [],
   "source": [
    "species = np.unique(train_val_df['MANUAL ID'])\n",
    "def fix_classes(label):\n",
    "    if (not label in species):\n",
    "        return \"other\"\n",
    "    return label\n",
    "test_df['MANUAL ID'] = test_df[\"MANUAL ID\"].apply(fix_classes)"
   ]
  },
  {
   "cell_type": "code",
   "execution_count": 10,
   "id": "257ef075",
   "metadata": {},
   "outputs": [
    {
     "data": {
      "text/plain": [
       "other                       4000\n",
       "Zonotrichia capensis        2049\n",
       "Ramphastos tucanus          2040\n",
       "Turdus leucomelas           1851\n",
       "Microcerculus marginatus    1521\n",
       "Tolmomyias sulphurescens    1497\n",
       "Xiphorhynchus guttatus      1227\n",
       "Trogon viridis              1029\n",
       "Myioborus miniatus           603\n",
       "Thraupis episcopus           544\n",
       "Celeus grammicus             326\n",
       "Name: MANUAL ID, dtype: int64"
      ]
     },
     "execution_count": 10,
     "metadata": {},
     "output_type": "execute_result"
    }
   ],
   "source": [
    "train_val_df['MANUAL ID'].value_counts()"
   ]
  },
  {
   "cell_type": "code",
   "execution_count": 11,
   "id": "6952d68b",
   "metadata": {},
   "outputs": [
    {
     "data": {
      "text/plain": [
       "other                       3167\n",
       "Ramphastos tucanus           547\n",
       "Turdus leucomelas            511\n",
       "Trogon viridis               426\n",
       "Zonotrichia capensis         414\n",
       "Myioborus miniatus           406\n",
       "Xiphorhynchus guttatus       390\n",
       "Tolmomyias sulphurescens     376\n",
       "Microcerculus marginatus     346\n",
       "Thraupis episcopus           226\n",
       "Celeus grammicus             165\n",
       "Name: MANUAL ID, dtype: int64"
      ]
     },
     "execution_count": 11,
     "metadata": {},
     "output_type": "execute_result"
    }
   ],
   "source": [
    "test_df['MANUAL ID'].value_counts()"
   ]
  },
  {
   "cell_type": "markdown",
   "id": "3c6cede4",
   "metadata": {},
   "source": [
    "### Changing species' names to a simpler version for convenience"
   ]
  },
  {
   "cell_type": "code",
   "execution_count": null,
   "id": "91fd70bd",
   "metadata": {},
   "outputs": [],
   "source": []
  },
  {
   "cell_type": "code",
   "execution_count": 12,
   "id": "aeb225ed",
   "metadata": {},
   "outputs": [],
   "source": [
    "#train_val_df.loc[train_val_df['MANUAL ID'].str.contains('Toucan'), 'MANUAL ID'] = test_df.loc[test_df['MANUAL ID'].str.contains('Toucan'), 'MANUAL ID'] = 'Toucan'\n",
    "#train_val_df.loc[train_val_df['MANUAL ID'].str.contains('Flycatcher'), 'MANUAL ID'] = 'Flycatcher'\n",
    "#train_val_df.loc[train_val_df['MANUAL ID'].str.contains('Thrush'), 'MANUAL ID'] = 'Thrush'\n",
    "#train_val_df.loc[train_val_df['MANUAL ID'].str.contains('Vireo'), 'MANUAL ID'] = test_df.loc[test_df['MANUAL ID'].str.contains('Vireo'), 'MANUAL ID'] = 'Vireo'\n",
    "#train_val_df.loc[train_val_df['MANUAL ID'].str.contains('Antwren'), 'MANUAL ID'] = test_df.loc[test_df['MANUAL ID'].str.contains('Antwren'), 'MANUAL ID'] = 'Antwren'\n",
    "#train_val_df.loc[train_val_df['MANUAL ID'].str.contains('Tanager'), 'MANUAL ID'] = test_df.loc[test_df['MANUAL ID'].str.contains('Tanager'), 'MANUAL ID'] = 'Tanager'\n",
    "#train_val_df.loc[train_val_df['MANUAL ID'].str.contains('Kingbird'), 'MANUAL ID'] = test_df.loc[test_df['MANUAL ID'].str.contains('Kingbird'), 'MANUAL ID'] = 'Kingbird'\n",
    "#train_val_df.loc[train_val_df['MANUAL ID'].str.contains('Tody-Tyrant'), 'MANUAL ID'] = test_df.loc[test_df['MANUAL ID'].str.contains('Tody-Tyrant'), 'MANUAL ID'] = 'Tody-Tyrant'\n",
    "#train_val_df.loc[train_val_df['MANUAL ID'].str.contains('Hummingbird'), 'MANUAL ID'] = test_df.loc[test_df['MANUAL ID'].str.contains('Hummingbird'), 'MANUAL ID'] = 'Hummingbird'\n",
    "#train_val_df.loc[train_val_df['MANUAL ID'].str.contains('Antshrike'), 'MANUAL ID'] = test_df.loc[test_df['MANUAL ID'].str.contains('Antshrike'), 'MANUAL ID'] = 'Antshrike'"
   ]
  },
  {
   "cell_type": "markdown",
   "id": "b312dd50",
   "metadata": {},
   "source": [
    "### Remove rows from dataframes which are not the species of our interest"
   ]
  },
  {
   "cell_type": "code",
   "execution_count": 13,
   "id": "e048aaa1",
   "metadata": {},
   "outputs": [
    {
     "name": "stdout",
     "output_type": "stream",
     "text": [
      "Classwise Counts for train/val data:\n",
      "other                       4000\n",
      "Zonotrichia capensis        2049\n",
      "Ramphastos tucanus          2040\n",
      "Turdus leucomelas           1851\n",
      "Microcerculus marginatus    1521\n",
      "Tolmomyias sulphurescens    1497\n",
      "Xiphorhynchus guttatus      1227\n",
      "Trogon viridis              1029\n",
      "Myioborus miniatus           603\n",
      "Thraupis episcopus           544\n",
      "Celeus grammicus             326\n",
      "Name: MANUAL ID, dtype: int64\n",
      "\n",
      "Classwise  Counts for test data:\n",
      "other                       3167\n",
      "Ramphastos tucanus           547\n",
      "Turdus leucomelas            511\n",
      "Trogon viridis               426\n",
      "Zonotrichia capensis         414\n",
      "Myioborus miniatus           406\n",
      "Xiphorhynchus guttatus       390\n",
      "Tolmomyias sulphurescens     376\n",
      "Microcerculus marginatus     346\n",
      "Thraupis episcopus           226\n",
      "Celeus grammicus             165\n",
      "Name: MANUAL ID, dtype: int64\n"
     ]
    }
   ],
   "source": [
    "classes = np.unique(test_df['MANUAL ID'])#['Antwren', 'Antshrike', 'Toucan', 'Vireo', 'Kingbird', 'Tody-Tyrant', 'None']\n",
    "train_val_df = train_val_df[train_val_df[\"MANUAL ID\"].isin(classes)]\n",
    "test_df = test_df[test_df[\"MANUAL ID\"].isin(classes)]\n",
    "print('Classwise Counts for train/val data:')\n",
    "print(train_val_df['MANUAL ID'].value_counts())\n",
    "print('\\nClasswise  Counts for test data:')\n",
    "print(test_df['MANUAL ID'].value_counts())"
   ]
  },
  {
   "cell_type": "markdown",
   "id": "8304174f",
   "metadata": {},
   "source": [
    "### Convert the train/val and test data to one-hot representations of the classes"
   ]
  },
  {
   "cell_type": "code",
   "execution_count": 14,
   "id": "fd08b116",
   "metadata": {},
   "outputs": [],
   "source": [
    "# Train/val\n",
    "one_hot_labels, train_classes = categorical_to_one_hot(train_val_df[['MANUAL ID']].values)\n",
    "train_val_df = pd.DataFrame(index=train_val_df['file'],data=one_hot_labels,columns=train_classes)\n",
    "\n",
    "# Test\n",
    "one_hot_labels, test_classes = categorical_to_one_hot(test_df[['MANUAL ID']].values)\n",
    "test_df = pd.DataFrame(index=test_df['file'],data=one_hot_labels,columns=test_classes)"
   ]
  },
  {
   "cell_type": "markdown",
   "id": "52e30606",
   "metadata": {},
   "source": [
    "### Split the trainining/validation dataframe into training and validation sets"
   ]
  },
  {
   "cell_type": "code",
   "execution_count": 15,
   "id": "ec470fad",
   "metadata": {},
   "outputs": [],
   "source": [
    "train_df, valid_df = train_test_split(train_val_df, test_size=0.2, random_state=42)"
   ]
  },
  {
   "cell_type": "code",
   "execution_count": 16,
   "id": "215adf91",
   "metadata": {},
   "outputs": [
    {
     "name": "stdout",
     "output_type": "stream",
     "text": [
      "Number of training examples :  13349\n",
      "Number of validation examples :  3338\n",
      "Number of test examples :  6974\n"
     ]
    }
   ],
   "source": [
    "print(\"Number of training examples : \", train_df.shape[0])\n",
    "print(\"Number of validation examples : \", valid_df.shape[0])\n",
    "print(\"Number of test examples : \", test_df.shape[0])"
   ]
  },
  {
   "cell_type": "markdown",
   "id": "4b52c4d4",
   "metadata": {},
   "source": [
    "### Prepare the training and validation set for the CNN model"
   ]
  },
  {
   "cell_type": "code",
   "execution_count": 17,
   "id": "5796758b-3169-4cb7-ad5f-072bbd79e1e2",
   "metadata": {},
   "outputs": [],
   "source": [
    "train_dataset = CnnPreprocessor(df=train_df)\n",
    "train_dataset.augmentation_on()\n",
    "train_dataset.actions.load_audio.set(sample_rate=44100)\n",
    "valid_dataset = CnnPreprocessor(df=valid_df)\n",
    "valid_dataset.augmentation_on()\n",
    "valid_dataset.actions.load_audio.set(sample_rate=44100)"
   ]
  },
  {
   "cell_type": "markdown",
   "id": "36085bd6",
   "metadata": {},
   "source": [
    "### Create the Resnet-18 Multiclass model and train it"
   ]
  },
  {
   "cell_type": "code",
   "execution_count": 18,
   "id": "f45eadac-9474-4ffa-9bde-3f0d8236fb2c",
   "metadata": {},
   "outputs": [
    {
     "name": "stderr",
     "output_type": "stream",
     "text": [
      "C:\\Users\\Siloux\\.conda\\envs\\species-id\\lib\\site-packages\\torchvision\\models\\_utils.py:209: UserWarning: The parameter 'pretrained' is deprecated since 0.13 and will be removed in 0.15, please use 'weights' instead.\n",
      "  f\"The parameter '{pretrained_param}' is deprecated since 0.13 and will be removed in 0.15, \"\n",
      "C:\\Users\\Siloux\\.conda\\envs\\species-id\\lib\\site-packages\\torchvision\\models\\_utils.py:223: UserWarning: Arguments other than a weight enum or `None` for 'weights' are deprecated since 0.13 and will be removed in 0.15. The current behavior is equivalent to passing `weights=ResNet18_Weights.IMAGENET1K_V1`. You can also use `weights=ResNet18_Weights.DEFAULT` to get the most up-to-date weights.\n",
      "  warnings.warn(msg)\n"
     ]
    },
    {
     "name": "stdout",
     "output_type": "stream",
     "text": [
      "created PytorchModel model object with 11 classes\n"
     ]
    }
   ],
   "source": [
    "model = cnn.Resnet18Multiclass(train_classes)"
   ]
  },
  {
   "cell_type": "code",
   "execution_count": 19,
   "id": "9a108ab2",
   "metadata": {},
   "outputs": [],
   "source": [
    "model.optimizer_params = {\n",
    "        \"feature\": {  # optimizer parameters for feature extraction layers\n",
    "            # \"params\": self.network.feature.parameters(),\n",
    "            \"lr\": 0.0001,\n",
    "            \"momentum\": 0.9,\n",
    "            \"weight_decay\": 0.0005,\n",
    "        },\n",
    "        \"classifier\": {  # optimizer parameters for classification layers\n",
    "            # \"params\": self.network.classifier.parameters(),\n",
    "            \"lr\": 0.0001,\n",
    "            \"momentum\": 0.9,\n",
    "            \"weight_decay\": 0.0005,\n",
    "        },\n",
    "    }"
   ]
  },
  {
   "cell_type": "code",
   "execution_count": 20,
   "id": "27d6953f",
   "metadata": {},
   "outputs": [
    {
     "data": {
      "text/plain": [
       "'C:/Users/Siloux/Desktop/E4E/passive-acoustic-biodiversity/OpenSoundScape/MultiClass Classifier/model/automated_cosmos_tweety_to_file_warblar_no_bird_test_4_5_epochs/'"
      ]
     },
     "execution_count": 20,
     "metadata": {},
     "output_type": "execute_result"
    }
   ],
   "source": [
    "name = \"C:/Users/Siloux/Desktop/E4E/passive-acoustic-biodiversity/OpenSoundScape/MultiClass Classifier/model/automated_cosmos_tweety_to_file_warblar_no_bird_test_4_5_epochs/\"\n",
    "model_save = name\n",
    "model_save"
   ]
  },
  {
   "cell_type": "code",
   "execution_count": 21,
   "id": "13587c56",
   "metadata": {
    "scrolled": true
   },
   "outputs": [
    {
     "name": "stdout",
     "output_type": "stream",
     "text": [
      "Epoch: 0 [batch 0/418 (0.00%)] \n",
      "\tJacc: 0.073 Hamm: 0.795 DistLoss: 29.545\n",
      "Epoch: 0 [batch 10/418 (2.39%)] \n",
      "\tJacc: 0.062 Hamm: 0.562 DistLoss: 28.750\n",
      "Epoch: 0 [batch 20/418 (4.78%)] \n",
      "\tJacc: 0.030 Hamm: 0.116 DistLoss: 27.509\n",
      "Epoch: 0 [batch 30/418 (7.18%)] \n",
      "\tJacc: 0.000 Hamm: 0.091 DistLoss: 26.239\n",
      "Epoch: 0 [batch 40/418 (9.57%)] \n",
      "\tJacc: 0.000 Hamm: 0.091 DistLoss: 25.101\n"
     ]
    },
    {
     "name": "stderr",
     "output_type": "stream",
     "text": [
      "C:\\Users\\Siloux\\.conda\\envs\\species-id\\lib\\site-packages\\sklearn\\metrics\\_classification.py:1318: UndefinedMetricWarning: Jaccard is ill-defined and being set to 0.0 in labels with no true or predicted samples. Use `zero_division` parameter to control this behavior.\n",
      "  _warn_prf(average, modifier, msg_start, len(result))\n"
     ]
    },
    {
     "name": "stdout",
     "output_type": "stream",
     "text": [
      "Epoch: 0 [batch 50/418 (11.96%)] \n",
      "\tJacc: 0.000 Hamm: 0.091 DistLoss: 24.102\n"
     ]
    },
    {
     "name": "stderr",
     "output_type": "stream",
     "text": [
      "C:\\Users\\Siloux\\.conda\\envs\\species-id\\lib\\site-packages\\sklearn\\metrics\\_classification.py:1318: UndefinedMetricWarning: Jaccard is ill-defined and being set to 0.0 in labels with no true or predicted samples. Use `zero_division` parameter to control this behavior.\n",
      "  _warn_prf(average, modifier, msg_start, len(result))\n"
     ]
    },
    {
     "name": "stdout",
     "output_type": "stream",
     "text": [
      "Epoch: 0 [batch 60/418 (14.35%)] \n",
      "\tJacc: 0.000 Hamm: 0.091 DistLoss: 23.260\n",
      "Epoch: 0 [batch 70/418 (16.75%)] \n",
      "\tJacc: 0.000 Hamm: 0.091 DistLoss: 22.540\n",
      "Epoch: 0 [batch 80/418 (19.14%)] \n",
      "\tJacc: 0.000 Hamm: 0.091 DistLoss: 21.925\n",
      "Epoch: 0 [batch 90/418 (21.53%)] \n",
      "\tJacc: 0.000 Hamm: 0.091 DistLoss: 21.400\n",
      "Epoch: 0 [batch 100/418 (23.92%)] \n",
      "\tJacc: 0.000 Hamm: 0.091 DistLoss: 20.948\n",
      "Epoch: 0 [batch 110/418 (26.32%)] \n",
      "\tJacc: 0.000 Hamm: 0.091 DistLoss: 20.549\n",
      "Epoch: 0 [batch 120/418 (28.71%)] \n",
      "\tJacc: 0.000 Hamm: 0.091 DistLoss: 20.199\n"
     ]
    },
    {
     "name": "stderr",
     "output_type": "stream",
     "text": [
      "C:\\Users\\Siloux\\.conda\\envs\\species-id\\lib\\site-packages\\sklearn\\metrics\\_classification.py:1318: UndefinedMetricWarning: Jaccard is ill-defined and being set to 0.0 in labels with no true or predicted samples. Use `zero_division` parameter to control this behavior.\n",
      "  _warn_prf(average, modifier, msg_start, len(result))\n"
     ]
    },
    {
     "name": "stdout",
     "output_type": "stream",
     "text": [
      "Epoch: 0 [batch 130/418 (31.10%)] \n",
      "\tJacc: 0.000 Hamm: 0.091 DistLoss: 19.893\n",
      "Epoch: 0 [batch 140/418 (33.49%)] \n",
      "\tJacc: 0.000 Hamm: 0.091 DistLoss: 19.618\n"
     ]
    },
    {
     "name": "stderr",
     "output_type": "stream",
     "text": [
      "C:\\Users\\Siloux\\.conda\\envs\\species-id\\lib\\site-packages\\sklearn\\metrics\\_classification.py:1318: UndefinedMetricWarning: Jaccard is ill-defined and being set to 0.0 in labels with no true or predicted samples. Use `zero_division` parameter to control this behavior.\n",
      "  _warn_prf(average, modifier, msg_start, len(result))\n"
     ]
    },
    {
     "name": "stdout",
     "output_type": "stream",
     "text": [
      "Epoch: 0 [batch 150/418 (35.89%)] \n",
      "\tJacc: 0.000 Hamm: 0.091 DistLoss: 19.372\n"
     ]
    },
    {
     "name": "stderr",
     "output_type": "stream",
     "text": [
      "C:\\Users\\Siloux\\.conda\\envs\\species-id\\lib\\site-packages\\sklearn\\metrics\\_classification.py:1318: UndefinedMetricWarning: Jaccard is ill-defined and being set to 0.0 in labels with no true or predicted samples. Use `zero_division` parameter to control this behavior.\n",
      "  _warn_prf(average, modifier, msg_start, len(result))\n"
     ]
    },
    {
     "name": "stdout",
     "output_type": "stream",
     "text": [
      "Epoch: 0 [batch 160/418 (38.28%)] \n",
      "\tJacc: 0.000 Hamm: 0.091 DistLoss: 19.152\n",
      "Epoch: 0 [batch 170/418 (40.67%)] \n",
      "\tJacc: 0.000 Hamm: 0.091 DistLoss: 18.949\n",
      "Epoch: 0 [batch 180/418 (43.06%)] \n",
      "\tJacc: 0.000 Hamm: 0.091 DistLoss: 18.769\n",
      "Epoch: 0 [batch 190/418 (45.45%)] \n",
      "\tJacc: 0.000 Hamm: 0.091 DistLoss: 18.604\n"
     ]
    },
    {
     "name": "stderr",
     "output_type": "stream",
     "text": [
      "C:\\Users\\Siloux\\.conda\\envs\\species-id\\lib\\site-packages\\sklearn\\metrics\\_classification.py:1318: UndefinedMetricWarning: Jaccard is ill-defined and being set to 0.0 in labels with no true or predicted samples. Use `zero_division` parameter to control this behavior.\n",
      "  _warn_prf(average, modifier, msg_start, len(result))\n"
     ]
    },
    {
     "name": "stdout",
     "output_type": "stream",
     "text": [
      "Epoch: 0 [batch 200/418 (47.85%)] \n",
      "\tJacc: 0.000 Hamm: 0.091 DistLoss: 18.453\n"
     ]
    },
    {
     "name": "stderr",
     "output_type": "stream",
     "text": [
      "C:\\Users\\Siloux\\.conda\\envs\\species-id\\lib\\site-packages\\sklearn\\metrics\\_classification.py:1318: UndefinedMetricWarning: Jaccard is ill-defined and being set to 0.0 in labels with no true or predicted samples. Use `zero_division` parameter to control this behavior.\n",
      "  _warn_prf(average, modifier, msg_start, len(result))\n"
     ]
    },
    {
     "name": "stdout",
     "output_type": "stream",
     "text": [
      "Epoch: 0 [batch 210/418 (50.24%)] \n",
      "\tJacc: 0.000 Hamm: 0.091 DistLoss: 18.315\n",
      "Epoch: 0 [batch 220/418 (52.63%)] \n",
      "\tJacc: 0.000 Hamm: 0.091 DistLoss: 18.185\n",
      "Epoch: 0 [batch 230/418 (55.02%)] \n",
      "\tJacc: 0.000 Hamm: 0.091 DistLoss: 18.065\n",
      "Epoch: 0 [batch 240/418 (57.42%)] \n",
      "\tJacc: 0.000 Hamm: 0.091 DistLoss: 17.953\n"
     ]
    },
    {
     "name": "stderr",
     "output_type": "stream",
     "text": [
      "C:\\Users\\Siloux\\.conda\\envs\\species-id\\lib\\site-packages\\sklearn\\metrics\\_classification.py:1318: UndefinedMetricWarning: Jaccard is ill-defined and being set to 0.0 in labels with no true or predicted samples. Use `zero_division` parameter to control this behavior.\n",
      "  _warn_prf(average, modifier, msg_start, len(result))\n"
     ]
    },
    {
     "name": "stdout",
     "output_type": "stream",
     "text": [
      "Epoch: 0 [batch 250/418 (59.81%)] \n",
      "\tJacc: 0.000 Hamm: 0.091 DistLoss: 17.849\n"
     ]
    },
    {
     "name": "stderr",
     "output_type": "stream",
     "text": [
      "C:\\Users\\Siloux\\.conda\\envs\\species-id\\lib\\site-packages\\sklearn\\metrics\\_classification.py:1318: UndefinedMetricWarning: Jaccard is ill-defined and being set to 0.0 in labels with no true or predicted samples. Use `zero_division` parameter to control this behavior.\n",
      "  _warn_prf(average, modifier, msg_start, len(result))\n"
     ]
    },
    {
     "name": "stdout",
     "output_type": "stream",
     "text": [
      "Epoch: 0 [batch 260/418 (62.20%)] \n",
      "\tJacc: 0.000 Hamm: 0.091 DistLoss: 17.751\n",
      "Epoch: 0 [batch 270/418 (64.59%)] \n",
      "\tJacc: 0.000 Hamm: 0.091 DistLoss: 17.660\n"
     ]
    },
    {
     "name": "stderr",
     "output_type": "stream",
     "text": [
      "C:\\Users\\Siloux\\.conda\\envs\\species-id\\lib\\site-packages\\sklearn\\metrics\\_classification.py:1318: UndefinedMetricWarning: Jaccard is ill-defined and being set to 0.0 in labels with no true or predicted samples. Use `zero_division` parameter to control this behavior.\n",
      "  _warn_prf(average, modifier, msg_start, len(result))\n"
     ]
    },
    {
     "name": "stdout",
     "output_type": "stream",
     "text": [
      "Epoch: 0 [batch 280/418 (66.99%)] \n",
      "\tJacc: 0.000 Hamm: 0.091 DistLoss: 17.575\n"
     ]
    },
    {
     "name": "stderr",
     "output_type": "stream",
     "text": [
      "C:\\Users\\Siloux\\.conda\\envs\\species-id\\lib\\site-packages\\sklearn\\metrics\\_classification.py:1318: UndefinedMetricWarning: Jaccard is ill-defined and being set to 0.0 in labels with no true or predicted samples. Use `zero_division` parameter to control this behavior.\n",
      "  _warn_prf(average, modifier, msg_start, len(result))\n"
     ]
    },
    {
     "name": "stdout",
     "output_type": "stream",
     "text": [
      "Epoch: 0 [batch 290/418 (69.38%)] \n",
      "\tJacc: 0.000 Hamm: 0.091 DistLoss: 17.496\n",
      "Epoch: 0 [batch 300/418 (71.77%)] \n",
      "\tJacc: 0.000 Hamm: 0.091 DistLoss: 17.420\n",
      "Epoch: 0 [batch 310/418 (74.16%)] \n",
      "\tJacc: 0.000 Hamm: 0.091 DistLoss: 17.347\n",
      "Epoch: 0 [batch 320/418 (76.56%)] \n",
      "\tJacc: 0.000 Hamm: 0.091 DistLoss: 17.279\n",
      "Epoch: 0 [batch 330/418 (78.95%)] \n",
      "\tJacc: 0.000 Hamm: 0.091 DistLoss: 17.215\n"
     ]
    },
    {
     "name": "stderr",
     "output_type": "stream",
     "text": [
      "C:\\Users\\Siloux\\.conda\\envs\\species-id\\lib\\site-packages\\sklearn\\metrics\\_classification.py:1318: UndefinedMetricWarning: Jaccard is ill-defined and being set to 0.0 in labels with no true or predicted samples. Use `zero_division` parameter to control this behavior.\n",
      "  _warn_prf(average, modifier, msg_start, len(result))\n"
     ]
    },
    {
     "name": "stdout",
     "output_type": "stream",
     "text": [
      "Epoch: 0 [batch 340/418 (81.34%)] \n",
      "\tJacc: 0.000 Hamm: 0.091 DistLoss: 17.153\n",
      "Epoch: 0 [batch 350/418 (83.73%)] \n",
      "\tJacc: 0.000 Hamm: 0.091 DistLoss: 17.092\n",
      "Epoch: 0 [batch 360/418 (86.12%)] \n",
      "\tJacc: 0.000 Hamm: 0.091 DistLoss: 17.034\n",
      "Epoch: 0 [batch 370/418 (88.52%)] \n",
      "\tJacc: 0.000 Hamm: 0.091 DistLoss: 16.977\n",
      "Epoch: 0 [batch 380/418 (90.91%)] \n",
      "\tJacc: 0.000 Hamm: 0.091 DistLoss: 16.924\n",
      "Epoch: 0 [batch 390/418 (93.30%)] \n",
      "\tJacc: 0.000 Hamm: 0.091 DistLoss: 16.873\n",
      "Epoch: 0 [batch 400/418 (95.69%)] \n",
      "\tJacc: 0.000 Hamm: 0.091 DistLoss: 16.824\n"
     ]
    },
    {
     "name": "stderr",
     "output_type": "stream",
     "text": [
      "C:\\Users\\Siloux\\.conda\\envs\\species-id\\lib\\site-packages\\sklearn\\metrics\\_classification.py:1318: UndefinedMetricWarning: Jaccard is ill-defined and being set to 0.0 in labels with no true or predicted samples. Use `zero_division` parameter to control this behavior.\n",
      "  _warn_prf(average, modifier, msg_start, len(result))\n"
     ]
    },
    {
     "name": "stdout",
     "output_type": "stream",
     "text": [
      "Epoch: 0 [batch 410/418 (98.09%)] \n",
      "\tJacc: 0.000 Hamm: 0.091 DistLoss: 16.774\n",
      "\n",
      "Validation.\n",
      "(3338, 11)\n",
      "\t Precision: 0.0\n",
      "\t Recall: 0.0\n",
      "\t F1: 0.0\n",
      "Epoch: 1 [batch 0/418 (0.00%)] \n",
      "\tJacc: 0.000 Hamm: 0.091 DistLoss: 14.849\n",
      "Epoch: 1 [batch 10/418 (2.39%)] \n",
      "\tJacc: 0.000 Hamm: 0.091 DistLoss: 14.780\n"
     ]
    },
    {
     "name": "stderr",
     "output_type": "stream",
     "text": [
      "C:\\Users\\Siloux\\.conda\\envs\\species-id\\lib\\site-packages\\sklearn\\metrics\\_classification.py:1318: UndefinedMetricWarning: Jaccard is ill-defined and being set to 0.0 in labels with no true or predicted samples. Use `zero_division` parameter to control this behavior.\n",
      "  _warn_prf(average, modifier, msg_start, len(result))\n"
     ]
    },
    {
     "name": "stdout",
     "output_type": "stream",
     "text": [
      "Epoch: 1 [batch 20/418 (4.78%)] \n",
      "\tJacc: 0.000 Hamm: 0.091 DistLoss: 14.739\n",
      "Epoch: 1 [batch 30/418 (7.18%)] \n",
      "\tJacc: 0.000 Hamm: 0.091 DistLoss: 14.707\n"
     ]
    },
    {
     "name": "stderr",
     "output_type": "stream",
     "text": [
      "C:\\Users\\Siloux\\.conda\\envs\\species-id\\lib\\site-packages\\sklearn\\metrics\\_classification.py:1318: UndefinedMetricWarning: Jaccard is ill-defined and being set to 0.0 in labels with no true or predicted samples. Use `zero_division` parameter to control this behavior.\n",
      "  _warn_prf(average, modifier, msg_start, len(result))\n"
     ]
    },
    {
     "name": "stdout",
     "output_type": "stream",
     "text": [
      "Epoch: 1 [batch 40/418 (9.57%)] \n",
      "\tJacc: 0.000 Hamm: 0.091 DistLoss: 14.708\n"
     ]
    },
    {
     "name": "stderr",
     "output_type": "stream",
     "text": [
      "C:\\Users\\Siloux\\.conda\\envs\\species-id\\lib\\site-packages\\sklearn\\metrics\\_classification.py:1318: UndefinedMetricWarning: Jaccard is ill-defined and being set to 0.0 in labels with no true or predicted samples. Use `zero_division` parameter to control this behavior.\n",
      "  _warn_prf(average, modifier, msg_start, len(result))\n"
     ]
    },
    {
     "name": "stdout",
     "output_type": "stream",
     "text": [
      "Epoch: 1 [batch 50/418 (11.96%)] \n",
      "\tJacc: 0.000 Hamm: 0.091 DistLoss: 14.685\n",
      "Epoch: 1 [batch 60/418 (14.35%)] \n",
      "\tJacc: 0.000 Hamm: 0.091 DistLoss: 14.672\n",
      "Epoch: 1 [batch 70/418 (16.75%)] \n",
      "\tJacc: 0.000 Hamm: 0.091 DistLoss: 14.631\n"
     ]
    },
    {
     "name": "stderr",
     "output_type": "stream",
     "text": [
      "C:\\Users\\Siloux\\.conda\\envs\\species-id\\lib\\site-packages\\sklearn\\metrics\\_classification.py:1318: UndefinedMetricWarning: Jaccard is ill-defined and being set to 0.0 in labels with no true or predicted samples. Use `zero_division` parameter to control this behavior.\n",
      "  _warn_prf(average, modifier, msg_start, len(result))\n"
     ]
    },
    {
     "name": "stdout",
     "output_type": "stream",
     "text": [
      "Epoch: 1 [batch 80/418 (19.14%)] \n",
      "\tJacc: 0.000 Hamm: 0.091 DistLoss: 14.600\n"
     ]
    },
    {
     "name": "stderr",
     "output_type": "stream",
     "text": [
      "C:\\Users\\Siloux\\.conda\\envs\\species-id\\lib\\site-packages\\sklearn\\metrics\\_classification.py:1318: UndefinedMetricWarning: Jaccard is ill-defined and being set to 0.0 in labels with no true or predicted samples. Use `zero_division` parameter to control this behavior.\n",
      "  _warn_prf(average, modifier, msg_start, len(result))\n"
     ]
    },
    {
     "name": "stdout",
     "output_type": "stream",
     "text": [
      "Epoch: 1 [batch 90/418 (21.53%)] \n",
      "\tJacc: 0.000 Hamm: 0.091 DistLoss: 14.578\n",
      "Epoch: 1 [batch 100/418 (23.92%)] \n",
      "\tJacc: 0.000 Hamm: 0.091 DistLoss: 14.554\n",
      "Epoch: 1 [batch 110/418 (26.32%)] \n",
      "\tJacc: 0.000 Hamm: 0.091 DistLoss: 14.528\n",
      "Epoch: 1 [batch 120/418 (28.71%)] \n",
      "\tJacc: 0.000 Hamm: 0.091 DistLoss: 14.511\n"
     ]
    },
    {
     "name": "stderr",
     "output_type": "stream",
     "text": [
      "C:\\Users\\Siloux\\.conda\\envs\\species-id\\lib\\site-packages\\sklearn\\metrics\\_classification.py:1318: UndefinedMetricWarning: Jaccard is ill-defined and being set to 0.0 in labels with no true or predicted samples. Use `zero_division` parameter to control this behavior.\n",
      "  _warn_prf(average, modifier, msg_start, len(result))\n"
     ]
    },
    {
     "name": "stdout",
     "output_type": "stream",
     "text": [
      "Epoch: 1 [batch 130/418 (31.10%)] \n",
      "\tJacc: 0.000 Hamm: 0.091 DistLoss: 14.493\n",
      "Epoch: 1 [batch 140/418 (33.49%)] \n",
      "\tJacc: 0.000 Hamm: 0.091 DistLoss: 14.466\n",
      "Epoch: 1 [batch 150/418 (35.89%)] \n",
      "\tJacc: 0.000 Hamm: 0.091 DistLoss: 14.440\n"
     ]
    },
    {
     "name": "stderr",
     "output_type": "stream",
     "text": [
      "C:\\Users\\Siloux\\.conda\\envs\\species-id\\lib\\site-packages\\sklearn\\metrics\\_classification.py:1318: UndefinedMetricWarning: Jaccard is ill-defined and being set to 0.0 in labels with no true or predicted samples. Use `zero_division` parameter to control this behavior.\n",
      "  _warn_prf(average, modifier, msg_start, len(result))\n"
     ]
    },
    {
     "name": "stdout",
     "output_type": "stream",
     "text": [
      "Epoch: 1 [batch 160/418 (38.28%)] \n",
      "\tJacc: 0.000 Hamm: 0.091 DistLoss: 14.419\n"
     ]
    },
    {
     "name": "stderr",
     "output_type": "stream",
     "text": [
      "C:\\Users\\Siloux\\.conda\\envs\\species-id\\lib\\site-packages\\sklearn\\metrics\\_classification.py:1318: UndefinedMetricWarning: Jaccard is ill-defined and being set to 0.0 in labels with no true or predicted samples. Use `zero_division` parameter to control this behavior.\n",
      "  _warn_prf(average, modifier, msg_start, len(result))\n"
     ]
    },
    {
     "name": "stdout",
     "output_type": "stream",
     "text": [
      "Epoch: 1 [batch 170/418 (40.67%)] \n",
      "\tJacc: 0.000 Hamm: 0.091 DistLoss: 14.392\n"
     ]
    },
    {
     "name": "stderr",
     "output_type": "stream",
     "text": [
      "C:\\Users\\Siloux\\.conda\\envs\\species-id\\lib\\site-packages\\sklearn\\metrics\\_classification.py:1318: UndefinedMetricWarning: Jaccard is ill-defined and being set to 0.0 in labels with no true or predicted samples. Use `zero_division` parameter to control this behavior.\n",
      "  _warn_prf(average, modifier, msg_start, len(result))\n"
     ]
    },
    {
     "name": "stdout",
     "output_type": "stream",
     "text": [
      "Epoch: 1 [batch 180/418 (43.06%)] \n",
      "\tJacc: 0.000 Hamm: 0.091 DistLoss: 14.370\n"
     ]
    },
    {
     "name": "stderr",
     "output_type": "stream",
     "text": [
      "C:\\Users\\Siloux\\.conda\\envs\\species-id\\lib\\site-packages\\sklearn\\metrics\\_classification.py:1318: UndefinedMetricWarning: Jaccard is ill-defined and being set to 0.0 in labels with no true or predicted samples. Use `zero_division` parameter to control this behavior.\n",
      "  _warn_prf(average, modifier, msg_start, len(result))\n"
     ]
    },
    {
     "name": "stdout",
     "output_type": "stream",
     "text": [
      "Epoch: 1 [batch 190/418 (45.45%)] \n",
      "\tJacc: 0.000 Hamm: 0.091 DistLoss: 14.338\n"
     ]
    },
    {
     "name": "stderr",
     "output_type": "stream",
     "text": [
      "C:\\Users\\Siloux\\.conda\\envs\\species-id\\lib\\site-packages\\sklearn\\metrics\\_classification.py:1318: UndefinedMetricWarning: Jaccard is ill-defined and being set to 0.0 in labels with no true or predicted samples. Use `zero_division` parameter to control this behavior.\n",
      "  _warn_prf(average, modifier, msg_start, len(result))\n"
     ]
    },
    {
     "name": "stdout",
     "output_type": "stream",
     "text": [
      "Epoch: 1 [batch 200/418 (47.85%)] \n",
      "\tJacc: 0.000 Hamm: 0.091 DistLoss: 14.303\n"
     ]
    },
    {
     "name": "stderr",
     "output_type": "stream",
     "text": [
      "C:\\Users\\Siloux\\.conda\\envs\\species-id\\lib\\site-packages\\sklearn\\metrics\\_classification.py:1318: UndefinedMetricWarning: Jaccard is ill-defined and being set to 0.0 in labels with no true or predicted samples. Use `zero_division` parameter to control this behavior.\n",
      "  _warn_prf(average, modifier, msg_start, len(result))\n"
     ]
    },
    {
     "name": "stdout",
     "output_type": "stream",
     "text": [
      "Epoch: 1 [batch 210/418 (50.24%)] \n",
      "\tJacc: 0.000 Hamm: 0.091 DistLoss: 14.279\n"
     ]
    },
    {
     "name": "stderr",
     "output_type": "stream",
     "text": [
      "C:\\Users\\Siloux\\.conda\\envs\\species-id\\lib\\site-packages\\sklearn\\metrics\\_classification.py:1318: UndefinedMetricWarning: Jaccard is ill-defined and being set to 0.0 in labels with no true or predicted samples. Use `zero_division` parameter to control this behavior.\n",
      "  _warn_prf(average, modifier, msg_start, len(result))\n"
     ]
    },
    {
     "name": "stdout",
     "output_type": "stream",
     "text": [
      "Epoch: 1 [batch 220/418 (52.63%)] \n",
      "\tJacc: 0.000 Hamm: 0.091 DistLoss: 14.255\n",
      "Epoch: 1 [batch 230/418 (55.02%)] \n",
      "\tJacc: 0.000 Hamm: 0.091 DistLoss: 14.234\n"
     ]
    },
    {
     "name": "stderr",
     "output_type": "stream",
     "text": [
      "C:\\Users\\Siloux\\.conda\\envs\\species-id\\lib\\site-packages\\sklearn\\metrics\\_classification.py:1318: UndefinedMetricWarning: Jaccard is ill-defined and being set to 0.0 in labels with no true or predicted samples. Use `zero_division` parameter to control this behavior.\n",
      "  _warn_prf(average, modifier, msg_start, len(result))\n"
     ]
    },
    {
     "name": "stdout",
     "output_type": "stream",
     "text": [
      "Epoch: 1 [batch 240/418 (57.42%)] \n",
      "\tJacc: 0.000 Hamm: 0.091 DistLoss: 14.203\n",
      "Epoch: 1 [batch 250/418 (59.81%)] \n",
      "\tJacc: 0.000 Hamm: 0.091 DistLoss: 14.167\n",
      "Epoch: 1 [batch 260/418 (62.20%)] \n",
      "\tJacc: 0.000 Hamm: 0.091 DistLoss: 14.139\n",
      "Epoch: 1 [batch 270/418 (64.59%)] \n",
      "\tJacc: 0.000 Hamm: 0.091 DistLoss: 14.114\n"
     ]
    },
    {
     "name": "stderr",
     "output_type": "stream",
     "text": [
      "C:\\Users\\Siloux\\.conda\\envs\\species-id\\lib\\site-packages\\sklearn\\metrics\\_classification.py:1318: UndefinedMetricWarning: Jaccard is ill-defined and being set to 0.0 in labels with no true or predicted samples. Use `zero_division` parameter to control this behavior.\n",
      "  _warn_prf(average, modifier, msg_start, len(result))\n"
     ]
    },
    {
     "name": "stdout",
     "output_type": "stream",
     "text": [
      "Epoch: 1 [batch 280/418 (66.99%)] \n",
      "\tJacc: 0.000 Hamm: 0.091 DistLoss: 14.088\n",
      "Epoch: 1 [batch 290/418 (69.38%)] \n",
      "\tJacc: 0.000 Hamm: 0.091 DistLoss: 14.057\n"
     ]
    },
    {
     "name": "stderr",
     "output_type": "stream",
     "text": [
      "C:\\Users\\Siloux\\.conda\\envs\\species-id\\lib\\site-packages\\sklearn\\metrics\\_classification.py:1318: UndefinedMetricWarning: Jaccard is ill-defined and being set to 0.0 in labels with no true or predicted samples. Use `zero_division` parameter to control this behavior.\n",
      "  _warn_prf(average, modifier, msg_start, len(result))\n"
     ]
    },
    {
     "name": "stdout",
     "output_type": "stream",
     "text": [
      "Epoch: 1 [batch 300/418 (71.77%)] \n",
      "\tJacc: 0.000 Hamm: 0.091 DistLoss: 14.026\n"
     ]
    },
    {
     "name": "stderr",
     "output_type": "stream",
     "text": [
      "C:\\Users\\Siloux\\.conda\\envs\\species-id\\lib\\site-packages\\sklearn\\metrics\\_classification.py:1318: UndefinedMetricWarning: Jaccard is ill-defined and being set to 0.0 in labels with no true or predicted samples. Use `zero_division` parameter to control this behavior.\n",
      "  _warn_prf(average, modifier, msg_start, len(result))\n"
     ]
    },
    {
     "name": "stdout",
     "output_type": "stream",
     "text": [
      "Epoch: 1 [batch 310/418 (74.16%)] \n",
      "\tJacc: 0.000 Hamm: 0.091 DistLoss: 13.998\n",
      "Epoch: 1 [batch 320/418 (76.56%)] \n",
      "\tJacc: 0.000 Hamm: 0.091 DistLoss: 13.967\n"
     ]
    },
    {
     "name": "stderr",
     "output_type": "stream",
     "text": [
      "C:\\Users\\Siloux\\.conda\\envs\\species-id\\lib\\site-packages\\sklearn\\metrics\\_classification.py:1318: UndefinedMetricWarning: Jaccard is ill-defined and being set to 0.0 in labels with no true or predicted samples. Use `zero_division` parameter to control this behavior.\n",
      "  _warn_prf(average, modifier, msg_start, len(result))\n"
     ]
    },
    {
     "name": "stdout",
     "output_type": "stream",
     "text": [
      "Epoch: 1 [batch 330/418 (78.95%)] \n",
      "\tJacc: 0.023 Hamm: 0.088 DistLoss: 13.940\n"
     ]
    },
    {
     "name": "stderr",
     "output_type": "stream",
     "text": [
      "C:\\Users\\Siloux\\.conda\\envs\\species-id\\lib\\site-packages\\sklearn\\metrics\\_classification.py:1318: UndefinedMetricWarning: Jaccard is ill-defined and being set to 0.0 in labels with no true or predicted samples. Use `zero_division` parameter to control this behavior.\n",
      "  _warn_prf(average, modifier, msg_start, len(result))\n"
     ]
    },
    {
     "name": "stdout",
     "output_type": "stream",
     "text": [
      "Epoch: 1 [batch 340/418 (81.34%)] \n",
      "\tJacc: 0.030 Hamm: 0.088 DistLoss: 13.913\n",
      "Epoch: 1 [batch 350/418 (83.73%)] \n",
      "\tJacc: 0.000 Hamm: 0.091 DistLoss: 13.884\n"
     ]
    },
    {
     "name": "stderr",
     "output_type": "stream",
     "text": [
      "C:\\Users\\Siloux\\.conda\\envs\\species-id\\lib\\site-packages\\sklearn\\metrics\\_classification.py:1318: UndefinedMetricWarning: Jaccard is ill-defined and being set to 0.0 in labels with no true or predicted samples. Use `zero_division` parameter to control this behavior.\n",
      "  _warn_prf(average, modifier, msg_start, len(result))\n"
     ]
    },
    {
     "name": "stdout",
     "output_type": "stream",
     "text": [
      "Epoch: 1 [batch 360/418 (86.12%)] \n",
      "\tJacc: 0.000 Hamm: 0.091 DistLoss: 13.858\n"
     ]
    },
    {
     "name": "stderr",
     "output_type": "stream",
     "text": [
      "C:\\Users\\Siloux\\.conda\\envs\\species-id\\lib\\site-packages\\sklearn\\metrics\\_classification.py:1318: UndefinedMetricWarning: Jaccard is ill-defined and being set to 0.0 in labels with no true or predicted samples. Use `zero_division` parameter to control this behavior.\n",
      "  _warn_prf(average, modifier, msg_start, len(result))\n"
     ]
    },
    {
     "name": "stdout",
     "output_type": "stream",
     "text": [
      "Epoch: 1 [batch 370/418 (88.52%)] \n",
      "\tJacc: 0.023 Hamm: 0.088 DistLoss: 13.829\n",
      "Epoch: 1 [batch 380/418 (90.91%)] \n",
      "\tJacc: 0.109 Hamm: 0.085 DistLoss: 13.799\n",
      "Epoch: 1 [batch 390/418 (93.30%)] \n",
      "\tJacc: 0.000 Hamm: 0.091 DistLoss: 13.762\n",
      "Epoch: 1 [batch 400/418 (95.69%)] \n",
      "\tJacc: 0.041 Hamm: 0.085 DistLoss: 13.725\n",
      "Epoch: 1 [batch 410/418 (98.09%)] \n",
      "\tJacc: 0.053 Hamm: 0.082 DistLoss: 13.695\n"
     ]
    },
    {
     "name": "stderr",
     "output_type": "stream",
     "text": [
      "C:\\Users\\Siloux\\.conda\\envs\\species-id\\lib\\site-packages\\sklearn\\metrics\\_classification.py:1318: UndefinedMetricWarning: Jaccard is ill-defined and being set to 0.0 in labels with no true or predicted samples. Use `zero_division` parameter to control this behavior.\n",
      "  _warn_prf(average, modifier, msg_start, len(result))\n"
     ]
    },
    {
     "name": "stdout",
     "output_type": "stream",
     "text": [
      "\n",
      "Validation.\n",
      "(3338, 11)\n",
      "\t Precision: 0.44541555909976965\n",
      "\t Recall: 0.08142532930934185\n",
      "\t F1: 0.12414455620639699\n",
      "Updating best model\n",
      "Epoch: 2 [batch 0/418 (0.00%)] \n",
      "\tJacc: 0.127 Hamm: 0.082 DistLoss: 12.310\n",
      "Epoch: 2 [batch 10/418 (2.39%)] \n",
      "\tJacc: 0.000 Hamm: 0.091 DistLoss: 12.384\n",
      "Epoch: 2 [batch 20/418 (4.78%)] \n",
      "\tJacc: 0.053 Hamm: 0.088 DistLoss: 12.317\n",
      "Epoch: 2 [batch 30/418 (7.18%)] \n",
      "\tJacc: 0.030 Hamm: 0.088 DistLoss: 12.302\n"
     ]
    },
    {
     "name": "stderr",
     "output_type": "stream",
     "text": [
      "C:\\Users\\Siloux\\.conda\\envs\\species-id\\lib\\site-packages\\sklearn\\metrics\\_classification.py:1318: UndefinedMetricWarning: Jaccard is ill-defined and being set to 0.0 in labels with no true or predicted samples. Use `zero_division` parameter to control this behavior.\n",
      "  _warn_prf(average, modifier, msg_start, len(result))\n"
     ]
    },
    {
     "name": "stdout",
     "output_type": "stream",
     "text": [
      "Epoch: 2 [batch 40/418 (9.57%)] \n",
      "\tJacc: 0.023 Hamm: 0.088 DistLoss: 12.306\n",
      "Epoch: 2 [batch 50/418 (11.96%)] \n",
      "\tJacc: 0.167 Hamm: 0.077 DistLoss: 12.221\n",
      "Epoch: 2 [batch 60/418 (14.35%)] \n",
      "\tJacc: 0.079 Hamm: 0.082 DistLoss: 12.152\n"
     ]
    },
    {
     "name": "stderr",
     "output_type": "stream",
     "text": [
      "C:\\Users\\Siloux\\.conda\\envs\\species-id\\lib\\site-packages\\sklearn\\metrics\\_classification.py:1318: UndefinedMetricWarning: Jaccard is ill-defined and being set to 0.0 in labels with no true or predicted samples. Use `zero_division` parameter to control this behavior.\n",
      "  _warn_prf(average, modifier, msg_start, len(result))\n"
     ]
    },
    {
     "name": "stdout",
     "output_type": "stream",
     "text": [
      "Epoch: 2 [batch 70/418 (16.75%)] \n",
      "\tJacc: 0.118 Hamm: 0.074 DistLoss: 12.065\n",
      "Epoch: 2 [batch 80/418 (19.14%)] \n",
      "\tJacc: 0.082 Hamm: 0.082 DistLoss: 12.084\n"
     ]
    },
    {
     "name": "stderr",
     "output_type": "stream",
     "text": [
      "C:\\Users\\Siloux\\.conda\\envs\\species-id\\lib\\site-packages\\sklearn\\metrics\\_classification.py:1318: UndefinedMetricWarning: Jaccard is ill-defined and being set to 0.0 in labels with no true or predicted samples. Use `zero_division` parameter to control this behavior.\n",
      "  _warn_prf(average, modifier, msg_start, len(result))\n"
     ]
    },
    {
     "name": "stdout",
     "output_type": "stream",
     "text": [
      "Epoch: 2 [batch 90/418 (21.53%)] \n",
      "\tJacc: 0.140 Hamm: 0.080 DistLoss: 12.052\n"
     ]
    },
    {
     "name": "stderr",
     "output_type": "stream",
     "text": [
      "C:\\Users\\Siloux\\.conda\\envs\\species-id\\lib\\site-packages\\sklearn\\metrics\\_classification.py:1318: UndefinedMetricWarning: Jaccard is ill-defined and being set to 0.0 in labels with no true or predicted samples. Use `zero_division` parameter to control this behavior.\n",
      "  _warn_prf(average, modifier, msg_start, len(result))\n"
     ]
    },
    {
     "name": "stdout",
     "output_type": "stream",
     "text": [
      "Epoch: 2 [batch 100/418 (23.92%)] \n",
      "\tJacc: 0.153 Hamm: 0.068 DistLoss: 12.009\n"
     ]
    },
    {
     "name": "stderr",
     "output_type": "stream",
     "text": [
      "C:\\Users\\Siloux\\.conda\\envs\\species-id\\lib\\site-packages\\sklearn\\metrics\\_classification.py:1318: UndefinedMetricWarning: Jaccard is ill-defined and being set to 0.0 in labels with no true or predicted samples. Use `zero_division` parameter to control this behavior.\n",
      "  _warn_prf(average, modifier, msg_start, len(result))\n"
     ]
    },
    {
     "name": "stdout",
     "output_type": "stream",
     "text": [
      "Epoch: 2 [batch 110/418 (26.32%)] \n",
      "\tJacc: 0.152 Hamm: 0.077 DistLoss: 11.944\n",
      "Epoch: 2 [batch 120/418 (28.71%)] \n",
      "\tJacc: 0.136 Hamm: 0.080 DistLoss: 11.937\n"
     ]
    },
    {
     "name": "stderr",
     "output_type": "stream",
     "text": [
      "C:\\Users\\Siloux\\.conda\\envs\\species-id\\lib\\site-packages\\sklearn\\metrics\\_classification.py:1318: UndefinedMetricWarning: Jaccard is ill-defined and being set to 0.0 in labels with no true or predicted samples. Use `zero_division` parameter to control this behavior.\n",
      "  _warn_prf(average, modifier, msg_start, len(result))\n"
     ]
    },
    {
     "name": "stdout",
     "output_type": "stream",
     "text": [
      "Epoch: 2 [batch 130/418 (31.10%)] \n",
      "\tJacc: 0.136 Hamm: 0.082 DistLoss: 11.944\n",
      "Epoch: 2 [batch 140/418 (33.49%)] \n",
      "\tJacc: 0.212 Hamm: 0.077 DistLoss: 11.918\n"
     ]
    },
    {
     "name": "stderr",
     "output_type": "stream",
     "text": [
      "C:\\Users\\Siloux\\.conda\\envs\\species-id\\lib\\site-packages\\sklearn\\metrics\\_classification.py:1318: UndefinedMetricWarning: Jaccard is ill-defined and being set to 0.0 in labels with no true or predicted samples. Use `zero_division` parameter to control this behavior.\n",
      "  _warn_prf(average, modifier, msg_start, len(result))\n"
     ]
    },
    {
     "name": "stdout",
     "output_type": "stream",
     "text": [
      "Epoch: 2 [batch 150/418 (35.89%)] \n",
      "\tJacc: 0.108 Hamm: 0.077 DistLoss: 11.888\n",
      "Epoch: 2 [batch 160/418 (38.28%)] \n",
      "\tJacc: 0.091 Hamm: 0.080 DistLoss: 11.846\n",
      "Epoch: 2 [batch 170/418 (40.67%)] \n",
      "\tJacc: 0.145 Hamm: 0.074 DistLoss: 11.809\n"
     ]
    },
    {
     "name": "stderr",
     "output_type": "stream",
     "text": [
      "C:\\Users\\Siloux\\.conda\\envs\\species-id\\lib\\site-packages\\sklearn\\metrics\\_classification.py:1318: UndefinedMetricWarning: Jaccard is ill-defined and being set to 0.0 in labels with no true or predicted samples. Use `zero_division` parameter to control this behavior.\n",
      "  _warn_prf(average, modifier, msg_start, len(result))\n"
     ]
    },
    {
     "name": "stdout",
     "output_type": "stream",
     "text": [
      "Epoch: 2 [batch 180/418 (43.06%)] \n",
      "\tJacc: 0.212 Hamm: 0.074 DistLoss: 11.757\n",
      "Epoch: 2 [batch 190/418 (45.45%)] \n",
      "\tJacc: 0.167 Hamm: 0.074 DistLoss: 11.727\n"
     ]
    },
    {
     "name": "stderr",
     "output_type": "stream",
     "text": [
      "C:\\Users\\Siloux\\.conda\\envs\\species-id\\lib\\site-packages\\sklearn\\metrics\\_classification.py:1318: UndefinedMetricWarning: Jaccard is ill-defined and being set to 0.0 in labels with no true or predicted samples. Use `zero_division` parameter to control this behavior.\n",
      "  _warn_prf(average, modifier, msg_start, len(result))\n"
     ]
    },
    {
     "name": "stdout",
     "output_type": "stream",
     "text": [
      "Epoch: 2 [batch 200/418 (47.85%)] \n",
      "\tJacc: 0.212 Hamm: 0.077 DistLoss: 11.713\n"
     ]
    },
    {
     "name": "stderr",
     "output_type": "stream",
     "text": [
      "C:\\Users\\Siloux\\.conda\\envs\\species-id\\lib\\site-packages\\sklearn\\metrics\\_classification.py:1318: UndefinedMetricWarning: Jaccard is ill-defined and being set to 0.0 in labels with no true or predicted samples. Use `zero_division` parameter to control this behavior.\n",
      "  _warn_prf(average, modifier, msg_start, len(result))\n"
     ]
    },
    {
     "name": "stdout",
     "output_type": "stream",
     "text": [
      "Epoch: 2 [batch 210/418 (50.24%)] \n",
      "\tJacc: 0.182 Hamm: 0.077 DistLoss: 11.675\n"
     ]
    },
    {
     "name": "stderr",
     "output_type": "stream",
     "text": [
      "C:\\Users\\Siloux\\.conda\\envs\\species-id\\lib\\site-packages\\sklearn\\metrics\\_classification.py:1318: UndefinedMetricWarning: Jaccard is ill-defined and being set to 0.0 in labels with no true or predicted samples. Use `zero_division` parameter to control this behavior.\n",
      "  _warn_prf(average, modifier, msg_start, len(result))\n"
     ]
    },
    {
     "name": "stdout",
     "output_type": "stream",
     "text": [
      "Epoch: 2 [batch 220/418 (52.63%)] \n",
      "\tJacc: 0.318 Hamm: 0.068 DistLoss: 11.635\n",
      "Epoch: 2 [batch 230/418 (55.02%)] \n",
      "\tJacc: 0.227 Hamm: 0.068 DistLoss: 11.604\n",
      "Epoch: 2 [batch 240/418 (57.42%)] \n",
      "\tJacc: 0.136 Hamm: 0.080 DistLoss: 11.577\n"
     ]
    },
    {
     "name": "stderr",
     "output_type": "stream",
     "text": [
      "C:\\Users\\Siloux\\.conda\\envs\\species-id\\lib\\site-packages\\sklearn\\metrics\\_classification.py:1318: UndefinedMetricWarning: Jaccard is ill-defined and being set to 0.0 in labels with no true or predicted samples. Use `zero_division` parameter to control this behavior.\n",
      "  _warn_prf(average, modifier, msg_start, len(result))\n"
     ]
    },
    {
     "name": "stdout",
     "output_type": "stream",
     "text": [
      "Epoch: 2 [batch 250/418 (59.81%)] \n",
      "\tJacc: 0.218 Hamm: 0.071 DistLoss: 11.558\n",
      "Epoch: 2 [batch 260/418 (62.20%)] \n",
      "\tJacc: 0.233 Hamm: 0.071 DistLoss: 11.522\n",
      "Epoch: 2 [batch 270/418 (64.59%)] \n",
      "\tJacc: 0.141 Hamm: 0.074 DistLoss: 11.494\n"
     ]
    },
    {
     "name": "stderr",
     "output_type": "stream",
     "text": [
      "C:\\Users\\Siloux\\.conda\\envs\\species-id\\lib\\site-packages\\sklearn\\metrics\\_classification.py:1318: UndefinedMetricWarning: Jaccard is ill-defined and being set to 0.0 in labels with no true or predicted samples. Use `zero_division` parameter to control this behavior.\n",
      "  _warn_prf(average, modifier, msg_start, len(result))\n"
     ]
    },
    {
     "name": "stdout",
     "output_type": "stream",
     "text": [
      "Epoch: 2 [batch 280/418 (66.99%)] \n",
      "\tJacc: 0.195 Hamm: 0.071 DistLoss: 11.460\n",
      "Epoch: 2 [batch 290/418 (69.38%)] \n",
      "\tJacc: 0.121 Hamm: 0.080 DistLoss: 11.437\n",
      "Epoch: 2 [batch 300/418 (71.77%)] \n",
      "\tJacc: 0.132 Hamm: 0.082 DistLoss: 11.408\n",
      "Epoch: 2 [batch 310/418 (74.16%)] \n",
      "\tJacc: 0.174 Hamm: 0.074 DistLoss: 11.374\n",
      "Epoch: 2 [batch 320/418 (76.56%)] \n",
      "\tJacc: 0.125 Hamm: 0.077 DistLoss: 11.343\n"
     ]
    },
    {
     "name": "stderr",
     "output_type": "stream",
     "text": [
      "C:\\Users\\Siloux\\.conda\\envs\\species-id\\lib\\site-packages\\sklearn\\metrics\\_classification.py:1318: UndefinedMetricWarning: Jaccard is ill-defined and being set to 0.0 in labels with no true or predicted samples. Use `zero_division` parameter to control this behavior.\n",
      "  _warn_prf(average, modifier, msg_start, len(result))\n"
     ]
    },
    {
     "name": "stdout",
     "output_type": "stream",
     "text": [
      "Epoch: 2 [batch 330/418 (78.95%)] \n",
      "\tJacc: 0.220 Hamm: 0.062 DistLoss: 11.303\n"
     ]
    },
    {
     "name": "stderr",
     "output_type": "stream",
     "text": [
      "C:\\Users\\Siloux\\.conda\\envs\\species-id\\lib\\site-packages\\sklearn\\metrics\\_classification.py:1318: UndefinedMetricWarning: Jaccard is ill-defined and being set to 0.0 in labels with no true or predicted samples. Use `zero_division` parameter to control this behavior.\n",
      "  _warn_prf(average, modifier, msg_start, len(result))\n"
     ]
    },
    {
     "name": "stdout",
     "output_type": "stream",
     "text": [
      "Epoch: 2 [batch 340/418 (81.34%)] \n",
      "\tJacc: 0.294 Hamm: 0.062 DistLoss: 11.272\n",
      "Epoch: 2 [batch 350/418 (83.73%)] \n",
      "\tJacc: 0.114 Hamm: 0.085 DistLoss: 11.262\n",
      "Epoch: 2 [batch 360/418 (86.12%)] \n",
      "\tJacc: 0.183 Hamm: 0.074 DistLoss: 11.228\n"
     ]
    },
    {
     "name": "stderr",
     "output_type": "stream",
     "text": [
      "C:\\Users\\Siloux\\.conda\\envs\\species-id\\lib\\site-packages\\sklearn\\metrics\\_classification.py:1318: UndefinedMetricWarning: Jaccard is ill-defined and being set to 0.0 in labels with no true or predicted samples. Use `zero_division` parameter to control this behavior.\n",
      "  _warn_prf(average, modifier, msg_start, len(result))\n"
     ]
    },
    {
     "name": "stdout",
     "output_type": "stream",
     "text": [
      "Epoch: 2 [batch 370/418 (88.52%)] \n",
      "\tJacc: 0.273 Hamm: 0.068 DistLoss: 11.204\n",
      "Epoch: 2 [batch 380/418 (90.91%)] \n",
      "\tJacc: 0.233 Hamm: 0.071 DistLoss: 11.184\n",
      "Epoch: 2 [batch 390/418 (93.30%)] \n",
      "\tJacc: 0.329 Hamm: 0.071 DistLoss: 11.147\n",
      "Epoch: 2 [batch 400/418 (95.69%)] \n",
      "\tJacc: 0.173 Hamm: 0.074 DistLoss: 11.126\n"
     ]
    },
    {
     "name": "stderr",
     "output_type": "stream",
     "text": [
      "C:\\Users\\Siloux\\.conda\\envs\\species-id\\lib\\site-packages\\sklearn\\metrics\\_classification.py:1318: UndefinedMetricWarning: Jaccard is ill-defined and being set to 0.0 in labels with no true or predicted samples. Use `zero_division` parameter to control this behavior.\n",
      "  _warn_prf(average, modifier, msg_start, len(result))\n"
     ]
    },
    {
     "name": "stdout",
     "output_type": "stream",
     "text": [
      "Epoch: 2 [batch 410/418 (98.09%)] \n",
      "\tJacc: 0.427 Hamm: 0.068 DistLoss: 11.104\n"
     ]
    },
    {
     "name": "stderr",
     "output_type": "stream",
     "text": [
      "C:\\Users\\Siloux\\.conda\\envs\\species-id\\lib\\site-packages\\sklearn\\metrics\\_classification.py:1318: UndefinedMetricWarning: Jaccard is ill-defined and being set to 0.0 in labels with no true or predicted samples. Use `zero_division` parameter to control this behavior.\n",
      "  _warn_prf(average, modifier, msg_start, len(result))\n"
     ]
    },
    {
     "name": "stdout",
     "output_type": "stream",
     "text": [
      "\n",
      "Validation.\n",
      "(3338, 11)\n",
      "\t Precision: 0.6672320951683562\n",
      "\t Recall: 0.29037366152808064\n",
      "\t F1: 0.3842528477563148\n",
      "Updating best model\n",
      "Epoch: 3 [batch 0/418 (0.00%)] \n",
      "\tJacc: 0.252 Hamm: 0.071 DistLoss: 10.446\n",
      "Epoch: 3 [batch 10/418 (2.39%)] \n",
      "\tJacc: 0.295 Hamm: 0.060 DistLoss: 9.954\n"
     ]
    },
    {
     "name": "stderr",
     "output_type": "stream",
     "text": [
      "C:\\Users\\Siloux\\.conda\\envs\\species-id\\lib\\site-packages\\sklearn\\metrics\\_classification.py:1318: UndefinedMetricWarning: Jaccard is ill-defined and being set to 0.0 in labels with no true or predicted samples. Use `zero_division` parameter to control this behavior.\n",
      "  _warn_prf(average, modifier, msg_start, len(result))\n"
     ]
    },
    {
     "name": "stdout",
     "output_type": "stream",
     "text": [
      "Epoch: 3 [batch 20/418 (4.78%)] \n",
      "\tJacc: 0.427 Hamm: 0.060 DistLoss: 9.794\n",
      "Epoch: 3 [batch 30/418 (7.18%)] \n",
      "\tJacc: 0.177 Hamm: 0.077 DistLoss: 9.898\n"
     ]
    },
    {
     "name": "stderr",
     "output_type": "stream",
     "text": [
      "C:\\Users\\Siloux\\.conda\\envs\\species-id\\lib\\site-packages\\sklearn\\metrics\\_classification.py:1318: UndefinedMetricWarning: Jaccard is ill-defined and being set to 0.0 in labels with no true or predicted samples. Use `zero_division` parameter to control this behavior.\n",
      "  _warn_prf(average, modifier, msg_start, len(result))\n"
     ]
    },
    {
     "name": "stdout",
     "output_type": "stream",
     "text": [
      "Epoch: 3 [batch 40/418 (9.57%)] \n",
      "\tJacc: 0.380 Hamm: 0.062 DistLoss: 9.874\n",
      "Epoch: 3 [batch 50/418 (11.96%)] \n",
      "\tJacc: 0.200 Hamm: 0.074 DistLoss: 9.779\n",
      "Epoch: 3 [batch 60/418 (14.35%)] \n",
      "\tJacc: 0.311 Hamm: 0.071 DistLoss: 9.797\n",
      "Epoch: 3 [batch 70/418 (16.75%)] \n",
      "\tJacc: 0.358 Hamm: 0.065 DistLoss: 9.778\n",
      "Epoch: 3 [batch 80/418 (19.14%)] \n",
      "\tJacc: 0.510 Hamm: 0.057 DistLoss: 9.775\n",
      "Epoch: 3 [batch 90/418 (21.53%)] \n",
      "\tJacc: 0.308 Hamm: 0.060 DistLoss: 9.772\n",
      "Epoch: 3 [batch 100/418 (23.92%)] \n",
      "\tJacc: 0.427 Hamm: 0.060 DistLoss: 9.743\n"
     ]
    },
    {
     "name": "stderr",
     "output_type": "stream",
     "text": [
      "C:\\Users\\Siloux\\.conda\\envs\\species-id\\lib\\site-packages\\sklearn\\metrics\\_classification.py:1318: UndefinedMetricWarning: Jaccard is ill-defined and being set to 0.0 in labels with no true or predicted samples. Use `zero_division` parameter to control this behavior.\n",
      "  _warn_prf(average, modifier, msg_start, len(result))\n"
     ]
    },
    {
     "name": "stdout",
     "output_type": "stream",
     "text": [
      "Epoch: 3 [batch 110/418 (26.32%)] \n",
      "\tJacc: 0.250 Hamm: 0.062 DistLoss: 9.774\n",
      "Epoch: 3 [batch 120/418 (28.71%)] \n",
      "\tJacc: 0.229 Hamm: 0.071 DistLoss: 9.736\n",
      "Epoch: 3 [batch 130/418 (31.10%)] \n",
      "\tJacc: 0.231 Hamm: 0.068 DistLoss: 9.752\n"
     ]
    },
    {
     "name": "stderr",
     "output_type": "stream",
     "text": [
      "C:\\Users\\Siloux\\.conda\\envs\\species-id\\lib\\site-packages\\sklearn\\metrics\\_classification.py:1318: UndefinedMetricWarning: Jaccard is ill-defined and being set to 0.0 in labels with no true or predicted samples. Use `zero_division` parameter to control this behavior.\n",
      "  _warn_prf(average, modifier, msg_start, len(result))\n"
     ]
    },
    {
     "name": "stdout",
     "output_type": "stream",
     "text": [
      "Epoch: 3 [batch 140/418 (33.49%)] \n",
      "\tJacc: 0.261 Hamm: 0.065 DistLoss: 9.689\n"
     ]
    },
    {
     "name": "stderr",
     "output_type": "stream",
     "text": [
      "C:\\Users\\Siloux\\.conda\\envs\\species-id\\lib\\site-packages\\sklearn\\metrics\\_classification.py:1318: UndefinedMetricWarning: Jaccard is ill-defined and being set to 0.0 in labels with no true or predicted samples. Use `zero_division` parameter to control this behavior.\n",
      "  _warn_prf(average, modifier, msg_start, len(result))\n"
     ]
    },
    {
     "name": "stdout",
     "output_type": "stream",
     "text": [
      "Epoch: 3 [batch 150/418 (35.89%)] \n",
      "\tJacc: 0.379 Hamm: 0.057 DistLoss: 9.695\n",
      "Epoch: 3 [batch 160/418 (38.28%)] \n",
      "\tJacc: 0.314 Hamm: 0.065 DistLoss: 9.701\n",
      "Epoch: 3 [batch 170/418 (40.67%)] \n",
      "\tJacc: 0.329 Hamm: 0.065 DistLoss: 9.654\n",
      "Epoch: 3 [batch 180/418 (43.06%)] \n",
      "\tJacc: 0.312 Hamm: 0.057 DistLoss: 9.603\n"
     ]
    },
    {
     "name": "stderr",
     "output_type": "stream",
     "text": [
      "C:\\Users\\Siloux\\.conda\\envs\\species-id\\lib\\site-packages\\sklearn\\metrics\\_classification.py:1318: UndefinedMetricWarning: Jaccard is ill-defined and being set to 0.0 in labels with no true or predicted samples. Use `zero_division` parameter to control this behavior.\n",
      "  _warn_prf(average, modifier, msg_start, len(result))\n"
     ]
    },
    {
     "name": "stdout",
     "output_type": "stream",
     "text": [
      "Epoch: 3 [batch 190/418 (45.45%)] \n",
      "\tJacc: 0.377 Hamm: 0.060 DistLoss: 9.587\n",
      "Epoch: 3 [batch 200/418 (47.85%)] \n",
      "\tJacc: 0.436 Hamm: 0.054 DistLoss: 9.568\n",
      "Epoch: 3 [batch 210/418 (50.24%)] \n",
      "\tJacc: 0.256 Hamm: 0.068 DistLoss: 9.534\n"
     ]
    },
    {
     "name": "stderr",
     "output_type": "stream",
     "text": [
      "C:\\Users\\Siloux\\.conda\\envs\\species-id\\lib\\site-packages\\sklearn\\metrics\\_classification.py:1318: UndefinedMetricWarning: Jaccard is ill-defined and being set to 0.0 in labels with no true or predicted samples. Use `zero_division` parameter to control this behavior.\n",
      "  _warn_prf(average, modifier, msg_start, len(result))\n"
     ]
    },
    {
     "name": "stdout",
     "output_type": "stream",
     "text": [
      "Epoch: 3 [batch 220/418 (52.63%)] \n",
      "\tJacc: 0.341 Hamm: 0.065 DistLoss: 9.510\n",
      "Epoch: 3 [batch 230/418 (55.02%)] \n",
      "\tJacc: 0.424 Hamm: 0.062 DistLoss: 9.496\n",
      "Epoch: 3 [batch 240/418 (57.42%)] \n",
      "\tJacc: 0.329 Hamm: 0.065 DistLoss: 9.470\n"
     ]
    },
    {
     "name": "stderr",
     "output_type": "stream",
     "text": [
      "C:\\Users\\Siloux\\.conda\\envs\\species-id\\lib\\site-packages\\sklearn\\metrics\\_classification.py:1318: UndefinedMetricWarning: Jaccard is ill-defined and being set to 0.0 in labels with no true or predicted samples. Use `zero_division` parameter to control this behavior.\n",
      "  _warn_prf(average, modifier, msg_start, len(result))\n"
     ]
    },
    {
     "name": "stdout",
     "output_type": "stream",
     "text": [
      "Epoch: 3 [batch 250/418 (59.81%)] \n",
      "\tJacc: 0.377 Hamm: 0.057 DistLoss: 9.466\n",
      "Epoch: 3 [batch 260/418 (62.20%)] \n",
      "\tJacc: 0.390 Hamm: 0.060 DistLoss: 9.450\n",
      "Epoch: 3 [batch 270/418 (64.59%)] \n",
      "\tJacc: 0.461 Hamm: 0.054 DistLoss: 9.449\n",
      "Epoch: 3 [batch 280/418 (66.99%)] \n",
      "\tJacc: 0.267 Hamm: 0.065 DistLoss: 9.449\n"
     ]
    },
    {
     "name": "stderr",
     "output_type": "stream",
     "text": [
      "C:\\Users\\Siloux\\.conda\\envs\\species-id\\lib\\site-packages\\sklearn\\metrics\\_classification.py:1318: UndefinedMetricWarning: Jaccard is ill-defined and being set to 0.0 in labels with no true or predicted samples. Use `zero_division` parameter to control this behavior.\n",
      "  _warn_prf(average, modifier, msg_start, len(result))\n"
     ]
    },
    {
     "name": "stdout",
     "output_type": "stream",
     "text": [
      "Epoch: 3 [batch 290/418 (69.38%)] \n",
      "\tJacc: 0.319 Hamm: 0.054 DistLoss: 9.427\n"
     ]
    },
    {
     "name": "stderr",
     "output_type": "stream",
     "text": [
      "C:\\Users\\Siloux\\.conda\\envs\\species-id\\lib\\site-packages\\sklearn\\metrics\\_classification.py:1318: UndefinedMetricWarning: Jaccard is ill-defined and being set to 0.0 in labels with no true or predicted samples. Use `zero_division` parameter to control this behavior.\n",
      "  _warn_prf(average, modifier, msg_start, len(result))\n"
     ]
    },
    {
     "name": "stdout",
     "output_type": "stream",
     "text": [
      "Epoch: 3 [batch 300/418 (71.77%)] \n",
      "\tJacc: 0.536 Hamm: 0.051 DistLoss: 9.413\n",
      "Epoch: 3 [batch 310/418 (74.16%)] \n",
      "\tJacc: 0.318 Hamm: 0.068 DistLoss: 9.409\n",
      "Epoch: 3 [batch 320/418 (76.56%)] \n",
      "\tJacc: 0.388 Hamm: 0.051 DistLoss: 9.384\n",
      "Epoch: 3 [batch 330/418 (78.95%)] \n",
      "\tJacc: 0.434 Hamm: 0.060 DistLoss: 9.366\n",
      "Epoch: 3 [batch 340/418 (81.34%)] \n",
      "\tJacc: 0.295 Hamm: 0.062 DistLoss: 9.350\n",
      "Epoch: 3 [batch 350/418 (83.73%)] \n",
      "\tJacc: 0.424 Hamm: 0.057 DistLoss: 9.324\n",
      "Epoch: 3 [batch 360/418 (86.12%)] \n",
      "\tJacc: 0.294 Hamm: 0.062 DistLoss: 9.309\n",
      "Epoch: 3 [batch 370/418 (88.52%)] \n",
      "\tJacc: 0.255 Hamm: 0.068 DistLoss: 9.291\n"
     ]
    },
    {
     "name": "stderr",
     "output_type": "stream",
     "text": [
      "C:\\Users\\Siloux\\.conda\\envs\\species-id\\lib\\site-packages\\sklearn\\metrics\\_classification.py:1318: UndefinedMetricWarning: Jaccard is ill-defined and being set to 0.0 in labels with no true or predicted samples. Use `zero_division` parameter to control this behavior.\n",
      "  _warn_prf(average, modifier, msg_start, len(result))\n"
     ]
    },
    {
     "name": "stdout",
     "output_type": "stream",
     "text": [
      "Epoch: 3 [batch 380/418 (90.91%)] \n",
      "\tJacc: 0.555 Hamm: 0.040 DistLoss: 9.263\n",
      "Epoch: 3 [batch 390/418 (93.30%)] \n",
      "\tJacc: 0.333 Hamm: 0.060 DistLoss: 9.245\n",
      "Epoch: 3 [batch 400/418 (95.69%)] \n",
      "\tJacc: 0.348 Hamm: 0.062 DistLoss: 9.221\n",
      "Epoch: 3 [batch 410/418 (98.09%)] \n",
      "\tJacc: 0.198 Hamm: 0.071 DistLoss: 9.212\n"
     ]
    },
    {
     "name": "stderr",
     "output_type": "stream",
     "text": [
      "C:\\Users\\Siloux\\.conda\\envs\\species-id\\lib\\site-packages\\sklearn\\metrics\\_classification.py:1318: UndefinedMetricWarning: Jaccard is ill-defined and being set to 0.0 in labels with no true or predicted samples. Use `zero_division` parameter to control this behavior.\n",
      "  _warn_prf(average, modifier, msg_start, len(result))\n"
     ]
    },
    {
     "name": "stdout",
     "output_type": "stream",
     "text": [
      "\n",
      "Validation.\n",
      "(3338, 11)\n",
      "\t Precision: 0.6769984732853295\n",
      "\t Recall: 0.4249448042385108\n",
      "\t F1: 0.5152386686177155\n",
      "Updating best model\n",
      "Epoch: 4 [batch 0/418 (0.00%)] \n",
      "\tJacc: 0.356 Hamm: 0.054 DistLoss: 7.782\n"
     ]
    },
    {
     "name": "stderr",
     "output_type": "stream",
     "text": [
      "C:\\Users\\Siloux\\.conda\\envs\\species-id\\lib\\site-packages\\sklearn\\metrics\\_classification.py:1318: UndefinedMetricWarning: Jaccard is ill-defined and being set to 0.0 in labels with no true or predicted samples. Use `zero_division` parameter to control this behavior.\n",
      "  _warn_prf(average, modifier, msg_start, len(result))\n"
     ]
    },
    {
     "name": "stdout",
     "output_type": "stream",
     "text": [
      "Epoch: 4 [batch 10/418 (2.39%)] \n",
      "\tJacc: 0.348 Hamm: 0.065 DistLoss: 8.425\n",
      "Epoch: 4 [batch 20/418 (4.78%)] \n",
      "\tJacc: 0.245 Hamm: 0.074 DistLoss: 8.663\n",
      "Epoch: 4 [batch 30/418 (7.18%)] \n",
      "\tJacc: 0.353 Hamm: 0.057 DistLoss: 8.408\n"
     ]
    },
    {
     "name": "stderr",
     "output_type": "stream",
     "text": [
      "C:\\Users\\Siloux\\.conda\\envs\\species-id\\lib\\site-packages\\sklearn\\metrics\\_classification.py:1318: UndefinedMetricWarning: Jaccard is ill-defined and being set to 0.0 in labels with no true or predicted samples. Use `zero_division` parameter to control this behavior.\n",
      "  _warn_prf(average, modifier, msg_start, len(result))\n"
     ]
    },
    {
     "name": "stdout",
     "output_type": "stream",
     "text": [
      "Epoch: 4 [batch 40/418 (9.57%)] \n",
      "\tJacc: 0.436 Hamm: 0.054 DistLoss: 8.383\n"
     ]
    },
    {
     "name": "stderr",
     "output_type": "stream",
     "text": [
      "C:\\Users\\Siloux\\.conda\\envs\\species-id\\lib\\site-packages\\sklearn\\metrics\\_classification.py:1318: UndefinedMetricWarning: Jaccard is ill-defined and being set to 0.0 in labels with no true or predicted samples. Use `zero_division` parameter to control this behavior.\n",
      "  _warn_prf(average, modifier, msg_start, len(result))\n"
     ]
    },
    {
     "name": "stdout",
     "output_type": "stream",
     "text": [
      "Epoch: 4 [batch 50/418 (11.96%)] \n",
      "\tJacc: 0.269 Hamm: 0.062 DistLoss: 8.370\n"
     ]
    },
    {
     "name": "stderr",
     "output_type": "stream",
     "text": [
      "C:\\Users\\Siloux\\.conda\\envs\\species-id\\lib\\site-packages\\sklearn\\metrics\\_classification.py:1318: UndefinedMetricWarning: Jaccard is ill-defined and being set to 0.0 in labels with no true or predicted samples. Use `zero_division` parameter to control this behavior.\n",
      "  _warn_prf(average, modifier, msg_start, len(result))\n"
     ]
    },
    {
     "name": "stdout",
     "output_type": "stream",
     "text": [
      "Epoch: 4 [batch 60/418 (14.35%)] \n",
      "\tJacc: 0.330 Hamm: 0.051 DistLoss: 8.405\n"
     ]
    },
    {
     "name": "stderr",
     "output_type": "stream",
     "text": [
      "C:\\Users\\Siloux\\.conda\\envs\\species-id\\lib\\site-packages\\sklearn\\metrics\\_classification.py:1318: UndefinedMetricWarning: Jaccard is ill-defined and being set to 0.0 in labels with no true or predicted samples. Use `zero_division` parameter to control this behavior.\n",
      "  _warn_prf(average, modifier, msg_start, len(result))\n"
     ]
    },
    {
     "name": "stdout",
     "output_type": "stream",
     "text": [
      "Epoch: 4 [batch 70/418 (16.75%)] \n",
      "\tJacc: 0.415 Hamm: 0.060 DistLoss: 8.380\n",
      "Epoch: 4 [batch 80/418 (19.14%)] \n",
      "\tJacc: 0.385 Hamm: 0.057 DistLoss: 8.400\n"
     ]
    },
    {
     "name": "stderr",
     "output_type": "stream",
     "text": [
      "C:\\Users\\Siloux\\.conda\\envs\\species-id\\lib\\site-packages\\sklearn\\metrics\\_classification.py:1318: UndefinedMetricWarning: Jaccard is ill-defined and being set to 0.0 in labels with no true or predicted samples. Use `zero_division` parameter to control this behavior.\n",
      "  _warn_prf(average, modifier, msg_start, len(result))\n"
     ]
    },
    {
     "name": "stdout",
     "output_type": "stream",
     "text": [
      "Epoch: 4 [batch 90/418 (21.53%)] \n",
      "\tJacc: 0.270 Hamm: 0.068 DistLoss: 8.359\n",
      "Epoch: 4 [batch 100/418 (23.92%)] \n",
      "\tJacc: 0.365 Hamm: 0.065 DistLoss: 8.336\n",
      "Epoch: 4 [batch 110/418 (26.32%)] \n",
      "\tJacc: 0.512 Hamm: 0.057 DistLoss: 8.340\n",
      "Epoch: 4 [batch 120/418 (28.71%)] \n",
      "\tJacc: 0.423 Hamm: 0.060 DistLoss: 8.319\n",
      "Epoch: 4 [batch 130/418 (31.10%)] \n",
      "\tJacc: 0.506 Hamm: 0.045 DistLoss: 8.296\n"
     ]
    },
    {
     "name": "stderr",
     "output_type": "stream",
     "text": [
      "C:\\Users\\Siloux\\.conda\\envs\\species-id\\lib\\site-packages\\sklearn\\metrics\\_classification.py:1318: UndefinedMetricWarning: Jaccard is ill-defined and being set to 0.0 in labels with no true or predicted samples. Use `zero_division` parameter to control this behavior.\n",
      "  _warn_prf(average, modifier, msg_start, len(result))\n"
     ]
    },
    {
     "name": "stdout",
     "output_type": "stream",
     "text": [
      "Epoch: 4 [batch 140/418 (33.49%)] \n",
      "\tJacc: 0.391 Hamm: 0.054 DistLoss: 8.266\n"
     ]
    },
    {
     "name": "stderr",
     "output_type": "stream",
     "text": [
      "C:\\Users\\Siloux\\.conda\\envs\\species-id\\lib\\site-packages\\sklearn\\metrics\\_classification.py:1318: UndefinedMetricWarning: Jaccard is ill-defined and being set to 0.0 in labels with no true or predicted samples. Use `zero_division` parameter to control this behavior.\n",
      "  _warn_prf(average, modifier, msg_start, len(result))\n"
     ]
    },
    {
     "name": "stdout",
     "output_type": "stream",
     "text": [
      "Epoch: 4 [batch 150/418 (35.89%)] \n",
      "\tJacc: 0.423 Hamm: 0.054 DistLoss: 8.239\n",
      "Epoch: 4 [batch 160/418 (38.28%)] \n",
      "\tJacc: 0.320 Hamm: 0.068 DistLoss: 8.241\n",
      "Epoch: 4 [batch 170/418 (40.67%)] \n",
      "\tJacc: 0.300 Hamm: 0.060 DistLoss: 8.225\n",
      "Epoch: 4 [batch 180/418 (43.06%)] \n",
      "\tJacc: 0.432 Hamm: 0.065 DistLoss: 8.224\n",
      "Epoch: 4 [batch 190/418 (45.45%)] \n",
      "\tJacc: 0.353 Hamm: 0.057 DistLoss: 8.229\n",
      "Epoch: 4 [batch 200/418 (47.85%)] \n",
      "\tJacc: 0.279 Hamm: 0.062 DistLoss: 8.223\n"
     ]
    },
    {
     "name": "stderr",
     "output_type": "stream",
     "text": [
      "C:\\Users\\Siloux\\.conda\\envs\\species-id\\lib\\site-packages\\sklearn\\metrics\\_classification.py:1318: UndefinedMetricWarning: Jaccard is ill-defined and being set to 0.0 in labels with no true or predicted samples. Use `zero_division` parameter to control this behavior.\n",
      "  _warn_prf(average, modifier, msg_start, len(result))\n"
     ]
    },
    {
     "name": "stdout",
     "output_type": "stream",
     "text": [
      "Epoch: 4 [batch 210/418 (50.24%)] \n",
      "\tJacc: 0.370 Hamm: 0.057 DistLoss: 8.217\n",
      "Epoch: 4 [batch 220/418 (52.63%)] \n",
      "\tJacc: 0.420 Hamm: 0.051 DistLoss: 8.186\n"
     ]
    },
    {
     "name": "stderr",
     "output_type": "stream",
     "text": [
      "C:\\Users\\Siloux\\.conda\\envs\\species-id\\lib\\site-packages\\sklearn\\metrics\\_classification.py:1318: UndefinedMetricWarning: Jaccard is ill-defined and being set to 0.0 in labels with no true or predicted samples. Use `zero_division` parameter to control this behavior.\n",
      "  _warn_prf(average, modifier, msg_start, len(result))\n"
     ]
    },
    {
     "name": "stdout",
     "output_type": "stream",
     "text": [
      "Epoch: 4 [batch 230/418 (55.02%)] \n",
      "\tJacc: 0.416 Hamm: 0.054 DistLoss: 8.176\n",
      "Epoch: 4 [batch 240/418 (57.42%)] \n",
      "\tJacc: 0.461 Hamm: 0.060 DistLoss: 8.174\n"
     ]
    },
    {
     "name": "stderr",
     "output_type": "stream",
     "text": [
      "C:\\Users\\Siloux\\.conda\\envs\\species-id\\lib\\site-packages\\sklearn\\metrics\\_classification.py:1318: UndefinedMetricWarning: Jaccard is ill-defined and being set to 0.0 in labels with no true or predicted samples. Use `zero_division` parameter to control this behavior.\n",
      "  _warn_prf(average, modifier, msg_start, len(result))\n"
     ]
    },
    {
     "name": "stdout",
     "output_type": "stream",
     "text": [
      "Epoch: 4 [batch 250/418 (59.81%)] \n",
      "\tJacc: 0.568 Hamm: 0.048 DistLoss: 8.163\n",
      "Epoch: 4 [batch 260/418 (62.20%)] \n",
      "\tJacc: 0.208 Hamm: 0.077 DistLoss: 8.154\n"
     ]
    },
    {
     "name": "stderr",
     "output_type": "stream",
     "text": [
      "C:\\Users\\Siloux\\.conda\\envs\\species-id\\lib\\site-packages\\sklearn\\metrics\\_classification.py:1318: UndefinedMetricWarning: Jaccard is ill-defined and being set to 0.0 in labels with no true or predicted samples. Use `zero_division` parameter to control this behavior.\n",
      "  _warn_prf(average, modifier, msg_start, len(result))\n"
     ]
    },
    {
     "name": "stdout",
     "output_type": "stream",
     "text": [
      "Epoch: 4 [batch 270/418 (64.59%)] \n",
      "\tJacc: 0.389 Hamm: 0.060 DistLoss: 8.137\n",
      "Epoch: 4 [batch 280/418 (66.99%)] \n",
      "\tJacc: 0.374 Hamm: 0.048 DistLoss: 8.113\n",
      "Epoch: 4 [batch 290/418 (69.38%)] \n",
      "\tJacc: 0.585 Hamm: 0.043 DistLoss: 8.100\n",
      "Epoch: 4 [batch 300/418 (71.77%)] \n",
      "\tJacc: 0.432 Hamm: 0.054 DistLoss: 8.088\n"
     ]
    },
    {
     "name": "stderr",
     "output_type": "stream",
     "text": [
      "C:\\Users\\Siloux\\.conda\\envs\\species-id\\lib\\site-packages\\sklearn\\metrics\\_classification.py:1318: UndefinedMetricWarning: Jaccard is ill-defined and being set to 0.0 in labels with no true or predicted samples. Use `zero_division` parameter to control this behavior.\n",
      "  _warn_prf(average, modifier, msg_start, len(result))\n"
     ]
    },
    {
     "name": "stdout",
     "output_type": "stream",
     "text": [
      "Epoch: 4 [batch 310/418 (74.16%)] \n",
      "\tJacc: 0.295 Hamm: 0.065 DistLoss: 8.080\n",
      "Epoch: 4 [batch 320/418 (76.56%)] \n",
      "\tJacc: 0.498 Hamm: 0.048 DistLoss: 8.074\n",
      "Epoch: 4 [batch 330/418 (78.95%)] \n",
      "\tJacc: 0.433 Hamm: 0.057 DistLoss: 8.052\n",
      "Epoch: 4 [batch 340/418 (81.34%)] \n",
      "\tJacc: 0.496 Hamm: 0.054 DistLoss: 8.050\n",
      "Epoch: 4 [batch 350/418 (83.73%)] \n",
      "\tJacc: 0.523 Hamm: 0.051 DistLoss: 8.041\n",
      "Epoch: 4 [batch 360/418 (86.12%)] \n",
      "\tJacc: 0.520 Hamm: 0.051 DistLoss: 8.037\n",
      "Epoch: 4 [batch 370/418 (88.52%)] \n",
      "\tJacc: 0.377 Hamm: 0.054 DistLoss: 8.024\n"
     ]
    },
    {
     "name": "stderr",
     "output_type": "stream",
     "text": [
      "C:\\Users\\Siloux\\.conda\\envs\\species-id\\lib\\site-packages\\sklearn\\metrics\\_classification.py:1318: UndefinedMetricWarning: Jaccard is ill-defined and being set to 0.0 in labels with no true or predicted samples. Use `zero_division` parameter to control this behavior.\n",
      "  _warn_prf(average, modifier, msg_start, len(result))\n"
     ]
    },
    {
     "name": "stdout",
     "output_type": "stream",
     "text": [
      "Epoch: 4 [batch 380/418 (90.91%)] \n",
      "\tJacc: 0.409 Hamm: 0.051 DistLoss: 8.010\n",
      "Epoch: 4 [batch 390/418 (93.30%)] \n",
      "\tJacc: 0.335 Hamm: 0.062 DistLoss: 7.994\n",
      "Epoch: 4 [batch 400/418 (95.69%)] \n",
      "\tJacc: 0.358 Hamm: 0.051 DistLoss: 7.973\n"
     ]
    },
    {
     "name": "stderr",
     "output_type": "stream",
     "text": [
      "C:\\Users\\Siloux\\.conda\\envs\\species-id\\lib\\site-packages\\sklearn\\metrics\\_classification.py:1318: UndefinedMetricWarning: Jaccard is ill-defined and being set to 0.0 in labels with no true or predicted samples. Use `zero_division` parameter to control this behavior.\n",
      "  _warn_prf(average, modifier, msg_start, len(result))\n"
     ]
    },
    {
     "name": "stdout",
     "output_type": "stream",
     "text": [
      "Epoch: 4 [batch 410/418 (98.09%)] \n",
      "\tJacc: 0.487 Hamm: 0.048 DistLoss: 7.957\n",
      "\n",
      "Validation.\n",
      "(3338, 11)\n",
      "\t Precision: 0.8446093966936435\n",
      "\t Recall: 0.4980762863835764\n",
      "\t F1: 0.5841485495103633\n",
      "Saving weights, metrics, and train/valid scores.\n",
      "Updating best model\n",
      "\n",
      "Best Model Appears at Epoch 4 with F1 0.584.\n"
     ]
    }
   ],
   "source": [
    "model.sampler = 'imbalanced'\n",
    "model.train(\n",
    "    train_dataset=train_dataset,\n",
    "    valid_dataset=valid_dataset,\n",
    "    save_path=model_save,\n",
    "    batch_size=32,\n",
    "    save_interval=100,\n",
    "    num_workers=6,\n",
    "    epochs=5\n",
    ")"
   ]
  },
  {
   "cell_type": "markdown",
   "id": "6a6a443c",
   "metadata": {},
   "source": [
    "### Plot the loss"
   ]
  },
  {
   "cell_type": "code",
   "execution_count": 22,
   "id": "bdc8c34f",
   "metadata": {},
   "outputs": [
    {
     "data": {
      "image/png": "[encoded data removed]",
      "text/plain": [
       "<Figure size 432x288 with 1 Axes>"
      ]
     },
     "metadata": {
      "needs_background": "light"
     },
     "output_type": "display_data"
    }
   ],
   "source": [
    "plt.plot(model.loss_hist.keys(),model.loss_hist.values())\n",
    "plt.xlabel('Epoch')\n",
    "plt.ylabel('Loss')\n",
    "plt.title('Plot of Loss vs Epochs')\n",
    "plt.show()"
   ]
  },
  {
   "cell_type": "code",
   "execution_count": 23,
   "id": "d06d288e",
   "metadata": {},
   "outputs": [
    {
     "data": {
      "text/plain": [
       "Resnet18Multiclass(\n",
       "  (network): ResNet(\n",
       "    (conv1): Conv2d(3, 64, kernel_size=(7, 7), stride=(2, 2), padding=(3, 3), bias=False)\n",
       "    (bn1): BatchNorm2d(64, eps=1e-05, momentum=0.1, affine=True, track_running_stats=True)\n",
       "    (relu): ReLU(inplace=True)\n",
       "    (maxpool): MaxPool2d(kernel_size=3, stride=2, padding=1, dilation=1, ceil_mode=False)\n",
       "    (layer1): Sequential(\n",
       "      (0): BasicBlock(\n",
       "        (conv1): Conv2d(64, 64, kernel_size=(3, 3), stride=(1, 1), padding=(1, 1), bias=False)\n",
       "        (bn1): BatchNorm2d(64, eps=1e-05, momentum=0.1, affine=True, track_running_stats=True)\n",
       "        (relu): ReLU(inplace=True)\n",
       "        (conv2): Conv2d(64, 64, kernel_size=(3, 3), stride=(1, 1), padding=(1, 1), bias=False)\n",
       "        (bn2): BatchNorm2d(64, eps=1e-05, momentum=0.1, affine=True, track_running_stats=True)\n",
       "      )\n",
       "      (1): BasicBlock(\n",
       "        (conv1): Conv2d(64, 64, kernel_size=(3, 3), stride=(1, 1), padding=(1, 1), bias=False)\n",
       "        (bn1): BatchNorm2d(64, eps=1e-05, momentum=0.1, affine=True, track_running_stats=True)\n",
       "        (relu): ReLU(inplace=True)\n",
       "        (conv2): Conv2d(64, 64, kernel_size=(3, 3), stride=(1, 1), padding=(1, 1), bias=False)\n",
       "        (bn2): BatchNorm2d(64, eps=1e-05, momentum=0.1, affine=True, track_running_stats=True)\n",
       "      )\n",
       "    )\n",
       "    (layer2): Sequential(\n",
       "      (0): BasicBlock(\n",
       "        (conv1): Conv2d(64, 128, kernel_size=(3, 3), stride=(2, 2), padding=(1, 1), bias=False)\n",
       "        (bn1): BatchNorm2d(128, eps=1e-05, momentum=0.1, affine=True, track_running_stats=True)\n",
       "        (relu): ReLU(inplace=True)\n",
       "        (conv2): Conv2d(128, 128, kernel_size=(3, 3), stride=(1, 1), padding=(1, 1), bias=False)\n",
       "        (bn2): BatchNorm2d(128, eps=1e-05, momentum=0.1, affine=True, track_running_stats=True)\n",
       "        (downsample): Sequential(\n",
       "          (0): Conv2d(64, 128, kernel_size=(1, 1), stride=(2, 2), bias=False)\n",
       "          (1): BatchNorm2d(128, eps=1e-05, momentum=0.1, affine=True, track_running_stats=True)\n",
       "        )\n",
       "      )\n",
       "      (1): BasicBlock(\n",
       "        (conv1): Conv2d(128, 128, kernel_size=(3, 3), stride=(1, 1), padding=(1, 1), bias=False)\n",
       "        (bn1): BatchNorm2d(128, eps=1e-05, momentum=0.1, affine=True, track_running_stats=True)\n",
       "        (relu): ReLU(inplace=True)\n",
       "        (conv2): Conv2d(128, 128, kernel_size=(3, 3), stride=(1, 1), padding=(1, 1), bias=False)\n",
       "        (bn2): BatchNorm2d(128, eps=1e-05, momentum=0.1, affine=True, track_running_stats=True)\n",
       "      )\n",
       "    )\n",
       "    (layer3): Sequential(\n",
       "      (0): BasicBlock(\n",
       "        (conv1): Conv2d(128, 256, kernel_size=(3, 3), stride=(2, 2), padding=(1, 1), bias=False)\n",
       "        (bn1): BatchNorm2d(256, eps=1e-05, momentum=0.1, affine=True, track_running_stats=True)\n",
       "        (relu): ReLU(inplace=True)\n",
       "        (conv2): Conv2d(256, 256, kernel_size=(3, 3), stride=(1, 1), padding=(1, 1), bias=False)\n",
       "        (bn2): BatchNorm2d(256, eps=1e-05, momentum=0.1, affine=True, track_running_stats=True)\n",
       "        (downsample): Sequential(\n",
       "          (0): Conv2d(128, 256, kernel_size=(1, 1), stride=(2, 2), bias=False)\n",
       "          (1): BatchNorm2d(256, eps=1e-05, momentum=0.1, affine=True, track_running_stats=True)\n",
       "        )\n",
       "      )\n",
       "      (1): BasicBlock(\n",
       "        (conv1): Conv2d(256, 256, kernel_size=(3, 3), stride=(1, 1), padding=(1, 1), bias=False)\n",
       "        (bn1): BatchNorm2d(256, eps=1e-05, momentum=0.1, affine=True, track_running_stats=True)\n",
       "        (relu): ReLU(inplace=True)\n",
       "        (conv2): Conv2d(256, 256, kernel_size=(3, 3), stride=(1, 1), padding=(1, 1), bias=False)\n",
       "        (bn2): BatchNorm2d(256, eps=1e-05, momentum=0.1, affine=True, track_running_stats=True)\n",
       "      )\n",
       "    )\n",
       "    (layer4): Sequential(\n",
       "      (0): BasicBlock(\n",
       "        (conv1): Conv2d(256, 512, kernel_size=(3, 3), stride=(2, 2), padding=(1, 1), bias=False)\n",
       "        (bn1): BatchNorm2d(512, eps=1e-05, momentum=0.1, affine=True, track_running_stats=True)\n",
       "        (relu): ReLU(inplace=True)\n",
       "        (conv2): Conv2d(512, 512, kernel_size=(3, 3), stride=(1, 1), padding=(1, 1), bias=False)\n",
       "        (bn2): BatchNorm2d(512, eps=1e-05, momentum=0.1, affine=True, track_running_stats=True)\n",
       "        (downsample): Sequential(\n",
       "          (0): Conv2d(256, 512, kernel_size=(1, 1), stride=(2, 2), bias=False)\n",
       "          (1): BatchNorm2d(512, eps=1e-05, momentum=0.1, affine=True, track_running_stats=True)\n",
       "        )\n",
       "      )\n",
       "      (1): BasicBlock(\n",
       "        (conv1): Conv2d(512, 512, kernel_size=(3, 3), stride=(1, 1), padding=(1, 1), bias=False)\n",
       "        (bn1): BatchNorm2d(512, eps=1e-05, momentum=0.1, affine=True, track_running_stats=True)\n",
       "        (relu): ReLU(inplace=True)\n",
       "        (conv2): Conv2d(512, 512, kernel_size=(3, 3), stride=(1, 1), padding=(1, 1), bias=False)\n",
       "        (bn2): BatchNorm2d(512, eps=1e-05, momentum=0.1, affine=True, track_running_stats=True)\n",
       "      )\n",
       "    )\n",
       "    (avgpool): AdaptiveAvgPool2d(output_size=(1, 1))\n",
       "    (fc): Linear(in_features=512, out_features=11, bias=True)\n",
       "  )\n",
       "  (loss_fn): ResampleLoss()\n",
       ")"
      ]
     },
     "execution_count": 23,
     "metadata": {},
     "output_type": "execute_result"
    }
   ],
   "source": [
    "model"
   ]
  },
  {
   "cell_type": "markdown",
   "id": "f9d20ddc",
   "metadata": {},
   "source": [
    "### Load the best model (based on validation set) and evaluate on test set"
   ]
  },
  {
   "cell_type": "code",
   "execution_count": 24,
   "id": "82fabe8c",
   "metadata": {},
   "outputs": [],
   "source": [
    "#RERUN\n",
    "#model = load_model(model_save + 'model_backup.pt')#'best.model')\n",
    "#model_save\n",
    "#torch.save(model.state_dict(), model_save + \"model_backup.pt\")\n",
    "prediction_dataset = model.train_dataset.sample(n=0)\n",
    "prediction_dataset.augmentation_off()\n",
    "prediction_dataset.df = test_df"
   ]
  },
  {
   "cell_type": "code",
   "execution_count": 25,
   "id": "20f04fa6",
   "metadata": {},
   "outputs": [
    {
     "data": {
      "text/html": [
       "<div>\n",
       "<style scoped>\n",
       "    .dataframe tbody tr th:only-of-type {\n",
       "        vertical-align: middle;\n",
       "    }\n",
       "\n",
       "    .dataframe tbody tr th {\n",
       "        vertical-align: top;\n",
       "    }\n",
       "\n",
       "    .dataframe thead th {\n",
       "        text-align: right;\n",
       "    }\n",
       "</style>\n",
       "<table border=\"1\" class=\"dataframe\">\n",
       "  <thead>\n",
       "    <tr style=\"text-align: right;\">\n",
       "      <th></th>\n",
       "      <th>Xiphorhynchus guttatus</th>\n",
       "      <th>Tolmomyias sulphurescens</th>\n",
       "      <th>Turdus leucomelas</th>\n",
       "      <th>Celeus grammicus</th>\n",
       "      <th>Zonotrichia capensis</th>\n",
       "      <th>Thraupis episcopus</th>\n",
       "      <th>Trogon viridis</th>\n",
       "      <th>Myioborus miniatus</th>\n",
       "      <th>other</th>\n",
       "      <th>Microcerculus marginatus</th>\n",
       "      <th>Ramphastos tucanus</th>\n",
       "    </tr>\n",
       "    <tr>\n",
       "      <th>file</th>\n",
       "      <th></th>\n",
       "      <th></th>\n",
       "      <th></th>\n",
       "      <th></th>\n",
       "      <th></th>\n",
       "      <th></th>\n",
       "      <th></th>\n",
       "      <th></th>\n",
       "      <th></th>\n",
       "      <th></th>\n",
       "      <th></th>\n",
       "    </tr>\n",
       "  </thead>\n",
       "  <tbody>\n",
       "    <tr>\n",
       "      <th>C:/Users/siloux/Desktop/E4E/passive-acoustic-biodiversity/OpenSoundScape/MultiClass Classifier/temp_clips/Testing_Cosmos/XC100864 - Rufous-collared Sparrow - Zonotrichia capensis costaricensis.wav_0.0s_3.0s.wav</th>\n",
       "      <td>0</td>\n",
       "      <td>0</td>\n",
       "      <td>0</td>\n",
       "      <td>0</td>\n",
       "      <td>0</td>\n",
       "      <td>0</td>\n",
       "      <td>0</td>\n",
       "      <td>0</td>\n",
       "      <td>1</td>\n",
       "      <td>0</td>\n",
       "      <td>0</td>\n",
       "    </tr>\n",
       "    <tr>\n",
       "      <th>C:/Users/siloux/Desktop/E4E/passive-acoustic-biodiversity/OpenSoundScape/MultiClass Classifier/temp_clips/Testing_Cosmos/XC100864 - Rufous-collared Sparrow - Zonotrichia capensis costaricensis.wav_3.0s_6.0s.wav</th>\n",
       "      <td>0</td>\n",
       "      <td>0</td>\n",
       "      <td>0</td>\n",
       "      <td>0</td>\n",
       "      <td>0</td>\n",
       "      <td>0</td>\n",
       "      <td>0</td>\n",
       "      <td>0</td>\n",
       "      <td>1</td>\n",
       "      <td>0</td>\n",
       "      <td>0</td>\n",
       "    </tr>\n",
       "    <tr>\n",
       "      <th>C:/Users/siloux/Desktop/E4E/passive-acoustic-biodiversity/OpenSoundScape/MultiClass Classifier/temp_clips/Testing_Cosmos/XC100864 - Rufous-collared Sparrow - Zonotrichia capensis costaricensis.wav_6.0s_9.0s.wav</th>\n",
       "      <td>0</td>\n",
       "      <td>0</td>\n",
       "      <td>0</td>\n",
       "      <td>0</td>\n",
       "      <td>0</td>\n",
       "      <td>0</td>\n",
       "      <td>0</td>\n",
       "      <td>0</td>\n",
       "      <td>1</td>\n",
       "      <td>0</td>\n",
       "      <td>0</td>\n",
       "    </tr>\n",
       "    <tr>\n",
       "      <th>C:/Users/siloux/Desktop/E4E/passive-acoustic-biodiversity/OpenSoundScape/MultiClass Classifier/temp_clips/Testing_Cosmos/XC100864 - Rufous-collared Sparrow - Zonotrichia capensis costaricensis.wav_9.0s_9.299591836734693s.wav</th>\n",
       "      <td>0</td>\n",
       "      <td>0</td>\n",
       "      <td>0</td>\n",
       "      <td>0</td>\n",
       "      <td>0</td>\n",
       "      <td>0</td>\n",
       "      <td>0</td>\n",
       "      <td>0</td>\n",
       "      <td>1</td>\n",
       "      <td>0</td>\n",
       "      <td>0</td>\n",
       "    </tr>\n",
       "    <tr>\n",
       "      <th>C:/Users/siloux/Desktop/E4E/passive-acoustic-biodiversity/OpenSoundScape/MultiClass Classifier/temp_clips/Testing_Cosmos/XC101469 - Pale-breasted Thrush - Turdus leucomelas.wav_0.0s_3.0s.wav</th>\n",
       "      <td>0</td>\n",
       "      <td>0</td>\n",
       "      <td>1</td>\n",
       "      <td>0</td>\n",
       "      <td>0</td>\n",
       "      <td>0</td>\n",
       "      <td>0</td>\n",
       "      <td>0</td>\n",
       "      <td>0</td>\n",
       "      <td>0</td>\n",
       "      <td>0</td>\n",
       "    </tr>\n",
       "    <tr>\n",
       "      <th>...</th>\n",
       "      <td>...</td>\n",
       "      <td>...</td>\n",
       "      <td>...</td>\n",
       "      <td>...</td>\n",
       "      <td>...</td>\n",
       "      <td>...</td>\n",
       "      <td>...</td>\n",
       "      <td>...</td>\n",
       "      <td>...</td>\n",
       "      <td>...</td>\n",
       "      <td>...</td>\n",
       "    </tr>\n",
       "    <tr>\n",
       "      <th>C:/Users/siloux/Desktop/E4E/passive-acoustic-biodiversity/OpenSoundScape/MultiClass Classifier/temp_clips/Testing_Cosmos/XC97542 - Slate-throated Whitestart - Myioborus miniatus.wav_3.0s_4.362448979591837s.wav</th>\n",
       "      <td>0</td>\n",
       "      <td>0</td>\n",
       "      <td>0</td>\n",
       "      <td>0</td>\n",
       "      <td>0</td>\n",
       "      <td>0</td>\n",
       "      <td>0</td>\n",
       "      <td>1</td>\n",
       "      <td>0</td>\n",
       "      <td>0</td>\n",
       "      <td>0</td>\n",
       "    </tr>\n",
       "    <tr>\n",
       "      <th>C:/Users/siloux/Desktop/E4E/passive-acoustic-biodiversity/OpenSoundScape/MultiClass Classifier/temp_clips/Testing_Cosmos/XC9766 - Rufous-collared Sparrow - Zonotrichia capensis.wav_0.0s_3.0s.wav</th>\n",
       "      <td>0</td>\n",
       "      <td>0</td>\n",
       "      <td>0</td>\n",
       "      <td>0</td>\n",
       "      <td>1</td>\n",
       "      <td>0</td>\n",
       "      <td>0</td>\n",
       "      <td>0</td>\n",
       "      <td>0</td>\n",
       "      <td>0</td>\n",
       "      <td>0</td>\n",
       "    </tr>\n",
       "    <tr>\n",
       "      <th>C:/Users/siloux/Desktop/E4E/passive-acoustic-biodiversity/OpenSoundScape/MultiClass Classifier/temp_clips/Testing_Cosmos/XC9766 - Rufous-collared Sparrow - Zonotrichia capensis.wav_3.0s_6.0s.wav</th>\n",
       "      <td>0</td>\n",
       "      <td>0</td>\n",
       "      <td>0</td>\n",
       "      <td>0</td>\n",
       "      <td>1</td>\n",
       "      <td>0</td>\n",
       "      <td>0</td>\n",
       "      <td>0</td>\n",
       "      <td>0</td>\n",
       "      <td>0</td>\n",
       "      <td>0</td>\n",
       "    </tr>\n",
       "    <tr>\n",
       "      <th>C:/Users/siloux/Desktop/E4E/passive-acoustic-biodiversity/OpenSoundScape/MultiClass Classifier/temp_clips/Testing_Cosmos/XC9766 - Rufous-collared Sparrow - Zonotrichia capensis.wav_6.0s_9.0s.wav</th>\n",
       "      <td>0</td>\n",
       "      <td>0</td>\n",
       "      <td>0</td>\n",
       "      <td>0</td>\n",
       "      <td>1</td>\n",
       "      <td>0</td>\n",
       "      <td>0</td>\n",
       "      <td>0</td>\n",
       "      <td>0</td>\n",
       "      <td>0</td>\n",
       "      <td>0</td>\n",
       "    </tr>\n",
       "    <tr>\n",
       "      <th>C:/Users/siloux/Desktop/E4E/passive-acoustic-biodiversity/OpenSoundScape/MultiClass Classifier/temp_clips/Testing_Cosmos/XC9766 - Rufous-collared Sparrow - Zonotrichia capensis.wav_9.0s_11.23265306122449s.wav</th>\n",
       "      <td>0</td>\n",
       "      <td>0</td>\n",
       "      <td>0</td>\n",
       "      <td>0</td>\n",
       "      <td>1</td>\n",
       "      <td>0</td>\n",
       "      <td>0</td>\n",
       "      <td>0</td>\n",
       "      <td>0</td>\n",
       "      <td>0</td>\n",
       "      <td>0</td>\n",
       "    </tr>\n",
       "  </tbody>\n",
       "</table>\n",
       "<p>6974 rows × 11 columns</p>\n",
       "</div>"
      ],
      "text/plain": [
       "                                                    Xiphorhynchus guttatus  \\\n",
       "file                                                                         \n",
       "C:/Users/siloux/Desktop/E4E/passive-acoustic-bi...                       0   \n",
       "C:/Users/siloux/Desktop/E4E/passive-acoustic-bi...                       0   \n",
       "C:/Users/siloux/Desktop/E4E/passive-acoustic-bi...                       0   \n",
       "C:/Users/siloux/Desktop/E4E/passive-acoustic-bi...                       0   \n",
       "C:/Users/siloux/Desktop/E4E/passive-acoustic-bi...                       0   \n",
       "...                                                                    ...   \n",
       "C:/Users/siloux/Desktop/E4E/passive-acoustic-bi...                       0   \n",
       "C:/Users/siloux/Desktop/E4E/passive-acoustic-bi...                       0   \n",
       "C:/Users/siloux/Desktop/E4E/passive-acoustic-bi...                       0   \n",
       "C:/Users/siloux/Desktop/E4E/passive-acoustic-bi...                       0   \n",
       "C:/Users/siloux/Desktop/E4E/passive-acoustic-bi...                       0   \n",
       "\n",
       "                                                    Tolmomyias sulphurescens  \\\n",
       "file                                                                           \n",
       "C:/Users/siloux/Desktop/E4E/passive-acoustic-bi...                         0   \n",
       "C:/Users/siloux/Desktop/E4E/passive-acoustic-bi...                         0   \n",
       "C:/Users/siloux/Desktop/E4E/passive-acoustic-bi...                         0   \n",
       "C:/Users/siloux/Desktop/E4E/passive-acoustic-bi...                         0   \n",
       "C:/Users/siloux/Desktop/E4E/passive-acoustic-bi...                         0   \n",
       "...                                                                      ...   \n",
       "C:/Users/siloux/Desktop/E4E/passive-acoustic-bi...                         0   \n",
       "C:/Users/siloux/Desktop/E4E/passive-acoustic-bi...                         0   \n",
       "C:/Users/siloux/Desktop/E4E/passive-acoustic-bi...                         0   \n",
       "C:/Users/siloux/Desktop/E4E/passive-acoustic-bi...                         0   \n",
       "C:/Users/siloux/Desktop/E4E/passive-acoustic-bi...                         0   \n",
       "\n",
       "                                                    Turdus leucomelas  \\\n",
       "file                                                                    \n",
       "C:/Users/siloux/Desktop/E4E/passive-acoustic-bi...                  0   \n",
       "C:/Users/siloux/Desktop/E4E/passive-acoustic-bi...                  0   \n",
       "C:/Users/siloux/Desktop/E4E/passive-acoustic-bi...                  0   \n",
       "C:/Users/siloux/Desktop/E4E/passive-acoustic-bi...                  0   \n",
       "C:/Users/siloux/Desktop/E4E/passive-acoustic-bi...                  1   \n",
       "...                                                               ...   \n",
       "C:/Users/siloux/Desktop/E4E/passive-acoustic-bi...                  0   \n",
       "C:/Users/siloux/Desktop/E4E/passive-acoustic-bi...                  0   \n",
       "C:/Users/siloux/Desktop/E4E/passive-acoustic-bi...                  0   \n",
       "C:/Users/siloux/Desktop/E4E/passive-acoustic-bi...                  0   \n",
       "C:/Users/siloux/Desktop/E4E/passive-acoustic-bi...                  0   \n",
       "\n",
       "                                                    Celeus grammicus  \\\n",
       "file                                                                   \n",
       "C:/Users/siloux/Desktop/E4E/passive-acoustic-bi...                 0   \n",
       "C:/Users/siloux/Desktop/E4E/passive-acoustic-bi...                 0   \n",
       "C:/Users/siloux/Desktop/E4E/passive-acoustic-bi...                 0   \n",
       "C:/Users/siloux/Desktop/E4E/passive-acoustic-bi...                 0   \n",
       "C:/Users/siloux/Desktop/E4E/passive-acoustic-bi...                 0   \n",
       "...                                                              ...   \n",
       "C:/Users/siloux/Desktop/E4E/passive-acoustic-bi...                 0   \n",
       "C:/Users/siloux/Desktop/E4E/passive-acoustic-bi...                 0   \n",
       "C:/Users/siloux/Desktop/E4E/passive-acoustic-bi...                 0   \n",
       "C:/Users/siloux/Desktop/E4E/passive-acoustic-bi...                 0   \n",
       "C:/Users/siloux/Desktop/E4E/passive-acoustic-bi...                 0   \n",
       "\n",
       "                                                    Zonotrichia capensis  \\\n",
       "file                                                                       \n",
       "C:/Users/siloux/Desktop/E4E/passive-acoustic-bi...                     0   \n",
       "C:/Users/siloux/Desktop/E4E/passive-acoustic-bi...                     0   \n",
       "C:/Users/siloux/Desktop/E4E/passive-acoustic-bi...                     0   \n",
       "C:/Users/siloux/Desktop/E4E/passive-acoustic-bi...                     0   \n",
       "C:/Users/siloux/Desktop/E4E/passive-acoustic-bi...                     0   \n",
       "...                                                                  ...   \n",
       "C:/Users/siloux/Desktop/E4E/passive-acoustic-bi...                     0   \n",
       "C:/Users/siloux/Desktop/E4E/passive-acoustic-bi...                     1   \n",
       "C:/Users/siloux/Desktop/E4E/passive-acoustic-bi...                     1   \n",
       "C:/Users/siloux/Desktop/E4E/passive-acoustic-bi...                     1   \n",
       "C:/Users/siloux/Desktop/E4E/passive-acoustic-bi...                     1   \n",
       "\n",
       "                                                    Thraupis episcopus  \\\n",
       "file                                                                     \n",
       "C:/Users/siloux/Desktop/E4E/passive-acoustic-bi...                   0   \n",
       "C:/Users/siloux/Desktop/E4E/passive-acoustic-bi...                   0   \n",
       "C:/Users/siloux/Desktop/E4E/passive-acoustic-bi...                   0   \n",
       "C:/Users/siloux/Desktop/E4E/passive-acoustic-bi...                   0   \n",
       "C:/Users/siloux/Desktop/E4E/passive-acoustic-bi...                   0   \n",
       "...                                                                ...   \n",
       "C:/Users/siloux/Desktop/E4E/passive-acoustic-bi...                   0   \n",
       "C:/Users/siloux/Desktop/E4E/passive-acoustic-bi...                   0   \n",
       "C:/Users/siloux/Desktop/E4E/passive-acoustic-bi...                   0   \n",
       "C:/Users/siloux/Desktop/E4E/passive-acoustic-bi...                   0   \n",
       "C:/Users/siloux/Desktop/E4E/passive-acoustic-bi...                   0   \n",
       "\n",
       "                                                    Trogon viridis  \\\n",
       "file                                                                 \n",
       "C:/Users/siloux/Desktop/E4E/passive-acoustic-bi...               0   \n",
       "C:/Users/siloux/Desktop/E4E/passive-acoustic-bi...               0   \n",
       "C:/Users/siloux/Desktop/E4E/passive-acoustic-bi...               0   \n",
       "C:/Users/siloux/Desktop/E4E/passive-acoustic-bi...               0   \n",
       "C:/Users/siloux/Desktop/E4E/passive-acoustic-bi...               0   \n",
       "...                                                            ...   \n",
       "C:/Users/siloux/Desktop/E4E/passive-acoustic-bi...               0   \n",
       "C:/Users/siloux/Desktop/E4E/passive-acoustic-bi...               0   \n",
       "C:/Users/siloux/Desktop/E4E/passive-acoustic-bi...               0   \n",
       "C:/Users/siloux/Desktop/E4E/passive-acoustic-bi...               0   \n",
       "C:/Users/siloux/Desktop/E4E/passive-acoustic-bi...               0   \n",
       "\n",
       "                                                    Myioborus miniatus  other  \\\n",
       "file                                                                            \n",
       "C:/Users/siloux/Desktop/E4E/passive-acoustic-bi...                   0      1   \n",
       "C:/Users/siloux/Desktop/E4E/passive-acoustic-bi...                   0      1   \n",
       "C:/Users/siloux/Desktop/E4E/passive-acoustic-bi...                   0      1   \n",
       "C:/Users/siloux/Desktop/E4E/passive-acoustic-bi...                   0      1   \n",
       "C:/Users/siloux/Desktop/E4E/passive-acoustic-bi...                   0      0   \n",
       "...                                                                ...    ...   \n",
       "C:/Users/siloux/Desktop/E4E/passive-acoustic-bi...                   1      0   \n",
       "C:/Users/siloux/Desktop/E4E/passive-acoustic-bi...                   0      0   \n",
       "C:/Users/siloux/Desktop/E4E/passive-acoustic-bi...                   0      0   \n",
       "C:/Users/siloux/Desktop/E4E/passive-acoustic-bi...                   0      0   \n",
       "C:/Users/siloux/Desktop/E4E/passive-acoustic-bi...                   0      0   \n",
       "\n",
       "                                                    Microcerculus marginatus  \\\n",
       "file                                                                           \n",
       "C:/Users/siloux/Desktop/E4E/passive-acoustic-bi...                         0   \n",
       "C:/Users/siloux/Desktop/E4E/passive-acoustic-bi...                         0   \n",
       "C:/Users/siloux/Desktop/E4E/passive-acoustic-bi...                         0   \n",
       "C:/Users/siloux/Desktop/E4E/passive-acoustic-bi...                         0   \n",
       "C:/Users/siloux/Desktop/E4E/passive-acoustic-bi...                         0   \n",
       "...                                                                      ...   \n",
       "C:/Users/siloux/Desktop/E4E/passive-acoustic-bi...                         0   \n",
       "C:/Users/siloux/Desktop/E4E/passive-acoustic-bi...                         0   \n",
       "C:/Users/siloux/Desktop/E4E/passive-acoustic-bi...                         0   \n",
       "C:/Users/siloux/Desktop/E4E/passive-acoustic-bi...                         0   \n",
       "C:/Users/siloux/Desktop/E4E/passive-acoustic-bi...                         0   \n",
       "\n",
       "                                                    Ramphastos tucanus  \n",
       "file                                                                    \n",
       "C:/Users/siloux/Desktop/E4E/passive-acoustic-bi...                   0  \n",
       "C:/Users/siloux/Desktop/E4E/passive-acoustic-bi...                   0  \n",
       "C:/Users/siloux/Desktop/E4E/passive-acoustic-bi...                   0  \n",
       "C:/Users/siloux/Desktop/E4E/passive-acoustic-bi...                   0  \n",
       "C:/Users/siloux/Desktop/E4E/passive-acoustic-bi...                   0  \n",
       "...                                                                ...  \n",
       "C:/Users/siloux/Desktop/E4E/passive-acoustic-bi...                   0  \n",
       "C:/Users/siloux/Desktop/E4E/passive-acoustic-bi...                   0  \n",
       "C:/Users/siloux/Desktop/E4E/passive-acoustic-bi...                   0  \n",
       "C:/Users/siloux/Desktop/E4E/passive-acoustic-bi...                   0  \n",
       "C:/Users/siloux/Desktop/E4E/passive-acoustic-bi...                   0  \n",
       "\n",
       "[6974 rows x 11 columns]"
      ]
     },
     "execution_count": 25,
     "metadata": {},
     "output_type": "execute_result"
    }
   ],
   "source": [
    "prediction_dataset.df"
   ]
  },
  {
   "cell_type": "code",
   "execution_count": 26,
   "id": "008b7f61",
   "metadata": {},
   "outputs": [
    {
     "data": {
      "text/plain": [
       "'C:/Users/Siloux/Desktop/E4E/passive-acoustic-biodiversity/OpenSoundScape/MultiClass Classifier/model/automated_cosmos_tweety_to_file_warblar_no_bird_test_4_5_epochs/'"
      ]
     },
     "execution_count": 26,
     "metadata": {},
     "output_type": "execute_result"
    }
   ],
   "source": [
    "model_save"
   ]
  },
  {
   "cell_type": "code",
   "execution_count": 27,
   "id": "7a3462f1",
   "metadata": {},
   "outputs": [],
   "source": [
    "prediction_dataset.df = prediction_dataset.df[list(model.classes)]"
   ]
  },
  {
   "cell_type": "code",
   "execution_count": 28,
   "id": "96a2c2dd",
   "metadata": {},
   "outputs": [
    {
     "data": {
      "text/plain": [
       "['Xiphorhynchus guttatus',\n",
       " 'Tolmomyias sulphurescens',\n",
       " 'Turdus leucomelas',\n",
       " 'Celeus grammicus',\n",
       " 'Zonotrichia capensis',\n",
       " 'Thraupis episcopus',\n",
       " 'Trogon viridis',\n",
       " 'Myioborus miniatus',\n",
       " 'other',\n",
       " 'Microcerculus marginatus',\n",
       " 'Ramphastos tucanus']"
      ]
     },
     "execution_count": 28,
     "metadata": {},
     "output_type": "execute_result"
    }
   ],
   "source": [
    "list(model.classes)"
   ]
  },
  {
   "cell_type": "code",
   "execution_count": 29,
   "id": "61baea49",
   "metadata": {},
   "outputs": [
    {
     "name": "stdout",
     "output_type": "stream",
     "text": [
      "(6974, 11)\n"
     ]
    }
   ],
   "source": [
    "valid_scores_df, valid_preds_df, valid_labels_df = model.predict(prediction_dataset,\n",
    "                                                                 binary_preds='single_target',\n",
    "                                                                 batch_size=16,\n",
    "                                                                 num_workers=6,\n",
    "                                                                 activation_layer='softmax')"
   ]
  },
  {
   "cell_type": "markdown",
   "id": "1fff067d",
   "metadata": {},
   "source": [
    "#### Print various metrics for the test set predictions"
   ]
  },
  {
   "cell_type": "code",
   "execution_count": 30,
   "id": "a31efb37",
   "metadata": {},
   "outputs": [
    {
     "data": {
      "text/html": [
       "<div>\n",
       "<style scoped>\n",
       "    .dataframe tbody tr th:only-of-type {\n",
       "        vertical-align: middle;\n",
       "    }\n",
       "\n",
       "    .dataframe tbody tr th {\n",
       "        vertical-align: top;\n",
       "    }\n",
       "\n",
       "    .dataframe thead th {\n",
       "        text-align: right;\n",
       "    }\n",
       "</style>\n",
       "<table border=\"1\" class=\"dataframe\">\n",
       "  <thead>\n",
       "    <tr style=\"text-align: right;\">\n",
       "      <th></th>\n",
       "      <th>Xiphorhynchus guttatus</th>\n",
       "      <th>Tolmomyias sulphurescens</th>\n",
       "      <th>Turdus leucomelas</th>\n",
       "      <th>Celeus grammicus</th>\n",
       "      <th>Zonotrichia capensis</th>\n",
       "      <th>Thraupis episcopus</th>\n",
       "      <th>Trogon viridis</th>\n",
       "      <th>Myioborus miniatus</th>\n",
       "      <th>other</th>\n",
       "      <th>Microcerculus marginatus</th>\n",
       "      <th>Ramphastos tucanus</th>\n",
       "    </tr>\n",
       "  </thead>\n",
       "  <tbody>\n",
       "    <tr>\n",
       "      <th>C:/Users/siloux/Desktop/E4E/passive-acoustic-biodiversity/OpenSoundScape/MultiClass Classifier/temp_clips/Testing_Cosmos/XC100864 - Rufous-collared Sparrow - Zonotrichia capensis costaricensis.wav_0.0s_3.0s.wav</th>\n",
       "      <td>0</td>\n",
       "      <td>0</td>\n",
       "      <td>0</td>\n",
       "      <td>0</td>\n",
       "      <td>0</td>\n",
       "      <td>0</td>\n",
       "      <td>0</td>\n",
       "      <td>0</td>\n",
       "      <td>1</td>\n",
       "      <td>0</td>\n",
       "      <td>0</td>\n",
       "    </tr>\n",
       "    <tr>\n",
       "      <th>C:/Users/siloux/Desktop/E4E/passive-acoustic-biodiversity/OpenSoundScape/MultiClass Classifier/temp_clips/Testing_Cosmos/XC100864 - Rufous-collared Sparrow - Zonotrichia capensis costaricensis.wav_3.0s_6.0s.wav</th>\n",
       "      <td>0</td>\n",
       "      <td>0</td>\n",
       "      <td>0</td>\n",
       "      <td>0</td>\n",
       "      <td>0</td>\n",
       "      <td>0</td>\n",
       "      <td>0</td>\n",
       "      <td>0</td>\n",
       "      <td>1</td>\n",
       "      <td>0</td>\n",
       "      <td>0</td>\n",
       "    </tr>\n",
       "    <tr>\n",
       "      <th>C:/Users/siloux/Desktop/E4E/passive-acoustic-biodiversity/OpenSoundScape/MultiClass Classifier/temp_clips/Testing_Cosmos/XC100864 - Rufous-collared Sparrow - Zonotrichia capensis costaricensis.wav_6.0s_9.0s.wav</th>\n",
       "      <td>0</td>\n",
       "      <td>0</td>\n",
       "      <td>0</td>\n",
       "      <td>0</td>\n",
       "      <td>0</td>\n",
       "      <td>0</td>\n",
       "      <td>0</td>\n",
       "      <td>0</td>\n",
       "      <td>1</td>\n",
       "      <td>0</td>\n",
       "      <td>0</td>\n",
       "    </tr>\n",
       "    <tr>\n",
       "      <th>C:/Users/siloux/Desktop/E4E/passive-acoustic-biodiversity/OpenSoundScape/MultiClass Classifier/temp_clips/Testing_Cosmos/XC100864 - Rufous-collared Sparrow - Zonotrichia capensis costaricensis.wav_9.0s_9.299591836734693s.wav</th>\n",
       "      <td>0</td>\n",
       "      <td>0</td>\n",
       "      <td>0</td>\n",
       "      <td>0</td>\n",
       "      <td>0</td>\n",
       "      <td>0</td>\n",
       "      <td>0</td>\n",
       "      <td>0</td>\n",
       "      <td>1</td>\n",
       "      <td>0</td>\n",
       "      <td>0</td>\n",
       "    </tr>\n",
       "    <tr>\n",
       "      <th>C:/Users/siloux/Desktop/E4E/passive-acoustic-biodiversity/OpenSoundScape/MultiClass Classifier/temp_clips/Testing_Cosmos/XC101469 - Pale-breasted Thrush - Turdus leucomelas.wav_0.0s_3.0s.wav</th>\n",
       "      <td>0</td>\n",
       "      <td>0</td>\n",
       "      <td>1</td>\n",
       "      <td>0</td>\n",
       "      <td>0</td>\n",
       "      <td>0</td>\n",
       "      <td>0</td>\n",
       "      <td>0</td>\n",
       "      <td>0</td>\n",
       "      <td>0</td>\n",
       "      <td>0</td>\n",
       "    </tr>\n",
       "    <tr>\n",
       "      <th>...</th>\n",
       "      <td>...</td>\n",
       "      <td>...</td>\n",
       "      <td>...</td>\n",
       "      <td>...</td>\n",
       "      <td>...</td>\n",
       "      <td>...</td>\n",
       "      <td>...</td>\n",
       "      <td>...</td>\n",
       "      <td>...</td>\n",
       "      <td>...</td>\n",
       "      <td>...</td>\n",
       "    </tr>\n",
       "    <tr>\n",
       "      <th>C:/Users/siloux/Desktop/E4E/passive-acoustic-biodiversity/OpenSoundScape/MultiClass Classifier/temp_clips/Testing_Cosmos/XC97542 - Slate-throated Whitestart - Myioborus miniatus.wav_3.0s_4.362448979591837s.wav</th>\n",
       "      <td>0</td>\n",
       "      <td>0</td>\n",
       "      <td>0</td>\n",
       "      <td>0</td>\n",
       "      <td>0</td>\n",
       "      <td>0</td>\n",
       "      <td>0</td>\n",
       "      <td>1</td>\n",
       "      <td>0</td>\n",
       "      <td>0</td>\n",
       "      <td>0</td>\n",
       "    </tr>\n",
       "    <tr>\n",
       "      <th>C:/Users/siloux/Desktop/E4E/passive-acoustic-biodiversity/OpenSoundScape/MultiClass Classifier/temp_clips/Testing_Cosmos/XC9766 - Rufous-collared Sparrow - Zonotrichia capensis.wav_0.0s_3.0s.wav</th>\n",
       "      <td>0</td>\n",
       "      <td>0</td>\n",
       "      <td>0</td>\n",
       "      <td>0</td>\n",
       "      <td>1</td>\n",
       "      <td>0</td>\n",
       "      <td>0</td>\n",
       "      <td>0</td>\n",
       "      <td>0</td>\n",
       "      <td>0</td>\n",
       "      <td>0</td>\n",
       "    </tr>\n",
       "    <tr>\n",
       "      <th>C:/Users/siloux/Desktop/E4E/passive-acoustic-biodiversity/OpenSoundScape/MultiClass Classifier/temp_clips/Testing_Cosmos/XC9766 - Rufous-collared Sparrow - Zonotrichia capensis.wav_3.0s_6.0s.wav</th>\n",
       "      <td>0</td>\n",
       "      <td>0</td>\n",
       "      <td>0</td>\n",
       "      <td>0</td>\n",
       "      <td>1</td>\n",
       "      <td>0</td>\n",
       "      <td>0</td>\n",
       "      <td>0</td>\n",
       "      <td>0</td>\n",
       "      <td>0</td>\n",
       "      <td>0</td>\n",
       "    </tr>\n",
       "    <tr>\n",
       "      <th>C:/Users/siloux/Desktop/E4E/passive-acoustic-biodiversity/OpenSoundScape/MultiClass Classifier/temp_clips/Testing_Cosmos/XC9766 - Rufous-collared Sparrow - Zonotrichia capensis.wav_6.0s_9.0s.wav</th>\n",
       "      <td>0</td>\n",
       "      <td>0</td>\n",
       "      <td>0</td>\n",
       "      <td>0</td>\n",
       "      <td>1</td>\n",
       "      <td>0</td>\n",
       "      <td>0</td>\n",
       "      <td>0</td>\n",
       "      <td>0</td>\n",
       "      <td>0</td>\n",
       "      <td>0</td>\n",
       "    </tr>\n",
       "    <tr>\n",
       "      <th>C:/Users/siloux/Desktop/E4E/passive-acoustic-biodiversity/OpenSoundScape/MultiClass Classifier/temp_clips/Testing_Cosmos/XC9766 - Rufous-collared Sparrow - Zonotrichia capensis.wav_9.0s_11.23265306122449s.wav</th>\n",
       "      <td>0</td>\n",
       "      <td>0</td>\n",
       "      <td>0</td>\n",
       "      <td>0</td>\n",
       "      <td>1</td>\n",
       "      <td>0</td>\n",
       "      <td>0</td>\n",
       "      <td>0</td>\n",
       "      <td>0</td>\n",
       "      <td>0</td>\n",
       "      <td>0</td>\n",
       "    </tr>\n",
       "  </tbody>\n",
       "</table>\n",
       "<p>6974 rows × 11 columns</p>\n",
       "</div>"
      ],
      "text/plain": [
       "                                                    Xiphorhynchus guttatus  \\\n",
       "C:/Users/siloux/Desktop/E4E/passive-acoustic-bi...                       0   \n",
       "C:/Users/siloux/Desktop/E4E/passive-acoustic-bi...                       0   \n",
       "C:/Users/siloux/Desktop/E4E/passive-acoustic-bi...                       0   \n",
       "C:/Users/siloux/Desktop/E4E/passive-acoustic-bi...                       0   \n",
       "C:/Users/siloux/Desktop/E4E/passive-acoustic-bi...                       0   \n",
       "...                                                                    ...   \n",
       "C:/Users/siloux/Desktop/E4E/passive-acoustic-bi...                       0   \n",
       "C:/Users/siloux/Desktop/E4E/passive-acoustic-bi...                       0   \n",
       "C:/Users/siloux/Desktop/E4E/passive-acoustic-bi...                       0   \n",
       "C:/Users/siloux/Desktop/E4E/passive-acoustic-bi...                       0   \n",
       "C:/Users/siloux/Desktop/E4E/passive-acoustic-bi...                       0   \n",
       "\n",
       "                                                    Tolmomyias sulphurescens  \\\n",
       "C:/Users/siloux/Desktop/E4E/passive-acoustic-bi...                         0   \n",
       "C:/Users/siloux/Desktop/E4E/passive-acoustic-bi...                         0   \n",
       "C:/Users/siloux/Desktop/E4E/passive-acoustic-bi...                         0   \n",
       "C:/Users/siloux/Desktop/E4E/passive-acoustic-bi...                         0   \n",
       "C:/Users/siloux/Desktop/E4E/passive-acoustic-bi...                         0   \n",
       "...                                                                      ...   \n",
       "C:/Users/siloux/Desktop/E4E/passive-acoustic-bi...                         0   \n",
       "C:/Users/siloux/Desktop/E4E/passive-acoustic-bi...                         0   \n",
       "C:/Users/siloux/Desktop/E4E/passive-acoustic-bi...                         0   \n",
       "C:/Users/siloux/Desktop/E4E/passive-acoustic-bi...                         0   \n",
       "C:/Users/siloux/Desktop/E4E/passive-acoustic-bi...                         0   \n",
       "\n",
       "                                                    Turdus leucomelas  \\\n",
       "C:/Users/siloux/Desktop/E4E/passive-acoustic-bi...                  0   \n",
       "C:/Users/siloux/Desktop/E4E/passive-acoustic-bi...                  0   \n",
       "C:/Users/siloux/Desktop/E4E/passive-acoustic-bi...                  0   \n",
       "C:/Users/siloux/Desktop/E4E/passive-acoustic-bi...                  0   \n",
       "C:/Users/siloux/Desktop/E4E/passive-acoustic-bi...                  1   \n",
       "...                                                               ...   \n",
       "C:/Users/siloux/Desktop/E4E/passive-acoustic-bi...                  0   \n",
       "C:/Users/siloux/Desktop/E4E/passive-acoustic-bi...                  0   \n",
       "C:/Users/siloux/Desktop/E4E/passive-acoustic-bi...                  0   \n",
       "C:/Users/siloux/Desktop/E4E/passive-acoustic-bi...                  0   \n",
       "C:/Users/siloux/Desktop/E4E/passive-acoustic-bi...                  0   \n",
       "\n",
       "                                                    Celeus grammicus  \\\n",
       "C:/Users/siloux/Desktop/E4E/passive-acoustic-bi...                 0   \n",
       "C:/Users/siloux/Desktop/E4E/passive-acoustic-bi...                 0   \n",
       "C:/Users/siloux/Desktop/E4E/passive-acoustic-bi...                 0   \n",
       "C:/Users/siloux/Desktop/E4E/passive-acoustic-bi...                 0   \n",
       "C:/Users/siloux/Desktop/E4E/passive-acoustic-bi...                 0   \n",
       "...                                                              ...   \n",
       "C:/Users/siloux/Desktop/E4E/passive-acoustic-bi...                 0   \n",
       "C:/Users/siloux/Desktop/E4E/passive-acoustic-bi...                 0   \n",
       "C:/Users/siloux/Desktop/E4E/passive-acoustic-bi...                 0   \n",
       "C:/Users/siloux/Desktop/E4E/passive-acoustic-bi...                 0   \n",
       "C:/Users/siloux/Desktop/E4E/passive-acoustic-bi...                 0   \n",
       "\n",
       "                                                    Zonotrichia capensis  \\\n",
       "C:/Users/siloux/Desktop/E4E/passive-acoustic-bi...                     0   \n",
       "C:/Users/siloux/Desktop/E4E/passive-acoustic-bi...                     0   \n",
       "C:/Users/siloux/Desktop/E4E/passive-acoustic-bi...                     0   \n",
       "C:/Users/siloux/Desktop/E4E/passive-acoustic-bi...                     0   \n",
       "C:/Users/siloux/Desktop/E4E/passive-acoustic-bi...                     0   \n",
       "...                                                                  ...   \n",
       "C:/Users/siloux/Desktop/E4E/passive-acoustic-bi...                     0   \n",
       "C:/Users/siloux/Desktop/E4E/passive-acoustic-bi...                     1   \n",
       "C:/Users/siloux/Desktop/E4E/passive-acoustic-bi...                     1   \n",
       "C:/Users/siloux/Desktop/E4E/passive-acoustic-bi...                     1   \n",
       "C:/Users/siloux/Desktop/E4E/passive-acoustic-bi...                     1   \n",
       "\n",
       "                                                    Thraupis episcopus  \\\n",
       "C:/Users/siloux/Desktop/E4E/passive-acoustic-bi...                   0   \n",
       "C:/Users/siloux/Desktop/E4E/passive-acoustic-bi...                   0   \n",
       "C:/Users/siloux/Desktop/E4E/passive-acoustic-bi...                   0   \n",
       "C:/Users/siloux/Desktop/E4E/passive-acoustic-bi...                   0   \n",
       "C:/Users/siloux/Desktop/E4E/passive-acoustic-bi...                   0   \n",
       "...                                                                ...   \n",
       "C:/Users/siloux/Desktop/E4E/passive-acoustic-bi...                   0   \n",
       "C:/Users/siloux/Desktop/E4E/passive-acoustic-bi...                   0   \n",
       "C:/Users/siloux/Desktop/E4E/passive-acoustic-bi...                   0   \n",
       "C:/Users/siloux/Desktop/E4E/passive-acoustic-bi...                   0   \n",
       "C:/Users/siloux/Desktop/E4E/passive-acoustic-bi...                   0   \n",
       "\n",
       "                                                    Trogon viridis  \\\n",
       "C:/Users/siloux/Desktop/E4E/passive-acoustic-bi...               0   \n",
       "C:/Users/siloux/Desktop/E4E/passive-acoustic-bi...               0   \n",
       "C:/Users/siloux/Desktop/E4E/passive-acoustic-bi...               0   \n",
       "C:/Users/siloux/Desktop/E4E/passive-acoustic-bi...               0   \n",
       "C:/Users/siloux/Desktop/E4E/passive-acoustic-bi...               0   \n",
       "...                                                            ...   \n",
       "C:/Users/siloux/Desktop/E4E/passive-acoustic-bi...               0   \n",
       "C:/Users/siloux/Desktop/E4E/passive-acoustic-bi...               0   \n",
       "C:/Users/siloux/Desktop/E4E/passive-acoustic-bi...               0   \n",
       "C:/Users/siloux/Desktop/E4E/passive-acoustic-bi...               0   \n",
       "C:/Users/siloux/Desktop/E4E/passive-acoustic-bi...               0   \n",
       "\n",
       "                                                    Myioborus miniatus  other  \\\n",
       "C:/Users/siloux/Desktop/E4E/passive-acoustic-bi...                   0      1   \n",
       "C:/Users/siloux/Desktop/E4E/passive-acoustic-bi...                   0      1   \n",
       "C:/Users/siloux/Desktop/E4E/passive-acoustic-bi...                   0      1   \n",
       "C:/Users/siloux/Desktop/E4E/passive-acoustic-bi...                   0      1   \n",
       "C:/Users/siloux/Desktop/E4E/passive-acoustic-bi...                   0      0   \n",
       "...                                                                ...    ...   \n",
       "C:/Users/siloux/Desktop/E4E/passive-acoustic-bi...                   1      0   \n",
       "C:/Users/siloux/Desktop/E4E/passive-acoustic-bi...                   0      0   \n",
       "C:/Users/siloux/Desktop/E4E/passive-acoustic-bi...                   0      0   \n",
       "C:/Users/siloux/Desktop/E4E/passive-acoustic-bi...                   0      0   \n",
       "C:/Users/siloux/Desktop/E4E/passive-acoustic-bi...                   0      0   \n",
       "\n",
       "                                                    Microcerculus marginatus  \\\n",
       "C:/Users/siloux/Desktop/E4E/passive-acoustic-bi...                         0   \n",
       "C:/Users/siloux/Desktop/E4E/passive-acoustic-bi...                         0   \n",
       "C:/Users/siloux/Desktop/E4E/passive-acoustic-bi...                         0   \n",
       "C:/Users/siloux/Desktop/E4E/passive-acoustic-bi...                         0   \n",
       "C:/Users/siloux/Desktop/E4E/passive-acoustic-bi...                         0   \n",
       "...                                                                      ...   \n",
       "C:/Users/siloux/Desktop/E4E/passive-acoustic-bi...                         0   \n",
       "C:/Users/siloux/Desktop/E4E/passive-acoustic-bi...                         0   \n",
       "C:/Users/siloux/Desktop/E4E/passive-acoustic-bi...                         0   \n",
       "C:/Users/siloux/Desktop/E4E/passive-acoustic-bi...                         0   \n",
       "C:/Users/siloux/Desktop/E4E/passive-acoustic-bi...                         0   \n",
       "\n",
       "                                                    Ramphastos tucanus  \n",
       "C:/Users/siloux/Desktop/E4E/passive-acoustic-bi...                   0  \n",
       "C:/Users/siloux/Desktop/E4E/passive-acoustic-bi...                   0  \n",
       "C:/Users/siloux/Desktop/E4E/passive-acoustic-bi...                   0  \n",
       "C:/Users/siloux/Desktop/E4E/passive-acoustic-bi...                   0  \n",
       "C:/Users/siloux/Desktop/E4E/passive-acoustic-bi...                   0  \n",
       "...                                                                ...  \n",
       "C:/Users/siloux/Desktop/E4E/passive-acoustic-bi...                   0  \n",
       "C:/Users/siloux/Desktop/E4E/passive-acoustic-bi...                   0  \n",
       "C:/Users/siloux/Desktop/E4E/passive-acoustic-bi...                   0  \n",
       "C:/Users/siloux/Desktop/E4E/passive-acoustic-bi...                   0  \n",
       "C:/Users/siloux/Desktop/E4E/passive-acoustic-bi...                   0  \n",
       "\n",
       "[6974 rows x 11 columns]"
      ]
     },
     "execution_count": 30,
     "metadata": {},
     "output_type": "execute_result"
    }
   ],
   "source": [
    "valid_labels_df"
   ]
  },
  {
   "cell_type": "code",
   "execution_count": 31,
   "id": "700c9e3d",
   "metadata": {},
   "outputs": [
    {
     "data": {
      "text/html": [
       "<div>\n",
       "<style scoped>\n",
       "    .dataframe tbody tr th:only-of-type {\n",
       "        vertical-align: middle;\n",
       "    }\n",
       "\n",
       "    .dataframe tbody tr th {\n",
       "        vertical-align: top;\n",
       "    }\n",
       "\n",
       "    .dataframe thead th {\n",
       "        text-align: right;\n",
       "    }\n",
       "</style>\n",
       "<table border=\"1\" class=\"dataframe\">\n",
       "  <thead>\n",
       "    <tr style=\"text-align: right;\">\n",
       "      <th></th>\n",
       "      <th>Xiphorhynchus guttatus</th>\n",
       "      <th>Tolmomyias sulphurescens</th>\n",
       "      <th>Turdus leucomelas</th>\n",
       "      <th>Celeus grammicus</th>\n",
       "      <th>Zonotrichia capensis</th>\n",
       "      <th>Thraupis episcopus</th>\n",
       "      <th>Trogon viridis</th>\n",
       "      <th>Myioborus miniatus</th>\n",
       "      <th>other</th>\n",
       "      <th>Microcerculus marginatus</th>\n",
       "      <th>Ramphastos tucanus</th>\n",
       "    </tr>\n",
       "  </thead>\n",
       "  <tbody>\n",
       "    <tr>\n",
       "      <th>C:/Users/siloux/Desktop/E4E/passive-acoustic-biodiversity/OpenSoundScape/MultiClass Classifier/temp_clips/Testing_Cosmos/XC100864 - Rufous-collared Sparrow - Zonotrichia capensis costaricensis.wav_0.0s_3.0s.wav</th>\n",
       "      <td>0.0</td>\n",
       "      <td>0.0</td>\n",
       "      <td>0.0</td>\n",
       "      <td>0.0</td>\n",
       "      <td>1.0</td>\n",
       "      <td>0.0</td>\n",
       "      <td>0.0</td>\n",
       "      <td>0.0</td>\n",
       "      <td>0.0</td>\n",
       "      <td>0.0</td>\n",
       "      <td>0.0</td>\n",
       "    </tr>\n",
       "    <tr>\n",
       "      <th>C:/Users/siloux/Desktop/E4E/passive-acoustic-biodiversity/OpenSoundScape/MultiClass Classifier/temp_clips/Testing_Cosmos/XC100864 - Rufous-collared Sparrow - Zonotrichia capensis costaricensis.wav_3.0s_6.0s.wav</th>\n",
       "      <td>0.0</td>\n",
       "      <td>0.0</td>\n",
       "      <td>0.0</td>\n",
       "      <td>0.0</td>\n",
       "      <td>1.0</td>\n",
       "      <td>0.0</td>\n",
       "      <td>0.0</td>\n",
       "      <td>0.0</td>\n",
       "      <td>0.0</td>\n",
       "      <td>0.0</td>\n",
       "      <td>0.0</td>\n",
       "    </tr>\n",
       "    <tr>\n",
       "      <th>C:/Users/siloux/Desktop/E4E/passive-acoustic-biodiversity/OpenSoundScape/MultiClass Classifier/temp_clips/Testing_Cosmos/XC100864 - Rufous-collared Sparrow - Zonotrichia capensis costaricensis.wav_6.0s_9.0s.wav</th>\n",
       "      <td>0.0</td>\n",
       "      <td>0.0</td>\n",
       "      <td>0.0</td>\n",
       "      <td>0.0</td>\n",
       "      <td>1.0</td>\n",
       "      <td>0.0</td>\n",
       "      <td>0.0</td>\n",
       "      <td>0.0</td>\n",
       "      <td>0.0</td>\n",
       "      <td>0.0</td>\n",
       "      <td>0.0</td>\n",
       "    </tr>\n",
       "    <tr>\n",
       "      <th>C:/Users/siloux/Desktop/E4E/passive-acoustic-biodiversity/OpenSoundScape/MultiClass Classifier/temp_clips/Testing_Cosmos/XC100864 - Rufous-collared Sparrow - Zonotrichia capensis costaricensis.wav_9.0s_9.299591836734693s.wav</th>\n",
       "      <td>0.0</td>\n",
       "      <td>0.0</td>\n",
       "      <td>0.0</td>\n",
       "      <td>0.0</td>\n",
       "      <td>0.0</td>\n",
       "      <td>0.0</td>\n",
       "      <td>0.0</td>\n",
       "      <td>0.0</td>\n",
       "      <td>1.0</td>\n",
       "      <td>0.0</td>\n",
       "      <td>0.0</td>\n",
       "    </tr>\n",
       "    <tr>\n",
       "      <th>C:/Users/siloux/Desktop/E4E/passive-acoustic-biodiversity/OpenSoundScape/MultiClass Classifier/temp_clips/Testing_Cosmos/XC101469 - Pale-breasted Thrush - Turdus leucomelas.wav_0.0s_3.0s.wav</th>\n",
       "      <td>0.0</td>\n",
       "      <td>0.0</td>\n",
       "      <td>0.0</td>\n",
       "      <td>0.0</td>\n",
       "      <td>0.0</td>\n",
       "      <td>0.0</td>\n",
       "      <td>0.0</td>\n",
       "      <td>0.0</td>\n",
       "      <td>1.0</td>\n",
       "      <td>0.0</td>\n",
       "      <td>0.0</td>\n",
       "    </tr>\n",
       "    <tr>\n",
       "      <th>...</th>\n",
       "      <td>...</td>\n",
       "      <td>...</td>\n",
       "      <td>...</td>\n",
       "      <td>...</td>\n",
       "      <td>...</td>\n",
       "      <td>...</td>\n",
       "      <td>...</td>\n",
       "      <td>...</td>\n",
       "      <td>...</td>\n",
       "      <td>...</td>\n",
       "      <td>...</td>\n",
       "    </tr>\n",
       "    <tr>\n",
       "      <th>C:/Users/siloux/Desktop/E4E/passive-acoustic-biodiversity/OpenSoundScape/MultiClass Classifier/temp_clips/Testing_Cosmos/XC97542 - Slate-throated Whitestart - Myioborus miniatus.wav_3.0s_4.362448979591837s.wav</th>\n",
       "      <td>0.0</td>\n",
       "      <td>0.0</td>\n",
       "      <td>0.0</td>\n",
       "      <td>0.0</td>\n",
       "      <td>0.0</td>\n",
       "      <td>0.0</td>\n",
       "      <td>0.0</td>\n",
       "      <td>0.0</td>\n",
       "      <td>1.0</td>\n",
       "      <td>0.0</td>\n",
       "      <td>0.0</td>\n",
       "    </tr>\n",
       "    <tr>\n",
       "      <th>C:/Users/siloux/Desktop/E4E/passive-acoustic-biodiversity/OpenSoundScape/MultiClass Classifier/temp_clips/Testing_Cosmos/XC9766 - Rufous-collared Sparrow - Zonotrichia capensis.wav_0.0s_3.0s.wav</th>\n",
       "      <td>0.0</td>\n",
       "      <td>0.0</td>\n",
       "      <td>1.0</td>\n",
       "      <td>0.0</td>\n",
       "      <td>0.0</td>\n",
       "      <td>0.0</td>\n",
       "      <td>0.0</td>\n",
       "      <td>0.0</td>\n",
       "      <td>0.0</td>\n",
       "      <td>0.0</td>\n",
       "      <td>0.0</td>\n",
       "    </tr>\n",
       "    <tr>\n",
       "      <th>C:/Users/siloux/Desktop/E4E/passive-acoustic-biodiversity/OpenSoundScape/MultiClass Classifier/temp_clips/Testing_Cosmos/XC9766 - Rufous-collared Sparrow - Zonotrichia capensis.wav_3.0s_6.0s.wav</th>\n",
       "      <td>0.0</td>\n",
       "      <td>0.0</td>\n",
       "      <td>0.0</td>\n",
       "      <td>0.0</td>\n",
       "      <td>1.0</td>\n",
       "      <td>0.0</td>\n",
       "      <td>0.0</td>\n",
       "      <td>0.0</td>\n",
       "      <td>0.0</td>\n",
       "      <td>0.0</td>\n",
       "      <td>0.0</td>\n",
       "    </tr>\n",
       "    <tr>\n",
       "      <th>C:/Users/siloux/Desktop/E4E/passive-acoustic-biodiversity/OpenSoundScape/MultiClass Classifier/temp_clips/Testing_Cosmos/XC9766 - Rufous-collared Sparrow - Zonotrichia capensis.wav_6.0s_9.0s.wav</th>\n",
       "      <td>0.0</td>\n",
       "      <td>1.0</td>\n",
       "      <td>0.0</td>\n",
       "      <td>0.0</td>\n",
       "      <td>0.0</td>\n",
       "      <td>0.0</td>\n",
       "      <td>0.0</td>\n",
       "      <td>0.0</td>\n",
       "      <td>0.0</td>\n",
       "      <td>0.0</td>\n",
       "      <td>0.0</td>\n",
       "    </tr>\n",
       "    <tr>\n",
       "      <th>C:/Users/siloux/Desktop/E4E/passive-acoustic-biodiversity/OpenSoundScape/MultiClass Classifier/temp_clips/Testing_Cosmos/XC9766 - Rufous-collared Sparrow - Zonotrichia capensis.wav_9.0s_11.23265306122449s.wav</th>\n",
       "      <td>0.0</td>\n",
       "      <td>1.0</td>\n",
       "      <td>0.0</td>\n",
       "      <td>0.0</td>\n",
       "      <td>0.0</td>\n",
       "      <td>0.0</td>\n",
       "      <td>0.0</td>\n",
       "      <td>0.0</td>\n",
       "      <td>0.0</td>\n",
       "      <td>0.0</td>\n",
       "      <td>0.0</td>\n",
       "    </tr>\n",
       "  </tbody>\n",
       "</table>\n",
       "<p>6974 rows × 11 columns</p>\n",
       "</div>"
      ],
      "text/plain": [
       "                                                    Xiphorhynchus guttatus  \\\n",
       "C:/Users/siloux/Desktop/E4E/passive-acoustic-bi...                     0.0   \n",
       "C:/Users/siloux/Desktop/E4E/passive-acoustic-bi...                     0.0   \n",
       "C:/Users/siloux/Desktop/E4E/passive-acoustic-bi...                     0.0   \n",
       "C:/Users/siloux/Desktop/E4E/passive-acoustic-bi...                     0.0   \n",
       "C:/Users/siloux/Desktop/E4E/passive-acoustic-bi...                     0.0   \n",
       "...                                                                    ...   \n",
       "C:/Users/siloux/Desktop/E4E/passive-acoustic-bi...                     0.0   \n",
       "C:/Users/siloux/Desktop/E4E/passive-acoustic-bi...                     0.0   \n",
       "C:/Users/siloux/Desktop/E4E/passive-acoustic-bi...                     0.0   \n",
       "C:/Users/siloux/Desktop/E4E/passive-acoustic-bi...                     0.0   \n",
       "C:/Users/siloux/Desktop/E4E/passive-acoustic-bi...                     0.0   \n",
       "\n",
       "                                                    Tolmomyias sulphurescens  \\\n",
       "C:/Users/siloux/Desktop/E4E/passive-acoustic-bi...                       0.0   \n",
       "C:/Users/siloux/Desktop/E4E/passive-acoustic-bi...                       0.0   \n",
       "C:/Users/siloux/Desktop/E4E/passive-acoustic-bi...                       0.0   \n",
       "C:/Users/siloux/Desktop/E4E/passive-acoustic-bi...                       0.0   \n",
       "C:/Users/siloux/Desktop/E4E/passive-acoustic-bi...                       0.0   \n",
       "...                                                                      ...   \n",
       "C:/Users/siloux/Desktop/E4E/passive-acoustic-bi...                       0.0   \n",
       "C:/Users/siloux/Desktop/E4E/passive-acoustic-bi...                       0.0   \n",
       "C:/Users/siloux/Desktop/E4E/passive-acoustic-bi...                       0.0   \n",
       "C:/Users/siloux/Desktop/E4E/passive-acoustic-bi...                       1.0   \n",
       "C:/Users/siloux/Desktop/E4E/passive-acoustic-bi...                       1.0   \n",
       "\n",
       "                                                    Turdus leucomelas  \\\n",
       "C:/Users/siloux/Desktop/E4E/passive-acoustic-bi...                0.0   \n",
       "C:/Users/siloux/Desktop/E4E/passive-acoustic-bi...                0.0   \n",
       "C:/Users/siloux/Desktop/E4E/passive-acoustic-bi...                0.0   \n",
       "C:/Users/siloux/Desktop/E4E/passive-acoustic-bi...                0.0   \n",
       "C:/Users/siloux/Desktop/E4E/passive-acoustic-bi...                0.0   \n",
       "...                                                               ...   \n",
       "C:/Users/siloux/Desktop/E4E/passive-acoustic-bi...                0.0   \n",
       "C:/Users/siloux/Desktop/E4E/passive-acoustic-bi...                1.0   \n",
       "C:/Users/siloux/Desktop/E4E/passive-acoustic-bi...                0.0   \n",
       "C:/Users/siloux/Desktop/E4E/passive-acoustic-bi...                0.0   \n",
       "C:/Users/siloux/Desktop/E4E/passive-acoustic-bi...                0.0   \n",
       "\n",
       "                                                    Celeus grammicus  \\\n",
       "C:/Users/siloux/Desktop/E4E/passive-acoustic-bi...               0.0   \n",
       "C:/Users/siloux/Desktop/E4E/passive-acoustic-bi...               0.0   \n",
       "C:/Users/siloux/Desktop/E4E/passive-acoustic-bi...               0.0   \n",
       "C:/Users/siloux/Desktop/E4E/passive-acoustic-bi...               0.0   \n",
       "C:/Users/siloux/Desktop/E4E/passive-acoustic-bi...               0.0   \n",
       "...                                                              ...   \n",
       "C:/Users/siloux/Desktop/E4E/passive-acoustic-bi...               0.0   \n",
       "C:/Users/siloux/Desktop/E4E/passive-acoustic-bi...               0.0   \n",
       "C:/Users/siloux/Desktop/E4E/passive-acoustic-bi...               0.0   \n",
       "C:/Users/siloux/Desktop/E4E/passive-acoustic-bi...               0.0   \n",
       "C:/Users/siloux/Desktop/E4E/passive-acoustic-bi...               0.0   \n",
       "\n",
       "                                                    Zonotrichia capensis  \\\n",
       "C:/Users/siloux/Desktop/E4E/passive-acoustic-bi...                   1.0   \n",
       "C:/Users/siloux/Desktop/E4E/passive-acoustic-bi...                   1.0   \n",
       "C:/Users/siloux/Desktop/E4E/passive-acoustic-bi...                   1.0   \n",
       "C:/Users/siloux/Desktop/E4E/passive-acoustic-bi...                   0.0   \n",
       "C:/Users/siloux/Desktop/E4E/passive-acoustic-bi...                   0.0   \n",
       "...                                                                  ...   \n",
       "C:/Users/siloux/Desktop/E4E/passive-acoustic-bi...                   0.0   \n",
       "C:/Users/siloux/Desktop/E4E/passive-acoustic-bi...                   0.0   \n",
       "C:/Users/siloux/Desktop/E4E/passive-acoustic-bi...                   1.0   \n",
       "C:/Users/siloux/Desktop/E4E/passive-acoustic-bi...                   0.0   \n",
       "C:/Users/siloux/Desktop/E4E/passive-acoustic-bi...                   0.0   \n",
       "\n",
       "                                                    Thraupis episcopus  \\\n",
       "C:/Users/siloux/Desktop/E4E/passive-acoustic-bi...                 0.0   \n",
       "C:/Users/siloux/Desktop/E4E/passive-acoustic-bi...                 0.0   \n",
       "C:/Users/siloux/Desktop/E4E/passive-acoustic-bi...                 0.0   \n",
       "C:/Users/siloux/Desktop/E4E/passive-acoustic-bi...                 0.0   \n",
       "C:/Users/siloux/Desktop/E4E/passive-acoustic-bi...                 0.0   \n",
       "...                                                                ...   \n",
       "C:/Users/siloux/Desktop/E4E/passive-acoustic-bi...                 0.0   \n",
       "C:/Users/siloux/Desktop/E4E/passive-acoustic-bi...                 0.0   \n",
       "C:/Users/siloux/Desktop/E4E/passive-acoustic-bi...                 0.0   \n",
       "C:/Users/siloux/Desktop/E4E/passive-acoustic-bi...                 0.0   \n",
       "C:/Users/siloux/Desktop/E4E/passive-acoustic-bi...                 0.0   \n",
       "\n",
       "                                                    Trogon viridis  \\\n",
       "C:/Users/siloux/Desktop/E4E/passive-acoustic-bi...             0.0   \n",
       "C:/Users/siloux/Desktop/E4E/passive-acoustic-bi...             0.0   \n",
       "C:/Users/siloux/Desktop/E4E/passive-acoustic-bi...             0.0   \n",
       "C:/Users/siloux/Desktop/E4E/passive-acoustic-bi...             0.0   \n",
       "C:/Users/siloux/Desktop/E4E/passive-acoustic-bi...             0.0   \n",
       "...                                                            ...   \n",
       "C:/Users/siloux/Desktop/E4E/passive-acoustic-bi...             0.0   \n",
       "C:/Users/siloux/Desktop/E4E/passive-acoustic-bi...             0.0   \n",
       "C:/Users/siloux/Desktop/E4E/passive-acoustic-bi...             0.0   \n",
       "C:/Users/siloux/Desktop/E4E/passive-acoustic-bi...             0.0   \n",
       "C:/Users/siloux/Desktop/E4E/passive-acoustic-bi...             0.0   \n",
       "\n",
       "                                                    Myioborus miniatus  other  \\\n",
       "C:/Users/siloux/Desktop/E4E/passive-acoustic-bi...                 0.0    0.0   \n",
       "C:/Users/siloux/Desktop/E4E/passive-acoustic-bi...                 0.0    0.0   \n",
       "C:/Users/siloux/Desktop/E4E/passive-acoustic-bi...                 0.0    0.0   \n",
       "C:/Users/siloux/Desktop/E4E/passive-acoustic-bi...                 0.0    1.0   \n",
       "C:/Users/siloux/Desktop/E4E/passive-acoustic-bi...                 0.0    1.0   \n",
       "...                                                                ...    ...   \n",
       "C:/Users/siloux/Desktop/E4E/passive-acoustic-bi...                 0.0    1.0   \n",
       "C:/Users/siloux/Desktop/E4E/passive-acoustic-bi...                 0.0    0.0   \n",
       "C:/Users/siloux/Desktop/E4E/passive-acoustic-bi...                 0.0    0.0   \n",
       "C:/Users/siloux/Desktop/E4E/passive-acoustic-bi...                 0.0    0.0   \n",
       "C:/Users/siloux/Desktop/E4E/passive-acoustic-bi...                 0.0    0.0   \n",
       "\n",
       "                                                    Microcerculus marginatus  \\\n",
       "C:/Users/siloux/Desktop/E4E/passive-acoustic-bi...                       0.0   \n",
       "C:/Users/siloux/Desktop/E4E/passive-acoustic-bi...                       0.0   \n",
       "C:/Users/siloux/Desktop/E4E/passive-acoustic-bi...                       0.0   \n",
       "C:/Users/siloux/Desktop/E4E/passive-acoustic-bi...                       0.0   \n",
       "C:/Users/siloux/Desktop/E4E/passive-acoustic-bi...                       0.0   \n",
       "...                                                                      ...   \n",
       "C:/Users/siloux/Desktop/E4E/passive-acoustic-bi...                       0.0   \n",
       "C:/Users/siloux/Desktop/E4E/passive-acoustic-bi...                       0.0   \n",
       "C:/Users/siloux/Desktop/E4E/passive-acoustic-bi...                       0.0   \n",
       "C:/Users/siloux/Desktop/E4E/passive-acoustic-bi...                       0.0   \n",
       "C:/Users/siloux/Desktop/E4E/passive-acoustic-bi...                       0.0   \n",
       "\n",
       "                                                    Ramphastos tucanus  \n",
       "C:/Users/siloux/Desktop/E4E/passive-acoustic-bi...                 0.0  \n",
       "C:/Users/siloux/Desktop/E4E/passive-acoustic-bi...                 0.0  \n",
       "C:/Users/siloux/Desktop/E4E/passive-acoustic-bi...                 0.0  \n",
       "C:/Users/siloux/Desktop/E4E/passive-acoustic-bi...                 0.0  \n",
       "C:/Users/siloux/Desktop/E4E/passive-acoustic-bi...                 0.0  \n",
       "...                                                                ...  \n",
       "C:/Users/siloux/Desktop/E4E/passive-acoustic-bi...                 0.0  \n",
       "C:/Users/siloux/Desktop/E4E/passive-acoustic-bi...                 0.0  \n",
       "C:/Users/siloux/Desktop/E4E/passive-acoustic-bi...                 0.0  \n",
       "C:/Users/siloux/Desktop/E4E/passive-acoustic-bi...                 0.0  \n",
       "C:/Users/siloux/Desktop/E4E/passive-acoustic-bi...                 0.0  \n",
       "\n",
       "[6974 rows x 11 columns]"
      ]
     },
     "execution_count": 31,
     "metadata": {},
     "output_type": "execute_result"
    }
   ],
   "source": [
    "valid_preds_df"
   ]
  },
  {
   "cell_type": "code",
   "execution_count": 32,
   "id": "488b30cb",
   "metadata": {},
   "outputs": [
    {
     "data": {
      "text/html": [
       "<div>\n",
       "<style scoped>\n",
       "    .dataframe tbody tr th:only-of-type {\n",
       "        vertical-align: middle;\n",
       "    }\n",
       "\n",
       "    .dataframe tbody tr th {\n",
       "        vertical-align: top;\n",
       "    }\n",
       "\n",
       "    .dataframe thead th {\n",
       "        text-align: right;\n",
       "    }\n",
       "</style>\n",
       "<table border=\"1\" class=\"dataframe\">\n",
       "  <thead>\n",
       "    <tr style=\"text-align: right;\">\n",
       "      <th></th>\n",
       "      <th>Xiphorhynchus guttatus</th>\n",
       "      <th>Tolmomyias sulphurescens</th>\n",
       "      <th>Turdus leucomelas</th>\n",
       "      <th>Celeus grammicus</th>\n",
       "      <th>Zonotrichia capensis</th>\n",
       "      <th>Thraupis episcopus</th>\n",
       "      <th>Trogon viridis</th>\n",
       "      <th>Myioborus miniatus</th>\n",
       "      <th>other</th>\n",
       "      <th>Microcerculus marginatus</th>\n",
       "      <th>Ramphastos tucanus</th>\n",
       "    </tr>\n",
       "  </thead>\n",
       "  <tbody>\n",
       "    <tr>\n",
       "      <th>C:/Users/siloux/Desktop/E4E/passive-acoustic-biodiversity/OpenSoundScape/MultiClass Classifier/temp_clips/Testing_Cosmos/XC100864 - Rufous-collared Sparrow - Zonotrichia capensis costaricensis.wav_0.0s_3.0s.wav</th>\n",
       "      <td>7.501860e-11</td>\n",
       "      <td>4.780936e-09</td>\n",
       "      <td>3.821599e-07</td>\n",
       "      <td>1.399043e-10</td>\n",
       "      <td>0.999999</td>\n",
       "      <td>1.163849e-07</td>\n",
       "      <td>1.539893e-10</td>\n",
       "      <td>2.238701e-07</td>\n",
       "      <td>3.846014e-07</td>\n",
       "      <td>1.083843e-09</td>\n",
       "      <td>1.552821e-12</td>\n",
       "    </tr>\n",
       "    <tr>\n",
       "      <th>C:/Users/siloux/Desktop/E4E/passive-acoustic-biodiversity/OpenSoundScape/MultiClass Classifier/temp_clips/Testing_Cosmos/XC100864 - Rufous-collared Sparrow - Zonotrichia capensis costaricensis.wav_3.0s_6.0s.wav</th>\n",
       "      <td>1.974170e-13</td>\n",
       "      <td>2.003212e-11</td>\n",
       "      <td>5.365541e-10</td>\n",
       "      <td>6.909140e-13</td>\n",
       "      <td>1.000000</td>\n",
       "      <td>3.317308e-08</td>\n",
       "      <td>1.435004e-12</td>\n",
       "      <td>7.894762e-09</td>\n",
       "      <td>3.765660e-09</td>\n",
       "      <td>8.975902e-12</td>\n",
       "      <td>3.818272e-15</td>\n",
       "    </tr>\n",
       "    <tr>\n",
       "      <th>C:/Users/siloux/Desktop/E4E/passive-acoustic-biodiversity/OpenSoundScape/MultiClass Classifier/temp_clips/Testing_Cosmos/XC100864 - Rufous-collared Sparrow - Zonotrichia capensis costaricensis.wav_6.0s_9.0s.wav</th>\n",
       "      <td>2.551666e-11</td>\n",
       "      <td>4.381021e-10</td>\n",
       "      <td>4.211199e-08</td>\n",
       "      <td>3.048508e-11</td>\n",
       "      <td>1.000000</td>\n",
       "      <td>1.823934e-07</td>\n",
       "      <td>5.294728e-11</td>\n",
       "      <td>1.832882e-08</td>\n",
       "      <td>3.621649e-08</td>\n",
       "      <td>3.316582e-10</td>\n",
       "      <td>6.986914e-13</td>\n",
       "    </tr>\n",
       "    <tr>\n",
       "      <th>C:/Users/siloux/Desktop/E4E/passive-acoustic-biodiversity/OpenSoundScape/MultiClass Classifier/temp_clips/Testing_Cosmos/XC100864 - Rufous-collared Sparrow - Zonotrichia capensis costaricensis.wav_9.0s_9.299591836734693s.wav</th>\n",
       "      <td>2.784342e-03</td>\n",
       "      <td>2.273418e-01</td>\n",
       "      <td>7.475540e-02</td>\n",
       "      <td>9.722546e-03</td>\n",
       "      <td>0.009579</td>\n",
       "      <td>2.997526e-02</td>\n",
       "      <td>1.613208e-03</td>\n",
       "      <td>1.556018e-01</td>\n",
       "      <td>4.773724e-01</td>\n",
       "      <td>1.118965e-02</td>\n",
       "      <td>6.490436e-05</td>\n",
       "    </tr>\n",
       "    <tr>\n",
       "      <th>C:/Users/siloux/Desktop/E4E/passive-acoustic-biodiversity/OpenSoundScape/MultiClass Classifier/temp_clips/Testing_Cosmos/XC101469 - Pale-breasted Thrush - Turdus leucomelas.wav_0.0s_3.0s.wav</th>\n",
       "      <td>1.680605e-04</td>\n",
       "      <td>3.022410e-01</td>\n",
       "      <td>1.481887e-01</td>\n",
       "      <td>4.257402e-04</td>\n",
       "      <td>0.000009</td>\n",
       "      <td>1.398815e-03</td>\n",
       "      <td>2.689443e-06</td>\n",
       "      <td>7.941701e-04</td>\n",
       "      <td>5.467382e-01</td>\n",
       "      <td>2.559740e-05</td>\n",
       "      <td>8.351765e-06</td>\n",
       "    </tr>\n",
       "    <tr>\n",
       "      <th>...</th>\n",
       "      <td>...</td>\n",
       "      <td>...</td>\n",
       "      <td>...</td>\n",
       "      <td>...</td>\n",
       "      <td>...</td>\n",
       "      <td>...</td>\n",
       "      <td>...</td>\n",
       "      <td>...</td>\n",
       "      <td>...</td>\n",
       "      <td>...</td>\n",
       "      <td>...</td>\n",
       "    </tr>\n",
       "    <tr>\n",
       "      <th>C:/Users/siloux/Desktop/E4E/passive-acoustic-biodiversity/OpenSoundScape/MultiClass Classifier/temp_clips/Testing_Cosmos/XC97542 - Slate-throated Whitestart - Myioborus miniatus.wav_3.0s_4.362448979591837s.wav</th>\n",
       "      <td>5.848605e-03</td>\n",
       "      <td>3.162635e-01</td>\n",
       "      <td>3.093806e-02</td>\n",
       "      <td>5.482427e-02</td>\n",
       "      <td>0.004229</td>\n",
       "      <td>1.925300e-02</td>\n",
       "      <td>3.292634e-03</td>\n",
       "      <td>2.517678e-03</td>\n",
       "      <td>5.429099e-01</td>\n",
       "      <td>1.902599e-02</td>\n",
       "      <td>8.972754e-04</td>\n",
       "    </tr>\n",
       "    <tr>\n",
       "      <th>C:/Users/siloux/Desktop/E4E/passive-acoustic-biodiversity/OpenSoundScape/MultiClass Classifier/temp_clips/Testing_Cosmos/XC9766 - Rufous-collared Sparrow - Zonotrichia capensis.wav_0.0s_3.0s.wav</th>\n",
       "      <td>3.311174e-03</td>\n",
       "      <td>6.632891e-02</td>\n",
       "      <td>4.116604e-01</td>\n",
       "      <td>5.229776e-03</td>\n",
       "      <td>0.007631</td>\n",
       "      <td>1.563005e-03</td>\n",
       "      <td>2.126091e-04</td>\n",
       "      <td>3.521941e-01</td>\n",
       "      <td>1.511867e-01</td>\n",
       "      <td>6.523011e-04</td>\n",
       "      <td>2.976014e-05</td>\n",
       "    </tr>\n",
       "    <tr>\n",
       "      <th>C:/Users/siloux/Desktop/E4E/passive-acoustic-biodiversity/OpenSoundScape/MultiClass Classifier/temp_clips/Testing_Cosmos/XC9766 - Rufous-collared Sparrow - Zonotrichia capensis.wav_3.0s_6.0s.wav</th>\n",
       "      <td>5.938694e-04</td>\n",
       "      <td>4.088750e-02</td>\n",
       "      <td>6.043074e-02</td>\n",
       "      <td>4.900990e-04</td>\n",
       "      <td>0.373683</td>\n",
       "      <td>3.054043e-02</td>\n",
       "      <td>3.784202e-04</td>\n",
       "      <td>3.606966e-01</td>\n",
       "      <td>1.321331e-01</td>\n",
       "      <td>1.582890e-04</td>\n",
       "      <td>8.049348e-06</td>\n",
       "    </tr>\n",
       "    <tr>\n",
       "      <th>C:/Users/siloux/Desktop/E4E/passive-acoustic-biodiversity/OpenSoundScape/MultiClass Classifier/temp_clips/Testing_Cosmos/XC9766 - Rufous-collared Sparrow - Zonotrichia capensis.wav_6.0s_9.0s.wav</th>\n",
       "      <td>6.690607e-05</td>\n",
       "      <td>6.950141e-01</td>\n",
       "      <td>8.844189e-03</td>\n",
       "      <td>1.203853e-04</td>\n",
       "      <td>0.075199</td>\n",
       "      <td>3.678417e-03</td>\n",
       "      <td>2.567905e-04</td>\n",
       "      <td>6.541755e-04</td>\n",
       "      <td>2.160115e-01</td>\n",
       "      <td>1.506038e-04</td>\n",
       "      <td>3.766491e-06</td>\n",
       "    </tr>\n",
       "    <tr>\n",
       "      <th>C:/Users/siloux/Desktop/E4E/passive-acoustic-biodiversity/OpenSoundScape/MultiClass Classifier/temp_clips/Testing_Cosmos/XC9766 - Rufous-collared Sparrow - Zonotrichia capensis.wav_9.0s_11.23265306122449s.wav</th>\n",
       "      <td>2.460234e-05</td>\n",
       "      <td>9.579469e-01</td>\n",
       "      <td>5.813325e-04</td>\n",
       "      <td>4.058918e-05</td>\n",
       "      <td>0.000103</td>\n",
       "      <td>1.159734e-04</td>\n",
       "      <td>2.712231e-05</td>\n",
       "      <td>1.534280e-04</td>\n",
       "      <td>4.093341e-02</td>\n",
       "      <td>7.253830e-05</td>\n",
       "      <td>6.581800e-07</td>\n",
       "    </tr>\n",
       "  </tbody>\n",
       "</table>\n",
       "<p>6974 rows × 11 columns</p>\n",
       "</div>"
      ],
      "text/plain": [
       "                                                    Xiphorhynchus guttatus  \\\n",
       "C:/Users/siloux/Desktop/E4E/passive-acoustic-bi...            7.501860e-11   \n",
       "C:/Users/siloux/Desktop/E4E/passive-acoustic-bi...            1.974170e-13   \n",
       "C:/Users/siloux/Desktop/E4E/passive-acoustic-bi...            2.551666e-11   \n",
       "C:/Users/siloux/Desktop/E4E/passive-acoustic-bi...            2.784342e-03   \n",
       "C:/Users/siloux/Desktop/E4E/passive-acoustic-bi...            1.680605e-04   \n",
       "...                                                                    ...   \n",
       "C:/Users/siloux/Desktop/E4E/passive-acoustic-bi...            5.848605e-03   \n",
       "C:/Users/siloux/Desktop/E4E/passive-acoustic-bi...            3.311174e-03   \n",
       "C:/Users/siloux/Desktop/E4E/passive-acoustic-bi...            5.938694e-04   \n",
       "C:/Users/siloux/Desktop/E4E/passive-acoustic-bi...            6.690607e-05   \n",
       "C:/Users/siloux/Desktop/E4E/passive-acoustic-bi...            2.460234e-05   \n",
       "\n",
       "                                                    Tolmomyias sulphurescens  \\\n",
       "C:/Users/siloux/Desktop/E4E/passive-acoustic-bi...              4.780936e-09   \n",
       "C:/Users/siloux/Desktop/E4E/passive-acoustic-bi...              2.003212e-11   \n",
       "C:/Users/siloux/Desktop/E4E/passive-acoustic-bi...              4.381021e-10   \n",
       "C:/Users/siloux/Desktop/E4E/passive-acoustic-bi...              2.273418e-01   \n",
       "C:/Users/siloux/Desktop/E4E/passive-acoustic-bi...              3.022410e-01   \n",
       "...                                                                      ...   \n",
       "C:/Users/siloux/Desktop/E4E/passive-acoustic-bi...              3.162635e-01   \n",
       "C:/Users/siloux/Desktop/E4E/passive-acoustic-bi...              6.632891e-02   \n",
       "C:/Users/siloux/Desktop/E4E/passive-acoustic-bi...              4.088750e-02   \n",
       "C:/Users/siloux/Desktop/E4E/passive-acoustic-bi...              6.950141e-01   \n",
       "C:/Users/siloux/Desktop/E4E/passive-acoustic-bi...              9.579469e-01   \n",
       "\n",
       "                                                    Turdus leucomelas  \\\n",
       "C:/Users/siloux/Desktop/E4E/passive-acoustic-bi...       3.821599e-07   \n",
       "C:/Users/siloux/Desktop/E4E/passive-acoustic-bi...       5.365541e-10   \n",
       "C:/Users/siloux/Desktop/E4E/passive-acoustic-bi...       4.211199e-08   \n",
       "C:/Users/siloux/Desktop/E4E/passive-acoustic-bi...       7.475540e-02   \n",
       "C:/Users/siloux/Desktop/E4E/passive-acoustic-bi...       1.481887e-01   \n",
       "...                                                               ...   \n",
       "C:/Users/siloux/Desktop/E4E/passive-acoustic-bi...       3.093806e-02   \n",
       "C:/Users/siloux/Desktop/E4E/passive-acoustic-bi...       4.116604e-01   \n",
       "C:/Users/siloux/Desktop/E4E/passive-acoustic-bi...       6.043074e-02   \n",
       "C:/Users/siloux/Desktop/E4E/passive-acoustic-bi...       8.844189e-03   \n",
       "C:/Users/siloux/Desktop/E4E/passive-acoustic-bi...       5.813325e-04   \n",
       "\n",
       "                                                    Celeus grammicus  \\\n",
       "C:/Users/siloux/Desktop/E4E/passive-acoustic-bi...      1.399043e-10   \n",
       "C:/Users/siloux/Desktop/E4E/passive-acoustic-bi...      6.909140e-13   \n",
       "C:/Users/siloux/Desktop/E4E/passive-acoustic-bi...      3.048508e-11   \n",
       "C:/Users/siloux/Desktop/E4E/passive-acoustic-bi...      9.722546e-03   \n",
       "C:/Users/siloux/Desktop/E4E/passive-acoustic-bi...      4.257402e-04   \n",
       "...                                                              ...   \n",
       "C:/Users/siloux/Desktop/E4E/passive-acoustic-bi...      5.482427e-02   \n",
       "C:/Users/siloux/Desktop/E4E/passive-acoustic-bi...      5.229776e-03   \n",
       "C:/Users/siloux/Desktop/E4E/passive-acoustic-bi...      4.900990e-04   \n",
       "C:/Users/siloux/Desktop/E4E/passive-acoustic-bi...      1.203853e-04   \n",
       "C:/Users/siloux/Desktop/E4E/passive-acoustic-bi...      4.058918e-05   \n",
       "\n",
       "                                                    Zonotrichia capensis  \\\n",
       "C:/Users/siloux/Desktop/E4E/passive-acoustic-bi...              0.999999   \n",
       "C:/Users/siloux/Desktop/E4E/passive-acoustic-bi...              1.000000   \n",
       "C:/Users/siloux/Desktop/E4E/passive-acoustic-bi...              1.000000   \n",
       "C:/Users/siloux/Desktop/E4E/passive-acoustic-bi...              0.009579   \n",
       "C:/Users/siloux/Desktop/E4E/passive-acoustic-bi...              0.000009   \n",
       "...                                                                  ...   \n",
       "C:/Users/siloux/Desktop/E4E/passive-acoustic-bi...              0.004229   \n",
       "C:/Users/siloux/Desktop/E4E/passive-acoustic-bi...              0.007631   \n",
       "C:/Users/siloux/Desktop/E4E/passive-acoustic-bi...              0.373683   \n",
       "C:/Users/siloux/Desktop/E4E/passive-acoustic-bi...              0.075199   \n",
       "C:/Users/siloux/Desktop/E4E/passive-acoustic-bi...              0.000103   \n",
       "\n",
       "                                                    Thraupis episcopus  \\\n",
       "C:/Users/siloux/Desktop/E4E/passive-acoustic-bi...        1.163849e-07   \n",
       "C:/Users/siloux/Desktop/E4E/passive-acoustic-bi...        3.317308e-08   \n",
       "C:/Users/siloux/Desktop/E4E/passive-acoustic-bi...        1.823934e-07   \n",
       "C:/Users/siloux/Desktop/E4E/passive-acoustic-bi...        2.997526e-02   \n",
       "C:/Users/siloux/Desktop/E4E/passive-acoustic-bi...        1.398815e-03   \n",
       "...                                                                ...   \n",
       "C:/Users/siloux/Desktop/E4E/passive-acoustic-bi...        1.925300e-02   \n",
       "C:/Users/siloux/Desktop/E4E/passive-acoustic-bi...        1.563005e-03   \n",
       "C:/Users/siloux/Desktop/E4E/passive-acoustic-bi...        3.054043e-02   \n",
       "C:/Users/siloux/Desktop/E4E/passive-acoustic-bi...        3.678417e-03   \n",
       "C:/Users/siloux/Desktop/E4E/passive-acoustic-bi...        1.159734e-04   \n",
       "\n",
       "                                                    Trogon viridis  \\\n",
       "C:/Users/siloux/Desktop/E4E/passive-acoustic-bi...    1.539893e-10   \n",
       "C:/Users/siloux/Desktop/E4E/passive-acoustic-bi...    1.435004e-12   \n",
       "C:/Users/siloux/Desktop/E4E/passive-acoustic-bi...    5.294728e-11   \n",
       "C:/Users/siloux/Desktop/E4E/passive-acoustic-bi...    1.613208e-03   \n",
       "C:/Users/siloux/Desktop/E4E/passive-acoustic-bi...    2.689443e-06   \n",
       "...                                                            ...   \n",
       "C:/Users/siloux/Desktop/E4E/passive-acoustic-bi...    3.292634e-03   \n",
       "C:/Users/siloux/Desktop/E4E/passive-acoustic-bi...    2.126091e-04   \n",
       "C:/Users/siloux/Desktop/E4E/passive-acoustic-bi...    3.784202e-04   \n",
       "C:/Users/siloux/Desktop/E4E/passive-acoustic-bi...    2.567905e-04   \n",
       "C:/Users/siloux/Desktop/E4E/passive-acoustic-bi...    2.712231e-05   \n",
       "\n",
       "                                                    Myioborus miniatus  \\\n",
       "C:/Users/siloux/Desktop/E4E/passive-acoustic-bi...        2.238701e-07   \n",
       "C:/Users/siloux/Desktop/E4E/passive-acoustic-bi...        7.894762e-09   \n",
       "C:/Users/siloux/Desktop/E4E/passive-acoustic-bi...        1.832882e-08   \n",
       "C:/Users/siloux/Desktop/E4E/passive-acoustic-bi...        1.556018e-01   \n",
       "C:/Users/siloux/Desktop/E4E/passive-acoustic-bi...        7.941701e-04   \n",
       "...                                                                ...   \n",
       "C:/Users/siloux/Desktop/E4E/passive-acoustic-bi...        2.517678e-03   \n",
       "C:/Users/siloux/Desktop/E4E/passive-acoustic-bi...        3.521941e-01   \n",
       "C:/Users/siloux/Desktop/E4E/passive-acoustic-bi...        3.606966e-01   \n",
       "C:/Users/siloux/Desktop/E4E/passive-acoustic-bi...        6.541755e-04   \n",
       "C:/Users/siloux/Desktop/E4E/passive-acoustic-bi...        1.534280e-04   \n",
       "\n",
       "                                                           other  \\\n",
       "C:/Users/siloux/Desktop/E4E/passive-acoustic-bi...  3.846014e-07   \n",
       "C:/Users/siloux/Desktop/E4E/passive-acoustic-bi...  3.765660e-09   \n",
       "C:/Users/siloux/Desktop/E4E/passive-acoustic-bi...  3.621649e-08   \n",
       "C:/Users/siloux/Desktop/E4E/passive-acoustic-bi...  4.773724e-01   \n",
       "C:/Users/siloux/Desktop/E4E/passive-acoustic-bi...  5.467382e-01   \n",
       "...                                                          ...   \n",
       "C:/Users/siloux/Desktop/E4E/passive-acoustic-bi...  5.429099e-01   \n",
       "C:/Users/siloux/Desktop/E4E/passive-acoustic-bi...  1.511867e-01   \n",
       "C:/Users/siloux/Desktop/E4E/passive-acoustic-bi...  1.321331e-01   \n",
       "C:/Users/siloux/Desktop/E4E/passive-acoustic-bi...  2.160115e-01   \n",
       "C:/Users/siloux/Desktop/E4E/passive-acoustic-bi...  4.093341e-02   \n",
       "\n",
       "                                                    Microcerculus marginatus  \\\n",
       "C:/Users/siloux/Desktop/E4E/passive-acoustic-bi...              1.083843e-09   \n",
       "C:/Users/siloux/Desktop/E4E/passive-acoustic-bi...              8.975902e-12   \n",
       "C:/Users/siloux/Desktop/E4E/passive-acoustic-bi...              3.316582e-10   \n",
       "C:/Users/siloux/Desktop/E4E/passive-acoustic-bi...              1.118965e-02   \n",
       "C:/Users/siloux/Desktop/E4E/passive-acoustic-bi...              2.559740e-05   \n",
       "...                                                                      ...   \n",
       "C:/Users/siloux/Desktop/E4E/passive-acoustic-bi...              1.902599e-02   \n",
       "C:/Users/siloux/Desktop/E4E/passive-acoustic-bi...              6.523011e-04   \n",
       "C:/Users/siloux/Desktop/E4E/passive-acoustic-bi...              1.582890e-04   \n",
       "C:/Users/siloux/Desktop/E4E/passive-acoustic-bi...              1.506038e-04   \n",
       "C:/Users/siloux/Desktop/E4E/passive-acoustic-bi...              7.253830e-05   \n",
       "\n",
       "                                                    Ramphastos tucanus  \n",
       "C:/Users/siloux/Desktop/E4E/passive-acoustic-bi...        1.552821e-12  \n",
       "C:/Users/siloux/Desktop/E4E/passive-acoustic-bi...        3.818272e-15  \n",
       "C:/Users/siloux/Desktop/E4E/passive-acoustic-bi...        6.986914e-13  \n",
       "C:/Users/siloux/Desktop/E4E/passive-acoustic-bi...        6.490436e-05  \n",
       "C:/Users/siloux/Desktop/E4E/passive-acoustic-bi...        8.351765e-06  \n",
       "...                                                                ...  \n",
       "C:/Users/siloux/Desktop/E4E/passive-acoustic-bi...        8.972754e-04  \n",
       "C:/Users/siloux/Desktop/E4E/passive-acoustic-bi...        2.976014e-05  \n",
       "C:/Users/siloux/Desktop/E4E/passive-acoustic-bi...        8.049348e-06  \n",
       "C:/Users/siloux/Desktop/E4E/passive-acoustic-bi...        3.766491e-06  \n",
       "C:/Users/siloux/Desktop/E4E/passive-acoustic-bi...        6.581800e-07  \n",
       "\n",
       "[6974 rows x 11 columns]"
      ]
     },
     "execution_count": 32,
     "metadata": {},
     "output_type": "execute_result"
    }
   ],
   "source": [
    "valid_scores_df"
   ]
  },
  {
   "cell_type": "code",
   "execution_count": 33,
   "id": "7591665a",
   "metadata": {
    "scrolled": false
   },
   "outputs": [
    {
     "name": "stdout",
     "output_type": "stream",
     "text": [
      "                          precision    recall  f1-score   support\n",
      "\n",
      "  Xiphorhynchus guttatus       0.40      0.47      0.44       390\n",
      "Tolmomyias sulphurescens       0.46      0.65      0.54       376\n",
      "       Turdus leucomelas       0.53      0.49      0.51       511\n",
      "        Celeus grammicus       0.10      0.93      0.18       165\n",
      "    Zonotrichia capensis       0.48      0.55      0.52       414\n",
      "      Thraupis episcopus       0.25      0.64      0.36       226\n",
      "          Trogon viridis       0.63      0.53      0.58       426\n",
      "      Myioborus miniatus       0.38      0.61      0.47       407\n",
      "                   other       0.47      0.02      0.04      3166\n",
      "Microcerculus marginatus       0.44      0.57      0.50       346\n",
      "      Ramphastos tucanus       0.71      0.85      0.77       547\n",
      "\n",
      "               micro avg       0.38      0.35      0.36      6974\n",
      "               macro avg       0.44      0.57      0.44      6974\n",
      "            weighted avg       0.48      0.35      0.30      6974\n",
      "             samples avg       0.35      0.35      0.35      6974\n",
      "\n"
     ]
    },
    {
     "name": "stderr",
     "output_type": "stream",
     "text": [
      "C:\\Users\\Siloux\\.conda\\envs\\species-id\\lib\\site-packages\\sklearn\\metrics\\_classification.py:1318: UndefinedMetricWarning: Precision and F-score are ill-defined and being set to 0.0 in samples with no predicted labels. Use `zero_division` parameter to control this behavior.\n",
      "  _warn_prf(average, modifier, msg_start, len(result))\n"
     ]
    }
   ],
   "source": [
    "print(classification_report(valid_labels_df, valid_scores_df.apply(round), target_names=valid_scores_df.columns))"
   ]
  },
  {
   "cell_type": "markdown",
   "id": "a3152c6a",
   "metadata": {},
   "source": [
    "#### Plot the RIC curve and report AOC"
   ]
  },
  {
   "cell_type": "code",
   "execution_count": 34,
   "id": "b5501ee6",
   "metadata": {},
   "outputs": [
    {
     "data": {
      "image/png": "[encoded data removed]",
      "text/plain": [
       "<Figure size 432x288 with 1 Axes>"
      ]
     },
     "metadata": {
      "needs_background": "light"
     },
     "output_type": "display_data"
    }
   ],
   "source": [
    "\n",
    "for species in model.classes:\n",
    "    fpr, tpr, thresh = roc_curve(valid_labels_df[species],  valid_scores_df[species])\n",
    "    auc = roc_auc_score(valid_labels_df[species],  valid_preds_df[species])\n",
    "    plt.plot(fpr,tpr,label= species + \" \"+str(round(auc, 3)))\n",
    "\n",
    "plt.title('Classwise ROC Curves')\n",
    "plt.ylabel('True Positive Rate')\n",
    "plt.xlabel('False Positive Rate')\n",
    "plt.legend(bbox_to_anchor=(1.04,1), loc=\"upper left\")\n",
    "plt.show()"
   ]
  },
  {
   "cell_type": "code",
   "execution_count": 35,
   "id": "d0c8609b",
   "metadata": {},
   "outputs": [
    {
     "data": {
      "text/plain": [
       "['Xiphorhynchus guttatus',\n",
       " 'Tolmomyias sulphurescens',\n",
       " 'Turdus leucomelas',\n",
       " 'Celeus grammicus',\n",
       " 'Zonotrichia capensis',\n",
       " 'Thraupis episcopus',\n",
       " 'Trogon viridis',\n",
       " 'Myioborus miniatus',\n",
       " 'other',\n",
       " 'Microcerculus marginatus',\n",
       " 'Ramphastos tucanus']"
      ]
     },
     "execution_count": 35,
     "metadata": {},
     "output_type": "execute_result"
    }
   ],
   "source": [
    "model.classes"
   ]
  },
  {
   "cell_type": "markdown",
   "id": "781e3c86",
   "metadata": {},
   "source": [
    "***Validate Results***"
   ]
  },
  {
   "cell_type": "code",
   "execution_count": 36,
   "id": "81708f39",
   "metadata": {},
   "outputs": [
    {
     "data": {
      "text/plain": [
       "<bound method PytorchModel.predict of Resnet18Multiclass(\n",
       "  (network): ResNet(\n",
       "    (conv1): Conv2d(3, 64, kernel_size=(7, 7), stride=(2, 2), padding=(3, 3), bias=False)\n",
       "    (bn1): BatchNorm2d(64, eps=1e-05, momentum=0.1, affine=True, track_running_stats=True)\n",
       "    (relu): ReLU(inplace=True)\n",
       "    (maxpool): MaxPool2d(kernel_size=3, stride=2, padding=1, dilation=1, ceil_mode=False)\n",
       "    (layer1): Sequential(\n",
       "      (0): BasicBlock(\n",
       "        (conv1): Conv2d(64, 64, kernel_size=(3, 3), stride=(1, 1), padding=(1, 1), bias=False)\n",
       "        (bn1): BatchNorm2d(64, eps=1e-05, momentum=0.1, affine=True, track_running_stats=True)\n",
       "        (relu): ReLU(inplace=True)\n",
       "        (conv2): Conv2d(64, 64, kernel_size=(3, 3), stride=(1, 1), padding=(1, 1), bias=False)\n",
       "        (bn2): BatchNorm2d(64, eps=1e-05, momentum=0.1, affine=True, track_running_stats=True)\n",
       "      )\n",
       "      (1): BasicBlock(\n",
       "        (conv1): Conv2d(64, 64, kernel_size=(3, 3), stride=(1, 1), padding=(1, 1), bias=False)\n",
       "        (bn1): BatchNorm2d(64, eps=1e-05, momentum=0.1, affine=True, track_running_stats=True)\n",
       "        (relu): ReLU(inplace=True)\n",
       "        (conv2): Conv2d(64, 64, kernel_size=(3, 3), stride=(1, 1), padding=(1, 1), bias=False)\n",
       "        (bn2): BatchNorm2d(64, eps=1e-05, momentum=0.1, affine=True, track_running_stats=True)\n",
       "      )\n",
       "    )\n",
       "    (layer2): Sequential(\n",
       "      (0): BasicBlock(\n",
       "        (conv1): Conv2d(64, 128, kernel_size=(3, 3), stride=(2, 2), padding=(1, 1), bias=False)\n",
       "        (bn1): BatchNorm2d(128, eps=1e-05, momentum=0.1, affine=True, track_running_stats=True)\n",
       "        (relu): ReLU(inplace=True)\n",
       "        (conv2): Conv2d(128, 128, kernel_size=(3, 3), stride=(1, 1), padding=(1, 1), bias=False)\n",
       "        (bn2): BatchNorm2d(128, eps=1e-05, momentum=0.1, affine=True, track_running_stats=True)\n",
       "        (downsample): Sequential(\n",
       "          (0): Conv2d(64, 128, kernel_size=(1, 1), stride=(2, 2), bias=False)\n",
       "          (1): BatchNorm2d(128, eps=1e-05, momentum=0.1, affine=True, track_running_stats=True)\n",
       "        )\n",
       "      )\n",
       "      (1): BasicBlock(\n",
       "        (conv1): Conv2d(128, 128, kernel_size=(3, 3), stride=(1, 1), padding=(1, 1), bias=False)\n",
       "        (bn1): BatchNorm2d(128, eps=1e-05, momentum=0.1, affine=True, track_running_stats=True)\n",
       "        (relu): ReLU(inplace=True)\n",
       "        (conv2): Conv2d(128, 128, kernel_size=(3, 3), stride=(1, 1), padding=(1, 1), bias=False)\n",
       "        (bn2): BatchNorm2d(128, eps=1e-05, momentum=0.1, affine=True, track_running_stats=True)\n",
       "      )\n",
       "    )\n",
       "    (layer3): Sequential(\n",
       "      (0): BasicBlock(\n",
       "        (conv1): Conv2d(128, 256, kernel_size=(3, 3), stride=(2, 2), padding=(1, 1), bias=False)\n",
       "        (bn1): BatchNorm2d(256, eps=1e-05, momentum=0.1, affine=True, track_running_stats=True)\n",
       "        (relu): ReLU(inplace=True)\n",
       "        (conv2): Conv2d(256, 256, kernel_size=(3, 3), stride=(1, 1), padding=(1, 1), bias=False)\n",
       "        (bn2): BatchNorm2d(256, eps=1e-05, momentum=0.1, affine=True, track_running_stats=True)\n",
       "        (downsample): Sequential(\n",
       "          (0): Conv2d(128, 256, kernel_size=(1, 1), stride=(2, 2), bias=False)\n",
       "          (1): BatchNorm2d(256, eps=1e-05, momentum=0.1, affine=True, track_running_stats=True)\n",
       "        )\n",
       "      )\n",
       "      (1): BasicBlock(\n",
       "        (conv1): Conv2d(256, 256, kernel_size=(3, 3), stride=(1, 1), padding=(1, 1), bias=False)\n",
       "        (bn1): BatchNorm2d(256, eps=1e-05, momentum=0.1, affine=True, track_running_stats=True)\n",
       "        (relu): ReLU(inplace=True)\n",
       "        (conv2): Conv2d(256, 256, kernel_size=(3, 3), stride=(1, 1), padding=(1, 1), bias=False)\n",
       "        (bn2): BatchNorm2d(256, eps=1e-05, momentum=0.1, affine=True, track_running_stats=True)\n",
       "      )\n",
       "    )\n",
       "    (layer4): Sequential(\n",
       "      (0): BasicBlock(\n",
       "        (conv1): Conv2d(256, 512, kernel_size=(3, 3), stride=(2, 2), padding=(1, 1), bias=False)\n",
       "        (bn1): BatchNorm2d(512, eps=1e-05, momentum=0.1, affine=True, track_running_stats=True)\n",
       "        (relu): ReLU(inplace=True)\n",
       "        (conv2): Conv2d(512, 512, kernel_size=(3, 3), stride=(1, 1), padding=(1, 1), bias=False)\n",
       "        (bn2): BatchNorm2d(512, eps=1e-05, momentum=0.1, affine=True, track_running_stats=True)\n",
       "        (downsample): Sequential(\n",
       "          (0): Conv2d(256, 512, kernel_size=(1, 1), stride=(2, 2), bias=False)\n",
       "          (1): BatchNorm2d(512, eps=1e-05, momentum=0.1, affine=True, track_running_stats=True)\n",
       "        )\n",
       "      )\n",
       "      (1): BasicBlock(\n",
       "        (conv1): Conv2d(512, 512, kernel_size=(3, 3), stride=(1, 1), padding=(1, 1), bias=False)\n",
       "        (bn1): BatchNorm2d(512, eps=1e-05, momentum=0.1, affine=True, track_running_stats=True)\n",
       "        (relu): ReLU(inplace=True)\n",
       "        (conv2): Conv2d(512, 512, kernel_size=(3, 3), stride=(1, 1), padding=(1, 1), bias=False)\n",
       "        (bn2): BatchNorm2d(512, eps=1e-05, momentum=0.1, affine=True, track_running_stats=True)\n",
       "      )\n",
       "    )\n",
       "    (avgpool): AdaptiveAvgPool2d(output_size=(1, 1))\n",
       "    (fc): Linear(in_features=512, out_features=11, bias=True)\n",
       "  )\n",
       "  (loss_fn): ResampleLoss()\n",
       ")>"
      ]
     },
     "execution_count": 36,
     "metadata": {},
     "output_type": "execute_result"
    }
   ],
   "source": [
    "model.predict"
   ]
  },
  {
   "cell_type": "code",
   "execution_count": 37,
   "id": "ccbe67cb",
   "metadata": {},
   "outputs": [
    {
     "data": {
      "text/plain": [
       "<opensoundscape.preprocess.preprocessors.CnnPreprocessor at 0x2628faf8a88>"
      ]
     },
     "execution_count": 37,
     "metadata": {},
     "output_type": "execute_result"
    }
   ],
   "source": [
    "model.train_dataset.sample(n=0)"
   ]
  },
  {
   "cell_type": "code",
   "execution_count": 38,
   "id": "81c0d9e9",
   "metadata": {},
   "outputs": [],
   "source": [
    "from sklearn.metrics import confusion_matrix"
   ]
  },
  {
   "cell_type": "code",
   "execution_count": 39,
   "id": "3d48d701",
   "metadata": {},
   "outputs": [
    {
     "data": {
      "text/plain": [
       "(6974,)"
      ]
     },
     "execution_count": 39,
     "metadata": {},
     "output_type": "execute_result"
    }
   ],
   "source": [
    "valid_labels_df[species].values.shape"
   ]
  },
  {
   "cell_type": "code",
   "execution_count": 40,
   "id": "373314de",
   "metadata": {},
   "outputs": [
    {
     "data": {
      "text/plain": [
       "Series([], dtype: bool)"
      ]
     },
     "execution_count": 40,
     "metadata": {},
     "output_type": "execute_result"
    }
   ],
   "source": [
    "test = valid_preds_df.apply(lambda x: sum(x) == 1, axis=1)\n",
    "test[~test]"
   ]
  },
  {
   "cell_type": "code",
   "execution_count": 41,
   "id": "d3e0baee",
   "metadata": {},
   "outputs": [],
   "source": [
    "def label(row):\n",
    "    for col in row:\n",
    "        print(row[col])\n",
    "        if row[col] == 1:\n",
    "            row[col] = col\n",
    "    return row"
   ]
  },
  {
   "cell_type": "code",
   "execution_count": 42,
   "id": "68da9c2f",
   "metadata": {},
   "outputs": [],
   "source": [
    "def label(row):\n",
    "    for col in range(len(valid_labels_df.columns)):\n",
    "        if row[col] == 1:\n",
    "            return valid_labels_df.columns[col]\n",
    "\n",
    "label_confusion = pd.DataFrame(valid_labels_df.apply(label, axis=1))\n",
    "preds_confusion = pd.DataFrame(valid_preds_df.apply(label, axis=1))"
   ]
  },
  {
   "cell_type": "code",
   "execution_count": 43,
   "id": "b7bed78e",
   "metadata": {},
   "outputs": [
    {
     "data": {
      "image/png": "[encoded data removed]",
      "text/plain": [
       "<Figure size 432x288 with 2 Axes>"
      ]
     },
     "metadata": {
      "needs_background": "light"
     },
     "output_type": "display_data"
    }
   ],
   "source": [
    "from sklearn.metrics import ConfusionMatrixDisplay\n",
    "cm = confusion_matrix(label_confusion, preds_confusion,labels=valid_scores_df.columns)\n",
    "cm_display = ConfusionMatrixDisplay(cm, display_labels=valid_scores_df.columns).plot()"
   ]
  },
  {
   "cell_type": "code",
   "execution_count": 44,
   "id": "59677d83",
   "metadata": {},
   "outputs": [
    {
     "data": {
      "text/plain": [
       "<sklearn.metrics._plot.confusion_matrix.ConfusionMatrixDisplay at 0x2628d0e7548>"
      ]
     },
     "execution_count": 44,
     "metadata": {},
     "output_type": "execute_result"
    },
    {
     "data": {
      "image/png": "[encoded data removed]",
      "text/plain": [
       "<Figure size 432x288 with 2 Axes>"
      ]
     },
     "metadata": {
      "needs_background": "light"
     },
     "output_type": "display_data"
    }
   ],
   "source": [
    "ConfusionMatrixDisplay.from_predictions(label_confusion, preds_confusion,labels=valid_scores_df.columns)"
   ]
  },
  {
   "cell_type": "code",
   "execution_count": 45,
   "id": "e46b286e",
   "metadata": {},
   "outputs": [],
   "source": [
    "import itertools\n",
    "def plot_confusion_matrix_2(cm,\n",
    "                      target_names,\n",
    "                      title='Tweetynet WTS on Opensoundscape with Mixed Bird Other',\n",
    "                      cmap=None,\n",
    "                      normalize=True,\n",
    "                      FONT_SIZE = 10,\n",
    "                      figsize = (8*2, 6*2)):\n",
    "    \"\"\"\n",
    "    given a sklearn confusion matrix (cm), make a nice plot\n",
    "\n",
    "    Arguments\n",
    "    ---------\n",
    "    cm:           confusion matrix from sklearn.metrics.confusion_matrix\n",
    "\n",
    "    target_names: given classification classes such as [0, 1, 2]\n",
    "                  the class names, for example: ['high', 'medium', 'low']\n",
    "\n",
    "    title:        the text to display at the top of the matrix\n",
    "\n",
    "    cmap:         the gradient of the values displayed from matplotlib.pyplot.cm\n",
    "                  see http://matplotlib.org/examples/color/colormaps_reference.html\n",
    "                  plt.get_cmap('jet') or plt.cm.Blues\n",
    "\n",
    "    normalize:    If False, plot the raw numbers\n",
    "                  If True, plot the proportions\n",
    "\n",
    "\n",
    "    Citiation\n",
    "    ---------\n",
    "    http://scikit-learn.org/stable/auto_examples/model_selection/plot_confusion_matrix.html\n",
    "    https://stackoverflow.com/questions/48855290/plotted-confusion-matrix-values-overlapping-each-other-total-classes-90\n",
    "\n",
    "    \"\"\"\n",
    "\n",
    "\n",
    "    accuracy = np.trace(cm) / float(np.sum(cm))\n",
    "    misclass = 1 - accuracy\n",
    "\n",
    "    if cmap is None:\n",
    "        cmap = plt.get_cmap('Blues')\n",
    "\n",
    "    plt.figure(figsize=figsize)    # 8, 6\n",
    "    plt.imshow(cm, interpolation='nearest', cmap=cmap)\n",
    "    plt.title(title)\n",
    "    plt.colorbar()\n",
    "\n",
    "    if target_names is not None:\n",
    "        tick_marks = np.arange(len(target_names))\n",
    "        plt.xticks(tick_marks, target_names, rotation=90, fontsize=FONT_SIZE)\n",
    "        plt.yticks(tick_marks, target_names, fontsize=FONT_SIZE)\n",
    "\n",
    "    if normalize:\n",
    "        cm = cm.astype('float') / cm.sum(axis=1)[:, np.newaxis]\n",
    "\n",
    "\n",
    "    thresh = cm.max() / 1.5 if normalize else cm.max() / 2\n",
    "    for i, j in itertools.product(range(cm.shape[0]), range(cm.shape[1])):\n",
    "        if normalize:\n",
    "            plt.text(j, i, \"{:0.4f}\".format(cm[i, j]),\n",
    "                     horizontalalignment=\"center\",\n",
    "                     fontsize=FONT_SIZE,\n",
    "                     color=\"white\" if cm[i, j] > thresh else \"black\")\n",
    "        else:\n",
    "            plt.text(j, i, \"{:,}\".format(cm[i, j]),\n",
    "                     horizontalalignment=\"center\",\n",
    "                     fontsize=FONT_SIZE,\n",
    "                     color=\"white\" if cm[i, j] > thresh else \"black\")\n",
    "\n",
    "\n",
    "    plt.tight_layout()\n",
    "    plt.ylabel('True label')\n",
    "    plt.xlabel('Predicted label\\naccuracy={:0.4f}; misclass={:0.4f}'.format(accuracy, misclass))\n",
    "    plt.show()"
   ]
  },
  {
   "cell_type": "code",
   "execution_count": 46,
   "id": "22742cb2",
   "metadata": {},
   "outputs": [
    {
     "data": {
      "image/png": "[encoded data removed]",
      "text/plain": [
       "<Figure size 1152x864 with 2 Axes>"
      ]
     },
     "metadata": {
      "needs_background": "light"
     },
     "output_type": "display_data"
    }
   ],
   "source": [
    "plot_confusion_matrix_2(cm, target_names=valid_scores_df.columns, FONT_SIZE=15)"
   ]
  },
  {
   "cell_type": "code",
   "execution_count": null,
   "id": "38038004",
   "metadata": {},
   "outputs": [],
   "source": []
  }
 ],
 "metadata": {
  "kernelspec": {
   "display_name": "Python 3",
   "language": "python",
   "name": "python3"
  },
  "language_info": {
   "codemirror_mode": {
    "name": "ipython",
    "version": 3
   },
   "file_extension": ".py",
   "mimetype": "text/x-python",
   "name": "python",
   "nbconvert_exporter": "python",
   "pygments_lexer": "ipython3",
   "version": "3.7.10"
  }
 },
 "nbformat": 4,
 "nbformat_minor": 5
}
