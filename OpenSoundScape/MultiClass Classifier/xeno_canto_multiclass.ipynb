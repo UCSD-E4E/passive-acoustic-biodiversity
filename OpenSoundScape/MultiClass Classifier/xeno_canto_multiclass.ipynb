{
 "cells": [
  {
   "cell_type": "code",
   "execution_count": 1,
   "id": "678201ba-eecf-4c22-8192-7e35a34acaa8",
   "metadata": {},
   "outputs": [],
   "source": [
    "from opensoundscape.preprocess.preprocessors import BasePreprocessor, AudioToSpectrogramPreprocessor, CnnPreprocessor\n",
    "import torch\n",
    "import pandas as pd\n",
    "from pathlib import Path\n",
    "import numpy as np\n",
    "import pandas as pd\n",
    "from opensoundscape.torch.models import cnn\n",
    "from opensoundscape.torch.architectures import cnn_architectures"
   ]
  },
  {
   "cell_type": "code",
   "execution_count": 2,
   "id": "061a3e9d",
   "metadata": {},
   "outputs": [
    {
     "name": "stdout",
     "output_type": "stream",
     "text": [
      "(199, 6)\n",
      "(1348, 6)\n",
      "(1106, 6)\n",
      "(163, 6)\n",
      "(37, 6)\n"
     ]
    }
   ],
   "source": [
    "df = pd.read_csv('screaming_pyha_test.csv')\n",
    "ef = pd.read_csv('flycatcher_test.csv')\n",
    "ff = pd.read_csv('antbird_test.csv')\n",
    "gf = pd.read_csv('attila_test.csv')\n",
    "hf = pd.read_csv('peppershrike_test.csv')\n",
    "print(df.shape)\n",
    "print(ef.shape)\n",
    "print(ff.shape)\n",
    "print(gf.shape)\n",
    "print(hf.shape)"
   ]
  },
  {
   "cell_type": "code",
   "execution_count": 3,
   "id": "3d2b1263",
   "metadata": {},
   "outputs": [],
   "source": [
    "# df = df.append(ef, ignore_index=True)\n",
    "# df = df.append(ff, ignore_index=True)\n",
    "# df = df.append(gf, ignore_index=True)\n",
    "# df = df.append(hf, ignore_index=True)\n",
    "# df.shape\n",
    "df = pd.read_csv('xeno_canto_test.csv')\n",
    "ef = pd.read_csv('xeno_canto_test_data.csv')"
   ]
  },
  {
   "cell_type": "code",
   "execution_count": 4,
   "id": "f89cc89e",
   "metadata": {},
   "outputs": [
    {
     "data": {
      "text/plain": [
       "Index(['Unnamed: 0', 'file', 'start_time', 'end_time', 'SAMPLING RATE',\n",
       "       'MANUAL ID'],\n",
       "      dtype='object')"
      ]
     },
     "execution_count": 4,
     "metadata": {},
     "output_type": "execute_result"
    }
   ],
   "source": [
    "# ff.drop('Unnamed: 0', inplace=True)\n",
    "df.columns"
   ]
  },
  {
   "cell_type": "code",
   "execution_count": 5,
   "id": "257ef075",
   "metadata": {},
   "outputs": [
    {
     "data": {
      "text/plain": [
       "White-throated Toucan        3776\n",
       "Red-eyed Vireo               1886\n",
       "Eastern Kingbird             1403\n",
       "White-bellied Tody-Tyrant    1018\n",
       "Ihering's Antwren             295\n",
       "Great-billed Hermit           237\n",
       "Chivi Vireo                   234\n",
       "Philadelphia Vireo             60\n",
       "Scissor-tailed Flycatcher      58\n",
       "Creamy-bellied Thrush          50\n",
       "Black-and-white Warbler        50\n",
       "Wood Thrush                    41\n",
       "Yellow-throated Toucan         28\n",
       "Brown Bullfinch                26\n",
       "Noronha Vireo                  26\n",
       "Bamboo Antshrike               19\n",
       "Yellow-bellied Flycatcher      19\n",
       "Long-billed Hermit             17\n",
       "Water Rail                     15\n",
       "Philippine Woodpecker          12\n",
       "Yellow-green Vireo             11\n",
       "Brown Violetear                11\n",
       "Striated Antbird               11\n",
       "Blue-backed Manakin            11\n",
       "Channel-billed Toucan           9\n",
       "Brown-headed Cowbird            8\n",
       "White-throated Spadebill        8\n",
       "Mountain Scops-Owl              6\n",
       "White-browed Tapaculo           5\n",
       "Name: MANUAL ID, dtype: int64"
      ]
     },
     "execution_count": 5,
     "metadata": {},
     "output_type": "execute_result"
    }
   ],
   "source": [
    "df['MANUAL ID'].value_counts()"
   ]
  },
  {
   "cell_type": "code",
   "execution_count": 6,
   "id": "6952d68b",
   "metadata": {},
   "outputs": [
    {
     "data": {
      "text/plain": [
       "White-throated Toucan        107\n",
       "Ihering's Antwren            102\n",
       "Red-eyed Vireo                98\n",
       "Brassy-breasted Tanager       91\n",
       "Eastern Kingbird              85\n",
       "White-bellied Tody-Tyrant     83\n",
       "Charming Hummingbird          26\n",
       "Bluish-slate Antshrike        25\n",
       "Chivi Vireo                    4\n",
       "Name: MANUAL ID, dtype: int64"
      ]
     },
     "execution_count": 6,
     "metadata": {},
     "output_type": "execute_result"
    }
   ],
   "source": [
    "ef['MANUAL ID'].value_counts()"
   ]
  },
  {
   "cell_type": "code",
   "execution_count": 7,
   "id": "e048aaa1",
   "metadata": {},
   "outputs": [
    {
     "name": "stdout",
     "output_type": "stream",
     "text": [
      "Toucan         3813\n",
      "Vireo          2217\n",
      "Kingbird       1403\n",
      "Tody-Tyrant    1018\n",
      "Antwren         295\n",
      "Antshrike        19\n",
      "Name: MANUAL ID, dtype: int64\n",
      "Toucan         107\n",
      "Antwren        102\n",
      "Vireo          102\n",
      "Kingbird        85\n",
      "Tody-Tyrant     83\n",
      "Antshrike       25\n",
      "Name: MANUAL ID, dtype: int64\n"
     ]
    }
   ],
   "source": [
    "df.loc[df['MANUAL ID'].str.contains('Toucan'), 'MANUAL ID'] = ef.loc[ef['MANUAL ID'].str.contains('Toucan'), 'MANUAL ID'] = 'Toucan'\n",
    "df.loc[df['MANUAL ID'].str.contains('Flycatcher'), 'MANUAL ID'] = 'Flycatcher'\n",
    "df.loc[df['MANUAL ID'].str.contains('Thrush'), 'MANUAL ID'] = 'Thrush'\n",
    "df.loc[df['MANUAL ID'].str.contains('Vireo'), 'MANUAL ID'] = ef.loc[ef['MANUAL ID'].str.contains('Vireo'), 'MANUAL ID'] = 'Vireo'\n",
    "df.loc[df['MANUAL ID'].str.contains('Antwren'), 'MANUAL ID'] = ef.loc[ef['MANUAL ID'].str.contains('Antwren'), 'MANUAL ID'] = 'Antwren'\n",
    "df.loc[df['MANUAL ID'].str.contains('Tanager'), 'MANUAL ID'] = ef.loc[ef['MANUAL ID'].str.contains('Tanager'), 'MANUAL ID'] = 'Tanager'\n",
    "df.loc[df['MANUAL ID'].str.contains('Kingbird'), 'MANUAL ID'] = ef.loc[ef['MANUAL ID'].str.contains('Kingbird'), 'MANUAL ID'] = 'Kingbird'\n",
    "df.loc[df['MANUAL ID'].str.contains('Tody-Tyrant'), 'MANUAL ID'] = ef.loc[ef['MANUAL ID'].str.contains('Tody-Tyrant'), 'MANUAL ID'] = 'Tody-Tyrant'\n",
    "df.loc[df['MANUAL ID'].str.contains('Hummingbird'), 'MANUAL ID'] = ef.loc[ef['MANUAL ID'].str.contains('Hummingbird'), 'MANUAL ID'] = 'Hummingbird'\n",
    "df.loc[df['MANUAL ID'].str.contains('Antshrike'), 'MANUAL ID'] = ef.loc[ef['MANUAL ID'].str.contains('Antshrike'), 'MANUAL ID'] = 'Antshrike'\n",
    "\n",
    "classes = ['Antwren', 'Antshrike', 'Toucan', 'Vireo', 'Kingbird', 'Tody-Tyrant']\n",
    "for i, row in df.iterrows():\n",
    "    if(row['MANUAL ID'] not in classes):\n",
    "        df.drop(i, inplace=True)\n",
    "for i, row in ef.iterrows():\n",
    "    if(row['MANUAL ID'] not in classes):\n",
    "        ef.drop(i, inplace=True)\n",
    "print(df['MANUAL ID'].value_counts())\n",
    "print(ef['MANUAL ID'].value_counts())"
   ]
  },
  {
   "cell_type": "code",
   "execution_count": 8,
   "id": "fd08b116",
   "metadata": {},
   "outputs": [],
   "source": [
    "from opensoundscape.annotations import categorical_to_one_hot\n",
    "one_hot_labels, trainClasses = categorical_to_one_hot(df[['MANUAL ID']].values)\n",
    "trainValDF = pd.DataFrame(index=df['file'],data=one_hot_labels,columns=trainClasses)"
   ]
  },
  {
   "cell_type": "code",
   "execution_count": 9,
   "id": "7f8c44a4",
   "metadata": {},
   "outputs": [],
   "source": [
    "one_hot_labels, testClasses = categorical_to_one_hot(ef[['MANUAL ID']].values)\n",
    "testDF = pd.DataFrame(index=ef['file'],data=one_hot_labels,columns=testClasses)"
   ]
  },
  {
   "cell_type": "code",
   "execution_count": 10,
   "id": "3ecf0775",
   "metadata": {},
   "outputs": [
    {
     "data": {
      "text/plain": [
       "\"\\n    'Antwren', 'Antshrike', 'Toucan', 'Vireo', 'Kingbird', 'Tody-Tyrant'\\n\""
      ]
     },
     "execution_count": 10,
     "metadata": {},
     "output_type": "execute_result"
    }
   ],
   "source": [
    "'''\n",
    "    'Antwren', 'Antshrike', 'Toucan', 'Vireo', 'Kingbird', 'Tody-Tyrant'\n",
    "'''"
   ]
  },
  {
   "cell_type": "code",
   "execution_count": 11,
   "id": "d6383a5a",
   "metadata": {},
   "outputs": [
    {
     "data": {
      "text/plain": [
       "['Antwren', 'Kingbird', 'Vireo', 'Toucan', 'Tody-Tyrant', 'Antshrike']"
      ]
     },
     "execution_count": 11,
     "metadata": {},
     "output_type": "execute_result"
    }
   ],
   "source": [
    "trainClasses"
   ]
  },
  {
   "cell_type": "code",
   "execution_count": 12,
   "id": "d1f876f7",
   "metadata": {},
   "outputs": [
    {
     "data": {
      "text/plain": [
       "['Antwren', 'Kingbird', 'Vireo', 'Toucan', 'Tody-Tyrant', 'Antshrike']"
      ]
     },
     "execution_count": 12,
     "metadata": {},
     "output_type": "execute_result"
    }
   ],
   "source": [
    "testClasses"
   ]
  },
  {
   "cell_type": "code",
   "execution_count": 13,
   "id": "f13348ff-d3eb-44d3-b29a-2ba0963b6c02",
   "metadata": {},
   "outputs": [],
   "source": [
    "# reference - http://opensoundscape.org/en/latest/api/modules.html?highlight=multiclass#opensoundscape.torch.models.cnn.Resnet18Multiclass\n",
    "\n",
    "# http://opensoundscape.org/en/latest/api/modules.html?highlight=multiclass#opensoundscape.metrics.multiclass_metrics"
   ]
  },
  {
   "cell_type": "code",
   "execution_count": 14,
   "id": "ec470fad",
   "metadata": {},
   "outputs": [],
   "source": [
    "from sklearn.model_selection import train_test_split\n",
    "train_df, valid_df = train_test_split(trainValDF, test_size=0.2, random_state=42)\n",
    "# train_df, test_df = train_test_split(train_df, test_size=0.1, random_state=42)"
   ]
  },
  {
   "cell_type": "code",
   "execution_count": 15,
   "id": "215adf91",
   "metadata": {},
   "outputs": [
    {
     "name": "stdout",
     "output_type": "stream",
     "text": [
      "(7012, 6)\n",
      "(1753, 6)\n",
      "(504, 6)\n"
     ]
    }
   ],
   "source": [
    "print(train_df.shape)\n",
    "print(valid_df.shape)\n",
    "print(testDF.shape)"
   ]
  },
  {
   "cell_type": "code",
   "execution_count": 16,
   "id": "5796758b-3169-4cb7-ad5f-072bbd79e1e2",
   "metadata": {},
   "outputs": [],
   "source": [
    "train_dataset = CnnPreprocessor(df=train_df)\n",
    "train_dataset.augmentation_on()\n",
    "train_dataset.actions.load_audio.set(sample_rate=44100)\n",
    "valid_dataset = CnnPreprocessor(df=valid_df)\n",
    "valid_dataset.augmentation_on()\n",
    "valid_dataset.actions.load_audio.set(sample_rate=44100)"
   ]
  },
  {
   "cell_type": "code",
   "execution_count": 17,
   "id": "f45eadac-9474-4ffa-9bde-3f0d8236fb2c",
   "metadata": {},
   "outputs": [
    {
     "name": "stdout",
     "output_type": "stream",
     "text": [
      "created PytorchModel model object with 6 classes\n"
     ]
    }
   ],
   "source": [
    "model = cnn.Resnet18Multiclass(trainClasses)"
   ]
  },
  {
   "cell_type": "code",
   "execution_count": 18,
   "id": "e25e9302",
   "metadata": {},
   "outputs": [
    {
     "data": {
      "text/plain": [
       "Index(['Antwren', 'Kingbird', 'Vireo', 'Toucan', 'Tody-Tyrant', 'Antshrike'], dtype='object')"
      ]
     },
     "execution_count": 18,
     "metadata": {},
     "output_type": "execute_result"
    }
   ],
   "source": [
    "train_dataset.classes"
   ]
  },
  {
   "cell_type": "code",
   "execution_count": 19,
   "id": "087d1c63",
   "metadata": {},
   "outputs": [
    {
     "data": {
      "text/plain": [
       "['Antwren', 'Kingbird', 'Vireo', 'Toucan', 'Tody-Tyrant', 'Antshrike']"
      ]
     },
     "execution_count": 19,
     "metadata": {},
     "output_type": "execute_result"
    }
   ],
   "source": [
    "model.classes"
   ]
  },
  {
   "cell_type": "code",
   "execution_count": 20,
   "id": "13587c56",
   "metadata": {},
   "outputs": [
    {
     "name": "stdout",
     "output_type": "stream",
     "text": [
      "Epoch: 0 [batch 0/220 (0.00%)] \n",
      "\tJacc: 0.167 Hamm: 0.833 DistLoss: 30.906\n",
      "Epoch: 0 [batch 10/220 (4.55%)] \n",
      "\tJacc: 0.172 Hamm: 0.115 DistLoss: 18.979\n"
     ]
    },
    {
     "name": "stderr",
     "output_type": "stream",
     "text": [
      "/Users/kushagraagrawal/anaconda3/envs/opso/lib/python3.8/site-packages/sklearn/metrics/_classification.py:1318: UndefinedMetricWarning: Jaccard is ill-defined and being set to 0.0 in labels with no true or predicted samples. Use `zero_division` parameter to control this behavior.\n",
      "  _warn_prf(average, modifier, msg_start, len(result))\n"
     ]
    },
    {
     "name": "stdout",
     "output_type": "stream",
     "text": [
      "Epoch: 0 [batch 20/220 (9.09%)] \n",
      "\tJacc: 0.247 Hamm: 0.089 DistLoss: 15.861\n"
     ]
    },
    {
     "name": "stderr",
     "output_type": "stream",
     "text": [
      "/Users/kushagraagrawal/anaconda3/envs/opso/lib/python3.8/site-packages/sklearn/metrics/_classification.py:1318: UndefinedMetricWarning: Jaccard is ill-defined and being set to 0.0 in labels with no true or predicted samples. Use `zero_division` parameter to control this behavior.\n",
      "  _warn_prf(average, modifier, msg_start, len(result))\n"
     ]
    },
    {
     "name": "stdout",
     "output_type": "stream",
     "text": [
      "Epoch: 0 [batch 30/220 (13.64%)] \n",
      "\tJacc: 0.331 Hamm: 0.078 DistLoss: 13.653\n"
     ]
    },
    {
     "name": "stderr",
     "output_type": "stream",
     "text": [
      "/Users/kushagraagrawal/anaconda3/envs/opso/lib/python3.8/site-packages/sklearn/metrics/_classification.py:1318: UndefinedMetricWarning: Jaccard is ill-defined and being set to 0.0 in labels with no true or predicted samples. Use `zero_division` parameter to control this behavior.\n",
      "  _warn_prf(average, modifier, msg_start, len(result))\n"
     ]
    },
    {
     "name": "stdout",
     "output_type": "stream",
     "text": [
      "Epoch: 0 [batch 40/220 (18.18%)] \n",
      "\tJacc: 0.293 Hamm: 0.083 DistLoss: 11.784\n"
     ]
    },
    {
     "name": "stderr",
     "output_type": "stream",
     "text": [
      "/Users/kushagraagrawal/anaconda3/envs/opso/lib/python3.8/site-packages/sklearn/metrics/_classification.py:1318: UndefinedMetricWarning: Jaccard is ill-defined and being set to 0.0 in labels with no true or predicted samples. Use `zero_division` parameter to control this behavior.\n",
      "  _warn_prf(average, modifier, msg_start, len(result))\n"
     ]
    },
    {
     "name": "stdout",
     "output_type": "stream",
     "text": [
      "Epoch: 0 [batch 50/220 (22.73%)] \n",
      "\tJacc: 0.504 Hamm: 0.021 DistLoss: 10.712\n"
     ]
    },
    {
     "name": "stderr",
     "output_type": "stream",
     "text": [
      "/Users/kushagraagrawal/anaconda3/envs/opso/lib/python3.8/site-packages/sklearn/metrics/_classification.py:1318: UndefinedMetricWarning: Jaccard is ill-defined and being set to 0.0 in labels with no true or predicted samples. Use `zero_division` parameter to control this behavior.\n",
      "  _warn_prf(average, modifier, msg_start, len(result))\n"
     ]
    },
    {
     "name": "stdout",
     "output_type": "stream",
     "text": [
      "Epoch: 0 [batch 60/220 (27.27%)] \n",
      "\tJacc: 0.516 Hamm: 0.021 DistLoss: 9.718\n"
     ]
    },
    {
     "name": "stderr",
     "output_type": "stream",
     "text": [
      "/Users/kushagraagrawal/anaconda3/envs/opso/lib/python3.8/site-packages/sklearn/metrics/_classification.py:1318: UndefinedMetricWarning: Jaccard is ill-defined and being set to 0.0 in labels with no true or predicted samples. Use `zero_division` parameter to control this behavior.\n",
      "  _warn_prf(average, modifier, msg_start, len(result))\n"
     ]
    },
    {
     "name": "stdout",
     "output_type": "stream",
     "text": [
      "Epoch: 0 [batch 70/220 (31.82%)] \n",
      "\tJacc: 0.399 Hamm: 0.057 DistLoss: 9.087\n"
     ]
    },
    {
     "name": "stderr",
     "output_type": "stream",
     "text": [
      "/Users/kushagraagrawal/anaconda3/envs/opso/lib/python3.8/site-packages/sklearn/metrics/_classification.py:1318: UndefinedMetricWarning: Jaccard is ill-defined and being set to 0.0 in labels with no true or predicted samples. Use `zero_division` parameter to control this behavior.\n",
      "  _warn_prf(average, modifier, msg_start, len(result))\n"
     ]
    },
    {
     "name": "stdout",
     "output_type": "stream",
     "text": [
      "Epoch: 0 [batch 80/220 (36.36%)] \n",
      "\tJacc: 0.386 Hamm: 0.073 DistLoss: 8.631\n"
     ]
    },
    {
     "name": "stderr",
     "output_type": "stream",
     "text": [
      "/Users/kushagraagrawal/anaconda3/envs/opso/lib/python3.8/site-packages/sklearn/metrics/_classification.py:1318: UndefinedMetricWarning: Jaccard is ill-defined and being set to 0.0 in labels with no true or predicted samples. Use `zero_division` parameter to control this behavior.\n",
      "  _warn_prf(average, modifier, msg_start, len(result))\n"
     ]
    },
    {
     "name": "stdout",
     "output_type": "stream",
     "text": [
      "Epoch: 0 [batch 90/220 (40.91%)] \n",
      "\tJacc: 0.464 Hamm: 0.052 DistLoss: 8.251\n"
     ]
    },
    {
     "name": "stderr",
     "output_type": "stream",
     "text": [
      "/Users/kushagraagrawal/anaconda3/envs/opso/lib/python3.8/site-packages/sklearn/metrics/_classification.py:1318: UndefinedMetricWarning: Jaccard is ill-defined and being set to 0.0 in labels with no true or predicted samples. Use `zero_division` parameter to control this behavior.\n",
      "  _warn_prf(average, modifier, msg_start, len(result))\n"
     ]
    },
    {
     "name": "stdout",
     "output_type": "stream",
     "text": [
      "Epoch: 0 [batch 100/220 (45.45%)] \n",
      "\tJacc: 0.434 Hamm: 0.057 DistLoss: 7.920\n"
     ]
    },
    {
     "name": "stderr",
     "output_type": "stream",
     "text": [
      "/Users/kushagraagrawal/anaconda3/envs/opso/lib/python3.8/site-packages/sklearn/metrics/_classification.py:1318: UndefinedMetricWarning: Jaccard is ill-defined and being set to 0.0 in labels with no true or predicted samples. Use `zero_division` parameter to control this behavior.\n",
      "  _warn_prf(average, modifier, msg_start, len(result))\n"
     ]
    },
    {
     "name": "stdout",
     "output_type": "stream",
     "text": [
      "Epoch: 0 [batch 110/220 (50.00%)] \n",
      "\tJacc: 0.514 Hamm: 0.042 DistLoss: 7.594\n"
     ]
    },
    {
     "name": "stderr",
     "output_type": "stream",
     "text": [
      "/Users/kushagraagrawal/anaconda3/envs/opso/lib/python3.8/site-packages/sklearn/metrics/_classification.py:1318: UndefinedMetricWarning: Jaccard is ill-defined and being set to 0.0 in labels with no true or predicted samples. Use `zero_division` parameter to control this behavior.\n",
      "  _warn_prf(average, modifier, msg_start, len(result))\n"
     ]
    },
    {
     "name": "stdout",
     "output_type": "stream",
     "text": [
      "Epoch: 0 [batch 120/220 (54.55%)] \n",
      "\tJacc: 0.348 Hamm: 0.078 DistLoss: 7.410\n"
     ]
    },
    {
     "name": "stderr",
     "output_type": "stream",
     "text": [
      "/Users/kushagraagrawal/anaconda3/envs/opso/lib/python3.8/site-packages/sklearn/metrics/_classification.py:1318: UndefinedMetricWarning: Jaccard is ill-defined and being set to 0.0 in labels with no true or predicted samples. Use `zero_division` parameter to control this behavior.\n",
      "  _warn_prf(average, modifier, msg_start, len(result))\n"
     ]
    },
    {
     "name": "stdout",
     "output_type": "stream",
     "text": [
      "Epoch: 0 [batch 130/220 (59.09%)] \n",
      "\tJacc: 0.428 Hamm: 0.036 DistLoss: 7.181\n"
     ]
    },
    {
     "name": "stderr",
     "output_type": "stream",
     "text": [
      "/Users/kushagraagrawal/anaconda3/envs/opso/lib/python3.8/site-packages/sklearn/metrics/_classification.py:1318: UndefinedMetricWarning: Jaccard is ill-defined and being set to 0.0 in labels with no true or predicted samples. Use `zero_division` parameter to control this behavior.\n",
      "  _warn_prf(average, modifier, msg_start, len(result))\n"
     ]
    },
    {
     "name": "stdout",
     "output_type": "stream",
     "text": [
      "Epoch: 0 [batch 140/220 (63.64%)] \n",
      "\tJacc: 0.630 Hamm: 0.026 DistLoss: 6.940\n"
     ]
    },
    {
     "name": "stderr",
     "output_type": "stream",
     "text": [
      "/Users/kushagraagrawal/anaconda3/envs/opso/lib/python3.8/site-packages/sklearn/metrics/_classification.py:1318: UndefinedMetricWarning: Jaccard is ill-defined and being set to 0.0 in labels with no true or predicted samples. Use `zero_division` parameter to control this behavior.\n",
      "  _warn_prf(average, modifier, msg_start, len(result))\n"
     ]
    },
    {
     "name": "stdout",
     "output_type": "stream",
     "text": [
      "Epoch: 0 [batch 150/220 (68.18%)] \n",
      "\tJacc: 0.493 Hamm: 0.047 DistLoss: 6.681\n"
     ]
    },
    {
     "name": "stderr",
     "output_type": "stream",
     "text": [
      "/Users/kushagraagrawal/anaconda3/envs/opso/lib/python3.8/site-packages/sklearn/metrics/_classification.py:1318: UndefinedMetricWarning: Jaccard is ill-defined and being set to 0.0 in labels with no true or predicted samples. Use `zero_division` parameter to control this behavior.\n",
      "  _warn_prf(average, modifier, msg_start, len(result))\n"
     ]
    },
    {
     "name": "stdout",
     "output_type": "stream",
     "text": [
      "Epoch: 0 [batch 160/220 (72.73%)] \n",
      "\tJacc: 0.330 Hamm: 0.078 DistLoss: 6.534\n"
     ]
    },
    {
     "name": "stderr",
     "output_type": "stream",
     "text": [
      "/Users/kushagraagrawal/anaconda3/envs/opso/lib/python3.8/site-packages/sklearn/metrics/_classification.py:1318: UndefinedMetricWarning: Jaccard is ill-defined and being set to 0.0 in labels with no true or predicted samples. Use `zero_division` parameter to control this behavior.\n",
      "  _warn_prf(average, modifier, msg_start, len(result))\n"
     ]
    },
    {
     "name": "stdout",
     "output_type": "stream",
     "text": [
      "Epoch: 0 [batch 170/220 (77.27%)] \n",
      "\tJacc: 0.532 Hamm: 0.036 DistLoss: 6.379\n"
     ]
    },
    {
     "name": "stderr",
     "output_type": "stream",
     "text": [
      "/Users/kushagraagrawal/anaconda3/envs/opso/lib/python3.8/site-packages/sklearn/metrics/_classification.py:1318: UndefinedMetricWarning: Jaccard is ill-defined and being set to 0.0 in labels with no true or predicted samples. Use `zero_division` parameter to control this behavior.\n",
      "  _warn_prf(average, modifier, msg_start, len(result))\n"
     ]
    },
    {
     "name": "stdout",
     "output_type": "stream",
     "text": [
      "Epoch: 0 [batch 180/220 (81.82%)] \n",
      "\tJacc: 0.605 Hamm: 0.026 DistLoss: 6.238\n"
     ]
    },
    {
     "name": "stderr",
     "output_type": "stream",
     "text": [
      "/Users/kushagraagrawal/anaconda3/envs/opso/lib/python3.8/site-packages/sklearn/metrics/_classification.py:1318: UndefinedMetricWarning: Jaccard is ill-defined and being set to 0.0 in labels with no true or predicted samples. Use `zero_division` parameter to control this behavior.\n",
      "  _warn_prf(average, modifier, msg_start, len(result))\n"
     ]
    },
    {
     "name": "stdout",
     "output_type": "stream",
     "text": [
      "Epoch: 0 [batch 190/220 (86.36%)] \n",
      "\tJacc: 0.503 Hamm: 0.042 DistLoss: 6.116\n"
     ]
    },
    {
     "name": "stderr",
     "output_type": "stream",
     "text": [
      "/Users/kushagraagrawal/anaconda3/envs/opso/lib/python3.8/site-packages/sklearn/metrics/_classification.py:1318: UndefinedMetricWarning: Jaccard is ill-defined and being set to 0.0 in labels with no true or predicted samples. Use `zero_division` parameter to control this behavior.\n",
      "  _warn_prf(average, modifier, msg_start, len(result))\n"
     ]
    },
    {
     "name": "stdout",
     "output_type": "stream",
     "text": [
      "Epoch: 0 [batch 200/220 (90.91%)] \n",
      "\tJacc: 0.767 Hamm: 0.010 DistLoss: 5.977\n"
     ]
    },
    {
     "name": "stderr",
     "output_type": "stream",
     "text": [
      "/Users/kushagraagrawal/anaconda3/envs/opso/lib/python3.8/site-packages/sklearn/metrics/_classification.py:1318: UndefinedMetricWarning: Jaccard is ill-defined and being set to 0.0 in labels with no true or predicted samples. Use `zero_division` parameter to control this behavior.\n",
      "  _warn_prf(average, modifier, msg_start, len(result))\n"
     ]
    },
    {
     "name": "stdout",
     "output_type": "stream",
     "text": [
      "Epoch: 0 [batch 210/220 (95.45%)] \n",
      "\tJacc: 0.661 Hamm: 0.031 DistLoss: 5.862\n"
     ]
    },
    {
     "name": "stderr",
     "output_type": "stream",
     "text": [
      "/Users/kushagraagrawal/anaconda3/envs/opso/lib/python3.8/site-packages/sklearn/metrics/_classification.py:1318: UndefinedMetricWarning: Jaccard is ill-defined and being set to 0.0 in labels with no true or predicted samples. Use `zero_division` parameter to control this behavior.\n",
      "  _warn_prf(average, modifier, msg_start, len(result))\n",
      "/Users/kushagraagrawal/.local/lib/python3.8/site-packages/scipy/signal/_spectral_py.py:1961: UserWarning: nperseg = 512 is greater than input length  = 468, using nperseg = 468\n",
      "  warnings.warn('nperseg = {0:d} is greater than input length '\n"
     ]
    },
    {
     "name": "stdout",
     "output_type": "stream",
     "text": [
      "\n",
      "Validation.\n",
      "(1753, 6)\n",
      "\t Precision: 0.7164040541104614\n",
      "\t Recall: 0.6633310215116168\n",
      "\t F1: 0.685897554718747\n",
      "Updating best model\n",
      "Epoch: 1 [batch 0/220 (0.00%)] \n",
      "\tJacc: 0.718 Hamm: 0.026 DistLoss: 3.208\n"
     ]
    },
    {
     "name": "stderr",
     "output_type": "stream",
     "text": [
      "/Users/kushagraagrawal/anaconda3/envs/opso/lib/python3.8/site-packages/sklearn/metrics/_classification.py:1318: UndefinedMetricWarning: Jaccard is ill-defined and being set to 0.0 in labels with no true or predicted samples. Use `zero_division` parameter to control this behavior.\n",
      "  _warn_prf(average, modifier, msg_start, len(result))\n"
     ]
    },
    {
     "name": "stdout",
     "output_type": "stream",
     "text": [
      "Epoch: 1 [batch 10/220 (4.55%)] \n",
      "\tJacc: 0.731 Hamm: 0.016 DistLoss: 3.379\n"
     ]
    },
    {
     "name": "stderr",
     "output_type": "stream",
     "text": [
      "/Users/kushagraagrawal/anaconda3/envs/opso/lib/python3.8/site-packages/sklearn/metrics/_classification.py:1318: UndefinedMetricWarning: Jaccard is ill-defined and being set to 0.0 in labels with no true or predicted samples. Use `zero_division` parameter to control this behavior.\n",
      "  _warn_prf(average, modifier, msg_start, len(result))\n"
     ]
    },
    {
     "name": "stdout",
     "output_type": "stream",
     "text": [
      "Epoch: 1 [batch 20/220 (9.09%)] \n",
      "\tJacc: 0.405 Hamm: 0.062 DistLoss: 3.617\n"
     ]
    },
    {
     "name": "stderr",
     "output_type": "stream",
     "text": [
      "/Users/kushagraagrawal/anaconda3/envs/opso/lib/python3.8/site-packages/sklearn/metrics/_classification.py:1318: UndefinedMetricWarning: Jaccard is ill-defined and being set to 0.0 in labels with no true or predicted samples. Use `zero_division` parameter to control this behavior.\n",
      "  _warn_prf(average, modifier, msg_start, len(result))\n"
     ]
    },
    {
     "name": "stdout",
     "output_type": "stream",
     "text": [
      "Epoch: 1 [batch 30/220 (13.64%)] \n",
      "\tJacc: 0.577 Hamm: 0.031 DistLoss: 3.506\n"
     ]
    },
    {
     "name": "stderr",
     "output_type": "stream",
     "text": [
      "/Users/kushagraagrawal/anaconda3/envs/opso/lib/python3.8/site-packages/sklearn/metrics/_classification.py:1318: UndefinedMetricWarning: Jaccard is ill-defined and being set to 0.0 in labels with no true or predicted samples. Use `zero_division` parameter to control this behavior.\n",
      "  _warn_prf(average, modifier, msg_start, len(result))\n"
     ]
    },
    {
     "name": "stdout",
     "output_type": "stream",
     "text": [
      "Epoch: 1 [batch 40/220 (18.18%)] \n",
      "\tJacc: 0.578 Hamm: 0.021 DistLoss: 3.331\n"
     ]
    },
    {
     "name": "stderr",
     "output_type": "stream",
     "text": [
      "/Users/kushagraagrawal/anaconda3/envs/opso/lib/python3.8/site-packages/sklearn/metrics/_classification.py:1318: UndefinedMetricWarning: Jaccard is ill-defined and being set to 0.0 in labels with no true or predicted samples. Use `zero_division` parameter to control this behavior.\n",
      "  _warn_prf(average, modifier, msg_start, len(result))\n"
     ]
    },
    {
     "name": "stdout",
     "output_type": "stream",
     "text": [
      "Epoch: 1 [batch 50/220 (22.73%)] \n",
      "\tJacc: 0.767 Hamm: 0.010 DistLoss: 3.248\n"
     ]
    },
    {
     "name": "stderr",
     "output_type": "stream",
     "text": [
      "/Users/kushagraagrawal/anaconda3/envs/opso/lib/python3.8/site-packages/sklearn/metrics/_classification.py:1318: UndefinedMetricWarning: Jaccard is ill-defined and being set to 0.0 in labels with no true or predicted samples. Use `zero_division` parameter to control this behavior.\n",
      "  _warn_prf(average, modifier, msg_start, len(result))\n"
     ]
    },
    {
     "name": "stdout",
     "output_type": "stream",
     "text": [
      "Epoch: 1 [batch 60/220 (27.27%)] \n",
      "\tJacc: 0.475 Hamm: 0.047 DistLoss: 3.183\n"
     ]
    },
    {
     "name": "stderr",
     "output_type": "stream",
     "text": [
      "/Users/kushagraagrawal/anaconda3/envs/opso/lib/python3.8/site-packages/sklearn/metrics/_classification.py:1318: UndefinedMetricWarning: Jaccard is ill-defined and being set to 0.0 in labels with no true or predicted samples. Use `zero_division` parameter to control this behavior.\n",
      "  _warn_prf(average, modifier, msg_start, len(result))\n"
     ]
    },
    {
     "name": "stdout",
     "output_type": "stream",
     "text": [
      "Epoch: 1 [batch 70/220 (31.82%)] \n",
      "\tJacc: 0.726 Hamm: 0.026 DistLoss: 3.257\n"
     ]
    },
    {
     "name": "stderr",
     "output_type": "stream",
     "text": [
      "/Users/kushagraagrawal/anaconda3/envs/opso/lib/python3.8/site-packages/sklearn/metrics/_classification.py:1318: UndefinedMetricWarning: Jaccard is ill-defined and being set to 0.0 in labels with no true or predicted samples. Use `zero_division` parameter to control this behavior.\n",
      "  _warn_prf(average, modifier, msg_start, len(result))\n"
     ]
    },
    {
     "name": "stdout",
     "output_type": "stream",
     "text": [
      "Epoch: 1 [batch 80/220 (36.36%)] \n",
      "\tJacc: 0.485 Hamm: 0.047 DistLoss: 3.293\n"
     ]
    },
    {
     "name": "stderr",
     "output_type": "stream",
     "text": [
      "/Users/kushagraagrawal/anaconda3/envs/opso/lib/python3.8/site-packages/sklearn/metrics/_classification.py:1318: UndefinedMetricWarning: Jaccard is ill-defined and being set to 0.0 in labels with no true or predicted samples. Use `zero_division` parameter to control this behavior.\n",
      "  _warn_prf(average, modifier, msg_start, len(result))\n"
     ]
    },
    {
     "name": "stdout",
     "output_type": "stream",
     "text": [
      "Epoch: 1 [batch 90/220 (40.91%)] \n",
      "\tJacc: 0.533 Hamm: 0.036 DistLoss: 3.351\n"
     ]
    },
    {
     "name": "stderr",
     "output_type": "stream",
     "text": [
      "/Users/kushagraagrawal/anaconda3/envs/opso/lib/python3.8/site-packages/sklearn/metrics/_classification.py:1318: UndefinedMetricWarning: Jaccard is ill-defined and being set to 0.0 in labels with no true or predicted samples. Use `zero_division` parameter to control this behavior.\n",
      "  _warn_prf(average, modifier, msg_start, len(result))\n"
     ]
    },
    {
     "name": "stdout",
     "output_type": "stream",
     "text": [
      "Epoch: 1 [batch 100/220 (45.45%)] \n",
      "\tJacc: 0.596 Hamm: 0.026 DistLoss: 3.351\n"
     ]
    },
    {
     "name": "stderr",
     "output_type": "stream",
     "text": [
      "/Users/kushagraagrawal/anaconda3/envs/opso/lib/python3.8/site-packages/sklearn/metrics/_classification.py:1318: UndefinedMetricWarning: Jaccard is ill-defined and being set to 0.0 in labels with no true or predicted samples. Use `zero_division` parameter to control this behavior.\n",
      "  _warn_prf(average, modifier, msg_start, len(result))\n"
     ]
    },
    {
     "name": "stdout",
     "output_type": "stream",
     "text": [
      "Epoch: 1 [batch 110/220 (50.00%)] \n",
      "\tJacc: 0.681 Hamm: 0.021 DistLoss: 3.283\n"
     ]
    },
    {
     "name": "stderr",
     "output_type": "stream",
     "text": [
      "/Users/kushagraagrawal/anaconda3/envs/opso/lib/python3.8/site-packages/sklearn/metrics/_classification.py:1318: UndefinedMetricWarning: Jaccard is ill-defined and being set to 0.0 in labels with no true or predicted samples. Use `zero_division` parameter to control this behavior.\n",
      "  _warn_prf(average, modifier, msg_start, len(result))\n"
     ]
    },
    {
     "name": "stdout",
     "output_type": "stream",
     "text": [
      "Epoch: 1 [batch 120/220 (54.55%)] \n",
      "\tJacc: 0.733 Hamm: 0.021 DistLoss: 3.199\n"
     ]
    },
    {
     "name": "stderr",
     "output_type": "stream",
     "text": [
      "/Users/kushagraagrawal/anaconda3/envs/opso/lib/python3.8/site-packages/sklearn/metrics/_classification.py:1318: UndefinedMetricWarning: Jaccard is ill-defined and being set to 0.0 in labels with no true or predicted samples. Use `zero_division` parameter to control this behavior.\n",
      "  _warn_prf(average, modifier, msg_start, len(result))\n"
     ]
    },
    {
     "name": "stdout",
     "output_type": "stream",
     "text": [
      "Epoch: 1 [batch 130/220 (59.09%)] \n",
      "\tJacc: 0.776 Hamm: 0.021 DistLoss: 3.127\n"
     ]
    },
    {
     "name": "stderr",
     "output_type": "stream",
     "text": [
      "/Users/kushagraagrawal/anaconda3/envs/opso/lib/python3.8/site-packages/sklearn/metrics/_classification.py:1318: UndefinedMetricWarning: Jaccard is ill-defined and being set to 0.0 in labels with no true or predicted samples. Use `zero_division` parameter to control this behavior.\n",
      "  _warn_prf(average, modifier, msg_start, len(result))\n"
     ]
    },
    {
     "name": "stdout",
     "output_type": "stream",
     "text": [
      "Epoch: 1 [batch 140/220 (63.64%)] \n",
      "\tJacc: 0.656 Hamm: 0.005 DistLoss: 3.026\n"
     ]
    },
    {
     "name": "stderr",
     "output_type": "stream",
     "text": [
      "/Users/kushagraagrawal/anaconda3/envs/opso/lib/python3.8/site-packages/sklearn/metrics/_classification.py:1318: UndefinedMetricWarning: Jaccard is ill-defined and being set to 0.0 in labels with no true or predicted samples. Use `zero_division` parameter to control this behavior.\n",
      "  _warn_prf(average, modifier, msg_start, len(result))\n"
     ]
    },
    {
     "name": "stdout",
     "output_type": "stream",
     "text": [
      "Epoch: 1 [batch 150/220 (68.18%)] \n",
      "\tJacc: 0.590 Hamm: 0.021 DistLoss: 2.977\n"
     ]
    },
    {
     "name": "stderr",
     "output_type": "stream",
     "text": [
      "/Users/kushagraagrawal/anaconda3/envs/opso/lib/python3.8/site-packages/sklearn/metrics/_classification.py:1318: UndefinedMetricWarning: Jaccard is ill-defined and being set to 0.0 in labels with no true or predicted samples. Use `zero_division` parameter to control this behavior.\n",
      "  _warn_prf(average, modifier, msg_start, len(result))\n"
     ]
    },
    {
     "name": "stdout",
     "output_type": "stream",
     "text": [
      "Epoch: 1 [batch 160/220 (72.73%)] \n",
      "\tJacc: 0.545 Hamm: 0.036 DistLoss: 2.955\n"
     ]
    },
    {
     "name": "stderr",
     "output_type": "stream",
     "text": [
      "/Users/kushagraagrawal/anaconda3/envs/opso/lib/python3.8/site-packages/sklearn/metrics/_classification.py:1318: UndefinedMetricWarning: Jaccard is ill-defined and being set to 0.0 in labels with no true or predicted samples. Use `zero_division` parameter to control this behavior.\n",
      "  _warn_prf(average, modifier, msg_start, len(result))\n"
     ]
    },
    {
     "name": "stdout",
     "output_type": "stream",
     "text": [
      "Epoch: 1 [batch 170/220 (77.27%)] \n",
      "\tJacc: 0.726 Hamm: 0.016 DistLoss: 2.952\n"
     ]
    },
    {
     "name": "stderr",
     "output_type": "stream",
     "text": [
      "/Users/kushagraagrawal/anaconda3/envs/opso/lib/python3.8/site-packages/sklearn/metrics/_classification.py:1318: UndefinedMetricWarning: Jaccard is ill-defined and being set to 0.0 in labels with no true or predicted samples. Use `zero_division` parameter to control this behavior.\n",
      "  _warn_prf(average, modifier, msg_start, len(result))\n"
     ]
    },
    {
     "name": "stdout",
     "output_type": "stream",
     "text": [
      "Epoch: 1 [batch 180/220 (81.82%)] \n",
      "\tJacc: 0.726 Hamm: 0.016 DistLoss: 2.948\n"
     ]
    },
    {
     "name": "stderr",
     "output_type": "stream",
     "text": [
      "/Users/kushagraagrawal/anaconda3/envs/opso/lib/python3.8/site-packages/sklearn/metrics/_classification.py:1318: UndefinedMetricWarning: Jaccard is ill-defined and being set to 0.0 in labels with no true or predicted samples. Use `zero_division` parameter to control this behavior.\n",
      "  _warn_prf(average, modifier, msg_start, len(result))\n"
     ]
    },
    {
     "name": "stdout",
     "output_type": "stream",
     "text": [
      "Epoch: 1 [batch 190/220 (86.36%)] \n",
      "\tJacc: 0.713 Hamm: 0.031 DistLoss: 2.922\n"
     ]
    },
    {
     "name": "stderr",
     "output_type": "stream",
     "text": [
      "/Users/kushagraagrawal/anaconda3/envs/opso/lib/python3.8/site-packages/sklearn/metrics/_classification.py:1318: UndefinedMetricWarning: Jaccard is ill-defined and being set to 0.0 in labels with no true or predicted samples. Use `zero_division` parameter to control this behavior.\n",
      "  _warn_prf(average, modifier, msg_start, len(result))\n"
     ]
    },
    {
     "name": "stdout",
     "output_type": "stream",
     "text": [
      "Epoch: 1 [batch 200/220 (90.91%)] \n",
      "\tJacc: 0.425 Hamm: 0.042 DistLoss: 2.932\n"
     ]
    },
    {
     "name": "stderr",
     "output_type": "stream",
     "text": [
      "/Users/kushagraagrawal/anaconda3/envs/opso/lib/python3.8/site-packages/sklearn/metrics/_classification.py:1318: UndefinedMetricWarning: Jaccard is ill-defined and being set to 0.0 in labels with no true or predicted samples. Use `zero_division` parameter to control this behavior.\n",
      "  _warn_prf(average, modifier, msg_start, len(result))\n"
     ]
    },
    {
     "name": "stdout",
     "output_type": "stream",
     "text": [
      "Epoch: 1 [batch 210/220 (95.45%)] \n",
      "\tJacc: 0.710 Hamm: 0.031 DistLoss: 2.934\n"
     ]
    },
    {
     "name": "stderr",
     "output_type": "stream",
     "text": [
      "/Users/kushagraagrawal/anaconda3/envs/opso/lib/python3.8/site-packages/sklearn/metrics/_classification.py:1318: UndefinedMetricWarning: Jaccard is ill-defined and being set to 0.0 in labels with no true or predicted samples. Use `zero_division` parameter to control this behavior.\n",
      "  _warn_prf(average, modifier, msg_start, len(result))\n",
      "/Users/kushagraagrawal/.local/lib/python3.8/site-packages/scipy/signal/_spectral_py.py:1961: UserWarning: nperseg = 512 is greater than input length  = 468, using nperseg = 468\n",
      "  warnings.warn('nperseg = {0:d} is greater than input length '\n"
     ]
    },
    {
     "name": "stdout",
     "output_type": "stream",
     "text": [
      "\n",
      "Validation.\n",
      "(1753, 6)\n",
      "\t Precision: 0.7846913341685807\n",
      "\t Recall: 0.6685732295161367\n",
      "\t F1: 0.7159304736852187\n",
      "Updating best model\n",
      "Epoch: 2 [batch 0/220 (0.00%)] \n",
      "\tJacc: 0.792 Hamm: 0.010 DistLoss: 1.440\n"
     ]
    },
    {
     "name": "stderr",
     "output_type": "stream",
     "text": [
      "/Users/kushagraagrawal/anaconda3/envs/opso/lib/python3.8/site-packages/sklearn/metrics/_classification.py:1318: UndefinedMetricWarning: Jaccard is ill-defined and being set to 0.0 in labels with no true or predicted samples. Use `zero_division` parameter to control this behavior.\n",
      "  _warn_prf(average, modifier, msg_start, len(result))\n"
     ]
    },
    {
     "name": "stdout",
     "output_type": "stream",
     "text": [
      "Epoch: 2 [batch 10/220 (4.55%)] \n",
      "\tJacc: 0.637 Hamm: 0.016 DistLoss: 2.682\n"
     ]
    },
    {
     "name": "stderr",
     "output_type": "stream",
     "text": [
      "/Users/kushagraagrawal/anaconda3/envs/opso/lib/python3.8/site-packages/sklearn/metrics/_classification.py:1318: UndefinedMetricWarning: Jaccard is ill-defined and being set to 0.0 in labels with no true or predicted samples. Use `zero_division` parameter to control this behavior.\n",
      "  _warn_prf(average, modifier, msg_start, len(result))\n"
     ]
    },
    {
     "name": "stdout",
     "output_type": "stream",
     "text": [
      "Epoch: 2 [batch 20/220 (9.09%)] \n",
      "\tJacc: 0.750 Hamm: 0.016 DistLoss: 2.451\n"
     ]
    },
    {
     "name": "stderr",
     "output_type": "stream",
     "text": [
      "/Users/kushagraagrawal/anaconda3/envs/opso/lib/python3.8/site-packages/sklearn/metrics/_classification.py:1318: UndefinedMetricWarning: Jaccard is ill-defined and being set to 0.0 in labels with no true or predicted samples. Use `zero_division` parameter to control this behavior.\n",
      "  _warn_prf(average, modifier, msg_start, len(result))\n"
     ]
    },
    {
     "name": "stdout",
     "output_type": "stream",
     "text": [
      "Epoch: 2 [batch 30/220 (13.64%)] \n",
      "\tJacc: 0.653 Hamm: 0.031 DistLoss: 2.386\n"
     ]
    },
    {
     "name": "stderr",
     "output_type": "stream",
     "text": [
      "/Users/kushagraagrawal/anaconda3/envs/opso/lib/python3.8/site-packages/sklearn/metrics/_classification.py:1318: UndefinedMetricWarning: Jaccard is ill-defined and being set to 0.0 in labels with no true or predicted samples. Use `zero_division` parameter to control this behavior.\n",
      "  _warn_prf(average, modifier, msg_start, len(result))\n"
     ]
    },
    {
     "name": "stdout",
     "output_type": "stream",
     "text": [
      "Epoch: 2 [batch 40/220 (18.18%)] \n",
      "\tJacc: 0.580 Hamm: 0.031 DistLoss: 2.296\n"
     ]
    },
    {
     "name": "stderr",
     "output_type": "stream",
     "text": [
      "/Users/kushagraagrawal/anaconda3/envs/opso/lib/python3.8/site-packages/sklearn/metrics/_classification.py:1318: UndefinedMetricWarning: Jaccard is ill-defined and being set to 0.0 in labels with no true or predicted samples. Use `zero_division` parameter to control this behavior.\n",
      "  _warn_prf(average, modifier, msg_start, len(result))\n"
     ]
    },
    {
     "name": "stdout",
     "output_type": "stream",
     "text": [
      "Epoch: 2 [batch 50/220 (22.73%)] \n",
      "\tJacc: 0.634 Hamm: 0.010 DistLoss: 2.279\n"
     ]
    },
    {
     "name": "stderr",
     "output_type": "stream",
     "text": [
      "/Users/kushagraagrawal/anaconda3/envs/opso/lib/python3.8/site-packages/sklearn/metrics/_classification.py:1318: UndefinedMetricWarning: Jaccard is ill-defined and being set to 0.0 in labels with no true or predicted samples. Use `zero_division` parameter to control this behavior.\n",
      "  _warn_prf(average, modifier, msg_start, len(result))\n"
     ]
    },
    {
     "name": "stdout",
     "output_type": "stream",
     "text": [
      "Epoch: 2 [batch 60/220 (27.27%)] \n",
      "\tJacc: 0.667 Hamm: 0.026 DistLoss: 2.207\n"
     ]
    },
    {
     "name": "stderr",
     "output_type": "stream",
     "text": [
      "/Users/kushagraagrawal/anaconda3/envs/opso/lib/python3.8/site-packages/sklearn/metrics/_classification.py:1318: UndefinedMetricWarning: Jaccard is ill-defined and being set to 0.0 in labels with no true or predicted samples. Use `zero_division` parameter to control this behavior.\n",
      "  _warn_prf(average, modifier, msg_start, len(result))\n"
     ]
    },
    {
     "name": "stdout",
     "output_type": "stream",
     "text": [
      "Epoch: 2 [batch 70/220 (31.82%)] \n",
      "\tJacc: 0.739 Hamm: 0.021 DistLoss: 2.243\n"
     ]
    },
    {
     "name": "stderr",
     "output_type": "stream",
     "text": [
      "/Users/kushagraagrawal/anaconda3/envs/opso/lib/python3.8/site-packages/sklearn/metrics/_classification.py:1318: UndefinedMetricWarning: Jaccard is ill-defined and being set to 0.0 in labels with no true or predicted samples. Use `zero_division` parameter to control this behavior.\n",
      "  _warn_prf(average, modifier, msg_start, len(result))\n"
     ]
    },
    {
     "name": "stdout",
     "output_type": "stream",
     "text": [
      "Epoch: 2 [batch 80/220 (36.36%)] \n",
      "\tJacc: 0.549 Hamm: 0.021 DistLoss: 2.277\n"
     ]
    },
    {
     "name": "stderr",
     "output_type": "stream",
     "text": [
      "/Users/kushagraagrawal/anaconda3/envs/opso/lib/python3.8/site-packages/sklearn/metrics/_classification.py:1318: UndefinedMetricWarning: Jaccard is ill-defined and being set to 0.0 in labels with no true or predicted samples. Use `zero_division` parameter to control this behavior.\n",
      "  _warn_prf(average, modifier, msg_start, len(result))\n"
     ]
    },
    {
     "name": "stdout",
     "output_type": "stream",
     "text": [
      "Epoch: 2 [batch 90/220 (40.91%)] \n",
      "\tJacc: 0.710 Hamm: 0.021 DistLoss: 2.213\n"
     ]
    },
    {
     "name": "stderr",
     "output_type": "stream",
     "text": [
      "/Users/kushagraagrawal/anaconda3/envs/opso/lib/python3.8/site-packages/sklearn/metrics/_classification.py:1318: UndefinedMetricWarning: Jaccard is ill-defined and being set to 0.0 in labels with no true or predicted samples. Use `zero_division` parameter to control this behavior.\n",
      "  _warn_prf(average, modifier, msg_start, len(result))\n"
     ]
    },
    {
     "name": "stdout",
     "output_type": "stream",
     "text": [
      "Epoch: 2 [batch 100/220 (45.45%)] \n",
      "\tJacc: 0.833 Hamm: 0.000 DistLoss: 2.248\n"
     ]
    },
    {
     "name": "stderr",
     "output_type": "stream",
     "text": [
      "/Users/kushagraagrawal/anaconda3/envs/opso/lib/python3.8/site-packages/sklearn/metrics/_classification.py:1318: UndefinedMetricWarning: Jaccard is ill-defined and being set to 0.0 in labels with no true or predicted samples. Use `zero_division` parameter to control this behavior.\n",
      "  _warn_prf(average, modifier, msg_start, len(result))\n"
     ]
    },
    {
     "name": "stdout",
     "output_type": "stream",
     "text": [
      "Epoch: 2 [batch 110/220 (50.00%)] \n",
      "\tJacc: 0.501 Hamm: 0.042 DistLoss: 2.218\n"
     ]
    },
    {
     "name": "stderr",
     "output_type": "stream",
     "text": [
      "/Users/kushagraagrawal/anaconda3/envs/opso/lib/python3.8/site-packages/sklearn/metrics/_classification.py:1318: UndefinedMetricWarning: Jaccard is ill-defined and being set to 0.0 in labels with no true or predicted samples. Use `zero_division` parameter to control this behavior.\n",
      "  _warn_prf(average, modifier, msg_start, len(result))\n"
     ]
    },
    {
     "name": "stdout",
     "output_type": "stream",
     "text": [
      "Epoch: 2 [batch 120/220 (54.55%)] \n",
      "\tJacc: 0.707 Hamm: 0.021 DistLoss: 2.238\n"
     ]
    },
    {
     "name": "stderr",
     "output_type": "stream",
     "text": [
      "/Users/kushagraagrawal/anaconda3/envs/opso/lib/python3.8/site-packages/sklearn/metrics/_classification.py:1318: UndefinedMetricWarning: Jaccard is ill-defined and being set to 0.0 in labels with no true or predicted samples. Use `zero_division` parameter to control this behavior.\n",
      "  _warn_prf(average, modifier, msg_start, len(result))\n"
     ]
    },
    {
     "name": "stdout",
     "output_type": "stream",
     "text": [
      "Epoch: 2 [batch 130/220 (59.09%)] \n",
      "\tJacc: 0.768 Hamm: 0.021 DistLoss: 2.224\n"
     ]
    },
    {
     "name": "stderr",
     "output_type": "stream",
     "text": [
      "/Users/kushagraagrawal/anaconda3/envs/opso/lib/python3.8/site-packages/sklearn/metrics/_classification.py:1318: UndefinedMetricWarning: Jaccard is ill-defined and being set to 0.0 in labels with no true or predicted samples. Use `zero_division` parameter to control this behavior.\n",
      "  _warn_prf(average, modifier, msg_start, len(result))\n"
     ]
    },
    {
     "name": "stdout",
     "output_type": "stream",
     "text": [
      "Epoch: 2 [batch 140/220 (63.64%)] \n",
      "\tJacc: 0.655 Hamm: 0.005 DistLoss: 2.210\n"
     ]
    },
    {
     "name": "stderr",
     "output_type": "stream",
     "text": [
      "/Users/kushagraagrawal/anaconda3/envs/opso/lib/python3.8/site-packages/sklearn/metrics/_classification.py:1318: UndefinedMetricWarning: Jaccard is ill-defined and being set to 0.0 in labels with no true or predicted samples. Use `zero_division` parameter to control this behavior.\n",
      "  _warn_prf(average, modifier, msg_start, len(result))\n"
     ]
    },
    {
     "name": "stdout",
     "output_type": "stream",
     "text": [
      "Epoch: 2 [batch 150/220 (68.18%)] \n",
      "\tJacc: 0.833 Hamm: 0.000 DistLoss: 2.164\n"
     ]
    },
    {
     "name": "stderr",
     "output_type": "stream",
     "text": [
      "/Users/kushagraagrawal/anaconda3/envs/opso/lib/python3.8/site-packages/sklearn/metrics/_classification.py:1318: UndefinedMetricWarning: Jaccard is ill-defined and being set to 0.0 in labels with no true or predicted samples. Use `zero_division` parameter to control this behavior.\n",
      "  _warn_prf(average, modifier, msg_start, len(result))\n"
     ]
    },
    {
     "name": "stdout",
     "output_type": "stream",
     "text": [
      "Epoch: 2 [batch 160/220 (72.73%)] \n",
      "\tJacc: 0.582 Hamm: 0.042 DistLoss: 2.157\n"
     ]
    },
    {
     "name": "stderr",
     "output_type": "stream",
     "text": [
      "/Users/kushagraagrawal/anaconda3/envs/opso/lib/python3.8/site-packages/sklearn/metrics/_classification.py:1318: UndefinedMetricWarning: Jaccard is ill-defined and being set to 0.0 in labels with no true or predicted samples. Use `zero_division` parameter to control this behavior.\n",
      "  _warn_prf(average, modifier, msg_start, len(result))\n"
     ]
    },
    {
     "name": "stdout",
     "output_type": "stream",
     "text": [
      "Epoch: 2 [batch 170/220 (77.27%)] \n",
      "\tJacc: 0.647 Hamm: 0.026 DistLoss: 2.158\n",
      "Epoch: 2 [batch 180/220 (81.82%)] \n",
      "\tJacc: 0.593 Hamm: 0.026 DistLoss: 2.128\n"
     ]
    },
    {
     "name": "stderr",
     "output_type": "stream",
     "text": [
      "/Users/kushagraagrawal/anaconda3/envs/opso/lib/python3.8/site-packages/sklearn/metrics/_classification.py:1318: UndefinedMetricWarning: Jaccard is ill-defined and being set to 0.0 in labels with no true or predicted samples. Use `zero_division` parameter to control this behavior.\n",
      "  _warn_prf(average, modifier, msg_start, len(result))\n"
     ]
    },
    {
     "name": "stdout",
     "output_type": "stream",
     "text": [
      "Epoch: 2 [batch 190/220 (86.36%)] \n",
      "\tJacc: 0.719 Hamm: 0.026 DistLoss: 2.143\n"
     ]
    },
    {
     "name": "stderr",
     "output_type": "stream",
     "text": [
      "/Users/kushagraagrawal/anaconda3/envs/opso/lib/python3.8/site-packages/sklearn/metrics/_classification.py:1318: UndefinedMetricWarning: Jaccard is ill-defined and being set to 0.0 in labels with no true or predicted samples. Use `zero_division` parameter to control this behavior.\n",
      "  _warn_prf(average, modifier, msg_start, len(result))\n"
     ]
    },
    {
     "name": "stdout",
     "output_type": "stream",
     "text": [
      "Epoch: 2 [batch 200/220 (90.91%)] \n",
      "\tJacc: 0.698 Hamm: 0.026 DistLoss: 2.153\n"
     ]
    },
    {
     "name": "stderr",
     "output_type": "stream",
     "text": [
      "/Users/kushagraagrawal/anaconda3/envs/opso/lib/python3.8/site-packages/sklearn/metrics/_classification.py:1318: UndefinedMetricWarning: Jaccard is ill-defined and being set to 0.0 in labels with no true or predicted samples. Use `zero_division` parameter to control this behavior.\n",
      "  _warn_prf(average, modifier, msg_start, len(result))\n"
     ]
    },
    {
     "name": "stdout",
     "output_type": "stream",
     "text": [
      "Epoch: 2 [batch 210/220 (95.45%)] \n",
      "\tJacc: 0.750 Hamm: 0.010 DistLoss: 2.146\n"
     ]
    },
    {
     "name": "stderr",
     "output_type": "stream",
     "text": [
      "/Users/kushagraagrawal/.local/lib/python3.8/site-packages/scipy/signal/_spectral_py.py:1961: UserWarning: nperseg = 512 is greater than input length  = 468, using nperseg = 468\n",
      "  warnings.warn('nperseg = {0:d} is greater than input length '\n"
     ]
    },
    {
     "name": "stdout",
     "output_type": "stream",
     "text": [
      "\n",
      "Validation.\n",
      "(1753, 6)\n",
      "\t Precision: 0.7835088271381259\n",
      "\t Recall: 0.6993281588407864\n",
      "\t F1: 0.7343672237210792\n",
      "Updating best model\n",
      "Epoch: 3 [batch 0/220 (0.00%)] \n",
      "\tJacc: 0.459 Hamm: 0.026 DistLoss: 2.805\n"
     ]
    },
    {
     "name": "stderr",
     "output_type": "stream",
     "text": [
      "/Users/kushagraagrawal/anaconda3/envs/opso/lib/python3.8/site-packages/sklearn/metrics/_classification.py:1318: UndefinedMetricWarning: Jaccard is ill-defined and being set to 0.0 in labels with no true or predicted samples. Use `zero_division` parameter to control this behavior.\n",
      "  _warn_prf(average, modifier, msg_start, len(result))\n"
     ]
    },
    {
     "name": "stdout",
     "output_type": "stream",
     "text": [
      "Epoch: 3 [batch 10/220 (4.55%)] \n",
      "\tJacc: 0.652 Hamm: 0.010 DistLoss: 2.953\n"
     ]
    },
    {
     "name": "stderr",
     "output_type": "stream",
     "text": [
      "/Users/kushagraagrawal/anaconda3/envs/opso/lib/python3.8/site-packages/sklearn/metrics/_classification.py:1318: UndefinedMetricWarning: Jaccard is ill-defined and being set to 0.0 in labels with no true or predicted samples. Use `zero_division` parameter to control this behavior.\n",
      "  _warn_prf(average, modifier, msg_start, len(result))\n"
     ]
    },
    {
     "name": "stdout",
     "output_type": "stream",
     "text": [
      "Epoch: 3 [batch 20/220 (9.09%)] \n",
      "\tJacc: 0.531 Hamm: 0.036 DistLoss: 2.933\n"
     ]
    },
    {
     "name": "stderr",
     "output_type": "stream",
     "text": [
      "/Users/kushagraagrawal/anaconda3/envs/opso/lib/python3.8/site-packages/sklearn/metrics/_classification.py:1318: UndefinedMetricWarning: Jaccard is ill-defined and being set to 0.0 in labels with no true or predicted samples. Use `zero_division` parameter to control this behavior.\n",
      "  _warn_prf(average, modifier, msg_start, len(result))\n"
     ]
    },
    {
     "name": "stdout",
     "output_type": "stream",
     "text": [
      "Epoch: 3 [batch 30/220 (13.64%)] \n",
      "\tJacc: 0.833 Hamm: 0.000 DistLoss: 2.875\n"
     ]
    },
    {
     "name": "stderr",
     "output_type": "stream",
     "text": [
      "/Users/kushagraagrawal/anaconda3/envs/opso/lib/python3.8/site-packages/sklearn/metrics/_classification.py:1318: UndefinedMetricWarning: Jaccard is ill-defined and being set to 0.0 in labels with no true or predicted samples. Use `zero_division` parameter to control this behavior.\n",
      "  _warn_prf(average, modifier, msg_start, len(result))\n"
     ]
    },
    {
     "name": "stdout",
     "output_type": "stream",
     "text": [
      "Epoch: 3 [batch 40/220 (18.18%)] \n",
      "\tJacc: 0.608 Hamm: 0.016 DistLoss: 2.788\n"
     ]
    },
    {
     "name": "stderr",
     "output_type": "stream",
     "text": [
      "/Users/kushagraagrawal/anaconda3/envs/opso/lib/python3.8/site-packages/sklearn/metrics/_classification.py:1318: UndefinedMetricWarning: Jaccard is ill-defined and being set to 0.0 in labels with no true or predicted samples. Use `zero_division` parameter to control this behavior.\n",
      "  _warn_prf(average, modifier, msg_start, len(result))\n"
     ]
    },
    {
     "name": "stdout",
     "output_type": "stream",
     "text": [
      "Epoch: 3 [batch 50/220 (22.73%)] \n",
      "\tJacc: 0.705 Hamm: 0.021 DistLoss: 2.718\n"
     ]
    },
    {
     "name": "stderr",
     "output_type": "stream",
     "text": [
      "/Users/kushagraagrawal/anaconda3/envs/opso/lib/python3.8/site-packages/sklearn/metrics/_classification.py:1318: UndefinedMetricWarning: Jaccard is ill-defined and being set to 0.0 in labels with no true or predicted samples. Use `zero_division` parameter to control this behavior.\n",
      "  _warn_prf(average, modifier, msg_start, len(result))\n"
     ]
    },
    {
     "name": "stdout",
     "output_type": "stream",
     "text": [
      "Epoch: 3 [batch 60/220 (27.27%)] \n",
      "\tJacc: 0.678 Hamm: 0.021 DistLoss: 2.615\n"
     ]
    },
    {
     "name": "stderr",
     "output_type": "stream",
     "text": [
      "/Users/kushagraagrawal/anaconda3/envs/opso/lib/python3.8/site-packages/sklearn/metrics/_classification.py:1318: UndefinedMetricWarning: Jaccard is ill-defined and being set to 0.0 in labels with no true or predicted samples. Use `zero_division` parameter to control this behavior.\n",
      "  _warn_prf(average, modifier, msg_start, len(result))\n"
     ]
    },
    {
     "name": "stdout",
     "output_type": "stream",
     "text": [
      "Epoch: 3 [batch 70/220 (31.82%)] \n",
      "\tJacc: 0.792 Hamm: 0.005 DistLoss: 2.480\n"
     ]
    },
    {
     "name": "stderr",
     "output_type": "stream",
     "text": [
      "/Users/kushagraagrawal/anaconda3/envs/opso/lib/python3.8/site-packages/sklearn/metrics/_classification.py:1318: UndefinedMetricWarning: Jaccard is ill-defined and being set to 0.0 in labels with no true or predicted samples. Use `zero_division` parameter to control this behavior.\n",
      "  _warn_prf(average, modifier, msg_start, len(result))\n"
     ]
    },
    {
     "name": "stdout",
     "output_type": "stream",
     "text": [
      "Epoch: 3 [batch 80/220 (36.36%)] \n",
      "\tJacc: 0.510 Hamm: 0.036 DistLoss: 2.445\n"
     ]
    },
    {
     "name": "stderr",
     "output_type": "stream",
     "text": [
      "/Users/kushagraagrawal/anaconda3/envs/opso/lib/python3.8/site-packages/sklearn/metrics/_classification.py:1318: UndefinedMetricWarning: Jaccard is ill-defined and being set to 0.0 in labels with no true or predicted samples. Use `zero_division` parameter to control this behavior.\n",
      "  _warn_prf(average, modifier, msg_start, len(result))\n"
     ]
    },
    {
     "name": "stdout",
     "output_type": "stream",
     "text": [
      "Epoch: 3 [batch 90/220 (40.91%)] \n",
      "\tJacc: 0.743 Hamm: 0.016 DistLoss: 2.393\n"
     ]
    },
    {
     "name": "stderr",
     "output_type": "stream",
     "text": [
      "/Users/kushagraagrawal/anaconda3/envs/opso/lib/python3.8/site-packages/sklearn/metrics/_classification.py:1318: UndefinedMetricWarning: Jaccard is ill-defined and being set to 0.0 in labels with no true or predicted samples. Use `zero_division` parameter to control this behavior.\n",
      "  _warn_prf(average, modifier, msg_start, len(result))\n"
     ]
    },
    {
     "name": "stdout",
     "output_type": "stream",
     "text": [
      "Epoch: 3 [batch 100/220 (45.45%)] \n",
      "\tJacc: 0.821 Hamm: 0.005 DistLoss: 2.381\n"
     ]
    },
    {
     "name": "stderr",
     "output_type": "stream",
     "text": [
      "/Users/kushagraagrawal/anaconda3/envs/opso/lib/python3.8/site-packages/sklearn/metrics/_classification.py:1318: UndefinedMetricWarning: Jaccard is ill-defined and being set to 0.0 in labels with no true or predicted samples. Use `zero_division` parameter to control this behavior.\n",
      "  _warn_prf(average, modifier, msg_start, len(result))\n"
     ]
    },
    {
     "name": "stdout",
     "output_type": "stream",
     "text": [
      "Epoch: 3 [batch 110/220 (50.00%)] \n",
      "\tJacc: 0.609 Hamm: 0.016 DistLoss: 2.336\n"
     ]
    },
    {
     "name": "stderr",
     "output_type": "stream",
     "text": [
      "/Users/kushagraagrawal/anaconda3/envs/opso/lib/python3.8/site-packages/sklearn/metrics/_classification.py:1318: UndefinedMetricWarning: Jaccard is ill-defined and being set to 0.0 in labels with no true or predicted samples. Use `zero_division` parameter to control this behavior.\n",
      "  _warn_prf(average, modifier, msg_start, len(result))\n"
     ]
    },
    {
     "name": "stdout",
     "output_type": "stream",
     "text": [
      "Epoch: 3 [batch 120/220 (54.55%)] \n",
      "\tJacc: 0.748 Hamm: 0.021 DistLoss: 2.241\n"
     ]
    },
    {
     "name": "stderr",
     "output_type": "stream",
     "text": [
      "/Users/kushagraagrawal/anaconda3/envs/opso/lib/python3.8/site-packages/sklearn/metrics/_classification.py:1318: UndefinedMetricWarning: Jaccard is ill-defined and being set to 0.0 in labels with no true or predicted samples. Use `zero_division` parameter to control this behavior.\n",
      "  _warn_prf(average, modifier, msg_start, len(result))\n"
     ]
    },
    {
     "name": "stdout",
     "output_type": "stream",
     "text": [
      "Epoch: 3 [batch 130/220 (59.09%)] \n",
      "\tJacc: 0.747 Hamm: 0.021 DistLoss: 2.213\n"
     ]
    },
    {
     "name": "stderr",
     "output_type": "stream",
     "text": [
      "/Users/kushagraagrawal/anaconda3/envs/opso/lib/python3.8/site-packages/sklearn/metrics/_classification.py:1318: UndefinedMetricWarning: Jaccard is ill-defined and being set to 0.0 in labels with no true or predicted samples. Use `zero_division` parameter to control this behavior.\n",
      "  _warn_prf(average, modifier, msg_start, len(result))\n"
     ]
    },
    {
     "name": "stdout",
     "output_type": "stream",
     "text": [
      "Epoch: 3 [batch 140/220 (63.64%)] \n",
      "\tJacc: 0.730 Hamm: 0.021 DistLoss: 2.193\n"
     ]
    },
    {
     "name": "stderr",
     "output_type": "stream",
     "text": [
      "/Users/kushagraagrawal/anaconda3/envs/opso/lib/python3.8/site-packages/sklearn/metrics/_classification.py:1318: UndefinedMetricWarning: Jaccard is ill-defined and being set to 0.0 in labels with no true or predicted samples. Use `zero_division` parameter to control this behavior.\n",
      "  _warn_prf(average, modifier, msg_start, len(result))\n"
     ]
    },
    {
     "name": "stdout",
     "output_type": "stream",
     "text": [
      "Epoch: 3 [batch 150/220 (68.18%)] \n",
      "\tJacc: 0.571 Hamm: 0.026 DistLoss: 2.174\n"
     ]
    },
    {
     "name": "stderr",
     "output_type": "stream",
     "text": [
      "/Users/kushagraagrawal/anaconda3/envs/opso/lib/python3.8/site-packages/sklearn/metrics/_classification.py:1318: UndefinedMetricWarning: Jaccard is ill-defined and being set to 0.0 in labels with no true or predicted samples. Use `zero_division` parameter to control this behavior.\n",
      "  _warn_prf(average, modifier, msg_start, len(result))\n"
     ]
    },
    {
     "name": "stdout",
     "output_type": "stream",
     "text": [
      "Epoch: 3 [batch 160/220 (72.73%)] \n",
      "\tJacc: 0.674 Hamm: 0.036 DistLoss: 2.180\n"
     ]
    },
    {
     "name": "stderr",
     "output_type": "stream",
     "text": [
      "/Users/kushagraagrawal/anaconda3/envs/opso/lib/python3.8/site-packages/sklearn/metrics/_classification.py:1318: UndefinedMetricWarning: Jaccard is ill-defined and being set to 0.0 in labels with no true or predicted samples. Use `zero_division` parameter to control this behavior.\n",
      "  _warn_prf(average, modifier, msg_start, len(result))\n"
     ]
    },
    {
     "name": "stdout",
     "output_type": "stream",
     "text": [
      "Epoch: 3 [batch 170/220 (77.27%)] \n",
      "\tJacc: 0.601 Hamm: 0.021 DistLoss: 2.175\n"
     ]
    },
    {
     "name": "stderr",
     "output_type": "stream",
     "text": [
      "/Users/kushagraagrawal/anaconda3/envs/opso/lib/python3.8/site-packages/sklearn/metrics/_classification.py:1318: UndefinedMetricWarning: Jaccard is ill-defined and being set to 0.0 in labels with no true or predicted samples. Use `zero_division` parameter to control this behavior.\n",
      "  _warn_prf(average, modifier, msg_start, len(result))\n"
     ]
    },
    {
     "name": "stdout",
     "output_type": "stream",
     "text": [
      "Epoch: 3 [batch 180/220 (81.82%)] \n",
      "\tJacc: 0.722 Hamm: 0.016 DistLoss: 2.175\n",
      "Epoch: 3 [batch 190/220 (86.36%)] \n",
      "\tJacc: 0.637 Hamm: 0.031 DistLoss: 2.181\n"
     ]
    },
    {
     "name": "stderr",
     "output_type": "stream",
     "text": [
      "/Users/kushagraagrawal/anaconda3/envs/opso/lib/python3.8/site-packages/sklearn/metrics/_classification.py:1318: UndefinedMetricWarning: Jaccard is ill-defined and being set to 0.0 in labels with no true or predicted samples. Use `zero_division` parameter to control this behavior.\n",
      "  _warn_prf(average, modifier, msg_start, len(result))\n"
     ]
    },
    {
     "name": "stdout",
     "output_type": "stream",
     "text": [
      "Epoch: 3 [batch 200/220 (90.91%)] \n",
      "\tJacc: 0.833 Hamm: 0.000 DistLoss: 2.152\n"
     ]
    },
    {
     "name": "stderr",
     "output_type": "stream",
     "text": [
      "/Users/kushagraagrawal/anaconda3/envs/opso/lib/python3.8/site-packages/sklearn/metrics/_classification.py:1318: UndefinedMetricWarning: Jaccard is ill-defined and being set to 0.0 in labels with no true or predicted samples. Use `zero_division` parameter to control this behavior.\n",
      "  _warn_prf(average, modifier, msg_start, len(result))\n"
     ]
    },
    {
     "name": "stdout",
     "output_type": "stream",
     "text": [
      "Epoch: 3 [batch 210/220 (95.45%)] \n",
      "\tJacc: 0.619 Hamm: 0.010 DistLoss: 2.120\n"
     ]
    },
    {
     "name": "stderr",
     "output_type": "stream",
     "text": [
      "/Users/kushagraagrawal/anaconda3/envs/opso/lib/python3.8/site-packages/sklearn/metrics/_classification.py:1318: UndefinedMetricWarning: Jaccard is ill-defined and being set to 0.0 in labels with no true or predicted samples. Use `zero_division` parameter to control this behavior.\n",
      "  _warn_prf(average, modifier, msg_start, len(result))\n",
      "/Users/kushagraagrawal/.local/lib/python3.8/site-packages/scipy/signal/_spectral_py.py:1961: UserWarning: nperseg = 512 is greater than input length  = 468, using nperseg = 468\n",
      "  warnings.warn('nperseg = {0:d} is greater than input length '\n"
     ]
    },
    {
     "name": "stdout",
     "output_type": "stream",
     "text": [
      "\n",
      "Validation.\n",
      "(1753, 6)\n",
      "\t Precision: 0.7657299815299591\n",
      "\t Recall: 0.7112996184824961\n",
      "\t F1: 0.7318029925380934\n",
      "Epoch: 4 [batch 0/220 (0.00%)] \n",
      "\tJacc: 0.833 Hamm: 0.000 DistLoss: 0.377\n"
     ]
    },
    {
     "name": "stderr",
     "output_type": "stream",
     "text": [
      "/Users/kushagraagrawal/anaconda3/envs/opso/lib/python3.8/site-packages/sklearn/metrics/_classification.py:1318: UndefinedMetricWarning: Jaccard is ill-defined and being set to 0.0 in labels with no true or predicted samples. Use `zero_division` parameter to control this behavior.\n",
      "  _warn_prf(average, modifier, msg_start, len(result))\n"
     ]
    },
    {
     "name": "stdout",
     "output_type": "stream",
     "text": [
      "Epoch: 4 [batch 10/220 (4.55%)] \n",
      "\tJacc: 0.758 Hamm: 0.021 DistLoss: 1.508\n"
     ]
    },
    {
     "name": "stderr",
     "output_type": "stream",
     "text": [
      "/Users/kushagraagrawal/anaconda3/envs/opso/lib/python3.8/site-packages/sklearn/metrics/_classification.py:1318: UndefinedMetricWarning: Jaccard is ill-defined and being set to 0.0 in labels with no true or predicted samples. Use `zero_division` parameter to control this behavior.\n",
      "  _warn_prf(average, modifier, msg_start, len(result))\n"
     ]
    },
    {
     "name": "stdout",
     "output_type": "stream",
     "text": [
      "Epoch: 4 [batch 20/220 (9.09%)] \n",
      "\tJacc: 0.792 Hamm: 0.005 DistLoss: 1.684\n"
     ]
    },
    {
     "name": "stderr",
     "output_type": "stream",
     "text": [
      "/Users/kushagraagrawal/anaconda3/envs/opso/lib/python3.8/site-packages/sklearn/metrics/_classification.py:1318: UndefinedMetricWarning: Jaccard is ill-defined and being set to 0.0 in labels with no true or predicted samples. Use `zero_division` parameter to control this behavior.\n",
      "  _warn_prf(average, modifier, msg_start, len(result))\n"
     ]
    },
    {
     "name": "stdout",
     "output_type": "stream",
     "text": [
      "Epoch: 4 [batch 30/220 (13.64%)] \n",
      "\tJacc: 0.616 Hamm: 0.010 DistLoss: 1.778\n"
     ]
    },
    {
     "name": "stderr",
     "output_type": "stream",
     "text": [
      "/Users/kushagraagrawal/anaconda3/envs/opso/lib/python3.8/site-packages/sklearn/metrics/_classification.py:1318: UndefinedMetricWarning: Jaccard is ill-defined and being set to 0.0 in labels with no true or predicted samples. Use `zero_division` parameter to control this behavior.\n",
      "  _warn_prf(average, modifier, msg_start, len(result))\n"
     ]
    },
    {
     "name": "stdout",
     "output_type": "stream",
     "text": [
      "Epoch: 4 [batch 40/220 (18.18%)] \n",
      "\tJacc: 0.618 Hamm: 0.010 DistLoss: 1.633\n"
     ]
    },
    {
     "name": "stderr",
     "output_type": "stream",
     "text": [
      "/Users/kushagraagrawal/anaconda3/envs/opso/lib/python3.8/site-packages/sklearn/metrics/_classification.py:1318: UndefinedMetricWarning: Jaccard is ill-defined and being set to 0.0 in labels with no true or predicted samples. Use `zero_division` parameter to control this behavior.\n",
      "  _warn_prf(average, modifier, msg_start, len(result))\n"
     ]
    },
    {
     "name": "stdout",
     "output_type": "stream",
     "text": [
      "Epoch: 4 [batch 50/220 (22.73%)] \n",
      "\tJacc: 0.633 Hamm: 0.021 DistLoss: 1.677\n"
     ]
    },
    {
     "name": "stderr",
     "output_type": "stream",
     "text": [
      "/Users/kushagraagrawal/anaconda3/envs/opso/lib/python3.8/site-packages/sklearn/metrics/_classification.py:1318: UndefinedMetricWarning: Jaccard is ill-defined and being set to 0.0 in labels with no true or predicted samples. Use `zero_division` parameter to control this behavior.\n",
      "  _warn_prf(average, modifier, msg_start, len(result))\n"
     ]
    },
    {
     "name": "stdout",
     "output_type": "stream",
     "text": [
      "Epoch: 4 [batch 60/220 (27.27%)] \n",
      "\tJacc: 0.805 Hamm: 0.010 DistLoss: 1.722\n"
     ]
    },
    {
     "name": "stderr",
     "output_type": "stream",
     "text": [
      "/Users/kushagraagrawal/anaconda3/envs/opso/lib/python3.8/site-packages/sklearn/metrics/_classification.py:1318: UndefinedMetricWarning: Jaccard is ill-defined and being set to 0.0 in labels with no true or predicted samples. Use `zero_division` parameter to control this behavior.\n",
      "  _warn_prf(average, modifier, msg_start, len(result))\n"
     ]
    },
    {
     "name": "stdout",
     "output_type": "stream",
     "text": [
      "Epoch: 4 [batch 70/220 (31.82%)] \n",
      "\tJacc: 0.694 Hamm: 0.010 DistLoss: 1.759\n"
     ]
    },
    {
     "name": "stderr",
     "output_type": "stream",
     "text": [
      "/Users/kushagraagrawal/anaconda3/envs/opso/lib/python3.8/site-packages/sklearn/metrics/_classification.py:1318: UndefinedMetricWarning: Jaccard is ill-defined and being set to 0.0 in labels with no true or predicted samples. Use `zero_division` parameter to control this behavior.\n",
      "  _warn_prf(average, modifier, msg_start, len(result))\n"
     ]
    },
    {
     "name": "stdout",
     "output_type": "stream",
     "text": [
      "Epoch: 4 [batch 80/220 (36.36%)] \n",
      "\tJacc: 0.722 Hamm: 0.031 DistLoss: 1.816\n",
      "Epoch: 4 [batch 90/220 (40.91%)] \n",
      "\tJacc: 0.641 Hamm: 0.010 DistLoss: 1.749\n"
     ]
    },
    {
     "name": "stderr",
     "output_type": "stream",
     "text": [
      "/Users/kushagraagrawal/anaconda3/envs/opso/lib/python3.8/site-packages/sklearn/metrics/_classification.py:1318: UndefinedMetricWarning: Jaccard is ill-defined and being set to 0.0 in labels with no true or predicted samples. Use `zero_division` parameter to control this behavior.\n",
      "  _warn_prf(average, modifier, msg_start, len(result))\n"
     ]
    },
    {
     "name": "stdout",
     "output_type": "stream",
     "text": [
      "Epoch: 4 [batch 100/220 (45.45%)] \n",
      "\tJacc: 0.833 Hamm: 0.000 DistLoss: 1.735\n"
     ]
    },
    {
     "name": "stderr",
     "output_type": "stream",
     "text": [
      "/Users/kushagraagrawal/anaconda3/envs/opso/lib/python3.8/site-packages/sklearn/metrics/_classification.py:1318: UndefinedMetricWarning: Jaccard is ill-defined and being set to 0.0 in labels with no true or predicted samples. Use `zero_division` parameter to control this behavior.\n",
      "  _warn_prf(average, modifier, msg_start, len(result))\n"
     ]
    },
    {
     "name": "stdout",
     "output_type": "stream",
     "text": [
      "Epoch: 4 [batch 110/220 (50.00%)] \n",
      "\tJacc: 0.667 Hamm: 0.000 DistLoss: 1.771\n"
     ]
    },
    {
     "name": "stderr",
     "output_type": "stream",
     "text": [
      "/Users/kushagraagrawal/anaconda3/envs/opso/lib/python3.8/site-packages/sklearn/metrics/_classification.py:1318: UndefinedMetricWarning: Jaccard is ill-defined and being set to 0.0 in labels with no true or predicted samples. Use `zero_division` parameter to control this behavior.\n",
      "  _warn_prf(average, modifier, msg_start, len(result))\n"
     ]
    },
    {
     "name": "stdout",
     "output_type": "stream",
     "text": [
      "Epoch: 4 [batch 120/220 (54.55%)] \n",
      "\tJacc: 0.792 Hamm: 0.005 DistLoss: 1.713\n"
     ]
    },
    {
     "name": "stderr",
     "output_type": "stream",
     "text": [
      "/Users/kushagraagrawal/anaconda3/envs/opso/lib/python3.8/site-packages/sklearn/metrics/_classification.py:1318: UndefinedMetricWarning: Jaccard is ill-defined and being set to 0.0 in labels with no true or predicted samples. Use `zero_division` parameter to control this behavior.\n",
      "  _warn_prf(average, modifier, msg_start, len(result))\n"
     ]
    },
    {
     "name": "stdout",
     "output_type": "stream",
     "text": [
      "Epoch: 4 [batch 130/220 (59.09%)] \n",
      "\tJacc: 0.614 Hamm: 0.010 DistLoss: 1.748\n"
     ]
    },
    {
     "name": "stderr",
     "output_type": "stream",
     "text": [
      "/Users/kushagraagrawal/anaconda3/envs/opso/lib/python3.8/site-packages/sklearn/metrics/_classification.py:1318: UndefinedMetricWarning: Jaccard is ill-defined and being set to 0.0 in labels with no true or predicted samples. Use `zero_division` parameter to control this behavior.\n",
      "  _warn_prf(average, modifier, msg_start, len(result))\n"
     ]
    },
    {
     "name": "stdout",
     "output_type": "stream",
     "text": [
      "Epoch: 4 [batch 140/220 (63.64%)] \n",
      "\tJacc: 0.730 Hamm: 0.021 DistLoss: 1.755\n"
     ]
    },
    {
     "name": "stderr",
     "output_type": "stream",
     "text": [
      "/Users/kushagraagrawal/anaconda3/envs/opso/lib/python3.8/site-packages/sklearn/metrics/_classification.py:1318: UndefinedMetricWarning: Jaccard is ill-defined and being set to 0.0 in labels with no true or predicted samples. Use `zero_division` parameter to control this behavior.\n",
      "  _warn_prf(average, modifier, msg_start, len(result))\n"
     ]
    },
    {
     "name": "stdout",
     "output_type": "stream",
     "text": [
      "Epoch: 4 [batch 150/220 (68.18%)] \n",
      "\tJacc: 0.743 Hamm: 0.016 DistLoss: 1.778\n"
     ]
    },
    {
     "name": "stderr",
     "output_type": "stream",
     "text": [
      "/Users/kushagraagrawal/anaconda3/envs/opso/lib/python3.8/site-packages/sklearn/metrics/_classification.py:1318: UndefinedMetricWarning: Jaccard is ill-defined and being set to 0.0 in labels with no true or predicted samples. Use `zero_division` parameter to control this behavior.\n",
      "  _warn_prf(average, modifier, msg_start, len(result))\n"
     ]
    },
    {
     "name": "stdout",
     "output_type": "stream",
     "text": [
      "Epoch: 4 [batch 160/220 (72.73%)] \n",
      "\tJacc: 0.634 Hamm: 0.016 DistLoss: 1.783\n"
     ]
    },
    {
     "name": "stderr",
     "output_type": "stream",
     "text": [
      "/Users/kushagraagrawal/anaconda3/envs/opso/lib/python3.8/site-packages/sklearn/metrics/_classification.py:1318: UndefinedMetricWarning: Jaccard is ill-defined and being set to 0.0 in labels with no true or predicted samples. Use `zero_division` parameter to control this behavior.\n",
      "  _warn_prf(average, modifier, msg_start, len(result))\n"
     ]
    },
    {
     "name": "stdout",
     "output_type": "stream",
     "text": [
      "Epoch: 4 [batch 170/220 (77.27%)] \n",
      "\tJacc: 0.765 Hamm: 0.010 DistLoss: 1.776\n"
     ]
    },
    {
     "name": "stderr",
     "output_type": "stream",
     "text": [
      "/Users/kushagraagrawal/anaconda3/envs/opso/lib/python3.8/site-packages/sklearn/metrics/_classification.py:1318: UndefinedMetricWarning: Jaccard is ill-defined and being set to 0.0 in labels with no true or predicted samples. Use `zero_division` parameter to control this behavior.\n",
      "  _warn_prf(average, modifier, msg_start, len(result))\n"
     ]
    },
    {
     "name": "stdout",
     "output_type": "stream",
     "text": [
      "Epoch: 4 [batch 180/220 (81.82%)] \n",
      "\tJacc: 0.630 Hamm: 0.031 DistLoss: 1.759\n"
     ]
    },
    {
     "name": "stderr",
     "output_type": "stream",
     "text": [
      "/Users/kushagraagrawal/anaconda3/envs/opso/lib/python3.8/site-packages/sklearn/metrics/_classification.py:1318: UndefinedMetricWarning: Jaccard is ill-defined and being set to 0.0 in labels with no true or predicted samples. Use `zero_division` parameter to control this behavior.\n",
      "  _warn_prf(average, modifier, msg_start, len(result))\n"
     ]
    },
    {
     "name": "stdout",
     "output_type": "stream",
     "text": [
      "Epoch: 4 [batch 190/220 (86.36%)] \n",
      "\tJacc: 0.653 Hamm: 0.010 DistLoss: 1.769\n"
     ]
    },
    {
     "name": "stderr",
     "output_type": "stream",
     "text": [
      "/Users/kushagraagrawal/anaconda3/envs/opso/lib/python3.8/site-packages/sklearn/metrics/_classification.py:1318: UndefinedMetricWarning: Jaccard is ill-defined and being set to 0.0 in labels with no true or predicted samples. Use `zero_division` parameter to control this behavior.\n",
      "  _warn_prf(average, modifier, msg_start, len(result))\n"
     ]
    },
    {
     "name": "stdout",
     "output_type": "stream",
     "text": [
      "Epoch: 4 [batch 200/220 (90.91%)] \n",
      "\tJacc: 0.768 Hamm: 0.010 DistLoss: 1.778\n"
     ]
    },
    {
     "name": "stderr",
     "output_type": "stream",
     "text": [
      "/Users/kushagraagrawal/anaconda3/envs/opso/lib/python3.8/site-packages/sklearn/metrics/_classification.py:1318: UndefinedMetricWarning: Jaccard is ill-defined and being set to 0.0 in labels with no true or predicted samples. Use `zero_division` parameter to control this behavior.\n",
      "  _warn_prf(average, modifier, msg_start, len(result))\n"
     ]
    },
    {
     "name": "stdout",
     "output_type": "stream",
     "text": [
      "Epoch: 4 [batch 210/220 (95.45%)] \n",
      "\tJacc: 0.681 Hamm: 0.021 DistLoss: 1.761\n"
     ]
    },
    {
     "name": "stderr",
     "output_type": "stream",
     "text": [
      "/Users/kushagraagrawal/anaconda3/envs/opso/lib/python3.8/site-packages/sklearn/metrics/_classification.py:1318: UndefinedMetricWarning: Jaccard is ill-defined and being set to 0.0 in labels with no true or predicted samples. Use `zero_division` parameter to control this behavior.\n",
      "  _warn_prf(average, modifier, msg_start, len(result))\n",
      "/Users/kushagraagrawal/.local/lib/python3.8/site-packages/scipy/signal/_spectral_py.py:1961: UserWarning: nperseg = 512 is greater than input length  = 468, using nperseg = 468\n",
      "  warnings.warn('nperseg = {0:d} is greater than input length '\n"
     ]
    },
    {
     "name": "stdout",
     "output_type": "stream",
     "text": [
      "\n",
      "Validation.\n",
      "(1753, 6)\n",
      "\t Precision: 0.7840511769313202\n",
      "\t Recall: 0.7671950728269596\n",
      "\t F1: 0.774565508641904\n",
      "Updating best model\n",
      "Epoch: 5 [batch 0/220 (0.00%)] \n",
      "\tJacc: 0.633 Hamm: 0.005 DistLoss: 0.795\n"
     ]
    },
    {
     "name": "stderr",
     "output_type": "stream",
     "text": [
      "/Users/kushagraagrawal/anaconda3/envs/opso/lib/python3.8/site-packages/sklearn/metrics/_classification.py:1318: UndefinedMetricWarning: Jaccard is ill-defined and being set to 0.0 in labels with no true or predicted samples. Use `zero_division` parameter to control this behavior.\n",
      "  _warn_prf(average, modifier, msg_start, len(result))\n"
     ]
    },
    {
     "name": "stdout",
     "output_type": "stream",
     "text": [
      "Epoch: 5 [batch 10/220 (4.55%)] \n",
      "\tJacc: 0.740 Hamm: 0.010 DistLoss: 1.014\n"
     ]
    },
    {
     "name": "stderr",
     "output_type": "stream",
     "text": [
      "/Users/kushagraagrawal/anaconda3/envs/opso/lib/python3.8/site-packages/sklearn/metrics/_classification.py:1318: UndefinedMetricWarning: Jaccard is ill-defined and being set to 0.0 in labels with no true or predicted samples. Use `zero_division` parameter to control this behavior.\n",
      "  _warn_prf(average, modifier, msg_start, len(result))\n"
     ]
    },
    {
     "name": "stdout",
     "output_type": "stream",
     "text": [
      "Epoch: 5 [batch 20/220 (9.09%)] \n",
      "\tJacc: 0.643 Hamm: 0.016 DistLoss: 1.157\n",
      "Epoch: 5 [batch 30/220 (13.64%)] \n",
      "\tJacc: 0.653 Hamm: 0.005 DistLoss: 1.180\n"
     ]
    },
    {
     "name": "stderr",
     "output_type": "stream",
     "text": [
      "/Users/kushagraagrawal/anaconda3/envs/opso/lib/python3.8/site-packages/sklearn/metrics/_classification.py:1318: UndefinedMetricWarning: Jaccard is ill-defined and being set to 0.0 in labels with no true or predicted samples. Use `zero_division` parameter to control this behavior.\n",
      "  _warn_prf(average, modifier, msg_start, len(result))\n"
     ]
    },
    {
     "name": "stdout",
     "output_type": "stream",
     "text": [
      "Epoch: 5 [batch 40/220 (18.18%)] \n",
      "\tJacc: 0.724 Hamm: 0.021 DistLoss: 1.188\n"
     ]
    },
    {
     "name": "stderr",
     "output_type": "stream",
     "text": [
      "/Users/kushagraagrawal/anaconda3/envs/opso/lib/python3.8/site-packages/sklearn/metrics/_classification.py:1318: UndefinedMetricWarning: Jaccard is ill-defined and being set to 0.0 in labels with no true or predicted samples. Use `zero_division` parameter to control this behavior.\n",
      "  _warn_prf(average, modifier, msg_start, len(result))\n"
     ]
    },
    {
     "name": "stdout",
     "output_type": "stream",
     "text": [
      "Epoch: 5 [batch 50/220 (22.73%)] \n",
      "\tJacc: 0.595 Hamm: 0.021 DistLoss: 1.188\n"
     ]
    },
    {
     "name": "stderr",
     "output_type": "stream",
     "text": [
      "/Users/kushagraagrawal/anaconda3/envs/opso/lib/python3.8/site-packages/sklearn/metrics/_classification.py:1318: UndefinedMetricWarning: Jaccard is ill-defined and being set to 0.0 in labels with no true or predicted samples. Use `zero_division` parameter to control this behavior.\n",
      "  _warn_prf(average, modifier, msg_start, len(result))\n"
     ]
    },
    {
     "name": "stdout",
     "output_type": "stream",
     "text": [
      "Epoch: 5 [batch 60/220 (27.27%)] \n",
      "\tJacc: 0.772 Hamm: 0.016 DistLoss: 1.178\n"
     ]
    },
    {
     "name": "stderr",
     "output_type": "stream",
     "text": [
      "/Users/kushagraagrawal/anaconda3/envs/opso/lib/python3.8/site-packages/sklearn/metrics/_classification.py:1318: UndefinedMetricWarning: Jaccard is ill-defined and being set to 0.0 in labels with no true or predicted samples. Use `zero_division` parameter to control this behavior.\n",
      "  _warn_prf(average, modifier, msg_start, len(result))\n"
     ]
    },
    {
     "name": "stdout",
     "output_type": "stream",
     "text": [
      "Epoch: 5 [batch 70/220 (31.82%)] \n",
      "\tJacc: 0.821 Hamm: 0.005 DistLoss: 1.164\n"
     ]
    },
    {
     "name": "stderr",
     "output_type": "stream",
     "text": [
      "/Users/kushagraagrawal/anaconda3/envs/opso/lib/python3.8/site-packages/sklearn/metrics/_classification.py:1318: UndefinedMetricWarning: Jaccard is ill-defined and being set to 0.0 in labels with no true or predicted samples. Use `zero_division` parameter to control this behavior.\n",
      "  _warn_prf(average, modifier, msg_start, len(result))\n"
     ]
    },
    {
     "name": "stdout",
     "output_type": "stream",
     "text": [
      "Epoch: 5 [batch 80/220 (36.36%)] \n",
      "\tJacc: 0.639 Hamm: 0.005 DistLoss: 1.155\n"
     ]
    },
    {
     "name": "stderr",
     "output_type": "stream",
     "text": [
      "/Users/kushagraagrawal/anaconda3/envs/opso/lib/python3.8/site-packages/sklearn/metrics/_classification.py:1318: UndefinedMetricWarning: Jaccard is ill-defined and being set to 0.0 in labels with no true or predicted samples. Use `zero_division` parameter to control this behavior.\n",
      "  _warn_prf(average, modifier, msg_start, len(result))\n"
     ]
    },
    {
     "name": "stdout",
     "output_type": "stream",
     "text": [
      "Epoch: 5 [batch 90/220 (40.91%)] \n",
      "\tJacc: 0.667 Hamm: 0.010 DistLoss: 1.159\n",
      "Epoch: 5 [batch 100/220 (45.45%)] \n",
      "\tJacc: 0.833 Hamm: 0.000 DistLoss: 1.117\n"
     ]
    },
    {
     "name": "stderr",
     "output_type": "stream",
     "text": [
      "/Users/kushagraagrawal/anaconda3/envs/opso/lib/python3.8/site-packages/sklearn/metrics/_classification.py:1318: UndefinedMetricWarning: Jaccard is ill-defined and being set to 0.0 in labels with no true or predicted samples. Use `zero_division` parameter to control this behavior.\n",
      "  _warn_prf(average, modifier, msg_start, len(result))\n"
     ]
    },
    {
     "name": "stdout",
     "output_type": "stream",
     "text": [
      "Epoch: 5 [batch 110/220 (50.00%)] \n",
      "\tJacc: 0.646 Hamm: 0.010 DistLoss: 1.166\n"
     ]
    },
    {
     "name": "stderr",
     "output_type": "stream",
     "text": [
      "/Users/kushagraagrawal/anaconda3/envs/opso/lib/python3.8/site-packages/sklearn/metrics/_classification.py:1318: UndefinedMetricWarning: Jaccard is ill-defined and being set to 0.0 in labels with no true or predicted samples. Use `zero_division` parameter to control this behavior.\n",
      "  _warn_prf(average, modifier, msg_start, len(result))\n"
     ]
    },
    {
     "name": "stdout",
     "output_type": "stream",
     "text": [
      "Epoch: 5 [batch 120/220 (54.55%)] \n",
      "\tJacc: 0.578 Hamm: 0.016 DistLoss: 1.169\n"
     ]
    },
    {
     "name": "stderr",
     "output_type": "stream",
     "text": [
      "/Users/kushagraagrawal/anaconda3/envs/opso/lib/python3.8/site-packages/sklearn/metrics/_classification.py:1318: UndefinedMetricWarning: Jaccard is ill-defined and being set to 0.0 in labels with no true or predicted samples. Use `zero_division` parameter to control this behavior.\n",
      "  _warn_prf(average, modifier, msg_start, len(result))\n"
     ]
    },
    {
     "name": "stdout",
     "output_type": "stream",
     "text": [
      "Epoch: 5 [batch 130/220 (59.09%)] \n",
      "\tJacc: 0.572 Hamm: 0.026 DistLoss: 1.186\n"
     ]
    },
    {
     "name": "stderr",
     "output_type": "stream",
     "text": [
      "/Users/kushagraagrawal/anaconda3/envs/opso/lib/python3.8/site-packages/sklearn/metrics/_classification.py:1318: UndefinedMetricWarning: Jaccard is ill-defined and being set to 0.0 in labels with no true or predicted samples. Use `zero_division` parameter to control this behavior.\n",
      "  _warn_prf(average, modifier, msg_start, len(result))\n"
     ]
    },
    {
     "name": "stdout",
     "output_type": "stream",
     "text": [
      "Epoch: 5 [batch 140/220 (63.64%)] \n",
      "\tJacc: 0.792 Hamm: 0.010 DistLoss: 1.178\n"
     ]
    },
    {
     "name": "stderr",
     "output_type": "stream",
     "text": [
      "/Users/kushagraagrawal/anaconda3/envs/opso/lib/python3.8/site-packages/sklearn/metrics/_classification.py:1318: UndefinedMetricWarning: Jaccard is ill-defined and being set to 0.0 in labels with no true or predicted samples. Use `zero_division` parameter to control this behavior.\n",
      "  _warn_prf(average, modifier, msg_start, len(result))\n"
     ]
    },
    {
     "name": "stdout",
     "output_type": "stream",
     "text": [
      "Epoch: 5 [batch 150/220 (68.18%)] \n",
      "\tJacc: 0.810 Hamm: 0.005 DistLoss: 1.246\n"
     ]
    },
    {
     "name": "stderr",
     "output_type": "stream",
     "text": [
      "/Users/kushagraagrawal/anaconda3/envs/opso/lib/python3.8/site-packages/sklearn/metrics/_classification.py:1318: UndefinedMetricWarning: Jaccard is ill-defined and being set to 0.0 in labels with no true or predicted samples. Use `zero_division` parameter to control this behavior.\n",
      "  _warn_prf(average, modifier, msg_start, len(result))\n"
     ]
    },
    {
     "name": "stdout",
     "output_type": "stream",
     "text": [
      "Epoch: 5 [batch 160/220 (72.73%)] \n",
      "\tJacc: 0.667 Hamm: 0.000 DistLoss: 1.259\n"
     ]
    },
    {
     "name": "stderr",
     "output_type": "stream",
     "text": [
      "/Users/kushagraagrawal/anaconda3/envs/opso/lib/python3.8/site-packages/sklearn/metrics/_classification.py:1318: UndefinedMetricWarning: Jaccard is ill-defined and being set to 0.0 in labels with no true or predicted samples. Use `zero_division` parameter to control this behavior.\n",
      "  _warn_prf(average, modifier, msg_start, len(result))\n"
     ]
    },
    {
     "name": "stdout",
     "output_type": "stream",
     "text": [
      "Epoch: 5 [batch 170/220 (77.27%)] \n",
      "\tJacc: 0.602 Hamm: 0.016 DistLoss: 1.290\n"
     ]
    },
    {
     "name": "stderr",
     "output_type": "stream",
     "text": [
      "/Users/kushagraagrawal/anaconda3/envs/opso/lib/python3.8/site-packages/sklearn/metrics/_classification.py:1318: UndefinedMetricWarning: Jaccard is ill-defined and being set to 0.0 in labels with no true or predicted samples. Use `zero_division` parameter to control this behavior.\n",
      "  _warn_prf(average, modifier, msg_start, len(result))\n"
     ]
    },
    {
     "name": "stdout",
     "output_type": "stream",
     "text": [
      "Epoch: 5 [batch 180/220 (81.82%)] \n",
      "\tJacc: 0.817 Hamm: 0.005 DistLoss: 1.309\n"
     ]
    },
    {
     "name": "stderr",
     "output_type": "stream",
     "text": [
      "/Users/kushagraagrawal/anaconda3/envs/opso/lib/python3.8/site-packages/sklearn/metrics/_classification.py:1318: UndefinedMetricWarning: Jaccard is ill-defined and being set to 0.0 in labels with no true or predicted samples. Use `zero_division` parameter to control this behavior.\n",
      "  _warn_prf(average, modifier, msg_start, len(result))\n"
     ]
    },
    {
     "name": "stdout",
     "output_type": "stream",
     "text": [
      "Epoch: 5 [batch 190/220 (86.36%)] \n",
      "\tJacc: 0.809 Hamm: 0.021 DistLoss: 1.329\n",
      "Epoch: 5 [batch 200/220 (90.91%)] \n",
      "\tJacc: 0.702 Hamm: 0.016 DistLoss: 1.352\n"
     ]
    },
    {
     "name": "stderr",
     "output_type": "stream",
     "text": [
      "/Users/kushagraagrawal/anaconda3/envs/opso/lib/python3.8/site-packages/sklearn/metrics/_classification.py:1318: UndefinedMetricWarning: Jaccard is ill-defined and being set to 0.0 in labels with no true or predicted samples. Use `zero_division` parameter to control this behavior.\n",
      "  _warn_prf(average, modifier, msg_start, len(result))\n"
     ]
    },
    {
     "name": "stdout",
     "output_type": "stream",
     "text": [
      "Epoch: 5 [batch 210/220 (95.45%)] \n",
      "\tJacc: 0.800 Hamm: 0.005 DistLoss: 1.354\n"
     ]
    },
    {
     "name": "stderr",
     "output_type": "stream",
     "text": [
      "/Users/kushagraagrawal/anaconda3/envs/opso/lib/python3.8/site-packages/sklearn/metrics/_classification.py:1318: UndefinedMetricWarning: Jaccard is ill-defined and being set to 0.0 in labels with no true or predicted samples. Use `zero_division` parameter to control this behavior.\n",
      "  _warn_prf(average, modifier, msg_start, len(result))\n",
      "/Users/kushagraagrawal/.local/lib/python3.8/site-packages/scipy/signal/_spectral_py.py:1961: UserWarning: nperseg = 512 is greater than input length  = 468, using nperseg = 468\n",
      "  warnings.warn('nperseg = {0:d} is greater than input length '\n"
     ]
    },
    {
     "name": "stdout",
     "output_type": "stream",
     "text": [
      "\n",
      "Validation.\n",
      "(1753, 6)\n",
      "\t Precision: 0.9735677228414062\n",
      "\t Recall: 0.8590877355706713\n",
      "\t F1: 0.9068488854099587\n",
      "Updating best model\n",
      "Epoch: 6 [batch 0/220 (0.00%)] \n",
      "\tJacc: 0.582 Hamm: 0.031 DistLoss: 3.510\n"
     ]
    },
    {
     "name": "stderr",
     "output_type": "stream",
     "text": [
      "/Users/kushagraagrawal/anaconda3/envs/opso/lib/python3.8/site-packages/sklearn/metrics/_classification.py:1318: UndefinedMetricWarning: Jaccard is ill-defined and being set to 0.0 in labels with no true or predicted samples. Use `zero_division` parameter to control this behavior.\n",
      "  _warn_prf(average, modifier, msg_start, len(result))\n"
     ]
    },
    {
     "name": "stdout",
     "output_type": "stream",
     "text": [
      "Epoch: 6 [batch 10/220 (4.55%)] \n",
      "\tJacc: 0.567 Hamm: 0.016 DistLoss: 1.290\n"
     ]
    },
    {
     "name": "stderr",
     "output_type": "stream",
     "text": [
      "/Users/kushagraagrawal/anaconda3/envs/opso/lib/python3.8/site-packages/sklearn/metrics/_classification.py:1318: UndefinedMetricWarning: Jaccard is ill-defined and being set to 0.0 in labels with no true or predicted samples. Use `zero_division` parameter to control this behavior.\n",
      "  _warn_prf(average, modifier, msg_start, len(result))\n"
     ]
    },
    {
     "name": "stdout",
     "output_type": "stream",
     "text": [
      "Epoch: 6 [batch 20/220 (9.09%)] \n",
      "\tJacc: 0.500 Hamm: 0.005 DistLoss: 1.250\n"
     ]
    },
    {
     "name": "stderr",
     "output_type": "stream",
     "text": [
      "/Users/kushagraagrawal/anaconda3/envs/opso/lib/python3.8/site-packages/sklearn/metrics/_classification.py:1318: UndefinedMetricWarning: Jaccard is ill-defined and being set to 0.0 in labels with no true or predicted samples. Use `zero_division` parameter to control this behavior.\n",
      "  _warn_prf(average, modifier, msg_start, len(result))\n"
     ]
    },
    {
     "name": "stdout",
     "output_type": "stream",
     "text": [
      "Epoch: 6 [batch 30/220 (13.64%)] \n",
      "\tJacc: 0.792 Hamm: 0.005 DistLoss: 1.136\n"
     ]
    },
    {
     "name": "stderr",
     "output_type": "stream",
     "text": [
      "/Users/kushagraagrawal/anaconda3/envs/opso/lib/python3.8/site-packages/sklearn/metrics/_classification.py:1318: UndefinedMetricWarning: Jaccard is ill-defined and being set to 0.0 in labels with no true or predicted samples. Use `zero_division` parameter to control this behavior.\n",
      "  _warn_prf(average, modifier, msg_start, len(result))\n"
     ]
    },
    {
     "name": "stdout",
     "output_type": "stream",
     "text": [
      "Epoch: 6 [batch 40/220 (18.18%)] \n",
      "\tJacc: 0.574 Hamm: 0.021 DistLoss: 1.177\n"
     ]
    },
    {
     "name": "stderr",
     "output_type": "stream",
     "text": [
      "/Users/kushagraagrawal/anaconda3/envs/opso/lib/python3.8/site-packages/sklearn/metrics/_classification.py:1318: UndefinedMetricWarning: Jaccard is ill-defined and being set to 0.0 in labels with no true or predicted samples. Use `zero_division` parameter to control this behavior.\n",
      "  _warn_prf(average, modifier, msg_start, len(result))\n"
     ]
    },
    {
     "name": "stdout",
     "output_type": "stream",
     "text": [
      "Epoch: 6 [batch 50/220 (22.73%)] \n",
      "\tJacc: 0.991 Hamm: 0.005 DistLoss: 1.226\n",
      "Epoch: 6 [batch 60/220 (27.27%)] \n",
      "\tJacc: 0.503 Hamm: 0.031 DistLoss: 1.228\n"
     ]
    },
    {
     "name": "stderr",
     "output_type": "stream",
     "text": [
      "/Users/kushagraagrawal/anaconda3/envs/opso/lib/python3.8/site-packages/sklearn/metrics/_classification.py:1318: UndefinedMetricWarning: Jaccard is ill-defined and being set to 0.0 in labels with no true or predicted samples. Use `zero_division` parameter to control this behavior.\n",
      "  _warn_prf(average, modifier, msg_start, len(result))\n"
     ]
    },
    {
     "name": "stdout",
     "output_type": "stream",
     "text": [
      "Epoch: 6 [batch 70/220 (31.82%)] \n",
      "\tJacc: 0.806 Hamm: 0.005 DistLoss: 1.215\n"
     ]
    },
    {
     "name": "stderr",
     "output_type": "stream",
     "text": [
      "/Users/kushagraagrawal/anaconda3/envs/opso/lib/python3.8/site-packages/sklearn/metrics/_classification.py:1318: UndefinedMetricWarning: Jaccard is ill-defined and being set to 0.0 in labels with no true or predicted samples. Use `zero_division` parameter to control this behavior.\n",
      "  _warn_prf(average, modifier, msg_start, len(result))\n"
     ]
    },
    {
     "name": "stdout",
     "output_type": "stream",
     "text": [
      "Epoch: 6 [batch 80/220 (36.36%)] \n",
      "\tJacc: 0.667 Hamm: 0.000 DistLoss: 1.197\n"
     ]
    },
    {
     "name": "stderr",
     "output_type": "stream",
     "text": [
      "/Users/kushagraagrawal/anaconda3/envs/opso/lib/python3.8/site-packages/sklearn/metrics/_classification.py:1318: UndefinedMetricWarning: Jaccard is ill-defined and being set to 0.0 in labels with no true or predicted samples. Use `zero_division` parameter to control this behavior.\n",
      "  _warn_prf(average, modifier, msg_start, len(result))\n"
     ]
    },
    {
     "name": "stdout",
     "output_type": "stream",
     "text": [
      "Epoch: 6 [batch 90/220 (40.91%)] \n",
      "\tJacc: 0.650 Hamm: 0.021 DistLoss: 1.224\n"
     ]
    },
    {
     "name": "stderr",
     "output_type": "stream",
     "text": [
      "/Users/kushagraagrawal/anaconda3/envs/opso/lib/python3.8/site-packages/sklearn/metrics/_classification.py:1318: UndefinedMetricWarning: Jaccard is ill-defined and being set to 0.0 in labels with no true or predicted samples. Use `zero_division` parameter to control this behavior.\n",
      "  _warn_prf(average, modifier, msg_start, len(result))\n"
     ]
    },
    {
     "name": "stdout",
     "output_type": "stream",
     "text": [
      "Epoch: 6 [batch 100/220 (45.45%)] \n",
      "\tJacc: 0.833 Hamm: 0.000 DistLoss: 1.269\n"
     ]
    },
    {
     "name": "stderr",
     "output_type": "stream",
     "text": [
      "/Users/kushagraagrawal/anaconda3/envs/opso/lib/python3.8/site-packages/sklearn/metrics/_classification.py:1318: UndefinedMetricWarning: Jaccard is ill-defined and being set to 0.0 in labels with no true or predicted samples. Use `zero_division` parameter to control this behavior.\n",
      "  _warn_prf(average, modifier, msg_start, len(result))\n"
     ]
    },
    {
     "name": "stdout",
     "output_type": "stream",
     "text": [
      "Epoch: 6 [batch 110/220 (50.00%)] \n",
      "\tJacc: 0.656 Hamm: 0.010 DistLoss: 1.275\n"
     ]
    },
    {
     "name": "stderr",
     "output_type": "stream",
     "text": [
      "/Users/kushagraagrawal/anaconda3/envs/opso/lib/python3.8/site-packages/sklearn/metrics/_classification.py:1318: UndefinedMetricWarning: Jaccard is ill-defined and being set to 0.0 in labels with no true or predicted samples. Use `zero_division` parameter to control this behavior.\n",
      "  _warn_prf(average, modifier, msg_start, len(result))\n"
     ]
    },
    {
     "name": "stdout",
     "output_type": "stream",
     "text": [
      "Epoch: 6 [batch 120/220 (54.55%)] \n",
      "\tJacc: 0.748 Hamm: 0.016 DistLoss: 1.280\n"
     ]
    },
    {
     "name": "stderr",
     "output_type": "stream",
     "text": [
      "/Users/kushagraagrawal/anaconda3/envs/opso/lib/python3.8/site-packages/sklearn/metrics/_classification.py:1318: UndefinedMetricWarning: Jaccard is ill-defined and being set to 0.0 in labels with no true or predicted samples. Use `zero_division` parameter to control this behavior.\n",
      "  _warn_prf(average, modifier, msg_start, len(result))\n"
     ]
    },
    {
     "name": "stdout",
     "output_type": "stream",
     "text": [
      "Epoch: 6 [batch 130/220 (59.09%)] \n",
      "\tJacc: 0.833 Hamm: 0.000 DistLoss: 1.286\n"
     ]
    },
    {
     "name": "stderr",
     "output_type": "stream",
     "text": [
      "/Users/kushagraagrawal/anaconda3/envs/opso/lib/python3.8/site-packages/sklearn/metrics/_classification.py:1318: UndefinedMetricWarning: Jaccard is ill-defined and being set to 0.0 in labels with no true or predicted samples. Use `zero_division` parameter to control this behavior.\n",
      "  _warn_prf(average, modifier, msg_start, len(result))\n"
     ]
    },
    {
     "name": "stdout",
     "output_type": "stream",
     "text": [
      "Epoch: 6 [batch 140/220 (63.64%)] \n",
      "\tJacc: 0.583 Hamm: 0.026 DistLoss: 1.301\n"
     ]
    },
    {
     "name": "stderr",
     "output_type": "stream",
     "text": [
      "/Users/kushagraagrawal/anaconda3/envs/opso/lib/python3.8/site-packages/sklearn/metrics/_classification.py:1318: UndefinedMetricWarning: Jaccard is ill-defined and being set to 0.0 in labels with no true or predicted samples. Use `zero_division` parameter to control this behavior.\n",
      "  _warn_prf(average, modifier, msg_start, len(result))\n"
     ]
    },
    {
     "name": "stdout",
     "output_type": "stream",
     "text": [
      "Epoch: 6 [batch 150/220 (68.18%)] \n",
      "\tJacc: 0.609 Hamm: 0.036 DistLoss: 1.335\n"
     ]
    },
    {
     "name": "stderr",
     "output_type": "stream",
     "text": [
      "/Users/kushagraagrawal/anaconda3/envs/opso/lib/python3.8/site-packages/sklearn/metrics/_classification.py:1318: UndefinedMetricWarning: Jaccard is ill-defined and being set to 0.0 in labels with no true or predicted samples. Use `zero_division` parameter to control this behavior.\n",
      "  _warn_prf(average, modifier, msg_start, len(result))\n"
     ]
    },
    {
     "name": "stdout",
     "output_type": "stream",
     "text": [
      "Epoch: 6 [batch 160/220 (72.73%)] \n",
      "\tJacc: 0.631 Hamm: 0.010 DistLoss: 1.344\n"
     ]
    },
    {
     "name": "stderr",
     "output_type": "stream",
     "text": [
      "/Users/kushagraagrawal/anaconda3/envs/opso/lib/python3.8/site-packages/sklearn/metrics/_classification.py:1318: UndefinedMetricWarning: Jaccard is ill-defined and being set to 0.0 in labels with no true or predicted samples. Use `zero_division` parameter to control this behavior.\n",
      "  _warn_prf(average, modifier, msg_start, len(result))\n"
     ]
    },
    {
     "name": "stdout",
     "output_type": "stream",
     "text": [
      "Epoch: 6 [batch 170/220 (77.27%)] \n",
      "\tJacc: 0.625 Hamm: 0.005 DistLoss: 1.325\n"
     ]
    },
    {
     "name": "stderr",
     "output_type": "stream",
     "text": [
      "/Users/kushagraagrawal/anaconda3/envs/opso/lib/python3.8/site-packages/sklearn/metrics/_classification.py:1318: UndefinedMetricWarning: Jaccard is ill-defined and being set to 0.0 in labels with no true or predicted samples. Use `zero_division` parameter to control this behavior.\n",
      "  _warn_prf(average, modifier, msg_start, len(result))\n"
     ]
    },
    {
     "name": "stdout",
     "output_type": "stream",
     "text": [
      "Epoch: 6 [batch 180/220 (81.82%)] \n",
      "\tJacc: 0.657 Hamm: 0.010 DistLoss: 1.324\n"
     ]
    },
    {
     "name": "stderr",
     "output_type": "stream",
     "text": [
      "/Users/kushagraagrawal/anaconda3/envs/opso/lib/python3.8/site-packages/sklearn/metrics/_classification.py:1318: UndefinedMetricWarning: Jaccard is ill-defined and being set to 0.0 in labels with no true or predicted samples. Use `zero_division` parameter to control this behavior.\n",
      "  _warn_prf(average, modifier, msg_start, len(result))\n"
     ]
    },
    {
     "name": "stdout",
     "output_type": "stream",
     "text": [
      "Epoch: 6 [batch 190/220 (86.36%)] \n",
      "\tJacc: 0.750 Hamm: 0.005 DistLoss: 1.310\n"
     ]
    },
    {
     "name": "stderr",
     "output_type": "stream",
     "text": [
      "/Users/kushagraagrawal/anaconda3/envs/opso/lib/python3.8/site-packages/sklearn/metrics/_classification.py:1318: UndefinedMetricWarning: Jaccard is ill-defined and being set to 0.0 in labels with no true or predicted samples. Use `zero_division` parameter to control this behavior.\n",
      "  _warn_prf(average, modifier, msg_start, len(result))\n"
     ]
    },
    {
     "name": "stdout",
     "output_type": "stream",
     "text": [
      "Epoch: 6 [batch 200/220 (90.91%)] \n",
      "\tJacc: 0.812 Hamm: 0.005 DistLoss: 1.304\n"
     ]
    },
    {
     "name": "stderr",
     "output_type": "stream",
     "text": [
      "/Users/kushagraagrawal/anaconda3/envs/opso/lib/python3.8/site-packages/sklearn/metrics/_classification.py:1318: UndefinedMetricWarning: Jaccard is ill-defined and being set to 0.0 in labels with no true or predicted samples. Use `zero_division` parameter to control this behavior.\n",
      "  _warn_prf(average, modifier, msg_start, len(result))\n"
     ]
    },
    {
     "name": "stdout",
     "output_type": "stream",
     "text": [
      "Epoch: 6 [batch 210/220 (95.45%)] \n",
      "\tJacc: 0.791 Hamm: 0.010 DistLoss: 1.321\n"
     ]
    },
    {
     "name": "stderr",
     "output_type": "stream",
     "text": [
      "/Users/kushagraagrawal/anaconda3/envs/opso/lib/python3.8/site-packages/sklearn/metrics/_classification.py:1318: UndefinedMetricWarning: Jaccard is ill-defined and being set to 0.0 in labels with no true or predicted samples. Use `zero_division` parameter to control this behavior.\n",
      "  _warn_prf(average, modifier, msg_start, len(result))\n",
      "/Users/kushagraagrawal/.local/lib/python3.8/site-packages/scipy/signal/_spectral_py.py:1961: UserWarning: nperseg = 512 is greater than input length  = 468, using nperseg = 468\n",
      "  warnings.warn('nperseg = {0:d} is greater than input length '\n"
     ]
    },
    {
     "name": "stdout",
     "output_type": "stream",
     "text": [
      "\n",
      "Validation.\n",
      "(1753, 6)\n",
      "\t Precision: 0.9479833929572411\n",
      "\t Recall: 0.9308531354840165\n",
      "\t F1: 0.9384208077275925\n",
      "Updating best model\n",
      "Epoch: 7 [batch 0/220 (0.00%)] \n",
      "\tJacc: 0.656 Hamm: 0.010 DistLoss: 1.613\n"
     ]
    },
    {
     "name": "stderr",
     "output_type": "stream",
     "text": [
      "/Users/kushagraagrawal/anaconda3/envs/opso/lib/python3.8/site-packages/sklearn/metrics/_classification.py:1318: UndefinedMetricWarning: Jaccard is ill-defined and being set to 0.0 in labels with no true or predicted samples. Use `zero_division` parameter to control this behavior.\n",
      "  _warn_prf(average, modifier, msg_start, len(result))\n"
     ]
    },
    {
     "name": "stdout",
     "output_type": "stream",
     "text": [
      "Epoch: 7 [batch 10/220 (4.55%)] \n",
      "\tJacc: 0.567 Hamm: 0.026 DistLoss: 2.690\n"
     ]
    },
    {
     "name": "stderr",
     "output_type": "stream",
     "text": [
      "/Users/kushagraagrawal/anaconda3/envs/opso/lib/python3.8/site-packages/sklearn/metrics/_classification.py:1318: UndefinedMetricWarning: Jaccard is ill-defined and being set to 0.0 in labels with no true or predicted samples. Use `zero_division` parameter to control this behavior.\n",
      "  _warn_prf(average, modifier, msg_start, len(result))\n"
     ]
    },
    {
     "name": "stdout",
     "output_type": "stream",
     "text": [
      "Epoch: 7 [batch 20/220 (9.09%)] \n",
      "\tJacc: 0.523 Hamm: 0.042 DistLoss: 2.377\n"
     ]
    },
    {
     "name": "stderr",
     "output_type": "stream",
     "text": [
      "/Users/kushagraagrawal/anaconda3/envs/opso/lib/python3.8/site-packages/sklearn/metrics/_classification.py:1318: UndefinedMetricWarning: Jaccard is ill-defined and being set to 0.0 in labels with no true or predicted samples. Use `zero_division` parameter to control this behavior.\n",
      "  _warn_prf(average, modifier, msg_start, len(result))\n"
     ]
    },
    {
     "name": "stdout",
     "output_type": "stream",
     "text": [
      "Epoch: 7 [batch 30/220 (13.64%)] \n",
      "\tJacc: 0.733 Hamm: 0.026 DistLoss: 2.393\n"
     ]
    },
    {
     "name": "stderr",
     "output_type": "stream",
     "text": [
      "/Users/kushagraagrawal/anaconda3/envs/opso/lib/python3.8/site-packages/sklearn/metrics/_classification.py:1318: UndefinedMetricWarning: Jaccard is ill-defined and being set to 0.0 in labels with no true or predicted samples. Use `zero_division` parameter to control this behavior.\n",
      "  _warn_prf(average, modifier, msg_start, len(result))\n"
     ]
    },
    {
     "name": "stdout",
     "output_type": "stream",
     "text": [
      "Epoch: 7 [batch 40/220 (18.18%)] \n",
      "\tJacc: 0.796 Hamm: 0.010 DistLoss: 2.136\n"
     ]
    },
    {
     "name": "stderr",
     "output_type": "stream",
     "text": [
      "/Users/kushagraagrawal/anaconda3/envs/opso/lib/python3.8/site-packages/sklearn/metrics/_classification.py:1318: UndefinedMetricWarning: Jaccard is ill-defined and being set to 0.0 in labels with no true or predicted samples. Use `zero_division` parameter to control this behavior.\n",
      "  _warn_prf(average, modifier, msg_start, len(result))\n"
     ]
    },
    {
     "name": "stdout",
     "output_type": "stream",
     "text": [
      "Epoch: 7 [batch 50/220 (22.73%)] \n",
      "\tJacc: 0.677 Hamm: 0.042 DistLoss: 2.020\n"
     ]
    },
    {
     "name": "stderr",
     "output_type": "stream",
     "text": [
      "/Users/kushagraagrawal/anaconda3/envs/opso/lib/python3.8/site-packages/sklearn/metrics/_classification.py:1318: UndefinedMetricWarning: Jaccard is ill-defined and being set to 0.0 in labels with no true or predicted samples. Use `zero_division` parameter to control this behavior.\n",
      "  _warn_prf(average, modifier, msg_start, len(result))\n"
     ]
    },
    {
     "name": "stdout",
     "output_type": "stream",
     "text": [
      "Epoch: 7 [batch 60/220 (27.27%)] \n",
      "\tJacc: 0.667 Hamm: 0.010 DistLoss: 1.891\n",
      "Epoch: 7 [batch 70/220 (31.82%)] \n",
      "\tJacc: 0.833 Hamm: 0.000 DistLoss: 1.787\n"
     ]
    },
    {
     "name": "stderr",
     "output_type": "stream",
     "text": [
      "/Users/kushagraagrawal/anaconda3/envs/opso/lib/python3.8/site-packages/sklearn/metrics/_classification.py:1318: UndefinedMetricWarning: Jaccard is ill-defined and being set to 0.0 in labels with no true or predicted samples. Use `zero_division` parameter to control this behavior.\n",
      "  _warn_prf(average, modifier, msg_start, len(result))\n"
     ]
    },
    {
     "name": "stdout",
     "output_type": "stream",
     "text": [
      "Epoch: 7 [batch 80/220 (36.36%)] \n",
      "\tJacc: 0.818 Hamm: 0.005 DistLoss: 1.710\n"
     ]
    },
    {
     "name": "stderr",
     "output_type": "stream",
     "text": [
      "/Users/kushagraagrawal/anaconda3/envs/opso/lib/python3.8/site-packages/sklearn/metrics/_classification.py:1318: UndefinedMetricWarning: Jaccard is ill-defined and being set to 0.0 in labels with no true or predicted samples. Use `zero_division` parameter to control this behavior.\n",
      "  _warn_prf(average, modifier, msg_start, len(result))\n"
     ]
    },
    {
     "name": "stdout",
     "output_type": "stream",
     "text": [
      "Epoch: 7 [batch 90/220 (40.91%)] \n",
      "\tJacc: 0.833 Hamm: 0.000 DistLoss: 1.630\n"
     ]
    },
    {
     "name": "stderr",
     "output_type": "stream",
     "text": [
      "/Users/kushagraagrawal/anaconda3/envs/opso/lib/python3.8/site-packages/sklearn/metrics/_classification.py:1318: UndefinedMetricWarning: Jaccard is ill-defined and being set to 0.0 in labels with no true or predicted samples. Use `zero_division` parameter to control this behavior.\n",
      "  _warn_prf(average, modifier, msg_start, len(result))\n"
     ]
    },
    {
     "name": "stdout",
     "output_type": "stream",
     "text": [
      "Epoch: 7 [batch 100/220 (45.45%)] \n",
      "\tJacc: 0.591 Hamm: 0.016 DistLoss: 1.570\n"
     ]
    },
    {
     "name": "stderr",
     "output_type": "stream",
     "text": [
      "/Users/kushagraagrawal/anaconda3/envs/opso/lib/python3.8/site-packages/sklearn/metrics/_classification.py:1318: UndefinedMetricWarning: Jaccard is ill-defined and being set to 0.0 in labels with no true or predicted samples. Use `zero_division` parameter to control this behavior.\n",
      "  _warn_prf(average, modifier, msg_start, len(result))\n"
     ]
    },
    {
     "name": "stdout",
     "output_type": "stream",
     "text": [
      "Epoch: 7 [batch 110/220 (50.00%)] \n",
      "\tJacc: 0.766 Hamm: 0.010 DistLoss: 1.565\n"
     ]
    },
    {
     "name": "stderr",
     "output_type": "stream",
     "text": [
      "/Users/kushagraagrawal/anaconda3/envs/opso/lib/python3.8/site-packages/sklearn/metrics/_classification.py:1318: UndefinedMetricWarning: Jaccard is ill-defined and being set to 0.0 in labels with no true or predicted samples. Use `zero_division` parameter to control this behavior.\n",
      "  _warn_prf(average, modifier, msg_start, len(result))\n"
     ]
    },
    {
     "name": "stdout",
     "output_type": "stream",
     "text": [
      "Epoch: 7 [batch 120/220 (54.55%)] \n",
      "\tJacc: 0.600 Hamm: 0.021 DistLoss: 1.557\n"
     ]
    },
    {
     "name": "stderr",
     "output_type": "stream",
     "text": [
      "/Users/kushagraagrawal/anaconda3/envs/opso/lib/python3.8/site-packages/sklearn/metrics/_classification.py:1318: UndefinedMetricWarning: Jaccard is ill-defined and being set to 0.0 in labels with no true or predicted samples. Use `zero_division` parameter to control this behavior.\n",
      "  _warn_prf(average, modifier, msg_start, len(result))\n"
     ]
    },
    {
     "name": "stdout",
     "output_type": "stream",
     "text": [
      "Epoch: 7 [batch 130/220 (59.09%)] \n",
      "\tJacc: 0.916 Hamm: 0.016 DistLoss: 1.544\n",
      "Epoch: 7 [batch 140/220 (63.64%)] \n",
      "\tJacc: 0.701 Hamm: 0.031 DistLoss: 1.517\n"
     ]
    },
    {
     "name": "stderr",
     "output_type": "stream",
     "text": [
      "/Users/kushagraagrawal/anaconda3/envs/opso/lib/python3.8/site-packages/sklearn/metrics/_classification.py:1318: UndefinedMetricWarning: Jaccard is ill-defined and being set to 0.0 in labels with no true or predicted samples. Use `zero_division` parameter to control this behavior.\n",
      "  _warn_prf(average, modifier, msg_start, len(result))\n"
     ]
    },
    {
     "name": "stdout",
     "output_type": "stream",
     "text": [
      "Epoch: 7 [batch 150/220 (68.18%)] \n",
      "\tJacc: 0.516 Hamm: 0.026 DistLoss: 1.520\n"
     ]
    },
    {
     "name": "stderr",
     "output_type": "stream",
     "text": [
      "/Users/kushagraagrawal/anaconda3/envs/opso/lib/python3.8/site-packages/sklearn/metrics/_classification.py:1318: UndefinedMetricWarning: Jaccard is ill-defined and being set to 0.0 in labels with no true or predicted samples. Use `zero_division` parameter to control this behavior.\n",
      "  _warn_prf(average, modifier, msg_start, len(result))\n"
     ]
    },
    {
     "name": "stdout",
     "output_type": "stream",
     "text": [
      "Epoch: 7 [batch 160/220 (72.73%)] \n",
      "\tJacc: 0.667 Hamm: 0.000 DistLoss: 1.481\n"
     ]
    },
    {
     "name": "stderr",
     "output_type": "stream",
     "text": [
      "/Users/kushagraagrawal/anaconda3/envs/opso/lib/python3.8/site-packages/sklearn/metrics/_classification.py:1318: UndefinedMetricWarning: Jaccard is ill-defined and being set to 0.0 in labels with no true or predicted samples. Use `zero_division` parameter to control this behavior.\n",
      "  _warn_prf(average, modifier, msg_start, len(result))\n"
     ]
    },
    {
     "name": "stdout",
     "output_type": "stream",
     "text": [
      "Epoch: 7 [batch 170/220 (77.27%)] \n",
      "\tJacc: 0.667 Hamm: 0.000 DistLoss: 1.455\n"
     ]
    },
    {
     "name": "stderr",
     "output_type": "stream",
     "text": [
      "/Users/kushagraagrawal/anaconda3/envs/opso/lib/python3.8/site-packages/sklearn/metrics/_classification.py:1318: UndefinedMetricWarning: Jaccard is ill-defined and being set to 0.0 in labels with no true or predicted samples. Use `zero_division` parameter to control this behavior.\n",
      "  _warn_prf(average, modifier, msg_start, len(result))\n"
     ]
    },
    {
     "name": "stdout",
     "output_type": "stream",
     "text": [
      "Epoch: 7 [batch 180/220 (81.82%)] \n",
      "\tJacc: 0.687 Hamm: 0.031 DistLoss: 1.455\n"
     ]
    },
    {
     "name": "stderr",
     "output_type": "stream",
     "text": [
      "/Users/kushagraagrawal/anaconda3/envs/opso/lib/python3.8/site-packages/sklearn/metrics/_classification.py:1318: UndefinedMetricWarning: Jaccard is ill-defined and being set to 0.0 in labels with no true or predicted samples. Use `zero_division` parameter to control this behavior.\n",
      "  _warn_prf(average, modifier, msg_start, len(result))\n"
     ]
    },
    {
     "name": "stdout",
     "output_type": "stream",
     "text": [
      "Epoch: 7 [batch 190/220 (86.36%)] \n",
      "\tJacc: 0.729 Hamm: 0.031 DistLoss: 1.440\n"
     ]
    },
    {
     "name": "stderr",
     "output_type": "stream",
     "text": [
      "/Users/kushagraagrawal/anaconda3/envs/opso/lib/python3.8/site-packages/sklearn/metrics/_classification.py:1318: UndefinedMetricWarning: Jaccard is ill-defined and being set to 0.0 in labels with no true or predicted samples. Use `zero_division` parameter to control this behavior.\n",
      "  _warn_prf(average, modifier, msg_start, len(result))\n"
     ]
    },
    {
     "name": "stdout",
     "output_type": "stream",
     "text": [
      "Epoch: 7 [batch 200/220 (90.91%)] \n",
      "\tJacc: 0.622 Hamm: 0.016 DistLoss: 1.448\n"
     ]
    },
    {
     "name": "stderr",
     "output_type": "stream",
     "text": [
      "/Users/kushagraagrawal/anaconda3/envs/opso/lib/python3.8/site-packages/sklearn/metrics/_classification.py:1318: UndefinedMetricWarning: Jaccard is ill-defined and being set to 0.0 in labels with no true or predicted samples. Use `zero_division` parameter to control this behavior.\n",
      "  _warn_prf(average, modifier, msg_start, len(result))\n"
     ]
    },
    {
     "name": "stdout",
     "output_type": "stream",
     "text": [
      "Epoch: 7 [batch 210/220 (95.45%)] \n",
      "\tJacc: 0.698 Hamm: 0.026 DistLoss: 1.443\n"
     ]
    },
    {
     "name": "stderr",
     "output_type": "stream",
     "text": [
      "/Users/kushagraagrawal/.local/lib/python3.8/site-packages/scipy/signal/_spectral_py.py:1961: UserWarning: nperseg = 512 is greater than input length  = 468, using nperseg = 468\n",
      "  warnings.warn('nperseg = {0:d} is greater than input length '\n"
     ]
    },
    {
     "name": "stdout",
     "output_type": "stream",
     "text": [
      "\n",
      "Validation.\n",
      "(1753, 6)\n",
      "\t Precision: 0.9116021559877034\n",
      "\t Recall: 0.8740710607512295\n",
      "\t F1: 0.8908795381991682\n",
      "Epoch: 8 [batch 0/220 (0.00%)] \n",
      "\tJacc: 0.746 Hamm: 0.016 DistLoss: 1.360\n"
     ]
    },
    {
     "name": "stderr",
     "output_type": "stream",
     "text": [
      "/Users/kushagraagrawal/anaconda3/envs/opso/lib/python3.8/site-packages/sklearn/metrics/_classification.py:1318: UndefinedMetricWarning: Jaccard is ill-defined and being set to 0.0 in labels with no true or predicted samples. Use `zero_division` parameter to control this behavior.\n",
      "  _warn_prf(average, modifier, msg_start, len(result))\n"
     ]
    },
    {
     "name": "stdout",
     "output_type": "stream",
     "text": [
      "Epoch: 8 [batch 10/220 (4.55%)] \n",
      "\tJacc: 0.693 Hamm: 0.026 DistLoss: 0.992\n"
     ]
    },
    {
     "name": "stderr",
     "output_type": "stream",
     "text": [
      "/Users/kushagraagrawal/anaconda3/envs/opso/lib/python3.8/site-packages/sklearn/metrics/_classification.py:1318: UndefinedMetricWarning: Jaccard is ill-defined and being set to 0.0 in labels with no true or predicted samples. Use `zero_division` parameter to control this behavior.\n",
      "  _warn_prf(average, modifier, msg_start, len(result))\n"
     ]
    },
    {
     "name": "stdout",
     "output_type": "stream",
     "text": [
      "Epoch: 8 [batch 20/220 (9.09%)] \n",
      "\tJacc: 0.967 Hamm: 0.005 DistLoss: 1.223\n",
      "Epoch: 8 [batch 30/220 (13.64%)] \n",
      "\tJacc: 0.625 Hamm: 0.005 DistLoss: 1.140\n"
     ]
    },
    {
     "name": "stderr",
     "output_type": "stream",
     "text": [
      "/Users/kushagraagrawal/anaconda3/envs/opso/lib/python3.8/site-packages/sklearn/metrics/_classification.py:1318: UndefinedMetricWarning: Jaccard is ill-defined and being set to 0.0 in labels with no true or predicted samples. Use `zero_division` parameter to control this behavior.\n",
      "  _warn_prf(average, modifier, msg_start, len(result))\n"
     ]
    },
    {
     "name": "stdout",
     "output_type": "stream",
     "text": [
      "Epoch: 8 [batch 40/220 (18.18%)] \n",
      "\tJacc: 0.803 Hamm: 0.010 DistLoss: 1.181\n"
     ]
    },
    {
     "name": "stderr",
     "output_type": "stream",
     "text": [
      "/Users/kushagraagrawal/anaconda3/envs/opso/lib/python3.8/site-packages/sklearn/metrics/_classification.py:1318: UndefinedMetricWarning: Jaccard is ill-defined and being set to 0.0 in labels with no true or predicted samples. Use `zero_division` parameter to control this behavior.\n",
      "  _warn_prf(average, modifier, msg_start, len(result))\n"
     ]
    },
    {
     "name": "stdout",
     "output_type": "stream",
     "text": [
      "Epoch: 8 [batch 50/220 (22.73%)] \n",
      "\tJacc: 0.586 Hamm: 0.016 DistLoss: 1.216\n"
     ]
    },
    {
     "name": "stderr",
     "output_type": "stream",
     "text": [
      "/Users/kushagraagrawal/anaconda3/envs/opso/lib/python3.8/site-packages/sklearn/metrics/_classification.py:1318: UndefinedMetricWarning: Jaccard is ill-defined and being set to 0.0 in labels with no true or predicted samples. Use `zero_division` parameter to control this behavior.\n",
      "  _warn_prf(average, modifier, msg_start, len(result))\n"
     ]
    },
    {
     "name": "stdout",
     "output_type": "stream",
     "text": [
      "Epoch: 8 [batch 60/220 (27.27%)] \n",
      "\tJacc: 0.618 Hamm: 0.016 DistLoss: 1.291\n"
     ]
    },
    {
     "name": "stderr",
     "output_type": "stream",
     "text": [
      "/Users/kushagraagrawal/anaconda3/envs/opso/lib/python3.8/site-packages/sklearn/metrics/_classification.py:1318: UndefinedMetricWarning: Jaccard is ill-defined and being set to 0.0 in labels with no true or predicted samples. Use `zero_division` parameter to control this behavior.\n",
      "  _warn_prf(average, modifier, msg_start, len(result))\n"
     ]
    },
    {
     "name": "stdout",
     "output_type": "stream",
     "text": [
      "Epoch: 8 [batch 70/220 (31.82%)] \n",
      "\tJacc: 0.615 Hamm: 0.010 DistLoss: 1.225\n"
     ]
    },
    {
     "name": "stderr",
     "output_type": "stream",
     "text": [
      "/Users/kushagraagrawal/anaconda3/envs/opso/lib/python3.8/site-packages/sklearn/metrics/_classification.py:1318: UndefinedMetricWarning: Jaccard is ill-defined and being set to 0.0 in labels with no true or predicted samples. Use `zero_division` parameter to control this behavior.\n",
      "  _warn_prf(average, modifier, msg_start, len(result))\n"
     ]
    },
    {
     "name": "stdout",
     "output_type": "stream",
     "text": [
      "Epoch: 8 [batch 80/220 (36.36%)] \n",
      "\tJacc: 0.833 Hamm: 0.000 DistLoss: 1.228\n"
     ]
    },
    {
     "name": "stderr",
     "output_type": "stream",
     "text": [
      "/Users/kushagraagrawal/anaconda3/envs/opso/lib/python3.8/site-packages/sklearn/metrics/_classification.py:1318: UndefinedMetricWarning: Jaccard is ill-defined and being set to 0.0 in labels with no true or predicted samples. Use `zero_division` parameter to control this behavior.\n",
      "  _warn_prf(average, modifier, msg_start, len(result))\n"
     ]
    },
    {
     "name": "stdout",
     "output_type": "stream",
     "text": [
      "Epoch: 8 [batch 90/220 (40.91%)] \n",
      "\tJacc: 0.833 Hamm: 0.000 DistLoss: 1.195\n"
     ]
    },
    {
     "name": "stderr",
     "output_type": "stream",
     "text": [
      "/Users/kushagraagrawal/anaconda3/envs/opso/lib/python3.8/site-packages/sklearn/metrics/_classification.py:1318: UndefinedMetricWarning: Jaccard is ill-defined and being set to 0.0 in labels with no true or predicted samples. Use `zero_division` parameter to control this behavior.\n",
      "  _warn_prf(average, modifier, msg_start, len(result))\n"
     ]
    },
    {
     "name": "stdout",
     "output_type": "stream",
     "text": [
      "Epoch: 8 [batch 100/220 (45.45%)] \n",
      "\tJacc: 0.639 Hamm: 0.005 DistLoss: 1.164\n"
     ]
    },
    {
     "name": "stderr",
     "output_type": "stream",
     "text": [
      "/Users/kushagraagrawal/anaconda3/envs/opso/lib/python3.8/site-packages/sklearn/metrics/_classification.py:1318: UndefinedMetricWarning: Jaccard is ill-defined and being set to 0.0 in labels with no true or predicted samples. Use `zero_division` parameter to control this behavior.\n",
      "  _warn_prf(average, modifier, msg_start, len(result))\n"
     ]
    },
    {
     "name": "stdout",
     "output_type": "stream",
     "text": [
      "Epoch: 8 [batch 110/220 (50.00%)] \n",
      "\tJacc: 0.657 Hamm: 0.005 DistLoss: 1.169\n"
     ]
    },
    {
     "name": "stderr",
     "output_type": "stream",
     "text": [
      "/Users/kushagraagrawal/anaconda3/envs/opso/lib/python3.8/site-packages/sklearn/metrics/_classification.py:1318: UndefinedMetricWarning: Jaccard is ill-defined and being set to 0.0 in labels with no true or predicted samples. Use `zero_division` parameter to control this behavior.\n",
      "  _warn_prf(average, modifier, msg_start, len(result))\n"
     ]
    },
    {
     "name": "stdout",
     "output_type": "stream",
     "text": [
      "Epoch: 8 [batch 120/220 (54.55%)] \n",
      "\tJacc: 0.750 Hamm: 0.005 DistLoss: 1.184\n"
     ]
    },
    {
     "name": "stderr",
     "output_type": "stream",
     "text": [
      "/Users/kushagraagrawal/anaconda3/envs/opso/lib/python3.8/site-packages/sklearn/metrics/_classification.py:1318: UndefinedMetricWarning: Jaccard is ill-defined and being set to 0.0 in labels with no true or predicted samples. Use `zero_division` parameter to control this behavior.\n",
      "  _warn_prf(average, modifier, msg_start, len(result))\n"
     ]
    },
    {
     "name": "stdout",
     "output_type": "stream",
     "text": [
      "Epoch: 8 [batch 130/220 (59.09%)] \n",
      "\tJacc: 0.833 Hamm: 0.000 DistLoss: 1.189\n"
     ]
    },
    {
     "name": "stderr",
     "output_type": "stream",
     "text": [
      "/Users/kushagraagrawal/anaconda3/envs/opso/lib/python3.8/site-packages/sklearn/metrics/_classification.py:1318: UndefinedMetricWarning: Jaccard is ill-defined and being set to 0.0 in labels with no true or predicted samples. Use `zero_division` parameter to control this behavior.\n",
      "  _warn_prf(average, modifier, msg_start, len(result))\n"
     ]
    },
    {
     "name": "stdout",
     "output_type": "stream",
     "text": [
      "Epoch: 8 [batch 140/220 (63.64%)] \n",
      "\tJacc: 0.716 Hamm: 0.036 DistLoss: 1.170\n",
      "Epoch: 8 [batch 150/220 (68.18%)] \n",
      "\tJacc: 0.781 Hamm: 0.010 DistLoss: 1.140\n"
     ]
    },
    {
     "name": "stderr",
     "output_type": "stream",
     "text": [
      "/Users/kushagraagrawal/anaconda3/envs/opso/lib/python3.8/site-packages/sklearn/metrics/_classification.py:1318: UndefinedMetricWarning: Jaccard is ill-defined and being set to 0.0 in labels with no true or predicted samples. Use `zero_division` parameter to control this behavior.\n",
      "  _warn_prf(average, modifier, msg_start, len(result))\n"
     ]
    },
    {
     "name": "stdout",
     "output_type": "stream",
     "text": [
      "Epoch: 8 [batch 160/220 (72.73%)] \n",
      "\tJacc: 0.810 Hamm: 0.005 DistLoss: 1.117\n"
     ]
    },
    {
     "name": "stderr",
     "output_type": "stream",
     "text": [
      "/Users/kushagraagrawal/anaconda3/envs/opso/lib/python3.8/site-packages/sklearn/metrics/_classification.py:1318: UndefinedMetricWarning: Jaccard is ill-defined and being set to 0.0 in labels with no true or predicted samples. Use `zero_division` parameter to control this behavior.\n",
      "  _warn_prf(average, modifier, msg_start, len(result))\n"
     ]
    },
    {
     "name": "stdout",
     "output_type": "stream",
     "text": [
      "Epoch: 8 [batch 170/220 (77.27%)] \n",
      "\tJacc: 0.590 Hamm: 0.010 DistLoss: 1.107\n"
     ]
    },
    {
     "name": "stderr",
     "output_type": "stream",
     "text": [
      "/Users/kushagraagrawal/anaconda3/envs/opso/lib/python3.8/site-packages/sklearn/metrics/_classification.py:1318: UndefinedMetricWarning: Jaccard is ill-defined and being set to 0.0 in labels with no true or predicted samples. Use `zero_division` parameter to control this behavior.\n",
      "  _warn_prf(average, modifier, msg_start, len(result))\n"
     ]
    },
    {
     "name": "stdout",
     "output_type": "stream",
     "text": [
      "Epoch: 8 [batch 180/220 (81.82%)] \n",
      "\tJacc: 0.818 Hamm: 0.005 DistLoss: 1.088\n"
     ]
    },
    {
     "name": "stderr",
     "output_type": "stream",
     "text": [
      "/Users/kushagraagrawal/anaconda3/envs/opso/lib/python3.8/site-packages/sklearn/metrics/_classification.py:1318: UndefinedMetricWarning: Jaccard is ill-defined and being set to 0.0 in labels with no true or predicted samples. Use `zero_division` parameter to control this behavior.\n",
      "  _warn_prf(average, modifier, msg_start, len(result))\n"
     ]
    },
    {
     "name": "stdout",
     "output_type": "stream",
     "text": [
      "Epoch: 8 [batch 190/220 (86.36%)] \n",
      "\tJacc: 0.667 Hamm: 0.000 DistLoss: 1.087\n"
     ]
    },
    {
     "name": "stderr",
     "output_type": "stream",
     "text": [
      "/Users/kushagraagrawal/anaconda3/envs/opso/lib/python3.8/site-packages/sklearn/metrics/_classification.py:1318: UndefinedMetricWarning: Jaccard is ill-defined and being set to 0.0 in labels with no true or predicted samples. Use `zero_division` parameter to control this behavior.\n",
      "  _warn_prf(average, modifier, msg_start, len(result))\n"
     ]
    },
    {
     "name": "stdout",
     "output_type": "stream",
     "text": [
      "Epoch: 8 [batch 200/220 (90.91%)] \n",
      "\tJacc: 0.623 Hamm: 0.010 DistLoss: 1.096\n"
     ]
    },
    {
     "name": "stderr",
     "output_type": "stream",
     "text": [
      "/Users/kushagraagrawal/anaconda3/envs/opso/lib/python3.8/site-packages/sklearn/metrics/_classification.py:1318: UndefinedMetricWarning: Jaccard is ill-defined and being set to 0.0 in labels with no true or predicted samples. Use `zero_division` parameter to control this behavior.\n",
      "  _warn_prf(average, modifier, msg_start, len(result))\n"
     ]
    },
    {
     "name": "stdout",
     "output_type": "stream",
     "text": [
      "Epoch: 8 [batch 210/220 (95.45%)] \n",
      "\tJacc: 0.833 Hamm: 0.000 DistLoss: 1.119\n"
     ]
    },
    {
     "name": "stderr",
     "output_type": "stream",
     "text": [
      "/Users/kushagraagrawal/anaconda3/envs/opso/lib/python3.8/site-packages/sklearn/metrics/_classification.py:1318: UndefinedMetricWarning: Jaccard is ill-defined and being set to 0.0 in labels with no true or predicted samples. Use `zero_division` parameter to control this behavior.\n",
      "  _warn_prf(average, modifier, msg_start, len(result))\n",
      "/Users/kushagraagrawal/.local/lib/python3.8/site-packages/scipy/signal/_spectral_py.py:1961: UserWarning: nperseg = 512 is greater than input length  = 468, using nperseg = 468\n",
      "  warnings.warn('nperseg = {0:d} is greater than input length '\n"
     ]
    },
    {
     "name": "stdout",
     "output_type": "stream",
     "text": [
      "\n",
      "Validation.\n",
      "(1753, 6)\n",
      "\t Precision: 0.9697195849902229\n",
      "\t Recall: 0.9514953474592289\n",
      "\t F1: 0.9601924715383648\n",
      "Updating best model\n",
      "Epoch: 9 [batch 0/220 (0.00%)] \n",
      "\tJacc: 0.667 Hamm: 0.000 DistLoss: 0.211\n"
     ]
    },
    {
     "name": "stderr",
     "output_type": "stream",
     "text": [
      "/Users/kushagraagrawal/anaconda3/envs/opso/lib/python3.8/site-packages/sklearn/metrics/_classification.py:1318: UndefinedMetricWarning: Jaccard is ill-defined and being set to 0.0 in labels with no true or predicted samples. Use `zero_division` parameter to control this behavior.\n",
      "  _warn_prf(average, modifier, msg_start, len(result))\n"
     ]
    },
    {
     "name": "stdout",
     "output_type": "stream",
     "text": [
      "Epoch: 9 [batch 10/220 (4.55%)] \n",
      "\tJacc: 0.667 Hamm: 0.000 DistLoss: 0.542\n"
     ]
    },
    {
     "name": "stderr",
     "output_type": "stream",
     "text": [
      "/Users/kushagraagrawal/anaconda3/envs/opso/lib/python3.8/site-packages/sklearn/metrics/_classification.py:1318: UndefinedMetricWarning: Jaccard is ill-defined and being set to 0.0 in labels with no true or predicted samples. Use `zero_division` parameter to control this behavior.\n",
      "  _warn_prf(average, modifier, msg_start, len(result))\n"
     ]
    },
    {
     "name": "stdout",
     "output_type": "stream",
     "text": [
      "Epoch: 9 [batch 20/220 (9.09%)] \n",
      "\tJacc: 0.542 Hamm: 0.026 DistLoss: 0.986\n"
     ]
    },
    {
     "name": "stderr",
     "output_type": "stream",
     "text": [
      "/Users/kushagraagrawal/anaconda3/envs/opso/lib/python3.8/site-packages/sklearn/metrics/_classification.py:1318: UndefinedMetricWarning: Jaccard is ill-defined and being set to 0.0 in labels with no true or predicted samples. Use `zero_division` parameter to control this behavior.\n",
      "  _warn_prf(average, modifier, msg_start, len(result))\n"
     ]
    },
    {
     "name": "stdout",
     "output_type": "stream",
     "text": [
      "Epoch: 9 [batch 30/220 (13.64%)] \n",
      "\tJacc: 0.768 Hamm: 0.010 DistLoss: 0.929\n"
     ]
    },
    {
     "name": "stderr",
     "output_type": "stream",
     "text": [
      "/Users/kushagraagrawal/anaconda3/envs/opso/lib/python3.8/site-packages/sklearn/metrics/_classification.py:1318: UndefinedMetricWarning: Jaccard is ill-defined and being set to 0.0 in labels with no true or predicted samples. Use `zero_division` parameter to control this behavior.\n",
      "  _warn_prf(average, modifier, msg_start, len(result))\n"
     ]
    },
    {
     "name": "stdout",
     "output_type": "stream",
     "text": [
      "Epoch: 9 [batch 40/220 (18.18%)] \n",
      "\tJacc: 0.833 Hamm: 0.000 DistLoss: 0.938\n"
     ]
    },
    {
     "name": "stderr",
     "output_type": "stream",
     "text": [
      "/Users/kushagraagrawal/anaconda3/envs/opso/lib/python3.8/site-packages/sklearn/metrics/_classification.py:1318: UndefinedMetricWarning: Jaccard is ill-defined and being set to 0.0 in labels with no true or predicted samples. Use `zero_division` parameter to control this behavior.\n",
      "  _warn_prf(average, modifier, msg_start, len(result))\n"
     ]
    },
    {
     "name": "stdout",
     "output_type": "stream",
     "text": [
      "Epoch: 9 [batch 50/220 (22.73%)] \n",
      "\tJacc: 0.615 Hamm: 0.016 DistLoss: 1.039\n"
     ]
    },
    {
     "name": "stderr",
     "output_type": "stream",
     "text": [
      "/Users/kushagraagrawal/anaconda3/envs/opso/lib/python3.8/site-packages/sklearn/metrics/_classification.py:1318: UndefinedMetricWarning: Jaccard is ill-defined and being set to 0.0 in labels with no true or predicted samples. Use `zero_division` parameter to control this behavior.\n",
      "  _warn_prf(average, modifier, msg_start, len(result))\n"
     ]
    },
    {
     "name": "stdout",
     "output_type": "stream",
     "text": [
      "Epoch: 9 [batch 60/220 (27.27%)] \n",
      "\tJacc: 0.548 Hamm: 0.036 DistLoss: 1.071\n"
     ]
    },
    {
     "name": "stderr",
     "output_type": "stream",
     "text": [
      "/Users/kushagraagrawal/anaconda3/envs/opso/lib/python3.8/site-packages/sklearn/metrics/_classification.py:1318: UndefinedMetricWarning: Jaccard is ill-defined and being set to 0.0 in labels with no true or predicted samples. Use `zero_division` parameter to control this behavior.\n",
      "  _warn_prf(average, modifier, msg_start, len(result))\n"
     ]
    },
    {
     "name": "stdout",
     "output_type": "stream",
     "text": [
      "Epoch: 9 [batch 70/220 (31.82%)] \n",
      "\tJacc: 0.540 Hamm: 0.026 DistLoss: 1.085\n"
     ]
    },
    {
     "name": "stderr",
     "output_type": "stream",
     "text": [
      "/Users/kushagraagrawal/anaconda3/envs/opso/lib/python3.8/site-packages/sklearn/metrics/_classification.py:1318: UndefinedMetricWarning: Jaccard is ill-defined and being set to 0.0 in labels with no true or predicted samples. Use `zero_division` parameter to control this behavior.\n",
      "  _warn_prf(average, modifier, msg_start, len(result))\n"
     ]
    },
    {
     "name": "stdout",
     "output_type": "stream",
     "text": [
      "Epoch: 9 [batch 80/220 (36.36%)] \n",
      "\tJacc: 0.643 Hamm: 0.005 DistLoss: 1.060\n"
     ]
    },
    {
     "name": "stderr",
     "output_type": "stream",
     "text": [
      "/Users/kushagraagrawal/anaconda3/envs/opso/lib/python3.8/site-packages/sklearn/metrics/_classification.py:1318: UndefinedMetricWarning: Jaccard is ill-defined and being set to 0.0 in labels with no true or predicted samples. Use `zero_division` parameter to control this behavior.\n",
      "  _warn_prf(average, modifier, msg_start, len(result))\n"
     ]
    },
    {
     "name": "stdout",
     "output_type": "stream",
     "text": [
      "Epoch: 9 [batch 90/220 (40.91%)] \n",
      "\tJacc: 0.833 Hamm: 0.000 DistLoss: 1.040\n"
     ]
    },
    {
     "name": "stderr",
     "output_type": "stream",
     "text": [
      "/Users/kushagraagrawal/anaconda3/envs/opso/lib/python3.8/site-packages/sklearn/metrics/_classification.py:1318: UndefinedMetricWarning: Jaccard is ill-defined and being set to 0.0 in labels with no true or predicted samples. Use `zero_division` parameter to control this behavior.\n",
      "  _warn_prf(average, modifier, msg_start, len(result))\n"
     ]
    },
    {
     "name": "stdout",
     "output_type": "stream",
     "text": [
      "Epoch: 9 [batch 100/220 (45.45%)] \n",
      "\tJacc: 0.755 Hamm: 0.016 DistLoss: 1.050\n"
     ]
    },
    {
     "name": "stderr",
     "output_type": "stream",
     "text": [
      "/Users/kushagraagrawal/anaconda3/envs/opso/lib/python3.8/site-packages/sklearn/metrics/_classification.py:1318: UndefinedMetricWarning: Jaccard is ill-defined and being set to 0.0 in labels with no true or predicted samples. Use `zero_division` parameter to control this behavior.\n",
      "  _warn_prf(average, modifier, msg_start, len(result))\n"
     ]
    },
    {
     "name": "stdout",
     "output_type": "stream",
     "text": [
      "Epoch: 9 [batch 110/220 (50.00%)] \n",
      "\tJacc: 0.594 Hamm: 0.021 DistLoss: 1.063\n"
     ]
    },
    {
     "name": "stderr",
     "output_type": "stream",
     "text": [
      "/Users/kushagraagrawal/anaconda3/envs/opso/lib/python3.8/site-packages/sklearn/metrics/_classification.py:1318: UndefinedMetricWarning: Jaccard is ill-defined and being set to 0.0 in labels with no true or predicted samples. Use `zero_division` parameter to control this behavior.\n",
      "  _warn_prf(average, modifier, msg_start, len(result))\n"
     ]
    },
    {
     "name": "stdout",
     "output_type": "stream",
     "text": [
      "Epoch: 9 [batch 120/220 (54.55%)] \n",
      "\tJacc: 0.762 Hamm: 0.021 DistLoss: 1.113\n"
     ]
    },
    {
     "name": "stderr",
     "output_type": "stream",
     "text": [
      "/Users/kushagraagrawal/anaconda3/envs/opso/lib/python3.8/site-packages/sklearn/metrics/_classification.py:1318: UndefinedMetricWarning: Jaccard is ill-defined and being set to 0.0 in labels with no true or predicted samples. Use `zero_division` parameter to control this behavior.\n",
      "  _warn_prf(average, modifier, msg_start, len(result))\n"
     ]
    },
    {
     "name": "stdout",
     "output_type": "stream",
     "text": [
      "Epoch: 9 [batch 130/220 (59.09%)] \n",
      "\tJacc: 0.833 Hamm: 0.000 DistLoss: 1.098\n"
     ]
    },
    {
     "name": "stderr",
     "output_type": "stream",
     "text": [
      "/Users/kushagraagrawal/anaconda3/envs/opso/lib/python3.8/site-packages/sklearn/metrics/_classification.py:1318: UndefinedMetricWarning: Jaccard is ill-defined and being set to 0.0 in labels with no true or predicted samples. Use `zero_division` parameter to control this behavior.\n",
      "  _warn_prf(average, modifier, msg_start, len(result))\n"
     ]
    },
    {
     "name": "stdout",
     "output_type": "stream",
     "text": [
      "Epoch: 9 [batch 140/220 (63.64%)] \n",
      "\tJacc: 0.694 Hamm: 0.021 DistLoss: 1.161\n"
     ]
    },
    {
     "name": "stderr",
     "output_type": "stream",
     "text": [
      "/Users/kushagraagrawal/anaconda3/envs/opso/lib/python3.8/site-packages/sklearn/metrics/_classification.py:1318: UndefinedMetricWarning: Jaccard is ill-defined and being set to 0.0 in labels with no true or predicted samples. Use `zero_division` parameter to control this behavior.\n",
      "  _warn_prf(average, modifier, msg_start, len(result))\n"
     ]
    },
    {
     "name": "stdout",
     "output_type": "stream",
     "text": [
      "Epoch: 9 [batch 150/220 (68.18%)] \n",
      "\tJacc: 0.833 Hamm: 0.000 DistLoss: 1.145\n"
     ]
    },
    {
     "name": "stderr",
     "output_type": "stream",
     "text": [
      "/Users/kushagraagrawal/anaconda3/envs/opso/lib/python3.8/site-packages/sklearn/metrics/_classification.py:1318: UndefinedMetricWarning: Jaccard is ill-defined and being set to 0.0 in labels with no true or predicted samples. Use `zero_division` parameter to control this behavior.\n",
      "  _warn_prf(average, modifier, msg_start, len(result))\n"
     ]
    },
    {
     "name": "stdout",
     "output_type": "stream",
     "text": [
      "Epoch: 9 [batch 160/220 (72.73%)] \n",
      "\tJacc: 0.833 Hamm: 0.005 DistLoss: 1.172\n",
      "Epoch: 9 [batch 170/220 (77.27%)] \n",
      "\tJacc: 0.735 Hamm: 0.021 DistLoss: 1.153\n"
     ]
    },
    {
     "name": "stderr",
     "output_type": "stream",
     "text": [
      "/Users/kushagraagrawal/anaconda3/envs/opso/lib/python3.8/site-packages/sklearn/metrics/_classification.py:1318: UndefinedMetricWarning: Jaccard is ill-defined and being set to 0.0 in labels with no true or predicted samples. Use `zero_division` parameter to control this behavior.\n",
      "  _warn_prf(average, modifier, msg_start, len(result))\n"
     ]
    },
    {
     "name": "stdout",
     "output_type": "stream",
     "text": [
      "Epoch: 9 [batch 180/220 (81.82%)] \n",
      "\tJacc: 0.611 Hamm: 0.005 DistLoss: 1.173\n"
     ]
    },
    {
     "name": "stderr",
     "output_type": "stream",
     "text": [
      "/Users/kushagraagrawal/anaconda3/envs/opso/lib/python3.8/site-packages/sklearn/metrics/_classification.py:1318: UndefinedMetricWarning: Jaccard is ill-defined and being set to 0.0 in labels with no true or predicted samples. Use `zero_division` parameter to control this behavior.\n",
      "  _warn_prf(average, modifier, msg_start, len(result))\n"
     ]
    },
    {
     "name": "stdout",
     "output_type": "stream",
     "text": [
      "Epoch: 9 [batch 190/220 (86.36%)] \n",
      "\tJacc: 0.667 Hamm: 0.000 DistLoss: 1.165\n"
     ]
    },
    {
     "name": "stderr",
     "output_type": "stream",
     "text": [
      "/Users/kushagraagrawal/anaconda3/envs/opso/lib/python3.8/site-packages/sklearn/metrics/_classification.py:1318: UndefinedMetricWarning: Jaccard is ill-defined and being set to 0.0 in labels with no true or predicted samples. Use `zero_division` parameter to control this behavior.\n",
      "  _warn_prf(average, modifier, msg_start, len(result))\n"
     ]
    },
    {
     "name": "stdout",
     "output_type": "stream",
     "text": [
      "Epoch: 9 [batch 200/220 (90.91%)] \n",
      "\tJacc: 0.833 Hamm: 0.000 DistLoss: 1.155\n"
     ]
    },
    {
     "name": "stderr",
     "output_type": "stream",
     "text": [
      "/Users/kushagraagrawal/anaconda3/envs/opso/lib/python3.8/site-packages/sklearn/metrics/_classification.py:1318: UndefinedMetricWarning: Jaccard is ill-defined and being set to 0.0 in labels with no true or predicted samples. Use `zero_division` parameter to control this behavior.\n",
      "  _warn_prf(average, modifier, msg_start, len(result))\n"
     ]
    },
    {
     "name": "stdout",
     "output_type": "stream",
     "text": [
      "Epoch: 9 [batch 210/220 (95.45%)] \n",
      "\tJacc: 0.833 Hamm: 0.000 DistLoss: 1.132\n"
     ]
    },
    {
     "name": "stderr",
     "output_type": "stream",
     "text": [
      "/Users/kushagraagrawal/anaconda3/envs/opso/lib/python3.8/site-packages/sklearn/metrics/_classification.py:1318: UndefinedMetricWarning: Jaccard is ill-defined and being set to 0.0 in labels with no true or predicted samples. Use `zero_division` parameter to control this behavior.\n",
      "  _warn_prf(average, modifier, msg_start, len(result))\n",
      "/Users/kushagraagrawal/.local/lib/python3.8/site-packages/scipy/signal/_spectral_py.py:1961: UserWarning: nperseg = 512 is greater than input length  = 468, using nperseg = 468\n",
      "  warnings.warn('nperseg = {0:d} is greater than input length '\n"
     ]
    },
    {
     "name": "stdout",
     "output_type": "stream",
     "text": [
      "\n",
      "Validation.\n",
      "(1753, 6)\n",
      "\t Precision: 0.847116325077221\n",
      "\t Recall: 0.947406306779595\n",
      "\t F1: 0.869193417385664\n",
      "Saving weights, metrics, and train/valid scores.\n",
      "\n",
      "Best Model Appears at Epoch 8 with F1 0.960.\n"
     ]
    }
   ],
   "source": [
    "model.train(\n",
    "    train_dataset=train_dataset,\n",
    "    valid_dataset=valid_dataset,\n",
    "    save_path='./multilabel_train_six_classes_xeno_canto/',\n",
    "    epochs=10,\n",
    "    batch_size=32,\n",
    "    save_interval=100,\n",
    "    num_workers=2\n",
    ")"
   ]
  },
  {
   "cell_type": "code",
   "execution_count": 21,
   "id": "bdc8c34f",
   "metadata": {},
   "outputs": [
    {
     "data": {
      "image/png": "[encoded data removed]",
      "text/plain": [
       "<Figure size 432x288 with 1 Axes>"
      ]
     },
     "metadata": {
      "needs_background": "light"
     },
     "output_type": "display_data"
    }
   ],
   "source": [
    "import matplotlib.pyplot as plt\n",
    "plt.scatter(model.loss_hist.keys(),model.loss_hist.values())\n",
    "plt.xlabel('epoch')\n",
    "plt.ylabel('loss')\n",
    "plt.show()"
   ]
  },
  {
   "cell_type": "code",
   "execution_count": 22,
   "id": "82fabe8c",
   "metadata": {},
   "outputs": [],
   "source": [
    "from opensoundscape.torch.models.cnn import load_model\n",
    "model = load_model('./multilabel_train_six_classes_xeno_canto/best.model')"
   ]
  },
  {
   "cell_type": "code",
   "execution_count": 23,
   "id": "f6a4ed4d",
   "metadata": {},
   "outputs": [],
   "source": [
    "prediction_dataset = model.train_dataset.sample(n=0)\n",
    "prediction_dataset.augmentation_off()\n",
    "prediction_dataset.df = testDF"
   ]
  },
  {
   "cell_type": "code",
   "execution_count": 24,
   "id": "61baea49",
   "metadata": {},
   "outputs": [
    {
     "name": "stdout",
     "output_type": "stream",
     "text": [
      "(504, 6)\n"
     ]
    }
   ],
   "source": [
    "valid_scores_df, valid_preds_df, valid_labels_df = model.predict(prediction_dataset,\n",
    "                                                                 binary_preds='single_target',\n",
    "                                                                 batch_size=16,\n",
    "                                                                 num_workers=2,\n",
    "                                                                 activation_layer='softmax')"
   ]
  },
  {
   "cell_type": "code",
   "execution_count": 25,
   "id": "7591665a",
   "metadata": {},
   "outputs": [
    {
     "name": "stdout",
     "output_type": "stream",
     "text": [
      "              precision    recall  f1-score   support\n",
      "\n",
      "           0       0.78      0.93      0.85       102\n",
      "           1       0.98      0.96      0.97        85\n",
      "           2       1.00      0.97      0.99       102\n",
      "           3       0.89      0.99      0.94       107\n",
      "           4       0.94      0.90      0.92        83\n",
      "           5       0.00      0.00      0.00        25\n",
      "\n",
      "   micro avg       0.91      0.91      0.91       504\n",
      "   macro avg       0.76      0.79      0.78       504\n",
      "weighted avg       0.87      0.91      0.89       504\n",
      " samples avg       0.91      0.91      0.91       504\n",
      "\n"
     ]
    },
    {
     "name": "stderr",
     "output_type": "stream",
     "text": [
      "/Users/kushagraagrawal/anaconda3/envs/opso/lib/python3.8/site-packages/sklearn/metrics/_classification.py:1318: UndefinedMetricWarning: Precision and F-score are ill-defined and being set to 0.0 in labels with no predicted samples. Use `zero_division` parameter to control this behavior.\n",
      "  _warn_prf(average, modifier, msg_start, len(result))\n"
     ]
    }
   ],
   "source": [
    "from sklearn.metrics import classification_report, roc_auc_score, roc_curve\n",
    "print(classification_report(valid_labels_df, valid_preds_df))"
   ]
  },
  {
   "cell_type": "code",
   "execution_count": 26,
   "id": "a6caa2df",
   "metadata": {},
   "outputs": [
    {
     "data": {
      "text/plain": [
       "Index(['Antwren', 'Kingbird', 'Vireo', 'Toucan', 'Tody-Tyrant', 'Antshrike'], dtype='object')"
      ]
     },
     "execution_count": 26,
     "metadata": {},
     "output_type": "execute_result"
    }
   ],
   "source": [
    "testDF.columns"
   ]
  },
  {
   "cell_type": "code",
   "execution_count": 27,
   "id": "b5501ee6",
   "metadata": {},
   "outputs": [
    {
     "data": {
      "image/png": "[encoded data removed]",
      "text/plain": [
       "<Figure size 432x288 with 1 Axes>"
      ]
     },
     "metadata": {
      "needs_background": "light"
     },
     "output_type": "display_data"
    }
   ],
   "source": [
    "'''\n",
    "    Toucan                       3813\n",
    "Vireo                        2217\n",
    "Eastern Kingbird             1403\n",
    "White-bellied Tody-Tyrant    1018\n",
    "'''\n",
    "fpr, tpr, thresh = roc_curve(valid_labels_df['Antwren'],  valid_scores_df['Antwren'])\n",
    "auc = roc_auc_score(valid_labels_df['Antwren'],  valid_preds_df['Antwren'])\n",
    "\n",
    "fpr2, tpr2, thresh2 = roc_curve(valid_labels_df['Kingbird'],  valid_scores_df['Kingbird'])\n",
    "auc2 = roc_auc_score(valid_labels_df['Kingbird'],  valid_preds_df['Kingbird'])\n",
    "\n",
    "fpr3, tpr3, thresh3 = roc_curve(valid_labels_df['Vireo'],  valid_scores_df['Vireo'])\n",
    "auc3 = roc_auc_score(valid_labels_df['Vireo'],  valid_preds_df['Vireo'])\n",
    "\n",
    "fpr4, tpr4, thresh4 = roc_curve(valid_labels_df['Toucan'],  valid_scores_df['Toucan'])\n",
    "auc4 = roc_auc_score(valid_labels_df['Toucan'],  valid_preds_df['Toucan'])\n",
    "\n",
    "fpr5, tpr5, thresh5 = roc_curve(valid_labels_df['Tody-Tyrant'],  valid_scores_df['Tody-Tyrant'])\n",
    "auc5 = roc_auc_score(valid_labels_df['Tody-Tyrant'],  valid_preds_df['Tody-Tyrant'])\n",
    "\n",
    "fpr6, tpr6, thresh6 = roc_curve(valid_labels_df['Antshrike'],  valid_scores_df['Antshrike'])\n",
    "auc6 = roc_auc_score(valid_labels_df['Antshrike'],  valid_preds_df['Antshrike'])\n",
    "\n",
    "plt.plot(fpr,tpr,label=\"AUC Antwren\"+str(auc))\n",
    "plt.plot(fpr2,tpr2,label=\"AUC Kingbird\"+str(auc2))\n",
    "plt.plot(fpr3,tpr3,label=\"AUC Vireo\"+str(auc3))\n",
    "plt.plot(fpr4,tpr4,label=\"AUC Toucan\"+str(auc4))\n",
    "plt.plot(fpr5,tpr5,label=\"AUC Tody-Tyrant\"+str(auc5))\n",
    "plt.plot(fpr6,tpr6,label=\"AUC Antshrike\"+str(auc6))\n",
    "# plt.title('Prediction on peru dataset (Train: microfaune)')\n",
    "plt.ylabel('True Positive Rate')\n",
    "plt.xlabel('False Positive Rate')\n",
    "plt.legend()\n",
    "plt.show()"
   ]
  },
  {
   "cell_type": "code",
   "execution_count": null,
   "id": "e763f645",
   "metadata": {},
   "outputs": [],
   "source": []
  }
 ],
 "metadata": {
  "kernelspec": {
   "display_name": "Python 3 (ipykernel)",
   "language": "python",
   "name": "python3"
  },
  "language_info": {
   "codemirror_mode": {
    "name": "ipython",
    "version": 3
   },
   "file_extension": ".py",
   "mimetype": "text/x-python",
   "name": "python",
   "nbconvert_exporter": "python",
   "pygments_lexer": "ipython3",
   "version": "3.8.13"
  }
 },
 "nbformat": 4,
 "nbformat_minor": 5
}
