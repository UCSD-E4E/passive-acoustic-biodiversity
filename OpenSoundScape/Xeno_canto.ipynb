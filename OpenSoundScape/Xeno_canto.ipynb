{
 "cells": [
  {
   "cell_type": "code",
   "execution_count": 1,
   "id": "d9ecb254",
   "metadata": {},
   "outputs": [],
   "source": [
    "from opensoundscape.preprocess.preprocessors import BasePreprocessor, AudioToSpectrogramPreprocessor, CnnPreprocessor\n",
    "import torch\n",
    "import pandas as pd\n",
    "from pathlib import Path\n",
    "import numpy as np\n",
    "import pandas as pd\n",
    "from opensoundscape.torch.models import cnn\n",
    "from opensoundscape.torch.architectures import cnn_architectures"
   ]
  },
  {
   "cell_type": "code",
   "execution_count": 2,
   "id": "1f42eda1",
   "metadata": {},
   "outputs": [],
   "source": [
    "mypathNonBird ='./Xeno_canto/Xeno-canto-Google_AudioSet/*/*.wav'\n",
    "mypathBird ='./Xeno_canto/Xeno-canto-Google_AudioSet/Bird/*/*.wav'"
   ]
  },
  {
   "cell_type": "code",
   "execution_count": 3,
   "id": "b3baaaf0",
   "metadata": {},
   "outputs": [],
   "source": [
    "import glob\n",
    "fileNameNonBird = glob.glob(mypathNonBird)\n",
    "nonBirdLabel = ['n'] * len(fileNameNonBird)\n",
    "fileNameBird = glob.glob(mypathBird)\n",
    "birdLabel = ['y'] * len(fileNameBird)"
   ]
  },
  {
   "cell_type": "code",
   "execution_count": 4,
   "id": "5ddac55d",
   "metadata": {},
   "outputs": [],
   "source": [
    "xeno_canto = fileNameNonBird + fileNameBird\n",
    "xeno_canto_label = nonBirdLabel + birdLabel\n",
    "result = list(zip(xeno_canto, xeno_canto_label))\n",
    "result = list(map(list, result))"
   ]
  },
  {
   "cell_type": "code",
   "execution_count": 5,
   "id": "9807eb18",
   "metadata": {},
   "outputs": [
    {
     "data": {
      "text/html": [
       "<div>\n",
       "<style scoped>\n",
       "    .dataframe tbody tr th:only-of-type {\n",
       "        vertical-align: middle;\n",
       "    }\n",
       "\n",
       "    .dataframe tbody tr th {\n",
       "        vertical-align: top;\n",
       "    }\n",
       "\n",
       "    .dataframe thead th {\n",
       "        text-align: right;\n",
       "    }\n",
       "</style>\n",
       "<table border=\"1\" class=\"dataframe\">\n",
       "  <thead>\n",
       "    <tr style=\"text-align: right;\">\n",
       "      <th></th>\n",
       "      <th>Filename</th>\n",
       "      <th>Bird(s)?</th>\n",
       "    </tr>\n",
       "  </thead>\n",
       "  <tbody>\n",
       "    <tr>\n",
       "      <th>0</th>\n",
       "      <td>./Xeno_canto/Xeno-canto-Google_AudioSet/NonBir...</td>\n",
       "      <td>n</td>\n",
       "    </tr>\n",
       "    <tr>\n",
       "      <th>1</th>\n",
       "      <td>./Xeno_canto/Xeno-canto-Google_AudioSet/NonBir...</td>\n",
       "      <td>n</td>\n",
       "    </tr>\n",
       "    <tr>\n",
       "      <th>2</th>\n",
       "      <td>./Xeno_canto/Xeno-canto-Google_AudioSet/NonBir...</td>\n",
       "      <td>n</td>\n",
       "    </tr>\n",
       "    <tr>\n",
       "      <th>3</th>\n",
       "      <td>./Xeno_canto/Xeno-canto-Google_AudioSet/NonBir...</td>\n",
       "      <td>n</td>\n",
       "    </tr>\n",
       "    <tr>\n",
       "      <th>4</th>\n",
       "      <td>./Xeno_canto/Xeno-canto-Google_AudioSet/NonBir...</td>\n",
       "      <td>n</td>\n",
       "    </tr>\n",
       "  </tbody>\n",
       "</table>\n",
       "</div>"
      ],
      "text/plain": [
       "                                            Filename Bird(s)?\n",
       "0  ./Xeno_canto/Xeno-canto-Google_AudioSet/NonBir...        n\n",
       "1  ./Xeno_canto/Xeno-canto-Google_AudioSet/NonBir...        n\n",
       "2  ./Xeno_canto/Xeno-canto-Google_AudioSet/NonBir...        n\n",
       "3  ./Xeno_canto/Xeno-canto-Google_AudioSet/NonBir...        n\n",
       "4  ./Xeno_canto/Xeno-canto-Google_AudioSet/NonBir...        n"
      ]
     },
     "execution_count": 5,
     "metadata": {},
     "output_type": "execute_result"
    }
   ],
   "source": [
    "df = pd.DataFrame(result, columns=['Filename', 'Bird(s)?'])\n",
    "df.head()"
   ]
  },
  {
   "cell_type": "code",
   "execution_count": 6,
   "id": "8fe6ddc7",
   "metadata": {},
   "outputs": [],
   "source": [
    "# ==================== model trained on nips4B dataset ======================\n",
    "from opensoundscape.torch.models.cnn import load_model\n",
    "model = load_model('./binary_train_2/best.model')"
   ]
  },
  {
   "cell_type": "code",
   "execution_count": 7,
   "id": "a1dd4230",
   "metadata": {},
   "outputs": [],
   "source": [
    "from opensoundscape.annotations import categorical_to_one_hot\n",
    "one_hot_labels, classes = categorical_to_one_hot(df[['Bird(s)?']].values)\n",
    "test_data = pd.DataFrame(index=df['Filename'],data=one_hot_labels,columns=classes)\n",
    "test_data.rename(columns={\"y\": \"non-empty\", \"n\": \"empty\"}, inplace=True)"
   ]
  },
  {
   "cell_type": "code",
   "execution_count": 8,
   "id": "1d24dd82",
   "metadata": {},
   "outputs": [
    {
     "name": "stdout",
     "output_type": "stream",
     "text": [
      "                                                    empty  non-empty\n",
      "Filename                                                            \n",
      "./Xeno_canto/Xeno-canto-Google_AudioSet/NonBird...      1          0\n",
      "./Xeno_canto/Xeno-canto-Google_AudioSet/NonBird...      1          0\n",
      "./Xeno_canto/Xeno-canto-Google_AudioSet/NonBird...      1          0\n",
      "./Xeno_canto/Xeno-canto-Google_AudioSet/NonBird...      1          0\n",
      "./Xeno_canto/Xeno-canto-Google_AudioSet/NonBird...      1          0\n"
     ]
    }
   ],
   "source": [
    "print(test_data.head())"
   ]
  },
  {
   "cell_type": "code",
   "execution_count": 9,
   "id": "a6bbd385",
   "metadata": {},
   "outputs": [],
   "source": [
    "cols=[i for i in test_data.columns if i not in [\"file\"]]\n",
    "for col in cols:\n",
    "    test_data[col]=pd.to_numeric(test_data[col])"
   ]
  },
  {
   "cell_type": "code",
   "execution_count": 15,
   "id": "4ea94df4",
   "metadata": {},
   "outputs": [
    {
     "data": {
      "text/html": [
       "<div>\n",
       "<style scoped>\n",
       "    .dataframe tbody tr th:only-of-type {\n",
       "        vertical-align: middle;\n",
       "    }\n",
       "\n",
       "    .dataframe tbody tr th {\n",
       "        vertical-align: top;\n",
       "    }\n",
       "\n",
       "    .dataframe thead th {\n",
       "        text-align: right;\n",
       "    }\n",
       "</style>\n",
       "<table border=\"1\" class=\"dataframe\">\n",
       "  <thead>\n",
       "    <tr style=\"text-align: right;\">\n",
       "      <th></th>\n",
       "      <th>non-empty</th>\n",
       "      <th>empty</th>\n",
       "    </tr>\n",
       "    <tr>\n",
       "      <th>Filename</th>\n",
       "      <th></th>\n",
       "      <th></th>\n",
       "    </tr>\n",
       "  </thead>\n",
       "  <tbody>\n",
       "    <tr>\n",
       "      <th>./Xeno_canto/Xeno-canto-Google_AudioSet/NonBird/01x0zZpL87I_19.000.wav</th>\n",
       "      <td>0</td>\n",
       "      <td>1</td>\n",
       "    </tr>\n",
       "    <tr>\n",
       "      <th>./Xeno_canto/Xeno-canto-Google_AudioSet/NonBird/ZIVd_TBhACU_240.000.wav</th>\n",
       "      <td>0</td>\n",
       "      <td>1</td>\n",
       "    </tr>\n",
       "    <tr>\n",
       "      <th>./Xeno_canto/Xeno-canto-Google_AudioSet/NonBird/R3_Gqgl-NYE_50.000.wav</th>\n",
       "      <td>0</td>\n",
       "      <td>1</td>\n",
       "    </tr>\n",
       "    <tr>\n",
       "      <th>./Xeno_canto/Xeno-canto-Google_AudioSet/NonBird/ADfGYZobXbA_50.000.wav</th>\n",
       "      <td>0</td>\n",
       "      <td>1</td>\n",
       "    </tr>\n",
       "    <tr>\n",
       "      <th>./Xeno_canto/Xeno-canto-Google_AudioSet/NonBird/wgZXNP2oY4Y_30.000.wav</th>\n",
       "      <td>0</td>\n",
       "      <td>1</td>\n",
       "    </tr>\n",
       "  </tbody>\n",
       "</table>\n",
       "</div>"
      ],
      "text/plain": [
       "                                                    non-empty  empty\n",
       "Filename                                                            \n",
       "./Xeno_canto/Xeno-canto-Google_AudioSet/NonBird...          0      1\n",
       "./Xeno_canto/Xeno-canto-Google_AudioSet/NonBird...          0      1\n",
       "./Xeno_canto/Xeno-canto-Google_AudioSet/NonBird...          0      1\n",
       "./Xeno_canto/Xeno-canto-Google_AudioSet/NonBird...          0      1\n",
       "./Xeno_canto/Xeno-canto-Google_AudioSet/NonBird...          0      1"
      ]
     },
     "execution_count": 15,
     "metadata": {},
     "output_type": "execute_result"
    }
   ],
   "source": [
    "test_data = test_data[['non-empty', 'empty']]\n",
    "test_data.head()"
   ]
  },
  {
   "cell_type": "code",
   "execution_count": 16,
   "id": "d5d141aa",
   "metadata": {},
   "outputs": [],
   "source": [
    "#create a copy of the training dataset, sampling 0 of the training samples from it\n",
    "prediction_dataset = model.train_dataset.sample(n=0)\n",
    "#turn off augmentation on this dataset\n",
    "prediction_dataset.augmentation_off()\n",
    "#use the validation samples as test samples for the sake of illustration\n",
    "prediction_dataset.df = test_data"
   ]
  },
  {
   "cell_type": "code",
   "execution_count": 17,
   "id": "3f0b8876",
   "metadata": {},
   "outputs": [
    {
     "data": {
      "text/html": [
       "<div>\n",
       "<style scoped>\n",
       "    .dataframe tbody tr th:only-of-type {\n",
       "        vertical-align: middle;\n",
       "    }\n",
       "\n",
       "    .dataframe tbody tr th {\n",
       "        vertical-align: top;\n",
       "    }\n",
       "\n",
       "    .dataframe thead th {\n",
       "        text-align: right;\n",
       "    }\n",
       "</style>\n",
       "<table border=\"1\" class=\"dataframe\">\n",
       "  <thead>\n",
       "    <tr style=\"text-align: right;\">\n",
       "      <th></th>\n",
       "      <th>non-empty</th>\n",
       "      <th>empty</th>\n",
       "    </tr>\n",
       "    <tr>\n",
       "      <th>Filename</th>\n",
       "      <th></th>\n",
       "      <th></th>\n",
       "    </tr>\n",
       "  </thead>\n",
       "  <tbody>\n",
       "    <tr>\n",
       "      <th>./Xeno_canto/Xeno-canto-Google_AudioSet/NonBird/01x0zZpL87I_19.000.wav</th>\n",
       "      <td>0</td>\n",
       "      <td>1</td>\n",
       "    </tr>\n",
       "    <tr>\n",
       "      <th>./Xeno_canto/Xeno-canto-Google_AudioSet/NonBird/ZIVd_TBhACU_240.000.wav</th>\n",
       "      <td>0</td>\n",
       "      <td>1</td>\n",
       "    </tr>\n",
       "    <tr>\n",
       "      <th>./Xeno_canto/Xeno-canto-Google_AudioSet/NonBird/R3_Gqgl-NYE_50.000.wav</th>\n",
       "      <td>0</td>\n",
       "      <td>1</td>\n",
       "    </tr>\n",
       "    <tr>\n",
       "      <th>./Xeno_canto/Xeno-canto-Google_AudioSet/NonBird/ADfGYZobXbA_50.000.wav</th>\n",
       "      <td>0</td>\n",
       "      <td>1</td>\n",
       "    </tr>\n",
       "    <tr>\n",
       "      <th>./Xeno_canto/Xeno-canto-Google_AudioSet/NonBird/wgZXNP2oY4Y_30.000.wav</th>\n",
       "      <td>0</td>\n",
       "      <td>1</td>\n",
       "    </tr>\n",
       "    <tr>\n",
       "      <th>...</th>\n",
       "      <td>...</td>\n",
       "      <td>...</td>\n",
       "    </tr>\n",
       "    <tr>\n",
       "      <th>./Xeno_canto/Xeno-canto-Google_AudioSet/Bird/Xeno_Canto_High_Priority/Oneillornis-salvini-223816.wav</th>\n",
       "      <td>1</td>\n",
       "      <td>0</td>\n",
       "    </tr>\n",
       "    <tr>\n",
       "      <th>./Xeno_canto/Xeno-canto-Google_AudioSet/Bird/Xeno_Canto_High_Priority/Leptopogon-amaurocephalus-41623.wav</th>\n",
       "      <td>1</td>\n",
       "      <td>0</td>\n",
       "    </tr>\n",
       "    <tr>\n",
       "      <th>./Xeno_canto/Xeno-canto-Google_AudioSet/Bird/Xeno_Canto_High_Priority/Momotus-momota-45044.wav</th>\n",
       "      <td>1</td>\n",
       "      <td>0</td>\n",
       "    </tr>\n",
       "    <tr>\n",
       "      <th>./Xeno_canto/Xeno-canto-Google_AudioSet/Bird/Xeno_Canto_High_Priority/Pheugopedius-genibarbis-10974.wav</th>\n",
       "      <td>1</td>\n",
       "      <td>0</td>\n",
       "    </tr>\n",
       "    <tr>\n",
       "      <th>./Xeno_canto/Xeno-canto-Google_AudioSet/Bird/Xeno_Canto_High_Priority/Catharus-ustulatus-14465.wav</th>\n",
       "      <td>1</td>\n",
       "      <td>0</td>\n",
       "    </tr>\n",
       "  </tbody>\n",
       "</table>\n",
       "<p>8122 rows × 2 columns</p>\n",
       "</div>"
      ],
      "text/plain": [
       "                                                    non-empty  empty\n",
       "Filename                                                            \n",
       "./Xeno_canto/Xeno-canto-Google_AudioSet/NonBird...          0      1\n",
       "./Xeno_canto/Xeno-canto-Google_AudioSet/NonBird...          0      1\n",
       "./Xeno_canto/Xeno-canto-Google_AudioSet/NonBird...          0      1\n",
       "./Xeno_canto/Xeno-canto-Google_AudioSet/NonBird...          0      1\n",
       "./Xeno_canto/Xeno-canto-Google_AudioSet/NonBird...          0      1\n",
       "...                                                       ...    ...\n",
       "./Xeno_canto/Xeno-canto-Google_AudioSet/Bird/Xe...          1      0\n",
       "./Xeno_canto/Xeno-canto-Google_AudioSet/Bird/Xe...          1      0\n",
       "./Xeno_canto/Xeno-canto-Google_AudioSet/Bird/Xe...          1      0\n",
       "./Xeno_canto/Xeno-canto-Google_AudioSet/Bird/Xe...          1      0\n",
       "./Xeno_canto/Xeno-canto-Google_AudioSet/Bird/Xe...          1      0\n",
       "\n",
       "[8122 rows x 2 columns]"
      ]
     },
     "execution_count": 17,
     "metadata": {},
     "output_type": "execute_result"
    }
   ],
   "source": [
    "prediction_dataset.df"
   ]
  },
  {
   "cell_type": "code",
   "execution_count": 18,
   "id": "fa336e44",
   "metadata": {},
   "outputs": [
    {
     "name": "stdout",
     "output_type": "stream",
     "text": [
      "(8122, 2)\n"
     ]
    },
    {
     "data": {
      "text/html": [
       "<div>\n",
       "<style scoped>\n",
       "    .dataframe tbody tr th:only-of-type {\n",
       "        vertical-align: middle;\n",
       "    }\n",
       "\n",
       "    .dataframe tbody tr th {\n",
       "        vertical-align: top;\n",
       "    }\n",
       "\n",
       "    .dataframe thead th {\n",
       "        text-align: right;\n",
       "    }\n",
       "</style>\n",
       "<table border=\"1\" class=\"dataframe\">\n",
       "  <thead>\n",
       "    <tr style=\"text-align: right;\">\n",
       "      <th></th>\n",
       "      <th>non-empty</th>\n",
       "      <th>empty</th>\n",
       "    </tr>\n",
       "  </thead>\n",
       "  <tbody>\n",
       "    <tr>\n",
       "      <th>./Xeno_canto/Xeno-canto-Google_AudioSet/NonBird/01x0zZpL87I_19.000.wav</th>\n",
       "      <td>0.504175</td>\n",
       "      <td>0.495824</td>\n",
       "    </tr>\n",
       "    <tr>\n",
       "      <th>./Xeno_canto/Xeno-canto-Google_AudioSet/NonBird/ZIVd_TBhACU_240.000.wav</th>\n",
       "      <td>0.191641</td>\n",
       "      <td>0.808359</td>\n",
       "    </tr>\n",
       "    <tr>\n",
       "      <th>./Xeno_canto/Xeno-canto-Google_AudioSet/NonBird/R3_Gqgl-NYE_50.000.wav</th>\n",
       "      <td>0.250832</td>\n",
       "      <td>0.749168</td>\n",
       "    </tr>\n",
       "    <tr>\n",
       "      <th>./Xeno_canto/Xeno-canto-Google_AudioSet/NonBird/ADfGYZobXbA_50.000.wav</th>\n",
       "      <td>0.205321</td>\n",
       "      <td>0.794679</td>\n",
       "    </tr>\n",
       "    <tr>\n",
       "      <th>./Xeno_canto/Xeno-canto-Google_AudioSet/NonBird/wgZXNP2oY4Y_30.000.wav</th>\n",
       "      <td>0.105002</td>\n",
       "      <td>0.894998</td>\n",
       "    </tr>\n",
       "    <tr>\n",
       "      <th>...</th>\n",
       "      <td>...</td>\n",
       "      <td>...</td>\n",
       "    </tr>\n",
       "    <tr>\n",
       "      <th>./Xeno_canto/Xeno-canto-Google_AudioSet/Bird/Xeno_Canto_High_Priority/Oneillornis-salvini-223816.wav</th>\n",
       "      <td>0.985185</td>\n",
       "      <td>0.014815</td>\n",
       "    </tr>\n",
       "    <tr>\n",
       "      <th>./Xeno_canto/Xeno-canto-Google_AudioSet/Bird/Xeno_Canto_High_Priority/Leptopogon-amaurocephalus-41623.wav</th>\n",
       "      <td>0.947155</td>\n",
       "      <td>0.052845</td>\n",
       "    </tr>\n",
       "    <tr>\n",
       "      <th>./Xeno_canto/Xeno-canto-Google_AudioSet/Bird/Xeno_Canto_High_Priority/Momotus-momota-45044.wav</th>\n",
       "      <td>0.944833</td>\n",
       "      <td>0.055167</td>\n",
       "    </tr>\n",
       "    <tr>\n",
       "      <th>./Xeno_canto/Xeno-canto-Google_AudioSet/Bird/Xeno_Canto_High_Priority/Pheugopedius-genibarbis-10974.wav</th>\n",
       "      <td>0.979553</td>\n",
       "      <td>0.020447</td>\n",
       "    </tr>\n",
       "    <tr>\n",
       "      <th>./Xeno_canto/Xeno-canto-Google_AudioSet/Bird/Xeno_Canto_High_Priority/Catharus-ustulatus-14465.wav</th>\n",
       "      <td>0.927076</td>\n",
       "      <td>0.072924</td>\n",
       "    </tr>\n",
       "  </tbody>\n",
       "</table>\n",
       "<p>8122 rows × 2 columns</p>\n",
       "</div>"
      ],
      "text/plain": [
       "                                                    non-empty     empty\n",
       "./Xeno_canto/Xeno-canto-Google_AudioSet/NonBird...   0.504175  0.495824\n",
       "./Xeno_canto/Xeno-canto-Google_AudioSet/NonBird...   0.191641  0.808359\n",
       "./Xeno_canto/Xeno-canto-Google_AudioSet/NonBird...   0.250832  0.749168\n",
       "./Xeno_canto/Xeno-canto-Google_AudioSet/NonBird...   0.205321  0.794679\n",
       "./Xeno_canto/Xeno-canto-Google_AudioSet/NonBird...   0.105002  0.894998\n",
       "...                                                       ...       ...\n",
       "./Xeno_canto/Xeno-canto-Google_AudioSet/Bird/Xe...   0.985185  0.014815\n",
       "./Xeno_canto/Xeno-canto-Google_AudioSet/Bird/Xe...   0.947155  0.052845\n",
       "./Xeno_canto/Xeno-canto-Google_AudioSet/Bird/Xe...   0.944833  0.055167\n",
       "./Xeno_canto/Xeno-canto-Google_AudioSet/Bird/Xe...   0.979553  0.020447\n",
       "./Xeno_canto/Xeno-canto-Google_AudioSet/Bird/Xe...   0.927076  0.072924\n",
       "\n",
       "[8122 rows x 2 columns]"
      ]
     },
     "execution_count": 18,
     "metadata": {},
     "output_type": "execute_result"
    }
   ],
   "source": [
    "valid_scores_df, valid_preds_df, valid_labels_df = model.predict(prediction_dataset,\n",
    "                                                                 binary_preds='single_target',\n",
    "                                                                 activation_layer='softmax')\n",
    "valid_scores_df"
   ]
  },
  {
   "cell_type": "code",
   "execution_count": 19,
   "id": "441565e7",
   "metadata": {},
   "outputs": [
    {
     "data": {
      "text/html": [
       "<div>\n",
       "<style scoped>\n",
       "    .dataframe tbody tr th:only-of-type {\n",
       "        vertical-align: middle;\n",
       "    }\n",
       "\n",
       "    .dataframe tbody tr th {\n",
       "        vertical-align: top;\n",
       "    }\n",
       "\n",
       "    .dataframe thead th {\n",
       "        text-align: right;\n",
       "    }\n",
       "</style>\n",
       "<table border=\"1\" class=\"dataframe\">\n",
       "  <thead>\n",
       "    <tr style=\"text-align: right;\">\n",
       "      <th></th>\n",
       "      <th>non-empty</th>\n",
       "      <th>empty</th>\n",
       "    </tr>\n",
       "  </thead>\n",
       "  <tbody>\n",
       "    <tr>\n",
       "      <th>./Xeno_canto/Xeno-canto-Google_AudioSet/NonBird/01x0zZpL87I_19.000.wav</th>\n",
       "      <td>0</td>\n",
       "      <td>1</td>\n",
       "    </tr>\n",
       "    <tr>\n",
       "      <th>./Xeno_canto/Xeno-canto-Google_AudioSet/NonBird/ZIVd_TBhACU_240.000.wav</th>\n",
       "      <td>0</td>\n",
       "      <td>1</td>\n",
       "    </tr>\n",
       "    <tr>\n",
       "      <th>./Xeno_canto/Xeno-canto-Google_AudioSet/NonBird/R3_Gqgl-NYE_50.000.wav</th>\n",
       "      <td>0</td>\n",
       "      <td>1</td>\n",
       "    </tr>\n",
       "    <tr>\n",
       "      <th>./Xeno_canto/Xeno-canto-Google_AudioSet/NonBird/ADfGYZobXbA_50.000.wav</th>\n",
       "      <td>0</td>\n",
       "      <td>1</td>\n",
       "    </tr>\n",
       "    <tr>\n",
       "      <th>./Xeno_canto/Xeno-canto-Google_AudioSet/NonBird/wgZXNP2oY4Y_30.000.wav</th>\n",
       "      <td>0</td>\n",
       "      <td>1</td>\n",
       "    </tr>\n",
       "    <tr>\n",
       "      <th>...</th>\n",
       "      <td>...</td>\n",
       "      <td>...</td>\n",
       "    </tr>\n",
       "    <tr>\n",
       "      <th>./Xeno_canto/Xeno-canto-Google_AudioSet/Bird/Xeno_Canto_High_Priority/Oneillornis-salvini-223816.wav</th>\n",
       "      <td>1</td>\n",
       "      <td>0</td>\n",
       "    </tr>\n",
       "    <tr>\n",
       "      <th>./Xeno_canto/Xeno-canto-Google_AudioSet/Bird/Xeno_Canto_High_Priority/Leptopogon-amaurocephalus-41623.wav</th>\n",
       "      <td>1</td>\n",
       "      <td>0</td>\n",
       "    </tr>\n",
       "    <tr>\n",
       "      <th>./Xeno_canto/Xeno-canto-Google_AudioSet/Bird/Xeno_Canto_High_Priority/Momotus-momota-45044.wav</th>\n",
       "      <td>1</td>\n",
       "      <td>0</td>\n",
       "    </tr>\n",
       "    <tr>\n",
       "      <th>./Xeno_canto/Xeno-canto-Google_AudioSet/Bird/Xeno_Canto_High_Priority/Pheugopedius-genibarbis-10974.wav</th>\n",
       "      <td>1</td>\n",
       "      <td>0</td>\n",
       "    </tr>\n",
       "    <tr>\n",
       "      <th>./Xeno_canto/Xeno-canto-Google_AudioSet/Bird/Xeno_Canto_High_Priority/Catharus-ustulatus-14465.wav</th>\n",
       "      <td>1</td>\n",
       "      <td>0</td>\n",
       "    </tr>\n",
       "  </tbody>\n",
       "</table>\n",
       "<p>8122 rows × 2 columns</p>\n",
       "</div>"
      ],
      "text/plain": [
       "                                                    non-empty  empty\n",
       "./Xeno_canto/Xeno-canto-Google_AudioSet/NonBird...          0      1\n",
       "./Xeno_canto/Xeno-canto-Google_AudioSet/NonBird...          0      1\n",
       "./Xeno_canto/Xeno-canto-Google_AudioSet/NonBird...          0      1\n",
       "./Xeno_canto/Xeno-canto-Google_AudioSet/NonBird...          0      1\n",
       "./Xeno_canto/Xeno-canto-Google_AudioSet/NonBird...          0      1\n",
       "...                                                       ...    ...\n",
       "./Xeno_canto/Xeno-canto-Google_AudioSet/Bird/Xe...          1      0\n",
       "./Xeno_canto/Xeno-canto-Google_AudioSet/Bird/Xe...          1      0\n",
       "./Xeno_canto/Xeno-canto-Google_AudioSet/Bird/Xe...          1      0\n",
       "./Xeno_canto/Xeno-canto-Google_AudioSet/Bird/Xe...          1      0\n",
       "./Xeno_canto/Xeno-canto-Google_AudioSet/Bird/Xe...          1      0\n",
       "\n",
       "[8122 rows x 2 columns]"
      ]
     },
     "execution_count": 19,
     "metadata": {},
     "output_type": "execute_result"
    }
   ],
   "source": [
    "valid_labels_df"
   ]
  },
  {
   "cell_type": "code",
   "execution_count": 20,
   "id": "8985d211",
   "metadata": {},
   "outputs": [
    {
     "name": "stdout",
     "output_type": "stream",
     "text": [
      "              precision    recall  f1-score   support\n",
      "\n",
      "           0       0.63      0.93      0.75      3348\n",
      "           1       0.93      0.62      0.75      4774\n",
      "\n",
      "   micro avg       0.75      0.75      0.75      8122\n",
      "   macro avg       0.78      0.78      0.75      8122\n",
      "weighted avg       0.81      0.75      0.75      8122\n",
      " samples avg       0.75      0.75      0.75      8122\n",
      "\n"
     ]
    }
   ],
   "source": [
    "from sklearn.metrics import classification_report, roc_auc_score, roc_curve\n",
    "print(classification_report(valid_labels_df, valid_preds_df))"
   ]
  },
  {
   "cell_type": "code",
   "execution_count": 21,
   "id": "26a1f15c",
   "metadata": {},
   "outputs": [],
   "source": [
    "from matplotlib import pyplot as plt\n",
    "plt.rcParams['figure.figsize']=[15,5] "
   ]
  },
  {
   "cell_type": "code",
   "execution_count": 22,
   "id": "2bbd3af2",
   "metadata": {},
   "outputs": [
    {
     "data": {
      "image/png": "[encoded data removed]",
      "text/plain": [
       "<Figure size 1080x360 with 1 Axes>"
      ]
     },
     "metadata": {
      "needs_background": "light"
     },
     "output_type": "display_data"
    }
   ],
   "source": [
    "fpr, tpr, thresh = roc_curve(valid_labels_df['non-empty'],  valid_scores_df['non-empty'])\n",
    "auc = roc_auc_score(valid_labels_df['non-empty'],  valid_preds_df['non-empty'])\n",
    "\n",
    "#create ROC curve\n",
    "plt.plot(fpr,tpr,label=\"AUC=\"+str(auc))\n",
    "plt.ylabel('True Positive Rate')\n",
    "plt.xlabel('False Positive Rate')\n",
    "plt.legend(loc=4)\n",
    "plt.show()"
   ]
  },
  {
   "cell_type": "code",
   "execution_count": null,
   "id": "5e0d498d",
   "metadata": {},
   "outputs": [],
   "source": []
  }
 ],
 "metadata": {
  "kernelspec": {
   "display_name": "Python 3 (ipykernel)",
   "language": "python",
   "name": "python3"
  },
  "language_info": {
   "codemirror_mode": {
    "name": "ipython",
    "version": 3
   },
   "file_extension": ".py",
   "mimetype": "text/x-python",
   "name": "python",
   "nbconvert_exporter": "python",
   "pygments_lexer": "ipython3",
   "version": "3.8.0"
  }
 },
 "nbformat": 4,
 "nbformat_minor": 5
}
