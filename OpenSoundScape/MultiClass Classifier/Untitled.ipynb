{
 "cells": [
  {
   "cell_type": "code",
   "execution_count": 17,
   "id": "35646d71",
   "metadata": {},
   "outputs": [],
   "source": [
    "import shutil\n",
    "import os\n",
    "\n",
    "\n",
    "source = \".\\\\Data\\\\all_10_species\\\\\"\n",
    "destination = \".\\\\Data\\\\Cosmos\\\\\"\n",
    "folder_list = os.listdir(source)\n",
    "for subfolder in folder_list:\n",
    "    files_list = os.listdir(source + subfolder)\n",
    "    for file in files_list:\n",
    "        shutil.move(source + subfolder + \"\\\\\" + file, destination)"
   ]
  },
  {
   "cell_type": "code",
   "execution_count": null,
   "id": "8248c077",
   "metadata": {},
   "outputs": [],
   "source": []
  }
 ],
 "metadata": {
  "kernelspec": {
   "display_name": "Python 3",
   "language": "python",
   "name": "python3"
  },
  "language_info": {
   "codemirror_mode": {
    "name": "ipython",
    "version": 3
   },
   "file_extension": ".py",
   "mimetype": "text/x-python",
   "name": "python",
   "nbconvert_exporter": "python",
   "pygments_lexer": "ipython3",
   "version": "3.7.10"
  }
 },
 "nbformat": 4,
 "nbformat_minor": 5
}
