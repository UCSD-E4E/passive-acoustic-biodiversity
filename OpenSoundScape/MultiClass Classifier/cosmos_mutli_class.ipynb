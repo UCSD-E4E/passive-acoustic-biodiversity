{
 "cells": [
  {
   "cell_type": "code",
   "execution_count": 1,
   "id": "678201ba-eecf-4c22-8192-7e35a34acaa8",
   "metadata": {
    "scrolled": false
   },
   "outputs": [],
   "source": [
    "from opensoundscape.preprocess.preprocessors import BasePreprocessor, AudioToSpectrogramPreprocessor, CnnPreprocessor\n",
    "import torch\n",
    "import pandas as pd\n",
    "from pathlib import Path\n",
    "import numpy as np\n",
    "import pandas as pd\n",
    "from opensoundscape.torch.models import cnn\n",
    "from opensoundscape.torch.architectures import cnn_architectures\n",
    "from sklearn.metrics import classification_report, roc_auc_score, roc_curve\n",
    "from sklearn.model_selection import train_test_split\n",
    "from opensoundscape.annotations import categorical_to_one_hot\n",
    "import matplotlib.pyplot as plt\n",
    "from opensoundscape.torch.models.cnn import load_model"
   ]
  },
  {
   "cell_type": "code",
   "execution_count": 2,
   "id": "56e45225",
   "metadata": {},
   "outputs": [],
   "source": [
    "high_level_name = \"automated_cosmos_tweety_to_file_normal\""
   ]
  },
  {
   "cell_type": "markdown",
   "id": "13c5e3ab",
   "metadata": {},
   "source": [
    "### Read the train/validation and test data"
   ]
  },
  {
   "cell_type": "code",
   "execution_count": 3,
   "id": "3d2b1263",
   "metadata": {},
   "outputs": [],
   "source": [
    "audio_folder = \"D:/open_soundscape_files/\"\n",
    "name = \"C:/Users/Siloux/Desktop/E4E/passive-acoustic-biodiversity/OpenSoundScape/MultiClass Classifier/automated_cosmos_tweety_to_file.csv\"\n",
    "#_TRAINING.csv\"\n",
    "train_val_df = pd.read_csv(name + '_yanChunk_TRAINING.csv')\n",
    "train_val_df[\"file\"] = audio_folder +train_val_df[\"file\"]\n",
    "\n",
    "test_df = pd.read_csv(name + '_yanChunk_TESTING.csv')\n",
    "test_df[\"file\"] = audio_folder +test_df[\"file\"]\n",
    "model_save = './model/' + 'test_for_reformed_dataset/'"
   ]
  },
  {
   "cell_type": "code",
   "execution_count": 4,
   "id": "09646e35",
   "metadata": {},
   "outputs": [
    {
     "data": {
      "text/html": [
       "<div>\n",
       "<style scoped>\n",
       "    .dataframe tbody tr th:only-of-type {\n",
       "        vertical-align: middle;\n",
       "    }\n",
       "\n",
       "    .dataframe tbody tr th {\n",
       "        vertical-align: top;\n",
       "    }\n",
       "\n",
       "    .dataframe thead th {\n",
       "        text-align: right;\n",
       "    }\n",
       "</style>\n",
       "<table border=\"1\" class=\"dataframe\">\n",
       "  <thead>\n",
       "    <tr style=\"text-align: right;\">\n",
       "      <th></th>\n",
       "      <th>Unnamed: 0</th>\n",
       "      <th>file</th>\n",
       "      <th>start_time</th>\n",
       "      <th>end_time</th>\n",
       "      <th>SAMPLING RATE</th>\n",
       "      <th>MANUAL ID</th>\n",
       "    </tr>\n",
       "  </thead>\n",
       "  <tbody>\n",
       "    <tr>\n",
       "      <th>0</th>\n",
       "      <td>0</td>\n",
       "      <td>D:/open_soundscape_files/./Cosmos_data/Testing...</td>\n",
       "      <td>0.0</td>\n",
       "      <td>3.0</td>\n",
       "      <td>44100</td>\n",
       "      <td>Celeus grammicus</td>\n",
       "    </tr>\n",
       "    <tr>\n",
       "      <th>1</th>\n",
       "      <td>1</td>\n",
       "      <td>D:/open_soundscape_files/./Cosmos_data/Testing...</td>\n",
       "      <td>3.0</td>\n",
       "      <td>6.0</td>\n",
       "      <td>44100</td>\n",
       "      <td>Celeus grammicus</td>\n",
       "    </tr>\n",
       "    <tr>\n",
       "      <th>2</th>\n",
       "      <td>2</td>\n",
       "      <td>D:/open_soundscape_files/./Cosmos_data/Testing...</td>\n",
       "      <td>6.0</td>\n",
       "      <td>9.0</td>\n",
       "      <td>44100</td>\n",
       "      <td>no bird</td>\n",
       "    </tr>\n",
       "    <tr>\n",
       "      <th>3</th>\n",
       "      <td>3</td>\n",
       "      <td>D:/open_soundscape_files/./Cosmos_data/Testing...</td>\n",
       "      <td>9.0</td>\n",
       "      <td>12.0</td>\n",
       "      <td>44100</td>\n",
       "      <td>Celeus grammicus</td>\n",
       "    </tr>\n",
       "    <tr>\n",
       "      <th>4</th>\n",
       "      <td>4</td>\n",
       "      <td>D:/open_soundscape_files/./Cosmos_data/Testing...</td>\n",
       "      <td>12.0</td>\n",
       "      <td>15.0</td>\n",
       "      <td>44100</td>\n",
       "      <td>Celeus grammicus</td>\n",
       "    </tr>\n",
       "    <tr>\n",
       "      <th>...</th>\n",
       "      <td>...</td>\n",
       "      <td>...</td>\n",
       "      <td>...</td>\n",
       "      <td>...</td>\n",
       "      <td>...</td>\n",
       "      <td>...</td>\n",
       "    </tr>\n",
       "    <tr>\n",
       "      <th>6432</th>\n",
       "      <td>6432</td>\n",
       "      <td>D:/open_soundscape_files/./Cosmos_data/Testing...</td>\n",
       "      <td>15.0</td>\n",
       "      <td>18.0</td>\n",
       "      <td>44100</td>\n",
       "      <td>Tolmomyias sulphurescens</td>\n",
       "    </tr>\n",
       "    <tr>\n",
       "      <th>6433</th>\n",
       "      <td>6433</td>\n",
       "      <td>D:/open_soundscape_files/./Cosmos_data/Testing...</td>\n",
       "      <td>18.0</td>\n",
       "      <td>21.0</td>\n",
       "      <td>44100</td>\n",
       "      <td>no bird</td>\n",
       "    </tr>\n",
       "    <tr>\n",
       "      <th>6434</th>\n",
       "      <td>6434</td>\n",
       "      <td>D:/open_soundscape_files/./Cosmos_data/Testing...</td>\n",
       "      <td>21.0</td>\n",
       "      <td>24.0</td>\n",
       "      <td>44100</td>\n",
       "      <td>Tolmomyias sulphurescens</td>\n",
       "    </tr>\n",
       "    <tr>\n",
       "      <th>6435</th>\n",
       "      <td>6435</td>\n",
       "      <td>D:/open_soundscape_files/./Cosmos_data/Testing...</td>\n",
       "      <td>24.0</td>\n",
       "      <td>27.0</td>\n",
       "      <td>44100</td>\n",
       "      <td>Tolmomyias sulphurescens</td>\n",
       "    </tr>\n",
       "    <tr>\n",
       "      <th>6436</th>\n",
       "      <td>6436</td>\n",
       "      <td>D:/open_soundscape_files/./Cosmos_data/Testing...</td>\n",
       "      <td>27.0</td>\n",
       "      <td>30.0</td>\n",
       "      <td>44100</td>\n",
       "      <td>no bird</td>\n",
       "    </tr>\n",
       "  </tbody>\n",
       "</table>\n",
       "<p>6437 rows × 6 columns</p>\n",
       "</div>"
      ],
      "text/plain": [
       "      Unnamed: 0                                               file  \\\n",
       "0              0  D:/open_soundscape_files/./Cosmos_data/Testing...   \n",
       "1              1  D:/open_soundscape_files/./Cosmos_data/Testing...   \n",
       "2              2  D:/open_soundscape_files/./Cosmos_data/Testing...   \n",
       "3              3  D:/open_soundscape_files/./Cosmos_data/Testing...   \n",
       "4              4  D:/open_soundscape_files/./Cosmos_data/Testing...   \n",
       "...          ...                                                ...   \n",
       "6432        6432  D:/open_soundscape_files/./Cosmos_data/Testing...   \n",
       "6433        6433  D:/open_soundscape_files/./Cosmos_data/Testing...   \n",
       "6434        6434  D:/open_soundscape_files/./Cosmos_data/Testing...   \n",
       "6435        6435  D:/open_soundscape_files/./Cosmos_data/Testing...   \n",
       "6436        6436  D:/open_soundscape_files/./Cosmos_data/Testing...   \n",
       "\n",
       "      start_time  end_time  SAMPLING RATE                 MANUAL ID  \n",
       "0            0.0       3.0          44100          Celeus grammicus  \n",
       "1            3.0       6.0          44100          Celeus grammicus  \n",
       "2            6.0       9.0          44100                   no bird  \n",
       "3            9.0      12.0          44100          Celeus grammicus  \n",
       "4           12.0      15.0          44100          Celeus grammicus  \n",
       "...          ...       ...            ...                       ...  \n",
       "6432        15.0      18.0          44100  Tolmomyias sulphurescens  \n",
       "6433        18.0      21.0          44100                   no bird  \n",
       "6434        21.0      24.0          44100  Tolmomyias sulphurescens  \n",
       "6435        24.0      27.0          44100  Tolmomyias sulphurescens  \n",
       "6436        27.0      30.0          44100                   no bird  \n",
       "\n",
       "[6437 rows x 6 columns]"
      ]
     },
     "execution_count": 4,
     "metadata": {},
     "output_type": "execute_result"
    }
   ],
   "source": [
    "test_df"
   ]
  },
  {
   "cell_type": "code",
   "execution_count": 5,
   "id": "14d4ac6f",
   "metadata": {},
   "outputs": [
    {
     "data": {
      "text/plain": [
       "(6437, 6)"
      ]
     },
     "execution_count": 5,
     "metadata": {},
     "output_type": "execute_result"
    }
   ],
   "source": [
    "test_df.shape"
   ]
  },
  {
   "cell_type": "code",
   "execution_count": 6,
   "id": "5f67c07c",
   "metadata": {},
   "outputs": [],
   "source": [
    "from opensoundscape.audio import Audio\n",
    "from opensoundscape.spectrogram import Spectrogram"
   ]
  },
  {
   "cell_type": "code",
   "execution_count": 7,
   "id": "52c5048d",
   "metadata": {},
   "outputs": [
    {
     "data": {
      "text/plain": [
       "no bird                     14606\n",
       "Microcerculus marginatus    11935\n",
       "Ramphastos tucanus          10388\n",
       "Zonotrichia capensis        10191\n",
       "Turdus leucomelas            9459\n",
       "Tolmomyias sulphurescens     8876\n",
       "Trogon viridis               7833\n",
       "Xiphorhynchus guttatus       7804\n",
       "Myioborus miniatus           3118\n",
       "Thraupis episcopus           3056\n",
       "Celeus grammicus             1783\n",
       "Name: MANUAL ID, dtype: int64"
      ]
     },
     "execution_count": 7,
     "metadata": {},
     "output_type": "execute_result"
    }
   ],
   "source": [
    "train_val_df['MANUAL ID'].value_counts()"
   ]
  },
  {
   "cell_type": "code",
   "execution_count": 8,
   "id": "71e82012",
   "metadata": {},
   "outputs": [
    {
     "data": {
      "text/html": [
       "<div>\n",
       "<style scoped>\n",
       "    .dataframe tbody tr th:only-of-type {\n",
       "        vertical-align: middle;\n",
       "    }\n",
       "\n",
       "    .dataframe tbody tr th {\n",
       "        vertical-align: top;\n",
       "    }\n",
       "\n",
       "    .dataframe thead th {\n",
       "        text-align: right;\n",
       "    }\n",
       "</style>\n",
       "<table border=\"1\" class=\"dataframe\">\n",
       "  <thead>\n",
       "    <tr style=\"text-align: right;\">\n",
       "      <th></th>\n",
       "      <th>Unnamed: 0</th>\n",
       "      <th>file</th>\n",
       "      <th>start_time</th>\n",
       "      <th>end_time</th>\n",
       "      <th>SAMPLING RATE</th>\n",
       "      <th>MANUAL ID</th>\n",
       "      <th>filename</th>\n",
       "    </tr>\n",
       "  </thead>\n",
       "  <tbody>\n",
       "    <tr>\n",
       "      <th>0</th>\n",
       "      <td>0</td>\n",
       "      <td>D:/open_soundscape_files/./Cosmos_data/Trainin...</td>\n",
       "      <td>0.0</td>\n",
       "      <td>3.0</td>\n",
       "      <td>44100</td>\n",
       "      <td>Thraupis episcopus</td>\n",
       "      <td>XC100073 - Blue-grey Tanager - Thraupis episco...</td>\n",
       "    </tr>\n",
       "    <tr>\n",
       "      <th>1</th>\n",
       "      <td>1</td>\n",
       "      <td>D:/open_soundscape_files/./Cosmos_data/Trainin...</td>\n",
       "      <td>1.5</td>\n",
       "      <td>4.5</td>\n",
       "      <td>44100</td>\n",
       "      <td>Thraupis episcopus</td>\n",
       "      <td>XC100073 - Blue-grey Tanager - Thraupis episco...</td>\n",
       "    </tr>\n",
       "    <tr>\n",
       "      <th>2</th>\n",
       "      <td>2</td>\n",
       "      <td>D:/open_soundscape_files/./Cosmos_data/Trainin...</td>\n",
       "      <td>0.0</td>\n",
       "      <td>3.0</td>\n",
       "      <td>44100</td>\n",
       "      <td>Thraupis episcopus</td>\n",
       "      <td>XC100092 - Blue-grey Tanager - Thraupis episco...</td>\n",
       "    </tr>\n",
       "    <tr>\n",
       "      <th>3</th>\n",
       "      <td>3</td>\n",
       "      <td>D:/open_soundscape_files/./Cosmos_data/Trainin...</td>\n",
       "      <td>1.5</td>\n",
       "      <td>4.5</td>\n",
       "      <td>44100</td>\n",
       "      <td>Thraupis episcopus</td>\n",
       "      <td>XC100092 - Blue-grey Tanager - Thraupis episco...</td>\n",
       "    </tr>\n",
       "    <tr>\n",
       "      <th>4</th>\n",
       "      <td>4</td>\n",
       "      <td>D:/open_soundscape_files/./Cosmos_data/Trainin...</td>\n",
       "      <td>3.0</td>\n",
       "      <td>6.0</td>\n",
       "      <td>44100</td>\n",
       "      <td>Thraupis episcopus</td>\n",
       "      <td>XC100092 - Blue-grey Tanager - Thraupis episco...</td>\n",
       "    </tr>\n",
       "  </tbody>\n",
       "</table>\n",
       "</div>"
      ],
      "text/plain": [
       "   Unnamed: 0                                               file  start_time  \\\n",
       "0           0  D:/open_soundscape_files/./Cosmos_data/Trainin...         0.0   \n",
       "1           1  D:/open_soundscape_files/./Cosmos_data/Trainin...         1.5   \n",
       "2           2  D:/open_soundscape_files/./Cosmos_data/Trainin...         0.0   \n",
       "3           3  D:/open_soundscape_files/./Cosmos_data/Trainin...         1.5   \n",
       "4           4  D:/open_soundscape_files/./Cosmos_data/Trainin...         3.0   \n",
       "\n",
       "   end_time  SAMPLING RATE           MANUAL ID  \\\n",
       "0       3.0          44100  Thraupis episcopus   \n",
       "1       4.5          44100  Thraupis episcopus   \n",
       "2       3.0          44100  Thraupis episcopus   \n",
       "3       4.5          44100  Thraupis episcopus   \n",
       "4       6.0          44100  Thraupis episcopus   \n",
       "\n",
       "                                            filename  \n",
       "0  XC100073 - Blue-grey Tanager - Thraupis episco...  \n",
       "1  XC100073 - Blue-grey Tanager - Thraupis episco...  \n",
       "2  XC100092 - Blue-grey Tanager - Thraupis episco...  \n",
       "3  XC100092 - Blue-grey Tanager - Thraupis episco...  \n",
       "4  XC100092 - Blue-grey Tanager - Thraupis episco...  "
      ]
     },
     "execution_count": 8,
     "metadata": {},
     "output_type": "execute_result"
    }
   ],
   "source": [
    "train_val_df[\"filename\"] = train_val_df[\"file\"].apply(lambda x: x.split(\"/\")[-1])\n",
    "train_val_df.head()"
   ]
  },
  {
   "cell_type": "code",
   "execution_count": 9,
   "id": "345c4bc4",
   "metadata": {},
   "outputs": [
    {
     "data": {
      "text/html": [
       "<div>\n",
       "<style scoped>\n",
       "    .dataframe tbody tr th:only-of-type {\n",
       "        vertical-align: middle;\n",
       "    }\n",
       "\n",
       "    .dataframe tbody tr th {\n",
       "        vertical-align: top;\n",
       "    }\n",
       "\n",
       "    .dataframe thead th {\n",
       "        text-align: right;\n",
       "    }\n",
       "</style>\n",
       "<table border=\"1\" class=\"dataframe\">\n",
       "  <thead>\n",
       "    <tr style=\"text-align: right;\">\n",
       "      <th></th>\n",
       "      <th>Unnamed: 0</th>\n",
       "      <th>file</th>\n",
       "      <th>start_time</th>\n",
       "      <th>end_time</th>\n",
       "      <th>SAMPLING RATE</th>\n",
       "      <th>MANUAL ID</th>\n",
       "    </tr>\n",
       "  </thead>\n",
       "  <tbody>\n",
       "    <tr>\n",
       "      <th>0</th>\n",
       "      <td>0</td>\n",
       "      <td>D:/open_soundscape_files/./Cosmos_data/Testing...</td>\n",
       "      <td>0.0</td>\n",
       "      <td>3.0</td>\n",
       "      <td>44100</td>\n",
       "      <td>Celeus grammicus</td>\n",
       "    </tr>\n",
       "    <tr>\n",
       "      <th>1</th>\n",
       "      <td>1</td>\n",
       "      <td>D:/open_soundscape_files/./Cosmos_data/Testing...</td>\n",
       "      <td>3.0</td>\n",
       "      <td>6.0</td>\n",
       "      <td>44100</td>\n",
       "      <td>Celeus grammicus</td>\n",
       "    </tr>\n",
       "    <tr>\n",
       "      <th>2</th>\n",
       "      <td>2</td>\n",
       "      <td>D:/open_soundscape_files/./Cosmos_data/Testing...</td>\n",
       "      <td>6.0</td>\n",
       "      <td>9.0</td>\n",
       "      <td>44100</td>\n",
       "      <td>no bird</td>\n",
       "    </tr>\n",
       "    <tr>\n",
       "      <th>3</th>\n",
       "      <td>3</td>\n",
       "      <td>D:/open_soundscape_files/./Cosmos_data/Testing...</td>\n",
       "      <td>9.0</td>\n",
       "      <td>12.0</td>\n",
       "      <td>44100</td>\n",
       "      <td>Celeus grammicus</td>\n",
       "    </tr>\n",
       "    <tr>\n",
       "      <th>4</th>\n",
       "      <td>4</td>\n",
       "      <td>D:/open_soundscape_files/./Cosmos_data/Testing...</td>\n",
       "      <td>12.0</td>\n",
       "      <td>15.0</td>\n",
       "      <td>44100</td>\n",
       "      <td>Celeus grammicus</td>\n",
       "    </tr>\n",
       "  </tbody>\n",
       "</table>\n",
       "</div>"
      ],
      "text/plain": [
       "   Unnamed: 0                                               file  start_time  \\\n",
       "0           0  D:/open_soundscape_files/./Cosmos_data/Testing...         0.0   \n",
       "1           1  D:/open_soundscape_files/./Cosmos_data/Testing...         3.0   \n",
       "2           2  D:/open_soundscape_files/./Cosmos_data/Testing...         6.0   \n",
       "3           3  D:/open_soundscape_files/./Cosmos_data/Testing...         9.0   \n",
       "4           4  D:/open_soundscape_files/./Cosmos_data/Testing...        12.0   \n",
       "\n",
       "   end_time  SAMPLING RATE         MANUAL ID  \n",
       "0       3.0          44100  Celeus grammicus  \n",
       "1       6.0          44100  Celeus grammicus  \n",
       "2       9.0          44100           no bird  \n",
       "3      12.0          44100  Celeus grammicus  \n",
       "4      15.0          44100  Celeus grammicus  "
      ]
     },
     "execution_count": 9,
     "metadata": {},
     "output_type": "execute_result"
    }
   ],
   "source": [
    "test_df.head()"
   ]
  },
  {
   "cell_type": "code",
   "execution_count": 10,
   "id": "6551ba1b",
   "metadata": {},
   "outputs": [
    {
     "data": {
      "text/html": [
       "<div>\n",
       "<style scoped>\n",
       "    .dataframe tbody tr th:only-of-type {\n",
       "        vertical-align: middle;\n",
       "    }\n",
       "\n",
       "    .dataframe tbody tr th {\n",
       "        vertical-align: top;\n",
       "    }\n",
       "\n",
       "    .dataframe thead th {\n",
       "        text-align: right;\n",
       "    }\n",
       "</style>\n",
       "<table border=\"1\" class=\"dataframe\">\n",
       "  <thead>\n",
       "    <tr style=\"text-align: right;\">\n",
       "      <th></th>\n",
       "      <th>Unnamed: 0</th>\n",
       "      <th>file</th>\n",
       "      <th>start_time</th>\n",
       "      <th>end_time</th>\n",
       "      <th>SAMPLING RATE</th>\n",
       "      <th>MANUAL ID</th>\n",
       "      <th>filename</th>\n",
       "    </tr>\n",
       "  </thead>\n",
       "  <tbody>\n",
       "    <tr>\n",
       "      <th>0</th>\n",
       "      <td>0</td>\n",
       "      <td>D:/open_soundscape_files/./Cosmos_data/Testing...</td>\n",
       "      <td>0.0</td>\n",
       "      <td>3.0</td>\n",
       "      <td>44100</td>\n",
       "      <td>Celeus grammicus</td>\n",
       "      <td>XC87449 - Scaly-breasted Woodpecker - Celeus g...</td>\n",
       "    </tr>\n",
       "    <tr>\n",
       "      <th>1</th>\n",
       "      <td>1</td>\n",
       "      <td>D:/open_soundscape_files/./Cosmos_data/Testing...</td>\n",
       "      <td>3.0</td>\n",
       "      <td>6.0</td>\n",
       "      <td>44100</td>\n",
       "      <td>Celeus grammicus</td>\n",
       "      <td>XC87449 - Scaly-breasted Woodpecker - Celeus g...</td>\n",
       "    </tr>\n",
       "    <tr>\n",
       "      <th>2</th>\n",
       "      <td>2</td>\n",
       "      <td>D:/open_soundscape_files/./Cosmos_data/Testing...</td>\n",
       "      <td>6.0</td>\n",
       "      <td>9.0</td>\n",
       "      <td>44100</td>\n",
       "      <td>no bird</td>\n",
       "      <td>XC87449 - Scaly-breasted Woodpecker - Celeus g...</td>\n",
       "    </tr>\n",
       "    <tr>\n",
       "      <th>3</th>\n",
       "      <td>3</td>\n",
       "      <td>D:/open_soundscape_files/./Cosmos_data/Testing...</td>\n",
       "      <td>9.0</td>\n",
       "      <td>12.0</td>\n",
       "      <td>44100</td>\n",
       "      <td>Celeus grammicus</td>\n",
       "      <td>XC87449 - Scaly-breasted Woodpecker - Celeus g...</td>\n",
       "    </tr>\n",
       "    <tr>\n",
       "      <th>4</th>\n",
       "      <td>4</td>\n",
       "      <td>D:/open_soundscape_files/./Cosmos_data/Testing...</td>\n",
       "      <td>12.0</td>\n",
       "      <td>15.0</td>\n",
       "      <td>44100</td>\n",
       "      <td>Celeus grammicus</td>\n",
       "      <td>XC87449 - Scaly-breasted Woodpecker - Celeus g...</td>\n",
       "    </tr>\n",
       "  </tbody>\n",
       "</table>\n",
       "</div>"
      ],
      "text/plain": [
       "   Unnamed: 0                                               file  start_time  \\\n",
       "0           0  D:/open_soundscape_files/./Cosmos_data/Testing...         0.0   \n",
       "1           1  D:/open_soundscape_files/./Cosmos_data/Testing...         3.0   \n",
       "2           2  D:/open_soundscape_files/./Cosmos_data/Testing...         6.0   \n",
       "3           3  D:/open_soundscape_files/./Cosmos_data/Testing...         9.0   \n",
       "4           4  D:/open_soundscape_files/./Cosmos_data/Testing...        12.0   \n",
       "\n",
       "   end_time  SAMPLING RATE         MANUAL ID  \\\n",
       "0       3.0          44100  Celeus grammicus   \n",
       "1       6.0          44100  Celeus grammicus   \n",
       "2       9.0          44100           no bird   \n",
       "3      12.0          44100  Celeus grammicus   \n",
       "4      15.0          44100  Celeus grammicus   \n",
       "\n",
       "                                            filename  \n",
       "0  XC87449 - Scaly-breasted Woodpecker - Celeus g...  \n",
       "1  XC87449 - Scaly-breasted Woodpecker - Celeus g...  \n",
       "2  XC87449 - Scaly-breasted Woodpecker - Celeus g...  \n",
       "3  XC87449 - Scaly-breasted Woodpecker - Celeus g...  \n",
       "4  XC87449 - Scaly-breasted Woodpecker - Celeus g...  "
      ]
     },
     "execution_count": 10,
     "metadata": {},
     "output_type": "execute_result"
    }
   ],
   "source": [
    "test_df[\"filename\"] = test_df[\"file\"].apply(lambda x: x.split(\"/\")[-1])\n",
    "test_df.head()"
   ]
  },
  {
   "cell_type": "code",
   "execution_count": 11,
   "id": "a29df122",
   "metadata": {},
   "outputs": [
    {
     "data": {
      "text/html": [
       "<div>\n",
       "<style scoped>\n",
       "    .dataframe tbody tr th:only-of-type {\n",
       "        vertical-align: middle;\n",
       "    }\n",
       "\n",
       "    .dataframe tbody tr th {\n",
       "        vertical-align: top;\n",
       "    }\n",
       "\n",
       "    .dataframe thead th {\n",
       "        text-align: right;\n",
       "    }\n",
       "</style>\n",
       "<table border=\"1\" class=\"dataframe\">\n",
       "  <thead>\n",
       "    <tr style=\"text-align: right;\">\n",
       "      <th></th>\n",
       "      <th>Unnamed: 0_x</th>\n",
       "      <th>file_x</th>\n",
       "      <th>start_time_x</th>\n",
       "      <th>end_time_x</th>\n",
       "      <th>SAMPLING RATE_x</th>\n",
       "      <th>MANUAL ID_x</th>\n",
       "      <th>filename</th>\n",
       "      <th>Unnamed: 0_y</th>\n",
       "      <th>file_y</th>\n",
       "      <th>start_time_y</th>\n",
       "      <th>end_time_y</th>\n",
       "      <th>SAMPLING RATE_y</th>\n",
       "      <th>MANUAL ID_y</th>\n",
       "    </tr>\n",
       "  </thead>\n",
       "  <tbody>\n",
       "  </tbody>\n",
       "</table>\n",
       "</div>"
      ],
      "text/plain": [
       "Empty DataFrame\n",
       "Columns: [Unnamed: 0_x, file_x, start_time_x, end_time_x, SAMPLING RATE_x, MANUAL ID_x, filename, Unnamed: 0_y, file_y, start_time_y, end_time_y, SAMPLING RATE_y, MANUAL ID_y]\n",
       "Index: []"
      ]
     },
     "execution_count": 11,
     "metadata": {},
     "output_type": "execute_result"
    }
   ],
   "source": [
    "train_val_df = train_val_df[~train_val_df[\"filename\"].isin(test_df[\"filename\"])]\n",
    "test_df.merge(train_val_df, left_on=\"filename\", right_on=\"filename\")"
   ]
  },
  {
   "cell_type": "code",
   "execution_count": 12,
   "id": "aa609bc5",
   "metadata": {},
   "outputs": [],
   "source": [
    "def remove_denoise_audio(x):\n",
    "    return x.replace(\"temp_clips\", \"temp_clips - Copy\")\n",
    "\n",
    "\n",
    "#train_val_df[\"file\"] = train_val_df[\"file\"].apply(remove_denoise_audio)"
   ]
  },
  {
   "cell_type": "markdown",
   "id": "5ba75e39",
   "metadata": {},
   "source": [
    "### Check counts of the different classes in both the dataframes"
   ]
  },
  {
   "cell_type": "code",
   "execution_count": 13,
   "id": "3d4fbf5c",
   "metadata": {},
   "outputs": [],
   "source": [
    "import os\n"
   ]
  },
  {
   "cell_type": "code",
   "execution_count": 14,
   "id": "41e98428",
   "metadata": {},
   "outputs": [
    {
     "data": {
      "text/html": [
       "<div>\n",
       "<style scoped>\n",
       "    .dataframe tbody tr th:only-of-type {\n",
       "        vertical-align: middle;\n",
       "    }\n",
       "\n",
       "    .dataframe tbody tr th {\n",
       "        vertical-align: top;\n",
       "    }\n",
       "\n",
       "    .dataframe thead th {\n",
       "        text-align: right;\n",
       "    }\n",
       "</style>\n",
       "<table border=\"1\" class=\"dataframe\">\n",
       "  <thead>\n",
       "    <tr style=\"text-align: right;\">\n",
       "      <th></th>\n",
       "      <th>Unnamed: 0</th>\n",
       "      <th>file</th>\n",
       "      <th>start_time</th>\n",
       "      <th>end_time</th>\n",
       "      <th>SAMPLING RATE</th>\n",
       "      <th>MANUAL ID</th>\n",
       "      <th>filename</th>\n",
       "    </tr>\n",
       "  </thead>\n",
       "  <tbody>\n",
       "    <tr>\n",
       "      <th>0</th>\n",
       "      <td>0</td>\n",
       "      <td>D:/open_soundscape_files/./Cosmos_data/Trainin...</td>\n",
       "      <td>0.0</td>\n",
       "      <td>3.0</td>\n",
       "      <td>44100</td>\n",
       "      <td>Thraupis episcopus</td>\n",
       "      <td>XC100073 - Blue-grey Tanager - Thraupis episco...</td>\n",
       "    </tr>\n",
       "    <tr>\n",
       "      <th>1</th>\n",
       "      <td>1</td>\n",
       "      <td>D:/open_soundscape_files/./Cosmos_data/Trainin...</td>\n",
       "      <td>1.5</td>\n",
       "      <td>4.5</td>\n",
       "      <td>44100</td>\n",
       "      <td>Thraupis episcopus</td>\n",
       "      <td>XC100073 - Blue-grey Tanager - Thraupis episco...</td>\n",
       "    </tr>\n",
       "    <tr>\n",
       "      <th>2</th>\n",
       "      <td>2</td>\n",
       "      <td>D:/open_soundscape_files/./Cosmos_data/Trainin...</td>\n",
       "      <td>0.0</td>\n",
       "      <td>3.0</td>\n",
       "      <td>44100</td>\n",
       "      <td>Thraupis episcopus</td>\n",
       "      <td>XC100092 - Blue-grey Tanager - Thraupis episco...</td>\n",
       "    </tr>\n",
       "    <tr>\n",
       "      <th>3</th>\n",
       "      <td>3</td>\n",
       "      <td>D:/open_soundscape_files/./Cosmos_data/Trainin...</td>\n",
       "      <td>1.5</td>\n",
       "      <td>4.5</td>\n",
       "      <td>44100</td>\n",
       "      <td>Thraupis episcopus</td>\n",
       "      <td>XC100092 - Blue-grey Tanager - Thraupis episco...</td>\n",
       "    </tr>\n",
       "    <tr>\n",
       "      <th>4</th>\n",
       "      <td>4</td>\n",
       "      <td>D:/open_soundscape_files/./Cosmos_data/Trainin...</td>\n",
       "      <td>3.0</td>\n",
       "      <td>6.0</td>\n",
       "      <td>44100</td>\n",
       "      <td>Thraupis episcopus</td>\n",
       "      <td>XC100092 - Blue-grey Tanager - Thraupis episco...</td>\n",
       "    </tr>\n",
       "    <tr>\n",
       "      <th>...</th>\n",
       "      <td>...</td>\n",
       "      <td>...</td>\n",
       "      <td>...</td>\n",
       "      <td>...</td>\n",
       "      <td>...</td>\n",
       "      <td>...</td>\n",
       "      <td>...</td>\n",
       "    </tr>\n",
       "    <tr>\n",
       "      <th>89044</th>\n",
       "      <td>89044</td>\n",
       "      <td>D:/open_soundscape_files/./Cosmos_data/Trainin...</td>\n",
       "      <td>33.0</td>\n",
       "      <td>36.0</td>\n",
       "      <td>44100</td>\n",
       "      <td>no bird</td>\n",
       "      <td>Zonotrichia-capensis-47546_33.0.wav</td>\n",
       "    </tr>\n",
       "    <tr>\n",
       "      <th>89045</th>\n",
       "      <td>89045</td>\n",
       "      <td>D:/open_soundscape_files/./Cosmos_data/Trainin...</td>\n",
       "      <td>34.5</td>\n",
       "      <td>37.5</td>\n",
       "      <td>44100</td>\n",
       "      <td>no bird</td>\n",
       "      <td>Zonotrichia-capensis-47546_34.5.wav</td>\n",
       "    </tr>\n",
       "    <tr>\n",
       "      <th>89046</th>\n",
       "      <td>89046</td>\n",
       "      <td>D:/open_soundscape_files/./Cosmos_data/Trainin...</td>\n",
       "      <td>36.0</td>\n",
       "      <td>39.0</td>\n",
       "      <td>44100</td>\n",
       "      <td>no bird</td>\n",
       "      <td>Zonotrichia-capensis-47546_36.0.wav</td>\n",
       "    </tr>\n",
       "    <tr>\n",
       "      <th>89047</th>\n",
       "      <td>89047</td>\n",
       "      <td>D:/open_soundscape_files/./Cosmos_data/Trainin...</td>\n",
       "      <td>37.5</td>\n",
       "      <td>40.5</td>\n",
       "      <td>44100</td>\n",
       "      <td>no bird</td>\n",
       "      <td>Zonotrichia-capensis-47546_37.5.wav</td>\n",
       "    </tr>\n",
       "    <tr>\n",
       "      <th>89048</th>\n",
       "      <td>89048</td>\n",
       "      <td>D:/open_soundscape_files/./Cosmos_data/Trainin...</td>\n",
       "      <td>39.0</td>\n",
       "      <td>42.0</td>\n",
       "      <td>44100</td>\n",
       "      <td>no bird</td>\n",
       "      <td>Zonotrichia-capensis-47546_39.0.wav</td>\n",
       "    </tr>\n",
       "  </tbody>\n",
       "</table>\n",
       "<p>81243 rows × 7 columns</p>\n",
       "</div>"
      ],
      "text/plain": [
       "       Unnamed: 0                                               file  \\\n",
       "0               0  D:/open_soundscape_files/./Cosmos_data/Trainin...   \n",
       "1               1  D:/open_soundscape_files/./Cosmos_data/Trainin...   \n",
       "2               2  D:/open_soundscape_files/./Cosmos_data/Trainin...   \n",
       "3               3  D:/open_soundscape_files/./Cosmos_data/Trainin...   \n",
       "4               4  D:/open_soundscape_files/./Cosmos_data/Trainin...   \n",
       "...           ...                                                ...   \n",
       "89044       89044  D:/open_soundscape_files/./Cosmos_data/Trainin...   \n",
       "89045       89045  D:/open_soundscape_files/./Cosmos_data/Trainin...   \n",
       "89046       89046  D:/open_soundscape_files/./Cosmos_data/Trainin...   \n",
       "89047       89047  D:/open_soundscape_files/./Cosmos_data/Trainin...   \n",
       "89048       89048  D:/open_soundscape_files/./Cosmos_data/Trainin...   \n",
       "\n",
       "       start_time  end_time  SAMPLING RATE           MANUAL ID  \\\n",
       "0             0.0       3.0          44100  Thraupis episcopus   \n",
       "1             1.5       4.5          44100  Thraupis episcopus   \n",
       "2             0.0       3.0          44100  Thraupis episcopus   \n",
       "3             1.5       4.5          44100  Thraupis episcopus   \n",
       "4             3.0       6.0          44100  Thraupis episcopus   \n",
       "...           ...       ...            ...                 ...   \n",
       "89044        33.0      36.0          44100             no bird   \n",
       "89045        34.5      37.5          44100             no bird   \n",
       "89046        36.0      39.0          44100             no bird   \n",
       "89047        37.5      40.5          44100             no bird   \n",
       "89048        39.0      42.0          44100             no bird   \n",
       "\n",
       "                                                filename  \n",
       "0      XC100073 - Blue-grey Tanager - Thraupis episco...  \n",
       "1      XC100073 - Blue-grey Tanager - Thraupis episco...  \n",
       "2      XC100092 - Blue-grey Tanager - Thraupis episco...  \n",
       "3      XC100092 - Blue-grey Tanager - Thraupis episco...  \n",
       "4      XC100092 - Blue-grey Tanager - Thraupis episco...  \n",
       "...                                                  ...  \n",
       "89044                Zonotrichia-capensis-47546_33.0.wav  \n",
       "89045                Zonotrichia-capensis-47546_34.5.wav  \n",
       "89046                Zonotrichia-capensis-47546_36.0.wav  \n",
       "89047                Zonotrichia-capensis-47546_37.5.wav  \n",
       "89048                Zonotrichia-capensis-47546_39.0.wav  \n",
       "\n",
       "[81243 rows x 7 columns]"
      ]
     },
     "execution_count": 14,
     "metadata": {},
     "output_type": "execute_result"
    }
   ],
   "source": [
    "no_bird = pd.read_csv(os.getcwd()+'\\\\none_test.csv')\n",
    "no_bird[\"MANUAL ID\"] = \"Absent\"\n",
    "#other_bird = \n",
    "other_bird = train_val_df[train_val_df[\"MANUAL ID\"] == \"bird\"].sample(0)\n",
    "train_val_df = train_val_df[~train_val_df[\"MANUAL ID\"].isin([\"bird\"])]\n",
    "\n",
    "\n",
    "\n",
    "\n",
    "\n",
    "\n",
    "train_val_df = train_val_df#.append(no_bird).append(other_bird)\n",
    "train_val_df"
   ]
  },
  {
   "cell_type": "code",
   "execution_count": 15,
   "id": "c1e64aef",
   "metadata": {},
   "outputs": [
    {
     "data": {
      "text/plain": [
       "array(['Celeus grammicus', 'Microcerculus marginatus',\n",
       "       'Myioborus miniatus', 'Ramphastos tucanus', 'Thraupis episcopus',\n",
       "       'Tolmomyias sulphurescens', 'Trogon viridis', 'Turdus leucomelas',\n",
       "       'Xiphorhynchus guttatus', 'Zonotrichia capensis', 'no bird'],\n",
       "      dtype=object)"
      ]
     },
     "execution_count": 15,
     "metadata": {},
     "output_type": "execute_result"
    }
   ],
   "source": [
    "species = np.unique(train_val_df['MANUAL ID'])\n",
    "species"
   ]
  },
  {
   "cell_type": "code",
   "execution_count": 16,
   "id": "e6e372be",
   "metadata": {},
   "outputs": [
    {
     "data": {
      "text/html": [
       "<div>\n",
       "<style scoped>\n",
       "    .dataframe tbody tr th:only-of-type {\n",
       "        vertical-align: middle;\n",
       "    }\n",
       "\n",
       "    .dataframe tbody tr th {\n",
       "        vertical-align: top;\n",
       "    }\n",
       "\n",
       "    .dataframe thead th {\n",
       "        text-align: right;\n",
       "    }\n",
       "</style>\n",
       "<table border=\"1\" class=\"dataframe\">\n",
       "  <thead>\n",
       "    <tr style=\"text-align: right;\">\n",
       "      <th></th>\n",
       "      <th>Unnamed: 0</th>\n",
       "      <th>file</th>\n",
       "      <th>start_time</th>\n",
       "      <th>end_time</th>\n",
       "      <th>SAMPLING RATE</th>\n",
       "      <th>MANUAL ID</th>\n",
       "      <th>filename</th>\n",
       "    </tr>\n",
       "  </thead>\n",
       "  <tbody>\n",
       "    <tr>\n",
       "      <th>0</th>\n",
       "      <td>0</td>\n",
       "      <td>D:/open_soundscape_files/./Cosmos_data/Testing...</td>\n",
       "      <td>0.0</td>\n",
       "      <td>3.0</td>\n",
       "      <td>44100</td>\n",
       "      <td>Celeus grammicus</td>\n",
       "      <td>XC87449 - Scaly-breasted Woodpecker - Celeus g...</td>\n",
       "    </tr>\n",
       "    <tr>\n",
       "      <th>1</th>\n",
       "      <td>1</td>\n",
       "      <td>D:/open_soundscape_files/./Cosmos_data/Testing...</td>\n",
       "      <td>3.0</td>\n",
       "      <td>6.0</td>\n",
       "      <td>44100</td>\n",
       "      <td>Celeus grammicus</td>\n",
       "      <td>XC87449 - Scaly-breasted Woodpecker - Celeus g...</td>\n",
       "    </tr>\n",
       "    <tr>\n",
       "      <th>2</th>\n",
       "      <td>2</td>\n",
       "      <td>D:/open_soundscape_files/./Cosmos_data/Testing...</td>\n",
       "      <td>6.0</td>\n",
       "      <td>9.0</td>\n",
       "      <td>44100</td>\n",
       "      <td>no bird</td>\n",
       "      <td>XC87449 - Scaly-breasted Woodpecker - Celeus g...</td>\n",
       "    </tr>\n",
       "    <tr>\n",
       "      <th>3</th>\n",
       "      <td>3</td>\n",
       "      <td>D:/open_soundscape_files/./Cosmos_data/Testing...</td>\n",
       "      <td>9.0</td>\n",
       "      <td>12.0</td>\n",
       "      <td>44100</td>\n",
       "      <td>Celeus grammicus</td>\n",
       "      <td>XC87449 - Scaly-breasted Woodpecker - Celeus g...</td>\n",
       "    </tr>\n",
       "    <tr>\n",
       "      <th>4</th>\n",
       "      <td>4</td>\n",
       "      <td>D:/open_soundscape_files/./Cosmos_data/Testing...</td>\n",
       "      <td>12.0</td>\n",
       "      <td>15.0</td>\n",
       "      <td>44100</td>\n",
       "      <td>Celeus grammicus</td>\n",
       "      <td>XC87449 - Scaly-breasted Woodpecker - Celeus g...</td>\n",
       "    </tr>\n",
       "    <tr>\n",
       "      <th>...</th>\n",
       "      <td>...</td>\n",
       "      <td>...</td>\n",
       "      <td>...</td>\n",
       "      <td>...</td>\n",
       "      <td>...</td>\n",
       "      <td>...</td>\n",
       "      <td>...</td>\n",
       "    </tr>\n",
       "    <tr>\n",
       "      <th>6432</th>\n",
       "      <td>6432</td>\n",
       "      <td>D:/open_soundscape_files/./Cosmos_data/Testing...</td>\n",
       "      <td>15.0</td>\n",
       "      <td>18.0</td>\n",
       "      <td>44100</td>\n",
       "      <td>Tolmomyias sulphurescens</td>\n",
       "      <td>XC27942 - Yellow-olive Flatbill - Tolmomyias s...</td>\n",
       "    </tr>\n",
       "    <tr>\n",
       "      <th>6433</th>\n",
       "      <td>6433</td>\n",
       "      <td>D:/open_soundscape_files/./Cosmos_data/Testing...</td>\n",
       "      <td>18.0</td>\n",
       "      <td>21.0</td>\n",
       "      <td>44100</td>\n",
       "      <td>no bird</td>\n",
       "      <td>XC27942 - Yellow-olive Flatbill - Tolmomyias s...</td>\n",
       "    </tr>\n",
       "    <tr>\n",
       "      <th>6434</th>\n",
       "      <td>6434</td>\n",
       "      <td>D:/open_soundscape_files/./Cosmos_data/Testing...</td>\n",
       "      <td>21.0</td>\n",
       "      <td>24.0</td>\n",
       "      <td>44100</td>\n",
       "      <td>Tolmomyias sulphurescens</td>\n",
       "      <td>XC27942 - Yellow-olive Flatbill - Tolmomyias s...</td>\n",
       "    </tr>\n",
       "    <tr>\n",
       "      <th>6435</th>\n",
       "      <td>6435</td>\n",
       "      <td>D:/open_soundscape_files/./Cosmos_data/Testing...</td>\n",
       "      <td>24.0</td>\n",
       "      <td>27.0</td>\n",
       "      <td>44100</td>\n",
       "      <td>Tolmomyias sulphurescens</td>\n",
       "      <td>XC27942 - Yellow-olive Flatbill - Tolmomyias s...</td>\n",
       "    </tr>\n",
       "    <tr>\n",
       "      <th>6436</th>\n",
       "      <td>6436</td>\n",
       "      <td>D:/open_soundscape_files/./Cosmos_data/Testing...</td>\n",
       "      <td>27.0</td>\n",
       "      <td>30.0</td>\n",
       "      <td>44100</td>\n",
       "      <td>no bird</td>\n",
       "      <td>XC27942 - Yellow-olive Flatbill - Tolmomyias s...</td>\n",
       "    </tr>\n",
       "  </tbody>\n",
       "</table>\n",
       "<p>6437 rows × 7 columns</p>\n",
       "</div>"
      ],
      "text/plain": [
       "      Unnamed: 0                                               file  \\\n",
       "0              0  D:/open_soundscape_files/./Cosmos_data/Testing...   \n",
       "1              1  D:/open_soundscape_files/./Cosmos_data/Testing...   \n",
       "2              2  D:/open_soundscape_files/./Cosmos_data/Testing...   \n",
       "3              3  D:/open_soundscape_files/./Cosmos_data/Testing...   \n",
       "4              4  D:/open_soundscape_files/./Cosmos_data/Testing...   \n",
       "...          ...                                                ...   \n",
       "6432        6432  D:/open_soundscape_files/./Cosmos_data/Testing...   \n",
       "6433        6433  D:/open_soundscape_files/./Cosmos_data/Testing...   \n",
       "6434        6434  D:/open_soundscape_files/./Cosmos_data/Testing...   \n",
       "6435        6435  D:/open_soundscape_files/./Cosmos_data/Testing...   \n",
       "6436        6436  D:/open_soundscape_files/./Cosmos_data/Testing...   \n",
       "\n",
       "      start_time  end_time  SAMPLING RATE                 MANUAL ID  \\\n",
       "0            0.0       3.0          44100          Celeus grammicus   \n",
       "1            3.0       6.0          44100          Celeus grammicus   \n",
       "2            6.0       9.0          44100                   no bird   \n",
       "3            9.0      12.0          44100          Celeus grammicus   \n",
       "4           12.0      15.0          44100          Celeus grammicus   \n",
       "...          ...       ...            ...                       ...   \n",
       "6432        15.0      18.0          44100  Tolmomyias sulphurescens   \n",
       "6433        18.0      21.0          44100                   no bird   \n",
       "6434        21.0      24.0          44100  Tolmomyias sulphurescens   \n",
       "6435        24.0      27.0          44100  Tolmomyias sulphurescens   \n",
       "6436        27.0      30.0          44100                   no bird   \n",
       "\n",
       "                                               filename  \n",
       "0     XC87449 - Scaly-breasted Woodpecker - Celeus g...  \n",
       "1     XC87449 - Scaly-breasted Woodpecker - Celeus g...  \n",
       "2     XC87449 - Scaly-breasted Woodpecker - Celeus g...  \n",
       "3     XC87449 - Scaly-breasted Woodpecker - Celeus g...  \n",
       "4     XC87449 - Scaly-breasted Woodpecker - Celeus g...  \n",
       "...                                                 ...  \n",
       "6432  XC27942 - Yellow-olive Flatbill - Tolmomyias s...  \n",
       "6433  XC27942 - Yellow-olive Flatbill - Tolmomyias s...  \n",
       "6434  XC27942 - Yellow-olive Flatbill - Tolmomyias s...  \n",
       "6435  XC27942 - Yellow-olive Flatbill - Tolmomyias s...  \n",
       "6436  XC27942 - Yellow-olive Flatbill - Tolmomyias s...  \n",
       "\n",
       "[6437 rows x 7 columns]"
      ]
     },
     "execution_count": 16,
     "metadata": {},
     "output_type": "execute_result"
    }
   ],
   "source": [
    "test_df"
   ]
  },
  {
   "cell_type": "code",
   "execution_count": 17,
   "id": "cf29e868",
   "metadata": {},
   "outputs": [],
   "source": [
    "#TODO FIX THIS\n",
    "species = classes = np.unique(test_df['MANUAL ID'])\n",
    "def fix_classes(label):\n",
    "    if (label==\"Absent\"):\n",
    "        return \"no bird\"\n",
    "    if (not label in species or label==\"Lipaugus vociferans\"):\n",
    "        return \"Delete\"\n",
    "    return label\n",
    "\n",
    "def fix_classes2(label):\n",
    "    if(label==\"bird\" or label==\"Bird\"):\n",
    "        return \"bird\"\n",
    "    if (label==\"Absent\" or label==\"No class of interest\"):\n",
    "        return \"no bird\"\n",
    "    if (not label in species or label==\"Lipaugus vociferans\"):\n",
    "        return \"Delete\"\n",
    "    return label\n",
    "\n",
    "\n",
    "train_val_df['MANUAL ID'] = train_val_df[\"MANUAL ID\"].apply(fix_classes)\n",
    "test_df['MANUAL ID'] = test_df[\"MANUAL ID\"].apply(fix_classes2)\n",
    "\n",
    "train_val_df = train_val_df[train_val_df[\"MANUAL ID\"] != \"Delete\"]\n",
    "test_df = test_df[test_df[\"MANUAL ID\"] != \"Delete\"]"
   ]
  },
  {
   "cell_type": "code",
   "execution_count": 18,
   "id": "257ef075",
   "metadata": {},
   "outputs": [
    {
     "data": {
      "text/plain": [
       "no bird                     14606\n",
       "Microcerculus marginatus    11100\n",
       "Zonotrichia capensis         9389\n",
       "Ramphastos tucanus           9267\n",
       "Turdus leucomelas            8592\n",
       "Tolmomyias sulphurescens     8123\n",
       "Xiphorhynchus guttatus       7110\n",
       "Trogon viridis               7038\n",
       "Myioborus miniatus           2516\n",
       "Thraupis episcopus           2289\n",
       "Celeus grammicus             1213\n",
       "Name: MANUAL ID, dtype: int64"
      ]
     },
     "execution_count": 18,
     "metadata": {},
     "output_type": "execute_result"
    }
   ],
   "source": [
    "train_val_df['MANUAL ID'].value_counts()"
   ]
  },
  {
   "cell_type": "code",
   "execution_count": 19,
   "id": "51cce099",
   "metadata": {},
   "outputs": [
    {
     "data": {
      "text/plain": [
       "81243"
      ]
     },
     "execution_count": 19,
     "metadata": {},
     "output_type": "execute_result"
    }
   ],
   "source": [
    "train_val_df['MANUAL ID'].value_counts().sum()"
   ]
  },
  {
   "cell_type": "code",
   "execution_count": 20,
   "id": "6952d68b",
   "metadata": {},
   "outputs": [
    {
     "data": {
      "text/plain": [
       "no bird                     1752\n",
       "bird                         954\n",
       "Ramphastos tucanus           552\n",
       "Turdus leucomelas            493\n",
       "Microcerculus marginatus     439\n",
       "Zonotrichia capensis         398\n",
       "Tolmomyias sulphurescens     368\n",
       "Trogon viridis               357\n",
       "Xiphorhynchus guttatus       335\n",
       "Myioborus miniatus           314\n",
       "Thraupis episcopus           248\n",
       "Celeus grammicus             224\n",
       "Name: MANUAL ID, dtype: int64"
      ]
     },
     "execution_count": 20,
     "metadata": {},
     "output_type": "execute_result"
    }
   ],
   "source": [
    "test_df['MANUAL ID'].value_counts()"
   ]
  },
  {
   "cell_type": "markdown",
   "id": "3c6cede4",
   "metadata": {},
   "source": [
    "### Changing species' names to a simpler version for convenience"
   ]
  },
  {
   "cell_type": "code",
   "execution_count": null,
   "id": "91fd70bd",
   "metadata": {},
   "outputs": [],
   "source": []
  },
  {
   "cell_type": "code",
   "execution_count": 21,
   "id": "aeb225ed",
   "metadata": {},
   "outputs": [],
   "source": [
    "#train_val_df.loc[train_val_df['MANUAL ID'].str.contains('Toucan'), 'MANUAL ID'] = test_df.loc[test_df['MANUAL ID'].str.contains('Toucan'), 'MANUAL ID'] = 'Toucan'\n",
    "#train_val_df.loc[train_val_df['MANUAL ID'].str.contains('Flycatcher'), 'MANUAL ID'] = 'Flycatcher'\n",
    "#train_val_df.loc[train_val_df['MANUAL ID'].str.contains('Thrush'), 'MANUAL ID'] = 'Thrush'\n",
    "#train_val_df.loc[train_val_df['MANUAL ID'].str.contains('Vireo'), 'MANUAL ID'] = test_df.loc[test_df['MANUAL ID'].str.contains('Vireo'), 'MANUAL ID'] = 'Vireo'\n",
    "#train_val_df.loc[train_val_df['MANUAL ID'].str.contains('Antwren'), 'MANUAL ID'] = test_df.loc[test_df['MANUAL ID'].str.contains('Antwren'), 'MANUAL ID'] = 'Antwren'\n",
    "#train_val_df.loc[train_val_df['MANUAL ID'].str.contains('Tanager'), 'MANUAL ID'] = test_df.loc[test_df['MANUAL ID'].str.contains('Tanager'), 'MANUAL ID'] = 'Tanager'\n",
    "#train_val_df.loc[train_val_df['MANUAL ID'].str.contains('Kingbird'), 'MANUAL ID'] = test_df.loc[test_df['MANUAL ID'].str.contains('Kingbird'), 'MANUAL ID'] = 'Kingbird'\n",
    "#train_val_df.loc[train_val_df['MANUAL ID'].str.contains('Tody-Tyrant'), 'MANUAL ID'] = test_df.loc[test_df['MANUAL ID'].str.contains('Tody-Tyrant'), 'MANUAL ID'] = 'Tody-Tyrant'\n",
    "#train_val_df.loc[train_val_df['MANUAL ID'].str.contains('Hummingbird'), 'MANUAL ID'] = test_df.loc[test_df['MANUAL ID'].str.contains('Hummingbird'), 'MANUAL ID'] = 'Hummingbird'\n",
    "#train_val_df.loc[train_val_df['MANUAL ID'].str.contains('Antshrike'), 'MANUAL ID'] = test_df.loc[test_df['MANUAL ID'].str.contains('Antshrike'), 'MANUAL ID'] = 'Antshrike'"
   ]
  },
  {
   "cell_type": "code",
   "execution_count": 22,
   "id": "2aca7ca0",
   "metadata": {},
   "outputs": [],
   "source": [
    "other_bird = train_val_df[~(train_val_df[\"MANUAL ID\"].isin(classes))]\n",
    "other_bird[\"MANUAL ID\"] = \"bird\""
   ]
  },
  {
   "cell_type": "markdown",
   "id": "b312dd50",
   "metadata": {},
   "source": [
    "### Remove rows from dataframes which are not the species of our interest"
   ]
  },
  {
   "cell_type": "code",
   "execution_count": 23,
   "id": "e048aaa1",
   "metadata": {},
   "outputs": [
    {
     "name": "stdout",
     "output_type": "stream",
     "text": [
      "Classwise Counts for train/val data:\n",
      "no bird                     14606\n",
      "Microcerculus marginatus    11100\n",
      "Zonotrichia capensis         9389\n",
      "Ramphastos tucanus           9267\n",
      "Turdus leucomelas            8592\n",
      "Tolmomyias sulphurescens     8123\n",
      "Xiphorhynchus guttatus       7110\n",
      "Trogon viridis               7038\n",
      "Myioborus miniatus           2516\n",
      "Thraupis episcopus           2289\n",
      "Celeus grammicus             1213\n",
      "Name: MANUAL ID, dtype: int64\n",
      "\n",
      "Classwise  Counts for test data:\n",
      "no bird                     1752\n",
      "bird                         954\n",
      "Ramphastos tucanus           552\n",
      "Turdus leucomelas            493\n",
      "Microcerculus marginatus     439\n",
      "Zonotrichia capensis         398\n",
      "Tolmomyias sulphurescens     368\n",
      "Trogon viridis               357\n",
      "Xiphorhynchus guttatus       335\n",
      "Myioborus miniatus           314\n",
      "Thraupis episcopus           248\n",
      "Celeus grammicus             224\n",
      "Name: MANUAL ID, dtype: int64\n"
     ]
    }
   ],
   "source": [
    "classes = np.unique(test_df['MANUAL ID'])#[\"Zonotrichia capensis\", \"other\", \"bird\"] ##['Antwren', 'Antshrike', 'Toucan', 'Vireo', 'Kingbird', 'Tody-Tyrant', 'None']\n",
    "train_val_df[~(train_val_df[\"MANUAL ID\"].isin(classes))][\"MANUAL ID\"] = \"bird\"\n",
    "train_val_df = train_val_df[train_val_df[\"MANUAL ID\"].isin(classes)]\n",
    "train_val_df = train_val_df.append(other_bird)\n",
    "test_df = test_df[test_df[\"MANUAL ID\"].isin(classes)]\n",
    "print('Classwise Counts for train/val data:')\n",
    "print(train_val_df['MANUAL ID'].value_counts())\n",
    "print('\\nClasswise  Counts for test data:')\n",
    "print(test_df['MANUAL ID'].value_counts())"
   ]
  },
  {
   "cell_type": "markdown",
   "id": "8304174f",
   "metadata": {},
   "source": [
    "### Convert the train/val and test data to one-hot representations of the classes"
   ]
  },
  {
   "cell_type": "code",
   "execution_count": 24,
   "id": "fd08b116",
   "metadata": {},
   "outputs": [],
   "source": [
    "# Train/val\n",
    "one_hot_labels, train_classes = categorical_to_one_hot(train_val_df[['MANUAL ID']].values)\n",
    "train_val_df = pd.DataFrame(index=train_val_df['file'],data=one_hot_labels,columns=train_classes)\n",
    "\n",
    "# Test\n",
    "one_hot_labels, test_classes = categorical_to_one_hot(test_df[['MANUAL ID']].values)\n",
    "test_df = pd.DataFrame(index=test_df['file'],data=one_hot_labels,columns=test_classes)"
   ]
  },
  {
   "cell_type": "code",
   "execution_count": 25,
   "id": "80a07624",
   "metadata": {},
   "outputs": [
    {
     "data": {
      "text/html": [
       "<div>\n",
       "<style scoped>\n",
       "    .dataframe tbody tr th:only-of-type {\n",
       "        vertical-align: middle;\n",
       "    }\n",
       "\n",
       "    .dataframe tbody tr th {\n",
       "        vertical-align: top;\n",
       "    }\n",
       "\n",
       "    .dataframe thead th {\n",
       "        text-align: right;\n",
       "    }\n",
       "</style>\n",
       "<table border=\"1\" class=\"dataframe\">\n",
       "  <thead>\n",
       "    <tr style=\"text-align: right;\">\n",
       "      <th></th>\n",
       "      <th>Microcerculus marginatus</th>\n",
       "      <th>Myioborus miniatus</th>\n",
       "      <th>Thraupis episcopus</th>\n",
       "      <th>bird</th>\n",
       "      <th>Ramphastos tucanus</th>\n",
       "      <th>Xiphorhynchus guttatus</th>\n",
       "      <th>no bird</th>\n",
       "      <th>Celeus grammicus</th>\n",
       "      <th>Zonotrichia capensis</th>\n",
       "      <th>Trogon viridis</th>\n",
       "      <th>Turdus leucomelas</th>\n",
       "      <th>Tolmomyias sulphurescens</th>\n",
       "    </tr>\n",
       "    <tr>\n",
       "      <th>file</th>\n",
       "      <th></th>\n",
       "      <th></th>\n",
       "      <th></th>\n",
       "      <th></th>\n",
       "      <th></th>\n",
       "      <th></th>\n",
       "      <th></th>\n",
       "      <th></th>\n",
       "      <th></th>\n",
       "      <th></th>\n",
       "      <th></th>\n",
       "      <th></th>\n",
       "    </tr>\n",
       "  </thead>\n",
       "  <tbody>\n",
       "    <tr>\n",
       "      <th>D:/open_soundscape_files/./Cosmos_data/Testing/XC87449 - Scaly-breasted Woodpecker - Celeus grammicus subcervinus_0.0.wav</th>\n",
       "      <td>0</td>\n",
       "      <td>0</td>\n",
       "      <td>0</td>\n",
       "      <td>0</td>\n",
       "      <td>0</td>\n",
       "      <td>0</td>\n",
       "      <td>0</td>\n",
       "      <td>1</td>\n",
       "      <td>0</td>\n",
       "      <td>0</td>\n",
       "      <td>0</td>\n",
       "      <td>0</td>\n",
       "    </tr>\n",
       "    <tr>\n",
       "      <th>D:/open_soundscape_files/./Cosmos_data/Testing/XC87449 - Scaly-breasted Woodpecker - Celeus grammicus subcervinus_3.0.wav</th>\n",
       "      <td>0</td>\n",
       "      <td>0</td>\n",
       "      <td>0</td>\n",
       "      <td>0</td>\n",
       "      <td>0</td>\n",
       "      <td>0</td>\n",
       "      <td>0</td>\n",
       "      <td>1</td>\n",
       "      <td>0</td>\n",
       "      <td>0</td>\n",
       "      <td>0</td>\n",
       "      <td>0</td>\n",
       "    </tr>\n",
       "    <tr>\n",
       "      <th>D:/open_soundscape_files/./Cosmos_data/Testing/XC87449 - Scaly-breasted Woodpecker - Celeus grammicus subcervinus_6.0.wav</th>\n",
       "      <td>0</td>\n",
       "      <td>0</td>\n",
       "      <td>0</td>\n",
       "      <td>0</td>\n",
       "      <td>0</td>\n",
       "      <td>0</td>\n",
       "      <td>1</td>\n",
       "      <td>0</td>\n",
       "      <td>0</td>\n",
       "      <td>0</td>\n",
       "      <td>0</td>\n",
       "      <td>0</td>\n",
       "    </tr>\n",
       "    <tr>\n",
       "      <th>D:/open_soundscape_files/./Cosmos_data/Testing/XC87449 - Scaly-breasted Woodpecker - Celeus grammicus subcervinus_9.0.wav</th>\n",
       "      <td>0</td>\n",
       "      <td>0</td>\n",
       "      <td>0</td>\n",
       "      <td>0</td>\n",
       "      <td>0</td>\n",
       "      <td>0</td>\n",
       "      <td>0</td>\n",
       "      <td>1</td>\n",
       "      <td>0</td>\n",
       "      <td>0</td>\n",
       "      <td>0</td>\n",
       "      <td>0</td>\n",
       "    </tr>\n",
       "    <tr>\n",
       "      <th>D:/open_soundscape_files/./Cosmos_data/Testing/XC87449 - Scaly-breasted Woodpecker - Celeus grammicus subcervinus_12.0.wav</th>\n",
       "      <td>0</td>\n",
       "      <td>0</td>\n",
       "      <td>0</td>\n",
       "      <td>0</td>\n",
       "      <td>0</td>\n",
       "      <td>0</td>\n",
       "      <td>0</td>\n",
       "      <td>1</td>\n",
       "      <td>0</td>\n",
       "      <td>0</td>\n",
       "      <td>0</td>\n",
       "      <td>0</td>\n",
       "    </tr>\n",
       "    <tr>\n",
       "      <th>...</th>\n",
       "      <td>...</td>\n",
       "      <td>...</td>\n",
       "      <td>...</td>\n",
       "      <td>...</td>\n",
       "      <td>...</td>\n",
       "      <td>...</td>\n",
       "      <td>...</td>\n",
       "      <td>...</td>\n",
       "      <td>...</td>\n",
       "      <td>...</td>\n",
       "      <td>...</td>\n",
       "      <td>...</td>\n",
       "    </tr>\n",
       "    <tr>\n",
       "      <th>D:/open_soundscape_files/./Cosmos_data/Testing/XC27942 - Yellow-olive Flatbill - Tolmomyias sulphurescens_15.0.wav</th>\n",
       "      <td>0</td>\n",
       "      <td>0</td>\n",
       "      <td>0</td>\n",
       "      <td>0</td>\n",
       "      <td>0</td>\n",
       "      <td>0</td>\n",
       "      <td>0</td>\n",
       "      <td>0</td>\n",
       "      <td>0</td>\n",
       "      <td>0</td>\n",
       "      <td>0</td>\n",
       "      <td>1</td>\n",
       "    </tr>\n",
       "    <tr>\n",
       "      <th>D:/open_soundscape_files/./Cosmos_data/Testing/XC27942 - Yellow-olive Flatbill - Tolmomyias sulphurescens_18.0.wav</th>\n",
       "      <td>0</td>\n",
       "      <td>0</td>\n",
       "      <td>0</td>\n",
       "      <td>0</td>\n",
       "      <td>0</td>\n",
       "      <td>0</td>\n",
       "      <td>1</td>\n",
       "      <td>0</td>\n",
       "      <td>0</td>\n",
       "      <td>0</td>\n",
       "      <td>0</td>\n",
       "      <td>0</td>\n",
       "    </tr>\n",
       "    <tr>\n",
       "      <th>D:/open_soundscape_files/./Cosmos_data/Testing/XC27942 - Yellow-olive Flatbill - Tolmomyias sulphurescens_21.0.wav</th>\n",
       "      <td>0</td>\n",
       "      <td>0</td>\n",
       "      <td>0</td>\n",
       "      <td>0</td>\n",
       "      <td>0</td>\n",
       "      <td>0</td>\n",
       "      <td>0</td>\n",
       "      <td>0</td>\n",
       "      <td>0</td>\n",
       "      <td>0</td>\n",
       "      <td>0</td>\n",
       "      <td>1</td>\n",
       "    </tr>\n",
       "    <tr>\n",
       "      <th>D:/open_soundscape_files/./Cosmos_data/Testing/XC27942 - Yellow-olive Flatbill - Tolmomyias sulphurescens_24.0.wav</th>\n",
       "      <td>0</td>\n",
       "      <td>0</td>\n",
       "      <td>0</td>\n",
       "      <td>0</td>\n",
       "      <td>0</td>\n",
       "      <td>0</td>\n",
       "      <td>0</td>\n",
       "      <td>0</td>\n",
       "      <td>0</td>\n",
       "      <td>0</td>\n",
       "      <td>0</td>\n",
       "      <td>1</td>\n",
       "    </tr>\n",
       "    <tr>\n",
       "      <th>D:/open_soundscape_files/./Cosmos_data/Testing/XC27942 - Yellow-olive Flatbill - Tolmomyias sulphurescens_27.0.wav</th>\n",
       "      <td>0</td>\n",
       "      <td>0</td>\n",
       "      <td>0</td>\n",
       "      <td>0</td>\n",
       "      <td>0</td>\n",
       "      <td>0</td>\n",
       "      <td>1</td>\n",
       "      <td>0</td>\n",
       "      <td>0</td>\n",
       "      <td>0</td>\n",
       "      <td>0</td>\n",
       "      <td>0</td>\n",
       "    </tr>\n",
       "  </tbody>\n",
       "</table>\n",
       "<p>6434 rows × 12 columns</p>\n",
       "</div>"
      ],
      "text/plain": [
       "                                                    Microcerculus marginatus  \\\n",
       "file                                                                           \n",
       "D:/open_soundscape_files/./Cosmos_data/Testing/...                         0   \n",
       "D:/open_soundscape_files/./Cosmos_data/Testing/...                         0   \n",
       "D:/open_soundscape_files/./Cosmos_data/Testing/...                         0   \n",
       "D:/open_soundscape_files/./Cosmos_data/Testing/...                         0   \n",
       "D:/open_soundscape_files/./Cosmos_data/Testing/...                         0   \n",
       "...                                                                      ...   \n",
       "D:/open_soundscape_files/./Cosmos_data/Testing/...                         0   \n",
       "D:/open_soundscape_files/./Cosmos_data/Testing/...                         0   \n",
       "D:/open_soundscape_files/./Cosmos_data/Testing/...                         0   \n",
       "D:/open_soundscape_files/./Cosmos_data/Testing/...                         0   \n",
       "D:/open_soundscape_files/./Cosmos_data/Testing/...                         0   \n",
       "\n",
       "                                                    Myioborus miniatus  \\\n",
       "file                                                                     \n",
       "D:/open_soundscape_files/./Cosmos_data/Testing/...                   0   \n",
       "D:/open_soundscape_files/./Cosmos_data/Testing/...                   0   \n",
       "D:/open_soundscape_files/./Cosmos_data/Testing/...                   0   \n",
       "D:/open_soundscape_files/./Cosmos_data/Testing/...                   0   \n",
       "D:/open_soundscape_files/./Cosmos_data/Testing/...                   0   \n",
       "...                                                                ...   \n",
       "D:/open_soundscape_files/./Cosmos_data/Testing/...                   0   \n",
       "D:/open_soundscape_files/./Cosmos_data/Testing/...                   0   \n",
       "D:/open_soundscape_files/./Cosmos_data/Testing/...                   0   \n",
       "D:/open_soundscape_files/./Cosmos_data/Testing/...                   0   \n",
       "D:/open_soundscape_files/./Cosmos_data/Testing/...                   0   \n",
       "\n",
       "                                                    Thraupis episcopus  bird  \\\n",
       "file                                                                           \n",
       "D:/open_soundscape_files/./Cosmos_data/Testing/...                   0     0   \n",
       "D:/open_soundscape_files/./Cosmos_data/Testing/...                   0     0   \n",
       "D:/open_soundscape_files/./Cosmos_data/Testing/...                   0     0   \n",
       "D:/open_soundscape_files/./Cosmos_data/Testing/...                   0     0   \n",
       "D:/open_soundscape_files/./Cosmos_data/Testing/...                   0     0   \n",
       "...                                                                ...   ...   \n",
       "D:/open_soundscape_files/./Cosmos_data/Testing/...                   0     0   \n",
       "D:/open_soundscape_files/./Cosmos_data/Testing/...                   0     0   \n",
       "D:/open_soundscape_files/./Cosmos_data/Testing/...                   0     0   \n",
       "D:/open_soundscape_files/./Cosmos_data/Testing/...                   0     0   \n",
       "D:/open_soundscape_files/./Cosmos_data/Testing/...                   0     0   \n",
       "\n",
       "                                                    Ramphastos tucanus  \\\n",
       "file                                                                     \n",
       "D:/open_soundscape_files/./Cosmos_data/Testing/...                   0   \n",
       "D:/open_soundscape_files/./Cosmos_data/Testing/...                   0   \n",
       "D:/open_soundscape_files/./Cosmos_data/Testing/...                   0   \n",
       "D:/open_soundscape_files/./Cosmos_data/Testing/...                   0   \n",
       "D:/open_soundscape_files/./Cosmos_data/Testing/...                   0   \n",
       "...                                                                ...   \n",
       "D:/open_soundscape_files/./Cosmos_data/Testing/...                   0   \n",
       "D:/open_soundscape_files/./Cosmos_data/Testing/...                   0   \n",
       "D:/open_soundscape_files/./Cosmos_data/Testing/...                   0   \n",
       "D:/open_soundscape_files/./Cosmos_data/Testing/...                   0   \n",
       "D:/open_soundscape_files/./Cosmos_data/Testing/...                   0   \n",
       "\n",
       "                                                    Xiphorhynchus guttatus  \\\n",
       "file                                                                         \n",
       "D:/open_soundscape_files/./Cosmos_data/Testing/...                       0   \n",
       "D:/open_soundscape_files/./Cosmos_data/Testing/...                       0   \n",
       "D:/open_soundscape_files/./Cosmos_data/Testing/...                       0   \n",
       "D:/open_soundscape_files/./Cosmos_data/Testing/...                       0   \n",
       "D:/open_soundscape_files/./Cosmos_data/Testing/...                       0   \n",
       "...                                                                    ...   \n",
       "D:/open_soundscape_files/./Cosmos_data/Testing/...                       0   \n",
       "D:/open_soundscape_files/./Cosmos_data/Testing/...                       0   \n",
       "D:/open_soundscape_files/./Cosmos_data/Testing/...                       0   \n",
       "D:/open_soundscape_files/./Cosmos_data/Testing/...                       0   \n",
       "D:/open_soundscape_files/./Cosmos_data/Testing/...                       0   \n",
       "\n",
       "                                                    no bird  Celeus grammicus  \\\n",
       "file                                                                            \n",
       "D:/open_soundscape_files/./Cosmos_data/Testing/...        0                 1   \n",
       "D:/open_soundscape_files/./Cosmos_data/Testing/...        0                 1   \n",
       "D:/open_soundscape_files/./Cosmos_data/Testing/...        1                 0   \n",
       "D:/open_soundscape_files/./Cosmos_data/Testing/...        0                 1   \n",
       "D:/open_soundscape_files/./Cosmos_data/Testing/...        0                 1   \n",
       "...                                                     ...               ...   \n",
       "D:/open_soundscape_files/./Cosmos_data/Testing/...        0                 0   \n",
       "D:/open_soundscape_files/./Cosmos_data/Testing/...        1                 0   \n",
       "D:/open_soundscape_files/./Cosmos_data/Testing/...        0                 0   \n",
       "D:/open_soundscape_files/./Cosmos_data/Testing/...        0                 0   \n",
       "D:/open_soundscape_files/./Cosmos_data/Testing/...        1                 0   \n",
       "\n",
       "                                                    Zonotrichia capensis  \\\n",
       "file                                                                       \n",
       "D:/open_soundscape_files/./Cosmos_data/Testing/...                     0   \n",
       "D:/open_soundscape_files/./Cosmos_data/Testing/...                     0   \n",
       "D:/open_soundscape_files/./Cosmos_data/Testing/...                     0   \n",
       "D:/open_soundscape_files/./Cosmos_data/Testing/...                     0   \n",
       "D:/open_soundscape_files/./Cosmos_data/Testing/...                     0   \n",
       "...                                                                  ...   \n",
       "D:/open_soundscape_files/./Cosmos_data/Testing/...                     0   \n",
       "D:/open_soundscape_files/./Cosmos_data/Testing/...                     0   \n",
       "D:/open_soundscape_files/./Cosmos_data/Testing/...                     0   \n",
       "D:/open_soundscape_files/./Cosmos_data/Testing/...                     0   \n",
       "D:/open_soundscape_files/./Cosmos_data/Testing/...                     0   \n",
       "\n",
       "                                                    Trogon viridis  \\\n",
       "file                                                                 \n",
       "D:/open_soundscape_files/./Cosmos_data/Testing/...               0   \n",
       "D:/open_soundscape_files/./Cosmos_data/Testing/...               0   \n",
       "D:/open_soundscape_files/./Cosmos_data/Testing/...               0   \n",
       "D:/open_soundscape_files/./Cosmos_data/Testing/...               0   \n",
       "D:/open_soundscape_files/./Cosmos_data/Testing/...               0   \n",
       "...                                                            ...   \n",
       "D:/open_soundscape_files/./Cosmos_data/Testing/...               0   \n",
       "D:/open_soundscape_files/./Cosmos_data/Testing/...               0   \n",
       "D:/open_soundscape_files/./Cosmos_data/Testing/...               0   \n",
       "D:/open_soundscape_files/./Cosmos_data/Testing/...               0   \n",
       "D:/open_soundscape_files/./Cosmos_data/Testing/...               0   \n",
       "\n",
       "                                                    Turdus leucomelas  \\\n",
       "file                                                                    \n",
       "D:/open_soundscape_files/./Cosmos_data/Testing/...                  0   \n",
       "D:/open_soundscape_files/./Cosmos_data/Testing/...                  0   \n",
       "D:/open_soundscape_files/./Cosmos_data/Testing/...                  0   \n",
       "D:/open_soundscape_files/./Cosmos_data/Testing/...                  0   \n",
       "D:/open_soundscape_files/./Cosmos_data/Testing/...                  0   \n",
       "...                                                               ...   \n",
       "D:/open_soundscape_files/./Cosmos_data/Testing/...                  0   \n",
       "D:/open_soundscape_files/./Cosmos_data/Testing/...                  0   \n",
       "D:/open_soundscape_files/./Cosmos_data/Testing/...                  0   \n",
       "D:/open_soundscape_files/./Cosmos_data/Testing/...                  0   \n",
       "D:/open_soundscape_files/./Cosmos_data/Testing/...                  0   \n",
       "\n",
       "                                                    Tolmomyias sulphurescens  \n",
       "file                                                                          \n",
       "D:/open_soundscape_files/./Cosmos_data/Testing/...                         0  \n",
       "D:/open_soundscape_files/./Cosmos_data/Testing/...                         0  \n",
       "D:/open_soundscape_files/./Cosmos_data/Testing/...                         0  \n",
       "D:/open_soundscape_files/./Cosmos_data/Testing/...                         0  \n",
       "D:/open_soundscape_files/./Cosmos_data/Testing/...                         0  \n",
       "...                                                                      ...  \n",
       "D:/open_soundscape_files/./Cosmos_data/Testing/...                         1  \n",
       "D:/open_soundscape_files/./Cosmos_data/Testing/...                         0  \n",
       "D:/open_soundscape_files/./Cosmos_data/Testing/...                         1  \n",
       "D:/open_soundscape_files/./Cosmos_data/Testing/...                         1  \n",
       "D:/open_soundscape_files/./Cosmos_data/Testing/...                         0  \n",
       "\n",
       "[6434 rows x 12 columns]"
      ]
     },
     "execution_count": 25,
     "metadata": {},
     "output_type": "execute_result"
    }
   ],
   "source": [
    "test_df"
   ]
  },
  {
   "cell_type": "markdown",
   "id": "52e30606",
   "metadata": {},
   "source": [
    "### Split the trainining/validation dataframe into training and validation sets"
   ]
  },
  {
   "cell_type": "code",
   "execution_count": 26,
   "id": "ec470fad",
   "metadata": {},
   "outputs": [],
   "source": [
    "train_df, valid_df = train_test_split(train_val_df, test_size=0.2, random_state=42)"
   ]
  },
  {
   "cell_type": "code",
   "execution_count": 27,
   "id": "215adf91",
   "metadata": {},
   "outputs": [
    {
     "name": "stdout",
     "output_type": "stream",
     "text": [
      "Number of training examples :  64994\n",
      "Number of validation examples :  16249\n",
      "Number of test examples :  6434\n"
     ]
    }
   ],
   "source": [
    "print(\"Number of training examples : \", train_df.shape[0])\n",
    "print(\"Number of validation examples : \", valid_df.shape[0])\n",
    "print(\"Number of test examples : \", test_df.shape[0])"
   ]
  },
  {
   "cell_type": "markdown",
   "id": "4b52c4d4",
   "metadata": {},
   "source": [
    "### Prepare the training and validation set for the CNN model"
   ]
  },
  {
   "cell_type": "code",
   "execution_count": 28,
   "id": "5796758b-3169-4cb7-ad5f-072bbd79e1e2",
   "metadata": {},
   "outputs": [],
   "source": [
    "train_dataset = CnnPreprocessor(df=train_df)\n",
    "train_dataset.augmentation_on()\n",
    "train_dataset.actions.load_audio.set(sample_rate=44100)\n",
    "valid_dataset = CnnPreprocessor(df=valid_df)\n",
    "valid_dataset.augmentation_on()\n",
    "valid_dataset.actions.load_audio.set(sample_rate=44100)"
   ]
  },
  {
   "cell_type": "code",
   "execution_count": 29,
   "id": "55b252b1",
   "metadata": {},
   "outputs": [
    {
     "data": {
      "text/plain": [
       "['BCEWithLogitsLoss_hot',\n",
       " 'BaseModule',\n",
       " 'CnnResampleLoss',\n",
       " 'CrossEntropyLoss_hot',\n",
       " 'F',\n",
       " 'InceptionV3',\n",
       " 'InceptionV3ResampleLoss',\n",
       " 'OrderedDict',\n",
       " 'Path',\n",
       " 'PytorchModel',\n",
       " 'ResampleLoss',\n",
       " 'Resnet18Binary',\n",
       " 'Resnet18Multiclass',\n",
       " 'SafeDataset',\n",
       " '__builtins__',\n",
       " '__cached__',\n",
       " '__doc__',\n",
       " '__file__',\n",
       " '__loader__',\n",
       " '__name__',\n",
       " '__package__',\n",
       " '__spec__',\n",
       " 'apply_activation_layer',\n",
       " 'binary_metrics',\n",
       " 'cnn_architectures',\n",
       " 'collate_lists_of_audio_clips',\n",
       " 'datetime',\n",
       " 'deprecated',\n",
       " 'get_batch',\n",
       " 'get_dataloader',\n",
       " 'hamming_loss',\n",
       " 'jaccard_score',\n",
       " 'load_model',\n",
       " 'load_outdated_model',\n",
       " 'multiclass_metrics',\n",
       " 'np',\n",
       " 'opensoundscape',\n",
       " 'optim',\n",
       " 'os',\n",
       " 'pd',\n",
       " 'precision_recall_fscore_support',\n",
       " 'random',\n",
       " 'tensor_binary_predictions',\n",
       " 'torch',\n",
       " 'warnings']"
      ]
     },
     "execution_count": 29,
     "metadata": {},
     "output_type": "execute_result"
    }
   ],
   "source": [
    "dir(cnn)"
   ]
  },
  {
   "cell_type": "markdown",
   "id": "36085bd6",
   "metadata": {},
   "source": [
    "### Create the Resnet-18 Multiclass model and train it"
   ]
  },
  {
   "cell_type": "code",
   "execution_count": 30,
   "id": "4571ff19",
   "metadata": {},
   "outputs": [
    {
     "data": {
      "text/plain": [
       "['Microcerculus marginatus',\n",
       " 'Myioborus miniatus',\n",
       " 'Thraupis episcopus',\n",
       " 'Ramphastos tucanus',\n",
       " 'Xiphorhynchus guttatus',\n",
       " 'no bird',\n",
       " 'Celeus grammicus',\n",
       " 'Zonotrichia capensis',\n",
       " 'Trogon viridis',\n",
       " 'Turdus leucomelas',\n",
       " 'Tolmomyias sulphurescens']"
      ]
     },
     "execution_count": 30,
     "metadata": {},
     "output_type": "execute_result"
    }
   ],
   "source": [
    "train_classes"
   ]
  },
  {
   "cell_type": "code",
   "execution_count": 31,
   "id": "f45eadac-9474-4ffa-9bde-3f0d8236fb2c",
   "metadata": {},
   "outputs": [
    {
     "name": "stderr",
     "output_type": "stream",
     "text": [
      "C:\\Users\\Siloux\\.conda\\envs\\species-id\\lib\\site-packages\\torchvision\\models\\_utils.py:209: UserWarning: The parameter 'pretrained' is deprecated since 0.13 and will be removed in 0.15, please use 'weights' instead.\n",
      "  f\"The parameter '{pretrained_param}' is deprecated since 0.13 and will be removed in 0.15, \"\n",
      "C:\\Users\\Siloux\\.conda\\envs\\species-id\\lib\\site-packages\\torchvision\\models\\_utils.py:223: UserWarning: Arguments other than a weight enum or `None` for 'weights' are deprecated since 0.13 and will be removed in 0.15. The current behavior is equivalent to passing `weights=ResNet50_Weights.IMAGENET1K_V1`. You can also use `weights=ResNet50_Weights.DEFAULT` to get the most up-to-date weights.\n",
      "  warnings.warn(msg)\n"
     ]
    },
    {
     "name": "stdout",
     "output_type": "stream",
     "text": [
      "created PytorchModel model object with 11 classes\n"
     ]
    }
   ],
   "source": [
    "arch = cnn.cnn_architectures.resnet50(num_classes=len(train_classes))\n",
    "model = cnn.PytorchModel(arch,train_classes,single_target=False)\n",
    "\n",
    "#model = cnn.Resnet18Multiclass(train_classes)"
   ]
  },
  {
   "cell_type": "code",
   "execution_count": 32,
   "id": "54cbe0c5",
   "metadata": {},
   "outputs": [
    {
     "data": {
      "text/plain": [
       "['T_destination',\n",
       " '__annotations__',\n",
       " '__call__',\n",
       " '__class__',\n",
       " '__delattr__',\n",
       " '__dict__',\n",
       " '__dir__',\n",
       " '__doc__',\n",
       " '__eq__',\n",
       " '__format__',\n",
       " '__ge__',\n",
       " '__getattr__',\n",
       " '__getattribute__',\n",
       " '__gt__',\n",
       " '__hash__',\n",
       " '__init__',\n",
       " '__init_subclass__',\n",
       " '__le__',\n",
       " '__lt__',\n",
       " '__module__',\n",
       " '__ne__',\n",
       " '__new__',\n",
       " '__reduce__',\n",
       " '__reduce_ex__',\n",
       " '__repr__',\n",
       " '__setattr__',\n",
       " '__setstate__',\n",
       " '__sizeof__',\n",
       " '__str__',\n",
       " '__subclasshook__',\n",
       " '__weakref__',\n",
       " '_apply',\n",
       " '_backward_hooks',\n",
       " '_buffers',\n",
       " '_call_impl',\n",
       " '_forward_hooks',\n",
       " '_forward_impl',\n",
       " '_forward_pre_hooks',\n",
       " '_get_backward_hooks',\n",
       " '_get_name',\n",
       " '_is_full_backward_hook',\n",
       " '_load_from_state_dict',\n",
       " '_load_state_dict_post_hooks',\n",
       " '_load_state_dict_pre_hooks',\n",
       " '_make_layer',\n",
       " '_maybe_warn_non_full_backward_hook',\n",
       " '_modules',\n",
       " '_named_members',\n",
       " '_non_persistent_buffers_set',\n",
       " '_norm_layer',\n",
       " '_parameters',\n",
       " '_register_load_state_dict_pre_hook',\n",
       " '_register_state_dict_hook',\n",
       " '_replicate_for_data_parallel',\n",
       " '_save_to_state_dict',\n",
       " '_slow_forward',\n",
       " '_state_dict_hooks',\n",
       " '_version',\n",
       " 'add_module',\n",
       " 'apply',\n",
       " 'avgpool',\n",
       " 'base_width',\n",
       " 'bfloat16',\n",
       " 'bn1',\n",
       " 'buffers',\n",
       " 'children',\n",
       " 'conv1',\n",
       " 'cpu',\n",
       " 'cuda',\n",
       " 'dilation',\n",
       " 'double',\n",
       " 'dump_patches',\n",
       " 'eval',\n",
       " 'extra_repr',\n",
       " 'fc',\n",
       " 'float',\n",
       " 'forward',\n",
       " 'get_buffer',\n",
       " 'get_extra_state',\n",
       " 'get_parameter',\n",
       " 'get_submodule',\n",
       " 'groups',\n",
       " 'half',\n",
       " 'inplanes',\n",
       " 'ipu',\n",
       " 'layer1',\n",
       " 'layer2',\n",
       " 'layer3',\n",
       " 'layer4',\n",
       " 'load_state_dict',\n",
       " 'maxpool',\n",
       " 'modules',\n",
       " 'named_buffers',\n",
       " 'named_children',\n",
       " 'named_modules',\n",
       " 'named_parameters',\n",
       " 'parameters',\n",
       " 'register_backward_hook',\n",
       " 'register_buffer',\n",
       " 'register_forward_hook',\n",
       " 'register_forward_pre_hook',\n",
       " 'register_full_backward_hook',\n",
       " 'register_load_state_dict_post_hook',\n",
       " 'register_module',\n",
       " 'register_parameter',\n",
       " 'relu',\n",
       " 'requires_grad_',\n",
       " 'set_extra_state',\n",
       " 'share_memory',\n",
       " 'state_dict',\n",
       " 'to',\n",
       " 'to_empty',\n",
       " 'train',\n",
       " 'training',\n",
       " 'type',\n",
       " 'xpu',\n",
       " 'zero_grad']"
      ]
     },
     "execution_count": 32,
     "metadata": {},
     "output_type": "execute_result"
    }
   ],
   "source": [
    "dir(model.network)"
   ]
  },
  {
   "cell_type": "code",
   "execution_count": 33,
   "id": "9a108ab2",
   "metadata": {},
   "outputs": [],
   "source": [
    "model.optimizer_params = {  # optimizer parameters for classification layers\n",
    "            # \"params\": self.network.parameters(),\n",
    "            \"lr\": 0.001,\n",
    "            \"momentum\": 0.99,\n",
    "            \"weight_decay\": 0.0005,\n",
    "        }"
   ]
  },
  {
   "cell_type": "code",
   "execution_count": 34,
   "id": "27d6953f",
   "metadata": {},
   "outputs": [],
   "source": [
    "#name = \"C:/Users/Siloux/Desktop/E4E/passive-acoustic-biodiversity/OpenSoundScape/MultiClass Classifier/model/automated_cosmos_tweety_to_file_warblar_no_bird_test_4_5_epochs/\"\n",
    "#model_save = name\n",
    "#model_save"
   ]
  },
  {
   "cell_type": "code",
   "execution_count": 35,
   "id": "13587c56",
   "metadata": {},
   "outputs": [
    {
     "name": "stdout",
     "output_type": "stream",
     "text": [
      "Epoch: 0 [batch 0/4063 (0.00%)] \n",
      "\tJacc: 0.091 Hamm: 0.909 DistLoss: 0.684\n",
      "Epoch: 0 [batch 10/4063 (0.25%)] \n",
      "\tJacc: 0.095 Hamm: 0.767 DistLoss: 0.581\n",
      "Epoch: 0 [batch 20/4063 (0.49%)] \n",
      "\tJacc: 0.000 Hamm: 0.091 DistLoss: 0.467\n"
     ]
    },
    {
     "name": "stderr",
     "output_type": "stream",
     "text": [
      "C:\\Users\\Siloux\\.conda\\envs\\species-id\\lib\\site-packages\\sklearn\\metrics\\_classification.py:1318: UndefinedMetricWarning: Jaccard is ill-defined and being set to 0.0 in labels with no true or predicted samples. Use `zero_division` parameter to control this behavior.\n",
      "  _warn_prf(average, modifier, msg_start, len(result))\n"
     ]
    },
    {
     "name": "stdout",
     "output_type": "stream",
     "text": [
      "Epoch: 0 [batch 30/4063 (0.74%)] \n",
      "\tJacc: 0.000 Hamm: 0.091 DistLoss: 0.425\n"
     ]
    },
    {
     "name": "stderr",
     "output_type": "stream",
     "text": [
      "C:\\Users\\Siloux\\.conda\\envs\\species-id\\lib\\site-packages\\sklearn\\metrics\\_classification.py:1318: UndefinedMetricWarning: Jaccard is ill-defined and being set to 0.0 in labels with no true or predicted samples. Use `zero_division` parameter to control this behavior.\n",
      "  _warn_prf(average, modifier, msg_start, len(result))\n"
     ]
    },
    {
     "name": "stdout",
     "output_type": "stream",
     "text": [
      "Epoch: 0 [batch 40/4063 (0.98%)] \n",
      "\tJacc: 0.000 Hamm: 0.091 DistLoss: 0.420\n"
     ]
    },
    {
     "name": "stderr",
     "output_type": "stream",
     "text": [
      "C:\\Users\\Siloux\\.conda\\envs\\species-id\\lib\\site-packages\\sklearn\\metrics\\_classification.py:1318: UndefinedMetricWarning: Jaccard is ill-defined and being set to 0.0 in labels with no true or predicted samples. Use `zero_division` parameter to control this behavior.\n",
      "  _warn_prf(average, modifier, msg_start, len(result))\n"
     ]
    },
    {
     "name": "stdout",
     "output_type": "stream",
     "text": [
      "Epoch: 0 [batch 50/4063 (1.23%)] \n",
      "\tJacc: 0.000 Hamm: 0.091 DistLoss: 0.429\n"
     ]
    },
    {
     "name": "stderr",
     "output_type": "stream",
     "text": [
      "C:\\Users\\Siloux\\.conda\\envs\\species-id\\lib\\site-packages\\sklearn\\metrics\\_classification.py:1318: UndefinedMetricWarning: Jaccard is ill-defined and being set to 0.0 in labels with no true or predicted samples. Use `zero_division` parameter to control this behavior.\n",
      "  _warn_prf(average, modifier, msg_start, len(result))\n"
     ]
    },
    {
     "name": "stdout",
     "output_type": "stream",
     "text": [
      "Epoch: 0 [batch 60/4063 (1.48%)] \n",
      "\tJacc: 0.000 Hamm: 0.091 DistLoss: 0.441\n"
     ]
    },
    {
     "name": "stderr",
     "output_type": "stream",
     "text": [
      "C:\\Users\\Siloux\\.conda\\envs\\species-id\\lib\\site-packages\\sklearn\\metrics\\_classification.py:1318: UndefinedMetricWarning: Jaccard is ill-defined and being set to 0.0 in labels with no true or predicted samples. Use `zero_division` parameter to control this behavior.\n",
      "  _warn_prf(average, modifier, msg_start, len(result))\n"
     ]
    },
    {
     "name": "stdout",
     "output_type": "stream",
     "text": [
      "Epoch: 0 [batch 70/4063 (1.72%)] \n",
      "\tJacc: 0.000 Hamm: 0.091 DistLoss: 0.451\n"
     ]
    },
    {
     "name": "stderr",
     "output_type": "stream",
     "text": [
      "C:\\Users\\Siloux\\.conda\\envs\\species-id\\lib\\site-packages\\sklearn\\metrics\\_classification.py:1318: UndefinedMetricWarning: Jaccard is ill-defined and being set to 0.0 in labels with no true or predicted samples. Use `zero_division` parameter to control this behavior.\n",
      "  _warn_prf(average, modifier, msg_start, len(result))\n"
     ]
    },
    {
     "name": "stdout",
     "output_type": "stream",
     "text": [
      "Epoch: 0 [batch 80/4063 (1.97%)] \n",
      "\tJacc: 0.000 Hamm: 0.091 DistLoss: 0.455\n"
     ]
    },
    {
     "name": "stderr",
     "output_type": "stream",
     "text": [
      "C:\\Users\\Siloux\\.conda\\envs\\species-id\\lib\\site-packages\\sklearn\\metrics\\_classification.py:1318: UndefinedMetricWarning: Jaccard is ill-defined and being set to 0.0 in labels with no true or predicted samples. Use `zero_division` parameter to control this behavior.\n",
      "  _warn_prf(average, modifier, msg_start, len(result))\n"
     ]
    },
    {
     "name": "stdout",
     "output_type": "stream",
     "text": [
      "Epoch: 0 [batch 90/4063 (2.22%)] \n",
      "\tJacc: 0.000 Hamm: 0.091 DistLoss: 0.452\n"
     ]
    },
    {
     "name": "stderr",
     "output_type": "stream",
     "text": [
      "C:\\Users\\Siloux\\.conda\\envs\\species-id\\lib\\site-packages\\sklearn\\metrics\\_classification.py:1318: UndefinedMetricWarning: Jaccard is ill-defined and being set to 0.0 in labels with no true or predicted samples. Use `zero_division` parameter to control this behavior.\n",
      "  _warn_prf(average, modifier, msg_start, len(result))\n"
     ]
    },
    {
     "name": "stdout",
     "output_type": "stream",
     "text": [
      "Epoch: 0 [batch 100/4063 (2.46%)] \n",
      "\tJacc: 0.000 Hamm: 0.091 DistLoss: 0.443\n"
     ]
    },
    {
     "name": "stderr",
     "output_type": "stream",
     "text": [
      "C:\\Users\\Siloux\\.conda\\envs\\species-id\\lib\\site-packages\\sklearn\\metrics\\_classification.py:1318: UndefinedMetricWarning: Jaccard is ill-defined and being set to 0.0 in labels with no true or predicted samples. Use `zero_division` parameter to control this behavior.\n",
      "  _warn_prf(average, modifier, msg_start, len(result))\n"
     ]
    },
    {
     "name": "stdout",
     "output_type": "stream",
     "text": [
      "Epoch: 0 [batch 110/4063 (2.71%)] \n",
      "\tJacc: 0.167 Hamm: 0.091 DistLoss: 0.433\n"
     ]
    },
    {
     "name": "stderr",
     "output_type": "stream",
     "text": [
      "C:\\Users\\Siloux\\.conda\\envs\\species-id\\lib\\site-packages\\sklearn\\metrics\\_classification.py:1318: UndefinedMetricWarning: Jaccard is ill-defined and being set to 0.0 in labels with no true or predicted samples. Use `zero_division` parameter to control this behavior.\n",
      "  _warn_prf(average, modifier, msg_start, len(result))\n"
     ]
    },
    {
     "name": "stdout",
     "output_type": "stream",
     "text": [
      "Epoch: 0 [batch 120/4063 (2.95%)] \n",
      "\tJacc: 0.057 Hamm: 0.244 DistLoss: 0.424\n"
     ]
    },
    {
     "name": "stderr",
     "output_type": "stream",
     "text": [
      "C:\\Users\\Siloux\\.conda\\envs\\species-id\\lib\\site-packages\\sklearn\\metrics\\_classification.py:1318: UndefinedMetricWarning: Jaccard is ill-defined and being set to 0.0 in labels with no true or predicted samples. Use `zero_division` parameter to control this behavior.\n",
      "  _warn_prf(average, modifier, msg_start, len(result))\n"
     ]
    },
    {
     "name": "stdout",
     "output_type": "stream",
     "text": [
      "Epoch: 0 [batch 130/4063 (3.20%)] \n",
      "\tJacc: 0.136 Hamm: 0.284 DistLoss: 0.418\n",
      "Epoch: 0 [batch 140/4063 (3.45%)] \n",
      "\tJacc: 0.189 Hamm: 0.324 DistLoss: 0.413\n",
      "Epoch: 0 [batch 150/4063 (3.69%)] \n",
      "\tJacc: 0.063 Hamm: 0.244 DistLoss: 0.408\n"
     ]
    },
    {
     "name": "stderr",
     "output_type": "stream",
     "text": [
      "C:\\Users\\Siloux\\.conda\\envs\\species-id\\lib\\site-packages\\sklearn\\metrics\\_classification.py:1318: UndefinedMetricWarning: Jaccard is ill-defined and being set to 0.0 in labels with no true or predicted samples. Use `zero_division` parameter to control this behavior.\n",
      "  _warn_prf(average, modifier, msg_start, len(result))\n"
     ]
    },
    {
     "name": "stdout",
     "output_type": "stream",
     "text": [
      "Epoch: 0 [batch 160/4063 (3.94%)] \n",
      "\tJacc: 0.039 Hamm: 0.153 DistLoss: 0.402\n"
     ]
    },
    {
     "name": "stderr",
     "output_type": "stream",
     "text": [
      "C:\\Users\\Siloux\\.conda\\envs\\species-id\\lib\\site-packages\\sklearn\\metrics\\_classification.py:1318: UndefinedMetricWarning: Jaccard is ill-defined and being set to 0.0 in labels with no true or predicted samples. Use `zero_division` parameter to control this behavior.\n",
      "  _warn_prf(average, modifier, msg_start, len(result))\n"
     ]
    },
    {
     "name": "stdout",
     "output_type": "stream",
     "text": [
      "Epoch: 0 [batch 170/4063 (4.18%)] \n",
      "\tJacc: 0.000 Hamm: 0.097 DistLoss: 0.396\n"
     ]
    },
    {
     "name": "stderr",
     "output_type": "stream",
     "text": [
      "C:\\Users\\Siloux\\.conda\\envs\\species-id\\lib\\site-packages\\sklearn\\metrics\\_classification.py:1318: UndefinedMetricWarning: Jaccard is ill-defined and being set to 0.0 in labels with no true or predicted samples. Use `zero_division` parameter to control this behavior.\n",
      "  _warn_prf(average, modifier, msg_start, len(result))\n"
     ]
    },
    {
     "name": "stdout",
     "output_type": "stream",
     "text": [
      "Epoch: 0 [batch 180/4063 (4.43%)] \n",
      "\tJacc: 0.000 Hamm: 0.091 DistLoss: 0.390\n"
     ]
    },
    {
     "name": "stderr",
     "output_type": "stream",
     "text": [
      "C:\\Users\\Siloux\\.conda\\envs\\species-id\\lib\\site-packages\\sklearn\\metrics\\_classification.py:1318: UndefinedMetricWarning: Jaccard is ill-defined and being set to 0.0 in labels with no true or predicted samples. Use `zero_division` parameter to control this behavior.\n",
      "  _warn_prf(average, modifier, msg_start, len(result))\n"
     ]
    },
    {
     "name": "stdout",
     "output_type": "stream",
     "text": [
      "Epoch: 0 [batch 190/4063 (4.68%)] \n",
      "\tJacc: 0.000 Hamm: 0.091 DistLoss: 0.385\n"
     ]
    },
    {
     "name": "stderr",
     "output_type": "stream",
     "text": [
      "C:\\Users\\Siloux\\.conda\\envs\\species-id\\lib\\site-packages\\sklearn\\metrics\\_classification.py:1318: UndefinedMetricWarning: Jaccard is ill-defined and being set to 0.0 in labels with no true or predicted samples. Use `zero_division` parameter to control this behavior.\n",
      "  _warn_prf(average, modifier, msg_start, len(result))\n"
     ]
    },
    {
     "name": "stdout",
     "output_type": "stream",
     "text": [
      "Epoch: 0 [batch 200/4063 (4.92%)] \n",
      "\tJacc: 0.000 Hamm: 0.091 DistLoss: 0.381\n"
     ]
    },
    {
     "name": "stderr",
     "output_type": "stream",
     "text": [
      "C:\\Users\\Siloux\\.conda\\envs\\species-id\\lib\\site-packages\\sklearn\\metrics\\_classification.py:1318: UndefinedMetricWarning: Jaccard is ill-defined and being set to 0.0 in labels with no true or predicted samples. Use `zero_division` parameter to control this behavior.\n",
      "  _warn_prf(average, modifier, msg_start, len(result))\n"
     ]
    },
    {
     "name": "stdout",
     "output_type": "stream",
     "text": [
      "Epoch: 0 [batch 210/4063 (5.17%)] \n",
      "\tJacc: 0.212 Hamm: 0.074 DistLoss: 0.376\n"
     ]
    },
    {
     "name": "stderr",
     "output_type": "stream",
     "text": [
      "C:\\Users\\Siloux\\.conda\\envs\\species-id\\lib\\site-packages\\sklearn\\metrics\\_classification.py:1318: UndefinedMetricWarning: Jaccard is ill-defined and being set to 0.0 in labels with no true or predicted samples. Use `zero_division` parameter to control this behavior.\n",
      "  _warn_prf(average, modifier, msg_start, len(result))\n"
     ]
    },
    {
     "name": "stdout",
     "output_type": "stream",
     "text": [
      "Epoch: 0 [batch 220/4063 (5.41%)] \n",
      "\tJacc: 0.197 Hamm: 0.097 DistLoss: 0.371\n"
     ]
    },
    {
     "name": "stderr",
     "output_type": "stream",
     "text": [
      "C:\\Users\\Siloux\\.conda\\envs\\species-id\\lib\\site-packages\\sklearn\\metrics\\_classification.py:1318: UndefinedMetricWarning: Jaccard is ill-defined and being set to 0.0 in labels with no true or predicted samples. Use `zero_division` parameter to control this behavior.\n",
      "  _warn_prf(average, modifier, msg_start, len(result))\n"
     ]
    },
    {
     "name": "stdout",
     "output_type": "stream",
     "text": [
      "Epoch: 0 [batch 230/4063 (5.66%)] \n",
      "\tJacc: 0.121 Hamm: 0.114 DistLoss: 0.366\n"
     ]
    },
    {
     "name": "stderr",
     "output_type": "stream",
     "text": [
      "C:\\Users\\Siloux\\.conda\\envs\\species-id\\lib\\site-packages\\sklearn\\metrics\\_classification.py:1318: UndefinedMetricWarning: Jaccard is ill-defined and being set to 0.0 in labels with no true or predicted samples. Use `zero_division` parameter to control this behavior.\n",
      "  _warn_prf(average, modifier, msg_start, len(result))\n"
     ]
    },
    {
     "name": "stdout",
     "output_type": "stream",
     "text": [
      "Epoch: 0 [batch 240/4063 (5.91%)] \n",
      "\tJacc: 0.341 Hamm: 0.091 DistLoss: 0.361\n"
     ]
    },
    {
     "name": "stderr",
     "output_type": "stream",
     "text": [
      "C:\\Users\\Siloux\\.conda\\envs\\species-id\\lib\\site-packages\\sklearn\\metrics\\_classification.py:1318: UndefinedMetricWarning: Jaccard is ill-defined and being set to 0.0 in labels with no true or predicted samples. Use `zero_division` parameter to control this behavior.\n",
      "  _warn_prf(average, modifier, msg_start, len(result))\n"
     ]
    },
    {
     "name": "stdout",
     "output_type": "stream",
     "text": [
      "Epoch: 0 [batch 250/4063 (6.15%)] \n",
      "\tJacc: 0.189 Hamm: 0.142 DistLoss: 0.356\n",
      "Epoch: 0 [batch 260/4063 (6.40%)] \n",
      "\tJacc: 0.235 Hamm: 0.131 DistLoss: 0.352\n"
     ]
    },
    {
     "name": "stderr",
     "output_type": "stream",
     "text": [
      "C:\\Users\\Siloux\\.conda\\envs\\species-id\\lib\\site-packages\\sklearn\\metrics\\_classification.py:1318: UndefinedMetricWarning: Jaccard is ill-defined and being set to 0.0 in labels with no true or predicted samples. Use `zero_division` parameter to control this behavior.\n",
      "  _warn_prf(average, modifier, msg_start, len(result))\n"
     ]
    },
    {
     "name": "stdout",
     "output_type": "stream",
     "text": [
      "Epoch: 0 [batch 270/4063 (6.65%)] \n",
      "\tJacc: 0.220 Hamm: 0.153 DistLoss: 0.348\n",
      "Epoch: 0 [batch 280/4063 (6.89%)] \n",
      "\tJacc: 0.189 Hamm: 0.136 DistLoss: 0.344\n",
      "Epoch: 0 [batch 290/4063 (7.14%)] \n",
      "\tJacc: 0.477 Hamm: 0.097 DistLoss: 0.340\n",
      "Epoch: 0 [batch 300/4063 (7.38%)] \n",
      "\tJacc: 0.215 Hamm: 0.108 DistLoss: 0.336\n"
     ]
    },
    {
     "name": "stderr",
     "output_type": "stream",
     "text": [
      "C:\\Users\\Siloux\\.conda\\envs\\species-id\\lib\\site-packages\\sklearn\\metrics\\_classification.py:1318: UndefinedMetricWarning: Jaccard is ill-defined and being set to 0.0 in labels with no true or predicted samples. Use `zero_division` parameter to control this behavior.\n",
      "  _warn_prf(average, modifier, msg_start, len(result))\n"
     ]
    },
    {
     "name": "stdout",
     "output_type": "stream",
     "text": [
      "Epoch: 0 [batch 310/4063 (7.63%)] \n",
      "\tJacc: 0.402 Hamm: 0.097 DistLoss: 0.332\n",
      "Epoch: 0 [batch 320/4063 (7.88%)] \n",
      "\tJacc: 0.576 Hamm: 0.051 DistLoss: 0.328\n",
      "Epoch: 0 [batch 330/4063 (8.12%)] \n",
      "\tJacc: 0.364 Hamm: 0.080 DistLoss: 0.325\n",
      "Epoch: 0 [batch 340/4063 (8.37%)] \n",
      "\tJacc: 0.417 Hamm: 0.051 DistLoss: 0.322\n"
     ]
    },
    {
     "name": "stderr",
     "output_type": "stream",
     "text": [
      "C:\\Users\\Siloux\\.conda\\envs\\species-id\\lib\\site-packages\\sklearn\\metrics\\_classification.py:1318: UndefinedMetricWarning: Jaccard is ill-defined and being set to 0.0 in labels with no true or predicted samples. Use `zero_division` parameter to control this behavior.\n",
      "  _warn_prf(average, modifier, msg_start, len(result))\n"
     ]
    },
    {
     "name": "stdout",
     "output_type": "stream",
     "text": [
      "Epoch: 0 [batch 350/4063 (8.61%)] \n",
      "\tJacc: 0.364 Hamm: 0.068 DistLoss: 0.318\n"
     ]
    },
    {
     "name": "stderr",
     "output_type": "stream",
     "text": [
      "C:\\Users\\Siloux\\.conda\\envs\\species-id\\lib\\site-packages\\sklearn\\metrics\\_classification.py:1318: UndefinedMetricWarning: Jaccard is ill-defined and being set to 0.0 in labels with no true or predicted samples. Use `zero_division` parameter to control this behavior.\n",
      "  _warn_prf(average, modifier, msg_start, len(result))\n"
     ]
    },
    {
     "name": "stdout",
     "output_type": "stream",
     "text": [
      "Epoch: 0 [batch 360/4063 (8.86%)] \n",
      "\tJacc: 0.121 Hamm: 0.114 DistLoss: 0.315\n"
     ]
    },
    {
     "name": "stderr",
     "output_type": "stream",
     "text": [
      "C:\\Users\\Siloux\\.conda\\envs\\species-id\\lib\\site-packages\\sklearn\\metrics\\_classification.py:1318: UndefinedMetricWarning: Jaccard is ill-defined and being set to 0.0 in labels with no true or predicted samples. Use `zero_division` parameter to control this behavior.\n",
      "  _warn_prf(average, modifier, msg_start, len(result))\n"
     ]
    },
    {
     "name": "stdout",
     "output_type": "stream",
     "text": [
      "Epoch: 0 [batch 370/4063 (9.11%)] \n",
      "\tJacc: 0.477 Hamm: 0.062 DistLoss: 0.312\n"
     ]
    },
    {
     "name": "stderr",
     "output_type": "stream",
     "text": [
      "C:\\Users\\Siloux\\.conda\\envs\\species-id\\lib\\site-packages\\sklearn\\metrics\\_classification.py:1318: UndefinedMetricWarning: Jaccard is ill-defined and being set to 0.0 in labels with no true or predicted samples. Use `zero_division` parameter to control this behavior.\n",
      "  _warn_prf(average, modifier, msg_start, len(result))\n"
     ]
    },
    {
     "name": "stdout",
     "output_type": "stream",
     "text": [
      "Epoch: 0 [batch 380/4063 (9.35%)] \n",
      "\tJacc: 0.235 Hamm: 0.131 DistLoss: 0.309\n",
      "Epoch: 0 [batch 390/4063 (9.60%)] \n",
      "\tJacc: 0.409 Hamm: 0.085 DistLoss: 0.306\n"
     ]
    },
    {
     "name": "stderr",
     "output_type": "stream",
     "text": [
      "C:\\Users\\Siloux\\.conda\\envs\\species-id\\lib\\site-packages\\sklearn\\metrics\\_classification.py:1318: UndefinedMetricWarning: Jaccard is ill-defined and being set to 0.0 in labels with no true or predicted samples. Use `zero_division` parameter to control this behavior.\n",
      "  _warn_prf(average, modifier, msg_start, len(result))\n"
     ]
    },
    {
     "name": "stdout",
     "output_type": "stream",
     "text": [
      "Epoch: 0 [batch 400/4063 (9.84%)] \n",
      "\tJacc: 0.370 Hamm: 0.097 DistLoss: 0.303\n",
      "Epoch: 0 [batch 410/4063 (10.09%)] \n",
      "\tJacc: 0.333 Hamm: 0.097 DistLoss: 0.300\n"
     ]
    },
    {
     "name": "stderr",
     "output_type": "stream",
     "text": [
      "C:\\Users\\Siloux\\.conda\\envs\\species-id\\lib\\site-packages\\sklearn\\metrics\\_classification.py:1318: UndefinedMetricWarning: Jaccard is ill-defined and being set to 0.0 in labels with no true or predicted samples. Use `zero_division` parameter to control this behavior.\n",
      "  _warn_prf(average, modifier, msg_start, len(result))\n"
     ]
    },
    {
     "name": "stdout",
     "output_type": "stream",
     "text": [
      "Epoch: 0 [batch 420/4063 (10.34%)] \n",
      "\tJacc: 0.094 Hamm: 0.142 DistLoss: 0.298\n",
      "Epoch: 0 [batch 430/4063 (10.58%)] \n",
      "\tJacc: 0.250 Hamm: 0.091 DistLoss: 0.295\n"
     ]
    },
    {
     "name": "stderr",
     "output_type": "stream",
     "text": [
      "C:\\Users\\Siloux\\.conda\\envs\\species-id\\lib\\site-packages\\sklearn\\metrics\\_classification.py:1318: UndefinedMetricWarning: Jaccard is ill-defined and being set to 0.0 in labels with no true or predicted samples. Use `zero_division` parameter to control this behavior.\n",
      "  _warn_prf(average, modifier, msg_start, len(result))\n"
     ]
    },
    {
     "name": "stdout",
     "output_type": "stream",
     "text": [
      "Epoch: 0 [batch 440/4063 (10.83%)] \n",
      "\tJacc: 0.333 Hamm: 0.091 DistLoss: 0.292\n"
     ]
    },
    {
     "name": "stderr",
     "output_type": "stream",
     "text": [
      "C:\\Users\\Siloux\\.conda\\envs\\species-id\\lib\\site-packages\\sklearn\\metrics\\_classification.py:1318: UndefinedMetricWarning: Jaccard is ill-defined and being set to 0.0 in labels with no true or predicted samples. Use `zero_division` parameter to control this behavior.\n",
      "  _warn_prf(average, modifier, msg_start, len(result))\n"
     ]
    },
    {
     "name": "stdout",
     "output_type": "stream",
     "text": [
      "Epoch: 0 [batch 450/4063 (11.08%)] \n",
      "\tJacc: 0.364 Hamm: 0.080 DistLoss: 0.289\n",
      "Epoch: 0 [batch 460/4063 (11.32%)] \n",
      "\tJacc: 0.276 Hamm: 0.091 DistLoss: 0.287\n"
     ]
    },
    {
     "name": "stderr",
     "output_type": "stream",
     "text": [
      "C:\\Users\\Siloux\\.conda\\envs\\species-id\\lib\\site-packages\\sklearn\\metrics\\_classification.py:1318: UndefinedMetricWarning: Jaccard is ill-defined and being set to 0.0 in labels with no true or predicted samples. Use `zero_division` parameter to control this behavior.\n",
      "  _warn_prf(average, modifier, msg_start, len(result))\n"
     ]
    },
    {
     "name": "stdout",
     "output_type": "stream",
     "text": [
      "Epoch: 0 [batch 470/4063 (11.57%)] \n",
      "\tJacc: 0.485 Hamm: 0.040 DistLoss: 0.284\n"
     ]
    },
    {
     "name": "stderr",
     "output_type": "stream",
     "text": [
      "C:\\Users\\Siloux\\.conda\\envs\\species-id\\lib\\site-packages\\sklearn\\metrics\\_classification.py:1318: UndefinedMetricWarning: Jaccard is ill-defined and being set to 0.0 in labels with no true or predicted samples. Use `zero_division` parameter to control this behavior.\n",
      "  _warn_prf(average, modifier, msg_start, len(result))\n"
     ]
    },
    {
     "name": "stdout",
     "output_type": "stream",
     "text": [
      "Epoch: 0 [batch 480/4063 (11.81%)] \n",
      "\tJacc: 0.477 Hamm: 0.062 DistLoss: 0.282\n"
     ]
    },
    {
     "name": "stderr",
     "output_type": "stream",
     "text": [
      "C:\\Users\\Siloux\\.conda\\envs\\species-id\\lib\\site-packages\\sklearn\\metrics\\_classification.py:1318: UndefinedMetricWarning: Jaccard is ill-defined and being set to 0.0 in labels with no true or predicted samples. Use `zero_division` parameter to control this behavior.\n",
      "  _warn_prf(average, modifier, msg_start, len(result))\n"
     ]
    },
    {
     "name": "stdout",
     "output_type": "stream",
     "text": [
      "Epoch: 0 [batch 490/4063 (12.06%)] \n",
      "\tJacc: 0.455 Hamm: 0.080 DistLoss: 0.280\n",
      "Epoch: 0 [batch 500/4063 (12.31%)] \n",
      "\tJacc: 0.382 Hamm: 0.080 DistLoss: 0.278\n",
      "Epoch: 0 [batch 510/4063 (12.55%)] \n",
      "\tJacc: 0.367 Hamm: 0.074 DistLoss: 0.276\n",
      "Epoch: 0 [batch 520/4063 (12.80%)] \n",
      "\tJacc: 0.339 Hamm: 0.080 DistLoss: 0.274\n"
     ]
    },
    {
     "name": "stderr",
     "output_type": "stream",
     "text": [
      "C:\\Users\\Siloux\\.conda\\envs\\species-id\\lib\\site-packages\\sklearn\\metrics\\_classification.py:1318: UndefinedMetricWarning: Jaccard is ill-defined and being set to 0.0 in labels with no true or predicted samples. Use `zero_division` parameter to control this behavior.\n",
      "  _warn_prf(average, modifier, msg_start, len(result))\n"
     ]
    },
    {
     "name": "stdout",
     "output_type": "stream",
     "text": [
      "Epoch: 0 [batch 530/4063 (13.04%)] \n",
      "\tJacc: 0.523 Hamm: 0.068 DistLoss: 0.271\n",
      "Epoch: 0 [batch 540/4063 (13.29%)] \n",
      "\tJacc: 0.606 Hamm: 0.062 DistLoss: 0.269\n",
      "Epoch: 0 [batch 550/4063 (13.54%)] \n",
      "\tJacc: 0.439 Hamm: 0.057 DistLoss: 0.268\n"
     ]
    },
    {
     "name": "stderr",
     "output_type": "stream",
     "text": [
      "C:\\Users\\Siloux\\.conda\\envs\\species-id\\lib\\site-packages\\sklearn\\metrics\\_classification.py:1318: UndefinedMetricWarning: Jaccard is ill-defined and being set to 0.0 in labels with no true or predicted samples. Use `zero_division` parameter to control this behavior.\n",
      "  _warn_prf(average, modifier, msg_start, len(result))\n"
     ]
    },
    {
     "name": "stdout",
     "output_type": "stream",
     "text": [
      "Epoch: 0 [batch 560/4063 (13.78%)] \n",
      "\tJacc: 0.492 Hamm: 0.062 DistLoss: 0.266\n",
      "Epoch: 0 [batch 570/4063 (14.03%)] \n",
      "\tJacc: 0.242 Hamm: 0.102 DistLoss: 0.264\n"
     ]
    },
    {
     "name": "stderr",
     "output_type": "stream",
     "text": [
      "C:\\Users\\Siloux\\.conda\\envs\\species-id\\lib\\site-packages\\sklearn\\metrics\\_classification.py:1318: UndefinedMetricWarning: Jaccard is ill-defined and being set to 0.0 in labels with no true or predicted samples. Use `zero_division` parameter to control this behavior.\n",
      "  _warn_prf(average, modifier, msg_start, len(result))\n"
     ]
    },
    {
     "name": "stdout",
     "output_type": "stream",
     "text": [
      "Epoch: 0 [batch 580/4063 (14.28%)] \n",
      "\tJacc: 0.386 Hamm: 0.102 DistLoss: 0.263\n",
      "Epoch: 0 [batch 590/4063 (14.52%)] \n",
      "\tJacc: 0.568 Hamm: 0.057 DistLoss: 0.261\n",
      "Epoch: 0 [batch 600/4063 (14.77%)] \n",
      "\tJacc: 0.697 Hamm: 0.028 DistLoss: 0.259\n"
     ]
    },
    {
     "name": "stderr",
     "output_type": "stream",
     "text": [
      "C:\\Users\\Siloux\\.conda\\envs\\species-id\\lib\\site-packages\\sklearn\\metrics\\_classification.py:1318: UndefinedMetricWarning: Jaccard is ill-defined and being set to 0.0 in labels with no true or predicted samples. Use `zero_division` parameter to control this behavior.\n",
      "  _warn_prf(average, modifier, msg_start, len(result))\n"
     ]
    },
    {
     "name": "stdout",
     "output_type": "stream",
     "text": [
      "Epoch: 0 [batch 610/4063 (15.01%)] \n",
      "\tJacc: 0.273 Hamm: 0.091 DistLoss: 0.258\n"
     ]
    },
    {
     "name": "stderr",
     "output_type": "stream",
     "text": [
      "C:\\Users\\Siloux\\.conda\\envs\\species-id\\lib\\site-packages\\sklearn\\metrics\\_classification.py:1318: UndefinedMetricWarning: Jaccard is ill-defined and being set to 0.0 in labels with no true or predicted samples. Use `zero_division` parameter to control this behavior.\n",
      "  _warn_prf(average, modifier, msg_start, len(result))\n"
     ]
    },
    {
     "name": "stdout",
     "output_type": "stream",
     "text": [
      "Epoch: 0 [batch 620/4063 (15.26%)] \n",
      "\tJacc: 0.455 Hamm: 0.068 DistLoss: 0.257\n",
      "Epoch: 0 [batch 630/4063 (15.51%)] \n",
      "\tJacc: 0.318 Hamm: 0.085 DistLoss: 0.255\n",
      "Epoch: 0 [batch 640/4063 (15.75%)] \n",
      "\tJacc: 0.606 Hamm: 0.034 DistLoss: 0.253\n"
     ]
    },
    {
     "name": "stderr",
     "output_type": "stream",
     "text": [
      "C:\\Users\\Siloux\\.conda\\envs\\species-id\\lib\\site-packages\\sklearn\\metrics\\_classification.py:1318: UndefinedMetricWarning: Jaccard is ill-defined and being set to 0.0 in labels with no true or predicted samples. Use `zero_division` parameter to control this behavior.\n",
      "  _warn_prf(average, modifier, msg_start, len(result))\n"
     ]
    },
    {
     "name": "stdout",
     "output_type": "stream",
     "text": [
      "Epoch: 0 [batch 650/4063 (16.00%)] \n",
      "\tJacc: 0.311 Hamm: 0.062 DistLoss: 0.252\n"
     ]
    },
    {
     "name": "stderr",
     "output_type": "stream",
     "text": [
      "C:\\Users\\Siloux\\.conda\\envs\\species-id\\lib\\site-packages\\sklearn\\metrics\\_classification.py:1318: UndefinedMetricWarning: Jaccard is ill-defined and being set to 0.0 in labels with no true or predicted samples. Use `zero_division` parameter to control this behavior.\n",
      "  _warn_prf(average, modifier, msg_start, len(result))\n"
     ]
    },
    {
     "name": "stdout",
     "output_type": "stream",
     "text": [
      "Epoch: 0 [batch 660/4063 (16.24%)] \n",
      "\tJacc: 0.424 Hamm: 0.068 DistLoss: 0.250\n"
     ]
    },
    {
     "name": "stderr",
     "output_type": "stream",
     "text": [
      "C:\\Users\\Siloux\\.conda\\envs\\species-id\\lib\\site-packages\\sklearn\\metrics\\_classification.py:1318: UndefinedMetricWarning: Jaccard is ill-defined and being set to 0.0 in labels with no true or predicted samples. Use `zero_division` parameter to control this behavior.\n",
      "  _warn_prf(average, modifier, msg_start, len(result))\n"
     ]
    },
    {
     "name": "stdout",
     "output_type": "stream",
     "text": [
      "Epoch: 0 [batch 670/4063 (16.49%)] \n",
      "\tJacc: 0.623 Hamm: 0.045 DistLoss: 0.249\n"
     ]
    },
    {
     "name": "stderr",
     "output_type": "stream",
     "text": [
      "C:\\Users\\Siloux\\.conda\\envs\\species-id\\lib\\site-packages\\sklearn\\metrics\\_classification.py:1318: UndefinedMetricWarning: Jaccard is ill-defined and being set to 0.0 in labels with no true or predicted samples. Use `zero_division` parameter to control this behavior.\n",
      "  _warn_prf(average, modifier, msg_start, len(result))\n"
     ]
    },
    {
     "name": "stdout",
     "output_type": "stream",
     "text": [
      "Epoch: 0 [batch 680/4063 (16.74%)] \n",
      "\tJacc: 0.644 Hamm: 0.051 DistLoss: 0.247\n"
     ]
    },
    {
     "name": "stderr",
     "output_type": "stream",
     "text": [
      "C:\\Users\\Siloux\\.conda\\envs\\species-id\\lib\\site-packages\\sklearn\\metrics\\_classification.py:1318: UndefinedMetricWarning: Jaccard is ill-defined and being set to 0.0 in labels with no true or predicted samples. Use `zero_division` parameter to control this behavior.\n",
      "  _warn_prf(average, modifier, msg_start, len(result))\n"
     ]
    },
    {
     "name": "stdout",
     "output_type": "stream",
     "text": [
      "Epoch: 0 [batch 690/4063 (16.98%)] \n",
      "\tJacc: 0.697 Hamm: 0.040 DistLoss: 0.246\n",
      "Epoch: 0 [batch 700/4063 (17.23%)] \n",
      "\tJacc: 0.371 Hamm: 0.080 DistLoss: 0.245\n"
     ]
    },
    {
     "name": "stderr",
     "output_type": "stream",
     "text": [
      "C:\\Users\\Siloux\\.conda\\envs\\species-id\\lib\\site-packages\\sklearn\\metrics\\_classification.py:1318: UndefinedMetricWarning: Jaccard is ill-defined and being set to 0.0 in labels with no true or predicted samples. Use `zero_division` parameter to control this behavior.\n",
      "  _warn_prf(average, modifier, msg_start, len(result))\n"
     ]
    },
    {
     "name": "stdout",
     "output_type": "stream",
     "text": [
      "Epoch: 0 [batch 710/4063 (17.47%)] \n",
      "\tJacc: 0.521 Hamm: 0.074 DistLoss: 0.243\n",
      "Epoch: 0 [batch 720/4063 (17.72%)] \n",
      "\tJacc: 0.492 Hamm: 0.040 DistLoss: 0.242\n"
     ]
    },
    {
     "name": "stderr",
     "output_type": "stream",
     "text": [
      "C:\\Users\\Siloux\\.conda\\envs\\species-id\\lib\\site-packages\\sklearn\\metrics\\_classification.py:1318: UndefinedMetricWarning: Jaccard is ill-defined and being set to 0.0 in labels with no true or predicted samples. Use `zero_division` parameter to control this behavior.\n",
      "  _warn_prf(average, modifier, msg_start, len(result))\n"
     ]
    },
    {
     "name": "stdout",
     "output_type": "stream",
     "text": [
      "Epoch: 0 [batch 730/4063 (17.97%)] \n",
      "\tJacc: 0.432 Hamm: 0.068 DistLoss: 0.241\n"
     ]
    },
    {
     "name": "stderr",
     "output_type": "stream",
     "text": [
      "C:\\Users\\Siloux\\.conda\\envs\\species-id\\lib\\site-packages\\sklearn\\metrics\\_classification.py:1318: UndefinedMetricWarning: Jaccard is ill-defined and being set to 0.0 in labels with no true or predicted samples. Use `zero_division` parameter to control this behavior.\n",
      "  _warn_prf(average, modifier, msg_start, len(result))\n"
     ]
    },
    {
     "name": "stdout",
     "output_type": "stream",
     "text": [
      "Epoch: 0 [batch 740/4063 (18.21%)] \n",
      "\tJacc: 0.470 Hamm: 0.068 DistLoss: 0.239\n",
      "Epoch: 0 [batch 750/4063 (18.46%)] \n",
      "\tJacc: 0.636 Hamm: 0.057 DistLoss: 0.238\n",
      "Epoch: 0 [batch 760/4063 (18.71%)] \n",
      "\tJacc: 0.455 Hamm: 0.068 DistLoss: 0.236\n",
      "Epoch: 0 [batch 770/4063 (18.95%)] \n",
      "\tJacc: 0.583 Hamm: 0.045 DistLoss: 0.235\n",
      "Epoch: 0 [batch 780/4063 (19.20%)] \n",
      "\tJacc: 0.314 Hamm: 0.085 DistLoss: 0.234\n"
     ]
    },
    {
     "name": "stderr",
     "output_type": "stream",
     "text": [
      "C:\\Users\\Siloux\\.conda\\envs\\species-id\\lib\\site-packages\\sklearn\\metrics\\_classification.py:1318: UndefinedMetricWarning: Jaccard is ill-defined and being set to 0.0 in labels with no true or predicted samples. Use `zero_division` parameter to control this behavior.\n",
      "  _warn_prf(average, modifier, msg_start, len(result))\n"
     ]
    },
    {
     "name": "stdout",
     "output_type": "stream",
     "text": [
      "Epoch: 0 [batch 790/4063 (19.44%)] \n",
      "\tJacc: 0.720 Hamm: 0.017 DistLoss: 0.233\n"
     ]
    },
    {
     "name": "stderr",
     "output_type": "stream",
     "text": [
      "C:\\Users\\Siloux\\.conda\\envs\\species-id\\lib\\site-packages\\sklearn\\metrics\\_classification.py:1318: UndefinedMetricWarning: Jaccard is ill-defined and being set to 0.0 in labels with no true or predicted samples. Use `zero_division` parameter to control this behavior.\n",
      "  _warn_prf(average, modifier, msg_start, len(result))\n"
     ]
    },
    {
     "name": "stdout",
     "output_type": "stream",
     "text": [
      "Epoch: 0 [batch 800/4063 (19.69%)] \n",
      "\tJacc: 0.321 Hamm: 0.097 DistLoss: 0.232\n"
     ]
    },
    {
     "name": "stderr",
     "output_type": "stream",
     "text": [
      "C:\\Users\\Siloux\\.conda\\envs\\species-id\\lib\\site-packages\\sklearn\\metrics\\_classification.py:1318: UndefinedMetricWarning: Jaccard is ill-defined and being set to 0.0 in labels with no true or predicted samples. Use `zero_division` parameter to control this behavior.\n",
      "  _warn_prf(average, modifier, msg_start, len(result))\n"
     ]
    },
    {
     "name": "stdout",
     "output_type": "stream",
     "text": [
      "Epoch: 0 [batch 810/4063 (19.94%)] \n",
      "\tJacc: 0.371 Hamm: 0.068 DistLoss: 0.231\n"
     ]
    },
    {
     "name": "stderr",
     "output_type": "stream",
     "text": [
      "C:\\Users\\Siloux\\.conda\\envs\\species-id\\lib\\site-packages\\sklearn\\metrics\\_classification.py:1318: UndefinedMetricWarning: Jaccard is ill-defined and being set to 0.0 in labels with no true or predicted samples. Use `zero_division` parameter to control this behavior.\n",
      "  _warn_prf(average, modifier, msg_start, len(result))\n"
     ]
    },
    {
     "name": "stdout",
     "output_type": "stream",
     "text": [
      "Epoch: 0 [batch 820/4063 (20.18%)] \n",
      "\tJacc: 0.545 Hamm: 0.057 DistLoss: 0.230\n"
     ]
    },
    {
     "name": "stderr",
     "output_type": "stream",
     "text": [
      "C:\\Users\\Siloux\\.conda\\envs\\species-id\\lib\\site-packages\\sklearn\\metrics\\_classification.py:1318: UndefinedMetricWarning: Jaccard is ill-defined and being set to 0.0 in labels with no true or predicted samples. Use `zero_division` parameter to control this behavior.\n",
      "  _warn_prf(average, modifier, msg_start, len(result))\n"
     ]
    },
    {
     "name": "stdout",
     "output_type": "stream",
     "text": [
      "Epoch: 0 [batch 830/4063 (20.43%)] \n",
      "\tJacc: 0.636 Hamm: 0.034 DistLoss: 0.229\n"
     ]
    },
    {
     "name": "stderr",
     "output_type": "stream",
     "text": [
      "C:\\Users\\Siloux\\.conda\\envs\\species-id\\lib\\site-packages\\sklearn\\metrics\\_classification.py:1318: UndefinedMetricWarning: Jaccard is ill-defined and being set to 0.0 in labels with no true or predicted samples. Use `zero_division` parameter to control this behavior.\n",
      "  _warn_prf(average, modifier, msg_start, len(result))\n"
     ]
    },
    {
     "name": "stdout",
     "output_type": "stream",
     "text": [
      "Epoch: 0 [batch 840/4063 (20.67%)] \n",
      "\tJacc: 0.591 Hamm: 0.068 DistLoss: 0.228\n",
      "Epoch: 0 [batch 850/4063 (20.92%)] \n",
      "\tJacc: 0.455 Hamm: 0.057 DistLoss: 0.227\n"
     ]
    },
    {
     "name": "stderr",
     "output_type": "stream",
     "text": [
      "C:\\Users\\Siloux\\.conda\\envs\\species-id\\lib\\site-packages\\sklearn\\metrics\\_classification.py:1318: UndefinedMetricWarning: Jaccard is ill-defined and being set to 0.0 in labels with no true or predicted samples. Use `zero_division` parameter to control this behavior.\n",
      "  _warn_prf(average, modifier, msg_start, len(result))\n"
     ]
    },
    {
     "name": "stdout",
     "output_type": "stream",
     "text": [
      "Epoch: 0 [batch 860/4063 (21.17%)] \n",
      "\tJacc: 0.173 Hamm: 0.108 DistLoss: 0.226\n"
     ]
    },
    {
     "name": "stderr",
     "output_type": "stream",
     "text": [
      "C:\\Users\\Siloux\\.conda\\envs\\species-id\\lib\\site-packages\\sklearn\\metrics\\_classification.py:1318: UndefinedMetricWarning: Jaccard is ill-defined and being set to 0.0 in labels with no true or predicted samples. Use `zero_division` parameter to control this behavior.\n",
      "  _warn_prf(average, modifier, msg_start, len(result))\n"
     ]
    },
    {
     "name": "stdout",
     "output_type": "stream",
     "text": [
      "Epoch: 0 [batch 870/4063 (21.41%)] \n",
      "\tJacc: 0.530 Hamm: 0.034 DistLoss: 0.225\n"
     ]
    },
    {
     "name": "stderr",
     "output_type": "stream",
     "text": [
      "C:\\Users\\Siloux\\.conda\\envs\\species-id\\lib\\site-packages\\sklearn\\metrics\\_classification.py:1318: UndefinedMetricWarning: Jaccard is ill-defined and being set to 0.0 in labels with no true or predicted samples. Use `zero_division` parameter to control this behavior.\n",
      "  _warn_prf(average, modifier, msg_start, len(result))\n"
     ]
    },
    {
     "name": "stdout",
     "output_type": "stream",
     "text": [
      "Epoch: 0 [batch 880/4063 (21.66%)] \n",
      "\tJacc: 0.561 Hamm: 0.062 DistLoss: 0.224\n",
      "Epoch: 0 [batch 890/4063 (21.90%)] \n",
      "\tJacc: 0.447 Hamm: 0.051 DistLoss: 0.223\n"
     ]
    },
    {
     "name": "stderr",
     "output_type": "stream",
     "text": [
      "C:\\Users\\Siloux\\.conda\\envs\\species-id\\lib\\site-packages\\sklearn\\metrics\\_classification.py:1318: UndefinedMetricWarning: Jaccard is ill-defined and being set to 0.0 in labels with no true or predicted samples. Use `zero_division` parameter to control this behavior.\n",
      "  _warn_prf(average, modifier, msg_start, len(result))\n"
     ]
    },
    {
     "name": "stdout",
     "output_type": "stream",
     "text": [
      "Epoch: 0 [batch 900/4063 (22.15%)] \n",
      "\tJacc: 0.386 Hamm: 0.097 DistLoss: 0.222\n",
      "Epoch: 0 [batch 910/4063 (22.40%)] \n",
      "\tJacc: 0.515 Hamm: 0.040 DistLoss: 0.221\n"
     ]
    },
    {
     "name": "stderr",
     "output_type": "stream",
     "text": [
      "C:\\Users\\Siloux\\.conda\\envs\\species-id\\lib\\site-packages\\sklearn\\metrics\\_classification.py:1318: UndefinedMetricWarning: Jaccard is ill-defined and being set to 0.0 in labels with no true or predicted samples. Use `zero_division` parameter to control this behavior.\n",
      "  _warn_prf(average, modifier, msg_start, len(result))\n"
     ]
    },
    {
     "name": "stdout",
     "output_type": "stream",
     "text": [
      "Epoch: 0 [batch 920/4063 (22.64%)] \n",
      "\tJacc: 0.667 Hamm: 0.040 DistLoss: 0.220\n",
      "Epoch: 0 [batch 930/4063 (22.89%)] \n",
      "\tJacc: 0.318 Hamm: 0.097 DistLoss: 0.219\n",
      "Epoch: 0 [batch 940/4063 (23.14%)] \n",
      "\tJacc: 0.515 Hamm: 0.045 DistLoss: 0.219\n"
     ]
    },
    {
     "name": "stderr",
     "output_type": "stream",
     "text": [
      "C:\\Users\\Siloux\\.conda\\envs\\species-id\\lib\\site-packages\\sklearn\\metrics\\_classification.py:1318: UndefinedMetricWarning: Jaccard is ill-defined and being set to 0.0 in labels with no true or predicted samples. Use `zero_division` parameter to control this behavior.\n",
      "  _warn_prf(average, modifier, msg_start, len(result))\n"
     ]
    },
    {
     "name": "stdout",
     "output_type": "stream",
     "text": [
      "Epoch: 0 [batch 950/4063 (23.38%)] \n",
      "\tJacc: 0.500 Hamm: 0.051 DistLoss: 0.218\n"
     ]
    },
    {
     "name": "stderr",
     "output_type": "stream",
     "text": [
      "C:\\Users\\Siloux\\.conda\\envs\\species-id\\lib\\site-packages\\sklearn\\metrics\\_classification.py:1318: UndefinedMetricWarning: Jaccard is ill-defined and being set to 0.0 in labels with no true or predicted samples. Use `zero_division` parameter to control this behavior.\n",
      "  _warn_prf(average, modifier, msg_start, len(result))\n"
     ]
    },
    {
     "name": "stdout",
     "output_type": "stream",
     "text": [
      "Epoch: 0 [batch 960/4063 (23.63%)] \n",
      "\tJacc: 0.492 Hamm: 0.062 DistLoss: 0.217\n"
     ]
    },
    {
     "name": "stderr",
     "output_type": "stream",
     "text": [
      "C:\\Users\\Siloux\\.conda\\envs\\species-id\\lib\\site-packages\\sklearn\\metrics\\_classification.py:1318: UndefinedMetricWarning: Jaccard is ill-defined and being set to 0.0 in labels with no true or predicted samples. Use `zero_division` parameter to control this behavior.\n",
      "  _warn_prf(average, modifier, msg_start, len(result))\n"
     ]
    },
    {
     "name": "stdout",
     "output_type": "stream",
     "text": [
      "Epoch: 0 [batch 970/4063 (23.87%)] \n",
      "\tJacc: 0.318 Hamm: 0.097 DistLoss: 0.217\n",
      "Epoch: 0 [batch 980/4063 (24.12%)] \n",
      "\tJacc: 0.545 Hamm: 0.040 DistLoss: 0.216\n"
     ]
    },
    {
     "name": "stderr",
     "output_type": "stream",
     "text": [
      "C:\\Users\\Siloux\\.conda\\envs\\species-id\\lib\\site-packages\\sklearn\\metrics\\_classification.py:1318: UndefinedMetricWarning: Jaccard is ill-defined and being set to 0.0 in labels with no true or predicted samples. Use `zero_division` parameter to control this behavior.\n",
      "  _warn_prf(average, modifier, msg_start, len(result))\n"
     ]
    },
    {
     "name": "stdout",
     "output_type": "stream",
     "text": [
      "Epoch: 0 [batch 990/4063 (24.37%)] \n",
      "\tJacc: 0.606 Hamm: 0.045 DistLoss: 0.215\n",
      "Epoch: 0 [batch 1000/4063 (24.61%)] \n",
      "\tJacc: 0.462 Hamm: 0.068 DistLoss: 0.214\n",
      "Epoch: 0 [batch 1010/4063 (24.86%)] \n",
      "\tJacc: 0.417 Hamm: 0.091 DistLoss: 0.214\n",
      "Epoch: 0 [batch 1020/4063 (25.10%)] \n",
      "\tJacc: 0.545 Hamm: 0.091 DistLoss: 0.213\n",
      "Epoch: 0 [batch 1030/4063 (25.35%)] \n",
      "\tJacc: 0.523 Hamm: 0.068 DistLoss: 0.212\n"
     ]
    },
    {
     "name": "stderr",
     "output_type": "stream",
     "text": [
      "C:\\Users\\Siloux\\.conda\\envs\\species-id\\lib\\site-packages\\sklearn\\metrics\\_classification.py:1318: UndefinedMetricWarning: Jaccard is ill-defined and being set to 0.0 in labels with no true or predicted samples. Use `zero_division` parameter to control this behavior.\n",
      "  _warn_prf(average, modifier, msg_start, len(result))\n"
     ]
    },
    {
     "name": "stdout",
     "output_type": "stream",
     "text": [
      "Epoch: 0 [batch 1040/4063 (25.60%)] \n",
      "\tJacc: 0.341 Hamm: 0.085 DistLoss: 0.211\n"
     ]
    },
    {
     "name": "stderr",
     "output_type": "stream",
     "text": [
      "C:\\Users\\Siloux\\.conda\\envs\\species-id\\lib\\site-packages\\sklearn\\metrics\\_classification.py:1318: UndefinedMetricWarning: Jaccard is ill-defined and being set to 0.0 in labels with no true or predicted samples. Use `zero_division` parameter to control this behavior.\n",
      "  _warn_prf(average, modifier, msg_start, len(result))\n"
     ]
    },
    {
     "name": "stdout",
     "output_type": "stream",
     "text": [
      "Epoch: 0 [batch 1050/4063 (25.84%)] \n",
      "\tJacc: 0.576 Hamm: 0.057 DistLoss: 0.211\n",
      "Epoch: 0 [batch 1060/4063 (26.09%)] \n",
      "\tJacc: 0.524 Hamm: 0.045 DistLoss: 0.210\n"
     ]
    },
    {
     "name": "stderr",
     "output_type": "stream",
     "text": [
      "C:\\Users\\Siloux\\.conda\\envs\\species-id\\lib\\site-packages\\sklearn\\metrics\\_classification.py:1318: UndefinedMetricWarning: Jaccard is ill-defined and being set to 0.0 in labels with no true or predicted samples. Use `zero_division` parameter to control this behavior.\n",
      "  _warn_prf(average, modifier, msg_start, len(result))\n"
     ]
    },
    {
     "name": "stdout",
     "output_type": "stream",
     "text": [
      "Epoch: 0 [batch 1070/4063 (26.34%)] \n",
      "\tJacc: 0.506 Hamm: 0.074 DistLoss: 0.209\n",
      "Epoch: 0 [batch 1080/4063 (26.58%)] \n",
      "\tJacc: 0.402 Hamm: 0.062 DistLoss: 0.209\n"
     ]
    },
    {
     "name": "stderr",
     "output_type": "stream",
     "text": [
      "C:\\Users\\Siloux\\.conda\\envs\\species-id\\lib\\site-packages\\sklearn\\metrics\\_classification.py:1318: UndefinedMetricWarning: Jaccard is ill-defined and being set to 0.0 in labels with no true or predicted samples. Use `zero_division` parameter to control this behavior.\n",
      "  _warn_prf(average, modifier, msg_start, len(result))\n"
     ]
    },
    {
     "name": "stdout",
     "output_type": "stream",
     "text": [
      "Epoch: 0 [batch 1090/4063 (26.83%)] \n",
      "\tJacc: 0.379 Hamm: 0.074 DistLoss: 0.208\n",
      "Epoch: 0 [batch 1100/4063 (27.07%)] \n",
      "\tJacc: 0.348 Hamm: 0.091 DistLoss: 0.207\n",
      "Epoch: 0 [batch 1110/4063 (27.32%)] \n",
      "\tJacc: 0.485 Hamm: 0.057 DistLoss: 0.206\n"
     ]
    },
    {
     "name": "stderr",
     "output_type": "stream",
     "text": [
      "C:\\Users\\Siloux\\.conda\\envs\\species-id\\lib\\site-packages\\sklearn\\metrics\\_classification.py:1318: UndefinedMetricWarning: Jaccard is ill-defined and being set to 0.0 in labels with no true or predicted samples. Use `zero_division` parameter to control this behavior.\n",
      "  _warn_prf(average, modifier, msg_start, len(result))\n"
     ]
    },
    {
     "name": "stdout",
     "output_type": "stream",
     "text": [
      "Epoch: 0 [batch 1120/4063 (27.57%)] \n",
      "\tJacc: 0.515 Hamm: 0.045 DistLoss: 0.206\n"
     ]
    },
    {
     "name": "stderr",
     "output_type": "stream",
     "text": [
      "C:\\Users\\Siloux\\.conda\\envs\\species-id\\lib\\site-packages\\sklearn\\metrics\\_classification.py:1318: UndefinedMetricWarning: Jaccard is ill-defined and being set to 0.0 in labels with no true or predicted samples. Use `zero_division` parameter to control this behavior.\n",
      "  _warn_prf(average, modifier, msg_start, len(result))\n"
     ]
    },
    {
     "name": "stdout",
     "output_type": "stream",
     "text": [
      "Epoch: 0 [batch 1130/4063 (27.81%)] \n",
      "\tJacc: 0.530 Hamm: 0.057 DistLoss: 0.205\n",
      "Epoch: 0 [batch 1140/4063 (28.06%)] \n",
      "\tJacc: 0.470 Hamm: 0.062 DistLoss: 0.205\n",
      "Epoch: 0 [batch 1150/4063 (28.30%)] \n",
      "\tJacc: 0.573 Hamm: 0.045 DistLoss: 0.204\n"
     ]
    },
    {
     "name": "stderr",
     "output_type": "stream",
     "text": [
      "C:\\Users\\Siloux\\.conda\\envs\\species-id\\lib\\site-packages\\sklearn\\metrics\\_classification.py:1318: UndefinedMetricWarning: Jaccard is ill-defined and being set to 0.0 in labels with no true or predicted samples. Use `zero_division` parameter to control this behavior.\n",
      "  _warn_prf(average, modifier, msg_start, len(result))\n"
     ]
    },
    {
     "name": "stdout",
     "output_type": "stream",
     "text": [
      "Epoch: 0 [batch 1160/4063 (28.55%)] \n",
      "\tJacc: 0.424 Hamm: 0.074 DistLoss: 0.203\n",
      "Epoch: 0 [batch 1170/4063 (28.80%)] \n",
      "\tJacc: 0.379 Hamm: 0.097 DistLoss: 0.203\n",
      "Epoch: 0 [batch 1180/4063 (29.04%)] \n",
      "\tJacc: 0.470 Hamm: 0.068 DistLoss: 0.202\n",
      "Epoch: 0 [batch 1190/4063 (29.29%)] \n",
      "\tJacc: 0.417 Hamm: 0.062 DistLoss: 0.202\n"
     ]
    },
    {
     "name": "stderr",
     "output_type": "stream",
     "text": [
      "C:\\Users\\Siloux\\.conda\\envs\\species-id\\lib\\site-packages\\sklearn\\metrics\\_classification.py:1318: UndefinedMetricWarning: Jaccard is ill-defined and being set to 0.0 in labels with no true or predicted samples. Use `zero_division` parameter to control this behavior.\n",
      "  _warn_prf(average, modifier, msg_start, len(result))\n"
     ]
    },
    {
     "name": "stdout",
     "output_type": "stream",
     "text": [
      "Epoch: 0 [batch 1200/4063 (29.53%)] \n",
      "\tJacc: 0.483 Hamm: 0.051 DistLoss: 0.201\n"
     ]
    },
    {
     "name": "stderr",
     "output_type": "stream",
     "text": [
      "C:\\Users\\Siloux\\.conda\\envs\\species-id\\lib\\site-packages\\sklearn\\metrics\\_classification.py:1318: UndefinedMetricWarning: Jaccard is ill-defined and being set to 0.0 in labels with no true or predicted samples. Use `zero_division` parameter to control this behavior.\n",
      "  _warn_prf(average, modifier, msg_start, len(result))\n"
     ]
    },
    {
     "name": "stdout",
     "output_type": "stream",
     "text": [
      "Epoch: 0 [batch 1210/4063 (29.78%)] \n",
      "\tJacc: 0.276 Hamm: 0.097 DistLoss: 0.201\n",
      "Epoch: 0 [batch 1220/4063 (30.03%)] \n",
      "\tJacc: 0.352 Hamm: 0.085 DistLoss: 0.200\n"
     ]
    },
    {
     "name": "stderr",
     "output_type": "stream",
     "text": [
      "C:\\Users\\Siloux\\.conda\\envs\\species-id\\lib\\site-packages\\sklearn\\metrics\\_classification.py:1318: UndefinedMetricWarning: Jaccard is ill-defined and being set to 0.0 in labels with no true or predicted samples. Use `zero_division` parameter to control this behavior.\n",
      "  _warn_prf(average, modifier, msg_start, len(result))\n"
     ]
    },
    {
     "name": "stdout",
     "output_type": "stream",
     "text": [
      "Epoch: 0 [batch 1230/4063 (30.27%)] \n",
      "\tJacc: 0.518 Hamm: 0.057 DistLoss: 0.200\n"
     ]
    },
    {
     "name": "stderr",
     "output_type": "stream",
     "text": [
      "C:\\Users\\Siloux\\.conda\\envs\\species-id\\lib\\site-packages\\sklearn\\metrics\\_classification.py:1318: UndefinedMetricWarning: Jaccard is ill-defined and being set to 0.0 in labels with no true or predicted samples. Use `zero_division` parameter to control this behavior.\n",
      "  _warn_prf(average, modifier, msg_start, len(result))\n"
     ]
    },
    {
     "name": "stdout",
     "output_type": "stream",
     "text": [
      "Epoch: 0 [batch 1240/4063 (30.52%)] \n",
      "\tJacc: 0.555 Hamm: 0.051 DistLoss: 0.199\n"
     ]
    },
    {
     "name": "stderr",
     "output_type": "stream",
     "text": [
      "C:\\Users\\Siloux\\.conda\\envs\\species-id\\lib\\site-packages\\sklearn\\metrics\\_classification.py:1318: UndefinedMetricWarning: Jaccard is ill-defined and being set to 0.0 in labels with no true or predicted samples. Use `zero_division` parameter to control this behavior.\n",
      "  _warn_prf(average, modifier, msg_start, len(result))\n"
     ]
    },
    {
     "name": "stdout",
     "output_type": "stream",
     "text": [
      "Epoch: 0 [batch 1250/4063 (30.77%)] \n",
      "\tJacc: 0.371 Hamm: 0.091 DistLoss: 0.199\n",
      "Epoch: 0 [batch 1260/4063 (31.01%)] \n",
      "\tJacc: 0.409 Hamm: 0.074 DistLoss: 0.198\n"
     ]
    },
    {
     "name": "stderr",
     "output_type": "stream",
     "text": [
      "C:\\Users\\Siloux\\.conda\\envs\\species-id\\lib\\site-packages\\sklearn\\metrics\\_classification.py:1318: UndefinedMetricWarning: Jaccard is ill-defined and being set to 0.0 in labels with no true or predicted samples. Use `zero_division` parameter to control this behavior.\n",
      "  _warn_prf(average, modifier, msg_start, len(result))\n"
     ]
    },
    {
     "name": "stdout",
     "output_type": "stream",
     "text": [
      "Epoch: 0 [batch 1270/4063 (31.26%)] \n",
      "\tJacc: 0.432 Hamm: 0.068 DistLoss: 0.198\n",
      "Epoch: 0 [batch 1280/4063 (31.50%)] \n",
      "\tJacc: 0.773 Hamm: 0.006 DistLoss: 0.197\n"
     ]
    },
    {
     "name": "stderr",
     "output_type": "stream",
     "text": [
      "C:\\Users\\Siloux\\.conda\\envs\\species-id\\lib\\site-packages\\sklearn\\metrics\\_classification.py:1318: UndefinedMetricWarning: Jaccard is ill-defined and being set to 0.0 in labels with no true or predicted samples. Use `zero_division` parameter to control this behavior.\n",
      "  _warn_prf(average, modifier, msg_start, len(result))\n"
     ]
    },
    {
     "name": "stdout",
     "output_type": "stream",
     "text": [
      "Epoch: 0 [batch 1290/4063 (31.75%)] \n",
      "\tJacc: 0.455 Hamm: 0.045 DistLoss: 0.197\n"
     ]
    },
    {
     "name": "stderr",
     "output_type": "stream",
     "text": [
      "C:\\Users\\Siloux\\.conda\\envs\\species-id\\lib\\site-packages\\sklearn\\metrics\\_classification.py:1318: UndefinedMetricWarning: Jaccard is ill-defined and being set to 0.0 in labels with no true or predicted samples. Use `zero_division` parameter to control this behavior.\n",
      "  _warn_prf(average, modifier, msg_start, len(result))\n"
     ]
    },
    {
     "name": "stdout",
     "output_type": "stream",
     "text": [
      "Epoch: 0 [batch 1300/4063 (32.00%)] \n",
      "\tJacc: 0.545 Hamm: 0.040 DistLoss: 0.196\n"
     ]
    },
    {
     "name": "stderr",
     "output_type": "stream",
     "text": [
      "C:\\Users\\Siloux\\.conda\\envs\\species-id\\lib\\site-packages\\sklearn\\metrics\\_classification.py:1318: UndefinedMetricWarning: Jaccard is ill-defined and being set to 0.0 in labels with no true or predicted samples. Use `zero_division` parameter to control this behavior.\n",
      "  _warn_prf(average, modifier, msg_start, len(result))\n"
     ]
    },
    {
     "name": "stdout",
     "output_type": "stream",
     "text": [
      "Epoch: 0 [batch 1310/4063 (32.24%)] \n",
      "\tJacc: 0.333 Hamm: 0.074 DistLoss: 0.196\n"
     ]
    },
    {
     "name": "stderr",
     "output_type": "stream",
     "text": [
      "C:\\Users\\Siloux\\.conda\\envs\\species-id\\lib\\site-packages\\sklearn\\metrics\\_classification.py:1318: UndefinedMetricWarning: Jaccard is ill-defined and being set to 0.0 in labels with no true or predicted samples. Use `zero_division` parameter to control this behavior.\n",
      "  _warn_prf(average, modifier, msg_start, len(result))\n"
     ]
    },
    {
     "name": "stdout",
     "output_type": "stream",
     "text": [
      "Epoch: 0 [batch 1320/4063 (32.49%)] \n",
      "\tJacc: 0.500 Hamm: 0.062 DistLoss: 0.195\n",
      "Epoch: 0 [batch 1330/4063 (32.73%)] \n",
      "\tJacc: 0.545 Hamm: 0.034 DistLoss: 0.195\n"
     ]
    },
    {
     "name": "stderr",
     "output_type": "stream",
     "text": [
      "C:\\Users\\Siloux\\.conda\\envs\\species-id\\lib\\site-packages\\sklearn\\metrics\\_classification.py:1318: UndefinedMetricWarning: Jaccard is ill-defined and being set to 0.0 in labels with no true or predicted samples. Use `zero_division` parameter to control this behavior.\n",
      "  _warn_prf(average, modifier, msg_start, len(result))\n"
     ]
    },
    {
     "name": "stdout",
     "output_type": "stream",
     "text": [
      "Epoch: 0 [batch 1340/4063 (32.98%)] \n",
      "\tJacc: 0.515 Hamm: 0.045 DistLoss: 0.194\n"
     ]
    },
    {
     "name": "stderr",
     "output_type": "stream",
     "text": [
      "C:\\Users\\Siloux\\.conda\\envs\\species-id\\lib\\site-packages\\sklearn\\metrics\\_classification.py:1318: UndefinedMetricWarning: Jaccard is ill-defined and being set to 0.0 in labels with no true or predicted samples. Use `zero_division` parameter to control this behavior.\n",
      "  _warn_prf(average, modifier, msg_start, len(result))\n"
     ]
    },
    {
     "name": "stdout",
     "output_type": "stream",
     "text": [
      "Epoch: 0 [batch 1350/4063 (33.23%)] \n",
      "\tJacc: 0.424 Hamm: 0.080 DistLoss: 0.194\n"
     ]
    },
    {
     "name": "stderr",
     "output_type": "stream",
     "text": [
      "C:\\Users\\Siloux\\.conda\\envs\\species-id\\lib\\site-packages\\sklearn\\metrics\\_classification.py:1318: UndefinedMetricWarning: Jaccard is ill-defined and being set to 0.0 in labels with no true or predicted samples. Use `zero_division` parameter to control this behavior.\n",
      "  _warn_prf(average, modifier, msg_start, len(result))\n"
     ]
    },
    {
     "name": "stdout",
     "output_type": "stream",
     "text": [
      "Epoch: 0 [batch 1360/4063 (33.47%)] \n",
      "\tJacc: 0.515 Hamm: 0.062 DistLoss: 0.193\n",
      "Epoch: 0 [batch 1370/4063 (33.72%)] \n",
      "\tJacc: 0.515 Hamm: 0.045 DistLoss: 0.193\n"
     ]
    },
    {
     "name": "stderr",
     "output_type": "stream",
     "text": [
      "C:\\Users\\Siloux\\.conda\\envs\\species-id\\lib\\site-packages\\sklearn\\metrics\\_classification.py:1318: UndefinedMetricWarning: Jaccard is ill-defined and being set to 0.0 in labels with no true or predicted samples. Use `zero_division` parameter to control this behavior.\n",
      "  _warn_prf(average, modifier, msg_start, len(result))\n"
     ]
    },
    {
     "name": "stdout",
     "output_type": "stream",
     "text": [
      "Epoch: 0 [batch 1380/4063 (33.97%)] \n",
      "\tJacc: 0.545 Hamm: 0.040 DistLoss: 0.192\n"
     ]
    },
    {
     "name": "stderr",
     "output_type": "stream",
     "text": [
      "C:\\Users\\Siloux\\.conda\\envs\\species-id\\lib\\site-packages\\sklearn\\metrics\\_classification.py:1318: UndefinedMetricWarning: Jaccard is ill-defined and being set to 0.0 in labels with no true or predicted samples. Use `zero_division` parameter to control this behavior.\n",
      "  _warn_prf(average, modifier, msg_start, len(result))\n"
     ]
    },
    {
     "name": "stdout",
     "output_type": "stream",
     "text": [
      "Epoch: 0 [batch 1390/4063 (34.21%)] \n",
      "\tJacc: 0.538 Hamm: 0.057 DistLoss: 0.192\n",
      "Epoch: 0 [batch 1400/4063 (34.46%)] \n",
      "\tJacc: 0.432 Hamm: 0.068 DistLoss: 0.191\n",
      "Epoch: 0 [batch 1410/4063 (34.70%)] \n",
      "\tJacc: 0.765 Hamm: 0.011 DistLoss: 0.191\n"
     ]
    },
    {
     "name": "stderr",
     "output_type": "stream",
     "text": [
      "C:\\Users\\Siloux\\.conda\\envs\\species-id\\lib\\site-packages\\sklearn\\metrics\\_classification.py:1318: UndefinedMetricWarning: Jaccard is ill-defined and being set to 0.0 in labels with no true or predicted samples. Use `zero_division` parameter to control this behavior.\n",
      "  _warn_prf(average, modifier, msg_start, len(result))\n"
     ]
    },
    {
     "name": "stdout",
     "output_type": "stream",
     "text": [
      "Epoch: 0 [batch 1420/4063 (34.95%)] \n",
      "\tJacc: 0.367 Hamm: 0.097 DistLoss: 0.190\n"
     ]
    },
    {
     "name": "stderr",
     "output_type": "stream",
     "text": [
      "C:\\Users\\Siloux\\.conda\\envs\\species-id\\lib\\site-packages\\sklearn\\metrics\\_classification.py:1318: UndefinedMetricWarning: Jaccard is ill-defined and being set to 0.0 in labels with no true or predicted samples. Use `zero_division` parameter to control this behavior.\n",
      "  _warn_prf(average, modifier, msg_start, len(result))\n"
     ]
    },
    {
     "name": "stdout",
     "output_type": "stream",
     "text": [
      "Epoch: 0 [batch 1430/4063 (35.20%)] \n",
      "\tJacc: 0.530 Hamm: 0.051 DistLoss: 0.189\n"
     ]
    },
    {
     "name": "stderr",
     "output_type": "stream",
     "text": [
      "C:\\Users\\Siloux\\.conda\\envs\\species-id\\lib\\site-packages\\sklearn\\metrics\\_classification.py:1318: UndefinedMetricWarning: Jaccard is ill-defined and being set to 0.0 in labels with no true or predicted samples. Use `zero_division` parameter to control this behavior.\n",
      "  _warn_prf(average, modifier, msg_start, len(result))\n"
     ]
    },
    {
     "name": "stdout",
     "output_type": "stream",
     "text": [
      "Epoch: 0 [batch 1440/4063 (35.44%)] \n",
      "\tJacc: 0.614 Hamm: 0.028 DistLoss: 0.189\n"
     ]
    },
    {
     "name": "stderr",
     "output_type": "stream",
     "text": [
      "C:\\Users\\Siloux\\.conda\\envs\\species-id\\lib\\site-packages\\sklearn\\metrics\\_classification.py:1318: UndefinedMetricWarning: Jaccard is ill-defined and being set to 0.0 in labels with no true or predicted samples. Use `zero_division` parameter to control this behavior.\n",
      "  _warn_prf(average, modifier, msg_start, len(result))\n"
     ]
    },
    {
     "name": "stdout",
     "output_type": "stream",
     "text": [
      "Epoch: 0 [batch 1450/4063 (35.69%)] \n",
      "\tJacc: 0.417 Hamm: 0.080 DistLoss: 0.189\n",
      "Epoch: 0 [batch 1460/4063 (35.93%)] \n",
      "\tJacc: 0.455 Hamm: 0.057 DistLoss: 0.188\n"
     ]
    },
    {
     "name": "stderr",
     "output_type": "stream",
     "text": [
      "C:\\Users\\Siloux\\.conda\\envs\\species-id\\lib\\site-packages\\sklearn\\metrics\\_classification.py:1318: UndefinedMetricWarning: Jaccard is ill-defined and being set to 0.0 in labels with no true or predicted samples. Use `zero_division` parameter to control this behavior.\n",
      "  _warn_prf(average, modifier, msg_start, len(result))\n"
     ]
    },
    {
     "name": "stdout",
     "output_type": "stream",
     "text": [
      "Epoch: 0 [batch 1470/4063 (36.18%)] \n",
      "\tJacc: 0.636 Hamm: 0.028 DistLoss: 0.188\n",
      "Epoch: 0 [batch 1480/4063 (36.43%)] \n",
      "\tJacc: 0.515 Hamm: 0.051 DistLoss: 0.187\n"
     ]
    },
    {
     "name": "stderr",
     "output_type": "stream",
     "text": [
      "C:\\Users\\Siloux\\.conda\\envs\\species-id\\lib\\site-packages\\sklearn\\metrics\\_classification.py:1318: UndefinedMetricWarning: Jaccard is ill-defined and being set to 0.0 in labels with no true or predicted samples. Use `zero_division` parameter to control this behavior.\n",
      "  _warn_prf(average, modifier, msg_start, len(result))\n"
     ]
    },
    {
     "name": "stdout",
     "output_type": "stream",
     "text": [
      "Epoch: 0 [batch 1490/4063 (36.67%)] \n",
      "\tJacc: 0.485 Hamm: 0.057 DistLoss: 0.187\n"
     ]
    },
    {
     "name": "stderr",
     "output_type": "stream",
     "text": [
      "C:\\Users\\Siloux\\.conda\\envs\\species-id\\lib\\site-packages\\sklearn\\metrics\\_classification.py:1318: UndefinedMetricWarning: Jaccard is ill-defined and being set to 0.0 in labels with no true or predicted samples. Use `zero_division` parameter to control this behavior.\n",
      "  _warn_prf(average, modifier, msg_start, len(result))\n"
     ]
    },
    {
     "name": "stdout",
     "output_type": "stream",
     "text": [
      "Epoch: 0 [batch 1500/4063 (36.92%)] \n",
      "\tJacc: 0.545 Hamm: 0.040 DistLoss: 0.186\n"
     ]
    },
    {
     "name": "stderr",
     "output_type": "stream",
     "text": [
      "C:\\Users\\Siloux\\.conda\\envs\\species-id\\lib\\site-packages\\sklearn\\metrics\\_classification.py:1318: UndefinedMetricWarning: Jaccard is ill-defined and being set to 0.0 in labels with no true or predicted samples. Use `zero_division` parameter to control this behavior.\n",
      "  _warn_prf(average, modifier, msg_start, len(result))\n"
     ]
    },
    {
     "name": "stdout",
     "output_type": "stream",
     "text": [
      "Epoch: 0 [batch 1510/4063 (37.16%)] \n",
      "\tJacc: 0.424 Hamm: 0.068 DistLoss: 0.186\n",
      "Epoch: 0 [batch 1520/4063 (37.41%)] \n",
      "\tJacc: 0.582 Hamm: 0.040 DistLoss: 0.186\n"
     ]
    },
    {
     "name": "stderr",
     "output_type": "stream",
     "text": [
      "C:\\Users\\Siloux\\.conda\\envs\\species-id\\lib\\site-packages\\sklearn\\metrics\\_classification.py:1318: UndefinedMetricWarning: Jaccard is ill-defined and being set to 0.0 in labels with no true or predicted samples. Use `zero_division` parameter to control this behavior.\n",
      "  _warn_prf(average, modifier, msg_start, len(result))\n"
     ]
    },
    {
     "name": "stdout",
     "output_type": "stream",
     "text": [
      "Epoch: 0 [batch 1530/4063 (37.66%)] \n",
      "\tJacc: 0.567 Hamm: 0.051 DistLoss: 0.185\n"
     ]
    },
    {
     "name": "stderr",
     "output_type": "stream",
     "text": [
      "C:\\Users\\Siloux\\.conda\\envs\\species-id\\lib\\site-packages\\sklearn\\metrics\\_classification.py:1318: UndefinedMetricWarning: Jaccard is ill-defined and being set to 0.0 in labels with no true or predicted samples. Use `zero_division` parameter to control this behavior.\n",
      "  _warn_prf(average, modifier, msg_start, len(result))\n"
     ]
    },
    {
     "name": "stdout",
     "output_type": "stream",
     "text": [
      "Epoch: 0 [batch 1540/4063 (37.90%)] \n",
      "\tJacc: 0.347 Hamm: 0.091 DistLoss: 0.185\n"
     ]
    },
    {
     "name": "stderr",
     "output_type": "stream",
     "text": [
      "C:\\Users\\Siloux\\.conda\\envs\\species-id\\lib\\site-packages\\sklearn\\metrics\\_classification.py:1318: UndefinedMetricWarning: Jaccard is ill-defined and being set to 0.0 in labels with no true or predicted samples. Use `zero_division` parameter to control this behavior.\n",
      "  _warn_prf(average, modifier, msg_start, len(result))\n"
     ]
    },
    {
     "name": "stdout",
     "output_type": "stream",
     "text": [
      "Epoch: 0 [batch 1550/4063 (38.15%)] \n",
      "\tJacc: 0.615 Hamm: 0.034 DistLoss: 0.184\n"
     ]
    },
    {
     "name": "stderr",
     "output_type": "stream",
     "text": [
      "C:\\Users\\Siloux\\.conda\\envs\\species-id\\lib\\site-packages\\sklearn\\metrics\\_classification.py:1318: UndefinedMetricWarning: Jaccard is ill-defined and being set to 0.0 in labels with no true or predicted samples. Use `zero_division` parameter to control this behavior.\n",
      "  _warn_prf(average, modifier, msg_start, len(result))\n"
     ]
    },
    {
     "name": "stdout",
     "output_type": "stream",
     "text": [
      "Epoch: 0 [batch 1560/4063 (38.40%)] \n",
      "\tJacc: 0.561 Hamm: 0.040 DistLoss: 0.184\n",
      "Epoch: 0 [batch 1570/4063 (38.64%)] \n",
      "\tJacc: 0.477 Hamm: 0.080 DistLoss: 0.184\n",
      "Epoch: 0 [batch 1580/4063 (38.89%)] \n",
      "\tJacc: 0.636 Hamm: 0.023 DistLoss: 0.183\n"
     ]
    },
    {
     "name": "stderr",
     "output_type": "stream",
     "text": [
      "C:\\Users\\Siloux\\.conda\\envs\\species-id\\lib\\site-packages\\sklearn\\metrics\\_classification.py:1318: UndefinedMetricWarning: Jaccard is ill-defined and being set to 0.0 in labels with no true or predicted samples. Use `zero_division` parameter to control this behavior.\n",
      "  _warn_prf(average, modifier, msg_start, len(result))\n"
     ]
    },
    {
     "name": "stdout",
     "output_type": "stream",
     "text": [
      "Epoch: 0 [batch 1590/4063 (39.13%)] \n",
      "\tJacc: 0.468 Hamm: 0.051 DistLoss: 0.183\n"
     ]
    },
    {
     "name": "stderr",
     "output_type": "stream",
     "text": [
      "C:\\Users\\Siloux\\.conda\\envs\\species-id\\lib\\site-packages\\sklearn\\metrics\\_classification.py:1318: UndefinedMetricWarning: Jaccard is ill-defined and being set to 0.0 in labels with no true or predicted samples. Use `zero_division` parameter to control this behavior.\n",
      "  _warn_prf(average, modifier, msg_start, len(result))\n"
     ]
    },
    {
     "name": "stdout",
     "output_type": "stream",
     "text": [
      "Epoch: 0 [batch 1600/4063 (39.38%)] \n",
      "\tJacc: 0.417 Hamm: 0.074 DistLoss: 0.182\n",
      "Epoch: 0 [batch 1610/4063 (39.63%)] \n",
      "\tJacc: 0.121 Hamm: 0.102 DistLoss: 0.182\n"
     ]
    },
    {
     "name": "stderr",
     "output_type": "stream",
     "text": [
      "C:\\Users\\Siloux\\.conda\\envs\\species-id\\lib\\site-packages\\sklearn\\metrics\\_classification.py:1318: UndefinedMetricWarning: Jaccard is ill-defined and being set to 0.0 in labels with no true or predicted samples. Use `zero_division` parameter to control this behavior.\n",
      "  _warn_prf(average, modifier, msg_start, len(result))\n"
     ]
    },
    {
     "name": "stdout",
     "output_type": "stream",
     "text": [
      "Epoch: 0 [batch 1620/4063 (39.87%)] \n",
      "\tJacc: 0.500 Hamm: 0.051 DistLoss: 0.182\n"
     ]
    },
    {
     "name": "stderr",
     "output_type": "stream",
     "text": [
      "C:\\Users\\Siloux\\.conda\\envs\\species-id\\lib\\site-packages\\sklearn\\metrics\\_classification.py:1318: UndefinedMetricWarning: Jaccard is ill-defined and being set to 0.0 in labels with no true or predicted samples. Use `zero_division` parameter to control this behavior.\n",
      "  _warn_prf(average, modifier, msg_start, len(result))\n"
     ]
    },
    {
     "name": "stdout",
     "output_type": "stream",
     "text": [
      "Epoch: 0 [batch 1630/4063 (40.12%)] \n",
      "\tJacc: 0.523 Hamm: 0.045 DistLoss: 0.181\n"
     ]
    },
    {
     "name": "stderr",
     "output_type": "stream",
     "text": [
      "C:\\Users\\Siloux\\.conda\\envs\\species-id\\lib\\site-packages\\sklearn\\metrics\\_classification.py:1318: UndefinedMetricWarning: Jaccard is ill-defined and being set to 0.0 in labels with no true or predicted samples. Use `zero_division` parameter to control this behavior.\n",
      "  _warn_prf(average, modifier, msg_start, len(result))\n"
     ]
    },
    {
     "name": "stdout",
     "output_type": "stream",
     "text": [
      "Epoch: 0 [batch 1640/4063 (40.36%)] \n",
      "\tJacc: 0.394 Hamm: 0.074 DistLoss: 0.181\n"
     ]
    },
    {
     "name": "stderr",
     "output_type": "stream",
     "text": [
      "C:\\Users\\Siloux\\.conda\\envs\\species-id\\lib\\site-packages\\sklearn\\metrics\\_classification.py:1318: UndefinedMetricWarning: Jaccard is ill-defined and being set to 0.0 in labels with no true or predicted samples. Use `zero_division` parameter to control this behavior.\n",
      "  _warn_prf(average, modifier, msg_start, len(result))\n"
     ]
    },
    {
     "name": "stdout",
     "output_type": "stream",
     "text": [
      "Epoch: 0 [batch 1650/4063 (40.61%)] \n",
      "\tJacc: 0.524 Hamm: 0.051 DistLoss: 0.181\n"
     ]
    },
    {
     "name": "stderr",
     "output_type": "stream",
     "text": [
      "C:\\Users\\Siloux\\.conda\\envs\\species-id\\lib\\site-packages\\sklearn\\metrics\\_classification.py:1318: UndefinedMetricWarning: Jaccard is ill-defined and being set to 0.0 in labels with no true or predicted samples. Use `zero_division` parameter to control this behavior.\n",
      "  _warn_prf(average, modifier, msg_start, len(result))\n"
     ]
    },
    {
     "name": "stdout",
     "output_type": "stream",
     "text": [
      "Epoch: 0 [batch 1660/4063 (40.86%)] \n",
      "\tJacc: 0.742 Hamm: 0.028 DistLoss: 0.180\n",
      "Epoch: 0 [batch 1670/4063 (41.10%)] \n",
      "\tJacc: 0.591 Hamm: 0.045 DistLoss: 0.180\n"
     ]
    },
    {
     "name": "stderr",
     "output_type": "stream",
     "text": [
      "C:\\Users\\Siloux\\.conda\\envs\\species-id\\lib\\site-packages\\sklearn\\metrics\\_classification.py:1318: UndefinedMetricWarning: Jaccard is ill-defined and being set to 0.0 in labels with no true or predicted samples. Use `zero_division` parameter to control this behavior.\n",
      "  _warn_prf(average, modifier, msg_start, len(result))\n"
     ]
    },
    {
     "name": "stdout",
     "output_type": "stream",
     "text": [
      "Epoch: 0 [batch 1680/4063 (41.35%)] \n",
      "\tJacc: 0.576 Hamm: 0.040 DistLoss: 0.179\n"
     ]
    },
    {
     "name": "stderr",
     "output_type": "stream",
     "text": [
      "C:\\Users\\Siloux\\.conda\\envs\\species-id\\lib\\site-packages\\sklearn\\metrics\\_classification.py:1318: UndefinedMetricWarning: Jaccard is ill-defined and being set to 0.0 in labels with no true or predicted samples. Use `zero_division` parameter to control this behavior.\n",
      "  _warn_prf(average, modifier, msg_start, len(result))\n"
     ]
    },
    {
     "name": "stdout",
     "output_type": "stream",
     "text": [
      "Epoch: 0 [batch 1690/4063 (41.59%)] \n",
      "\tJacc: 0.636 Hamm: 0.040 DistLoss: 0.179\n"
     ]
    },
    {
     "name": "stderr",
     "output_type": "stream",
     "text": [
      "C:\\Users\\Siloux\\.conda\\envs\\species-id\\lib\\site-packages\\sklearn\\metrics\\_classification.py:1318: UndefinedMetricWarning: Jaccard is ill-defined and being set to 0.0 in labels with no true or predicted samples. Use `zero_division` parameter to control this behavior.\n",
      "  _warn_prf(average, modifier, msg_start, len(result))\n"
     ]
    },
    {
     "name": "stdout",
     "output_type": "stream",
     "text": [
      "Epoch: 0 [batch 1700/4063 (41.84%)] \n",
      "\tJacc: 0.352 Hamm: 0.074 DistLoss: 0.179\n"
     ]
    },
    {
     "name": "stderr",
     "output_type": "stream",
     "text": [
      "C:\\Users\\Siloux\\.conda\\envs\\species-id\\lib\\site-packages\\sklearn\\metrics\\_classification.py:1318: UndefinedMetricWarning: Jaccard is ill-defined and being set to 0.0 in labels with no true or predicted samples. Use `zero_division` parameter to control this behavior.\n",
      "  _warn_prf(average, modifier, msg_start, len(result))\n"
     ]
    },
    {
     "name": "stdout",
     "output_type": "stream",
     "text": [
      "Epoch: 0 [batch 1710/4063 (42.09%)] \n",
      "\tJacc: 0.386 Hamm: 0.085 DistLoss: 0.178\n"
     ]
    },
    {
     "name": "stderr",
     "output_type": "stream",
     "text": [
      "C:\\Users\\Siloux\\.conda\\envs\\species-id\\lib\\site-packages\\sklearn\\metrics\\_classification.py:1318: UndefinedMetricWarning: Jaccard is ill-defined and being set to 0.0 in labels with no true or predicted samples. Use `zero_division` parameter to control this behavior.\n",
      "  _warn_prf(average, modifier, msg_start, len(result))\n"
     ]
    },
    {
     "name": "stdout",
     "output_type": "stream",
     "text": [
      "Epoch: 0 [batch 1720/4063 (42.33%)] \n",
      "\tJacc: 0.445 Hamm: 0.051 DistLoss: 0.178\n"
     ]
    },
    {
     "name": "stderr",
     "output_type": "stream",
     "text": [
      "C:\\Users\\Siloux\\.conda\\envs\\species-id\\lib\\site-packages\\sklearn\\metrics\\_classification.py:1318: UndefinedMetricWarning: Jaccard is ill-defined and being set to 0.0 in labels with no true or predicted samples. Use `zero_division` parameter to control this behavior.\n",
      "  _warn_prf(average, modifier, msg_start, len(result))\n"
     ]
    },
    {
     "name": "stdout",
     "output_type": "stream",
     "text": [
      "Epoch: 0 [batch 1730/4063 (42.58%)] \n",
      "\tJacc: 0.500 Hamm: 0.068 DistLoss: 0.178\n"
     ]
    },
    {
     "name": "stderr",
     "output_type": "stream",
     "text": [
      "C:\\Users\\Siloux\\.conda\\envs\\species-id\\lib\\site-packages\\sklearn\\metrics\\_classification.py:1318: UndefinedMetricWarning: Jaccard is ill-defined and being set to 0.0 in labels with no true or predicted samples. Use `zero_division` parameter to control this behavior.\n",
      "  _warn_prf(average, modifier, msg_start, len(result))\n"
     ]
    },
    {
     "name": "stdout",
     "output_type": "stream",
     "text": [
      "Epoch: 0 [batch 1740/4063 (42.83%)] \n",
      "\tJacc: 0.591 Hamm: 0.034 DistLoss: 0.177\n"
     ]
    },
    {
     "name": "stderr",
     "output_type": "stream",
     "text": [
      "C:\\Users\\Siloux\\.conda\\envs\\species-id\\lib\\site-packages\\sklearn\\metrics\\_classification.py:1318: UndefinedMetricWarning: Jaccard is ill-defined and being set to 0.0 in labels with no true or predicted samples. Use `zero_division` parameter to control this behavior.\n",
      "  _warn_prf(average, modifier, msg_start, len(result))\n"
     ]
    },
    {
     "name": "stdout",
     "output_type": "stream",
     "text": [
      "Epoch: 0 [batch 1750/4063 (43.07%)] \n",
      "\tJacc: 0.621 Hamm: 0.040 DistLoss: 0.177\n",
      "Epoch: 0 [batch 1760/4063 (43.32%)] \n",
      "\tJacc: 0.667 Hamm: 0.023 DistLoss: 0.177\n"
     ]
    },
    {
     "name": "stderr",
     "output_type": "stream",
     "text": [
      "C:\\Users\\Siloux\\.conda\\envs\\species-id\\lib\\site-packages\\sklearn\\metrics\\_classification.py:1318: UndefinedMetricWarning: Jaccard is ill-defined and being set to 0.0 in labels with no true or predicted samples. Use `zero_division` parameter to control this behavior.\n",
      "  _warn_prf(average, modifier, msg_start, len(result))\n"
     ]
    },
    {
     "name": "stdout",
     "output_type": "stream",
     "text": [
      "Epoch: 0 [batch 1770/4063 (43.56%)] \n",
      "\tJacc: 0.614 Hamm: 0.028 DistLoss: 0.176\n"
     ]
    },
    {
     "name": "stderr",
     "output_type": "stream",
     "text": [
      "C:\\Users\\Siloux\\.conda\\envs\\species-id\\lib\\site-packages\\sklearn\\metrics\\_classification.py:1318: UndefinedMetricWarning: Jaccard is ill-defined and being set to 0.0 in labels with no true or predicted samples. Use `zero_division` parameter to control this behavior.\n",
      "  _warn_prf(average, modifier, msg_start, len(result))\n"
     ]
    },
    {
     "name": "stdout",
     "output_type": "stream",
     "text": [
      "Epoch: 0 [batch 1780/4063 (43.81%)] \n",
      "\tJacc: 0.606 Hamm: 0.045 DistLoss: 0.176\n",
      "Epoch: 0 [batch 1790/4063 (44.06%)] \n",
      "\tJacc: 0.568 Hamm: 0.045 DistLoss: 0.176\n"
     ]
    },
    {
     "name": "stderr",
     "output_type": "stream",
     "text": [
      "C:\\Users\\Siloux\\.conda\\envs\\species-id\\lib\\site-packages\\sklearn\\metrics\\_classification.py:1318: UndefinedMetricWarning: Jaccard is ill-defined and being set to 0.0 in labels with no true or predicted samples. Use `zero_division` parameter to control this behavior.\n",
      "  _warn_prf(average, modifier, msg_start, len(result))\n"
     ]
    },
    {
     "name": "stdout",
     "output_type": "stream",
     "text": [
      "Epoch: 0 [batch 1800/4063 (44.30%)] \n",
      "\tJacc: 0.727 Hamm: 0.028 DistLoss: 0.175\n"
     ]
    },
    {
     "name": "stderr",
     "output_type": "stream",
     "text": [
      "C:\\Users\\Siloux\\.conda\\envs\\species-id\\lib\\site-packages\\sklearn\\metrics\\_classification.py:1318: UndefinedMetricWarning: Jaccard is ill-defined and being set to 0.0 in labels with no true or predicted samples. Use `zero_division` parameter to control this behavior.\n",
      "  _warn_prf(average, modifier, msg_start, len(result))\n"
     ]
    },
    {
     "name": "stdout",
     "output_type": "stream",
     "text": [
      "Epoch: 0 [batch 1810/4063 (44.55%)] \n",
      "\tJacc: 0.445 Hamm: 0.057 DistLoss: 0.175\n"
     ]
    },
    {
     "name": "stderr",
     "output_type": "stream",
     "text": [
      "C:\\Users\\Siloux\\.conda\\envs\\species-id\\lib\\site-packages\\sklearn\\metrics\\_classification.py:1318: UndefinedMetricWarning: Jaccard is ill-defined and being set to 0.0 in labels with no true or predicted samples. Use `zero_division` parameter to control this behavior.\n",
      "  _warn_prf(average, modifier, msg_start, len(result))\n"
     ]
    },
    {
     "name": "stdout",
     "output_type": "stream",
     "text": [
      "Epoch: 0 [batch 1820/4063 (44.79%)] \n",
      "\tJacc: 0.538 Hamm: 0.051 DistLoss: 0.175\n"
     ]
    },
    {
     "name": "stderr",
     "output_type": "stream",
     "text": [
      "C:\\Users\\Siloux\\.conda\\envs\\species-id\\lib\\site-packages\\sklearn\\metrics\\_classification.py:1318: UndefinedMetricWarning: Jaccard is ill-defined and being set to 0.0 in labels with no true or predicted samples. Use `zero_division` parameter to control this behavior.\n",
      "  _warn_prf(average, modifier, msg_start, len(result))\n"
     ]
    },
    {
     "name": "stdout",
     "output_type": "stream",
     "text": [
      "Epoch: 0 [batch 1830/4063 (45.04%)] \n",
      "\tJacc: 0.455 Hamm: 0.085 DistLoss: 0.174\n"
     ]
    },
    {
     "name": "stderr",
     "output_type": "stream",
     "text": [
      "C:\\Users\\Siloux\\.conda\\envs\\species-id\\lib\\site-packages\\sklearn\\metrics\\_classification.py:1318: UndefinedMetricWarning: Jaccard is ill-defined and being set to 0.0 in labels with no true or predicted samples. Use `zero_division` parameter to control this behavior.\n",
      "  _warn_prf(average, modifier, msg_start, len(result))\n"
     ]
    },
    {
     "name": "stdout",
     "output_type": "stream",
     "text": [
      "Epoch: 0 [batch 1840/4063 (45.29%)] \n",
      "\tJacc: 0.508 Hamm: 0.068 DistLoss: 0.174\n",
      "Epoch: 0 [batch 1850/4063 (45.53%)] \n",
      "\tJacc: 0.477 Hamm: 0.045 DistLoss: 0.174\n"
     ]
    },
    {
     "name": "stderr",
     "output_type": "stream",
     "text": [
      "C:\\Users\\Siloux\\.conda\\envs\\species-id\\lib\\site-packages\\sklearn\\metrics\\_classification.py:1318: UndefinedMetricWarning: Jaccard is ill-defined and being set to 0.0 in labels with no true or predicted samples. Use `zero_division` parameter to control this behavior.\n",
      "  _warn_prf(average, modifier, msg_start, len(result))\n"
     ]
    },
    {
     "name": "stdout",
     "output_type": "stream",
     "text": [
      "Epoch: 0 [batch 1860/4063 (45.78%)] \n",
      "\tJacc: 0.561 Hamm: 0.034 DistLoss: 0.173\n"
     ]
    },
    {
     "name": "stderr",
     "output_type": "stream",
     "text": [
      "C:\\Users\\Siloux\\.conda\\envs\\species-id\\lib\\site-packages\\sklearn\\metrics\\_classification.py:1318: UndefinedMetricWarning: Jaccard is ill-defined and being set to 0.0 in labels with no true or predicted samples. Use `zero_division` parameter to control this behavior.\n",
      "  _warn_prf(average, modifier, msg_start, len(result))\n"
     ]
    },
    {
     "name": "stdout",
     "output_type": "stream",
     "text": [
      "Epoch: 0 [batch 1870/4063 (46.03%)] \n",
      "\tJacc: 0.621 Hamm: 0.045 DistLoss: 0.173\n",
      "Epoch: 0 [batch 1880/4063 (46.27%)] \n",
      "\tJacc: 0.348 Hamm: 0.080 DistLoss: 0.173\n",
      "Epoch: 0 [batch 1890/4063 (46.52%)] \n",
      "\tJacc: 0.576 Hamm: 0.040 DistLoss: 0.172\n"
     ]
    },
    {
     "name": "stderr",
     "output_type": "stream",
     "text": [
      "C:\\Users\\Siloux\\.conda\\envs\\species-id\\lib\\site-packages\\sklearn\\metrics\\_classification.py:1318: UndefinedMetricWarning: Jaccard is ill-defined and being set to 0.0 in labels with no true or predicted samples. Use `zero_division` parameter to control this behavior.\n",
      "  _warn_prf(average, modifier, msg_start, len(result))\n"
     ]
    },
    {
     "name": "stdout",
     "output_type": "stream",
     "text": [
      "Epoch: 0 [batch 1900/4063 (46.76%)] \n",
      "\tJacc: 0.536 Hamm: 0.051 DistLoss: 0.172\n"
     ]
    },
    {
     "name": "stderr",
     "output_type": "stream",
     "text": [
      "C:\\Users\\Siloux\\.conda\\envs\\species-id\\lib\\site-packages\\sklearn\\metrics\\_classification.py:1318: UndefinedMetricWarning: Jaccard is ill-defined and being set to 0.0 in labels with no true or predicted samples. Use `zero_division` parameter to control this behavior.\n",
      "  _warn_prf(average, modifier, msg_start, len(result))\n"
     ]
    },
    {
     "name": "stdout",
     "output_type": "stream",
     "text": [
      "Epoch: 0 [batch 1910/4063 (47.01%)] \n",
      "\tJacc: 0.371 Hamm: 0.080 DistLoss: 0.172\n"
     ]
    },
    {
     "name": "stderr",
     "output_type": "stream",
     "text": [
      "C:\\Users\\Siloux\\.conda\\envs\\species-id\\lib\\site-packages\\sklearn\\metrics\\_classification.py:1318: UndefinedMetricWarning: Jaccard is ill-defined and being set to 0.0 in labels with no true or predicted samples. Use `zero_division` parameter to control this behavior.\n",
      "  _warn_prf(average, modifier, msg_start, len(result))\n"
     ]
    },
    {
     "name": "stdout",
     "output_type": "stream",
     "text": [
      "Epoch: 0 [batch 1920/4063 (47.26%)] \n",
      "\tJacc: 0.652 Hamm: 0.040 DistLoss: 0.171\n",
      "Epoch: 0 [batch 1930/4063 (47.50%)] \n",
      "\tJacc: 0.470 Hamm: 0.045 DistLoss: 0.171\n"
     ]
    },
    {
     "name": "stderr",
     "output_type": "stream",
     "text": [
      "C:\\Users\\Siloux\\.conda\\envs\\species-id\\lib\\site-packages\\sklearn\\metrics\\_classification.py:1318: UndefinedMetricWarning: Jaccard is ill-defined and being set to 0.0 in labels with no true or predicted samples. Use `zero_division` parameter to control this behavior.\n",
      "  _warn_prf(average, modifier, msg_start, len(result))\n"
     ]
    },
    {
     "name": "stdout",
     "output_type": "stream",
     "text": [
      "Epoch: 0 [batch 1940/4063 (47.75%)] \n",
      "\tJacc: 0.679 Hamm: 0.034 DistLoss: 0.171\n"
     ]
    },
    {
     "name": "stderr",
     "output_type": "stream",
     "text": [
      "C:\\Users\\Siloux\\.conda\\envs\\species-id\\lib\\site-packages\\sklearn\\metrics\\_classification.py:1318: UndefinedMetricWarning: Jaccard is ill-defined and being set to 0.0 in labels with no true or predicted samples. Use `zero_division` parameter to control this behavior.\n",
      "  _warn_prf(average, modifier, msg_start, len(result))\n"
     ]
    },
    {
     "name": "stdout",
     "output_type": "stream",
     "text": [
      "Epoch: 0 [batch 1950/4063 (47.99%)] \n",
      "\tJacc: 0.742 Hamm: 0.017 DistLoss: 0.171\n"
     ]
    },
    {
     "name": "stderr",
     "output_type": "stream",
     "text": [
      "C:\\Users\\Siloux\\.conda\\envs\\species-id\\lib\\site-packages\\sklearn\\metrics\\_classification.py:1318: UndefinedMetricWarning: Jaccard is ill-defined and being set to 0.0 in labels with no true or predicted samples. Use `zero_division` parameter to control this behavior.\n",
      "  _warn_prf(average, modifier, msg_start, len(result))\n"
     ]
    },
    {
     "name": "stdout",
     "output_type": "stream",
     "text": [
      "Epoch: 0 [batch 1960/4063 (48.24%)] \n",
      "\tJacc: 0.455 Hamm: 0.057 DistLoss: 0.170\n"
     ]
    },
    {
     "name": "stderr",
     "output_type": "stream",
     "text": [
      "C:\\Users\\Siloux\\.conda\\envs\\species-id\\lib\\site-packages\\sklearn\\metrics\\_classification.py:1318: UndefinedMetricWarning: Jaccard is ill-defined and being set to 0.0 in labels with no true or predicted samples. Use `zero_division` parameter to control this behavior.\n",
      "  _warn_prf(average, modifier, msg_start, len(result))\n"
     ]
    },
    {
     "name": "stdout",
     "output_type": "stream",
     "text": [
      "Epoch: 0 [batch 1970/4063 (48.49%)] \n",
      "\tJacc: 0.541 Hamm: 0.080 DistLoss: 0.170\n",
      "Epoch: 0 [batch 1980/4063 (48.73%)] \n",
      "\tJacc: 0.727 Hamm: 0.045 DistLoss: 0.170\n",
      "Epoch: 0 [batch 1990/4063 (48.98%)] \n",
      "\tJacc: 0.508 Hamm: 0.074 DistLoss: 0.169\n"
     ]
    },
    {
     "name": "stderr",
     "output_type": "stream",
     "text": [
      "C:\\Users\\Siloux\\.conda\\envs\\species-id\\lib\\site-packages\\sklearn\\metrics\\_classification.py:1318: UndefinedMetricWarning: Jaccard is ill-defined and being set to 0.0 in labels with no true or predicted samples. Use `zero_division` parameter to control this behavior.\n",
      "  _warn_prf(average, modifier, msg_start, len(result))\n"
     ]
    },
    {
     "name": "stdout",
     "output_type": "stream",
     "text": [
      "Epoch: 0 [batch 2000/4063 (49.22%)] \n",
      "\tJacc: 0.591 Hamm: 0.017 DistLoss: 0.169\n"
     ]
    },
    {
     "name": "stderr",
     "output_type": "stream",
     "text": [
      "C:\\Users\\Siloux\\.conda\\envs\\species-id\\lib\\site-packages\\sklearn\\metrics\\_classification.py:1318: UndefinedMetricWarning: Jaccard is ill-defined and being set to 0.0 in labels with no true or predicted samples. Use `zero_division` parameter to control this behavior.\n",
      "  _warn_prf(average, modifier, msg_start, len(result))\n"
     ]
    },
    {
     "name": "stdout",
     "output_type": "stream",
     "text": [
      "Epoch: 0 [batch 2010/4063 (49.47%)] \n",
      "\tJacc: 0.591 Hamm: 0.034 DistLoss: 0.169\n"
     ]
    },
    {
     "name": "stderr",
     "output_type": "stream",
     "text": [
      "C:\\Users\\Siloux\\.conda\\envs\\species-id\\lib\\site-packages\\sklearn\\metrics\\_classification.py:1318: UndefinedMetricWarning: Jaccard is ill-defined and being set to 0.0 in labels with no true or predicted samples. Use `zero_division` parameter to control this behavior.\n",
      "  _warn_prf(average, modifier, msg_start, len(result))\n"
     ]
    },
    {
     "name": "stdout",
     "output_type": "stream",
     "text": [
      "Epoch: 0 [batch 2020/4063 (49.72%)] \n",
      "\tJacc: 0.764 Hamm: 0.023 DistLoss: 0.168\n"
     ]
    },
    {
     "name": "stderr",
     "output_type": "stream",
     "text": [
      "C:\\Users\\Siloux\\.conda\\envs\\species-id\\lib\\site-packages\\sklearn\\metrics\\_classification.py:1318: UndefinedMetricWarning: Jaccard is ill-defined and being set to 0.0 in labels with no true or predicted samples. Use `zero_division` parameter to control this behavior.\n",
      "  _warn_prf(average, modifier, msg_start, len(result))\n"
     ]
    },
    {
     "name": "stdout",
     "output_type": "stream",
     "text": [
      "Epoch: 0 [batch 2030/4063 (49.96%)] \n",
      "\tJacc: 0.652 Hamm: 0.034 DistLoss: 0.168\n",
      "Epoch: 0 [batch 2040/4063 (50.21%)] \n",
      "\tJacc: 0.606 Hamm: 0.045 DistLoss: 0.168\n"
     ]
    },
    {
     "name": "stderr",
     "output_type": "stream",
     "text": [
      "C:\\Users\\Siloux\\.conda\\envs\\species-id\\lib\\site-packages\\sklearn\\metrics\\_classification.py:1318: UndefinedMetricWarning: Jaccard is ill-defined and being set to 0.0 in labels with no true or predicted samples. Use `zero_division` parameter to control this behavior.\n",
      "  _warn_prf(average, modifier, msg_start, len(result))\n"
     ]
    },
    {
     "name": "stdout",
     "output_type": "stream",
     "text": [
      "Epoch: 0 [batch 2050/4063 (50.46%)] \n",
      "\tJacc: 0.712 Hamm: 0.028 DistLoss: 0.167\n"
     ]
    },
    {
     "name": "stderr",
     "output_type": "stream",
     "text": [
      "C:\\Users\\Siloux\\.conda\\envs\\species-id\\lib\\site-packages\\sklearn\\metrics\\_classification.py:1318: UndefinedMetricWarning: Jaccard is ill-defined and being set to 0.0 in labels with no true or predicted samples. Use `zero_division` parameter to control this behavior.\n",
      "  _warn_prf(average, modifier, msg_start, len(result))\n"
     ]
    },
    {
     "name": "stdout",
     "output_type": "stream",
     "text": [
      "Epoch: 0 [batch 2060/4063 (50.70%)] \n",
      "\tJacc: 0.673 Hamm: 0.040 DistLoss: 0.167\n"
     ]
    },
    {
     "name": "stderr",
     "output_type": "stream",
     "text": [
      "C:\\Users\\Siloux\\.conda\\envs\\species-id\\lib\\site-packages\\sklearn\\metrics\\_classification.py:1318: UndefinedMetricWarning: Jaccard is ill-defined and being set to 0.0 in labels with no true or predicted samples. Use `zero_division` parameter to control this behavior.\n",
      "  _warn_prf(average, modifier, msg_start, len(result))\n"
     ]
    },
    {
     "name": "stdout",
     "output_type": "stream",
     "text": [
      "Epoch: 0 [batch 2070/4063 (50.95%)] \n",
      "\tJacc: 0.288 Hamm: 0.108 DistLoss: 0.167\n",
      "Epoch: 0 [batch 2080/4063 (51.19%)] \n",
      "\tJacc: 0.652 Hamm: 0.034 DistLoss: 0.167\n"
     ]
    },
    {
     "name": "stderr",
     "output_type": "stream",
     "text": [
      "C:\\Users\\Siloux\\.conda\\envs\\species-id\\lib\\site-packages\\sklearn\\metrics\\_classification.py:1318: UndefinedMetricWarning: Jaccard is ill-defined and being set to 0.0 in labels with no true or predicted samples. Use `zero_division` parameter to control this behavior.\n",
      "  _warn_prf(average, modifier, msg_start, len(result))\n"
     ]
    },
    {
     "name": "stdout",
     "output_type": "stream",
     "text": [
      "Epoch: 0 [batch 2090/4063 (51.44%)] \n",
      "\tJacc: 0.409 Hamm: 0.057 DistLoss: 0.166\n"
     ]
    },
    {
     "name": "stderr",
     "output_type": "stream",
     "text": [
      "C:\\Users\\Siloux\\.conda\\envs\\species-id\\lib\\site-packages\\sklearn\\metrics\\_classification.py:1318: UndefinedMetricWarning: Jaccard is ill-defined and being set to 0.0 in labels with no true or predicted samples. Use `zero_division` parameter to control this behavior.\n",
      "  _warn_prf(average, modifier, msg_start, len(result))\n"
     ]
    },
    {
     "name": "stdout",
     "output_type": "stream",
     "text": [
      "Epoch: 0 [batch 2100/4063 (51.69%)] \n",
      "\tJacc: 0.614 Hamm: 0.045 DistLoss: 0.166\n",
      "Epoch: 0 [batch 2110/4063 (51.93%)] \n",
      "\tJacc: 0.561 Hamm: 0.034 DistLoss: 0.166\n"
     ]
    },
    {
     "name": "stderr",
     "output_type": "stream",
     "text": [
      "C:\\Users\\Siloux\\.conda\\envs\\species-id\\lib\\site-packages\\sklearn\\metrics\\_classification.py:1318: UndefinedMetricWarning: Jaccard is ill-defined and being set to 0.0 in labels with no true or predicted samples. Use `zero_division` parameter to control this behavior.\n",
      "  _warn_prf(average, modifier, msg_start, len(result))\n"
     ]
    },
    {
     "name": "stdout",
     "output_type": "stream",
     "text": [
      "Epoch: 0 [batch 2120/4063 (52.18%)] \n",
      "\tJacc: 0.636 Hamm: 0.011 DistLoss: 0.166\n"
     ]
    },
    {
     "name": "stderr",
     "output_type": "stream",
     "text": [
      "C:\\Users\\Siloux\\.conda\\envs\\species-id\\lib\\site-packages\\sklearn\\metrics\\_classification.py:1318: UndefinedMetricWarning: Jaccard is ill-defined and being set to 0.0 in labels with no true or predicted samples. Use `zero_division` parameter to control this behavior.\n",
      "  _warn_prf(average, modifier, msg_start, len(result))\n"
     ]
    },
    {
     "name": "stdout",
     "output_type": "stream",
     "text": [
      "Epoch: 0 [batch 2130/4063 (52.42%)] \n",
      "\tJacc: 0.503 Hamm: 0.051 DistLoss: 0.165\n"
     ]
    },
    {
     "name": "stderr",
     "output_type": "stream",
     "text": [
      "C:\\Users\\Siloux\\.conda\\envs\\species-id\\lib\\site-packages\\sklearn\\metrics\\_classification.py:1318: UndefinedMetricWarning: Jaccard is ill-defined and being set to 0.0 in labels with no true or predicted samples. Use `zero_division` parameter to control this behavior.\n",
      "  _warn_prf(average, modifier, msg_start, len(result))\n"
     ]
    },
    {
     "name": "stdout",
     "output_type": "stream",
     "text": [
      "Epoch: 0 [batch 2140/4063 (52.67%)] \n",
      "\tJacc: 0.538 Hamm: 0.057 DistLoss: 0.165\n",
      "Epoch: 0 [batch 2150/4063 (52.92%)] \n",
      "\tJacc: 0.765 Hamm: 0.034 DistLoss: 0.165\n",
      "Epoch: 0 [batch 2160/4063 (53.16%)] \n",
      "\tJacc: 0.573 Hamm: 0.017 DistLoss: 0.164\n"
     ]
    },
    {
     "name": "stderr",
     "output_type": "stream",
     "text": [
      "C:\\Users\\Siloux\\.conda\\envs\\species-id\\lib\\site-packages\\sklearn\\metrics\\_classification.py:1318: UndefinedMetricWarning: Jaccard is ill-defined and being set to 0.0 in labels with no true or predicted samples. Use `zero_division` parameter to control this behavior.\n",
      "  _warn_prf(average, modifier, msg_start, len(result))\n"
     ]
    },
    {
     "name": "stdout",
     "output_type": "stream",
     "text": [
      "Epoch: 0 [batch 2170/4063 (53.41%)] \n",
      "\tJacc: 0.579 Hamm: 0.045 DistLoss: 0.164\n"
     ]
    },
    {
     "name": "stderr",
     "output_type": "stream",
     "text": [
      "C:\\Users\\Siloux\\.conda\\envs\\species-id\\lib\\site-packages\\sklearn\\metrics\\_classification.py:1318: UndefinedMetricWarning: Jaccard is ill-defined and being set to 0.0 in labels with no true or predicted samples. Use `zero_division` parameter to control this behavior.\n",
      "  _warn_prf(average, modifier, msg_start, len(result))\n"
     ]
    },
    {
     "name": "stdout",
     "output_type": "stream",
     "text": [
      "Epoch: 0 [batch 2180/4063 (53.65%)] \n",
      "\tJacc: 0.318 Hamm: 0.062 DistLoss: 0.164\n"
     ]
    },
    {
     "name": "stderr",
     "output_type": "stream",
     "text": [
      "C:\\Users\\Siloux\\.conda\\envs\\species-id\\lib\\site-packages\\sklearn\\metrics\\_classification.py:1318: UndefinedMetricWarning: Jaccard is ill-defined and being set to 0.0 in labels with no true or predicted samples. Use `zero_division` parameter to control this behavior.\n",
      "  _warn_prf(average, modifier, msg_start, len(result))\n"
     ]
    },
    {
     "name": "stdout",
     "output_type": "stream",
     "text": [
      "Epoch: 0 [batch 2190/4063 (53.90%)] \n",
      "\tJacc: 0.568 Hamm: 0.051 DistLoss: 0.164\n"
     ]
    },
    {
     "name": "stderr",
     "output_type": "stream",
     "text": [
      "C:\\Users\\Siloux\\.conda\\envs\\species-id\\lib\\site-packages\\sklearn\\metrics\\_classification.py:1318: UndefinedMetricWarning: Jaccard is ill-defined and being set to 0.0 in labels with no true or predicted samples. Use `zero_division` parameter to control this behavior.\n",
      "  _warn_prf(average, modifier, msg_start, len(result))\n"
     ]
    },
    {
     "name": "stdout",
     "output_type": "stream",
     "text": [
      "Epoch: 0 [batch 2200/4063 (54.15%)] \n",
      "\tJacc: 0.576 Hamm: 0.034 DistLoss: 0.163\n"
     ]
    },
    {
     "name": "stderr",
     "output_type": "stream",
     "text": [
      "C:\\Users\\Siloux\\.conda\\envs\\species-id\\lib\\site-packages\\sklearn\\metrics\\_classification.py:1318: UndefinedMetricWarning: Jaccard is ill-defined and being set to 0.0 in labels with no true or predicted samples. Use `zero_division` parameter to control this behavior.\n",
      "  _warn_prf(average, modifier, msg_start, len(result))\n"
     ]
    },
    {
     "name": "stdout",
     "output_type": "stream",
     "text": [
      "Epoch: 0 [batch 2210/4063 (54.39%)] \n",
      "\tJacc: 0.524 Hamm: 0.057 DistLoss: 0.163\n",
      "Epoch: 0 [batch 2220/4063 (54.64%)] \n",
      "\tJacc: 0.773 Hamm: 0.017 DistLoss: 0.163\n"
     ]
    },
    {
     "name": "stderr",
     "output_type": "stream",
     "text": [
      "C:\\Users\\Siloux\\.conda\\envs\\species-id\\lib\\site-packages\\sklearn\\metrics\\_classification.py:1318: UndefinedMetricWarning: Jaccard is ill-defined and being set to 0.0 in labels with no true or predicted samples. Use `zero_division` parameter to control this behavior.\n",
      "  _warn_prf(average, modifier, msg_start, len(result))\n"
     ]
    },
    {
     "name": "stdout",
     "output_type": "stream",
     "text": [
      "Epoch: 0 [batch 2230/4063 (54.89%)] \n",
      "\tJacc: 0.455 Hamm: 0.051 DistLoss: 0.163\n"
     ]
    },
    {
     "name": "stderr",
     "output_type": "stream",
     "text": [
      "C:\\Users\\Siloux\\.conda\\envs\\species-id\\lib\\site-packages\\sklearn\\metrics\\_classification.py:1318: UndefinedMetricWarning: Jaccard is ill-defined and being set to 0.0 in labels with no true or predicted samples. Use `zero_division` parameter to control this behavior.\n",
      "  _warn_prf(average, modifier, msg_start, len(result))\n"
     ]
    },
    {
     "name": "stdout",
     "output_type": "stream",
     "text": [
      "Epoch: 0 [batch 2240/4063 (55.13%)] \n",
      "\tJacc: 0.539 Hamm: 0.051 DistLoss: 0.162\n"
     ]
    },
    {
     "name": "stderr",
     "output_type": "stream",
     "text": [
      "C:\\Users\\Siloux\\.conda\\envs\\species-id\\lib\\site-packages\\sklearn\\metrics\\_classification.py:1318: UndefinedMetricWarning: Jaccard is ill-defined and being set to 0.0 in labels with no true or predicted samples. Use `zero_division` parameter to control this behavior.\n",
      "  _warn_prf(average, modifier, msg_start, len(result))\n"
     ]
    },
    {
     "name": "stdout",
     "output_type": "stream",
     "text": [
      "Epoch: 0 [batch 2250/4063 (55.38%)] \n",
      "\tJacc: 0.538 Hamm: 0.040 DistLoss: 0.162\n"
     ]
    },
    {
     "name": "stderr",
     "output_type": "stream",
     "text": [
      "C:\\Users\\Siloux\\.conda\\envs\\species-id\\lib\\site-packages\\sklearn\\metrics\\_classification.py:1318: UndefinedMetricWarning: Jaccard is ill-defined and being set to 0.0 in labels with no true or predicted samples. Use `zero_division` parameter to control this behavior.\n",
      "  _warn_prf(average, modifier, msg_start, len(result))\n"
     ]
    },
    {
     "name": "stdout",
     "output_type": "stream",
     "text": [
      "Epoch: 0 [batch 2260/4063 (55.62%)] \n",
      "\tJacc: 0.515 Hamm: 0.057 DistLoss: 0.162\n"
     ]
    },
    {
     "name": "stderr",
     "output_type": "stream",
     "text": [
      "C:\\Users\\Siloux\\.conda\\envs\\species-id\\lib\\site-packages\\sklearn\\metrics\\_classification.py:1318: UndefinedMetricWarning: Jaccard is ill-defined and being set to 0.0 in labels with no true or predicted samples. Use `zero_division` parameter to control this behavior.\n",
      "  _warn_prf(average, modifier, msg_start, len(result))\n"
     ]
    },
    {
     "name": "stdout",
     "output_type": "stream",
     "text": [
      "Epoch: 0 [batch 2270/4063 (55.87%)] \n",
      "\tJacc: 0.697 Hamm: 0.023 DistLoss: 0.162\n"
     ]
    },
    {
     "name": "stderr",
     "output_type": "stream",
     "text": [
      "C:\\Users\\Siloux\\.conda\\envs\\species-id\\lib\\site-packages\\sklearn\\metrics\\_classification.py:1318: UndefinedMetricWarning: Jaccard is ill-defined and being set to 0.0 in labels with no true or predicted samples. Use `zero_division` parameter to control this behavior.\n",
      "  _warn_prf(average, modifier, msg_start, len(result))\n"
     ]
    },
    {
     "name": "stdout",
     "output_type": "stream",
     "text": [
      "Epoch: 0 [batch 2280/4063 (56.12%)] \n",
      "\tJacc: 0.682 Hamm: 0.023 DistLoss: 0.162\n",
      "Epoch: 0 [batch 2290/4063 (56.36%)] \n",
      "\tJacc: 0.409 Hamm: 0.057 DistLoss: 0.161\n"
     ]
    },
    {
     "name": "stderr",
     "output_type": "stream",
     "text": [
      "C:\\Users\\Siloux\\.conda\\envs\\species-id\\lib\\site-packages\\sklearn\\metrics\\_classification.py:1318: UndefinedMetricWarning: Jaccard is ill-defined and being set to 0.0 in labels with no true or predicted samples. Use `zero_division` parameter to control this behavior.\n",
      "  _warn_prf(average, modifier, msg_start, len(result))\n"
     ]
    },
    {
     "name": "stdout",
     "output_type": "stream",
     "text": [
      "Epoch: 0 [batch 2300/4063 (56.61%)] \n",
      "\tJacc: 0.530 Hamm: 0.045 DistLoss: 0.161\n"
     ]
    },
    {
     "name": "stderr",
     "output_type": "stream",
     "text": [
      "C:\\Users\\Siloux\\.conda\\envs\\species-id\\lib\\site-packages\\sklearn\\metrics\\_classification.py:1318: UndefinedMetricWarning: Jaccard is ill-defined and being set to 0.0 in labels with no true or predicted samples. Use `zero_division` parameter to control this behavior.\n",
      "  _warn_prf(average, modifier, msg_start, len(result))\n"
     ]
    },
    {
     "name": "stdout",
     "output_type": "stream",
     "text": [
      "Epoch: 0 [batch 2310/4063 (56.85%)] \n",
      "\tJacc: 0.618 Hamm: 0.045 DistLoss: 0.161\n"
     ]
    },
    {
     "name": "stderr",
     "output_type": "stream",
     "text": [
      "C:\\Users\\Siloux\\.conda\\envs\\species-id\\lib\\site-packages\\sklearn\\metrics\\_classification.py:1318: UndefinedMetricWarning: Jaccard is ill-defined and being set to 0.0 in labels with no true or predicted samples. Use `zero_division` parameter to control this behavior.\n",
      "  _warn_prf(average, modifier, msg_start, len(result))\n"
     ]
    },
    {
     "name": "stdout",
     "output_type": "stream",
     "text": [
      "Epoch: 0 [batch 2320/4063 (57.10%)] \n",
      "\tJacc: 0.326 Hamm: 0.074 DistLoss: 0.161\n"
     ]
    },
    {
     "name": "stderr",
     "output_type": "stream",
     "text": [
      "C:\\Users\\Siloux\\.conda\\envs\\species-id\\lib\\site-packages\\sklearn\\metrics\\_classification.py:1318: UndefinedMetricWarning: Jaccard is ill-defined and being set to 0.0 in labels with no true or predicted samples. Use `zero_division` parameter to control this behavior.\n",
      "  _warn_prf(average, modifier, msg_start, len(result))\n"
     ]
    },
    {
     "name": "stdout",
     "output_type": "stream",
     "text": [
      "Epoch: 0 [batch 2330/4063 (57.35%)] \n",
      "\tJacc: 0.553 Hamm: 0.040 DistLoss: 0.160\n"
     ]
    },
    {
     "name": "stderr",
     "output_type": "stream",
     "text": [
      "C:\\Users\\Siloux\\.conda\\envs\\species-id\\lib\\site-packages\\sklearn\\metrics\\_classification.py:1318: UndefinedMetricWarning: Jaccard is ill-defined and being set to 0.0 in labels with no true or predicted samples. Use `zero_division` parameter to control this behavior.\n",
      "  _warn_prf(average, modifier, msg_start, len(result))\n"
     ]
    },
    {
     "name": "stdout",
     "output_type": "stream",
     "text": [
      "Epoch: 0 [batch 2340/4063 (57.59%)] \n",
      "\tJacc: 0.636 Hamm: 0.034 DistLoss: 0.160\n"
     ]
    },
    {
     "name": "stderr",
     "output_type": "stream",
     "text": [
      "C:\\Users\\Siloux\\.conda\\envs\\species-id\\lib\\site-packages\\sklearn\\metrics\\_classification.py:1318: UndefinedMetricWarning: Jaccard is ill-defined and being set to 0.0 in labels with no true or predicted samples. Use `zero_division` parameter to control this behavior.\n",
      "  _warn_prf(average, modifier, msg_start, len(result))\n"
     ]
    },
    {
     "name": "stdout",
     "output_type": "stream",
     "text": [
      "Epoch: 0 [batch 2350/4063 (57.84%)] \n",
      "\tJacc: 0.636 Hamm: 0.040 DistLoss: 0.160\n"
     ]
    },
    {
     "name": "stderr",
     "output_type": "stream",
     "text": [
      "C:\\Users\\Siloux\\.conda\\envs\\species-id\\lib\\site-packages\\sklearn\\metrics\\_classification.py:1318: UndefinedMetricWarning: Jaccard is ill-defined and being set to 0.0 in labels with no true or predicted samples. Use `zero_division` parameter to control this behavior.\n",
      "  _warn_prf(average, modifier, msg_start, len(result))\n"
     ]
    },
    {
     "name": "stdout",
     "output_type": "stream",
     "text": [
      "Epoch: 0 [batch 2360/4063 (58.09%)] \n",
      "\tJacc: 0.477 Hamm: 0.074 DistLoss: 0.160\n",
      "Epoch: 0 [batch 2370/4063 (58.33%)] \n",
      "\tJacc: 0.326 Hamm: 0.074 DistLoss: 0.160\n"
     ]
    },
    {
     "name": "stderr",
     "output_type": "stream",
     "text": [
      "C:\\Users\\Siloux\\.conda\\envs\\species-id\\lib\\site-packages\\sklearn\\metrics\\_classification.py:1318: UndefinedMetricWarning: Jaccard is ill-defined and being set to 0.0 in labels with no true or predicted samples. Use `zero_division` parameter to control this behavior.\n",
      "  _warn_prf(average, modifier, msg_start, len(result))\n"
     ]
    },
    {
     "name": "stdout",
     "output_type": "stream",
     "text": [
      "Epoch: 0 [batch 2380/4063 (58.58%)] \n",
      "\tJacc: 0.682 Hamm: 0.040 DistLoss: 0.159\n",
      "Epoch: 0 [batch 2390/4063 (58.82%)] \n",
      "\tJacc: 0.841 Hamm: 0.023 DistLoss: 0.159\n",
      "Epoch: 0 [batch 2400/4063 (59.07%)] \n",
      "\tJacc: 0.447 Hamm: 0.040 DistLoss: 0.159\n"
     ]
    },
    {
     "name": "stderr",
     "output_type": "stream",
     "text": [
      "C:\\Users\\Siloux\\.conda\\envs\\species-id\\lib\\site-packages\\sklearn\\metrics\\_classification.py:1318: UndefinedMetricWarning: Jaccard is ill-defined and being set to 0.0 in labels with no true or predicted samples. Use `zero_division` parameter to control this behavior.\n",
      "  _warn_prf(average, modifier, msg_start, len(result))\n"
     ]
    },
    {
     "name": "stdout",
     "output_type": "stream",
     "text": [
      "Epoch: 0 [batch 2410/4063 (59.32%)] \n",
      "\tJacc: 0.417 Hamm: 0.062 DistLoss: 0.159\n",
      "Epoch: 0 [batch 2420/4063 (59.56%)] \n",
      "\tJacc: 0.727 Hamm: 0.028 DistLoss: 0.158\n",
      "Epoch: 0 [batch 2430/4063 (59.81%)] \n",
      "\tJacc: 0.545 Hamm: 0.057 DistLoss: 0.158\n",
      "Epoch: 0 [batch 2440/4063 (60.05%)] \n",
      "\tJacc: 0.576 Hamm: 0.034 DistLoss: 0.158\n"
     ]
    },
    {
     "name": "stderr",
     "output_type": "stream",
     "text": [
      "C:\\Users\\Siloux\\.conda\\envs\\species-id\\lib\\site-packages\\sklearn\\metrics\\_classification.py:1318: UndefinedMetricWarning: Jaccard is ill-defined and being set to 0.0 in labels with no true or predicted samples. Use `zero_division` parameter to control this behavior.\n",
      "  _warn_prf(average, modifier, msg_start, len(result))\n"
     ]
    },
    {
     "name": "stdout",
     "output_type": "stream",
     "text": [
      "Epoch: 0 [batch 2450/4063 (60.30%)] \n",
      "\tJacc: 0.439 Hamm: 0.057 DistLoss: 0.158\n"
     ]
    },
    {
     "name": "stderr",
     "output_type": "stream",
     "text": [
      "C:\\Users\\Siloux\\.conda\\envs\\species-id\\lib\\site-packages\\sklearn\\metrics\\_classification.py:1318: UndefinedMetricWarning: Jaccard is ill-defined and being set to 0.0 in labels with no true or predicted samples. Use `zero_division` parameter to control this behavior.\n",
      "  _warn_prf(average, modifier, msg_start, len(result))\n"
     ]
    },
    {
     "name": "stdout",
     "output_type": "stream",
     "text": [
      "Epoch: 0 [batch 2460/4063 (60.55%)] \n",
      "\tJacc: 0.424 Hamm: 0.057 DistLoss: 0.158\n"
     ]
    },
    {
     "name": "stderr",
     "output_type": "stream",
     "text": [
      "C:\\Users\\Siloux\\.conda\\envs\\species-id\\lib\\site-packages\\sklearn\\metrics\\_classification.py:1318: UndefinedMetricWarning: Jaccard is ill-defined and being set to 0.0 in labels with no true or predicted samples. Use `zero_division` parameter to control this behavior.\n",
      "  _warn_prf(average, modifier, msg_start, len(result))\n"
     ]
    },
    {
     "name": "stdout",
     "output_type": "stream",
     "text": [
      "Epoch: 0 [batch 2470/4063 (60.79%)] \n",
      "\tJacc: 0.515 Hamm: 0.040 DistLoss: 0.158\n"
     ]
    },
    {
     "name": "stderr",
     "output_type": "stream",
     "text": [
      "C:\\Users\\Siloux\\.conda\\envs\\species-id\\lib\\site-packages\\sklearn\\metrics\\_classification.py:1318: UndefinedMetricWarning: Jaccard is ill-defined and being set to 0.0 in labels with no true or predicted samples. Use `zero_division` parameter to control this behavior.\n",
      "  _warn_prf(average, modifier, msg_start, len(result))\n"
     ]
    },
    {
     "name": "stdout",
     "output_type": "stream",
     "text": [
      "Epoch: 0 [batch 2480/4063 (61.04%)] \n",
      "\tJacc: 0.742 Hamm: 0.028 DistLoss: 0.157\n",
      "Epoch: 0 [batch 2490/4063 (61.28%)] \n",
      "\tJacc: 0.636 Hamm: 0.040 DistLoss: 0.157\n"
     ]
    },
    {
     "name": "stderr",
     "output_type": "stream",
     "text": [
      "C:\\Users\\Siloux\\.conda\\envs\\species-id\\lib\\site-packages\\sklearn\\metrics\\_classification.py:1318: UndefinedMetricWarning: Jaccard is ill-defined and being set to 0.0 in labels with no true or predicted samples. Use `zero_division` parameter to control this behavior.\n",
      "  _warn_prf(average, modifier, msg_start, len(result))\n"
     ]
    },
    {
     "name": "stdout",
     "output_type": "stream",
     "text": [
      "Epoch: 0 [batch 2500/4063 (61.53%)] \n",
      "\tJacc: 0.712 Hamm: 0.017 DistLoss: 0.157\n"
     ]
    },
    {
     "name": "stderr",
     "output_type": "stream",
     "text": [
      "C:\\Users\\Siloux\\.conda\\envs\\species-id\\lib\\site-packages\\sklearn\\metrics\\_classification.py:1318: UndefinedMetricWarning: Jaccard is ill-defined and being set to 0.0 in labels with no true or predicted samples. Use `zero_division` parameter to control this behavior.\n",
      "  _warn_prf(average, modifier, msg_start, len(result))\n"
     ]
    },
    {
     "name": "stdout",
     "output_type": "stream",
     "text": [
      "Epoch: 0 [batch 2510/4063 (61.78%)] \n",
      "\tJacc: 0.645 Hamm: 0.034 DistLoss: 0.157\n"
     ]
    },
    {
     "name": "stderr",
     "output_type": "stream",
     "text": [
      "C:\\Users\\Siloux\\.conda\\envs\\species-id\\lib\\site-packages\\sklearn\\metrics\\_classification.py:1318: UndefinedMetricWarning: Jaccard is ill-defined and being set to 0.0 in labels with no true or predicted samples. Use `zero_division` parameter to control this behavior.\n",
      "  _warn_prf(average, modifier, msg_start, len(result))\n"
     ]
    },
    {
     "name": "stdout",
     "output_type": "stream",
     "text": [
      "Epoch: 0 [batch 2520/4063 (62.02%)] \n",
      "\tJacc: 0.405 Hamm: 0.074 DistLoss: 0.157\n"
     ]
    },
    {
     "name": "stderr",
     "output_type": "stream",
     "text": [
      "C:\\Users\\Siloux\\.conda\\envs\\species-id\\lib\\site-packages\\sklearn\\metrics\\_classification.py:1318: UndefinedMetricWarning: Jaccard is ill-defined and being set to 0.0 in labels with no true or predicted samples. Use `zero_division` parameter to control this behavior.\n",
      "  _warn_prf(average, modifier, msg_start, len(result))\n"
     ]
    },
    {
     "name": "stdout",
     "output_type": "stream",
     "text": [
      "Epoch: 0 [batch 2530/4063 (62.27%)] \n",
      "\tJacc: 0.356 Hamm: 0.074 DistLoss: 0.156\n"
     ]
    },
    {
     "name": "stderr",
     "output_type": "stream",
     "text": [
      "C:\\Users\\Siloux\\.conda\\envs\\species-id\\lib\\site-packages\\sklearn\\metrics\\_classification.py:1318: UndefinedMetricWarning: Jaccard is ill-defined and being set to 0.0 in labels with no true or predicted samples. Use `zero_division` parameter to control this behavior.\n",
      "  _warn_prf(average, modifier, msg_start, len(result))\n"
     ]
    },
    {
     "name": "stdout",
     "output_type": "stream",
     "text": [
      "Epoch: 0 [batch 2540/4063 (62.52%)] \n",
      "\tJacc: 0.513 Hamm: 0.051 DistLoss: 0.156\n"
     ]
    },
    {
     "name": "stderr",
     "output_type": "stream",
     "text": [
      "C:\\Users\\Siloux\\.conda\\envs\\species-id\\lib\\site-packages\\sklearn\\metrics\\_classification.py:1318: UndefinedMetricWarning: Jaccard is ill-defined and being set to 0.0 in labels with no true or predicted samples. Use `zero_division` parameter to control this behavior.\n",
      "  _warn_prf(average, modifier, msg_start, len(result))\n"
     ]
    },
    {
     "name": "stdout",
     "output_type": "stream",
     "text": [
      "Epoch: 0 [batch 2550/4063 (62.76%)] \n",
      "\tJacc: 0.682 Hamm: 0.040 DistLoss: 0.156\n"
     ]
    },
    {
     "name": "stderr",
     "output_type": "stream",
     "text": [
      "C:\\Users\\Siloux\\.conda\\envs\\species-id\\lib\\site-packages\\sklearn\\metrics\\_classification.py:1318: UndefinedMetricWarning: Jaccard is ill-defined and being set to 0.0 in labels with no true or predicted samples. Use `zero_division` parameter to control this behavior.\n",
      "  _warn_prf(average, modifier, msg_start, len(result))\n"
     ]
    },
    {
     "name": "stdout",
     "output_type": "stream",
     "text": [
      "Epoch: 0 [batch 2560/4063 (63.01%)] \n",
      "\tJacc: 0.545 Hamm: 0.045 DistLoss: 0.156\n"
     ]
    },
    {
     "name": "stderr",
     "output_type": "stream",
     "text": [
      "C:\\Users\\Siloux\\.conda\\envs\\species-id\\lib\\site-packages\\sklearn\\metrics\\_classification.py:1318: UndefinedMetricWarning: Jaccard is ill-defined and being set to 0.0 in labels with no true or predicted samples. Use `zero_division` parameter to control this behavior.\n",
      "  _warn_prf(average, modifier, msg_start, len(result))\n"
     ]
    },
    {
     "name": "stdout",
     "output_type": "stream",
     "text": [
      "Epoch: 0 [batch 2570/4063 (63.25%)] \n",
      "\tJacc: 0.636 Hamm: 0.017 DistLoss: 0.156\n"
     ]
    },
    {
     "name": "stderr",
     "output_type": "stream",
     "text": [
      "C:\\Users\\Siloux\\.conda\\envs\\species-id\\lib\\site-packages\\sklearn\\metrics\\_classification.py:1318: UndefinedMetricWarning: Jaccard is ill-defined and being set to 0.0 in labels with no true or predicted samples. Use `zero_division` parameter to control this behavior.\n",
      "  _warn_prf(average, modifier, msg_start, len(result))\n"
     ]
    },
    {
     "name": "stdout",
     "output_type": "stream",
     "text": [
      "Epoch: 0 [batch 2580/4063 (63.50%)] \n",
      "\tJacc: 0.606 Hamm: 0.062 DistLoss: 0.155\n",
      "Epoch: 0 [batch 2590/4063 (63.75%)] \n",
      "\tJacc: 0.667 Hamm: 0.028 DistLoss: 0.155\n"
     ]
    },
    {
     "name": "stderr",
     "output_type": "stream",
     "text": [
      "C:\\Users\\Siloux\\.conda\\envs\\species-id\\lib\\site-packages\\sklearn\\metrics\\_classification.py:1318: UndefinedMetricWarning: Jaccard is ill-defined and being set to 0.0 in labels with no true or predicted samples. Use `zero_division` parameter to control this behavior.\n",
      "  _warn_prf(average, modifier, msg_start, len(result))\n"
     ]
    },
    {
     "name": "stdout",
     "output_type": "stream",
     "text": [
      "Epoch: 0 [batch 2600/4063 (63.99%)] \n",
      "\tJacc: 0.712 Hamm: 0.023 DistLoss: 0.155\n"
     ]
    },
    {
     "name": "stderr",
     "output_type": "stream",
     "text": [
      "C:\\Users\\Siloux\\.conda\\envs\\species-id\\lib\\site-packages\\sklearn\\metrics\\_classification.py:1318: UndefinedMetricWarning: Jaccard is ill-defined and being set to 0.0 in labels with no true or predicted samples. Use `zero_division` parameter to control this behavior.\n",
      "  _warn_prf(average, modifier, msg_start, len(result))\n"
     ]
    },
    {
     "name": "stdout",
     "output_type": "stream",
     "text": [
      "Epoch: 0 [batch 2610/4063 (64.24%)] \n",
      "\tJacc: 0.464 Hamm: 0.045 DistLoss: 0.155\n"
     ]
    },
    {
     "name": "stderr",
     "output_type": "stream",
     "text": [
      "C:\\Users\\Siloux\\.conda\\envs\\species-id\\lib\\site-packages\\sklearn\\metrics\\_classification.py:1318: UndefinedMetricWarning: Jaccard is ill-defined and being set to 0.0 in labels with no true or predicted samples. Use `zero_division` parameter to control this behavior.\n",
      "  _warn_prf(average, modifier, msg_start, len(result))\n"
     ]
    },
    {
     "name": "stdout",
     "output_type": "stream",
     "text": [
      "Epoch: 0 [batch 2620/4063 (64.48%)] \n",
      "\tJacc: 0.545 Hamm: 0.051 DistLoss: 0.155\n",
      "Epoch: 0 [batch 2630/4063 (64.73%)] \n",
      "\tJacc: 0.432 Hamm: 0.051 DistLoss: 0.154\n"
     ]
    },
    {
     "name": "stderr",
     "output_type": "stream",
     "text": [
      "C:\\Users\\Siloux\\.conda\\envs\\species-id\\lib\\site-packages\\sklearn\\metrics\\_classification.py:1318: UndefinedMetricWarning: Jaccard is ill-defined and being set to 0.0 in labels with no true or predicted samples. Use `zero_division` parameter to control this behavior.\n",
      "  _warn_prf(average, modifier, msg_start, len(result))\n"
     ]
    },
    {
     "name": "stdout",
     "output_type": "stream",
     "text": [
      "Epoch: 0 [batch 2640/4063 (64.98%)] \n",
      "\tJacc: 0.430 Hamm: 0.080 DistLoss: 0.154\n"
     ]
    },
    {
     "name": "stderr",
     "output_type": "stream",
     "text": [
      "C:\\Users\\Siloux\\.conda\\envs\\species-id\\lib\\site-packages\\sklearn\\metrics\\_classification.py:1318: UndefinedMetricWarning: Jaccard is ill-defined and being set to 0.0 in labels with no true or predicted samples. Use `zero_division` parameter to control this behavior.\n",
      "  _warn_prf(average, modifier, msg_start, len(result))\n"
     ]
    },
    {
     "name": "stdout",
     "output_type": "stream",
     "text": [
      "Epoch: 0 [batch 2650/4063 (65.22%)] \n",
      "\tJacc: 0.447 Hamm: 0.062 DistLoss: 0.154\n"
     ]
    },
    {
     "name": "stderr",
     "output_type": "stream",
     "text": [
      "C:\\Users\\Siloux\\.conda\\envs\\species-id\\lib\\site-packages\\sklearn\\metrics\\_classification.py:1318: UndefinedMetricWarning: Jaccard is ill-defined and being set to 0.0 in labels with no true or predicted samples. Use `zero_division` parameter to control this behavior.\n",
      "  _warn_prf(average, modifier, msg_start, len(result))\n"
     ]
    },
    {
     "name": "stdout",
     "output_type": "stream",
     "text": [
      "Epoch: 0 [batch 2660/4063 (65.47%)] \n",
      "\tJacc: 0.636 Hamm: 0.051 DistLoss: 0.154\n",
      "Epoch: 0 [batch 2670/4063 (65.71%)] \n",
      "\tJacc: 0.636 Hamm: 0.040 DistLoss: 0.154\n"
     ]
    },
    {
     "name": "stderr",
     "output_type": "stream",
     "text": [
      "C:\\Users\\Siloux\\.conda\\envs\\species-id\\lib\\site-packages\\sklearn\\metrics\\_classification.py:1318: UndefinedMetricWarning: Jaccard is ill-defined and being set to 0.0 in labels with no true or predicted samples. Use `zero_division` parameter to control this behavior.\n",
      "  _warn_prf(average, modifier, msg_start, len(result))\n"
     ]
    },
    {
     "name": "stdout",
     "output_type": "stream",
     "text": [
      "Epoch: 0 [batch 2680/4063 (65.96%)] \n",
      "\tJacc: 0.447 Hamm: 0.062 DistLoss: 0.154\n"
     ]
    },
    {
     "name": "stderr",
     "output_type": "stream",
     "text": [
      "C:\\Users\\Siloux\\.conda\\envs\\species-id\\lib\\site-packages\\sklearn\\metrics\\_classification.py:1318: UndefinedMetricWarning: Jaccard is ill-defined and being set to 0.0 in labels with no true or predicted samples. Use `zero_division` parameter to control this behavior.\n",
      "  _warn_prf(average, modifier, msg_start, len(result))\n"
     ]
    },
    {
     "name": "stdout",
     "output_type": "stream",
     "text": [
      "Epoch: 0 [batch 2690/4063 (66.21%)] \n",
      "\tJacc: 0.636 Hamm: 0.045 DistLoss: 0.153\n"
     ]
    },
    {
     "name": "stderr",
     "output_type": "stream",
     "text": [
      "C:\\Users\\Siloux\\.conda\\envs\\species-id\\lib\\site-packages\\sklearn\\metrics\\_classification.py:1318: UndefinedMetricWarning: Jaccard is ill-defined and being set to 0.0 in labels with no true or predicted samples. Use `zero_division` parameter to control this behavior.\n",
      "  _warn_prf(average, modifier, msg_start, len(result))\n"
     ]
    },
    {
     "name": "stdout",
     "output_type": "stream",
     "text": [
      "Epoch: 0 [batch 2700/4063 (66.45%)] \n",
      "\tJacc: 0.667 Hamm: 0.023 DistLoss: 0.153\n"
     ]
    },
    {
     "name": "stderr",
     "output_type": "stream",
     "text": [
      "C:\\Users\\Siloux\\.conda\\envs\\species-id\\lib\\site-packages\\sklearn\\metrics\\_classification.py:1318: UndefinedMetricWarning: Jaccard is ill-defined and being set to 0.0 in labels with no true or predicted samples. Use `zero_division` parameter to control this behavior.\n",
      "  _warn_prf(average, modifier, msg_start, len(result))\n"
     ]
    },
    {
     "name": "stdout",
     "output_type": "stream",
     "text": [
      "Epoch: 0 [batch 2710/4063 (66.70%)] \n",
      "\tJacc: 0.445 Hamm: 0.068 DistLoss: 0.153\n"
     ]
    },
    {
     "name": "stderr",
     "output_type": "stream",
     "text": [
      "C:\\Users\\Siloux\\.conda\\envs\\species-id\\lib\\site-packages\\sklearn\\metrics\\_classification.py:1318: UndefinedMetricWarning: Jaccard is ill-defined and being set to 0.0 in labels with no true or predicted samples. Use `zero_division` parameter to control this behavior.\n",
      "  _warn_prf(average, modifier, msg_start, len(result))\n"
     ]
    },
    {
     "name": "stdout",
     "output_type": "stream",
     "text": [
      "Epoch: 0 [batch 2720/4063 (66.95%)] \n",
      "\tJacc: 0.494 Hamm: 0.068 DistLoss: 0.153\n",
      "Epoch: 0 [batch 2730/4063 (67.19%)] \n",
      "\tJacc: 0.545 Hamm: 0.062 DistLoss: 0.153\n",
      "Epoch: 0 [batch 2740/4063 (67.44%)] \n",
      "\tJacc: 0.533 Hamm: 0.051 DistLoss: 0.153\n"
     ]
    },
    {
     "name": "stderr",
     "output_type": "stream",
     "text": [
      "C:\\Users\\Siloux\\.conda\\envs\\species-id\\lib\\site-packages\\sklearn\\metrics\\_classification.py:1318: UndefinedMetricWarning: Jaccard is ill-defined and being set to 0.0 in labels with no true or predicted samples. Use `zero_division` parameter to control this behavior.\n",
      "  _warn_prf(average, modifier, msg_start, len(result))\n"
     ]
    },
    {
     "name": "stdout",
     "output_type": "stream",
     "text": [
      "Epoch: 0 [batch 2750/4063 (67.68%)] \n",
      "\tJacc: 0.689 Hamm: 0.045 DistLoss: 0.152\n",
      "Epoch: 0 [batch 2760/4063 (67.93%)] \n",
      "\tJacc: 0.523 Hamm: 0.057 DistLoss: 0.152\n",
      "Epoch: 0 [batch 2770/4063 (68.18%)] \n",
      "\tJacc: 0.682 Hamm: 0.028 DistLoss: 0.152\n"
     ]
    },
    {
     "name": "stderr",
     "output_type": "stream",
     "text": [
      "C:\\Users\\Siloux\\.conda\\envs\\species-id\\lib\\site-packages\\sklearn\\metrics\\_classification.py:1318: UndefinedMetricWarning: Jaccard is ill-defined and being set to 0.0 in labels with no true or predicted samples. Use `zero_division` parameter to control this behavior.\n",
      "  _warn_prf(average, modifier, msg_start, len(result))\n"
     ]
    },
    {
     "name": "stdout",
     "output_type": "stream",
     "text": [
      "Epoch: 0 [batch 2780/4063 (68.42%)] \n",
      "\tJacc: 0.492 Hamm: 0.057 DistLoss: 0.152\n"
     ]
    },
    {
     "name": "stderr",
     "output_type": "stream",
     "text": [
      "C:\\Users\\Siloux\\.conda\\envs\\species-id\\lib\\site-packages\\sklearn\\metrics\\_classification.py:1318: UndefinedMetricWarning: Jaccard is ill-defined and being set to 0.0 in labels with no true or predicted samples. Use `zero_division` parameter to control this behavior.\n",
      "  _warn_prf(average, modifier, msg_start, len(result))\n"
     ]
    },
    {
     "name": "stdout",
     "output_type": "stream",
     "text": [
      "Epoch: 0 [batch 2790/4063 (68.67%)] \n",
      "\tJacc: 0.561 Hamm: 0.040 DistLoss: 0.152\n"
     ]
    },
    {
     "name": "stderr",
     "output_type": "stream",
     "text": [
      "C:\\Users\\Siloux\\.conda\\envs\\species-id\\lib\\site-packages\\sklearn\\metrics\\_classification.py:1318: UndefinedMetricWarning: Jaccard is ill-defined and being set to 0.0 in labels with no true or predicted samples. Use `zero_division` parameter to control this behavior.\n",
      "  _warn_prf(average, modifier, msg_start, len(result))\n"
     ]
    },
    {
     "name": "stdout",
     "output_type": "stream",
     "text": [
      "Epoch: 0 [batch 2800/4063 (68.91%)] \n",
      "\tJacc: 0.833 Hamm: 0.011 DistLoss: 0.152\n"
     ]
    },
    {
     "name": "stderr",
     "output_type": "stream",
     "text": [
      "C:\\Users\\Siloux\\.conda\\envs\\species-id\\lib\\site-packages\\sklearn\\metrics\\_classification.py:1318: UndefinedMetricWarning: Jaccard is ill-defined and being set to 0.0 in labels with no true or predicted samples. Use `zero_division` parameter to control this behavior.\n",
      "  _warn_prf(average, modifier, msg_start, len(result))\n"
     ]
    },
    {
     "name": "stdout",
     "output_type": "stream",
     "text": [
      "Epoch: 0 [batch 2810/4063 (69.16%)] \n",
      "\tJacc: 0.394 Hamm: 0.091 DistLoss: 0.151\n"
     ]
    },
    {
     "name": "stderr",
     "output_type": "stream",
     "text": [
      "C:\\Users\\Siloux\\.conda\\envs\\species-id\\lib\\site-packages\\sklearn\\metrics\\_classification.py:1318: UndefinedMetricWarning: Jaccard is ill-defined and being set to 0.0 in labels with no true or predicted samples. Use `zero_division` parameter to control this behavior.\n",
      "  _warn_prf(average, modifier, msg_start, len(result))\n"
     ]
    },
    {
     "name": "stdout",
     "output_type": "stream",
     "text": [
      "Epoch: 0 [batch 2820/4063 (69.41%)] \n",
      "\tJacc: 0.697 Hamm: 0.017 DistLoss: 0.151\n"
     ]
    },
    {
     "name": "stderr",
     "output_type": "stream",
     "text": [
      "C:\\Users\\Siloux\\.conda\\envs\\species-id\\lib\\site-packages\\sklearn\\metrics\\_classification.py:1318: UndefinedMetricWarning: Jaccard is ill-defined and being set to 0.0 in labels with no true or predicted samples. Use `zero_division` parameter to control this behavior.\n",
      "  _warn_prf(average, modifier, msg_start, len(result))\n"
     ]
    },
    {
     "name": "stdout",
     "output_type": "stream",
     "text": [
      "Epoch: 0 [batch 2830/4063 (69.65%)] \n",
      "\tJacc: 0.591 Hamm: 0.045 DistLoss: 0.151\n"
     ]
    },
    {
     "name": "stderr",
     "output_type": "stream",
     "text": [
      "C:\\Users\\Siloux\\.conda\\envs\\species-id\\lib\\site-packages\\sklearn\\metrics\\_classification.py:1318: UndefinedMetricWarning: Jaccard is ill-defined and being set to 0.0 in labels with no true or predicted samples. Use `zero_division` parameter to control this behavior.\n",
      "  _warn_prf(average, modifier, msg_start, len(result))\n"
     ]
    },
    {
     "name": "stdout",
     "output_type": "stream",
     "text": [
      "Epoch: 0 [batch 2840/4063 (69.90%)] \n",
      "\tJacc: 0.583 Hamm: 0.057 DistLoss: 0.151\n",
      "Epoch: 0 [batch 2850/4063 (70.15%)] \n",
      "\tJacc: 0.583 Hamm: 0.040 DistLoss: 0.151\n"
     ]
    },
    {
     "name": "stderr",
     "output_type": "stream",
     "text": [
      "C:\\Users\\Siloux\\.conda\\envs\\species-id\\lib\\site-packages\\sklearn\\metrics\\_classification.py:1318: UndefinedMetricWarning: Jaccard is ill-defined and being set to 0.0 in labels with no true or predicted samples. Use `zero_division` parameter to control this behavior.\n",
      "  _warn_prf(average, modifier, msg_start, len(result))\n"
     ]
    },
    {
     "name": "stdout",
     "output_type": "stream",
     "text": [
      "Epoch: 0 [batch 2860/4063 (70.39%)] \n",
      "\tJacc: 0.371 Hamm: 0.051 DistLoss: 0.151\n"
     ]
    },
    {
     "name": "stderr",
     "output_type": "stream",
     "text": [
      "C:\\Users\\Siloux\\.conda\\envs\\species-id\\lib\\site-packages\\sklearn\\metrics\\_classification.py:1318: UndefinedMetricWarning: Jaccard is ill-defined and being set to 0.0 in labels with no true or predicted samples. Use `zero_division` parameter to control this behavior.\n",
      "  _warn_prf(average, modifier, msg_start, len(result))\n"
     ]
    },
    {
     "name": "stdout",
     "output_type": "stream",
     "text": [
      "Epoch: 0 [batch 2870/4063 (70.64%)] \n",
      "\tJacc: 0.470 Hamm: 0.045 DistLoss: 0.150\n"
     ]
    },
    {
     "name": "stderr",
     "output_type": "stream",
     "text": [
      "C:\\Users\\Siloux\\.conda\\envs\\species-id\\lib\\site-packages\\sklearn\\metrics\\_classification.py:1318: UndefinedMetricWarning: Jaccard is ill-defined and being set to 0.0 in labels with no true or predicted samples. Use `zero_division` parameter to control this behavior.\n",
      "  _warn_prf(average, modifier, msg_start, len(result))\n"
     ]
    },
    {
     "name": "stdout",
     "output_type": "stream",
     "text": [
      "Epoch: 0 [batch 2880/4063 (70.88%)] \n",
      "\tJacc: 0.606 Hamm: 0.040 DistLoss: 0.150\n"
     ]
    },
    {
     "name": "stderr",
     "output_type": "stream",
     "text": [
      "C:\\Users\\Siloux\\.conda\\envs\\species-id\\lib\\site-packages\\sklearn\\metrics\\_classification.py:1318: UndefinedMetricWarning: Jaccard is ill-defined and being set to 0.0 in labels with no true or predicted samples. Use `zero_division` parameter to control this behavior.\n",
      "  _warn_prf(average, modifier, msg_start, len(result))\n"
     ]
    },
    {
     "name": "stdout",
     "output_type": "stream",
     "text": [
      "Epoch: 0 [batch 2890/4063 (71.13%)] \n",
      "\tJacc: 0.682 Hamm: 0.034 DistLoss: 0.150\n"
     ]
    },
    {
     "name": "stderr",
     "output_type": "stream",
     "text": [
      "C:\\Users\\Siloux\\.conda\\envs\\species-id\\lib\\site-packages\\sklearn\\metrics\\_classification.py:1318: UndefinedMetricWarning: Jaccard is ill-defined and being set to 0.0 in labels with no true or predicted samples. Use `zero_division` parameter to control this behavior.\n",
      "  _warn_prf(average, modifier, msg_start, len(result))\n"
     ]
    },
    {
     "name": "stdout",
     "output_type": "stream",
     "text": [
      "Epoch: 0 [batch 2900/4063 (71.38%)] \n",
      "\tJacc: 0.644 Hamm: 0.045 DistLoss: 0.150\n",
      "Epoch: 0 [batch 2910/4063 (71.62%)] \n",
      "\tJacc: 0.477 Hamm: 0.068 DistLoss: 0.150\n"
     ]
    },
    {
     "name": "stderr",
     "output_type": "stream",
     "text": [
      "C:\\Users\\Siloux\\.conda\\envs\\species-id\\lib\\site-packages\\sklearn\\metrics\\_classification.py:1318: UndefinedMetricWarning: Jaccard is ill-defined and being set to 0.0 in labels with no true or predicted samples. Use `zero_division` parameter to control this behavior.\n",
      "  _warn_prf(average, modifier, msg_start, len(result))\n"
     ]
    },
    {
     "name": "stdout",
     "output_type": "stream",
     "text": [
      "Epoch: 0 [batch 2920/4063 (71.87%)] \n",
      "\tJacc: 0.636 Hamm: 0.040 DistLoss: 0.150\n"
     ]
    },
    {
     "name": "stderr",
     "output_type": "stream",
     "text": [
      "C:\\Users\\Siloux\\.conda\\envs\\species-id\\lib\\site-packages\\sklearn\\metrics\\_classification.py:1318: UndefinedMetricWarning: Jaccard is ill-defined and being set to 0.0 in labels with no true or predicted samples. Use `zero_division` parameter to control this behavior.\n",
      "  _warn_prf(average, modifier, msg_start, len(result))\n"
     ]
    },
    {
     "name": "stdout",
     "output_type": "stream",
     "text": [
      "Epoch: 0 [batch 2930/4063 (72.11%)] \n",
      "\tJacc: 0.621 Hamm: 0.045 DistLoss: 0.149\n"
     ]
    },
    {
     "name": "stderr",
     "output_type": "stream",
     "text": [
      "C:\\Users\\Siloux\\.conda\\envs\\species-id\\lib\\site-packages\\sklearn\\metrics\\_classification.py:1318: UndefinedMetricWarning: Jaccard is ill-defined and being set to 0.0 in labels with no true or predicted samples. Use `zero_division` parameter to control this behavior.\n",
      "  _warn_prf(average, modifier, msg_start, len(result))\n"
     ]
    },
    {
     "name": "stdout",
     "output_type": "stream",
     "text": [
      "Epoch: 0 [batch 2940/4063 (72.36%)] \n",
      "\tJacc: 0.606 Hamm: 0.045 DistLoss: 0.149\n",
      "Epoch: 0 [batch 2950/4063 (72.61%)] \n",
      "\tJacc: 0.424 Hamm: 0.068 DistLoss: 0.149\n"
     ]
    },
    {
     "name": "stderr",
     "output_type": "stream",
     "text": [
      "C:\\Users\\Siloux\\.conda\\envs\\species-id\\lib\\site-packages\\sklearn\\metrics\\_classification.py:1318: UndefinedMetricWarning: Jaccard is ill-defined and being set to 0.0 in labels with no true or predicted samples. Use `zero_division` parameter to control this behavior.\n",
      "  _warn_prf(average, modifier, msg_start, len(result))\n"
     ]
    },
    {
     "name": "stdout",
     "output_type": "stream",
     "text": [
      "Epoch: 0 [batch 2960/4063 (72.85%)] \n",
      "\tJacc: 0.576 Hamm: 0.028 DistLoss: 0.149\n"
     ]
    },
    {
     "name": "stderr",
     "output_type": "stream",
     "text": [
      "C:\\Users\\Siloux\\.conda\\envs\\species-id\\lib\\site-packages\\sklearn\\metrics\\_classification.py:1318: UndefinedMetricWarning: Jaccard is ill-defined and being set to 0.0 in labels with no true or predicted samples. Use `zero_division` parameter to control this behavior.\n",
      "  _warn_prf(average, modifier, msg_start, len(result))\n"
     ]
    },
    {
     "name": "stdout",
     "output_type": "stream",
     "text": [
      "Epoch: 0 [batch 2970/4063 (73.10%)] \n",
      "\tJacc: 0.432 Hamm: 0.045 DistLoss: 0.149\n"
     ]
    },
    {
     "name": "stderr",
     "output_type": "stream",
     "text": [
      "C:\\Users\\Siloux\\.conda\\envs\\species-id\\lib\\site-packages\\sklearn\\metrics\\_classification.py:1318: UndefinedMetricWarning: Jaccard is ill-defined and being set to 0.0 in labels with no true or predicted samples. Use `zero_division` parameter to control this behavior.\n",
      "  _warn_prf(average, modifier, msg_start, len(result))\n"
     ]
    },
    {
     "name": "stdout",
     "output_type": "stream",
     "text": [
      "Epoch: 0 [batch 2980/4063 (73.34%)] \n",
      "\tJacc: 0.508 Hamm: 0.062 DistLoss: 0.148\n"
     ]
    },
    {
     "name": "stderr",
     "output_type": "stream",
     "text": [
      "C:\\Users\\Siloux\\.conda\\envs\\species-id\\lib\\site-packages\\sklearn\\metrics\\_classification.py:1318: UndefinedMetricWarning: Jaccard is ill-defined and being set to 0.0 in labels with no true or predicted samples. Use `zero_division` parameter to control this behavior.\n",
      "  _warn_prf(average, modifier, msg_start, len(result))\n"
     ]
    },
    {
     "name": "stdout",
     "output_type": "stream",
     "text": [
      "Epoch: 0 [batch 2990/4063 (73.59%)] \n",
      "\tJacc: 0.500 Hamm: 0.040 DistLoss: 0.148\n"
     ]
    },
    {
     "name": "stderr",
     "output_type": "stream",
     "text": [
      "C:\\Users\\Siloux\\.conda\\envs\\species-id\\lib\\site-packages\\sklearn\\metrics\\_classification.py:1318: UndefinedMetricWarning: Jaccard is ill-defined and being set to 0.0 in labels with no true or predicted samples. Use `zero_division` parameter to control this behavior.\n",
      "  _warn_prf(average, modifier, msg_start, len(result))\n"
     ]
    },
    {
     "name": "stdout",
     "output_type": "stream",
     "text": [
      "Epoch: 0 [batch 3000/4063 (73.84%)] \n",
      "\tJacc: 0.659 Hamm: 0.034 DistLoss: 0.148\n"
     ]
    },
    {
     "name": "stderr",
     "output_type": "stream",
     "text": [
      "C:\\Users\\Siloux\\.conda\\envs\\species-id\\lib\\site-packages\\sklearn\\metrics\\_classification.py:1318: UndefinedMetricWarning: Jaccard is ill-defined and being set to 0.0 in labels with no true or predicted samples. Use `zero_division` parameter to control this behavior.\n",
      "  _warn_prf(average, modifier, msg_start, len(result))\n"
     ]
    },
    {
     "name": "stdout",
     "output_type": "stream",
     "text": [
      "Epoch: 0 [batch 3010/4063 (74.08%)] \n",
      "\tJacc: 0.712 Hamm: 0.028 DistLoss: 0.148\n",
      "Epoch: 0 [batch 3020/4063 (74.33%)] \n",
      "\tJacc: 0.742 Hamm: 0.011 DistLoss: 0.148\n"
     ]
    },
    {
     "name": "stderr",
     "output_type": "stream",
     "text": [
      "C:\\Users\\Siloux\\.conda\\envs\\species-id\\lib\\site-packages\\sklearn\\metrics\\_classification.py:1318: UndefinedMetricWarning: Jaccard is ill-defined and being set to 0.0 in labels with no true or predicted samples. Use `zero_division` parameter to control this behavior.\n",
      "  _warn_prf(average, modifier, msg_start, len(result))\n"
     ]
    },
    {
     "name": "stdout",
     "output_type": "stream",
     "text": [
      "Epoch: 0 [batch 3030/4063 (74.58%)] \n",
      "\tJacc: 0.682 Hamm: 0.028 DistLoss: 0.148\n",
      "Epoch: 0 [batch 3040/4063 (74.82%)] \n",
      "\tJacc: 0.530 Hamm: 0.045 DistLoss: 0.147\n"
     ]
    },
    {
     "name": "stderr",
     "output_type": "stream",
     "text": [
      "C:\\Users\\Siloux\\.conda\\envs\\species-id\\lib\\site-packages\\sklearn\\metrics\\_classification.py:1318: UndefinedMetricWarning: Jaccard is ill-defined and being set to 0.0 in labels with no true or predicted samples. Use `zero_division` parameter to control this behavior.\n",
      "  _warn_prf(average, modifier, msg_start, len(result))\n"
     ]
    },
    {
     "name": "stdout",
     "output_type": "stream",
     "text": [
      "Epoch: 0 [batch 3050/4063 (75.07%)] \n",
      "\tJacc: 0.523 Hamm: 0.040 DistLoss: 0.147\n"
     ]
    },
    {
     "name": "stderr",
     "output_type": "stream",
     "text": [
      "C:\\Users\\Siloux\\.conda\\envs\\species-id\\lib\\site-packages\\sklearn\\metrics\\_classification.py:1318: UndefinedMetricWarning: Jaccard is ill-defined and being set to 0.0 in labels with no true or predicted samples. Use `zero_division` parameter to control this behavior.\n",
      "  _warn_prf(average, modifier, msg_start, len(result))\n"
     ]
    },
    {
     "name": "stdout",
     "output_type": "stream",
     "text": [
      "Epoch: 0 [batch 3060/4063 (75.31%)] \n",
      "\tJacc: 0.697 Hamm: 0.028 DistLoss: 0.147\n"
     ]
    },
    {
     "name": "stderr",
     "output_type": "stream",
     "text": [
      "C:\\Users\\Siloux\\.conda\\envs\\species-id\\lib\\site-packages\\sklearn\\metrics\\_classification.py:1318: UndefinedMetricWarning: Jaccard is ill-defined and being set to 0.0 in labels with no true or predicted samples. Use `zero_division` parameter to control this behavior.\n",
      "  _warn_prf(average, modifier, msg_start, len(result))\n"
     ]
    },
    {
     "name": "stdout",
     "output_type": "stream",
     "text": [
      "Epoch: 0 [batch 3070/4063 (75.56%)] \n",
      "\tJacc: 0.727 Hamm: 0.028 DistLoss: 0.147\n",
      "Epoch: 0 [batch 3080/4063 (75.81%)] \n",
      "\tJacc: 0.614 Hamm: 0.034 DistLoss: 0.147\n"
     ]
    },
    {
     "name": "stderr",
     "output_type": "stream",
     "text": [
      "C:\\Users\\Siloux\\.conda\\envs\\species-id\\lib\\site-packages\\sklearn\\metrics\\_classification.py:1318: UndefinedMetricWarning: Jaccard is ill-defined and being set to 0.0 in labels with no true or predicted samples. Use `zero_division` parameter to control this behavior.\n",
      "  _warn_prf(average, modifier, msg_start, len(result))\n"
     ]
    },
    {
     "name": "stdout",
     "output_type": "stream",
     "text": [
      "Epoch: 0 [batch 3090/4063 (76.05%)] \n",
      "\tJacc: 0.591 Hamm: 0.051 DistLoss: 0.147\n",
      "Epoch: 0 [batch 3100/4063 (76.30%)] \n",
      "\tJacc: 0.682 Hamm: 0.034 DistLoss: 0.146\n",
      "Epoch: 0 [batch 3110/4063 (76.54%)] \n",
      "\tJacc: 0.576 Hamm: 0.040 DistLoss: 0.146\n"
     ]
    },
    {
     "name": "stderr",
     "output_type": "stream",
     "text": [
      "C:\\Users\\Siloux\\.conda\\envs\\species-id\\lib\\site-packages\\sklearn\\metrics\\_classification.py:1318: UndefinedMetricWarning: Jaccard is ill-defined and being set to 0.0 in labels with no true or predicted samples. Use `zero_division` parameter to control this behavior.\n",
      "  _warn_prf(average, modifier, msg_start, len(result))\n"
     ]
    },
    {
     "name": "stdout",
     "output_type": "stream",
     "text": [
      "Epoch: 0 [batch 3120/4063 (76.79%)] \n",
      "\tJacc: 0.455 Hamm: 0.028 DistLoss: 0.146\n"
     ]
    },
    {
     "name": "stderr",
     "output_type": "stream",
     "text": [
      "C:\\Users\\Siloux\\.conda\\envs\\species-id\\lib\\site-packages\\sklearn\\metrics\\_classification.py:1318: UndefinedMetricWarning: Jaccard is ill-defined and being set to 0.0 in labels with no true or predicted samples. Use `zero_division` parameter to control this behavior.\n",
      "  _warn_prf(average, modifier, msg_start, len(result))\n"
     ]
    },
    {
     "name": "stdout",
     "output_type": "stream",
     "text": [
      "Epoch: 0 [batch 3130/4063 (77.04%)] \n",
      "\tJacc: 0.553 Hamm: 0.045 DistLoss: 0.146\n"
     ]
    },
    {
     "name": "stderr",
     "output_type": "stream",
     "text": [
      "C:\\Users\\Siloux\\.conda\\envs\\species-id\\lib\\site-packages\\sklearn\\metrics\\_classification.py:1318: UndefinedMetricWarning: Jaccard is ill-defined and being set to 0.0 in labels with no true or predicted samples. Use `zero_division` parameter to control this behavior.\n",
      "  _warn_prf(average, modifier, msg_start, len(result))\n"
     ]
    },
    {
     "name": "stdout",
     "output_type": "stream",
     "text": [
      "Epoch: 0 [batch 3140/4063 (77.28%)] \n",
      "\tJacc: 0.697 Hamm: 0.017 DistLoss: 0.146\n"
     ]
    },
    {
     "name": "stderr",
     "output_type": "stream",
     "text": [
      "C:\\Users\\Siloux\\.conda\\envs\\species-id\\lib\\site-packages\\sklearn\\metrics\\_classification.py:1318: UndefinedMetricWarning: Jaccard is ill-defined and being set to 0.0 in labels with no true or predicted samples. Use `zero_division` parameter to control this behavior.\n",
      "  _warn_prf(average, modifier, msg_start, len(result))\n"
     ]
    },
    {
     "name": "stdout",
     "output_type": "stream",
     "text": [
      "Epoch: 0 [batch 3150/4063 (77.53%)] \n",
      "\tJacc: 0.636 Hamm: 0.023 DistLoss: 0.146\n"
     ]
    },
    {
     "name": "stderr",
     "output_type": "stream",
     "text": [
      "C:\\Users\\Siloux\\.conda\\envs\\species-id\\lib\\site-packages\\sklearn\\metrics\\_classification.py:1318: UndefinedMetricWarning: Jaccard is ill-defined and being set to 0.0 in labels with no true or predicted samples. Use `zero_division` parameter to control this behavior.\n",
      "  _warn_prf(average, modifier, msg_start, len(result))\n"
     ]
    },
    {
     "name": "stdout",
     "output_type": "stream",
     "text": [
      "Epoch: 0 [batch 3160/4063 (77.78%)] \n",
      "\tJacc: 0.652 Hamm: 0.023 DistLoss: 0.146\n"
     ]
    },
    {
     "name": "stderr",
     "output_type": "stream",
     "text": [
      "C:\\Users\\Siloux\\.conda\\envs\\species-id\\lib\\site-packages\\sklearn\\metrics\\_classification.py:1318: UndefinedMetricWarning: Jaccard is ill-defined and being set to 0.0 in labels with no true or predicted samples. Use `zero_division` parameter to control this behavior.\n",
      "  _warn_prf(average, modifier, msg_start, len(result))\n"
     ]
    },
    {
     "name": "stdout",
     "output_type": "stream",
     "text": [
      "Epoch: 0 [batch 3170/4063 (78.02%)] \n",
      "\tJacc: 0.629 Hamm: 0.028 DistLoss: 0.145\n"
     ]
    },
    {
     "name": "stderr",
     "output_type": "stream",
     "text": [
      "C:\\Users\\Siloux\\.conda\\envs\\species-id\\lib\\site-packages\\sklearn\\metrics\\_classification.py:1318: UndefinedMetricWarning: Jaccard is ill-defined and being set to 0.0 in labels with no true or predicted samples. Use `zero_division` parameter to control this behavior.\n",
      "  _warn_prf(average, modifier, msg_start, len(result))\n"
     ]
    },
    {
     "name": "stdout",
     "output_type": "stream",
     "text": [
      "Epoch: 0 [batch 3180/4063 (78.27%)] \n",
      "\tJacc: 0.333 Hamm: 0.097 DistLoss: 0.145\n",
      "Epoch: 0 [batch 3190/4063 (78.51%)] \n",
      "\tJacc: 0.582 Hamm: 0.051 DistLoss: 0.145\n",
      "Epoch: 0 [batch 3200/4063 (78.76%)] \n",
      "\tJacc: 0.530 Hamm: 0.028 DistLoss: 0.145\n"
     ]
    },
    {
     "name": "stderr",
     "output_type": "stream",
     "text": [
      "C:\\Users\\Siloux\\.conda\\envs\\species-id\\lib\\site-packages\\sklearn\\metrics\\_classification.py:1318: UndefinedMetricWarning: Jaccard is ill-defined and being set to 0.0 in labels with no true or predicted samples. Use `zero_division` parameter to control this behavior.\n",
      "  _warn_prf(average, modifier, msg_start, len(result))\n"
     ]
    },
    {
     "name": "stdout",
     "output_type": "stream",
     "text": [
      "Epoch: 0 [batch 3210/4063 (79.01%)] \n",
      "\tJacc: 0.439 Hamm: 0.068 DistLoss: 0.145\n"
     ]
    },
    {
     "name": "stderr",
     "output_type": "stream",
     "text": [
      "C:\\Users\\Siloux\\.conda\\envs\\species-id\\lib\\site-packages\\sklearn\\metrics\\_classification.py:1318: UndefinedMetricWarning: Jaccard is ill-defined and being set to 0.0 in labels with no true or predicted samples. Use `zero_division` parameter to control this behavior.\n",
      "  _warn_prf(average, modifier, msg_start, len(result))\n"
     ]
    },
    {
     "name": "stdout",
     "output_type": "stream",
     "text": [
      "Epoch: 0 [batch 3220/4063 (79.25%)] \n",
      "\tJacc: 0.439 Hamm: 0.080 DistLoss: 0.145\n"
     ]
    },
    {
     "name": "stderr",
     "output_type": "stream",
     "text": [
      "C:\\Users\\Siloux\\.conda\\envs\\species-id\\lib\\site-packages\\sklearn\\metrics\\_classification.py:1318: UndefinedMetricWarning: Jaccard is ill-defined and being set to 0.0 in labels with no true or predicted samples. Use `zero_division` parameter to control this behavior.\n",
      "  _warn_prf(average, modifier, msg_start, len(result))\n"
     ]
    },
    {
     "name": "stdout",
     "output_type": "stream",
     "text": [
      "Epoch: 0 [batch 3230/4063 (79.50%)] \n",
      "\tJacc: 0.750 Hamm: 0.017 DistLoss: 0.145\n"
     ]
    },
    {
     "name": "stderr",
     "output_type": "stream",
     "text": [
      "C:\\Users\\Siloux\\.conda\\envs\\species-id\\lib\\site-packages\\sklearn\\metrics\\_classification.py:1318: UndefinedMetricWarning: Jaccard is ill-defined and being set to 0.0 in labels with no true or predicted samples. Use `zero_division` parameter to control this behavior.\n",
      "  _warn_prf(average, modifier, msg_start, len(result))\n"
     ]
    },
    {
     "name": "stdout",
     "output_type": "stream",
     "text": [
      "Epoch: 0 [batch 3240/4063 (79.74%)] \n",
      "\tJacc: 0.485 Hamm: 0.051 DistLoss: 0.144\n"
     ]
    },
    {
     "name": "stderr",
     "output_type": "stream",
     "text": [
      "C:\\Users\\Siloux\\.conda\\envs\\species-id\\lib\\site-packages\\sklearn\\metrics\\_classification.py:1318: UndefinedMetricWarning: Jaccard is ill-defined and being set to 0.0 in labels with no true or predicted samples. Use `zero_division` parameter to control this behavior.\n",
      "  _warn_prf(average, modifier, msg_start, len(result))\n"
     ]
    },
    {
     "name": "stdout",
     "output_type": "stream",
     "text": [
      "Epoch: 0 [batch 3250/4063 (79.99%)] \n",
      "\tJacc: 0.652 Hamm: 0.028 DistLoss: 0.144\n"
     ]
    },
    {
     "name": "stderr",
     "output_type": "stream",
     "text": [
      "C:\\Users\\Siloux\\.conda\\envs\\species-id\\lib\\site-packages\\sklearn\\metrics\\_classification.py:1318: UndefinedMetricWarning: Jaccard is ill-defined and being set to 0.0 in labels with no true or predicted samples. Use `zero_division` parameter to control this behavior.\n",
      "  _warn_prf(average, modifier, msg_start, len(result))\n"
     ]
    },
    {
     "name": "stdout",
     "output_type": "stream",
     "text": [
      "Epoch: 0 [batch 3260/4063 (80.24%)] \n",
      "\tJacc: 0.720 Hamm: 0.028 DistLoss: 0.144\n",
      "Epoch: 0 [batch 3270/4063 (80.48%)] \n",
      "\tJacc: 0.553 Hamm: 0.034 DistLoss: 0.144\n"
     ]
    },
    {
     "name": "stderr",
     "output_type": "stream",
     "text": [
      "C:\\Users\\Siloux\\.conda\\envs\\species-id\\lib\\site-packages\\sklearn\\metrics\\_classification.py:1318: UndefinedMetricWarning: Jaccard is ill-defined and being set to 0.0 in labels with no true or predicted samples. Use `zero_division` parameter to control this behavior.\n",
      "  _warn_prf(average, modifier, msg_start, len(result))\n"
     ]
    },
    {
     "name": "stdout",
     "output_type": "stream",
     "text": [
      "Epoch: 0 [batch 3280/4063 (80.73%)] \n",
      "\tJacc: 0.614 Hamm: 0.051 DistLoss: 0.144\n",
      "Epoch: 0 [batch 3290/4063 (80.97%)] \n",
      "\tJacc: 0.583 Hamm: 0.051 DistLoss: 0.144\n"
     ]
    },
    {
     "name": "stderr",
     "output_type": "stream",
     "text": [
      "C:\\Users\\Siloux\\.conda\\envs\\species-id\\lib\\site-packages\\sklearn\\metrics\\_classification.py:1318: UndefinedMetricWarning: Jaccard is ill-defined and being set to 0.0 in labels with no true or predicted samples. Use `zero_division` parameter to control this behavior.\n",
      "  _warn_prf(average, modifier, msg_start, len(result))\n"
     ]
    },
    {
     "name": "stdout",
     "output_type": "stream",
     "text": [
      "Epoch: 0 [batch 3300/4063 (81.22%)] \n",
      "\tJacc: 0.561 Hamm: 0.057 DistLoss: 0.144\n",
      "Epoch: 0 [batch 3310/4063 (81.47%)] \n",
      "\tJacc: 0.561 Hamm: 0.045 DistLoss: 0.144\n"
     ]
    },
    {
     "name": "stderr",
     "output_type": "stream",
     "text": [
      "C:\\Users\\Siloux\\.conda\\envs\\species-id\\lib\\site-packages\\sklearn\\metrics\\_classification.py:1318: UndefinedMetricWarning: Jaccard is ill-defined and being set to 0.0 in labels with no true or predicted samples. Use `zero_division` parameter to control this behavior.\n",
      "  _warn_prf(average, modifier, msg_start, len(result))\n"
     ]
    },
    {
     "name": "stdout",
     "output_type": "stream",
     "text": [
      "Epoch: 0 [batch 3320/4063 (81.71%)] \n",
      "\tJacc: 0.439 Hamm: 0.062 DistLoss: 0.143\n"
     ]
    },
    {
     "name": "stderr",
     "output_type": "stream",
     "text": [
      "C:\\Users\\Siloux\\.conda\\envs\\species-id\\lib\\site-packages\\sklearn\\metrics\\_classification.py:1318: UndefinedMetricWarning: Jaccard is ill-defined and being set to 0.0 in labels with no true or predicted samples. Use `zero_division` parameter to control this behavior.\n",
      "  _warn_prf(average, modifier, msg_start, len(result))\n"
     ]
    },
    {
     "name": "stdout",
     "output_type": "stream",
     "text": [
      "Epoch: 0 [batch 3330/4063 (81.96%)] \n",
      "\tJacc: 0.356 Hamm: 0.080 DistLoss: 0.143\n"
     ]
    },
    {
     "name": "stderr",
     "output_type": "stream",
     "text": [
      "C:\\Users\\Siloux\\.conda\\envs\\species-id\\lib\\site-packages\\sklearn\\metrics\\_classification.py:1318: UndefinedMetricWarning: Jaccard is ill-defined and being set to 0.0 in labels with no true or predicted samples. Use `zero_division` parameter to control this behavior.\n",
      "  _warn_prf(average, modifier, msg_start, len(result))\n"
     ]
    },
    {
     "name": "stdout",
     "output_type": "stream",
     "text": [
      "Epoch: 0 [batch 3340/4063 (82.21%)] \n",
      "\tJacc: 0.561 Hamm: 0.057 DistLoss: 0.143\n"
     ]
    },
    {
     "name": "stderr",
     "output_type": "stream",
     "text": [
      "C:\\Users\\Siloux\\.conda\\envs\\species-id\\lib\\site-packages\\sklearn\\metrics\\_classification.py:1318: UndefinedMetricWarning: Jaccard is ill-defined and being set to 0.0 in labels with no true or predicted samples. Use `zero_division` parameter to control this behavior.\n",
      "  _warn_prf(average, modifier, msg_start, len(result))\n"
     ]
    },
    {
     "name": "stdout",
     "output_type": "stream",
     "text": [
      "Epoch: 0 [batch 3350/4063 (82.45%)] \n",
      "\tJacc: 0.636 Hamm: 0.023 DistLoss: 0.143\n"
     ]
    },
    {
     "name": "stderr",
     "output_type": "stream",
     "text": [
      "C:\\Users\\Siloux\\.conda\\envs\\species-id\\lib\\site-packages\\sklearn\\metrics\\_classification.py:1318: UndefinedMetricWarning: Jaccard is ill-defined and being set to 0.0 in labels with no true or predicted samples. Use `zero_division` parameter to control this behavior.\n",
      "  _warn_prf(average, modifier, msg_start, len(result))\n"
     ]
    },
    {
     "name": "stdout",
     "output_type": "stream",
     "text": [
      "Epoch: 0 [batch 3360/4063 (82.70%)] \n",
      "\tJacc: 0.591 Hamm: 0.028 DistLoss: 0.143\n"
     ]
    },
    {
     "name": "stderr",
     "output_type": "stream",
     "text": [
      "C:\\Users\\Siloux\\.conda\\envs\\species-id\\lib\\site-packages\\sklearn\\metrics\\_classification.py:1318: UndefinedMetricWarning: Jaccard is ill-defined and being set to 0.0 in labels with no true or predicted samples. Use `zero_division` parameter to control this behavior.\n",
      "  _warn_prf(average, modifier, msg_start, len(result))\n"
     ]
    },
    {
     "name": "stdout",
     "output_type": "stream",
     "text": [
      "Epoch: 0 [batch 3370/4063 (82.94%)] \n",
      "\tJacc: 0.576 Hamm: 0.040 DistLoss: 0.143\n",
      "Epoch: 0 [batch 3380/4063 (83.19%)] \n",
      "\tJacc: 0.561 Hamm: 0.040 DistLoss: 0.143\n"
     ]
    },
    {
     "name": "stderr",
     "output_type": "stream",
     "text": [
      "C:\\Users\\Siloux\\.conda\\envs\\species-id\\lib\\site-packages\\sklearn\\metrics\\_classification.py:1318: UndefinedMetricWarning: Jaccard is ill-defined and being set to 0.0 in labels with no true or predicted samples. Use `zero_division` parameter to control this behavior.\n",
      "  _warn_prf(average, modifier, msg_start, len(result))\n"
     ]
    },
    {
     "name": "stdout",
     "output_type": "stream",
     "text": [
      "Epoch: 0 [batch 3390/4063 (83.44%)] \n",
      "\tJacc: 0.576 Hamm: 0.034 DistLoss: 0.143\n"
     ]
    },
    {
     "name": "stderr",
     "output_type": "stream",
     "text": [
      "C:\\Users\\Siloux\\.conda\\envs\\species-id\\lib\\site-packages\\sklearn\\metrics\\_classification.py:1318: UndefinedMetricWarning: Jaccard is ill-defined and being set to 0.0 in labels with no true or predicted samples. Use `zero_division` parameter to control this behavior.\n",
      "  _warn_prf(average, modifier, msg_start, len(result))\n"
     ]
    },
    {
     "name": "stdout",
     "output_type": "stream",
     "text": [
      "Epoch: 0 [batch 3400/4063 (83.68%)] \n",
      "\tJacc: 0.636 Hamm: 0.051 DistLoss: 0.142\n"
     ]
    },
    {
     "name": "stderr",
     "output_type": "stream",
     "text": [
      "C:\\Users\\Siloux\\.conda\\envs\\species-id\\lib\\site-packages\\sklearn\\metrics\\_classification.py:1318: UndefinedMetricWarning: Jaccard is ill-defined and being set to 0.0 in labels with no true or predicted samples. Use `zero_division` parameter to control this behavior.\n",
      "  _warn_prf(average, modifier, msg_start, len(result))\n"
     ]
    },
    {
     "name": "stdout",
     "output_type": "stream",
     "text": [
      "Epoch: 0 [batch 3410/4063 (83.93%)] \n",
      "\tJacc: 0.652 Hamm: 0.034 DistLoss: 0.142\n"
     ]
    },
    {
     "name": "stderr",
     "output_type": "stream",
     "text": [
      "C:\\Users\\Siloux\\.conda\\envs\\species-id\\lib\\site-packages\\sklearn\\metrics\\_classification.py:1318: UndefinedMetricWarning: Jaccard is ill-defined and being set to 0.0 in labels with no true or predicted samples. Use `zero_division` parameter to control this behavior.\n",
      "  _warn_prf(average, modifier, msg_start, len(result))\n"
     ]
    },
    {
     "name": "stdout",
     "output_type": "stream",
     "text": [
      "Epoch: 0 [batch 3420/4063 (84.17%)] \n",
      "\tJacc: 0.667 Hamm: 0.017 DistLoss: 0.142\n"
     ]
    },
    {
     "name": "stderr",
     "output_type": "stream",
     "text": [
      "C:\\Users\\Siloux\\.conda\\envs\\species-id\\lib\\site-packages\\sklearn\\metrics\\_classification.py:1318: UndefinedMetricWarning: Jaccard is ill-defined and being set to 0.0 in labels with no true or predicted samples. Use `zero_division` parameter to control this behavior.\n",
      "  _warn_prf(average, modifier, msg_start, len(result))\n"
     ]
    },
    {
     "name": "stdout",
     "output_type": "stream",
     "text": [
      "Epoch: 0 [batch 3430/4063 (84.42%)] \n",
      "\tJacc: 0.447 Hamm: 0.057 DistLoss: 0.142\n",
      "Epoch: 0 [batch 3440/4063 (84.67%)] \n",
      "\tJacc: 0.591 Hamm: 0.040 DistLoss: 0.142\n"
     ]
    },
    {
     "name": "stderr",
     "output_type": "stream",
     "text": [
      "C:\\Users\\Siloux\\.conda\\envs\\species-id\\lib\\site-packages\\sklearn\\metrics\\_classification.py:1318: UndefinedMetricWarning: Jaccard is ill-defined and being set to 0.0 in labels with no true or predicted samples. Use `zero_division` parameter to control this behavior.\n",
      "  _warn_prf(average, modifier, msg_start, len(result))\n"
     ]
    },
    {
     "name": "stdout",
     "output_type": "stream",
     "text": [
      "Epoch: 0 [batch 3450/4063 (84.91%)] \n",
      "\tJacc: 0.636 Hamm: 0.057 DistLoss: 0.142\n",
      "Epoch: 0 [batch 3460/4063 (85.16%)] \n",
      "\tJacc: 0.515 Hamm: 0.062 DistLoss: 0.142\n"
     ]
    },
    {
     "name": "stderr",
     "output_type": "stream",
     "text": [
      "C:\\Users\\Siloux\\.conda\\envs\\species-id\\lib\\site-packages\\sklearn\\metrics\\_classification.py:1318: UndefinedMetricWarning: Jaccard is ill-defined and being set to 0.0 in labels with no true or predicted samples. Use `zero_division` parameter to control this behavior.\n",
      "  _warn_prf(average, modifier, msg_start, len(result))\n"
     ]
    },
    {
     "name": "stdout",
     "output_type": "stream",
     "text": [
      "Epoch: 0 [batch 3470/4063 (85.40%)] \n",
      "\tJacc: 0.395 Hamm: 0.068 DistLoss: 0.142\n",
      "Epoch: 0 [batch 3480/4063 (85.65%)] \n",
      "\tJacc: 0.636 Hamm: 0.034 DistLoss: 0.141\n"
     ]
    },
    {
     "name": "stderr",
     "output_type": "stream",
     "text": [
      "C:\\Users\\Siloux\\.conda\\envs\\species-id\\lib\\site-packages\\sklearn\\metrics\\_classification.py:1318: UndefinedMetricWarning: Jaccard is ill-defined and being set to 0.0 in labels with no true or predicted samples. Use `zero_division` parameter to control this behavior.\n",
      "  _warn_prf(average, modifier, msg_start, len(result))\n"
     ]
    },
    {
     "name": "stdout",
     "output_type": "stream",
     "text": [
      "Epoch: 0 [batch 3490/4063 (85.90%)] \n",
      "\tJacc: 0.788 Hamm: 0.011 DistLoss: 0.141\n"
     ]
    },
    {
     "name": "stderr",
     "output_type": "stream",
     "text": [
      "C:\\Users\\Siloux\\.conda\\envs\\species-id\\lib\\site-packages\\sklearn\\metrics\\_classification.py:1318: UndefinedMetricWarning: Jaccard is ill-defined and being set to 0.0 in labels with no true or predicted samples. Use `zero_division` parameter to control this behavior.\n",
      "  _warn_prf(average, modifier, msg_start, len(result))\n"
     ]
    },
    {
     "name": "stdout",
     "output_type": "stream",
     "text": [
      "Epoch: 0 [batch 3500/4063 (86.14%)] \n",
      "\tJacc: 0.567 Hamm: 0.051 DistLoss: 0.141\n"
     ]
    },
    {
     "name": "stderr",
     "output_type": "stream",
     "text": [
      "C:\\Users\\Siloux\\.conda\\envs\\species-id\\lib\\site-packages\\sklearn\\metrics\\_classification.py:1318: UndefinedMetricWarning: Jaccard is ill-defined and being set to 0.0 in labels with no true or predicted samples. Use `zero_division` parameter to control this behavior.\n",
      "  _warn_prf(average, modifier, msg_start, len(result))\n"
     ]
    },
    {
     "name": "stdout",
     "output_type": "stream",
     "text": [
      "Epoch: 0 [batch 3510/4063 (86.39%)] \n",
      "\tJacc: 0.417 Hamm: 0.057 DistLoss: 0.141\n"
     ]
    },
    {
     "name": "stderr",
     "output_type": "stream",
     "text": [
      "C:\\Users\\Siloux\\.conda\\envs\\species-id\\lib\\site-packages\\sklearn\\metrics\\_classification.py:1318: UndefinedMetricWarning: Jaccard is ill-defined and being set to 0.0 in labels with no true or predicted samples. Use `zero_division` parameter to control this behavior.\n",
      "  _warn_prf(average, modifier, msg_start, len(result))\n"
     ]
    },
    {
     "name": "stdout",
     "output_type": "stream",
     "text": [
      "Epoch: 0 [batch 3520/4063 (86.64%)] \n",
      "\tJacc: 0.644 Hamm: 0.034 DistLoss: 0.141\n"
     ]
    },
    {
     "name": "stderr",
     "output_type": "stream",
     "text": [
      "C:\\Users\\Siloux\\.conda\\envs\\species-id\\lib\\site-packages\\sklearn\\metrics\\_classification.py:1318: UndefinedMetricWarning: Jaccard is ill-defined and being set to 0.0 in labels with no true or predicted samples. Use `zero_division` parameter to control this behavior.\n",
      "  _warn_prf(average, modifier, msg_start, len(result))\n"
     ]
    },
    {
     "name": "stdout",
     "output_type": "stream",
     "text": [
      "Epoch: 0 [batch 3530/4063 (86.88%)] \n",
      "\tJacc: 0.500 Hamm: 0.068 DistLoss: 0.141\n",
      "Epoch: 0 [batch 3540/4063 (87.13%)] \n",
      "\tJacc: 0.788 Hamm: 0.023 DistLoss: 0.141\n"
     ]
    },
    {
     "name": "stderr",
     "output_type": "stream",
     "text": [
      "C:\\Users\\Siloux\\.conda\\envs\\species-id\\lib\\site-packages\\sklearn\\metrics\\_classification.py:1318: UndefinedMetricWarning: Jaccard is ill-defined and being set to 0.0 in labels with no true or predicted samples. Use `zero_division` parameter to control this behavior.\n",
      "  _warn_prf(average, modifier, msg_start, len(result))\n"
     ]
    },
    {
     "name": "stdout",
     "output_type": "stream",
     "text": [
      "Epoch: 0 [batch 3550/4063 (87.37%)] \n",
      "\tJacc: 0.758 Hamm: 0.017 DistLoss: 0.141\n"
     ]
    },
    {
     "name": "stderr",
     "output_type": "stream",
     "text": [
      "C:\\Users\\Siloux\\.conda\\envs\\species-id\\lib\\site-packages\\sklearn\\metrics\\_classification.py:1318: UndefinedMetricWarning: Jaccard is ill-defined and being set to 0.0 in labels with no true or predicted samples. Use `zero_division` parameter to control this behavior.\n",
      "  _warn_prf(average, modifier, msg_start, len(result))\n"
     ]
    },
    {
     "name": "stdout",
     "output_type": "stream",
     "text": [
      "Epoch: 0 [batch 3560/4063 (87.62%)] \n",
      "\tJacc: 0.636 Hamm: 0.051 DistLoss: 0.141\n",
      "Epoch: 0 [batch 3570/4063 (87.87%)] \n",
      "\tJacc: 0.561 Hamm: 0.023 DistLoss: 0.140\n"
     ]
    },
    {
     "name": "stderr",
     "output_type": "stream",
     "text": [
      "C:\\Users\\Siloux\\.conda\\envs\\species-id\\lib\\site-packages\\sklearn\\metrics\\_classification.py:1318: UndefinedMetricWarning: Jaccard is ill-defined and being set to 0.0 in labels with no true or predicted samples. Use `zero_division` parameter to control this behavior.\n",
      "  _warn_prf(average, modifier, msg_start, len(result))\n"
     ]
    },
    {
     "name": "stdout",
     "output_type": "stream",
     "text": [
      "Epoch: 0 [batch 3580/4063 (88.11%)] \n",
      "\tJacc: 0.727 Hamm: 0.011 DistLoss: 0.140\n"
     ]
    },
    {
     "name": "stderr",
     "output_type": "stream",
     "text": [
      "C:\\Users\\Siloux\\.conda\\envs\\species-id\\lib\\site-packages\\sklearn\\metrics\\_classification.py:1318: UndefinedMetricWarning: Jaccard is ill-defined and being set to 0.0 in labels with no true or predicted samples. Use `zero_division` parameter to control this behavior.\n",
      "  _warn_prf(average, modifier, msg_start, len(result))\n"
     ]
    },
    {
     "name": "stdout",
     "output_type": "stream",
     "text": [
      "Epoch: 0 [batch 3590/4063 (88.36%)] \n",
      "\tJacc: 0.636 Hamm: 0.006 DistLoss: 0.140\n"
     ]
    },
    {
     "name": "stderr",
     "output_type": "stream",
     "text": [
      "C:\\Users\\Siloux\\.conda\\envs\\species-id\\lib\\site-packages\\sklearn\\metrics\\_classification.py:1318: UndefinedMetricWarning: Jaccard is ill-defined and being set to 0.0 in labels with no true or predicted samples. Use `zero_division` parameter to control this behavior.\n",
      "  _warn_prf(average, modifier, msg_start, len(result))\n"
     ]
    },
    {
     "name": "stdout",
     "output_type": "stream",
     "text": [
      "Epoch: 0 [batch 3600/4063 (88.60%)] \n",
      "\tJacc: 0.667 Hamm: 0.051 DistLoss: 0.140\n",
      "Epoch: 0 [batch 3610/4063 (88.85%)] \n",
      "\tJacc: 0.485 Hamm: 0.062 DistLoss: 0.140\n",
      "Epoch: 0 [batch 3620/4063 (89.10%)] \n",
      "\tJacc: 0.576 Hamm: 0.034 DistLoss: 0.140\n"
     ]
    },
    {
     "name": "stderr",
     "output_type": "stream",
     "text": [
      "C:\\Users\\Siloux\\.conda\\envs\\species-id\\lib\\site-packages\\sklearn\\metrics\\_classification.py:1318: UndefinedMetricWarning: Jaccard is ill-defined and being set to 0.0 in labels with no true or predicted samples. Use `zero_division` parameter to control this behavior.\n",
      "  _warn_prf(average, modifier, msg_start, len(result))\n"
     ]
    },
    {
     "name": "stdout",
     "output_type": "stream",
     "text": [
      "Epoch: 0 [batch 3630/4063 (89.34%)] \n",
      "\tJacc: 0.652 Hamm: 0.023 DistLoss: 0.140\n"
     ]
    },
    {
     "name": "stderr",
     "output_type": "stream",
     "text": [
      "C:\\Users\\Siloux\\.conda\\envs\\species-id\\lib\\site-packages\\sklearn\\metrics\\_classification.py:1318: UndefinedMetricWarning: Jaccard is ill-defined and being set to 0.0 in labels with no true or predicted samples. Use `zero_division` parameter to control this behavior.\n",
      "  _warn_prf(average, modifier, msg_start, len(result))\n"
     ]
    },
    {
     "name": "stdout",
     "output_type": "stream",
     "text": [
      "Epoch: 0 [batch 3640/4063 (89.59%)] \n",
      "\tJacc: 0.538 Hamm: 0.045 DistLoss: 0.140\n"
     ]
    },
    {
     "name": "stderr",
     "output_type": "stream",
     "text": [
      "C:\\Users\\Siloux\\.conda\\envs\\species-id\\lib\\site-packages\\sklearn\\metrics\\_classification.py:1318: UndefinedMetricWarning: Jaccard is ill-defined and being set to 0.0 in labels with no true or predicted samples. Use `zero_division` parameter to control this behavior.\n",
      "  _warn_prf(average, modifier, msg_start, len(result))\n"
     ]
    },
    {
     "name": "stdout",
     "output_type": "stream",
     "text": [
      "Epoch: 0 [batch 3650/4063 (89.84%)] \n",
      "\tJacc: 0.371 Hamm: 0.068 DistLoss: 0.139\n"
     ]
    },
    {
     "name": "stderr",
     "output_type": "stream",
     "text": [
      "C:\\Users\\Siloux\\.conda\\envs\\species-id\\lib\\site-packages\\sklearn\\metrics\\_classification.py:1318: UndefinedMetricWarning: Jaccard is ill-defined and being set to 0.0 in labels with no true or predicted samples. Use `zero_division` parameter to control this behavior.\n",
      "  _warn_prf(average, modifier, msg_start, len(result))\n"
     ]
    },
    {
     "name": "stdout",
     "output_type": "stream",
     "text": [
      "Epoch: 0 [batch 3660/4063 (90.08%)] \n",
      "\tJacc: 0.471 Hamm: 0.068 DistLoss: 0.139\n",
      "Epoch: 0 [batch 3670/4063 (90.33%)] \n",
      "\tJacc: 0.652 Hamm: 0.028 DistLoss: 0.139\n"
     ]
    },
    {
     "name": "stderr",
     "output_type": "stream",
     "text": [
      "C:\\Users\\Siloux\\.conda\\envs\\species-id\\lib\\site-packages\\sklearn\\metrics\\_classification.py:1318: UndefinedMetricWarning: Jaccard is ill-defined and being set to 0.0 in labels with no true or predicted samples. Use `zero_division` parameter to control this behavior.\n",
      "  _warn_prf(average, modifier, msg_start, len(result))\n"
     ]
    },
    {
     "name": "stdout",
     "output_type": "stream",
     "text": [
      "Epoch: 0 [batch 3680/4063 (90.57%)] \n",
      "\tJacc: 0.417 Hamm: 0.068 DistLoss: 0.139\n"
     ]
    },
    {
     "name": "stderr",
     "output_type": "stream",
     "text": [
      "C:\\Users\\Siloux\\.conda\\envs\\species-id\\lib\\site-packages\\sklearn\\metrics\\_classification.py:1318: UndefinedMetricWarning: Jaccard is ill-defined and being set to 0.0 in labels with no true or predicted samples. Use `zero_division` parameter to control this behavior.\n",
      "  _warn_prf(average, modifier, msg_start, len(result))\n"
     ]
    },
    {
     "name": "stdout",
     "output_type": "stream",
     "text": [
      "Epoch: 0 [batch 3690/4063 (90.82%)] \n",
      "\tJacc: 0.606 Hamm: 0.045 DistLoss: 0.139\n",
      "Epoch: 0 [batch 3700/4063 (91.07%)] \n",
      "\tJacc: 0.500 Hamm: 0.051 DistLoss: 0.139\n",
      "Epoch: 0 [batch 3710/4063 (91.31%)] \n",
      "\tJacc: 0.530 Hamm: 0.045 DistLoss: 0.139\n"
     ]
    },
    {
     "name": "stderr",
     "output_type": "stream",
     "text": [
      "C:\\Users\\Siloux\\.conda\\envs\\species-id\\lib\\site-packages\\sklearn\\metrics\\_classification.py:1318: UndefinedMetricWarning: Jaccard is ill-defined and being set to 0.0 in labels with no true or predicted samples. Use `zero_division` parameter to control this behavior.\n",
      "  _warn_prf(average, modifier, msg_start, len(result))\n"
     ]
    },
    {
     "name": "stdout",
     "output_type": "stream",
     "text": [
      "Epoch: 0 [batch 3720/4063 (91.56%)] \n",
      "\tJacc: 0.529 Hamm: 0.057 DistLoss: 0.139\n"
     ]
    },
    {
     "name": "stderr",
     "output_type": "stream",
     "text": [
      "C:\\Users\\Siloux\\.conda\\envs\\species-id\\lib\\site-packages\\sklearn\\metrics\\_classification.py:1318: UndefinedMetricWarning: Jaccard is ill-defined and being set to 0.0 in labels with no true or predicted samples. Use `zero_division` parameter to control this behavior.\n",
      "  _warn_prf(average, modifier, msg_start, len(result))\n"
     ]
    },
    {
     "name": "stdout",
     "output_type": "stream",
     "text": [
      "Epoch: 0 [batch 3730/4063 (91.80%)] \n",
      "\tJacc: 0.636 Hamm: 0.034 DistLoss: 0.138\n"
     ]
    },
    {
     "name": "stderr",
     "output_type": "stream",
     "text": [
      "C:\\Users\\Siloux\\.conda\\envs\\species-id\\lib\\site-packages\\sklearn\\metrics\\_classification.py:1318: UndefinedMetricWarning: Jaccard is ill-defined and being set to 0.0 in labels with no true or predicted samples. Use `zero_division` parameter to control this behavior.\n",
      "  _warn_prf(average, modifier, msg_start, len(result))\n"
     ]
    },
    {
     "name": "stdout",
     "output_type": "stream",
     "text": [
      "Epoch: 0 [batch 3740/4063 (92.05%)] \n",
      "\tJacc: 0.455 Hamm: 0.062 DistLoss: 0.138\n"
     ]
    },
    {
     "name": "stderr",
     "output_type": "stream",
     "text": [
      "C:\\Users\\Siloux\\.conda\\envs\\species-id\\lib\\site-packages\\sklearn\\metrics\\_classification.py:1318: UndefinedMetricWarning: Jaccard is ill-defined and being set to 0.0 in labels with no true or predicted samples. Use `zero_division` parameter to control this behavior.\n",
      "  _warn_prf(average, modifier, msg_start, len(result))\n"
     ]
    },
    {
     "name": "stdout",
     "output_type": "stream",
     "text": [
      "Epoch: 0 [batch 3750/4063 (92.30%)] \n",
      "\tJacc: 0.515 Hamm: 0.057 DistLoss: 0.138\n"
     ]
    },
    {
     "name": "stderr",
     "output_type": "stream",
     "text": [
      "C:\\Users\\Siloux\\.conda\\envs\\species-id\\lib\\site-packages\\sklearn\\metrics\\_classification.py:1318: UndefinedMetricWarning: Jaccard is ill-defined and being set to 0.0 in labels with no true or predicted samples. Use `zero_division` parameter to control this behavior.\n",
      "  _warn_prf(average, modifier, msg_start, len(result))\n"
     ]
    },
    {
     "name": "stdout",
     "output_type": "stream",
     "text": [
      "Epoch: 0 [batch 3760/4063 (92.54%)] \n",
      "\tJacc: 0.545 Hamm: 0.051 DistLoss: 0.138\n"
     ]
    },
    {
     "name": "stderr",
     "output_type": "stream",
     "text": [
      "C:\\Users\\Siloux\\.conda\\envs\\species-id\\lib\\site-packages\\sklearn\\metrics\\_classification.py:1318: UndefinedMetricWarning: Jaccard is ill-defined and being set to 0.0 in labels with no true or predicted samples. Use `zero_division` parameter to control this behavior.\n",
      "  _warn_prf(average, modifier, msg_start, len(result))\n"
     ]
    },
    {
     "name": "stdout",
     "output_type": "stream",
     "text": [
      "Epoch: 0 [batch 3770/4063 (92.79%)] \n",
      "\tJacc: 0.818 Hamm: 0.000 DistLoss: 0.138\n"
     ]
    },
    {
     "name": "stderr",
     "output_type": "stream",
     "text": [
      "C:\\Users\\Siloux\\.conda\\envs\\species-id\\lib\\site-packages\\sklearn\\metrics\\_classification.py:1318: UndefinedMetricWarning: Jaccard is ill-defined and being set to 0.0 in labels with no true or predicted samples. Use `zero_division` parameter to control this behavior.\n",
      "  _warn_prf(average, modifier, msg_start, len(result))\n"
     ]
    },
    {
     "name": "stdout",
     "output_type": "stream",
     "text": [
      "Epoch: 0 [batch 3780/4063 (93.03%)] \n",
      "\tJacc: 0.588 Hamm: 0.034 DistLoss: 0.138\n"
     ]
    },
    {
     "name": "stderr",
     "output_type": "stream",
     "text": [
      "C:\\Users\\Siloux\\.conda\\envs\\species-id\\lib\\site-packages\\sklearn\\metrics\\_classification.py:1318: UndefinedMetricWarning: Jaccard is ill-defined and being set to 0.0 in labels with no true or predicted samples. Use `zero_division` parameter to control this behavior.\n",
      "  _warn_prf(average, modifier, msg_start, len(result))\n"
     ]
    },
    {
     "name": "stdout",
     "output_type": "stream",
     "text": [
      "Epoch: 0 [batch 3790/4063 (93.28%)] \n",
      "\tJacc: 0.591 Hamm: 0.040 DistLoss: 0.138\n"
     ]
    },
    {
     "name": "stderr",
     "output_type": "stream",
     "text": [
      "C:\\Users\\Siloux\\.conda\\envs\\species-id\\lib\\site-packages\\sklearn\\metrics\\_classification.py:1318: UndefinedMetricWarning: Jaccard is ill-defined and being set to 0.0 in labels with no true or predicted samples. Use `zero_division` parameter to control this behavior.\n",
      "  _warn_prf(average, modifier, msg_start, len(result))\n"
     ]
    },
    {
     "name": "stdout",
     "output_type": "stream",
     "text": [
      "Epoch: 0 [batch 3800/4063 (93.53%)] \n",
      "\tJacc: 0.492 Hamm: 0.040 DistLoss: 0.138\n"
     ]
    },
    {
     "name": "stderr",
     "output_type": "stream",
     "text": [
      "C:\\Users\\Siloux\\.conda\\envs\\species-id\\lib\\site-packages\\sklearn\\metrics\\_classification.py:1318: UndefinedMetricWarning: Jaccard is ill-defined and being set to 0.0 in labels with no true or predicted samples. Use `zero_division` parameter to control this behavior.\n",
      "  _warn_prf(average, modifier, msg_start, len(result))\n"
     ]
    },
    {
     "name": "stdout",
     "output_type": "stream",
     "text": [
      "Epoch: 0 [batch 3810/4063 (93.77%)] \n",
      "\tJacc: 0.561 Hamm: 0.057 DistLoss: 0.138\n"
     ]
    },
    {
     "name": "stderr",
     "output_type": "stream",
     "text": [
      "C:\\Users\\Siloux\\.conda\\envs\\species-id\\lib\\site-packages\\sklearn\\metrics\\_classification.py:1318: UndefinedMetricWarning: Jaccard is ill-defined and being set to 0.0 in labels with no true or predicted samples. Use `zero_division` parameter to control this behavior.\n",
      "  _warn_prf(average, modifier, msg_start, len(result))\n"
     ]
    },
    {
     "name": "stdout",
     "output_type": "stream",
     "text": [
      "Epoch: 0 [batch 3820/4063 (94.02%)] \n",
      "\tJacc: 0.326 Hamm: 0.045 DistLoss: 0.137\n"
     ]
    },
    {
     "name": "stderr",
     "output_type": "stream",
     "text": [
      "C:\\Users\\Siloux\\.conda\\envs\\species-id\\lib\\site-packages\\sklearn\\metrics\\_classification.py:1318: UndefinedMetricWarning: Jaccard is ill-defined and being set to 0.0 in labels with no true or predicted samples. Use `zero_division` parameter to control this behavior.\n",
      "  _warn_prf(average, modifier, msg_start, len(result))\n"
     ]
    },
    {
     "name": "stdout",
     "output_type": "stream",
     "text": [
      "Epoch: 0 [batch 3830/4063 (94.27%)] \n",
      "\tJacc: 0.652 Hamm: 0.023 DistLoss: 0.137\n"
     ]
    },
    {
     "name": "stderr",
     "output_type": "stream",
     "text": [
      "C:\\Users\\Siloux\\.conda\\envs\\species-id\\lib\\site-packages\\sklearn\\metrics\\_classification.py:1318: UndefinedMetricWarning: Jaccard is ill-defined and being set to 0.0 in labels with no true or predicted samples. Use `zero_division` parameter to control this behavior.\n",
      "  _warn_prf(average, modifier, msg_start, len(result))\n"
     ]
    },
    {
     "name": "stdout",
     "output_type": "stream",
     "text": [
      "Epoch: 0 [batch 3840/4063 (94.51%)] \n",
      "\tJacc: 0.523 Hamm: 0.045 DistLoss: 0.137\n"
     ]
    },
    {
     "name": "stderr",
     "output_type": "stream",
     "text": [
      "C:\\Users\\Siloux\\.conda\\envs\\species-id\\lib\\site-packages\\sklearn\\metrics\\_classification.py:1318: UndefinedMetricWarning: Jaccard is ill-defined and being set to 0.0 in labels with no true or predicted samples. Use `zero_division` parameter to control this behavior.\n",
      "  _warn_prf(average, modifier, msg_start, len(result))\n"
     ]
    },
    {
     "name": "stdout",
     "output_type": "stream",
     "text": [
      "Epoch: 0 [batch 3850/4063 (94.76%)] \n",
      "\tJacc: 0.788 Hamm: 0.006 DistLoss: 0.137\n"
     ]
    },
    {
     "name": "stderr",
     "output_type": "stream",
     "text": [
      "C:\\Users\\Siloux\\.conda\\envs\\species-id\\lib\\site-packages\\sklearn\\metrics\\_classification.py:1318: UndefinedMetricWarning: Jaccard is ill-defined and being set to 0.0 in labels with no true or predicted samples. Use `zero_division` parameter to control this behavior.\n",
      "  _warn_prf(average, modifier, msg_start, len(result))\n"
     ]
    },
    {
     "name": "stdout",
     "output_type": "stream",
     "text": [
      "Epoch: 0 [batch 3860/4063 (95.00%)] \n",
      "\tJacc: 0.803 Hamm: 0.034 DistLoss: 0.137\n",
      "Epoch: 0 [batch 3870/4063 (95.25%)] \n",
      "\tJacc: 0.606 Hamm: 0.034 DistLoss: 0.137\n"
     ]
    },
    {
     "name": "stderr",
     "output_type": "stream",
     "text": [
      "C:\\Users\\Siloux\\.conda\\envs\\species-id\\lib\\site-packages\\sklearn\\metrics\\_classification.py:1318: UndefinedMetricWarning: Jaccard is ill-defined and being set to 0.0 in labels with no true or predicted samples. Use `zero_division` parameter to control this behavior.\n",
      "  _warn_prf(average, modifier, msg_start, len(result))\n"
     ]
    },
    {
     "name": "stdout",
     "output_type": "stream",
     "text": [
      "Epoch: 0 [batch 3880/4063 (95.50%)] \n",
      "\tJacc: 0.530 Hamm: 0.051 DistLoss: 0.137\n"
     ]
    },
    {
     "name": "stderr",
     "output_type": "stream",
     "text": [
      "C:\\Users\\Siloux\\.conda\\envs\\species-id\\lib\\site-packages\\sklearn\\metrics\\_classification.py:1318: UndefinedMetricWarning: Jaccard is ill-defined and being set to 0.0 in labels with no true or predicted samples. Use `zero_division` parameter to control this behavior.\n",
      "  _warn_prf(average, modifier, msg_start, len(result))\n"
     ]
    },
    {
     "name": "stdout",
     "output_type": "stream",
     "text": [
      "Epoch: 0 [batch 3890/4063 (95.74%)] \n",
      "\tJacc: 0.561 Hamm: 0.034 DistLoss: 0.137\n"
     ]
    },
    {
     "name": "stderr",
     "output_type": "stream",
     "text": [
      "C:\\Users\\Siloux\\.conda\\envs\\species-id\\lib\\site-packages\\sklearn\\metrics\\_classification.py:1318: UndefinedMetricWarning: Jaccard is ill-defined and being set to 0.0 in labels with no true or predicted samples. Use `zero_division` parameter to control this behavior.\n",
      "  _warn_prf(average, modifier, msg_start, len(result))\n"
     ]
    },
    {
     "name": "stdout",
     "output_type": "stream",
     "text": [
      "Epoch: 0 [batch 3900/4063 (95.99%)] \n",
      "\tJacc: 0.598 Hamm: 0.040 DistLoss: 0.137\n"
     ]
    },
    {
     "name": "stderr",
     "output_type": "stream",
     "text": [
      "C:\\Users\\Siloux\\.conda\\envs\\species-id\\lib\\site-packages\\sklearn\\metrics\\_classification.py:1318: UndefinedMetricWarning: Jaccard is ill-defined and being set to 0.0 in labels with no true or predicted samples. Use `zero_division` parameter to control this behavior.\n",
      "  _warn_prf(average, modifier, msg_start, len(result))\n"
     ]
    },
    {
     "name": "stdout",
     "output_type": "stream",
     "text": [
      "Epoch: 0 [batch 3910/4063 (96.23%)] \n",
      "\tJacc: 0.773 Hamm: 0.017 DistLoss: 0.137\n"
     ]
    },
    {
     "name": "stderr",
     "output_type": "stream",
     "text": [
      "C:\\Users\\Siloux\\.conda\\envs\\species-id\\lib\\site-packages\\sklearn\\metrics\\_classification.py:1318: UndefinedMetricWarning: Jaccard is ill-defined and being set to 0.0 in labels with no true or predicted samples. Use `zero_division` parameter to control this behavior.\n",
      "  _warn_prf(average, modifier, msg_start, len(result))\n"
     ]
    },
    {
     "name": "stdout",
     "output_type": "stream",
     "text": [
      "Epoch: 0 [batch 3920/4063 (96.48%)] \n",
      "\tJacc: 0.606 Hamm: 0.040 DistLoss: 0.136\n"
     ]
    },
    {
     "name": "stderr",
     "output_type": "stream",
     "text": [
      "C:\\Users\\Siloux\\.conda\\envs\\species-id\\lib\\site-packages\\sklearn\\metrics\\_classification.py:1318: UndefinedMetricWarning: Jaccard is ill-defined and being set to 0.0 in labels with no true or predicted samples. Use `zero_division` parameter to control this behavior.\n",
      "  _warn_prf(average, modifier, msg_start, len(result))\n"
     ]
    },
    {
     "name": "stdout",
     "output_type": "stream",
     "text": [
      "Epoch: 0 [batch 3930/4063 (96.73%)] \n",
      "\tJacc: 0.700 Hamm: 0.028 DistLoss: 0.136\n"
     ]
    },
    {
     "name": "stderr",
     "output_type": "stream",
     "text": [
      "C:\\Users\\Siloux\\.conda\\envs\\species-id\\lib\\site-packages\\sklearn\\metrics\\_classification.py:1318: UndefinedMetricWarning: Jaccard is ill-defined and being set to 0.0 in labels with no true or predicted samples. Use `zero_division` parameter to control this behavior.\n",
      "  _warn_prf(average, modifier, msg_start, len(result))\n"
     ]
    },
    {
     "name": "stdout",
     "output_type": "stream",
     "text": [
      "Epoch: 0 [batch 3940/4063 (96.97%)] \n",
      "\tJacc: 0.667 Hamm: 0.028 DistLoss: 0.136\n"
     ]
    },
    {
     "name": "stderr",
     "output_type": "stream",
     "text": [
      "C:\\Users\\Siloux\\.conda\\envs\\species-id\\lib\\site-packages\\sklearn\\metrics\\_classification.py:1318: UndefinedMetricWarning: Jaccard is ill-defined and being set to 0.0 in labels with no true or predicted samples. Use `zero_division` parameter to control this behavior.\n",
      "  _warn_prf(average, modifier, msg_start, len(result))\n"
     ]
    },
    {
     "name": "stdout",
     "output_type": "stream",
     "text": [
      "Epoch: 0 [batch 3950/4063 (97.22%)] \n",
      "\tJacc: 0.682 Hamm: 0.034 DistLoss: 0.136\n"
     ]
    },
    {
     "name": "stderr",
     "output_type": "stream",
     "text": [
      "C:\\Users\\Siloux\\.conda\\envs\\species-id\\lib\\site-packages\\sklearn\\metrics\\_classification.py:1318: UndefinedMetricWarning: Jaccard is ill-defined and being set to 0.0 in labels with no true or predicted samples. Use `zero_division` parameter to control this behavior.\n",
      "  _warn_prf(average, modifier, msg_start, len(result))\n"
     ]
    },
    {
     "name": "stdout",
     "output_type": "stream",
     "text": [
      "Epoch: 0 [batch 3960/4063 (97.46%)] \n",
      "\tJacc: 0.447 Hamm: 0.034 DistLoss: 0.136\n"
     ]
    },
    {
     "name": "stderr",
     "output_type": "stream",
     "text": [
      "C:\\Users\\Siloux\\.conda\\envs\\species-id\\lib\\site-packages\\sklearn\\metrics\\_classification.py:1318: UndefinedMetricWarning: Jaccard is ill-defined and being set to 0.0 in labels with no true or predicted samples. Use `zero_division` parameter to control this behavior.\n",
      "  _warn_prf(average, modifier, msg_start, len(result))\n"
     ]
    },
    {
     "name": "stdout",
     "output_type": "stream",
     "text": [
      "Epoch: 0 [batch 3970/4063 (97.71%)] \n",
      "\tJacc: 0.636 Hamm: 0.023 DistLoss: 0.136\n"
     ]
    },
    {
     "name": "stderr",
     "output_type": "stream",
     "text": [
      "C:\\Users\\Siloux\\.conda\\envs\\species-id\\lib\\site-packages\\sklearn\\metrics\\_classification.py:1318: UndefinedMetricWarning: Jaccard is ill-defined and being set to 0.0 in labels with no true or predicted samples. Use `zero_division` parameter to control this behavior.\n",
      "  _warn_prf(average, modifier, msg_start, len(result))\n"
     ]
    },
    {
     "name": "stdout",
     "output_type": "stream",
     "text": [
      "Epoch: 0 [batch 3980/4063 (97.96%)] \n",
      "\tJacc: 0.530 Hamm: 0.023 DistLoss: 0.136\n"
     ]
    },
    {
     "name": "stderr",
     "output_type": "stream",
     "text": [
      "C:\\Users\\Siloux\\.conda\\envs\\species-id\\lib\\site-packages\\sklearn\\metrics\\_classification.py:1318: UndefinedMetricWarning: Jaccard is ill-defined and being set to 0.0 in labels with no true or predicted samples. Use `zero_division` parameter to control this behavior.\n",
      "  _warn_prf(average, modifier, msg_start, len(result))\n"
     ]
    },
    {
     "name": "stdout",
     "output_type": "stream",
     "text": [
      "Epoch: 0 [batch 3990/4063 (98.20%)] \n",
      "\tJacc: 0.712 Hamm: 0.034 DistLoss: 0.136\n",
      "Epoch: 0 [batch 4000/4063 (98.45%)] \n",
      "\tJacc: 0.742 Hamm: 0.023 DistLoss: 0.136\n"
     ]
    },
    {
     "name": "stderr",
     "output_type": "stream",
     "text": [
      "C:\\Users\\Siloux\\.conda\\envs\\species-id\\lib\\site-packages\\sklearn\\metrics\\_classification.py:1318: UndefinedMetricWarning: Jaccard is ill-defined and being set to 0.0 in labels with no true or predicted samples. Use `zero_division` parameter to control this behavior.\n",
      "  _warn_prf(average, modifier, msg_start, len(result))\n"
     ]
    },
    {
     "name": "stdout",
     "output_type": "stream",
     "text": [
      "Epoch: 0 [batch 4010/4063 (98.70%)] \n",
      "\tJacc: 0.705 Hamm: 0.023 DistLoss: 0.135\n"
     ]
    },
    {
     "name": "stderr",
     "output_type": "stream",
     "text": [
      "C:\\Users\\Siloux\\.conda\\envs\\species-id\\lib\\site-packages\\sklearn\\metrics\\_classification.py:1318: UndefinedMetricWarning: Jaccard is ill-defined and being set to 0.0 in labels with no true or predicted samples. Use `zero_division` parameter to control this behavior.\n",
      "  _warn_prf(average, modifier, msg_start, len(result))\n"
     ]
    },
    {
     "name": "stdout",
     "output_type": "stream",
     "text": [
      "Epoch: 0 [batch 4020/4063 (98.94%)] \n",
      "\tJacc: 0.720 Hamm: 0.028 DistLoss: 0.135\n"
     ]
    },
    {
     "name": "stderr",
     "output_type": "stream",
     "text": [
      "C:\\Users\\Siloux\\.conda\\envs\\species-id\\lib\\site-packages\\sklearn\\metrics\\_classification.py:1318: UndefinedMetricWarning: Jaccard is ill-defined and being set to 0.0 in labels with no true or predicted samples. Use `zero_division` parameter to control this behavior.\n",
      "  _warn_prf(average, modifier, msg_start, len(result))\n"
     ]
    },
    {
     "name": "stdout",
     "output_type": "stream",
     "text": [
      "Epoch: 0 [batch 4030/4063 (99.19%)] \n",
      "\tJacc: 0.509 Hamm: 0.062 DistLoss: 0.135\n"
     ]
    },
    {
     "name": "stderr",
     "output_type": "stream",
     "text": [
      "C:\\Users\\Siloux\\.conda\\envs\\species-id\\lib\\site-packages\\sklearn\\metrics\\_classification.py:1318: UndefinedMetricWarning: Jaccard is ill-defined and being set to 0.0 in labels with no true or predicted samples. Use `zero_division` parameter to control this behavior.\n",
      "  _warn_prf(average, modifier, msg_start, len(result))\n"
     ]
    },
    {
     "name": "stdout",
     "output_type": "stream",
     "text": [
      "Epoch: 0 [batch 4040/4063 (99.43%)] \n",
      "\tJacc: 0.523 Hamm: 0.057 DistLoss: 0.135\n",
      "Epoch: 0 [batch 4050/4063 (99.68%)] \n",
      "\tJacc: 0.505 Hamm: 0.045 DistLoss: 0.135\n"
     ]
    },
    {
     "name": "stderr",
     "output_type": "stream",
     "text": [
      "C:\\Users\\Siloux\\.conda\\envs\\species-id\\lib\\site-packages\\sklearn\\metrics\\_classification.py:1318: UndefinedMetricWarning: Jaccard is ill-defined and being set to 0.0 in labels with no true or predicted samples. Use `zero_division` parameter to control this behavior.\n",
      "  _warn_prf(average, modifier, msg_start, len(result))\n"
     ]
    },
    {
     "name": "stdout",
     "output_type": "stream",
     "text": [
      "Epoch: 0 [batch 4060/4063 (99.93%)] \n",
      "\tJacc: 0.750 Hamm: 0.028 DistLoss: 0.135\n"
     ]
    },
    {
     "name": "stderr",
     "output_type": "stream",
     "text": [
      "C:\\Users\\Siloux\\.conda\\envs\\species-id\\lib\\site-packages\\sklearn\\metrics\\_classification.py:1318: UndefinedMetricWarning: Jaccard is ill-defined and being set to 0.0 in labels with no true or predicted samples. Use `zero_division` parameter to control this behavior.\n",
      "  _warn_prf(average, modifier, msg_start, len(result))\n"
     ]
    },
    {
     "name": "stdout",
     "output_type": "stream",
     "text": [
      "\n",
      "Validation.\n",
      "(16249, 11)\n",
      "\t Precision: 0.7496931182482843\n",
      "\t Recall: 0.8334056769522914\n",
      "\t F1: 0.7793324764964763\n",
      "Updating best model\n",
      "Epoch: 1 [batch 0/4063 (0.00%)] \n",
      "\tJacc: 0.606 Hamm: 0.040 DistLoss: 0.109\n"
     ]
    },
    {
     "name": "stderr",
     "output_type": "stream",
     "text": [
      "C:\\Users\\Siloux\\.conda\\envs\\species-id\\lib\\site-packages\\sklearn\\metrics\\_classification.py:1318: UndefinedMetricWarning: Jaccard is ill-defined and being set to 0.0 in labels with no true or predicted samples. Use `zero_division` parameter to control this behavior.\n",
      "  _warn_prf(average, modifier, msg_start, len(result))\n"
     ]
    },
    {
     "name": "stdout",
     "output_type": "stream",
     "text": [
      "Epoch: 1 [batch 10/4063 (0.25%)] \n",
      "\tJacc: 0.492 Hamm: 0.040 DistLoss: 0.090\n"
     ]
    },
    {
     "name": "stderr",
     "output_type": "stream",
     "text": [
      "C:\\Users\\Siloux\\.conda\\envs\\species-id\\lib\\site-packages\\sklearn\\metrics\\_classification.py:1318: UndefinedMetricWarning: Jaccard is ill-defined and being set to 0.0 in labels with no true or predicted samples. Use `zero_division` parameter to control this behavior.\n",
      "  _warn_prf(average, modifier, msg_start, len(result))\n"
     ]
    },
    {
     "name": "stdout",
     "output_type": "stream",
     "text": [
      "Epoch: 1 [batch 20/4063 (0.49%)] \n",
      "\tJacc: 0.568 Hamm: 0.023 DistLoss: 0.095\n"
     ]
    },
    {
     "name": "stderr",
     "output_type": "stream",
     "text": [
      "C:\\Users\\Siloux\\.conda\\envs\\species-id\\lib\\site-packages\\sklearn\\metrics\\_classification.py:1318: UndefinedMetricWarning: Jaccard is ill-defined and being set to 0.0 in labels with no true or predicted samples. Use `zero_division` parameter to control this behavior.\n",
      "  _warn_prf(average, modifier, msg_start, len(result))\n"
     ]
    },
    {
     "name": "stdout",
     "output_type": "stream",
     "text": [
      "Epoch: 1 [batch 30/4063 (0.74%)] \n",
      "\tJacc: 0.561 Hamm: 0.023 DistLoss: 0.091\n"
     ]
    },
    {
     "name": "stderr",
     "output_type": "stream",
     "text": [
      "C:\\Users\\Siloux\\.conda\\envs\\species-id\\lib\\site-packages\\sklearn\\metrics\\_classification.py:1318: UndefinedMetricWarning: Jaccard is ill-defined and being set to 0.0 in labels with no true or predicted samples. Use `zero_division` parameter to control this behavior.\n",
      "  _warn_prf(average, modifier, msg_start, len(result))\n"
     ]
    },
    {
     "name": "stdout",
     "output_type": "stream",
     "text": [
      "Epoch: 1 [batch 40/4063 (0.98%)] \n",
      "\tJacc: 0.721 Hamm: 0.023 DistLoss: 0.093\n"
     ]
    },
    {
     "name": "stderr",
     "output_type": "stream",
     "text": [
      "C:\\Users\\Siloux\\.conda\\envs\\species-id\\lib\\site-packages\\sklearn\\metrics\\_classification.py:1318: UndefinedMetricWarning: Jaccard is ill-defined and being set to 0.0 in labels with no true or predicted samples. Use `zero_division` parameter to control this behavior.\n",
      "  _warn_prf(average, modifier, msg_start, len(result))\n"
     ]
    },
    {
     "name": "stdout",
     "output_type": "stream",
     "text": [
      "Epoch: 1 [batch 50/4063 (1.23%)] \n",
      "\tJacc: 0.595 Hamm: 0.028 DistLoss: 0.094\n"
     ]
    },
    {
     "name": "stderr",
     "output_type": "stream",
     "text": [
      "C:\\Users\\Siloux\\.conda\\envs\\species-id\\lib\\site-packages\\sklearn\\metrics\\_classification.py:1318: UndefinedMetricWarning: Jaccard is ill-defined and being set to 0.0 in labels with no true or predicted samples. Use `zero_division` parameter to control this behavior.\n",
      "  _warn_prf(average, modifier, msg_start, len(result))\n"
     ]
    },
    {
     "name": "stdout",
     "output_type": "stream",
     "text": [
      "Epoch: 1 [batch 60/4063 (1.48%)] \n",
      "\tJacc: 0.536 Hamm: 0.062 DistLoss: 0.098\n"
     ]
    },
    {
     "name": "stderr",
     "output_type": "stream",
     "text": [
      "C:\\Users\\Siloux\\.conda\\envs\\species-id\\lib\\site-packages\\sklearn\\metrics\\_classification.py:1318: UndefinedMetricWarning: Jaccard is ill-defined and being set to 0.0 in labels with no true or predicted samples. Use `zero_division` parameter to control this behavior.\n",
      "  _warn_prf(average, modifier, msg_start, len(result))\n"
     ]
    },
    {
     "name": "stdout",
     "output_type": "stream",
     "text": [
      "Epoch: 1 [batch 70/4063 (1.72%)] \n",
      "\tJacc: 0.636 Hamm: 0.023 DistLoss: 0.095\n"
     ]
    },
    {
     "name": "stderr",
     "output_type": "stream",
     "text": [
      "C:\\Users\\Siloux\\.conda\\envs\\species-id\\lib\\site-packages\\sklearn\\metrics\\_classification.py:1318: UndefinedMetricWarning: Jaccard is ill-defined and being set to 0.0 in labels with no true or predicted samples. Use `zero_division` parameter to control this behavior.\n",
      "  _warn_prf(average, modifier, msg_start, len(result))\n"
     ]
    },
    {
     "name": "stdout",
     "output_type": "stream",
     "text": [
      "Epoch: 1 [batch 80/4063 (1.97%)] \n",
      "\tJacc: 0.780 Hamm: 0.023 DistLoss: 0.097\n"
     ]
    },
    {
     "name": "stderr",
     "output_type": "stream",
     "text": [
      "C:\\Users\\Siloux\\.conda\\envs\\species-id\\lib\\site-packages\\sklearn\\metrics\\_classification.py:1318: UndefinedMetricWarning: Jaccard is ill-defined and being set to 0.0 in labels with no true or predicted samples. Use `zero_division` parameter to control this behavior.\n",
      "  _warn_prf(average, modifier, msg_start, len(result))\n"
     ]
    },
    {
     "name": "stdout",
     "output_type": "stream",
     "text": [
      "Epoch: 1 [batch 90/4063 (2.22%)] \n",
      "\tJacc: 0.636 Hamm: 0.011 DistLoss: 0.097\n"
     ]
    },
    {
     "name": "stderr",
     "output_type": "stream",
     "text": [
      "C:\\Users\\Siloux\\.conda\\envs\\species-id\\lib\\site-packages\\sklearn\\metrics\\_classification.py:1318: UndefinedMetricWarning: Jaccard is ill-defined and being set to 0.0 in labels with no true or predicted samples. Use `zero_division` parameter to control this behavior.\n",
      "  _warn_prf(average, modifier, msg_start, len(result))\n"
     ]
    },
    {
     "name": "stdout",
     "output_type": "stream",
     "text": [
      "Epoch: 1 [batch 100/4063 (2.46%)] \n",
      "\tJacc: 0.659 Hamm: 0.040 DistLoss: 0.095\n",
      "Epoch: 1 [batch 110/4063 (2.71%)] \n",
      "\tJacc: 0.673 Hamm: 0.040 DistLoss: 0.097\n"
     ]
    },
    {
     "name": "stderr",
     "output_type": "stream",
     "text": [
      "C:\\Users\\Siloux\\.conda\\envs\\species-id\\lib\\site-packages\\sklearn\\metrics\\_classification.py:1318: UndefinedMetricWarning: Jaccard is ill-defined and being set to 0.0 in labels with no true or predicted samples. Use `zero_division` parameter to control this behavior.\n",
      "  _warn_prf(average, modifier, msg_start, len(result))\n"
     ]
    },
    {
     "name": "stdout",
     "output_type": "stream",
     "text": [
      "Epoch: 1 [batch 120/4063 (2.95%)] \n",
      "\tJacc: 0.697 Hamm: 0.028 DistLoss: 0.097\n"
     ]
    },
    {
     "name": "stderr",
     "output_type": "stream",
     "text": [
      "C:\\Users\\Siloux\\.conda\\envs\\species-id\\lib\\site-packages\\sklearn\\metrics\\_classification.py:1318: UndefinedMetricWarning: Jaccard is ill-defined and being set to 0.0 in labels with no true or predicted samples. Use `zero_division` parameter to control this behavior.\n",
      "  _warn_prf(average, modifier, msg_start, len(result))\n"
     ]
    },
    {
     "name": "stdout",
     "output_type": "stream",
     "text": [
      "Epoch: 1 [batch 130/4063 (3.20%)] \n",
      "\tJacc: 0.689 Hamm: 0.040 DistLoss: 0.099\n"
     ]
    },
    {
     "name": "stderr",
     "output_type": "stream",
     "text": [
      "C:\\Users\\Siloux\\.conda\\envs\\species-id\\lib\\site-packages\\sklearn\\metrics\\_classification.py:1318: UndefinedMetricWarning: Jaccard is ill-defined and being set to 0.0 in labels with no true or predicted samples. Use `zero_division` parameter to control this behavior.\n",
      "  _warn_prf(average, modifier, msg_start, len(result))\n"
     ]
    },
    {
     "name": "stdout",
     "output_type": "stream",
     "text": [
      "Epoch: 1 [batch 140/4063 (3.45%)] \n",
      "\tJacc: 0.742 Hamm: 0.023 DistLoss: 0.098\n"
     ]
    },
    {
     "name": "stderr",
     "output_type": "stream",
     "text": [
      "C:\\Users\\Siloux\\.conda\\envs\\species-id\\lib\\site-packages\\sklearn\\metrics\\_classification.py:1318: UndefinedMetricWarning: Jaccard is ill-defined and being set to 0.0 in labels with no true or predicted samples. Use `zero_division` parameter to control this behavior.\n",
      "  _warn_prf(average, modifier, msg_start, len(result))\n"
     ]
    },
    {
     "name": "stdout",
     "output_type": "stream",
     "text": [
      "Epoch: 1 [batch 150/4063 (3.69%)] \n",
      "\tJacc: 0.500 Hamm: 0.034 DistLoss: 0.096\n"
     ]
    },
    {
     "name": "stderr",
     "output_type": "stream",
     "text": [
      "C:\\Users\\Siloux\\.conda\\envs\\species-id\\lib\\site-packages\\sklearn\\metrics\\_classification.py:1318: UndefinedMetricWarning: Jaccard is ill-defined and being set to 0.0 in labels with no true or predicted samples. Use `zero_division` parameter to control this behavior.\n",
      "  _warn_prf(average, modifier, msg_start, len(result))\n"
     ]
    },
    {
     "name": "stdout",
     "output_type": "stream",
     "text": [
      "Epoch: 1 [batch 160/4063 (3.94%)] \n",
      "\tJacc: 0.403 Hamm: 0.045 DistLoss: 0.096\n"
     ]
    },
    {
     "name": "stderr",
     "output_type": "stream",
     "text": [
      "C:\\Users\\Siloux\\.conda\\envs\\species-id\\lib\\site-packages\\sklearn\\metrics\\_classification.py:1318: UndefinedMetricWarning: Jaccard is ill-defined and being set to 0.0 in labels with no true or predicted samples. Use `zero_division` parameter to control this behavior.\n",
      "  _warn_prf(average, modifier, msg_start, len(result))\n"
     ]
    },
    {
     "name": "stdout",
     "output_type": "stream",
     "text": [
      "Epoch: 1 [batch 170/4063 (4.18%)] \n",
      "\tJacc: 0.773 Hamm: 0.017 DistLoss: 0.096\n"
     ]
    },
    {
     "name": "stderr",
     "output_type": "stream",
     "text": [
      "C:\\Users\\Siloux\\.conda\\envs\\species-id\\lib\\site-packages\\sklearn\\metrics\\_classification.py:1318: UndefinedMetricWarning: Jaccard is ill-defined and being set to 0.0 in labels with no true or predicted samples. Use `zero_division` parameter to control this behavior.\n",
      "  _warn_prf(average, modifier, msg_start, len(result))\n"
     ]
    },
    {
     "name": "stdout",
     "output_type": "stream",
     "text": [
      "Epoch: 1 [batch 180/4063 (4.43%)] \n",
      "\tJacc: 0.561 Hamm: 0.068 DistLoss: 0.095\n",
      "Epoch: 1 [batch 190/4063 (4.68%)] \n",
      "\tJacc: 0.788 Hamm: 0.023 DistLoss: 0.095\n",
      "Epoch: 1 [batch 200/4063 (4.92%)] \n",
      "\tJacc: 0.470 Hamm: 0.068 DistLoss: 0.096\n"
     ]
    },
    {
     "name": "stderr",
     "output_type": "stream",
     "text": [
      "C:\\Users\\Siloux\\.conda\\envs\\species-id\\lib\\site-packages\\sklearn\\metrics\\_classification.py:1318: UndefinedMetricWarning: Jaccard is ill-defined and being set to 0.0 in labels with no true or predicted samples. Use `zero_division` parameter to control this behavior.\n",
      "  _warn_prf(average, modifier, msg_start, len(result))\n"
     ]
    },
    {
     "name": "stdout",
     "output_type": "stream",
     "text": [
      "Epoch: 1 [batch 210/4063 (5.17%)] \n",
      "\tJacc: 0.618 Hamm: 0.028 DistLoss: 0.095\n"
     ]
    },
    {
     "name": "stderr",
     "output_type": "stream",
     "text": [
      "C:\\Users\\Siloux\\.conda\\envs\\species-id\\lib\\site-packages\\sklearn\\metrics\\_classification.py:1318: UndefinedMetricWarning: Jaccard is ill-defined and being set to 0.0 in labels with no true or predicted samples. Use `zero_division` parameter to control this behavior.\n",
      "  _warn_prf(average, modifier, msg_start, len(result))\n"
     ]
    },
    {
     "name": "stdout",
     "output_type": "stream",
     "text": [
      "Epoch: 1 [batch 220/4063 (5.41%)] \n",
      "\tJacc: 0.512 Hamm: 0.045 DistLoss: 0.095\n"
     ]
    },
    {
     "name": "stderr",
     "output_type": "stream",
     "text": [
      "C:\\Users\\Siloux\\.conda\\envs\\species-id\\lib\\site-packages\\sklearn\\metrics\\_classification.py:1318: UndefinedMetricWarning: Jaccard is ill-defined and being set to 0.0 in labels with no true or predicted samples. Use `zero_division` parameter to control this behavior.\n",
      "  _warn_prf(average, modifier, msg_start, len(result))\n"
     ]
    },
    {
     "name": "stdout",
     "output_type": "stream",
     "text": [
      "Epoch: 1 [batch 230/4063 (5.66%)] \n",
      "\tJacc: 0.433 Hamm: 0.034 DistLoss: 0.095\n"
     ]
    },
    {
     "name": "stderr",
     "output_type": "stream",
     "text": [
      "C:\\Users\\Siloux\\.conda\\envs\\species-id\\lib\\site-packages\\sklearn\\metrics\\_classification.py:1318: UndefinedMetricWarning: Jaccard is ill-defined and being set to 0.0 in labels with no true or predicted samples. Use `zero_division` parameter to control this behavior.\n",
      "  _warn_prf(average, modifier, msg_start, len(result))\n"
     ]
    },
    {
     "name": "stdout",
     "output_type": "stream",
     "text": [
      "Epoch: 1 [batch 240/4063 (5.91%)] \n",
      "\tJacc: 0.545 Hamm: 0.040 DistLoss: 0.095\n"
     ]
    },
    {
     "name": "stderr",
     "output_type": "stream",
     "text": [
      "C:\\Users\\Siloux\\.conda\\envs\\species-id\\lib\\site-packages\\sklearn\\metrics\\_classification.py:1318: UndefinedMetricWarning: Jaccard is ill-defined and being set to 0.0 in labels with no true or predicted samples. Use `zero_division` parameter to control this behavior.\n",
      "  _warn_prf(average, modifier, msg_start, len(result))\n"
     ]
    },
    {
     "name": "stdout",
     "output_type": "stream",
     "text": [
      "Epoch: 1 [batch 250/4063 (6.15%)] \n",
      "\tJacc: 0.667 Hamm: 0.028 DistLoss: 0.094\n"
     ]
    },
    {
     "name": "stderr",
     "output_type": "stream",
     "text": [
      "C:\\Users\\Siloux\\.conda\\envs\\species-id\\lib\\site-packages\\sklearn\\metrics\\_classification.py:1318: UndefinedMetricWarning: Jaccard is ill-defined and being set to 0.0 in labels with no true or predicted samples. Use `zero_division` parameter to control this behavior.\n",
      "  _warn_prf(average, modifier, msg_start, len(result))\n"
     ]
    },
    {
     "name": "stdout",
     "output_type": "stream",
     "text": [
      "Epoch: 1 [batch 260/4063 (6.40%)] \n",
      "\tJacc: 0.545 Hamm: 0.034 DistLoss: 0.094\n"
     ]
    },
    {
     "name": "stderr",
     "output_type": "stream",
     "text": [
      "C:\\Users\\Siloux\\.conda\\envs\\species-id\\lib\\site-packages\\sklearn\\metrics\\_classification.py:1318: UndefinedMetricWarning: Jaccard is ill-defined and being set to 0.0 in labels with no true or predicted samples. Use `zero_division` parameter to control this behavior.\n",
      "  _warn_prf(average, modifier, msg_start, len(result))\n"
     ]
    },
    {
     "name": "stdout",
     "output_type": "stream",
     "text": [
      "Epoch: 1 [batch 270/4063 (6.65%)] \n",
      "\tJacc: 0.697 Hamm: 0.011 DistLoss: 0.094\n"
     ]
    },
    {
     "name": "stderr",
     "output_type": "stream",
     "text": [
      "C:\\Users\\Siloux\\.conda\\envs\\species-id\\lib\\site-packages\\sklearn\\metrics\\_classification.py:1318: UndefinedMetricWarning: Jaccard is ill-defined and being set to 0.0 in labels with no true or predicted samples. Use `zero_division` parameter to control this behavior.\n",
      "  _warn_prf(average, modifier, msg_start, len(result))\n"
     ]
    },
    {
     "name": "stdout",
     "output_type": "stream",
     "text": [
      "Epoch: 1 [batch 280/4063 (6.89%)] \n",
      "\tJacc: 0.705 Hamm: 0.040 DistLoss: 0.093\n",
      "Epoch: 1 [batch 290/4063 (7.14%)] \n",
      "\tJacc: 0.512 Hamm: 0.034 DistLoss: 0.093\n"
     ]
    },
    {
     "name": "stderr",
     "output_type": "stream",
     "text": [
      "C:\\Users\\Siloux\\.conda\\envs\\species-id\\lib\\site-packages\\sklearn\\metrics\\_classification.py:1318: UndefinedMetricWarning: Jaccard is ill-defined and being set to 0.0 in labels with no true or predicted samples. Use `zero_division` parameter to control this behavior.\n",
      "  _warn_prf(average, modifier, msg_start, len(result))\n"
     ]
    },
    {
     "name": "stdout",
     "output_type": "stream",
     "text": [
      "Epoch: 1 [batch 300/4063 (7.38%)] \n",
      "\tJacc: 0.697 Hamm: 0.017 DistLoss: 0.094\n"
     ]
    },
    {
     "name": "stderr",
     "output_type": "stream",
     "text": [
      "C:\\Users\\Siloux\\.conda\\envs\\species-id\\lib\\site-packages\\sklearn\\metrics\\_classification.py:1318: UndefinedMetricWarning: Jaccard is ill-defined and being set to 0.0 in labels with no true or predicted samples. Use `zero_division` parameter to control this behavior.\n",
      "  _warn_prf(average, modifier, msg_start, len(result))\n"
     ]
    },
    {
     "name": "stdout",
     "output_type": "stream",
     "text": [
      "Epoch: 1 [batch 310/4063 (7.63%)] \n",
      "\tJacc: 0.462 Hamm: 0.085 DistLoss: 0.094\n",
      "Epoch: 1 [batch 320/4063 (7.88%)] \n",
      "\tJacc: 0.818 Hamm: 0.000 DistLoss: 0.093\n"
     ]
    },
    {
     "name": "stderr",
     "output_type": "stream",
     "text": [
      "C:\\Users\\Siloux\\.conda\\envs\\species-id\\lib\\site-packages\\sklearn\\metrics\\_classification.py:1318: UndefinedMetricWarning: Jaccard is ill-defined and being set to 0.0 in labels with no true or predicted samples. Use `zero_division` parameter to control this behavior.\n",
      "  _warn_prf(average, modifier, msg_start, len(result))\n"
     ]
    },
    {
     "name": "stdout",
     "output_type": "stream",
     "text": [
      "Epoch: 1 [batch 330/4063 (8.12%)] \n",
      "\tJacc: 0.583 Hamm: 0.028 DistLoss: 0.093\n"
     ]
    },
    {
     "name": "stderr",
     "output_type": "stream",
     "text": [
      "C:\\Users\\Siloux\\.conda\\envs\\species-id\\lib\\site-packages\\sklearn\\metrics\\_classification.py:1318: UndefinedMetricWarning: Jaccard is ill-defined and being set to 0.0 in labels with no true or predicted samples. Use `zero_division` parameter to control this behavior.\n",
      "  _warn_prf(average, modifier, msg_start, len(result))\n"
     ]
    },
    {
     "name": "stdout",
     "output_type": "stream",
     "text": [
      "Epoch: 1 [batch 340/4063 (8.37%)] \n",
      "\tJacc: 0.500 Hamm: 0.040 DistLoss: 0.093\n"
     ]
    },
    {
     "name": "stderr",
     "output_type": "stream",
     "text": [
      "C:\\Users\\Siloux\\.conda\\envs\\species-id\\lib\\site-packages\\sklearn\\metrics\\_classification.py:1318: UndefinedMetricWarning: Jaccard is ill-defined and being set to 0.0 in labels with no true or predicted samples. Use `zero_division` parameter to control this behavior.\n",
      "  _warn_prf(average, modifier, msg_start, len(result))\n"
     ]
    },
    {
     "name": "stdout",
     "output_type": "stream",
     "text": [
      "Epoch: 1 [batch 350/4063 (8.61%)] \n",
      "\tJacc: 0.606 Hamm: 0.040 DistLoss: 0.093\n"
     ]
    },
    {
     "name": "stderr",
     "output_type": "stream",
     "text": [
      "C:\\Users\\Siloux\\.conda\\envs\\species-id\\lib\\site-packages\\sklearn\\metrics\\_classification.py:1318: UndefinedMetricWarning: Jaccard is ill-defined and being set to 0.0 in labels with no true or predicted samples. Use `zero_division` parameter to control this behavior.\n",
      "  _warn_prf(average, modifier, msg_start, len(result))\n"
     ]
    },
    {
     "name": "stdout",
     "output_type": "stream",
     "text": [
      "Epoch: 1 [batch 360/4063 (8.86%)] \n",
      "\tJacc: 0.667 Hamm: 0.040 DistLoss: 0.093\n",
      "Epoch: 1 [batch 370/4063 (9.11%)] \n",
      "\tJacc: 0.614 Hamm: 0.023 DistLoss: 0.093\n"
     ]
    },
    {
     "name": "stderr",
     "output_type": "stream",
     "text": [
      "C:\\Users\\Siloux\\.conda\\envs\\species-id\\lib\\site-packages\\sklearn\\metrics\\_classification.py:1318: UndefinedMetricWarning: Jaccard is ill-defined and being set to 0.0 in labels with no true or predicted samples. Use `zero_division` parameter to control this behavior.\n",
      "  _warn_prf(average, modifier, msg_start, len(result))\n"
     ]
    },
    {
     "name": "stdout",
     "output_type": "stream",
     "text": [
      "Epoch: 1 [batch 380/4063 (9.35%)] \n",
      "\tJacc: 0.476 Hamm: 0.040 DistLoss: 0.093\n"
     ]
    },
    {
     "name": "stderr",
     "output_type": "stream",
     "text": [
      "C:\\Users\\Siloux\\.conda\\envs\\species-id\\lib\\site-packages\\sklearn\\metrics\\_classification.py:1318: UndefinedMetricWarning: Jaccard is ill-defined and being set to 0.0 in labels with no true or predicted samples. Use `zero_division` parameter to control this behavior.\n",
      "  _warn_prf(average, modifier, msg_start, len(result))\n"
     ]
    },
    {
     "name": "stdout",
     "output_type": "stream",
     "text": [
      "Epoch: 1 [batch 390/4063 (9.60%)] \n",
      "\tJacc: 0.773 Hamm: 0.023 DistLoss: 0.093\n"
     ]
    },
    {
     "name": "stderr",
     "output_type": "stream",
     "text": [
      "C:\\Users\\Siloux\\.conda\\envs\\species-id\\lib\\site-packages\\sklearn\\metrics\\_classification.py:1318: UndefinedMetricWarning: Jaccard is ill-defined and being set to 0.0 in labels with no true or predicted samples. Use `zero_division` parameter to control this behavior.\n",
      "  _warn_prf(average, modifier, msg_start, len(result))\n"
     ]
    },
    {
     "name": "stdout",
     "output_type": "stream",
     "text": [
      "Epoch: 1 [batch 400/4063 (9.84%)] \n",
      "\tJacc: 0.697 Hamm: 0.040 DistLoss: 0.094\n",
      "Epoch: 1 [batch 410/4063 (10.09%)] \n",
      "\tJacc: 0.515 Hamm: 0.062 DistLoss: 0.094\n"
     ]
    },
    {
     "name": "stderr",
     "output_type": "stream",
     "text": [
      "C:\\Users\\Siloux\\.conda\\envs\\species-id\\lib\\site-packages\\sklearn\\metrics\\_classification.py:1318: UndefinedMetricWarning: Jaccard is ill-defined and being set to 0.0 in labels with no true or predicted samples. Use `zero_division` parameter to control this behavior.\n",
      "  _warn_prf(average, modifier, msg_start, len(result))\n"
     ]
    },
    {
     "name": "stdout",
     "output_type": "stream",
     "text": [
      "Epoch: 1 [batch 420/4063 (10.34%)] \n",
      "\tJacc: 0.758 Hamm: 0.023 DistLoss: 0.094\n"
     ]
    },
    {
     "name": "stderr",
     "output_type": "stream",
     "text": [
      "C:\\Users\\Siloux\\.conda\\envs\\species-id\\lib\\site-packages\\sklearn\\metrics\\_classification.py:1318: UndefinedMetricWarning: Jaccard is ill-defined and being set to 0.0 in labels with no true or predicted samples. Use `zero_division` parameter to control this behavior.\n",
      "  _warn_prf(average, modifier, msg_start, len(result))\n"
     ]
    },
    {
     "name": "stdout",
     "output_type": "stream",
     "text": [
      "Epoch: 1 [batch 430/4063 (10.58%)] \n",
      "\tJacc: 0.788 Hamm: 0.017 DistLoss: 0.094\n",
      "Epoch: 1 [batch 440/4063 (10.83%)] \n",
      "\tJacc: 0.523 Hamm: 0.062 DistLoss: 0.094\n",
      "Epoch: 1 [batch 450/4063 (11.08%)] \n",
      "\tJacc: 0.773 Hamm: 0.006 DistLoss: 0.094\n"
     ]
    },
    {
     "name": "stderr",
     "output_type": "stream",
     "text": [
      "C:\\Users\\Siloux\\.conda\\envs\\species-id\\lib\\site-packages\\sklearn\\metrics\\_classification.py:1318: UndefinedMetricWarning: Jaccard is ill-defined and being set to 0.0 in labels with no true or predicted samples. Use `zero_division` parameter to control this behavior.\n",
      "  _warn_prf(average, modifier, msg_start, len(result))\n"
     ]
    },
    {
     "name": "stdout",
     "output_type": "stream",
     "text": [
      "Epoch: 1 [batch 460/4063 (11.32%)] \n",
      "\tJacc: 0.636 Hamm: 0.040 DistLoss: 0.094\n"
     ]
    },
    {
     "name": "stderr",
     "output_type": "stream",
     "text": [
      "C:\\Users\\Siloux\\.conda\\envs\\species-id\\lib\\site-packages\\sklearn\\metrics\\_classification.py:1318: UndefinedMetricWarning: Jaccard is ill-defined and being set to 0.0 in labels with no true or predicted samples. Use `zero_division` parameter to control this behavior.\n",
      "  _warn_prf(average, modifier, msg_start, len(result))\n"
     ]
    },
    {
     "name": "stdout",
     "output_type": "stream",
     "text": [
      "Epoch: 1 [batch 470/4063 (11.57%)] \n",
      "\tJacc: 0.606 Hamm: 0.040 DistLoss: 0.094\n",
      "Epoch: 1 [batch 480/4063 (11.81%)] \n",
      "\tJacc: 0.818 Hamm: 0.023 DistLoss: 0.094\n",
      "Epoch: 1 [batch 490/4063 (12.06%)] \n",
      "\tJacc: 0.606 Hamm: 0.028 DistLoss: 0.094\n"
     ]
    },
    {
     "name": "stderr",
     "output_type": "stream",
     "text": [
      "C:\\Users\\Siloux\\.conda\\envs\\species-id\\lib\\site-packages\\sklearn\\metrics\\_classification.py:1318: UndefinedMetricWarning: Jaccard is ill-defined and being set to 0.0 in labels with no true or predicted samples. Use `zero_division` parameter to control this behavior.\n",
      "  _warn_prf(average, modifier, msg_start, len(result))\n"
     ]
    },
    {
     "name": "stdout",
     "output_type": "stream",
     "text": [
      "Epoch: 1 [batch 500/4063 (12.31%)] \n",
      "\tJacc: 0.758 Hamm: 0.017 DistLoss: 0.094\n"
     ]
    },
    {
     "name": "stderr",
     "output_type": "stream",
     "text": [
      "C:\\Users\\Siloux\\.conda\\envs\\species-id\\lib\\site-packages\\sklearn\\metrics\\_classification.py:1318: UndefinedMetricWarning: Jaccard is ill-defined and being set to 0.0 in labels with no true or predicted samples. Use `zero_division` parameter to control this behavior.\n",
      "  _warn_prf(average, modifier, msg_start, len(result))\n"
     ]
    },
    {
     "name": "stdout",
     "output_type": "stream",
     "text": [
      "Epoch: 1 [batch 510/4063 (12.55%)] \n",
      "\tJacc: 0.727 Hamm: 0.023 DistLoss: 0.094\n"
     ]
    },
    {
     "name": "stderr",
     "output_type": "stream",
     "text": [
      "C:\\Users\\Siloux\\.conda\\envs\\species-id\\lib\\site-packages\\sklearn\\metrics\\_classification.py:1318: UndefinedMetricWarning: Jaccard is ill-defined and being set to 0.0 in labels with no true or predicted samples. Use `zero_division` parameter to control this behavior.\n",
      "  _warn_prf(average, modifier, msg_start, len(result))\n"
     ]
    },
    {
     "name": "stdout",
     "output_type": "stream",
     "text": [
      "Epoch: 1 [batch 520/4063 (12.80%)] \n",
      "\tJacc: 0.270 Hamm: 0.074 DistLoss: 0.094\n"
     ]
    },
    {
     "name": "stderr",
     "output_type": "stream",
     "text": [
      "C:\\Users\\Siloux\\.conda\\envs\\species-id\\lib\\site-packages\\sklearn\\metrics\\_classification.py:1318: UndefinedMetricWarning: Jaccard is ill-defined and being set to 0.0 in labels with no true or predicted samples. Use `zero_division` parameter to control this behavior.\n",
      "  _warn_prf(average, modifier, msg_start, len(result))\n"
     ]
    },
    {
     "name": "stdout",
     "output_type": "stream",
     "text": [
      "Epoch: 1 [batch 530/4063 (13.04%)] \n",
      "\tJacc: 0.606 Hamm: 0.034 DistLoss: 0.094\n"
     ]
    },
    {
     "name": "stderr",
     "output_type": "stream",
     "text": [
      "C:\\Users\\Siloux\\.conda\\envs\\species-id\\lib\\site-packages\\sklearn\\metrics\\_classification.py:1318: UndefinedMetricWarning: Jaccard is ill-defined and being set to 0.0 in labels with no true or predicted samples. Use `zero_division` parameter to control this behavior.\n",
      "  _warn_prf(average, modifier, msg_start, len(result))\n"
     ]
    },
    {
     "name": "stdout",
     "output_type": "stream",
     "text": [
      "Epoch: 1 [batch 540/4063 (13.29%)] \n",
      "\tJacc: 0.538 Hamm: 0.057 DistLoss: 0.095\n"
     ]
    },
    {
     "name": "stderr",
     "output_type": "stream",
     "text": [
      "C:\\Users\\Siloux\\.conda\\envs\\species-id\\lib\\site-packages\\sklearn\\metrics\\_classification.py:1318: UndefinedMetricWarning: Jaccard is ill-defined and being set to 0.0 in labels with no true or predicted samples. Use `zero_division` parameter to control this behavior.\n",
      "  _warn_prf(average, modifier, msg_start, len(result))\n"
     ]
    },
    {
     "name": "stdout",
     "output_type": "stream",
     "text": [
      "Epoch: 1 [batch 550/4063 (13.54%)] \n",
      "\tJacc: 0.652 Hamm: 0.017 DistLoss: 0.094\n"
     ]
    },
    {
     "name": "stderr",
     "output_type": "stream",
     "text": [
      "C:\\Users\\Siloux\\.conda\\envs\\species-id\\lib\\site-packages\\sklearn\\metrics\\_classification.py:1318: UndefinedMetricWarning: Jaccard is ill-defined and being set to 0.0 in labels with no true or predicted samples. Use `zero_division` parameter to control this behavior.\n",
      "  _warn_prf(average, modifier, msg_start, len(result))\n"
     ]
    },
    {
     "name": "stdout",
     "output_type": "stream",
     "text": [
      "Epoch: 1 [batch 560/4063 (13.78%)] \n",
      "\tJacc: 0.561 Hamm: 0.034 DistLoss: 0.094\n"
     ]
    },
    {
     "name": "stderr",
     "output_type": "stream",
     "text": [
      "C:\\Users\\Siloux\\.conda\\envs\\species-id\\lib\\site-packages\\sklearn\\metrics\\_classification.py:1318: UndefinedMetricWarning: Jaccard is ill-defined and being set to 0.0 in labels with no true or predicted samples. Use `zero_division` parameter to control this behavior.\n",
      "  _warn_prf(average, modifier, msg_start, len(result))\n"
     ]
    },
    {
     "name": "stdout",
     "output_type": "stream",
     "text": [
      "Epoch: 1 [batch 570/4063 (14.03%)] \n",
      "\tJacc: 0.755 Hamm: 0.028 DistLoss: 0.094\n"
     ]
    },
    {
     "name": "stderr",
     "output_type": "stream",
     "text": [
      "C:\\Users\\Siloux\\.conda\\envs\\species-id\\lib\\site-packages\\sklearn\\metrics\\_classification.py:1318: UndefinedMetricWarning: Jaccard is ill-defined and being set to 0.0 in labels with no true or predicted samples. Use `zero_division` parameter to control this behavior.\n",
      "  _warn_prf(average, modifier, msg_start, len(result))\n"
     ]
    },
    {
     "name": "stdout",
     "output_type": "stream",
     "text": [
      "Epoch: 1 [batch 580/4063 (14.28%)] \n",
      "\tJacc: 0.833 Hamm: 0.023 DistLoss: 0.094\n",
      "Epoch: 1 [batch 590/4063 (14.52%)] \n",
      "\tJacc: 0.682 Hamm: 0.017 DistLoss: 0.094\n"
     ]
    },
    {
     "name": "stderr",
     "output_type": "stream",
     "text": [
      "C:\\Users\\Siloux\\.conda\\envs\\species-id\\lib\\site-packages\\sklearn\\metrics\\_classification.py:1318: UndefinedMetricWarning: Jaccard is ill-defined and being set to 0.0 in labels with no true or predicted samples. Use `zero_division` parameter to control this behavior.\n",
      "  _warn_prf(average, modifier, msg_start, len(result))\n"
     ]
    },
    {
     "name": "stdout",
     "output_type": "stream",
     "text": [
      "Epoch: 1 [batch 600/4063 (14.77%)] \n",
      "\tJacc: 0.591 Hamm: 0.034 DistLoss: 0.094\n"
     ]
    },
    {
     "name": "stderr",
     "output_type": "stream",
     "text": [
      "C:\\Users\\Siloux\\.conda\\envs\\species-id\\lib\\site-packages\\sklearn\\metrics\\_classification.py:1318: UndefinedMetricWarning: Jaccard is ill-defined and being set to 0.0 in labels with no true or predicted samples. Use `zero_division` parameter to control this behavior.\n",
      "  _warn_prf(average, modifier, msg_start, len(result))\n"
     ]
    },
    {
     "name": "stdout",
     "output_type": "stream",
     "text": [
      "Epoch: 1 [batch 610/4063 (15.01%)] \n",
      "\tJacc: 0.697 Hamm: 0.045 DistLoss: 0.093\n",
      "Epoch: 1 [batch 620/4063 (15.26%)] \n",
      "\tJacc: 0.538 Hamm: 0.057 DistLoss: 0.093\n"
     ]
    },
    {
     "name": "stderr",
     "output_type": "stream",
     "text": [
      "C:\\Users\\Siloux\\.conda\\envs\\species-id\\lib\\site-packages\\sklearn\\metrics\\_classification.py:1318: UndefinedMetricWarning: Jaccard is ill-defined and being set to 0.0 in labels with no true or predicted samples. Use `zero_division` parameter to control this behavior.\n",
      "  _warn_prf(average, modifier, msg_start, len(result))\n"
     ]
    },
    {
     "name": "stdout",
     "output_type": "stream",
     "text": [
      "Epoch: 1 [batch 630/4063 (15.51%)] \n",
      "\tJacc: 0.758 Hamm: 0.023 DistLoss: 0.093\n"
     ]
    },
    {
     "name": "stderr",
     "output_type": "stream",
     "text": [
      "C:\\Users\\Siloux\\.conda\\envs\\species-id\\lib\\site-packages\\sklearn\\metrics\\_classification.py:1318: UndefinedMetricWarning: Jaccard is ill-defined and being set to 0.0 in labels with no true or predicted samples. Use `zero_division` parameter to control this behavior.\n",
      "  _warn_prf(average, modifier, msg_start, len(result))\n"
     ]
    },
    {
     "name": "stdout",
     "output_type": "stream",
     "text": [
      "Epoch: 1 [batch 640/4063 (15.75%)] \n",
      "\tJacc: 0.591 Hamm: 0.017 DistLoss: 0.093\n"
     ]
    },
    {
     "name": "stderr",
     "output_type": "stream",
     "text": [
      "C:\\Users\\Siloux\\.conda\\envs\\species-id\\lib\\site-packages\\sklearn\\metrics\\_classification.py:1318: UndefinedMetricWarning: Jaccard is ill-defined and being set to 0.0 in labels with no true or predicted samples. Use `zero_division` parameter to control this behavior.\n",
      "  _warn_prf(average, modifier, msg_start, len(result))\n"
     ]
    },
    {
     "name": "stdout",
     "output_type": "stream",
     "text": [
      "Epoch: 1 [batch 650/4063 (16.00%)] \n",
      "\tJacc: 0.727 Hamm: 0.028 DistLoss: 0.093\n",
      "Epoch: 1 [batch 660/4063 (16.24%)] \n",
      "\tJacc: 0.621 Hamm: 0.017 DistLoss: 0.093\n"
     ]
    },
    {
     "name": "stderr",
     "output_type": "stream",
     "text": [
      "C:\\Users\\Siloux\\.conda\\envs\\species-id\\lib\\site-packages\\sklearn\\metrics\\_classification.py:1318: UndefinedMetricWarning: Jaccard is ill-defined and being set to 0.0 in labels with no true or predicted samples. Use `zero_division` parameter to control this behavior.\n",
      "  _warn_prf(average, modifier, msg_start, len(result))\n"
     ]
    },
    {
     "name": "stdout",
     "output_type": "stream",
     "text": [
      "Epoch: 1 [batch 670/4063 (16.49%)] \n",
      "\tJacc: 0.636 Hamm: 0.045 DistLoss: 0.093\n"
     ]
    },
    {
     "name": "stderr",
     "output_type": "stream",
     "text": [
      "C:\\Users\\Siloux\\.conda\\envs\\species-id\\lib\\site-packages\\sklearn\\metrics\\_classification.py:1318: UndefinedMetricWarning: Jaccard is ill-defined and being set to 0.0 in labels with no true or predicted samples. Use `zero_division` parameter to control this behavior.\n",
      "  _warn_prf(average, modifier, msg_start, len(result))\n"
     ]
    },
    {
     "name": "stdout",
     "output_type": "stream",
     "text": [
      "Epoch: 1 [batch 680/4063 (16.74%)] \n",
      "\tJacc: 0.621 Hamm: 0.023 DistLoss: 0.093\n"
     ]
    },
    {
     "name": "stderr",
     "output_type": "stream",
     "text": [
      "C:\\Users\\Siloux\\.conda\\envs\\species-id\\lib\\site-packages\\sklearn\\metrics\\_classification.py:1318: UndefinedMetricWarning: Jaccard is ill-defined and being set to 0.0 in labels with no true or predicted samples. Use `zero_division` parameter to control this behavior.\n",
      "  _warn_prf(average, modifier, msg_start, len(result))\n"
     ]
    },
    {
     "name": "stdout",
     "output_type": "stream",
     "text": [
      "Epoch: 1 [batch 690/4063 (16.98%)] \n",
      "\tJacc: 0.742 Hamm: 0.017 DistLoss: 0.093\n"
     ]
    },
    {
     "name": "stderr",
     "output_type": "stream",
     "text": [
      "C:\\Users\\Siloux\\.conda\\envs\\species-id\\lib\\site-packages\\sklearn\\metrics\\_classification.py:1318: UndefinedMetricWarning: Jaccard is ill-defined and being set to 0.0 in labels with no true or predicted samples. Use `zero_division` parameter to control this behavior.\n",
      "  _warn_prf(average, modifier, msg_start, len(result))\n"
     ]
    },
    {
     "name": "stdout",
     "output_type": "stream",
     "text": [
      "Epoch: 1 [batch 700/4063 (17.23%)] \n",
      "\tJacc: 0.530 Hamm: 0.040 DistLoss: 0.093\n"
     ]
    },
    {
     "name": "stderr",
     "output_type": "stream",
     "text": [
      "C:\\Users\\Siloux\\.conda\\envs\\species-id\\lib\\site-packages\\sklearn\\metrics\\_classification.py:1318: UndefinedMetricWarning: Jaccard is ill-defined and being set to 0.0 in labels with no true or predicted samples. Use `zero_division` parameter to control this behavior.\n",
      "  _warn_prf(average, modifier, msg_start, len(result))\n"
     ]
    },
    {
     "name": "stdout",
     "output_type": "stream",
     "text": [
      "Epoch: 1 [batch 710/4063 (17.47%)] \n",
      "\tJacc: 0.712 Hamm: 0.017 DistLoss: 0.093\n"
     ]
    },
    {
     "name": "stderr",
     "output_type": "stream",
     "text": [
      "C:\\Users\\Siloux\\.conda\\envs\\species-id\\lib\\site-packages\\sklearn\\metrics\\_classification.py:1318: UndefinedMetricWarning: Jaccard is ill-defined and being set to 0.0 in labels with no true or predicted samples. Use `zero_division` parameter to control this behavior.\n",
      "  _warn_prf(average, modifier, msg_start, len(result))\n"
     ]
    },
    {
     "name": "stdout",
     "output_type": "stream",
     "text": [
      "Epoch: 1 [batch 720/4063 (17.72%)] \n",
      "\tJacc: 0.705 Hamm: 0.034 DistLoss: 0.093\n",
      "Epoch: 1 [batch 730/4063 (17.97%)] \n",
      "\tJacc: 0.621 Hamm: 0.028 DistLoss: 0.093\n"
     ]
    },
    {
     "name": "stderr",
     "output_type": "stream",
     "text": [
      "C:\\Users\\Siloux\\.conda\\envs\\species-id\\lib\\site-packages\\sklearn\\metrics\\_classification.py:1318: UndefinedMetricWarning: Jaccard is ill-defined and being set to 0.0 in labels with no true or predicted samples. Use `zero_division` parameter to control this behavior.\n",
      "  _warn_prf(average, modifier, msg_start, len(result))\n"
     ]
    },
    {
     "name": "stdout",
     "output_type": "stream",
     "text": [
      "Epoch: 1 [batch 740/4063 (18.21%)] \n",
      "\tJacc: 0.636 Hamm: 0.045 DistLoss: 0.093\n"
     ]
    },
    {
     "name": "stderr",
     "output_type": "stream",
     "text": [
      "C:\\Users\\Siloux\\.conda\\envs\\species-id\\lib\\site-packages\\sklearn\\metrics\\_classification.py:1318: UndefinedMetricWarning: Jaccard is ill-defined and being set to 0.0 in labels with no true or predicted samples. Use `zero_division` parameter to control this behavior.\n",
      "  _warn_prf(average, modifier, msg_start, len(result))\n"
     ]
    },
    {
     "name": "stdout",
     "output_type": "stream",
     "text": [
      "Epoch: 1 [batch 750/4063 (18.46%)] \n",
      "\tJacc: 0.621 Hamm: 0.034 DistLoss: 0.092\n"
     ]
    },
    {
     "name": "stderr",
     "output_type": "stream",
     "text": [
      "C:\\Users\\Siloux\\.conda\\envs\\species-id\\lib\\site-packages\\sklearn\\metrics\\_classification.py:1318: UndefinedMetricWarning: Jaccard is ill-defined and being set to 0.0 in labels with no true or predicted samples. Use `zero_division` parameter to control this behavior.\n",
      "  _warn_prf(average, modifier, msg_start, len(result))\n"
     ]
    },
    {
     "name": "stdout",
     "output_type": "stream",
     "text": [
      "Epoch: 1 [batch 760/4063 (18.71%)] \n",
      "\tJacc: 0.614 Hamm: 0.051 DistLoss: 0.092\n"
     ]
    },
    {
     "name": "stderr",
     "output_type": "stream",
     "text": [
      "C:\\Users\\Siloux\\.conda\\envs\\species-id\\lib\\site-packages\\sklearn\\metrics\\_classification.py:1318: UndefinedMetricWarning: Jaccard is ill-defined and being set to 0.0 in labels with no true or predicted samples. Use `zero_division` parameter to control this behavior.\n",
      "  _warn_prf(average, modifier, msg_start, len(result))\n"
     ]
    },
    {
     "name": "stdout",
     "output_type": "stream",
     "text": [
      "Epoch: 1 [batch 770/4063 (18.95%)] \n",
      "\tJacc: 0.524 Hamm: 0.051 DistLoss: 0.092\n"
     ]
    },
    {
     "name": "stderr",
     "output_type": "stream",
     "text": [
      "C:\\Users\\Siloux\\.conda\\envs\\species-id\\lib\\site-packages\\sklearn\\metrics\\_classification.py:1318: UndefinedMetricWarning: Jaccard is ill-defined and being set to 0.0 in labels with no true or predicted samples. Use `zero_division` parameter to control this behavior.\n",
      "  _warn_prf(average, modifier, msg_start, len(result))\n"
     ]
    },
    {
     "name": "stdout",
     "output_type": "stream",
     "text": [
      "Epoch: 1 [batch 780/4063 (19.20%)] \n",
      "\tJacc: 0.606 Hamm: 0.034 DistLoss: 0.092\n"
     ]
    },
    {
     "name": "stderr",
     "output_type": "stream",
     "text": [
      "C:\\Users\\Siloux\\.conda\\envs\\species-id\\lib\\site-packages\\sklearn\\metrics\\_classification.py:1318: UndefinedMetricWarning: Jaccard is ill-defined and being set to 0.0 in labels with no true or predicted samples. Use `zero_division` parameter to control this behavior.\n",
      "  _warn_prf(average, modifier, msg_start, len(result))\n"
     ]
    },
    {
     "name": "stdout",
     "output_type": "stream",
     "text": [
      "Epoch: 1 [batch 790/4063 (19.44%)] \n",
      "\tJacc: 0.712 Hamm: 0.034 DistLoss: 0.092\n",
      "Epoch: 1 [batch 800/4063 (19.69%)] \n",
      "\tJacc: 0.492 Hamm: 0.051 DistLoss: 0.092\n",
      "Epoch: 1 [batch 810/4063 (19.94%)] \n",
      "\tJacc: 0.379 Hamm: 0.074 DistLoss: 0.092\n"
     ]
    },
    {
     "name": "stderr",
     "output_type": "stream",
     "text": [
      "C:\\Users\\Siloux\\.conda\\envs\\species-id\\lib\\site-packages\\sklearn\\metrics\\_classification.py:1318: UndefinedMetricWarning: Jaccard is ill-defined and being set to 0.0 in labels with no true or predicted samples. Use `zero_division` parameter to control this behavior.\n",
      "  _warn_prf(average, modifier, msg_start, len(result))\n"
     ]
    },
    {
     "name": "stdout",
     "output_type": "stream",
     "text": [
      "Epoch: 1 [batch 820/4063 (20.18%)] \n",
      "\tJacc: 0.561 Hamm: 0.040 DistLoss: 0.092\n",
      "Epoch: 1 [batch 830/4063 (20.43%)] \n",
      "\tJacc: 0.591 Hamm: 0.062 DistLoss: 0.092\n",
      "Epoch: 1 [batch 840/4063 (20.67%)] \n",
      "\tJacc: 0.727 Hamm: 0.011 DistLoss: 0.092\n"
     ]
    },
    {
     "name": "stderr",
     "output_type": "stream",
     "text": [
      "C:\\Users\\Siloux\\.conda\\envs\\species-id\\lib\\site-packages\\sklearn\\metrics\\_classification.py:1318: UndefinedMetricWarning: Jaccard is ill-defined and being set to 0.0 in labels with no true or predicted samples. Use `zero_division` parameter to control this behavior.\n",
      "  _warn_prf(average, modifier, msg_start, len(result))\n"
     ]
    },
    {
     "name": "stdout",
     "output_type": "stream",
     "text": [
      "Epoch: 1 [batch 850/4063 (20.92%)] \n",
      "\tJacc: 0.485 Hamm: 0.051 DistLoss: 0.093\n"
     ]
    },
    {
     "name": "stderr",
     "output_type": "stream",
     "text": [
      "C:\\Users\\Siloux\\.conda\\envs\\species-id\\lib\\site-packages\\sklearn\\metrics\\_classification.py:1318: UndefinedMetricWarning: Jaccard is ill-defined and being set to 0.0 in labels with no true or predicted samples. Use `zero_division` parameter to control this behavior.\n",
      "  _warn_prf(average, modifier, msg_start, len(result))\n"
     ]
    },
    {
     "name": "stdout",
     "output_type": "stream",
     "text": [
      "Epoch: 1 [batch 860/4063 (21.17%)] \n",
      "\tJacc: 0.545 Hamm: 0.023 DistLoss: 0.092\n"
     ]
    },
    {
     "name": "stderr",
     "output_type": "stream",
     "text": [
      "C:\\Users\\Siloux\\.conda\\envs\\species-id\\lib\\site-packages\\sklearn\\metrics\\_classification.py:1318: UndefinedMetricWarning: Jaccard is ill-defined and being set to 0.0 in labels with no true or predicted samples. Use `zero_division` parameter to control this behavior.\n",
      "  _warn_prf(average, modifier, msg_start, len(result))\n"
     ]
    },
    {
     "name": "stdout",
     "output_type": "stream",
     "text": [
      "Epoch: 1 [batch 870/4063 (21.41%)] \n",
      "\tJacc: 0.530 Hamm: 0.045 DistLoss: 0.092\n"
     ]
    },
    {
     "name": "stderr",
     "output_type": "stream",
     "text": [
      "C:\\Users\\Siloux\\.conda\\envs\\species-id\\lib\\site-packages\\sklearn\\metrics\\_classification.py:1318: UndefinedMetricWarning: Jaccard is ill-defined and being set to 0.0 in labels with no true or predicted samples. Use `zero_division` parameter to control this behavior.\n",
      "  _warn_prf(average, modifier, msg_start, len(result))\n"
     ]
    },
    {
     "name": "stdout",
     "output_type": "stream",
     "text": [
      "Epoch: 1 [batch 880/4063 (21.66%)] \n",
      "\tJacc: 0.477 Hamm: 0.062 DistLoss: 0.092\n",
      "Epoch: 1 [batch 890/4063 (21.90%)] \n",
      "\tJacc: 0.485 Hamm: 0.051 DistLoss: 0.092\n"
     ]
    },
    {
     "name": "stderr",
     "output_type": "stream",
     "text": [
      "C:\\Users\\Siloux\\.conda\\envs\\species-id\\lib\\site-packages\\sklearn\\metrics\\_classification.py:1318: UndefinedMetricWarning: Jaccard is ill-defined and being set to 0.0 in labels with no true or predicted samples. Use `zero_division` parameter to control this behavior.\n",
      "  _warn_prf(average, modifier, msg_start, len(result))\n"
     ]
    },
    {
     "name": "stdout",
     "output_type": "stream",
     "text": [
      "Epoch: 1 [batch 900/4063 (22.15%)] \n",
      "\tJacc: 0.688 Hamm: 0.045 DistLoss: 0.092\n",
      "Epoch: 1 [batch 910/4063 (22.40%)] \n",
      "\tJacc: 0.594 Hamm: 0.062 DistLoss: 0.092\n",
      "Epoch: 1 [batch 920/4063 (22.64%)] \n",
      "\tJacc: 0.727 Hamm: 0.017 DistLoss: 0.092\n"
     ]
    },
    {
     "name": "stderr",
     "output_type": "stream",
     "text": [
      "C:\\Users\\Siloux\\.conda\\envs\\species-id\\lib\\site-packages\\sklearn\\metrics\\_classification.py:1318: UndefinedMetricWarning: Jaccard is ill-defined and being set to 0.0 in labels with no true or predicted samples. Use `zero_division` parameter to control this behavior.\n",
      "  _warn_prf(average, modifier, msg_start, len(result))\n"
     ]
    },
    {
     "name": "stdout",
     "output_type": "stream",
     "text": [
      "Epoch: 1 [batch 930/4063 (22.89%)] \n",
      "\tJacc: 0.621 Hamm: 0.034 DistLoss: 0.092\n"
     ]
    },
    {
     "name": "stderr",
     "output_type": "stream",
     "text": [
      "C:\\Users\\Siloux\\.conda\\envs\\species-id\\lib\\site-packages\\sklearn\\metrics\\_classification.py:1318: UndefinedMetricWarning: Jaccard is ill-defined and being set to 0.0 in labels with no true or predicted samples. Use `zero_division` parameter to control this behavior.\n",
      "  _warn_prf(average, modifier, msg_start, len(result))\n"
     ]
    },
    {
     "name": "stdout",
     "output_type": "stream",
     "text": [
      "Epoch: 1 [batch 940/4063 (23.14%)] \n",
      "\tJacc: 0.742 Hamm: 0.028 DistLoss: 0.092\n"
     ]
    },
    {
     "name": "stderr",
     "output_type": "stream",
     "text": [
      "C:\\Users\\Siloux\\.conda\\envs\\species-id\\lib\\site-packages\\sklearn\\metrics\\_classification.py:1318: UndefinedMetricWarning: Jaccard is ill-defined and being set to 0.0 in labels with no true or predicted samples. Use `zero_division` parameter to control this behavior.\n",
      "  _warn_prf(average, modifier, msg_start, len(result))\n"
     ]
    },
    {
     "name": "stdout",
     "output_type": "stream",
     "text": [
      "Epoch: 1 [batch 950/4063 (23.38%)] \n",
      "\tJacc: 0.695 Hamm: 0.051 DistLoss: 0.092\n",
      "Epoch: 1 [batch 960/4063 (23.63%)] \n",
      "\tJacc: 0.658 Hamm: 0.045 DistLoss: 0.092\n"
     ]
    },
    {
     "name": "stderr",
     "output_type": "stream",
     "text": [
      "C:\\Users\\Siloux\\.conda\\envs\\species-id\\lib\\site-packages\\sklearn\\metrics\\_classification.py:1318: UndefinedMetricWarning: Jaccard is ill-defined and being set to 0.0 in labels with no true or predicted samples. Use `zero_division` parameter to control this behavior.\n",
      "  _warn_prf(average, modifier, msg_start, len(result))\n"
     ]
    },
    {
     "name": "stdout",
     "output_type": "stream",
     "text": [
      "Epoch: 1 [batch 970/4063 (23.87%)] \n",
      "\tJacc: 0.712 Hamm: 0.023 DistLoss: 0.092\n"
     ]
    },
    {
     "name": "stderr",
     "output_type": "stream",
     "text": [
      "C:\\Users\\Siloux\\.conda\\envs\\species-id\\lib\\site-packages\\sklearn\\metrics\\_classification.py:1318: UndefinedMetricWarning: Jaccard is ill-defined and being set to 0.0 in labels with no true or predicted samples. Use `zero_division` parameter to control this behavior.\n",
      "  _warn_prf(average, modifier, msg_start, len(result))\n"
     ]
    },
    {
     "name": "stdout",
     "output_type": "stream",
     "text": [
      "Epoch: 1 [batch 980/4063 (24.12%)] \n",
      "\tJacc: 0.523 Hamm: 0.051 DistLoss: 0.091\n"
     ]
    },
    {
     "name": "stderr",
     "output_type": "stream",
     "text": [
      "C:\\Users\\Siloux\\.conda\\envs\\species-id\\lib\\site-packages\\sklearn\\metrics\\_classification.py:1318: UndefinedMetricWarning: Jaccard is ill-defined and being set to 0.0 in labels with no true or predicted samples. Use `zero_division` parameter to control this behavior.\n",
      "  _warn_prf(average, modifier, msg_start, len(result))\n"
     ]
    },
    {
     "name": "stdout",
     "output_type": "stream",
     "text": [
      "Epoch: 1 [batch 990/4063 (24.37%)] \n",
      "\tJacc: 0.652 Hamm: 0.034 DistLoss: 0.091\n"
     ]
    },
    {
     "name": "stderr",
     "output_type": "stream",
     "text": [
      "C:\\Users\\Siloux\\.conda\\envs\\species-id\\lib\\site-packages\\sklearn\\metrics\\_classification.py:1318: UndefinedMetricWarning: Jaccard is ill-defined and being set to 0.0 in labels with no true or predicted samples. Use `zero_division` parameter to control this behavior.\n",
      "  _warn_prf(average, modifier, msg_start, len(result))\n"
     ]
    },
    {
     "name": "stdout",
     "output_type": "stream",
     "text": [
      "Epoch: 1 [batch 1000/4063 (24.61%)] \n",
      "\tJacc: 0.576 Hamm: 0.045 DistLoss: 0.091\n"
     ]
    },
    {
     "name": "stderr",
     "output_type": "stream",
     "text": [
      "C:\\Users\\Siloux\\.conda\\envs\\species-id\\lib\\site-packages\\sklearn\\metrics\\_classification.py:1318: UndefinedMetricWarning: Jaccard is ill-defined and being set to 0.0 in labels with no true or predicted samples. Use `zero_division` parameter to control this behavior.\n",
      "  _warn_prf(average, modifier, msg_start, len(result))\n"
     ]
    },
    {
     "name": "stdout",
     "output_type": "stream",
     "text": [
      "Epoch: 1 [batch 1010/4063 (24.86%)] \n",
      "\tJacc: 0.742 Hamm: 0.023 DistLoss: 0.091\n",
      "Epoch: 1 [batch 1020/4063 (25.10%)] \n",
      "\tJacc: 0.629 Hamm: 0.028 DistLoss: 0.091\n"
     ]
    },
    {
     "name": "stderr",
     "output_type": "stream",
     "text": [
      "C:\\Users\\Siloux\\.conda\\envs\\species-id\\lib\\site-packages\\sklearn\\metrics\\_classification.py:1318: UndefinedMetricWarning: Jaccard is ill-defined and being set to 0.0 in labels with no true or predicted samples. Use `zero_division` parameter to control this behavior.\n",
      "  _warn_prf(average, modifier, msg_start, len(result))\n"
     ]
    },
    {
     "name": "stdout",
     "output_type": "stream",
     "text": [
      "Epoch: 1 [batch 1030/4063 (25.35%)] \n",
      "\tJacc: 0.773 Hamm: 0.023 DistLoss: 0.091\n",
      "Epoch: 1 [batch 1040/4063 (25.60%)] \n",
      "\tJacc: 0.538 Hamm: 0.040 DistLoss: 0.091\n"
     ]
    },
    {
     "name": "stderr",
     "output_type": "stream",
     "text": [
      "C:\\Users\\Siloux\\.conda\\envs\\species-id\\lib\\site-packages\\sklearn\\metrics\\_classification.py:1318: UndefinedMetricWarning: Jaccard is ill-defined and being set to 0.0 in labels with no true or predicted samples. Use `zero_division` parameter to control this behavior.\n",
      "  _warn_prf(average, modifier, msg_start, len(result))\n"
     ]
    },
    {
     "name": "stdout",
     "output_type": "stream",
     "text": [
      "Epoch: 1 [batch 1050/4063 (25.84%)] \n",
      "\tJacc: 0.485 Hamm: 0.045 DistLoss: 0.091\n"
     ]
    },
    {
     "name": "stderr",
     "output_type": "stream",
     "text": [
      "C:\\Users\\Siloux\\.conda\\envs\\species-id\\lib\\site-packages\\sklearn\\metrics\\_classification.py:1318: UndefinedMetricWarning: Jaccard is ill-defined and being set to 0.0 in labels with no true or predicted samples. Use `zero_division` parameter to control this behavior.\n",
      "  _warn_prf(average, modifier, msg_start, len(result))\n"
     ]
    },
    {
     "name": "stdout",
     "output_type": "stream",
     "text": [
      "Epoch: 1 [batch 1060/4063 (26.09%)] \n",
      "\tJacc: 0.682 Hamm: 0.011 DistLoss: 0.091\n"
     ]
    },
    {
     "name": "stderr",
     "output_type": "stream",
     "text": [
      "C:\\Users\\Siloux\\.conda\\envs\\species-id\\lib\\site-packages\\sklearn\\metrics\\_classification.py:1318: UndefinedMetricWarning: Jaccard is ill-defined and being set to 0.0 in labels with no true or predicted samples. Use `zero_division` parameter to control this behavior.\n",
      "  _warn_prf(average, modifier, msg_start, len(result))\n"
     ]
    },
    {
     "name": "stdout",
     "output_type": "stream",
     "text": [
      "Epoch: 1 [batch 1070/4063 (26.34%)] \n",
      "\tJacc: 0.682 Hamm: 0.040 DistLoss: 0.091\n",
      "Epoch: 1 [batch 1080/4063 (26.58%)] \n",
      "\tJacc: 0.621 Hamm: 0.034 DistLoss: 0.091\n"
     ]
    },
    {
     "name": "stderr",
     "output_type": "stream",
     "text": [
      "C:\\Users\\Siloux\\.conda\\envs\\species-id\\lib\\site-packages\\sklearn\\metrics\\_classification.py:1318: UndefinedMetricWarning: Jaccard is ill-defined and being set to 0.0 in labels with no true or predicted samples. Use `zero_division` parameter to control this behavior.\n",
      "  _warn_prf(average, modifier, msg_start, len(result))\n"
     ]
    },
    {
     "name": "stdout",
     "output_type": "stream",
     "text": [
      "Epoch: 1 [batch 1090/4063 (26.83%)] \n",
      "\tJacc: 0.667 Hamm: 0.017 DistLoss: 0.091\n"
     ]
    },
    {
     "name": "stderr",
     "output_type": "stream",
     "text": [
      "C:\\Users\\Siloux\\.conda\\envs\\species-id\\lib\\site-packages\\sklearn\\metrics\\_classification.py:1318: UndefinedMetricWarning: Jaccard is ill-defined and being set to 0.0 in labels with no true or predicted samples. Use `zero_division` parameter to control this behavior.\n",
      "  _warn_prf(average, modifier, msg_start, len(result))\n"
     ]
    },
    {
     "name": "stdout",
     "output_type": "stream",
     "text": [
      "Epoch: 1 [batch 1100/4063 (27.07%)] \n",
      "\tJacc: 0.561 Hamm: 0.028 DistLoss: 0.091\n"
     ]
    },
    {
     "name": "stderr",
     "output_type": "stream",
     "text": [
      "C:\\Users\\Siloux\\.conda\\envs\\species-id\\lib\\site-packages\\sklearn\\metrics\\_classification.py:1318: UndefinedMetricWarning: Jaccard is ill-defined and being set to 0.0 in labels with no true or predicted samples. Use `zero_division` parameter to control this behavior.\n",
      "  _warn_prf(average, modifier, msg_start, len(result))\n"
     ]
    },
    {
     "name": "stdout",
     "output_type": "stream",
     "text": [
      "Epoch: 1 [batch 1110/4063 (27.32%)] \n",
      "\tJacc: 0.674 Hamm: 0.017 DistLoss: 0.091\n"
     ]
    },
    {
     "name": "stderr",
     "output_type": "stream",
     "text": [
      "C:\\Users\\Siloux\\.conda\\envs\\species-id\\lib\\site-packages\\sklearn\\metrics\\_classification.py:1318: UndefinedMetricWarning: Jaccard is ill-defined and being set to 0.0 in labels with no true or predicted samples. Use `zero_division` parameter to control this behavior.\n",
      "  _warn_prf(average, modifier, msg_start, len(result))\n"
     ]
    },
    {
     "name": "stdout",
     "output_type": "stream",
     "text": [
      "Epoch: 1 [batch 1120/4063 (27.57%)] \n",
      "\tJacc: 0.276 Hamm: 0.097 DistLoss: 0.091\n",
      "Epoch: 1 [batch 1130/4063 (27.81%)] \n",
      "\tJacc: 0.645 Hamm: 0.017 DistLoss: 0.091\n"
     ]
    },
    {
     "name": "stderr",
     "output_type": "stream",
     "text": [
      "C:\\Users\\Siloux\\.conda\\envs\\species-id\\lib\\site-packages\\sklearn\\metrics\\_classification.py:1318: UndefinedMetricWarning: Jaccard is ill-defined and being set to 0.0 in labels with no true or predicted samples. Use `zero_division` parameter to control this behavior.\n",
      "  _warn_prf(average, modifier, msg_start, len(result))\n"
     ]
    },
    {
     "name": "stdout",
     "output_type": "stream",
     "text": [
      "Epoch: 1 [batch 1140/4063 (28.06%)] \n",
      "\tJacc: 0.545 Hamm: 0.045 DistLoss: 0.091\n",
      "Epoch: 1 [batch 1150/4063 (28.30%)] \n",
      "\tJacc: 0.576 Hamm: 0.045 DistLoss: 0.091\n"
     ]
    },
    {
     "name": "stderr",
     "output_type": "stream",
     "text": [
      "C:\\Users\\Siloux\\.conda\\envs\\species-id\\lib\\site-packages\\sklearn\\metrics\\_classification.py:1318: UndefinedMetricWarning: Jaccard is ill-defined and being set to 0.0 in labels with no true or predicted samples. Use `zero_division` parameter to control this behavior.\n",
      "  _warn_prf(average, modifier, msg_start, len(result))\n"
     ]
    },
    {
     "name": "stdout",
     "output_type": "stream",
     "text": [
      "Epoch: 1 [batch 1160/4063 (28.55%)] \n",
      "\tJacc: 0.530 Hamm: 0.051 DistLoss: 0.091\n",
      "Epoch: 1 [batch 1170/4063 (28.80%)] \n",
      "\tJacc: 0.727 Hamm: 0.006 DistLoss: 0.091\n"
     ]
    },
    {
     "name": "stderr",
     "output_type": "stream",
     "text": [
      "C:\\Users\\Siloux\\.conda\\envs\\species-id\\lib\\site-packages\\sklearn\\metrics\\_classification.py:1318: UndefinedMetricWarning: Jaccard is ill-defined and being set to 0.0 in labels with no true or predicted samples. Use `zero_division` parameter to control this behavior.\n",
      "  _warn_prf(average, modifier, msg_start, len(result))\n"
     ]
    },
    {
     "name": "stdout",
     "output_type": "stream",
     "text": [
      "Epoch: 1 [batch 1180/4063 (29.04%)] \n",
      "\tJacc: 0.561 Hamm: 0.040 DistLoss: 0.091\n"
     ]
    },
    {
     "name": "stderr",
     "output_type": "stream",
     "text": [
      "C:\\Users\\Siloux\\.conda\\envs\\species-id\\lib\\site-packages\\sklearn\\metrics\\_classification.py:1318: UndefinedMetricWarning: Jaccard is ill-defined and being set to 0.0 in labels with no true or predicted samples. Use `zero_division` parameter to control this behavior.\n",
      "  _warn_prf(average, modifier, msg_start, len(result))\n"
     ]
    },
    {
     "name": "stdout",
     "output_type": "stream",
     "text": [
      "Epoch: 1 [batch 1190/4063 (29.29%)] \n",
      "\tJacc: 0.636 Hamm: 0.028 DistLoss: 0.091\n"
     ]
    },
    {
     "name": "stderr",
     "output_type": "stream",
     "text": [
      "C:\\Users\\Siloux\\.conda\\envs\\species-id\\lib\\site-packages\\sklearn\\metrics\\_classification.py:1318: UndefinedMetricWarning: Jaccard is ill-defined and being set to 0.0 in labels with no true or predicted samples. Use `zero_division` parameter to control this behavior.\n",
      "  _warn_prf(average, modifier, msg_start, len(result))\n"
     ]
    },
    {
     "name": "stdout",
     "output_type": "stream",
     "text": [
      "Epoch: 1 [batch 1200/4063 (29.53%)] \n",
      "\tJacc: 0.553 Hamm: 0.034 DistLoss: 0.091\n"
     ]
    },
    {
     "name": "stderr",
     "output_type": "stream",
     "text": [
      "C:\\Users\\Siloux\\.conda\\envs\\species-id\\lib\\site-packages\\sklearn\\metrics\\_classification.py:1318: UndefinedMetricWarning: Jaccard is ill-defined and being set to 0.0 in labels with no true or predicted samples. Use `zero_division` parameter to control this behavior.\n",
      "  _warn_prf(average, modifier, msg_start, len(result))\n"
     ]
    },
    {
     "name": "stdout",
     "output_type": "stream",
     "text": [
      "Epoch: 1 [batch 1210/4063 (29.78%)] \n",
      "\tJacc: 0.636 Hamm: 0.017 DistLoss: 0.091\n"
     ]
    },
    {
     "name": "stderr",
     "output_type": "stream",
     "text": [
      "C:\\Users\\Siloux\\.conda\\envs\\species-id\\lib\\site-packages\\sklearn\\metrics\\_classification.py:1318: UndefinedMetricWarning: Jaccard is ill-defined and being set to 0.0 in labels with no true or predicted samples. Use `zero_division` parameter to control this behavior.\n",
      "  _warn_prf(average, modifier, msg_start, len(result))\n"
     ]
    },
    {
     "name": "stdout",
     "output_type": "stream",
     "text": [
      "Epoch: 1 [batch 1220/4063 (30.03%)] \n",
      "\tJacc: 0.773 Hamm: 0.011 DistLoss: 0.091\n"
     ]
    },
    {
     "name": "stderr",
     "output_type": "stream",
     "text": [
      "C:\\Users\\Siloux\\.conda\\envs\\species-id\\lib\\site-packages\\sklearn\\metrics\\_classification.py:1318: UndefinedMetricWarning: Jaccard is ill-defined and being set to 0.0 in labels with no true or predicted samples. Use `zero_division` parameter to control this behavior.\n",
      "  _warn_prf(average, modifier, msg_start, len(result))\n"
     ]
    },
    {
     "name": "stdout",
     "output_type": "stream",
     "text": [
      "Epoch: 1 [batch 1230/4063 (30.27%)] \n",
      "\tJacc: 0.486 Hamm: 0.040 DistLoss: 0.091\n"
     ]
    },
    {
     "name": "stderr",
     "output_type": "stream",
     "text": [
      "C:\\Users\\Siloux\\.conda\\envs\\species-id\\lib\\site-packages\\sklearn\\metrics\\_classification.py:1318: UndefinedMetricWarning: Jaccard is ill-defined and being set to 0.0 in labels with no true or predicted samples. Use `zero_division` parameter to control this behavior.\n",
      "  _warn_prf(average, modifier, msg_start, len(result))\n"
     ]
    },
    {
     "name": "stdout",
     "output_type": "stream",
     "text": [
      "Epoch: 1 [batch 1240/4063 (30.52%)] \n",
      "\tJacc: 0.530 Hamm: 0.040 DistLoss: 0.091\n"
     ]
    },
    {
     "name": "stderr",
     "output_type": "stream",
     "text": [
      "C:\\Users\\Siloux\\.conda\\envs\\species-id\\lib\\site-packages\\sklearn\\metrics\\_classification.py:1318: UndefinedMetricWarning: Jaccard is ill-defined and being set to 0.0 in labels with no true or predicted samples. Use `zero_division` parameter to control this behavior.\n",
      "  _warn_prf(average, modifier, msg_start, len(result))\n"
     ]
    },
    {
     "name": "stdout",
     "output_type": "stream",
     "text": [
      "Epoch: 1 [batch 1250/4063 (30.77%)] \n",
      "\tJacc: 0.652 Hamm: 0.028 DistLoss: 0.091\n"
     ]
    },
    {
     "name": "stderr",
     "output_type": "stream",
     "text": [
      "C:\\Users\\Siloux\\.conda\\envs\\species-id\\lib\\site-packages\\sklearn\\metrics\\_classification.py:1318: UndefinedMetricWarning: Jaccard is ill-defined and being set to 0.0 in labels with no true or predicted samples. Use `zero_division` parameter to control this behavior.\n",
      "  _warn_prf(average, modifier, msg_start, len(result))\n"
     ]
    },
    {
     "name": "stdout",
     "output_type": "stream",
     "text": [
      "Epoch: 1 [batch 1260/4063 (31.01%)] \n",
      "\tJacc: 0.598 Hamm: 0.057 DistLoss: 0.091\n",
      "Epoch: 1 [batch 1270/4063 (31.26%)] \n",
      "\tJacc: 0.679 Hamm: 0.040 DistLoss: 0.091\n"
     ]
    },
    {
     "name": "stderr",
     "output_type": "stream",
     "text": [
      "C:\\Users\\Siloux\\.conda\\envs\\species-id\\lib\\site-packages\\sklearn\\metrics\\_classification.py:1318: UndefinedMetricWarning: Jaccard is ill-defined and being set to 0.0 in labels with no true or predicted samples. Use `zero_division` parameter to control this behavior.\n",
      "  _warn_prf(average, modifier, msg_start, len(result))\n"
     ]
    },
    {
     "name": "stdout",
     "output_type": "stream",
     "text": [
      "Epoch: 1 [batch 1280/4063 (31.50%)] \n",
      "\tJacc: 0.682 Hamm: 0.011 DistLoss: 0.091\n"
     ]
    },
    {
     "name": "stderr",
     "output_type": "stream",
     "text": [
      "C:\\Users\\Siloux\\.conda\\envs\\species-id\\lib\\site-packages\\sklearn\\metrics\\_classification.py:1318: UndefinedMetricWarning: Jaccard is ill-defined and being set to 0.0 in labels with no true or predicted samples. Use `zero_division` parameter to control this behavior.\n",
      "  _warn_prf(average, modifier, msg_start, len(result))\n"
     ]
    },
    {
     "name": "stdout",
     "output_type": "stream",
     "text": [
      "Epoch: 1 [batch 1290/4063 (31.75%)] \n",
      "\tJacc: 0.485 Hamm: 0.034 DistLoss: 0.090\n"
     ]
    },
    {
     "name": "stderr",
     "output_type": "stream",
     "text": [
      "C:\\Users\\Siloux\\.conda\\envs\\species-id\\lib\\site-packages\\sklearn\\metrics\\_classification.py:1318: UndefinedMetricWarning: Jaccard is ill-defined and being set to 0.0 in labels with no true or predicted samples. Use `zero_division` parameter to control this behavior.\n",
      "  _warn_prf(average, modifier, msg_start, len(result))\n"
     ]
    },
    {
     "name": "stdout",
     "output_type": "stream",
     "text": [
      "Epoch: 1 [batch 1300/4063 (32.00%)] \n",
      "\tJacc: 0.848 Hamm: 0.017 DistLoss: 0.090\n",
      "Epoch: 1 [batch 1310/4063 (32.24%)] \n",
      "\tJacc: 0.648 Hamm: 0.028 DistLoss: 0.090\n"
     ]
    },
    {
     "name": "stderr",
     "output_type": "stream",
     "text": [
      "C:\\Users\\Siloux\\.conda\\envs\\species-id\\lib\\site-packages\\sklearn\\metrics\\_classification.py:1318: UndefinedMetricWarning: Jaccard is ill-defined and being set to 0.0 in labels with no true or predicted samples. Use `zero_division` parameter to control this behavior.\n",
      "  _warn_prf(average, modifier, msg_start, len(result))\n"
     ]
    },
    {
     "name": "stdout",
     "output_type": "stream",
     "text": [
      "Epoch: 1 [batch 1320/4063 (32.49%)] \n",
      "\tJacc: 0.538 Hamm: 0.034 DistLoss: 0.090\n"
     ]
    },
    {
     "name": "stderr",
     "output_type": "stream",
     "text": [
      "C:\\Users\\Siloux\\.conda\\envs\\species-id\\lib\\site-packages\\sklearn\\metrics\\_classification.py:1318: UndefinedMetricWarning: Jaccard is ill-defined and being set to 0.0 in labels with no true or predicted samples. Use `zero_division` parameter to control this behavior.\n",
      "  _warn_prf(average, modifier, msg_start, len(result))\n"
     ]
    },
    {
     "name": "stdout",
     "output_type": "stream",
     "text": [
      "Epoch: 1 [batch 1330/4063 (32.73%)] \n",
      "\tJacc: 0.833 Hamm: 0.023 DistLoss: 0.090\n",
      "Epoch: 1 [batch 1340/4063 (32.98%)] \n",
      "\tJacc: 0.818 Hamm: 0.006 DistLoss: 0.090\n"
     ]
    },
    {
     "name": "stderr",
     "output_type": "stream",
     "text": [
      "C:\\Users\\Siloux\\.conda\\envs\\species-id\\lib\\site-packages\\sklearn\\metrics\\_classification.py:1318: UndefinedMetricWarning: Jaccard is ill-defined and being set to 0.0 in labels with no true or predicted samples. Use `zero_division` parameter to control this behavior.\n",
      "  _warn_prf(average, modifier, msg_start, len(result))\n"
     ]
    },
    {
     "name": "stdout",
     "output_type": "stream",
     "text": [
      "Epoch: 1 [batch 1350/4063 (33.23%)] \n",
      "\tJacc: 0.545 Hamm: 0.045 DistLoss: 0.090\n"
     ]
    },
    {
     "name": "stderr",
     "output_type": "stream",
     "text": [
      "C:\\Users\\Siloux\\.conda\\envs\\species-id\\lib\\site-packages\\sklearn\\metrics\\_classification.py:1318: UndefinedMetricWarning: Jaccard is ill-defined and being set to 0.0 in labels with no true or predicted samples. Use `zero_division` parameter to control this behavior.\n",
      "  _warn_prf(average, modifier, msg_start, len(result))\n"
     ]
    },
    {
     "name": "stdout",
     "output_type": "stream",
     "text": [
      "Epoch: 1 [batch 1360/4063 (33.47%)] \n",
      "\tJacc: 0.455 Hamm: 0.034 DistLoss: 0.090\n"
     ]
    },
    {
     "name": "stderr",
     "output_type": "stream",
     "text": [
      "C:\\Users\\Siloux\\.conda\\envs\\species-id\\lib\\site-packages\\sklearn\\metrics\\_classification.py:1318: UndefinedMetricWarning: Jaccard is ill-defined and being set to 0.0 in labels with no true or predicted samples. Use `zero_division` parameter to control this behavior.\n",
      "  _warn_prf(average, modifier, msg_start, len(result))\n"
     ]
    },
    {
     "name": "stdout",
     "output_type": "stream",
     "text": [
      "Epoch: 1 [batch 1370/4063 (33.72%)] \n",
      "\tJacc: 0.621 Hamm: 0.028 DistLoss: 0.090\n"
     ]
    },
    {
     "name": "stderr",
     "output_type": "stream",
     "text": [
      "C:\\Users\\Siloux\\.conda\\envs\\species-id\\lib\\site-packages\\sklearn\\metrics\\_classification.py:1318: UndefinedMetricWarning: Jaccard is ill-defined and being set to 0.0 in labels with no true or predicted samples. Use `zero_division` parameter to control this behavior.\n",
      "  _warn_prf(average, modifier, msg_start, len(result))\n"
     ]
    },
    {
     "name": "stdout",
     "output_type": "stream",
     "text": [
      "Epoch: 1 [batch 1380/4063 (33.97%)] \n",
      "\tJacc: 0.682 Hamm: 0.034 DistLoss: 0.090\n"
     ]
    },
    {
     "name": "stderr",
     "output_type": "stream",
     "text": [
      "C:\\Users\\Siloux\\.conda\\envs\\species-id\\lib\\site-packages\\sklearn\\metrics\\_classification.py:1318: UndefinedMetricWarning: Jaccard is ill-defined and being set to 0.0 in labels with no true or predicted samples. Use `zero_division` parameter to control this behavior.\n",
      "  _warn_prf(average, modifier, msg_start, len(result))\n"
     ]
    },
    {
     "name": "stdout",
     "output_type": "stream",
     "text": [
      "Epoch: 1 [batch 1390/4063 (34.21%)] \n",
      "\tJacc: 0.644 Hamm: 0.040 DistLoss: 0.090\n",
      "Epoch: 1 [batch 1400/4063 (34.46%)] \n",
      "\tJacc: 0.591 Hamm: 0.034 DistLoss: 0.090\n"
     ]
    },
    {
     "name": "stderr",
     "output_type": "stream",
     "text": [
      "C:\\Users\\Siloux\\.conda\\envs\\species-id\\lib\\site-packages\\sklearn\\metrics\\_classification.py:1318: UndefinedMetricWarning: Jaccard is ill-defined and being set to 0.0 in labels with no true or predicted samples. Use `zero_division` parameter to control this behavior.\n",
      "  _warn_prf(average, modifier, msg_start, len(result))\n"
     ]
    },
    {
     "name": "stdout",
     "output_type": "stream",
     "text": [
      "Epoch: 1 [batch 1410/4063 (34.70%)] \n",
      "\tJacc: 0.386 Hamm: 0.062 DistLoss: 0.090\n"
     ]
    },
    {
     "name": "stderr",
     "output_type": "stream",
     "text": [
      "C:\\Users\\Siloux\\.conda\\envs\\species-id\\lib\\site-packages\\sklearn\\metrics\\_classification.py:1318: UndefinedMetricWarning: Jaccard is ill-defined and being set to 0.0 in labels with no true or predicted samples. Use `zero_division` parameter to control this behavior.\n",
      "  _warn_prf(average, modifier, msg_start, len(result))\n"
     ]
    },
    {
     "name": "stdout",
     "output_type": "stream",
     "text": [
      "Epoch: 1 [batch 1420/4063 (34.95%)] \n",
      "\tJacc: 0.614 Hamm: 0.045 DistLoss: 0.090\n"
     ]
    },
    {
     "name": "stderr",
     "output_type": "stream",
     "text": [
      "C:\\Users\\Siloux\\.conda\\envs\\species-id\\lib\\site-packages\\sklearn\\metrics\\_classification.py:1318: UndefinedMetricWarning: Jaccard is ill-defined and being set to 0.0 in labels with no true or predicted samples. Use `zero_division` parameter to control this behavior.\n",
      "  _warn_prf(average, modifier, msg_start, len(result))\n"
     ]
    },
    {
     "name": "stdout",
     "output_type": "stream",
     "text": [
      "Epoch: 1 [batch 1430/4063 (35.20%)] \n",
      "\tJacc: 0.636 Hamm: 0.000 DistLoss: 0.090\n"
     ]
    },
    {
     "name": "stderr",
     "output_type": "stream",
     "text": [
      "C:\\Users\\Siloux\\.conda\\envs\\species-id\\lib\\site-packages\\sklearn\\metrics\\_classification.py:1318: UndefinedMetricWarning: Jaccard is ill-defined and being set to 0.0 in labels with no true or predicted samples. Use `zero_division` parameter to control this behavior.\n",
      "  _warn_prf(average, modifier, msg_start, len(result))\n"
     ]
    },
    {
     "name": "stdout",
     "output_type": "stream",
     "text": [
      "Epoch: 1 [batch 1440/4063 (35.44%)] \n",
      "\tJacc: 0.527 Hamm: 0.028 DistLoss: 0.090\n"
     ]
    },
    {
     "name": "stderr",
     "output_type": "stream",
     "text": [
      "C:\\Users\\Siloux\\.conda\\envs\\species-id\\lib\\site-packages\\sklearn\\metrics\\_classification.py:1318: UndefinedMetricWarning: Jaccard is ill-defined and being set to 0.0 in labels with no true or predicted samples. Use `zero_division` parameter to control this behavior.\n",
      "  _warn_prf(average, modifier, msg_start, len(result))\n"
     ]
    },
    {
     "name": "stdout",
     "output_type": "stream",
     "text": [
      "Epoch: 1 [batch 1450/4063 (35.69%)] \n",
      "\tJacc: 0.487 Hamm: 0.023 DistLoss: 0.090\n"
     ]
    },
    {
     "name": "stderr",
     "output_type": "stream",
     "text": [
      "C:\\Users\\Siloux\\.conda\\envs\\species-id\\lib\\site-packages\\sklearn\\metrics\\_classification.py:1318: UndefinedMetricWarning: Jaccard is ill-defined and being set to 0.0 in labels with no true or predicted samples. Use `zero_division` parameter to control this behavior.\n",
      "  _warn_prf(average, modifier, msg_start, len(result))\n"
     ]
    },
    {
     "name": "stdout",
     "output_type": "stream",
     "text": [
      "Epoch: 1 [batch 1460/4063 (35.93%)] \n",
      "\tJacc: 0.727 Hamm: 0.023 DistLoss: 0.090\n",
      "Epoch: 1 [batch 1470/4063 (36.18%)] \n",
      "\tJacc: 0.515 Hamm: 0.057 DistLoss: 0.090\n"
     ]
    },
    {
     "name": "stderr",
     "output_type": "stream",
     "text": [
      "C:\\Users\\Siloux\\.conda\\envs\\species-id\\lib\\site-packages\\sklearn\\metrics\\_classification.py:1318: UndefinedMetricWarning: Jaccard is ill-defined and being set to 0.0 in labels with no true or predicted samples. Use `zero_division` parameter to control this behavior.\n",
      "  _warn_prf(average, modifier, msg_start, len(result))\n"
     ]
    },
    {
     "name": "stdout",
     "output_type": "stream",
     "text": [
      "Epoch: 1 [batch 1480/4063 (36.43%)] \n",
      "\tJacc: 0.600 Hamm: 0.040 DistLoss: 0.090\n"
     ]
    },
    {
     "name": "stderr",
     "output_type": "stream",
     "text": [
      "C:\\Users\\Siloux\\.conda\\envs\\species-id\\lib\\site-packages\\sklearn\\metrics\\_classification.py:1318: UndefinedMetricWarning: Jaccard is ill-defined and being set to 0.0 in labels with no true or predicted samples. Use `zero_division` parameter to control this behavior.\n",
      "  _warn_prf(average, modifier, msg_start, len(result))\n"
     ]
    },
    {
     "name": "stdout",
     "output_type": "stream",
     "text": [
      "Epoch: 1 [batch 1490/4063 (36.67%)] \n",
      "\tJacc: 0.591 Hamm: 0.028 DistLoss: 0.089\n"
     ]
    },
    {
     "name": "stderr",
     "output_type": "stream",
     "text": [
      "C:\\Users\\Siloux\\.conda\\envs\\species-id\\lib\\site-packages\\sklearn\\metrics\\_classification.py:1318: UndefinedMetricWarning: Jaccard is ill-defined and being set to 0.0 in labels with no true or predicted samples. Use `zero_division` parameter to control this behavior.\n",
      "  _warn_prf(average, modifier, msg_start, len(result))\n"
     ]
    },
    {
     "name": "stdout",
     "output_type": "stream",
     "text": [
      "Epoch: 1 [batch 1500/4063 (36.92%)] \n",
      "\tJacc: 0.644 Hamm: 0.023 DistLoss: 0.089\n"
     ]
    },
    {
     "name": "stderr",
     "output_type": "stream",
     "text": [
      "C:\\Users\\Siloux\\.conda\\envs\\species-id\\lib\\site-packages\\sklearn\\metrics\\_classification.py:1318: UndefinedMetricWarning: Jaccard is ill-defined and being set to 0.0 in labels with no true or predicted samples. Use `zero_division` parameter to control this behavior.\n",
      "  _warn_prf(average, modifier, msg_start, len(result))\n"
     ]
    },
    {
     "name": "stdout",
     "output_type": "stream",
     "text": [
      "Epoch: 1 [batch 1510/4063 (37.16%)] \n",
      "\tJacc: 0.368 Hamm: 0.068 DistLoss: 0.089\n"
     ]
    },
    {
     "name": "stderr",
     "output_type": "stream",
     "text": [
      "C:\\Users\\Siloux\\.conda\\envs\\species-id\\lib\\site-packages\\sklearn\\metrics\\_classification.py:1318: UndefinedMetricWarning: Jaccard is ill-defined and being set to 0.0 in labels with no true or predicted samples. Use `zero_division` parameter to control this behavior.\n",
      "  _warn_prf(average, modifier, msg_start, len(result))\n"
     ]
    },
    {
     "name": "stdout",
     "output_type": "stream",
     "text": [
      "Epoch: 1 [batch 1520/4063 (37.41%)] \n",
      "\tJacc: 0.955 Hamm: 0.006 DistLoss: 0.089\n",
      "Epoch: 1 [batch 1530/4063 (37.66%)] \n",
      "\tJacc: 0.629 Hamm: 0.028 DistLoss: 0.089\n"
     ]
    },
    {
     "name": "stderr",
     "output_type": "stream",
     "text": [
      "C:\\Users\\Siloux\\.conda\\envs\\species-id\\lib\\site-packages\\sklearn\\metrics\\_classification.py:1318: UndefinedMetricWarning: Jaccard is ill-defined and being set to 0.0 in labels with no true or predicted samples. Use `zero_division` parameter to control this behavior.\n",
      "  _warn_prf(average, modifier, msg_start, len(result))\n"
     ]
    },
    {
     "name": "stdout",
     "output_type": "stream",
     "text": [
      "Epoch: 1 [batch 1540/4063 (37.90%)] \n",
      "\tJacc: 0.447 Hamm: 0.051 DistLoss: 0.089\n"
     ]
    },
    {
     "name": "stderr",
     "output_type": "stream",
     "text": [
      "C:\\Users\\Siloux\\.conda\\envs\\species-id\\lib\\site-packages\\sklearn\\metrics\\_classification.py:1318: UndefinedMetricWarning: Jaccard is ill-defined and being set to 0.0 in labels with no true or predicted samples. Use `zero_division` parameter to control this behavior.\n",
      "  _warn_prf(average, modifier, msg_start, len(result))\n"
     ]
    },
    {
     "name": "stdout",
     "output_type": "stream",
     "text": [
      "Epoch: 1 [batch 1550/4063 (38.15%)] \n",
      "\tJacc: 0.506 Hamm: 0.062 DistLoss: 0.089\n"
     ]
    },
    {
     "name": "stderr",
     "output_type": "stream",
     "text": [
      "C:\\Users\\Siloux\\.conda\\envs\\species-id\\lib\\site-packages\\sklearn\\metrics\\_classification.py:1318: UndefinedMetricWarning: Jaccard is ill-defined and being set to 0.0 in labels with no true or predicted samples. Use `zero_division` parameter to control this behavior.\n",
      "  _warn_prf(average, modifier, msg_start, len(result))\n"
     ]
    },
    {
     "name": "stdout",
     "output_type": "stream",
     "text": [
      "Epoch: 1 [batch 1560/4063 (38.40%)] \n",
      "\tJacc: 0.636 Hamm: 0.028 DistLoss: 0.089\n"
     ]
    },
    {
     "name": "stderr",
     "output_type": "stream",
     "text": [
      "C:\\Users\\Siloux\\.conda\\envs\\species-id\\lib\\site-packages\\sklearn\\metrics\\_classification.py:1318: UndefinedMetricWarning: Jaccard is ill-defined and being set to 0.0 in labels with no true or predicted samples. Use `zero_division` parameter to control this behavior.\n",
      "  _warn_prf(average, modifier, msg_start, len(result))\n"
     ]
    },
    {
     "name": "stdout",
     "output_type": "stream",
     "text": [
      "Epoch: 1 [batch 1570/4063 (38.64%)] \n",
      "\tJacc: 0.568 Hamm: 0.028 DistLoss: 0.089\n"
     ]
    },
    {
     "name": "stderr",
     "output_type": "stream",
     "text": [
      "C:\\Users\\Siloux\\.conda\\envs\\species-id\\lib\\site-packages\\sklearn\\metrics\\_classification.py:1318: UndefinedMetricWarning: Jaccard is ill-defined and being set to 0.0 in labels with no true or predicted samples. Use `zero_division` parameter to control this behavior.\n",
      "  _warn_prf(average, modifier, msg_start, len(result))\n"
     ]
    },
    {
     "name": "stdout",
     "output_type": "stream",
     "text": [
      "Epoch: 1 [batch 1580/4063 (38.89%)] \n",
      "\tJacc: 0.750 Hamm: 0.023 DistLoss: 0.089\n"
     ]
    },
    {
     "name": "stderr",
     "output_type": "stream",
     "text": [
      "C:\\Users\\Siloux\\.conda\\envs\\species-id\\lib\\site-packages\\sklearn\\metrics\\_classification.py:1318: UndefinedMetricWarning: Jaccard is ill-defined and being set to 0.0 in labels with no true or predicted samples. Use `zero_division` parameter to control this behavior.\n",
      "  _warn_prf(average, modifier, msg_start, len(result))\n"
     ]
    },
    {
     "name": "stdout",
     "output_type": "stream",
     "text": [
      "Epoch: 1 [batch 1590/4063 (39.13%)] \n",
      "\tJacc: 0.532 Hamm: 0.040 DistLoss: 0.089\n"
     ]
    },
    {
     "name": "stderr",
     "output_type": "stream",
     "text": [
      "C:\\Users\\Siloux\\.conda\\envs\\species-id\\lib\\site-packages\\sklearn\\metrics\\_classification.py:1318: UndefinedMetricWarning: Jaccard is ill-defined and being set to 0.0 in labels with no true or predicted samples. Use `zero_division` parameter to control this behavior.\n",
      "  _warn_prf(average, modifier, msg_start, len(result))\n"
     ]
    },
    {
     "name": "stdout",
     "output_type": "stream",
     "text": [
      "Epoch: 1 [batch 1600/4063 (39.38%)] \n",
      "\tJacc: 0.492 Hamm: 0.068 DistLoss: 0.089\n"
     ]
    },
    {
     "name": "stderr",
     "output_type": "stream",
     "text": [
      "C:\\Users\\Siloux\\.conda\\envs\\species-id\\lib\\site-packages\\sklearn\\metrics\\_classification.py:1318: UndefinedMetricWarning: Jaccard is ill-defined and being set to 0.0 in labels with no true or predicted samples. Use `zero_division` parameter to control this behavior.\n",
      "  _warn_prf(average, modifier, msg_start, len(result))\n"
     ]
    },
    {
     "name": "stdout",
     "output_type": "stream",
     "text": [
      "Epoch: 1 [batch 1610/4063 (39.63%)] \n",
      "\tJacc: 0.629 Hamm: 0.034 DistLoss: 0.089\n"
     ]
    },
    {
     "name": "stderr",
     "output_type": "stream",
     "text": [
      "C:\\Users\\Siloux\\.conda\\envs\\species-id\\lib\\site-packages\\sklearn\\metrics\\_classification.py:1318: UndefinedMetricWarning: Jaccard is ill-defined and being set to 0.0 in labels with no true or predicted samples. Use `zero_division` parameter to control this behavior.\n",
      "  _warn_prf(average, modifier, msg_start, len(result))\n"
     ]
    },
    {
     "name": "stdout",
     "output_type": "stream",
     "text": [
      "Epoch: 1 [batch 1620/4063 (39.87%)] \n",
      "\tJacc: 0.606 Hamm: 0.034 DistLoss: 0.089\n"
     ]
    },
    {
     "name": "stderr",
     "output_type": "stream",
     "text": [
      "C:\\Users\\Siloux\\.conda\\envs\\species-id\\lib\\site-packages\\sklearn\\metrics\\_classification.py:1318: UndefinedMetricWarning: Jaccard is ill-defined and being set to 0.0 in labels with no true or predicted samples. Use `zero_division` parameter to control this behavior.\n",
      "  _warn_prf(average, modifier, msg_start, len(result))\n"
     ]
    },
    {
     "name": "stdout",
     "output_type": "stream",
     "text": [
      "Epoch: 1 [batch 1630/4063 (40.12%)] \n",
      "\tJacc: 0.652 Hamm: 0.040 DistLoss: 0.089\n",
      "Epoch: 1 [batch 1640/4063 (40.36%)] \n",
      "\tJacc: 0.421 Hamm: 0.045 DistLoss: 0.089\n"
     ]
    },
    {
     "name": "stderr",
     "output_type": "stream",
     "text": [
      "C:\\Users\\Siloux\\.conda\\envs\\species-id\\lib\\site-packages\\sklearn\\metrics\\_classification.py:1318: UndefinedMetricWarning: Jaccard is ill-defined and being set to 0.0 in labels with no true or predicted samples. Use `zero_division` parameter to control this behavior.\n",
      "  _warn_prf(average, modifier, msg_start, len(result))\n"
     ]
    },
    {
     "name": "stdout",
     "output_type": "stream",
     "text": [
      "Epoch: 1 [batch 1650/4063 (40.61%)] \n",
      "\tJacc: 0.424 Hamm: 0.040 DistLoss: 0.089\n"
     ]
    },
    {
     "name": "stderr",
     "output_type": "stream",
     "text": [
      "C:\\Users\\Siloux\\.conda\\envs\\species-id\\lib\\site-packages\\sklearn\\metrics\\_classification.py:1318: UndefinedMetricWarning: Jaccard is ill-defined and being set to 0.0 in labels with no true or predicted samples. Use `zero_division` parameter to control this behavior.\n",
      "  _warn_prf(average, modifier, msg_start, len(result))\n"
     ]
    },
    {
     "name": "stdout",
     "output_type": "stream",
     "text": [
      "Epoch: 1 [batch 1660/4063 (40.86%)] \n",
      "\tJacc: 0.676 Hamm: 0.034 DistLoss: 0.089\n"
     ]
    },
    {
     "name": "stderr",
     "output_type": "stream",
     "text": [
      "C:\\Users\\Siloux\\.conda\\envs\\species-id\\lib\\site-packages\\sklearn\\metrics\\_classification.py:1318: UndefinedMetricWarning: Jaccard is ill-defined and being set to 0.0 in labels with no true or predicted samples. Use `zero_division` parameter to control this behavior.\n",
      "  _warn_prf(average, modifier, msg_start, len(result))\n"
     ]
    },
    {
     "name": "stdout",
     "output_type": "stream",
     "text": [
      "Epoch: 1 [batch 1670/4063 (41.10%)] \n",
      "\tJacc: 0.333 Hamm: 0.062 DistLoss: 0.089\n"
     ]
    },
    {
     "name": "stderr",
     "output_type": "stream",
     "text": [
      "C:\\Users\\Siloux\\.conda\\envs\\species-id\\lib\\site-packages\\sklearn\\metrics\\_classification.py:1318: UndefinedMetricWarning: Jaccard is ill-defined and being set to 0.0 in labels with no true or predicted samples. Use `zero_division` parameter to control this behavior.\n",
      "  _warn_prf(average, modifier, msg_start, len(result))\n"
     ]
    },
    {
     "name": "stdout",
     "output_type": "stream",
     "text": [
      "Epoch: 1 [batch 1680/4063 (41.35%)] \n",
      "\tJacc: 0.561 Hamm: 0.034 DistLoss: 0.089\n"
     ]
    },
    {
     "name": "stderr",
     "output_type": "stream",
     "text": [
      "C:\\Users\\Siloux\\.conda\\envs\\species-id\\lib\\site-packages\\sklearn\\metrics\\_classification.py:1318: UndefinedMetricWarning: Jaccard is ill-defined and being set to 0.0 in labels with no true or predicted samples. Use `zero_division` parameter to control this behavior.\n",
      "  _warn_prf(average, modifier, msg_start, len(result))\n"
     ]
    },
    {
     "name": "stdout",
     "output_type": "stream",
     "text": [
      "Epoch: 1 [batch 1690/4063 (41.59%)] \n",
      "\tJacc: 0.568 Hamm: 0.017 DistLoss: 0.089\n"
     ]
    },
    {
     "name": "stderr",
     "output_type": "stream",
     "text": [
      "C:\\Users\\Siloux\\.conda\\envs\\species-id\\lib\\site-packages\\sklearn\\metrics\\_classification.py:1318: UndefinedMetricWarning: Jaccard is ill-defined and being set to 0.0 in labels with no true or predicted samples. Use `zero_division` parameter to control this behavior.\n",
      "  _warn_prf(average, modifier, msg_start, len(result))\n"
     ]
    },
    {
     "name": "stdout",
     "output_type": "stream",
     "text": [
      "Epoch: 1 [batch 1700/4063 (41.84%)] \n",
      "\tJacc: 0.477 Hamm: 0.045 DistLoss: 0.089\n"
     ]
    },
    {
     "name": "stderr",
     "output_type": "stream",
     "text": [
      "C:\\Users\\Siloux\\.conda\\envs\\species-id\\lib\\site-packages\\sklearn\\metrics\\_classification.py:1318: UndefinedMetricWarning: Jaccard is ill-defined and being set to 0.0 in labels with no true or predicted samples. Use `zero_division` parameter to control this behavior.\n",
      "  _warn_prf(average, modifier, msg_start, len(result))\n"
     ]
    },
    {
     "name": "stdout",
     "output_type": "stream",
     "text": [
      "Epoch: 1 [batch 1710/4063 (42.09%)] \n",
      "\tJacc: 0.818 Hamm: 0.034 DistLoss: 0.089\n",
      "Epoch: 1 [batch 1720/4063 (42.33%)] \n",
      "\tJacc: 0.644 Hamm: 0.040 DistLoss: 0.089\n"
     ]
    },
    {
     "name": "stderr",
     "output_type": "stream",
     "text": [
      "C:\\Users\\Siloux\\.conda\\envs\\species-id\\lib\\site-packages\\sklearn\\metrics\\_classification.py:1318: UndefinedMetricWarning: Jaccard is ill-defined and being set to 0.0 in labels with no true or predicted samples. Use `zero_division` parameter to control this behavior.\n",
      "  _warn_prf(average, modifier, msg_start, len(result))\n"
     ]
    },
    {
     "name": "stdout",
     "output_type": "stream",
     "text": [
      "Epoch: 1 [batch 1730/4063 (42.58%)] \n",
      "\tJacc: 0.765 Hamm: 0.028 DistLoss: 0.089\n",
      "Epoch: 1 [batch 1740/4063 (42.83%)] \n",
      "\tJacc: 0.545 Hamm: 0.040 DistLoss: 0.089\n"
     ]
    },
    {
     "name": "stderr",
     "output_type": "stream",
     "text": [
      "C:\\Users\\Siloux\\.conda\\envs\\species-id\\lib\\site-packages\\sklearn\\metrics\\_classification.py:1318: UndefinedMetricWarning: Jaccard is ill-defined and being set to 0.0 in labels with no true or predicted samples. Use `zero_division` parameter to control this behavior.\n",
      "  _warn_prf(average, modifier, msg_start, len(result))\n"
     ]
    },
    {
     "name": "stdout",
     "output_type": "stream",
     "text": [
      "Epoch: 1 [batch 1750/4063 (43.07%)] \n",
      "\tJacc: 0.773 Hamm: 0.011 DistLoss: 0.089\n"
     ]
    },
    {
     "name": "stderr",
     "output_type": "stream",
     "text": [
      "C:\\Users\\Siloux\\.conda\\envs\\species-id\\lib\\site-packages\\sklearn\\metrics\\_classification.py:1318: UndefinedMetricWarning: Jaccard is ill-defined and being set to 0.0 in labels with no true or predicted samples. Use `zero_division` parameter to control this behavior.\n",
      "  _warn_prf(average, modifier, msg_start, len(result))\n"
     ]
    },
    {
     "name": "stdout",
     "output_type": "stream",
     "text": [
      "Epoch: 1 [batch 1760/4063 (43.32%)] \n",
      "\tJacc: 0.447 Hamm: 0.062 DistLoss: 0.089\n"
     ]
    },
    {
     "name": "stderr",
     "output_type": "stream",
     "text": [
      "C:\\Users\\Siloux\\.conda\\envs\\species-id\\lib\\site-packages\\sklearn\\metrics\\_classification.py:1318: UndefinedMetricWarning: Jaccard is ill-defined and being set to 0.0 in labels with no true or predicted samples. Use `zero_division` parameter to control this behavior.\n",
      "  _warn_prf(average, modifier, msg_start, len(result))\n"
     ]
    },
    {
     "name": "stdout",
     "output_type": "stream",
     "text": [
      "Epoch: 1 [batch 1770/4063 (43.56%)] \n",
      "\tJacc: 0.492 Hamm: 0.068 DistLoss: 0.089\n",
      "Epoch: 1 [batch 1780/4063 (43.81%)] \n",
      "\tJacc: 0.494 Hamm: 0.068 DistLoss: 0.089\n"
     ]
    },
    {
     "name": "stderr",
     "output_type": "stream",
     "text": [
      "C:\\Users\\Siloux\\.conda\\envs\\species-id\\lib\\site-packages\\sklearn\\metrics\\_classification.py:1318: UndefinedMetricWarning: Jaccard is ill-defined and being set to 0.0 in labels with no true or predicted samples. Use `zero_division` parameter to control this behavior.\n",
      "  _warn_prf(average, modifier, msg_start, len(result))\n"
     ]
    },
    {
     "name": "stdout",
     "output_type": "stream",
     "text": [
      "Epoch: 1 [batch 1790/4063 (44.06%)] \n",
      "\tJacc: 0.606 Hamm: 0.011 DistLoss: 0.089\n"
     ]
    },
    {
     "name": "stderr",
     "output_type": "stream",
     "text": [
      "C:\\Users\\Siloux\\.conda\\envs\\species-id\\lib\\site-packages\\sklearn\\metrics\\_classification.py:1318: UndefinedMetricWarning: Jaccard is ill-defined and being set to 0.0 in labels with no true or predicted samples. Use `zero_division` parameter to control this behavior.\n",
      "  _warn_prf(average, modifier, msg_start, len(result))\n"
     ]
    },
    {
     "name": "stdout",
     "output_type": "stream",
     "text": [
      "Epoch: 1 [batch 1800/4063 (44.30%)] \n",
      "\tJacc: 0.606 Hamm: 0.045 DistLoss: 0.089\n"
     ]
    },
    {
     "name": "stderr",
     "output_type": "stream",
     "text": [
      "C:\\Users\\Siloux\\.conda\\envs\\species-id\\lib\\site-packages\\sklearn\\metrics\\_classification.py:1318: UndefinedMetricWarning: Jaccard is ill-defined and being set to 0.0 in labels with no true or predicted samples. Use `zero_division` parameter to control this behavior.\n",
      "  _warn_prf(average, modifier, msg_start, len(result))\n"
     ]
    },
    {
     "name": "stdout",
     "output_type": "stream",
     "text": [
      "Epoch: 1 [batch 1810/4063 (44.55%)] \n",
      "\tJacc: 0.697 Hamm: 0.028 DistLoss: 0.089\n",
      "Epoch: 1 [batch 1820/4063 (44.79%)] \n",
      "\tJacc: 0.424 Hamm: 0.034 DistLoss: 0.089\n"
     ]
    },
    {
     "name": "stderr",
     "output_type": "stream",
     "text": [
      "C:\\Users\\Siloux\\.conda\\envs\\species-id\\lib\\site-packages\\sklearn\\metrics\\_classification.py:1318: UndefinedMetricWarning: Jaccard is ill-defined and being set to 0.0 in labels with no true or predicted samples. Use `zero_division` parameter to control this behavior.\n",
      "  _warn_prf(average, modifier, msg_start, len(result))\n"
     ]
    },
    {
     "name": "stdout",
     "output_type": "stream",
     "text": [
      "Epoch: 1 [batch 1830/4063 (45.04%)] \n",
      "\tJacc: 0.636 Hamm: 0.028 DistLoss: 0.089\n"
     ]
    },
    {
     "name": "stderr",
     "output_type": "stream",
     "text": [
      "C:\\Users\\Siloux\\.conda\\envs\\species-id\\lib\\site-packages\\sklearn\\metrics\\_classification.py:1318: UndefinedMetricWarning: Jaccard is ill-defined and being set to 0.0 in labels with no true or predicted samples. Use `zero_division` parameter to control this behavior.\n",
      "  _warn_prf(average, modifier, msg_start, len(result))\n"
     ]
    },
    {
     "name": "stdout",
     "output_type": "stream",
     "text": [
      "Epoch: 1 [batch 1840/4063 (45.29%)] \n",
      "\tJacc: 0.464 Hamm: 0.051 DistLoss: 0.089\n"
     ]
    },
    {
     "name": "stderr",
     "output_type": "stream",
     "text": [
      "C:\\Users\\Siloux\\.conda\\envs\\species-id\\lib\\site-packages\\sklearn\\metrics\\_classification.py:1318: UndefinedMetricWarning: Jaccard is ill-defined and being set to 0.0 in labels with no true or predicted samples. Use `zero_division` parameter to control this behavior.\n",
      "  _warn_prf(average, modifier, msg_start, len(result))\n"
     ]
    },
    {
     "name": "stdout",
     "output_type": "stream",
     "text": [
      "Epoch: 1 [batch 1850/4063 (45.53%)] \n",
      "\tJacc: 0.439 Hamm: 0.057 DistLoss: 0.089\n"
     ]
    },
    {
     "name": "stderr",
     "output_type": "stream",
     "text": [
      "C:\\Users\\Siloux\\.conda\\envs\\species-id\\lib\\site-packages\\sklearn\\metrics\\_classification.py:1318: UndefinedMetricWarning: Jaccard is ill-defined and being set to 0.0 in labels with no true or predicted samples. Use `zero_division` parameter to control this behavior.\n",
      "  _warn_prf(average, modifier, msg_start, len(result))\n"
     ]
    },
    {
     "name": "stdout",
     "output_type": "stream",
     "text": [
      "Epoch: 1 [batch 1860/4063 (45.78%)] \n",
      "\tJacc: 0.803 Hamm: 0.017 DistLoss: 0.089\n"
     ]
    },
    {
     "name": "stderr",
     "output_type": "stream",
     "text": [
      "C:\\Users\\Siloux\\.conda\\envs\\species-id\\lib\\site-packages\\sklearn\\metrics\\_classification.py:1318: UndefinedMetricWarning: Jaccard is ill-defined and being set to 0.0 in labels with no true or predicted samples. Use `zero_division` parameter to control this behavior.\n",
      "  _warn_prf(average, modifier, msg_start, len(result))\n"
     ]
    },
    {
     "name": "stdout",
     "output_type": "stream",
     "text": [
      "Epoch: 1 [batch 1870/4063 (46.03%)] \n",
      "\tJacc: 0.455 Hamm: 0.062 DistLoss: 0.089\n"
     ]
    },
    {
     "name": "stderr",
     "output_type": "stream",
     "text": [
      "C:\\Users\\Siloux\\.conda\\envs\\species-id\\lib\\site-packages\\sklearn\\metrics\\_classification.py:1318: UndefinedMetricWarning: Jaccard is ill-defined and being set to 0.0 in labels with no true or predicted samples. Use `zero_division` parameter to control this behavior.\n",
      "  _warn_prf(average, modifier, msg_start, len(result))\n"
     ]
    },
    {
     "name": "stdout",
     "output_type": "stream",
     "text": [
      "Epoch: 1 [batch 1880/4063 (46.27%)] \n",
      "\tJacc: 0.553 Hamm: 0.034 DistLoss: 0.089\n"
     ]
    },
    {
     "name": "stderr",
     "output_type": "stream",
     "text": [
      "C:\\Users\\Siloux\\.conda\\envs\\species-id\\lib\\site-packages\\sklearn\\metrics\\_classification.py:1318: UndefinedMetricWarning: Jaccard is ill-defined and being set to 0.0 in labels with no true or predicted samples. Use `zero_division` parameter to control this behavior.\n",
      "  _warn_prf(average, modifier, msg_start, len(result))\n"
     ]
    },
    {
     "name": "stdout",
     "output_type": "stream",
     "text": [
      "Epoch: 1 [batch 1890/4063 (46.52%)] \n",
      "\tJacc: 0.621 Hamm: 0.034 DistLoss: 0.089\n"
     ]
    },
    {
     "name": "stderr",
     "output_type": "stream",
     "text": [
      "C:\\Users\\Siloux\\.conda\\envs\\species-id\\lib\\site-packages\\sklearn\\metrics\\_classification.py:1318: UndefinedMetricWarning: Jaccard is ill-defined and being set to 0.0 in labels with no true or predicted samples. Use `zero_division` parameter to control this behavior.\n",
      "  _warn_prf(average, modifier, msg_start, len(result))\n"
     ]
    },
    {
     "name": "stdout",
     "output_type": "stream",
     "text": [
      "Epoch: 1 [batch 1900/4063 (46.76%)] \n",
      "\tJacc: 0.500 Hamm: 0.040 DistLoss: 0.089\n"
     ]
    },
    {
     "name": "stderr",
     "output_type": "stream",
     "text": [
      "C:\\Users\\Siloux\\.conda\\envs\\species-id\\lib\\site-packages\\sklearn\\metrics\\_classification.py:1318: UndefinedMetricWarning: Jaccard is ill-defined and being set to 0.0 in labels with no true or predicted samples. Use `zero_division` parameter to control this behavior.\n",
      "  _warn_prf(average, modifier, msg_start, len(result))\n"
     ]
    },
    {
     "name": "stdout",
     "output_type": "stream",
     "text": [
      "Epoch: 1 [batch 1910/4063 (47.01%)] \n",
      "\tJacc: 0.667 Hamm: 0.051 DistLoss: 0.089\n",
      "Epoch: 1 [batch 1920/4063 (47.26%)] \n",
      "\tJacc: 0.652 Hamm: 0.028 DistLoss: 0.089\n",
      "Epoch: 1 [batch 1930/4063 (47.50%)] \n",
      "\tJacc: 0.553 Hamm: 0.034 DistLoss: 0.089\n"
     ]
    },
    {
     "name": "stderr",
     "output_type": "stream",
     "text": [
      "C:\\Users\\Siloux\\.conda\\envs\\species-id\\lib\\site-packages\\sklearn\\metrics\\_classification.py:1318: UndefinedMetricWarning: Jaccard is ill-defined and being set to 0.0 in labels with no true or predicted samples. Use `zero_division` parameter to control this behavior.\n",
      "  _warn_prf(average, modifier, msg_start, len(result))\n"
     ]
    },
    {
     "name": "stdout",
     "output_type": "stream",
     "text": [
      "Epoch: 1 [batch 1940/4063 (47.75%)] \n",
      "\tJacc: 0.697 Hamm: 0.028 DistLoss: 0.089\n"
     ]
    },
    {
     "name": "stderr",
     "output_type": "stream",
     "text": [
      "C:\\Users\\Siloux\\.conda\\envs\\species-id\\lib\\site-packages\\sklearn\\metrics\\_classification.py:1318: UndefinedMetricWarning: Jaccard is ill-defined and being set to 0.0 in labels with no true or predicted samples. Use `zero_division` parameter to control this behavior.\n",
      "  _warn_prf(average, modifier, msg_start, len(result))\n"
     ]
    },
    {
     "name": "stdout",
     "output_type": "stream",
     "text": [
      "Epoch: 1 [batch 1950/4063 (47.99%)] \n",
      "\tJacc: 0.682 Hamm: 0.011 DistLoss: 0.089\n"
     ]
    },
    {
     "name": "stderr",
     "output_type": "stream",
     "text": [
      "C:\\Users\\Siloux\\.conda\\envs\\species-id\\lib\\site-packages\\sklearn\\metrics\\_classification.py:1318: UndefinedMetricWarning: Jaccard is ill-defined and being set to 0.0 in labels with no true or predicted samples. Use `zero_division` parameter to control this behavior.\n",
      "  _warn_prf(average, modifier, msg_start, len(result))\n"
     ]
    },
    {
     "name": "stdout",
     "output_type": "stream",
     "text": [
      "Epoch: 1 [batch 1960/4063 (48.24%)] \n",
      "\tJacc: 0.621 Hamm: 0.034 DistLoss: 0.089\n"
     ]
    },
    {
     "name": "stderr",
     "output_type": "stream",
     "text": [
      "C:\\Users\\Siloux\\.conda\\envs\\species-id\\lib\\site-packages\\sklearn\\metrics\\_classification.py:1318: UndefinedMetricWarning: Jaccard is ill-defined and being set to 0.0 in labels with no true or predicted samples. Use `zero_division` parameter to control this behavior.\n",
      "  _warn_prf(average, modifier, msg_start, len(result))\n"
     ]
    },
    {
     "name": "stdout",
     "output_type": "stream",
     "text": [
      "Epoch: 1 [batch 1970/4063 (48.49%)] \n",
      "\tJacc: 0.652 Hamm: 0.040 DistLoss: 0.089\n",
      "Epoch: 1 [batch 1980/4063 (48.73%)] \n",
      "\tJacc: 0.553 Hamm: 0.028 DistLoss: 0.089\n"
     ]
    },
    {
     "name": "stderr",
     "output_type": "stream",
     "text": [
      "C:\\Users\\Siloux\\.conda\\envs\\species-id\\lib\\site-packages\\sklearn\\metrics\\_classification.py:1318: UndefinedMetricWarning: Jaccard is ill-defined and being set to 0.0 in labels with no true or predicted samples. Use `zero_division` parameter to control this behavior.\n",
      "  _warn_prf(average, modifier, msg_start, len(result))\n"
     ]
    },
    {
     "name": "stdout",
     "output_type": "stream",
     "text": [
      "Epoch: 1 [batch 1990/4063 (48.98%)] \n",
      "\tJacc: 0.670 Hamm: 0.045 DistLoss: 0.089\n"
     ]
    },
    {
     "name": "stderr",
     "output_type": "stream",
     "text": [
      "C:\\Users\\Siloux\\.conda\\envs\\species-id\\lib\\site-packages\\sklearn\\metrics\\_classification.py:1318: UndefinedMetricWarning: Jaccard is ill-defined and being set to 0.0 in labels with no true or predicted samples. Use `zero_division` parameter to control this behavior.\n",
      "  _warn_prf(average, modifier, msg_start, len(result))\n"
     ]
    },
    {
     "name": "stdout",
     "output_type": "stream",
     "text": [
      "Epoch: 1 [batch 2000/4063 (49.22%)] \n",
      "\tJacc: 0.667 Hamm: 0.023 DistLoss: 0.089\n"
     ]
    },
    {
     "name": "stderr",
     "output_type": "stream",
     "text": [
      "C:\\Users\\Siloux\\.conda\\envs\\species-id\\lib\\site-packages\\sklearn\\metrics\\_classification.py:1318: UndefinedMetricWarning: Jaccard is ill-defined and being set to 0.0 in labels with no true or predicted samples. Use `zero_division` parameter to control this behavior.\n",
      "  _warn_prf(average, modifier, msg_start, len(result))\n"
     ]
    },
    {
     "name": "stdout",
     "output_type": "stream",
     "text": [
      "Epoch: 1 [batch 2010/4063 (49.47%)] \n",
      "\tJacc: 0.470 Hamm: 0.045 DistLoss: 0.089\n"
     ]
    },
    {
     "name": "stderr",
     "output_type": "stream",
     "text": [
      "C:\\Users\\Siloux\\.conda\\envs\\species-id\\lib\\site-packages\\sklearn\\metrics\\_classification.py:1318: UndefinedMetricWarning: Jaccard is ill-defined and being set to 0.0 in labels with no true or predicted samples. Use `zero_division` parameter to control this behavior.\n",
      "  _warn_prf(average, modifier, msg_start, len(result))\n"
     ]
    },
    {
     "name": "stdout",
     "output_type": "stream",
     "text": [
      "Epoch: 1 [batch 2020/4063 (49.72%)] \n",
      "\tJacc: 0.530 Hamm: 0.045 DistLoss: 0.088\n",
      "Epoch: 1 [batch 2030/4063 (49.96%)] \n",
      "\tJacc: 0.477 Hamm: 0.034 DistLoss: 0.088\n"
     ]
    },
    {
     "name": "stderr",
     "output_type": "stream",
     "text": [
      "C:\\Users\\Siloux\\.conda\\envs\\species-id\\lib\\site-packages\\sklearn\\metrics\\_classification.py:1318: UndefinedMetricWarning: Jaccard is ill-defined and being set to 0.0 in labels with no true or predicted samples. Use `zero_division` parameter to control this behavior.\n",
      "  _warn_prf(average, modifier, msg_start, len(result))\n"
     ]
    },
    {
     "name": "stdout",
     "output_type": "stream",
     "text": [
      "Epoch: 1 [batch 2040/4063 (50.21%)] \n",
      "\tJacc: 0.621 Hamm: 0.034 DistLoss: 0.088\n"
     ]
    },
    {
     "name": "stderr",
     "output_type": "stream",
     "text": [
      "C:\\Users\\Siloux\\.conda\\envs\\species-id\\lib\\site-packages\\sklearn\\metrics\\_classification.py:1318: UndefinedMetricWarning: Jaccard is ill-defined and being set to 0.0 in labels with no true or predicted samples. Use `zero_division` parameter to control this behavior.\n",
      "  _warn_prf(average, modifier, msg_start, len(result))\n"
     ]
    },
    {
     "name": "stdout",
     "output_type": "stream",
     "text": [
      "Epoch: 1 [batch 2050/4063 (50.46%)] \n",
      "\tJacc: 0.545 Hamm: 0.051 DistLoss: 0.088\n",
      "Epoch: 1 [batch 2060/4063 (50.70%)] \n",
      "\tJacc: 0.538 Hamm: 0.057 DistLoss: 0.088\n",
      "Epoch: 1 [batch 2070/4063 (50.95%)] \n",
      "\tJacc: 0.697 Hamm: 0.023 DistLoss: 0.088\n"
     ]
    },
    {
     "name": "stderr",
     "output_type": "stream",
     "text": [
      "C:\\Users\\Siloux\\.conda\\envs\\species-id\\lib\\site-packages\\sklearn\\metrics\\_classification.py:1318: UndefinedMetricWarning: Jaccard is ill-defined and being set to 0.0 in labels with no true or predicted samples. Use `zero_division` parameter to control this behavior.\n",
      "  _warn_prf(average, modifier, msg_start, len(result))\n"
     ]
    },
    {
     "name": "stdout",
     "output_type": "stream",
     "text": [
      "Epoch: 1 [batch 2080/4063 (51.19%)] \n",
      "\tJacc: 0.477 Hamm: 0.040 DistLoss: 0.088\n"
     ]
    },
    {
     "name": "stderr",
     "output_type": "stream",
     "text": [
      "C:\\Users\\Siloux\\.conda\\envs\\species-id\\lib\\site-packages\\sklearn\\metrics\\_classification.py:1318: UndefinedMetricWarning: Jaccard is ill-defined and being set to 0.0 in labels with no true or predicted samples. Use `zero_division` parameter to control this behavior.\n",
      "  _warn_prf(average, modifier, msg_start, len(result))\n"
     ]
    },
    {
     "name": "stdout",
     "output_type": "stream",
     "text": [
      "Epoch: 1 [batch 2090/4063 (51.44%)] \n",
      "\tJacc: 0.530 Hamm: 0.051 DistLoss: 0.088\n",
      "Epoch: 1 [batch 2100/4063 (51.69%)] \n",
      "\tJacc: 0.750 Hamm: 0.023 DistLoss: 0.088\n"
     ]
    },
    {
     "name": "stderr",
     "output_type": "stream",
     "text": [
      "C:\\Users\\Siloux\\.conda\\envs\\species-id\\lib\\site-packages\\sklearn\\metrics\\_classification.py:1318: UndefinedMetricWarning: Jaccard is ill-defined and being set to 0.0 in labels with no true or predicted samples. Use `zero_division` parameter to control this behavior.\n",
      "  _warn_prf(average, modifier, msg_start, len(result))\n"
     ]
    },
    {
     "name": "stdout",
     "output_type": "stream",
     "text": [
      "Epoch: 1 [batch 2110/4063 (51.93%)] \n",
      "\tJacc: 0.568 Hamm: 0.028 DistLoss: 0.088\n"
     ]
    },
    {
     "name": "stderr",
     "output_type": "stream",
     "text": [
      "C:\\Users\\Siloux\\.conda\\envs\\species-id\\lib\\site-packages\\sklearn\\metrics\\_classification.py:1318: UndefinedMetricWarning: Jaccard is ill-defined and being set to 0.0 in labels with no true or predicted samples. Use `zero_division` parameter to control this behavior.\n",
      "  _warn_prf(average, modifier, msg_start, len(result))\n"
     ]
    },
    {
     "name": "stdout",
     "output_type": "stream",
     "text": [
      "Epoch: 1 [batch 2120/4063 (52.18%)] \n",
      "\tJacc: 0.520 Hamm: 0.051 DistLoss: 0.088\n"
     ]
    },
    {
     "name": "stderr",
     "output_type": "stream",
     "text": [
      "C:\\Users\\Siloux\\.conda\\envs\\species-id\\lib\\site-packages\\sklearn\\metrics\\_classification.py:1318: UndefinedMetricWarning: Jaccard is ill-defined and being set to 0.0 in labels with no true or predicted samples. Use `zero_division` parameter to control this behavior.\n",
      "  _warn_prf(average, modifier, msg_start, len(result))\n"
     ]
    },
    {
     "name": "stdout",
     "output_type": "stream",
     "text": [
      "Epoch: 1 [batch 2130/4063 (52.42%)] \n",
      "\tJacc: 0.576 Hamm: 0.045 DistLoss: 0.088\n"
     ]
    },
    {
     "name": "stderr",
     "output_type": "stream",
     "text": [
      "C:\\Users\\Siloux\\.conda\\envs\\species-id\\lib\\site-packages\\sklearn\\metrics\\_classification.py:1318: UndefinedMetricWarning: Jaccard is ill-defined and being set to 0.0 in labels with no true or predicted samples. Use `zero_division` parameter to control this behavior.\n",
      "  _warn_prf(average, modifier, msg_start, len(result))\n"
     ]
    },
    {
     "name": "stdout",
     "output_type": "stream",
     "text": [
      "Epoch: 1 [batch 2140/4063 (52.67%)] \n",
      "\tJacc: 0.667 Hamm: 0.028 DistLoss: 0.088\n"
     ]
    },
    {
     "name": "stderr",
     "output_type": "stream",
     "text": [
      "C:\\Users\\Siloux\\.conda\\envs\\species-id\\lib\\site-packages\\sklearn\\metrics\\_classification.py:1318: UndefinedMetricWarning: Jaccard is ill-defined and being set to 0.0 in labels with no true or predicted samples. Use `zero_division` parameter to control this behavior.\n",
      "  _warn_prf(average, modifier, msg_start, len(result))\n"
     ]
    },
    {
     "name": "stdout",
     "output_type": "stream",
     "text": [
      "Epoch: 1 [batch 2150/4063 (52.92%)] \n",
      "\tJacc: 0.621 Hamm: 0.051 DistLoss: 0.088\n"
     ]
    },
    {
     "name": "stderr",
     "output_type": "stream",
     "text": [
      "C:\\Users\\Siloux\\.conda\\envs\\species-id\\lib\\site-packages\\sklearn\\metrics\\_classification.py:1318: UndefinedMetricWarning: Jaccard is ill-defined and being set to 0.0 in labels with no true or predicted samples. Use `zero_division` parameter to control this behavior.\n",
      "  _warn_prf(average, modifier, msg_start, len(result))\n"
     ]
    },
    {
     "name": "stdout",
     "output_type": "stream",
     "text": [
      "Epoch: 1 [batch 2160/4063 (53.16%)] \n",
      "\tJacc: 0.508 Hamm: 0.062 DistLoss: 0.088\n",
      "Epoch: 1 [batch 2170/4063 (53.41%)] \n",
      "\tJacc: 0.561 Hamm: 0.028 DistLoss: 0.088\n"
     ]
    },
    {
     "name": "stderr",
     "output_type": "stream",
     "text": [
      "C:\\Users\\Siloux\\.conda\\envs\\species-id\\lib\\site-packages\\sklearn\\metrics\\_classification.py:1318: UndefinedMetricWarning: Jaccard is ill-defined and being set to 0.0 in labels with no true or predicted samples. Use `zero_division` parameter to control this behavior.\n",
      "  _warn_prf(average, modifier, msg_start, len(result))\n"
     ]
    },
    {
     "name": "stdout",
     "output_type": "stream",
     "text": [
      "Epoch: 1 [batch 2180/4063 (53.65%)] \n",
      "\tJacc: 0.515 Hamm: 0.045 DistLoss: 0.088\n"
     ]
    },
    {
     "name": "stderr",
     "output_type": "stream",
     "text": [
      "C:\\Users\\Siloux\\.conda\\envs\\species-id\\lib\\site-packages\\sklearn\\metrics\\_classification.py:1318: UndefinedMetricWarning: Jaccard is ill-defined and being set to 0.0 in labels with no true or predicted samples. Use `zero_division` parameter to control this behavior.\n",
      "  _warn_prf(average, modifier, msg_start, len(result))\n"
     ]
    },
    {
     "name": "stdout",
     "output_type": "stream",
     "text": [
      "Epoch: 1 [batch 2190/4063 (53.90%)] \n",
      "\tJacc: 0.508 Hamm: 0.034 DistLoss: 0.088\n"
     ]
    },
    {
     "name": "stderr",
     "output_type": "stream",
     "text": [
      "C:\\Users\\Siloux\\.conda\\envs\\species-id\\lib\\site-packages\\sklearn\\metrics\\_classification.py:1318: UndefinedMetricWarning: Jaccard is ill-defined and being set to 0.0 in labels with no true or predicted samples. Use `zero_division` parameter to control this behavior.\n",
      "  _warn_prf(average, modifier, msg_start, len(result))\n"
     ]
    },
    {
     "name": "stdout",
     "output_type": "stream",
     "text": [
      "Epoch: 1 [batch 2200/4063 (54.15%)] \n",
      "\tJacc: 0.530 Hamm: 0.045 DistLoss: 0.088\n"
     ]
    },
    {
     "name": "stderr",
     "output_type": "stream",
     "text": [
      "C:\\Users\\Siloux\\.conda\\envs\\species-id\\lib\\site-packages\\sklearn\\metrics\\_classification.py:1318: UndefinedMetricWarning: Jaccard is ill-defined and being set to 0.0 in labels with no true or predicted samples. Use `zero_division` parameter to control this behavior.\n",
      "  _warn_prf(average, modifier, msg_start, len(result))\n"
     ]
    },
    {
     "name": "stdout",
     "output_type": "stream",
     "text": [
      "Epoch: 1 [batch 2210/4063 (54.39%)] \n",
      "\tJacc: 0.674 Hamm: 0.034 DistLoss: 0.088\n"
     ]
    },
    {
     "name": "stderr",
     "output_type": "stream",
     "text": [
      "C:\\Users\\Siloux\\.conda\\envs\\species-id\\lib\\site-packages\\sklearn\\metrics\\_classification.py:1318: UndefinedMetricWarning: Jaccard is ill-defined and being set to 0.0 in labels with no true or predicted samples. Use `zero_division` parameter to control this behavior.\n",
      "  _warn_prf(average, modifier, msg_start, len(result))\n"
     ]
    },
    {
     "name": "stdout",
     "output_type": "stream",
     "text": [
      "Epoch: 1 [batch 2220/4063 (54.64%)] \n",
      "\tJacc: 0.462 Hamm: 0.051 DistLoss: 0.088\n"
     ]
    },
    {
     "name": "stderr",
     "output_type": "stream",
     "text": [
      "C:\\Users\\Siloux\\.conda\\envs\\species-id\\lib\\site-packages\\sklearn\\metrics\\_classification.py:1318: UndefinedMetricWarning: Jaccard is ill-defined and being set to 0.0 in labels with no true or predicted samples. Use `zero_division` parameter to control this behavior.\n",
      "  _warn_prf(average, modifier, msg_start, len(result))\n"
     ]
    },
    {
     "name": "stdout",
     "output_type": "stream",
     "text": [
      "Epoch: 1 [batch 2230/4063 (54.89%)] \n",
      "\tJacc: 0.500 Hamm: 0.028 DistLoss: 0.088\n"
     ]
    },
    {
     "name": "stderr",
     "output_type": "stream",
     "text": [
      "C:\\Users\\Siloux\\.conda\\envs\\species-id\\lib\\site-packages\\sklearn\\metrics\\_classification.py:1318: UndefinedMetricWarning: Jaccard is ill-defined and being set to 0.0 in labels with no true or predicted samples. Use `zero_division` parameter to control this behavior.\n",
      "  _warn_prf(average, modifier, msg_start, len(result))\n"
     ]
    },
    {
     "name": "stdout",
     "output_type": "stream",
     "text": [
      "Epoch: 1 [batch 2240/4063 (55.13%)] \n",
      "\tJacc: 0.606 Hamm: 0.034 DistLoss: 0.088\n"
     ]
    },
    {
     "name": "stderr",
     "output_type": "stream",
     "text": [
      "C:\\Users\\Siloux\\.conda\\envs\\species-id\\lib\\site-packages\\sklearn\\metrics\\_classification.py:1318: UndefinedMetricWarning: Jaccard is ill-defined and being set to 0.0 in labels with no true or predicted samples. Use `zero_division` parameter to control this behavior.\n",
      "  _warn_prf(average, modifier, msg_start, len(result))\n"
     ]
    },
    {
     "name": "stdout",
     "output_type": "stream",
     "text": [
      "Epoch: 1 [batch 2250/4063 (55.38%)] \n",
      "\tJacc: 0.591 Hamm: 0.051 DistLoss: 0.088\n",
      "Epoch: 1 [batch 2260/4063 (55.62%)] \n",
      "\tJacc: 0.583 Hamm: 0.045 DistLoss: 0.088\n"
     ]
    },
    {
     "name": "stderr",
     "output_type": "stream",
     "text": [
      "C:\\Users\\Siloux\\.conda\\envs\\species-id\\lib\\site-packages\\sklearn\\metrics\\_classification.py:1318: UndefinedMetricWarning: Jaccard is ill-defined and being set to 0.0 in labels with no true or predicted samples. Use `zero_division` parameter to control this behavior.\n",
      "  _warn_prf(average, modifier, msg_start, len(result))\n"
     ]
    },
    {
     "name": "stdout",
     "output_type": "stream",
     "text": [
      "Epoch: 1 [batch 2270/4063 (55.87%)] \n",
      "\tJacc: 0.479 Hamm: 0.051 DistLoss: 0.088\n",
      "Epoch: 1 [batch 2280/4063 (56.12%)] \n",
      "\tJacc: 0.742 Hamm: 0.011 DistLoss: 0.088\n"
     ]
    },
    {
     "name": "stderr",
     "output_type": "stream",
     "text": [
      "C:\\Users\\Siloux\\.conda\\envs\\species-id\\lib\\site-packages\\sklearn\\metrics\\_classification.py:1318: UndefinedMetricWarning: Jaccard is ill-defined and being set to 0.0 in labels with no true or predicted samples. Use `zero_division` parameter to control this behavior.\n",
      "  _warn_prf(average, modifier, msg_start, len(result))\n"
     ]
    },
    {
     "name": "stdout",
     "output_type": "stream",
     "text": [
      "Epoch: 1 [batch 2290/4063 (56.36%)] \n",
      "\tJacc: 0.841 Hamm: 0.017 DistLoss: 0.088\n",
      "Epoch: 1 [batch 2300/4063 (56.61%)] \n",
      "\tJacc: 0.636 Hamm: 0.045 DistLoss: 0.088\n",
      "Epoch: 1 [batch 2310/4063 (56.85%)] \n",
      "\tJacc: 0.697 Hamm: 0.034 DistLoss: 0.088\n"
     ]
    },
    {
     "name": "stderr",
     "output_type": "stream",
     "text": [
      "C:\\Users\\Siloux\\.conda\\envs\\species-id\\lib\\site-packages\\sklearn\\metrics\\_classification.py:1318: UndefinedMetricWarning: Jaccard is ill-defined and being set to 0.0 in labels with no true or predicted samples. Use `zero_division` parameter to control this behavior.\n",
      "  _warn_prf(average, modifier, msg_start, len(result))\n"
     ]
    },
    {
     "name": "stdout",
     "output_type": "stream",
     "text": [
      "Epoch: 1 [batch 2320/4063 (57.10%)] \n",
      "\tJacc: 0.515 Hamm: 0.062 DistLoss: 0.088\n",
      "Epoch: 1 [batch 2330/4063 (57.35%)] \n",
      "\tJacc: 0.379 Hamm: 0.034 DistLoss: 0.088\n"
     ]
    },
    {
     "name": "stderr",
     "output_type": "stream",
     "text": [
      "C:\\Users\\Siloux\\.conda\\envs\\species-id\\lib\\site-packages\\sklearn\\metrics\\_classification.py:1318: UndefinedMetricWarning: Jaccard is ill-defined and being set to 0.0 in labels with no true or predicted samples. Use `zero_division` parameter to control this behavior.\n",
      "  _warn_prf(average, modifier, msg_start, len(result))\n"
     ]
    },
    {
     "name": "stdout",
     "output_type": "stream",
     "text": [
      "Epoch: 1 [batch 2340/4063 (57.59%)] \n",
      "\tJacc: 0.727 Hamm: 0.011 DistLoss: 0.088\n"
     ]
    },
    {
     "name": "stderr",
     "output_type": "stream",
     "text": [
      "C:\\Users\\Siloux\\.conda\\envs\\species-id\\lib\\site-packages\\sklearn\\metrics\\_classification.py:1318: UndefinedMetricWarning: Jaccard is ill-defined and being set to 0.0 in labels with no true or predicted samples. Use `zero_division` parameter to control this behavior.\n",
      "  _warn_prf(average, modifier, msg_start, len(result))\n"
     ]
    },
    {
     "name": "stdout",
     "output_type": "stream",
     "text": [
      "Epoch: 1 [batch 2350/4063 (57.84%)] \n",
      "\tJacc: 0.462 Hamm: 0.040 DistLoss: 0.088\n"
     ]
    },
    {
     "name": "stderr",
     "output_type": "stream",
     "text": [
      "C:\\Users\\Siloux\\.conda\\envs\\species-id\\lib\\site-packages\\sklearn\\metrics\\_classification.py:1318: UndefinedMetricWarning: Jaccard is ill-defined and being set to 0.0 in labels with no true or predicted samples. Use `zero_division` parameter to control this behavior.\n",
      "  _warn_prf(average, modifier, msg_start, len(result))\n"
     ]
    },
    {
     "name": "stdout",
     "output_type": "stream",
     "text": [
      "Epoch: 1 [batch 2360/4063 (58.09%)] \n",
      "\tJacc: 0.705 Hamm: 0.011 DistLoss: 0.088\n"
     ]
    },
    {
     "name": "stderr",
     "output_type": "stream",
     "text": [
      "C:\\Users\\Siloux\\.conda\\envs\\species-id\\lib\\site-packages\\sklearn\\metrics\\_classification.py:1318: UndefinedMetricWarning: Jaccard is ill-defined and being set to 0.0 in labels with no true or predicted samples. Use `zero_division` parameter to control this behavior.\n",
      "  _warn_prf(average, modifier, msg_start, len(result))\n"
     ]
    },
    {
     "name": "stdout",
     "output_type": "stream",
     "text": [
      "Epoch: 1 [batch 2370/4063 (58.33%)] \n",
      "\tJacc: 0.461 Hamm: 0.068 DistLoss: 0.088\n",
      "Epoch: 1 [batch 2380/4063 (58.58%)] \n",
      "\tJacc: 0.561 Hamm: 0.045 DistLoss: 0.088\n"
     ]
    },
    {
     "name": "stderr",
     "output_type": "stream",
     "text": [
      "C:\\Users\\Siloux\\.conda\\envs\\species-id\\lib\\site-packages\\sklearn\\metrics\\_classification.py:1318: UndefinedMetricWarning: Jaccard is ill-defined and being set to 0.0 in labels with no true or predicted samples. Use `zero_division` parameter to control this behavior.\n",
      "  _warn_prf(average, modifier, msg_start, len(result))\n"
     ]
    },
    {
     "name": "stdout",
     "output_type": "stream",
     "text": [
      "Epoch: 1 [batch 2390/4063 (58.82%)] \n",
      "\tJacc: 0.652 Hamm: 0.045 DistLoss: 0.088\n",
      "Epoch: 1 [batch 2400/4063 (59.07%)] \n",
      "\tJacc: 0.818 Hamm: 0.023 DistLoss: 0.088\n",
      "Epoch: 1 [batch 2410/4063 (59.32%)] \n",
      "\tJacc: 0.492 Hamm: 0.057 DistLoss: 0.088\n"
     ]
    },
    {
     "name": "stderr",
     "output_type": "stream",
     "text": [
      "C:\\Users\\Siloux\\.conda\\envs\\species-id\\lib\\site-packages\\sklearn\\metrics\\_classification.py:1318: UndefinedMetricWarning: Jaccard is ill-defined and being set to 0.0 in labels with no true or predicted samples. Use `zero_division` parameter to control this behavior.\n",
      "  _warn_prf(average, modifier, msg_start, len(result))\n"
     ]
    },
    {
     "name": "stdout",
     "output_type": "stream",
     "text": [
      "Epoch: 1 [batch 2420/4063 (59.56%)] \n",
      "\tJacc: 0.697 Hamm: 0.017 DistLoss: 0.088\n"
     ]
    },
    {
     "name": "stderr",
     "output_type": "stream",
     "text": [
      "C:\\Users\\Siloux\\.conda\\envs\\species-id\\lib\\site-packages\\sklearn\\metrics\\_classification.py:1318: UndefinedMetricWarning: Jaccard is ill-defined and being set to 0.0 in labels with no true or predicted samples. Use `zero_division` parameter to control this behavior.\n",
      "  _warn_prf(average, modifier, msg_start, len(result))\n"
     ]
    },
    {
     "name": "stdout",
     "output_type": "stream",
     "text": [
      "Epoch: 1 [batch 2430/4063 (59.81%)] \n",
      "\tJacc: 0.485 Hamm: 0.040 DistLoss: 0.088\n"
     ]
    },
    {
     "name": "stderr",
     "output_type": "stream",
     "text": [
      "C:\\Users\\Siloux\\.conda\\envs\\species-id\\lib\\site-packages\\sklearn\\metrics\\_classification.py:1318: UndefinedMetricWarning: Jaccard is ill-defined and being set to 0.0 in labels with no true or predicted samples. Use `zero_division` parameter to control this behavior.\n",
      "  _warn_prf(average, modifier, msg_start, len(result))\n"
     ]
    },
    {
     "name": "stdout",
     "output_type": "stream",
     "text": [
      "Epoch: 1 [batch 2440/4063 (60.05%)] \n",
      "\tJacc: 0.500 Hamm: 0.017 DistLoss: 0.088\n"
     ]
    },
    {
     "name": "stderr",
     "output_type": "stream",
     "text": [
      "C:\\Users\\Siloux\\.conda\\envs\\species-id\\lib\\site-packages\\sklearn\\metrics\\_classification.py:1318: UndefinedMetricWarning: Jaccard is ill-defined and being set to 0.0 in labels with no true or predicted samples. Use `zero_division` parameter to control this behavior.\n",
      "  _warn_prf(average, modifier, msg_start, len(result))\n"
     ]
    },
    {
     "name": "stdout",
     "output_type": "stream",
     "text": [
      "Epoch: 1 [batch 2450/4063 (60.30%)] \n",
      "\tJacc: 0.630 Hamm: 0.034 DistLoss: 0.088\n"
     ]
    },
    {
     "name": "stderr",
     "output_type": "stream",
     "text": [
      "C:\\Users\\Siloux\\.conda\\envs\\species-id\\lib\\site-packages\\sklearn\\metrics\\_classification.py:1318: UndefinedMetricWarning: Jaccard is ill-defined and being set to 0.0 in labels with no true or predicted samples. Use `zero_division` parameter to control this behavior.\n",
      "  _warn_prf(average, modifier, msg_start, len(result))\n"
     ]
    },
    {
     "name": "stdout",
     "output_type": "stream",
     "text": [
      "Epoch: 1 [batch 2460/4063 (60.55%)] \n",
      "\tJacc: 0.614 Hamm: 0.057 DistLoss: 0.088\n",
      "Epoch: 1 [batch 2470/4063 (60.79%)] \n",
      "\tJacc: 0.788 Hamm: 0.011 DistLoss: 0.088\n"
     ]
    },
    {
     "name": "stderr",
     "output_type": "stream",
     "text": [
      "C:\\Users\\Siloux\\.conda\\envs\\species-id\\lib\\site-packages\\sklearn\\metrics\\_classification.py:1318: UndefinedMetricWarning: Jaccard is ill-defined and being set to 0.0 in labels with no true or predicted samples. Use `zero_division` parameter to control this behavior.\n",
      "  _warn_prf(average, modifier, msg_start, len(result))\n"
     ]
    },
    {
     "name": "stdout",
     "output_type": "stream",
     "text": [
      "Epoch: 1 [batch 2480/4063 (61.04%)] \n",
      "\tJacc: 0.591 Hamm: 0.028 DistLoss: 0.088\n"
     ]
    },
    {
     "name": "stderr",
     "output_type": "stream",
     "text": [
      "C:\\Users\\Siloux\\.conda\\envs\\species-id\\lib\\site-packages\\sklearn\\metrics\\_classification.py:1318: UndefinedMetricWarning: Jaccard is ill-defined and being set to 0.0 in labels with no true or predicted samples. Use `zero_division` parameter to control this behavior.\n",
      "  _warn_prf(average, modifier, msg_start, len(result))\n"
     ]
    },
    {
     "name": "stdout",
     "output_type": "stream",
     "text": [
      "Epoch: 1 [batch 2490/4063 (61.28%)] \n",
      "\tJacc: 0.818 Hamm: 0.028 DistLoss: 0.088\n",
      "Epoch: 1 [batch 2500/4063 (61.53%)] \n",
      "\tJacc: 0.545 Hamm: 0.034 DistLoss: 0.088\n"
     ]
    },
    {
     "name": "stderr",
     "output_type": "stream",
     "text": [
      "C:\\Users\\Siloux\\.conda\\envs\\species-id\\lib\\site-packages\\sklearn\\metrics\\_classification.py:1318: UndefinedMetricWarning: Jaccard is ill-defined and being set to 0.0 in labels with no true or predicted samples. Use `zero_division` parameter to control this behavior.\n",
      "  _warn_prf(average, modifier, msg_start, len(result))\n"
     ]
    },
    {
     "name": "stdout",
     "output_type": "stream",
     "text": [
      "Epoch: 1 [batch 2510/4063 (61.78%)] \n",
      "\tJacc: 0.742 Hamm: 0.034 DistLoss: 0.088\n",
      "Epoch: 1 [batch 2520/4063 (62.02%)] \n",
      "\tJacc: 0.788 Hamm: 0.006 DistLoss: 0.088\n"
     ]
    },
    {
     "name": "stderr",
     "output_type": "stream",
     "text": [
      "C:\\Users\\Siloux\\.conda\\envs\\species-id\\lib\\site-packages\\sklearn\\metrics\\_classification.py:1318: UndefinedMetricWarning: Jaccard is ill-defined and being set to 0.0 in labels with no true or predicted samples. Use `zero_division` parameter to control this behavior.\n",
      "  _warn_prf(average, modifier, msg_start, len(result))\n"
     ]
    },
    {
     "name": "stdout",
     "output_type": "stream",
     "text": [
      "Epoch: 1 [batch 2530/4063 (62.27%)] \n",
      "\tJacc: 0.742 Hamm: 0.017 DistLoss: 0.088\n"
     ]
    },
    {
     "name": "stderr",
     "output_type": "stream",
     "text": [
      "C:\\Users\\Siloux\\.conda\\envs\\species-id\\lib\\site-packages\\sklearn\\metrics\\_classification.py:1318: UndefinedMetricWarning: Jaccard is ill-defined and being set to 0.0 in labels with no true or predicted samples. Use `zero_division` parameter to control this behavior.\n",
      "  _warn_prf(average, modifier, msg_start, len(result))\n"
     ]
    },
    {
     "name": "stdout",
     "output_type": "stream",
     "text": [
      "Epoch: 1 [batch 2540/4063 (62.52%)] \n",
      "\tJacc: 0.500 Hamm: 0.057 DistLoss: 0.088\n",
      "Epoch: 1 [batch 2550/4063 (62.76%)] \n",
      "\tJacc: 0.621 Hamm: 0.045 DistLoss: 0.088\n"
     ]
    },
    {
     "name": "stderr",
     "output_type": "stream",
     "text": [
      "C:\\Users\\Siloux\\.conda\\envs\\species-id\\lib\\site-packages\\sklearn\\metrics\\_classification.py:1318: UndefinedMetricWarning: Jaccard is ill-defined and being set to 0.0 in labels with no true or predicted samples. Use `zero_division` parameter to control this behavior.\n",
      "  _warn_prf(average, modifier, msg_start, len(result))\n"
     ]
    },
    {
     "name": "stdout",
     "output_type": "stream",
     "text": [
      "Epoch: 1 [batch 2560/4063 (63.01%)] \n",
      "\tJacc: 0.523 Hamm: 0.057 DistLoss: 0.088\n"
     ]
    },
    {
     "name": "stderr",
     "output_type": "stream",
     "text": [
      "C:\\Users\\Siloux\\.conda\\envs\\species-id\\lib\\site-packages\\sklearn\\metrics\\_classification.py:1318: UndefinedMetricWarning: Jaccard is ill-defined and being set to 0.0 in labels with no true or predicted samples. Use `zero_division` parameter to control this behavior.\n",
      "  _warn_prf(average, modifier, msg_start, len(result))\n"
     ]
    },
    {
     "name": "stdout",
     "output_type": "stream",
     "text": [
      "Epoch: 1 [batch 2570/4063 (63.25%)] \n",
      "\tJacc: 0.500 Hamm: 0.062 DistLoss: 0.088\n"
     ]
    },
    {
     "name": "stderr",
     "output_type": "stream",
     "text": [
      "C:\\Users\\Siloux\\.conda\\envs\\species-id\\lib\\site-packages\\sklearn\\metrics\\_classification.py:1318: UndefinedMetricWarning: Jaccard is ill-defined and being set to 0.0 in labels with no true or predicted samples. Use `zero_division` parameter to control this behavior.\n",
      "  _warn_prf(average, modifier, msg_start, len(result))\n"
     ]
    },
    {
     "name": "stdout",
     "output_type": "stream",
     "text": [
      "Epoch: 1 [batch 2580/4063 (63.50%)] \n",
      "\tJacc: 0.555 Hamm: 0.045 DistLoss: 0.088\n"
     ]
    },
    {
     "name": "stderr",
     "output_type": "stream",
     "text": [
      "C:\\Users\\Siloux\\.conda\\envs\\species-id\\lib\\site-packages\\sklearn\\metrics\\_classification.py:1318: UndefinedMetricWarning: Jaccard is ill-defined and being set to 0.0 in labels with no true or predicted samples. Use `zero_division` parameter to control this behavior.\n",
      "  _warn_prf(average, modifier, msg_start, len(result))\n"
     ]
    },
    {
     "name": "stdout",
     "output_type": "stream",
     "text": [
      "Epoch: 1 [batch 2590/4063 (63.75%)] \n",
      "\tJacc: 0.561 Hamm: 0.034 DistLoss: 0.088\n"
     ]
    },
    {
     "name": "stderr",
     "output_type": "stream",
     "text": [
      "C:\\Users\\Siloux\\.conda\\envs\\species-id\\lib\\site-packages\\sklearn\\metrics\\_classification.py:1318: UndefinedMetricWarning: Jaccard is ill-defined and being set to 0.0 in labels with no true or predicted samples. Use `zero_division` parameter to control this behavior.\n",
      "  _warn_prf(average, modifier, msg_start, len(result))\n"
     ]
    },
    {
     "name": "stdout",
     "output_type": "stream",
     "text": [
      "Epoch: 1 [batch 2600/4063 (63.99%)] \n",
      "\tJacc: 0.742 Hamm: 0.017 DistLoss: 0.088\n"
     ]
    },
    {
     "name": "stderr",
     "output_type": "stream",
     "text": [
      "C:\\Users\\Siloux\\.conda\\envs\\species-id\\lib\\site-packages\\sklearn\\metrics\\_classification.py:1318: UndefinedMetricWarning: Jaccard is ill-defined and being set to 0.0 in labels with no true or predicted samples. Use `zero_division` parameter to control this behavior.\n",
      "  _warn_prf(average, modifier, msg_start, len(result))\n"
     ]
    },
    {
     "name": "stdout",
     "output_type": "stream",
     "text": [
      "Epoch: 1 [batch 2610/4063 (64.24%)] \n",
      "\tJacc: 0.485 Hamm: 0.057 DistLoss: 0.088\n"
     ]
    },
    {
     "name": "stderr",
     "output_type": "stream",
     "text": [
      "C:\\Users\\Siloux\\.conda\\envs\\species-id\\lib\\site-packages\\sklearn\\metrics\\_classification.py:1318: UndefinedMetricWarning: Jaccard is ill-defined and being set to 0.0 in labels with no true or predicted samples. Use `zero_division` parameter to control this behavior.\n",
      "  _warn_prf(average, modifier, msg_start, len(result))\n"
     ]
    },
    {
     "name": "stdout",
     "output_type": "stream",
     "text": [
      "Epoch: 1 [batch 2620/4063 (64.48%)] \n",
      "\tJacc: 0.879 Hamm: 0.006 DistLoss: 0.088\n"
     ]
    },
    {
     "name": "stderr",
     "output_type": "stream",
     "text": [
      "C:\\Users\\Siloux\\.conda\\envs\\species-id\\lib\\site-packages\\sklearn\\metrics\\_classification.py:1318: UndefinedMetricWarning: Jaccard is ill-defined and being set to 0.0 in labels with no true or predicted samples. Use `zero_division` parameter to control this behavior.\n",
      "  _warn_prf(average, modifier, msg_start, len(result))\n"
     ]
    },
    {
     "name": "stdout",
     "output_type": "stream",
     "text": [
      "Epoch: 1 [batch 2630/4063 (64.73%)] \n",
      "\tJacc: 0.576 Hamm: 0.028 DistLoss: 0.088\n"
     ]
    },
    {
     "name": "stderr",
     "output_type": "stream",
     "text": [
      "C:\\Users\\Siloux\\.conda\\envs\\species-id\\lib\\site-packages\\sklearn\\metrics\\_classification.py:1318: UndefinedMetricWarning: Jaccard is ill-defined and being set to 0.0 in labels with no true or predicted samples. Use `zero_division` parameter to control this behavior.\n",
      "  _warn_prf(average, modifier, msg_start, len(result))\n"
     ]
    },
    {
     "name": "stdout",
     "output_type": "stream",
     "text": [
      "Epoch: 1 [batch 2640/4063 (64.98%)] \n",
      "\tJacc: 0.515 Hamm: 0.034 DistLoss: 0.088\n"
     ]
    },
    {
     "name": "stderr",
     "output_type": "stream",
     "text": [
      "C:\\Users\\Siloux\\.conda\\envs\\species-id\\lib\\site-packages\\sklearn\\metrics\\_classification.py:1318: UndefinedMetricWarning: Jaccard is ill-defined and being set to 0.0 in labels with no true or predicted samples. Use `zero_division` parameter to control this behavior.\n",
      "  _warn_prf(average, modifier, msg_start, len(result))\n"
     ]
    },
    {
     "name": "stdout",
     "output_type": "stream",
     "text": [
      "Epoch: 1 [batch 2650/4063 (65.22%)] \n",
      "\tJacc: 0.621 Hamm: 0.028 DistLoss: 0.088\n"
     ]
    },
    {
     "name": "stderr",
     "output_type": "stream",
     "text": [
      "C:\\Users\\Siloux\\.conda\\envs\\species-id\\lib\\site-packages\\sklearn\\metrics\\_classification.py:1318: UndefinedMetricWarning: Jaccard is ill-defined and being set to 0.0 in labels with no true or predicted samples. Use `zero_division` parameter to control this behavior.\n",
      "  _warn_prf(average, modifier, msg_start, len(result))\n"
     ]
    },
    {
     "name": "stdout",
     "output_type": "stream",
     "text": [
      "Epoch: 1 [batch 2660/4063 (65.47%)] \n",
      "\tJacc: 0.742 Hamm: 0.034 DistLoss: 0.088\n"
     ]
    },
    {
     "name": "stderr",
     "output_type": "stream",
     "text": [
      "C:\\Users\\Siloux\\.conda\\envs\\species-id\\lib\\site-packages\\sklearn\\metrics\\_classification.py:1318: UndefinedMetricWarning: Jaccard is ill-defined and being set to 0.0 in labels with no true or predicted samples. Use `zero_division` parameter to control this behavior.\n",
      "  _warn_prf(average, modifier, msg_start, len(result))\n"
     ]
    },
    {
     "name": "stdout",
     "output_type": "stream",
     "text": [
      "Epoch: 1 [batch 2670/4063 (65.71%)] \n",
      "\tJacc: 0.568 Hamm: 0.040 DistLoss: 0.088\n"
     ]
    },
    {
     "name": "stderr",
     "output_type": "stream",
     "text": [
      "C:\\Users\\Siloux\\.conda\\envs\\species-id\\lib\\site-packages\\sklearn\\metrics\\_classification.py:1318: UndefinedMetricWarning: Jaccard is ill-defined and being set to 0.0 in labels with no true or predicted samples. Use `zero_division` parameter to control this behavior.\n",
      "  _warn_prf(average, modifier, msg_start, len(result))\n"
     ]
    },
    {
     "name": "stdout",
     "output_type": "stream",
     "text": [
      "Epoch: 1 [batch 2680/4063 (65.96%)] \n",
      "\tJacc: 0.727 Hamm: 0.057 DistLoss: 0.088\n",
      "Epoch: 1 [batch 2690/4063 (66.21%)] \n",
      "\tJacc: 0.467 Hamm: 0.040 DistLoss: 0.088\n"
     ]
    },
    {
     "name": "stderr",
     "output_type": "stream",
     "text": [
      "C:\\Users\\Siloux\\.conda\\envs\\species-id\\lib\\site-packages\\sklearn\\metrics\\_classification.py:1318: UndefinedMetricWarning: Jaccard is ill-defined and being set to 0.0 in labels with no true or predicted samples. Use `zero_division` parameter to control this behavior.\n",
      "  _warn_prf(average, modifier, msg_start, len(result))\n"
     ]
    },
    {
     "name": "stdout",
     "output_type": "stream",
     "text": [
      "Epoch: 1 [batch 2700/4063 (66.45%)] \n",
      "\tJacc: 0.591 Hamm: 0.028 DistLoss: 0.088\n"
     ]
    },
    {
     "name": "stderr",
     "output_type": "stream",
     "text": [
      "C:\\Users\\Siloux\\.conda\\envs\\species-id\\lib\\site-packages\\sklearn\\metrics\\_classification.py:1318: UndefinedMetricWarning: Jaccard is ill-defined and being set to 0.0 in labels with no true or predicted samples. Use `zero_division` parameter to control this behavior.\n",
      "  _warn_prf(average, modifier, msg_start, len(result))\n"
     ]
    },
    {
     "name": "stdout",
     "output_type": "stream",
     "text": [
      "Epoch: 1 [batch 2710/4063 (66.70%)] \n",
      "\tJacc: 0.348 Hamm: 0.091 DistLoss: 0.088\n"
     ]
    },
    {
     "name": "stderr",
     "output_type": "stream",
     "text": [
      "C:\\Users\\Siloux\\.conda\\envs\\species-id\\lib\\site-packages\\sklearn\\metrics\\_classification.py:1318: UndefinedMetricWarning: Jaccard is ill-defined and being set to 0.0 in labels with no true or predicted samples. Use `zero_division` parameter to control this behavior.\n",
      "  _warn_prf(average, modifier, msg_start, len(result))\n"
     ]
    },
    {
     "name": "stdout",
     "output_type": "stream",
     "text": [
      "Epoch: 1 [batch 2720/4063 (66.95%)] \n",
      "\tJacc: 0.500 Hamm: 0.051 DistLoss: 0.088\n"
     ]
    },
    {
     "name": "stderr",
     "output_type": "stream",
     "text": [
      "C:\\Users\\Siloux\\.conda\\envs\\species-id\\lib\\site-packages\\sklearn\\metrics\\_classification.py:1318: UndefinedMetricWarning: Jaccard is ill-defined and being set to 0.0 in labels with no true or predicted samples. Use `zero_division` parameter to control this behavior.\n",
      "  _warn_prf(average, modifier, msg_start, len(result))\n"
     ]
    },
    {
     "name": "stdout",
     "output_type": "stream",
     "text": [
      "Epoch: 1 [batch 2730/4063 (67.19%)] \n",
      "\tJacc: 0.500 Hamm: 0.068 DistLoss: 0.088\n"
     ]
    },
    {
     "name": "stderr",
     "output_type": "stream",
     "text": [
      "C:\\Users\\Siloux\\.conda\\envs\\species-id\\lib\\site-packages\\sklearn\\metrics\\_classification.py:1318: UndefinedMetricWarning: Jaccard is ill-defined and being set to 0.0 in labels with no true or predicted samples. Use `zero_division` parameter to control this behavior.\n",
      "  _warn_prf(average, modifier, msg_start, len(result))\n"
     ]
    },
    {
     "name": "stdout",
     "output_type": "stream",
     "text": [
      "Epoch: 1 [batch 2740/4063 (67.44%)] \n",
      "\tJacc: 0.470 Hamm: 0.051 DistLoss: 0.088\n"
     ]
    },
    {
     "name": "stderr",
     "output_type": "stream",
     "text": [
      "C:\\Users\\Siloux\\.conda\\envs\\species-id\\lib\\site-packages\\sklearn\\metrics\\_classification.py:1318: UndefinedMetricWarning: Jaccard is ill-defined and being set to 0.0 in labels with no true or predicted samples. Use `zero_division` parameter to control this behavior.\n",
      "  _warn_prf(average, modifier, msg_start, len(result))\n"
     ]
    },
    {
     "name": "stdout",
     "output_type": "stream",
     "text": [
      "Epoch: 1 [batch 2750/4063 (67.68%)] \n",
      "\tJacc: 0.524 Hamm: 0.051 DistLoss: 0.088\n"
     ]
    },
    {
     "name": "stderr",
     "output_type": "stream",
     "text": [
      "C:\\Users\\Siloux\\.conda\\envs\\species-id\\lib\\site-packages\\sklearn\\metrics\\_classification.py:1318: UndefinedMetricWarning: Jaccard is ill-defined and being set to 0.0 in labels with no true or predicted samples. Use `zero_division` parameter to control this behavior.\n",
      "  _warn_prf(average, modifier, msg_start, len(result))\n"
     ]
    },
    {
     "name": "stdout",
     "output_type": "stream",
     "text": [
      "Epoch: 1 [batch 2760/4063 (67.93%)] \n",
      "\tJacc: 0.432 Hamm: 0.074 DistLoss: 0.088\n",
      "Epoch: 1 [batch 2770/4063 (68.18%)] \n",
      "\tJacc: 0.750 Hamm: 0.023 DistLoss: 0.088\n"
     ]
    },
    {
     "name": "stderr",
     "output_type": "stream",
     "text": [
      "C:\\Users\\Siloux\\.conda\\envs\\species-id\\lib\\site-packages\\sklearn\\metrics\\_classification.py:1318: UndefinedMetricWarning: Jaccard is ill-defined and being set to 0.0 in labels with no true or predicted samples. Use `zero_division` parameter to control this behavior.\n",
      "  _warn_prf(average, modifier, msg_start, len(result))\n"
     ]
    },
    {
     "name": "stdout",
     "output_type": "stream",
     "text": [
      "Epoch: 1 [batch 2780/4063 (68.42%)] \n",
      "\tJacc: 0.273 Hamm: 0.068 DistLoss: 0.088\n"
     ]
    },
    {
     "name": "stderr",
     "output_type": "stream",
     "text": [
      "C:\\Users\\Siloux\\.conda\\envs\\species-id\\lib\\site-packages\\sklearn\\metrics\\_classification.py:1318: UndefinedMetricWarning: Jaccard is ill-defined and being set to 0.0 in labels with no true or predicted samples. Use `zero_division` parameter to control this behavior.\n",
      "  _warn_prf(average, modifier, msg_start, len(result))\n"
     ]
    },
    {
     "name": "stdout",
     "output_type": "stream",
     "text": [
      "Epoch: 1 [batch 2790/4063 (68.67%)] \n",
      "\tJacc: 0.682 Hamm: 0.011 DistLoss: 0.088\n"
     ]
    },
    {
     "name": "stderr",
     "output_type": "stream",
     "text": [
      "C:\\Users\\Siloux\\.conda\\envs\\species-id\\lib\\site-packages\\sklearn\\metrics\\_classification.py:1318: UndefinedMetricWarning: Jaccard is ill-defined and being set to 0.0 in labels with no true or predicted samples. Use `zero_division` parameter to control this behavior.\n",
      "  _warn_prf(average, modifier, msg_start, len(result))\n"
     ]
    },
    {
     "name": "stdout",
     "output_type": "stream",
     "text": [
      "Epoch: 1 [batch 2800/4063 (68.91%)] \n",
      "\tJacc: 0.561 Hamm: 0.023 DistLoss: 0.088\n"
     ]
    },
    {
     "name": "stderr",
     "output_type": "stream",
     "text": [
      "C:\\Users\\Siloux\\.conda\\envs\\species-id\\lib\\site-packages\\sklearn\\metrics\\_classification.py:1318: UndefinedMetricWarning: Jaccard is ill-defined and being set to 0.0 in labels with no true or predicted samples. Use `zero_division` parameter to control this behavior.\n",
      "  _warn_prf(average, modifier, msg_start, len(result))\n"
     ]
    },
    {
     "name": "stdout",
     "output_type": "stream",
     "text": [
      "Epoch: 1 [batch 2810/4063 (69.16%)] \n",
      "\tJacc: 0.614 Hamm: 0.045 DistLoss: 0.088\n"
     ]
    },
    {
     "name": "stderr",
     "output_type": "stream",
     "text": [
      "C:\\Users\\Siloux\\.conda\\envs\\species-id\\lib\\site-packages\\sklearn\\metrics\\_classification.py:1318: UndefinedMetricWarning: Jaccard is ill-defined and being set to 0.0 in labels with no true or predicted samples. Use `zero_division` parameter to control this behavior.\n",
      "  _warn_prf(average, modifier, msg_start, len(result))\n"
     ]
    },
    {
     "name": "stdout",
     "output_type": "stream",
     "text": [
      "Epoch: 1 [batch 2820/4063 (69.41%)] \n",
      "\tJacc: 0.538 Hamm: 0.028 DistLoss: 0.088\n"
     ]
    },
    {
     "name": "stderr",
     "output_type": "stream",
     "text": [
      "C:\\Users\\Siloux\\.conda\\envs\\species-id\\lib\\site-packages\\sklearn\\metrics\\_classification.py:1318: UndefinedMetricWarning: Jaccard is ill-defined and being set to 0.0 in labels with no true or predicted samples. Use `zero_division` parameter to control this behavior.\n",
      "  _warn_prf(average, modifier, msg_start, len(result))\n"
     ]
    },
    {
     "name": "stdout",
     "output_type": "stream",
     "text": [
      "Epoch: 1 [batch 2830/4063 (69.65%)] \n",
      "\tJacc: 0.576 Hamm: 0.023 DistLoss: 0.088\n"
     ]
    },
    {
     "name": "stderr",
     "output_type": "stream",
     "text": [
      "C:\\Users\\Siloux\\.conda\\envs\\species-id\\lib\\site-packages\\sklearn\\metrics\\_classification.py:1318: UndefinedMetricWarning: Jaccard is ill-defined and being set to 0.0 in labels with no true or predicted samples. Use `zero_division` parameter to control this behavior.\n",
      "  _warn_prf(average, modifier, msg_start, len(result))\n"
     ]
    },
    {
     "name": "stdout",
     "output_type": "stream",
     "text": [
      "Epoch: 1 [batch 2840/4063 (69.90%)] \n",
      "\tJacc: 0.659 Hamm: 0.023 DistLoss: 0.088\n"
     ]
    },
    {
     "name": "stderr",
     "output_type": "stream",
     "text": [
      "C:\\Users\\Siloux\\.conda\\envs\\species-id\\lib\\site-packages\\sklearn\\metrics\\_classification.py:1318: UndefinedMetricWarning: Jaccard is ill-defined and being set to 0.0 in labels with no true or predicted samples. Use `zero_division` parameter to control this behavior.\n",
      "  _warn_prf(average, modifier, msg_start, len(result))\n"
     ]
    },
    {
     "name": "stdout",
     "output_type": "stream",
     "text": [
      "Epoch: 1 [batch 2850/4063 (70.15%)] \n",
      "\tJacc: 0.727 Hamm: 0.034 DistLoss: 0.088\n"
     ]
    },
    {
     "name": "stderr",
     "output_type": "stream",
     "text": [
      "C:\\Users\\Siloux\\.conda\\envs\\species-id\\lib\\site-packages\\sklearn\\metrics\\_classification.py:1318: UndefinedMetricWarning: Jaccard is ill-defined and being set to 0.0 in labels with no true or predicted samples. Use `zero_division` parameter to control this behavior.\n",
      "  _warn_prf(average, modifier, msg_start, len(result))\n"
     ]
    },
    {
     "name": "stdout",
     "output_type": "stream",
     "text": [
      "Epoch: 1 [batch 2860/4063 (70.39%)] \n",
      "\tJacc: 0.439 Hamm: 0.057 DistLoss: 0.088\n"
     ]
    },
    {
     "name": "stderr",
     "output_type": "stream",
     "text": [
      "C:\\Users\\Siloux\\.conda\\envs\\species-id\\lib\\site-packages\\sklearn\\metrics\\_classification.py:1318: UndefinedMetricWarning: Jaccard is ill-defined and being set to 0.0 in labels with no true or predicted samples. Use `zero_division` parameter to control this behavior.\n",
      "  _warn_prf(average, modifier, msg_start, len(result))\n"
     ]
    },
    {
     "name": "stdout",
     "output_type": "stream",
     "text": [
      "Epoch: 1 [batch 2870/4063 (70.64%)] \n",
      "\tJacc: 0.673 Hamm: 0.034 DistLoss: 0.088\n"
     ]
    },
    {
     "name": "stderr",
     "output_type": "stream",
     "text": [
      "C:\\Users\\Siloux\\.conda\\envs\\species-id\\lib\\site-packages\\sklearn\\metrics\\_classification.py:1318: UndefinedMetricWarning: Jaccard is ill-defined and being set to 0.0 in labels with no true or predicted samples. Use `zero_division` parameter to control this behavior.\n",
      "  _warn_prf(average, modifier, msg_start, len(result))\n"
     ]
    },
    {
     "name": "stdout",
     "output_type": "stream",
     "text": [
      "Epoch: 1 [batch 2880/4063 (70.88%)] \n",
      "\tJacc: 0.364 Hamm: 0.091 DistLoss: 0.088\n"
     ]
    },
    {
     "name": "stderr",
     "output_type": "stream",
     "text": [
      "C:\\Users\\Siloux\\.conda\\envs\\species-id\\lib\\site-packages\\sklearn\\metrics\\_classification.py:1318: UndefinedMetricWarning: Jaccard is ill-defined and being set to 0.0 in labels with no true or predicted samples. Use `zero_division` parameter to control this behavior.\n",
      "  _warn_prf(average, modifier, msg_start, len(result))\n"
     ]
    },
    {
     "name": "stdout",
     "output_type": "stream",
     "text": [
      "Epoch: 1 [batch 2890/4063 (71.13%)] \n",
      "\tJacc: 0.545 Hamm: 0.057 DistLoss: 0.088\n"
     ]
    },
    {
     "name": "stderr",
     "output_type": "stream",
     "text": [
      "C:\\Users\\Siloux\\.conda\\envs\\species-id\\lib\\site-packages\\sklearn\\metrics\\_classification.py:1318: UndefinedMetricWarning: Jaccard is ill-defined and being set to 0.0 in labels with no true or predicted samples. Use `zero_division` parameter to control this behavior.\n",
      "  _warn_prf(average, modifier, msg_start, len(result))\n"
     ]
    },
    {
     "name": "stdout",
     "output_type": "stream",
     "text": [
      "Epoch: 1 [batch 2900/4063 (71.38%)] \n",
      "\tJacc: 0.636 Hamm: 0.051 DistLoss: 0.088\n",
      "Epoch: 1 [batch 2910/4063 (71.62%)] \n",
      "\tJacc: 0.614 Hamm: 0.034 DistLoss: 0.088\n"
     ]
    },
    {
     "name": "stderr",
     "output_type": "stream",
     "text": [
      "C:\\Users\\Siloux\\.conda\\envs\\species-id\\lib\\site-packages\\sklearn\\metrics\\_classification.py:1318: UndefinedMetricWarning: Jaccard is ill-defined and being set to 0.0 in labels with no true or predicted samples. Use `zero_division` parameter to control this behavior.\n",
      "  _warn_prf(average, modifier, msg_start, len(result))\n"
     ]
    },
    {
     "name": "stdout",
     "output_type": "stream",
     "text": [
      "Epoch: 1 [batch 2920/4063 (71.87%)] \n",
      "\tJacc: 0.485 Hamm: 0.034 DistLoss: 0.088\n"
     ]
    },
    {
     "name": "stderr",
     "output_type": "stream",
     "text": [
      "C:\\Users\\Siloux\\.conda\\envs\\species-id\\lib\\site-packages\\sklearn\\metrics\\_classification.py:1318: UndefinedMetricWarning: Jaccard is ill-defined and being set to 0.0 in labels with no true or predicted samples. Use `zero_division` parameter to control this behavior.\n",
      "  _warn_prf(average, modifier, msg_start, len(result))\n"
     ]
    },
    {
     "name": "stdout",
     "output_type": "stream",
     "text": [
      "Epoch: 1 [batch 2930/4063 (72.11%)] \n",
      "\tJacc: 0.573 Hamm: 0.023 DistLoss: 0.088\n"
     ]
    },
    {
     "name": "stderr",
     "output_type": "stream",
     "text": [
      "C:\\Users\\Siloux\\.conda\\envs\\species-id\\lib\\site-packages\\sklearn\\metrics\\_classification.py:1318: UndefinedMetricWarning: Jaccard is ill-defined and being set to 0.0 in labels with no true or predicted samples. Use `zero_division` parameter to control this behavior.\n",
      "  _warn_prf(average, modifier, msg_start, len(result))\n"
     ]
    },
    {
     "name": "stdout",
     "output_type": "stream",
     "text": [
      "Epoch: 1 [batch 2940/4063 (72.36%)] \n",
      "\tJacc: 0.758 Hamm: 0.017 DistLoss: 0.088\n"
     ]
    },
    {
     "name": "stderr",
     "output_type": "stream",
     "text": [
      "C:\\Users\\Siloux\\.conda\\envs\\species-id\\lib\\site-packages\\sklearn\\metrics\\_classification.py:1318: UndefinedMetricWarning: Jaccard is ill-defined and being set to 0.0 in labels with no true or predicted samples. Use `zero_division` parameter to control this behavior.\n",
      "  _warn_prf(average, modifier, msg_start, len(result))\n"
     ]
    },
    {
     "name": "stdout",
     "output_type": "stream",
     "text": [
      "Epoch: 1 [batch 2950/4063 (72.61%)] \n",
      "\tJacc: 0.530 Hamm: 0.034 DistLoss: 0.088\n"
     ]
    },
    {
     "name": "stderr",
     "output_type": "stream",
     "text": [
      "C:\\Users\\Siloux\\.conda\\envs\\species-id\\lib\\site-packages\\sklearn\\metrics\\_classification.py:1318: UndefinedMetricWarning: Jaccard is ill-defined and being set to 0.0 in labels with no true or predicted samples. Use `zero_division` parameter to control this behavior.\n",
      "  _warn_prf(average, modifier, msg_start, len(result))\n"
     ]
    },
    {
     "name": "stdout",
     "output_type": "stream",
     "text": [
      "Epoch: 1 [batch 2960/4063 (72.85%)] \n",
      "\tJacc: 0.773 Hamm: 0.034 DistLoss: 0.088\n",
      "Epoch: 1 [batch 2970/4063 (73.10%)] \n",
      "\tJacc: 0.583 Hamm: 0.057 DistLoss: 0.087\n",
      "Epoch: 1 [batch 2980/4063 (73.34%)] \n",
      "\tJacc: 0.341 Hamm: 0.085 DistLoss: 0.088\n"
     ]
    },
    {
     "name": "stderr",
     "output_type": "stream",
     "text": [
      "C:\\Users\\Siloux\\.conda\\envs\\species-id\\lib\\site-packages\\sklearn\\metrics\\_classification.py:1318: UndefinedMetricWarning: Jaccard is ill-defined and being set to 0.0 in labels with no true or predicted samples. Use `zero_division` parameter to control this behavior.\n",
      "  _warn_prf(average, modifier, msg_start, len(result))\n"
     ]
    },
    {
     "name": "stdout",
     "output_type": "stream",
     "text": [
      "Epoch: 1 [batch 2990/4063 (73.59%)] \n",
      "\tJacc: 0.568 Hamm: 0.017 DistLoss: 0.088\n"
     ]
    },
    {
     "name": "stderr",
     "output_type": "stream",
     "text": [
      "C:\\Users\\Siloux\\.conda\\envs\\species-id\\lib\\site-packages\\sklearn\\metrics\\_classification.py:1318: UndefinedMetricWarning: Jaccard is ill-defined and being set to 0.0 in labels with no true or predicted samples. Use `zero_division` parameter to control this behavior.\n",
      "  _warn_prf(average, modifier, msg_start, len(result))\n"
     ]
    },
    {
     "name": "stdout",
     "output_type": "stream",
     "text": [
      "Epoch: 1 [batch 3000/4063 (73.84%)] \n",
      "\tJacc: 0.621 Hamm: 0.034 DistLoss: 0.087\n"
     ]
    },
    {
     "name": "stderr",
     "output_type": "stream",
     "text": [
      "C:\\Users\\Siloux\\.conda\\envs\\species-id\\lib\\site-packages\\sklearn\\metrics\\_classification.py:1318: UndefinedMetricWarning: Jaccard is ill-defined and being set to 0.0 in labels with no true or predicted samples. Use `zero_division` parameter to control this behavior.\n",
      "  _warn_prf(average, modifier, msg_start, len(result))\n"
     ]
    },
    {
     "name": "stdout",
     "output_type": "stream",
     "text": [
      "Epoch: 1 [batch 3010/4063 (74.08%)] \n",
      "\tJacc: 0.629 Hamm: 0.023 DistLoss: 0.087\n"
     ]
    },
    {
     "name": "stderr",
     "output_type": "stream",
     "text": [
      "C:\\Users\\Siloux\\.conda\\envs\\species-id\\lib\\site-packages\\sklearn\\metrics\\_classification.py:1318: UndefinedMetricWarning: Jaccard is ill-defined and being set to 0.0 in labels with no true or predicted samples. Use `zero_division` parameter to control this behavior.\n",
      "  _warn_prf(average, modifier, msg_start, len(result))\n"
     ]
    },
    {
     "name": "stdout",
     "output_type": "stream",
     "text": [
      "Epoch: 1 [batch 3020/4063 (74.33%)] \n",
      "\tJacc: 0.742 Hamm: 0.028 DistLoss: 0.087\n"
     ]
    },
    {
     "name": "stderr",
     "output_type": "stream",
     "text": [
      "C:\\Users\\Siloux\\.conda\\envs\\species-id\\lib\\site-packages\\sklearn\\metrics\\_classification.py:1318: UndefinedMetricWarning: Jaccard is ill-defined and being set to 0.0 in labels with no true or predicted samples. Use `zero_division` parameter to control this behavior.\n",
      "  _warn_prf(average, modifier, msg_start, len(result))\n"
     ]
    },
    {
     "name": "stdout",
     "output_type": "stream",
     "text": [
      "Epoch: 1 [batch 3030/4063 (74.58%)] \n",
      "\tJacc: 0.652 Hamm: 0.028 DistLoss: 0.087\n"
     ]
    },
    {
     "name": "stderr",
     "output_type": "stream",
     "text": [
      "C:\\Users\\Siloux\\.conda\\envs\\species-id\\lib\\site-packages\\sklearn\\metrics\\_classification.py:1318: UndefinedMetricWarning: Jaccard is ill-defined and being set to 0.0 in labels with no true or predicted samples. Use `zero_division` parameter to control this behavior.\n",
      "  _warn_prf(average, modifier, msg_start, len(result))\n"
     ]
    },
    {
     "name": "stdout",
     "output_type": "stream",
     "text": [
      "Epoch: 1 [batch 3040/4063 (74.82%)] \n",
      "\tJacc: 0.455 Hamm: 0.062 DistLoss: 0.087\n"
     ]
    },
    {
     "name": "stderr",
     "output_type": "stream",
     "text": [
      "C:\\Users\\Siloux\\.conda\\envs\\species-id\\lib\\site-packages\\sklearn\\metrics\\_classification.py:1318: UndefinedMetricWarning: Jaccard is ill-defined and being set to 0.0 in labels with no true or predicted samples. Use `zero_division` parameter to control this behavior.\n",
      "  _warn_prf(average, modifier, msg_start, len(result))\n"
     ]
    },
    {
     "name": "stdout",
     "output_type": "stream",
     "text": [
      "Epoch: 1 [batch 3050/4063 (75.07%)] \n",
      "\tJacc: 0.652 Hamm: 0.028 DistLoss: 0.087\n"
     ]
    },
    {
     "name": "stderr",
     "output_type": "stream",
     "text": [
      "C:\\Users\\Siloux\\.conda\\envs\\species-id\\lib\\site-packages\\sklearn\\metrics\\_classification.py:1318: UndefinedMetricWarning: Jaccard is ill-defined and being set to 0.0 in labels with no true or predicted samples. Use `zero_division` parameter to control this behavior.\n",
      "  _warn_prf(average, modifier, msg_start, len(result))\n"
     ]
    },
    {
     "name": "stdout",
     "output_type": "stream",
     "text": [
      "Epoch: 1 [batch 3060/4063 (75.31%)] \n",
      "\tJacc: 0.682 Hamm: 0.028 DistLoss: 0.087\n",
      "Epoch: 1 [batch 3070/4063 (75.56%)] \n",
      "\tJacc: 0.455 Hamm: 0.045 DistLoss: 0.087\n"
     ]
    },
    {
     "name": "stderr",
     "output_type": "stream",
     "text": [
      "C:\\Users\\Siloux\\.conda\\envs\\species-id\\lib\\site-packages\\sklearn\\metrics\\_classification.py:1318: UndefinedMetricWarning: Jaccard is ill-defined and being set to 0.0 in labels with no true or predicted samples. Use `zero_division` parameter to control this behavior.\n",
      "  _warn_prf(average, modifier, msg_start, len(result))\n"
     ]
    },
    {
     "name": "stdout",
     "output_type": "stream",
     "text": [
      "Epoch: 1 [batch 3080/4063 (75.81%)] \n",
      "\tJacc: 0.727 Hamm: 0.028 DistLoss: 0.087\n"
     ]
    },
    {
     "name": "stderr",
     "output_type": "stream",
     "text": [
      "C:\\Users\\Siloux\\.conda\\envs\\species-id\\lib\\site-packages\\sklearn\\metrics\\_classification.py:1318: UndefinedMetricWarning: Jaccard is ill-defined and being set to 0.0 in labels with no true or predicted samples. Use `zero_division` parameter to control this behavior.\n",
      "  _warn_prf(average, modifier, msg_start, len(result))\n"
     ]
    },
    {
     "name": "stdout",
     "output_type": "stream",
     "text": [
      "Epoch: 1 [batch 3090/4063 (76.05%)] \n",
      "\tJacc: 0.818 Hamm: 0.000 DistLoss: 0.087\n"
     ]
    },
    {
     "name": "stderr",
     "output_type": "stream",
     "text": [
      "C:\\Users\\Siloux\\.conda\\envs\\species-id\\lib\\site-packages\\sklearn\\metrics\\_classification.py:1318: UndefinedMetricWarning: Jaccard is ill-defined and being set to 0.0 in labels with no true or predicted samples. Use `zero_division` parameter to control this behavior.\n",
      "  _warn_prf(average, modifier, msg_start, len(result))\n"
     ]
    },
    {
     "name": "stdout",
     "output_type": "stream",
     "text": [
      "Epoch: 1 [batch 3100/4063 (76.30%)] \n",
      "\tJacc: 0.561 Hamm: 0.040 DistLoss: 0.087\n"
     ]
    },
    {
     "name": "stderr",
     "output_type": "stream",
     "text": [
      "C:\\Users\\Siloux\\.conda\\envs\\species-id\\lib\\site-packages\\sklearn\\metrics\\_classification.py:1318: UndefinedMetricWarning: Jaccard is ill-defined and being set to 0.0 in labels with no true or predicted samples. Use `zero_division` parameter to control this behavior.\n",
      "  _warn_prf(average, modifier, msg_start, len(result))\n"
     ]
    },
    {
     "name": "stdout",
     "output_type": "stream",
     "text": [
      "Epoch: 1 [batch 3110/4063 (76.54%)] \n",
      "\tJacc: 0.682 Hamm: 0.017 DistLoss: 0.087\n"
     ]
    },
    {
     "name": "stderr",
     "output_type": "stream",
     "text": [
      "C:\\Users\\Siloux\\.conda\\envs\\species-id\\lib\\site-packages\\sklearn\\metrics\\_classification.py:1318: UndefinedMetricWarning: Jaccard is ill-defined and being set to 0.0 in labels with no true or predicted samples. Use `zero_division` parameter to control this behavior.\n",
      "  _warn_prf(average, modifier, msg_start, len(result))\n"
     ]
    },
    {
     "name": "stdout",
     "output_type": "stream",
     "text": [
      "Epoch: 1 [batch 3120/4063 (76.79%)] \n",
      "\tJacc: 0.773 Hamm: 0.011 DistLoss: 0.087\n"
     ]
    },
    {
     "name": "stderr",
     "output_type": "stream",
     "text": [
      "C:\\Users\\Siloux\\.conda\\envs\\species-id\\lib\\site-packages\\sklearn\\metrics\\_classification.py:1318: UndefinedMetricWarning: Jaccard is ill-defined and being set to 0.0 in labels with no true or predicted samples. Use `zero_division` parameter to control this behavior.\n",
      "  _warn_prf(average, modifier, msg_start, len(result))\n"
     ]
    },
    {
     "name": "stdout",
     "output_type": "stream",
     "text": [
      "Epoch: 1 [batch 3130/4063 (77.04%)] \n",
      "\tJacc: 0.705 Hamm: 0.028 DistLoss: 0.087\n"
     ]
    },
    {
     "name": "stderr",
     "output_type": "stream",
     "text": [
      "C:\\Users\\Siloux\\.conda\\envs\\species-id\\lib\\site-packages\\sklearn\\metrics\\_classification.py:1318: UndefinedMetricWarning: Jaccard is ill-defined and being set to 0.0 in labels with no true or predicted samples. Use `zero_division` parameter to control this behavior.\n",
      "  _warn_prf(average, modifier, msg_start, len(result))\n"
     ]
    },
    {
     "name": "stdout",
     "output_type": "stream",
     "text": [
      "Epoch: 1 [batch 3140/4063 (77.28%)] \n",
      "\tJacc: 0.652 Hamm: 0.023 DistLoss: 0.087\n"
     ]
    },
    {
     "name": "stderr",
     "output_type": "stream",
     "text": [
      "C:\\Users\\Siloux\\.conda\\envs\\species-id\\lib\\site-packages\\sklearn\\metrics\\_classification.py:1318: UndefinedMetricWarning: Jaccard is ill-defined and being set to 0.0 in labels with no true or predicted samples. Use `zero_division` parameter to control this behavior.\n",
      "  _warn_prf(average, modifier, msg_start, len(result))\n"
     ]
    },
    {
     "name": "stdout",
     "output_type": "stream",
     "text": [
      "Epoch: 1 [batch 3150/4063 (77.53%)] \n",
      "\tJacc: 0.423 Hamm: 0.068 DistLoss: 0.087\n",
      "Epoch: 1 [batch 3160/4063 (77.78%)] \n",
      "\tJacc: 0.606 Hamm: 0.051 DistLoss: 0.087\n",
      "Epoch: 1 [batch 3170/4063 (78.02%)] \n",
      "\tJacc: 0.652 Hamm: 0.045 DistLoss: 0.087\n"
     ]
    },
    {
     "name": "stderr",
     "output_type": "stream",
     "text": [
      "C:\\Users\\Siloux\\.conda\\envs\\species-id\\lib\\site-packages\\sklearn\\metrics\\_classification.py:1318: UndefinedMetricWarning: Jaccard is ill-defined and being set to 0.0 in labels with no true or predicted samples. Use `zero_division` parameter to control this behavior.\n",
      "  _warn_prf(average, modifier, msg_start, len(result))\n"
     ]
    },
    {
     "name": "stdout",
     "output_type": "stream",
     "text": [
      "Epoch: 1 [batch 3180/4063 (78.27%)] \n",
      "\tJacc: 0.591 Hamm: 0.051 DistLoss: 0.087\n"
     ]
    },
    {
     "name": "stderr",
     "output_type": "stream",
     "text": [
      "C:\\Users\\Siloux\\.conda\\envs\\species-id\\lib\\site-packages\\sklearn\\metrics\\_classification.py:1318: UndefinedMetricWarning: Jaccard is ill-defined and being set to 0.0 in labels with no true or predicted samples. Use `zero_division` parameter to control this behavior.\n",
      "  _warn_prf(average, modifier, msg_start, len(result))\n"
     ]
    },
    {
     "name": "stdout",
     "output_type": "stream",
     "text": [
      "Epoch: 1 [batch 3190/4063 (78.51%)] \n",
      "\tJacc: 0.682 Hamm: 0.011 DistLoss: 0.087\n"
     ]
    },
    {
     "name": "stderr",
     "output_type": "stream",
     "text": [
      "C:\\Users\\Siloux\\.conda\\envs\\species-id\\lib\\site-packages\\sklearn\\metrics\\_classification.py:1318: UndefinedMetricWarning: Jaccard is ill-defined and being set to 0.0 in labels with no true or predicted samples. Use `zero_division` parameter to control this behavior.\n",
      "  _warn_prf(average, modifier, msg_start, len(result))\n"
     ]
    },
    {
     "name": "stdout",
     "output_type": "stream",
     "text": [
      "Epoch: 1 [batch 3200/4063 (78.76%)] \n",
      "\tJacc: 0.636 Hamm: 0.034 DistLoss: 0.087\n"
     ]
    },
    {
     "name": "stderr",
     "output_type": "stream",
     "text": [
      "C:\\Users\\Siloux\\.conda\\envs\\species-id\\lib\\site-packages\\sklearn\\metrics\\_classification.py:1318: UndefinedMetricWarning: Jaccard is ill-defined and being set to 0.0 in labels with no true or predicted samples. Use `zero_division` parameter to control this behavior.\n",
      "  _warn_prf(average, modifier, msg_start, len(result))\n"
     ]
    },
    {
     "name": "stdout",
     "output_type": "stream",
     "text": [
      "Epoch: 1 [batch 3210/4063 (79.01%)] \n",
      "\tJacc: 0.485 Hamm: 0.040 DistLoss: 0.087\n"
     ]
    },
    {
     "name": "stderr",
     "output_type": "stream",
     "text": [
      "C:\\Users\\Siloux\\.conda\\envs\\species-id\\lib\\site-packages\\sklearn\\metrics\\_classification.py:1318: UndefinedMetricWarning: Jaccard is ill-defined and being set to 0.0 in labels with no true or predicted samples. Use `zero_division` parameter to control this behavior.\n",
      "  _warn_prf(average, modifier, msg_start, len(result))\n"
     ]
    },
    {
     "name": "stdout",
     "output_type": "stream",
     "text": [
      "Epoch: 1 [batch 3220/4063 (79.25%)] \n",
      "\tJacc: 0.530 Hamm: 0.045 DistLoss: 0.087\n"
     ]
    },
    {
     "name": "stderr",
     "output_type": "stream",
     "text": [
      "C:\\Users\\Siloux\\.conda\\envs\\species-id\\lib\\site-packages\\sklearn\\metrics\\_classification.py:1318: UndefinedMetricWarning: Jaccard is ill-defined and being set to 0.0 in labels with no true or predicted samples. Use `zero_division` parameter to control this behavior.\n",
      "  _warn_prf(average, modifier, msg_start, len(result))\n"
     ]
    },
    {
     "name": "stdout",
     "output_type": "stream",
     "text": [
      "Epoch: 1 [batch 3230/4063 (79.50%)] \n",
      "\tJacc: 0.492 Hamm: 0.062 DistLoss: 0.087\n"
     ]
    },
    {
     "name": "stderr",
     "output_type": "stream",
     "text": [
      "C:\\Users\\Siloux\\.conda\\envs\\species-id\\lib\\site-packages\\sklearn\\metrics\\_classification.py:1318: UndefinedMetricWarning: Jaccard is ill-defined and being set to 0.0 in labels with no true or predicted samples. Use `zero_division` parameter to control this behavior.\n",
      "  _warn_prf(average, modifier, msg_start, len(result))\n"
     ]
    },
    {
     "name": "stdout",
     "output_type": "stream",
     "text": [
      "Epoch: 1 [batch 3240/4063 (79.74%)] \n",
      "\tJacc: 0.527 Hamm: 0.028 DistLoss: 0.087\n"
     ]
    },
    {
     "name": "stderr",
     "output_type": "stream",
     "text": [
      "C:\\Users\\Siloux\\.conda\\envs\\species-id\\lib\\site-packages\\sklearn\\metrics\\_classification.py:1318: UndefinedMetricWarning: Jaccard is ill-defined and being set to 0.0 in labels with no true or predicted samples. Use `zero_division` parameter to control this behavior.\n",
      "  _warn_prf(average, modifier, msg_start, len(result))\n"
     ]
    },
    {
     "name": "stdout",
     "output_type": "stream",
     "text": [
      "Epoch: 1 [batch 3250/4063 (79.99%)] \n",
      "\tJacc: 0.659 Hamm: 0.023 DistLoss: 0.087\n"
     ]
    },
    {
     "name": "stderr",
     "output_type": "stream",
     "text": [
      "C:\\Users\\Siloux\\.conda\\envs\\species-id\\lib\\site-packages\\sklearn\\metrics\\_classification.py:1318: UndefinedMetricWarning: Jaccard is ill-defined and being set to 0.0 in labels with no true or predicted samples. Use `zero_division` parameter to control this behavior.\n",
      "  _warn_prf(average, modifier, msg_start, len(result))\n"
     ]
    },
    {
     "name": "stdout",
     "output_type": "stream",
     "text": [
      "Epoch: 1 [batch 3260/4063 (80.24%)] \n",
      "\tJacc: 0.545 Hamm: 0.040 DistLoss: 0.087\n",
      "Epoch: 1 [batch 3270/4063 (80.48%)] \n",
      "\tJacc: 1.000 Hamm: 0.000 DistLoss: 0.087\n",
      "Epoch: 1 [batch 3280/4063 (80.73%)] \n",
      "\tJacc: 0.712 Hamm: 0.028 DistLoss: 0.087\n"
     ]
    },
    {
     "name": "stderr",
     "output_type": "stream",
     "text": [
      "C:\\Users\\Siloux\\.conda\\envs\\species-id\\lib\\site-packages\\sklearn\\metrics\\_classification.py:1318: UndefinedMetricWarning: Jaccard is ill-defined and being set to 0.0 in labels with no true or predicted samples. Use `zero_division` parameter to control this behavior.\n",
      "  _warn_prf(average, modifier, msg_start, len(result))\n"
     ]
    },
    {
     "name": "stdout",
     "output_type": "stream",
     "text": [
      "Epoch: 1 [batch 3290/4063 (80.97%)] \n",
      "\tJacc: 0.432 Hamm: 0.045 DistLoss: 0.087\n"
     ]
    },
    {
     "name": "stderr",
     "output_type": "stream",
     "text": [
      "C:\\Users\\Siloux\\.conda\\envs\\species-id\\lib\\site-packages\\sklearn\\metrics\\_classification.py:1318: UndefinedMetricWarning: Jaccard is ill-defined and being set to 0.0 in labels with no true or predicted samples. Use `zero_division` parameter to control this behavior.\n",
      "  _warn_prf(average, modifier, msg_start, len(result))\n"
     ]
    },
    {
     "name": "stdout",
     "output_type": "stream",
     "text": [
      "Epoch: 1 [batch 3300/4063 (81.22%)] \n",
      "\tJacc: 0.742 Hamm: 0.017 DistLoss: 0.087\n"
     ]
    },
    {
     "name": "stderr",
     "output_type": "stream",
     "text": [
      "C:\\Users\\Siloux\\.conda\\envs\\species-id\\lib\\site-packages\\sklearn\\metrics\\_classification.py:1318: UndefinedMetricWarning: Jaccard is ill-defined and being set to 0.0 in labels with no true or predicted samples. Use `zero_division` parameter to control this behavior.\n",
      "  _warn_prf(average, modifier, msg_start, len(result))\n"
     ]
    },
    {
     "name": "stdout",
     "output_type": "stream",
     "text": [
      "Epoch: 1 [batch 3310/4063 (81.47%)] \n",
      "\tJacc: 0.467 Hamm: 0.034 DistLoss: 0.087\n"
     ]
    },
    {
     "name": "stderr",
     "output_type": "stream",
     "text": [
      "C:\\Users\\Siloux\\.conda\\envs\\species-id\\lib\\site-packages\\sklearn\\metrics\\_classification.py:1318: UndefinedMetricWarning: Jaccard is ill-defined and being set to 0.0 in labels with no true or predicted samples. Use `zero_division` parameter to control this behavior.\n",
      "  _warn_prf(average, modifier, msg_start, len(result))\n"
     ]
    },
    {
     "name": "stdout",
     "output_type": "stream",
     "text": [
      "Epoch: 1 [batch 3320/4063 (81.71%)] \n",
      "\tJacc: 0.758 Hamm: 0.017 DistLoss: 0.087\n"
     ]
    },
    {
     "name": "stderr",
     "output_type": "stream",
     "text": [
      "C:\\Users\\Siloux\\.conda\\envs\\species-id\\lib\\site-packages\\sklearn\\metrics\\_classification.py:1318: UndefinedMetricWarning: Jaccard is ill-defined and being set to 0.0 in labels with no true or predicted samples. Use `zero_division` parameter to control this behavior.\n",
      "  _warn_prf(average, modifier, msg_start, len(result))\n"
     ]
    },
    {
     "name": "stdout",
     "output_type": "stream",
     "text": [
      "Epoch: 1 [batch 3330/4063 (81.96%)] \n",
      "\tJacc: 0.485 Hamm: 0.051 DistLoss: 0.087\n"
     ]
    },
    {
     "name": "stderr",
     "output_type": "stream",
     "text": [
      "C:\\Users\\Siloux\\.conda\\envs\\species-id\\lib\\site-packages\\sklearn\\metrics\\_classification.py:1318: UndefinedMetricWarning: Jaccard is ill-defined and being set to 0.0 in labels with no true or predicted samples. Use `zero_division` parameter to control this behavior.\n",
      "  _warn_prf(average, modifier, msg_start, len(result))\n"
     ]
    },
    {
     "name": "stdout",
     "output_type": "stream",
     "text": [
      "Epoch: 1 [batch 3340/4063 (82.21%)] \n",
      "\tJacc: 0.773 Hamm: 0.006 DistLoss: 0.087\n"
     ]
    },
    {
     "name": "stderr",
     "output_type": "stream",
     "text": [
      "C:\\Users\\Siloux\\.conda\\envs\\species-id\\lib\\site-packages\\sklearn\\metrics\\_classification.py:1318: UndefinedMetricWarning: Jaccard is ill-defined and being set to 0.0 in labels with no true or predicted samples. Use `zero_division` parameter to control this behavior.\n",
      "  _warn_prf(average, modifier, msg_start, len(result))\n"
     ]
    },
    {
     "name": "stdout",
     "output_type": "stream",
     "text": [
      "Epoch: 1 [batch 3350/4063 (82.45%)] \n",
      "\tJacc: 0.515 Hamm: 0.028 DistLoss: 0.087\n"
     ]
    },
    {
     "name": "stderr",
     "output_type": "stream",
     "text": [
      "C:\\Users\\Siloux\\.conda\\envs\\species-id\\lib\\site-packages\\sklearn\\metrics\\_classification.py:1318: UndefinedMetricWarning: Jaccard is ill-defined and being set to 0.0 in labels with no true or predicted samples. Use `zero_division` parameter to control this behavior.\n",
      "  _warn_prf(average, modifier, msg_start, len(result))\n"
     ]
    },
    {
     "name": "stdout",
     "output_type": "stream",
     "text": [
      "Epoch: 1 [batch 3360/4063 (82.70%)] \n",
      "\tJacc: 0.621 Hamm: 0.028 DistLoss: 0.087\n"
     ]
    },
    {
     "name": "stderr",
     "output_type": "stream",
     "text": [
      "C:\\Users\\Siloux\\.conda\\envs\\species-id\\lib\\site-packages\\sklearn\\metrics\\_classification.py:1318: UndefinedMetricWarning: Jaccard is ill-defined and being set to 0.0 in labels with no true or predicted samples. Use `zero_division` parameter to control this behavior.\n",
      "  _warn_prf(average, modifier, msg_start, len(result))\n"
     ]
    },
    {
     "name": "stdout",
     "output_type": "stream",
     "text": [
      "Epoch: 1 [batch 3370/4063 (82.94%)] \n",
      "\tJacc: 0.536 Hamm: 0.057 DistLoss: 0.087\n"
     ]
    },
    {
     "name": "stderr",
     "output_type": "stream",
     "text": [
      "C:\\Users\\Siloux\\.conda\\envs\\species-id\\lib\\site-packages\\sklearn\\metrics\\_classification.py:1318: UndefinedMetricWarning: Jaccard is ill-defined and being set to 0.0 in labels with no true or predicted samples. Use `zero_division` parameter to control this behavior.\n",
      "  _warn_prf(average, modifier, msg_start, len(result))\n"
     ]
    },
    {
     "name": "stdout",
     "output_type": "stream",
     "text": [
      "Epoch: 1 [batch 3380/4063 (83.19%)] \n",
      "\tJacc: 0.727 Hamm: 0.006 DistLoss: 0.087\n"
     ]
    },
    {
     "name": "stderr",
     "output_type": "stream",
     "text": [
      "C:\\Users\\Siloux\\.conda\\envs\\species-id\\lib\\site-packages\\sklearn\\metrics\\_classification.py:1318: UndefinedMetricWarning: Jaccard is ill-defined and being set to 0.0 in labels with no true or predicted samples. Use `zero_division` parameter to control this behavior.\n",
      "  _warn_prf(average, modifier, msg_start, len(result))\n"
     ]
    },
    {
     "name": "stdout",
     "output_type": "stream",
     "text": [
      "Epoch: 1 [batch 3390/4063 (83.44%)] \n",
      "\tJacc: 0.742 Hamm: 0.045 DistLoss: 0.087\n",
      "Epoch: 1 [batch 3400/4063 (83.68%)] \n",
      "\tJacc: 0.697 Hamm: 0.040 DistLoss: 0.087\n",
      "Epoch: 1 [batch 3410/4063 (83.93%)] \n",
      "\tJacc: 0.447 Hamm: 0.057 DistLoss: 0.086\n"
     ]
    },
    {
     "name": "stderr",
     "output_type": "stream",
     "text": [
      "C:\\Users\\Siloux\\.conda\\envs\\species-id\\lib\\site-packages\\sklearn\\metrics\\_classification.py:1318: UndefinedMetricWarning: Jaccard is ill-defined and being set to 0.0 in labels with no true or predicted samples. Use `zero_division` parameter to control this behavior.\n",
      "  _warn_prf(average, modifier, msg_start, len(result))\n"
     ]
    },
    {
     "name": "stdout",
     "output_type": "stream",
     "text": [
      "Epoch: 1 [batch 3420/4063 (84.17%)] \n",
      "\tJacc: 0.652 Hamm: 0.023 DistLoss: 0.086\n"
     ]
    },
    {
     "name": "stderr",
     "output_type": "stream",
     "text": [
      "C:\\Users\\Siloux\\.conda\\envs\\species-id\\lib\\site-packages\\sklearn\\metrics\\_classification.py:1318: UndefinedMetricWarning: Jaccard is ill-defined and being set to 0.0 in labels with no true or predicted samples. Use `zero_division` parameter to control this behavior.\n",
      "  _warn_prf(average, modifier, msg_start, len(result))\n"
     ]
    },
    {
     "name": "stdout",
     "output_type": "stream",
     "text": [
      "Epoch: 1 [batch 3430/4063 (84.42%)] \n",
      "\tJacc: 0.833 Hamm: 0.017 DistLoss: 0.086\n",
      "Epoch: 1 [batch 3440/4063 (84.67%)] \n",
      "\tJacc: 0.394 Hamm: 0.045 DistLoss: 0.086\n"
     ]
    },
    {
     "name": "stderr",
     "output_type": "stream",
     "text": [
      "C:\\Users\\Siloux\\.conda\\envs\\species-id\\lib\\site-packages\\sklearn\\metrics\\_classification.py:1318: UndefinedMetricWarning: Jaccard is ill-defined and being set to 0.0 in labels with no true or predicted samples. Use `zero_division` parameter to control this behavior.\n",
      "  _warn_prf(average, modifier, msg_start, len(result))\n"
     ]
    },
    {
     "name": "stdout",
     "output_type": "stream",
     "text": [
      "Epoch: 1 [batch 3450/4063 (84.91%)] \n",
      "\tJacc: 0.536 Hamm: 0.062 DistLoss: 0.086\n"
     ]
    },
    {
     "name": "stderr",
     "output_type": "stream",
     "text": [
      "C:\\Users\\Siloux\\.conda\\envs\\species-id\\lib\\site-packages\\sklearn\\metrics\\_classification.py:1318: UndefinedMetricWarning: Jaccard is ill-defined and being set to 0.0 in labels with no true or predicted samples. Use `zero_division` parameter to control this behavior.\n",
      "  _warn_prf(average, modifier, msg_start, len(result))\n"
     ]
    },
    {
     "name": "stdout",
     "output_type": "stream",
     "text": [
      "Epoch: 1 [batch 3460/4063 (85.16%)] \n",
      "\tJacc: 0.788 Hamm: 0.017 DistLoss: 0.086\n"
     ]
    },
    {
     "name": "stderr",
     "output_type": "stream",
     "text": [
      "C:\\Users\\Siloux\\.conda\\envs\\species-id\\lib\\site-packages\\sklearn\\metrics\\_classification.py:1318: UndefinedMetricWarning: Jaccard is ill-defined and being set to 0.0 in labels with no true or predicted samples. Use `zero_division` parameter to control this behavior.\n",
      "  _warn_prf(average, modifier, msg_start, len(result))\n"
     ]
    },
    {
     "name": "stdout",
     "output_type": "stream",
     "text": [
      "Epoch: 1 [batch 3470/4063 (85.40%)] \n",
      "\tJacc: 0.523 Hamm: 0.028 DistLoss: 0.086\n"
     ]
    },
    {
     "name": "stderr",
     "output_type": "stream",
     "text": [
      "C:\\Users\\Siloux\\.conda\\envs\\species-id\\lib\\site-packages\\sklearn\\metrics\\_classification.py:1318: UndefinedMetricWarning: Jaccard is ill-defined and being set to 0.0 in labels with no true or predicted samples. Use `zero_division` parameter to control this behavior.\n",
      "  _warn_prf(average, modifier, msg_start, len(result))\n"
     ]
    },
    {
     "name": "stdout",
     "output_type": "stream",
     "text": [
      "Epoch: 1 [batch 3480/4063 (85.65%)] \n",
      "\tJacc: 0.682 Hamm: 0.034 DistLoss: 0.086\n",
      "Epoch: 1 [batch 3490/4063 (85.90%)] \n",
      "\tJacc: 0.500 Hamm: 0.045 DistLoss: 0.086\n"
     ]
    },
    {
     "name": "stderr",
     "output_type": "stream",
     "text": [
      "C:\\Users\\Siloux\\.conda\\envs\\species-id\\lib\\site-packages\\sklearn\\metrics\\_classification.py:1318: UndefinedMetricWarning: Jaccard is ill-defined and being set to 0.0 in labels with no true or predicted samples. Use `zero_division` parameter to control this behavior.\n",
      "  _warn_prf(average, modifier, msg_start, len(result))\n"
     ]
    },
    {
     "name": "stdout",
     "output_type": "stream",
     "text": [
      "Epoch: 1 [batch 3500/4063 (86.14%)] \n",
      "\tJacc: 0.652 Hamm: 0.023 DistLoss: 0.086\n"
     ]
    },
    {
     "name": "stderr",
     "output_type": "stream",
     "text": [
      "C:\\Users\\Siloux\\.conda\\envs\\species-id\\lib\\site-packages\\sklearn\\metrics\\_classification.py:1318: UndefinedMetricWarning: Jaccard is ill-defined and being set to 0.0 in labels with no true or predicted samples. Use `zero_division` parameter to control this behavior.\n",
      "  _warn_prf(average, modifier, msg_start, len(result))\n"
     ]
    },
    {
     "name": "stdout",
     "output_type": "stream",
     "text": [
      "Epoch: 1 [batch 3510/4063 (86.39%)] \n",
      "\tJacc: 0.773 Hamm: 0.023 DistLoss: 0.086\n"
     ]
    },
    {
     "name": "stderr",
     "output_type": "stream",
     "text": [
      "C:\\Users\\Siloux\\.conda\\envs\\species-id\\lib\\site-packages\\sklearn\\metrics\\_classification.py:1318: UndefinedMetricWarning: Jaccard is ill-defined and being set to 0.0 in labels with no true or predicted samples. Use `zero_division` parameter to control this behavior.\n",
      "  _warn_prf(average, modifier, msg_start, len(result))\n"
     ]
    },
    {
     "name": "stdout",
     "output_type": "stream",
     "text": [
      "Epoch: 1 [batch 3520/4063 (86.64%)] \n",
      "\tJacc: 0.614 Hamm: 0.028 DistLoss: 0.086\n"
     ]
    },
    {
     "name": "stderr",
     "output_type": "stream",
     "text": [
      "C:\\Users\\Siloux\\.conda\\envs\\species-id\\lib\\site-packages\\sklearn\\metrics\\_classification.py:1318: UndefinedMetricWarning: Jaccard is ill-defined and being set to 0.0 in labels with no true or predicted samples. Use `zero_division` parameter to control this behavior.\n",
      "  _warn_prf(average, modifier, msg_start, len(result))\n"
     ]
    },
    {
     "name": "stdout",
     "output_type": "stream",
     "text": [
      "Epoch: 1 [batch 3530/4063 (86.88%)] \n",
      "\tJacc: 0.773 Hamm: 0.023 DistLoss: 0.086\n"
     ]
    },
    {
     "name": "stderr",
     "output_type": "stream",
     "text": [
      "C:\\Users\\Siloux\\.conda\\envs\\species-id\\lib\\site-packages\\sklearn\\metrics\\_classification.py:1318: UndefinedMetricWarning: Jaccard is ill-defined and being set to 0.0 in labels with no true or predicted samples. Use `zero_division` parameter to control this behavior.\n",
      "  _warn_prf(average, modifier, msg_start, len(result))\n"
     ]
    },
    {
     "ename": "KeyboardInterrupt",
     "evalue": "",
     "output_type": "error",
     "traceback": [
      "\u001b[1;31m---------------------------------------------------------------------------\u001b[0m",
      "\u001b[1;31mKeyboardInterrupt\u001b[0m                         Traceback (most recent call last)",
      "\u001b[1;32m<ipython-input-35-f3df80ab878c>\u001b[0m in \u001b[0;36m<module>\u001b[1;34m\u001b[0m\n\u001b[0;32m      7\u001b[0m     \u001b[0msave_interval\u001b[0m\u001b[1;33m=\u001b[0m\u001b[1;36m100\u001b[0m\u001b[1;33m,\u001b[0m\u001b[1;33m\u001b[0m\u001b[1;33m\u001b[0m\u001b[0m\n\u001b[0;32m      8\u001b[0m     \u001b[0mnum_workers\u001b[0m\u001b[1;33m=\u001b[0m\u001b[1;36m2\u001b[0m\u001b[1;33m,\u001b[0m\u001b[1;33m\u001b[0m\u001b[1;33m\u001b[0m\u001b[0m\n\u001b[1;32m----> 9\u001b[1;33m     \u001b[0mepochs\u001b[0m\u001b[1;33m=\u001b[0m\u001b[1;36m3\u001b[0m\u001b[1;33m\u001b[0m\u001b[1;33m\u001b[0m\u001b[0m\n\u001b[0m\u001b[0;32m     10\u001b[0m )\n",
      "\u001b[1;32m~\\.conda\\envs\\species-id\\lib\\site-packages\\opensoundscape\\torch\\models\\cnn.py\u001b[0m in \u001b[0;36mtrain\u001b[1;34m(self, train_dataset, valid_dataset, epochs, batch_size, num_workers, save_path, save_interval, log_interval, unsafe_sample_log)\u001b[0m\n\u001b[0;32m    393\u001b[0m \u001b[1;33m\u001b[0m\u001b[0m\n\u001b[0;32m    394\u001b[0m             \u001b[1;31m### Training ###\u001b[0m\u001b[1;33m\u001b[0m\u001b[1;33m\u001b[0m\u001b[1;33m\u001b[0m\u001b[0m\n\u001b[1;32m--> 395\u001b[1;33m             \u001b[0mtrain_targets\u001b[0m\u001b[1;33m,\u001b[0m \u001b[0mtrain_preds\u001b[0m\u001b[1;33m,\u001b[0m \u001b[0mtrain_scores\u001b[0m \u001b[1;33m=\u001b[0m \u001b[0mself\u001b[0m\u001b[1;33m.\u001b[0m\u001b[0mtrain_epoch\u001b[0m\u001b[1;33m(\u001b[0m\u001b[1;33m)\u001b[0m\u001b[1;33m\u001b[0m\u001b[1;33m\u001b[0m\u001b[0m\n\u001b[0m\u001b[0;32m    396\u001b[0m \u001b[1;33m\u001b[0m\u001b[0m\n\u001b[0;32m    397\u001b[0m             \u001b[1;31m#### Validation ###\u001b[0m\u001b[1;33m\u001b[0m\u001b[1;33m\u001b[0m\u001b[1;33m\u001b[0m\u001b[0m\n",
      "\u001b[1;32m~\\.conda\\envs\\species-id\\lib\\site-packages\\opensoundscape\\torch\\models\\cnn.py\u001b[0m in \u001b[0;36mtrain_epoch\u001b[1;34m(self)\u001b[0m\n\u001b[0;32m    282\u001b[0m             \u001b[0mself\u001b[0m\u001b[1;33m.\u001b[0m\u001b[0mopt_net\u001b[0m\u001b[1;33m.\u001b[0m\u001b[0mzero_grad\u001b[0m\u001b[1;33m(\u001b[0m\u001b[1;33m)\u001b[0m\u001b[1;33m\u001b[0m\u001b[1;33m\u001b[0m\u001b[0m\n\u001b[0;32m    283\u001b[0m             \u001b[1;31m# backward pass: calculate the gradients\u001b[0m\u001b[1;33m\u001b[0m\u001b[1;33m\u001b[0m\u001b[1;33m\u001b[0m\u001b[0m\n\u001b[1;32m--> 284\u001b[1;33m             \u001b[0mloss\u001b[0m\u001b[1;33m.\u001b[0m\u001b[0mbackward\u001b[0m\u001b[1;33m(\u001b[0m\u001b[1;33m)\u001b[0m\u001b[1;33m\u001b[0m\u001b[1;33m\u001b[0m\u001b[0m\n\u001b[0m\u001b[0;32m    285\u001b[0m             \u001b[1;31m# update the network using the gradients*lr\u001b[0m\u001b[1;33m\u001b[0m\u001b[1;33m\u001b[0m\u001b[1;33m\u001b[0m\u001b[0m\n\u001b[0;32m    286\u001b[0m             \u001b[0mself\u001b[0m\u001b[1;33m.\u001b[0m\u001b[0mopt_net\u001b[0m\u001b[1;33m.\u001b[0m\u001b[0mstep\u001b[0m\u001b[1;33m(\u001b[0m\u001b[1;33m)\u001b[0m\u001b[1;33m\u001b[0m\u001b[1;33m\u001b[0m\u001b[0m\n",
      "\u001b[1;32m~\\.conda\\envs\\species-id\\lib\\site-packages\\torch\\_tensor.py\u001b[0m in \u001b[0;36mbackward\u001b[1;34m(self, gradient, retain_graph, create_graph, inputs)\u001b[0m\n\u001b[0;32m    394\u001b[0m                 \u001b[0mcreate_graph\u001b[0m\u001b[1;33m=\u001b[0m\u001b[0mcreate_graph\u001b[0m\u001b[1;33m,\u001b[0m\u001b[1;33m\u001b[0m\u001b[1;33m\u001b[0m\u001b[0m\n\u001b[0;32m    395\u001b[0m                 inputs=inputs)\n\u001b[1;32m--> 396\u001b[1;33m         \u001b[0mtorch\u001b[0m\u001b[1;33m.\u001b[0m\u001b[0mautograd\u001b[0m\u001b[1;33m.\u001b[0m\u001b[0mbackward\u001b[0m\u001b[1;33m(\u001b[0m\u001b[0mself\u001b[0m\u001b[1;33m,\u001b[0m \u001b[0mgradient\u001b[0m\u001b[1;33m,\u001b[0m \u001b[0mretain_graph\u001b[0m\u001b[1;33m,\u001b[0m \u001b[0mcreate_graph\u001b[0m\u001b[1;33m,\u001b[0m \u001b[0minputs\u001b[0m\u001b[1;33m=\u001b[0m\u001b[0minputs\u001b[0m\u001b[1;33m)\u001b[0m\u001b[1;33m\u001b[0m\u001b[1;33m\u001b[0m\u001b[0m\n\u001b[0m\u001b[0;32m    397\u001b[0m \u001b[1;33m\u001b[0m\u001b[0m\n\u001b[0;32m    398\u001b[0m     \u001b[1;32mdef\u001b[0m \u001b[0mregister_hook\u001b[0m\u001b[1;33m(\u001b[0m\u001b[0mself\u001b[0m\u001b[1;33m,\u001b[0m \u001b[0mhook\u001b[0m\u001b[1;33m)\u001b[0m\u001b[1;33m:\u001b[0m\u001b[1;33m\u001b[0m\u001b[1;33m\u001b[0m\u001b[0m\n",
      "\u001b[1;32m~\\.conda\\envs\\species-id\\lib\\site-packages\\torch\\autograd\\__init__.py\u001b[0m in \u001b[0;36mbackward\u001b[1;34m(tensors, grad_tensors, retain_graph, create_graph, grad_variables, inputs)\u001b[0m\n\u001b[0;32m    173\u001b[0m     Variable._execution_engine.run_backward(  # Calls into the C++ engine to run the backward pass\n\u001b[0;32m    174\u001b[0m         \u001b[0mtensors\u001b[0m\u001b[1;33m,\u001b[0m \u001b[0mgrad_tensors_\u001b[0m\u001b[1;33m,\u001b[0m \u001b[0mretain_graph\u001b[0m\u001b[1;33m,\u001b[0m \u001b[0mcreate_graph\u001b[0m\u001b[1;33m,\u001b[0m \u001b[0minputs\u001b[0m\u001b[1;33m,\u001b[0m\u001b[1;33m\u001b[0m\u001b[1;33m\u001b[0m\u001b[0m\n\u001b[1;32m--> 175\u001b[1;33m         allow_unreachable=True, accumulate_grad=True)  # Calls into the C++ engine to run the backward pass\n\u001b[0m\u001b[0;32m    176\u001b[0m \u001b[1;33m\u001b[0m\u001b[0m\n\u001b[0;32m    177\u001b[0m def grad(\n",
      "\u001b[1;31mKeyboardInterrupt\u001b[0m: "
     ]
    }
   ],
   "source": [
    "model.sampler = 'imbalanced'\n",
    "model.train(\n",
    "    train_dataset=train_dataset,\n",
    "    valid_dataset=valid_dataset,\n",
    "    save_path=model_save,\n",
    "    batch_size=16,\n",
    "    save_interval=100,\n",
    "    num_workers=2,\n",
    "    epochs=3\n",
    ")"
   ]
  },
  {
   "cell_type": "markdown",
   "id": "6a6a443c",
   "metadata": {},
   "source": [
    "### Plot the loss"
   ]
  },
  {
   "cell_type": "code",
   "execution_count": 36,
   "id": "bdc8c34f",
   "metadata": {},
   "outputs": [
    {
     "data": {
      "image/png": "[encoded data removed]",
      "text/plain": [
       "<Figure size 432x288 with 1 Axes>"
      ]
     },
     "metadata": {
      "needs_background": "light"
     },
     "output_type": "display_data"
    }
   ],
   "source": [
    "plt.plot(model.loss_hist.keys(),model.loss_hist.values())\n",
    "plt.xlabel('Epoch')\n",
    "plt.ylabel('Loss')\n",
    "plt.title('Plot of Loss vs Epochs')\n",
    "plt.show()"
   ]
  },
  {
   "cell_type": "code",
   "execution_count": 37,
   "id": "d06d288e",
   "metadata": {},
   "outputs": [
    {
     "data": {
      "text/plain": [
       "PytorchModel(\n",
       "  (network): ResNet(\n",
       "    (conv1): Conv2d(3, 64, kernel_size=(7, 7), stride=(2, 2), padding=(3, 3), bias=False)\n",
       "    (bn1): BatchNorm2d(64, eps=1e-05, momentum=0.1, affine=True, track_running_stats=True)\n",
       "    (relu): ReLU(inplace=True)\n",
       "    (maxpool): MaxPool2d(kernel_size=3, stride=2, padding=1, dilation=1, ceil_mode=False)\n",
       "    (layer1): Sequential(\n",
       "      (0): Bottleneck(\n",
       "        (conv1): Conv2d(64, 64, kernel_size=(1, 1), stride=(1, 1), bias=False)\n",
       "        (bn1): BatchNorm2d(64, eps=1e-05, momentum=0.1, affine=True, track_running_stats=True)\n",
       "        (conv2): Conv2d(64, 64, kernel_size=(3, 3), stride=(1, 1), padding=(1, 1), bias=False)\n",
       "        (bn2): BatchNorm2d(64, eps=1e-05, momentum=0.1, affine=True, track_running_stats=True)\n",
       "        (conv3): Conv2d(64, 256, kernel_size=(1, 1), stride=(1, 1), bias=False)\n",
       "        (bn3): BatchNorm2d(256, eps=1e-05, momentum=0.1, affine=True, track_running_stats=True)\n",
       "        (relu): ReLU(inplace=True)\n",
       "        (downsample): Sequential(\n",
       "          (0): Conv2d(64, 256, kernel_size=(1, 1), stride=(1, 1), bias=False)\n",
       "          (1): BatchNorm2d(256, eps=1e-05, momentum=0.1, affine=True, track_running_stats=True)\n",
       "        )\n",
       "      )\n",
       "      (1): Bottleneck(\n",
       "        (conv1): Conv2d(256, 64, kernel_size=(1, 1), stride=(1, 1), bias=False)\n",
       "        (bn1): BatchNorm2d(64, eps=1e-05, momentum=0.1, affine=True, track_running_stats=True)\n",
       "        (conv2): Conv2d(64, 64, kernel_size=(3, 3), stride=(1, 1), padding=(1, 1), bias=False)\n",
       "        (bn2): BatchNorm2d(64, eps=1e-05, momentum=0.1, affine=True, track_running_stats=True)\n",
       "        (conv3): Conv2d(64, 256, kernel_size=(1, 1), stride=(1, 1), bias=False)\n",
       "        (bn3): BatchNorm2d(256, eps=1e-05, momentum=0.1, affine=True, track_running_stats=True)\n",
       "        (relu): ReLU(inplace=True)\n",
       "      )\n",
       "      (2): Bottleneck(\n",
       "        (conv1): Conv2d(256, 64, kernel_size=(1, 1), stride=(1, 1), bias=False)\n",
       "        (bn1): BatchNorm2d(64, eps=1e-05, momentum=0.1, affine=True, track_running_stats=True)\n",
       "        (conv2): Conv2d(64, 64, kernel_size=(3, 3), stride=(1, 1), padding=(1, 1), bias=False)\n",
       "        (bn2): BatchNorm2d(64, eps=1e-05, momentum=0.1, affine=True, track_running_stats=True)\n",
       "        (conv3): Conv2d(64, 256, kernel_size=(1, 1), stride=(1, 1), bias=False)\n",
       "        (bn3): BatchNorm2d(256, eps=1e-05, momentum=0.1, affine=True, track_running_stats=True)\n",
       "        (relu): ReLU(inplace=True)\n",
       "      )\n",
       "    )\n",
       "    (layer2): Sequential(\n",
       "      (0): Bottleneck(\n",
       "        (conv1): Conv2d(256, 128, kernel_size=(1, 1), stride=(1, 1), bias=False)\n",
       "        (bn1): BatchNorm2d(128, eps=1e-05, momentum=0.1, affine=True, track_running_stats=True)\n",
       "        (conv2): Conv2d(128, 128, kernel_size=(3, 3), stride=(2, 2), padding=(1, 1), bias=False)\n",
       "        (bn2): BatchNorm2d(128, eps=1e-05, momentum=0.1, affine=True, track_running_stats=True)\n",
       "        (conv3): Conv2d(128, 512, kernel_size=(1, 1), stride=(1, 1), bias=False)\n",
       "        (bn3): BatchNorm2d(512, eps=1e-05, momentum=0.1, affine=True, track_running_stats=True)\n",
       "        (relu): ReLU(inplace=True)\n",
       "        (downsample): Sequential(\n",
       "          (0): Conv2d(256, 512, kernel_size=(1, 1), stride=(2, 2), bias=False)\n",
       "          (1): BatchNorm2d(512, eps=1e-05, momentum=0.1, affine=True, track_running_stats=True)\n",
       "        )\n",
       "      )\n",
       "      (1): Bottleneck(\n",
       "        (conv1): Conv2d(512, 128, kernel_size=(1, 1), stride=(1, 1), bias=False)\n",
       "        (bn1): BatchNorm2d(128, eps=1e-05, momentum=0.1, affine=True, track_running_stats=True)\n",
       "        (conv2): Conv2d(128, 128, kernel_size=(3, 3), stride=(1, 1), padding=(1, 1), bias=False)\n",
       "        (bn2): BatchNorm2d(128, eps=1e-05, momentum=0.1, affine=True, track_running_stats=True)\n",
       "        (conv3): Conv2d(128, 512, kernel_size=(1, 1), stride=(1, 1), bias=False)\n",
       "        (bn3): BatchNorm2d(512, eps=1e-05, momentum=0.1, affine=True, track_running_stats=True)\n",
       "        (relu): ReLU(inplace=True)\n",
       "      )\n",
       "      (2): Bottleneck(\n",
       "        (conv1): Conv2d(512, 128, kernel_size=(1, 1), stride=(1, 1), bias=False)\n",
       "        (bn1): BatchNorm2d(128, eps=1e-05, momentum=0.1, affine=True, track_running_stats=True)\n",
       "        (conv2): Conv2d(128, 128, kernel_size=(3, 3), stride=(1, 1), padding=(1, 1), bias=False)\n",
       "        (bn2): BatchNorm2d(128, eps=1e-05, momentum=0.1, affine=True, track_running_stats=True)\n",
       "        (conv3): Conv2d(128, 512, kernel_size=(1, 1), stride=(1, 1), bias=False)\n",
       "        (bn3): BatchNorm2d(512, eps=1e-05, momentum=0.1, affine=True, track_running_stats=True)\n",
       "        (relu): ReLU(inplace=True)\n",
       "      )\n",
       "      (3): Bottleneck(\n",
       "        (conv1): Conv2d(512, 128, kernel_size=(1, 1), stride=(1, 1), bias=False)\n",
       "        (bn1): BatchNorm2d(128, eps=1e-05, momentum=0.1, affine=True, track_running_stats=True)\n",
       "        (conv2): Conv2d(128, 128, kernel_size=(3, 3), stride=(1, 1), padding=(1, 1), bias=False)\n",
       "        (bn2): BatchNorm2d(128, eps=1e-05, momentum=0.1, affine=True, track_running_stats=True)\n",
       "        (conv3): Conv2d(128, 512, kernel_size=(1, 1), stride=(1, 1), bias=False)\n",
       "        (bn3): BatchNorm2d(512, eps=1e-05, momentum=0.1, affine=True, track_running_stats=True)\n",
       "        (relu): ReLU(inplace=True)\n",
       "      )\n",
       "    )\n",
       "    (layer3): Sequential(\n",
       "      (0): Bottleneck(\n",
       "        (conv1): Conv2d(512, 256, kernel_size=(1, 1), stride=(1, 1), bias=False)\n",
       "        (bn1): BatchNorm2d(256, eps=1e-05, momentum=0.1, affine=True, track_running_stats=True)\n",
       "        (conv2): Conv2d(256, 256, kernel_size=(3, 3), stride=(2, 2), padding=(1, 1), bias=False)\n",
       "        (bn2): BatchNorm2d(256, eps=1e-05, momentum=0.1, affine=True, track_running_stats=True)\n",
       "        (conv3): Conv2d(256, 1024, kernel_size=(1, 1), stride=(1, 1), bias=False)\n",
       "        (bn3): BatchNorm2d(1024, eps=1e-05, momentum=0.1, affine=True, track_running_stats=True)\n",
       "        (relu): ReLU(inplace=True)\n",
       "        (downsample): Sequential(\n",
       "          (0): Conv2d(512, 1024, kernel_size=(1, 1), stride=(2, 2), bias=False)\n",
       "          (1): BatchNorm2d(1024, eps=1e-05, momentum=0.1, affine=True, track_running_stats=True)\n",
       "        )\n",
       "      )\n",
       "      (1): Bottleneck(\n",
       "        (conv1): Conv2d(1024, 256, kernel_size=(1, 1), stride=(1, 1), bias=False)\n",
       "        (bn1): BatchNorm2d(256, eps=1e-05, momentum=0.1, affine=True, track_running_stats=True)\n",
       "        (conv2): Conv2d(256, 256, kernel_size=(3, 3), stride=(1, 1), padding=(1, 1), bias=False)\n",
       "        (bn2): BatchNorm2d(256, eps=1e-05, momentum=0.1, affine=True, track_running_stats=True)\n",
       "        (conv3): Conv2d(256, 1024, kernel_size=(1, 1), stride=(1, 1), bias=False)\n",
       "        (bn3): BatchNorm2d(1024, eps=1e-05, momentum=0.1, affine=True, track_running_stats=True)\n",
       "        (relu): ReLU(inplace=True)\n",
       "      )\n",
       "      (2): Bottleneck(\n",
       "        (conv1): Conv2d(1024, 256, kernel_size=(1, 1), stride=(1, 1), bias=False)\n",
       "        (bn1): BatchNorm2d(256, eps=1e-05, momentum=0.1, affine=True, track_running_stats=True)\n",
       "        (conv2): Conv2d(256, 256, kernel_size=(3, 3), stride=(1, 1), padding=(1, 1), bias=False)\n",
       "        (bn2): BatchNorm2d(256, eps=1e-05, momentum=0.1, affine=True, track_running_stats=True)\n",
       "        (conv3): Conv2d(256, 1024, kernel_size=(1, 1), stride=(1, 1), bias=False)\n",
       "        (bn3): BatchNorm2d(1024, eps=1e-05, momentum=0.1, affine=True, track_running_stats=True)\n",
       "        (relu): ReLU(inplace=True)\n",
       "      )\n",
       "      (3): Bottleneck(\n",
       "        (conv1): Conv2d(1024, 256, kernel_size=(1, 1), stride=(1, 1), bias=False)\n",
       "        (bn1): BatchNorm2d(256, eps=1e-05, momentum=0.1, affine=True, track_running_stats=True)\n",
       "        (conv2): Conv2d(256, 256, kernel_size=(3, 3), stride=(1, 1), padding=(1, 1), bias=False)\n",
       "        (bn2): BatchNorm2d(256, eps=1e-05, momentum=0.1, affine=True, track_running_stats=True)\n",
       "        (conv3): Conv2d(256, 1024, kernel_size=(1, 1), stride=(1, 1), bias=False)\n",
       "        (bn3): BatchNorm2d(1024, eps=1e-05, momentum=0.1, affine=True, track_running_stats=True)\n",
       "        (relu): ReLU(inplace=True)\n",
       "      )\n",
       "      (4): Bottleneck(\n",
       "        (conv1): Conv2d(1024, 256, kernel_size=(1, 1), stride=(1, 1), bias=False)\n",
       "        (bn1): BatchNorm2d(256, eps=1e-05, momentum=0.1, affine=True, track_running_stats=True)\n",
       "        (conv2): Conv2d(256, 256, kernel_size=(3, 3), stride=(1, 1), padding=(1, 1), bias=False)\n",
       "        (bn2): BatchNorm2d(256, eps=1e-05, momentum=0.1, affine=True, track_running_stats=True)\n",
       "        (conv3): Conv2d(256, 1024, kernel_size=(1, 1), stride=(1, 1), bias=False)\n",
       "        (bn3): BatchNorm2d(1024, eps=1e-05, momentum=0.1, affine=True, track_running_stats=True)\n",
       "        (relu): ReLU(inplace=True)\n",
       "      )\n",
       "      (5): Bottleneck(\n",
       "        (conv1): Conv2d(1024, 256, kernel_size=(1, 1), stride=(1, 1), bias=False)\n",
       "        (bn1): BatchNorm2d(256, eps=1e-05, momentum=0.1, affine=True, track_running_stats=True)\n",
       "        (conv2): Conv2d(256, 256, kernel_size=(3, 3), stride=(1, 1), padding=(1, 1), bias=False)\n",
       "        (bn2): BatchNorm2d(256, eps=1e-05, momentum=0.1, affine=True, track_running_stats=True)\n",
       "        (conv3): Conv2d(256, 1024, kernel_size=(1, 1), stride=(1, 1), bias=False)\n",
       "        (bn3): BatchNorm2d(1024, eps=1e-05, momentum=0.1, affine=True, track_running_stats=True)\n",
       "        (relu): ReLU(inplace=True)\n",
       "      )\n",
       "    )\n",
       "    (layer4): Sequential(\n",
       "      (0): Bottleneck(\n",
       "        (conv1): Conv2d(1024, 512, kernel_size=(1, 1), stride=(1, 1), bias=False)\n",
       "        (bn1): BatchNorm2d(512, eps=1e-05, momentum=0.1, affine=True, track_running_stats=True)\n",
       "        (conv2): Conv2d(512, 512, kernel_size=(3, 3), stride=(2, 2), padding=(1, 1), bias=False)\n",
       "        (bn2): BatchNorm2d(512, eps=1e-05, momentum=0.1, affine=True, track_running_stats=True)\n",
       "        (conv3): Conv2d(512, 2048, kernel_size=(1, 1), stride=(1, 1), bias=False)\n",
       "        (bn3): BatchNorm2d(2048, eps=1e-05, momentum=0.1, affine=True, track_running_stats=True)\n",
       "        (relu): ReLU(inplace=True)\n",
       "        (downsample): Sequential(\n",
       "          (0): Conv2d(1024, 2048, kernel_size=(1, 1), stride=(2, 2), bias=False)\n",
       "          (1): BatchNorm2d(2048, eps=1e-05, momentum=0.1, affine=True, track_running_stats=True)\n",
       "        )\n",
       "      )\n",
       "      (1): Bottleneck(\n",
       "        (conv1): Conv2d(2048, 512, kernel_size=(1, 1), stride=(1, 1), bias=False)\n",
       "        (bn1): BatchNorm2d(512, eps=1e-05, momentum=0.1, affine=True, track_running_stats=True)\n",
       "        (conv2): Conv2d(512, 512, kernel_size=(3, 3), stride=(1, 1), padding=(1, 1), bias=False)\n",
       "        (bn2): BatchNorm2d(512, eps=1e-05, momentum=0.1, affine=True, track_running_stats=True)\n",
       "        (conv3): Conv2d(512, 2048, kernel_size=(1, 1), stride=(1, 1), bias=False)\n",
       "        (bn3): BatchNorm2d(2048, eps=1e-05, momentum=0.1, affine=True, track_running_stats=True)\n",
       "        (relu): ReLU(inplace=True)\n",
       "      )\n",
       "      (2): Bottleneck(\n",
       "        (conv1): Conv2d(2048, 512, kernel_size=(1, 1), stride=(1, 1), bias=False)\n",
       "        (bn1): BatchNorm2d(512, eps=1e-05, momentum=0.1, affine=True, track_running_stats=True)\n",
       "        (conv2): Conv2d(512, 512, kernel_size=(3, 3), stride=(1, 1), padding=(1, 1), bias=False)\n",
       "        (bn2): BatchNorm2d(512, eps=1e-05, momentum=0.1, affine=True, track_running_stats=True)\n",
       "        (conv3): Conv2d(512, 2048, kernel_size=(1, 1), stride=(1, 1), bias=False)\n",
       "        (bn3): BatchNorm2d(2048, eps=1e-05, momentum=0.1, affine=True, track_running_stats=True)\n",
       "        (relu): ReLU(inplace=True)\n",
       "      )\n",
       "    )\n",
       "    (avgpool): AdaptiveAvgPool2d(output_size=(1, 1))\n",
       "    (fc): Linear(in_features=2048, out_features=11, bias=True)\n",
       "  )\n",
       "  (loss_fn): BCEWithLogitsLoss_hot()\n",
       ")"
      ]
     },
     "execution_count": 37,
     "metadata": {},
     "output_type": "execute_result"
    }
   ],
   "source": [
    "model"
   ]
  },
  {
   "cell_type": "markdown",
   "id": "f9d20ddc",
   "metadata": {},
   "source": [
    "### Load the best model (based on validation set) and evaluate on test set"
   ]
  },
  {
   "cell_type": "code",
   "execution_count": 38,
   "id": "82fabe8c",
   "metadata": {},
   "outputs": [],
   "source": [
    "#RERUN\n",
    "model = load_model(model_save + 'best.model')#'best.model')\n",
    "model_save\n",
    "torch.save(model.state_dict(), model_save + \"model_backup.pt\")\n",
    "prediction_dataset = model.train_dataset.sample(n=0)\n",
    "prediction_dataset.augmentation_off()\n",
    "prediction_dataset.df = test_df"
   ]
  },
  {
   "cell_type": "code",
   "execution_count": 39,
   "id": "e83def75",
   "metadata": {},
   "outputs": [
    {
     "data": {
      "text/plain": [
       "'./model/test_for_reformed_dataset/'"
      ]
     },
     "execution_count": 39,
     "metadata": {},
     "output_type": "execute_result"
    }
   ],
   "source": [
    "model_save"
   ]
  },
  {
   "cell_type": "code",
   "execution_count": 40,
   "id": "e1b3c781",
   "metadata": {},
   "outputs": [
    {
     "data": {
      "text/html": [
       "<div>\n",
       "<style scoped>\n",
       "    .dataframe tbody tr th:only-of-type {\n",
       "        vertical-align: middle;\n",
       "    }\n",
       "\n",
       "    .dataframe tbody tr th {\n",
       "        vertical-align: top;\n",
       "    }\n",
       "\n",
       "    .dataframe thead th {\n",
       "        text-align: right;\n",
       "    }\n",
       "</style>\n",
       "<table border=\"1\" class=\"dataframe\">\n",
       "  <thead>\n",
       "    <tr style=\"text-align: right;\">\n",
       "      <th></th>\n",
       "      <th>Microcerculus marginatus</th>\n",
       "      <th>Myioborus miniatus</th>\n",
       "      <th>Thraupis episcopus</th>\n",
       "      <th>bird</th>\n",
       "      <th>Ramphastos tucanus</th>\n",
       "      <th>Xiphorhynchus guttatus</th>\n",
       "      <th>no bird</th>\n",
       "      <th>Celeus grammicus</th>\n",
       "      <th>Zonotrichia capensis</th>\n",
       "      <th>Trogon viridis</th>\n",
       "      <th>Turdus leucomelas</th>\n",
       "      <th>Tolmomyias sulphurescens</th>\n",
       "    </tr>\n",
       "    <tr>\n",
       "      <th>file</th>\n",
       "      <th></th>\n",
       "      <th></th>\n",
       "      <th></th>\n",
       "      <th></th>\n",
       "      <th></th>\n",
       "      <th></th>\n",
       "      <th></th>\n",
       "      <th></th>\n",
       "      <th></th>\n",
       "      <th></th>\n",
       "      <th></th>\n",
       "      <th></th>\n",
       "    </tr>\n",
       "  </thead>\n",
       "  <tbody>\n",
       "    <tr>\n",
       "      <th>D:/open_soundscape_files/./Cosmos_data/Testing/XC87449 - Scaly-breasted Woodpecker - Celeus grammicus subcervinus_0.0.wav</th>\n",
       "      <td>0</td>\n",
       "      <td>0</td>\n",
       "      <td>0</td>\n",
       "      <td>0</td>\n",
       "      <td>0</td>\n",
       "      <td>0</td>\n",
       "      <td>0</td>\n",
       "      <td>1</td>\n",
       "      <td>0</td>\n",
       "      <td>0</td>\n",
       "      <td>0</td>\n",
       "      <td>0</td>\n",
       "    </tr>\n",
       "    <tr>\n",
       "      <th>D:/open_soundscape_files/./Cosmos_data/Testing/XC87449 - Scaly-breasted Woodpecker - Celeus grammicus subcervinus_3.0.wav</th>\n",
       "      <td>0</td>\n",
       "      <td>0</td>\n",
       "      <td>0</td>\n",
       "      <td>0</td>\n",
       "      <td>0</td>\n",
       "      <td>0</td>\n",
       "      <td>0</td>\n",
       "      <td>1</td>\n",
       "      <td>0</td>\n",
       "      <td>0</td>\n",
       "      <td>0</td>\n",
       "      <td>0</td>\n",
       "    </tr>\n",
       "    <tr>\n",
       "      <th>D:/open_soundscape_files/./Cosmos_data/Testing/XC87449 - Scaly-breasted Woodpecker - Celeus grammicus subcervinus_6.0.wav</th>\n",
       "      <td>0</td>\n",
       "      <td>0</td>\n",
       "      <td>0</td>\n",
       "      <td>0</td>\n",
       "      <td>0</td>\n",
       "      <td>0</td>\n",
       "      <td>1</td>\n",
       "      <td>0</td>\n",
       "      <td>0</td>\n",
       "      <td>0</td>\n",
       "      <td>0</td>\n",
       "      <td>0</td>\n",
       "    </tr>\n",
       "    <tr>\n",
       "      <th>D:/open_soundscape_files/./Cosmos_data/Testing/XC87449 - Scaly-breasted Woodpecker - Celeus grammicus subcervinus_9.0.wav</th>\n",
       "      <td>0</td>\n",
       "      <td>0</td>\n",
       "      <td>0</td>\n",
       "      <td>0</td>\n",
       "      <td>0</td>\n",
       "      <td>0</td>\n",
       "      <td>0</td>\n",
       "      <td>1</td>\n",
       "      <td>0</td>\n",
       "      <td>0</td>\n",
       "      <td>0</td>\n",
       "      <td>0</td>\n",
       "    </tr>\n",
       "    <tr>\n",
       "      <th>D:/open_soundscape_files/./Cosmos_data/Testing/XC87449 - Scaly-breasted Woodpecker - Celeus grammicus subcervinus_12.0.wav</th>\n",
       "      <td>0</td>\n",
       "      <td>0</td>\n",
       "      <td>0</td>\n",
       "      <td>0</td>\n",
       "      <td>0</td>\n",
       "      <td>0</td>\n",
       "      <td>0</td>\n",
       "      <td>1</td>\n",
       "      <td>0</td>\n",
       "      <td>0</td>\n",
       "      <td>0</td>\n",
       "      <td>0</td>\n",
       "    </tr>\n",
       "    <tr>\n",
       "      <th>...</th>\n",
       "      <td>...</td>\n",
       "      <td>...</td>\n",
       "      <td>...</td>\n",
       "      <td>...</td>\n",
       "      <td>...</td>\n",
       "      <td>...</td>\n",
       "      <td>...</td>\n",
       "      <td>...</td>\n",
       "      <td>...</td>\n",
       "      <td>...</td>\n",
       "      <td>...</td>\n",
       "      <td>...</td>\n",
       "    </tr>\n",
       "    <tr>\n",
       "      <th>D:/open_soundscape_files/./Cosmos_data/Testing/XC27942 - Yellow-olive Flatbill - Tolmomyias sulphurescens_15.0.wav</th>\n",
       "      <td>0</td>\n",
       "      <td>0</td>\n",
       "      <td>0</td>\n",
       "      <td>0</td>\n",
       "      <td>0</td>\n",
       "      <td>0</td>\n",
       "      <td>0</td>\n",
       "      <td>0</td>\n",
       "      <td>0</td>\n",
       "      <td>0</td>\n",
       "      <td>0</td>\n",
       "      <td>1</td>\n",
       "    </tr>\n",
       "    <tr>\n",
       "      <th>D:/open_soundscape_files/./Cosmos_data/Testing/XC27942 - Yellow-olive Flatbill - Tolmomyias sulphurescens_18.0.wav</th>\n",
       "      <td>0</td>\n",
       "      <td>0</td>\n",
       "      <td>0</td>\n",
       "      <td>0</td>\n",
       "      <td>0</td>\n",
       "      <td>0</td>\n",
       "      <td>1</td>\n",
       "      <td>0</td>\n",
       "      <td>0</td>\n",
       "      <td>0</td>\n",
       "      <td>0</td>\n",
       "      <td>0</td>\n",
       "    </tr>\n",
       "    <tr>\n",
       "      <th>D:/open_soundscape_files/./Cosmos_data/Testing/XC27942 - Yellow-olive Flatbill - Tolmomyias sulphurescens_21.0.wav</th>\n",
       "      <td>0</td>\n",
       "      <td>0</td>\n",
       "      <td>0</td>\n",
       "      <td>0</td>\n",
       "      <td>0</td>\n",
       "      <td>0</td>\n",
       "      <td>0</td>\n",
       "      <td>0</td>\n",
       "      <td>0</td>\n",
       "      <td>0</td>\n",
       "      <td>0</td>\n",
       "      <td>1</td>\n",
       "    </tr>\n",
       "    <tr>\n",
       "      <th>D:/open_soundscape_files/./Cosmos_data/Testing/XC27942 - Yellow-olive Flatbill - Tolmomyias sulphurescens_24.0.wav</th>\n",
       "      <td>0</td>\n",
       "      <td>0</td>\n",
       "      <td>0</td>\n",
       "      <td>0</td>\n",
       "      <td>0</td>\n",
       "      <td>0</td>\n",
       "      <td>0</td>\n",
       "      <td>0</td>\n",
       "      <td>0</td>\n",
       "      <td>0</td>\n",
       "      <td>0</td>\n",
       "      <td>1</td>\n",
       "    </tr>\n",
       "    <tr>\n",
       "      <th>D:/open_soundscape_files/./Cosmos_data/Testing/XC27942 - Yellow-olive Flatbill - Tolmomyias sulphurescens_27.0.wav</th>\n",
       "      <td>0</td>\n",
       "      <td>0</td>\n",
       "      <td>0</td>\n",
       "      <td>0</td>\n",
       "      <td>0</td>\n",
       "      <td>0</td>\n",
       "      <td>1</td>\n",
       "      <td>0</td>\n",
       "      <td>0</td>\n",
       "      <td>0</td>\n",
       "      <td>0</td>\n",
       "      <td>0</td>\n",
       "    </tr>\n",
       "  </tbody>\n",
       "</table>\n",
       "<p>6434 rows × 12 columns</p>\n",
       "</div>"
      ],
      "text/plain": [
       "                                                    Microcerculus marginatus  \\\n",
       "file                                                                           \n",
       "D:/open_soundscape_files/./Cosmos_data/Testing/...                         0   \n",
       "D:/open_soundscape_files/./Cosmos_data/Testing/...                         0   \n",
       "D:/open_soundscape_files/./Cosmos_data/Testing/...                         0   \n",
       "D:/open_soundscape_files/./Cosmos_data/Testing/...                         0   \n",
       "D:/open_soundscape_files/./Cosmos_data/Testing/...                         0   \n",
       "...                                                                      ...   \n",
       "D:/open_soundscape_files/./Cosmos_data/Testing/...                         0   \n",
       "D:/open_soundscape_files/./Cosmos_data/Testing/...                         0   \n",
       "D:/open_soundscape_files/./Cosmos_data/Testing/...                         0   \n",
       "D:/open_soundscape_files/./Cosmos_data/Testing/...                         0   \n",
       "D:/open_soundscape_files/./Cosmos_data/Testing/...                         0   \n",
       "\n",
       "                                                    Myioborus miniatus  \\\n",
       "file                                                                     \n",
       "D:/open_soundscape_files/./Cosmos_data/Testing/...                   0   \n",
       "D:/open_soundscape_files/./Cosmos_data/Testing/...                   0   \n",
       "D:/open_soundscape_files/./Cosmos_data/Testing/...                   0   \n",
       "D:/open_soundscape_files/./Cosmos_data/Testing/...                   0   \n",
       "D:/open_soundscape_files/./Cosmos_data/Testing/...                   0   \n",
       "...                                                                ...   \n",
       "D:/open_soundscape_files/./Cosmos_data/Testing/...                   0   \n",
       "D:/open_soundscape_files/./Cosmos_data/Testing/...                   0   \n",
       "D:/open_soundscape_files/./Cosmos_data/Testing/...                   0   \n",
       "D:/open_soundscape_files/./Cosmos_data/Testing/...                   0   \n",
       "D:/open_soundscape_files/./Cosmos_data/Testing/...                   0   \n",
       "\n",
       "                                                    Thraupis episcopus  bird  \\\n",
       "file                                                                           \n",
       "D:/open_soundscape_files/./Cosmos_data/Testing/...                   0     0   \n",
       "D:/open_soundscape_files/./Cosmos_data/Testing/...                   0     0   \n",
       "D:/open_soundscape_files/./Cosmos_data/Testing/...                   0     0   \n",
       "D:/open_soundscape_files/./Cosmos_data/Testing/...                   0     0   \n",
       "D:/open_soundscape_files/./Cosmos_data/Testing/...                   0     0   \n",
       "...                                                                ...   ...   \n",
       "D:/open_soundscape_files/./Cosmos_data/Testing/...                   0     0   \n",
       "D:/open_soundscape_files/./Cosmos_data/Testing/...                   0     0   \n",
       "D:/open_soundscape_files/./Cosmos_data/Testing/...                   0     0   \n",
       "D:/open_soundscape_files/./Cosmos_data/Testing/...                   0     0   \n",
       "D:/open_soundscape_files/./Cosmos_data/Testing/...                   0     0   \n",
       "\n",
       "                                                    Ramphastos tucanus  \\\n",
       "file                                                                     \n",
       "D:/open_soundscape_files/./Cosmos_data/Testing/...                   0   \n",
       "D:/open_soundscape_files/./Cosmos_data/Testing/...                   0   \n",
       "D:/open_soundscape_files/./Cosmos_data/Testing/...                   0   \n",
       "D:/open_soundscape_files/./Cosmos_data/Testing/...                   0   \n",
       "D:/open_soundscape_files/./Cosmos_data/Testing/...                   0   \n",
       "...                                                                ...   \n",
       "D:/open_soundscape_files/./Cosmos_data/Testing/...                   0   \n",
       "D:/open_soundscape_files/./Cosmos_data/Testing/...                   0   \n",
       "D:/open_soundscape_files/./Cosmos_data/Testing/...                   0   \n",
       "D:/open_soundscape_files/./Cosmos_data/Testing/...                   0   \n",
       "D:/open_soundscape_files/./Cosmos_data/Testing/...                   0   \n",
       "\n",
       "                                                    Xiphorhynchus guttatus  \\\n",
       "file                                                                         \n",
       "D:/open_soundscape_files/./Cosmos_data/Testing/...                       0   \n",
       "D:/open_soundscape_files/./Cosmos_data/Testing/...                       0   \n",
       "D:/open_soundscape_files/./Cosmos_data/Testing/...                       0   \n",
       "D:/open_soundscape_files/./Cosmos_data/Testing/...                       0   \n",
       "D:/open_soundscape_files/./Cosmos_data/Testing/...                       0   \n",
       "...                                                                    ...   \n",
       "D:/open_soundscape_files/./Cosmos_data/Testing/...                       0   \n",
       "D:/open_soundscape_files/./Cosmos_data/Testing/...                       0   \n",
       "D:/open_soundscape_files/./Cosmos_data/Testing/...                       0   \n",
       "D:/open_soundscape_files/./Cosmos_data/Testing/...                       0   \n",
       "D:/open_soundscape_files/./Cosmos_data/Testing/...                       0   \n",
       "\n",
       "                                                    no bird  Celeus grammicus  \\\n",
       "file                                                                            \n",
       "D:/open_soundscape_files/./Cosmos_data/Testing/...        0                 1   \n",
       "D:/open_soundscape_files/./Cosmos_data/Testing/...        0                 1   \n",
       "D:/open_soundscape_files/./Cosmos_data/Testing/...        1                 0   \n",
       "D:/open_soundscape_files/./Cosmos_data/Testing/...        0                 1   \n",
       "D:/open_soundscape_files/./Cosmos_data/Testing/...        0                 1   \n",
       "...                                                     ...               ...   \n",
       "D:/open_soundscape_files/./Cosmos_data/Testing/...        0                 0   \n",
       "D:/open_soundscape_files/./Cosmos_data/Testing/...        1                 0   \n",
       "D:/open_soundscape_files/./Cosmos_data/Testing/...        0                 0   \n",
       "D:/open_soundscape_files/./Cosmos_data/Testing/...        0                 0   \n",
       "D:/open_soundscape_files/./Cosmos_data/Testing/...        1                 0   \n",
       "\n",
       "                                                    Zonotrichia capensis  \\\n",
       "file                                                                       \n",
       "D:/open_soundscape_files/./Cosmos_data/Testing/...                     0   \n",
       "D:/open_soundscape_files/./Cosmos_data/Testing/...                     0   \n",
       "D:/open_soundscape_files/./Cosmos_data/Testing/...                     0   \n",
       "D:/open_soundscape_files/./Cosmos_data/Testing/...                     0   \n",
       "D:/open_soundscape_files/./Cosmos_data/Testing/...                     0   \n",
       "...                                                                  ...   \n",
       "D:/open_soundscape_files/./Cosmos_data/Testing/...                     0   \n",
       "D:/open_soundscape_files/./Cosmos_data/Testing/...                     0   \n",
       "D:/open_soundscape_files/./Cosmos_data/Testing/...                     0   \n",
       "D:/open_soundscape_files/./Cosmos_data/Testing/...                     0   \n",
       "D:/open_soundscape_files/./Cosmos_data/Testing/...                     0   \n",
       "\n",
       "                                                    Trogon viridis  \\\n",
       "file                                                                 \n",
       "D:/open_soundscape_files/./Cosmos_data/Testing/...               0   \n",
       "D:/open_soundscape_files/./Cosmos_data/Testing/...               0   \n",
       "D:/open_soundscape_files/./Cosmos_data/Testing/...               0   \n",
       "D:/open_soundscape_files/./Cosmos_data/Testing/...               0   \n",
       "D:/open_soundscape_files/./Cosmos_data/Testing/...               0   \n",
       "...                                                            ...   \n",
       "D:/open_soundscape_files/./Cosmos_data/Testing/...               0   \n",
       "D:/open_soundscape_files/./Cosmos_data/Testing/...               0   \n",
       "D:/open_soundscape_files/./Cosmos_data/Testing/...               0   \n",
       "D:/open_soundscape_files/./Cosmos_data/Testing/...               0   \n",
       "D:/open_soundscape_files/./Cosmos_data/Testing/...               0   \n",
       "\n",
       "                                                    Turdus leucomelas  \\\n",
       "file                                                                    \n",
       "D:/open_soundscape_files/./Cosmos_data/Testing/...                  0   \n",
       "D:/open_soundscape_files/./Cosmos_data/Testing/...                  0   \n",
       "D:/open_soundscape_files/./Cosmos_data/Testing/...                  0   \n",
       "D:/open_soundscape_files/./Cosmos_data/Testing/...                  0   \n",
       "D:/open_soundscape_files/./Cosmos_data/Testing/...                  0   \n",
       "...                                                               ...   \n",
       "D:/open_soundscape_files/./Cosmos_data/Testing/...                  0   \n",
       "D:/open_soundscape_files/./Cosmos_data/Testing/...                  0   \n",
       "D:/open_soundscape_files/./Cosmos_data/Testing/...                  0   \n",
       "D:/open_soundscape_files/./Cosmos_data/Testing/...                  0   \n",
       "D:/open_soundscape_files/./Cosmos_data/Testing/...                  0   \n",
       "\n",
       "                                                    Tolmomyias sulphurescens  \n",
       "file                                                                          \n",
       "D:/open_soundscape_files/./Cosmos_data/Testing/...                         0  \n",
       "D:/open_soundscape_files/./Cosmos_data/Testing/...                         0  \n",
       "D:/open_soundscape_files/./Cosmos_data/Testing/...                         0  \n",
       "D:/open_soundscape_files/./Cosmos_data/Testing/...                         0  \n",
       "D:/open_soundscape_files/./Cosmos_data/Testing/...                         0  \n",
       "...                                                                      ...  \n",
       "D:/open_soundscape_files/./Cosmos_data/Testing/...                         1  \n",
       "D:/open_soundscape_files/./Cosmos_data/Testing/...                         0  \n",
       "D:/open_soundscape_files/./Cosmos_data/Testing/...                         1  \n",
       "D:/open_soundscape_files/./Cosmos_data/Testing/...                         1  \n",
       "D:/open_soundscape_files/./Cosmos_data/Testing/...                         0  \n",
       "\n",
       "[6434 rows x 12 columns]"
      ]
     },
     "execution_count": 40,
     "metadata": {},
     "output_type": "execute_result"
    }
   ],
   "source": [
    "test_df"
   ]
  },
  {
   "cell_type": "code",
   "execution_count": 41,
   "id": "20f04fa6",
   "metadata": {},
   "outputs": [
    {
     "data": {
      "text/html": [
       "<div>\n",
       "<style scoped>\n",
       "    .dataframe tbody tr th:only-of-type {\n",
       "        vertical-align: middle;\n",
       "    }\n",
       "\n",
       "    .dataframe tbody tr th {\n",
       "        vertical-align: top;\n",
       "    }\n",
       "\n",
       "    .dataframe thead th {\n",
       "        text-align: right;\n",
       "    }\n",
       "</style>\n",
       "<table border=\"1\" class=\"dataframe\">\n",
       "  <thead>\n",
       "    <tr style=\"text-align: right;\">\n",
       "      <th></th>\n",
       "      <th>Microcerculus marginatus</th>\n",
       "      <th>Myioborus miniatus</th>\n",
       "      <th>Thraupis episcopus</th>\n",
       "      <th>bird</th>\n",
       "      <th>Ramphastos tucanus</th>\n",
       "      <th>Xiphorhynchus guttatus</th>\n",
       "      <th>no bird</th>\n",
       "      <th>Celeus grammicus</th>\n",
       "      <th>Zonotrichia capensis</th>\n",
       "      <th>Trogon viridis</th>\n",
       "      <th>Turdus leucomelas</th>\n",
       "      <th>Tolmomyias sulphurescens</th>\n",
       "    </tr>\n",
       "    <tr>\n",
       "      <th>file</th>\n",
       "      <th></th>\n",
       "      <th></th>\n",
       "      <th></th>\n",
       "      <th></th>\n",
       "      <th></th>\n",
       "      <th></th>\n",
       "      <th></th>\n",
       "      <th></th>\n",
       "      <th></th>\n",
       "      <th></th>\n",
       "      <th></th>\n",
       "      <th></th>\n",
       "    </tr>\n",
       "  </thead>\n",
       "  <tbody>\n",
       "    <tr>\n",
       "      <th>D:/open_soundscape_files/./Cosmos_data/Testing/XC87449 - Scaly-breasted Woodpecker - Celeus grammicus subcervinus_0.0.wav</th>\n",
       "      <td>0</td>\n",
       "      <td>0</td>\n",
       "      <td>0</td>\n",
       "      <td>0</td>\n",
       "      <td>0</td>\n",
       "      <td>0</td>\n",
       "      <td>0</td>\n",
       "      <td>1</td>\n",
       "      <td>0</td>\n",
       "      <td>0</td>\n",
       "      <td>0</td>\n",
       "      <td>0</td>\n",
       "    </tr>\n",
       "    <tr>\n",
       "      <th>D:/open_soundscape_files/./Cosmos_data/Testing/XC87449 - Scaly-breasted Woodpecker - Celeus grammicus subcervinus_3.0.wav</th>\n",
       "      <td>0</td>\n",
       "      <td>0</td>\n",
       "      <td>0</td>\n",
       "      <td>0</td>\n",
       "      <td>0</td>\n",
       "      <td>0</td>\n",
       "      <td>0</td>\n",
       "      <td>1</td>\n",
       "      <td>0</td>\n",
       "      <td>0</td>\n",
       "      <td>0</td>\n",
       "      <td>0</td>\n",
       "    </tr>\n",
       "    <tr>\n",
       "      <th>D:/open_soundscape_files/./Cosmos_data/Testing/XC87449 - Scaly-breasted Woodpecker - Celeus grammicus subcervinus_6.0.wav</th>\n",
       "      <td>0</td>\n",
       "      <td>0</td>\n",
       "      <td>0</td>\n",
       "      <td>0</td>\n",
       "      <td>0</td>\n",
       "      <td>0</td>\n",
       "      <td>1</td>\n",
       "      <td>0</td>\n",
       "      <td>0</td>\n",
       "      <td>0</td>\n",
       "      <td>0</td>\n",
       "      <td>0</td>\n",
       "    </tr>\n",
       "    <tr>\n",
       "      <th>D:/open_soundscape_files/./Cosmos_data/Testing/XC87449 - Scaly-breasted Woodpecker - Celeus grammicus subcervinus_9.0.wav</th>\n",
       "      <td>0</td>\n",
       "      <td>0</td>\n",
       "      <td>0</td>\n",
       "      <td>0</td>\n",
       "      <td>0</td>\n",
       "      <td>0</td>\n",
       "      <td>0</td>\n",
       "      <td>1</td>\n",
       "      <td>0</td>\n",
       "      <td>0</td>\n",
       "      <td>0</td>\n",
       "      <td>0</td>\n",
       "    </tr>\n",
       "    <tr>\n",
       "      <th>D:/open_soundscape_files/./Cosmos_data/Testing/XC87449 - Scaly-breasted Woodpecker - Celeus grammicus subcervinus_12.0.wav</th>\n",
       "      <td>0</td>\n",
       "      <td>0</td>\n",
       "      <td>0</td>\n",
       "      <td>0</td>\n",
       "      <td>0</td>\n",
       "      <td>0</td>\n",
       "      <td>0</td>\n",
       "      <td>1</td>\n",
       "      <td>0</td>\n",
       "      <td>0</td>\n",
       "      <td>0</td>\n",
       "      <td>0</td>\n",
       "    </tr>\n",
       "    <tr>\n",
       "      <th>...</th>\n",
       "      <td>...</td>\n",
       "      <td>...</td>\n",
       "      <td>...</td>\n",
       "      <td>...</td>\n",
       "      <td>...</td>\n",
       "      <td>...</td>\n",
       "      <td>...</td>\n",
       "      <td>...</td>\n",
       "      <td>...</td>\n",
       "      <td>...</td>\n",
       "      <td>...</td>\n",
       "      <td>...</td>\n",
       "    </tr>\n",
       "    <tr>\n",
       "      <th>D:/open_soundscape_files/./Cosmos_data/Testing/XC27942 - Yellow-olive Flatbill - Tolmomyias sulphurescens_15.0.wav</th>\n",
       "      <td>0</td>\n",
       "      <td>0</td>\n",
       "      <td>0</td>\n",
       "      <td>0</td>\n",
       "      <td>0</td>\n",
       "      <td>0</td>\n",
       "      <td>0</td>\n",
       "      <td>0</td>\n",
       "      <td>0</td>\n",
       "      <td>0</td>\n",
       "      <td>0</td>\n",
       "      <td>1</td>\n",
       "    </tr>\n",
       "    <tr>\n",
       "      <th>D:/open_soundscape_files/./Cosmos_data/Testing/XC27942 - Yellow-olive Flatbill - Tolmomyias sulphurescens_18.0.wav</th>\n",
       "      <td>0</td>\n",
       "      <td>0</td>\n",
       "      <td>0</td>\n",
       "      <td>0</td>\n",
       "      <td>0</td>\n",
       "      <td>0</td>\n",
       "      <td>1</td>\n",
       "      <td>0</td>\n",
       "      <td>0</td>\n",
       "      <td>0</td>\n",
       "      <td>0</td>\n",
       "      <td>0</td>\n",
       "    </tr>\n",
       "    <tr>\n",
       "      <th>D:/open_soundscape_files/./Cosmos_data/Testing/XC27942 - Yellow-olive Flatbill - Tolmomyias sulphurescens_21.0.wav</th>\n",
       "      <td>0</td>\n",
       "      <td>0</td>\n",
       "      <td>0</td>\n",
       "      <td>0</td>\n",
       "      <td>0</td>\n",
       "      <td>0</td>\n",
       "      <td>0</td>\n",
       "      <td>0</td>\n",
       "      <td>0</td>\n",
       "      <td>0</td>\n",
       "      <td>0</td>\n",
       "      <td>1</td>\n",
       "    </tr>\n",
       "    <tr>\n",
       "      <th>D:/open_soundscape_files/./Cosmos_data/Testing/XC27942 - Yellow-olive Flatbill - Tolmomyias sulphurescens_24.0.wav</th>\n",
       "      <td>0</td>\n",
       "      <td>0</td>\n",
       "      <td>0</td>\n",
       "      <td>0</td>\n",
       "      <td>0</td>\n",
       "      <td>0</td>\n",
       "      <td>0</td>\n",
       "      <td>0</td>\n",
       "      <td>0</td>\n",
       "      <td>0</td>\n",
       "      <td>0</td>\n",
       "      <td>1</td>\n",
       "    </tr>\n",
       "    <tr>\n",
       "      <th>D:/open_soundscape_files/./Cosmos_data/Testing/XC27942 - Yellow-olive Flatbill - Tolmomyias sulphurescens_27.0.wav</th>\n",
       "      <td>0</td>\n",
       "      <td>0</td>\n",
       "      <td>0</td>\n",
       "      <td>0</td>\n",
       "      <td>0</td>\n",
       "      <td>0</td>\n",
       "      <td>1</td>\n",
       "      <td>0</td>\n",
       "      <td>0</td>\n",
       "      <td>0</td>\n",
       "      <td>0</td>\n",
       "      <td>0</td>\n",
       "    </tr>\n",
       "  </tbody>\n",
       "</table>\n",
       "<p>6434 rows × 12 columns</p>\n",
       "</div>"
      ],
      "text/plain": [
       "                                                    Microcerculus marginatus  \\\n",
       "file                                                                           \n",
       "D:/open_soundscape_files/./Cosmos_data/Testing/...                         0   \n",
       "D:/open_soundscape_files/./Cosmos_data/Testing/...                         0   \n",
       "D:/open_soundscape_files/./Cosmos_data/Testing/...                         0   \n",
       "D:/open_soundscape_files/./Cosmos_data/Testing/...                         0   \n",
       "D:/open_soundscape_files/./Cosmos_data/Testing/...                         0   \n",
       "...                                                                      ...   \n",
       "D:/open_soundscape_files/./Cosmos_data/Testing/...                         0   \n",
       "D:/open_soundscape_files/./Cosmos_data/Testing/...                         0   \n",
       "D:/open_soundscape_files/./Cosmos_data/Testing/...                         0   \n",
       "D:/open_soundscape_files/./Cosmos_data/Testing/...                         0   \n",
       "D:/open_soundscape_files/./Cosmos_data/Testing/...                         0   \n",
       "\n",
       "                                                    Myioborus miniatus  \\\n",
       "file                                                                     \n",
       "D:/open_soundscape_files/./Cosmos_data/Testing/...                   0   \n",
       "D:/open_soundscape_files/./Cosmos_data/Testing/...                   0   \n",
       "D:/open_soundscape_files/./Cosmos_data/Testing/...                   0   \n",
       "D:/open_soundscape_files/./Cosmos_data/Testing/...                   0   \n",
       "D:/open_soundscape_files/./Cosmos_data/Testing/...                   0   \n",
       "...                                                                ...   \n",
       "D:/open_soundscape_files/./Cosmos_data/Testing/...                   0   \n",
       "D:/open_soundscape_files/./Cosmos_data/Testing/...                   0   \n",
       "D:/open_soundscape_files/./Cosmos_data/Testing/...                   0   \n",
       "D:/open_soundscape_files/./Cosmos_data/Testing/...                   0   \n",
       "D:/open_soundscape_files/./Cosmos_data/Testing/...                   0   \n",
       "\n",
       "                                                    Thraupis episcopus  bird  \\\n",
       "file                                                                           \n",
       "D:/open_soundscape_files/./Cosmos_data/Testing/...                   0     0   \n",
       "D:/open_soundscape_files/./Cosmos_data/Testing/...                   0     0   \n",
       "D:/open_soundscape_files/./Cosmos_data/Testing/...                   0     0   \n",
       "D:/open_soundscape_files/./Cosmos_data/Testing/...                   0     0   \n",
       "D:/open_soundscape_files/./Cosmos_data/Testing/...                   0     0   \n",
       "...                                                                ...   ...   \n",
       "D:/open_soundscape_files/./Cosmos_data/Testing/...                   0     0   \n",
       "D:/open_soundscape_files/./Cosmos_data/Testing/...                   0     0   \n",
       "D:/open_soundscape_files/./Cosmos_data/Testing/...                   0     0   \n",
       "D:/open_soundscape_files/./Cosmos_data/Testing/...                   0     0   \n",
       "D:/open_soundscape_files/./Cosmos_data/Testing/...                   0     0   \n",
       "\n",
       "                                                    Ramphastos tucanus  \\\n",
       "file                                                                     \n",
       "D:/open_soundscape_files/./Cosmos_data/Testing/...                   0   \n",
       "D:/open_soundscape_files/./Cosmos_data/Testing/...                   0   \n",
       "D:/open_soundscape_files/./Cosmos_data/Testing/...                   0   \n",
       "D:/open_soundscape_files/./Cosmos_data/Testing/...                   0   \n",
       "D:/open_soundscape_files/./Cosmos_data/Testing/...                   0   \n",
       "...                                                                ...   \n",
       "D:/open_soundscape_files/./Cosmos_data/Testing/...                   0   \n",
       "D:/open_soundscape_files/./Cosmos_data/Testing/...                   0   \n",
       "D:/open_soundscape_files/./Cosmos_data/Testing/...                   0   \n",
       "D:/open_soundscape_files/./Cosmos_data/Testing/...                   0   \n",
       "D:/open_soundscape_files/./Cosmos_data/Testing/...                   0   \n",
       "\n",
       "                                                    Xiphorhynchus guttatus  \\\n",
       "file                                                                         \n",
       "D:/open_soundscape_files/./Cosmos_data/Testing/...                       0   \n",
       "D:/open_soundscape_files/./Cosmos_data/Testing/...                       0   \n",
       "D:/open_soundscape_files/./Cosmos_data/Testing/...                       0   \n",
       "D:/open_soundscape_files/./Cosmos_data/Testing/...                       0   \n",
       "D:/open_soundscape_files/./Cosmos_data/Testing/...                       0   \n",
       "...                                                                    ...   \n",
       "D:/open_soundscape_files/./Cosmos_data/Testing/...                       0   \n",
       "D:/open_soundscape_files/./Cosmos_data/Testing/...                       0   \n",
       "D:/open_soundscape_files/./Cosmos_data/Testing/...                       0   \n",
       "D:/open_soundscape_files/./Cosmos_data/Testing/...                       0   \n",
       "D:/open_soundscape_files/./Cosmos_data/Testing/...                       0   \n",
       "\n",
       "                                                    no bird  Celeus grammicus  \\\n",
       "file                                                                            \n",
       "D:/open_soundscape_files/./Cosmos_data/Testing/...        0                 1   \n",
       "D:/open_soundscape_files/./Cosmos_data/Testing/...        0                 1   \n",
       "D:/open_soundscape_files/./Cosmos_data/Testing/...        1                 0   \n",
       "D:/open_soundscape_files/./Cosmos_data/Testing/...        0                 1   \n",
       "D:/open_soundscape_files/./Cosmos_data/Testing/...        0                 1   \n",
       "...                                                     ...               ...   \n",
       "D:/open_soundscape_files/./Cosmos_data/Testing/...        0                 0   \n",
       "D:/open_soundscape_files/./Cosmos_data/Testing/...        1                 0   \n",
       "D:/open_soundscape_files/./Cosmos_data/Testing/...        0                 0   \n",
       "D:/open_soundscape_files/./Cosmos_data/Testing/...        0                 0   \n",
       "D:/open_soundscape_files/./Cosmos_data/Testing/...        1                 0   \n",
       "\n",
       "                                                    Zonotrichia capensis  \\\n",
       "file                                                                       \n",
       "D:/open_soundscape_files/./Cosmos_data/Testing/...                     0   \n",
       "D:/open_soundscape_files/./Cosmos_data/Testing/...                     0   \n",
       "D:/open_soundscape_files/./Cosmos_data/Testing/...                     0   \n",
       "D:/open_soundscape_files/./Cosmos_data/Testing/...                     0   \n",
       "D:/open_soundscape_files/./Cosmos_data/Testing/...                     0   \n",
       "...                                                                  ...   \n",
       "D:/open_soundscape_files/./Cosmos_data/Testing/...                     0   \n",
       "D:/open_soundscape_files/./Cosmos_data/Testing/...                     0   \n",
       "D:/open_soundscape_files/./Cosmos_data/Testing/...                     0   \n",
       "D:/open_soundscape_files/./Cosmos_data/Testing/...                     0   \n",
       "D:/open_soundscape_files/./Cosmos_data/Testing/...                     0   \n",
       "\n",
       "                                                    Trogon viridis  \\\n",
       "file                                                                 \n",
       "D:/open_soundscape_files/./Cosmos_data/Testing/...               0   \n",
       "D:/open_soundscape_files/./Cosmos_data/Testing/...               0   \n",
       "D:/open_soundscape_files/./Cosmos_data/Testing/...               0   \n",
       "D:/open_soundscape_files/./Cosmos_data/Testing/...               0   \n",
       "D:/open_soundscape_files/./Cosmos_data/Testing/...               0   \n",
       "...                                                            ...   \n",
       "D:/open_soundscape_files/./Cosmos_data/Testing/...               0   \n",
       "D:/open_soundscape_files/./Cosmos_data/Testing/...               0   \n",
       "D:/open_soundscape_files/./Cosmos_data/Testing/...               0   \n",
       "D:/open_soundscape_files/./Cosmos_data/Testing/...               0   \n",
       "D:/open_soundscape_files/./Cosmos_data/Testing/...               0   \n",
       "\n",
       "                                                    Turdus leucomelas  \\\n",
       "file                                                                    \n",
       "D:/open_soundscape_files/./Cosmos_data/Testing/...                  0   \n",
       "D:/open_soundscape_files/./Cosmos_data/Testing/...                  0   \n",
       "D:/open_soundscape_files/./Cosmos_data/Testing/...                  0   \n",
       "D:/open_soundscape_files/./Cosmos_data/Testing/...                  0   \n",
       "D:/open_soundscape_files/./Cosmos_data/Testing/...                  0   \n",
       "...                                                               ...   \n",
       "D:/open_soundscape_files/./Cosmos_data/Testing/...                  0   \n",
       "D:/open_soundscape_files/./Cosmos_data/Testing/...                  0   \n",
       "D:/open_soundscape_files/./Cosmos_data/Testing/...                  0   \n",
       "D:/open_soundscape_files/./Cosmos_data/Testing/...                  0   \n",
       "D:/open_soundscape_files/./Cosmos_data/Testing/...                  0   \n",
       "\n",
       "                                                    Tolmomyias sulphurescens  \n",
       "file                                                                          \n",
       "D:/open_soundscape_files/./Cosmos_data/Testing/...                         0  \n",
       "D:/open_soundscape_files/./Cosmos_data/Testing/...                         0  \n",
       "D:/open_soundscape_files/./Cosmos_data/Testing/...                         0  \n",
       "D:/open_soundscape_files/./Cosmos_data/Testing/...                         0  \n",
       "D:/open_soundscape_files/./Cosmos_data/Testing/...                         0  \n",
       "...                                                                      ...  \n",
       "D:/open_soundscape_files/./Cosmos_data/Testing/...                         1  \n",
       "D:/open_soundscape_files/./Cosmos_data/Testing/...                         0  \n",
       "D:/open_soundscape_files/./Cosmos_data/Testing/...                         1  \n",
       "D:/open_soundscape_files/./Cosmos_data/Testing/...                         1  \n",
       "D:/open_soundscape_files/./Cosmos_data/Testing/...                         0  \n",
       "\n",
       "[6434 rows x 12 columns]"
      ]
     },
     "execution_count": 41,
     "metadata": {},
     "output_type": "execute_result"
    }
   ],
   "source": [
    "prediction_dataset.df"
   ]
  },
  {
   "cell_type": "code",
   "execution_count": 42,
   "id": "008b7f61",
   "metadata": {},
   "outputs": [
    {
     "data": {
      "text/plain": [
       "'./model/test_for_reformed_dataset/'"
      ]
     },
     "execution_count": 42,
     "metadata": {},
     "output_type": "execute_result"
    }
   ],
   "source": [
    "model_save"
   ]
  },
  {
   "cell_type": "code",
   "execution_count": 43,
   "id": "14721a33",
   "metadata": {},
   "outputs": [],
   "source": [
    "#test_name = \"C:/Users/Siloux/Desktop/E4E/passive-acoustic-biodiversity/OpenSoundScape/MultiClass Classifier/Cosmos_Data/automated_cosmos_tweety_to_file\"\n",
    "#test_df = pd.read_csv(test_name + '_TESTING.csv')\n",
    "\n",
    "#print(species)\n",
    "#def fix_classes(label):\n",
    "#    if (not label in species):\n",
    "#        return \"other\"\n",
    "#    return label\n",
    "#test_df['MANUAL ID'] = test_df[\"MANUAL ID\"].apply(fix_classes)\n",
    "#test_df\n",
    "#classes"
   ]
  },
  {
   "cell_type": "code",
   "execution_count": 44,
   "id": "2dd1d4fc",
   "metadata": {},
   "outputs": [],
   "source": [
    "#test_name = \"C:/Users/Siloux/Desktop/E4E/passive-acoustic-biodiversity/OpenSoundScape/MultiClass Classifier/Cosmos_Data/automated_cosmos_tweety_to_file\"\n",
    "#test_df = pd.read_csv(test_name + '_TESTING.csv')\n",
    "#other_bird = test_df[~(test_df[\"MANUAL ID\"].isin(classes))]\n",
    "#test_df= test_df[(test_df[\"MANUAL ID\"].isin(classes))]\n",
    "#other_bird[\"MANUAL ID\"] = \"bird\"\n",
    "#test_df"
   ]
  },
  {
   "cell_type": "code",
   "execution_count": 45,
   "id": "d01ca0f1",
   "metadata": {},
   "outputs": [],
   "source": [
    "#classes"
   ]
  },
  {
   "cell_type": "code",
   "execution_count": 46,
   "id": "90e13287",
   "metadata": {},
   "outputs": [],
   "source": [
    "\n",
    "#test_df = test_df.append(other_bird)\n",
    "#one_hot_labels, test_classes = categorical_to_one_hot(test_df[['MANUAL ID']].values)\n",
    "#test_df = pd.DataFrame(index=test_df['file'],data=one_hot_labels,columns=test_classes)\n",
    "#prediction_dataset.df = test_df"
   ]
  },
  {
   "cell_type": "code",
   "execution_count": null,
   "id": "3f2609fb",
   "metadata": {},
   "outputs": [],
   "source": [
    "\n"
   ]
  },
  {
   "cell_type": "code",
   "execution_count": 47,
   "id": "9a035049",
   "metadata": {},
   "outputs": [
    {
     "data": {
      "text/plain": [
       "['Microcerculus marginatus',\n",
       " 'Myioborus miniatus',\n",
       " 'Thraupis episcopus',\n",
       " 'Ramphastos tucanus',\n",
       " 'Xiphorhynchus guttatus',\n",
       " 'no bird',\n",
       " 'Celeus grammicus',\n",
       " 'Zonotrichia capensis',\n",
       " 'Trogon viridis',\n",
       " 'Turdus leucomelas',\n",
       " 'Tolmomyias sulphurescens']"
      ]
     },
     "execution_count": 47,
     "metadata": {},
     "output_type": "execute_result"
    }
   ],
   "source": [
    "model.classes"
   ]
  },
  {
   "cell_type": "code",
   "execution_count": 48,
   "id": "7a3462f1",
   "metadata": {},
   "outputs": [],
   "source": [
    "prediction_dataset.df = prediction_dataset.df[list(model.classes)]"
   ]
  },
  {
   "cell_type": "code",
   "execution_count": 49,
   "id": "96a2c2dd",
   "metadata": {},
   "outputs": [
    {
     "data": {
      "text/plain": [
       "['Microcerculus marginatus',\n",
       " 'Myioborus miniatus',\n",
       " 'Thraupis episcopus',\n",
       " 'Ramphastos tucanus',\n",
       " 'Xiphorhynchus guttatus',\n",
       " 'no bird',\n",
       " 'Celeus grammicus',\n",
       " 'Zonotrichia capensis',\n",
       " 'Trogon viridis',\n",
       " 'Turdus leucomelas',\n",
       " 'Tolmomyias sulphurescens']"
      ]
     },
     "execution_count": 49,
     "metadata": {},
     "output_type": "execute_result"
    }
   ],
   "source": [
    "list(model.classes)"
   ]
  },
  {
   "cell_type": "code",
   "execution_count": 52,
   "id": "61baea49",
   "metadata": {},
   "outputs": [
    {
     "name": "stdout",
     "output_type": "stream",
     "text": [
      "(6434, 11)\n"
     ]
    }
   ],
   "source": [
    "valid_scores_df, valid_preds_df, valid_labels_df = model.predict(prediction_dataset,\n",
    "                                                                 binary_preds='single_target',\n",
    "                                                                 batch_size=16,\n",
    "                                                                 num_workers=2,\n",
    "                                                                 activation_layer='softmax')"
   ]
  },
  {
   "cell_type": "markdown",
   "id": "1fff067d",
   "metadata": {},
   "source": [
    "#### Print various metrics for the test set predictions"
   ]
  },
  {
   "cell_type": "code",
   "execution_count": null,
   "id": "a31efb37",
   "metadata": {},
   "outputs": [],
   "source": [
    "valid_labels_df.to_csv(\"valid_labels_df.csv\")\n",
    "valid_labels_df"
   ]
  },
  {
   "cell_type": "code",
   "execution_count": null,
   "id": "700c9e3d",
   "metadata": {},
   "outputs": [],
   "source": [
    "valid_preds_df.to_csv(\"valid_preds_df.csv\")\n",
    "valid_preds_df"
   ]
  },
  {
   "cell_type": "code",
   "execution_count": null,
   "id": "488b30cb",
   "metadata": {},
   "outputs": [],
   "source": [
    "valid_scores_df.to_csv(\"valid_scores_df.csv\")\n",
    "valid_scores_df"
   ]
  },
  {
   "cell_type": "code",
   "execution_count": null,
   "id": "7591665a",
   "metadata": {
    "scrolled": false
   },
   "outputs": [],
   "source": [
    "print(classification_report(valid_labels_df, valid_preds_df, target_names=valid_scores_df.columns))"
   ]
  },
  {
   "cell_type": "markdown",
   "id": "a3152c6a",
   "metadata": {},
   "source": [
    "#### Plot the RIC curve and report AOC"
   ]
  },
  {
   "cell_type": "code",
   "execution_count": null,
   "id": "b5501ee6",
   "metadata": {},
   "outputs": [],
   "source": [
    "\n",
    "for species in model.classes:\n",
    "    fpr, tpr, thresh = roc_curve(valid_labels_df[species],  valid_scores_df[species])\n",
    "    auc = roc_auc_score(valid_labels_df[species],  valid_preds_df[species])\n",
    "    plt.plot(fpr,tpr,label= species + \" \"+str(round(auc, 3)))\n",
    "\n",
    "plt.title('Classwise ROC Curves')\n",
    "plt.ylabel('True Positive Rate')\n",
    "plt.xlabel('False Positive Rate')\n",
    "plt.legend(bbox_to_anchor=(1.04,1), loc=\"upper left\")\n",
    "plt.show()"
   ]
  },
  {
   "cell_type": "code",
   "execution_count": null,
   "id": "d0c8609b",
   "metadata": {},
   "outputs": [],
   "source": [
    "model.classes"
   ]
  },
  {
   "cell_type": "markdown",
   "id": "781e3c86",
   "metadata": {},
   "source": [
    "***Validate Results***"
   ]
  },
  {
   "cell_type": "code",
   "execution_count": null,
   "id": "81708f39",
   "metadata": {},
   "outputs": [],
   "source": [
    "model.predict"
   ]
  },
  {
   "cell_type": "code",
   "execution_count": null,
   "id": "ccbe67cb",
   "metadata": {},
   "outputs": [],
   "source": [
    "model.train_dataset.sample(n=0)"
   ]
  },
  {
   "cell_type": "code",
   "execution_count": null,
   "id": "81c0d9e9",
   "metadata": {},
   "outputs": [],
   "source": [
    "from sklearn.metrics import confusion_matrix"
   ]
  },
  {
   "cell_type": "code",
   "execution_count": null,
   "id": "3d48d701",
   "metadata": {},
   "outputs": [],
   "source": [
    "valid_labels_df[species].values.shape"
   ]
  },
  {
   "cell_type": "code",
   "execution_count": null,
   "id": "373314de",
   "metadata": {},
   "outputs": [],
   "source": [
    "test = valid_preds_df.apply(lambda x: sum(x) == 1, axis=1)\n",
    "test[~test]"
   ]
  },
  {
   "cell_type": "code",
   "execution_count": null,
   "id": "d3e0baee",
   "metadata": {},
   "outputs": [],
   "source": [
    "def label(row):\n",
    "    for col in row:\n",
    "        print(row[col])\n",
    "        if row[col] == 1:\n",
    "            row[col] = col\n",
    "    return row"
   ]
  },
  {
   "cell_type": "code",
   "execution_count": null,
   "id": "68da9c2f",
   "metadata": {},
   "outputs": [],
   "source": [
    "def label(row):\n",
    "    for col in range(len(valid_labels_df.columns)):\n",
    "        if row[col] == 1:\n",
    "            return valid_labels_df.columns[col]\n",
    "    return \"None\"\n",
    "\n",
    "label_confusion = pd.DataFrame(valid_labels_df.apply(label, axis=1))\n",
    "preds_confusion = pd.DataFrame(valid_preds_df.apply(label, axis=1))"
   ]
  },
  {
   "cell_type": "code",
   "execution_count": null,
   "id": "b7bed78e",
   "metadata": {},
   "outputs": [],
   "source": [
    "from sklearn.metrics import ConfusionMatrixDisplay\n",
    "cm = confusion_matrix(label_confusion, preds_confusion,labels=valid_scores_df.columns, normalize='true')\n",
    "cm_display = ConfusionMatrixDisplay(cm, display_labels=valid_scores_df.columns).plot()"
   ]
  },
  {
   "cell_type": "code",
   "execution_count": null,
   "id": "59677d83",
   "metadata": {},
   "outputs": [],
   "source": [
    "ConfusionMatrixDisplay.from_predictions(label_confusion, preds_confusion,labels=valid_scores_df.columns)"
   ]
  },
  {
   "cell_type": "code",
   "execution_count": null,
   "id": "e46b286e",
   "metadata": {},
   "outputs": [],
   "source": [
    "import itertools\n",
    "def plot_confusion_matrix_2(cm,\n",
    "                      target_names,\n",
    "                      title='Tweetynet WTS on Opensoundscape with Mixed Bird Other',\n",
    "                      cmap=None,\n",
    "                      normalize=True,\n",
    "                      FONT_SIZE = 10,\n",
    "                      figsize = (8*2, 6*2)):\n",
    "    \"\"\"\n",
    "    given a sklearn confusion matrix (cm), make a nice plot\n",
    "\n",
    "    Arguments\n",
    "    ---------\n",
    "    cm:           confusion matrix from sklearn.metrics.confusion_matrix\n",
    "\n",
    "    target_names: given classification classes such as [0, 1, 2]\n",
    "                  the class names, for example: ['high', 'medium', 'low']\n",
    "\n",
    "    title:        the text to display at the top of the matrix\n",
    "\n",
    "    cmap:         the gradient of the values displayed from matplotlib.pyplot.cm\n",
    "                  see http://matplotlib.org/examples/color/colormaps_reference.html\n",
    "                  plt.get_cmap('jet') or plt.cm.Blues\n",
    "\n",
    "    normalize:    If False, plot the raw numbers\n",
    "                  If True, plot the proportions\n",
    "\n",
    "\n",
    "    Citiation\n",
    "    ---------\n",
    "    http://scikit-learn.org/stable/auto_examples/model_selection/plot_confusion_matrix.html\n",
    "    https://stackoverflow.com/questions/48855290/plotted-confusion-matrix-values-overlapping-each-other-total-classes-90\n",
    "\n",
    "    \"\"\"\n",
    "\n",
    "    #print(cm)\n",
    "    accuracy = np.trace(cm) / float(np.sum(cm))\n",
    "    misclass = 1 - accuracy\n",
    "\n",
    "    if cmap is None:\n",
    "        cmap = plt.get_cmap('Blues')\n",
    "\n",
    "    plt.figure(figsize=figsize)    # 8, 6\n",
    "    plt.imshow(cm, interpolation='nearest', cmap=cmap)\n",
    "    plt.title(title)\n",
    "    plt.colorbar()\n",
    "\n",
    "    if target_names is not None:\n",
    "        tick_marks = np.arange(len(target_names))\n",
    "        plt.xticks(tick_marks, target_names, rotation=90, fontsize=FONT_SIZE)\n",
    "        plt.yticks(tick_marks, target_names, fontsize=FONT_SIZE)\n",
    "\n",
    "    if normalize:\n",
    "        cm = cm.astype('float') / cm.sum(axis=1)[:, np.newaxis]\n",
    "\n",
    "    #print(cm)\n",
    "    thresh = cm.max() / 1.5 if normalize else cm.max() / 2\n",
    "    for i, j in itertools.product(range(cm.shape[0]), range(cm.shape[1])):\n",
    "        if normalize:\n",
    "            plt.text(j, i, \"{:0.4f}\".format(cm[i, j]),\n",
    "                     horizontalalignment=\"center\",\n",
    "                     fontsize=FONT_SIZE,\n",
    "                     color=\"white\" if cm[i, j] > thresh else \"black\")\n",
    "        else:\n",
    "            plt.text(j, i, \"{:,}\".format(cm[i, j]),\n",
    "                     horizontalalignment=\"center\",\n",
    "                     fontsize=FONT_SIZE,\n",
    "                     color=\"white\" if cm[i, j] > thresh else \"black\")\n",
    "\n",
    "\n",
    "    \n",
    "    plt.tight_layout()\n",
    "    plt.ylabel('True label')\n",
    "    plt.xlabel('Predicted label\\naccuracy={:0.4f}; misclass={:0.4f}'.format(accuracy, misclass))\n",
    "    plt.show()"
   ]
  },
  {
   "cell_type": "code",
   "execution_count": null,
   "id": "22742cb2",
   "metadata": {},
   "outputs": [],
   "source": [
    "plot_confusion_matrix_2(cm, target_names=valid_scores_df.columns, FONT_SIZE=15, title=high_level_name)"
   ]
  },
  {
   "cell_type": "code",
   "execution_count": null,
   "id": "38038004",
   "metadata": {},
   "outputs": [],
   "source": [
    "valid_scores_df[\"max\"] = valid_scores_df.apply(lambda x : max(x), axis=1)\n",
    "\n"
   ]
  },
  {
   "cell_type": "code",
   "execution_count": null,
   "id": "5d7d984e",
   "metadata": {},
   "outputs": [],
   "source": [
    "plt.hist(valid_scores_df[\"max\"].values)"
   ]
  },
  {
   "cell_type": "code",
   "execution_count": null,
   "id": "6328477b",
   "metadata": {},
   "outputs": [],
   "source": [
    "plt.hist(valid_scores_df[valid_scores_df[\"max\"] < 0.99][\"max\"].values)"
   ]
  },
  {
   "cell_type": "code",
   "execution_count": null,
   "id": "40699655",
   "metadata": {},
   "outputs": [],
   "source": [
    "valid_scores_df[valid_scores_df[\"max\"] > 0.99].shape"
   ]
  },
  {
   "cell_type": "code",
   "execution_count": null,
   "id": "299da7ff",
   "metadata": {},
   "outputs": [],
   "source": [
    "valid_scores_df[valid_scores_df[\"max\"] < 0.99].shape"
   ]
  },
  {
   "cell_type": "code",
   "execution_count": null,
   "id": "54a43f90",
   "metadata": {},
   "outputs": [],
   "source": [
    "plt.hist(valid_scores_df[~(valid_scores_df[\"other\"] >= valid_scores_df[\"max\"]-0.01)][\"max\"].values)"
   ]
  },
  {
   "cell_type": "code",
   "execution_count": null,
   "id": "ae6c8437",
   "metadata": {},
   "outputs": [],
   "source": [
    "plt.hist(valid_scores_df[~(valid_scores_df[\"other\"] >= valid_scores_df[\"max\"]-0.01) & (valid_scores_df[\"max\"] > 0.99)][\"max\"].values)"
   ]
  },
  {
   "cell_type": "code",
   "execution_count": null,
   "id": "7dbea841",
   "metadata": {},
   "outputs": [],
   "source": []
  },
  {
   "cell_type": "code",
   "execution_count": null,
   "id": "9761f509",
   "metadata": {},
   "outputs": [],
   "source": []
  },
  {
   "cell_type": "code",
   "execution_count": null,
   "id": "9b6961fa",
   "metadata": {},
   "outputs": [],
   "source": [
    "#plt.hist(valid_scores_df[valid_scores_df[\"other\"] >= valid_scores_df[\"max\"]-0.01][\"max\"].values)"
   ]
  },
  {
   "cell_type": "code",
   "execution_count": null,
   "id": "eb902b84",
   "metadata": {},
   "outputs": [],
   "source": [
    "\n",
    "#for  col in valid_scores_df.columns:\n",
    "#    plot.plot\n",
    "#    plt.hist(valid_scores_df[valid_scores_df[col] >= valid_scores_df[\"max\"]-0.01][\"max\"].values)"
   ]
  },
  {
   "cell_type": "code",
   "execution_count": null,
   "id": "19cd48a4",
   "metadata": {},
   "outputs": [],
   "source": [
    "valid_scores_df.shape"
   ]
  },
  {
   "cell_type": "code",
   "execution_count": null,
   "id": "8422d9cc",
   "metadata": {},
   "outputs": [],
   "source": [
    "custom_pred_df = valid_scores_df.copy(deep=True)"
   ]
  },
  {
   "cell_type": "code",
   "execution_count": null,
   "id": "52df2103",
   "metadata": {},
   "outputs": [],
   "source": []
  },
  {
   "cell_type": "code",
   "execution_count": null,
   "id": "31c232c1",
   "metadata": {},
   "outputs": [],
   "source": [
    "def thresholding(row, threshold=0.20):\n",
    "    return_row = row.copy()\n",
    "    for index in row.index:\n",
    "        return_row[index] = 0\n",
    "\n",
    "    meets_threshold = False\n",
    "    for index in row.index:\n",
    "        if index == \"max\":\n",
    "            continue\n",
    "        if row[index] == row[\"max\"] and row[\"max\"] > threshold and not meets_threshold:\n",
    "            return_row[index] = 1\n",
    "            meets_threshold = True\n",
    "    if (not meets_threshold):\n",
    "        return_row[\"Absent\"] = 1\n",
    "    return return_row\n",
    "\n",
    "#valid_scores_df[\"other\"] = 0\n",
    "custom_pred_df = valid_scores_df.apply(thresholding, axis=1)\n",
    "custom_pred_df\n",
    "\n",
    "def label(row):\n",
    "    for col in range(len(valid_labels_df.columns)):\n",
    "        if row[col] == row[\"max\"]:\n",
    "            return valid_labels_df.columns[col]\n",
    "    return \"Absent\"\n",
    "\n",
    "label_confusion = pd.DataFrame(custom_pred_df.apply(label, axis=1))\n",
    "#preds_confusion = pd.DataFrame(valid_preds_df.apply(label, axis=1))\n",
    "preds_confusion_custom = pd.DataFrame(custom_pred_df.apply(label, axis=1))\n",
    "\n",
    "cm = confusion_matrix(label_confusion, preds_confusion_custom,labels=valid_scores_df.columns)\n",
    "plot_confusion_matrix_2(cm, target_names=valid_scores_df.columns, FONT_SIZE=15)"
   ]
  },
  {
   "cell_type": "code",
   "execution_count": null,
   "id": "9b986fd2",
   "metadata": {},
   "outputs": [],
   "source": [
    "\n",
    "cm = confusion_matrix(label_confusion, preds_confusion_custom,labels=valid_scores_df.columns)\n",
    "plot_confusion_matrix_2(cm, target_names=valid_scores_df.columns, FONT_SIZE=13)"
   ]
  },
  {
   "cell_type": "code",
   "execution_count": null,
   "id": "1ad2ee02",
   "metadata": {},
   "outputs": [],
   "source": [
    "\n",
    "for species in model.classes:\n",
    "    fpr, tpr, thresh = roc_curve(valid_labels_df[species],  valid_scores_df[species])\n",
    "    auc = roc_auc_score(valid_labels_df[species],  custom_pred_df[species])\n",
    "    plt.plot(fpr,tpr,label= species + \" \"+str(round(auc, 3)))\n",
    "\n",
    "plt.title('Classwise ROC Curves')\n",
    "plt.ylabel('True Positive Rate')\n",
    "plt.xlabel('False Positive Rate')\n",
    "plt.legend(bbox_to_anchor=(1.04,1), loc=\"upper left\")\n",
    "plt.show()"
   ]
  },
  {
   "cell_type": "code",
   "execution_count": null,
   "id": "a95308df",
   "metadata": {},
   "outputs": [],
   "source": [
    "custom_pred_df = custom_pred_df.drop(\"max\", axis=1)"
   ]
  },
  {
   "cell_type": "code",
   "execution_count": null,
   "id": "8c97dec1",
   "metadata": {},
   "outputs": [],
   "source": [
    "def add_other_labels_valid(row):\n",
    "    if (sum(row) == 0):\n",
    "        return 1\n",
    "    return 0\n",
    "valid_labels_df[\"other\"] = valid_labels_df.apply(add_other_labels_valid, axis=1)\n",
    "valid_labels_df"
   ]
  },
  {
   "cell_type": "code",
   "execution_count": null,
   "id": "20a07fbc",
   "metadata": {
    "scrolled": true
   },
   "outputs": [],
   "source": [
    "print(classification_report(valid_labels_df, custom_pred_df, target_names=custom_pred_df.columns))"
   ]
  },
  {
   "cell_type": "code",
   "execution_count": null,
   "id": "fc5b1e7e",
   "metadata": {},
   "outputs": [],
   "source": [
    "valid_labels_df.shape\n"
   ]
  },
  {
   "cell_type": "code",
   "execution_count": null,
   "id": "4999802d",
   "metadata": {},
   "outputs": [],
   "source": [
    "custom_pred_df.shape"
   ]
  },
  {
   "cell_type": "code",
   "execution_count": null,
   "id": "482e5808",
   "metadata": {},
   "outputs": [],
   "source": []
  },
  {
   "cell_type": "code",
   "execution_count": null,
   "id": "37a237f1",
   "metadata": {},
   "outputs": [],
   "source": []
  },
  {
   "cell_type": "code",
   "execution_count": null,
   "id": "f4056512",
   "metadata": {},
   "outputs": [],
   "source": []
  }
 ],
 "metadata": {
  "kernelspec": {
   "display_name": "Python 3 (ipykernel)",
   "language": "python",
   "name": "python3"
  },
  "language_info": {
   "codemirror_mode": {
    "name": "ipython",
    "version": 3
   },
   "file_extension": ".py",
   "mimetype": "text/x-python",
   "name": "python",
   "nbconvert_exporter": "python",
   "pygments_lexer": "ipython3",
   "version": "3.8.16"
  }
 },
 "nbformat": 4,
 "nbformat_minor": 5
}
